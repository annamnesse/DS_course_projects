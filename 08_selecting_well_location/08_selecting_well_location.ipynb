{
 "cells": [
  {
   "cell_type": "markdown",
   "metadata": {},
   "source": [
    "Привет, меня зовут Артем Хуршудов. Сегодня я проверю твой проект.\n",
    "<br> Дальнейшее общение будет происходить на \"ты\" если это не вызывает никаких проблем.\n",
    "<br> Желательно реагировать на каждый мой комментарий ('исправил', 'не понятно как исправить ошибку', ...)\n",
    "<br> Пожалуйста, не удаляй комментарии ревьюера, так как они повышают качество повторного ревью.\n",
    "\n",
    "Комментарии будут в <font color='green'>зеленой</font>, <font color='blue'>синей</font> или <font color='red'>красной</font> рамках:\n",
    "\n",
    "<div class=\"alert alert-block alert-success\">\n",
    "<b>Успех:</b> Если все сделано отлично\n",
    "</div>\n",
    "\n",
    "<div class=\"alert alert-block alert-info\">\n",
    "<b>Совет: </b> Если можно немного улучшить\n",
    "</div>\n",
    "\n",
    "<div class=\"alert alert-block alert-danger\">\n",
    "<b>Ошибка:</b> Если требуются исправления. Работа не может быть принята с красными комментариями.\n",
    "</div>\n",
    "\n",
    "-------------------\n",
    "\n",
    "Будет очень хорошо, если ты будешь помечать свои действия следующим образом:\n",
    "<div class=\"alert alert-block alert-warning\">\n",
    "<b>Комментарий студента:</b> ...\n",
    "</div>\n",
    "\n",
    "<div class=\"alert alert-block alert-warning\">\n",
    "<b>Изменения:</b> Были внесены следующие изменения ...\n",
    "</div>\n",
    "\n",
    "### <font color='orange'>Общее впечатление</font>\n",
    "* Большое спасибо за проделанную работу. Видно, что приложено много усилий.\n",
    "* Выводы и рассуждения получились содержательными, их было интересно читать.\n",
    "* Радует, что тебе удалось разобраться с техникой бутстрапа.\n",
    "* Отлично, что риск убытков посчитан верно.\n",
    "* Над этим проектом нужно будет еще немного поработать. Однако, изменения не должны занять много времени.\n",
    "* В работе я оставил несколько советов. Буду рад, если ты учтешь их.\n",
    "* С радостью отвечу на твои вопросы, если они есть. Лучше всего их собрать в следующей ячейке. Жду новую версию проекта."
   ]
  },
  {
   "cell_type": "markdown",
   "metadata": {},
   "source": [
    "### <font color='orange'>Общее впечатление (ревью 2)</font>\n",
    "* После исправлений проект улучшился и теперь он может быть зачтен.\n",
    "* Для удобства все новые комментарии обозначены фразой \"ревью 2\".\n",
    "* Удачи в дальнейшем обучении и следующих работах!"
   ]
  },
  {
   "cell_type": "markdown",
   "metadata": {},
   "source": [
    "# Выбор локации для скважины"
   ]
  },
  {
   "cell_type": "markdown",
   "metadata": {},
   "source": [
    "Мы работаем в добывающей компании «ГлавРосГосНефть». Постараемся решить, где бурить новую скважину.\n",
    "\n",
    "Нам предоставлены пробы нефти в трёх регионах: в каждом 10 000 месторождений, где измерили качество нефти и объём её запасов. Построим модель машинного обучения, которая поможет определить регион, где добыча принесёт наибольшую прибыль. Проанализируем возможную прибыль и риски техникой *Bootstrap.*\n",
    "\n",
    "Шаги для выбора локации:\n",
    "\n",
    "- В избранном регионе ищут месторождения, для каждого определяют значения признаков;\n",
    "- Строят модель и оценивают объём запасов;\n",
    "- Выбирают месторождения с самым высокими оценками значений. Количество месторождений зависит от бюджета компании и стоимости разработки одной скважины;\n",
    "- Прибыль равна суммарной прибыли отобранных месторождений."
   ]
  },
  {
   "cell_type": "markdown",
   "metadata": {},
   "source": [
    "## Загрузка и подготовка данных"
   ]
  },
  {
   "cell_type": "code",
   "execution_count": 1,
   "metadata": {},
   "outputs": [],
   "source": [
    "# Импорт библиотек\n",
    "import pandas as pd\n",
    "import numpy as np\n",
    "import matplotlib.pyplot as plt \n",
    "import seaborn as sns\n",
    "from scipy import stats as st\n",
    "\n",
    "from sklearn.model_selection import train_test_split\n",
    "from sklearn.linear_model import LinearRegression\n",
    "from sklearn.preprocessing import StandardScaler\n",
    "from sklearn.metrics import mean_squared_error\n",
    "\n",
    "from numpy.random import RandomState\n",
    "state = RandomState(12345)\n",
    "\n",
    "import warnings\n",
    "warnings.filterwarnings('ignore')"
   ]
  },
  {
   "cell_type": "markdown",
   "metadata": {},
   "source": [
    "<div class=\"alert alert-block alert-success\">\n",
    "<b>Успех:</b> Отлично, что все импорты собраны в первой ячейке ноутбука! Если у того, кто будет запускать твой ноутбук будут отсутствовать некоторые библиотеки, то он это увидит сразу, а не в процессе!\n",
    "</div>"
   ]
  },
  {
   "cell_type": "code",
   "execution_count": 2,
   "metadata": {},
   "outputs": [],
   "source": [
    "# Загрузка данных\n",
    "geo_1 = pd.read_csv('/datasets/geo_data_0.csv')\n",
    "geo_2 = pd.read_csv('/datasets/geo_data_1.csv')\n",
    "geo_3 = pd.read_csv('/datasets/geo_data_2.csv')"
   ]
  },
  {
   "cell_type": "markdown",
   "metadata": {},
   "source": [
    "Изучим каждый датасет по очереди на полноту и адекватность с учетом описания представленных данных:\n",
    "\n",
    "<b>Описание данных</b>\n",
    "\n",
    "* id — уникальный идентификатор скважины;\n",
    "* f0, f1, f2 — три признака точек (неважно, что они означают, но сами признаки значимы);\n",
    "* product — объём запасов в скважине (тыс. баррелей)"
   ]
  },
  {
   "cell_type": "markdown",
   "metadata": {},
   "source": [
    "#### Датасет региона geo_1"
   ]
  },
  {
   "cell_type": "code",
   "execution_count": 3,
   "metadata": {},
   "outputs": [
    {
     "name": "stdout",
     "output_type": "stream",
     "text": [
      "      id        f0        f1        f2     product\n",
      "0  txEyH  0.705745 -0.497823  1.221170  105.280062\n",
      "1  2acmU  1.334711 -0.340164  4.365080   73.037750\n",
      "2  409Wp  1.022732  0.151990  1.419926   85.265647\n",
      "3  iJLyR -0.032172  0.139033  2.978566  168.620776\n",
      "4  Xdl7t  1.988431  0.155413  4.751769  154.036647\n",
      "\n",
      "                  f0             f1             f2        product\n",
      "count  100000.000000  100000.000000  100000.000000  100000.000000\n",
      "mean        0.500419       0.250143       2.502647      92.500000\n",
      "std         0.871832       0.504433       3.248248      44.288691\n",
      "min        -1.408605      -0.848218     -12.088328       0.000000\n",
      "25%        -0.072580      -0.200881       0.287748      56.497507\n",
      "50%         0.502360       0.250252       2.515969      91.849972\n",
      "75%         1.073581       0.700646       4.715088     128.564089\n",
      "max         2.362331       1.343769      16.003790     185.364347\n",
      "\n",
      "<class 'pandas.core.frame.DataFrame'>\n",
      "RangeIndex: 100000 entries, 0 to 99999\n",
      "Data columns (total 5 columns):\n",
      " #   Column   Non-Null Count   Dtype  \n",
      "---  ------   --------------   -----  \n",
      " 0   id       100000 non-null  object \n",
      " 1   f0       100000 non-null  float64\n",
      " 2   f1       100000 non-null  float64\n",
      " 3   f2       100000 non-null  float64\n",
      " 4   product  100000 non-null  float64\n",
      "dtypes: float64(4), object(1)\n",
      "memory usage: 3.8+ MB\n",
      "None\n"
     ]
    }
   ],
   "source": [
    "print(geo_1.head())\n",
    "print()\n",
    "print(geo_1.describe())\n",
    "print()\n",
    "print(geo_1.info())"
   ]
  },
  {
   "cell_type": "markdown",
   "metadata": {},
   "source": [
    "Данные на первый взгляд выглядят корректно и полно. Отрицательные значения признаков f предпочитаю не трогать: это могут быть некие координаты, где отрицательные значения допустимы."
   ]
  },
  {
   "cell_type": "code",
   "execution_count": 4,
   "metadata": {},
   "outputs": [
    {
     "data": {
      "text/plain": [
       "False    99990\n",
       "True        10\n",
       "Name: id, dtype: int64"
      ]
     },
     "execution_count": 4,
     "metadata": {},
     "output_type": "execute_result"
    }
   ],
   "source": [
    "# Проверка на дубликаты по скважинам\n",
    "geo_1['id'].duplicated().value_counts()"
   ]
  },
  {
   "cell_type": "markdown",
   "metadata": {},
   "source": [
    "Выявлены подозрительные дубликаты данных по уникальным скважинам. Вероятно, для данных скважин анализ проводился повторно. Поскольку число дубликатов незначительно и вряд ли сильно повлияет на обучение будущей модели, предлагаю их оставить для единообразия форм датасетов по каждому региону."
   ]
  },
  {
   "cell_type": "markdown",
   "metadata": {},
   "source": [
    "#### Датасет региона geo_2"
   ]
  },
  {
   "cell_type": "code",
   "execution_count": 5,
   "metadata": {},
   "outputs": [
    {
     "name": "stdout",
     "output_type": "stream",
     "text": [
      "      id         f0         f1        f2     product\n",
      "0  kBEdx -15.001348  -8.276000 -0.005876    3.179103\n",
      "1  62mP7  14.272088  -3.475083  0.999183   26.953261\n",
      "2  vyE1P   6.263187  -5.948386  5.001160  134.766305\n",
      "3  KcrkZ -13.081196 -11.506057  4.999415  137.945408\n",
      "4  AHL4O  12.702195  -8.147433  5.004363  134.766305\n",
      "\n",
      "                  f0             f1             f2        product\n",
      "count  100000.000000  100000.000000  100000.000000  100000.000000\n",
      "mean        1.141296      -4.796579       2.494541      68.825000\n",
      "std         8.965932       5.119872       1.703572      45.944423\n",
      "min       -31.609576     -26.358598      -0.018144       0.000000\n",
      "25%        -6.298551      -8.267985       1.000021      26.953261\n",
      "50%         1.153055      -4.813172       2.011479      57.085625\n",
      "75%         8.621015      -1.332816       3.999904     107.813044\n",
      "max        29.421755      18.734063       5.019721     137.945408\n",
      "\n",
      "<class 'pandas.core.frame.DataFrame'>\n",
      "RangeIndex: 100000 entries, 0 to 99999\n",
      "Data columns (total 5 columns):\n",
      " #   Column   Non-Null Count   Dtype  \n",
      "---  ------   --------------   -----  \n",
      " 0   id       100000 non-null  object \n",
      " 1   f0       100000 non-null  float64\n",
      " 2   f1       100000 non-null  float64\n",
      " 3   f2       100000 non-null  float64\n",
      " 4   product  100000 non-null  float64\n",
      "dtypes: float64(4), object(1)\n",
      "memory usage: 3.8+ MB\n",
      "None\n"
     ]
    }
   ],
   "source": [
    "print(geo_2.head())\n",
    "print()\n",
    "print(geo_2.describe())\n",
    "print()\n",
    "print(geo_2.info())"
   ]
  },
  {
   "cell_type": "markdown",
   "metadata": {},
   "source": [
    "Аналогично первому региону данные выглядят единообразно и адекватно."
   ]
  },
  {
   "cell_type": "code",
   "execution_count": 6,
   "metadata": {},
   "outputs": [
    {
     "data": {
      "text/plain": [
       "False    99996\n",
       "True         4\n",
       "Name: id, dtype: int64"
      ]
     },
     "execution_count": 6,
     "metadata": {},
     "output_type": "execute_result"
    }
   ],
   "source": [
    "# Проверка на дубликаты по скважинам\n",
    "geo_2['id'].duplicated().value_counts()"
   ]
  },
  {
   "cell_type": "markdown",
   "metadata": {},
   "source": [
    "Для второго региона данные по уникальным скважинам тоже незначительно дублируются. Опять-таки оставим дубликаты ввиду их малого числа."
   ]
  },
  {
   "cell_type": "markdown",
   "metadata": {},
   "source": [
    "#### Датасет региона geo_3"
   ]
  },
  {
   "cell_type": "code",
   "execution_count": 7,
   "metadata": {},
   "outputs": [
    {
     "name": "stdout",
     "output_type": "stream",
     "text": [
      "      id        f0        f1        f2     product\n",
      "0  fwXo0 -1.146987  0.963328 -0.828965   27.758673\n",
      "1  WJtFt  0.262778  0.269839 -2.530187   56.069697\n",
      "2  ovLUW  0.194587  0.289035 -5.586433   62.871910\n",
      "3  q6cA6  2.236060 -0.553760  0.930038  114.572842\n",
      "4  WPMUX -0.515993  1.716266  5.899011  149.600746\n",
      "\n",
      "                  f0             f1             f2        product\n",
      "count  100000.000000  100000.000000  100000.000000  100000.000000\n",
      "mean        0.002023      -0.002081       2.495128      95.000000\n",
      "std         1.732045       1.730417       3.473445      44.749921\n",
      "min        -8.760004      -7.084020     -11.970335       0.000000\n",
      "25%        -1.162288      -1.174820       0.130359      59.450441\n",
      "50%         0.009424      -0.009482       2.484236      94.925613\n",
      "75%         1.158535       1.163678       4.858794     130.595027\n",
      "max         7.238262       7.844801      16.739402     190.029838\n",
      "\n",
      "<class 'pandas.core.frame.DataFrame'>\n",
      "RangeIndex: 100000 entries, 0 to 99999\n",
      "Data columns (total 5 columns):\n",
      " #   Column   Non-Null Count   Dtype  \n",
      "---  ------   --------------   -----  \n",
      " 0   id       100000 non-null  object \n",
      " 1   f0       100000 non-null  float64\n",
      " 2   f1       100000 non-null  float64\n",
      " 3   f2       100000 non-null  float64\n",
      " 4   product  100000 non-null  float64\n",
      "dtypes: float64(4), object(1)\n",
      "memory usage: 3.8+ MB\n",
      "None\n"
     ]
    }
   ],
   "source": [
    "print(geo_3.head())\n",
    "print()\n",
    "print(geo_3.describe())\n",
    "print()\n",
    "print(geo_3.info())"
   ]
  },
  {
   "cell_type": "markdown",
   "metadata": {},
   "source": [
    "Данные выглядят полно и корректно. Дополнительной предобработки не требуют."
   ]
  },
  {
   "cell_type": "code",
   "execution_count": 8,
   "metadata": {},
   "outputs": [
    {
     "data": {
      "text/plain": [
       "False    99996\n",
       "True         4\n",
       "Name: id, dtype: int64"
      ]
     },
     "execution_count": 8,
     "metadata": {},
     "output_type": "execute_result"
    }
   ],
   "source": [
    "# Проверка на дубликаты по скважинам\n",
    "geo_3['id'].duplicated().value_counts()"
   ]
  },
  {
   "cell_type": "markdown",
   "metadata": {},
   "source": [
    "Снова выявлены совпадения уникальных id скважин. Их совсем мало - оставим для полноты выборки данных."
   ]
  },
  {
   "cell_type": "markdown",
   "metadata": {},
   "source": [
    "Проверим признаки по регионам на корреляционные связи с помощью тепловых карт"
   ]
  },
  {
   "cell_type": "code",
   "execution_count": 9,
   "metadata": {},
   "outputs": [
    {
     "data": {
      "image/png": "[encoded data removed]",
      "text/plain": [
       "<Figure size 1440x360 with 6 Axes>"
      ]
     },
     "metadata": {
      "needs_background": "light"
     },
     "output_type": "display_data"
    }
   ],
   "source": [
    "fig, ax = plt.subplots(1, 3, figsize=(20,5))\n",
    "for i, j in zip([geo_1, geo_2, geo_3], range(3)):    \n",
    "    sns.heatmap(i.corr(),annot=True, linewidths=.1, ax=ax[j], fmt= '.2f', cmap='gist_earth')"
   ]
  },
  {
   "cell_type": "markdown",
   "metadata": {},
   "source": [
    "Для региона geo_1 нет ни одной сильной связи признаков в датасете. Самую сильную зависимость демонстрирует связь целевого признака product с f2 (корреляция равна 0.48) и отрицательная корреляция целевого признака product с f1 (корреляция равна -0.44).\n",
    "\n",
    "Для региона geo_2 обнаружена прямая зависимость целевого признака product от признака f2 с корреляцией, равной единице. \n",
    "\n",
    "Для региона geo_3 также наблюдается более сильная зависимость целевого признака product от f2, хоть она и относительно слабая (корреляция равна 0.45)."
   ]
  },
  {
   "cell_type": "markdown",
   "metadata": {},
   "source": [
    "#### Общие выводы по регионам geo_1, geo_2, geo_3"
   ]
  },
  {
   "cell_type": "markdown",
   "metadata": {},
   "source": [
    "* проведен предварительный анализ датасетов по трем регионам geo_1, geo_2, geo_3. Данные выглядят адекватно, без явных аномалий - глубокой предобработки данных не требуется.\n",
    "* в каждом датасете выявлено несколько дубликатов данных для одного и того же уникального id скважины. Принято решение оставить их ввиду пренебрежимо малого количества и отсутствия влияния на обучение будущей модели.\n",
    "* анализ корреляции данных по трем регионам показал отсутствие сильных связей между данными. При этом в регионе geo_2 наблюдается прямая связь между целевым признаком product и признаком f2."
   ]
  },
  {
   "cell_type": "markdown",
   "metadata": {},
   "source": [
    "<div class=\"alert alert-block alert-success\">\n",
    "<b>Успех:</b> Данные загружены и осмотрены корректно. Радует, что корреляции были визуализированы.\n",
    "</div>"
   ]
  },
  {
   "cell_type": "markdown",
   "metadata": {},
   "source": [
    "## Обучение и проверка модели"
   ]
  },
  {
   "cell_type": "markdown",
   "metadata": {},
   "source": [
    "По условиям задачи для обучения модели подходит только линейная регрессия (остальные — недостаточно предсказуемые)."
   ]
  },
  {
   "cell_type": "code",
   "execution_count": 10,
   "metadata": {},
   "outputs": [],
   "source": [
    "model = LinearRegression()"
   ]
  },
  {
   "cell_type": "markdown",
   "metadata": {},
   "source": [
    "Разобьем данные на обучающую и валидационную выборки в соотношении 75:25. Введем функцию для проведения данной манипуляции по трем регионам. В рамках вводимой функции также обучим модель и сделаем предсказания на валидационной выборке. "
   ]
  },
  {
   "cell_type": "code",
   "execution_count": 11,
   "metadata": {},
   "outputs": [],
   "source": [
    "def get_answer(data):\n",
    "    features = data.drop(['id', 'product'], axis = 1)\n",
    "    target = data['product']\n",
    "    features_train, features_valid, target_train, target_valid = (\n",
    "        train_test_split(features, target, test_size=.25, random_state=state))\n",
    "    model.fit(features_train, target_train)\n",
    "    answer = pd.Series(model.predict(features_valid))\n",
    "    return answer, target_valid"
   ]
  },
  {
   "cell_type": "markdown",
   "metadata": {},
   "source": [
    "Сохраним предсказания и правильные ответы на валидационной выборке по трем регионам."
   ]
  },
  {
   "cell_type": "code",
   "execution_count": 12,
   "metadata": {},
   "outputs": [],
   "source": [
    "geo_1_predicted, geo_1_target = get_answer(geo_1)\n",
    "geo_2_predicted, geo_2_target = get_answer(geo_2)\n",
    "geo_3_predicted, geo_3_target = get_answer(geo_3)"
   ]
  },
  {
   "cell_type": "markdown",
   "metadata": {},
   "source": [
    "Введем функцию для расчета среднего запаса предсказанного сырья и RMSE модели по каждому региону."
   ]
  },
  {
   "cell_type": "code",
   "execution_count": 13,
   "metadata": {},
   "outputs": [],
   "source": [
    "def mean_product_rmse(answers, predictions):\n",
    "    mse = mean_squared_error(answers, predictions)\n",
    "    print('Cредний запас предсказанного сырья составляет {:.3f}, а RMSE модели {:.3f}'.format(predictions.mean(), mse ** 0.5))"
   ]
  },
  {
   "cell_type": "code",
   "execution_count": 14,
   "metadata": {},
   "outputs": [
    {
     "name": "stdout",
     "output_type": "stream",
     "text": [
      "Cредний запас предсказанного сырья составляет 92.593, а RMSE модели 37.579\n"
     ]
    }
   ],
   "source": [
    "# Данные для региона geo_1\n",
    "mean_product_rmse(geo_1_target, geo_1_predicted)"
   ]
  },
  {
   "cell_type": "code",
   "execution_count": 15,
   "metadata": {},
   "outputs": [
    {
     "name": "stdout",
     "output_type": "stream",
     "text": [
      "Cредний запас предсказанного сырья составляет 68.770, а RMSE модели 0.890\n"
     ]
    }
   ],
   "source": [
    "# Данные для региона geo_2\n",
    "mean_product_rmse(geo_2_target, geo_2_predicted)"
   ]
  },
  {
   "cell_type": "code",
   "execution_count": 16,
   "metadata": {},
   "outputs": [
    {
     "name": "stdout",
     "output_type": "stream",
     "text": [
      "Cредний запас предсказанного сырья составляет 95.088, а RMSE модели 39.958\n"
     ]
    }
   ],
   "source": [
    "# Данные для региона geo_3\n",
    "mean_product_rmse(geo_3_target, geo_3_predicted)"
   ]
  },
  {
   "cell_type": "code",
   "execution_count": 17,
   "metadata": {},
   "outputs": [
    {
     "data": {
      "text/html": [
       "<div>\n",
       "<style scoped>\n",
       "    .dataframe tbody tr th:only-of-type {\n",
       "        vertical-align: middle;\n",
       "    }\n",
       "\n",
       "    .dataframe tbody tr th {\n",
       "        vertical-align: top;\n",
       "    }\n",
       "\n",
       "    .dataframe thead th {\n",
       "        text-align: right;\n",
       "    }\n",
       "</style>\n",
       "<table border=\"1\" class=\"dataframe\">\n",
       "  <thead>\n",
       "    <tr style=\"text-align: right;\">\n",
       "      <th></th>\n",
       "      <th>geo_1</th>\n",
       "      <th>geo_2</th>\n",
       "      <th>geo_3</th>\n",
       "    </tr>\n",
       "  </thead>\n",
       "  <tbody>\n",
       "    <tr>\n",
       "      <th>RMSE</th>\n",
       "      <td>37.579</td>\n",
       "      <td>0.89</td>\n",
       "      <td>39.958</td>\n",
       "    </tr>\n",
       "    <tr>\n",
       "      <th>Средний запас</th>\n",
       "      <td>92.593</td>\n",
       "      <td>68.77</td>\n",
       "      <td>95.088</td>\n",
       "    </tr>\n",
       "  </tbody>\n",
       "</table>\n",
       "</div>"
      ],
      "text/plain": [
       "                geo_1  geo_2   geo_3\n",
       "RMSE           37.579   0.89  39.958\n",
       "Средний запас  92.593  68.77  95.088"
      ]
     },
     "execution_count": 17,
     "metadata": {},
     "output_type": "execute_result"
    }
   ],
   "source": [
    "geo_table = pd.DataFrame(\n",
    "    data=[[37.579, 0.890, 39.958], [92.593, 68.770, 95.088]], \n",
    "    index=['RMSE', 'Средний запас'], \n",
    "    columns=['geo_1','geo_2','geo_3'])\n",
    "geo_table"
   ]
  },
  {
   "cell_type": "markdown",
   "metadata": {},
   "source": [
    "<b>Вывод:</b>\n",
    "\n",
    "* Самое высокое качество модели показано для данных региона geo_2, где метрика RMSE показывает минимальное значение. Вероятно, поведение модели определяет тот самый высокий коэффициент корреляции целевого признака и признака F1.\n",
    "* Для регионов geo_1 и geo_3 средний предсказанный запас сырья превышает 90000 бареллей, что серьезно выше данных по региону geo_2. Однако значение RMSE для работы модели по данным регионам оказалось значительным."
   ]
  },
  {
   "cell_type": "markdown",
   "metadata": {},
   "source": [
    "<div class=\"alert alert-block alert-success\">\n",
    "<b>Успех:</b> Модели обучены корректно. Радует, что ты активно используешь функции. Это помогает избежать дублирования кода, а значит уменьшает вероятность совершить ошибку/опечатку!\n",
    "</div>"
   ]
  },
  {
   "cell_type": "markdown",
   "metadata": {},
   "source": [
    "## Подготовка к расчёту прибыли"
   ]
  },
  {
   "cell_type": "markdown",
   "metadata": {},
   "source": [
    "Сохраним ключевые значения для расчётов в отдельных переменных."
   ]
  },
  {
   "cell_type": "code",
   "execution_count": 18,
   "metadata": {},
   "outputs": [],
   "source": [
    "# Бюджет на разработку скважин в регионе в рублях\n",
    "BUDGET = 10000000000\n",
    "\n",
    "# Количество скважин для бурения в регионе\n",
    "WELLS_NUMBER = 200\n",
    "\n",
    "# Бюджет на одну скважину в регионе\n",
    "BUDGET_PER_WELL = BUDGET / WELLS_NUMBER\n",
    "\n",
    "# Доход с одной единицы продукта в рублях\n",
    "REVENUE = 450000\n",
    "\n",
    "# Максимальная доля убытков\n",
    "LOSS_RISK = 0.025"
   ]
  },
  {
   "cell_type": "markdown",
   "metadata": {},
   "source": [
    "Рассчитаем достаточный объём сырья для безубыточной разработки новой скважины."
   ]
  },
  {
   "cell_type": "code",
   "execution_count": 19,
   "metadata": {},
   "outputs": [
    {
     "name": "stdout",
     "output_type": "stream",
     "text": [
      "Точка безубыточности 111.111 тысяч баррелей.\n"
     ]
    }
   ],
   "source": [
    "# Достаточный объем сырья для безубыточной разработки новой скважины\n",
    "min_product = BUDGET_PER_WELL / REVENUE\n",
    "print('Точка безубыточности {:.3f} тысяч баррелей.'.format(min_product))"
   ]
  },
  {
   "cell_type": "markdown",
   "metadata": {},
   "source": [
    "Сравним предсказанный объём сырья со средним запасом в каждом регионе."
   ]
  },
  {
   "cell_type": "code",
   "execution_count": 20,
   "metadata": {},
   "outputs": [
    {
     "data": {
      "text/html": [
       "<div>\n",
       "<style scoped>\n",
       "    .dataframe tbody tr th:only-of-type {\n",
       "        vertical-align: middle;\n",
       "    }\n",
       "\n",
       "    .dataframe tbody tr th {\n",
       "        vertical-align: top;\n",
       "    }\n",
       "\n",
       "    .dataframe thead th {\n",
       "        text-align: right;\n",
       "    }\n",
       "</style>\n",
       "<table border=\"1\" class=\"dataframe\">\n",
       "  <thead>\n",
       "    <tr style=\"text-align: right;\">\n",
       "      <th></th>\n",
       "      <th>geo_1</th>\n",
       "      <th>geo_2</th>\n",
       "      <th>geo_3</th>\n",
       "    </tr>\n",
       "  </thead>\n",
       "  <tbody>\n",
       "    <tr>\n",
       "      <th>Истинный средний запас</th>\n",
       "      <td>92.078597</td>\n",
       "      <td>68.771624</td>\n",
       "      <td>94.748959</td>\n",
       "    </tr>\n",
       "    <tr>\n",
       "      <th>Предсказанный средний запас</th>\n",
       "      <td>92.592568</td>\n",
       "      <td>68.769951</td>\n",
       "      <td>95.087528</td>\n",
       "    </tr>\n",
       "  </tbody>\n",
       "</table>\n",
       "</div>"
      ],
      "text/plain": [
       "                                 geo_1      geo_2      geo_3\n",
       "Истинный средний запас       92.078597  68.771624  94.748959\n",
       "Предсказанный средний запас  92.592568  68.769951  95.087528"
      ]
     },
     "execution_count": 20,
     "metadata": {},
     "output_type": "execute_result"
    }
   ],
   "source": [
    "product_mean = pd.DataFrame(\n",
    "    data=[[geo_1_target.mean(), geo_2_target.mean(), geo_3_target.mean()], \n",
    "          [geo_1_predicted.mean(), geo_2_predicted.mean(), geo_3_predicted.mean()]], \n",
    "    index=['Истинный средний запас', 'Предсказанный средний запас'], \n",
    "    columns=['geo_1','geo_2','geo_3'])\n",
    "product_mean"
   ]
  },
  {
   "cell_type": "markdown",
   "metadata": {},
   "source": [
    "Полученные значения ни в одном из регионов не достигают точки безубыточности (111.111 тыс. баррелей). Однако по условиям задачи, при разведке региона исследуют 500 точек, из которых с помощью машинного обучения выбирают 200 лучших для разработки.\n",
    "\n",
    "Посчитаем прибыль по 200 скважинам каждого региона, где идет наибольшая выработка сырья."
   ]
  },
  {
   "cell_type": "markdown",
   "metadata": {},
   "source": [
    "<div class=\"alert alert-block alert-info\">\n",
    "\n",
    "<b>Совет: </b> В названиях константных переменных лучше использовать только БОЛЬШИЕ буквы. Это соглашение между программистами: https://pythonworld.ru/osnovy/pep-8-rukovodstvo-po-napisaniyu-koda-na-python.html#id29 .\n",
    "</div>\n",
    "\n",
    "<div class=\"alert alert-block alert-success\">\n",
    "<b>Успех:</b> Точка безубыточности найдена верно, сравнение проведено!\n",
    "</div>"
   ]
  },
  {
   "cell_type": "markdown",
   "metadata": {},
   "source": [
    "<div class=\"alert alert-block alert-warning\">\n",
    "<b>Комментарий студента:</b> Спасибо большое за совет с наименованием констант. Этот пункт я упустила и теперь буду аккуратнее при назначении таких имен. Ввела caps lock уже постфактум, прошу прощения за неудобство.\n",
    "</div>"
   ]
  },
  {
   "cell_type": "markdown",
   "metadata": {},
   "source": [
    "<div class=\"alert alert-block alert-success\">\n",
    "<b>Успех (ревью 2):</b> Спасибо!\n",
    "</div>"
   ]
  },
  {
   "cell_type": "code",
   "execution_count": 21,
   "metadata": {},
   "outputs": [],
   "source": [
    "# Функция для расчета прибыли по выбранным скважинам и предсказаниям модели\n",
    "def well_profit(target, probabilities):\n",
    "    target = pd.Series(target).reset_index(drop=True)\n",
    "    probabilities = pd.Series(probabilities).reset_index(drop=True)\n",
    "    sorted = probabilities.sort_values(ascending=False)\n",
    "    selected = target[sorted.index][:WELLS_NUMBER]\n",
    "    return ((REVENUE * selected.sum()) - BUDGET) / 1000000000"
   ]
  },
  {
   "cell_type": "markdown",
   "metadata": {},
   "source": [
    "<div class=\"alert alert-block alert-info\">\n",
    "<b>Совет: </b> Эту функцию лучше было бы назвать profit, так как revenue – это выручка.\n",
    "</div>"
   ]
  },
  {
   "cell_type": "markdown",
   "metadata": {},
   "source": [
    "<div class=\"alert alert-block alert-warning\">\n",
    "<b>Изменения:</b> Были внесены подсказанные изменения: функция переименована в корректном наименовании. Спасибо за логичное и заботливое замечание :)\n",
    "</div>"
   ]
  },
  {
   "cell_type": "markdown",
   "metadata": {},
   "source": [
    "<div class=\"alert alert-block alert-success\">\n",
    "<b>Успех (ревью 2):</b> ОК.\n",
    "</div>"
   ]
  },
  {
   "cell_type": "code",
   "execution_count": 22,
   "metadata": {},
   "outputs": [
    {
     "data": {
      "text/plain": [
       "3.321"
      ]
     },
     "execution_count": 22,
     "metadata": {},
     "output_type": "execute_result"
    }
   ],
   "source": [
    "# Прибыль по 200 скважинам региона geo_1 в млрд. рублей\n",
    "round(well_profit(geo_1_target, geo_1_predicted), 3)"
   ]
  },
  {
   "cell_type": "code",
   "execution_count": 23,
   "metadata": {},
   "outputs": [
    {
     "data": {
      "text/plain": [
       "2.415"
      ]
     },
     "execution_count": 23,
     "metadata": {},
     "output_type": "execute_result"
    }
   ],
   "source": [
    "# Прибыль по 200 скважинам региона geo_2 в млрд. рублей\n",
    "round(well_profit(geo_2_target, geo_2_predicted), 3)"
   ]
  },
  {
   "cell_type": "code",
   "execution_count": 24,
   "metadata": {},
   "outputs": [
    {
     "data": {
      "text/plain": [
       "2.54"
      ]
     },
     "execution_count": 24,
     "metadata": {},
     "output_type": "execute_result"
    }
   ],
   "source": [
    "# Прибыль по 200 скважинам региона geo_3 в млрд. рублей\n",
    "round(well_profit(geo_3_target, geo_3_predicted), 3)"
   ]
  },
  {
   "cell_type": "markdown",
   "metadata": {},
   "source": [
    "<b>Вывод:</b>\n",
    "* Наибольшую прибыль для полученного объема сырья дают скважины первого региона geo_1 в размере 3.3 миллиардов рублей."
   ]
  },
  {
   "cell_type": "markdown",
   "metadata": {},
   "source": [
    "## Расчёт прибыли и рисков "
   ]
  },
  {
   "cell_type": "markdown",
   "metadata": {},
   "source": [
    "Посчитаем риски и прибыль для каждого региона"
   ]
  },
  {
   "cell_type": "markdown",
   "metadata": {},
   "source": [
    "Применим технику Bootstrap с 1000 выборок, чтобы найти распределение прибыли для каждого региона. Введем для этого новую функцию."
   ]
  },
  {
   "cell_type": "code",
   "execution_count": 37,
   "metadata": {},
   "outputs": [],
   "source": [
    "def bootstrap(target, predictions):\n",
    "    \n",
    "    # Значения выручек для 1000 выборок\n",
    "    revenues = []\n",
    "    \n",
    "    # Итерации по 1000 выборок\n",
    "    for i in range(1000):\n",
    "        # Сбрасываем у целевого признака валидацационной выборки индексы и случайным образом выбираем нужное количество скважин\n",
    "        target_subsample = target.reset_index(drop=True).sample(n=500, replace=True, random_state=state)\n",
    "        # Из предсказанных значений выбираем строки, соответствующие отобранным строкам в целевом признаке\n",
    "        prob_subsample = predictions[target_subsample.index]\n",
    "        # Cчитаем выручку для отобранных строк\n",
    "        selected = well_profit(target_subsample, prob_subsample)\n",
    "        revenues.append(selected)\n",
    "\n",
    "    revenues = pd.Series(revenues)\n",
    "    #confidence_interval = st.t.interval(0.95, len(revenues)-1, revenues.mean(), revenues.sem())\n",
    "\n",
    "    lower = round(revenues.quantile(.025), 3)\n",
    "    upper = round(revenues.quantile(.975), 3)\n",
    "    confidence_interval = (lower, upper)\n",
    "    \n",
    "    print('Средняя выручка: {:.3f} млрд. рублей'.format(revenues.mean()))\n",
    "    print('Квантиль 2.5%: {:.3f}'.format(revenues.quantile(LOSS_RISK)))\n",
    "    print('Доверительный интервал:', confidence_interval)\n",
    "    print('Риск убытка: {:.1f}%'.format((revenues < 0).mean()*100))"
   ]
  },
  {
   "cell_type": "markdown",
   "metadata": {},
   "source": [
    "<div class=\"alert alert-block alert-danger\">\n",
    "<b>Ошибка:</b> Для подсчета доверительного интервала стоит использовать метод квантилей, так как мы реализуем технику бутстрап, а не st.t.interval.\n",
    "</div>\n",
    "\n",
    "<div class=\"alert alert-block alert-success\">\n",
    "<b>Успех:</b> Риск найден очень элегантно.\n",
    "</div>"
   ]
  },
  {
   "cell_type": "markdown",
   "metadata": {},
   "source": [
    "<div class=\"alert alert-block alert-warning\">\n",
    "<b>Изменения:</b> Были внесены изменения: доверительный интервал пересчитан методом квантилей. Спасибо за меткое замечание.\n",
    "</div>"
   ]
  },
  {
   "cell_type": "markdown",
   "metadata": {},
   "source": [
    "<div class=\"alert alert-block alert-success\">\n",
    "<b>Успех (ревью 2):</b> Теперь все верно, молодец!\n",
    "</div>"
   ]
  },
  {
   "cell_type": "code",
   "execution_count": 38,
   "metadata": {},
   "outputs": [
    {
     "name": "stdout",
     "output_type": "stream",
     "text": [
      "Средняя выручка: 0.371 млрд. рублей\n",
      "Квантиль 2.5%: -0.166\n",
      "Доверительный интервал: (-0.166, 0.903)\n",
      "Риск убытка: 7.8%\n"
     ]
    }
   ],
   "source": [
    "# Показатели для региона geo_1\n",
    "bootstrap(geo_1_target, geo_1_predicted)"
   ]
  },
  {
   "cell_type": "code",
   "execution_count": 39,
   "metadata": {},
   "outputs": [
    {
     "name": "stdout",
     "output_type": "stream",
     "text": [
      "Средняя выручка: 0.450 млрд. рублей\n",
      "Квантиль 2.5%: 0.060\n",
      "Доверительный интервал: (0.06, 0.842)\n",
      "Риск убытка: 1.0%\n"
     ]
    }
   ],
   "source": [
    "# Показатели для региона geo_2\n",
    "bootstrap(geo_2_target, geo_2_predicted)"
   ]
  },
  {
   "cell_type": "code",
   "execution_count": 40,
   "metadata": {},
   "outputs": [
    {
     "name": "stdout",
     "output_type": "stream",
     "text": [
      "Средняя выручка: 0.348 млрд. рублей\n",
      "Квантиль 2.5%: -0.180\n",
      "Доверительный интервал: (-0.18, 0.858)\n",
      "Риск убытка: 9.0%\n"
     ]
    }
   ],
   "source": [
    "# Показатели для региона geo_3\n",
    "bootstrap(geo_3_target, geo_3_predicted)"
   ]
  },
  {
   "cell_type": "markdown",
   "metadata": {},
   "source": [
    "<b>Вывод:</b>\n",
    "\n",
    "* Минимальный уровень прогнозируемого убытка демонстрирует регион geo_2. При этом и добыча в данном регионе потенциально может принести наибольшую прибыль.\n",
    "* Регионы geo_1 и geo_3 показывают высокую вероятность убытка (7.8% и 9.0% соответственно), превышающую заданный показатель 2.5%. При этом 95%-ый доверительный интервал также хорошо иллюстрирует, что левая граница для регионов geo_1 и geo_3 принимает отрицательное значение, то есть более 2.5% выборок показывает убыточность."
   ]
  },
  {
   "cell_type": "markdown",
   "metadata": {},
   "source": [
    "## Общий вывод"
   ]
  },
  {
   "cell_type": "markdown",
   "metadata": {},
   "source": [
    "На основании трех доступных датасетов мы обучили модель линейной регрессии, которая оценивает запас сырья в скважинах для трёх разных регионов.\n",
    "\n",
    "Рассчитан достаточный объём сырья для безубыточной разработки новой скважины в размере 111.11 тысяч баррелей. Даже если истинные запасы сырья не достигают данного значения (точки безубыточности) ни в одном из регионов, мы берем 200 самых потенциально прибыльных скважин для дальнейшего анализа.\n",
    "\n",
    "Используя технику bootstrap, мы смоделировали распределение потенциальной прибыли по представленным регионам c учётом доступного бюджета и возможностей для разработки.\n",
    "\n",
    "Для каждого региона мы определили среднюю прибыль, 95%-й доверительный интервал и риск убытков.\n",
    "\n",
    "По полученным показателям регионов мы пришли к выводу, что самый оптимальный вариант для разработки скважин - это регион geo_2, поскольку он в меньшей степени сопряжён с рисками (менее заданного порога в 2.5%) и потенциально более прибыльный (средняя выручка порядка 454 млн. рублей)."
   ]
  },
  {
   "cell_type": "markdown",
   "metadata": {},
   "source": [
    "<div class=\"alert alert-block alert-success\">\n",
    "<b>Успех:</b> Приятно видеть вывод в коцне преокта. С выбором региона согласен.\n",
    "</div>"
   ]
  },
  {
   "cell_type": "markdown",
   "metadata": {},
   "source": [
    "## Чек-лист готовности проекта"
   ]
  },
  {
   "cell_type": "markdown",
   "metadata": {},
   "source": [
    "Поставьте 'x' в выполненных пунктах. Далее нажмите Shift+Enter."
   ]
  },
  {
   "cell_type": "markdown",
   "metadata": {},
   "source": [
    "- [x]  Jupyter Notebook открыт\n",
    "- [ ]  Весь код выполняется без ошибок\n",
    "- [ ]  Ячейки с кодом расположены в порядке исполнения\n",
    "- [ ]  Выполнен шаг 1: данные подготовлены\n",
    "- [ ]  Выполнен шаг 2: модели обучены и проверены\n",
    "    - [ ]  Данные корректно разбиты на обучающую и валидационную выборки\n",
    "    - [ ]  Модели обучены, предсказания сделаны\n",
    "    - [ ]  Предсказания и правильные ответы на валидационной выборке сохранены\n",
    "    - [ ]  На экране напечатаны результаты\n",
    "    - [ ]  Сделаны выводы\n",
    "- [ ]  Выполнен шаг 3: проведена подготовка к расчёту прибыли\n",
    "    - [ ]  Для всех ключевых значений созданы константы Python\n",
    "    - [ ]  Посчитано минимальное среднее количество продукта в месторождениях региона, достаточное для разработки\n",
    "    - [ ]  По предыдущему пункту сделаны выводы\n",
    "    - [ ]  Написана функция расчёта прибыли\n",
    "- [ ]  Выполнен шаг 4: посчитаны риски и прибыль\n",
    "    - [ ]  Проведена процедура *Bootstrap*\n",
    "    - [ ]  Все параметры бутстрепа соответствуют условию\n",
    "    - [ ]  Найдены все нужные величины\n",
    "    - [ ]  Предложен регион для разработки месторождения\n",
    "    - [ ]  Выбор региона обоснован"
   ]
  },
  {
   "cell_type": "code",
   "execution_count": null,
   "metadata": {},
   "outputs": [],
   "source": []
  }
 ],
 "metadata": {
  "ExecuteTimeLog": [
   {
    "duration": 1437,
    "start_time": "2022-05-16T07:08:27.729Z"
   },
   {
    "duration": 4,
    "start_time": "2022-05-16T07:10:14.994Z"
   },
   {
    "duration": 4,
    "start_time": "2022-05-16T07:11:33.662Z"
   },
   {
    "duration": 335,
    "start_time": "2022-05-16T07:16:19.793Z"
   },
   {
    "duration": 5,
    "start_time": "2022-05-16T07:20:46.144Z"
   },
   {
    "duration": 11,
    "start_time": "2022-05-16T07:21:05.393Z"
   },
   {
    "duration": 18,
    "start_time": "2022-05-16T07:23:31.298Z"
   },
   {
    "duration": 96,
    "start_time": "2022-05-16T07:25:58.919Z"
   },
   {
    "duration": 58,
    "start_time": "2022-05-16T07:26:07.290Z"
   },
   {
    "duration": 391,
    "start_time": "2022-05-16T07:26:13.124Z"
   },
   {
    "duration": 301,
    "start_time": "2022-05-16T07:26:26.235Z"
   },
   {
    "duration": 292,
    "start_time": "2022-05-16T07:26:34.732Z"
   },
   {
    "duration": 285,
    "start_time": "2022-05-16T07:26:47.748Z"
   },
   {
    "duration": 373,
    "start_time": "2022-05-16T07:28:53.430Z"
   },
   {
    "duration": 19,
    "start_time": "2022-05-16T07:29:35.177Z"
   },
   {
    "duration": 19,
    "start_time": "2022-05-16T07:29:47.387Z"
   },
   {
    "duration": 286,
    "start_time": "2022-05-16T07:50:25.888Z"
   },
   {
    "duration": 18,
    "start_time": "2022-05-16T07:51:33.139Z"
   },
   {
    "duration": 288,
    "start_time": "2022-05-16T07:52:02.404Z"
   },
   {
    "duration": 49,
    "start_time": "2022-05-16T07:54:29.227Z"
   },
   {
    "duration": 48,
    "start_time": "2022-05-16T07:54:41.322Z"
   },
   {
    "duration": 45,
    "start_time": "2022-05-16T07:54:59.204Z"
   },
   {
    "duration": 48,
    "start_time": "2022-05-16T07:55:13.414Z"
   },
   {
    "duration": 21,
    "start_time": "2022-05-16T07:57:02.559Z"
   },
   {
    "duration": 70,
    "start_time": "2022-05-16T07:57:46.442Z"
   },
   {
    "duration": 53,
    "start_time": "2022-05-16T07:58:03.131Z"
   },
   {
    "duration": 51,
    "start_time": "2022-05-16T07:58:11.068Z"
   },
   {
    "duration": 17,
    "start_time": "2022-05-16T07:58:18.046Z"
   },
   {
    "duration": 27,
    "start_time": "2022-05-16T07:58:26.426Z"
   },
   {
    "duration": 22,
    "start_time": "2022-05-16T07:58:32.030Z"
   },
   {
    "duration": 57,
    "start_time": "2022-05-16T07:58:46.103Z"
   },
   {
    "duration": 18,
    "start_time": "2022-05-16T08:01:38.489Z"
   },
   {
    "duration": 18,
    "start_time": "2022-05-16T08:01:49.079Z"
   },
   {
    "duration": 18,
    "start_time": "2022-05-16T08:02:32.198Z"
   },
   {
    "duration": 23,
    "start_time": "2022-05-16T08:03:18.666Z"
   },
   {
    "duration": 16,
    "start_time": "2022-05-16T08:03:30.870Z"
   },
   {
    "duration": 318,
    "start_time": "2022-05-16T08:04:48.157Z"
   },
   {
    "duration": 17,
    "start_time": "2022-05-16T08:06:14.355Z"
   },
   {
    "duration": 16,
    "start_time": "2022-05-16T08:06:23.224Z"
   },
   {
    "duration": 23,
    "start_time": "2022-05-16T08:06:30.984Z"
   },
   {
    "duration": 323,
    "start_time": "2022-05-16T08:07:45.881Z"
   },
   {
    "duration": 274,
    "start_time": "2022-05-16T08:07:54.398Z"
   },
   {
    "duration": 19,
    "start_time": "2022-05-16T08:08:09.628Z"
   },
   {
    "duration": 21,
    "start_time": "2022-05-16T08:08:21.207Z"
   },
   {
    "duration": 295,
    "start_time": "2022-05-16T08:08:58.133Z"
   },
   {
    "duration": 308,
    "start_time": "2022-05-16T08:09:10.340Z"
   },
   {
    "duration": 24,
    "start_time": "2022-05-16T08:40:07.116Z"
   },
   {
    "duration": 20,
    "start_time": "2022-05-16T08:42:41.885Z"
   },
   {
    "duration": 1433,
    "start_time": "2022-05-16T08:42:57.078Z"
   },
   {
    "duration": 393,
    "start_time": "2022-05-16T08:42:58.513Z"
   },
   {
    "duration": 47,
    "start_time": "2022-05-16T08:42:58.908Z"
   },
   {
    "duration": 74,
    "start_time": "2022-05-16T08:42:58.957Z"
   },
   {
    "duration": 21,
    "start_time": "2022-05-16T08:42:59.033Z"
   },
   {
    "duration": 334,
    "start_time": "2022-05-16T08:42:59.056Z"
   },
   {
    "duration": 20,
    "start_time": "2022-05-16T08:42:59.392Z"
   },
   {
    "duration": 21,
    "start_time": "2022-05-16T08:42:59.414Z"
   },
   {
    "duration": 338,
    "start_time": "2022-05-16T08:42:59.436Z"
   },
   {
    "duration": 29,
    "start_time": "2022-05-16T08:42:59.776Z"
   },
   {
    "duration": 22,
    "start_time": "2022-05-16T08:42:59.807Z"
   },
   {
    "duration": 345,
    "start_time": "2022-05-16T08:42:59.830Z"
   },
   {
    "duration": 106,
    "start_time": "2022-05-16T08:43:51.258Z"
   },
   {
    "duration": 20,
    "start_time": "2022-05-16T08:43:58.958Z"
   },
   {
    "duration": 25,
    "start_time": "2022-05-16T08:44:05.455Z"
   },
   {
    "duration": 35,
    "start_time": "2022-05-16T08:44:20.568Z"
   },
   {
    "duration": 274,
    "start_time": "2022-05-16T08:45:09.416Z"
   },
   {
    "duration": 23,
    "start_time": "2022-05-16T08:45:27.753Z"
   },
   {
    "duration": 38,
    "start_time": "2022-05-16T08:47:09.178Z"
   },
   {
    "duration": 21,
    "start_time": "2022-05-16T08:47:52.035Z"
   },
   {
    "duration": 21,
    "start_time": "2022-05-16T08:48:26.018Z"
   },
   {
    "duration": 1108,
    "start_time": "2022-05-16T09:08:19.378Z"
   },
   {
    "duration": 2,
    "start_time": "2022-05-16T09:19:06.654Z"
   },
   {
    "duration": 4,
    "start_time": "2022-05-17T07:23:05.735Z"
   },
   {
    "duration": 2,
    "start_time": "2022-05-17T07:26:29.734Z"
   },
   {
    "duration": 3,
    "start_time": "2022-05-17T07:27:31.200Z"
   },
   {
    "duration": 3,
    "start_time": "2022-05-17T07:30:22.535Z"
   },
   {
    "duration": 93,
    "start_time": "2022-05-17T07:32:17.702Z"
   },
   {
    "duration": 43,
    "start_time": "2022-05-17T07:32:27.523Z"
   },
   {
    "duration": 1526,
    "start_time": "2022-05-17T07:34:07.055Z"
   },
   {
    "duration": 322,
    "start_time": "2022-05-17T07:34:08.583Z"
   },
   {
    "duration": 19,
    "start_time": "2022-05-17T07:34:08.907Z"
   },
   {
    "duration": 21,
    "start_time": "2022-05-17T07:34:08.929Z"
   },
   {
    "duration": 3,
    "start_time": "2022-05-17T07:34:08.973Z"
   },
   {
    "duration": 328,
    "start_time": "2022-05-17T07:34:08.977Z"
   },
   {
    "duration": 17,
    "start_time": "2022-05-17T07:34:09.307Z"
   },
   {
    "duration": 18,
    "start_time": "2022-05-17T07:34:09.326Z"
   },
   {
    "duration": 25,
    "start_time": "2022-05-17T07:34:09.346Z"
   },
   {
    "duration": 266,
    "start_time": "2022-05-17T07:34:09.373Z"
   },
   {
    "duration": 16,
    "start_time": "2022-05-17T07:34:09.640Z"
   },
   {
    "duration": 19,
    "start_time": "2022-05-17T07:34:09.671Z"
   },
   {
    "duration": 2,
    "start_time": "2022-05-17T07:34:09.692Z"
   },
   {
    "duration": 265,
    "start_time": "2022-05-17T07:34:09.696Z"
   },
   {
    "duration": 747,
    "start_time": "2022-05-17T07:34:09.963Z"
   },
   {
    "duration": 3,
    "start_time": "2022-05-17T07:34:10.712Z"
   },
   {
    "duration": 692,
    "start_time": "2022-05-17T07:34:37.444Z"
   },
   {
    "duration": 54,
    "start_time": "2022-05-18T13:32:15.234Z"
   },
   {
    "duration": 1340,
    "start_time": "2022-05-18T13:32:27.125Z"
   },
   {
    "duration": 773,
    "start_time": "2022-05-18T13:32:28.467Z"
   },
   {
    "duration": 19,
    "start_time": "2022-05-18T13:32:29.241Z"
   },
   {
    "duration": 43,
    "start_time": "2022-05-18T13:32:29.265Z"
   },
   {
    "duration": 27,
    "start_time": "2022-05-18T13:32:29.311Z"
   },
   {
    "duration": 397,
    "start_time": "2022-05-18T13:32:29.339Z"
   },
   {
    "duration": 16,
    "start_time": "2022-05-18T13:32:29.737Z"
   },
   {
    "duration": 21,
    "start_time": "2022-05-18T13:32:29.755Z"
   },
   {
    "duration": 21,
    "start_time": "2022-05-18T13:32:29.778Z"
   },
   {
    "duration": 47,
    "start_time": "2022-05-18T13:32:29.800Z"
   },
   {
    "duration": 30,
    "start_time": "2022-05-18T13:32:29.849Z"
   },
   {
    "duration": 873,
    "start_time": "2022-05-18T13:32:29.881Z"
   },
   {
    "duration": 2,
    "start_time": "2022-05-18T13:32:30.756Z"
   },
   {
    "duration": 910,
    "start_time": "2022-05-18T13:34:15.448Z"
   },
   {
    "duration": 935,
    "start_time": "2022-05-18T13:34:30.756Z"
   },
   {
    "duration": 959,
    "start_time": "2022-05-18T13:34:53.822Z"
   },
   {
    "duration": 963,
    "start_time": "2022-05-18T13:35:27.513Z"
   },
   {
    "duration": 870,
    "start_time": "2022-05-18T13:36:05.278Z"
   },
   {
    "duration": 1023,
    "start_time": "2022-05-18T13:36:33.241Z"
   },
   {
    "duration": 917,
    "start_time": "2022-05-18T13:36:38.518Z"
   },
   {
    "duration": 905,
    "start_time": "2022-05-18T13:36:44.306Z"
   },
   {
    "duration": 857,
    "start_time": "2022-05-18T13:36:49.927Z"
   },
   {
    "duration": 1017,
    "start_time": "2022-05-18T13:37:35.650Z"
   },
   {
    "duration": 958,
    "start_time": "2022-05-18T13:37:50.872Z"
   },
   {
    "duration": 829,
    "start_time": "2022-05-18T13:37:55.510Z"
   },
   {
    "duration": 778,
    "start_time": "2022-05-18T13:38:14.578Z"
   },
   {
    "duration": 9,
    "start_time": "2022-05-19T12:45:10.384Z"
   },
   {
    "duration": 55,
    "start_time": "2022-05-19T12:49:20.608Z"
   },
   {
    "duration": 1428,
    "start_time": "2022-05-19T12:49:40.509Z"
   },
   {
    "duration": 831,
    "start_time": "2022-05-19T12:49:41.940Z"
   },
   {
    "duration": 27,
    "start_time": "2022-05-19T12:49:42.773Z"
   },
   {
    "duration": 25,
    "start_time": "2022-05-19T12:49:42.802Z"
   },
   {
    "duration": 38,
    "start_time": "2022-05-19T12:49:42.829Z"
   },
   {
    "duration": 20,
    "start_time": "2022-05-19T12:49:42.869Z"
   },
   {
    "duration": 18,
    "start_time": "2022-05-19T12:49:42.891Z"
   },
   {
    "duration": 42,
    "start_time": "2022-05-19T12:49:42.911Z"
   },
   {
    "duration": 924,
    "start_time": "2022-05-19T12:49:42.955Z"
   },
   {
    "duration": 2,
    "start_time": "2022-05-19T12:49:43.882Z"
   },
   {
    "duration": 8,
    "start_time": "2022-05-19T12:49:43.885Z"
   },
   {
    "duration": 458,
    "start_time": "2022-05-19T12:49:43.894Z"
   },
   {
    "duration": 31,
    "start_time": "2022-05-19T12:57:12.954Z"
   },
   {
    "duration": 4,
    "start_time": "2022-05-19T12:59:51.449Z"
   },
   {
    "duration": 3,
    "start_time": "2022-05-19T13:06:17.781Z"
   },
   {
    "duration": 4,
    "start_time": "2022-05-19T13:18:16.356Z"
   },
   {
    "duration": 15,
    "start_time": "2022-05-19T13:18:42.550Z"
   },
   {
    "duration": 4,
    "start_time": "2022-05-19T13:18:58.819Z"
   },
   {
    "duration": 6,
    "start_time": "2022-05-19T13:19:15.747Z"
   },
   {
    "duration": 3,
    "start_time": "2022-05-19T13:20:25.811Z"
   },
   {
    "duration": 5,
    "start_time": "2022-05-19T13:20:28.443Z"
   },
   {
    "duration": 5,
    "start_time": "2022-05-19T13:20:31.107Z"
   },
   {
    "duration": 4,
    "start_time": "2022-05-19T13:20:33.063Z"
   },
   {
    "duration": 10,
    "start_time": "2022-05-19T13:34:19.307Z"
   },
   {
    "duration": 9,
    "start_time": "2022-05-19T13:34:38.719Z"
   },
   {
    "duration": 9,
    "start_time": "2022-05-19T13:35:34.564Z"
   },
   {
    "duration": 4,
    "start_time": "2022-05-19T13:47:15.415Z"
   },
   {
    "duration": 3,
    "start_time": "2022-05-19T13:47:24.342Z"
   },
   {
    "duration": 4,
    "start_time": "2022-05-19T13:54:45.841Z"
   },
   {
    "duration": 3,
    "start_time": "2022-05-19T14:05:43.436Z"
   },
   {
    "duration": 11,
    "start_time": "2022-05-19T14:11:25.640Z"
   },
   {
    "duration": 10,
    "start_time": "2022-05-19T14:13:31.495Z"
   },
   {
    "duration": 4,
    "start_time": "2022-05-19T14:14:43.577Z"
   },
   {
    "duration": 11,
    "start_time": "2022-05-19T14:16:35.991Z"
   },
   {
    "duration": 11,
    "start_time": "2022-05-19T14:16:43.854Z"
   },
   {
    "duration": 12,
    "start_time": "2022-05-19T14:17:14.966Z"
   },
   {
    "duration": 11,
    "start_time": "2022-05-19T14:24:20.176Z"
   },
   {
    "duration": 6,
    "start_time": "2022-05-19T14:26:35.176Z"
   },
   {
    "duration": 119,
    "start_time": "2022-05-19T14:27:30.681Z"
   },
   {
    "duration": 12,
    "start_time": "2022-05-19T14:28:50.732Z"
   },
   {
    "duration": 4,
    "start_time": "2022-05-19T14:29:10.869Z"
   },
   {
    "duration": 10,
    "start_time": "2022-05-19T14:29:11.907Z"
   },
   {
    "duration": 11,
    "start_time": "2022-05-19T14:31:12.231Z"
   },
   {
    "duration": 13,
    "start_time": "2022-05-19T14:31:25.267Z"
   },
   {
    "duration": 10,
    "start_time": "2022-05-19T14:31:37.971Z"
   },
   {
    "duration": 9,
    "start_time": "2022-05-19T14:32:54.350Z"
   },
   {
    "duration": 10,
    "start_time": "2022-05-19T14:32:57.664Z"
   },
   {
    "duration": 9,
    "start_time": "2022-05-19T14:33:01.177Z"
   },
   {
    "duration": 11,
    "start_time": "2022-05-20T08:43:06.181Z"
   },
   {
    "duration": 5,
    "start_time": "2022-05-20T08:43:49.130Z"
   },
   {
    "duration": 81,
    "start_time": "2022-05-20T08:44:22.779Z"
   },
   {
    "duration": 1581,
    "start_time": "2022-05-20T08:44:41.760Z"
   },
   {
    "duration": 1692,
    "start_time": "2022-05-20T08:44:43.344Z"
   },
   {
    "duration": 21,
    "start_time": "2022-05-20T08:44:45.038Z"
   },
   {
    "duration": 23,
    "start_time": "2022-05-20T08:44:45.061Z"
   },
   {
    "duration": 32,
    "start_time": "2022-05-20T08:44:45.085Z"
   },
   {
    "duration": 34,
    "start_time": "2022-05-20T08:44:45.119Z"
   },
   {
    "duration": 26,
    "start_time": "2022-05-20T08:44:45.155Z"
   },
   {
    "duration": 37,
    "start_time": "2022-05-20T08:44:45.183Z"
   },
   {
    "duration": 968,
    "start_time": "2022-05-20T08:44:45.222Z"
   },
   {
    "duration": 2,
    "start_time": "2022-05-20T08:44:46.196Z"
   },
   {
    "duration": 12,
    "start_time": "2022-05-20T08:44:46.200Z"
   },
   {
    "duration": 288,
    "start_time": "2022-05-20T08:44:46.214Z"
   },
   {
    "duration": 90,
    "start_time": "2022-05-20T08:44:46.504Z"
   },
   {
    "duration": 108,
    "start_time": "2022-05-20T08:44:46.599Z"
   },
   {
    "duration": 9,
    "start_time": "2022-05-20T08:44:46.708Z"
   },
   {
    "duration": 6,
    "start_time": "2022-05-20T08:44:46.719Z"
   },
   {
    "duration": 11,
    "start_time": "2022-05-20T08:44:46.727Z"
   },
   {
    "duration": 6,
    "start_time": "2022-05-20T08:44:46.740Z"
   },
   {
    "duration": 12,
    "start_time": "2022-05-20T08:44:46.748Z"
   },
   {
    "duration": 12,
    "start_time": "2022-05-20T08:44:46.762Z"
   },
   {
    "duration": 19,
    "start_time": "2022-05-20T08:44:46.776Z"
   },
   {
    "duration": 10,
    "start_time": "2022-05-20T08:44:46.797Z"
   },
   {
    "duration": 12,
    "start_time": "2022-05-20T08:44:46.808Z"
   },
   {
    "duration": 10,
    "start_time": "2022-05-20T08:44:46.821Z"
   },
   {
    "duration": 6,
    "start_time": "2022-05-20T08:44:46.832Z"
   },
   {
    "duration": 1524,
    "start_time": "2022-05-20T08:44:46.840Z"
   },
   {
    "duration": 1543,
    "start_time": "2022-05-20T08:45:05.883Z"
   },
   {
    "duration": 1455,
    "start_time": "2022-05-20T08:45:19.352Z"
   },
   {
    "duration": 2,
    "start_time": "2022-05-20T08:49:32.841Z"
   },
   {
    "duration": 1430,
    "start_time": "2022-05-20T09:07:29.297Z"
   },
   {
    "duration": 1561,
    "start_time": "2022-05-20T09:07:35.927Z"
   },
   {
    "duration": 1451,
    "start_time": "2022-05-20T09:07:43.273Z"
   },
   {
    "duration": 10,
    "start_time": "2022-05-20T13:39:02.896Z"
   },
   {
    "duration": 5,
    "start_time": "2022-05-20T13:40:27.510Z"
   },
   {
    "duration": 1445,
    "start_time": "2022-05-20T13:40:35.271Z"
   },
   {
    "duration": 1605,
    "start_time": "2022-05-20T13:40:36.718Z"
   },
   {
    "duration": 19,
    "start_time": "2022-05-20T13:40:38.325Z"
   },
   {
    "duration": 21,
    "start_time": "2022-05-20T13:40:38.345Z"
   },
   {
    "duration": 21,
    "start_time": "2022-05-20T13:40:38.367Z"
   },
   {
    "duration": 29,
    "start_time": "2022-05-20T13:40:38.390Z"
   },
   {
    "duration": 17,
    "start_time": "2022-05-20T13:40:38.421Z"
   },
   {
    "duration": 18,
    "start_time": "2022-05-20T13:40:38.460Z"
   },
   {
    "duration": 865,
    "start_time": "2022-05-20T13:40:38.479Z"
   },
   {
    "duration": 3,
    "start_time": "2022-05-20T13:40:39.348Z"
   },
   {
    "duration": 11,
    "start_time": "2022-05-20T13:40:39.359Z"
   },
   {
    "duration": 288,
    "start_time": "2022-05-20T13:40:39.372Z"
   },
   {
    "duration": 4,
    "start_time": "2022-05-20T13:40:39.662Z"
   },
   {
    "duration": 100,
    "start_time": "2022-05-20T13:40:39.667Z"
   },
   {
    "duration": 7,
    "start_time": "2022-05-20T13:40:39.769Z"
   },
   {
    "duration": 6,
    "start_time": "2022-05-20T13:40:39.778Z"
   },
   {
    "duration": 15,
    "start_time": "2022-05-20T13:40:39.786Z"
   },
   {
    "duration": 4,
    "start_time": "2022-05-20T13:40:39.804Z"
   },
   {
    "duration": 8,
    "start_time": "2022-05-20T13:40:39.810Z"
   },
   {
    "duration": 13,
    "start_time": "2022-05-20T13:40:39.820Z"
   },
   {
    "duration": 24,
    "start_time": "2022-05-20T13:40:39.835Z"
   },
   {
    "duration": 12,
    "start_time": "2022-05-20T13:40:39.861Z"
   },
   {
    "duration": 8,
    "start_time": "2022-05-20T13:40:39.874Z"
   },
   {
    "duration": 9,
    "start_time": "2022-05-20T13:40:39.884Z"
   },
   {
    "duration": 5,
    "start_time": "2022-05-20T13:40:39.895Z"
   },
   {
    "duration": 1234,
    "start_time": "2022-05-20T13:40:39.902Z"
   },
   {
    "duration": 1233,
    "start_time": "2022-05-20T13:40:41.137Z"
   },
   {
    "duration": 1227,
    "start_time": "2022-05-20T13:40:42.373Z"
   },
   {
    "duration": 5,
    "start_time": "2022-05-20T13:41:27.105Z"
   },
   {
    "duration": 1434,
    "start_time": "2022-05-22T07:11:29.053Z"
   },
   {
    "duration": 781,
    "start_time": "2022-05-22T07:11:31.531Z"
   },
   {
    "duration": 33,
    "start_time": "2022-05-22T07:14:36.985Z"
   },
   {
    "duration": 62,
    "start_time": "2022-05-22T07:15:23.987Z"
   },
   {
    "duration": 58,
    "start_time": "2022-05-22T07:18:19.238Z"
   },
   {
    "duration": 51,
    "start_time": "2022-05-22T07:19:36.814Z"
   },
   {
    "duration": 994,
    "start_time": "2022-05-22T07:21:38.926Z"
   },
   {
    "duration": 3,
    "start_time": "2022-05-22T07:38:35.153Z"
   },
   {
    "duration": 133,
    "start_time": "2022-05-22T07:38:58.944Z"
   },
   {
    "duration": 1254,
    "start_time": "2022-05-22T07:39:19.443Z"
   },
   {
    "duration": 352,
    "start_time": "2022-05-22T07:39:20.699Z"
   },
   {
    "duration": 50,
    "start_time": "2022-05-22T07:39:21.052Z"
   },
   {
    "duration": 30,
    "start_time": "2022-05-22T07:39:21.103Z"
   },
   {
    "duration": 51,
    "start_time": "2022-05-22T07:39:21.135Z"
   },
   {
    "duration": 42,
    "start_time": "2022-05-22T07:39:21.188Z"
   },
   {
    "duration": 47,
    "start_time": "2022-05-22T07:39:21.232Z"
   },
   {
    "duration": 19,
    "start_time": "2022-05-22T07:39:21.281Z"
   },
   {
    "duration": 875,
    "start_time": "2022-05-22T07:39:21.302Z"
   },
   {
    "duration": 4,
    "start_time": "2022-05-22T07:39:22.178Z"
   },
   {
    "duration": 7,
    "start_time": "2022-05-22T07:39:22.183Z"
   },
   {
    "duration": 338,
    "start_time": "2022-05-22T07:39:22.191Z"
   },
   {
    "duration": 5,
    "start_time": "2022-05-22T07:39:22.534Z"
   },
   {
    "duration": 185,
    "start_time": "2022-05-22T07:39:22.542Z"
   },
   {
    "duration": 6,
    "start_time": "2022-05-22T07:39:22.729Z"
   },
   {
    "duration": 10,
    "start_time": "2022-05-22T07:39:22.736Z"
   },
   {
    "duration": 12,
    "start_time": "2022-05-22T07:39:22.748Z"
   },
   {
    "duration": 5,
    "start_time": "2022-05-22T07:39:22.761Z"
   },
   {
    "duration": 7,
    "start_time": "2022-05-22T07:39:22.768Z"
   },
   {
    "duration": 12,
    "start_time": "2022-05-22T07:39:22.776Z"
   },
   {
    "duration": 3,
    "start_time": "2022-05-22T07:39:22.789Z"
   },
   {
    "duration": 9,
    "start_time": "2022-05-22T07:39:22.827Z"
   },
   {
    "duration": 9,
    "start_time": "2022-05-22T07:39:22.837Z"
   },
   {
    "duration": 8,
    "start_time": "2022-05-22T07:39:22.848Z"
   },
   {
    "duration": 10,
    "start_time": "2022-05-22T07:39:22.858Z"
   },
   {
    "duration": 1350,
    "start_time": "2022-05-22T07:39:22.870Z"
   },
   {
    "duration": 1326,
    "start_time": "2022-05-22T07:39:24.222Z"
   },
   {
    "duration": 1418,
    "start_time": "2022-05-22T07:39:25.550Z"
   },
   {
    "duration": 4,
    "start_time": "2022-05-22T07:43:51.782Z"
   },
   {
    "duration": 5,
    "start_time": "2022-05-22T07:43:54.695Z"
   },
   {
    "duration": 4,
    "start_time": "2022-05-22T07:44:07.008Z"
   },
   {
    "duration": 4,
    "start_time": "2022-05-22T07:44:46.128Z"
   },
   {
    "duration": 6,
    "start_time": "2022-05-22T07:44:47.576Z"
   },
   {
    "duration": 6,
    "start_time": "2022-05-22T07:44:53.905Z"
   },
   {
    "duration": 5,
    "start_time": "2022-05-22T07:44:59.016Z"
   },
   {
    "duration": 13,
    "start_time": "2022-05-22T07:45:03.905Z"
   },
   {
    "duration": 12,
    "start_time": "2022-05-22T07:46:03.945Z"
   },
   {
    "duration": 8,
    "start_time": "2022-05-22T14:22:15.025Z"
   },
   {
    "duration": 3,
    "start_time": "2022-05-22T14:23:36.521Z"
   },
   {
    "duration": 2,
    "start_time": "2022-05-22T14:24:06.856Z"
   },
   {
    "duration": 3,
    "start_time": "2022-05-22T14:33:36.588Z"
   },
   {
    "duration": 4,
    "start_time": "2022-05-22T14:34:43.914Z"
   },
   {
    "duration": 52,
    "start_time": "2022-05-22T14:35:13.207Z"
   },
   {
    "duration": 7,
    "start_time": "2022-05-22T14:35:20.722Z"
   },
   {
    "duration": 8,
    "start_time": "2022-05-22T14:35:33.092Z"
   },
   {
    "duration": 7,
    "start_time": "2022-05-22T14:35:45.914Z"
   },
   {
    "duration": 1350,
    "start_time": "2022-05-22T14:35:53.011Z"
   },
   {
    "duration": 777,
    "start_time": "2022-05-22T14:35:54.363Z"
   },
   {
    "duration": 53,
    "start_time": "2022-05-22T14:35:55.141Z"
   },
   {
    "duration": 32,
    "start_time": "2022-05-22T14:35:55.197Z"
   },
   {
    "duration": 64,
    "start_time": "2022-05-22T14:35:55.230Z"
   },
   {
    "duration": 26,
    "start_time": "2022-05-22T14:35:55.297Z"
   },
   {
    "duration": 44,
    "start_time": "2022-05-22T14:35:55.325Z"
   },
   {
    "duration": 41,
    "start_time": "2022-05-22T14:35:55.371Z"
   },
   {
    "duration": 889,
    "start_time": "2022-05-22T14:35:55.414Z"
   },
   {
    "duration": 8,
    "start_time": "2022-05-22T14:35:56.307Z"
   },
   {
    "duration": 6,
    "start_time": "2022-05-22T14:35:56.317Z"
   },
   {
    "duration": 271,
    "start_time": "2022-05-22T14:35:56.325Z"
   },
   {
    "duration": 4,
    "start_time": "2022-05-22T14:35:56.597Z"
   },
   {
    "duration": 10,
    "start_time": "2022-05-22T14:35:56.602Z"
   },
   {
    "duration": 105,
    "start_time": "2022-05-22T14:35:56.614Z"
   },
   {
    "duration": 6,
    "start_time": "2022-05-22T14:35:56.795Z"
   },
   {
    "duration": 18,
    "start_time": "2022-05-22T14:35:56.803Z"
   },
   {
    "duration": 4,
    "start_time": "2022-05-22T14:35:56.823Z"
   },
   {
    "duration": 7,
    "start_time": "2022-05-22T14:35:56.829Z"
   },
   {
    "duration": 11,
    "start_time": "2022-05-22T14:35:56.837Z"
   },
   {
    "duration": 3,
    "start_time": "2022-05-22T14:35:56.850Z"
   },
   {
    "duration": 11,
    "start_time": "2022-05-22T14:35:56.854Z"
   },
   {
    "duration": 15,
    "start_time": "2022-05-22T14:35:56.894Z"
   },
   {
    "duration": 10,
    "start_time": "2022-05-22T14:35:56.911Z"
   },
   {
    "duration": 7,
    "start_time": "2022-05-22T14:35:56.922Z"
   },
   {
    "duration": 1393,
    "start_time": "2022-05-22T14:35:56.931Z"
   },
   {
    "duration": 1363,
    "start_time": "2022-05-22T14:35:58.326Z"
   },
   {
    "duration": 1288,
    "start_time": "2022-05-22T14:35:59.694Z"
   },
   {
    "duration": 9,
    "start_time": "2022-05-22T14:37:12.168Z"
   },
   {
    "duration": 8,
    "start_time": "2022-05-22T14:37:19.863Z"
   },
   {
    "duration": 5,
    "start_time": "2022-05-22T14:37:58.007Z"
   },
   {
    "duration": 3,
    "start_time": "2022-05-22T14:38:07.721Z"
   },
   {
    "duration": 3,
    "start_time": "2022-05-22T14:38:31.263Z"
   },
   {
    "duration": 1236,
    "start_time": "2022-05-22T18:16:03.045Z"
   },
   {
    "duration": 394,
    "start_time": "2022-05-22T18:16:04.282Z"
   },
   {
    "duration": 70,
    "start_time": "2022-05-22T18:16:04.677Z"
   },
   {
    "duration": 21,
    "start_time": "2022-05-22T18:16:04.748Z"
   },
   {
    "duration": 75,
    "start_time": "2022-05-22T18:16:04.771Z"
   },
   {
    "duration": 19,
    "start_time": "2022-05-22T18:16:04.847Z"
   },
   {
    "duration": 69,
    "start_time": "2022-05-22T18:16:04.867Z"
   },
   {
    "duration": 17,
    "start_time": "2022-05-22T18:16:04.938Z"
   },
   {
    "duration": 840,
    "start_time": "2022-05-22T18:16:04.957Z"
   },
   {
    "duration": 4,
    "start_time": "2022-05-22T18:16:05.801Z"
   },
   {
    "duration": 10,
    "start_time": "2022-05-22T18:16:05.807Z"
   },
   {
    "duration": 285,
    "start_time": "2022-05-22T18:16:05.819Z"
   },
   {
    "duration": 4,
    "start_time": "2022-05-22T18:16:06.107Z"
   },
   {
    "duration": 102,
    "start_time": "2022-05-22T18:16:06.195Z"
   },
   {
    "duration": 10,
    "start_time": "2022-05-22T18:16:06.299Z"
   },
   {
    "duration": 10,
    "start_time": "2022-05-22T18:16:06.311Z"
   },
   {
    "duration": 18,
    "start_time": "2022-05-22T18:16:06.322Z"
   },
   {
    "duration": 3,
    "start_time": "2022-05-22T18:16:06.342Z"
   },
   {
    "duration": 10,
    "start_time": "2022-05-22T18:16:06.347Z"
   },
   {
    "duration": 13,
    "start_time": "2022-05-22T18:16:06.358Z"
   },
   {
    "duration": 3,
    "start_time": "2022-05-22T18:16:06.373Z"
   },
   {
    "duration": 16,
    "start_time": "2022-05-22T18:16:06.396Z"
   },
   {
    "duration": 9,
    "start_time": "2022-05-22T18:16:06.414Z"
   },
   {
    "duration": 10,
    "start_time": "2022-05-22T18:16:06.425Z"
   },
   {
    "duration": 12,
    "start_time": "2022-05-22T18:16:06.437Z"
   },
   {
    "duration": 1310,
    "start_time": "2022-05-22T18:16:06.451Z"
   },
   {
    "duration": 1389,
    "start_time": "2022-05-22T18:16:07.762Z"
   },
   {
    "duration": 1250,
    "start_time": "2022-05-22T18:16:09.154Z"
   },
   {
    "duration": 6,
    "start_time": "2022-05-22T18:17:12.971Z"
   },
   {
    "duration": 6,
    "start_time": "2022-05-22T18:24:05.731Z"
   },
   {
    "duration": 1227,
    "start_time": "2022-05-22T18:24:07.705Z"
   },
   {
    "duration": 3,
    "start_time": "2022-05-22T18:24:38.511Z"
   },
   {
    "duration": 57,
    "start_time": "2022-05-22T18:27:26.629Z"
   },
   {
    "duration": 21,
    "start_time": "2022-05-22T18:27:36.451Z"
   },
   {
    "duration": 45,
    "start_time": "2022-05-22T18:28:13.307Z"
   },
   {
    "duration": 24,
    "start_time": "2022-05-22T18:28:18.437Z"
   },
   {
    "duration": 5,
    "start_time": "2022-05-22T18:28:34.012Z"
   },
   {
    "duration": 1300,
    "start_time": "2022-05-22T18:28:38.867Z"
   },
   {
    "duration": 5,
    "start_time": "2022-05-22T18:29:28.719Z"
   },
   {
    "duration": 5,
    "start_time": "2022-05-22T18:30:01.506Z"
   },
   {
    "duration": 32,
    "start_time": "2022-05-22T18:30:35.687Z"
   },
   {
    "duration": 28,
    "start_time": "2022-05-22T18:30:38.355Z"
   },
   {
    "duration": 25,
    "start_time": "2022-05-22T18:30:48.621Z"
   },
   {
    "duration": 5,
    "start_time": "2022-05-22T18:30:51.879Z"
   },
   {
    "duration": 1310,
    "start_time": "2022-05-22T18:30:54.757Z"
   },
   {
    "duration": 5,
    "start_time": "2022-05-22T18:31:21.386Z"
   },
   {
    "duration": 1247,
    "start_time": "2022-05-22T18:31:24.365Z"
   },
   {
    "duration": 4,
    "start_time": "2022-05-22T18:31:43.554Z"
   },
   {
    "duration": 1204,
    "start_time": "2022-05-22T18:31:47.061Z"
   },
   {
    "duration": 1210,
    "start_time": "2022-05-22T18:31:59.756Z"
   },
   {
    "duration": 1227,
    "start_time": "2022-05-22T18:32:03.915Z"
   },
   {
    "duration": 6,
    "start_time": "2022-05-22T18:32:26.502Z"
   },
   {
    "duration": 1241,
    "start_time": "2022-05-22T18:32:32.384Z"
   },
   {
    "duration": 5,
    "start_time": "2022-05-22T18:33:03.313Z"
   },
   {
    "duration": 1177,
    "start_time": "2022-05-22T18:33:05.326Z"
   },
   {
    "duration": 5,
    "start_time": "2022-05-22T18:34:48.819Z"
   },
   {
    "duration": 1243,
    "start_time": "2022-05-22T18:34:49.770Z"
   },
   {
    "duration": 1234,
    "start_time": "2022-05-22T18:34:53.022Z"
   },
   {
    "duration": 1211,
    "start_time": "2022-05-22T18:34:55.706Z"
   },
   {
    "duration": 8,
    "start_time": "2022-05-22T18:35:23.358Z"
   },
   {
    "duration": 1367,
    "start_time": "2022-05-22T18:35:24.424Z"
   },
   {
    "duration": 5,
    "start_time": "2022-05-22T18:35:32.335Z"
   },
   {
    "duration": 4,
    "start_time": "2022-05-22T18:35:35.860Z"
   },
   {
    "duration": 1228,
    "start_time": "2022-05-22T18:35:36.494Z"
   },
   {
    "duration": 4,
    "start_time": "2022-05-22T18:35:54.360Z"
   },
   {
    "duration": 1197,
    "start_time": "2022-05-22T18:35:59.014Z"
   },
   {
    "duration": 1202,
    "start_time": "2022-05-22T18:36:02.106Z"
   },
   {
    "duration": 1171,
    "start_time": "2022-05-22T18:36:04.429Z"
   },
   {
    "duration": 4,
    "start_time": "2022-05-22T18:36:10.358Z"
   },
   {
    "duration": 1198,
    "start_time": "2022-05-22T18:36:13.181Z"
   },
   {
    "duration": 5,
    "start_time": "2022-05-22T18:36:18.118Z"
   },
   {
    "duration": 1199,
    "start_time": "2022-05-22T18:36:19.039Z"
   },
   {
    "duration": 1178,
    "start_time": "2022-05-22T18:36:22.073Z"
   },
   {
    "duration": 1261,
    "start_time": "2022-05-22T18:36:24.836Z"
   },
   {
    "duration": 4,
    "start_time": "2022-05-22T18:37:11.496Z"
   },
   {
    "duration": 1245,
    "start_time": "2022-05-22T18:37:12.270Z"
   },
   {
    "duration": 1161,
    "start_time": "2022-05-22T18:37:16.380Z"
   },
   {
    "duration": 1326,
    "start_time": "2022-05-22T18:37:18.563Z"
   },
   {
    "duration": 7,
    "start_time": "2022-05-22T18:59:22.511Z"
   },
   {
    "duration": 1256,
    "start_time": "2022-05-22T18:59:26.459Z"
   },
   {
    "duration": 1177,
    "start_time": "2022-05-22T18:59:29.226Z"
   },
   {
    "duration": 1182,
    "start_time": "2022-05-22T18:59:33.212Z"
   },
   {
    "duration": 1214,
    "start_time": "2022-05-22T19:00:27.139Z"
   },
   {
    "duration": 335,
    "start_time": "2022-05-22T19:00:28.355Z"
   },
   {
    "duration": 49,
    "start_time": "2022-05-22T19:00:28.692Z"
   },
   {
    "duration": 18,
    "start_time": "2022-05-22T19:00:28.742Z"
   },
   {
    "duration": 62,
    "start_time": "2022-05-22T19:00:28.763Z"
   },
   {
    "duration": 17,
    "start_time": "2022-05-22T19:00:28.827Z"
   },
   {
    "duration": 66,
    "start_time": "2022-05-22T19:00:28.846Z"
   },
   {
    "duration": 23,
    "start_time": "2022-05-22T19:00:28.915Z"
   },
   {
    "duration": 841,
    "start_time": "2022-05-22T19:00:28.940Z"
   },
   {
    "duration": 3,
    "start_time": "2022-05-22T19:00:29.783Z"
   },
   {
    "duration": 3,
    "start_time": "2022-05-22T19:00:29.794Z"
   },
   {
    "duration": 399,
    "start_time": "2022-05-22T19:00:29.798Z"
   },
   {
    "duration": 3,
    "start_time": "2022-05-22T19:00:30.199Z"
   },
   {
    "duration": 52,
    "start_time": "2022-05-22T19:00:30.293Z"
   },
   {
    "duration": 21,
    "start_time": "2022-05-22T19:00:30.347Z"
   },
   {
    "duration": 9,
    "start_time": "2022-05-22T19:00:30.370Z"
   },
   {
    "duration": 16,
    "start_time": "2022-05-22T19:00:30.381Z"
   },
   {
    "duration": 9,
    "start_time": "2022-05-22T19:00:30.399Z"
   },
   {
    "duration": 13,
    "start_time": "2022-05-22T19:00:30.410Z"
   },
   {
    "duration": 25,
    "start_time": "2022-05-22T19:00:30.425Z"
   },
   {
    "duration": 24,
    "start_time": "2022-05-22T19:00:30.451Z"
   },
   {
    "duration": 40,
    "start_time": "2022-05-22T19:00:30.477Z"
   },
   {
    "duration": 17,
    "start_time": "2022-05-22T19:00:30.518Z"
   },
   {
    "duration": 24,
    "start_time": "2022-05-22T19:00:30.537Z"
   },
   {
    "duration": 36,
    "start_time": "2022-05-22T19:00:30.563Z"
   },
   {
    "duration": 1229,
    "start_time": "2022-05-22T19:00:30.601Z"
   },
   {
    "duration": 1191,
    "start_time": "2022-05-22T19:00:31.831Z"
   },
   {
    "duration": 1193,
    "start_time": "2022-05-22T19:00:33.023Z"
   },
   {
    "duration": 8,
    "start_time": "2022-05-23T15:12:23.685Z"
   },
   {
    "duration": 3,
    "start_time": "2022-05-23T15:12:39.717Z"
   },
   {
    "duration": 53,
    "start_time": "2022-05-23T15:12:49.364Z"
   },
   {
    "duration": 3,
    "start_time": "2022-05-23T15:14:05.905Z"
   },
   {
    "duration": 1455,
    "start_time": "2022-05-23T15:34:02.120Z"
   },
   {
    "duration": 117,
    "start_time": "2022-05-23T15:34:03.578Z"
   },
   {
    "duration": 0,
    "start_time": "2022-05-23T15:34:03.697Z"
   },
   {
    "duration": 0,
    "start_time": "2022-05-23T15:34:03.698Z"
   },
   {
    "duration": 0,
    "start_time": "2022-05-23T15:34:03.701Z"
   },
   {
    "duration": 0,
    "start_time": "2022-05-23T15:34:03.702Z"
   },
   {
    "duration": 0,
    "start_time": "2022-05-23T15:34:03.703Z"
   },
   {
    "duration": 0,
    "start_time": "2022-05-23T15:34:03.704Z"
   },
   {
    "duration": 0,
    "start_time": "2022-05-23T15:34:03.705Z"
   },
   {
    "duration": 0,
    "start_time": "2022-05-23T15:34:03.706Z"
   },
   {
    "duration": 0,
    "start_time": "2022-05-23T15:34:03.707Z"
   },
   {
    "duration": 0,
    "start_time": "2022-05-23T15:34:03.708Z"
   },
   {
    "duration": 0,
    "start_time": "2022-05-23T15:34:03.709Z"
   },
   {
    "duration": 0,
    "start_time": "2022-05-23T15:34:03.710Z"
   },
   {
    "duration": 0,
    "start_time": "2022-05-23T15:34:03.710Z"
   },
   {
    "duration": 0,
    "start_time": "2022-05-23T15:34:03.711Z"
   },
   {
    "duration": 0,
    "start_time": "2022-05-23T15:34:03.713Z"
   },
   {
    "duration": 0,
    "start_time": "2022-05-23T15:34:03.713Z"
   },
   {
    "duration": 0,
    "start_time": "2022-05-23T15:34:03.714Z"
   },
   {
    "duration": 0,
    "start_time": "2022-05-23T15:34:03.716Z"
   },
   {
    "duration": 0,
    "start_time": "2022-05-23T15:34:03.717Z"
   },
   {
    "duration": 0,
    "start_time": "2022-05-23T15:34:03.718Z"
   },
   {
    "duration": 0,
    "start_time": "2022-05-23T15:34:03.720Z"
   },
   {
    "duration": 0,
    "start_time": "2022-05-23T15:34:03.721Z"
   },
   {
    "duration": 0,
    "start_time": "2022-05-23T15:34:03.722Z"
   },
   {
    "duration": 0,
    "start_time": "2022-05-23T15:34:03.723Z"
   },
   {
    "duration": 0,
    "start_time": "2022-05-23T15:34:03.724Z"
   },
   {
    "duration": 0,
    "start_time": "2022-05-23T15:34:03.725Z"
   },
   {
    "duration": 1362,
    "start_time": "2022-05-24T06:14:06.784Z"
   },
   {
    "duration": 868,
    "start_time": "2022-05-24T06:14:08.148Z"
   },
   {
    "duration": 50,
    "start_time": "2022-05-24T06:14:09.017Z"
   },
   {
    "duration": 19,
    "start_time": "2022-05-24T06:14:09.069Z"
   },
   {
    "duration": 62,
    "start_time": "2022-05-24T06:14:09.090Z"
   },
   {
    "duration": 19,
    "start_time": "2022-05-24T06:14:09.153Z"
   },
   {
    "duration": 44,
    "start_time": "2022-05-24T06:14:09.173Z"
   },
   {
    "duration": 37,
    "start_time": "2022-05-24T06:14:09.218Z"
   },
   {
    "duration": 873,
    "start_time": "2022-05-24T06:14:09.257Z"
   },
   {
    "duration": 3,
    "start_time": "2022-05-24T06:14:10.133Z"
   },
   {
    "duration": 7,
    "start_time": "2022-05-24T06:14:10.138Z"
   },
   {
    "duration": 306,
    "start_time": "2022-05-24T06:14:10.152Z"
   },
   {
    "duration": 4,
    "start_time": "2022-05-24T06:14:10.460Z"
   },
   {
    "duration": 190,
    "start_time": "2022-05-24T06:14:10.465Z"
   },
   {
    "duration": 5,
    "start_time": "2022-05-24T06:14:10.657Z"
   },
   {
    "duration": 7,
    "start_time": "2022-05-24T06:14:10.663Z"
   },
   {
    "duration": 11,
    "start_time": "2022-05-24T06:14:10.672Z"
   },
   {
    "duration": 5,
    "start_time": "2022-05-24T06:14:10.684Z"
   },
   {
    "duration": 5,
    "start_time": "2022-05-24T06:14:10.691Z"
   },
   {
    "duration": 15,
    "start_time": "2022-05-24T06:14:10.698Z"
   },
   {
    "duration": 3,
    "start_time": "2022-05-24T06:14:10.715Z"
   },
   {
    "duration": 39,
    "start_time": "2022-05-24T06:14:10.720Z"
   },
   {
    "duration": 8,
    "start_time": "2022-05-24T06:14:10.761Z"
   },
   {
    "duration": 9,
    "start_time": "2022-05-24T06:14:10.771Z"
   },
   {
    "duration": 4,
    "start_time": "2022-05-24T06:14:10.782Z"
   },
   {
    "duration": 141,
    "start_time": "2022-05-24T06:14:10.787Z"
   },
   {
    "duration": 0,
    "start_time": "2022-05-24T06:14:10.930Z"
   },
   {
    "duration": 0,
    "start_time": "2022-05-24T06:14:10.931Z"
   },
   {
    "duration": 8,
    "start_time": "2022-05-24T06:29:53.229Z"
   },
   {
    "duration": 14,
    "start_time": "2022-05-24T06:30:07.704Z"
   },
   {
    "duration": 7,
    "start_time": "2022-05-24T06:30:31.946Z"
   },
   {
    "duration": 1448,
    "start_time": "2022-05-24T06:30:34.992Z"
   },
   {
    "duration": 6,
    "start_time": "2022-05-24T06:31:15.426Z"
   },
   {
    "duration": 1330,
    "start_time": "2022-05-24T06:31:17.492Z"
   },
   {
    "duration": 5,
    "start_time": "2022-05-24T06:31:55.652Z"
   },
   {
    "duration": 1637,
    "start_time": "2022-05-24T06:31:57.993Z"
   },
   {
    "duration": 1479,
    "start_time": "2022-05-24T06:32:02.748Z"
   },
   {
    "duration": 1490,
    "start_time": "2022-05-24T06:32:04.230Z"
   },
   {
    "duration": 5,
    "start_time": "2022-05-24T06:36:59.818Z"
   },
   {
    "duration": 1579,
    "start_time": "2022-05-24T06:37:01.793Z"
   },
   {
    "duration": 1399,
    "start_time": "2022-05-24T06:37:05.998Z"
   },
   {
    "duration": 1427,
    "start_time": "2022-05-24T06:37:10.533Z"
   }
  ],
  "kernelspec": {
   "display_name": "Python 3 (ipykernel)",
   "language": "python",
   "name": "python3"
  },
  "language_info": {
   "codemirror_mode": {
    "name": "ipython",
    "version": 3
   },
   "file_extension": ".py",
   "mimetype": "text/x-python",
   "name": "python",
   "nbconvert_exporter": "python",
   "pygments_lexer": "ipython3",
   "version": "3.9.5"
  },
  "toc": {
   "base_numbering": 1,
   "nav_menu": {},
   "number_sections": true,
   "sideBar": true,
   "skip_h1_title": true,
   "title_cell": "Table of Contents",
   "title_sidebar": "Contents",
   "toc_cell": false,
   "toc_position": {},
   "toc_section_display": true,
   "toc_window_display": false
  }
 },
 "nbformat": 4,
 "nbformat_minor": 2
}
