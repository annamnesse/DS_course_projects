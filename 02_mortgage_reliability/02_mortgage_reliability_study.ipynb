{
  "cells": [
    {
      "cell_type": "markdown",
      "id": "5fde4b9b",
      "metadata": {
        "id": "5fde4b9b"
      },
      "source": [
        "# Исследование надежности заемщиков.\n",
        "\n",
        "Заказчик — кредитный отдел банка. Нужно разобраться, влияет ли семейное положение и количество детей клиента на факт погашения кредита в срок. Входные данные от банка — статистика о платёжеспособности клиентов.\n",
        "\n",
        "Результаты исследования будут учтены при построении модели <i>кредитного скоринга</i> — специальной системы, которая оценивает способность потенциального заёмщика вернуть кредит банку."
      ]
    },
    {
      "cell_type": "markdown",
      "id": "f6521cfe",
      "metadata": {
        "id": "f6521cfe"
      },
      "source": [
        "### Шаг 1. Обзор данных"
      ]
    },
    {
      "cell_type": "code",
      "execution_count": null,
      "id": "7510551d",
      "metadata": {
        "id": "7510551d",
        "outputId": "f0848cf5-e5ae-4ce5-ef5f-795896da0ab2"
      },
      "outputs": [
        {
          "name": "stdout",
          "output_type": "stream",
          "text": [
            "<class 'pandas.core.frame.DataFrame'>\n",
            "RangeIndex: 21525 entries, 0 to 21524\n",
            "Data columns (total 12 columns):\n",
            "children            21525 non-null int64\n",
            "days_employed       19351 non-null float64\n",
            "dob_years           21525 non-null int64\n",
            "education           21525 non-null object\n",
            "education_id        21525 non-null int64\n",
            "family_status       21525 non-null object\n",
            "family_status_id    21525 non-null int64\n",
            "gender              21525 non-null object\n",
            "income_type         21525 non-null object\n",
            "debt                21525 non-null int64\n",
            "total_income        19351 non-null float64\n",
            "purpose             21525 non-null object\n",
            "dtypes: float64(2), int64(5), object(5)\n",
            "memory usage: 2.0+ MB\n"
          ]
        }
      ],
      "source": [
        "# Открываем таблицу и изучаем общую информацию о данных\n",
        "import pandas as pd\n",
        "\n",
        "data = pd.read_csv('/datasets/data.csv')\n",
        "data.info()"
      ]
    },
    {
      "cell_type": "markdown",
      "id": "c86761da",
      "metadata": {
        "id": "c86761da"
      },
      "source": [
        "<b>Обратить внимание:</b> Пропущены значения в столбцах days_employed и total_income"
      ]
    },
    {
      "cell_type": "code",
      "execution_count": null,
      "id": "62698732",
      "metadata": {
        "id": "62698732",
        "outputId": "95d0b58e-e5db-4051-acc5-bc6b12462645"
      },
      "outputs": [
        {
          "data": {
            "text/html": [
              "<div>\n",
              "<style scoped>\n",
              "    .dataframe tbody tr th:only-of-type {\n",
              "        vertical-align: middle;\n",
              "    }\n",
              "\n",
              "    .dataframe tbody tr th {\n",
              "        vertical-align: top;\n",
              "    }\n",
              "\n",
              "    .dataframe thead th {\n",
              "        text-align: right;\n",
              "    }\n",
              "</style>\n",
              "<table border=\"1\" class=\"dataframe\">\n",
              "  <thead>\n",
              "    <tr style=\"text-align: right;\">\n",
              "      <th></th>\n",
              "      <th>children</th>\n",
              "      <th>days_employed</th>\n",
              "      <th>dob_years</th>\n",
              "      <th>education_id</th>\n",
              "      <th>family_status_id</th>\n",
              "      <th>debt</th>\n",
              "      <th>total_income</th>\n",
              "    </tr>\n",
              "  </thead>\n",
              "  <tbody>\n",
              "    <tr>\n",
              "      <td>count</td>\n",
              "      <td>21525.000000</td>\n",
              "      <td>19351.000000</td>\n",
              "      <td>21525.000000</td>\n",
              "      <td>21525.000000</td>\n",
              "      <td>21525.000000</td>\n",
              "      <td>21525.000000</td>\n",
              "      <td>1.935100e+04</td>\n",
              "    </tr>\n",
              "    <tr>\n",
              "      <td>mean</td>\n",
              "      <td>0.538908</td>\n",
              "      <td>63046.497661</td>\n",
              "      <td>43.293380</td>\n",
              "      <td>0.817236</td>\n",
              "      <td>0.972544</td>\n",
              "      <td>0.080883</td>\n",
              "      <td>1.674223e+05</td>\n",
              "    </tr>\n",
              "    <tr>\n",
              "      <td>std</td>\n",
              "      <td>1.381587</td>\n",
              "      <td>140827.311974</td>\n",
              "      <td>12.574584</td>\n",
              "      <td>0.548138</td>\n",
              "      <td>1.420324</td>\n",
              "      <td>0.272661</td>\n",
              "      <td>1.029716e+05</td>\n",
              "    </tr>\n",
              "    <tr>\n",
              "      <td>min</td>\n",
              "      <td>-1.000000</td>\n",
              "      <td>-18388.949901</td>\n",
              "      <td>0.000000</td>\n",
              "      <td>0.000000</td>\n",
              "      <td>0.000000</td>\n",
              "      <td>0.000000</td>\n",
              "      <td>2.066726e+04</td>\n",
              "    </tr>\n",
              "    <tr>\n",
              "      <td>25%</td>\n",
              "      <td>0.000000</td>\n",
              "      <td>-2747.423625</td>\n",
              "      <td>33.000000</td>\n",
              "      <td>1.000000</td>\n",
              "      <td>0.000000</td>\n",
              "      <td>0.000000</td>\n",
              "      <td>1.030532e+05</td>\n",
              "    </tr>\n",
              "    <tr>\n",
              "      <td>50%</td>\n",
              "      <td>0.000000</td>\n",
              "      <td>-1203.369529</td>\n",
              "      <td>42.000000</td>\n",
              "      <td>1.000000</td>\n",
              "      <td>0.000000</td>\n",
              "      <td>0.000000</td>\n",
              "      <td>1.450179e+05</td>\n",
              "    </tr>\n",
              "    <tr>\n",
              "      <td>75%</td>\n",
              "      <td>1.000000</td>\n",
              "      <td>-291.095954</td>\n",
              "      <td>53.000000</td>\n",
              "      <td>1.000000</td>\n",
              "      <td>1.000000</td>\n",
              "      <td>0.000000</td>\n",
              "      <td>2.034351e+05</td>\n",
              "    </tr>\n",
              "    <tr>\n",
              "      <td>max</td>\n",
              "      <td>20.000000</td>\n",
              "      <td>401755.400475</td>\n",
              "      <td>75.000000</td>\n",
              "      <td>4.000000</td>\n",
              "      <td>4.000000</td>\n",
              "      <td>1.000000</td>\n",
              "      <td>2.265604e+06</td>\n",
              "    </tr>\n",
              "  </tbody>\n",
              "</table>\n",
              "</div>"
            ],
            "text/plain": [
              "           children  days_employed     dob_years  education_id  \\\n",
              "count  21525.000000   19351.000000  21525.000000  21525.000000   \n",
              "mean       0.538908   63046.497661     43.293380      0.817236   \n",
              "std        1.381587  140827.311974     12.574584      0.548138   \n",
              "min       -1.000000  -18388.949901      0.000000      0.000000   \n",
              "25%        0.000000   -2747.423625     33.000000      1.000000   \n",
              "50%        0.000000   -1203.369529     42.000000      1.000000   \n",
              "75%        1.000000    -291.095954     53.000000      1.000000   \n",
              "max       20.000000  401755.400475     75.000000      4.000000   \n",
              "\n",
              "       family_status_id          debt  total_income  \n",
              "count      21525.000000  21525.000000  1.935100e+04  \n",
              "mean           0.972544      0.080883  1.674223e+05  \n",
              "std            1.420324      0.272661  1.029716e+05  \n",
              "min            0.000000      0.000000  2.066726e+04  \n",
              "25%            0.000000      0.000000  1.030532e+05  \n",
              "50%            0.000000      0.000000  1.450179e+05  \n",
              "75%            1.000000      0.000000  2.034351e+05  \n",
              "max            4.000000      1.000000  2.265604e+06  "
            ]
          },
          "execution_count": 2,
          "metadata": {},
          "output_type": "execute_result"
        }
      ],
      "source": [
        "# Изучаем более подробную информацию о данных\n",
        "data.describe()"
      ]
    },
    {
      "cell_type": "markdown",
      "id": "be6c41ae",
      "metadata": {
        "id": "be6c41ae"
      },
      "source": [
        "<b>Первичные наблюдения:</b>\n",
        "1. <i>children</i> \n",
        "\n",
        "Разброс количества детей: от -1 до 20. Отрицательное значение может быть связано с некорректным вводом данных - попробуем взять по модулю. В случае многодетной семьи \"20\" может быть достоверным значением, но лучше посмотреть на количественные показатели.\n",
        "\n",
        "2. <i>days_employed</i> \n",
        "\n",
        "Есть отрицательные значения (ошибка ввода данных?) и экстремально большие (401755 дней > 1100 лет стажа)\n",
        "\n",
        "3. <i>dob_years</i> \n",
        "\n",
        "В базу попал минимальный возраст клиента = 0 лет (практически пропущенное значение)"
      ]
    },
    {
      "cell_type": "code",
      "execution_count": null,
      "id": "599e5c4b",
      "metadata": {
        "id": "599e5c4b",
        "outputId": "fa8f4342-73c7-4dbd-f1a9-7b7e6e6e0d9d"
      },
      "outputs": [
        {
          "data": {
            "text/html": [
              "<div>\n",
              "<style scoped>\n",
              "    .dataframe tbody tr th:only-of-type {\n",
              "        vertical-align: middle;\n",
              "    }\n",
              "\n",
              "    .dataframe tbody tr th {\n",
              "        vertical-align: top;\n",
              "    }\n",
              "\n",
              "    .dataframe thead th {\n",
              "        text-align: right;\n",
              "    }\n",
              "</style>\n",
              "<table border=\"1\" class=\"dataframe\">\n",
              "  <thead>\n",
              "    <tr style=\"text-align: right;\">\n",
              "      <th></th>\n",
              "      <th>children</th>\n",
              "      <th>days_employed</th>\n",
              "      <th>dob_years</th>\n",
              "      <th>education</th>\n",
              "      <th>education_id</th>\n",
              "      <th>family_status</th>\n",
              "      <th>family_status_id</th>\n",
              "      <th>gender</th>\n",
              "      <th>income_type</th>\n",
              "      <th>debt</th>\n",
              "      <th>total_income</th>\n",
              "      <th>purpose</th>\n",
              "    </tr>\n",
              "  </thead>\n",
              "  <tbody>\n",
              "    <tr>\n",
              "      <td>0</td>\n",
              "      <td>1</td>\n",
              "      <td>-8437.673028</td>\n",
              "      <td>42</td>\n",
              "      <td>высшее</td>\n",
              "      <td>0</td>\n",
              "      <td>женат / замужем</td>\n",
              "      <td>0</td>\n",
              "      <td>F</td>\n",
              "      <td>сотрудник</td>\n",
              "      <td>0</td>\n",
              "      <td>253875.639453</td>\n",
              "      <td>покупка жилья</td>\n",
              "    </tr>\n",
              "    <tr>\n",
              "      <td>1</td>\n",
              "      <td>1</td>\n",
              "      <td>-4024.803754</td>\n",
              "      <td>36</td>\n",
              "      <td>среднее</td>\n",
              "      <td>1</td>\n",
              "      <td>женат / замужем</td>\n",
              "      <td>0</td>\n",
              "      <td>F</td>\n",
              "      <td>сотрудник</td>\n",
              "      <td>0</td>\n",
              "      <td>112080.014102</td>\n",
              "      <td>приобретение автомобиля</td>\n",
              "    </tr>\n",
              "    <tr>\n",
              "      <td>2</td>\n",
              "      <td>0</td>\n",
              "      <td>-5623.422610</td>\n",
              "      <td>33</td>\n",
              "      <td>Среднее</td>\n",
              "      <td>1</td>\n",
              "      <td>женат / замужем</td>\n",
              "      <td>0</td>\n",
              "      <td>M</td>\n",
              "      <td>сотрудник</td>\n",
              "      <td>0</td>\n",
              "      <td>145885.952297</td>\n",
              "      <td>покупка жилья</td>\n",
              "    </tr>\n",
              "    <tr>\n",
              "      <td>3</td>\n",
              "      <td>3</td>\n",
              "      <td>-4124.747207</td>\n",
              "      <td>32</td>\n",
              "      <td>среднее</td>\n",
              "      <td>1</td>\n",
              "      <td>женат / замужем</td>\n",
              "      <td>0</td>\n",
              "      <td>M</td>\n",
              "      <td>сотрудник</td>\n",
              "      <td>0</td>\n",
              "      <td>267628.550329</td>\n",
              "      <td>дополнительное образование</td>\n",
              "    </tr>\n",
              "    <tr>\n",
              "      <td>4</td>\n",
              "      <td>0</td>\n",
              "      <td>340266.072047</td>\n",
              "      <td>53</td>\n",
              "      <td>среднее</td>\n",
              "      <td>1</td>\n",
              "      <td>гражданский брак</td>\n",
              "      <td>1</td>\n",
              "      <td>F</td>\n",
              "      <td>пенсионер</td>\n",
              "      <td>0</td>\n",
              "      <td>158616.077870</td>\n",
              "      <td>сыграть свадьбу</td>\n",
              "    </tr>\n",
              "    <tr>\n",
              "      <td>5</td>\n",
              "      <td>0</td>\n",
              "      <td>-926.185831</td>\n",
              "      <td>27</td>\n",
              "      <td>высшее</td>\n",
              "      <td>0</td>\n",
              "      <td>гражданский брак</td>\n",
              "      <td>1</td>\n",
              "      <td>M</td>\n",
              "      <td>компаньон</td>\n",
              "      <td>0</td>\n",
              "      <td>255763.565419</td>\n",
              "      <td>покупка жилья</td>\n",
              "    </tr>\n",
              "    <tr>\n",
              "      <td>6</td>\n",
              "      <td>0</td>\n",
              "      <td>-2879.202052</td>\n",
              "      <td>43</td>\n",
              "      <td>высшее</td>\n",
              "      <td>0</td>\n",
              "      <td>женат / замужем</td>\n",
              "      <td>0</td>\n",
              "      <td>F</td>\n",
              "      <td>компаньон</td>\n",
              "      <td>0</td>\n",
              "      <td>240525.971920</td>\n",
              "      <td>операции с жильем</td>\n",
              "    </tr>\n",
              "    <tr>\n",
              "      <td>7</td>\n",
              "      <td>0</td>\n",
              "      <td>-152.779569</td>\n",
              "      <td>50</td>\n",
              "      <td>СРЕДНЕЕ</td>\n",
              "      <td>1</td>\n",
              "      <td>женат / замужем</td>\n",
              "      <td>0</td>\n",
              "      <td>M</td>\n",
              "      <td>сотрудник</td>\n",
              "      <td>0</td>\n",
              "      <td>135823.934197</td>\n",
              "      <td>образование</td>\n",
              "    </tr>\n",
              "    <tr>\n",
              "      <td>8</td>\n",
              "      <td>2</td>\n",
              "      <td>-6929.865299</td>\n",
              "      <td>35</td>\n",
              "      <td>ВЫСШЕЕ</td>\n",
              "      <td>0</td>\n",
              "      <td>гражданский брак</td>\n",
              "      <td>1</td>\n",
              "      <td>F</td>\n",
              "      <td>сотрудник</td>\n",
              "      <td>0</td>\n",
              "      <td>95856.832424</td>\n",
              "      <td>на проведение свадьбы</td>\n",
              "    </tr>\n",
              "    <tr>\n",
              "      <td>9</td>\n",
              "      <td>0</td>\n",
              "      <td>-2188.756445</td>\n",
              "      <td>41</td>\n",
              "      <td>среднее</td>\n",
              "      <td>1</td>\n",
              "      <td>женат / замужем</td>\n",
              "      <td>0</td>\n",
              "      <td>M</td>\n",
              "      <td>сотрудник</td>\n",
              "      <td>0</td>\n",
              "      <td>144425.938277</td>\n",
              "      <td>покупка жилья для семьи</td>\n",
              "    </tr>\n",
              "  </tbody>\n",
              "</table>\n",
              "</div>"
            ],
            "text/plain": [
              "   children  days_employed  dob_years education  education_id  \\\n",
              "0         1   -8437.673028         42    высшее             0   \n",
              "1         1   -4024.803754         36   среднее             1   \n",
              "2         0   -5623.422610         33   Среднее             1   \n",
              "3         3   -4124.747207         32   среднее             1   \n",
              "4         0  340266.072047         53   среднее             1   \n",
              "5         0    -926.185831         27    высшее             0   \n",
              "6         0   -2879.202052         43    высшее             0   \n",
              "7         0    -152.779569         50   СРЕДНЕЕ             1   \n",
              "8         2   -6929.865299         35    ВЫСШЕЕ             0   \n",
              "9         0   -2188.756445         41   среднее             1   \n",
              "\n",
              "      family_status  family_status_id gender income_type  debt   total_income  \\\n",
              "0   женат / замужем                 0      F   сотрудник     0  253875.639453   \n",
              "1   женат / замужем                 0      F   сотрудник     0  112080.014102   \n",
              "2   женат / замужем                 0      M   сотрудник     0  145885.952297   \n",
              "3   женат / замужем                 0      M   сотрудник     0  267628.550329   \n",
              "4  гражданский брак                 1      F   пенсионер     0  158616.077870   \n",
              "5  гражданский брак                 1      M   компаньон     0  255763.565419   \n",
              "6   женат / замужем                 0      F   компаньон     0  240525.971920   \n",
              "7   женат / замужем                 0      M   сотрудник     0  135823.934197   \n",
              "8  гражданский брак                 1      F   сотрудник     0   95856.832424   \n",
              "9   женат / замужем                 0      M   сотрудник     0  144425.938277   \n",
              "\n",
              "                      purpose  \n",
              "0               покупка жилья  \n",
              "1     приобретение автомобиля  \n",
              "2               покупка жилья  \n",
              "3  дополнительное образование  \n",
              "4             сыграть свадьбу  \n",
              "5               покупка жилья  \n",
              "6           операции с жильем  \n",
              "7                 образование  \n",
              "8       на проведение свадьбы  \n",
              "9     покупка жилья для семьи  "
            ]
          },
          "execution_count": 3,
          "metadata": {},
          "output_type": "execute_result"
        }
      ],
      "source": [
        "data.head(10)"
      ]
    },
    {
      "cell_type": "markdown",
      "id": "8647aabf",
      "metadata": {
        "id": "8647aabf"
      },
      "source": [
        "<b>Обратить внимание:</b> Привести написание значений в столбце education к строчному"
      ]
    },
    {
      "cell_type": "markdown",
      "id": "3ae24e84",
      "metadata": {
        "id": "3ae24e84"
      },
      "source": [
        "### Шаг 2.1 Заполнение пропусков"
      ]
    },
    {
      "cell_type": "code",
      "execution_count": null,
      "id": "f8a4317f",
      "metadata": {
        "id": "f8a4317f",
        "outputId": "fbeaf7d1-82dc-4c01-91ff-f7452b390705"
      },
      "outputs": [
        {
          "name": "stdout",
          "output_type": "stream",
          "text": [
            "Доля пропущенных значений в столбце days_employed составляет 10.1%\n",
            "Доля пропущенных значений в столбце total_income составляет 10.1%\n"
          ]
        }
      ],
      "source": [
        "# Проверим пропуски в столбцах days_employed и total_income\n",
        "days_missing_share = data['days_employed'].isna().sum()/len(data['days_employed']) # доля пропущенных значений в days_employed\n",
        "income_missing_share = data['total_income'].isna().sum()/len(data['total_income']) # доля пропущенных значений в total_income\n",
        "\n",
        "print(f'Доля пропущенных значений в столбце days_employed составляет {days_missing_share:.1%}')\n",
        "print(f'Доля пропущенных значений в столбце total_income составляет {income_missing_share:.1%}')"
      ]
    },
    {
      "cell_type": "code",
      "execution_count": null,
      "id": "522d27ae",
      "metadata": {
        "id": "522d27ae",
        "outputId": "814f0d2d-821c-433e-8356-df8460d6389b"
      },
      "outputs": [
        {
          "name": "stdout",
          "output_type": "stream",
          "text": [
            "Доля пропущенных значений в столбце days_employed составляет 10.1%\n",
            "Доля пропущенных значений в столбце total_income составляет 10.1%\n"
          ]
        }
      ],
      "source": [
        "days_missing_ratio = data['days_employed'].isna().mean() # доля пропущенных значений в days_employed\n",
        "income_missing_ratio = data['total_income'].isna().mean() # доля пропущенных значений в total_income\n",
        "\n",
        "print(f'Доля пропущенных значений в столбце days_employed составляет {days_missing_ratio:.1%}')\n",
        "print(f'Доля пропущенных значений в столбце total_income составляет {income_missing_ratio:.1%}')"
      ]
    },
    {
      "cell_type": "markdown",
      "id": "b76b0b56",
      "metadata": {
        "id": "b76b0b56"
      },
      "source": [
        "Доли пропущенных значений в обоих столбцах совпадают.\n",
        "<b>Гипотеза:</b> не пропущены ли данные в одних и тех же строках?"
      ]
    },
    {
      "cell_type": "code",
      "execution_count": null,
      "id": "b5e73820",
      "metadata": {
        "id": "b5e73820",
        "outputId": "f6397079-f331-46e9-a558-9105b3c22a88"
      },
      "outputs": [
        {
          "data": {
            "text/plain": [
              "children            2174\n",
              "days_employed          0\n",
              "dob_years           2174\n",
              "education           2174\n",
              "education_id        2174\n",
              "family_status       2174\n",
              "family_status_id    2174\n",
              "gender              2174\n",
              "income_type         2174\n",
              "debt                2174\n",
              "total_income           0\n",
              "purpose             2174\n",
              "dtype: int64"
            ]
          },
          "execution_count": 6,
          "metadata": {},
          "output_type": "execute_result"
        }
      ],
      "source": [
        "data[(data['days_employed'].isna() == True) & (data['total_income'].isna() == True)].count()"
      ]
    },
    {
      "cell_type": "markdown",
      "id": "2446212a",
      "metadata": {
        "id": "2446212a"
      },
      "source": [
        "<b>Вывод:</b> похоже, действительно данные пропущены в одних и тех же строках. \n",
        "\n",
        "<b>Возможная причина появления пропусков в данных:</b> при невнесенных днях стажа заработок также не рассчитывается."
      ]
    },
    {
      "cell_type": "code",
      "execution_count": null,
      "id": "7d503f13",
      "metadata": {
        "id": "7d503f13"
      },
      "outputs": [],
      "source": [
        "# Заполним пропуски в столбце days_employed средними значениями по типу занятости:\n",
        "data['days_employed'] = data.groupby('income_type')['days_employed'].fillna(data['days_employed'].mean())\n",
        "# Заполним пропуски в столбце total_income медианным значением по типу занятости:\n",
        "#data['total_income'] = data.groupby('income_type')['total_income'].fillna(data['total_income'].median())\n",
        "#data.isna().sum()"
      ]
    },
    {
      "cell_type": "code",
      "execution_count": null,
      "id": "b3a6eca1",
      "metadata": {
        "id": "b3a6eca1",
        "outputId": "ff0fc72c-e611-43ae-c9f6-2a1f786ba3a1"
      },
      "outputs": [
        {
          "data": {
            "text/plain": [
              "сотрудник          11119\n",
              "компаньон           5085\n",
              "пенсионер           3856\n",
              "госслужащий         1459\n",
              "предприниматель        2\n",
              "безработный            2\n",
              "студент                1\n",
              "в декрете              1\n",
              "Name: income_type, dtype: int64"
            ]
          },
          "execution_count": 8,
          "metadata": {},
          "output_type": "execute_result"
        }
      ],
      "source": [
        "# Проверим медианные значения заработка по типу занятости\n",
        "data['income_type'].value_counts() # анализ типов занятости"
      ]
    },
    {
      "cell_type": "code",
      "execution_count": null,
      "id": "f871b4e3",
      "metadata": {
        "id": "f871b4e3",
        "outputId": "b65b2bd4-d6ec-42fd-f8a7-45359711c803"
      },
      "outputs": [
        {
          "name": "stdout",
          "output_type": "stream",
          "text": [
            "Медианные заработки по типу занятости:\n",
            "Сотрудник: 142594.39684740017\n",
            "Компаньон: 172357.95096577113\n",
            "Пенсионер: 118514.48641164352\n",
            "Госслужащий: 150447.9352830068\n",
            "Предприниматель: 499163.1449470857\n",
            "Безработный: 131339.7516762103\n",
            "В декрете: 53829.13072905995\n",
            "Студент: 98201.62531401133\n"
          ]
        }
      ],
      "source": [
        "# медианный заработок сотрудника\n",
        "employee_income_median = data[data['income_type'] == 'сотрудник']['total_income'].median()\n",
        "# медианный заработок компаньона\n",
        "partner_income_median = data[data['income_type'] == 'компаньон']['total_income'].median()\n",
        "# медианный заработок пенсионера\n",
        "retired_income_median = data[data['income_type'] == 'пенсионер']['total_income'].median() \n",
        "# медианный заработок госслужащего\n",
        "official_income_median = data[data['income_type'] == 'госслужащий']['total_income'].median()\n",
        "# медианный заработок предпринимателя\n",
        "business_income_median = data[data['income_type'] == 'предприниматель']['total_income'].median()\n",
        "# медианный заработок безработного\n",
        "idle_income_median = data[data['income_type'] == 'безработный']['total_income'].median()\n",
        "# медианный заработок в декрете\n",
        "maternity_income_median = data[data['income_type'] == 'в декрете']['total_income'].median()\n",
        "# медианный заработок студента\n",
        "student_income_median = data[data['income_type'] == 'студент']['total_income'].median()\n",
        "print('Медианные заработки по типу занятости:')\n",
        "print('Сотрудник:', employee_income_median)\n",
        "print('Компаньон:', partner_income_median)\n",
        "print('Пенсионер:', retired_income_median)\n",
        "print('Госслужащий:', official_income_median)\n",
        "print('Предприниматель:', business_income_median)\n",
        "print('Безработный:', idle_income_median)\n",
        "print('В декрете:', maternity_income_median)\n",
        "print('Студент:', student_income_median)"
      ]
    },
    {
      "cell_type": "markdown",
      "id": "4aec1099",
      "metadata": {
        "id": "4aec1099"
      },
      "source": [
        "<div class=\"alert alert-block alert-info\">\n",
        "<b>Комментарий студента:</b> \n",
        "Медианные значение по каждому типу занятости выглядят достоверно. Заполним этими значениями пропуски по типу занятости.\n",
        "</div>"
      ]
    },
    {
      "cell_type": "code",
      "execution_count": null,
      "id": "e2b03245",
      "metadata": {
        "id": "e2b03245",
        "outputId": "e12de43b-61de-440d-b8f4-f417718a377b"
      },
      "outputs": [
        {
          "data": {
            "text/plain": [
              "children            0\n",
              "days_employed       0\n",
              "dob_years           0\n",
              "education           0\n",
              "education_id        0\n",
              "family_status       0\n",
              "family_status_id    0\n",
              "gender              0\n",
              "income_type         0\n",
              "debt                0\n",
              "total_income        1\n",
              "purpose             0\n",
              "dtype: int64"
            ]
          },
          "execution_count": 10,
          "metadata": {},
          "output_type": "execute_result"
        }
      ],
      "source": [
        "# Упорядочим процесс с помощью функции заполнения пропусков в столбце total_income медианным значением по типу занятости:\n",
        "def income_fillna(income_type, category):\n",
        "    condition = data['income_type'] == income_type\n",
        "    data.loc[condition, 'total_income'] = data.loc[condition, 'total_income'].fillna(category['total_income'].median())\n",
        "\n",
        "# Подготовим категории клиентов по типу заработка, по которым пройдемся функцией:\n",
        "employee = data[data['income_type'] == 'сотрудник']                                          \n",
        "partner = data[data['income_type'] == 'компаньон']  \n",
        "retired = data[data['income_type'] == 'пенсионер']\n",
        "official = data[data['income_type'] == 'госслужащий']\n",
        "business = data[data['income_type'] == 'предприниматель']\n",
        "idle = data[data['income_type'] == 'безработный']\n",
        "maternity = data[data['income_type'] == 'в декрете']  \n",
        "student = data[data['income_type'] == 'студент']\n",
        "  \n",
        "# Прогоним созданные переменные категорий заработка через функцию заполнения пропусков медианным значением income_fillna:                                           \n",
        "\n",
        "income_fillna('сотрудник', employee)\n",
        "income_fillna('компаньон', partner)\n",
        "income_fillna('пенсионер', retired)\n",
        "income_fillna('госслужащий', official)\n",
        "income_fillna('госслужащий', business)\n",
        "income_fillna('госслужащий', idle)\n",
        "income_fillna('госслужащий', maternity)\n",
        "income_fillna('госслужащий', student)                                               \n",
        "\n",
        "data.isna().sum()"
      ]
    },
    {
      "cell_type": "markdown",
      "id": "37f6ef03",
      "metadata": {
        "id": "37f6ef03"
      },
      "source": [
        "<div class=\"alert alert-block alert-info\">\n",
        "<b>Комментарий студента:</b> \n",
        "Остался еще один пропуск. Медиана не везде сработала, видимо. Поищем, где произошло упущение\n",
        "</div>"
      ]
    },
    {
      "cell_type": "code",
      "execution_count": null,
      "id": "4829bb45",
      "metadata": {
        "id": "4829bb45",
        "outputId": "2861faad-b50e-472c-89f7-7ce1f40d5a30"
      },
      "outputs": [
        {
          "data": {
            "text/html": [
              "<div>\n",
              "<style scoped>\n",
              "    .dataframe tbody tr th:only-of-type {\n",
              "        vertical-align: middle;\n",
              "    }\n",
              "\n",
              "    .dataframe tbody tr th {\n",
              "        vertical-align: top;\n",
              "    }\n",
              "\n",
              "    .dataframe thead th {\n",
              "        text-align: right;\n",
              "    }\n",
              "</style>\n",
              "<table border=\"1\" class=\"dataframe\">\n",
              "  <thead>\n",
              "    <tr style=\"text-align: right;\">\n",
              "      <th></th>\n",
              "      <th>children</th>\n",
              "      <th>days_employed</th>\n",
              "      <th>dob_years</th>\n",
              "      <th>education_id</th>\n",
              "      <th>family_status_id</th>\n",
              "      <th>debt</th>\n",
              "      <th>total_income</th>\n",
              "    </tr>\n",
              "  </thead>\n",
              "  <tbody>\n",
              "    <tr>\n",
              "      <td>count</td>\n",
              "      <td>2.0</td>\n",
              "      <td>2.000000</td>\n",
              "      <td>2.00000</td>\n",
              "      <td>2.0</td>\n",
              "      <td>2.000000</td>\n",
              "      <td>2.0</td>\n",
              "      <td>1.000000</td>\n",
              "    </tr>\n",
              "    <tr>\n",
              "      <td>mean</td>\n",
              "      <td>0.0</td>\n",
              "      <td>31262.824789</td>\n",
              "      <td>42.50000</td>\n",
              "      <td>0.0</td>\n",
              "      <td>0.500000</td>\n",
              "      <td>0.0</td>\n",
              "      <td>499163.144947</td>\n",
              "    </tr>\n",
              "    <tr>\n",
              "      <td>std</td>\n",
              "      <td>0.0</td>\n",
              "      <td>44948.901238</td>\n",
              "      <td>21.92031</td>\n",
              "      <td>0.0</td>\n",
              "      <td>0.707107</td>\n",
              "      <td>0.0</td>\n",
              "      <td>NaN</td>\n",
              "    </tr>\n",
              "    <tr>\n",
              "      <td>min</td>\n",
              "      <td>0.0</td>\n",
              "      <td>-520.848083</td>\n",
              "      <td>27.00000</td>\n",
              "      <td>0.0</td>\n",
              "      <td>0.000000</td>\n",
              "      <td>0.0</td>\n",
              "      <td>499163.144947</td>\n",
              "    </tr>\n",
              "    <tr>\n",
              "      <td>25%</td>\n",
              "      <td>0.0</td>\n",
              "      <td>15370.988353</td>\n",
              "      <td>34.75000</td>\n",
              "      <td>0.0</td>\n",
              "      <td>0.250000</td>\n",
              "      <td>0.0</td>\n",
              "      <td>499163.144947</td>\n",
              "    </tr>\n",
              "    <tr>\n",
              "      <td>50%</td>\n",
              "      <td>0.0</td>\n",
              "      <td>31262.824789</td>\n",
              "      <td>42.50000</td>\n",
              "      <td>0.0</td>\n",
              "      <td>0.500000</td>\n",
              "      <td>0.0</td>\n",
              "      <td>499163.144947</td>\n",
              "    </tr>\n",
              "    <tr>\n",
              "      <td>75%</td>\n",
              "      <td>0.0</td>\n",
              "      <td>47154.661225</td>\n",
              "      <td>50.25000</td>\n",
              "      <td>0.0</td>\n",
              "      <td>0.750000</td>\n",
              "      <td>0.0</td>\n",
              "      <td>499163.144947</td>\n",
              "    </tr>\n",
              "    <tr>\n",
              "      <td>max</td>\n",
              "      <td>0.0</td>\n",
              "      <td>63046.497661</td>\n",
              "      <td>58.00000</td>\n",
              "      <td>0.0</td>\n",
              "      <td>1.000000</td>\n",
              "      <td>0.0</td>\n",
              "      <td>499163.144947</td>\n",
              "    </tr>\n",
              "  </tbody>\n",
              "</table>\n",
              "</div>"
            ],
            "text/plain": [
              "       children  days_employed  dob_years  education_id  family_status_id  \\\n",
              "count       2.0       2.000000    2.00000           2.0          2.000000   \n",
              "mean        0.0   31262.824789   42.50000           0.0          0.500000   \n",
              "std         0.0   44948.901238   21.92031           0.0          0.707107   \n",
              "min         0.0    -520.848083   27.00000           0.0          0.000000   \n",
              "25%         0.0   15370.988353   34.75000           0.0          0.250000   \n",
              "50%         0.0   31262.824789   42.50000           0.0          0.500000   \n",
              "75%         0.0   47154.661225   50.25000           0.0          0.750000   \n",
              "max         0.0   63046.497661   58.00000           0.0          1.000000   \n",
              "\n",
              "       debt   total_income  \n",
              "count   2.0       1.000000  \n",
              "mean    0.0  499163.144947  \n",
              "std     0.0            NaN  \n",
              "min     0.0  499163.144947  \n",
              "25%     0.0  499163.144947  \n",
              "50%     0.0  499163.144947  \n",
              "75%     0.0  499163.144947  \n",
              "max     0.0  499163.144947  "
            ]
          },
          "execution_count": 11,
          "metadata": {},
          "output_type": "execute_result"
        }
      ],
      "source": [
        "# Перебором категорий обнаружен пропуск заработка среди предпринимателей\n",
        "business.describe()"
      ]
    },
    {
      "cell_type": "markdown",
      "id": "d13e12e7",
      "metadata": {
        "id": "d13e12e7"
      },
      "source": [
        "<div class=\"alert alert-block alert-info\">\n",
        "<b>Комментарий студента:</b> \n",
        "Судя по данным, в категории предпринимателей вообще только 2 строчки, а данные по заработку указаны только для одного клиента. Видимо, поэтому заполнение пропуска медианным значением и не сработало.\n",
        "Поскольку не могу судить о заработке второго предпринимателя и выборки по категории нет, предпочитаю избавиться от этого пропуска удалением строки.\n",
        "</div>"
      ]
    },
    {
      "cell_type": "code",
      "execution_count": null,
      "id": "cdf83e73",
      "metadata": {
        "id": "cdf83e73",
        "outputId": "a6ca1450-ff9a-4c8a-a0c9-602226a163ef"
      },
      "outputs": [
        {
          "data": {
            "text/plain": [
              "children            0\n",
              "days_employed       0\n",
              "dob_years           0\n",
              "education           0\n",
              "education_id        0\n",
              "family_status       0\n",
              "family_status_id    0\n",
              "gender              0\n",
              "income_type         0\n",
              "debt                0\n",
              "total_income        0\n",
              "purpose             0\n",
              "dtype: int64"
            ]
          },
          "execution_count": 12,
          "metadata": {},
          "output_type": "execute_result"
        }
      ],
      "source": [
        "data.drop(data.loc[(data['income_type'] == 'предприниматель') & (data['total_income'].isna())].index, inplace=True)\n",
        "data.isna().sum()"
      ]
    },
    {
      "cell_type": "markdown",
      "id": "abd2135e",
      "metadata": {
        "id": "abd2135e"
      },
      "source": [
        "<div class=\"alert alert-block alert-info\">\n",
        "<b>Комментарий студента:</b> \n",
        "Наконец, везде по ноликам. Надеюсь, все в порядке.\n",
        "</div>"
      ]
    },
    {
      "cell_type": "code",
      "execution_count": null,
      "id": "7c271156",
      "metadata": {
        "id": "7c271156",
        "outputId": "836f94e4-2cdb-4cac-c6de-ff9c52072fcb"
      },
      "outputs": [
        {
          "name": "stdout",
          "output_type": "stream",
          "text": [
            "Количество клиентов с указанием отрицательного стажа: 15906\n",
            "Количество клиентов с отрицательным числом детей: 47\n",
            "Количество клиентов с нулевым возрастом: 101\n",
            "Количество клиентов с 20 детьми: 76\n",
            "Количество клиентов с экстремальным стажем: 5618\n"
          ]
        }
      ],
      "source": [
        "# Проанализируем замеченные ранее аномалии количественно.\n",
        "print('Количество клиентов с указанием отрицательного стажа:', data[data['days_employed'] < 0]['days_employed'].count())\n",
        "print('Количество клиентов с отрицательным числом детей:', data[data['children'] < 0]['children'].count())\n",
        "print('Количество клиентов с нулевым возрастом:', data[data['dob_years'] == 0]['dob_years'].count())\n",
        "print('Количество клиентов с 20 детьми:', data[data['children'] >= 20]['children'].count())\n",
        "print('Количество клиентов с экстремальным стажем:', data[data['days_employed'] > 14600]['days_employed'].count()) \n",
        "# средний стаж до выхода на пенсию - 34.5 лет."
      ]
    },
    {
      "cell_type": "markdown",
      "id": "8a47bb2d",
      "metadata": {
        "id": "8a47bb2d"
      },
      "source": [
        "<b>Выводы</b>: \n",
        "1. Б<b>о</b>льшая часть значений 'days_employed' отрицательные. Такую долю значений удалять бессмысленно - попробуем взять значения по модулю.\n",
        "2. Аналогично с отрицательным количеством детей. Возможно, при вводе значений было введено тире для форматирования. Возьмем значения по модулю.\n",
        "3. Нулевой возраст - аномалия сродни пропущенному значению. Эти данные могли быть попросту не внесены.\n",
        "4. Экстремально многодетные семьи - большая роскошь. Может быть, при вводе данных случайно добавился \"0\". Попробуем исправить или учесть при категоризации.\n",
        "5. Зашкаливающий стаж у такой большой доли клиентов также кажется ошибкой."
      ]
    },
    {
      "cell_type": "markdown",
      "id": "23d1880a",
      "metadata": {
        "id": "23d1880a"
      },
      "source": [
        "### Шаг 2.2 Проверка данных на аномалии и исправления."
      ]
    },
    {
      "cell_type": "code",
      "execution_count": null,
      "id": "454bc2e5",
      "metadata": {
        "id": "454bc2e5"
      },
      "outputs": [],
      "source": [
        "# Приведем столбец education к строчному формату\n",
        "data['education'] = data['education'].str.lower()\n",
        "# Также приведем к строчному формату столбец family_status\n",
        "data['family_status'] = data['family_status'].str.lower()"
      ]
    },
    {
      "cell_type": "code",
      "execution_count": null,
      "id": "678fa78e",
      "metadata": {
        "id": "678fa78e",
        "outputId": "08f4ec65-36a5-4295-8fe2-f58dca6d93b8"
      },
      "outputs": [
        {
          "name": "stdout",
          "output_type": "stream",
          "text": [
            "Клиентов с отрицательным количеством детей 0\n"
          ]
        }
      ],
      "source": [
        "# Данные с отрицательным количеством детей предпочитаю взять по модулю, чтобы не терять драгоценные значения \"-1\"\n",
        "data['children'] = data['children'].abs()\n",
        "# Отрицательные значения стажа также беру по модулю\n",
        "data['days_employed'] = data['days_employed'].abs()\n",
        "# Проверка количества строк с отрицательным количеством детей\n",
        "print ('Клиентов с отрицательным количеством детей', data[data['children'] < 0]['children'].count())"
      ]
    },
    {
      "cell_type": "code",
      "execution_count": null,
      "id": "8d56996a",
      "metadata": {
        "id": "8d56996a",
        "outputId": "31e7f45b-b9d2-4a97-a8ca-312d45c863c2"
      },
      "outputs": [
        {
          "name": "stdout",
          "output_type": "stream",
          "text": [
            "Клиентов с нулевым возрастом 0\n"
          ]
        }
      ],
      "source": [
        "# Данные с указанием нулевого возраста предлагаю заменить на средние значения по типу занятости (ориентир - студент)\n",
        "data['dob_years'] = data['dob_years'].replace(0, int(data['dob_years'].mean()))\n",
        "# Проверка количества строк с нулевым значением возраста\n",
        "print('Клиентов с нулевым возрастом', data[data['dob_years'] == 0]['dob_years'].count())"
      ]
    },
    {
      "cell_type": "code",
      "execution_count": null,
      "id": "bf332bbf",
      "metadata": {
        "id": "bf332bbf",
        "outputId": "b4bb9ab4-cf17-4dea-fec9-d37c8a38be07"
      },
      "outputs": [
        {
          "data": {
            "text/html": [
              "<div>\n",
              "<style scoped>\n",
              "    .dataframe tbody tr th:only-of-type {\n",
              "        vertical-align: middle;\n",
              "    }\n",
              "\n",
              "    .dataframe tbody tr th {\n",
              "        vertical-align: top;\n",
              "    }\n",
              "\n",
              "    .dataframe thead th {\n",
              "        text-align: right;\n",
              "    }\n",
              "</style>\n",
              "<table border=\"1\" class=\"dataframe\">\n",
              "  <thead>\n",
              "    <tr style=\"text-align: right;\">\n",
              "      <th></th>\n",
              "      <th>children</th>\n",
              "      <th>days_employed</th>\n",
              "      <th>dob_years</th>\n",
              "      <th>education_id</th>\n",
              "      <th>family_status_id</th>\n",
              "      <th>debt</th>\n",
              "      <th>total_income</th>\n",
              "    </tr>\n",
              "  </thead>\n",
              "  <tbody>\n",
              "    <tr>\n",
              "      <td>count</td>\n",
              "      <td>21524.000000</td>\n",
              "      <td>21524.000000</td>\n",
              "      <td>21524.000000</td>\n",
              "      <td>21524.000000</td>\n",
              "      <td>21524.000000</td>\n",
              "      <td>21524.000000</td>\n",
              "      <td>2.152400e+04</td>\n",
              "    </tr>\n",
              "    <tr>\n",
              "      <td>mean</td>\n",
              "      <td>0.543301</td>\n",
              "      <td>66524.203610</td>\n",
              "      <td>43.494471</td>\n",
              "      <td>0.817274</td>\n",
              "      <td>0.972589</td>\n",
              "      <td>0.080886</td>\n",
              "      <td>1.652098e+05</td>\n",
              "    </tr>\n",
              "    <tr>\n",
              "      <td>std</td>\n",
              "      <td>1.379903</td>\n",
              "      <td>131830.933030</td>\n",
              "      <td>12.218097</td>\n",
              "      <td>0.548123</td>\n",
              "      <td>1.420341</td>\n",
              "      <td>0.272667</td>\n",
              "      <td>9.801952e+04</td>\n",
              "    </tr>\n",
              "    <tr>\n",
              "      <td>min</td>\n",
              "      <td>0.000000</td>\n",
              "      <td>24.141633</td>\n",
              "      <td>19.000000</td>\n",
              "      <td>0.000000</td>\n",
              "      <td>0.000000</td>\n",
              "      <td>0.000000</td>\n",
              "      <td>2.066726e+04</td>\n",
              "    </tr>\n",
              "    <tr>\n",
              "      <td>25%</td>\n",
              "      <td>0.000000</td>\n",
              "      <td>1025.593536</td>\n",
              "      <td>34.000000</td>\n",
              "      <td>1.000000</td>\n",
              "      <td>0.000000</td>\n",
              "      <td>0.000000</td>\n",
              "      <td>1.077960e+05</td>\n",
              "    </tr>\n",
              "    <tr>\n",
              "      <td>50%</td>\n",
              "      <td>0.000000</td>\n",
              "      <td>2609.705632</td>\n",
              "      <td>43.000000</td>\n",
              "      <td>1.000000</td>\n",
              "      <td>0.000000</td>\n",
              "      <td>0.000000</td>\n",
              "      <td>1.425944e+05</td>\n",
              "    </tr>\n",
              "    <tr>\n",
              "      <td>75%</td>\n",
              "      <td>1.000000</td>\n",
              "      <td>63046.497661</td>\n",
              "      <td>53.000000</td>\n",
              "      <td>1.000000</td>\n",
              "      <td>1.000000</td>\n",
              "      <td>0.000000</td>\n",
              "      <td>1.955452e+05</td>\n",
              "    </tr>\n",
              "    <tr>\n",
              "      <td>max</td>\n",
              "      <td>20.000000</td>\n",
              "      <td>401755.400475</td>\n",
              "      <td>75.000000</td>\n",
              "      <td>4.000000</td>\n",
              "      <td>4.000000</td>\n",
              "      <td>1.000000</td>\n",
              "      <td>2.265604e+06</td>\n",
              "    </tr>\n",
              "  </tbody>\n",
              "</table>\n",
              "</div>"
            ],
            "text/plain": [
              "           children  days_employed     dob_years  education_id  \\\n",
              "count  21524.000000   21524.000000  21524.000000  21524.000000   \n",
              "mean       0.543301   66524.203610     43.494471      0.817274   \n",
              "std        1.379903  131830.933030     12.218097      0.548123   \n",
              "min        0.000000      24.141633     19.000000      0.000000   \n",
              "25%        0.000000    1025.593536     34.000000      1.000000   \n",
              "50%        0.000000    2609.705632     43.000000      1.000000   \n",
              "75%        1.000000   63046.497661     53.000000      1.000000   \n",
              "max       20.000000  401755.400475     75.000000      4.000000   \n",
              "\n",
              "       family_status_id          debt  total_income  \n",
              "count      21524.000000  21524.000000  2.152400e+04  \n",
              "mean           0.972589      0.080886  1.652098e+05  \n",
              "std            1.420341      0.272667  9.801952e+04  \n",
              "min            0.000000      0.000000  2.066726e+04  \n",
              "25%            0.000000      0.000000  1.077960e+05  \n",
              "50%            0.000000      0.000000  1.425944e+05  \n",
              "75%            1.000000      0.000000  1.955452e+05  \n",
              "max            4.000000      1.000000  2.265604e+06  "
            ]
          },
          "execution_count": 17,
          "metadata": {},
          "output_type": "execute_result"
        }
      ],
      "source": [
        "# Проверим общие данные датафрейма после манипуляций\n",
        "data.describe()"
      ]
    },
    {
      "cell_type": "markdown",
      "id": "9c233de6",
      "metadata": {
        "id": "9c233de6"
      },
      "source": [
        "<b>Вывод</b>\n",
        "\n",
        "Явные аномалии удалены. Данные выглядят более адекватными."
      ]
    },
    {
      "cell_type": "markdown",
      "id": "6893602a",
      "metadata": {
        "id": "6893602a"
      },
      "source": [
        "<div class=\"alert alert-block alert-info\">\n",
        "<b>Комментарий студента:</b> \n",
        "Если предположить гипотезу, что в аномальную численность детей закралась опечатка (скажем, дополнительный \"0\"), произведем замену \"20\" на \"2\".\n",
        "</div>"
      ]
    },
    {
      "cell_type": "code",
      "execution_count": null,
      "id": "9e31a30d",
      "metadata": {
        "id": "9e31a30d",
        "outputId": "0a648cc9-61d0-4221-90a5-f0b086dd734d"
      },
      "outputs": [
        {
          "data": {
            "text/plain": [
              "children\n",
              "0    14148\n",
              "1     4865\n",
              "2     2131\n",
              "3      330\n",
              "4       41\n",
              "5        9\n",
              "Name: children, dtype: int64"
            ]
          },
          "execution_count": 18,
          "metadata": {},
          "output_type": "execute_result"
        }
      ],
      "source": [
        "data['children'] = data['children'].replace(20, 2)\n",
        "data.groupby('children')['children'].count()"
      ]
    },
    {
      "cell_type": "markdown",
      "id": "ef5fd565",
      "metadata": {
        "id": "ef5fd565"
      },
      "source": [
        "<div class=\"alert alert-block alert-info\">\n",
        "<b>Комментарий студента:</b> \n",
        "Аномальная численность детей исключена из выборки.\n",
        "</div>"
      ]
    },
    {
      "cell_type": "markdown",
      "id": "21f0c31e",
      "metadata": {
        "id": "21f0c31e"
      },
      "source": [
        "<div class=\"alert alert-block alert-info\">\n",
        "<b>Комментарий студента:</b> \n",
        "Изучим столбец с гендерной принадлежностью клиентов.\n",
        "</div>"
      ]
    },
    {
      "cell_type": "code",
      "execution_count": null,
      "id": "68a57465",
      "metadata": {
        "id": "68a57465",
        "outputId": "8fed1018-0269-45f0-bc80-fb6cc04e4887"
      },
      "outputs": [
        {
          "data": {
            "text/plain": [
              "gender\n",
              "F      14236\n",
              "M       7287\n",
              "XNA        1\n",
              "Name: gender, dtype: int64"
            ]
          },
          "execution_count": 19,
          "metadata": {},
          "output_type": "execute_result"
        }
      ],
      "source": [
        "data.groupby('gender')['gender'].count()"
      ]
    },
    {
      "cell_type": "markdown",
      "id": "90dde391",
      "metadata": {
        "id": "90dde391"
      },
      "source": [
        "<div class=\"alert alert-block alert-info\">\n",
        "<b>Комментарий студента:</b> \n",
        "Женщин-клиентов почти вдвое больше, чем мужчин-клиентов. Пропусков не выявлено, но есть подозрительное значение XNA. Поскольку оно встречается всего один раз, попробуем этой строкой пренебречь и исключить из выборки.\n",
        "</div>"
      ]
    },
    {
      "cell_type": "code",
      "execution_count": null,
      "id": "2f91a624",
      "metadata": {
        "id": "2f91a624",
        "outputId": "71f76255-b704-49f9-eeab-4671e32ef1e8"
      },
      "outputs": [
        {
          "data": {
            "text/plain": [
              "gender\n",
              "F    14236\n",
              "M     7287\n",
              "Name: gender, dtype: int64"
            ]
          },
          "execution_count": 20,
          "metadata": {},
          "output_type": "execute_result"
        }
      ],
      "source": [
        "data.drop(data.loc[data['gender'] == 'XNA'].index, inplace=True)\n",
        "data.groupby('gender')['gender'].count()"
      ]
    },
    {
      "cell_type": "markdown",
      "id": "e68f10ec",
      "metadata": {
        "id": "e68f10ec"
      },
      "source": [
        "<div class=\"alert alert-block alert-info\">\n",
        "<b>Комментарий студента:</b> \n",
        "Явные аномалии исключены. Попробуем поработать с данными дальше.\n",
        "</div>"
      ]
    },
    {
      "cell_type": "markdown",
      "id": "499de4f8",
      "metadata": {
        "id": "499de4f8"
      },
      "source": [
        "### Шаг 2.3. Изменение типов данных."
      ]
    },
    {
      "cell_type": "code",
      "execution_count": null,
      "id": "2210fbf3",
      "metadata": {
        "id": "2210fbf3",
        "outputId": "410e810e-9cac-4207-815e-559add2c6fb6"
      },
      "outputs": [
        {
          "data": {
            "text/plain": [
              "children              int64\n",
              "days_employed       float64\n",
              "dob_years             int64\n",
              "education            object\n",
              "education_id          int64\n",
              "family_status        object\n",
              "family_status_id      int64\n",
              "gender               object\n",
              "income_type          object\n",
              "debt                  int64\n",
              "total_income          int64\n",
              "purpose              object\n",
              "dtype: object"
            ]
          },
          "execution_count": 21,
          "metadata": {},
          "output_type": "execute_result"
        }
      ],
      "source": [
        "# Заменим вещественный тип данных в столбце total_income на целочисленный с помощью метода astype()\n",
        "data['total_income'] = data['total_income'].astype('int')\n",
        "# Проверим типы данных в датафрейма\n",
        "data.dtypes"
      ]
    },
    {
      "cell_type": "markdown",
      "id": "244eb253",
      "metadata": {
        "id": "244eb253"
      },
      "source": [
        "<b>Вывод</b>\n",
        "В целом типы данных для наших целей везде выглядят корректно."
      ]
    },
    {
      "cell_type": "markdown",
      "id": "0ad2f6ee",
      "metadata": {
        "id": "0ad2f6ee"
      },
      "source": [
        "### Шаг 2.4. Удаление дубликатов."
      ]
    },
    {
      "cell_type": "markdown",
      "id": "65c94a6e",
      "metadata": {
        "id": "65c94a6e"
      },
      "source": [
        "В данных присутствуют строки-дубликаты, удалим их. Также обработаем неявные дубликаты. Например, в столбце education есть одни и те же значения, но записанные по-разному: с использованием заглавных и строчных букв. Приведем их к одному регистру. Проверим остальные столбцы. После удаления дубликатов сделаем следующее:\n",
        "- поясним, как выбрали метод для поиска и удаления дубликатов в данных\n",
        "- приведем возможные причины появления дубликатов"
      ]
    },
    {
      "cell_type": "code",
      "execution_count": null,
      "id": "38c6be3c",
      "metadata": {
        "id": "38c6be3c",
        "outputId": "a4044407-48f5-4b00-ac02-7c0d77faafee"
      },
      "outputs": [
        {
          "data": {
            "text/plain": [
              "71"
            ]
          },
          "execution_count": 22,
          "metadata": {},
          "output_type": "execute_result"
        }
      ],
      "source": [
        "# Проверим суммарное число дубликатов по датафрейму:\n",
        "data.duplicated().sum()"
      ]
    },
    {
      "cell_type": "code",
      "execution_count": null,
      "id": "5ba5b228",
      "metadata": {
        "id": "5ba5b228",
        "outputId": "d22177b4-3bdf-48fc-926d-7787cd6059e8"
      },
      "outputs": [
        {
          "data": {
            "text/html": [
              "<div>\n",
              "<style scoped>\n",
              "    .dataframe tbody tr th:only-of-type {\n",
              "        vertical-align: middle;\n",
              "    }\n",
              "\n",
              "    .dataframe tbody tr th {\n",
              "        vertical-align: top;\n",
              "    }\n",
              "\n",
              "    .dataframe thead th {\n",
              "        text-align: right;\n",
              "    }\n",
              "</style>\n",
              "<table border=\"1\" class=\"dataframe\">\n",
              "  <thead>\n",
              "    <tr style=\"text-align: right;\">\n",
              "      <th></th>\n",
              "      <th>children</th>\n",
              "      <th>days_employed</th>\n",
              "      <th>dob_years</th>\n",
              "      <th>education</th>\n",
              "      <th>education_id</th>\n",
              "      <th>family_status</th>\n",
              "      <th>family_status_id</th>\n",
              "      <th>gender</th>\n",
              "      <th>income_type</th>\n",
              "      <th>debt</th>\n",
              "      <th>total_income</th>\n",
              "      <th>purpose</th>\n",
              "    </tr>\n",
              "  </thead>\n",
              "  <tbody>\n",
              "    <tr>\n",
              "      <td>1005</td>\n",
              "      <td>0</td>\n",
              "      <td>63046.497661</td>\n",
              "      <td>62</td>\n",
              "      <td>среднее</td>\n",
              "      <td>1</td>\n",
              "      <td>женат / замужем</td>\n",
              "      <td>0</td>\n",
              "      <td>F</td>\n",
              "      <td>пенсионер</td>\n",
              "      <td>0</td>\n",
              "      <td>118514</td>\n",
              "      <td>ремонт жилью</td>\n",
              "    </tr>\n",
              "    <tr>\n",
              "      <td>1191</td>\n",
              "      <td>0</td>\n",
              "      <td>63046.497661</td>\n",
              "      <td>61</td>\n",
              "      <td>среднее</td>\n",
              "      <td>1</td>\n",
              "      <td>женат / замужем</td>\n",
              "      <td>0</td>\n",
              "      <td>F</td>\n",
              "      <td>пенсионер</td>\n",
              "      <td>0</td>\n",
              "      <td>118514</td>\n",
              "      <td>операции с недвижимостью</td>\n",
              "    </tr>\n",
              "    <tr>\n",
              "      <td>1511</td>\n",
              "      <td>0</td>\n",
              "      <td>63046.497661</td>\n",
              "      <td>58</td>\n",
              "      <td>высшее</td>\n",
              "      <td>0</td>\n",
              "      <td>не женат / не замужем</td>\n",
              "      <td>4</td>\n",
              "      <td>F</td>\n",
              "      <td>пенсионер</td>\n",
              "      <td>0</td>\n",
              "      <td>118514</td>\n",
              "      <td>дополнительное образование</td>\n",
              "    </tr>\n",
              "    <tr>\n",
              "      <td>1681</td>\n",
              "      <td>0</td>\n",
              "      <td>63046.497661</td>\n",
              "      <td>57</td>\n",
              "      <td>среднее</td>\n",
              "      <td>1</td>\n",
              "      <td>гражданский брак</td>\n",
              "      <td>1</td>\n",
              "      <td>F</td>\n",
              "      <td>пенсионер</td>\n",
              "      <td>0</td>\n",
              "      <td>118514</td>\n",
              "      <td>на проведение свадьбы</td>\n",
              "    </tr>\n",
              "    <tr>\n",
              "      <td>2052</td>\n",
              "      <td>0</td>\n",
              "      <td>63046.497661</td>\n",
              "      <td>58</td>\n",
              "      <td>среднее</td>\n",
              "      <td>1</td>\n",
              "      <td>гражданский брак</td>\n",
              "      <td>1</td>\n",
              "      <td>F</td>\n",
              "      <td>пенсионер</td>\n",
              "      <td>0</td>\n",
              "      <td>118514</td>\n",
              "      <td>сыграть свадьбу</td>\n",
              "    </tr>\n",
              "    <tr>\n",
              "      <td>...</td>\n",
              "      <td>...</td>\n",
              "      <td>...</td>\n",
              "      <td>...</td>\n",
              "      <td>...</td>\n",
              "      <td>...</td>\n",
              "      <td>...</td>\n",
              "      <td>...</td>\n",
              "      <td>...</td>\n",
              "      <td>...</td>\n",
              "      <td>...</td>\n",
              "      <td>...</td>\n",
              "      <td>...</td>\n",
              "    </tr>\n",
              "    <tr>\n",
              "      <td>16148</td>\n",
              "      <td>0</td>\n",
              "      <td>63046.497661</td>\n",
              "      <td>45</td>\n",
              "      <td>среднее</td>\n",
              "      <td>1</td>\n",
              "      <td>гражданский брак</td>\n",
              "      <td>1</td>\n",
              "      <td>F</td>\n",
              "      <td>компаньон</td>\n",
              "      <td>0</td>\n",
              "      <td>172357</td>\n",
              "      <td>свадьба</td>\n",
              "    </tr>\n",
              "    <tr>\n",
              "      <td>17379</td>\n",
              "      <td>0</td>\n",
              "      <td>63046.497661</td>\n",
              "      <td>54</td>\n",
              "      <td>высшее</td>\n",
              "      <td>0</td>\n",
              "      <td>женат / замужем</td>\n",
              "      <td>0</td>\n",
              "      <td>M</td>\n",
              "      <td>компаньон</td>\n",
              "      <td>0</td>\n",
              "      <td>172357</td>\n",
              "      <td>операции с коммерческой недвижимостью</td>\n",
              "    </tr>\n",
              "    <tr>\n",
              "      <td>17774</td>\n",
              "      <td>1</td>\n",
              "      <td>63046.497661</td>\n",
              "      <td>40</td>\n",
              "      <td>среднее</td>\n",
              "      <td>1</td>\n",
              "      <td>гражданский брак</td>\n",
              "      <td>1</td>\n",
              "      <td>F</td>\n",
              "      <td>компаньон</td>\n",
              "      <td>0</td>\n",
              "      <td>172357</td>\n",
              "      <td>строительство жилой недвижимости</td>\n",
              "    </tr>\n",
              "    <tr>\n",
              "      <td>19369</td>\n",
              "      <td>0</td>\n",
              "      <td>63046.497661</td>\n",
              "      <td>45</td>\n",
              "      <td>среднее</td>\n",
              "      <td>1</td>\n",
              "      <td>гражданский брак</td>\n",
              "      <td>1</td>\n",
              "      <td>F</td>\n",
              "      <td>компаньон</td>\n",
              "      <td>0</td>\n",
              "      <td>172357</td>\n",
              "      <td>свадьба</td>\n",
              "    </tr>\n",
              "    <tr>\n",
              "      <td>19387</td>\n",
              "      <td>0</td>\n",
              "      <td>63046.497661</td>\n",
              "      <td>38</td>\n",
              "      <td>высшее</td>\n",
              "      <td>0</td>\n",
              "      <td>гражданский брак</td>\n",
              "      <td>1</td>\n",
              "      <td>F</td>\n",
              "      <td>компаньон</td>\n",
              "      <td>0</td>\n",
              "      <td>172357</td>\n",
              "      <td>на проведение свадьбы</td>\n",
              "    </tr>\n",
              "  </tbody>\n",
              "</table>\n",
              "<p>137 rows × 12 columns</p>\n",
              "</div>"
            ],
            "text/plain": [
              "       children  days_employed  dob_years education  education_id  \\\n",
              "1005          0   63046.497661         62   среднее             1   \n",
              "1191          0   63046.497661         61   среднее             1   \n",
              "1511          0   63046.497661         58    высшее             0   \n",
              "1681          0   63046.497661         57   среднее             1   \n",
              "2052          0   63046.497661         58   среднее             1   \n",
              "...         ...            ...        ...       ...           ...   \n",
              "16148         0   63046.497661         45   среднее             1   \n",
              "17379         0   63046.497661         54    высшее             0   \n",
              "17774         1   63046.497661         40   среднее             1   \n",
              "19369         0   63046.497661         45   среднее             1   \n",
              "19387         0   63046.497661         38    высшее             0   \n",
              "\n",
              "               family_status  family_status_id gender income_type  debt  \\\n",
              "1005         женат / замужем                 0      F   пенсионер     0   \n",
              "1191         женат / замужем                 0      F   пенсионер     0   \n",
              "1511   не женат / не замужем                 4      F   пенсионер     0   \n",
              "1681        гражданский брак                 1      F   пенсионер     0   \n",
              "2052        гражданский брак                 1      F   пенсионер     0   \n",
              "...                      ...               ...    ...         ...   ...   \n",
              "16148       гражданский брак                 1      F   компаньон     0   \n",
              "17379        женат / замужем                 0      M   компаньон     0   \n",
              "17774       гражданский брак                 1      F   компаньон     0   \n",
              "19369       гражданский брак                 1      F   компаньон     0   \n",
              "19387       гражданский брак                 1      F   компаньон     0   \n",
              "\n",
              "       total_income                                purpose  \n",
              "1005         118514                           ремонт жилью  \n",
              "1191         118514               операции с недвижимостью  \n",
              "1511         118514             дополнительное образование  \n",
              "1681         118514                  на проведение свадьбы  \n",
              "2052         118514                        сыграть свадьбу  \n",
              "...             ...                                    ...  \n",
              "16148        172357                                свадьба  \n",
              "17379        172357  операции с коммерческой недвижимостью  \n",
              "17774        172357       строительство жилой недвижимости  \n",
              "19369        172357                                свадьба  \n",
              "19387        172357                  на проведение свадьбы  \n",
              "\n",
              "[137 rows x 12 columns]"
            ]
          },
          "execution_count": 23,
          "metadata": {},
          "output_type": "execute_result"
        }
      ],
      "source": [
        "# Изучим данные по дубликатам\n",
        "data[data.duplicated(keep=False)].sort_values(by=['total_income', 'days_employed'])"
      ]
    },
    {
      "cell_type": "markdown",
      "id": "bfeaece6",
      "metadata": {
        "id": "bfeaece6"
      },
      "source": [
        "<b>Вывод:</b> действительно похоже на явные дубликаты, вероятно, по причине задвоения данных. Думаю, их можно смело удалить."
      ]
    },
    {
      "cell_type": "code",
      "execution_count": null,
      "id": "49b10589",
      "metadata": {
        "id": "49b10589"
      },
      "outputs": [],
      "source": [
        "# Удаляем дубликаты\n",
        "data = data.drop_duplicates()"
      ]
    },
    {
      "cell_type": "code",
      "execution_count": null,
      "id": "e3fa82e2",
      "metadata": {
        "id": "e3fa82e2",
        "outputId": "9bcdaab6-1ba3-494b-aaf1-4a6d218a78ca"
      },
      "outputs": [
        {
          "data": {
            "text/plain": [
              "0"
            ]
          },
          "execution_count": 25,
          "metadata": {},
          "output_type": "execute_result"
        }
      ],
      "source": [
        "# Проверим удаление дубликатов\n",
        "data.duplicated().sum()"
      ]
    },
    {
      "cell_type": "markdown",
      "id": "e09129ee",
      "metadata": {
        "id": "e09129ee"
      },
      "source": [
        "<b>Вывод:</b> явные дубликаты удалены."
      ]
    },
    {
      "cell_type": "markdown",
      "id": "8c333094",
      "metadata": {
        "id": "8c333094"
      },
      "source": [
        "### Шаг 2.5. Формирование дополнительных датафреймов словарей, декомпозиция исходного датафрейма."
      ]
    },
    {
      "cell_type": "markdown",
      "id": "d54a7b9d",
      "metadata": {
        "id": "d54a7b9d"
      },
      "source": [
        "Создадим два новых датафрейма со столбцами:\n",
        "- education_id и education - в первом;\n",
        "- family_status_id и family_status - во втором."
      ]
    },
    {
      "cell_type": "code",
      "execution_count": null,
      "id": "d07ddb0b",
      "metadata": {
        "id": "d07ddb0b",
        "outputId": "82cdc375-6a73-4834-e770-01bb5dc7f471"
      },
      "outputs": [
        {
          "name": "stdout",
          "output_type": "stream",
          "text": [
            "  education  education_id\n",
            "0    высшее             0\n",
            "1   среднее             1\n",
            "2   среднее             1\n",
            "3   среднее             1\n",
            "4   среднее             1\n",
            "5    высшее             0\n",
            "6    высшее             0\n",
            "7   среднее             1\n",
            "8    высшее             0\n",
            "9   среднее             1\n",
            "      family_status  family_status_id\n",
            "0   женат / замужем                 0\n",
            "1   женат / замужем                 0\n",
            "2   женат / замужем                 0\n",
            "3   женат / замужем                 0\n",
            "4  гражданский брак                 1\n",
            "5  гражданский брак                 1\n",
            "6   женат / замужем                 0\n",
            "7   женат / замужем                 0\n",
            "8  гражданский брак                 1\n",
            "9   женат / замужем                 0\n"
          ]
        }
      ],
      "source": [
        "data_dict_one = data[['education', 'education_id']]\n",
        "print(data_dict_one.head(10))\n",
        "data_dict_two = data[['family_status', 'family_status_id']]\n",
        "print(data_dict_two.head(10))"
      ]
    },
    {
      "cell_type": "code",
      "execution_count": null,
      "id": "a3f38713",
      "metadata": {
        "id": "a3f38713",
        "outputId": "c8bbc397-4ea8-445a-e358-25ca535d7b17"
      },
      "outputs": [
        {
          "name": "stdout",
          "output_type": "stream",
          "text": [
            "           children  days_employed     dob_years  education_id  \\\n",
            "count  21452.000000   21452.000000  21452.000000  21452.000000   \n",
            "mean       0.480608   66538.704949     43.473895      0.817080   \n",
            "std        0.756090  132051.112971     12.212950      0.548612   \n",
            "min        0.000000      24.141633     19.000000      0.000000   \n",
            "25%        0.000000    1023.688788     33.000000      1.000000   \n",
            "50%        0.000000    2591.855682     43.000000      1.000000   \n",
            "75%        1.000000   63046.497661     53.000000      1.000000   \n",
            "max        5.000000  401755.400475     75.000000      4.000000   \n",
            "\n",
            "       family_status_id          debt  total_income  \n",
            "count      21452.000000  21452.000000  2.145200e+04  \n",
            "mean           0.973942      0.081158  1.653022e+05  \n",
            "std            1.421618      0.273084  9.816507e+04  \n",
            "min            0.000000      0.000000  2.066700e+04  \n",
            "25%            0.000000      0.000000  1.076082e+05  \n",
            "50%            0.000000      0.000000  1.425940e+05  \n",
            "75%            1.000000      0.000000  1.958038e+05  \n",
            "max            4.000000      1.000000  2.265604e+06  \n"
          ]
        }
      ],
      "source": [
        "# Удалим из исходного датафрейма столбцы education и family_status, \n",
        "# оставив только их идентификаторы: education_id и family_status_id. \n",
        "# Новые датафреймы - это те самые \"словари\" (не путаем с одноименной структурой данных в Python), \n",
        "# к которым  мы сможем обращаться по идентификатору.\n",
        "\n",
        "data_new = data.drop(['education', 'family_status'], axis=1)\n",
        "print(data_new.describe())"
      ]
    },
    {
      "cell_type": "markdown",
      "id": "06734b76",
      "metadata": {
        "id": "06734b76"
      },
      "source": [
        "<div class=\"alert alert-block alert-info\">\n",
        "<b>Комментарий студента:</b> \n",
        "Удалим дубликаты из таблиц-словарей.\n",
        "</div>"
      ]
    },
    {
      "cell_type": "code",
      "execution_count": null,
      "id": "ac6ef2d0",
      "metadata": {
        "id": "ac6ef2d0",
        "outputId": "fba3db81-f8d7-4ff8-909c-e7b395668a3c"
      },
      "outputs": [
        {
          "name": "stdout",
          "output_type": "stream",
          "text": [
            "             education  education_id\n",
            "0               высшее             0\n",
            "1              среднее             1\n",
            "2  неоконченное высшее             2\n",
            "3            начальное             3\n",
            "4       ученая степень             4\n"
          ]
        }
      ],
      "source": [
        "data_dict_one = data_dict_one.drop_duplicates().reset_index(drop=True)\n",
        "print(data_dict_one.head()) "
      ]
    },
    {
      "cell_type": "code",
      "execution_count": null,
      "id": "1d06828d",
      "metadata": {
        "id": "1d06828d",
        "outputId": "4f583a69-34ce-4655-ff0c-f8fa949aa05f"
      },
      "outputs": [
        {
          "name": "stdout",
          "output_type": "stream",
          "text": [
            "           family_status  family_status_id\n",
            "0        женат / замужем                 0\n",
            "1       гражданский брак                 1\n",
            "2         вдовец / вдова                 2\n",
            "3              в разводе                 3\n",
            "4  не женат / не замужем                 4\n"
          ]
        }
      ],
      "source": [
        "data_dict_two = data_dict_two.drop_duplicates().reset_index(drop=True)\n",
        "print(data_dict_two.head()) "
      ]
    },
    {
      "cell_type": "markdown",
      "id": "2103c6d7",
      "metadata": {
        "id": "2103c6d7"
      },
      "source": [
        "### Шаг 2.6. Категоризация дохода."
      ]
    },
    {
      "cell_type": "markdown",
      "id": "a34bfd76",
      "metadata": {
        "id": "a34bfd76"
      },
      "source": [
        "На основании диапазонов, указанных ниже, создадим столбец total_income_category с категориями:\n",
        "\n",
        "- 0–30000 — 'E';\n",
        "- 30001–50000 — 'D';\n",
        "- 50001–200000 — 'C';\n",
        "- 200001–1000000 — 'B';\n",
        "- 1000001 и выше — 'A'."
      ]
    },
    {
      "cell_type": "code",
      "execution_count": null,
      "id": "7f6c70bc",
      "metadata": {
        "id": "7f6c70bc"
      },
      "outputs": [],
      "source": [
        "def total_income_category(row):\n",
        "    if row['total_income'] <= 30000:\n",
        "        return 'E'\n",
        "    elif 30000 < row['total_income'] <= 50000:\n",
        "        return 'D'\n",
        "    elif 50000 < row['total_income'] <= 200000:\n",
        "        return 'C'\n",
        "    elif 200000 < row['total_income'] <= 1000000:\n",
        "        return 'B'\n",
        "    else:\n",
        "        return 'A'"
      ]
    },
    {
      "cell_type": "code",
      "execution_count": null,
      "id": "878b9245",
      "metadata": {
        "id": "878b9245",
        "outputId": "2d52fa70-26e4-4691-bf25-f9a6be686c9d"
      },
      "outputs": [
        {
          "data": {
            "text/plain": [
              "C    16015\n",
              "B     5040\n",
              "D      350\n",
              "A       25\n",
              "E       22\n",
              "Name: total_income_category, dtype: int64"
            ]
          },
          "execution_count": 31,
          "metadata": {},
          "output_type": "execute_result"
        }
      ],
      "source": [
        "data_new['total_income_category'] = data_new.apply(total_income_category, axis=1)\n",
        "data_new['total_income_category'].value_counts()"
      ]
    },
    {
      "cell_type": "markdown",
      "id": "5ba905a0",
      "metadata": {
        "id": "5ba905a0"
      },
      "source": [
        "<b>Вывод:</b> самая распространенная категория клиентов - с доходом от 50000 рублей до 200000 рублей."
      ]
    },
    {
      "cell_type": "markdown",
      "id": "c8a71991",
      "metadata": {
        "id": "c8a71991"
      },
      "source": [
        "### Шаг 2.7. Категоризация целей кредита."
      ]
    },
    {
      "cell_type": "markdown",
      "id": "09d17620",
      "metadata": {
        "id": "09d17620"
      },
      "source": [
        "Создадим функцию, которая на основании данных из столбца purpose сформирует новый столбец purpose_category, в который войдут следующие категории:\n",
        "\n",
        "- 'операции с автомобилем',\n",
        "\n",
        "- 'операции с недвижимостью',\n",
        "\n",
        "- 'проведение свадьбы',\n",
        "\n",
        "- 'получение образования'."
      ]
    },
    {
      "cell_type": "code",
      "execution_count": null,
      "id": "a8419c88",
      "metadata": {
        "id": "a8419c88",
        "outputId": "dfc8f273-0798-46ef-f4e7-992273b2e9ae"
      },
      "outputs": [
        {
          "data": {
            "text/plain": [
              "purpose\n",
              "автомобили                                478\n",
              "автомобиль                                494\n",
              "высшее образование                        452\n",
              "дополнительное образование                460\n",
              "жилье                                     646\n",
              "заняться высшим образованием              496\n",
              "заняться образованием                     408\n",
              "на покупку автомобиля                     471\n",
              "на покупку подержанного автомобиля        478\n",
              "на покупку своего автомобиля              505\n",
              "на проведение свадьбы                     768\n",
              "недвижимость                              633\n",
              "образование                               447\n",
              "операции с жильем                         652\n",
              "операции с коммерческой недвижимостью     650\n",
              "операции с недвижимостью                  675\n",
              "операции со своей недвижимостью           627\n",
              "покупка жилой недвижимости                605\n",
              "покупка жилья                             646\n",
              "покупка жилья для сдачи                   651\n",
              "покупка жилья для семьи                   638\n",
              "покупка коммерческой недвижимости         661\n",
              "покупка недвижимости                      620\n",
              "покупка своего жилья                      620\n",
              "получение высшего образования             426\n",
              "получение дополнительного образования     446\n",
              "получение образования                     442\n",
              "приобретение автомобиля                   461\n",
              "профильное образование                    436\n",
              "ремонт жилью                              607\n",
              "свадьба                                   791\n",
              "свой автомобиль                           478\n",
              "сделка с автомобилем                      455\n",
              "сделка с подержанным автомобилем          486\n",
              "строительство жилой недвижимости          624\n",
              "строительство недвижимости                619\n",
              "строительство собственной недвижимости    635\n",
              "сыграть свадьбу                           765\n",
              "Name: purpose, dtype: int64"
            ]
          },
          "execution_count": 32,
          "metadata": {},
          "output_type": "execute_result"
        }
      ],
      "source": [
        "# Сначала проанализируем список уникальных целей из столбца purpose\n",
        "data_new.groupby('purpose')['purpose'].count()"
      ]
    },
    {
      "cell_type": "markdown",
      "id": "c1044ce6",
      "metadata": {
        "id": "c1044ce6"
      },
      "source": [
        "Действительно заметны различные написания одной и той же цели. Напишем функцию для категоризации целей кредита.\n",
        "Создадим словарь с исходными ключами:"
      ]
    },
    {
      "cell_type": "code",
      "execution_count": null,
      "id": "874a778b",
      "metadata": {
        "id": "874a778b"
      },
      "outputs": [],
      "source": [
        "def purpose_category(row):\n",
        "    try:\n",
        "        if 'автомоб' in row['purpose']:\n",
        "            return 'операции с автомобилем'\n",
        "        elif 'недвижимост' or 'жил' in row['purpose']:\n",
        "            return 'операции с недвижимостью'\n",
        "        elif 'свад' in row['purpose']:\n",
        "            return 'проведение свадьбы'\n",
        "        elif 'образован' in row['purpose']:\n",
        "            return 'получение образования'\n",
        "    except:\n",
        "        return 'Ошибка!'"
      ]
    },
    {
      "cell_type": "code",
      "execution_count": null,
      "id": "ce0ca05b",
      "metadata": {
        "id": "ce0ca05b",
        "outputId": "dee32d47-9ada-40f7-c579-849a17cfc839"
      },
      "outputs": [
        {
          "data": {
            "text/plain": [
              "операции с недвижимостью    17146\n",
              "операции с автомобилем       4306\n",
              "Name: purpose_category, dtype: int64"
            ]
          },
          "execution_count": 34,
          "metadata": {},
          "output_type": "execute_result"
        }
      ],
      "source": [
        "data_new['purpose_category'] = data_new.apply(purpose_category, axis=1)\n",
        "data_new['purpose_category'].value_counts()"
      ]
    },
    {
      "cell_type": "markdown",
      "id": "efacee28",
      "metadata": {
        "id": "efacee28"
      },
      "source": [
        "<b>Промежуточный итог:</b> странно, но простая функция не сработала и не распознала все цели, выдав только две из них. Придется углубиться в проблему и все-таки изучить метод лемматизации, указанный в Notion."
      ]
    },
    {
      "cell_type": "code",
      "execution_count": null,
      "id": "06fcce39",
      "metadata": {
        "id": "06fcce39",
        "outputId": "59992c99-37b4-4a1f-c8c3-7825bc0e92c4"
      },
      "outputs": [
        {
          "data": {
            "text/plain": [
              "purpose_category\n",
              "операции с автомобилем       4306\n",
              "операции с недвижимостью    10809\n",
              "получение образования        4013\n",
              "проведение свадьбы           2324\n",
              "Name: purpose_category, dtype: int64"
            ]
          },
          "execution_count": 35,
          "metadata": {},
          "output_type": "execute_result"
        }
      ],
      "source": [
        "from pymystem3 import Mystem\n",
        "\n",
        "m = Mystem()\n",
        "purpose_lemma = []\n",
        "for i in data_new['purpose']:\n",
        "    result = ''.join(m.lemmatize(i)).strip()\n",
        "    purpose_lemma.append(result)\n",
        "data_new['purpose_lemma'] = purpose_lemma\n",
        "\n",
        "def purpose_category(data):\n",
        "    if 'автомобиль' in data:\n",
        "        return 'операции с автомобилем'\n",
        "    elif ('недвижимость' in data) or ('жилье' in data):\n",
        "        return 'операции с недвижимостью'\n",
        "    elif 'свадьба' in data:\n",
        "        return 'проведение свадьбы'\n",
        "    elif 'образование' in data:\n",
        "        return 'получение образования'\n",
        "    else:\n",
        "        return 'прочее'\n",
        "\n",
        "data_new['purpose_category'] = data_new['purpose_lemma'].apply(purpose_category)\n",
        "data_new.drop(['purpose_lemma'], axis='columns', inplace=True)\n",
        "\n",
        "data_new.groupby('purpose_category')['purpose_category'].count()"
      ]
    },
    {
      "cell_type": "markdown",
      "id": "4a18f159",
      "metadata": {
        "id": "4a18f159"
      },
      "source": [
        "<b>Вывод:</b> Получена выгрузка по всем целям. Большинство клиентов берут кредит для операций с недвижимостью."
      ]
    },
    {
      "cell_type": "markdown",
      "id": "f084b7d5",
      "metadata": {
        "id": "f084b7d5"
      },
      "source": [
        "### Ответы на вопросы."
      ]
    },
    {
      "cell_type": "markdown",
      "id": "34081f13",
      "metadata": {
        "id": "34081f13"
      },
      "source": [
        "##### Вопрос 1: Есть ли зависимость между количеством детей и возвратом кредита в срок?"
      ]
    },
    {
      "cell_type": "code",
      "execution_count": null,
      "id": "700c6029",
      "metadata": {
        "id": "700c6029",
        "outputId": "c0391f70-e5c6-4c65-fbd8-e2ea3c56fcbb"
      },
      "outputs": [
        {
          "data": {
            "text/html": [
              "<div>\n",
              "<style scoped>\n",
              "    .dataframe tbody tr th:only-of-type {\n",
              "        vertical-align: middle;\n",
              "    }\n",
              "\n",
              "    .dataframe tbody tr th {\n",
              "        vertical-align: top;\n",
              "    }\n",
              "\n",
              "    .dataframe thead th {\n",
              "        text-align: right;\n",
              "    }\n",
              "</style>\n",
              "<table border=\"1\" class=\"dataframe\">\n",
              "  <thead>\n",
              "    <tr style=\"text-align: right;\">\n",
              "      <th>debt</th>\n",
              "      <th>0</th>\n",
              "      <th>1</th>\n",
              "    </tr>\n",
              "    <tr>\n",
              "      <th>children</th>\n",
              "      <th></th>\n",
              "      <th></th>\n",
              "    </tr>\n",
              "  </thead>\n",
              "  <tbody>\n",
              "    <tr>\n",
              "      <td>0</td>\n",
              "      <td>13026.0</td>\n",
              "      <td>1063.0</td>\n",
              "    </tr>\n",
              "    <tr>\n",
              "      <td>1</td>\n",
              "      <td>4410.0</td>\n",
              "      <td>445.0</td>\n",
              "    </tr>\n",
              "    <tr>\n",
              "      <td>2</td>\n",
              "      <td>1926.0</td>\n",
              "      <td>202.0</td>\n",
              "    </tr>\n",
              "    <tr>\n",
              "      <td>3</td>\n",
              "      <td>303.0</td>\n",
              "      <td>27.0</td>\n",
              "    </tr>\n",
              "    <tr>\n",
              "      <td>4</td>\n",
              "      <td>37.0</td>\n",
              "      <td>4.0</td>\n",
              "    </tr>\n",
              "    <tr>\n",
              "      <td>5</td>\n",
              "      <td>9.0</td>\n",
              "      <td>NaN</td>\n",
              "    </tr>\n",
              "  </tbody>\n",
              "</table>\n",
              "</div>"
            ],
            "text/plain": [
              "debt            0       1\n",
              "children                 \n",
              "0         13026.0  1063.0\n",
              "1          4410.0   445.0\n",
              "2          1926.0   202.0\n",
              "3           303.0    27.0\n",
              "4            37.0     4.0\n",
              "5             9.0     NaN"
            ]
          },
          "execution_count": 36,
          "metadata": {},
          "output_type": "execute_result"
        }
      ],
      "source": [
        "# Оформим сводную таблицу по количеству детей и задолженностям по выплате кредита\n",
        "debt_child_pivot = data_new.pivot_table(index='children', columns='debt', values='education_id', aggfunc='count')\n",
        "debt_child_pivot"
      ]
    },
    {
      "cell_type": "code",
      "execution_count": null,
      "id": "5ecd5faa",
      "metadata": {
        "scrolled": false,
        "id": "5ecd5faa"
      },
      "outputs": [],
      "source": [
        "# Посчитаем доли невыплативших кредит по количеству детей\n",
        "#zero_kids = 1063/(13028+1063)\n",
        "#one_kid = 445/(4410+445)\n",
        "#two_kids = 194/(1858+194)\n",
        "#three_kids = 27/(303+27)\n",
        "#four_kids = 4/(37+4)\n",
        "#many_kids = 8/(68+8)\n",
        "#print(f'Доля невыплативших кредит среди клиентов без детей: {zero_kids:.1%}')\n",
        "#print(f'Доля невыплативших кредит среди клиентов с 1 ребенком: {one_kid:.1%}')\n",
        "#print(f'Доля невыплативших кредит среди клиентов с 2 детьми: {two_kids:.1%}')\n",
        "#print(f'Доля невыплативших кредит среди клиентов с 3 детьми: {three_kids:.1%}')\n",
        "#print(f'Доля невыплативших кредит среди клиентов с 4 детьми: {four_kids:.1%}')\n",
        "#print(f'Доля невыплативших кредит среди многодетных клиентов: {many_kids:.1%}')"
      ]
    },
    {
      "cell_type": "markdown",
      "id": "074a5447",
      "metadata": {
        "id": "074a5447"
      },
      "source": [
        "<div class=\"alert alert-block alert-info\">\n",
        "<b>Комментарий студента:</b> \n",
        "Да, ручной ввод - это скверно. Общий психологический фон отключил рацио и заставил вбивать все руками. Попробую переделать, спасибо.\n",
        "</div>"
      ]
    },
    {
      "cell_type": "code",
      "execution_count": null,
      "id": "446cfa26",
      "metadata": {
        "id": "446cfa26",
        "outputId": "3fd14c4f-ef64-404b-ad18-ca4d23d31f68"
      },
      "outputs": [
        {
          "data": {
            "text/html": [
              "<div>\n",
              "<style scoped>\n",
              "    .dataframe tbody tr th:only-of-type {\n",
              "        vertical-align: middle;\n",
              "    }\n",
              "\n",
              "    .dataframe tbody tr th {\n",
              "        vertical-align: top;\n",
              "    }\n",
              "\n",
              "    .dataframe thead th {\n",
              "        text-align: right;\n",
              "    }\n",
              "</style>\n",
              "<table border=\"1\" class=\"dataframe\">\n",
              "  <thead>\n",
              "    <tr style=\"text-align: right;\">\n",
              "      <th>debt</th>\n",
              "      <th>0</th>\n",
              "      <th>1</th>\n",
              "      <th>stats</th>\n",
              "    </tr>\n",
              "    <tr>\n",
              "      <th>children</th>\n",
              "      <th></th>\n",
              "      <th></th>\n",
              "      <th></th>\n",
              "    </tr>\n",
              "  </thead>\n",
              "  <tbody>\n",
              "    <tr>\n",
              "      <td>0</td>\n",
              "      <td>13026.0</td>\n",
              "      <td>1063.0</td>\n",
              "      <td>7.54</td>\n",
              "    </tr>\n",
              "    <tr>\n",
              "      <td>1</td>\n",
              "      <td>4410.0</td>\n",
              "      <td>445.0</td>\n",
              "      <td>9.17</td>\n",
              "    </tr>\n",
              "    <tr>\n",
              "      <td>2</td>\n",
              "      <td>1926.0</td>\n",
              "      <td>202.0</td>\n",
              "      <td>9.49</td>\n",
              "    </tr>\n",
              "    <tr>\n",
              "      <td>3</td>\n",
              "      <td>303.0</td>\n",
              "      <td>27.0</td>\n",
              "      <td>8.18</td>\n",
              "    </tr>\n",
              "    <tr>\n",
              "      <td>4</td>\n",
              "      <td>37.0</td>\n",
              "      <td>4.0</td>\n",
              "      <td>9.76</td>\n",
              "    </tr>\n",
              "    <tr>\n",
              "      <td>5</td>\n",
              "      <td>9.0</td>\n",
              "      <td>NaN</td>\n",
              "      <td>NaN</td>\n",
              "    </tr>\n",
              "  </tbody>\n",
              "</table>\n",
              "</div>"
            ],
            "text/plain": [
              "debt            0       1  stats\n",
              "children                        \n",
              "0         13026.0  1063.0   7.54\n",
              "1          4410.0   445.0   9.17\n",
              "2          1926.0   202.0   9.49\n",
              "3           303.0    27.0   8.18\n",
              "4            37.0     4.0   9.76\n",
              "5             9.0     NaN    NaN"
            ]
          },
          "execution_count": 38,
          "metadata": {},
          "output_type": "execute_result"
        }
      ],
      "source": [
        "debt_child_pivot['stats'] = round((debt_child_pivot[1] / (debt_child_pivot[1] + debt_child_pivot[0]) * 100), 2)\n",
        "debt_child_pivot"
      ]
    },
    {
      "cell_type": "markdown",
      "id": "935f661c",
      "metadata": {
        "id": "935f661c"
      },
      "source": [
        "##### Вывод 1:"
      ]
    },
    {
      "cell_type": "markdown",
      "id": "f298e82b",
      "metadata": {
        "id": "f298e82b"
      },
      "source": [
        "Клиенты без детей быстрее выплачивают кредит и не склонны к просрочке. Чем больше детей, тем сложнее выплачивать кредит."
      ]
    },
    {
      "cell_type": "code",
      "execution_count": null,
      "id": "0e7cc74c",
      "metadata": {
        "id": "0e7cc74c",
        "outputId": "07766dd2-6605-4ad7-9899-ffc245b13172"
      },
      "outputs": [
        {
          "data": {
            "text/html": [
              "<div>\n",
              "<style scoped>\n",
              "    .dataframe tbody tr th:only-of-type {\n",
              "        vertical-align: middle;\n",
              "    }\n",
              "\n",
              "    .dataframe tbody tr th {\n",
              "        vertical-align: top;\n",
              "    }\n",
              "\n",
              "    .dataframe thead tr th {\n",
              "        text-align: left;\n",
              "    }\n",
              "\n",
              "    .dataframe thead tr:last-of-type th {\n",
              "        text-align: right;\n",
              "    }\n",
              "</style>\n",
              "<table border=\"1\" class=\"dataframe\">\n",
              "  <thead>\n",
              "    <tr>\n",
              "      <th></th>\n",
              "      <th>count</th>\n",
              "      <th>sum</th>\n",
              "      <th>mean</th>\n",
              "    </tr>\n",
              "    <tr>\n",
              "      <th></th>\n",
              "      <th>debt</th>\n",
              "      <th>debt</th>\n",
              "      <th>debt</th>\n",
              "    </tr>\n",
              "    <tr>\n",
              "      <th>children</th>\n",
              "      <th></th>\n",
              "      <th></th>\n",
              "      <th></th>\n",
              "    </tr>\n",
              "  </thead>\n",
              "  <tbody>\n",
              "    <tr>\n",
              "      <td>0</td>\n",
              "      <td>14089</td>\n",
              "      <td>1063</td>\n",
              "      <td>0.075449</td>\n",
              "    </tr>\n",
              "    <tr>\n",
              "      <td>1</td>\n",
              "      <td>4855</td>\n",
              "      <td>445</td>\n",
              "      <td>0.091658</td>\n",
              "    </tr>\n",
              "    <tr>\n",
              "      <td>2</td>\n",
              "      <td>2128</td>\n",
              "      <td>202</td>\n",
              "      <td>0.094925</td>\n",
              "    </tr>\n",
              "    <tr>\n",
              "      <td>3</td>\n",
              "      <td>330</td>\n",
              "      <td>27</td>\n",
              "      <td>0.081818</td>\n",
              "    </tr>\n",
              "    <tr>\n",
              "      <td>4</td>\n",
              "      <td>41</td>\n",
              "      <td>4</td>\n",
              "      <td>0.097561</td>\n",
              "    </tr>\n",
              "    <tr>\n",
              "      <td>5</td>\n",
              "      <td>9</td>\n",
              "      <td>0</td>\n",
              "      <td>0.000000</td>\n",
              "    </tr>\n",
              "  </tbody>\n",
              "</table>\n",
              "</div>"
            ],
            "text/plain": [
              "          count   sum      mean\n",
              "           debt  debt      debt\n",
              "children                       \n",
              "0         14089  1063  0.075449\n",
              "1          4855   445  0.091658\n",
              "2          2128   202  0.094925\n",
              "3           330    27  0.081818\n",
              "4            41     4  0.097561\n",
              "5             9     0  0.000000"
            ]
          },
          "execution_count": 39,
          "metadata": {},
          "output_type": "execute_result"
        }
      ],
      "source": [
        "\n",
        "data_new.pivot_table(index='children', values='debt', aggfunc=['count', 'sum', 'mean'])"
      ]
    },
    {
      "cell_type": "markdown",
      "id": "e4ee214e",
      "metadata": {
        "id": "e4ee214e"
      },
      "source": [
        "##### Вопрос 2: Есть ли зависимость между семейным положением и возвратом кредита в срок?"
      ]
    },
    {
      "cell_type": "code",
      "execution_count": null,
      "id": "43e3eec6",
      "metadata": {
        "id": "43e3eec6",
        "outputId": "2a680fb8-2fea-4b0e-8c94-b82198045b28"
      },
      "outputs": [
        {
          "data": {
            "text/html": [
              "<div>\n",
              "<style scoped>\n",
              "    .dataframe tbody tr th:only-of-type {\n",
              "        vertical-align: middle;\n",
              "    }\n",
              "\n",
              "    .dataframe tbody tr th {\n",
              "        vertical-align: top;\n",
              "    }\n",
              "\n",
              "    .dataframe thead th {\n",
              "        text-align: right;\n",
              "    }\n",
              "</style>\n",
              "<table border=\"1\" class=\"dataframe\">\n",
              "  <thead>\n",
              "    <tr style=\"text-align: right;\">\n",
              "      <th>debt</th>\n",
              "      <th>0</th>\n",
              "      <th>1</th>\n",
              "    </tr>\n",
              "    <tr>\n",
              "      <th>family_status_id</th>\n",
              "      <th></th>\n",
              "      <th></th>\n",
              "    </tr>\n",
              "  </thead>\n",
              "  <tbody>\n",
              "    <tr>\n",
              "      <td>0</td>\n",
              "      <td>11407</td>\n",
              "      <td>931</td>\n",
              "    </tr>\n",
              "    <tr>\n",
              "      <td>1</td>\n",
              "      <td>3762</td>\n",
              "      <td>388</td>\n",
              "    </tr>\n",
              "    <tr>\n",
              "      <td>2</td>\n",
              "      <td>896</td>\n",
              "      <td>63</td>\n",
              "    </tr>\n",
              "    <tr>\n",
              "      <td>3</td>\n",
              "      <td>1110</td>\n",
              "      <td>85</td>\n",
              "    </tr>\n",
              "    <tr>\n",
              "      <td>4</td>\n",
              "      <td>2536</td>\n",
              "      <td>274</td>\n",
              "    </tr>\n",
              "  </tbody>\n",
              "</table>\n",
              "</div>"
            ],
            "text/plain": [
              "debt                  0    1\n",
              "family_status_id            \n",
              "0                 11407  931\n",
              "1                  3762  388\n",
              "2                   896   63\n",
              "3                  1110   85\n",
              "4                  2536  274"
            ]
          },
          "execution_count": 40,
          "metadata": {},
          "output_type": "execute_result"
        }
      ],
      "source": [
        "# Оформим сводную таблицу по семейному положению и задолженностям по выплате кредита\n",
        "debt_family_pivot = data_new.pivot_table(index='family_status_id', columns='debt', values='income_type', aggfunc='count')\n",
        "debt_family_pivot"
      ]
    },
    {
      "cell_type": "code",
      "execution_count": null,
      "id": "f20da4c8",
      "metadata": {
        "id": "f20da4c8",
        "outputId": "52a3bd09-14a8-4b36-ab03-6de2653d8532"
      },
      "outputs": [
        {
          "data": {
            "text/html": [
              "<div>\n",
              "<style scoped>\n",
              "    .dataframe tbody tr th:only-of-type {\n",
              "        vertical-align: middle;\n",
              "    }\n",
              "\n",
              "    .dataframe tbody tr th {\n",
              "        vertical-align: top;\n",
              "    }\n",
              "\n",
              "    .dataframe thead th {\n",
              "        text-align: right;\n",
              "    }\n",
              "</style>\n",
              "<table border=\"1\" class=\"dataframe\">\n",
              "  <thead>\n",
              "    <tr style=\"text-align: right;\">\n",
              "      <th>debt</th>\n",
              "      <th>0</th>\n",
              "      <th>1</th>\n",
              "      <th>stats</th>\n",
              "    </tr>\n",
              "    <tr>\n",
              "      <th>family_status_id</th>\n",
              "      <th></th>\n",
              "      <th></th>\n",
              "      <th></th>\n",
              "    </tr>\n",
              "  </thead>\n",
              "  <tbody>\n",
              "    <tr>\n",
              "      <td>0</td>\n",
              "      <td>11407</td>\n",
              "      <td>931</td>\n",
              "      <td>7.55</td>\n",
              "    </tr>\n",
              "    <tr>\n",
              "      <td>1</td>\n",
              "      <td>3762</td>\n",
              "      <td>388</td>\n",
              "      <td>9.35</td>\n",
              "    </tr>\n",
              "    <tr>\n",
              "      <td>2</td>\n",
              "      <td>896</td>\n",
              "      <td>63</td>\n",
              "      <td>6.57</td>\n",
              "    </tr>\n",
              "    <tr>\n",
              "      <td>3</td>\n",
              "      <td>1110</td>\n",
              "      <td>85</td>\n",
              "      <td>7.11</td>\n",
              "    </tr>\n",
              "    <tr>\n",
              "      <td>4</td>\n",
              "      <td>2536</td>\n",
              "      <td>274</td>\n",
              "      <td>9.75</td>\n",
              "    </tr>\n",
              "  </tbody>\n",
              "</table>\n",
              "</div>"
            ],
            "text/plain": [
              "debt                  0    1  stats\n",
              "family_status_id                   \n",
              "0                 11407  931   7.55\n",
              "1                  3762  388   9.35\n",
              "2                   896   63   6.57\n",
              "3                  1110   85   7.11\n",
              "4                  2536  274   9.75"
            ]
          },
          "execution_count": 42,
          "metadata": {},
          "output_type": "execute_result"
        }
      ],
      "source": [
        "# Посчитаем доли невыплативших кредит по семейному статусу\n",
        "debt_family_pivot['stats'] = round((debt_family_pivot[1] / (debt_family_pivot[1] + debt_family_pivot[0]) * 100), 2)\n",
        "debt_family_pivot"
      ]
    },
    {
      "cell_type": "markdown",
      "id": "4d3bad69",
      "metadata": {
        "id": "4d3bad69"
      },
      "source": [
        "##### Вывод 2: "
      ]
    },
    {
      "cell_type": "markdown",
      "id": "b2b11bba",
      "metadata": {
        "id": "b2b11bba"
      },
      "source": [
        "Клиенты, не связанные узами официального брака или находящиеся в гражданском браке, чаще не выплачивают кредиты в срок."
      ]
    },
    {
      "cell_type": "markdown",
      "id": "7002676a",
      "metadata": {
        "id": "7002676a"
      },
      "source": [
        "##### Вопрос 3: Есть ли зависимость между уровнем дохода и возвратом кредита в срок?"
      ]
    },
    {
      "cell_type": "code",
      "execution_count": null,
      "id": "8be9f122",
      "metadata": {
        "id": "8be9f122",
        "outputId": "84819c47-f4f9-4486-f4a6-c3358ac93ded"
      },
      "outputs": [
        {
          "data": {
            "text/html": [
              "<div>\n",
              "<style scoped>\n",
              "    .dataframe tbody tr th:only-of-type {\n",
              "        vertical-align: middle;\n",
              "    }\n",
              "\n",
              "    .dataframe tbody tr th {\n",
              "        vertical-align: top;\n",
              "    }\n",
              "\n",
              "    .dataframe thead th {\n",
              "        text-align: right;\n",
              "    }\n",
              "</style>\n",
              "<table border=\"1\" class=\"dataframe\">\n",
              "  <thead>\n",
              "    <tr style=\"text-align: right;\">\n",
              "      <th>debt</th>\n",
              "      <th>0</th>\n",
              "      <th>1</th>\n",
              "    </tr>\n",
              "    <tr>\n",
              "      <th>total_income_category</th>\n",
              "      <th></th>\n",
              "      <th></th>\n",
              "    </tr>\n",
              "  </thead>\n",
              "  <tbody>\n",
              "    <tr>\n",
              "      <td>A</td>\n",
              "      <td>23</td>\n",
              "      <td>2</td>\n",
              "    </tr>\n",
              "    <tr>\n",
              "      <td>B</td>\n",
              "      <td>4684</td>\n",
              "      <td>356</td>\n",
              "    </tr>\n",
              "    <tr>\n",
              "      <td>C</td>\n",
              "      <td>14655</td>\n",
              "      <td>1360</td>\n",
              "    </tr>\n",
              "    <tr>\n",
              "      <td>D</td>\n",
              "      <td>329</td>\n",
              "      <td>21</td>\n",
              "    </tr>\n",
              "    <tr>\n",
              "      <td>E</td>\n",
              "      <td>20</td>\n",
              "      <td>2</td>\n",
              "    </tr>\n",
              "  </tbody>\n",
              "</table>\n",
              "</div>"
            ],
            "text/plain": [
              "debt                       0     1\n",
              "total_income_category             \n",
              "A                         23     2\n",
              "B                       4684   356\n",
              "C                      14655  1360\n",
              "D                        329    21\n",
              "E                         20     2"
            ]
          },
          "execution_count": 43,
          "metadata": {},
          "output_type": "execute_result"
        }
      ],
      "source": [
        "# Оформим сводную таблицу по категориям дохода и задолженностям по выплате кредита\n",
        "debt_income_pivot = data_new.pivot_table(index='total_income_category', columns='debt', values='income_type', aggfunc='count')\n",
        "debt_income_pivot"
      ]
    },
    {
      "cell_type": "code",
      "execution_count": null,
      "id": "43abe3eb",
      "metadata": {
        "id": "43abe3eb",
        "outputId": "a751f86f-b559-492d-f57b-4b75c064dd3a"
      },
      "outputs": [
        {
          "data": {
            "text/html": [
              "<div>\n",
              "<style scoped>\n",
              "    .dataframe tbody tr th:only-of-type {\n",
              "        vertical-align: middle;\n",
              "    }\n",
              "\n",
              "    .dataframe tbody tr th {\n",
              "        vertical-align: top;\n",
              "    }\n",
              "\n",
              "    .dataframe thead th {\n",
              "        text-align: right;\n",
              "    }\n",
              "</style>\n",
              "<table border=\"1\" class=\"dataframe\">\n",
              "  <thead>\n",
              "    <tr style=\"text-align: right;\">\n",
              "      <th>debt</th>\n",
              "      <th>0</th>\n",
              "      <th>1</th>\n",
              "      <th>stats</th>\n",
              "    </tr>\n",
              "    <tr>\n",
              "      <th>total_income_category</th>\n",
              "      <th></th>\n",
              "      <th></th>\n",
              "      <th></th>\n",
              "    </tr>\n",
              "  </thead>\n",
              "  <tbody>\n",
              "    <tr>\n",
              "      <td>A</td>\n",
              "      <td>23</td>\n",
              "      <td>2</td>\n",
              "      <td>8.00</td>\n",
              "    </tr>\n",
              "    <tr>\n",
              "      <td>B</td>\n",
              "      <td>4684</td>\n",
              "      <td>356</td>\n",
              "      <td>7.06</td>\n",
              "    </tr>\n",
              "    <tr>\n",
              "      <td>C</td>\n",
              "      <td>14655</td>\n",
              "      <td>1360</td>\n",
              "      <td>8.49</td>\n",
              "    </tr>\n",
              "    <tr>\n",
              "      <td>D</td>\n",
              "      <td>329</td>\n",
              "      <td>21</td>\n",
              "      <td>6.00</td>\n",
              "    </tr>\n",
              "    <tr>\n",
              "      <td>E</td>\n",
              "      <td>20</td>\n",
              "      <td>2</td>\n",
              "      <td>9.09</td>\n",
              "    </tr>\n",
              "  </tbody>\n",
              "</table>\n",
              "</div>"
            ],
            "text/plain": [
              "debt                       0     1  stats\n",
              "total_income_category                    \n",
              "A                         23     2   8.00\n",
              "B                       4684   356   7.06\n",
              "C                      14655  1360   8.49\n",
              "D                        329    21   6.00\n",
              "E                         20     2   9.09"
            ]
          },
          "execution_count": 45,
          "metadata": {},
          "output_type": "execute_result"
        }
      ],
      "source": [
        "# Посчитаем доли невыплативших кредит по категориям дохода\n",
        "debt_income_pivot['stats'] = round((debt_income_pivot[1] / (debt_income_pivot[1] + debt_income_pivot[0]) * 100), 2)\n",
        "debt_income_pivot"
      ]
    },
    {
      "cell_type": "markdown",
      "id": "16b1d19a",
      "metadata": {
        "id": "16b1d19a"
      },
      "source": [
        "##### Вывод 3: "
      ]
    },
    {
      "cell_type": "markdown",
      "id": "e5210403",
      "metadata": {
        "id": "e5210403"
      },
      "source": [
        "Самыми ответственными и обязательными при выплате кредита оказывается категория клиентов с доходом от 30000 до 50000 рублей."
      ]
    },
    {
      "cell_type": "markdown",
      "id": "7959a9f0",
      "metadata": {
        "id": "7959a9f0"
      },
      "source": [
        "##### Вопрос 4: Как разные цели влияют на его возврат в срок?"
      ]
    },
    {
      "cell_type": "code",
      "execution_count": null,
      "id": "9c09e69c",
      "metadata": {
        "id": "9c09e69c",
        "outputId": "0433af08-7dff-4762-8812-1cfbdfa81bad"
      },
      "outputs": [
        {
          "data": {
            "text/html": [
              "<div>\n",
              "<style scoped>\n",
              "    .dataframe tbody tr th:only-of-type {\n",
              "        vertical-align: middle;\n",
              "    }\n",
              "\n",
              "    .dataframe tbody tr th {\n",
              "        vertical-align: top;\n",
              "    }\n",
              "\n",
              "    .dataframe thead th {\n",
              "        text-align: right;\n",
              "    }\n",
              "</style>\n",
              "<table border=\"1\" class=\"dataframe\">\n",
              "  <thead>\n",
              "    <tr style=\"text-align: right;\">\n",
              "      <th>debt</th>\n",
              "      <th>0</th>\n",
              "      <th>1</th>\n",
              "    </tr>\n",
              "    <tr>\n",
              "      <th>purpose_category</th>\n",
              "      <th></th>\n",
              "      <th></th>\n",
              "    </tr>\n",
              "  </thead>\n",
              "  <tbody>\n",
              "    <tr>\n",
              "      <td>операции с автомобилем</td>\n",
              "      <td>3903</td>\n",
              "      <td>403</td>\n",
              "    </tr>\n",
              "    <tr>\n",
              "      <td>операции с недвижимостью</td>\n",
              "      <td>10027</td>\n",
              "      <td>782</td>\n",
              "    </tr>\n",
              "    <tr>\n",
              "      <td>получение образования</td>\n",
              "      <td>3643</td>\n",
              "      <td>370</td>\n",
              "    </tr>\n",
              "    <tr>\n",
              "      <td>проведение свадьбы</td>\n",
              "      <td>2138</td>\n",
              "      <td>186</td>\n",
              "    </tr>\n",
              "  </tbody>\n",
              "</table>\n",
              "</div>"
            ],
            "text/plain": [
              "debt                          0    1\n",
              "purpose_category                    \n",
              "операции с автомобилем     3903  403\n",
              "операции с недвижимостью  10027  782\n",
              "получение образования      3643  370\n",
              "проведение свадьбы         2138  186"
            ]
          },
          "execution_count": 46,
          "metadata": {},
          "output_type": "execute_result"
        }
      ],
      "source": [
        "# Оформим сводную таблицу по категориям цели кредита и задолженностям по выплате кредита\n",
        "debt_purpose_pivot = data_new.pivot_table(index='purpose_category', columns='debt', values='income_type', aggfunc='count')\n",
        "debt_purpose_pivot"
      ]
    },
    {
      "cell_type": "code",
      "execution_count": null,
      "id": "164b5cae",
      "metadata": {
        "id": "164b5cae",
        "outputId": "2931a98c-b5e7-4ea0-8f7e-0bb2bd595563"
      },
      "outputs": [
        {
          "data": {
            "text/html": [
              "<div>\n",
              "<style scoped>\n",
              "    .dataframe tbody tr th:only-of-type {\n",
              "        vertical-align: middle;\n",
              "    }\n",
              "\n",
              "    .dataframe tbody tr th {\n",
              "        vertical-align: top;\n",
              "    }\n",
              "\n",
              "    .dataframe thead th {\n",
              "        text-align: right;\n",
              "    }\n",
              "</style>\n",
              "<table border=\"1\" class=\"dataframe\">\n",
              "  <thead>\n",
              "    <tr style=\"text-align: right;\">\n",
              "      <th>debt</th>\n",
              "      <th>0</th>\n",
              "      <th>1</th>\n",
              "      <th>stats</th>\n",
              "    </tr>\n",
              "    <tr>\n",
              "      <th>purpose_category</th>\n",
              "      <th></th>\n",
              "      <th></th>\n",
              "      <th></th>\n",
              "    </tr>\n",
              "  </thead>\n",
              "  <tbody>\n",
              "    <tr>\n",
              "      <td>операции с автомобилем</td>\n",
              "      <td>3903</td>\n",
              "      <td>403</td>\n",
              "      <td>9.36</td>\n",
              "    </tr>\n",
              "    <tr>\n",
              "      <td>операции с недвижимостью</td>\n",
              "      <td>10027</td>\n",
              "      <td>782</td>\n",
              "      <td>7.23</td>\n",
              "    </tr>\n",
              "    <tr>\n",
              "      <td>получение образования</td>\n",
              "      <td>3643</td>\n",
              "      <td>370</td>\n",
              "      <td>9.22</td>\n",
              "    </tr>\n",
              "    <tr>\n",
              "      <td>проведение свадьбы</td>\n",
              "      <td>2138</td>\n",
              "      <td>186</td>\n",
              "      <td>8.00</td>\n",
              "    </tr>\n",
              "  </tbody>\n",
              "</table>\n",
              "</div>"
            ],
            "text/plain": [
              "debt                          0    1  stats\n",
              "purpose_category                           \n",
              "операции с автомобилем     3903  403   9.36\n",
              "операции с недвижимостью  10027  782   7.23\n",
              "получение образования      3643  370   9.22\n",
              "проведение свадьбы         2138  186   8.00"
            ]
          },
          "execution_count": 48,
          "metadata": {},
          "output_type": "execute_result"
        }
      ],
      "source": [
        "# Посчитаем доли невыплативших кредит по категориям цели кредита\n",
        "debt_purpose_pivot['stats'] = round((debt_purpose_pivot[1] / (debt_purpose_pivot[1] + debt_purpose_pivot[0]) * 100), 2)\n",
        "debt_purpose_pivot"
      ]
    },
    {
      "cell_type": "markdown",
      "id": "60b95608",
      "metadata": {
        "id": "60b95608"
      },
      "source": [
        "##### Вывод 4: "
      ]
    },
    {
      "cell_type": "markdown",
      "id": "8e830028",
      "metadata": {
        "id": "8e830028"
      },
      "source": [
        "Клиенты, берущие кредит для приобретения/проведение операций с жильем, более обязательны в выплате кредита в срок."
      ]
    },
    {
      "cell_type": "markdown",
      "id": "8ba62367",
      "metadata": {
        "id": "8ba62367"
      },
      "source": [
        "### Общий вывод:"
      ]
    },
    {
      "cell_type": "markdown",
      "id": "16b4bd29",
      "metadata": {
        "id": "16b4bd29"
      },
      "source": [
        "1. Семейное положение и количество детей влияет на факт погашения кредита в срок: клиенты с официально оформленным браком (или бывших в нем) или не имеющие детей - самые ответственные при выплате кредита.\n",
        "\n",
        "2. Нет прямой зависимости между уровнем дохода и возвратом кредита в срок: самая обязательная категория клиентов в погашении - с уровнем дохода от 30 до 50 тыс. рублей.\n",
        "\n",
        "3. Возврат кредита зависит от цели получения кредита: клиенты, берущие в кредит средства для операций с недвижимостью, более ответственны при погашении."
      ]
    },
    {
      "cell_type": "markdown",
      "id": "c9355538",
      "metadata": {
        "id": "c9355538"
      },
      "source": [
        "## Итоговый вывод: \n",
        "Проанализированы данные о платёжеспособности 21 525 клиентов с учетом следующих факторов: количество детей в семье, трудовой стаж, возраст клиента, уровень образования, семейное положение, пол клиента, тип занятости, кредитный опыт по возврату/невозврату займов, общий месячный доход, цель получения кредита.\n",
        "\n",
        "Проведена обработка данных оригинального датасета с исключением пропусков, дубликатов и аномалий.\n",
        "    \n",
        "Проанализированы категории данных по целям получения кредита: недвижимость, образование, автомобиль и свадьба.\n",
        "Также была проанализирована зависимость возврата кредита от уровня дохода с разбиением на 5 категорий уровня заработка.\n",
        "    \n",
        "Итак, изучена зависимость между возвратом кредита в срок и:\n",
        "    \n",
        "    - наличием детей\n",
        "    \n",
        "    - семейным положением\n",
        "    \n",
        "    - уровнем дохода\n",
        "    \n",
        "    - целями получения кредита\n",
        "    \n",
        "\n",
        "Наиболее явная связь возврата кредита прослеживается в зависимости от семейного положения и цели получения кредита. Самые ответственнные заемщики:\n",
        "    \n",
        "    - находящиеся или находившиеся в официальном браке\n",
        "    \n",
        "    - берущие кредит для операций с недвижимостью.\n",
        "</div>"
      ]
    },
    {
      "cell_type": "code",
      "execution_count": null,
      "id": "7534a801",
      "metadata": {
        "id": "7534a801"
      },
      "outputs": [],
      "source": []
    }
  ],
  "metadata": {
    "ExecuteTimeLog": [
      {
        "duration": 823,
        "start_time": "2022-02-19T02:31:45.946Z"
      },
      {
        "duration": 20,
        "start_time": "2022-02-19T02:42:25.043Z"
      },
      {
        "duration": 834,
        "start_time": "2022-02-19T02:45:12.681Z"
      },
      {
        "duration": 17,
        "start_time": "2022-02-19T02:45:13.517Z"
      },
      {
        "duration": 12,
        "start_time": "2022-02-19T02:46:30.018Z"
      },
      {
        "duration": 11,
        "start_time": "2022-02-19T02:46:58.337Z"
      },
      {
        "duration": 12,
        "start_time": "2022-02-19T02:47:08.976Z"
      },
      {
        "duration": 12,
        "start_time": "2022-02-19T02:47:27.767Z"
      },
      {
        "duration": 9,
        "start_time": "2022-02-19T02:52:44.619Z"
      },
      {
        "duration": 7,
        "start_time": "2022-02-19T02:53:05.796Z"
      },
      {
        "duration": 19,
        "start_time": "2022-02-19T02:54:57.310Z"
      },
      {
        "duration": 630,
        "start_time": "2022-02-21T07:45:14.987Z"
      },
      {
        "duration": 699,
        "start_time": "2022-02-21T07:45:42.423Z"
      },
      {
        "duration": 5,
        "start_time": "2022-02-21T07:45:43.124Z"
      },
      {
        "duration": 18,
        "start_time": "2022-02-21T07:45:43.131Z"
      },
      {
        "duration": 8,
        "start_time": "2022-02-21T07:45:43.151Z"
      },
      {
        "duration": 6,
        "start_time": "2022-02-21T11:03:43.646Z"
      },
      {
        "duration": 674,
        "start_time": "2022-02-21T11:04:05.842Z"
      },
      {
        "duration": 4,
        "start_time": "2022-02-21T11:04:06.518Z"
      },
      {
        "duration": 6,
        "start_time": "2022-02-21T11:04:06.525Z"
      },
      {
        "duration": 19,
        "start_time": "2022-02-21T11:04:06.533Z"
      },
      {
        "duration": 9,
        "start_time": "2022-02-21T11:04:06.553Z"
      },
      {
        "duration": 623,
        "start_time": "2022-02-22T15:06:45.475Z"
      },
      {
        "duration": 4,
        "start_time": "2022-02-22T15:06:59.782Z"
      },
      {
        "duration": 7,
        "start_time": "2022-02-22T15:07:02.832Z"
      },
      {
        "duration": 121,
        "start_time": "2022-02-22T15:08:20.745Z"
      },
      {
        "duration": 108,
        "start_time": "2022-02-22T15:08:53.785Z"
      },
      {
        "duration": 6,
        "start_time": "2022-02-22T15:11:45.202Z"
      },
      {
        "duration": 14,
        "start_time": "2022-02-22T15:12:33.665Z"
      },
      {
        "duration": 47,
        "start_time": "2022-02-22T16:20:20.232Z"
      },
      {
        "duration": 356,
        "start_time": "2022-02-22T16:39:44.923Z"
      },
      {
        "duration": 34,
        "start_time": "2022-02-22T16:39:50.351Z"
      },
      {
        "duration": 23,
        "start_time": "2022-02-22T16:40:10.823Z"
      },
      {
        "duration": 13,
        "start_time": "2022-02-22T16:41:10.645Z"
      },
      {
        "duration": 6,
        "start_time": "2022-02-22T16:55:59.665Z"
      },
      {
        "duration": 6,
        "start_time": "2022-02-22T16:56:10.666Z"
      },
      {
        "duration": 7,
        "start_time": "2022-02-22T16:57:24.908Z"
      },
      {
        "duration": 6,
        "start_time": "2022-02-22T16:57:43.043Z"
      },
      {
        "duration": 33,
        "start_time": "2022-02-22T17:04:27.926Z"
      },
      {
        "duration": 9,
        "start_time": "2022-02-22T17:05:50.012Z"
      },
      {
        "duration": 77,
        "start_time": "2022-02-22T17:07:24.674Z"
      },
      {
        "duration": 8,
        "start_time": "2022-02-22T17:07:32.443Z"
      },
      {
        "duration": 9,
        "start_time": "2022-02-22T17:07:49.282Z"
      },
      {
        "duration": 9,
        "start_time": "2022-02-22T17:07:59.378Z"
      },
      {
        "duration": 680,
        "start_time": "2022-02-22T17:08:11.002Z"
      },
      {
        "duration": 43,
        "start_time": "2022-02-22T17:08:11.684Z"
      },
      {
        "duration": 13,
        "start_time": "2022-02-22T17:08:11.729Z"
      },
      {
        "duration": 14,
        "start_time": "2022-02-22T17:08:11.744Z"
      },
      {
        "duration": 12,
        "start_time": "2022-02-22T17:08:11.760Z"
      },
      {
        "duration": 30,
        "start_time": "2022-02-22T17:08:11.774Z"
      },
      {
        "duration": 17,
        "start_time": "2022-02-22T17:08:11.806Z"
      },
      {
        "duration": 8,
        "start_time": "2022-02-22T17:13:12.921Z"
      },
      {
        "duration": 669,
        "start_time": "2022-02-22T17:13:29.125Z"
      },
      {
        "duration": 40,
        "start_time": "2022-02-22T17:13:29.797Z"
      },
      {
        "duration": 13,
        "start_time": "2022-02-22T17:13:29.841Z"
      },
      {
        "duration": 20,
        "start_time": "2022-02-22T17:13:29.856Z"
      },
      {
        "duration": 10,
        "start_time": "2022-02-22T17:13:29.878Z"
      },
      {
        "duration": 32,
        "start_time": "2022-02-22T17:13:29.890Z"
      },
      {
        "duration": 10,
        "start_time": "2022-02-22T17:13:29.925Z"
      },
      {
        "duration": 12,
        "start_time": "2022-02-22T17:32:29.533Z"
      },
      {
        "duration": 1534,
        "start_time": "2022-02-22T17:32:46.159Z"
      },
      {
        "duration": 277,
        "start_time": "2022-02-22T17:32:58.013Z"
      },
      {
        "duration": 209,
        "start_time": "2022-02-22T17:34:08.836Z"
      },
      {
        "duration": 14,
        "start_time": "2022-02-22T17:34:35.035Z"
      },
      {
        "duration": 12,
        "start_time": "2022-02-22T17:34:48.586Z"
      },
      {
        "duration": -62,
        "start_time": "2022-02-22T17:34:58.756Z"
      },
      {
        "duration": 12,
        "start_time": "2022-02-22T17:35:02.570Z"
      },
      {
        "duration": 1292,
        "start_time": "2022-02-22T17:35:25.610Z"
      },
      {
        "duration": 1290,
        "start_time": "2022-02-22T17:35:39.846Z"
      },
      {
        "duration": 327,
        "start_time": "2022-02-22T17:36:25.148Z"
      },
      {
        "duration": 13,
        "start_time": "2022-02-22T17:37:05.251Z"
      },
      {
        "duration": 8,
        "start_time": "2022-02-22T17:37:19.611Z"
      },
      {
        "duration": 8,
        "start_time": "2022-02-22T17:38:26.451Z"
      },
      {
        "duration": 8,
        "start_time": "2022-02-22T17:38:36.017Z"
      },
      {
        "duration": 227,
        "start_time": "2022-02-22T17:38:49.702Z"
      },
      {
        "duration": 212,
        "start_time": "2022-02-22T17:38:53.816Z"
      },
      {
        "duration": 7,
        "start_time": "2022-02-22T17:39:01.554Z"
      },
      {
        "duration": 7,
        "start_time": "2022-02-22T17:39:30.357Z"
      },
      {
        "duration": 628,
        "start_time": "2022-02-22T17:39:40.443Z"
      },
      {
        "duration": 40,
        "start_time": "2022-02-22T17:39:41.074Z"
      },
      {
        "duration": 12,
        "start_time": "2022-02-22T17:39:41.119Z"
      },
      {
        "duration": 21,
        "start_time": "2022-02-22T17:39:41.133Z"
      },
      {
        "duration": 18,
        "start_time": "2022-02-22T17:39:41.156Z"
      },
      {
        "duration": 4,
        "start_time": "2022-02-22T17:39:41.176Z"
      },
      {
        "duration": 15,
        "start_time": "2022-02-22T17:39:41.181Z"
      },
      {
        "duration": 10,
        "start_time": "2022-02-22T17:41:44.199Z"
      },
      {
        "duration": 11,
        "start_time": "2022-02-22T17:44:52.220Z"
      },
      {
        "duration": 272,
        "start_time": "2022-02-22T17:47:24.347Z"
      },
      {
        "duration": 13,
        "start_time": "2022-02-22T17:47:30.635Z"
      },
      {
        "duration": 12,
        "start_time": "2022-02-22T17:47:43.319Z"
      },
      {
        "duration": 12,
        "start_time": "2022-02-22T17:47:49.812Z"
      },
      {
        "duration": 12,
        "start_time": "2022-02-22T17:48:18.143Z"
      },
      {
        "duration": 18,
        "start_time": "2022-02-22T17:53:29.015Z"
      },
      {
        "duration": 13,
        "start_time": "2022-02-22T17:53:52.183Z"
      },
      {
        "duration": 15,
        "start_time": "2022-02-22T17:55:13.243Z"
      },
      {
        "duration": 17,
        "start_time": "2022-02-22T17:55:25.150Z"
      },
      {
        "duration": 334,
        "start_time": "2022-02-22T18:14:07.565Z"
      },
      {
        "duration": 220,
        "start_time": "2022-02-22T18:14:11.967Z"
      },
      {
        "duration": 263,
        "start_time": "2022-02-22T18:14:28.092Z"
      },
      {
        "duration": 288,
        "start_time": "2022-02-22T18:14:54.870Z"
      },
      {
        "duration": 2,
        "start_time": "2022-02-22T18:15:02.764Z"
      },
      {
        "duration": 472,
        "start_time": "2022-02-22T18:18:12.321Z"
      },
      {
        "duration": 438,
        "start_time": "2022-02-22T18:18:41.617Z"
      },
      {
        "duration": 518,
        "start_time": "2022-02-22T18:18:51.037Z"
      },
      {
        "duration": 18,
        "start_time": "2022-02-22T18:19:01.256Z"
      },
      {
        "duration": 15,
        "start_time": "2022-02-22T18:19:24.111Z"
      },
      {
        "duration": 423,
        "start_time": "2022-02-24T03:23:16.360Z"
      },
      {
        "duration": 309,
        "start_time": "2022-02-24T03:23:31.701Z"
      },
      {
        "duration": 315,
        "start_time": "2022-02-24T03:23:53.839Z"
      },
      {
        "duration": 842,
        "start_time": "2022-02-24T03:24:11.557Z"
      },
      {
        "duration": 61,
        "start_time": "2022-02-24T03:24:12.402Z"
      },
      {
        "duration": 19,
        "start_time": "2022-02-24T03:24:12.469Z"
      },
      {
        "duration": 11,
        "start_time": "2022-02-24T03:24:12.491Z"
      },
      {
        "duration": 15,
        "start_time": "2022-02-24T03:24:12.527Z"
      },
      {
        "duration": 4,
        "start_time": "2022-02-24T03:24:12.544Z"
      },
      {
        "duration": 20,
        "start_time": "2022-02-24T03:24:12.551Z"
      },
      {
        "duration": 3,
        "start_time": "2022-02-24T03:24:12.574Z"
      },
      {
        "duration": 68,
        "start_time": "2022-02-24T03:24:12.580Z"
      },
      {
        "duration": 392,
        "start_time": "2022-02-24T03:24:12.651Z"
      },
      {
        "duration": 453,
        "start_time": "2022-02-24T03:24:39.963Z"
      },
      {
        "duration": 515,
        "start_time": "2022-02-24T03:25:11.634Z"
      },
      {
        "duration": 55,
        "start_time": "2022-02-24T03:25:26.233Z"
      },
      {
        "duration": 312,
        "start_time": "2022-02-24T03:36:45.838Z"
      },
      {
        "duration": 34,
        "start_time": "2022-02-24T03:37:31.998Z"
      },
      {
        "duration": 306,
        "start_time": "2022-02-24T03:44:55.014Z"
      },
      {
        "duration": 325,
        "start_time": "2022-02-24T03:45:12.243Z"
      },
      {
        "duration": 20,
        "start_time": "2022-02-24T03:51:57.476Z"
      },
      {
        "duration": 34,
        "start_time": "2022-02-24T03:52:52.831Z"
      },
      {
        "duration": 32,
        "start_time": "2022-02-24T03:55:39.676Z"
      },
      {
        "duration": 316,
        "start_time": "2022-02-24T03:56:52.423Z"
      },
      {
        "duration": 61,
        "start_time": "2022-02-24T03:57:18.825Z"
      },
      {
        "duration": 19,
        "start_time": "2022-02-24T03:58:30.128Z"
      },
      {
        "duration": 17,
        "start_time": "2022-02-24T03:59:39.026Z"
      },
      {
        "duration": 23,
        "start_time": "2022-02-24T04:01:14.174Z"
      },
      {
        "duration": 5,
        "start_time": "2022-02-24T04:02:48.421Z"
      },
      {
        "duration": 13,
        "start_time": "2022-02-24T04:03:19.999Z"
      },
      {
        "duration": 24,
        "start_time": "2022-02-24T04:04:25.677Z"
      },
      {
        "duration": 8,
        "start_time": "2022-02-24T04:05:25.478Z"
      },
      {
        "duration": 53,
        "start_time": "2022-02-24T04:05:48.817Z"
      },
      {
        "duration": 465,
        "start_time": "2022-02-24T04:08:44.751Z"
      },
      {
        "duration": 338,
        "start_time": "2022-02-24T04:09:33.132Z"
      },
      {
        "duration": 860,
        "start_time": "2022-02-24T04:09:44.128Z"
      },
      {
        "duration": 68,
        "start_time": "2022-02-24T04:09:44.991Z"
      },
      {
        "duration": 19,
        "start_time": "2022-02-24T04:09:45.062Z"
      },
      {
        "duration": 8,
        "start_time": "2022-02-24T04:09:45.084Z"
      },
      {
        "duration": 40,
        "start_time": "2022-02-24T04:09:45.095Z"
      },
      {
        "duration": 22,
        "start_time": "2022-02-24T04:09:45.138Z"
      },
      {
        "duration": 66,
        "start_time": "2022-02-24T04:09:45.162Z"
      },
      {
        "duration": 37,
        "start_time": "2022-02-24T04:09:45.232Z"
      },
      {
        "duration": 86,
        "start_time": "2022-02-24T04:09:45.272Z"
      },
      {
        "duration": 19,
        "start_time": "2022-02-24T04:09:45.361Z"
      },
      {
        "duration": 44,
        "start_time": "2022-02-24T04:09:45.383Z"
      },
      {
        "duration": 35,
        "start_time": "2022-02-24T04:09:45.431Z"
      },
      {
        "duration": 5,
        "start_time": "2022-02-24T04:09:45.469Z"
      },
      {
        "duration": 17,
        "start_time": "2022-02-24T04:09:45.478Z"
      },
      {
        "duration": 22,
        "start_time": "2022-02-24T04:09:45.527Z"
      },
      {
        "duration": 7,
        "start_time": "2022-02-24T04:09:45.551Z"
      },
      {
        "duration": 86,
        "start_time": "2022-02-24T04:09:45.561Z"
      },
      {
        "duration": 421,
        "start_time": "2022-02-24T04:09:45.649Z"
      },
      {
        "duration": -52,
        "start_time": "2022-02-24T04:09:46.125Z"
      },
      {
        "duration": -54,
        "start_time": "2022-02-24T04:09:46.129Z"
      },
      {
        "duration": 9,
        "start_time": "2022-02-24T04:10:24.469Z"
      },
      {
        "duration": 29,
        "start_time": "2022-02-24T04:12:13.082Z"
      },
      {
        "duration": 56,
        "start_time": "2022-02-24T04:12:51.624Z"
      },
      {
        "duration": 31,
        "start_time": "2022-02-24T04:14:01.769Z"
      },
      {
        "duration": 28,
        "start_time": "2022-02-24T04:14:49.271Z"
      },
      {
        "duration": 15,
        "start_time": "2022-02-24T04:16:54.753Z"
      },
      {
        "duration": 324,
        "start_time": "2022-02-24T04:20:09.805Z"
      },
      {
        "duration": 382,
        "start_time": "2022-02-24T04:20:48.176Z"
      },
      {
        "duration": 21,
        "start_time": "2022-02-24T04:22:16.172Z"
      },
      {
        "duration": 17,
        "start_time": "2022-02-24T04:23:43.226Z"
      },
      {
        "duration": 17,
        "start_time": "2022-02-24T04:24:20.888Z"
      },
      {
        "duration": 8,
        "start_time": "2022-02-24T04:27:07.889Z"
      },
      {
        "duration": 116,
        "start_time": "2022-02-24T04:27:56.359Z"
      },
      {
        "duration": 313,
        "start_time": "2022-02-24T04:28:03.373Z"
      },
      {
        "duration": 9,
        "start_time": "2022-02-24T04:28:36.727Z"
      },
      {
        "duration": 2380,
        "start_time": "2022-02-24T04:28:38.486Z"
      },
      {
        "duration": 5,
        "start_time": "2022-02-24T04:32:32.205Z"
      },
      {
        "duration": 4,
        "start_time": "2022-02-24T04:32:48.733Z"
      },
      {
        "duration": 21,
        "start_time": "2022-02-24T04:33:20.411Z"
      },
      {
        "duration": 14,
        "start_time": "2022-02-24T04:35:50.205Z"
      },
      {
        "duration": 14,
        "start_time": "2022-02-24T04:39:13.341Z"
      },
      {
        "duration": 105,
        "start_time": "2022-02-24T04:40:18.791Z"
      },
      {
        "duration": 12,
        "start_time": "2022-02-24T04:42:09.784Z"
      },
      {
        "duration": 4,
        "start_time": "2022-02-24T09:46:28.498Z"
      },
      {
        "duration": 423,
        "start_time": "2022-02-24T10:01:05.051Z"
      },
      {
        "duration": 856,
        "start_time": "2022-02-24T10:01:26.720Z"
      },
      {
        "duration": 67,
        "start_time": "2022-02-24T10:01:27.579Z"
      },
      {
        "duration": 20,
        "start_time": "2022-02-24T10:01:27.649Z"
      },
      {
        "duration": 7,
        "start_time": "2022-02-24T10:01:27.671Z"
      },
      {
        "duration": 38,
        "start_time": "2022-02-24T10:01:27.681Z"
      },
      {
        "duration": 19,
        "start_time": "2022-02-24T10:01:27.722Z"
      },
      {
        "duration": 68,
        "start_time": "2022-02-24T10:01:27.744Z"
      },
      {
        "duration": 37,
        "start_time": "2022-02-24T10:01:27.817Z"
      },
      {
        "duration": 90,
        "start_time": "2022-02-24T10:01:27.858Z"
      },
      {
        "duration": 18,
        "start_time": "2022-02-24T10:01:27.950Z"
      },
      {
        "duration": 15,
        "start_time": "2022-02-24T10:01:27.971Z"
      },
      {
        "duration": 42,
        "start_time": "2022-02-24T10:01:27.989Z"
      },
      {
        "duration": 5,
        "start_time": "2022-02-24T10:01:28.034Z"
      },
      {
        "duration": 15,
        "start_time": "2022-02-24T10:01:28.041Z"
      },
      {
        "duration": 63,
        "start_time": "2022-02-24T10:01:28.058Z"
      },
      {
        "duration": 6,
        "start_time": "2022-02-24T10:01:28.124Z"
      },
      {
        "duration": 53,
        "start_time": "2022-02-24T10:01:28.133Z"
      },
      {
        "duration": 29,
        "start_time": "2022-02-24T10:01:28.189Z"
      },
      {
        "duration": 29,
        "start_time": "2022-02-24T10:01:28.221Z"
      },
      {
        "duration": 91,
        "start_time": "2022-02-24T10:01:28.252Z"
      },
      {
        "duration": 27,
        "start_time": "2022-02-24T10:01:28.345Z"
      },
      {
        "duration": 47,
        "start_time": "2022-02-24T10:01:28.375Z"
      },
      {
        "duration": 13,
        "start_time": "2022-02-24T10:01:28.428Z"
      },
      {
        "duration": 9077,
        "start_time": "2022-02-24T10:01:28.445Z"
      },
      {
        "duration": -52,
        "start_time": "2022-02-24T10:01:37.577Z"
      },
      {
        "duration": -55,
        "start_time": "2022-02-24T10:01:37.581Z"
      },
      {
        "duration": -56,
        "start_time": "2022-02-24T10:01:37.584Z"
      },
      {
        "duration": -59,
        "start_time": "2022-02-24T10:01:37.588Z"
      },
      {
        "duration": -62,
        "start_time": "2022-02-24T10:01:37.592Z"
      },
      {
        "duration": -89,
        "start_time": "2022-02-24T10:01:37.621Z"
      },
      {
        "duration": -102,
        "start_time": "2022-02-24T10:01:37.635Z"
      },
      {
        "duration": -105,
        "start_time": "2022-02-24T10:01:37.639Z"
      },
      {
        "duration": -110,
        "start_time": "2022-02-24T10:01:37.645Z"
      },
      {
        "duration": 36,
        "start_time": "2022-02-24T10:05:07.181Z"
      },
      {
        "duration": 3,
        "start_time": "2022-02-24T10:06:40.426Z"
      },
      {
        "duration": 3238,
        "start_time": "2022-02-24T10:07:58.619Z"
      },
      {
        "duration": 2809,
        "start_time": "2022-02-24T10:08:03.474Z"
      },
      {
        "duration": 2618,
        "start_time": "2022-02-24T10:08:34.060Z"
      },
      {
        "duration": 22,
        "start_time": "2022-02-24T10:13:31.474Z"
      },
      {
        "duration": 14,
        "start_time": "2022-02-24T10:13:52.575Z"
      },
      {
        "duration": 4,
        "start_time": "2022-02-24T10:16:35.754Z"
      },
      {
        "duration": 16,
        "start_time": "2022-02-24T10:42:16.884Z"
      },
      {
        "duration": 12,
        "start_time": "2022-02-24T12:08:48.096Z"
      },
      {
        "duration": 14,
        "start_time": "2022-02-24T12:10:01.252Z"
      },
      {
        "duration": 15,
        "start_time": "2022-02-24T12:10:05.732Z"
      },
      {
        "duration": 13,
        "start_time": "2022-02-24T12:10:46.472Z"
      },
      {
        "duration": 28,
        "start_time": "2022-02-24T12:13:07.166Z"
      },
      {
        "duration": 1483,
        "start_time": "2022-02-24T12:35:41.109Z"
      },
      {
        "duration": 5,
        "start_time": "2022-02-24T12:35:45.591Z"
      },
      {
        "duration": 1000,
        "start_time": "2022-02-24T12:35:48.325Z"
      },
      {
        "duration": 895,
        "start_time": "2022-02-24T12:36:24.316Z"
      },
      {
        "duration": 6,
        "start_time": "2022-02-24T13:30:13.270Z"
      },
      {
        "duration": 890,
        "start_time": "2022-02-24T13:30:42.990Z"
      },
      {
        "duration": 2267,
        "start_time": "2022-02-24T13:35:58.349Z"
      },
      {
        "duration": 1267,
        "start_time": "2022-02-24T13:36:07.692Z"
      },
      {
        "duration": 346,
        "start_time": "2022-02-24T13:36:20.035Z"
      },
      {
        "duration": 9,
        "start_time": "2022-02-24T13:36:34.890Z"
      },
      {
        "duration": 9,
        "start_time": "2022-02-24T13:37:17.078Z"
      },
      {
        "duration": 15,
        "start_time": "2022-02-24T14:29:36.079Z"
      },
      {
        "duration": 18,
        "start_time": "2022-02-24T14:29:54.310Z"
      },
      {
        "duration": 25,
        "start_time": "2022-02-24T14:32:30.462Z"
      },
      {
        "duration": 485,
        "start_time": "2022-02-24T14:36:00.323Z"
      },
      {
        "duration": 26,
        "start_time": "2022-02-24T14:36:18.234Z"
      },
      {
        "duration": -71,
        "start_time": "2022-02-24T14:38:48.316Z"
      },
      {
        "duration": 493,
        "start_time": "2022-02-24T14:39:08.416Z"
      },
      {
        "duration": 8535,
        "start_time": "2022-02-24T14:39:13.811Z"
      },
      {
        "duration": 10548,
        "start_time": "2022-02-24T14:39:47.053Z"
      },
      {
        "duration": 26,
        "start_time": "2022-02-24T14:40:18.086Z"
      },
      {
        "duration": 27,
        "start_time": "2022-02-24T14:40:59.425Z"
      },
      {
        "duration": 27,
        "start_time": "2022-02-24T14:41:55.929Z"
      },
      {
        "duration": 39,
        "start_time": "2022-02-24T14:52:24.627Z"
      },
      {
        "duration": 30,
        "start_time": "2022-02-24T14:54:27.400Z"
      },
      {
        "duration": 4,
        "start_time": "2022-02-24T17:04:42.134Z"
      },
      {
        "duration": 172,
        "start_time": "2022-02-24T17:08:30.307Z"
      },
      {
        "duration": -44,
        "start_time": "2022-02-24T17:09:02.473Z"
      },
      {
        "duration": 154,
        "start_time": "2022-02-24T17:09:09.782Z"
      },
      {
        "duration": 144,
        "start_time": "2022-02-24T17:09:19.469Z"
      },
      {
        "duration": 153,
        "start_time": "2022-02-24T17:09:32.484Z"
      },
      {
        "duration": 154,
        "start_time": "2022-02-24T17:09:43.152Z"
      },
      {
        "duration": 5,
        "start_time": "2022-02-24T17:12:28.376Z"
      },
      {
        "duration": 398,
        "start_time": "2022-02-24T17:12:32.701Z"
      },
      {
        "duration": 387,
        "start_time": "2022-02-24T17:12:51.005Z"
      },
      {
        "duration": 5,
        "start_time": "2022-02-24T17:14:33.814Z"
      },
      {
        "duration": 5,
        "start_time": "2022-02-24T17:14:38.058Z"
      },
      {
        "duration": 405,
        "start_time": "2022-02-24T17:14:41.671Z"
      },
      {
        "duration": 5,
        "start_time": "2022-02-24T17:14:50.680Z"
      },
      {
        "duration": 604,
        "start_time": "2022-02-24T17:14:54.999Z"
      },
      {
        "duration": 5,
        "start_time": "2022-02-24T17:15:29.471Z"
      },
      {
        "duration": 5,
        "start_time": "2022-02-24T17:15:32.567Z"
      },
      {
        "duration": 399,
        "start_time": "2022-02-24T17:15:35.281Z"
      },
      {
        "duration": 5,
        "start_time": "2022-02-24T17:16:03.241Z"
      },
      {
        "duration": 422,
        "start_time": "2022-02-24T17:16:05.704Z"
      },
      {
        "duration": 855,
        "start_time": "2022-02-24T17:16:19.444Z"
      },
      {
        "duration": 58,
        "start_time": "2022-02-24T17:16:20.302Z"
      },
      {
        "duration": 20,
        "start_time": "2022-02-24T17:16:20.364Z"
      },
      {
        "duration": 26,
        "start_time": "2022-02-24T17:16:20.387Z"
      },
      {
        "duration": 17,
        "start_time": "2022-02-24T17:16:20.416Z"
      },
      {
        "duration": 19,
        "start_time": "2022-02-24T17:16:20.435Z"
      },
      {
        "duration": 69,
        "start_time": "2022-02-24T17:16:20.457Z"
      },
      {
        "duration": 36,
        "start_time": "2022-02-24T17:16:20.529Z"
      },
      {
        "duration": 78,
        "start_time": "2022-02-24T17:16:20.569Z"
      },
      {
        "duration": 17,
        "start_time": "2022-02-24T17:16:20.651Z"
      },
      {
        "duration": 17,
        "start_time": "2022-02-24T17:16:20.671Z"
      },
      {
        "duration": 25,
        "start_time": "2022-02-24T17:16:20.710Z"
      },
      {
        "duration": 4,
        "start_time": "2022-02-24T17:16:20.738Z"
      },
      {
        "duration": 18,
        "start_time": "2022-02-24T17:16:20.745Z"
      },
      {
        "duration": 58,
        "start_time": "2022-02-24T17:16:20.766Z"
      },
      {
        "duration": 7,
        "start_time": "2022-02-24T17:16:20.827Z"
      },
      {
        "duration": 78,
        "start_time": "2022-02-24T17:16:20.836Z"
      },
      {
        "duration": 10,
        "start_time": "2022-02-24T17:16:20.916Z"
      },
      {
        "duration": 31,
        "start_time": "2022-02-24T17:16:20.929Z"
      },
      {
        "duration": 88,
        "start_time": "2022-02-24T17:16:20.962Z"
      },
      {
        "duration": 31,
        "start_time": "2022-02-24T17:16:21.053Z"
      },
      {
        "duration": 49,
        "start_time": "2022-02-24T17:16:21.086Z"
      },
      {
        "duration": 15,
        "start_time": "2022-02-24T17:16:21.138Z"
      },
      {
        "duration": 15,
        "start_time": "2022-02-24T17:16:21.156Z"
      },
      {
        "duration": 6,
        "start_time": "2022-02-24T17:16:21.211Z"
      },
      {
        "duration": 898,
        "start_time": "2022-02-24T17:16:21.221Z"
      },
      {
        "duration": 8,
        "start_time": "2022-02-24T17:16:22.126Z"
      },
      {
        "duration": 6,
        "start_time": "2022-02-24T17:16:22.138Z"
      },
      {
        "duration": 419,
        "start_time": "2022-02-24T17:16:22.146Z"
      },
      {
        "duration": 42,
        "start_time": "2022-02-24T17:16:22.568Z"
      },
      {
        "duration": 26,
        "start_time": "2022-02-24T17:16:22.613Z"
      },
      {
        "duration": 29,
        "start_time": "2022-02-24T17:16:22.641Z"
      },
      {
        "duration": 407,
        "start_time": "2022-02-24T17:16:22.673Z"
      },
      {
        "duration": 29,
        "start_time": "2022-02-24T17:21:49.542Z"
      },
      {
        "duration": 5,
        "start_time": "2022-02-24T17:22:22.918Z"
      },
      {
        "duration": 411,
        "start_time": "2022-02-24T17:22:26.060Z"
      },
      {
        "duration": 5,
        "start_time": "2022-02-24T17:23:21.958Z"
      },
      {
        "duration": 5,
        "start_time": "2022-02-24T17:23:32.341Z"
      },
      {
        "duration": 4,
        "start_time": "2022-02-24T17:24:01.299Z"
      },
      {
        "duration": 922,
        "start_time": "2022-02-24T17:25:35.098Z"
      },
      {
        "duration": 829,
        "start_time": "2022-02-25T07:17:50.453Z"
      },
      {
        "duration": 56,
        "start_time": "2022-02-25T07:18:31.929Z"
      },
      {
        "duration": 7,
        "start_time": "2022-02-25T07:22:32.651Z"
      },
      {
        "duration": 22,
        "start_time": "2022-02-25T07:23:13.197Z"
      },
      {
        "duration": 33,
        "start_time": "2022-02-25T07:25:07.235Z"
      },
      {
        "duration": 490,
        "start_time": "2022-02-25T07:54:33.820Z"
      },
      {
        "duration": 368,
        "start_time": "2022-02-25T08:00:58.564Z"
      },
      {
        "duration": 363,
        "start_time": "2022-02-25T08:01:18.142Z"
      },
      {
        "duration": 46,
        "start_time": "2022-02-25T08:01:46.773Z"
      },
      {
        "duration": 48,
        "start_time": "2022-02-25T08:01:55.449Z"
      },
      {
        "duration": 832,
        "start_time": "2022-02-25T08:02:11.330Z"
      },
      {
        "duration": 69,
        "start_time": "2022-02-25T08:02:12.165Z"
      },
      {
        "duration": 23,
        "start_time": "2022-02-25T08:02:12.240Z"
      },
      {
        "duration": 9,
        "start_time": "2022-02-25T08:02:12.265Z"
      },
      {
        "duration": 37,
        "start_time": "2022-02-25T08:02:12.277Z"
      },
      {
        "duration": 20,
        "start_time": "2022-02-25T08:02:12.317Z"
      },
      {
        "duration": 92,
        "start_time": "2022-02-25T08:02:12.341Z"
      },
      {
        "duration": 37,
        "start_time": "2022-02-25T08:02:12.437Z"
      },
      {
        "duration": 78,
        "start_time": "2022-02-25T08:02:12.477Z"
      },
      {
        "duration": 20,
        "start_time": "2022-02-25T08:02:12.558Z"
      },
      {
        "duration": 37,
        "start_time": "2022-02-25T08:02:12.580Z"
      },
      {
        "duration": 24,
        "start_time": "2022-02-25T08:02:12.619Z"
      },
      {
        "duration": 4,
        "start_time": "2022-02-25T08:02:12.646Z"
      },
      {
        "duration": 12,
        "start_time": "2022-02-25T08:02:12.652Z"
      },
      {
        "duration": 52,
        "start_time": "2022-02-25T08:02:12.666Z"
      },
      {
        "duration": 7,
        "start_time": "2022-02-25T08:02:12.721Z"
      },
      {
        "duration": 54,
        "start_time": "2022-02-25T08:02:12.730Z"
      },
      {
        "duration": 29,
        "start_time": "2022-02-25T08:02:12.786Z"
      },
      {
        "duration": 30,
        "start_time": "2022-02-25T08:02:12.818Z"
      },
      {
        "duration": 82,
        "start_time": "2022-02-25T08:02:12.850Z"
      },
      {
        "duration": 28,
        "start_time": "2022-02-25T08:02:12.935Z"
      },
      {
        "duration": 53,
        "start_time": "2022-02-25T08:02:12.968Z"
      },
      {
        "duration": 21,
        "start_time": "2022-02-25T08:02:13.024Z"
      },
      {
        "duration": 22,
        "start_time": "2022-02-25T08:02:13.047Z"
      },
      {
        "duration": 11,
        "start_time": "2022-02-25T08:02:13.072Z"
      },
      {
        "duration": 925,
        "start_time": "2022-02-25T08:02:13.085Z"
      },
      {
        "duration": 9,
        "start_time": "2022-02-25T08:02:14.013Z"
      },
      {
        "duration": 6,
        "start_time": "2022-02-25T08:02:14.025Z"
      },
      {
        "duration": 483,
        "start_time": "2022-02-25T08:02:14.033Z"
      },
      {
        "duration": 30,
        "start_time": "2022-02-25T08:02:14.518Z"
      },
      {
        "duration": 24,
        "start_time": "2022-02-25T08:02:14.550Z"
      },
      {
        "duration": 58,
        "start_time": "2022-02-25T08:02:14.576Z"
      },
      {
        "duration": 29,
        "start_time": "2022-02-25T08:02:14.636Z"
      },
      {
        "duration": 49,
        "start_time": "2022-02-25T08:02:59.137Z"
      },
      {
        "duration": 48,
        "start_time": "2022-02-25T08:03:20.448Z"
      },
      {
        "duration": 554,
        "start_time": "2022-02-25T08:04:03.056Z"
      },
      {
        "duration": 357,
        "start_time": "2022-02-25T08:04:14.055Z"
      },
      {
        "duration": 351,
        "start_time": "2022-02-25T08:04:34.525Z"
      },
      {
        "duration": 348,
        "start_time": "2022-02-25T08:05:08.624Z"
      },
      {
        "duration": 338,
        "start_time": "2022-02-25T08:05:22.575Z"
      },
      {
        "duration": 376,
        "start_time": "2022-02-25T08:05:42.540Z"
      },
      {
        "duration": 497,
        "start_time": "2022-02-25T08:06:00.421Z"
      },
      {
        "duration": 355,
        "start_time": "2022-02-25T08:07:10.477Z"
      },
      {
        "duration": 346,
        "start_time": "2022-02-25T08:07:22.211Z"
      },
      {
        "duration": 335,
        "start_time": "2022-02-25T08:07:27.814Z"
      },
      {
        "duration": 354,
        "start_time": "2022-02-25T08:08:43.791Z"
      },
      {
        "duration": 837,
        "start_time": "2022-02-25T08:09:27.836Z"
      },
      {
        "duration": 63,
        "start_time": "2022-02-25T08:09:28.676Z"
      },
      {
        "duration": 20,
        "start_time": "2022-02-25T08:09:28.743Z"
      },
      {
        "duration": 8,
        "start_time": "2022-02-25T08:09:28.766Z"
      },
      {
        "duration": 40,
        "start_time": "2022-02-25T08:09:28.776Z"
      },
      {
        "duration": 19,
        "start_time": "2022-02-25T08:09:28.818Z"
      },
      {
        "duration": 462,
        "start_time": "2022-02-25T08:09:28.840Z"
      },
      {
        "duration": -54,
        "start_time": "2022-02-25T08:09:29.361Z"
      },
      {
        "duration": -57,
        "start_time": "2022-02-25T08:09:29.365Z"
      },
      {
        "duration": -58,
        "start_time": "2022-02-25T08:09:29.368Z"
      },
      {
        "duration": -62,
        "start_time": "2022-02-25T08:09:29.373Z"
      },
      {
        "duration": -64,
        "start_time": "2022-02-25T08:09:29.377Z"
      },
      {
        "duration": -66,
        "start_time": "2022-02-25T08:09:29.380Z"
      },
      {
        "duration": -82,
        "start_time": "2022-02-25T08:09:29.398Z"
      },
      {
        "duration": -98,
        "start_time": "2022-02-25T08:09:29.415Z"
      },
      {
        "duration": -106,
        "start_time": "2022-02-25T08:09:29.425Z"
      },
      {
        "duration": -109,
        "start_time": "2022-02-25T08:09:29.429Z"
      },
      {
        "duration": -110,
        "start_time": "2022-02-25T08:09:29.432Z"
      },
      {
        "duration": -114,
        "start_time": "2022-02-25T08:09:29.438Z"
      },
      {
        "duration": -116,
        "start_time": "2022-02-25T08:09:29.442Z"
      },
      {
        "duration": -118,
        "start_time": "2022-02-25T08:09:29.445Z"
      },
      {
        "duration": -120,
        "start_time": "2022-02-25T08:09:29.448Z"
      },
      {
        "duration": -121,
        "start_time": "2022-02-25T08:09:29.451Z"
      },
      {
        "duration": -124,
        "start_time": "2022-02-25T08:09:29.455Z"
      },
      {
        "duration": -127,
        "start_time": "2022-02-25T08:09:29.459Z"
      },
      {
        "duration": -134,
        "start_time": "2022-02-25T08:09:29.468Z"
      },
      {
        "duration": -137,
        "start_time": "2022-02-25T08:09:29.472Z"
      },
      {
        "duration": -138,
        "start_time": "2022-02-25T08:09:29.475Z"
      },
      {
        "duration": -140,
        "start_time": "2022-02-25T08:09:29.478Z"
      },
      {
        "duration": -142,
        "start_time": "2022-02-25T08:09:29.482Z"
      },
      {
        "duration": -144,
        "start_time": "2022-02-25T08:09:29.486Z"
      },
      {
        "duration": -144,
        "start_time": "2022-02-25T08:09:29.490Z"
      },
      {
        "duration": -145,
        "start_time": "2022-02-25T08:09:29.493Z"
      },
      {
        "duration": 914,
        "start_time": "2022-02-25T08:10:46.503Z"
      },
      {
        "duration": 35,
        "start_time": "2022-02-25T08:11:58.490Z"
      },
      {
        "duration": 23,
        "start_time": "2022-02-25T08:15:58.631Z"
      },
      {
        "duration": 19,
        "start_time": "2022-02-25T08:16:40.721Z"
      },
      {
        "duration": 16,
        "start_time": "2022-02-25T08:22:13.330Z"
      },
      {
        "duration": 5,
        "start_time": "2022-02-25T08:25:06.101Z"
      },
      {
        "duration": 14,
        "start_time": "2022-02-25T08:26:36.274Z"
      },
      {
        "duration": 431,
        "start_time": "2022-02-25T08:30:41.425Z"
      },
      {
        "duration": 390,
        "start_time": "2022-02-25T08:33:16.648Z"
      },
      {
        "duration": 481,
        "start_time": "2022-02-25T08:33:45.173Z"
      },
      {
        "duration": 9830,
        "start_time": "2022-02-25T08:34:25.709Z"
      },
      {
        "duration": 10024,
        "start_time": "2022-02-25T08:34:39.827Z"
      },
      {
        "duration": 6,
        "start_time": "2022-02-25T08:35:11.793Z"
      },
      {
        "duration": 8,
        "start_time": "2022-02-25T08:35:50.205Z"
      },
      {
        "duration": 1343,
        "start_time": "2022-02-25T08:36:30.487Z"
      },
      {
        "duration": 114,
        "start_time": "2022-02-25T08:37:43.613Z"
      },
      {
        "duration": 5,
        "start_time": "2022-02-25T08:37:49.956Z"
      },
      {
        "duration": 11,
        "start_time": "2022-02-25T08:38:53.981Z"
      },
      {
        "duration": 9,
        "start_time": "2022-02-25T08:39:02.876Z"
      },
      {
        "duration": 10383,
        "start_time": "2022-02-25T08:39:34.093Z"
      },
      {
        "duration": 9202,
        "start_time": "2022-02-25T08:39:47.996Z"
      },
      {
        "duration": 18855,
        "start_time": "2022-02-25T08:40:01.756Z"
      },
      {
        "duration": 10,
        "start_time": "2022-02-25T08:40:25.666Z"
      },
      {
        "duration": 93,
        "start_time": "2022-02-25T08:41:22.897Z"
      },
      {
        "duration": 48,
        "start_time": "2022-02-25T08:42:08.800Z"
      },
      {
        "duration": 6,
        "start_time": "2022-02-25T08:43:24.895Z"
      },
      {
        "duration": 6,
        "start_time": "2022-02-25T08:43:50.932Z"
      },
      {
        "duration": 47,
        "start_time": "2022-02-25T08:43:53.711Z"
      },
      {
        "duration": 64,
        "start_time": "2022-02-25T08:49:37.810Z"
      },
      {
        "duration": 111,
        "start_time": "2022-02-25T08:50:21.952Z"
      },
      {
        "duration": 123,
        "start_time": "2022-02-25T08:50:35.431Z"
      },
      {
        "duration": 53,
        "start_time": "2022-02-25T08:50:51.510Z"
      },
      {
        "duration": 36,
        "start_time": "2022-02-25T08:51:23.760Z"
      },
      {
        "duration": 10,
        "start_time": "2022-02-25T08:57:24.298Z"
      },
      {
        "duration": 8,
        "start_time": "2022-02-25T08:57:38.720Z"
      },
      {
        "duration": 47,
        "start_time": "2022-02-25T08:57:42.062Z"
      },
      {
        "duration": 9,
        "start_time": "2022-02-25T09:00:10.500Z"
      },
      {
        "duration": 28,
        "start_time": "2022-02-25T09:02:28.871Z"
      },
      {
        "duration": 51,
        "start_time": "2022-02-25T09:02:51.343Z"
      },
      {
        "duration": 28,
        "start_time": "2022-02-25T09:05:05.151Z"
      },
      {
        "duration": 27,
        "start_time": "2022-02-25T09:05:06.874Z"
      },
      {
        "duration": 399,
        "start_time": "2022-02-25T18:09:15.919Z"
      },
      {
        "duration": 1283,
        "start_time": "2022-02-25T18:09:27.961Z"
      },
      {
        "duration": 83,
        "start_time": "2022-02-25T18:09:29.247Z"
      },
      {
        "duration": 30,
        "start_time": "2022-02-25T18:09:29.334Z"
      },
      {
        "duration": 27,
        "start_time": "2022-02-25T18:09:29.366Z"
      },
      {
        "duration": 13,
        "start_time": "2022-02-25T18:09:29.396Z"
      },
      {
        "duration": 40,
        "start_time": "2022-02-25T18:09:29.411Z"
      },
      {
        "duration": 53,
        "start_time": "2022-02-25T18:09:29.454Z"
      },
      {
        "duration": 17,
        "start_time": "2022-02-25T18:09:29.512Z"
      },
      {
        "duration": 13,
        "start_time": "2022-02-25T18:09:29.533Z"
      },
      {
        "duration": 11,
        "start_time": "2022-02-25T18:09:29.548Z"
      },
      {
        "duration": 51,
        "start_time": "2022-02-25T18:09:29.594Z"
      },
      {
        "duration": 8,
        "start_time": "2022-02-25T18:09:29.648Z"
      },
      {
        "duration": 55,
        "start_time": "2022-02-25T18:09:29.658Z"
      },
      {
        "duration": 53,
        "start_time": "2022-02-25T18:09:29.715Z"
      },
      {
        "duration": 26,
        "start_time": "2022-02-25T18:09:29.795Z"
      },
      {
        "duration": 25,
        "start_time": "2022-02-25T18:09:29.823Z"
      },
      {
        "duration": 14,
        "start_time": "2022-02-25T18:09:29.850Z"
      },
      {
        "duration": 13,
        "start_time": "2022-02-25T18:09:29.894Z"
      },
      {
        "duration": 9,
        "start_time": "2022-02-25T18:09:29.910Z"
      },
      {
        "duration": 892,
        "start_time": "2022-02-25T18:09:29.921Z"
      },
      {
        "duration": 9,
        "start_time": "2022-02-25T18:09:30.816Z"
      },
      {
        "duration": 21,
        "start_time": "2022-02-25T18:09:30.827Z"
      },
      {
        "duration": 435,
        "start_time": "2022-02-25T18:09:30.854Z"
      },
      {
        "duration": 35,
        "start_time": "2022-02-25T18:09:31.291Z"
      },
      {
        "duration": 31,
        "start_time": "2022-02-25T18:09:31.329Z"
      },
      {
        "duration": 35,
        "start_time": "2022-02-25T18:09:31.395Z"
      },
      {
        "duration": 29,
        "start_time": "2022-02-25T18:09:31.433Z"
      },
      {
        "duration": 5,
        "start_time": "2022-02-25T18:11:12.205Z"
      },
      {
        "duration": 859,
        "start_time": "2022-02-25T18:16:02.045Z"
      },
      {
        "duration": 57,
        "start_time": "2022-02-25T18:16:02.907Z"
      },
      {
        "duration": 36,
        "start_time": "2022-02-25T18:16:02.968Z"
      },
      {
        "duration": 11,
        "start_time": "2022-02-25T18:16:03.007Z"
      },
      {
        "duration": 26,
        "start_time": "2022-02-25T18:16:03.021Z"
      },
      {
        "duration": 62,
        "start_time": "2022-02-25T18:16:03.049Z"
      },
      {
        "duration": 21,
        "start_time": "2022-02-25T18:16:03.114Z"
      },
      {
        "duration": 17,
        "start_time": "2022-02-25T18:16:03.138Z"
      },
      {
        "duration": 36,
        "start_time": "2022-02-25T18:16:03.158Z"
      },
      {
        "duration": 17,
        "start_time": "2022-02-25T18:16:03.196Z"
      },
      {
        "duration": 52,
        "start_time": "2022-02-25T18:16:03.216Z"
      },
      {
        "duration": 28,
        "start_time": "2022-02-25T18:16:03.271Z"
      },
      {
        "duration": 41,
        "start_time": "2022-02-25T18:16:03.302Z"
      },
      {
        "duration": 72,
        "start_time": "2022-02-25T18:16:03.346Z"
      },
      {
        "duration": 25,
        "start_time": "2022-02-25T18:16:03.420Z"
      },
      {
        "duration": 23,
        "start_time": "2022-02-25T18:16:03.447Z"
      },
      {
        "duration": 13,
        "start_time": "2022-02-25T18:16:03.493Z"
      },
      {
        "duration": 28,
        "start_time": "2022-02-25T18:16:03.509Z"
      },
      {
        "duration": 21,
        "start_time": "2022-02-25T18:16:03.539Z"
      },
      {
        "duration": 881,
        "start_time": "2022-02-25T18:16:03.563Z"
      },
      {
        "duration": 8,
        "start_time": "2022-02-25T18:16:04.447Z"
      },
      {
        "duration": 6,
        "start_time": "2022-02-25T18:16:04.458Z"
      },
      {
        "duration": 714,
        "start_time": "2022-02-25T18:16:04.494Z"
      },
      {
        "duration": 45,
        "start_time": "2022-02-25T18:16:05.212Z"
      },
      {
        "duration": 45,
        "start_time": "2022-02-25T18:16:05.260Z"
      },
      {
        "duration": 34,
        "start_time": "2022-02-25T18:16:05.308Z"
      },
      {
        "duration": 57,
        "start_time": "2022-02-25T18:16:05.345Z"
      },
      {
        "duration": 4,
        "start_time": "2022-02-25T18:18:17.156Z"
      },
      {
        "duration": 396,
        "start_time": "2022-02-25T18:18:18.339Z"
      },
      {
        "duration": 604,
        "start_time": "2022-02-25T18:20:21.835Z"
      },
      {
        "duration": 536,
        "start_time": "2022-02-25T18:20:32.210Z"
      },
      {
        "duration": 425,
        "start_time": "2022-02-25T18:20:45.977Z"
      },
      {
        "duration": 366,
        "start_time": "2022-02-25T18:21:16.686Z"
      },
      {
        "duration": 385,
        "start_time": "2022-02-25T18:21:34.540Z"
      },
      {
        "duration": 940,
        "start_time": "2022-02-25T18:21:46.477Z"
      },
      {
        "duration": 286,
        "start_time": "2022-02-25T18:22:45.753Z"
      },
      {
        "duration": 290,
        "start_time": "2022-02-25T18:22:51.253Z"
      },
      {
        "duration": 335,
        "start_time": "2022-02-25T18:22:55.309Z"
      },
      {
        "duration": 295,
        "start_time": "2022-02-25T18:23:25.012Z"
      },
      {
        "duration": 288,
        "start_time": "2022-02-25T18:23:59.372Z"
      },
      {
        "duration": 340,
        "start_time": "2022-02-25T18:24:06.506Z"
      },
      {
        "duration": 286,
        "start_time": "2022-02-25T18:25:14.358Z"
      },
      {
        "duration": 323,
        "start_time": "2022-02-25T18:25:33.427Z"
      },
      {
        "duration": 331,
        "start_time": "2022-02-25T18:25:57.235Z"
      },
      {
        "duration": 24,
        "start_time": "2022-02-25T18:26:04.931Z"
      },
      {
        "duration": 26,
        "start_time": "2022-02-25T18:26:35.501Z"
      },
      {
        "duration": 24,
        "start_time": "2022-02-25T18:26:46.992Z"
      },
      {
        "duration": 370,
        "start_time": "2022-02-25T18:27:27.777Z"
      },
      {
        "duration": 27,
        "start_time": "2022-02-25T18:27:37.382Z"
      },
      {
        "duration": 309,
        "start_time": "2022-02-25T18:28:25.389Z"
      },
      {
        "duration": 25,
        "start_time": "2022-02-25T18:28:34.390Z"
      },
      {
        "duration": 38,
        "start_time": "2022-02-25T18:29:57.281Z"
      },
      {
        "duration": 26,
        "start_time": "2022-02-25T18:30:41.063Z"
      },
      {
        "duration": 28,
        "start_time": "2022-02-25T18:30:52.566Z"
      },
      {
        "duration": 23,
        "start_time": "2022-02-25T18:31:26.502Z"
      },
      {
        "duration": 27,
        "start_time": "2022-02-25T18:33:45.786Z"
      },
      {
        "duration": 298,
        "start_time": "2022-02-25T18:34:06.840Z"
      },
      {
        "duration": 26,
        "start_time": "2022-02-25T18:34:15.161Z"
      },
      {
        "duration": 5,
        "start_time": "2022-02-25T18:39:15.176Z"
      },
      {
        "duration": 94,
        "start_time": "2022-02-25T18:39:48.452Z"
      },
      {
        "duration": 91,
        "start_time": "2022-02-25T18:39:51.881Z"
      },
      {
        "duration": 101,
        "start_time": "2022-02-25T18:39:57.347Z"
      },
      {
        "duration": 95,
        "start_time": "2022-02-25T18:40:13.279Z"
      },
      {
        "duration": 273,
        "start_time": "2022-02-25T18:40:16.901Z"
      },
      {
        "duration": 271,
        "start_time": "2022-02-25T18:40:46.887Z"
      },
      {
        "duration": 271,
        "start_time": "2022-02-25T18:40:55.752Z"
      },
      {
        "duration": 327,
        "start_time": "2022-02-25T18:41:02.864Z"
      },
      {
        "duration": 331,
        "start_time": "2022-02-25T18:42:10.892Z"
      },
      {
        "duration": 512,
        "start_time": "2022-02-25T18:42:15.019Z"
      },
      {
        "duration": 287,
        "start_time": "2022-02-25T18:42:31.387Z"
      },
      {
        "duration": 261,
        "start_time": "2022-02-25T18:42:58.553Z"
      },
      {
        "duration": 276,
        "start_time": "2022-02-25T18:43:04.604Z"
      },
      {
        "duration": 316,
        "start_time": "2022-02-25T18:43:20.128Z"
      },
      {
        "duration": 282,
        "start_time": "2022-02-25T18:44:21.356Z"
      },
      {
        "duration": 4,
        "start_time": "2022-02-25T18:44:51.724Z"
      },
      {
        "duration": 6,
        "start_time": "2022-02-25T18:45:46.334Z"
      },
      {
        "duration": 6,
        "start_time": "2022-02-25T18:47:06.427Z"
      },
      {
        "duration": 427,
        "start_time": "2022-02-25T18:47:48.511Z"
      },
      {
        "duration": 6,
        "start_time": "2022-02-25T18:48:03.020Z"
      },
      {
        "duration": 6,
        "start_time": "2022-02-25T18:48:40.035Z"
      },
      {
        "duration": 9,
        "start_time": "2022-02-25T18:49:51.750Z"
      },
      {
        "duration": 29,
        "start_time": "2022-02-25T18:50:55.523Z"
      },
      {
        "duration": 29,
        "start_time": "2022-02-25T18:51:02.421Z"
      },
      {
        "duration": 24,
        "start_time": "2022-02-25T18:52:15.029Z"
      },
      {
        "duration": 301,
        "start_time": "2022-02-25T18:55:01.050Z"
      },
      {
        "duration": 822,
        "start_time": "2022-02-25T18:57:12.994Z"
      },
      {
        "duration": 58,
        "start_time": "2022-02-25T18:57:13.819Z"
      },
      {
        "duration": 21,
        "start_time": "2022-02-25T18:57:13.892Z"
      },
      {
        "duration": 9,
        "start_time": "2022-02-25T18:57:13.917Z"
      },
      {
        "duration": 12,
        "start_time": "2022-02-25T18:57:13.929Z"
      },
      {
        "duration": 64,
        "start_time": "2022-02-25T18:57:13.943Z"
      },
      {
        "duration": 20,
        "start_time": "2022-02-25T18:57:14.009Z"
      },
      {
        "duration": 17,
        "start_time": "2022-02-25T18:57:14.032Z"
      },
      {
        "duration": 42,
        "start_time": "2022-02-25T18:57:14.053Z"
      },
      {
        "duration": 8,
        "start_time": "2022-02-25T18:57:14.098Z"
      },
      {
        "duration": 51,
        "start_time": "2022-02-25T18:57:14.109Z"
      },
      {
        "duration": 33,
        "start_time": "2022-02-25T18:57:14.162Z"
      },
      {
        "duration": 27,
        "start_time": "2022-02-25T18:57:14.197Z"
      },
      {
        "duration": 77,
        "start_time": "2022-02-25T18:57:14.226Z"
      },
      {
        "duration": 25,
        "start_time": "2022-02-25T18:57:14.305Z"
      },
      {
        "duration": 23,
        "start_time": "2022-02-25T18:57:14.332Z"
      },
      {
        "duration": 409,
        "start_time": "2022-02-25T18:57:14.358Z"
      },
      {
        "duration": -33,
        "start_time": "2022-02-25T18:57:14.803Z"
      },
      {
        "duration": -36,
        "start_time": "2022-02-25T18:57:14.807Z"
      },
      {
        "duration": -38,
        "start_time": "2022-02-25T18:57:14.811Z"
      },
      {
        "duration": -40,
        "start_time": "2022-02-25T18:57:14.814Z"
      },
      {
        "duration": -42,
        "start_time": "2022-02-25T18:57:14.818Z"
      },
      {
        "duration": -45,
        "start_time": "2022-02-25T18:57:14.822Z"
      },
      {
        "duration": -46,
        "start_time": "2022-02-25T18:57:14.825Z"
      },
      {
        "duration": -52,
        "start_time": "2022-02-25T18:57:14.832Z"
      },
      {
        "duration": -54,
        "start_time": "2022-02-25T18:57:14.836Z"
      },
      {
        "duration": -57,
        "start_time": "2022-02-25T18:57:14.840Z"
      },
      {
        "duration": -58,
        "start_time": "2022-02-25T18:57:14.843Z"
      },
      {
        "duration": 329,
        "start_time": "2022-02-25T18:57:32.133Z"
      },
      {
        "duration": 317,
        "start_time": "2022-02-25T18:57:46.281Z"
      },
      {
        "duration": 19,
        "start_time": "2022-02-25T18:58:12.708Z"
      },
      {
        "duration": 28,
        "start_time": "2022-02-25T18:58:24.777Z"
      },
      {
        "duration": 23,
        "start_time": "2022-02-25T18:58:42.319Z"
      },
      {
        "duration": 305,
        "start_time": "2022-02-25T18:58:55.119Z"
      },
      {
        "duration": 288,
        "start_time": "2022-02-25T18:59:03.243Z"
      },
      {
        "duration": 11,
        "start_time": "2022-02-25T18:59:49.010Z"
      },
      {
        "duration": 17,
        "start_time": "2022-02-25T18:59:55.725Z"
      },
      {
        "duration": 302,
        "start_time": "2022-02-25T19:00:12.121Z"
      },
      {
        "duration": 272,
        "start_time": "2022-02-25T19:00:31.990Z"
      },
      {
        "duration": 278,
        "start_time": "2022-02-25T19:00:47.953Z"
      },
      {
        "duration": 18,
        "start_time": "2022-02-25T19:00:52.663Z"
      },
      {
        "duration": 359,
        "start_time": "2022-02-25T19:00:57.147Z"
      },
      {
        "duration": 7,
        "start_time": "2022-02-25T19:06:21.820Z"
      },
      {
        "duration": 276,
        "start_time": "2022-02-25T19:06:24.927Z"
      },
      {
        "duration": 1061,
        "start_time": "2022-02-25T19:07:27.260Z"
      },
      {
        "duration": 69,
        "start_time": "2022-02-25T19:07:28.324Z"
      },
      {
        "duration": 19,
        "start_time": "2022-02-25T19:07:28.397Z"
      },
      {
        "duration": 7,
        "start_time": "2022-02-25T19:07:28.419Z"
      },
      {
        "duration": 13,
        "start_time": "2022-02-25T19:07:28.429Z"
      },
      {
        "duration": 65,
        "start_time": "2022-02-25T19:07:28.444Z"
      },
      {
        "duration": 19,
        "start_time": "2022-02-25T19:07:28.511Z"
      },
      {
        "duration": 21,
        "start_time": "2022-02-25T19:07:28.534Z"
      },
      {
        "duration": 36,
        "start_time": "2022-02-25T19:07:28.558Z"
      },
      {
        "duration": 9,
        "start_time": "2022-02-25T19:07:28.596Z"
      },
      {
        "duration": 46,
        "start_time": "2022-02-25T19:07:28.607Z"
      },
      {
        "duration": 40,
        "start_time": "2022-02-25T19:07:28.656Z"
      },
      {
        "duration": 29,
        "start_time": "2022-02-25T19:07:28.698Z"
      },
      {
        "duration": 71,
        "start_time": "2022-02-25T19:07:28.730Z"
      },
      {
        "duration": 26,
        "start_time": "2022-02-25T19:07:28.803Z"
      },
      {
        "duration": 24,
        "start_time": "2022-02-25T19:07:28.832Z"
      },
      {
        "duration": 301,
        "start_time": "2022-02-25T19:07:28.858Z"
      },
      {
        "duration": 13,
        "start_time": "2022-02-25T19:07:29.161Z"
      },
      {
        "duration": 18,
        "start_time": "2022-02-25T19:07:29.177Z"
      },
      {
        "duration": 895,
        "start_time": "2022-02-25T19:07:29.198Z"
      },
      {
        "duration": 9,
        "start_time": "2022-02-25T19:07:30.096Z"
      },
      {
        "duration": 7,
        "start_time": "2022-02-25T19:07:30.108Z"
      },
      {
        "duration": 804,
        "start_time": "2022-02-25T19:07:30.121Z"
      },
      {
        "duration": 32,
        "start_time": "2022-02-25T19:07:30.929Z"
      },
      {
        "duration": 32,
        "start_time": "2022-02-25T19:07:30.964Z"
      },
      {
        "duration": 26,
        "start_time": "2022-02-25T19:07:30.999Z"
      },
      {
        "duration": 7,
        "start_time": "2022-02-25T19:07:31.028Z"
      },
      {
        "duration": 76,
        "start_time": "2022-02-25T19:07:31.038Z"
      },
      {
        "duration": 32,
        "start_time": "2022-02-25T19:07:31.116Z"
      },
      {
        "duration": 7,
        "start_time": "2022-02-25T19:08:47.836Z"
      },
      {
        "duration": 57,
        "start_time": "2022-02-25T19:11:56.393Z"
      },
      {
        "duration": 393,
        "start_time": "2022-02-25T19:12:20.254Z"
      },
      {
        "duration": 47,
        "start_time": "2022-02-25T19:12:44.810Z"
      },
      {
        "duration": 17,
        "start_time": "2022-02-25T19:14:20.148Z"
      },
      {
        "duration": 26,
        "start_time": "2022-02-25T19:14:48.301Z"
      },
      {
        "duration": 45,
        "start_time": "2022-02-25T19:15:03.565Z"
      },
      {
        "duration": 24,
        "start_time": "2022-02-25T19:15:56.606Z"
      },
      {
        "duration": 25,
        "start_time": "2022-02-25T19:16:37.634Z"
      },
      {
        "duration": 8,
        "start_time": "2022-02-25T19:19:59.514Z"
      },
      {
        "duration": 122,
        "start_time": "2022-02-25T19:22:52.426Z"
      },
      {
        "duration": 6,
        "start_time": "2022-02-25T19:23:02.784Z"
      },
      {
        "duration": 7,
        "start_time": "2022-02-25T19:23:14.184Z"
      },
      {
        "duration": 25,
        "start_time": "2022-02-25T19:25:24.107Z"
      },
      {
        "duration": 23,
        "start_time": "2022-02-25T19:28:10.804Z"
      },
      {
        "duration": 27,
        "start_time": "2022-02-25T19:28:39.646Z"
      },
      {
        "duration": 40,
        "start_time": "2022-02-25T19:28:50.215Z"
      },
      {
        "duration": 241,
        "start_time": "2022-02-26T07:07:24.870Z"
      },
      {
        "duration": 628,
        "start_time": "2022-02-26T07:07:36.236Z"
      },
      {
        "duration": 41,
        "start_time": "2022-02-26T07:07:40.446Z"
      },
      {
        "duration": 18,
        "start_time": "2022-02-26T07:07:43.017Z"
      },
      {
        "duration": 11,
        "start_time": "2022-02-26T07:07:52.058Z"
      },
      {
        "duration": 20,
        "start_time": "2022-02-26T07:08:29.172Z"
      },
      {
        "duration": 74,
        "start_time": "2022-02-26T07:09:41.894Z"
      },
      {
        "duration": 20,
        "start_time": "2022-02-26T07:10:02.301Z"
      },
      {
        "duration": 238,
        "start_time": "2022-02-26T07:10:25.155Z"
      },
      {
        "duration": 23,
        "start_time": "2022-02-26T07:10:33.469Z"
      },
      {
        "duration": 21,
        "start_time": "2022-02-26T07:10:49.189Z"
      },
      {
        "duration": 20,
        "start_time": "2022-02-26T07:11:10.842Z"
      },
      {
        "duration": 202,
        "start_time": "2022-02-26T07:13:05.235Z"
      },
      {
        "duration": 697,
        "start_time": "2022-02-26T07:13:16.795Z"
      },
      {
        "duration": 46,
        "start_time": "2022-02-26T07:13:17.494Z"
      },
      {
        "duration": 14,
        "start_time": "2022-02-26T07:13:17.542Z"
      },
      {
        "duration": 9,
        "start_time": "2022-02-26T07:13:17.559Z"
      },
      {
        "duration": 29,
        "start_time": "2022-02-26T07:13:17.570Z"
      },
      {
        "duration": 23,
        "start_time": "2022-02-26T07:13:17.601Z"
      },
      {
        "duration": 15,
        "start_time": "2022-02-26T07:13:17.626Z"
      },
      {
        "duration": 15,
        "start_time": "2022-02-26T07:13:17.644Z"
      },
      {
        "duration": 9,
        "start_time": "2022-02-26T07:13:17.696Z"
      },
      {
        "duration": 10,
        "start_time": "2022-02-26T07:13:17.707Z"
      },
      {
        "duration": 44,
        "start_time": "2022-02-26T07:13:17.719Z"
      },
      {
        "duration": 7,
        "start_time": "2022-02-26T07:13:17.765Z"
      },
      {
        "duration": 22,
        "start_time": "2022-02-26T07:13:17.796Z"
      },
      {
        "duration": 37,
        "start_time": "2022-02-26T07:13:17.820Z"
      },
      {
        "duration": 52,
        "start_time": "2022-02-26T07:13:17.859Z"
      },
      {
        "duration": 25,
        "start_time": "2022-02-26T07:13:17.915Z"
      },
      {
        "duration": 189,
        "start_time": "2022-02-26T07:13:17.942Z"
      },
      {
        "duration": 10,
        "start_time": "2022-02-26T07:13:18.134Z"
      },
      {
        "duration": 8,
        "start_time": "2022-02-26T07:13:18.146Z"
      },
      {
        "duration": 563,
        "start_time": "2022-02-26T07:13:18.156Z"
      },
      {
        "duration": 7,
        "start_time": "2022-02-26T07:13:18.721Z"
      },
      {
        "duration": 8,
        "start_time": "2022-02-26T07:13:18.730Z"
      },
      {
        "duration": 257,
        "start_time": "2022-02-26T07:13:18.742Z"
      },
      {
        "duration": 21,
        "start_time": "2022-02-26T07:13:19.001Z"
      },
      {
        "duration": 6,
        "start_time": "2022-02-26T07:13:19.024Z"
      },
      {
        "duration": 28,
        "start_time": "2022-02-26T07:13:19.032Z"
      },
      {
        "duration": 5,
        "start_time": "2022-02-26T07:13:19.062Z"
      },
      {
        "duration": 43,
        "start_time": "2022-02-26T07:13:19.069Z"
      },
      {
        "duration": 4,
        "start_time": "2022-02-26T07:13:19.115Z"
      },
      {
        "duration": 26,
        "start_time": "2022-02-26T07:13:19.121Z"
      },
      {
        "duration": 22,
        "start_time": "2022-02-26T07:15:15.513Z"
      },
      {
        "duration": 38,
        "start_time": "2022-02-26T07:15:27.349Z"
      },
      {
        "duration": 22,
        "start_time": "2022-02-26T07:15:46.260Z"
      },
      {
        "duration": 280,
        "start_time": "2022-02-26T07:16:22.868Z"
      },
      {
        "duration": 24,
        "start_time": "2022-02-26T07:16:35.692Z"
      },
      {
        "duration": 22,
        "start_time": "2022-02-26T07:17:15.388Z"
      },
      {
        "duration": 9,
        "start_time": "2022-02-26T07:18:31.126Z"
      },
      {
        "duration": 602,
        "start_time": "2022-02-26T07:18:44.330Z"
      },
      {
        "duration": 34,
        "start_time": "2022-02-26T07:18:44.934Z"
      },
      {
        "duration": 12,
        "start_time": "2022-02-26T07:18:44.970Z"
      },
      {
        "duration": 4,
        "start_time": "2022-02-26T07:18:44.995Z"
      },
      {
        "duration": 34,
        "start_time": "2022-02-26T07:18:45.001Z"
      },
      {
        "duration": 23,
        "start_time": "2022-02-26T07:18:45.037Z"
      },
      {
        "duration": 32,
        "start_time": "2022-02-26T07:18:45.062Z"
      },
      {
        "duration": 12,
        "start_time": "2022-02-26T07:18:45.097Z"
      },
      {
        "duration": 17,
        "start_time": "2022-02-26T07:18:45.111Z"
      },
      {
        "duration": 8,
        "start_time": "2022-02-26T07:18:45.129Z"
      },
      {
        "duration": 31,
        "start_time": "2022-02-26T07:18:45.139Z"
      },
      {
        "duration": 26,
        "start_time": "2022-02-26T07:18:45.172Z"
      },
      {
        "duration": 19,
        "start_time": "2022-02-26T07:18:45.199Z"
      },
      {
        "duration": 31,
        "start_time": "2022-02-26T07:18:45.220Z"
      },
      {
        "duration": 42,
        "start_time": "2022-02-26T07:18:45.253Z"
      },
      {
        "duration": 17,
        "start_time": "2022-02-26T07:18:45.297Z"
      },
      {
        "duration": 131,
        "start_time": "2022-02-26T07:18:45.316Z"
      },
      {
        "duration": 9,
        "start_time": "2022-02-26T07:18:45.449Z"
      },
      {
        "duration": 7,
        "start_time": "2022-02-26T07:18:45.460Z"
      },
      {
        "duration": 537,
        "start_time": "2022-02-26T07:18:45.469Z"
      },
      {
        "duration": 7,
        "start_time": "2022-02-26T07:18:46.007Z"
      },
      {
        "duration": 7,
        "start_time": "2022-02-26T07:18:46.015Z"
      },
      {
        "duration": 270,
        "start_time": "2022-02-26T07:18:46.025Z"
      },
      {
        "duration": 16,
        "start_time": "2022-02-26T07:18:46.297Z"
      },
      {
        "duration": 4,
        "start_time": "2022-02-26T07:18:46.315Z"
      },
      {
        "duration": 17,
        "start_time": "2022-02-26T07:18:46.321Z"
      },
      {
        "duration": 5,
        "start_time": "2022-02-26T07:18:46.339Z"
      },
      {
        "duration": 16,
        "start_time": "2022-02-26T07:18:46.345Z"
      },
      {
        "duration": 33,
        "start_time": "2022-02-26T07:18:46.363Z"
      },
      {
        "duration": 17,
        "start_time": "2022-02-26T07:18:46.398Z"
      },
      {
        "duration": 8,
        "start_time": "2022-02-26T07:19:29.112Z"
      },
      {
        "duration": 258,
        "start_time": "2022-02-26T07:20:57.194Z"
      },
      {
        "duration": 12,
        "start_time": "2022-02-26T07:21:04.125Z"
      },
      {
        "duration": 213,
        "start_time": "2022-02-26T07:21:10.289Z"
      },
      {
        "duration": 43,
        "start_time": "2022-02-26T07:21:17.550Z"
      },
      {
        "duration": 31,
        "start_time": "2022-02-26T07:22:04.685Z"
      },
      {
        "duration": 3,
        "start_time": "2022-02-26T07:24:33.401Z"
      },
      {
        "duration": 533,
        "start_time": "2022-02-26T07:25:02.622Z"
      },
      {
        "duration": 765,
        "start_time": "2022-02-26T07:25:15.756Z"
      },
      {
        "duration": 534,
        "start_time": "2022-02-26T07:25:22.868Z"
      },
      {
        "duration": 253,
        "start_time": "2022-02-26T07:27:52.706Z"
      },
      {
        "duration": 249,
        "start_time": "2022-02-26T07:28:06.305Z"
      },
      {
        "duration": 809,
        "start_time": "2022-02-26T07:32:33.481Z"
      },
      {
        "duration": 3,
        "start_time": "2022-02-26T07:32:58.826Z"
      },
      {
        "duration": 1184,
        "start_time": "2022-02-26T07:33:01.542Z"
      },
      {
        "duration": 199,
        "start_time": "2022-02-26T07:33:12.018Z"
      },
      {
        "duration": 4,
        "start_time": "2022-02-26T07:33:46.678Z"
      },
      {
        "duration": 254,
        "start_time": "2022-02-26T07:33:48.079Z"
      },
      {
        "duration": 4,
        "start_time": "2022-02-26T07:34:11.416Z"
      },
      {
        "duration": 5,
        "start_time": "2022-02-26T07:34:13.854Z"
      },
      {
        "duration": 253,
        "start_time": "2022-02-26T07:34:14.922Z"
      },
      {
        "duration": 4,
        "start_time": "2022-02-26T07:34:20.011Z"
      },
      {
        "duration": 249,
        "start_time": "2022-02-26T07:34:20.980Z"
      },
      {
        "duration": 204,
        "start_time": "2022-02-26T07:44:14.084Z"
      },
      {
        "duration": 11,
        "start_time": "2022-02-26T07:45:14.694Z"
      },
      {
        "duration": 8,
        "start_time": "2022-02-26T07:46:13.178Z"
      },
      {
        "duration": 9,
        "start_time": "2022-02-26T07:51:56.000Z"
      },
      {
        "duration": 530,
        "start_time": "2022-02-26T07:59:19.040Z"
      },
      {
        "duration": 676,
        "start_time": "2022-02-26T10:17:20.785Z"
      },
      {
        "duration": 47,
        "start_time": "2022-02-26T10:17:21.463Z"
      },
      {
        "duration": 13,
        "start_time": "2022-02-26T10:17:21.515Z"
      },
      {
        "duration": 9,
        "start_time": "2022-02-26T10:17:21.530Z"
      },
      {
        "duration": 12,
        "start_time": "2022-02-26T10:17:21.541Z"
      },
      {
        "duration": 53,
        "start_time": "2022-02-26T10:17:21.555Z"
      },
      {
        "duration": 19,
        "start_time": "2022-02-26T10:17:21.612Z"
      },
      {
        "duration": 21,
        "start_time": "2022-02-26T10:17:21.635Z"
      },
      {
        "duration": 9,
        "start_time": "2022-02-26T10:17:21.658Z"
      },
      {
        "duration": 24,
        "start_time": "2022-02-26T10:17:21.669Z"
      },
      {
        "duration": 38,
        "start_time": "2022-02-26T10:17:21.696Z"
      },
      {
        "duration": 6,
        "start_time": "2022-02-26T10:17:21.736Z"
      },
      {
        "duration": 24,
        "start_time": "2022-02-26T10:17:21.743Z"
      },
      {
        "duration": 64,
        "start_time": "2022-02-26T10:17:21.769Z"
      },
      {
        "duration": 19,
        "start_time": "2022-02-26T10:17:21.835Z"
      },
      {
        "duration": 41,
        "start_time": "2022-02-26T10:17:21.856Z"
      },
      {
        "duration": 45,
        "start_time": "2022-02-26T10:17:21.899Z"
      },
      {
        "duration": 52,
        "start_time": "2022-02-26T10:17:21.946Z"
      },
      {
        "duration": 4,
        "start_time": "2022-02-26T10:17:22.001Z"
      },
      {
        "duration": 569,
        "start_time": "2022-02-26T10:17:22.007Z"
      },
      {
        "duration": 27,
        "start_time": "2022-02-26T10:17:22.578Z"
      },
      {
        "duration": 5,
        "start_time": "2022-02-26T10:17:22.609Z"
      },
      {
        "duration": 279,
        "start_time": "2022-02-26T10:17:22.616Z"
      },
      {
        "duration": 588,
        "start_time": "2022-02-26T10:17:22.898Z"
      },
      {
        "duration": 35,
        "start_time": "2022-02-26T10:17:23.488Z"
      },
      {
        "duration": 5,
        "start_time": "2022-02-26T10:17:23.524Z"
      },
      {
        "duration": 49,
        "start_time": "2022-02-26T10:17:23.531Z"
      },
      {
        "duration": 12,
        "start_time": "2022-02-26T10:17:23.582Z"
      },
      {
        "duration": 23,
        "start_time": "2022-02-26T10:17:23.596Z"
      },
      {
        "duration": 12,
        "start_time": "2022-02-26T10:17:23.622Z"
      },
      {
        "duration": 25,
        "start_time": "2022-02-26T10:17:23.635Z"
      },
      {
        "duration": 4130,
        "start_time": "2022-02-26T10:27:24.110Z"
      },
      {
        "duration": 2191,
        "start_time": "2022-02-26T10:29:32.748Z"
      },
      {
        "duration": 4651,
        "start_time": "2022-02-26T10:30:28.215Z"
      },
      {
        "duration": 4628,
        "start_time": "2022-02-26T10:32:09.388Z"
      },
      {
        "duration": 4595,
        "start_time": "2022-02-26T10:38:59.268Z"
      },
      {
        "duration": 21,
        "start_time": "2022-02-26T10:39:28.578Z"
      },
      {
        "duration": 18,
        "start_time": "2022-02-26T10:39:51.552Z"
      },
      {
        "duration": 5,
        "start_time": "2022-02-26T10:45:36.152Z"
      },
      {
        "duration": 192,
        "start_time": "2022-02-26T12:09:26.318Z"
      },
      {
        "duration": 149,
        "start_time": "2022-02-26T12:09:33.426Z"
      },
      {
        "duration": 1365,
        "start_time": "2022-02-26T12:11:25.577Z"
      },
      {
        "duration": 35,
        "start_time": "2022-02-26T12:11:26.943Z"
      },
      {
        "duration": 14,
        "start_time": "2022-02-26T12:11:26.980Z"
      },
      {
        "duration": 40,
        "start_time": "2022-02-26T12:11:26.996Z"
      },
      {
        "duration": 55,
        "start_time": "2022-02-26T12:11:27.037Z"
      },
      {
        "duration": 52,
        "start_time": "2022-02-26T12:11:27.094Z"
      },
      {
        "duration": 12,
        "start_time": "2022-02-26T12:11:27.148Z"
      },
      {
        "duration": 54,
        "start_time": "2022-02-26T12:11:27.162Z"
      },
      {
        "duration": 8,
        "start_time": "2022-02-26T12:11:27.218Z"
      },
      {
        "duration": 30,
        "start_time": "2022-02-26T12:11:27.227Z"
      },
      {
        "duration": 68,
        "start_time": "2022-02-26T12:11:27.259Z"
      },
      {
        "duration": 10,
        "start_time": "2022-02-26T12:11:27.329Z"
      },
      {
        "duration": 39,
        "start_time": "2022-02-26T12:11:27.341Z"
      },
      {
        "duration": 34,
        "start_time": "2022-02-26T12:11:27.381Z"
      },
      {
        "duration": 16,
        "start_time": "2022-02-26T12:11:27.416Z"
      },
      {
        "duration": 34,
        "start_time": "2022-02-26T12:11:27.434Z"
      },
      {
        "duration": 40,
        "start_time": "2022-02-26T12:11:27.470Z"
      },
      {
        "duration": 54,
        "start_time": "2022-02-26T12:11:27.512Z"
      },
      {
        "duration": 4,
        "start_time": "2022-02-26T12:11:27.567Z"
      },
      {
        "duration": 526,
        "start_time": "2022-02-26T12:11:27.572Z"
      },
      {
        "duration": 13,
        "start_time": "2022-02-26T12:11:28.100Z"
      },
      {
        "duration": 3,
        "start_time": "2022-02-26T12:11:28.115Z"
      },
      {
        "duration": 259,
        "start_time": "2022-02-26T12:11:28.121Z"
      },
      {
        "duration": 4439,
        "start_time": "2022-02-26T12:11:28.382Z"
      },
      {
        "duration": 18,
        "start_time": "2022-02-26T12:11:32.823Z"
      },
      {
        "duration": 22,
        "start_time": "2022-02-26T12:11:32.843Z"
      },
      {
        "duration": 24,
        "start_time": "2022-02-26T12:11:32.867Z"
      },
      {
        "duration": 6,
        "start_time": "2022-02-26T12:11:32.893Z"
      },
      {
        "duration": 19,
        "start_time": "2022-02-26T12:11:32.901Z"
      },
      {
        "duration": 6,
        "start_time": "2022-02-26T12:11:32.921Z"
      },
      {
        "duration": 47,
        "start_time": "2022-02-26T12:11:32.929Z"
      },
      {
        "duration": 4,
        "start_time": "2022-02-26T12:11:32.978Z"
      },
      {
        "duration": 184,
        "start_time": "2022-02-26T12:11:32.984Z"
      },
      {
        "duration": 613,
        "start_time": "2022-02-26T12:12:49.771Z"
      },
      {
        "duration": 187,
        "start_time": "2022-02-26T12:13:54.295Z"
      },
      {
        "duration": 141,
        "start_time": "2022-02-26T12:17:20.478Z"
      },
      {
        "duration": 193,
        "start_time": "2022-02-26T12:17:57.596Z"
      },
      {
        "duration": 141,
        "start_time": "2022-02-26T12:18:11.034Z"
      },
      {
        "duration": 157,
        "start_time": "2022-02-26T12:18:39.374Z"
      },
      {
        "duration": 141,
        "start_time": "2022-02-26T12:19:02.814Z"
      },
      {
        "duration": 61,
        "start_time": "2022-02-26T13:42:26.140Z"
      },
      {
        "duration": 30,
        "start_time": "2022-02-26T14:05:04.827Z"
      },
      {
        "duration": 23,
        "start_time": "2022-02-26T14:05:32.568Z"
      },
      {
        "duration": 21,
        "start_time": "2022-02-26T14:06:09.637Z"
      },
      {
        "duration": 16,
        "start_time": "2022-02-26T14:12:05.348Z"
      },
      {
        "duration": 17,
        "start_time": "2022-02-26T14:12:31.485Z"
      },
      {
        "duration": 5,
        "start_time": "2022-02-26T14:13:11.017Z"
      },
      {
        "duration": 17,
        "start_time": "2022-02-26T14:14:35.028Z"
      },
      {
        "duration": 5,
        "start_time": "2022-02-26T14:15:16.267Z"
      },
      {
        "duration": 4,
        "start_time": "2022-02-26T14:15:48.482Z"
      },
      {
        "duration": 18,
        "start_time": "2022-02-26T14:16:22.663Z"
      },
      {
        "duration": 5,
        "start_time": "2022-02-26T14:17:55.573Z"
      },
      {
        "duration": 5,
        "start_time": "2022-02-26T14:19:00.895Z"
      },
      {
        "duration": 5,
        "start_time": "2022-02-26T14:19:51.064Z"
      },
      {
        "duration": 6,
        "start_time": "2022-02-26T14:20:50.521Z"
      },
      {
        "duration": 615,
        "start_time": "2022-02-26T14:30:54.928Z"
      },
      {
        "duration": 35,
        "start_time": "2022-02-26T14:30:55.545Z"
      },
      {
        "duration": 13,
        "start_time": "2022-02-26T14:30:55.582Z"
      },
      {
        "duration": 8,
        "start_time": "2022-02-26T14:30:55.597Z"
      },
      {
        "duration": 11,
        "start_time": "2022-02-26T14:30:55.606Z"
      },
      {
        "duration": 22,
        "start_time": "2022-02-26T14:30:55.618Z"
      },
      {
        "duration": 14,
        "start_time": "2022-02-26T14:30:55.664Z"
      },
      {
        "duration": 11,
        "start_time": "2022-02-26T14:30:55.682Z"
      },
      {
        "duration": 8,
        "start_time": "2022-02-26T14:30:55.695Z"
      },
      {
        "duration": 6,
        "start_time": "2022-02-26T14:30:55.705Z"
      },
      {
        "duration": 61,
        "start_time": "2022-02-26T14:30:55.713Z"
      },
      {
        "duration": 6,
        "start_time": "2022-02-26T14:30:55.775Z"
      },
      {
        "duration": 20,
        "start_time": "2022-02-26T14:30:55.783Z"
      },
      {
        "duration": 32,
        "start_time": "2022-02-26T14:30:55.805Z"
      },
      {
        "duration": 36,
        "start_time": "2022-02-26T14:30:55.839Z"
      },
      {
        "duration": 15,
        "start_time": "2022-02-26T14:30:55.877Z"
      },
      {
        "duration": 38,
        "start_time": "2022-02-26T14:30:55.894Z"
      },
      {
        "duration": 53,
        "start_time": "2022-02-26T14:30:55.933Z"
      },
      {
        "duration": 3,
        "start_time": "2022-02-26T14:30:55.988Z"
      },
      {
        "duration": 519,
        "start_time": "2022-02-26T14:30:55.993Z"
      },
      {
        "duration": 10,
        "start_time": "2022-02-26T14:30:56.513Z"
      },
      {
        "duration": 4,
        "start_time": "2022-02-26T14:30:56.524Z"
      },
      {
        "duration": 244,
        "start_time": "2022-02-26T14:30:56.531Z"
      },
      {
        "duration": 3473,
        "start_time": "2022-02-26T14:30:56.777Z"
      },
      {
        "duration": 24,
        "start_time": "2022-02-26T14:31:00.252Z"
      },
      {
        "duration": 5,
        "start_time": "2022-02-26T14:31:00.278Z"
      },
      {
        "duration": 22,
        "start_time": "2022-02-26T14:31:00.285Z"
      },
      {
        "duration": 6,
        "start_time": "2022-02-26T14:31:00.309Z"
      },
      {
        "duration": 38,
        "start_time": "2022-02-26T14:31:00.317Z"
      },
      {
        "duration": 10,
        "start_time": "2022-02-26T14:31:00.357Z"
      },
      {
        "duration": 22,
        "start_time": "2022-02-26T14:31:00.369Z"
      },
      {
        "duration": 6,
        "start_time": "2022-02-26T14:31:00.393Z"
      },
      {
        "duration": 629,
        "start_time": "2022-03-07T07:03:42.740Z"
      },
      {
        "duration": 38,
        "start_time": "2022-03-07T07:03:43.371Z"
      },
      {
        "duration": 12,
        "start_time": "2022-03-07T07:03:43.411Z"
      },
      {
        "duration": 5,
        "start_time": "2022-03-07T07:03:43.425Z"
      },
      {
        "duration": 28,
        "start_time": "2022-03-07T07:03:43.431Z"
      },
      {
        "duration": 21,
        "start_time": "2022-03-07T07:03:43.460Z"
      },
      {
        "duration": 13,
        "start_time": "2022-03-07T07:03:43.483Z"
      },
      {
        "duration": 17,
        "start_time": "2022-03-07T07:03:43.498Z"
      },
      {
        "duration": 14,
        "start_time": "2022-03-07T07:03:43.517Z"
      },
      {
        "duration": 27,
        "start_time": "2022-03-07T07:03:43.532Z"
      },
      {
        "duration": 48,
        "start_time": "2022-03-07T07:03:43.560Z"
      },
      {
        "duration": 6,
        "start_time": "2022-03-07T07:03:43.609Z"
      },
      {
        "duration": 35,
        "start_time": "2022-03-07T07:03:43.616Z"
      },
      {
        "duration": 41,
        "start_time": "2022-03-07T07:03:43.652Z"
      },
      {
        "duration": 16,
        "start_time": "2022-03-07T07:03:43.695Z"
      },
      {
        "duration": 17,
        "start_time": "2022-03-07T07:03:43.713Z"
      },
      {
        "duration": 50,
        "start_time": "2022-03-07T07:03:43.731Z"
      },
      {
        "duration": 28,
        "start_time": "2022-03-07T07:03:43.783Z"
      },
      {
        "duration": 4,
        "start_time": "2022-03-07T07:03:43.812Z"
      },
      {
        "duration": 524,
        "start_time": "2022-03-07T07:03:43.817Z"
      },
      {
        "duration": 17,
        "start_time": "2022-03-07T07:03:44.343Z"
      },
      {
        "duration": 9,
        "start_time": "2022-03-07T07:03:44.362Z"
      },
      {
        "duration": 250,
        "start_time": "2022-03-07T07:03:44.374Z"
      },
      {
        "duration": 3448,
        "start_time": "2022-03-07T07:03:44.626Z"
      },
      {
        "duration": 18,
        "start_time": "2022-03-07T07:03:48.075Z"
      },
      {
        "duration": 5,
        "start_time": "2022-03-07T07:03:48.094Z"
      },
      {
        "duration": 19,
        "start_time": "2022-03-07T07:03:48.101Z"
      },
      {
        "duration": 5,
        "start_time": "2022-03-07T07:03:48.122Z"
      },
      {
        "duration": 39,
        "start_time": "2022-03-07T07:03:48.129Z"
      },
      {
        "duration": 4,
        "start_time": "2022-03-07T07:03:48.170Z"
      },
      {
        "duration": 20,
        "start_time": "2022-03-07T07:03:48.176Z"
      },
      {
        "duration": 4,
        "start_time": "2022-03-07T07:03:48.198Z"
      },
      {
        "duration": 646,
        "start_time": "2022-03-07T07:05:14.731Z"
      },
      {
        "duration": 38,
        "start_time": "2022-03-07T07:05:15.379Z"
      },
      {
        "duration": 14,
        "start_time": "2022-03-07T07:05:15.419Z"
      },
      {
        "duration": 25,
        "start_time": "2022-03-07T07:05:15.435Z"
      },
      {
        "duration": 9,
        "start_time": "2022-03-07T07:05:15.462Z"
      },
      {
        "duration": 24,
        "start_time": "2022-03-07T07:05:15.472Z"
      },
      {
        "duration": 13,
        "start_time": "2022-03-07T07:05:15.497Z"
      },
      {
        "duration": 11,
        "start_time": "2022-03-07T07:05:15.513Z"
      },
      {
        "duration": 38,
        "start_time": "2022-03-07T07:05:15.526Z"
      },
      {
        "duration": 8,
        "start_time": "2022-03-07T07:05:15.565Z"
      },
      {
        "duration": 33,
        "start_time": "2022-03-07T07:05:15.575Z"
      },
      {
        "duration": 7,
        "start_time": "2022-03-07T07:05:15.610Z"
      },
      {
        "duration": 55,
        "start_time": "2022-03-07T07:05:15.620Z"
      },
      {
        "duration": 35,
        "start_time": "2022-03-07T07:05:15.678Z"
      },
      {
        "duration": 18,
        "start_time": "2022-03-07T07:05:15.715Z"
      },
      {
        "duration": 16,
        "start_time": "2022-03-07T07:05:15.759Z"
      },
      {
        "duration": 39,
        "start_time": "2022-03-07T07:05:15.777Z"
      },
      {
        "duration": 53,
        "start_time": "2022-03-07T07:05:15.817Z"
      },
      {
        "duration": 4,
        "start_time": "2022-03-07T07:05:15.871Z"
      },
      {
        "duration": 535,
        "start_time": "2022-03-07T07:05:15.876Z"
      },
      {
        "duration": 9,
        "start_time": "2022-03-07T07:05:16.412Z"
      },
      {
        "duration": 3,
        "start_time": "2022-03-07T07:05:16.423Z"
      },
      {
        "duration": 253,
        "start_time": "2022-03-07T07:05:16.429Z"
      },
      {
        "duration": 3553,
        "start_time": "2022-03-07T07:05:16.684Z"
      },
      {
        "duration": 29,
        "start_time": "2022-03-07T07:05:20.239Z"
      },
      {
        "duration": 5,
        "start_time": "2022-03-07T07:05:20.270Z"
      },
      {
        "duration": 18,
        "start_time": "2022-03-07T07:05:20.277Z"
      },
      {
        "duration": 5,
        "start_time": "2022-03-07T07:05:20.297Z"
      },
      {
        "duration": 20,
        "start_time": "2022-03-07T07:05:20.304Z"
      },
      {
        "duration": 5,
        "start_time": "2022-03-07T07:05:20.326Z"
      },
      {
        "duration": 42,
        "start_time": "2022-03-07T07:05:20.332Z"
      },
      {
        "duration": 5,
        "start_time": "2022-03-07T07:05:20.376Z"
      },
      {
        "duration": 9,
        "start_time": "2022-03-07T07:11:32.990Z"
      },
      {
        "duration": 3378,
        "start_time": "2022-03-07T07:14:21.307Z"
      },
      {
        "duration": 653,
        "start_time": "2022-03-07T07:14:27.132Z"
      },
      {
        "duration": 39,
        "start_time": "2022-03-07T07:14:27.787Z"
      },
      {
        "duration": 13,
        "start_time": "2022-03-07T07:14:27.827Z"
      },
      {
        "duration": 18,
        "start_time": "2022-03-07T07:14:27.842Z"
      },
      {
        "duration": 9,
        "start_time": "2022-03-07T07:14:27.861Z"
      },
      {
        "duration": 23,
        "start_time": "2022-03-07T07:14:27.871Z"
      },
      {
        "duration": 14,
        "start_time": "2022-03-07T07:14:27.895Z"
      },
      {
        "duration": 11,
        "start_time": "2022-03-07T07:14:27.913Z"
      },
      {
        "duration": 35,
        "start_time": "2022-03-07T07:14:27.926Z"
      },
      {
        "duration": 6,
        "start_time": "2022-03-07T07:14:27.963Z"
      },
      {
        "duration": 32,
        "start_time": "2022-03-07T07:14:27.970Z"
      },
      {
        "duration": 5,
        "start_time": "2022-03-07T07:14:28.003Z"
      },
      {
        "duration": 49,
        "start_time": "2022-03-07T07:14:28.010Z"
      },
      {
        "duration": 34,
        "start_time": "2022-03-07T07:14:28.060Z"
      },
      {
        "duration": 16,
        "start_time": "2022-03-07T07:14:28.095Z"
      },
      {
        "duration": 15,
        "start_time": "2022-03-07T07:14:28.113Z"
      },
      {
        "duration": 61,
        "start_time": "2022-03-07T07:14:28.130Z"
      },
      {
        "duration": 30,
        "start_time": "2022-03-07T07:14:28.193Z"
      },
      {
        "duration": 3,
        "start_time": "2022-03-07T07:14:28.224Z"
      },
      {
        "duration": 535,
        "start_time": "2022-03-07T07:14:28.229Z"
      },
      {
        "duration": 9,
        "start_time": "2022-03-07T07:14:28.765Z"
      },
      {
        "duration": 3,
        "start_time": "2022-03-07T07:14:28.776Z"
      },
      {
        "duration": 248,
        "start_time": "2022-03-07T07:14:28.782Z"
      },
      {
        "duration": 3471,
        "start_time": "2022-03-07T07:14:29.031Z"
      },
      {
        "duration": 17,
        "start_time": "2022-03-07T07:14:32.503Z"
      },
      {
        "duration": 5,
        "start_time": "2022-03-07T07:14:32.522Z"
      },
      {
        "duration": 35,
        "start_time": "2022-03-07T07:14:32.529Z"
      },
      {
        "duration": 6,
        "start_time": "2022-03-07T07:14:32.565Z"
      },
      {
        "duration": 18,
        "start_time": "2022-03-07T07:14:32.573Z"
      },
      {
        "duration": 5,
        "start_time": "2022-03-07T07:14:32.592Z"
      },
      {
        "duration": 20,
        "start_time": "2022-03-07T07:14:32.599Z"
      },
      {
        "duration": 4,
        "start_time": "2022-03-07T07:14:32.620Z"
      },
      {
        "duration": 18,
        "start_time": "2022-03-07T07:16:52.851Z"
      },
      {
        "duration": 574,
        "start_time": "2022-03-07T07:17:09.323Z"
      },
      {
        "duration": 38,
        "start_time": "2022-03-07T07:17:09.899Z"
      },
      {
        "duration": 21,
        "start_time": "2022-03-07T07:17:09.939Z"
      },
      {
        "duration": 6,
        "start_time": "2022-03-07T07:17:09.962Z"
      },
      {
        "duration": 9,
        "start_time": "2022-03-07T07:17:09.969Z"
      },
      {
        "duration": 21,
        "start_time": "2022-03-07T07:17:09.980Z"
      },
      {
        "duration": 14,
        "start_time": "2022-03-07T07:17:10.003Z"
      },
      {
        "duration": 45,
        "start_time": "2022-03-07T07:17:10.020Z"
      },
      {
        "duration": 7,
        "start_time": "2022-03-07T07:17:10.068Z"
      },
      {
        "duration": 7,
        "start_time": "2022-03-07T07:17:10.076Z"
      },
      {
        "duration": 34,
        "start_time": "2022-03-07T07:17:10.084Z"
      },
      {
        "duration": 6,
        "start_time": "2022-03-07T07:17:10.119Z"
      },
      {
        "duration": 17,
        "start_time": "2022-03-07T07:17:10.160Z"
      },
      {
        "duration": 31,
        "start_time": "2022-03-07T07:17:10.178Z"
      },
      {
        "duration": 16,
        "start_time": "2022-03-07T07:17:10.211Z"
      },
      {
        "duration": 39,
        "start_time": "2022-03-07T07:17:10.229Z"
      },
      {
        "duration": 36,
        "start_time": "2022-03-07T07:17:10.269Z"
      },
      {
        "duration": 28,
        "start_time": "2022-03-07T07:17:10.307Z"
      },
      {
        "duration": 23,
        "start_time": "2022-03-07T07:17:10.336Z"
      },
      {
        "duration": 503,
        "start_time": "2022-03-07T07:17:10.361Z"
      },
      {
        "duration": 9,
        "start_time": "2022-03-07T07:17:10.865Z"
      },
      {
        "duration": 3,
        "start_time": "2022-03-07T07:17:10.875Z"
      },
      {
        "duration": 248,
        "start_time": "2022-03-07T07:17:10.881Z"
      },
      {
        "duration": 17,
        "start_time": "2022-03-07T07:17:11.131Z"
      },
      {
        "duration": 3281,
        "start_time": "2022-03-07T07:17:11.149Z"
      },
      {
        "duration": 31,
        "start_time": "2022-03-07T07:17:14.432Z"
      },
      {
        "duration": 6,
        "start_time": "2022-03-07T07:17:14.465Z"
      },
      {
        "duration": 19,
        "start_time": "2022-03-07T07:17:14.472Z"
      },
      {
        "duration": 5,
        "start_time": "2022-03-07T07:17:14.493Z"
      },
      {
        "duration": 23,
        "start_time": "2022-03-07T07:17:14.500Z"
      },
      {
        "duration": 5,
        "start_time": "2022-03-07T07:17:14.524Z"
      },
      {
        "duration": 20,
        "start_time": "2022-03-07T07:17:14.560Z"
      },
      {
        "duration": 5,
        "start_time": "2022-03-07T07:17:14.582Z"
      },
      {
        "duration": 643,
        "start_time": "2022-03-07T07:18:01.639Z"
      },
      {
        "duration": 39,
        "start_time": "2022-03-07T07:18:02.284Z"
      },
      {
        "duration": 16,
        "start_time": "2022-03-07T07:18:02.326Z"
      },
      {
        "duration": 49,
        "start_time": "2022-03-07T07:18:02.344Z"
      },
      {
        "duration": 30,
        "start_time": "2022-03-07T07:18:02.395Z"
      },
      {
        "duration": 52,
        "start_time": "2022-03-07T07:18:02.427Z"
      },
      {
        "duration": 36,
        "start_time": "2022-03-07T07:18:02.481Z"
      },
      {
        "duration": 62,
        "start_time": "2022-03-07T07:18:02.519Z"
      },
      {
        "duration": 16,
        "start_time": "2022-03-07T07:18:02.583Z"
      },
      {
        "duration": 6,
        "start_time": "2022-03-07T07:18:02.600Z"
      },
      {
        "duration": 33,
        "start_time": "2022-03-07T07:18:02.608Z"
      },
      {
        "duration": 5,
        "start_time": "2022-03-07T07:18:02.643Z"
      },
      {
        "duration": 22,
        "start_time": "2022-03-07T07:18:02.650Z"
      },
      {
        "duration": 31,
        "start_time": "2022-03-07T07:18:02.674Z"
      },
      {
        "duration": 15,
        "start_time": "2022-03-07T07:18:02.707Z"
      },
      {
        "duration": 37,
        "start_time": "2022-03-07T07:18:02.724Z"
      },
      {
        "duration": 37,
        "start_time": "2022-03-07T07:18:02.763Z"
      },
      {
        "duration": 30,
        "start_time": "2022-03-07T07:18:02.802Z"
      },
      {
        "duration": 25,
        "start_time": "2022-03-07T07:18:02.834Z"
      },
      {
        "duration": 523,
        "start_time": "2022-03-07T07:18:02.861Z"
      },
      {
        "duration": 8,
        "start_time": "2022-03-07T07:18:03.386Z"
      },
      {
        "duration": 3,
        "start_time": "2022-03-07T07:18:03.396Z"
      },
      {
        "duration": 482,
        "start_time": "2022-03-07T07:18:03.402Z"
      },
      {
        "duration": 18,
        "start_time": "2022-03-07T07:18:03.886Z"
      },
      {
        "duration": 3565,
        "start_time": "2022-03-07T07:18:03.905Z"
      },
      {
        "duration": 18,
        "start_time": "2022-03-07T07:18:07.471Z"
      },
      {
        "duration": 6,
        "start_time": "2022-03-07T07:18:07.491Z"
      },
      {
        "duration": 21,
        "start_time": "2022-03-07T07:18:07.499Z"
      },
      {
        "duration": 5,
        "start_time": "2022-03-07T07:18:07.522Z"
      },
      {
        "duration": 50,
        "start_time": "2022-03-07T07:18:07.529Z"
      },
      {
        "duration": 6,
        "start_time": "2022-03-07T07:18:07.580Z"
      },
      {
        "duration": 30,
        "start_time": "2022-03-07T07:18:07.587Z"
      },
      {
        "duration": 5,
        "start_time": "2022-03-07T07:18:07.618Z"
      },
      {
        "duration": 597,
        "start_time": "2022-03-07T07:18:31.909Z"
      },
      {
        "duration": 39,
        "start_time": "2022-03-07T07:18:32.508Z"
      },
      {
        "duration": 14,
        "start_time": "2022-03-07T07:18:32.559Z"
      },
      {
        "duration": 5,
        "start_time": "2022-03-07T07:18:32.575Z"
      },
      {
        "duration": 15,
        "start_time": "2022-03-07T07:18:32.582Z"
      },
      {
        "duration": 25,
        "start_time": "2022-03-07T07:18:32.598Z"
      },
      {
        "duration": 44,
        "start_time": "2022-03-07T07:18:32.624Z"
      },
      {
        "duration": 11,
        "start_time": "2022-03-07T07:18:32.671Z"
      },
      {
        "duration": 7,
        "start_time": "2022-03-07T07:18:32.685Z"
      },
      {
        "duration": 6,
        "start_time": "2022-03-07T07:18:32.693Z"
      },
      {
        "duration": 66,
        "start_time": "2022-03-07T07:18:32.701Z"
      },
      {
        "duration": 6,
        "start_time": "2022-03-07T07:18:32.768Z"
      },
      {
        "duration": 21,
        "start_time": "2022-03-07T07:18:32.776Z"
      },
      {
        "duration": 32,
        "start_time": "2022-03-07T07:18:32.799Z"
      },
      {
        "duration": 41,
        "start_time": "2022-03-07T07:18:32.833Z"
      },
      {
        "duration": 16,
        "start_time": "2022-03-07T07:18:32.875Z"
      },
      {
        "duration": 38,
        "start_time": "2022-03-07T07:18:32.893Z"
      },
      {
        "duration": 55,
        "start_time": "2022-03-07T07:18:32.933Z"
      },
      {
        "duration": 3,
        "start_time": "2022-03-07T07:18:32.990Z"
      },
      {
        "duration": 537,
        "start_time": "2022-03-07T07:18:32.995Z"
      },
      {
        "duration": 9,
        "start_time": "2022-03-07T07:18:33.533Z"
      },
      {
        "duration": 15,
        "start_time": "2022-03-07T07:18:33.544Z"
      },
      {
        "duration": 250,
        "start_time": "2022-03-07T07:18:33.562Z"
      },
      {
        "duration": 3376,
        "start_time": "2022-03-07T07:18:33.815Z"
      },
      {
        "duration": 18,
        "start_time": "2022-03-07T07:18:37.193Z"
      },
      {
        "duration": 5,
        "start_time": "2022-03-07T07:18:37.212Z"
      },
      {
        "duration": 41,
        "start_time": "2022-03-07T07:18:37.219Z"
      },
      {
        "duration": 6,
        "start_time": "2022-03-07T07:18:37.261Z"
      },
      {
        "duration": 22,
        "start_time": "2022-03-07T07:18:37.268Z"
      },
      {
        "duration": 4,
        "start_time": "2022-03-07T07:18:37.292Z"
      },
      {
        "duration": 22,
        "start_time": "2022-03-07T07:18:37.298Z"
      },
      {
        "duration": 5,
        "start_time": "2022-03-07T07:18:37.322Z"
      },
      {
        "duration": 625,
        "start_time": "2022-03-07T07:25:22.064Z"
      },
      {
        "duration": 38,
        "start_time": "2022-03-07T07:25:22.691Z"
      },
      {
        "duration": 13,
        "start_time": "2022-03-07T07:25:22.731Z"
      },
      {
        "duration": 15,
        "start_time": "2022-03-07T07:25:22.746Z"
      },
      {
        "duration": 8,
        "start_time": "2022-03-07T07:25:22.763Z"
      },
      {
        "duration": 22,
        "start_time": "2022-03-07T07:25:22.773Z"
      },
      {
        "duration": 14,
        "start_time": "2022-03-07T07:25:22.796Z"
      },
      {
        "duration": 11,
        "start_time": "2022-03-07T07:25:22.812Z"
      },
      {
        "duration": 39,
        "start_time": "2022-03-07T07:25:22.825Z"
      },
      {
        "duration": 6,
        "start_time": "2022-03-07T07:25:22.867Z"
      },
      {
        "duration": 34,
        "start_time": "2022-03-07T07:25:22.875Z"
      },
      {
        "duration": 6,
        "start_time": "2022-03-07T07:25:22.910Z"
      },
      {
        "duration": 49,
        "start_time": "2022-03-07T07:25:22.918Z"
      },
      {
        "duration": 32,
        "start_time": "2022-03-07T07:25:22.969Z"
      },
      {
        "duration": 16,
        "start_time": "2022-03-07T07:25:23.003Z"
      },
      {
        "duration": 16,
        "start_time": "2022-03-07T07:25:23.020Z"
      },
      {
        "duration": 60,
        "start_time": "2022-03-07T07:25:23.037Z"
      },
      {
        "duration": 30,
        "start_time": "2022-03-07T07:25:23.098Z"
      },
      {
        "duration": 4,
        "start_time": "2022-03-07T07:25:23.129Z"
      },
      {
        "duration": 505,
        "start_time": "2022-03-07T07:25:23.159Z"
      },
      {
        "duration": 10,
        "start_time": "2022-03-07T07:25:23.665Z"
      },
      {
        "duration": 3,
        "start_time": "2022-03-07T07:25:23.677Z"
      },
      {
        "duration": 251,
        "start_time": "2022-03-07T07:25:23.682Z"
      },
      {
        "duration": 3509,
        "start_time": "2022-03-07T07:25:23.934Z"
      },
      {
        "duration": 27,
        "start_time": "2022-03-07T07:25:27.445Z"
      },
      {
        "duration": 5,
        "start_time": "2022-03-07T07:25:27.474Z"
      },
      {
        "duration": 17,
        "start_time": "2022-03-07T07:25:27.482Z"
      },
      {
        "duration": 5,
        "start_time": "2022-03-07T07:25:27.501Z"
      },
      {
        "duration": 19,
        "start_time": "2022-03-07T07:25:27.508Z"
      },
      {
        "duration": 35,
        "start_time": "2022-03-07T07:25:27.528Z"
      },
      {
        "duration": 24,
        "start_time": "2022-03-07T07:25:27.565Z"
      },
      {
        "duration": 4,
        "start_time": "2022-03-07T07:25:27.591Z"
      },
      {
        "duration": 42,
        "start_time": "2022-03-07T13:59:09.169Z"
      },
      {
        "duration": 44,
        "start_time": "2022-03-07T13:59:14.880Z"
      },
      {
        "duration": 163,
        "start_time": "2022-03-07T14:00:50.500Z"
      },
      {
        "duration": 572,
        "start_time": "2022-03-07T14:01:10.364Z"
      },
      {
        "duration": 35,
        "start_time": "2022-03-07T14:01:10.938Z"
      },
      {
        "duration": 12,
        "start_time": "2022-03-07T14:01:10.975Z"
      },
      {
        "duration": 5,
        "start_time": "2022-03-07T14:01:10.988Z"
      },
      {
        "duration": 4,
        "start_time": "2022-03-07T14:01:10.995Z"
      },
      {
        "duration": 35,
        "start_time": "2022-03-07T14:01:11.001Z"
      },
      {
        "duration": 22,
        "start_time": "2022-03-07T14:01:11.038Z"
      },
      {
        "duration": 14,
        "start_time": "2022-03-07T14:01:11.063Z"
      },
      {
        "duration": 11,
        "start_time": "2022-03-07T14:01:11.080Z"
      },
      {
        "duration": 7,
        "start_time": "2022-03-07T14:01:11.092Z"
      },
      {
        "duration": 37,
        "start_time": "2022-03-07T14:01:11.100Z"
      },
      {
        "duration": 32,
        "start_time": "2022-03-07T14:01:11.139Z"
      },
      {
        "duration": 5,
        "start_time": "2022-03-07T14:01:11.173Z"
      },
      {
        "duration": 21,
        "start_time": "2022-03-07T14:01:11.180Z"
      },
      {
        "duration": 55,
        "start_time": "2022-03-07T14:01:11.202Z"
      },
      {
        "duration": 16,
        "start_time": "2022-03-07T14:01:11.259Z"
      },
      {
        "duration": 14,
        "start_time": "2022-03-07T14:01:11.277Z"
      },
      {
        "duration": 61,
        "start_time": "2022-03-07T14:01:11.293Z"
      },
      {
        "duration": 27,
        "start_time": "2022-03-07T14:01:11.356Z"
      },
      {
        "duration": 3,
        "start_time": "2022-03-07T14:01:11.385Z"
      },
      {
        "duration": 477,
        "start_time": "2022-03-07T14:01:11.389Z"
      },
      {
        "duration": 10,
        "start_time": "2022-03-07T14:01:11.868Z"
      },
      {
        "duration": 4,
        "start_time": "2022-03-07T14:01:11.881Z"
      },
      {
        "duration": 234,
        "start_time": "2022-03-07T14:01:11.887Z"
      },
      {
        "duration": 3373,
        "start_time": "2022-03-07T14:01:12.123Z"
      },
      {
        "duration": 17,
        "start_time": "2022-03-07T14:01:15.498Z"
      },
      {
        "duration": 20,
        "start_time": "2022-03-07T14:01:15.517Z"
      },
      {
        "duration": 22,
        "start_time": "2022-03-07T14:01:15.539Z"
      },
      {
        "duration": 5,
        "start_time": "2022-03-07T14:01:15.563Z"
      },
      {
        "duration": 22,
        "start_time": "2022-03-07T14:01:15.569Z"
      },
      {
        "duration": 5,
        "start_time": "2022-03-07T14:01:15.592Z"
      },
      {
        "duration": 44,
        "start_time": "2022-03-07T14:01:15.599Z"
      },
      {
        "duration": 5,
        "start_time": "2022-03-07T14:01:15.644Z"
      },
      {
        "duration": 2,
        "start_time": "2022-03-07T14:10:08.350Z"
      },
      {
        "duration": 7,
        "start_time": "2022-03-07T14:11:53.271Z"
      },
      {
        "duration": 42,
        "start_time": "2022-03-07T14:13:55.671Z"
      },
      {
        "duration": 9,
        "start_time": "2022-03-07T14:14:09.309Z"
      },
      {
        "duration": 25,
        "start_time": "2022-03-07T14:24:51.230Z"
      },
      {
        "duration": 7,
        "start_time": "2022-03-07T14:32:17.533Z"
      },
      {
        "duration": 29,
        "start_time": "2022-03-07T14:35:48.977Z"
      },
      {
        "duration": 35,
        "start_time": "2022-03-07T14:36:02.296Z"
      },
      {
        "duration": 41,
        "start_time": "2022-03-07T14:40:00.790Z"
      },
      {
        "duration": 26,
        "start_time": "2022-03-07T14:40:13.435Z"
      },
      {
        "duration": 27,
        "start_time": "2022-03-07T14:40:33.913Z"
      },
      {
        "duration": 580,
        "start_time": "2022-03-07T14:40:48.070Z"
      },
      {
        "duration": 35,
        "start_time": "2022-03-07T14:40:48.654Z"
      },
      {
        "duration": 12,
        "start_time": "2022-03-07T14:40:48.691Z"
      },
      {
        "duration": 28,
        "start_time": "2022-03-07T14:40:48.705Z"
      },
      {
        "duration": 5,
        "start_time": "2022-03-07T14:40:48.734Z"
      },
      {
        "duration": 8,
        "start_time": "2022-03-07T14:40:48.741Z"
      },
      {
        "duration": 8,
        "start_time": "2022-03-07T14:40:48.752Z"
      },
      {
        "duration": 7,
        "start_time": "2022-03-07T14:40:48.762Z"
      },
      {
        "duration": 26,
        "start_time": "2022-03-07T14:40:48.771Z"
      },
      {
        "duration": 35,
        "start_time": "2022-03-07T14:40:48.833Z"
      },
      {
        "duration": 14,
        "start_time": "2022-03-07T14:40:48.869Z"
      },
      {
        "duration": 12,
        "start_time": "2022-03-07T14:40:48.885Z"
      },
      {
        "duration": 38,
        "start_time": "2022-03-07T14:40:48.899Z"
      },
      {
        "duration": 7,
        "start_time": "2022-03-07T14:40:48.939Z"
      },
      {
        "duration": 31,
        "start_time": "2022-03-07T14:40:48.948Z"
      },
      {
        "duration": 192,
        "start_time": "2022-03-07T14:40:48.981Z"
      },
      {
        "duration": -52,
        "start_time": "2022-03-07T14:40:49.228Z"
      },
      {
        "duration": -55,
        "start_time": "2022-03-07T14:40:49.232Z"
      },
      {
        "duration": -59,
        "start_time": "2022-03-07T14:40:49.237Z"
      },
      {
        "duration": -61,
        "start_time": "2022-03-07T14:40:49.241Z"
      },
      {
        "duration": -65,
        "start_time": "2022-03-07T14:40:49.246Z"
      },
      {
        "duration": -67,
        "start_time": "2022-03-07T14:40:49.250Z"
      },
      {
        "duration": -103,
        "start_time": "2022-03-07T14:40:49.287Z"
      },
      {
        "duration": -107,
        "start_time": "2022-03-07T14:40:49.292Z"
      },
      {
        "duration": -110,
        "start_time": "2022-03-07T14:40:49.297Z"
      },
      {
        "duration": -113,
        "start_time": "2022-03-07T14:40:49.301Z"
      },
      {
        "duration": -117,
        "start_time": "2022-03-07T14:40:49.307Z"
      },
      {
        "duration": -120,
        "start_time": "2022-03-07T14:40:49.311Z"
      },
      {
        "duration": -123,
        "start_time": "2022-03-07T14:40:49.316Z"
      },
      {
        "duration": -126,
        "start_time": "2022-03-07T14:40:49.320Z"
      },
      {
        "duration": -129,
        "start_time": "2022-03-07T14:40:49.324Z"
      },
      {
        "duration": -132,
        "start_time": "2022-03-07T14:40:49.329Z"
      },
      {
        "duration": -135,
        "start_time": "2022-03-07T14:40:49.333Z"
      },
      {
        "duration": -137,
        "start_time": "2022-03-07T14:40:49.337Z"
      },
      {
        "duration": -141,
        "start_time": "2022-03-07T14:40:49.342Z"
      },
      {
        "duration": -143,
        "start_time": "2022-03-07T14:40:49.346Z"
      },
      {
        "duration": 35,
        "start_time": "2022-03-07T14:49:57.197Z"
      },
      {
        "duration": 6,
        "start_time": "2022-03-07T14:57:55.354Z"
      },
      {
        "duration": 39,
        "start_time": "2022-03-07T14:59:00.414Z"
      },
      {
        "duration": 7,
        "start_time": "2022-03-07T15:01:17.920Z"
      },
      {
        "duration": 12,
        "start_time": "2022-03-07T15:04:19.097Z"
      },
      {
        "duration": 608,
        "start_time": "2022-03-07T15:08:26.224Z"
      },
      {
        "duration": 34,
        "start_time": "2022-03-07T15:08:26.834Z"
      },
      {
        "duration": 12,
        "start_time": "2022-03-07T15:08:26.870Z"
      },
      {
        "duration": 5,
        "start_time": "2022-03-07T15:08:26.884Z"
      },
      {
        "duration": 6,
        "start_time": "2022-03-07T15:08:26.890Z"
      },
      {
        "duration": 8,
        "start_time": "2022-03-07T15:08:26.897Z"
      },
      {
        "duration": 9,
        "start_time": "2022-03-07T15:08:26.933Z"
      },
      {
        "duration": 6,
        "start_time": "2022-03-07T15:08:26.944Z"
      },
      {
        "duration": 24,
        "start_time": "2022-03-07T15:08:26.952Z"
      },
      {
        "duration": 61,
        "start_time": "2022-03-07T15:08:26.978Z"
      },
      {
        "duration": 12,
        "start_time": "2022-03-07T15:08:27.041Z"
      },
      {
        "duration": 10,
        "start_time": "2022-03-07T15:08:27.055Z"
      },
      {
        "duration": 8,
        "start_time": "2022-03-07T15:08:27.067Z"
      },
      {
        "duration": 6,
        "start_time": "2022-03-07T15:08:27.076Z"
      },
      {
        "duration": 58,
        "start_time": "2022-03-07T15:08:27.083Z"
      },
      {
        "duration": 6,
        "start_time": "2022-03-07T15:08:27.143Z"
      },
      {
        "duration": 7,
        "start_time": "2022-03-07T15:08:27.150Z"
      },
      {
        "duration": 11,
        "start_time": "2022-03-07T15:08:27.159Z"
      },
      {
        "duration": 196,
        "start_time": "2022-03-07T15:08:27.171Z"
      },
      {
        "duration": -324,
        "start_time": "2022-03-07T15:08:27.694Z"
      },
      {
        "duration": -328,
        "start_time": "2022-03-07T15:08:27.699Z"
      },
      {
        "duration": -333,
        "start_time": "2022-03-07T15:08:27.705Z"
      },
      {
        "duration": -337,
        "start_time": "2022-03-07T15:08:27.710Z"
      },
      {
        "duration": -342,
        "start_time": "2022-03-07T15:08:27.716Z"
      },
      {
        "duration": -369,
        "start_time": "2022-03-07T15:08:27.745Z"
      },
      {
        "duration": -373,
        "start_time": "2022-03-07T15:08:27.750Z"
      },
      {
        "duration": -378,
        "start_time": "2022-03-07T15:08:27.756Z"
      },
      {
        "duration": -385,
        "start_time": "2022-03-07T15:08:27.764Z"
      },
      {
        "duration": -393,
        "start_time": "2022-03-07T15:08:27.773Z"
      },
      {
        "duration": -401,
        "start_time": "2022-03-07T15:08:27.782Z"
      },
      {
        "duration": -408,
        "start_time": "2022-03-07T15:08:27.790Z"
      },
      {
        "duration": -417,
        "start_time": "2022-03-07T15:08:27.800Z"
      },
      {
        "duration": -424,
        "start_time": "2022-03-07T15:08:27.808Z"
      },
      {
        "duration": -433,
        "start_time": "2022-03-07T15:08:27.817Z"
      },
      {
        "duration": -442,
        "start_time": "2022-03-07T15:08:27.827Z"
      },
      {
        "duration": -451,
        "start_time": "2022-03-07T15:08:27.837Z"
      },
      {
        "duration": -483,
        "start_time": "2022-03-07T15:08:27.870Z"
      },
      {
        "duration": -501,
        "start_time": "2022-03-07T15:08:27.889Z"
      },
      {
        "duration": -509,
        "start_time": "2022-03-07T15:08:27.898Z"
      },
      {
        "duration": 135,
        "start_time": "2022-03-07T15:09:08.900Z"
      },
      {
        "duration": 37,
        "start_time": "2022-03-07T15:10:12.668Z"
      },
      {
        "duration": 37,
        "start_time": "2022-03-07T15:10:18.740Z"
      },
      {
        "duration": 37,
        "start_time": "2022-03-07T15:10:30.510Z"
      },
      {
        "duration": 28,
        "start_time": "2022-03-07T15:10:51.322Z"
      },
      {
        "duration": 577,
        "start_time": "2022-03-07T15:11:11.672Z"
      },
      {
        "duration": 34,
        "start_time": "2022-03-07T15:11:12.250Z"
      },
      {
        "duration": 11,
        "start_time": "2022-03-07T15:11:12.288Z"
      },
      {
        "duration": 6,
        "start_time": "2022-03-07T15:11:12.301Z"
      },
      {
        "duration": 24,
        "start_time": "2022-03-07T15:11:12.309Z"
      },
      {
        "duration": 9,
        "start_time": "2022-03-07T15:11:12.335Z"
      },
      {
        "duration": 9,
        "start_time": "2022-03-07T15:11:12.347Z"
      },
      {
        "duration": 7,
        "start_time": "2022-03-07T15:11:12.358Z"
      },
      {
        "duration": 29,
        "start_time": "2022-03-07T15:11:12.367Z"
      },
      {
        "duration": 67,
        "start_time": "2022-03-07T15:11:12.398Z"
      },
      {
        "duration": 15,
        "start_time": "2022-03-07T15:11:12.467Z"
      },
      {
        "duration": 13,
        "start_time": "2022-03-07T15:11:12.484Z"
      },
      {
        "duration": 40,
        "start_time": "2022-03-07T15:11:12.498Z"
      },
      {
        "duration": 11,
        "start_time": "2022-03-07T15:11:12.540Z"
      },
      {
        "duration": 42,
        "start_time": "2022-03-07T15:11:12.553Z"
      },
      {
        "duration": 7,
        "start_time": "2022-03-07T15:11:12.597Z"
      },
      {
        "duration": 7,
        "start_time": "2022-03-07T15:11:12.606Z"
      },
      {
        "duration": 32,
        "start_time": "2022-03-07T15:11:12.615Z"
      },
      {
        "duration": 229,
        "start_time": "2022-03-07T15:11:12.650Z"
      },
      {
        "duration": -89,
        "start_time": "2022-03-07T15:11:12.970Z"
      },
      {
        "duration": -93,
        "start_time": "2022-03-07T15:11:12.975Z"
      },
      {
        "duration": -97,
        "start_time": "2022-03-07T15:11:12.980Z"
      },
      {
        "duration": -100,
        "start_time": "2022-03-07T15:11:12.985Z"
      },
      {
        "duration": -103,
        "start_time": "2022-03-07T15:11:12.989Z"
      },
      {
        "duration": -108,
        "start_time": "2022-03-07T15:11:12.995Z"
      },
      {
        "duration": -112,
        "start_time": "2022-03-07T15:11:13.000Z"
      },
      {
        "duration": -117,
        "start_time": "2022-03-07T15:11:13.006Z"
      },
      {
        "duration": -121,
        "start_time": "2022-03-07T15:11:13.011Z"
      },
      {
        "duration": -125,
        "start_time": "2022-03-07T15:11:13.016Z"
      },
      {
        "duration": -128,
        "start_time": "2022-03-07T15:11:13.020Z"
      },
      {
        "duration": -132,
        "start_time": "2022-03-07T15:11:13.025Z"
      },
      {
        "duration": -136,
        "start_time": "2022-03-07T15:11:13.030Z"
      },
      {
        "duration": -141,
        "start_time": "2022-03-07T15:11:13.036Z"
      },
      {
        "duration": -145,
        "start_time": "2022-03-07T15:11:13.041Z"
      },
      {
        "duration": -150,
        "start_time": "2022-03-07T15:11:13.047Z"
      },
      {
        "duration": -154,
        "start_time": "2022-03-07T15:11:13.052Z"
      },
      {
        "duration": -157,
        "start_time": "2022-03-07T15:11:13.056Z"
      },
      {
        "duration": -181,
        "start_time": "2022-03-07T15:11:13.081Z"
      },
      {
        "duration": -186,
        "start_time": "2022-03-07T15:11:13.087Z"
      },
      {
        "duration": 60,
        "start_time": "2022-03-07T15:34:01.235Z"
      },
      {
        "duration": 571,
        "start_time": "2022-03-07T15:34:30.887Z"
      },
      {
        "duration": 35,
        "start_time": "2022-03-07T15:34:31.460Z"
      },
      {
        "duration": 11,
        "start_time": "2022-03-07T15:34:31.500Z"
      },
      {
        "duration": 6,
        "start_time": "2022-03-07T15:34:31.533Z"
      },
      {
        "duration": 7,
        "start_time": "2022-03-07T15:34:31.540Z"
      },
      {
        "duration": 10,
        "start_time": "2022-03-07T15:34:31.548Z"
      },
      {
        "duration": 8,
        "start_time": "2022-03-07T15:34:31.561Z"
      },
      {
        "duration": 9,
        "start_time": "2022-03-07T15:34:31.570Z"
      },
      {
        "duration": 26,
        "start_time": "2022-03-07T15:34:31.580Z"
      },
      {
        "duration": 55,
        "start_time": "2022-03-07T15:34:31.633Z"
      },
      {
        "duration": 14,
        "start_time": "2022-03-07T15:34:31.689Z"
      },
      {
        "duration": 30,
        "start_time": "2022-03-07T15:34:31.705Z"
      },
      {
        "duration": 7,
        "start_time": "2022-03-07T15:34:31.737Z"
      },
      {
        "duration": 6,
        "start_time": "2022-03-07T15:34:31.746Z"
      },
      {
        "duration": 29,
        "start_time": "2022-03-07T15:34:31.753Z"
      },
      {
        "duration": 6,
        "start_time": "2022-03-07T15:34:31.783Z"
      },
      {
        "duration": 43,
        "start_time": "2022-03-07T15:34:31.790Z"
      },
      {
        "duration": 12,
        "start_time": "2022-03-07T15:34:31.835Z"
      },
      {
        "duration": 181,
        "start_time": "2022-03-07T15:34:31.849Z"
      },
      {
        "duration": -113,
        "start_time": "2022-03-07T15:34:32.146Z"
      },
      {
        "duration": -117,
        "start_time": "2022-03-07T15:34:32.151Z"
      },
      {
        "duration": -122,
        "start_time": "2022-03-07T15:34:32.157Z"
      },
      {
        "duration": -125,
        "start_time": "2022-03-07T15:34:32.161Z"
      },
      {
        "duration": -129,
        "start_time": "2022-03-07T15:34:32.166Z"
      },
      {
        "duration": -133,
        "start_time": "2022-03-07T15:34:32.171Z"
      },
      {
        "duration": -137,
        "start_time": "2022-03-07T15:34:32.176Z"
      },
      {
        "duration": -140,
        "start_time": "2022-03-07T15:34:32.181Z"
      },
      {
        "duration": -145,
        "start_time": "2022-03-07T15:34:32.187Z"
      },
      {
        "duration": -149,
        "start_time": "2022-03-07T15:34:32.192Z"
      },
      {
        "duration": -188,
        "start_time": "2022-03-07T15:34:32.233Z"
      },
      {
        "duration": -192,
        "start_time": "2022-03-07T15:34:32.238Z"
      },
      {
        "duration": -197,
        "start_time": "2022-03-07T15:34:32.244Z"
      },
      {
        "duration": -201,
        "start_time": "2022-03-07T15:34:32.249Z"
      },
      {
        "duration": -206,
        "start_time": "2022-03-07T15:34:32.254Z"
      },
      {
        "duration": -209,
        "start_time": "2022-03-07T15:34:32.258Z"
      },
      {
        "duration": -214,
        "start_time": "2022-03-07T15:34:32.264Z"
      },
      {
        "duration": -217,
        "start_time": "2022-03-07T15:34:32.268Z"
      },
      {
        "duration": -221,
        "start_time": "2022-03-07T15:34:32.273Z"
      },
      {
        "duration": -225,
        "start_time": "2022-03-07T15:34:32.277Z"
      },
      {
        "duration": 53,
        "start_time": "2022-03-07T15:36:15.298Z"
      },
      {
        "duration": 83,
        "start_time": "2022-03-07T15:36:21.975Z"
      },
      {
        "duration": 52,
        "start_time": "2022-03-07T15:36:35.998Z"
      },
      {
        "duration": 52,
        "start_time": "2022-03-07T15:36:52.261Z"
      },
      {
        "duration": 50,
        "start_time": "2022-03-07T15:37:04.207Z"
      },
      {
        "duration": 53,
        "start_time": "2022-03-07T15:37:12.653Z"
      },
      {
        "duration": 61,
        "start_time": "2022-03-07T15:39:09.933Z"
      },
      {
        "duration": 53,
        "start_time": "2022-03-07T15:39:16.423Z"
      },
      {
        "duration": 70,
        "start_time": "2022-03-07T15:39:29.293Z"
      },
      {
        "duration": 56,
        "start_time": "2022-03-07T15:40:15.507Z"
      },
      {
        "duration": 29,
        "start_time": "2022-03-07T15:44:02.762Z"
      },
      {
        "duration": 10,
        "start_time": "2022-03-07T15:50:12.793Z"
      },
      {
        "duration": 44,
        "start_time": "2022-03-07T15:51:35.426Z"
      },
      {
        "duration": 17,
        "start_time": "2022-03-07T15:52:55.373Z"
      },
      {
        "duration": 6,
        "start_time": "2022-03-07T15:54:38.819Z"
      },
      {
        "duration": 605,
        "start_time": "2022-03-08T17:18:24.486Z"
      },
      {
        "duration": 47,
        "start_time": "2022-03-08T17:18:25.093Z"
      },
      {
        "duration": 13,
        "start_time": "2022-03-08T17:18:25.142Z"
      },
      {
        "duration": 8,
        "start_time": "2022-03-08T17:18:25.157Z"
      },
      {
        "duration": 13,
        "start_time": "2022-03-08T17:18:25.167Z"
      },
      {
        "duration": 12,
        "start_time": "2022-03-08T17:18:25.182Z"
      },
      {
        "duration": 42,
        "start_time": "2022-03-08T17:18:25.196Z"
      },
      {
        "duration": 7,
        "start_time": "2022-03-08T17:18:25.240Z"
      },
      {
        "duration": 37,
        "start_time": "2022-03-08T17:18:25.251Z"
      },
      {
        "duration": 92,
        "start_time": "2022-03-08T17:18:25.292Z"
      },
      {
        "duration": 30,
        "start_time": "2022-03-08T17:18:25.386Z"
      },
      {
        "duration": 33,
        "start_time": "2022-03-08T17:18:25.418Z"
      },
      {
        "duration": 15,
        "start_time": "2022-03-08T17:18:25.454Z"
      },
      {
        "duration": 12,
        "start_time": "2022-03-08T17:18:25.471Z"
      },
      {
        "duration": 10,
        "start_time": "2022-03-08T17:18:25.485Z"
      },
      {
        "duration": 40,
        "start_time": "2022-03-08T17:18:25.498Z"
      },
      {
        "duration": 33,
        "start_time": "2022-03-08T17:18:25.541Z"
      },
      {
        "duration": 6,
        "start_time": "2022-03-08T17:18:25.576Z"
      },
      {
        "duration": 8,
        "start_time": "2022-03-08T17:18:25.584Z"
      },
      {
        "duration": 52,
        "start_time": "2022-03-08T17:18:25.594Z"
      },
      {
        "duration": 7,
        "start_time": "2022-03-08T17:18:25.648Z"
      },
      {
        "duration": 28,
        "start_time": "2022-03-08T17:18:25.657Z"
      },
      {
        "duration": 66,
        "start_time": "2022-03-08T17:18:25.687Z"
      },
      {
        "duration": 18,
        "start_time": "2022-03-08T17:18:25.756Z"
      },
      {
        "duration": 16,
        "start_time": "2022-03-08T17:18:25.775Z"
      },
      {
        "duration": 63,
        "start_time": "2022-03-08T17:18:25.792Z"
      },
      {
        "duration": 30,
        "start_time": "2022-03-08T17:18:25.860Z"
      },
      {
        "duration": 4,
        "start_time": "2022-03-08T17:18:25.892Z"
      },
      {
        "duration": 549,
        "start_time": "2022-03-08T17:18:25.897Z"
      },
      {
        "duration": 8,
        "start_time": "2022-03-08T17:18:26.448Z"
      },
      {
        "duration": 3,
        "start_time": "2022-03-08T17:18:26.458Z"
      },
      {
        "duration": 246,
        "start_time": "2022-03-08T17:18:26.463Z"
      },
      {
        "duration": 3854,
        "start_time": "2022-03-08T17:18:26.710Z"
      },
      {
        "duration": 19,
        "start_time": "2022-03-08T17:18:30.566Z"
      },
      {
        "duration": 6,
        "start_time": "2022-03-08T17:18:30.587Z"
      },
      {
        "duration": 25,
        "start_time": "2022-03-08T17:18:30.595Z"
      },
      {
        "duration": 6,
        "start_time": "2022-03-08T17:18:30.639Z"
      },
      {
        "duration": 46,
        "start_time": "2022-03-08T17:18:30.647Z"
      },
      {
        "duration": 6,
        "start_time": "2022-03-08T17:18:30.695Z"
      },
      {
        "duration": 62,
        "start_time": "2022-03-08T17:18:30.702Z"
      },
      {
        "duration": 23,
        "start_time": "2022-03-08T17:18:30.766Z"
      },
      {
        "duration": 253,
        "start_time": "2022-03-08T17:30:07.391Z"
      },
      {
        "duration": 17,
        "start_time": "2022-03-08T17:30:21.884Z"
      },
      {
        "duration": 17,
        "start_time": "2022-03-08T17:31:00.186Z"
      },
      {
        "duration": 6,
        "start_time": "2022-03-08T17:34:06.821Z"
      },
      {
        "duration": 9,
        "start_time": "2022-03-08T17:34:49.640Z"
      },
      {
        "duration": 20,
        "start_time": "2022-03-08T17:41:05.891Z"
      },
      {
        "duration": 10,
        "start_time": "2022-03-08T17:59:42.165Z"
      },
      {
        "duration": 8,
        "start_time": "2022-03-08T18:02:42.847Z"
      },
      {
        "duration": 9,
        "start_time": "2022-03-08T18:03:52.227Z"
      },
      {
        "duration": 23,
        "start_time": "2022-03-08T18:07:41.525Z"
      },
      {
        "duration": 8,
        "start_time": "2022-03-08T18:08:01.241Z"
      },
      {
        "duration": 483,
        "start_time": "2022-03-08T18:09:26.727Z"
      },
      {
        "duration": 5,
        "start_time": "2022-03-08T18:34:32.759Z"
      },
      {
        "duration": 6,
        "start_time": "2022-03-08T18:37:27.464Z"
      },
      {
        "duration": 7,
        "start_time": "2022-03-08T18:37:39.632Z"
      },
      {
        "duration": 139,
        "start_time": "2022-03-08T18:39:12.181Z"
      },
      {
        "duration": 142,
        "start_time": "2022-03-08T18:39:31.383Z"
      },
      {
        "duration": 17,
        "start_time": "2022-03-08T18:40:16.722Z"
      },
      {
        "duration": 2865,
        "start_time": "2022-03-08T18:44:23.159Z"
      },
      {
        "duration": 2575,
        "start_time": "2022-03-08T18:44:37.397Z"
      },
      {
        "duration": 3002,
        "start_time": "2022-03-08T18:44:48.885Z"
      },
      {
        "duration": 162,
        "start_time": "2022-03-08T18:45:31.091Z"
      },
      {
        "duration": 151,
        "start_time": "2022-03-08T18:45:39.304Z"
      },
      {
        "duration": 51,
        "start_time": "2022-03-08T18:45:49.329Z"
      },
      {
        "duration": 2608,
        "start_time": "2022-03-08T18:46:06.044Z"
      },
      {
        "duration": 8,
        "start_time": "2022-03-08T18:48:21.473Z"
      },
      {
        "duration": 14,
        "start_time": "2022-03-08T18:50:38.427Z"
      },
      {
        "duration": 12,
        "start_time": "2022-03-08T18:51:29.546Z"
      },
      {
        "duration": 36,
        "start_time": "2022-03-08T18:53:55.256Z"
      },
      {
        "duration": 335,
        "start_time": "2022-03-08T18:54:35.906Z"
      },
      {
        "duration": 39,
        "start_time": "2022-03-08T18:54:48.491Z"
      },
      {
        "duration": 590,
        "start_time": "2022-03-08T18:55:19.611Z"
      },
      {
        "duration": 42,
        "start_time": "2022-03-08T18:55:26.886Z"
      },
      {
        "duration": 5,
        "start_time": "2022-03-08T18:58:38.251Z"
      },
      {
        "duration": 134,
        "start_time": "2022-03-08T18:59:22.746Z"
      },
      {
        "duration": 7,
        "start_time": "2022-03-08T19:02:02.767Z"
      },
      {
        "duration": 3,
        "start_time": "2022-03-08T19:03:06.465Z"
      },
      {
        "duration": 20,
        "start_time": "2022-03-08T19:06:36.255Z"
      },
      {
        "duration": 10,
        "start_time": "2022-03-08T19:06:50.364Z"
      },
      {
        "duration": 138,
        "start_time": "2022-03-08T19:07:02.385Z"
      },
      {
        "duration": 21,
        "start_time": "2022-03-08T19:07:14.627Z"
      },
      {
        "duration": 162,
        "start_time": "2022-03-08T19:07:36.407Z"
      },
      {
        "duration": 156,
        "start_time": "2022-03-08T19:07:42.880Z"
      },
      {
        "duration": 18,
        "start_time": "2022-03-08T19:07:54.259Z"
      },
      {
        "duration": 18,
        "start_time": "2022-03-08T19:08:24.487Z"
      },
      {
        "duration": 3,
        "start_time": "2022-03-08T19:08:33.140Z"
      },
      {
        "duration": 11,
        "start_time": "2022-03-08T19:09:04.195Z"
      },
      {
        "duration": 9,
        "start_time": "2022-03-08T19:11:27.267Z"
      },
      {
        "duration": 9,
        "start_time": "2022-03-08T19:12:24.998Z"
      },
      {
        "duration": 17,
        "start_time": "2022-03-08T19:12:50.533Z"
      },
      {
        "duration": 10,
        "start_time": "2022-03-08T19:13:06.925Z"
      },
      {
        "duration": 18,
        "start_time": "2022-03-08T19:14:40.741Z"
      },
      {
        "duration": 9,
        "start_time": "2022-03-08T19:16:38.697Z"
      },
      {
        "duration": 3,
        "start_time": "2022-03-08T19:17:28.931Z"
      },
      {
        "duration": 20,
        "start_time": "2022-03-08T19:19:53.194Z"
      },
      {
        "duration": 8,
        "start_time": "2022-03-08T19:20:22.569Z"
      },
      {
        "duration": 21,
        "start_time": "2022-03-08T19:20:46.969Z"
      },
      {
        "duration": 9,
        "start_time": "2022-03-08T19:21:32.311Z"
      },
      {
        "duration": 613,
        "start_time": "2022-03-08T19:22:34.370Z"
      },
      {
        "duration": 38,
        "start_time": "2022-03-08T19:22:34.984Z"
      },
      {
        "duration": 22,
        "start_time": "2022-03-08T19:22:35.024Z"
      },
      {
        "duration": 6,
        "start_time": "2022-03-08T19:22:35.049Z"
      },
      {
        "duration": 9,
        "start_time": "2022-03-08T19:22:35.057Z"
      },
      {
        "duration": 13,
        "start_time": "2022-03-08T19:22:35.067Z"
      },
      {
        "duration": 9,
        "start_time": "2022-03-08T19:22:35.082Z"
      },
      {
        "duration": 7,
        "start_time": "2022-03-08T19:22:35.093Z"
      },
      {
        "duration": 56,
        "start_time": "2022-03-08T19:22:35.102Z"
      },
      {
        "duration": 55,
        "start_time": "2022-03-08T19:22:35.159Z"
      },
      {
        "duration": 43,
        "start_time": "2022-03-08T19:22:35.216Z"
      },
      {
        "duration": 14,
        "start_time": "2022-03-08T19:22:35.261Z"
      },
      {
        "duration": 13,
        "start_time": "2022-03-08T19:22:35.277Z"
      },
      {
        "duration": 47,
        "start_time": "2022-03-08T19:22:35.291Z"
      },
      {
        "duration": 7,
        "start_time": "2022-03-08T19:22:35.340Z"
      },
      {
        "duration": 13,
        "start_time": "2022-03-08T19:22:35.349Z"
      },
      {
        "duration": 37,
        "start_time": "2022-03-08T19:22:35.364Z"
      },
      {
        "duration": 7,
        "start_time": "2022-03-08T19:22:35.403Z"
      },
      {
        "duration": 27,
        "start_time": "2022-03-08T19:22:35.412Z"
      },
      {
        "duration": 19,
        "start_time": "2022-03-08T19:22:35.440Z"
      },
      {
        "duration": 11,
        "start_time": "2022-03-08T19:22:35.461Z"
      },
      {
        "duration": 29,
        "start_time": "2022-03-08T19:22:35.474Z"
      },
      {
        "duration": 59,
        "start_time": "2022-03-08T19:22:35.507Z"
      },
      {
        "duration": 17,
        "start_time": "2022-03-08T19:22:35.568Z"
      },
      {
        "duration": 14,
        "start_time": "2022-03-08T19:22:35.587Z"
      },
      {
        "duration": 34,
        "start_time": "2022-03-08T19:22:35.603Z"
      },
      {
        "duration": 31,
        "start_time": "2022-03-08T19:22:35.639Z"
      },
      {
        "duration": 8,
        "start_time": "2022-03-08T19:22:35.672Z"
      },
      {
        "duration": 8,
        "start_time": "2022-03-08T19:22:35.681Z"
      },
      {
        "duration": 3,
        "start_time": "2022-03-08T19:22:35.691Z"
      },
      {
        "duration": 498,
        "start_time": "2022-03-08T19:22:35.696Z"
      },
      {
        "duration": 10,
        "start_time": "2022-03-08T19:22:36.195Z"
      },
      {
        "duration": 3,
        "start_time": "2022-03-08T19:22:36.206Z"
      },
      {
        "duration": 229,
        "start_time": "2022-03-08T19:22:36.211Z"
      },
      {
        "duration": 3340,
        "start_time": "2022-03-08T19:22:36.441Z"
      },
      {
        "duration": 20,
        "start_time": "2022-03-08T19:22:39.783Z"
      },
      {
        "duration": 2,
        "start_time": "2022-03-08T19:22:39.805Z"
      },
      {
        "duration": 34,
        "start_time": "2022-03-08T19:22:39.809Z"
      },
      {
        "duration": 17,
        "start_time": "2022-03-08T19:22:39.845Z"
      },
      {
        "duration": 2,
        "start_time": "2022-03-08T19:22:39.864Z"
      },
      {
        "duration": 15,
        "start_time": "2022-03-08T19:22:39.868Z"
      },
      {
        "duration": 23,
        "start_time": "2022-03-08T19:22:39.884Z"
      },
      {
        "duration": 28,
        "start_time": "2022-03-08T19:22:39.910Z"
      },
      {
        "duration": 15,
        "start_time": "2022-03-08T19:22:39.940Z"
      },
      {
        "duration": 20,
        "start_time": "2022-03-08T19:22:39.957Z"
      },
      {
        "duration": 2,
        "start_time": "2022-03-08T19:22:39.979Z"
      },
      {
        "duration": 19,
        "start_time": "2022-03-08T19:22:39.982Z"
      },
      {
        "duration": 481,
        "start_time": "2022-03-10T06:33:12.701Z"
      },
      {
        "duration": 1143,
        "start_time": "2022-03-10T06:33:18.771Z"
      },
      {
        "duration": 81,
        "start_time": "2022-03-10T06:33:19.917Z"
      },
      {
        "duration": 40,
        "start_time": "2022-03-10T06:33:20.001Z"
      },
      {
        "duration": 12,
        "start_time": "2022-03-10T06:33:20.044Z"
      },
      {
        "duration": 9,
        "start_time": "2022-03-10T06:33:20.059Z"
      },
      {
        "duration": 15,
        "start_time": "2022-03-10T06:33:20.071Z"
      },
      {
        "duration": 71,
        "start_time": "2022-03-10T06:33:20.089Z"
      },
      {
        "duration": 14,
        "start_time": "2022-03-10T06:33:20.165Z"
      },
      {
        "duration": 52,
        "start_time": "2022-03-10T06:33:20.183Z"
      },
      {
        "duration": 100,
        "start_time": "2022-03-10T06:33:20.238Z"
      },
      {
        "duration": 46,
        "start_time": "2022-03-10T06:33:20.341Z"
      },
      {
        "duration": 46,
        "start_time": "2022-03-10T06:33:20.390Z"
      },
      {
        "duration": 22,
        "start_time": "2022-03-10T06:33:20.438Z"
      },
      {
        "duration": 33,
        "start_time": "2022-03-10T06:33:20.462Z"
      },
      {
        "duration": 42,
        "start_time": "2022-03-10T06:33:20.498Z"
      },
      {
        "duration": 9,
        "start_time": "2022-03-10T06:33:20.543Z"
      },
      {
        "duration": 53,
        "start_time": "2022-03-10T06:33:20.554Z"
      },
      {
        "duration": 10,
        "start_time": "2022-03-10T06:33:20.633Z"
      },
      {
        "duration": 9,
        "start_time": "2022-03-10T06:33:20.645Z"
      },
      {
        "duration": 18,
        "start_time": "2022-03-10T06:33:20.657Z"
      },
      {
        "duration": 10,
        "start_time": "2022-03-10T06:33:20.678Z"
      },
      {
        "duration": 31,
        "start_time": "2022-03-10T06:33:20.733Z"
      },
      {
        "duration": 70,
        "start_time": "2022-03-10T06:33:20.769Z"
      },
      {
        "duration": 26,
        "start_time": "2022-03-10T06:33:20.842Z"
      },
      {
        "duration": 23,
        "start_time": "2022-03-10T06:33:20.870Z"
      },
      {
        "duration": 42,
        "start_time": "2022-03-10T06:33:20.895Z"
      },
      {
        "duration": 42,
        "start_time": "2022-03-10T06:33:20.939Z"
      },
      {
        "duration": 12,
        "start_time": "2022-03-10T06:33:20.984Z"
      },
      {
        "duration": 35,
        "start_time": "2022-03-10T06:33:20.998Z"
      },
      {
        "duration": 5,
        "start_time": "2022-03-10T06:33:21.035Z"
      },
      {
        "duration": 901,
        "start_time": "2022-03-10T06:33:21.042Z"
      },
      {
        "duration": 12,
        "start_time": "2022-03-10T06:33:21.945Z"
      },
      {
        "duration": 5,
        "start_time": "2022-03-10T06:33:21.960Z"
      },
      {
        "duration": 437,
        "start_time": "2022-03-10T06:33:21.967Z"
      },
      {
        "duration": 5283,
        "start_time": "2022-03-10T06:33:22.406Z"
      },
      {
        "duration": 42,
        "start_time": "2022-03-10T06:33:27.692Z"
      },
      {
        "duration": 3,
        "start_time": "2022-03-10T06:33:27.737Z"
      },
      {
        "duration": 32,
        "start_time": "2022-03-10T06:33:27.743Z"
      },
      {
        "duration": 74,
        "start_time": "2022-03-10T06:33:27.778Z"
      },
      {
        "duration": 27,
        "start_time": "2022-03-10T06:33:27.855Z"
      },
      {
        "duration": 3,
        "start_time": "2022-03-10T06:33:27.885Z"
      },
      {
        "duration": 43,
        "start_time": "2022-03-10T06:33:27.891Z"
      },
      {
        "duration": 29,
        "start_time": "2022-03-10T06:33:27.937Z"
      },
      {
        "duration": 3,
        "start_time": "2022-03-10T06:33:27.969Z"
      },
      {
        "duration": 22,
        "start_time": "2022-03-10T06:33:27.975Z"
      },
      {
        "duration": 58,
        "start_time": "2022-03-10T06:33:28.000Z"
      },
      {
        "duration": 3,
        "start_time": "2022-03-10T06:33:28.060Z"
      },
      {
        "duration": 16,
        "start_time": "2022-03-10T06:33:28.065Z"
      }
    ],
    "kernelspec": {
      "display_name": "Python 3 (ipykernel)",
      "language": "python",
      "name": "python3"
    },
    "language_info": {
      "codemirror_mode": {
        "name": "ipython",
        "version": 3
      },
      "file_extension": ".py",
      "mimetype": "text/x-python",
      "name": "python",
      "nbconvert_exporter": "python",
      "pygments_lexer": "ipython3",
      "version": "3.9.5"
    },
    "toc": {
      "base_numbering": 1,
      "nav_menu": {},
      "number_sections": true,
      "sideBar": true,
      "skip_h1_title": true,
      "title_cell": "Table of Contents",
      "title_sidebar": "Contents",
      "toc_cell": false,
      "toc_position": {},
      "toc_section_display": true,
      "toc_window_display": true
    },
    "colab": {
      "provenance": []
    }
  },
  "nbformat": 4,
  "nbformat_minor": 5
}