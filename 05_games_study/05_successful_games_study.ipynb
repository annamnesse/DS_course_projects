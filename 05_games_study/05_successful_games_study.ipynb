{
 "cells": [
  {
   "cell_type": "markdown",
   "metadata": {},
   "source": [
    "<div style=\"border:solid green 1px; padding: 20px\">\n",
    "\n",
    "<b>Привет, Анна! 🙂</b>\n",
    "    \n",
    "Меня зовут Никитюк Миша, я буду проверять твою работу. Предлагаю сразу перейти на <b>«ты»</b>, однако если удобнее будет на <b>«вы»</b>, то напиши об этом в комментариях в ответной итерации. \n",
    "    \n",
    "Пожалуйста, не удаляй мои комментарии, они будут полезны для нашей работы при повторной проверке проекта.\n",
    "    \n",
    "Для более наглядного представления и лучшего понимания моих комментариев, я буду выделять их соответствующим цветом:\n",
    "    \n",
    "<div class=\"alert alert-danger\">\n",
    "    <b>❌ Комментарий ревьюера:</b>\n",
    "    Самые важные замечания. Они указывают на ключевые моменты, которые влияют на конечный результат проекта.\n",
    "</div>\n",
    "\n",
    "<div class=\"alert alert-warning\">\n",
    "    <b>⚠️ Комментарий ревьюера:</b> \n",
    "    Советы или замечания, которые помогут сделать твою работу лучше, но необязательны к выполнению.\n",
    "</div>\n",
    "\n",
    "<div class=\"alert alert-success\">\n",
    "    <b>✔️ Комментарий ревьюера:</b> \n",
    "    Так я выделяю все остальные комментарии. (В основном правильные)\n",
    "</div>\n",
    "\n",
    "Предлагаю работать над проектом в диалоге: если ты вносишь изменения в свой код после моих рекомендаций, указывай это в комментариях любым выбранным цветом (пример оформления markdown ячейки можешь взять у меня). \n",
    "<br>Например вот так:\n",
    "\n",
    "<div class=\"alert alert-info\">\n",
    "<b>Комментарий студента:</b>\n",
    "    <br> Текст\n",
    "</div>\n",
    "\n",
    "    \n",
    "</div>"
   ]
  },
  {
   "cell_type": "markdown",
   "metadata": {},
   "source": [
    "# Описание проекта"
   ]
  },
  {
   "cell_type": "markdown",
   "metadata": {},
   "source": [
    "В интернет-магазине «Стримчик», который продаёт по всему миру компьютерные игры, из открытых источников доступны исторические данные о продажах игр, оценки пользователей и экспертов, жанры и платформы (например, Xbox или PlayStation). Нам нужно выявить определяющие успешность игры закономерности. Это позволит сделать ставку на потенциально популярный продукт и спланировать рекламные кампании.\n",
    "\n",
    "Перед нами данные до 2016 года. Представим, что сейчас декабрь 2016 г., и мы планируете кампанию на 2017-й. Нужно отработать принцип работы с данными. Неважно, прогнозируете ли мы продажи на 2017 год по данным 2016-го или же 2027-й — по данным 2026 года.\n",
    "\n",
    "В наборе данных попадается аббревиатура ESRB (Entertainment Software Rating Board) — это ассоциация, определяющая возрастной рейтинг компьютерных игр. ESRB оценивает игровой контент и присваивает ему подходящую возрастную категорию, например, «Для взрослых», «Для детей младшего возраста» или «Для подростков»."
   ]
  },
  {
   "cell_type": "markdown",
   "metadata": {},
   "source": [
    "<div class=\"alert alert-success\">\n",
    "    <b>✔️ Комментарий ревьюера:</b> \n",
    "    \n",
    "Спасибо за вводную часть. Это очень важно, так как человек, который смотрит твой проект (и на работе в том числе) будет сразу введен в курс дела)\n",
    "    \n",
    "Можно также добавить план работы 😉\n",
    "</div>"
   ]
  },
  {
   "cell_type": "markdown",
   "metadata": {},
   "source": [
    "## Изучение данных"
   ]
  },
  {
   "cell_type": "code",
   "execution_count": 1,
   "metadata": {},
   "outputs": [],
   "source": [
    "import pandas as pd\n",
    "import numpy as np\n",
    "\n",
    "import matplotlib.pyplot as plt\n",
    "import seaborn as sns\n",
    "\n",
    "import math as mt\n",
    "from scipy import stats as st\n",
    "\n",
    "from pymystem3 import Mystem"
   ]
  },
  {
   "cell_type": "code",
   "execution_count": 2,
   "metadata": {},
   "outputs": [
    {
     "data": {
      "text/html": [
       "<div>\n",
       "<style scoped>\n",
       "    .dataframe tbody tr th:only-of-type {\n",
       "        vertical-align: middle;\n",
       "    }\n",
       "\n",
       "    .dataframe tbody tr th {\n",
       "        vertical-align: top;\n",
       "    }\n",
       "\n",
       "    .dataframe thead th {\n",
       "        text-align: right;\n",
       "    }\n",
       "</style>\n",
       "<table border=\"1\" class=\"dataframe\">\n",
       "  <thead>\n",
       "    <tr style=\"text-align: right;\">\n",
       "      <th></th>\n",
       "      <th>Name</th>\n",
       "      <th>Platform</th>\n",
       "      <th>Year_of_Release</th>\n",
       "      <th>Genre</th>\n",
       "      <th>NA_sales</th>\n",
       "      <th>EU_sales</th>\n",
       "      <th>JP_sales</th>\n",
       "      <th>Other_sales</th>\n",
       "      <th>Critic_Score</th>\n",
       "      <th>User_Score</th>\n",
       "      <th>Rating</th>\n",
       "    </tr>\n",
       "  </thead>\n",
       "  <tbody>\n",
       "    <tr>\n",
       "      <th>0</th>\n",
       "      <td>Wii Sports</td>\n",
       "      <td>Wii</td>\n",
       "      <td>2006.0</td>\n",
       "      <td>Sports</td>\n",
       "      <td>41.36</td>\n",
       "      <td>28.96</td>\n",
       "      <td>3.77</td>\n",
       "      <td>8.45</td>\n",
       "      <td>76.0</td>\n",
       "      <td>8</td>\n",
       "      <td>E</td>\n",
       "    </tr>\n",
       "    <tr>\n",
       "      <th>1</th>\n",
       "      <td>Super Mario Bros.</td>\n",
       "      <td>NES</td>\n",
       "      <td>1985.0</td>\n",
       "      <td>Platform</td>\n",
       "      <td>29.08</td>\n",
       "      <td>3.58</td>\n",
       "      <td>6.81</td>\n",
       "      <td>0.77</td>\n",
       "      <td>NaN</td>\n",
       "      <td>NaN</td>\n",
       "      <td>NaN</td>\n",
       "    </tr>\n",
       "    <tr>\n",
       "      <th>2</th>\n",
       "      <td>Mario Kart Wii</td>\n",
       "      <td>Wii</td>\n",
       "      <td>2008.0</td>\n",
       "      <td>Racing</td>\n",
       "      <td>15.68</td>\n",
       "      <td>12.76</td>\n",
       "      <td>3.79</td>\n",
       "      <td>3.29</td>\n",
       "      <td>82.0</td>\n",
       "      <td>8.3</td>\n",
       "      <td>E</td>\n",
       "    </tr>\n",
       "    <tr>\n",
       "      <th>3</th>\n",
       "      <td>Wii Sports Resort</td>\n",
       "      <td>Wii</td>\n",
       "      <td>2009.0</td>\n",
       "      <td>Sports</td>\n",
       "      <td>15.61</td>\n",
       "      <td>10.93</td>\n",
       "      <td>3.28</td>\n",
       "      <td>2.95</td>\n",
       "      <td>80.0</td>\n",
       "      <td>8</td>\n",
       "      <td>E</td>\n",
       "    </tr>\n",
       "    <tr>\n",
       "      <th>4</th>\n",
       "      <td>Pokemon Red/Pokemon Blue</td>\n",
       "      <td>GB</td>\n",
       "      <td>1996.0</td>\n",
       "      <td>Role-Playing</td>\n",
       "      <td>11.27</td>\n",
       "      <td>8.89</td>\n",
       "      <td>10.22</td>\n",
       "      <td>1.00</td>\n",
       "      <td>NaN</td>\n",
       "      <td>NaN</td>\n",
       "      <td>NaN</td>\n",
       "    </tr>\n",
       "  </tbody>\n",
       "</table>\n",
       "</div>"
      ],
      "text/plain": [
       "                       Name Platform  Year_of_Release         Genre  NA_sales  \\\n",
       "0                Wii Sports      Wii           2006.0        Sports     41.36   \n",
       "1         Super Mario Bros.      NES           1985.0      Platform     29.08   \n",
       "2            Mario Kart Wii      Wii           2008.0        Racing     15.68   \n",
       "3         Wii Sports Resort      Wii           2009.0        Sports     15.61   \n",
       "4  Pokemon Red/Pokemon Blue       GB           1996.0  Role-Playing     11.27   \n",
       "\n",
       "   EU_sales  JP_sales  Other_sales  Critic_Score User_Score Rating  \n",
       "0     28.96      3.77         8.45          76.0          8      E  \n",
       "1      3.58      6.81         0.77           NaN        NaN    NaN  \n",
       "2     12.76      3.79         3.29          82.0        8.3      E  \n",
       "3     10.93      3.28         2.95          80.0          8      E  \n",
       "4      8.89     10.22         1.00           NaN        NaN    NaN  "
      ]
     },
     "execution_count": 2,
     "metadata": {},
     "output_type": "execute_result"
    }
   ],
   "source": [
    "# Загрузим исходный датафрейм\n",
    "games = pd.read_csv('https://code.s3.yandex.net/datasets/games.csv')\n",
    "games.head()"
   ]
  },
  {
   "cell_type": "markdown",
   "metadata": {},
   "source": [
    "Описание исходных данных:\n",
    "\n",
    "* Name — название игры\n",
    "* Platform — платформа\n",
    "* Year_of_Release — год выпуска\n",
    "* Genre — жанр игры\n",
    "* NA_sales — продажи в Северной Америке (миллионы проданных копий)\n",
    "* EU_sales — продажи в Европе (миллионы проданных копий)\n",
    "* JP_sales — продажи в Японии (миллионы проданных копий)\n",
    "* Other_sales — продажи в других странах (миллионы проданных копий)\n",
    "* Critic_Score — оценка критиков (максимум 100)\n",
    "* User_Score — оценка пользователей (максимум 10)\n",
    "* Rating — рейтинг от организации ESRB (англ. Entertainment Software Rating Board). Эта ассоциация определяет рейтинг компьютерных игр и присваивает им подходящую возрастную категорию"
   ]
  },
  {
   "cell_type": "code",
   "execution_count": 3,
   "metadata": {},
   "outputs": [
    {
     "data": {
      "text/html": [
       "<div>\n",
       "<style scoped>\n",
       "    .dataframe tbody tr th:only-of-type {\n",
       "        vertical-align: middle;\n",
       "    }\n",
       "\n",
       "    .dataframe tbody tr th {\n",
       "        vertical-align: top;\n",
       "    }\n",
       "\n",
       "    .dataframe thead th {\n",
       "        text-align: right;\n",
       "    }\n",
       "</style>\n",
       "<table border=\"1\" class=\"dataframe\">\n",
       "  <thead>\n",
       "    <tr style=\"text-align: right;\">\n",
       "      <th></th>\n",
       "      <th>Year_of_Release</th>\n",
       "      <th>NA_sales</th>\n",
       "      <th>EU_sales</th>\n",
       "      <th>JP_sales</th>\n",
       "      <th>Other_sales</th>\n",
       "      <th>Critic_Score</th>\n",
       "    </tr>\n",
       "  </thead>\n",
       "  <tbody>\n",
       "    <tr>\n",
       "      <th>count</th>\n",
       "      <td>16446.000000</td>\n",
       "      <td>16715.000000</td>\n",
       "      <td>16715.000000</td>\n",
       "      <td>16715.000000</td>\n",
       "      <td>16715.000000</td>\n",
       "      <td>8137.000000</td>\n",
       "    </tr>\n",
       "    <tr>\n",
       "      <th>mean</th>\n",
       "      <td>2006.484616</td>\n",
       "      <td>0.263377</td>\n",
       "      <td>0.145060</td>\n",
       "      <td>0.077617</td>\n",
       "      <td>0.047342</td>\n",
       "      <td>68.967679</td>\n",
       "    </tr>\n",
       "    <tr>\n",
       "      <th>std</th>\n",
       "      <td>5.877050</td>\n",
       "      <td>0.813604</td>\n",
       "      <td>0.503339</td>\n",
       "      <td>0.308853</td>\n",
       "      <td>0.186731</td>\n",
       "      <td>13.938165</td>\n",
       "    </tr>\n",
       "    <tr>\n",
       "      <th>min</th>\n",
       "      <td>1980.000000</td>\n",
       "      <td>0.000000</td>\n",
       "      <td>0.000000</td>\n",
       "      <td>0.000000</td>\n",
       "      <td>0.000000</td>\n",
       "      <td>13.000000</td>\n",
       "    </tr>\n",
       "    <tr>\n",
       "      <th>25%</th>\n",
       "      <td>2003.000000</td>\n",
       "      <td>0.000000</td>\n",
       "      <td>0.000000</td>\n",
       "      <td>0.000000</td>\n",
       "      <td>0.000000</td>\n",
       "      <td>60.000000</td>\n",
       "    </tr>\n",
       "    <tr>\n",
       "      <th>50%</th>\n",
       "      <td>2007.000000</td>\n",
       "      <td>0.080000</td>\n",
       "      <td>0.020000</td>\n",
       "      <td>0.000000</td>\n",
       "      <td>0.010000</td>\n",
       "      <td>71.000000</td>\n",
       "    </tr>\n",
       "    <tr>\n",
       "      <th>75%</th>\n",
       "      <td>2010.000000</td>\n",
       "      <td>0.240000</td>\n",
       "      <td>0.110000</td>\n",
       "      <td>0.040000</td>\n",
       "      <td>0.030000</td>\n",
       "      <td>79.000000</td>\n",
       "    </tr>\n",
       "    <tr>\n",
       "      <th>max</th>\n",
       "      <td>2016.000000</td>\n",
       "      <td>41.360000</td>\n",
       "      <td>28.960000</td>\n",
       "      <td>10.220000</td>\n",
       "      <td>10.570000</td>\n",
       "      <td>98.000000</td>\n",
       "    </tr>\n",
       "  </tbody>\n",
       "</table>\n",
       "</div>"
      ],
      "text/plain": [
       "       Year_of_Release      NA_sales      EU_sales      JP_sales  \\\n",
       "count     16446.000000  16715.000000  16715.000000  16715.000000   \n",
       "mean       2006.484616      0.263377      0.145060      0.077617   \n",
       "std           5.877050      0.813604      0.503339      0.308853   \n",
       "min        1980.000000      0.000000      0.000000      0.000000   \n",
       "25%        2003.000000      0.000000      0.000000      0.000000   \n",
       "50%        2007.000000      0.080000      0.020000      0.000000   \n",
       "75%        2010.000000      0.240000      0.110000      0.040000   \n",
       "max        2016.000000     41.360000     28.960000     10.220000   \n",
       "\n",
       "        Other_sales  Critic_Score  \n",
       "count  16715.000000   8137.000000  \n",
       "mean       0.047342     68.967679  \n",
       "std        0.186731     13.938165  \n",
       "min        0.000000     13.000000  \n",
       "25%        0.000000     60.000000  \n",
       "50%        0.010000     71.000000  \n",
       "75%        0.030000     79.000000  \n",
       "max       10.570000     98.000000  "
      ]
     },
     "execution_count": 3,
     "metadata": {},
     "output_type": "execute_result"
    }
   ],
   "source": [
    "games.describe()"
   ]
  },
  {
   "cell_type": "markdown",
   "metadata": {},
   "source": [
    "<b>Предварительные наблюдения</b>\n",
    "\n",
    "* Необходимо названия столбцов привести к нижнему регистру\n",
    "* Значения в Year_of_Release явно должны быть целочисленными\n",
    "* Уже заметны пропущенные данные"
   ]
  },
  {
   "cell_type": "markdown",
   "metadata": {},
   "source": [
    "<div class=\"alert alert-success\">\n",
    "    <b>✔️ Комментарий ревьюера:</b> \n",
    "    \n",
    "Окей, таблицу открыли, можем переходить к ее изучению и обработке. \n",
    "</div>"
   ]
  },
  {
   "cell_type": "markdown",
   "metadata": {},
   "source": [
    "Изучим подробнее, с какой датасетом данных имеем дело в части объема уникальных значений и типов данных."
   ]
  },
  {
   "cell_type": "markdown",
   "metadata": {},
   "source": [
    " ### Уникальные значения"
   ]
  },
  {
   "cell_type": "code",
   "execution_count": 4,
   "metadata": {},
   "outputs": [
    {
     "data": {
      "text/plain": [
       "11560"
      ]
     },
     "execution_count": 4,
     "metadata": {},
     "output_type": "execute_result"
    }
   ],
   "source": [
    "# Количество игр\n",
    "len(games['Name'].unique())"
   ]
  },
  {
   "cell_type": "code",
   "execution_count": 5,
   "metadata": {},
   "outputs": [
    {
     "data": {
      "text/plain": [
       "31"
      ]
     },
     "execution_count": 5,
     "metadata": {},
     "output_type": "execute_result"
    }
   ],
   "source": [
    "# Количество платформ\n",
    "len(games['Platform'].unique())"
   ]
  },
  {
   "cell_type": "code",
   "execution_count": 6,
   "metadata": {},
   "outputs": [
    {
     "data": {
      "text/plain": [
       "13"
      ]
     },
     "execution_count": 6,
     "metadata": {},
     "output_type": "execute_result"
    }
   ],
   "source": [
    "# Количество жанров\n",
    "len(games['Genre'].unique())"
   ]
  },
  {
   "cell_type": "code",
   "execution_count": 7,
   "metadata": {},
   "outputs": [
    {
     "data": {
      "text/plain": [
       "9"
      ]
     },
     "execution_count": 7,
     "metadata": {},
     "output_type": "execute_result"
    }
   ],
   "source": [
    "# Классификация рейтинга ESRB\n",
    "len(games['Rating'].sort_values().unique())"
   ]
  },
  {
   "cell_type": "markdown",
   "metadata": {},
   "source": [
    "В нашем анализе 11560 игр на 31 платформах в 13 жанрах и с 9 вариантами рейтинга по ESRB"
   ]
  },
  {
   "cell_type": "markdown",
   "metadata": {},
   "source": [
    "### Содержание колонок"
   ]
  },
  {
   "cell_type": "code",
   "execution_count": 8,
   "metadata": {},
   "outputs": [
    {
     "data": {
      "text/plain": [
       "array(['2600', '3DO', '3DS', 'DC', 'DS', 'GB', 'GBA', 'GC', 'GEN', 'GG',\n",
       "       'N64', 'NES', 'NG', 'PC', 'PCFX', 'PS', 'PS2', 'PS3', 'PS4', 'PSP',\n",
       "       'PSV', 'SAT', 'SCD', 'SNES', 'TG16', 'WS', 'Wii', 'WiiU', 'X360',\n",
       "       'XB', 'XOne'], dtype=object)"
      ]
     },
     "execution_count": 8,
     "metadata": {},
     "output_type": "execute_result"
    }
   ],
   "source": [
    "# Виды платформ\n",
    "games['Platform'].sort_values().unique()"
   ]
  },
  {
   "cell_type": "code",
   "execution_count": 9,
   "metadata": {},
   "outputs": [
    {
     "data": {
      "text/plain": [
       "array([1980., 1981., 1982., 1983., 1984., 1985., 1986., 1987., 1988.,\n",
       "       1989., 1990., 1991., 1992., 1993., 1994., 1995., 1996., 1997.,\n",
       "       1998., 1999., 2000., 2001., 2002., 2003., 2004., 2005., 2006.,\n",
       "       2007., 2008., 2009., 2010., 2011., 2012., 2013., 2014., 2015.,\n",
       "       2016.,   nan])"
      ]
     },
     "execution_count": 9,
     "metadata": {},
     "output_type": "execute_result"
    }
   ],
   "source": [
    "# Годы выпуска\n",
    "games['Year_of_Release'].sort_values().unique()"
   ]
  },
  {
   "cell_type": "code",
   "execution_count": 10,
   "metadata": {},
   "outputs": [
    {
     "data": {
      "text/plain": [
       "array(['Action', 'Adventure', 'Fighting', 'Misc', 'Platform', 'Puzzle',\n",
       "       'Racing', 'Role-Playing', 'Shooter', 'Simulation', 'Sports',\n",
       "       'Strategy', nan], dtype=object)"
      ]
     },
     "execution_count": 10,
     "metadata": {},
     "output_type": "execute_result"
    }
   ],
   "source": [
    "# Жанры игр\n",
    "games['Genre'].sort_values().unique()"
   ]
  },
  {
   "cell_type": "code",
   "execution_count": 11,
   "metadata": {},
   "outputs": [
    {
     "data": {
      "text/plain": [
       "array(['AO', 'E', 'E10+', 'EC', 'K-A', 'M', 'RP', 'T', nan], dtype=object)"
      ]
     },
     "execution_count": 11,
     "metadata": {},
     "output_type": "execute_result"
    }
   ],
   "source": [
    "# Вариации рейтинга ESRB\n",
    "games['Rating'].sort_values().unique()"
   ]
  },
  {
   "cell_type": "markdown",
   "metadata": {},
   "source": [
    "Подтверждаются пропущенные значения в колонках года выпуска, жанров и рейтинга ESRB. \n",
    "\n",
    "Дополнительно проверим данные оценок критиков и пользователей на возможность целочисленного формата. \n",
    "При этом данные продаж, думаю, можно оставить в формате с плавающей точкой (в млн. долларов)."
   ]
  },
  {
   "cell_type": "code",
   "execution_count": 12,
   "metadata": {},
   "outputs": [
    {
     "data": {
      "text/plain": [
       "array([13., 17., 19., 20., 21., 22., 23., 24., 25., 26., 27., 28., 29.,\n",
       "       30., 31., 32., 33., 34., 35., 36., 37., 38., 39., 40., 41., 42.,\n",
       "       43., 44., 45., 46., 47., 48., 49., 50., 51., 52., 53., 54., 55.,\n",
       "       56., 57., 58., 59., 60., 61., 62., 63., 64., 65., 66., 67., 68.,\n",
       "       69., 70., 71., 72., 73., 74., 75., 76., 77., 78., 79., 80., 81.,\n",
       "       82., 83., 84., 85., 86., 87., 88., 89., 90., 91., 92., 93., 94.,\n",
       "       95., 96., 97., 98., nan])"
      ]
     },
     "execution_count": 12,
     "metadata": {},
     "output_type": "execute_result"
    }
   ],
   "source": [
    "# Оценки критиков\n",
    "games['Critic_Score'].sort_values().unique()"
   ]
  },
  {
   "cell_type": "markdown",
   "metadata": {},
   "source": [
    "Оценки критиков похожи на целочисленные, так что имеет смысл привести к типу данных <integer>. Есть пропущенные значения."
   ]
  },
  {
   "cell_type": "code",
   "execution_count": 13,
   "metadata": {},
   "outputs": [
    {
     "data": {
      "text/plain": [
       "array(['0', '0.2', '0.3', '0.5', '0.6', '0.7', '0.9', '1', '1.1', '1.2',\n",
       "       '1.3', '1.4', '1.5', '1.6', '1.7', '1.8', '1.9', '2', '2.1', '2.2',\n",
       "       '2.3', '2.4', '2.5', '2.6', '2.7', '2.8', '2.9', '3', '3.1', '3.2',\n",
       "       '3.3', '3.4', '3.5', '3.6', '3.7', '3.8', '3.9', '4', '4.1', '4.2',\n",
       "       '4.3', '4.4', '4.5', '4.6', '4.7', '4.8', '4.9', '5', '5.1', '5.2',\n",
       "       '5.3', '5.4', '5.5', '5.6', '5.7', '5.8', '5.9', '6', '6.1', '6.2',\n",
       "       '6.3', '6.4', '6.5', '6.6', '6.7', '6.8', '6.9', '7', '7.1', '7.2',\n",
       "       '7.3', '7.4', '7.5', '7.6', '7.7', '7.8', '7.9', '8', '8.1', '8.2',\n",
       "       '8.3', '8.4', '8.5', '8.6', '8.7', '8.8', '8.9', '9', '9.1', '9.2',\n",
       "       '9.3', '9.4', '9.5', '9.6', '9.7', 'tbd', nan], dtype=object)"
      ]
     },
     "execution_count": 13,
     "metadata": {},
     "output_type": "execute_result"
    }
   ],
   "source": [
    "# Оценки пользователей\n",
    "games['User_Score'].sort_values().unique()"
   ]
  },
  {
   "cell_type": "markdown",
   "metadata": {},
   "source": [
    "Десятичная часть оценки пользователя имеет значение, поэтому потребуется перевод типа данных из <i>object</i> во <i>float</i>. \n",
    "\n",
    "Помимо пропущенных значений также появился формат <i>tbd</i>. Вероятно, это оценка в стадии регистрации (<i>to be decided</i> или <i>to be determined</i>). Можно воспользоваться таким форматом и привести к нему пропущенные значения на стадии обработки пропусков."
   ]
  },
  {
   "cell_type": "markdown",
   "metadata": {},
   "source": [
    "<div class=\"alert alert-success\">\n",
    "    <b>✔️ Комментарий ревьюера:</b> \n",
    "    \n",
    "Супер, данные изучили. \n",
    "</div>"
   ]
  },
  {
   "cell_type": "markdown",
   "metadata": {},
   "source": [
    "<div class=\"alert alert-warning\">\n",
    "    <b>⚠️ Комментарий ревьюера:</b> \n",
    "    \n",
    "Кстати, обрати внимание: большая часть этого блока состоит из повторяющегося кода. В случае, если действия начинают повторяться больше двух раз, стоит задуматься о введении:\n",
    "    \n",
    "* Цикла\n",
    "* Функции\n",
    "* Функции с циклом\n",
    "</div>"
   ]
  },
  {
   "cell_type": "markdown",
   "metadata": {},
   "source": [
    "<div class=\"alert alert-info\">\n",
    "<b>Комментарий студента:</b>\n",
    "    <br> Миша, спасибо за рекомендацию. Постараюсь принять в практику оптимизацию повторяющихся процессов.\n",
    "</div>"
   ]
  },
  {
   "cell_type": "markdown",
   "metadata": {},
   "source": [
    "## Подготовка данных"
   ]
  },
  {
   "cell_type": "markdown",
   "metadata": {},
   "source": [
    "### Приведение названий столбцов к нижнему регистру"
   ]
  },
  {
   "cell_type": "code",
   "execution_count": 14,
   "metadata": {},
   "outputs": [
    {
     "data": {
      "text/plain": [
       "Index(['name', 'platform', 'year_of_release', 'genre', 'na_sales', 'eu_sales',\n",
       "       'jp_sales', 'other_sales', 'critic_score', 'user_score', 'rating'],\n",
       "      dtype='object')"
      ]
     },
     "execution_count": 14,
     "metadata": {},
     "output_type": "execute_result"
    }
   ],
   "source": [
    "games.columns = games.columns.str.lower()\n",
    "games.columns"
   ]
  },
  {
   "cell_type": "markdown",
   "metadata": {},
   "source": [
    "<div class=\"alert alert-success\">\n",
    "    <b>✔️ Комментарий ревьюера:</b> \n",
    "    \n",
    "Хорошо, теперь данные записаны согласно \"змеиному языку\" :)\n",
    "</div>"
   ]
  },
  {
   "cell_type": "markdown",
   "metadata": {},
   "source": [
    "### Обработка пропусков"
   ]
  },
  {
   "cell_type": "markdown",
   "metadata": {},
   "source": [
    "Чтобы иметь возможность привести данные к нужному типу, для начала обработаем пропущенные значения."
   ]
  },
  {
   "cell_type": "code",
   "execution_count": 15,
   "metadata": {},
   "outputs": [
    {
     "data": {
      "text/plain": [
       "name                  2\n",
       "platform              0\n",
       "year_of_release     269\n",
       "genre                 2\n",
       "na_sales              0\n",
       "eu_sales              0\n",
       "jp_sales              0\n",
       "other_sales           0\n",
       "critic_score       8578\n",
       "user_score         6701\n",
       "rating             6766\n",
       "dtype: int64"
      ]
     },
     "execution_count": 15,
     "metadata": {},
     "output_type": "execute_result"
    }
   ],
   "source": [
    "games.isna().sum()"
   ]
  },
  {
   "cell_type": "markdown",
   "metadata": {},
   "source": [
    "Итак, приступим к обработке пропусков в следующих столбцах:\n",
    "\n",
    "* name (название игры)\n",
    "* year_of_release (год выпуска)\n",
    "* genre (жанр игры)\n",
    "* critic_score (оценка критиков)\n",
    "* user_score (оценка пользователей)\n",
    "* rating (рейтинг от организации ESRB)"
   ]
  },
  {
   "cell_type": "markdown",
   "metadata": {},
   "source": [
    "#### Пропуски в названиях игр"
   ]
  },
  {
   "cell_type": "code",
   "execution_count": 16,
   "metadata": {},
   "outputs": [
    {
     "data": {
      "text/html": [
       "<div>\n",
       "<style scoped>\n",
       "    .dataframe tbody tr th:only-of-type {\n",
       "        vertical-align: middle;\n",
       "    }\n",
       "\n",
       "    .dataframe tbody tr th {\n",
       "        vertical-align: top;\n",
       "    }\n",
       "\n",
       "    .dataframe thead th {\n",
       "        text-align: right;\n",
       "    }\n",
       "</style>\n",
       "<table border=\"1\" class=\"dataframe\">\n",
       "  <thead>\n",
       "    <tr style=\"text-align: right;\">\n",
       "      <th></th>\n",
       "      <th>name</th>\n",
       "      <th>platform</th>\n",
       "      <th>year_of_release</th>\n",
       "      <th>genre</th>\n",
       "      <th>na_sales</th>\n",
       "      <th>eu_sales</th>\n",
       "      <th>jp_sales</th>\n",
       "      <th>other_sales</th>\n",
       "      <th>critic_score</th>\n",
       "      <th>user_score</th>\n",
       "      <th>rating</th>\n",
       "    </tr>\n",
       "  </thead>\n",
       "  <tbody>\n",
       "    <tr>\n",
       "      <th>659</th>\n",
       "      <td>NaN</td>\n",
       "      <td>GEN</td>\n",
       "      <td>1993.0</td>\n",
       "      <td>NaN</td>\n",
       "      <td>1.78</td>\n",
       "      <td>0.53</td>\n",
       "      <td>0.00</td>\n",
       "      <td>0.08</td>\n",
       "      <td>NaN</td>\n",
       "      <td>NaN</td>\n",
       "      <td>NaN</td>\n",
       "    </tr>\n",
       "    <tr>\n",
       "      <th>14244</th>\n",
       "      <td>NaN</td>\n",
       "      <td>GEN</td>\n",
       "      <td>1993.0</td>\n",
       "      <td>NaN</td>\n",
       "      <td>0.00</td>\n",
       "      <td>0.00</td>\n",
       "      <td>0.03</td>\n",
       "      <td>0.00</td>\n",
       "      <td>NaN</td>\n",
       "      <td>NaN</td>\n",
       "      <td>NaN</td>\n",
       "    </tr>\n",
       "  </tbody>\n",
       "</table>\n",
       "</div>"
      ],
      "text/plain": [
       "      name platform  year_of_release genre  na_sales  eu_sales  jp_sales  \\\n",
       "659    NaN      GEN           1993.0   NaN      1.78      0.53      0.00   \n",
       "14244  NaN      GEN           1993.0   NaN      0.00      0.00      0.03   \n",
       "\n",
       "       other_sales  critic_score user_score rating  \n",
       "659           0.08           NaN        NaN    NaN  \n",
       "14244         0.00           NaN        NaN    NaN  "
      ]
     },
     "execution_count": 16,
     "metadata": {},
     "output_type": "execute_result"
    }
   ],
   "source": [
    "games.loc[games['name'].isna() == True]"
   ]
  },
  {
   "cell_type": "markdown",
   "metadata": {},
   "source": [
    "<div class=\"alert alert-warning\">\n",
    "    <b>⚠️ Комментарий ревьюера:</b> \n",
    "    \n",
    "Кстати, лайфхак: необязательно прописывать условие `== True` - питон автоматически поймет, если не прописано что-то иное 😉\n",
    "</div>"
   ]
  },
  {
   "cell_type": "markdown",
   "metadata": {},
   "source": [
    "<div class=\"alert alert-info\">\n",
    "<b>Комментарий студента:</b>\n",
    "    <br> Окей, постараюсь обходиться без лишних деталей, где это будет возможно.\n",
    "</div>"
   ]
  },
  {
   "cell_type": "markdown",
   "metadata": {},
   "source": [
    "Названия пропущены только в двух играх - это ничтожная доля в общем объеме значений. К сожалению, у нас нет возможности восстановить названия этих игр, при этом целью исследования является определение названий перспективных игр. С учетом этих факторов целесообразным будет удалить эти строки."
   ]
  },
  {
   "cell_type": "code",
   "execution_count": 17,
   "metadata": {},
   "outputs": [],
   "source": [
    "games.dropna(subset = ['name'], inplace = True)"
   ]
  },
  {
   "cell_type": "markdown",
   "metadata": {},
   "source": [
    "<div class=\"alert alert-success\">\n",
    "    <b>✔️ Комментарий ревьюера:</b> \n",
    "    \n",
    "Здесь все верно! Данных слишком мало - можем удалить.\n",
    "</div>"
   ]
  },
  {
   "cell_type": "markdown",
   "metadata": {},
   "source": [
    "#### Пропуски по году выпуска"
   ]
  },
  {
   "cell_type": "code",
   "execution_count": 18,
   "metadata": {},
   "outputs": [
    {
     "data": {
      "text/html": [
       "<div>\n",
       "<style scoped>\n",
       "    .dataframe tbody tr th:only-of-type {\n",
       "        vertical-align: middle;\n",
       "    }\n",
       "\n",
       "    .dataframe tbody tr th {\n",
       "        vertical-align: top;\n",
       "    }\n",
       "\n",
       "    .dataframe thead th {\n",
       "        text-align: right;\n",
       "    }\n",
       "</style>\n",
       "<table border=\"1\" class=\"dataframe\">\n",
       "  <thead>\n",
       "    <tr style=\"text-align: right;\">\n",
       "      <th></th>\n",
       "      <th>name</th>\n",
       "      <th>platform</th>\n",
       "      <th>year_of_release</th>\n",
       "      <th>genre</th>\n",
       "      <th>na_sales</th>\n",
       "      <th>eu_sales</th>\n",
       "      <th>jp_sales</th>\n",
       "      <th>other_sales</th>\n",
       "      <th>critic_score</th>\n",
       "      <th>user_score</th>\n",
       "      <th>rating</th>\n",
       "    </tr>\n",
       "  </thead>\n",
       "  <tbody>\n",
       "    <tr>\n",
       "      <th>183</th>\n",
       "      <td>Madden NFL 2004</td>\n",
       "      <td>PS2</td>\n",
       "      <td>NaN</td>\n",
       "      <td>Sports</td>\n",
       "      <td>4.26</td>\n",
       "      <td>0.26</td>\n",
       "      <td>0.01</td>\n",
       "      <td>0.71</td>\n",
       "      <td>94.0</td>\n",
       "      <td>8.5</td>\n",
       "      <td>E</td>\n",
       "    </tr>\n",
       "    <tr>\n",
       "      <th>377</th>\n",
       "      <td>FIFA Soccer 2004</td>\n",
       "      <td>PS2</td>\n",
       "      <td>NaN</td>\n",
       "      <td>Sports</td>\n",
       "      <td>0.59</td>\n",
       "      <td>2.36</td>\n",
       "      <td>0.04</td>\n",
       "      <td>0.51</td>\n",
       "      <td>84.0</td>\n",
       "      <td>6.4</td>\n",
       "      <td>E</td>\n",
       "    </tr>\n",
       "    <tr>\n",
       "      <th>456</th>\n",
       "      <td>LEGO Batman: The Videogame</td>\n",
       "      <td>Wii</td>\n",
       "      <td>NaN</td>\n",
       "      <td>Action</td>\n",
       "      <td>1.80</td>\n",
       "      <td>0.97</td>\n",
       "      <td>0.00</td>\n",
       "      <td>0.29</td>\n",
       "      <td>74.0</td>\n",
       "      <td>7.9</td>\n",
       "      <td>E10+</td>\n",
       "    </tr>\n",
       "    <tr>\n",
       "      <th>475</th>\n",
       "      <td>wwe Smackdown vs. Raw 2006</td>\n",
       "      <td>PS2</td>\n",
       "      <td>NaN</td>\n",
       "      <td>Fighting</td>\n",
       "      <td>1.57</td>\n",
       "      <td>1.02</td>\n",
       "      <td>0.00</td>\n",
       "      <td>0.41</td>\n",
       "      <td>NaN</td>\n",
       "      <td>NaN</td>\n",
       "      <td>NaN</td>\n",
       "    </tr>\n",
       "    <tr>\n",
       "      <th>609</th>\n",
       "      <td>Space Invaders</td>\n",
       "      <td>2600</td>\n",
       "      <td>NaN</td>\n",
       "      <td>Shooter</td>\n",
       "      <td>2.36</td>\n",
       "      <td>0.14</td>\n",
       "      <td>0.00</td>\n",
       "      <td>0.03</td>\n",
       "      <td>NaN</td>\n",
       "      <td>NaN</td>\n",
       "      <td>NaN</td>\n",
       "    </tr>\n",
       "    <tr>\n",
       "      <th>627</th>\n",
       "      <td>Rock Band</td>\n",
       "      <td>X360</td>\n",
       "      <td>NaN</td>\n",
       "      <td>Misc</td>\n",
       "      <td>1.93</td>\n",
       "      <td>0.33</td>\n",
       "      <td>0.00</td>\n",
       "      <td>0.21</td>\n",
       "      <td>92.0</td>\n",
       "      <td>8.2</td>\n",
       "      <td>T</td>\n",
       "    </tr>\n",
       "    <tr>\n",
       "      <th>657</th>\n",
       "      <td>Frogger's Adventures: Temple of the Frog</td>\n",
       "      <td>GBA</td>\n",
       "      <td>NaN</td>\n",
       "      <td>Adventure</td>\n",
       "      <td>2.15</td>\n",
       "      <td>0.18</td>\n",
       "      <td>0.00</td>\n",
       "      <td>0.07</td>\n",
       "      <td>73.0</td>\n",
       "      <td>tbd</td>\n",
       "      <td>E</td>\n",
       "    </tr>\n",
       "    <tr>\n",
       "      <th>678</th>\n",
       "      <td>LEGO Indiana Jones: The Original Adventures</td>\n",
       "      <td>Wii</td>\n",
       "      <td>NaN</td>\n",
       "      <td>Action</td>\n",
       "      <td>1.51</td>\n",
       "      <td>0.61</td>\n",
       "      <td>0.00</td>\n",
       "      <td>0.21</td>\n",
       "      <td>78.0</td>\n",
       "      <td>6.6</td>\n",
       "      <td>E10+</td>\n",
       "    </tr>\n",
       "    <tr>\n",
       "      <th>719</th>\n",
       "      <td>Call of Duty 3</td>\n",
       "      <td>Wii</td>\n",
       "      <td>NaN</td>\n",
       "      <td>Shooter</td>\n",
       "      <td>1.17</td>\n",
       "      <td>0.84</td>\n",
       "      <td>0.00</td>\n",
       "      <td>0.23</td>\n",
       "      <td>69.0</td>\n",
       "      <td>6.7</td>\n",
       "      <td>T</td>\n",
       "    </tr>\n",
       "    <tr>\n",
       "      <th>805</th>\n",
       "      <td>Rock Band</td>\n",
       "      <td>Wii</td>\n",
       "      <td>NaN</td>\n",
       "      <td>Misc</td>\n",
       "      <td>1.33</td>\n",
       "      <td>0.56</td>\n",
       "      <td>0.00</td>\n",
       "      <td>0.20</td>\n",
       "      <td>80.0</td>\n",
       "      <td>6.3</td>\n",
       "      <td>T</td>\n",
       "    </tr>\n",
       "  </tbody>\n",
       "</table>\n",
       "</div>"
      ],
      "text/plain": [
       "                                            name platform  year_of_release  \\\n",
       "183                              Madden NFL 2004      PS2              NaN   \n",
       "377                             FIFA Soccer 2004      PS2              NaN   \n",
       "456                   LEGO Batman: The Videogame      Wii              NaN   \n",
       "475                   wwe Smackdown vs. Raw 2006      PS2              NaN   \n",
       "609                               Space Invaders     2600              NaN   \n",
       "627                                    Rock Band     X360              NaN   \n",
       "657     Frogger's Adventures: Temple of the Frog      GBA              NaN   \n",
       "678  LEGO Indiana Jones: The Original Adventures      Wii              NaN   \n",
       "719                               Call of Duty 3      Wii              NaN   \n",
       "805                                    Rock Band      Wii              NaN   \n",
       "\n",
       "         genre  na_sales  eu_sales  jp_sales  other_sales  critic_score  \\\n",
       "183     Sports      4.26      0.26      0.01         0.71          94.0   \n",
       "377     Sports      0.59      2.36      0.04         0.51          84.0   \n",
       "456     Action      1.80      0.97      0.00         0.29          74.0   \n",
       "475   Fighting      1.57      1.02      0.00         0.41           NaN   \n",
       "609    Shooter      2.36      0.14      0.00         0.03           NaN   \n",
       "627       Misc      1.93      0.33      0.00         0.21          92.0   \n",
       "657  Adventure      2.15      0.18      0.00         0.07          73.0   \n",
       "678     Action      1.51      0.61      0.00         0.21          78.0   \n",
       "719    Shooter      1.17      0.84      0.00         0.23          69.0   \n",
       "805       Misc      1.33      0.56      0.00         0.20          80.0   \n",
       "\n",
       "    user_score rating  \n",
       "183        8.5      E  \n",
       "377        6.4      E  \n",
       "456        7.9   E10+  \n",
       "475        NaN    NaN  \n",
       "609        NaN    NaN  \n",
       "627        8.2      T  \n",
       "657        tbd      E  \n",
       "678        6.6   E10+  \n",
       "719        6.7      T  \n",
       "805        6.3      T  "
      ]
     },
     "execution_count": 18,
     "metadata": {},
     "output_type": "execute_result"
    }
   ],
   "source": [
    "games.loc[games['year_of_release'].isna() == True].head(10)"
   ]
  },
  {
   "cell_type": "markdown",
   "metadata": {},
   "source": [
    "Любопытно, что иногда год выпуска может быть \"зашит\" в самом названии игры в последних 4 числовых символах.\n",
    "Попробуем подключить лемматизацию, чтобы извлечь эти данные и заменить ими пропущенные значения года выпуска в строке.\n",
    "\n",
    "При таком подходе возможны очевидные неточности с домысливанием года выпуска, однако в целях ускорения восстановления данных и снижения трудозатрат для нашего исследования такие неточности считаю незначительными."
   ]
  },
  {
   "cell_type": "code",
   "execution_count": 19,
   "metadata": {},
   "outputs": [],
   "source": [
    "years = pd.Series(games.loc[games['year_of_release'].isna() != True, 'year_of_release']\n",
    "         .astype('int').sort_values().unique(), name='years').astype('str')"
   ]
  },
  {
   "cell_type": "code",
   "execution_count": 20,
   "metadata": {},
   "outputs": [],
   "source": [
    "m = Mystem()\n",
    "name_lem = []\n",
    "for i in games['name']:\n",
    "    result = ''.join(m.lemmatize(i)).strip()[-4:]\n",
    "    name_lem.append(result)\n",
    "games['name_lem'] = name_lem"
   ]
  },
  {
   "cell_type": "code",
   "execution_count": 21,
   "metadata": {},
   "outputs": [],
   "source": [
    "games.loc[(games['year_of_release'].isna()==True) & (games['name_lem'].isin(years) == True), 'year_of_release'] = (games.loc[(games['year_of_release'].isna()==True) & (games['name_lem'].isin(years) == True), 'name_lem'])\n",
    "games.drop('name_lem', axis='columns', inplace=True)"
   ]
  },
  {
   "cell_type": "code",
   "execution_count": 22,
   "metadata": {},
   "outputs": [
    {
     "data": {
      "text/html": [
       "<div>\n",
       "<style scoped>\n",
       "    .dataframe tbody tr th:only-of-type {\n",
       "        vertical-align: middle;\n",
       "    }\n",
       "\n",
       "    .dataframe tbody tr th {\n",
       "        vertical-align: top;\n",
       "    }\n",
       "\n",
       "    .dataframe thead th {\n",
       "        text-align: right;\n",
       "    }\n",
       "</style>\n",
       "<table border=\"1\" class=\"dataframe\">\n",
       "  <thead>\n",
       "    <tr style=\"text-align: right;\">\n",
       "      <th></th>\n",
       "      <th>name</th>\n",
       "      <th>platform</th>\n",
       "      <th>year_of_release</th>\n",
       "      <th>genre</th>\n",
       "      <th>na_sales</th>\n",
       "      <th>eu_sales</th>\n",
       "      <th>jp_sales</th>\n",
       "      <th>other_sales</th>\n",
       "      <th>critic_score</th>\n",
       "      <th>user_score</th>\n",
       "      <th>rating</th>\n",
       "    </tr>\n",
       "  </thead>\n",
       "  <tbody>\n",
       "    <tr>\n",
       "      <th>456</th>\n",
       "      <td>LEGO Batman: The Videogame</td>\n",
       "      <td>Wii</td>\n",
       "      <td>NaN</td>\n",
       "      <td>Action</td>\n",
       "      <td>1.80</td>\n",
       "      <td>0.97</td>\n",
       "      <td>0.0</td>\n",
       "      <td>0.29</td>\n",
       "      <td>74.0</td>\n",
       "      <td>7.9</td>\n",
       "      <td>E10+</td>\n",
       "    </tr>\n",
       "    <tr>\n",
       "      <th>609</th>\n",
       "      <td>Space Invaders</td>\n",
       "      <td>2600</td>\n",
       "      <td>NaN</td>\n",
       "      <td>Shooter</td>\n",
       "      <td>2.36</td>\n",
       "      <td>0.14</td>\n",
       "      <td>0.0</td>\n",
       "      <td>0.03</td>\n",
       "      <td>NaN</td>\n",
       "      <td>NaN</td>\n",
       "      <td>NaN</td>\n",
       "    </tr>\n",
       "    <tr>\n",
       "      <th>627</th>\n",
       "      <td>Rock Band</td>\n",
       "      <td>X360</td>\n",
       "      <td>NaN</td>\n",
       "      <td>Misc</td>\n",
       "      <td>1.93</td>\n",
       "      <td>0.33</td>\n",
       "      <td>0.0</td>\n",
       "      <td>0.21</td>\n",
       "      <td>92.0</td>\n",
       "      <td>8.2</td>\n",
       "      <td>T</td>\n",
       "    </tr>\n",
       "    <tr>\n",
       "      <th>657</th>\n",
       "      <td>Frogger's Adventures: Temple of the Frog</td>\n",
       "      <td>GBA</td>\n",
       "      <td>NaN</td>\n",
       "      <td>Adventure</td>\n",
       "      <td>2.15</td>\n",
       "      <td>0.18</td>\n",
       "      <td>0.0</td>\n",
       "      <td>0.07</td>\n",
       "      <td>73.0</td>\n",
       "      <td>tbd</td>\n",
       "      <td>E</td>\n",
       "    </tr>\n",
       "    <tr>\n",
       "      <th>678</th>\n",
       "      <td>LEGO Indiana Jones: The Original Adventures</td>\n",
       "      <td>Wii</td>\n",
       "      <td>NaN</td>\n",
       "      <td>Action</td>\n",
       "      <td>1.51</td>\n",
       "      <td>0.61</td>\n",
       "      <td>0.0</td>\n",
       "      <td>0.21</td>\n",
       "      <td>78.0</td>\n",
       "      <td>6.6</td>\n",
       "      <td>E10+</td>\n",
       "    </tr>\n",
       "    <tr>\n",
       "      <th>719</th>\n",
       "      <td>Call of Duty 3</td>\n",
       "      <td>Wii</td>\n",
       "      <td>NaN</td>\n",
       "      <td>Shooter</td>\n",
       "      <td>1.17</td>\n",
       "      <td>0.84</td>\n",
       "      <td>0.0</td>\n",
       "      <td>0.23</td>\n",
       "      <td>69.0</td>\n",
       "      <td>6.7</td>\n",
       "      <td>T</td>\n",
       "    </tr>\n",
       "    <tr>\n",
       "      <th>805</th>\n",
       "      <td>Rock Band</td>\n",
       "      <td>Wii</td>\n",
       "      <td>NaN</td>\n",
       "      <td>Misc</td>\n",
       "      <td>1.33</td>\n",
       "      <td>0.56</td>\n",
       "      <td>0.0</td>\n",
       "      <td>0.20</td>\n",
       "      <td>80.0</td>\n",
       "      <td>6.3</td>\n",
       "      <td>T</td>\n",
       "    </tr>\n",
       "    <tr>\n",
       "      <th>1131</th>\n",
       "      <td>Call of Duty: Black Ops</td>\n",
       "      <td>PC</td>\n",
       "      <td>NaN</td>\n",
       "      <td>Shooter</td>\n",
       "      <td>0.58</td>\n",
       "      <td>0.81</td>\n",
       "      <td>0.0</td>\n",
       "      <td>0.23</td>\n",
       "      <td>81.0</td>\n",
       "      <td>5.2</td>\n",
       "      <td>M</td>\n",
       "    </tr>\n",
       "    <tr>\n",
       "      <th>1142</th>\n",
       "      <td>Rock Band</td>\n",
       "      <td>PS3</td>\n",
       "      <td>NaN</td>\n",
       "      <td>Misc</td>\n",
       "      <td>0.99</td>\n",
       "      <td>0.41</td>\n",
       "      <td>0.0</td>\n",
       "      <td>0.22</td>\n",
       "      <td>92.0</td>\n",
       "      <td>8.4</td>\n",
       "      <td>T</td>\n",
       "    </tr>\n",
       "    <tr>\n",
       "      <th>1301</th>\n",
       "      <td>Triple Play 99</td>\n",
       "      <td>PS</td>\n",
       "      <td>NaN</td>\n",
       "      <td>Sports</td>\n",
       "      <td>0.81</td>\n",
       "      <td>0.55</td>\n",
       "      <td>0.0</td>\n",
       "      <td>0.10</td>\n",
       "      <td>NaN</td>\n",
       "      <td>NaN</td>\n",
       "      <td>NaN</td>\n",
       "    </tr>\n",
       "  </tbody>\n",
       "</table>\n",
       "</div>"
      ],
      "text/plain": [
       "                                             name platform year_of_release  \\\n",
       "456                    LEGO Batman: The Videogame      Wii             NaN   \n",
       "609                                Space Invaders     2600             NaN   \n",
       "627                                     Rock Band     X360             NaN   \n",
       "657      Frogger's Adventures: Temple of the Frog      GBA             NaN   \n",
       "678   LEGO Indiana Jones: The Original Adventures      Wii             NaN   \n",
       "719                                Call of Duty 3      Wii             NaN   \n",
       "805                                     Rock Band      Wii             NaN   \n",
       "1131                      Call of Duty: Black Ops       PC             NaN   \n",
       "1142                                    Rock Band      PS3             NaN   \n",
       "1301                               Triple Play 99       PS             NaN   \n",
       "\n",
       "          genre  na_sales  eu_sales  jp_sales  other_sales  critic_score  \\\n",
       "456      Action      1.80      0.97       0.0         0.29          74.0   \n",
       "609     Shooter      2.36      0.14       0.0         0.03           NaN   \n",
       "627        Misc      1.93      0.33       0.0         0.21          92.0   \n",
       "657   Adventure      2.15      0.18       0.0         0.07          73.0   \n",
       "678      Action      1.51      0.61       0.0         0.21          78.0   \n",
       "719     Shooter      1.17      0.84       0.0         0.23          69.0   \n",
       "805        Misc      1.33      0.56       0.0         0.20          80.0   \n",
       "1131    Shooter      0.58      0.81       0.0         0.23          81.0   \n",
       "1142       Misc      0.99      0.41       0.0         0.22          92.0   \n",
       "1301     Sports      0.81      0.55       0.0         0.10           NaN   \n",
       "\n",
       "     user_score rating  \n",
       "456         7.9   E10+  \n",
       "609         NaN    NaN  \n",
       "627         8.2      T  \n",
       "657         tbd      E  \n",
       "678         6.6   E10+  \n",
       "719         6.7      T  \n",
       "805         6.3      T  \n",
       "1131        5.2      M  \n",
       "1142        8.4      T  \n",
       "1301        NaN    NaN  "
      ]
     },
     "execution_count": 22,
     "metadata": {},
     "output_type": "execute_result"
    }
   ],
   "source": [
    "# Проверим результат восстановления на первых 10 строках пропущенных значений года выпуска\n",
    "games.loc[games['year_of_release'].isna() == True].head(10)"
   ]
  },
  {
   "cell_type": "markdown",
   "metadata": {},
   "source": [
    "<div class=\"alert alert-success\">\n",
    "    <b>✔️ Комментарий ревьюера:</b> \n",
    "    \n",
    "Анна, молодец! Очень интересное замечание и реализация получения года для пропусков!\n",
    "</div>"
   ]
  },
  {
   "cell_type": "markdown",
   "metadata": {},
   "source": [
    "<div class=\"alert alert-warning\">\n",
    "    <b>⚠️ Комментарий ревьюера:</b> \n",
    "    \n",
    "К слову, некоторые игры могут содержать год в названии. Как правило, это спортивные игры с годом окончания сезона (например, **FIFA 2021** и тд). В большинстве случаев надо вычесть единицу. \n",
    "    \n",
    "Но твое решение тоже подходит!\n",
    "</div>"
   ]
  },
  {
   "cell_type": "markdown",
   "metadata": {},
   "source": [
    "<div class=\"alert alert-info\">\n",
    "<b>Комментарий студента:</b>\n",
    "    <br> Миша, спасибо за изящный лайфхак!\n",
    "</div>"
   ]
  },
  {
   "cell_type": "code",
   "execution_count": 23,
   "metadata": {},
   "outputs": [
    {
     "data": {
      "text/plain": [
       "0.015197750254293065"
      ]
     },
     "execution_count": 23,
     "metadata": {},
     "output_type": "execute_result"
    }
   ],
   "source": [
    "# Итого осталось пропущенных годов выпуска\n",
    "games['year_of_release'].isna().mean()"
   ]
  },
  {
   "cell_type": "markdown",
   "metadata": {},
   "source": [
    "Осталось около 1.5% пропущенных значений в годе выпуска. Как ни обидно, придется ими пренебречь и удалить для дальнейших манипуляций с данными."
   ]
  },
  {
   "cell_type": "code",
   "execution_count": 24,
   "metadata": {},
   "outputs": [],
   "source": [
    "# Удаление строк с пропущенными данными года выпуска\n",
    "games.drop(games.loc[(games['year_of_release'].isnull())].index, inplace=True)"
   ]
  },
  {
   "cell_type": "markdown",
   "metadata": {},
   "source": [
    "<div class=\"alert alert-success\">\n",
    "    <b>✔️ Комментарий ревьюера:</b> \n",
    "    \n",
    "Данных вновь мало, поэтому действительно их можно убрать.\n",
    "    \n",
    "Кстати, весьма здорово, что ты применяешь разные методы удаления 👍\n",
    "</div>"
   ]
  },
  {
   "cell_type": "markdown",
   "metadata": {},
   "source": [
    "#### Пропуски по жанру игр"
   ]
  },
  {
   "cell_type": "code",
   "execution_count": 25,
   "metadata": {},
   "outputs": [
    {
     "data": {
      "text/plain": [
       "0.0"
      ]
     },
     "execution_count": 25,
     "metadata": {},
     "output_type": "execute_result"
    }
   ],
   "source": [
    "games['genre'].isna().mean()"
   ]
  },
  {
   "cell_type": "markdown",
   "metadata": {},
   "source": [
    "Видимо, пропущенные значение по жанрам игр уже были исключены ранее."
   ]
  },
  {
   "cell_type": "markdown",
   "metadata": {},
   "source": [
    "#### Пропуски по оценкам критиков и пользователей"
   ]
  },
  {
   "cell_type": "code",
   "execution_count": 26,
   "metadata": {},
   "outputs": [
    {
     "data": {
      "text/plain": [
       "0.514308281183547"
      ]
     },
     "execution_count": 26,
     "metadata": {},
     "output_type": "execute_result"
    }
   ],
   "source": [
    "games['critic_score'].isna().mean()"
   ]
  },
  {
   "cell_type": "code",
   "execution_count": 27,
   "metadata": {},
   "outputs": [
    {
     "data": {
      "text/plain": [
       "0.4015432286287138"
      ]
     },
     "execution_count": 27,
     "metadata": {},
     "output_type": "execute_result"
    }
   ],
   "source": [
    "games['user_score'].isna().mean()"
   ]
  },
  {
   "cell_type": "markdown",
   "metadata": {},
   "source": [
    "Доля пропущенных значений среди оценок критиков и пользователей существенная. Удалить такие строки мы не можем, а восстановить такое количество пропусков достаточно проблематично. Попробуем найти какую-то систематическую связь в пропущенных значениях: по какому признаку мы могли бы восстановить хоть что-то. \n",
    "\n",
    "Рассмотрим отсутствие оценок критиков и пользователей по годам выхода игры. \n",
    "\n",
    "Для начала приведем данные к нужному типу, где это возможно: год выпуска к целочисленному типу, а оценки пользователей к типу float с заменой пропусков на метку tbd"
   ]
  },
  {
   "cell_type": "code",
   "execution_count": 28,
   "metadata": {},
   "outputs": [],
   "source": [
    "# Год выхода: приведение к целочисленному типу\n",
    "games['year_of_release'] = games['year_of_release'].astype('int')"
   ]
  },
  {
   "cell_type": "code",
   "execution_count": 29,
   "metadata": {},
   "outputs": [],
   "source": [
    "# Для приведения пользовательских оценок к типу float сначала заполним пропуски пометкой tbd\n",
    "games.loc[games['user_score'] == 'tbd', 'user_score'] = np.nan\n",
    "games['user_score'] = games['user_score'].astype('float')"
   ]
  },
  {
   "cell_type": "code",
   "execution_count": 30,
   "metadata": {},
   "outputs": [],
   "source": [
    "# Сводная таблица с пропущенными оценками критиков по годам\n",
    "no_critic_score_by_year = (games\n",
    "                          .loc[games['critic_score'].isna()==True]\n",
    "                          .pivot_table(index='year_of_release', values='name', aggfunc='count')\n",
    "                          .reset_index()\n",
    "                     )"
   ]
  },
  {
   "cell_type": "code",
   "execution_count": 31,
   "metadata": {},
   "outputs": [],
   "source": [
    "# Сводная таблица с пропущенными оценками пользователей по годам\n",
    "no_user_score_by_year = (games\n",
    "                          .loc[games['user_score'].isna()==True]\n",
    "                          .pivot_table(index='year_of_release', values='name', aggfunc='count')\n",
    "                          .reset_index()\n",
    "                     )"
   ]
  },
  {
   "cell_type": "markdown",
   "metadata": {},
   "source": [
    "<div class=\"alert alert-warning\">\n",
    "    <b>⚠️ Комментарий ревьюера:</b> \n",
    "    \n",
    "Я бы рекомендовал выводить новые таблицы, чтобы можно было представлять, что получилось на выходе 😉\n",
    "</div>"
   ]
  },
  {
   "cell_type": "markdown",
   "metadata": {},
   "source": [
    "<div class=\"alert alert-info\">\n",
    "<b>Комментарий студента:</b>\n",
    "    <br> Да, впопыхах не всегда доводишь дело до конца. Сейчас довыведу для наглядности.\n",
    "</div>\n"
   ]
  },
  {
   "cell_type": "markdown",
   "metadata": {},
   "source": [
    "<div class=\"alert alert-success\">\n",
    "    <b>✔️ Комментарий ревьюера v2:</b> \n",
    "    \n",
    "Супер, теперь мы хотя бы имеем представление, с чем имеем дело :)\n",
    "</div>"
   ]
  },
  {
   "cell_type": "code",
   "execution_count": 32,
   "metadata": {},
   "outputs": [
    {
     "data": {
      "text/html": [
       "<div>\n",
       "<style scoped>\n",
       "    .dataframe tbody tr th:only-of-type {\n",
       "        vertical-align: middle;\n",
       "    }\n",
       "\n",
       "    .dataframe tbody tr th {\n",
       "        vertical-align: top;\n",
       "    }\n",
       "\n",
       "    .dataframe thead th {\n",
       "        text-align: right;\n",
       "    }\n",
       "</style>\n",
       "<table border=\"1\" class=\"dataframe\">\n",
       "  <thead>\n",
       "    <tr style=\"text-align: right;\">\n",
       "      <th></th>\n",
       "      <th>year_of_release</th>\n",
       "      <th>name</th>\n",
       "    </tr>\n",
       "  </thead>\n",
       "  <tbody>\n",
       "    <tr>\n",
       "      <th>0</th>\n",
       "      <td>1980</td>\n",
       "      <td>9</td>\n",
       "    </tr>\n",
       "    <tr>\n",
       "      <th>1</th>\n",
       "      <td>1981</td>\n",
       "      <td>46</td>\n",
       "    </tr>\n",
       "    <tr>\n",
       "      <th>2</th>\n",
       "      <td>1982</td>\n",
       "      <td>36</td>\n",
       "    </tr>\n",
       "    <tr>\n",
       "      <th>3</th>\n",
       "      <td>1983</td>\n",
       "      <td>17</td>\n",
       "    </tr>\n",
       "    <tr>\n",
       "      <th>4</th>\n",
       "      <td>1984</td>\n",
       "      <td>14</td>\n",
       "    </tr>\n",
       "  </tbody>\n",
       "</table>\n",
       "</div>"
      ],
      "text/plain": [
       "   year_of_release  name\n",
       "0             1980     9\n",
       "1             1981    46\n",
       "2             1982    36\n",
       "3             1983    17\n",
       "4             1984    14"
      ]
     },
     "execution_count": 32,
     "metadata": {},
     "output_type": "execute_result"
    }
   ],
   "source": [
    "no_critic_score_by_year.head()"
   ]
  },
  {
   "cell_type": "code",
   "execution_count": 33,
   "metadata": {},
   "outputs": [
    {
     "data": {
      "text/html": [
       "<div>\n",
       "<style scoped>\n",
       "    .dataframe tbody tr th:only-of-type {\n",
       "        vertical-align: middle;\n",
       "    }\n",
       "\n",
       "    .dataframe tbody tr th {\n",
       "        vertical-align: top;\n",
       "    }\n",
       "\n",
       "    .dataframe thead th {\n",
       "        text-align: right;\n",
       "    }\n",
       "</style>\n",
       "<table border=\"1\" class=\"dataframe\">\n",
       "  <thead>\n",
       "    <tr style=\"text-align: right;\">\n",
       "      <th></th>\n",
       "      <th>year_of_release</th>\n",
       "      <th>name</th>\n",
       "    </tr>\n",
       "  </thead>\n",
       "  <tbody>\n",
       "    <tr>\n",
       "      <th>0</th>\n",
       "      <td>1980</td>\n",
       "      <td>9</td>\n",
       "    </tr>\n",
       "    <tr>\n",
       "      <th>1</th>\n",
       "      <td>1981</td>\n",
       "      <td>46</td>\n",
       "    </tr>\n",
       "    <tr>\n",
       "      <th>2</th>\n",
       "      <td>1982</td>\n",
       "      <td>36</td>\n",
       "    </tr>\n",
       "    <tr>\n",
       "      <th>3</th>\n",
       "      <td>1983</td>\n",
       "      <td>17</td>\n",
       "    </tr>\n",
       "    <tr>\n",
       "      <th>4</th>\n",
       "      <td>1984</td>\n",
       "      <td>14</td>\n",
       "    </tr>\n",
       "  </tbody>\n",
       "</table>\n",
       "</div>"
      ],
      "text/plain": [
       "   year_of_release  name\n",
       "0             1980     9\n",
       "1             1981    46\n",
       "2             1982    36\n",
       "3             1983    17\n",
       "4             1984    14"
      ]
     },
     "execution_count": 33,
     "metadata": {},
     "output_type": "execute_result"
    }
   ],
   "source": [
    "no_user_score_by_year.head()"
   ]
  },
  {
   "cell_type": "code",
   "execution_count": 34,
   "metadata": {},
   "outputs": [
    {
     "data": {
      "image/png": "[encoded data removed]",
      "text/plain": [
       "<Figure size 432x288 with 1 Axes>"
      ]
     },
     "metadata": {
      "needs_background": "light"
     },
     "output_type": "display_data"
    }
   ],
   "source": [
    "# Сводный график пропущенных значений оценок игр по году их выхода\n",
    "fig, ax = plt.subplots()\n",
    "ax.set(title='Пропущенные оценки игр по году выпуска',\n",
    "       xlabel='Год выпуска', ylabel='Число игр без оценок')\n",
    "ax.plot(no_critic_score_by_year['year_of_release'], no_critic_score_by_year['name'], '.--c', label='без оценок критиков')\n",
    "ax.plot(no_user_score_by_year['year_of_release'], no_user_score_by_year['name'], '.:m', label='без оценок пользователей')\n",
    "ax.grid=True\n",
    "ax.legend(frameon=False)\n",
    "plt.show()"
   ]
  },
  {
   "cell_type": "markdown",
   "metadata": {},
   "source": [
    "<div class=\"alert alert-danger\">\n",
    "    <b>❌ Комментарий ревьюера:</b> \n",
    "    \n",
    "Анна, хороший график, информирующий нас о количестве продаж игр без оценок, однако как это может помочь при обработке пропусков?\n",
    "    \n",
    "Также не забывай, что графики стоит комментировать, потому что одного лишь рисунка может быть недостаточно :(\n",
    "</div>"
   ]
  },
  {
   "cell_type": "markdown",
   "metadata": {},
   "source": [
    "<div class=\"alert alert-info\">\n",
    "<b>Комментарий студента:</b>\n",
    "    <br> На сводных таблицах и графике прослеживается общая динамика отсутствия оценок пользователей и критиков, но осознать причины до конца не удалось. Вероятно, пропущенные значения могли быть связаны либо с техническими проблемами сбора данных, либо с взрывным ростом числа игр, когда не все игры получали оценку. Этот вопрос я не дожала, но из-за большого числа пропусков пришлось оставить и пропущенные значения, и сам вопрос без ответа.\n",
    "</div>"
   ]
  },
  {
   "cell_type": "markdown",
   "metadata": {},
   "source": [
    "<div class=\"alert alert-warning\">\n",
    "    <b>⚠️ Комментарий ревьюера v2:</b> \n",
    "    \n",
    "Хорошо, я понял тебя. Просто оставлять один лишь график все же не стоит, важно дать комментарий хотя бы какой-нибудь. \n",
    "    \n",
    "Пропуски действительно трудно восстановить, поэтому можно написать, что ты ничего не стала с ними делать. \n",
    "</div>"
   ]
  },
  {
   "cell_type": "markdown",
   "metadata": {},
   "source": [
    "<div class=\"alert alert-info\">\n",
    "<b>Комментарий студента v2:</b>\n",
    "    <br> Вывод: в силу большого числа пропущенных значений и невозможности их корректного восстановления принято решение оставить пропущенные значения как есть.\n",
    "</div>"
   ]
  },
  {
   "cell_type": "markdown",
   "metadata": {},
   "source": [
    "<div class=\"alert alert-warning\">\n",
    "    <b>⚠️ Комментарий ревьюера v2:</b> \n",
    "    \n",
    "Но как вариант, я бы мог посоветовать сгруппировать таблицу по жанру, платформе и ряду других признаков, которые ты считаешь важными при определении выводов, а затем выделить моду по каждому году, которой можно заполнить пропуски. \n",
    "</div>"
   ]
  },
  {
   "cell_type": "markdown",
   "metadata": {},
   "source": [
    "<div class=\"alert alert-success\">\n",
    "    <b>✔️ Комментарий ревьюера v3:</b> \n",
    "    \n",
    "Да, супер, все чудесно!\n",
    "</div>"
   ]
  },
  {
   "cell_type": "markdown",
   "metadata": {},
   "source": [
    "#### Пропуски в значениях рейтинга ESRB"
   ]
  },
  {
   "cell_type": "code",
   "execution_count": 35,
   "metadata": {},
   "outputs": [
    {
     "data": {
      "text/plain": [
       "0.4059177349778237"
      ]
     },
     "execution_count": 35,
     "metadata": {},
     "output_type": "execute_result"
    }
   ],
   "source": [
    "games['rating'].isna().mean()"
   ]
  },
  {
   "cell_type": "markdown",
   "metadata": {},
   "source": [
    "Снова значительная доля пропущенных значений, которые нет возможности удалить в силу потери большого массива данных. Попробуем нащупать характеристики, почему данные могли быть пропущены. Построим график пропущенных значений в зависимости от года выпуска игры."
   ]
  },
  {
   "cell_type": "code",
   "execution_count": 36,
   "metadata": {},
   "outputs": [],
   "source": [
    "# Сводная таблица с пропущенными значениями рейтинга ESRB по году выхода игры\n",
    "no_rating_by_year = (games\n",
    "                        .loc[games['rating'].isna()==True]\n",
    "                        .pivot_table(index='year_of_release', values='name', aggfunc='count')\n",
    "                        .reset_index()\n",
    "                     )"
   ]
  },
  {
   "cell_type": "code",
   "execution_count": 37,
   "metadata": {},
   "outputs": [
    {
     "data": {
      "image/png": "[encoded data removed]",
      "text/plain": [
       "<Figure size 432x288 with 1 Axes>"
      ]
     },
     "metadata": {
      "needs_background": "light"
     },
     "output_type": "display_data"
    }
   ],
   "source": [
    "# График пропущенных значений рейтинга ESRB по году выхода игры\n",
    "fig, ax = plt.subplots()\n",
    "ax.set(title='Игры без рейтинга ESRB по году выпуска',\n",
    "       xlabel='Год выпуска', ylabel='Число игр без рейтинга')\n",
    "ax.plot(no_rating_by_year['year_of_release'], no_rating_by_year['name'], '.-b', label='без рейтинга ESRB')\n",
    "ax.grid=True\n",
    "ax.legend(frameon=False)\n",
    "plt.show()"
   ]
  },
  {
   "cell_type": "markdown",
   "metadata": {},
   "source": [
    "Наблюдается похожая динамика пропущенных значений по годам. Видимо, и причины пропущенных данных могут быть схожими."
   ]
  },
  {
   "cell_type": "markdown",
   "metadata": {},
   "source": [
    "<div class=\"alert alert-danger\">\n",
    "    <b>❌ Комментарий ревьюера:</b> \n",
    "    \n",
    "И вновь здесь один лишь график не отвечает на вопрос, что же в итоге делать с пропусками.\n",
    "</div>"
   ]
  },
  {
   "cell_type": "markdown",
   "metadata": {},
   "source": [
    "<div class=\"alert alert-info\">\n",
    "<b>Комментарий студента:</b>\n",
    "    <br> Тут опять-таки была неудачная попытка понять причину/источник пропусков. Судя по тому, что и оценки пользователей/критиков, и рейтинг ESRB пропущен по годам по одному и тому же паттерну, закрадывается подозрение, что сама рейтинговая система еще не была настолько нацелена на сбор данных в те времена, с провалами в одни и те же периоды.\n",
    "</div>"
   ]
  },
  {
   "cell_type": "markdown",
   "metadata": {},
   "source": [
    "<div class=\"alert alert-success\">\n",
    "    <b>✔️ Комментарий ревьюера v2:</b> \n",
    "    \n",
    "Кстати, весьма дельное предположение, молодец!\n",
    "</div>"
   ]
  },
  {
   "cell_type": "code",
   "execution_count": 38,
   "metadata": {},
   "outputs": [
    {
     "data": {
      "text/plain": [
       "name                  0\n",
       "platform              0\n",
       "year_of_release       0\n",
       "genre                 0\n",
       "na_sales              0\n",
       "eu_sales              0\n",
       "jp_sales              0\n",
       "other_sales           0\n",
       "critic_score       8465\n",
       "user_score         8987\n",
       "rating             6681\n",
       "dtype: int64"
      ]
     },
     "execution_count": 38,
     "metadata": {},
     "output_type": "execute_result"
    }
   ],
   "source": [
    "# Проверим заполнение пропусков там, где это было возможно\n",
    "games.isna().sum()"
   ]
  },
  {
   "cell_type": "markdown",
   "metadata": {},
   "source": [
    "#### Проверка на дубликаты"
   ]
  },
  {
   "cell_type": "code",
   "execution_count": 39,
   "metadata": {},
   "outputs": [
    {
     "data": {
      "text/plain": [
       "0"
      ]
     },
     "execution_count": 39,
     "metadata": {},
     "output_type": "execute_result"
    }
   ],
   "source": [
    "games.duplicated().sum()"
   ]
  },
  {
   "cell_type": "markdown",
   "metadata": {},
   "source": [
    "Дубликаты отсутствуют."
   ]
  },
  {
   "cell_type": "markdown",
   "metadata": {},
   "source": [
    "### Суммарные продажи во всех регионах"
   ]
  },
  {
   "cell_type": "markdown",
   "metadata": {},
   "source": [
    "Добавим отдельный столбец total_sales, в котором просуммируем продажи в регионах na_sales, eu_sales, jp_sales, other_sales"
   ]
  },
  {
   "cell_type": "code",
   "execution_count": 40,
   "metadata": {
    "scrolled": true
   },
   "outputs": [
    {
     "data": {
      "text/html": [
       "<div>\n",
       "<style scoped>\n",
       "    .dataframe tbody tr th:only-of-type {\n",
       "        vertical-align: middle;\n",
       "    }\n",
       "\n",
       "    .dataframe tbody tr th {\n",
       "        vertical-align: top;\n",
       "    }\n",
       "\n",
       "    .dataframe thead th {\n",
       "        text-align: right;\n",
       "    }\n",
       "</style>\n",
       "<table border=\"1\" class=\"dataframe\">\n",
       "  <thead>\n",
       "    <tr style=\"text-align: right;\">\n",
       "      <th></th>\n",
       "      <th>name</th>\n",
       "      <th>platform</th>\n",
       "      <th>year_of_release</th>\n",
       "      <th>genre</th>\n",
       "      <th>na_sales</th>\n",
       "      <th>eu_sales</th>\n",
       "      <th>jp_sales</th>\n",
       "      <th>other_sales</th>\n",
       "      <th>critic_score</th>\n",
       "      <th>user_score</th>\n",
       "      <th>rating</th>\n",
       "      <th>total_sales</th>\n",
       "    </tr>\n",
       "  </thead>\n",
       "  <tbody>\n",
       "    <tr>\n",
       "      <th>0</th>\n",
       "      <td>Wii Sports</td>\n",
       "      <td>Wii</td>\n",
       "      <td>2006</td>\n",
       "      <td>Sports</td>\n",
       "      <td>41.36</td>\n",
       "      <td>28.96</td>\n",
       "      <td>3.77</td>\n",
       "      <td>8.45</td>\n",
       "      <td>76.0</td>\n",
       "      <td>8.0</td>\n",
       "      <td>E</td>\n",
       "      <td>82.54</td>\n",
       "    </tr>\n",
       "    <tr>\n",
       "      <th>1</th>\n",
       "      <td>Super Mario Bros.</td>\n",
       "      <td>NES</td>\n",
       "      <td>1985</td>\n",
       "      <td>Platform</td>\n",
       "      <td>29.08</td>\n",
       "      <td>3.58</td>\n",
       "      <td>6.81</td>\n",
       "      <td>0.77</td>\n",
       "      <td>NaN</td>\n",
       "      <td>NaN</td>\n",
       "      <td>NaN</td>\n",
       "      <td>40.24</td>\n",
       "    </tr>\n",
       "    <tr>\n",
       "      <th>2</th>\n",
       "      <td>Mario Kart Wii</td>\n",
       "      <td>Wii</td>\n",
       "      <td>2008</td>\n",
       "      <td>Racing</td>\n",
       "      <td>15.68</td>\n",
       "      <td>12.76</td>\n",
       "      <td>3.79</td>\n",
       "      <td>3.29</td>\n",
       "      <td>82.0</td>\n",
       "      <td>8.3</td>\n",
       "      <td>E</td>\n",
       "      <td>35.52</td>\n",
       "    </tr>\n",
       "    <tr>\n",
       "      <th>3</th>\n",
       "      <td>Wii Sports Resort</td>\n",
       "      <td>Wii</td>\n",
       "      <td>2009</td>\n",
       "      <td>Sports</td>\n",
       "      <td>15.61</td>\n",
       "      <td>10.93</td>\n",
       "      <td>3.28</td>\n",
       "      <td>2.95</td>\n",
       "      <td>80.0</td>\n",
       "      <td>8.0</td>\n",
       "      <td>E</td>\n",
       "      <td>32.77</td>\n",
       "    </tr>\n",
       "    <tr>\n",
       "      <th>4</th>\n",
       "      <td>Pokemon Red/Pokemon Blue</td>\n",
       "      <td>GB</td>\n",
       "      <td>1996</td>\n",
       "      <td>Role-Playing</td>\n",
       "      <td>11.27</td>\n",
       "      <td>8.89</td>\n",
       "      <td>10.22</td>\n",
       "      <td>1.00</td>\n",
       "      <td>NaN</td>\n",
       "      <td>NaN</td>\n",
       "      <td>NaN</td>\n",
       "      <td>31.38</td>\n",
       "    </tr>\n",
       "  </tbody>\n",
       "</table>\n",
       "</div>"
      ],
      "text/plain": [
       "                       name platform  year_of_release         genre  na_sales  \\\n",
       "0                Wii Sports      Wii             2006        Sports     41.36   \n",
       "1         Super Mario Bros.      NES             1985      Platform     29.08   \n",
       "2            Mario Kart Wii      Wii             2008        Racing     15.68   \n",
       "3         Wii Sports Resort      Wii             2009        Sports     15.61   \n",
       "4  Pokemon Red/Pokemon Blue       GB             1996  Role-Playing     11.27   \n",
       "\n",
       "   eu_sales  jp_sales  other_sales  critic_score  user_score rating  \\\n",
       "0     28.96      3.77         8.45          76.0         8.0      E   \n",
       "1      3.58      6.81         0.77           NaN         NaN    NaN   \n",
       "2     12.76      3.79         3.29          82.0         8.3      E   \n",
       "3     10.93      3.28         2.95          80.0         8.0      E   \n",
       "4      8.89     10.22         1.00           NaN         NaN    NaN   \n",
       "\n",
       "   total_sales  \n",
       "0        82.54  \n",
       "1        40.24  \n",
       "2        35.52  \n",
       "3        32.77  \n",
       "4        31.38  "
      ]
     },
     "execution_count": 40,
     "metadata": {},
     "output_type": "execute_result"
    }
   ],
   "source": [
    "games['total_sales'] = games['na_sales'] + games['eu_sales'] + games['jp_sales'] + games['other_sales']\n",
    "games.head()"
   ]
  },
  {
   "cell_type": "markdown",
   "metadata": {},
   "source": [
    "<div class=\"alert alert-success\">\n",
    "    <b>✔️ Комментарий ревьюера:</b> \n",
    "    \n",
    "Супер, общая выручка найдена верно!\n",
    "</div>"
   ]
  },
  {
   "cell_type": "markdown",
   "metadata": {},
   "source": [
    "<b>Промежуточный вывод</b>\n",
    "\n",
    "При подготовке данных:\n",
    "* названия столбцов приведены к нижнему регистру\n",
    "* проведена замена типа данных там, где это возможно и необходимо\n",
    "* обработаны пропуски\n",
    "* в отдельный столбец внесены суммарные продажи по разным регионам.\n",
    "\n",
    "Из любопытных наблюдений:\n",
    "* количество неоцененных игр критиками, пользователями и рейтингом ESRB росло практически одновременно по всем платформам с 2005 года. Вероятная причина: взрывной рост производства игровой индустрии, на весь ассортимент которой уже не хватает внимания критиков\n",
    "* в пропущенных данных появился фактор tbd, когда предположительно игра еще находится на оценке специалистов"
   ]
  },
  {
   "cell_type": "markdown",
   "metadata": {},
   "source": [
    "<div class=\"alert alert-success\">\n",
    "    <b>✔️ Комментарий ревьюера:</b> \n",
    "    \n",
    "Молодец! Отличный и полный промежуточный вывод, прописаны результаты проведенных шагов, даны причины появления пропусков.\n",
    "</div>"
   ]
  },
  {
   "cell_type": "markdown",
   "metadata": {},
   "source": [
    "<div class=\"alert alert-warning\">\n",
    "    <b>⚠️ Комментарий ревьюера:</b> \n",
    "    \n",
    "Не забудь также про мои комментарии относительно работы с пропусками в колонках с оценками.\n",
    "</div>"
   ]
  },
  {
   "cell_type": "markdown",
   "metadata": {},
   "source": [
    "## Исследовательский анализ данных"
   ]
  },
  {
   "cell_type": "markdown",
   "metadata": {},
   "source": [
    "### Число выпущенных игр в разные годы"
   ]
  },
  {
   "cell_type": "code",
   "execution_count": 41,
   "metadata": {},
   "outputs": [],
   "source": [
    "# games_year = games.pivot_table(index='year_of_release', values='name', aggfunc='count').reset_index()"
   ]
  },
  {
   "cell_type": "markdown",
   "metadata": {},
   "source": [
    "<div class=\"alert alert-danger\">\n",
    "    <b>❌ Комментарий ревьюера:</b> \n",
    "    \n",
    "Анна, обрати внимание: count выдает число строк, а не число уникальных игр. Одна игра может выйти на нескольких консолях, count должен посчитать все. Поэтому тут предпочтительнее взять число уникальных имен.\n",
    "</div>"
   ]
  },
  {
   "cell_type": "markdown",
   "metadata": {},
   "source": [
    "<div class=\"alert alert-info\">\n",
    "<b>Комментарий студента:</b>\n",
    "    <br> Да, прокол. Спасибо за меткое замечание. Буду исправлять.\n",
    "</div>"
   ]
  },
  {
   "cell_type": "code",
   "execution_count": 42,
   "metadata": {},
   "outputs": [],
   "source": [
    "games_year = games.pivot_table(index='year_of_release', values='name', aggfunc=lambda name: len(name.unique())).reset_index()"
   ]
  },
  {
   "cell_type": "markdown",
   "metadata": {},
   "source": [
    "<div class=\"alert alert-success\">\n",
    "    <b>✔️ Комментарий ревьюера v2:</b> \n",
    "    \n",
    "Отлично, интересный способ подсчета числа выпущенных игр в разные годы)\n",
    "</div>"
   ]
  },
  {
   "cell_type": "code",
   "execution_count": 43,
   "metadata": {},
   "outputs": [
    {
     "data": {
      "image/png": "[encoded data removed]",
      "text/plain": [
       "<Figure size 432x288 with 1 Axes>"
      ]
     },
     "metadata": {
      "needs_background": "light"
     },
     "output_type": "display_data"
    }
   ],
   "source": [
    "fig, ax = plt.subplots()\n",
    "ax.set(title='Число выпущенных игр в разные годы',\n",
    "       xlabel='Год выпуска', ylabel='Число вышедших игр')\n",
    "ax.plot(games_year['year_of_release'], games_year['name'], '.-b')\n",
    "ax.grid=True\n",
    "plt.show()"
   ]
  },
  {
   "cell_type": "markdown",
   "metadata": {},
   "source": [
    "До 1994 года наблюдается длинный хвост данных, которые не выглядят как репрезентативные и чуть превышают нулевую планку. Вероятно, ими в нашем исследовании можно пренебречь."
   ]
  },
  {
   "cell_type": "markdown",
   "metadata": {},
   "source": [
    "<div class=\"alert alert-success\">\n",
    "    <b>✔️ Комментарий ревьюера:</b> \n",
    "    \n",
    "Окей, график построен правильно, и временной промежуток выбран подходящий.\n",
    "</div>"
   ]
  },
  {
   "cell_type": "markdown",
   "metadata": {},
   "source": [
    "### Динамика продаж по платформам"
   ]
  },
  {
   "cell_type": "code",
   "execution_count": 44,
   "metadata": {},
   "outputs": [
    {
     "data": {
      "text/html": [
       "<div>\n",
       "<style scoped>\n",
       "    .dataframe tbody tr th:only-of-type {\n",
       "        vertical-align: middle;\n",
       "    }\n",
       "\n",
       "    .dataframe tbody tr th {\n",
       "        vertical-align: top;\n",
       "    }\n",
       "\n",
       "    .dataframe thead th {\n",
       "        text-align: right;\n",
       "    }\n",
       "</style>\n",
       "<table border=\"1\" class=\"dataframe\">\n",
       "  <thead>\n",
       "    <tr style=\"text-align: right;\">\n",
       "      <th></th>\n",
       "      <th>platform</th>\n",
       "      <th>total_sales</th>\n",
       "    </tr>\n",
       "  </thead>\n",
       "  <tbody>\n",
       "    <tr>\n",
       "      <th>0</th>\n",
       "      <td>PS2</td>\n",
       "      <td>1247.28</td>\n",
       "    </tr>\n",
       "    <tr>\n",
       "      <th>1</th>\n",
       "      <td>X360</td>\n",
       "      <td>961.30</td>\n",
       "    </tr>\n",
       "    <tr>\n",
       "      <th>2</th>\n",
       "      <td>PS3</td>\n",
       "      <td>931.34</td>\n",
       "    </tr>\n",
       "    <tr>\n",
       "      <th>3</th>\n",
       "      <td>Wii</td>\n",
       "      <td>891.18</td>\n",
       "    </tr>\n",
       "    <tr>\n",
       "      <th>4</th>\n",
       "      <td>DS</td>\n",
       "      <td>802.79</td>\n",
       "    </tr>\n",
       "    <tr>\n",
       "      <th>5</th>\n",
       "      <td>PS</td>\n",
       "      <td>727.58</td>\n",
       "    </tr>\n",
       "    <tr>\n",
       "      <th>6</th>\n",
       "      <td>PS4</td>\n",
       "      <td>314.14</td>\n",
       "    </tr>\n",
       "    <tr>\n",
       "      <th>7</th>\n",
       "      <td>GBA</td>\n",
       "      <td>312.88</td>\n",
       "    </tr>\n",
       "    <tr>\n",
       "      <th>8</th>\n",
       "      <td>PSP</td>\n",
       "      <td>289.54</td>\n",
       "    </tr>\n",
       "    <tr>\n",
       "      <th>9</th>\n",
       "      <td>3DS</td>\n",
       "      <td>257.81</td>\n",
       "    </tr>\n",
       "  </tbody>\n",
       "</table>\n",
       "</div>"
      ],
      "text/plain": [
       "  platform  total_sales\n",
       "0      PS2      1247.28\n",
       "1     X360       961.30\n",
       "2      PS3       931.34\n",
       "3      Wii       891.18\n",
       "4       DS       802.79\n",
       "5       PS       727.58\n",
       "6      PS4       314.14\n",
       "7      GBA       312.88\n",
       "8      PSP       289.54\n",
       "9      3DS       257.81"
      ]
     },
     "execution_count": 44,
     "metadata": {},
     "output_type": "execute_result"
    }
   ],
   "source": [
    "# TOP10 платформ с наибольшими суммарными продажами\n",
    "platform_popular = (games\n",
    "                        .pivot_table(index='platform', values='total_sales', aggfunc='sum')\n",
    "                        .reset_index()\n",
    "                        .sort_values(by='total_sales', ascending=False)\n",
    "                        .head(10)\n",
    "                        .reset_index(drop=True)\n",
    "                   )\n",
    "platform_popular"
   ]
  },
  {
   "cell_type": "code",
   "execution_count": 45,
   "metadata": {},
   "outputs": [],
   "source": [
    "# Список популярных платформ из TOP10\n",
    "platforms = platform_popular['platform']"
   ]
  },
  {
   "cell_type": "markdown",
   "metadata": {},
   "source": [
    "Рассмотрим распределение суммарных продаж по годам для каждой из популярных платформ."
   ]
  },
  {
   "cell_type": "code",
   "execution_count": 46,
   "metadata": {},
   "outputs": [],
   "source": [
    "platform_year = (games\n",
    "                      .loc[games['platform'].isin(platforms)]\n",
    "                      .pivot_table(index=['platform', 'year_of_release'], values='total_sales', aggfunc='sum')\n",
    "                      .reset_index()\n",
    "                 )"
   ]
  },
  {
   "cell_type": "code",
   "execution_count": 47,
   "metadata": {},
   "outputs": [
    {
     "name": "stderr",
     "output_type": "stream",
     "text": [
      "/opt/conda/lib/python3.9/site-packages/seaborn/_decorators.py:36: FutureWarning: Pass the following variables as keyword args: x, y. From version 0.12, the only valid positional argument will be `data`, and passing other arguments without an explicit keyword will result in an error or misinterpretation.\n",
      "  warnings.warn(\n"
     ]
    },
    {
     "data": {
      "image/png": "[encoded data removed]",
      "text/plain": [
       "<Figure size 1440x360 with 1 Axes>"
      ]
     },
     "metadata": {
      "needs_background": "light"
     },
     "output_type": "display_data"
    }
   ],
   "source": [
    "plot = sns.catplot(\"year_of_release\", \"total_sales\", hue=\"platform\", kind=\"bar\", data=platform_year)\n",
    "plt.title(\"Суммарные продажи игр на разных платформах по годам\", fontsize=16)\n",
    "plt.xlabel('Год выпуска', fontsize=14)\n",
    "plt.ylabel('Суммарные продажи, млн. долларов', fontsize=13)\n",
    "plot.fig.set_size_inches(20,5)\n",
    "plt.show()"
   ]
  },
  {
   "cell_type": "markdown",
   "metadata": {},
   "source": [
    "<div class=\"alert alert-warning\">\n",
    "    <b>⚠️ Комментарий ревьюера:</b> \n",
    "    \n",
    "Лайфхак: ошибки можно отключать с помощью записи вот такой функции в самом начале работы\n",
    "</div>"
   ]
  },
  {
   "cell_type": "code",
   "execution_count": 48,
   "metadata": {},
   "outputs": [],
   "source": [
    "# код ревьюера\n",
    "# import warnings\n",
    "# Warnings.filterwarnings('ignore')"
   ]
  },
  {
   "cell_type": "markdown",
   "metadata": {},
   "source": [
    "<div class=\"alert alert-info\">\n",
    "<b>Комментарий студента:</b>\n",
    "    <br> Спасибо за подсказку. Возьми на заметку на будущее.\n",
    "</div>"
   ]
  },
  {
   "cell_type": "markdown",
   "metadata": {},
   "source": [
    "<b>Выводы</b>\n",
    "\n",
    "С эволюцией платформ лидеры продаж с годами менялись. По сумме продаж явным лидером в начале 2000-х была Playstation 2, в середине 2000-х в лидеры вырвалась Wii, на исходе десятилетия популярность набрала Xbox360, к 2015 году всех обогнала Playstation 4.\n",
    "\n",
    "На глаз период устаревания платформы ранее составлял порядка 8-10 лет, но начиная с 2010 года динамика устаревания платформ ускоряется. Возможная причина - высокая конкуренция, быстрый технологический апгрейд и все более требовательная к новинкам аудитория.\n",
    "\n",
    "Судя по общему барплоту, до 1994 года практически не наблюдается значимых данных: рынок только зарождался. Конкурентная динамика между платформами наблюдается начиная с 2000 года с активным всплеском после 2006 года. Имеет смысл сфокусировать исследование именно на этом временном промежутке активной конкуренции платформ."
   ]
  },
  {
   "cell_type": "markdown",
   "metadata": {},
   "source": [
    "<div class=\"alert alert-success\">\n",
    "    <b>✔️ Комментарий ревьюера:</b> \n",
    "    \n",
    "Отлично! Список топ-10 платформ сформирован правильно, график построен верно, вывод полный и содержательный!\n",
    "</div>"
   ]
  },
  {
   "cell_type": "markdown",
   "metadata": {},
   "source": [
    "<div class=\"alert alert-warning\">\n",
    "    <b>⚠️ Комментарий ревьюера:</b> \n",
    "    \n",
    "Анна, я понимаю, что более информативно, когда вся информация во времени представлена на одном графике, но тебе не кажется, что рисунок получился немного тяжелым для восприятия?\n",
    "    \n",
    "Как альтернативу можно построить 5 рядов по 2 графика в каждом по топ-10 платформам отдельно с помощью метода `subplots` ([подробнее](https://matplotlib.org/3.5.0/api/_as_gen/matplotlib.pyplot.subplots.html))\n",
    "</div>"
   ]
  },
  {
   "cell_type": "markdown",
   "metadata": {},
   "source": [
    "<div class=\"alert alert-info\">\n",
    "<b>Комментарий студента:</b>\n",
    "    <br> Спасибо. Попробую поупражняться и найти более разумное отражение графиков.\n",
    "</div>"
   ]
  },
  {
   "cell_type": "code",
   "execution_count": 49,
   "metadata": {},
   "outputs": [],
   "source": [
    "# Сделаем срез по актуальному периоду\n",
    "games_actual = games.query('year_of_release >= 2006')"
   ]
  },
  {
   "cell_type": "markdown",
   "metadata": {},
   "source": [
    "<div class=\"alert alert-danger\">\n",
    "    <b>❌ Комментарий ревьюера:</b> \n",
    "    \n",
    "Анна, вынужден не согласиться :(\n",
    "    \n",
    "2006-2016 -- это слишком большой период. Допустимо до 5 лет, т.е. с 2012 года. С 2011 года и ранее уже трудно назвать консоли и игры актуальными. \n",
    "</div>"
   ]
  },
  {
   "cell_type": "markdown",
   "metadata": {},
   "source": [
    "<div class=\"alert alert-info\">\n",
    "<b>Комментарий студента:</b>\n",
    "    <br> Упс, и правда. Исправляю.\n",
    "</div>"
   ]
  },
  {
   "cell_type": "markdown",
   "metadata": {},
   "source": [
    "<div class=\"alert alert-success\">\n",
    "    <b>✔️ Комментарий ревьюера v2:</b> \n",
    "    \n",
    "Все, супер, теперь данные более-менее свежие 😉\n",
    "</div>"
   ]
  },
  {
   "cell_type": "code",
   "execution_count": 50,
   "metadata": {},
   "outputs": [],
   "source": [
    "# Сделаем срез по более актуальному периоду\n",
    "games_actual = games.query('year_of_release >= 2011')"
   ]
  },
  {
   "cell_type": "markdown",
   "metadata": {},
   "source": [
    "### Данные за актуальный период"
   ]
  },
  {
   "cell_type": "markdown",
   "metadata": {},
   "source": [
    "Составим сводную таблицу для иллюстрации динамики лидерства платформ по продажам."
   ]
  },
  {
   "cell_type": "code",
   "execution_count": 51,
   "metadata": {},
   "outputs": [
    {
     "data": {
      "text/html": [
       "<div>\n",
       "<style scoped>\n",
       "    .dataframe tbody tr th:only-of-type {\n",
       "        vertical-align: middle;\n",
       "    }\n",
       "\n",
       "    .dataframe tbody tr th {\n",
       "        vertical-align: top;\n",
       "    }\n",
       "\n",
       "    .dataframe thead th {\n",
       "        text-align: right;\n",
       "    }\n",
       "</style>\n",
       "<table border=\"1\" class=\"dataframe\">\n",
       "  <thead>\n",
       "    <tr style=\"text-align: right;\">\n",
       "      <th>year_of_release</th>\n",
       "      <th>2011</th>\n",
       "      <th>2012</th>\n",
       "      <th>2013</th>\n",
       "      <th>2014</th>\n",
       "      <th>2015</th>\n",
       "      <th>2016</th>\n",
       "    </tr>\n",
       "    <tr>\n",
       "      <th>platform</th>\n",
       "      <th></th>\n",
       "      <th></th>\n",
       "      <th></th>\n",
       "      <th></th>\n",
       "      <th></th>\n",
       "      <th></th>\n",
       "    </tr>\n",
       "  </thead>\n",
       "  <tbody>\n",
       "    <tr>\n",
       "      <th>3DS</th>\n",
       "      <td>63.20</td>\n",
       "      <td>51.36</td>\n",
       "      <td>56.57</td>\n",
       "      <td>43.76</td>\n",
       "      <td>27.78</td>\n",
       "      <td>15.14</td>\n",
       "    </tr>\n",
       "    <tr>\n",
       "      <th>DS</th>\n",
       "      <td>26.18</td>\n",
       "      <td>11.01</td>\n",
       "      <td>1.54</td>\n",
       "      <td>NaN</td>\n",
       "      <td>NaN</td>\n",
       "      <td>NaN</td>\n",
       "    </tr>\n",
       "    <tr>\n",
       "      <th>PC</th>\n",
       "      <td>35.03</td>\n",
       "      <td>23.22</td>\n",
       "      <td>12.38</td>\n",
       "      <td>13.28</td>\n",
       "      <td>8.52</td>\n",
       "      <td>5.25</td>\n",
       "    </tr>\n",
       "    <tr>\n",
       "      <th>PS2</th>\n",
       "      <td>0.45</td>\n",
       "      <td>NaN</td>\n",
       "      <td>NaN</td>\n",
       "      <td>NaN</td>\n",
       "      <td>NaN</td>\n",
       "      <td>NaN</td>\n",
       "    </tr>\n",
       "    <tr>\n",
       "      <th>PS3</th>\n",
       "      <td>156.78</td>\n",
       "      <td>107.36</td>\n",
       "      <td>113.25</td>\n",
       "      <td>47.76</td>\n",
       "      <td>16.82</td>\n",
       "      <td>3.60</td>\n",
       "    </tr>\n",
       "    <tr>\n",
       "      <th>PS4</th>\n",
       "      <td>NaN</td>\n",
       "      <td>NaN</td>\n",
       "      <td>25.99</td>\n",
       "      <td>100.00</td>\n",
       "      <td>118.90</td>\n",
       "      <td>69.25</td>\n",
       "    </tr>\n",
       "    <tr>\n",
       "      <th>PSP</th>\n",
       "      <td>17.82</td>\n",
       "      <td>7.69</td>\n",
       "      <td>3.14</td>\n",
       "      <td>0.24</td>\n",
       "      <td>0.12</td>\n",
       "      <td>NaN</td>\n",
       "    </tr>\n",
       "    <tr>\n",
       "      <th>PSV</th>\n",
       "      <td>4.63</td>\n",
       "      <td>16.19</td>\n",
       "      <td>10.59</td>\n",
       "      <td>11.90</td>\n",
       "      <td>6.25</td>\n",
       "      <td>4.25</td>\n",
       "    </tr>\n",
       "    <tr>\n",
       "      <th>Wii</th>\n",
       "      <td>59.65</td>\n",
       "      <td>21.71</td>\n",
       "      <td>8.59</td>\n",
       "      <td>3.75</td>\n",
       "      <td>1.14</td>\n",
       "      <td>0.18</td>\n",
       "    </tr>\n",
       "    <tr>\n",
       "      <th>WiiU</th>\n",
       "      <td>NaN</td>\n",
       "      <td>17.56</td>\n",
       "      <td>21.65</td>\n",
       "      <td>22.03</td>\n",
       "      <td>16.35</td>\n",
       "      <td>4.60</td>\n",
       "    </tr>\n",
       "    <tr>\n",
       "      <th>X360</th>\n",
       "      <td>143.89</td>\n",
       "      <td>99.74</td>\n",
       "      <td>88.58</td>\n",
       "      <td>34.74</td>\n",
       "      <td>11.96</td>\n",
       "      <td>1.52</td>\n",
       "    </tr>\n",
       "    <tr>\n",
       "      <th>XOne</th>\n",
       "      <td>NaN</td>\n",
       "      <td>NaN</td>\n",
       "      <td>18.96</td>\n",
       "      <td>54.07</td>\n",
       "      <td>60.14</td>\n",
       "      <td>26.15</td>\n",
       "    </tr>\n",
       "  </tbody>\n",
       "</table>\n",
       "</div>"
      ],
      "text/plain": [
       "year_of_release    2011    2012    2013    2014    2015   2016\n",
       "platform                                                      \n",
       "3DS               63.20   51.36   56.57   43.76   27.78  15.14\n",
       "DS                26.18   11.01    1.54     NaN     NaN    NaN\n",
       "PC                35.03   23.22   12.38   13.28    8.52   5.25\n",
       "PS2                0.45     NaN     NaN     NaN     NaN    NaN\n",
       "PS3              156.78  107.36  113.25   47.76   16.82   3.60\n",
       "PS4                 NaN     NaN   25.99  100.00  118.90  69.25\n",
       "PSP               17.82    7.69    3.14    0.24    0.12    NaN\n",
       "PSV                4.63   16.19   10.59   11.90    6.25   4.25\n",
       "Wii               59.65   21.71    8.59    3.75    1.14   0.18\n",
       "WiiU                NaN   17.56   21.65   22.03   16.35   4.60\n",
       "X360             143.89   99.74   88.58   34.74   11.96   1.52\n",
       "XOne                NaN     NaN   18.96   54.07   60.14  26.15"
      ]
     },
     "execution_count": 51,
     "metadata": {},
     "output_type": "execute_result"
    }
   ],
   "source": [
    "platform_dynamics = games_actual.pivot_table(index='platform', columns='year_of_release', values='total_sales', aggfunc='sum')\n",
    "platform_dynamics"
   ]
  },
  {
   "cell_type": "markdown",
   "metadata": {},
   "source": [
    "Имеет смысл исключить из анализа уже устаревшие и готовые устареть платформы."
   ]
  },
  {
   "cell_type": "code",
   "execution_count": 52,
   "metadata": {
    "scrolled": true
   },
   "outputs": [
    {
     "data": {
      "text/html": [
       "<div>\n",
       "<style scoped>\n",
       "    .dataframe tbody tr th:only-of-type {\n",
       "        vertical-align: middle;\n",
       "    }\n",
       "\n",
       "    .dataframe tbody tr th {\n",
       "        vertical-align: top;\n",
       "    }\n",
       "\n",
       "    .dataframe thead th {\n",
       "        text-align: right;\n",
       "    }\n",
       "</style>\n",
       "<table border=\"1\" class=\"dataframe\">\n",
       "  <thead>\n",
       "    <tr style=\"text-align: right;\">\n",
       "      <th>year_of_release</th>\n",
       "      <th>2011</th>\n",
       "      <th>2012</th>\n",
       "      <th>2013</th>\n",
       "      <th>2014</th>\n",
       "      <th>2015</th>\n",
       "      <th>2016</th>\n",
       "    </tr>\n",
       "    <tr>\n",
       "      <th>platform</th>\n",
       "      <th></th>\n",
       "      <th></th>\n",
       "      <th></th>\n",
       "      <th></th>\n",
       "      <th></th>\n",
       "      <th></th>\n",
       "    </tr>\n",
       "  </thead>\n",
       "  <tbody>\n",
       "    <tr>\n",
       "      <th>PS4</th>\n",
       "      <td>NaN</td>\n",
       "      <td>NaN</td>\n",
       "      <td>25.99</td>\n",
       "      <td>100.00</td>\n",
       "      <td>118.90</td>\n",
       "      <td>69.25</td>\n",
       "    </tr>\n",
       "    <tr>\n",
       "      <th>WiiU</th>\n",
       "      <td>NaN</td>\n",
       "      <td>17.56</td>\n",
       "      <td>21.65</td>\n",
       "      <td>22.03</td>\n",
       "      <td>16.35</td>\n",
       "      <td>4.60</td>\n",
       "    </tr>\n",
       "    <tr>\n",
       "      <th>XOne</th>\n",
       "      <td>NaN</td>\n",
       "      <td>NaN</td>\n",
       "      <td>18.96</td>\n",
       "      <td>54.07</td>\n",
       "      <td>60.14</td>\n",
       "      <td>26.15</td>\n",
       "    </tr>\n",
       "  </tbody>\n",
       "</table>\n",
       "</div>"
      ],
      "text/plain": [
       "year_of_release  2011   2012   2013    2014    2015   2016\n",
       "platform                                                  \n",
       "PS4               NaN    NaN  25.99  100.00  118.90  69.25\n",
       "WiiU              NaN  17.56  21.65   22.03   16.35   4.60\n",
       "XOne              NaN    NaN  18.96   54.07   60.14  26.15"
      ]
     },
     "execution_count": 52,
     "metadata": {},
     "output_type": "execute_result"
    }
   ],
   "source": [
    "platform_dynamics = platform_dynamics.loc[platform_dynamics[2011].isna()==True].copy()\n",
    "platform_dynamics.dropna(subset = [2016], inplace = True)\n",
    "platform_dynamics"
   ]
  },
  {
   "cell_type": "markdown",
   "metadata": {},
   "source": [
    "Итак, получен срез из 5 платформ, которые могут быть актуальны в 2017 году. Построим график для этих платформ, оставив года с существующими данными."
   ]
  },
  {
   "cell_type": "code",
   "execution_count": 53,
   "metadata": {},
   "outputs": [],
   "source": [
    "#platform_dynamics.drop([2006, 2007, 2008, 2009, 2010], axis='columns', inplace=True)\n",
    "#platform_dynamics"
   ]
  },
  {
   "cell_type": "code",
   "execution_count": 54,
   "metadata": {},
   "outputs": [
    {
     "data": {
      "image/png": "[encoded data removed]",
      "text/plain": [
       "<Figure size 720x360 with 1 Axes>"
      ]
     },
     "metadata": {
      "needs_background": "light"
     },
     "output_type": "display_data"
    }
   ],
   "source": [
    "platform_dynamics = (games_actual\n",
    "                              .loc[(games_actual['platform'].isin((\"3DS\", \"PS4\", \"PSV\", \"WiiU\", \"XOne\"))==True) & (\n",
    "                                  games_actual['year_of_release'].isin((2011, 2012, 2013, 2014, 2015, 2016))==True)]\n",
    "                              .pivot_table(index=['platform', 'year_of_release'], values='total_sales', aggfunc='sum')\n",
    "                              .reset_index()\n",
    "                 )\n",
    "plot = sns.catplot(x='year_of_release', y='total_sales', hue=\"platform\", kind=\"bar\", data=platform_dynamics)\n",
    "plt.title(\"Суммарные продажи игр на актуальных платформах по годам\", fontsize=12)\n",
    "plt.xlabel('Год выпуска', fontsize=10)\n",
    "plt.ylabel('Суммарные продажи, млн. долларов', fontsize=10)\n",
    "plot.fig.set_size_inches(10,5)"
   ]
  },
  {
   "cell_type": "markdown",
   "metadata": {},
   "source": [
    "<b>Выводы</b> \n",
    "\n",
    "Судя по сводному барплоту, потенциальную прибыльность в 2017 году могут сохранить Playstation 4 и XBoxOne. Остальные платформы отражают затухающую динамику и вряд ли вступят в серьезную конкурентную борьбу, хотя могут продолжать приносить прибыль благодаря преданным поклонникам. При этом могут возникнуть новые игроки на рынке платформ, но пока эти данные в нашем исследовании отсутствуют."
   ]
  },
  {
   "cell_type": "markdown",
   "metadata": {},
   "source": [
    "<div class=\"alert alert-success\">\n",
    "    <b>✔️ Комментарий ревьюера:</b> \n",
    "    \n",
    "Блок с информацией о данных за соответствующий актуальный период изучен превосходно, молодец!\n",
    "</div>"
   ]
  },
  {
   "cell_type": "markdown",
   "metadata": {},
   "source": [
    "### Потенциально прибыльные платформы"
   ]
  },
  {
   "cell_type": "markdown",
   "metadata": {},
   "source": [
    "Оставим в срезе данных только игры, относящиеся к потенциально прибыльным платформам."
   ]
  },
  {
   "cell_type": "code",
   "execution_count": 55,
   "metadata": {},
   "outputs": [
    {
     "data": {
      "text/html": [
       "<div>\n",
       "<style scoped>\n",
       "    .dataframe tbody tr th:only-of-type {\n",
       "        vertical-align: middle;\n",
       "    }\n",
       "\n",
       "    .dataframe tbody tr th {\n",
       "        vertical-align: top;\n",
       "    }\n",
       "\n",
       "    .dataframe thead th {\n",
       "        text-align: right;\n",
       "    }\n",
       "</style>\n",
       "<table border=\"1\" class=\"dataframe\">\n",
       "  <thead>\n",
       "    <tr style=\"text-align: right;\">\n",
       "      <th></th>\n",
       "      <th>name</th>\n",
       "      <th>platform</th>\n",
       "      <th>year_of_release</th>\n",
       "      <th>genre</th>\n",
       "      <th>na_sales</th>\n",
       "      <th>eu_sales</th>\n",
       "      <th>jp_sales</th>\n",
       "      <th>other_sales</th>\n",
       "      <th>critic_score</th>\n",
       "      <th>user_score</th>\n",
       "      <th>rating</th>\n",
       "      <th>total_sales</th>\n",
       "    </tr>\n",
       "  </thead>\n",
       "  <tbody>\n",
       "    <tr>\n",
       "      <th>0</th>\n",
       "      <td>Call of Duty: Black Ops 3</td>\n",
       "      <td>PS4</td>\n",
       "      <td>2015</td>\n",
       "      <td>Shooter</td>\n",
       "      <td>6.03</td>\n",
       "      <td>5.86</td>\n",
       "      <td>0.36</td>\n",
       "      <td>2.38</td>\n",
       "      <td>NaN</td>\n",
       "      <td>NaN</td>\n",
       "      <td>NaN</td>\n",
       "      <td>14.63</td>\n",
       "    </tr>\n",
       "    <tr>\n",
       "      <th>1</th>\n",
       "      <td>Pokemon X/Pokemon Y</td>\n",
       "      <td>3DS</td>\n",
       "      <td>2013</td>\n",
       "      <td>Role-Playing</td>\n",
       "      <td>5.28</td>\n",
       "      <td>4.19</td>\n",
       "      <td>4.35</td>\n",
       "      <td>0.78</td>\n",
       "      <td>NaN</td>\n",
       "      <td>NaN</td>\n",
       "      <td>NaN</td>\n",
       "      <td>14.60</td>\n",
       "    </tr>\n",
       "    <tr>\n",
       "      <th>2</th>\n",
       "      <td>Mario Kart 7</td>\n",
       "      <td>3DS</td>\n",
       "      <td>2011</td>\n",
       "      <td>Racing</td>\n",
       "      <td>5.03</td>\n",
       "      <td>4.02</td>\n",
       "      <td>2.69</td>\n",
       "      <td>0.91</td>\n",
       "      <td>85.0</td>\n",
       "      <td>8.2</td>\n",
       "      <td>E</td>\n",
       "      <td>12.65</td>\n",
       "    </tr>\n",
       "    <tr>\n",
       "      <th>3</th>\n",
       "      <td>Grand Theft Auto V</td>\n",
       "      <td>PS4</td>\n",
       "      <td>2014</td>\n",
       "      <td>Action</td>\n",
       "      <td>3.96</td>\n",
       "      <td>6.31</td>\n",
       "      <td>0.38</td>\n",
       "      <td>1.97</td>\n",
       "      <td>97.0</td>\n",
       "      <td>8.3</td>\n",
       "      <td>M</td>\n",
       "      <td>12.62</td>\n",
       "    </tr>\n",
       "    <tr>\n",
       "      <th>4</th>\n",
       "      <td>Pokemon Omega Ruby/Pokemon Alpha Sapphire</td>\n",
       "      <td>3DS</td>\n",
       "      <td>2014</td>\n",
       "      <td>Role-Playing</td>\n",
       "      <td>4.35</td>\n",
       "      <td>3.49</td>\n",
       "      <td>3.10</td>\n",
       "      <td>0.74</td>\n",
       "      <td>NaN</td>\n",
       "      <td>NaN</td>\n",
       "      <td>NaN</td>\n",
       "      <td>11.68</td>\n",
       "    </tr>\n",
       "  </tbody>\n",
       "</table>\n",
       "</div>"
      ],
      "text/plain": [
       "                                        name platform  year_of_release  \\\n",
       "0                  Call of Duty: Black Ops 3      PS4             2015   \n",
       "1                        Pokemon X/Pokemon Y      3DS             2013   \n",
       "2                               Mario Kart 7      3DS             2011   \n",
       "3                         Grand Theft Auto V      PS4             2014   \n",
       "4  Pokemon Omega Ruby/Pokemon Alpha Sapphire      3DS             2014   \n",
       "\n",
       "          genre  na_sales  eu_sales  jp_sales  other_sales  critic_score  \\\n",
       "0       Shooter      6.03      5.86      0.36         2.38           NaN   \n",
       "1  Role-Playing      5.28      4.19      4.35         0.78           NaN   \n",
       "2        Racing      5.03      4.02      2.69         0.91          85.0   \n",
       "3        Action      3.96      6.31      0.38         1.97          97.0   \n",
       "4  Role-Playing      4.35      3.49      3.10         0.74           NaN   \n",
       "\n",
       "   user_score rating  total_sales  \n",
       "0         NaN    NaN        14.63  \n",
       "1         NaN    NaN        14.60  \n",
       "2         8.2      E        12.65  \n",
       "3         8.3      M        12.62  \n",
       "4         NaN    NaN        11.68  "
      ]
     },
     "execution_count": 55,
     "metadata": {},
     "output_type": "execute_result"
    }
   ],
   "source": [
    "profit_platforms = pd.Series(platform_dynamics['platform'].unique())\n",
    "games_popular = games_actual.loc[games_actual['platform'].isin(profit_platforms)==True].reset_index(drop=True)\n",
    "games_popular.head()"
   ]
  },
  {
   "cell_type": "markdown",
   "metadata": {},
   "source": [
    "### Глобальные продажи игр по платформам"
   ]
  },
  {
   "cell_type": "markdown",
   "metadata": {},
   "source": [
    "Построим график «ящик с усами» по глобальным продажам игр в разбивке по платформам."
   ]
  },
  {
   "cell_type": "code",
   "execution_count": 56,
   "metadata": {},
   "outputs": [
    {
     "data": {
      "text/html": [
       "<div>\n",
       "<style scoped>\n",
       "    .dataframe tbody tr th:only-of-type {\n",
       "        vertical-align: middle;\n",
       "    }\n",
       "\n",
       "    .dataframe tbody tr th {\n",
       "        vertical-align: top;\n",
       "    }\n",
       "\n",
       "    .dataframe thead th {\n",
       "        text-align: right;\n",
       "    }\n",
       "</style>\n",
       "<table border=\"1\" class=\"dataframe\">\n",
       "  <thead>\n",
       "    <tr style=\"text-align: right;\">\n",
       "      <th></th>\n",
       "      <th>platform</th>\n",
       "      <th>name</th>\n",
       "      <th>total_sales</th>\n",
       "    </tr>\n",
       "  </thead>\n",
       "  <tbody>\n",
       "    <tr>\n",
       "      <th>0</th>\n",
       "      <td>3DS</td>\n",
       "      <td>Beyblade Burst</td>\n",
       "      <td>0.03</td>\n",
       "    </tr>\n",
       "    <tr>\n",
       "      <th>1</th>\n",
       "      <td>3DS</td>\n",
       "      <td>Fire Emblem Fates</td>\n",
       "      <td>1.67</td>\n",
       "    </tr>\n",
       "    <tr>\n",
       "      <th>2</th>\n",
       "      <td>3DS</td>\n",
       "      <td>Frozen: Olaf's Quest</td>\n",
       "      <td>0.59</td>\n",
       "    </tr>\n",
       "    <tr>\n",
       "      <th>3</th>\n",
       "      <td>3DS</td>\n",
       "      <td>Haikyu!! Cross Team Match!</td>\n",
       "      <td>0.04</td>\n",
       "    </tr>\n",
       "    <tr>\n",
       "      <th>4</th>\n",
       "      <td>3DS</td>\n",
       "      <td>12-Sai. Honto no Kimochi</td>\n",
       "      <td>0.07</td>\n",
       "    </tr>\n",
       "  </tbody>\n",
       "</table>\n",
       "</div>"
      ],
      "text/plain": [
       "  platform                         name  total_sales\n",
       "0      3DS               Beyblade Burst         0.03\n",
       "1      3DS            Fire Emblem Fates         1.67\n",
       "2      3DS         Frozen: Olaf's Quest         0.59\n",
       "3      3DS   Haikyu!! Cross Team Match!         0.04\n",
       "4      3DS     12-Sai. Honto no Kimochi         0.07"
      ]
     },
     "execution_count": 56,
     "metadata": {},
     "output_type": "execute_result"
    }
   ],
   "source": [
    "# Сводная таблица для построения боксплотов по глобальным продаж игр\n",
    "name_sale = games_popular.pivot_table(index=['platform', 'name'], values='total_sales', aggfunc='sum').reset_index()\n",
    "name_sale.head()"
   ]
  },
  {
   "cell_type": "code",
   "execution_count": 57,
   "metadata": {},
   "outputs": [
    {
     "data": {
      "image/png": "[encoded data removed]",
      "text/plain": [
       "<Figure size 432x432 with 1 Axes>"
      ]
     },
     "metadata": {
      "needs_background": "light"
     },
     "output_type": "display_data"
    }
   ],
   "source": [
    "# Построим \"ящик с усами\" с разбивкой по платформам\n",
    "fig = plt.subplots(figsize=(6,6))\n",
    "plt.title(\"Глобальные продажи игр по перспективным платформам\")\n",
    "plot = sns.boxplot(x=\"platform\", y=\"total_sales\", data=name_sale, palette='rainbow')\n",
    "plt.xlabel('Название платформы')\n",
    "plt.ylabel('Суммарные продажи, млн. долларов')\n",
    "plt.show()"
   ]
  },
  {
   "cell_type": "markdown",
   "metadata": {},
   "source": [
    "Практически по каждой из платформ есть большая доля игр, суммарные продажи по которым вылетают из квартильных значений.\n",
    "Перестроим график в укрупнённом виде, исключив из визуализации выбивающиеся значения, чтобы изучить средние, медианные и квартильные значения."
   ]
  },
  {
   "cell_type": "code",
   "execution_count": 58,
   "metadata": {},
   "outputs": [
    {
     "data": {
      "image/png": "[encoded data removed]",
      "text/plain": [
       "<Figure size 432x432 with 1 Axes>"
      ]
     },
     "metadata": {
      "needs_background": "light"
     },
     "output_type": "display_data"
    }
   ],
   "source": [
    "fig = plt.subplots(figsize=(6,6))\n",
    "plt.title(\"Глобальные продажи игр по перспективным платформам\")\n",
    "plot = sns.boxplot(x=\"platform\", y=\"total_sales\", data=name_sale, palette='rainbow', showfliers=False)\n",
    "plt.xlabel('Название платформы')\n",
    "plt.ylabel('Суммарные продажи, млн. долларов')\n",
    "plt.show()"
   ]
  },
  {
   "cell_type": "markdown",
   "metadata": {},
   "source": [
    "<b>Наблюдения:</b>\n",
    "Для всех платформ среднее значение превышает медианное, при этом у лидеров рынка PS4 и XOne этот разлет наиболее заметен. Благодаря популярности и широкому ассортименту игр они могут позволить варьировать цены."
   ]
  },
  {
   "cell_type": "markdown",
   "metadata": {},
   "source": [
    "<div class=\"alert alert-success\">\n",
    "    <b>✔️ Комментарий ревьюера:</b> \n",
    "    \n",
    "Отличный анализ потенциально прибыльных платформ и хорошие наблюдения!\n",
    "</div>"
   ]
  },
  {
   "cell_type": "markdown",
   "metadata": {},
   "source": [
    "<div class=\"alert alert-warning\">\n",
    "    <b>⚠️ Комментарий ревьюера:</b> \n",
    "    \n",
    "К слову, я бы еще предложил написать пару слов про выбросы: что это такое и как можно охарактеризовать платформу. \n",
    "</div>"
   ]
  },
  {
   "cell_type": "markdown",
   "metadata": {},
   "source": [
    "<div class=\"alert alert-info\">\n",
    "<b>Комментарий студента:</b>\n",
    "    <br> В данном случае самые массовые выбросы наблюдаются у самых популярных платформ. За счет большой выборки выбросы могут быть неотъемлемой частью распределения.\n",
    "</div>"
   ]
  },
  {
   "cell_type": "markdown",
   "metadata": {},
   "source": [
    "<div class=\"alert alert-success\">\n",
    "    <b>✔️ Комментарий ревьюера v2:</b> \n",
    "    \n",
    "Да, это вполне естественно, гуд 👍\n",
    "</div>"
   ]
  },
  {
   "cell_type": "markdown",
   "metadata": {},
   "source": [
    "### Влияние отзывов пользователей и критиков"
   ]
  },
  {
   "cell_type": "markdown",
   "metadata": {},
   "source": [
    "Ограничим анализ ранее выбранными 5 популярными платформами. Построим диаграмму рассеяния и посчитаем корреляцию между отзывами и продажами."
   ]
  },
  {
   "cell_type": "code",
   "execution_count": 59,
   "metadata": {},
   "outputs": [
    {
     "data": {
      "image/png": "[encoded data removed]",
      "text/plain": [
       "<Figure size 540x540 with 9 Axes>"
      ]
     },
     "metadata": {
      "needs_background": "light"
     },
     "output_type": "display_data"
    }
   ],
   "source": [
    "scatters_popular = sns.PairGrid(games_popular[['critic_score', 'user_score', 'total_sales']])\n",
    "scatters_popular.map(plt.scatter)\n",
    "plt.show()"
   ]
  },
  {
   "cell_type": "markdown",
   "metadata": {},
   "source": [
    "<div class=\"alert alert-warning\">\n",
    "    <b>⚠️ Комментарий ревьюера:</b> \n",
    "    \n",
    "Альтернативный метод визуального построения зависимостей переменных ([подробнее](https://seaborn.pydata.org/generated/seaborn.pairplot.html)).\n",
    "</div>"
   ]
  },
  {
   "cell_type": "markdown",
   "metadata": {},
   "source": [
    "<div class=\"alert alert-info\">\n",
    "<b>Комментарий студента:</b>\n",
    "    <br> Спасибо за рекомендацию. Обязательно попробую освоить более симпатичный вариант pairplot. Увы, сейчас в рабочем аврале и не могу сконцентрироваться на спокойном завершении сборного проекта с полным погружением. Стыдно, но обещаю доделать.\n",
    "</div>"
   ]
  },
  {
   "cell_type": "markdown",
   "metadata": {},
   "source": [
    "<div class=\"alert alert-success\">\n",
    "    <b>✔️ Комментарий ревьюера v2:</b> \n",
    "    \n",
    "Анна, все хорошо, не надо так переживать 😉\n",
    "    \n",
    "Я лишь предлагаю иные варианты, которые можно изучить в любое удобно для себя время.\n",
    "</div>"
   ]
  },
  {
   "cell_type": "code",
   "execution_count": 60,
   "metadata": {},
   "outputs": [
    {
     "data": {
      "text/html": [
       "<div>\n",
       "<style scoped>\n",
       "    .dataframe tbody tr th:only-of-type {\n",
       "        vertical-align: middle;\n",
       "    }\n",
       "\n",
       "    .dataframe tbody tr th {\n",
       "        vertical-align: top;\n",
       "    }\n",
       "\n",
       "    .dataframe thead th {\n",
       "        text-align: right;\n",
       "    }\n",
       "</style>\n",
       "<table border=\"1\" class=\"dataframe\">\n",
       "  <thead>\n",
       "    <tr style=\"text-align: right;\">\n",
       "      <th></th>\n",
       "      <th>year_of_release</th>\n",
       "      <th>na_sales</th>\n",
       "      <th>eu_sales</th>\n",
       "      <th>jp_sales</th>\n",
       "      <th>other_sales</th>\n",
       "      <th>critic_score</th>\n",
       "      <th>user_score</th>\n",
       "      <th>total_sales</th>\n",
       "    </tr>\n",
       "  </thead>\n",
       "  <tbody>\n",
       "    <tr>\n",
       "      <th>year_of_release</th>\n",
       "      <td>1.000000</td>\n",
       "      <td>-0.052932</td>\n",
       "      <td>-0.011418</td>\n",
       "      <td>-0.094422</td>\n",
       "      <td>0.005467</td>\n",
       "      <td>0.166812</td>\n",
       "      <td>0.065349</td>\n",
       "      <td>-0.049104</td>\n",
       "    </tr>\n",
       "    <tr>\n",
       "      <th>na_sales</th>\n",
       "      <td>-0.052932</td>\n",
       "      <td>1.000000</td>\n",
       "      <td>0.786582</td>\n",
       "      <td>0.423613</td>\n",
       "      <td>0.837115</td>\n",
       "      <td>0.354844</td>\n",
       "      <td>0.030025</td>\n",
       "      <td>0.927909</td>\n",
       "    </tr>\n",
       "    <tr>\n",
       "      <th>eu_sales</th>\n",
       "      <td>-0.011418</td>\n",
       "      <td>0.786582</td>\n",
       "      <td>1.000000</td>\n",
       "      <td>0.350603</td>\n",
       "      <td>0.933785</td>\n",
       "      <td>0.306978</td>\n",
       "      <td>-0.001244</td>\n",
       "      <td>0.918719</td>\n",
       "    </tr>\n",
       "    <tr>\n",
       "      <th>jp_sales</th>\n",
       "      <td>-0.094422</td>\n",
       "      <td>0.423613</td>\n",
       "      <td>0.350603</td>\n",
       "      <td>1.000000</td>\n",
       "      <td>0.255412</td>\n",
       "      <td>0.162344</td>\n",
       "      <td>0.188153</td>\n",
       "      <td>0.592232</td>\n",
       "    </tr>\n",
       "    <tr>\n",
       "      <th>other_sales</th>\n",
       "      <td>0.005467</td>\n",
       "      <td>0.837115</td>\n",
       "      <td>0.933785</td>\n",
       "      <td>0.255412</td>\n",
       "      <td>1.000000</td>\n",
       "      <td>0.332393</td>\n",
       "      <td>-0.001862</td>\n",
       "      <td>0.897123</td>\n",
       "    </tr>\n",
       "    <tr>\n",
       "      <th>critic_score</th>\n",
       "      <td>0.166812</td>\n",
       "      <td>0.354844</td>\n",
       "      <td>0.306978</td>\n",
       "      <td>0.162344</td>\n",
       "      <td>0.332393</td>\n",
       "      <td>1.000000</td>\n",
       "      <td>0.581636</td>\n",
       "      <td>0.351868</td>\n",
       "    </tr>\n",
       "    <tr>\n",
       "      <th>user_score</th>\n",
       "      <td>0.065349</td>\n",
       "      <td>0.030025</td>\n",
       "      <td>-0.001244</td>\n",
       "      <td>0.188153</td>\n",
       "      <td>-0.001862</td>\n",
       "      <td>0.581636</td>\n",
       "      <td>1.000000</td>\n",
       "      <td>0.048536</td>\n",
       "    </tr>\n",
       "    <tr>\n",
       "      <th>total_sales</th>\n",
       "      <td>-0.049104</td>\n",
       "      <td>0.927909</td>\n",
       "      <td>0.918719</td>\n",
       "      <td>0.592232</td>\n",
       "      <td>0.897123</td>\n",
       "      <td>0.351868</td>\n",
       "      <td>0.048536</td>\n",
       "      <td>1.000000</td>\n",
       "    </tr>\n",
       "  </tbody>\n",
       "</table>\n",
       "</div>"
      ],
      "text/plain": [
       "                 year_of_release  na_sales  eu_sales  jp_sales  other_sales  \\\n",
       "year_of_release         1.000000 -0.052932 -0.011418 -0.094422     0.005467   \n",
       "na_sales               -0.052932  1.000000  0.786582  0.423613     0.837115   \n",
       "eu_sales               -0.011418  0.786582  1.000000  0.350603     0.933785   \n",
       "jp_sales               -0.094422  0.423613  0.350603  1.000000     0.255412   \n",
       "other_sales             0.005467  0.837115  0.933785  0.255412     1.000000   \n",
       "critic_score            0.166812  0.354844  0.306978  0.162344     0.332393   \n",
       "user_score              0.065349  0.030025 -0.001244  0.188153    -0.001862   \n",
       "total_sales            -0.049104  0.927909  0.918719  0.592232     0.897123   \n",
       "\n",
       "                 critic_score  user_score  total_sales  \n",
       "year_of_release      0.166812    0.065349    -0.049104  \n",
       "na_sales             0.354844    0.030025     0.927909  \n",
       "eu_sales             0.306978   -0.001244     0.918719  \n",
       "jp_sales             0.162344    0.188153     0.592232  \n",
       "other_sales          0.332393   -0.001862     0.897123  \n",
       "critic_score         1.000000    0.581636     0.351868  \n",
       "user_score           0.581636    1.000000     0.048536  \n",
       "total_sales          0.351868    0.048536     1.000000  "
      ]
     },
     "execution_count": 60,
     "metadata": {},
     "output_type": "execute_result"
    }
   ],
   "source": [
    "corr_popular = games_popular.corr()\n",
    "corr_popular"
   ]
  },
  {
   "cell_type": "markdown",
   "metadata": {},
   "source": [
    "<b>Наблюдения:</b>\n",
    "Коэффициент корреляции между оценкой критиков и общими продажами составляет 0.35. Для пользовательской оценки корреляция с объемом продаж и того меньше - всего 0.05. Это слабая зависимость - видимо, на общие продажи влияют иные факторы."
   ]
  },
  {
   "cell_type": "markdown",
   "metadata": {},
   "source": [
    "<div class=\"alert alert-success\">\n",
    "    <b>✔️ Комментарий ревьюера:</b> \n",
    "    \n",
    "Верное замечание)\n",
    "</div>"
   ]
  },
  {
   "cell_type": "code",
   "execution_count": 61,
   "metadata": {},
   "outputs": [
    {
     "name": "stderr",
     "output_type": "stream",
     "text": [
      "/tmp/ipykernel_53/844939604.py:3: DeprecationWarning: `np.bool` is a deprecated alias for the builtin `bool`. To silence this warning, use `bool` by itself. Doing this will not modify any behavior and is safe. If you specifically wanted the numpy scalar type, use `np.bool_` here.\n",
      "Deprecated in NumPy 1.20; for more details and guidance: https://numpy.org/devdocs/release/1.20.0-notes.html#deprecations\n",
      "  mask = np.triu(np.ones_like(corr_popular, dtype=np.bool))\n"
     ]
    },
    {
     "data": {
      "image/png": "[encoded data removed]",
      "text/plain": [
       "<Figure size 432x288 with 2 Axes>"
      ]
     },
     "metadata": {
      "needs_background": "light"
     },
     "output_type": "display_data"
    }
   ],
   "source": [
    "fig, ax = plt.subplots()\n",
    "plt.title(\"Корреляция параметров продаж для популярных платформ\")\n",
    "mask = np.triu(np.ones_like(corr_popular, dtype=np.bool))\n",
    "sns.heatmap(corr_popular, vmin=-1, vmax=1, linewidths=.3, mask=mask, ax=ax, annot=True)\n",
    "plt.show()"
   ]
  },
  {
   "cell_type": "markdown",
   "metadata": {},
   "source": [
    "<div class=\"alert alert-danger\">\n",
    "    <b>❌ Комментарий ревьюера:</b> \n",
    "    \n",
    "Анна, графики очень важно комментаривать, а не оставлять на размышления заказчику :)\n",
    "    \n",
    "Ты можешь просто переместить сюда замечание выше или написать что-то свое.\n",
    "</div>"
   ]
  },
  {
   "cell_type": "markdown",
   "metadata": {},
   "source": [
    "<div class=\"alert alert-info\">\n",
    "<b>Комментарий студента:</b>\n",
    "    <br> \n",
    "Судя по тепловой карте, связь между оценками и продажами действительно слабая. Зато заметны региональные отличия: в Японии при покупках чуть более обращают внимание на оценку критиков, а в Северной Америке и Европе - на пользовательские оценки. Жаль, что зависимость такая слабая, чтобы нагляднее показать силу авторитета в Японии.</div>"
   ]
  },
  {
   "cell_type": "markdown",
   "metadata": {},
   "source": [
    "<div class=\"alert alert-danger\">\n",
    "    <b>❌ Комментарий ревьюера v2:</b> \n",
    "    \n",
    "Анна, боюсь, ты перепутала значения цветовой палитры, потому что выводы у тебя получились с точностью наоборот касательно того, в какой стране больше обращают внимание на оценку критиков/пользователей. \n",
    "    \n",
    "Я добавил параметр `annot == True`, чтобы тебе было легче видеть, где корреляция сильнее, а где слабее. \n",
    "</div>"
   ]
  },
  {
   "cell_type": "markdown",
   "metadata": {},
   "source": [
    "<div class=\"alert alert-info\">\n",
    "<b>Комментарий студента v2:</b>\n",
    "    <br>Да, уж перепутала так перепутала... Классная подсказка с аннотацией - спасибо, приму на заметку.\n",
    "\n",
    "Теперь тепловая карта явно свидетельствует, что в Северной Америке и Европе оценкам критиков при покупке игр уделяют внимание по крайней мере в два раза чаще, чем в Японии. В Японии же более актуальны пользовательские оценки: если для Северной Америки и Европы их роль ничтожна, то в Японии их влияние даже выше значения оценок критиков.\n",
    "</div>"
   ]
  },
  {
   "cell_type": "markdown",
   "metadata": {},
   "source": [
    "<div class=\"alert alert-success\">\n",
    "    <b>✔️ Комментарий ревьюера v3:</b> \n",
    "    \n",
    "Превосходно! Теперь вывод полностью соответствует полученным расчетам!\n",
    "</div>"
   ]
  },
  {
   "cell_type": "markdown",
   "metadata": {},
   "source": [
    "---"
   ]
  },
  {
   "cell_type": "markdown",
   "metadata": {},
   "source": [
    "<div class=\"alert alert-danger\">\n",
    "    <b>❌ Комментарий ревьюера:</b> \n",
    "    \n",
    "Также обрати внимание, пожалуйста, на задание: необходимо взять **одну** популярную консоль, провести для нее анализ, а потом сравнить ее с результатами по другим консолям. Причем, их нужно анализировать отдельно друг от друга, а не в одной таблице :(\n",
    "    \n",
    "Я уверен, для тебя это не составит труда, поэтому буду ждать твой ответ 🙂\n",
    "</div>"
   ]
  },
  {
   "cell_type": "markdown",
   "metadata": {},
   "source": [
    "<div class=\"alert alert-info\">\n",
    "<b>Комментарий студента:</b>\n",
    "    <br> Попробую загладить невнимательность и проработать упущенный момент на примере платформы Playstation 4.</div>"
   ]
  },
  {
   "cell_type": "code",
   "execution_count": 62,
   "metadata": {},
   "outputs": [
    {
     "data": {
      "text/plain": [
       "-0.031957110204556424"
      ]
     },
     "execution_count": 62,
     "metadata": {},
     "output_type": "execute_result"
    }
   ],
   "source": [
    "# Корреляция между оценками пользователей и продажами платформы PS4\n",
    "ps_four = games_popular[games_popular['platform']=='PS4']\n",
    "ps_four['user_score'].corr(ps_four['total_sales'])"
   ]
  },
  {
   "cell_type": "code",
   "execution_count": 63,
   "metadata": {},
   "outputs": [
    {
     "data": {
      "text/plain": [
       "Text(0.5, 1.0, 'Диаграмма рассеяния для зависимости продаж от оценок пользователей')"
      ]
     },
     "execution_count": 63,
     "metadata": {},
     "output_type": "execute_result"
    },
    {
     "data": {
      "image/png": "[encoded data removed]",
      "text/plain": [
       "<Figure size 864x432 with 1 Axes>"
      ]
     },
     "metadata": {
      "needs_background": "light"
     },
     "output_type": "display_data"
    }
   ],
   "source": [
    "# Диаграмма рассеяния для зависимости продаж от оценок пользователей\n",
    "plt.figure(figsize=(12,6))\n",
    "sns.scatterplot(x='user_score', y='total_sales', data=ps_four)\n",
    "plt.title('Диаграмма рассеяния для зависимости продаж от оценок пользователей')"
   ]
  },
  {
   "cell_type": "markdown",
   "metadata": {},
   "source": [
    "<div class=\"alert alert-info\">\n",
    "<b>Комментарий студента:</b>\n",
    "    <br> Видим отсутствие зависимости продаж игр на PS4 от оценок пользователей. </div>"
   ]
  },
  {
   "cell_type": "code",
   "execution_count": 64,
   "metadata": {},
   "outputs": [
    {
     "data": {
      "text/plain": [
       "0.40656790206178095"
      ]
     },
     "execution_count": 64,
     "metadata": {},
     "output_type": "execute_result"
    }
   ],
   "source": [
    "# Корреляция между оценками критиков и продажами платформы PS4\n",
    "ps_four = games_popular[games_popular['platform']=='PS4']\n",
    "ps_four['critic_score'].corr(ps_four['total_sales'])"
   ]
  },
  {
   "cell_type": "code",
   "execution_count": 65,
   "metadata": {},
   "outputs": [
    {
     "data": {
      "text/plain": [
       "Text(0.5, 1.0, 'Диаграмма рассеяния для зависимости продаж от оценок критиков')"
      ]
     },
     "execution_count": 65,
     "metadata": {},
     "output_type": "execute_result"
    },
    {
     "data": {
      "image/png": "[encoded data removed]",
      "text/plain": [
       "<Figure size 864x432 with 1 Axes>"
      ]
     },
     "metadata": {
      "needs_background": "light"
     },
     "output_type": "display_data"
    }
   ],
   "source": [
    "# Диаграмма рассеяния для зависимости продаж от оценок критиков\n",
    "plt.figure(figsize=(12,6))\n",
    "sns.scatterplot(x='critic_score', y='total_sales', data=ps_four)\n",
    "plt.title('Диаграмма рассеяния для зависимости продаж от оценок критиков')"
   ]
  },
  {
   "cell_type": "markdown",
   "metadata": {},
   "source": [
    "<div class=\"alert alert-info\">\n",
    "<b>Комментарий студента:</b>\n",
    "    <br> Видим умеренно слабую зависимость продаж игр на PS4 от оценок критиков. </div>"
   ]
  },
  {
   "cell_type": "markdown",
   "metadata": {},
   "source": [
    "<div class=\"alert alert-success\">\n",
    "    <b>✔️ Комментарий ревьюера v2:</b> \n",
    "    \n",
    "Супер, теперь блок изучен верно!\n",
    "</div>"
   ]
  },
  {
   "cell_type": "markdown",
   "metadata": {},
   "source": [
    "### Продажи игр на других платформах"
   ]
  },
  {
   "cell_type": "markdown",
   "metadata": {},
   "source": [
    "Сравним результаты с продажами игр на других, менее популярных платформах."
   ]
  },
  {
   "cell_type": "code",
   "execution_count": 66,
   "metadata": {},
   "outputs": [],
   "source": [
    "games_other = games_actual.loc[games_actual['platform'].isin(profit_platforms)!=True].reset_index(drop=True)"
   ]
  },
  {
   "cell_type": "markdown",
   "metadata": {},
   "source": [
    "Построим диаграмму рассеяния и посчитаем корреляцию между отзывами и продажами."
   ]
  },
  {
   "cell_type": "code",
   "execution_count": 67,
   "metadata": {},
   "outputs": [
    {
     "data": {
      "image/png": "[encoded data removed]",
      "text/plain": [
       "<Figure size 540x540 with 9 Axes>"
      ]
     },
     "metadata": {
      "needs_background": "light"
     },
     "output_type": "display_data"
    }
   ],
   "source": [
    "scatters_other = sns.PairGrid(games_other[['critic_score', 'user_score', 'total_sales']])\n",
    "scatters_other.map(plt.scatter)\n",
    "plt.show()"
   ]
  },
  {
   "cell_type": "code",
   "execution_count": 68,
   "metadata": {},
   "outputs": [
    {
     "data": {
      "text/html": [
       "<div>\n",
       "<style scoped>\n",
       "    .dataframe tbody tr th:only-of-type {\n",
       "        vertical-align: middle;\n",
       "    }\n",
       "\n",
       "    .dataframe tbody tr th {\n",
       "        vertical-align: top;\n",
       "    }\n",
       "\n",
       "    .dataframe thead th {\n",
       "        text-align: right;\n",
       "    }\n",
       "</style>\n",
       "<table border=\"1\" class=\"dataframe\">\n",
       "  <thead>\n",
       "    <tr style=\"text-align: right;\">\n",
       "      <th></th>\n",
       "      <th>year_of_release</th>\n",
       "      <th>na_sales</th>\n",
       "      <th>eu_sales</th>\n",
       "      <th>jp_sales</th>\n",
       "      <th>other_sales</th>\n",
       "      <th>critic_score</th>\n",
       "      <th>user_score</th>\n",
       "      <th>total_sales</th>\n",
       "    </tr>\n",
       "  </thead>\n",
       "  <tbody>\n",
       "    <tr>\n",
       "      <th>year_of_release</th>\n",
       "      <td>1.000000</td>\n",
       "      <td>-0.054726</td>\n",
       "      <td>-0.015880</td>\n",
       "      <td>-0.056351</td>\n",
       "      <td>-0.034785</td>\n",
       "      <td>0.094594</td>\n",
       "      <td>-0.162510</td>\n",
       "      <td>-0.044155</td>\n",
       "    </tr>\n",
       "    <tr>\n",
       "      <th>na_sales</th>\n",
       "      <td>-0.054726</td>\n",
       "      <td>1.000000</td>\n",
       "      <td>0.783662</td>\n",
       "      <td>0.158543</td>\n",
       "      <td>0.781376</td>\n",
       "      <td>0.290705</td>\n",
       "      <td>0.014414</td>\n",
       "      <td>0.936796</td>\n",
       "    </tr>\n",
       "    <tr>\n",
       "      <th>eu_sales</th>\n",
       "      <td>-0.015880</td>\n",
       "      <td>0.783662</td>\n",
       "      <td>1.000000</td>\n",
       "      <td>0.217943</td>\n",
       "      <td>0.956347</td>\n",
       "      <td>0.312272</td>\n",
       "      <td>0.008343</td>\n",
       "      <td>0.941303</td>\n",
       "    </tr>\n",
       "    <tr>\n",
       "      <th>jp_sales</th>\n",
       "      <td>-0.056351</td>\n",
       "      <td>0.158543</td>\n",
       "      <td>0.217943</td>\n",
       "      <td>1.000000</td>\n",
       "      <td>0.240999</td>\n",
       "      <td>0.116058</td>\n",
       "      <td>0.153093</td>\n",
       "      <td>0.294934</td>\n",
       "    </tr>\n",
       "    <tr>\n",
       "      <th>other_sales</th>\n",
       "      <td>-0.034785</td>\n",
       "      <td>0.781376</td>\n",
       "      <td>0.956347</td>\n",
       "      <td>0.240999</td>\n",
       "      <td>1.000000</td>\n",
       "      <td>0.290749</td>\n",
       "      <td>0.027287</td>\n",
       "      <td>0.931081</td>\n",
       "    </tr>\n",
       "    <tr>\n",
       "      <th>critic_score</th>\n",
       "      <td>0.094594</td>\n",
       "      <td>0.290705</td>\n",
       "      <td>0.312272</td>\n",
       "      <td>0.116058</td>\n",
       "      <td>0.290749</td>\n",
       "      <td>1.000000</td>\n",
       "      <td>0.508900</td>\n",
       "      <td>0.317220</td>\n",
       "    </tr>\n",
       "    <tr>\n",
       "      <th>user_score</th>\n",
       "      <td>-0.162510</td>\n",
       "      <td>0.014414</td>\n",
       "      <td>0.008343</td>\n",
       "      <td>0.153093</td>\n",
       "      <td>0.027287</td>\n",
       "      <td>0.508900</td>\n",
       "      <td>1.000000</td>\n",
       "      <td>0.024672</td>\n",
       "    </tr>\n",
       "    <tr>\n",
       "      <th>total_sales</th>\n",
       "      <td>-0.044155</td>\n",
       "      <td>0.936796</td>\n",
       "      <td>0.941303</td>\n",
       "      <td>0.294934</td>\n",
       "      <td>0.931081</td>\n",
       "      <td>0.317220</td>\n",
       "      <td>0.024672</td>\n",
       "      <td>1.000000</td>\n",
       "    </tr>\n",
       "  </tbody>\n",
       "</table>\n",
       "</div>"
      ],
      "text/plain": [
       "                 year_of_release  na_sales  eu_sales  jp_sales  other_sales  \\\n",
       "year_of_release         1.000000 -0.054726 -0.015880 -0.056351    -0.034785   \n",
       "na_sales               -0.054726  1.000000  0.783662  0.158543     0.781376   \n",
       "eu_sales               -0.015880  0.783662  1.000000  0.217943     0.956347   \n",
       "jp_sales               -0.056351  0.158543  0.217943  1.000000     0.240999   \n",
       "other_sales            -0.034785  0.781376  0.956347  0.240999     1.000000   \n",
       "critic_score            0.094594  0.290705  0.312272  0.116058     0.290749   \n",
       "user_score             -0.162510  0.014414  0.008343  0.153093     0.027287   \n",
       "total_sales            -0.044155  0.936796  0.941303  0.294934     0.931081   \n",
       "\n",
       "                 critic_score  user_score  total_sales  \n",
       "year_of_release      0.094594   -0.162510    -0.044155  \n",
       "na_sales             0.290705    0.014414     0.936796  \n",
       "eu_sales             0.312272    0.008343     0.941303  \n",
       "jp_sales             0.116058    0.153093     0.294934  \n",
       "other_sales          0.290749    0.027287     0.931081  \n",
       "critic_score         1.000000    0.508900     0.317220  \n",
       "user_score           0.508900    1.000000     0.024672  \n",
       "total_sales          0.317220    0.024672     1.000000  "
      ]
     },
     "execution_count": 68,
     "metadata": {},
     "output_type": "execute_result"
    }
   ],
   "source": [
    "corr_other = games_other.corr()\n",
    "corr_other"
   ]
  },
  {
   "cell_type": "markdown",
   "metadata": {},
   "source": [
    "<b>Наблюдения:</b>\n",
    "Для не самых популярных платформ также наблюдается отсутствие связи между оценками критиков/пользователей и продажами."
   ]
  },
  {
   "cell_type": "markdown",
   "metadata": {},
   "source": [
    "<div class=\"alert alert-success\">\n",
    "    <b>✔️ Комментарий ревьюера:</b> \n",
    "    \n",
    "Окей, все верно!\n",
    "</div>"
   ]
  },
  {
   "cell_type": "code",
   "execution_count": 69,
   "metadata": {},
   "outputs": [
    {
     "name": "stderr",
     "output_type": "stream",
     "text": [
      "/tmp/ipykernel_53/3538843099.py:3: DeprecationWarning: `np.bool` is a deprecated alias for the builtin `bool`. To silence this warning, use `bool` by itself. Doing this will not modify any behavior and is safe. If you specifically wanted the numpy scalar type, use `np.bool_` here.\n",
      "Deprecated in NumPy 1.20; for more details and guidance: https://numpy.org/devdocs/release/1.20.0-notes.html#deprecations\n",
      "  mask = np.triu(np.ones_like(corr_other, dtype=np.bool))\n"
     ]
    },
    {
     "data": {
      "image/png": "[encoded data removed]",
      "text/plain": [
       "<Figure size 432x288 with 2 Axes>"
      ]
     },
     "metadata": {
      "needs_background": "light"
     },
     "output_type": "display_data"
    }
   ],
   "source": [
    "fig, ax = plt.subplots()\n",
    "plt.title(\"Корреляция параметров продаж для непопулярных платформ\")\n",
    "mask = np.triu(np.ones_like(corr_other, dtype=np.bool))\n",
    "sns.heatmap(corr_other, vmin=-1, vmax=1, linewidths=.3, mask=mask, ax=ax, annot=True)\n",
    "plt.show()"
   ]
  },
  {
   "cell_type": "markdown",
   "metadata": {},
   "source": [
    "<div class=\"alert alert-danger\">\n",
    "    <b>❌ Комментарий ревьюера:</b> \n",
    "    \n",
    "Аналогично тому, что я писал выше - график необходимо подкреплять словесным выводом)\n",
    "</div>"
   ]
  },
  {
   "cell_type": "markdown",
   "metadata": {},
   "source": [
    "<div class=\"alert alert-info\">\n",
    "<b>Комментарий студента:</b>\n",
    "    <br> \n",
    "Судя по тепловой карте, на продажи непопулярных платформ бОльшее влияние оказывает пользовательская оценка, нежели рейтинг критиков. Причем в Японии таких продаж опять-таки больше - это по-прежнему уникальный рынок.</div>"
   ]
  },
  {
   "cell_type": "markdown",
   "metadata": {},
   "source": [
    "<div class=\"alert alert-danger\">\n",
    "    <b>❌ Комментарий ревьюера v2:</b> \n",
    "    \n",
    "Аналогично тепловой карте выше, попробуй подправить вывод, опираясь на значения корреляции, которые подписаны. \n",
    "</div>"
   ]
  },
  {
   "cell_type": "markdown",
   "metadata": {},
   "source": [
    "<div class=\"alert alert-info\">\n",
    "<b>Комментарий студента v2:</b>\n",
    "    <br> \n",
    "Теперь тепловая карта явно свидетельствует, что на продажи непопулярных платформ более сильное влияние оказывают оценки критиков, особенно в Северной Америке и Европе. При этом в Японии по-прежнему преимущественно ориентируются на пользовательские оценки, в то время как в западных странах на рейтинг пользователей практически не обращается внимания.\n",
    "</div>\n"
   ]
  },
  {
   "cell_type": "markdown",
   "metadata": {},
   "source": [
    "<div class=\"alert alert-success\">\n",
    "    <b>✔️ Комментарий ревьюера v3:</b> \n",
    "    \n",
    "Теперь и здесь вывод верный :)\n",
    "</div>"
   ]
  },
  {
   "cell_type": "markdown",
   "metadata": {},
   "source": [
    "### Распределение игр по жанрам"
   ]
  },
  {
   "cell_type": "markdown",
   "metadata": {},
   "source": [
    "Построим \"ящики с усами\" для общих продаж игр с разбивкой по жанрам."
   ]
  },
  {
   "cell_type": "code",
   "execution_count": 70,
   "metadata": {},
   "outputs": [
    {
     "data": {
      "image/png": "[encoded data removed]",
      "text/plain": [
       "<Figure size 864x432 with 1 Axes>"
      ]
     },
     "metadata": {
      "needs_background": "light"
     },
     "output_type": "display_data"
    }
   ],
   "source": [
    "fig = plt.subplots(figsize=(12,6))\n",
    "plt.title(\"Суммарные продажи игр по жанрам\")\n",
    "plot = sns.boxplot(x=\"genre\", y=\"total_sales\", data=games_actual, palette='rainbow', showfliers=False)\n",
    "plt.xlabel('Название жанра')\n",
    "plt.ylabel('Суммарные продажи, млн. долларов')\n",
    "plt.show()"
   ]
  },
  {
   "cell_type": "code",
   "execution_count": 71,
   "metadata": {},
   "outputs": [
    {
     "data": {
      "text/html": [
       "<div>\n",
       "<style scoped>\n",
       "    .dataframe tbody tr th:only-of-type {\n",
       "        vertical-align: middle;\n",
       "    }\n",
       "\n",
       "    .dataframe tbody tr th {\n",
       "        vertical-align: top;\n",
       "    }\n",
       "\n",
       "    .dataframe thead th {\n",
       "        text-align: right;\n",
       "    }\n",
       "</style>\n",
       "<table border=\"1\" class=\"dataframe\">\n",
       "  <thead>\n",
       "    <tr style=\"text-align: right;\">\n",
       "      <th></th>\n",
       "      <th>genre</th>\n",
       "      <th>total_sales</th>\n",
       "    </tr>\n",
       "  </thead>\n",
       "  <tbody>\n",
       "    <tr>\n",
       "      <th>0</th>\n",
       "      <td>Action</td>\n",
       "      <td>557.80</td>\n",
       "    </tr>\n",
       "    <tr>\n",
       "      <th>1</th>\n",
       "      <td>Shooter</td>\n",
       "      <td>402.91</td>\n",
       "    </tr>\n",
       "    <tr>\n",
       "      <th>2</th>\n",
       "      <td>Role-Playing</td>\n",
       "      <td>245.63</td>\n",
       "    </tr>\n",
       "    <tr>\n",
       "      <th>3</th>\n",
       "      <td>Sports</td>\n",
       "      <td>237.15</td>\n",
       "    </tr>\n",
       "    <tr>\n",
       "      <th>4</th>\n",
       "      <td>Misc</td>\n",
       "      <td>139.42</td>\n",
       "    </tr>\n",
       "    <tr>\n",
       "      <th>5</th>\n",
       "      <td>Platform</td>\n",
       "      <td>88.68</td>\n",
       "    </tr>\n",
       "    <tr>\n",
       "      <th>6</th>\n",
       "      <td>Racing</td>\n",
       "      <td>88.36</td>\n",
       "    </tr>\n",
       "    <tr>\n",
       "      <th>7</th>\n",
       "      <td>Fighting</td>\n",
       "      <td>66.90</td>\n",
       "    </tr>\n",
       "    <tr>\n",
       "      <th>8</th>\n",
       "      <td>Simulation</td>\n",
       "      <td>50.26</td>\n",
       "    </tr>\n",
       "    <tr>\n",
       "      <th>9</th>\n",
       "      <td>Adventure</td>\n",
       "      <td>45.04</td>\n",
       "    </tr>\n",
       "    <tr>\n",
       "      <th>10</th>\n",
       "      <td>Strategy</td>\n",
       "      <td>22.16</td>\n",
       "    </tr>\n",
       "    <tr>\n",
       "      <th>11</th>\n",
       "      <td>Puzzle</td>\n",
       "      <td>9.85</td>\n",
       "    </tr>\n",
       "  </tbody>\n",
       "</table>\n",
       "</div>"
      ],
      "text/plain": [
       "           genre  total_sales\n",
       "0         Action       557.80\n",
       "1        Shooter       402.91\n",
       "2   Role-Playing       245.63\n",
       "3         Sports       237.15\n",
       "4           Misc       139.42\n",
       "5       Platform        88.68\n",
       "6         Racing        88.36\n",
       "7       Fighting        66.90\n",
       "8     Simulation        50.26\n",
       "9      Adventure        45.04\n",
       "10      Strategy        22.16\n",
       "11        Puzzle         9.85"
      ]
     },
     "execution_count": 71,
     "metadata": {},
     "output_type": "execute_result"
    }
   ],
   "source": [
    "# Сформируем сводную таблицу для выявления наиболее и наименее прибыльных жанров.\n",
    "(games_actual\n",
    "             .pivot_table(index='genre', values='total_sales', aggfunc='sum')\n",
    "             .sort_values(by='total_sales', ascending=False)\n",
    "             .reset_index()\n",
    ")"
   ]
  },
  {
   "cell_type": "markdown",
   "metadata": {},
   "source": [
    "<b>Наблюдения</b>\n",
    "\n",
    "Самыми прибыльными жанрами по объему продаж можно назвать экшн, спорт и шутеры.\n",
    "\n",
    "При этом судя по боксплоту, самый доходный жанр - это именно шутеры. Средний и медианный уровни продаж этого жанра выше значений по другим жанрам. Кроме того, датасет в разрезе этого жанра сильно скошен вправо: много покупателей выбирают отдельные игры с высокой ценой - следовательно, это должно быть перспективным направлением продаж.\n",
    "\n",
    "Стратегии принесли самый низкий доход, но судя по \"ящику с усами\", у этого жанра все не настолько плохо, как у Adventure и Puzzle. Даже у этого жанра еще может быть шанс к развитию продаж когда-нибудь.\n",
    "\n",
    "Самым бесперспективным жанром в части продаж оказываются приключенческие игры (Adventure). Хоть этот игровой жанр и только на 3-м месте с хвоста по суммарным продажам, по распределению наибольшее число игр продавалось за низшую по сравнению с другими жанрами стоимость."
   ]
  },
  {
   "cell_type": "markdown",
   "metadata": {},
   "source": [
    "<div class=\"alert alert-success\">\n",
    "    <b>✔️ Комментарий ревьюера:</b> \n",
    "    \n",
    "Отличные замечания, молодец!\n",
    "</div>"
   ]
  },
  {
   "cell_type": "markdown",
   "metadata": {},
   "source": [
    "<div class=\"alert alert-warning\">\n",
    "    <b>⚠️ Комментарий ревьюера:</b> \n",
    "    \n",
    "Если быть более точным: тут речь скорее не про прибыльность, а об успешности продажах тех или иных игр. Все-таки речь про млн копий. \n",
    "</div>"
   ]
  },
  {
   "cell_type": "markdown",
   "metadata": {},
   "source": [
    "<b>ВЫВОДЫ</b>\n",
    "\n",
    "На данном этапе исследования выявлена динамика смены популярных платформ. На протяжении десятилетия наблюдается активная эстафета популярности платформ: \n",
    "* 1994-2000: Playstation\n",
    "* 2001-2005: Playstation2\n",
    "* 2005-1010: DS\n",
    "* 2006-2010: Wii\n",
    "* 2008-2013: Playstation3\n",
    "* 2008-2013: Xbox360\n",
    "\n",
    "В целом примерный срок устаревания платформ составляет около 8-10 лет. С эволюцией игровой индустрии появляются все больше нишевых платформ для своей категории пользователей. По динамике рынка актуальным срезом для анализа данных выбран период с 2006 по 2016 год.\n",
    "\n",
    "По анализу продаж сделан прогноз, что потенциально прибыльными в 2017 году могут быть платформы: \n",
    "* 3DS может потенциально приносить прибыль до появления аналогов нового поколения\n",
    "* Playstation4 набирает обороты и приносит самый высокий доход от продаж\n",
    "* PlaystationVita не самая популярная, но потенциально прибыльная в ближайшие пару лет \n",
    "* WiiU как преемница Wii с потенциальной популярностью по крайней мере в ближайшие пару лет\n",
    "* XBoxOne как потенциальный конкурент Playstation4\n",
    "\n",
    "Анализ корреляции между оценкой игры и совокупными продажами показывает слишком слабую связь. Возможные причины:\n",
    "* оценка пользователей носит субъективный характер (как позитивный, так и негативный), оставляется уже после покупки игры\n",
    "* оценка критиков может быть подвержена фокусу на более (потенциально) популярные игры и не может физически охватывать весь диапазон игр\n",
    "\n",
    "По всей видимости на продажи игр влияют некие иные факторы.\n",
    "\n",
    "Анализ продаж показывает популярность следующих жанров:\n",
    "* экшн - за счет продажи нескольких дорогих игр жанра\n",
    "* спорт - также несколько лидеров жанра составляют ядро продаж\n",
    "* шутеры - самый прибыльный жанр: средний и медианный показатели превышают значения других жанров\n",
    "\n",
    "Самые низкодоходные жанры:\n",
    "* стратегии\n",
    "* паззлы\n",
    "* приключения - самый неперспективный и по совокупным продажам и по низкой цене игр жанра"
   ]
  },
  {
   "cell_type": "markdown",
   "metadata": {},
   "source": [
    "<div class=\"alert alert-success\">\n",
    "    <b>✔️ Комментарий ревьюера:</b> \n",
    "    \n",
    "Анна, вывод превосходный: содержит все необходимые результаты расчетов, а также общие комментарии по каждому блоку. \n",
    "</div>"
   ]
  },
  {
   "cell_type": "markdown",
   "metadata": {},
   "source": [
    "## Портрет пользователя каждого региона"
   ]
  },
  {
   "cell_type": "markdown",
   "metadata": {},
   "source": [
    "### Топ-5 популярных платформ для пользователя региона (NA, EU, JP)"
   ]
  },
  {
   "cell_type": "markdown",
   "metadata": {},
   "source": [
    "#### Популярные платформы в Северной Америке"
   ]
  },
  {
   "cell_type": "code",
   "execution_count": 72,
   "metadata": {},
   "outputs": [
    {
     "data": {
      "text/html": [
       "<div>\n",
       "<style scoped>\n",
       "    .dataframe tbody tr th:only-of-type {\n",
       "        vertical-align: middle;\n",
       "    }\n",
       "\n",
       "    .dataframe tbody tr th {\n",
       "        vertical-align: top;\n",
       "    }\n",
       "\n",
       "    .dataframe thead th {\n",
       "        text-align: right;\n",
       "    }\n",
       "</style>\n",
       "<table border=\"1\" class=\"dataframe\">\n",
       "  <thead>\n",
       "    <tr style=\"text-align: right;\">\n",
       "      <th></th>\n",
       "      <th>platform</th>\n",
       "      <th>na_sales</th>\n",
       "      <th>na_ratio</th>\n",
       "    </tr>\n",
       "  </thead>\n",
       "  <tbody>\n",
       "    <tr>\n",
       "      <th>0</th>\n",
       "      <td>X360</td>\n",
       "      <td>226.80</td>\n",
       "      <td>0.273</td>\n",
       "    </tr>\n",
       "    <tr>\n",
       "      <th>1</th>\n",
       "      <td>PS3</td>\n",
       "      <td>168.26</td>\n",
       "      <td>0.203</td>\n",
       "    </tr>\n",
       "    <tr>\n",
       "      <th>2</th>\n",
       "      <td>PS4</td>\n",
       "      <td>108.74</td>\n",
       "      <td>0.131</td>\n",
       "    </tr>\n",
       "    <tr>\n",
       "      <th>3</th>\n",
       "      <td>XOne</td>\n",
       "      <td>93.12</td>\n",
       "      <td>0.112</td>\n",
       "    </tr>\n",
       "    <tr>\n",
       "      <th>4</th>\n",
       "      <td>3DS</td>\n",
       "      <td>82.65</td>\n",
       "      <td>0.100</td>\n",
       "    </tr>\n",
       "  </tbody>\n",
       "</table>\n",
       "</div>"
      ],
      "text/plain": [
       "  platform  na_sales  na_ratio\n",
       "0     X360    226.80     0.273\n",
       "1      PS3    168.26     0.203\n",
       "2      PS4    108.74     0.131\n",
       "3     XOne     93.12     0.112\n",
       "4      3DS     82.65     0.100"
      ]
     },
     "execution_count": 72,
     "metadata": {},
     "output_type": "execute_result"
    }
   ],
   "source": [
    "# Сводная таблица по размерам продаж платформ в Северной Америке\n",
    "na_popular_games = (games_actual\n",
    "                                .pivot_table(index='platform', values='na_sales', aggfunc='sum')\n",
    "                                .sort_values(by='na_sales', ascending=False)\n",
    "                                .reset_index()\n",
    "                   )\n",
    "na_popular_games['na_ratio'] = round(na_popular_games['na_sales'] / sum(na_popular_games['na_sales']), 3)\n",
    "\n",
    "# Выборка самых популярных платформ в Севверной Америке для сравнения по регионам\n",
    "na_superpopular = na_popular_games.head()\n",
    "na_superpopular"
   ]
  },
  {
   "cell_type": "markdown",
   "metadata": {},
   "source": [
    "В Северной Америке самыми популярными платформами за отчетный период стали XBox, Wii, Playstation 3, DS и Playstation 2."
   ]
  },
  {
   "cell_type": "code",
   "execution_count": 73,
   "metadata": {},
   "outputs": [
    {
     "data": {
      "text/html": [
       "<div>\n",
       "<style scoped>\n",
       "    .dataframe tbody tr th:only-of-type {\n",
       "        vertical-align: middle;\n",
       "    }\n",
       "\n",
       "    .dataframe tbody tr th {\n",
       "        vertical-align: top;\n",
       "    }\n",
       "\n",
       "    .dataframe thead th {\n",
       "        text-align: right;\n",
       "    }\n",
       "</style>\n",
       "<table border=\"1\" class=\"dataframe\">\n",
       "  <thead>\n",
       "    <tr style=\"text-align: right;\">\n",
       "      <th></th>\n",
       "      <th>platform</th>\n",
       "      <th>na_sales</th>\n",
       "      <th>na_ratio</th>\n",
       "    </tr>\n",
       "  </thead>\n",
       "  <tbody>\n",
       "    <tr>\n",
       "      <th>2</th>\n",
       "      <td>PS4</td>\n",
       "      <td>108.74</td>\n",
       "      <td>0.131</td>\n",
       "    </tr>\n",
       "    <tr>\n",
       "      <th>3</th>\n",
       "      <td>XOne</td>\n",
       "      <td>93.12</td>\n",
       "      <td>0.112</td>\n",
       "    </tr>\n",
       "    <tr>\n",
       "      <th>4</th>\n",
       "      <td>3DS</td>\n",
       "      <td>82.65</td>\n",
       "      <td>0.100</td>\n",
       "    </tr>\n",
       "    <tr>\n",
       "      <th>6</th>\n",
       "      <td>WiiU</td>\n",
       "      <td>38.10</td>\n",
       "      <td>0.046</td>\n",
       "    </tr>\n",
       "    <tr>\n",
       "      <th>9</th>\n",
       "      <td>PSV</td>\n",
       "      <td>12.47</td>\n",
       "      <td>0.015</td>\n",
       "    </tr>\n",
       "  </tbody>\n",
       "</table>\n",
       "</div>"
      ],
      "text/plain": [
       "  platform  na_sales  na_ratio\n",
       "2      PS4    108.74     0.131\n",
       "3     XOne     93.12     0.112\n",
       "4      3DS     82.65     0.100\n",
       "6     WiiU     38.10     0.046\n",
       "9      PSV     12.47     0.015"
      ]
     },
     "execution_count": 73,
     "metadata": {},
     "output_type": "execute_result"
    }
   ],
   "source": [
    "# Продажи в Северной Америке по ранее выделенным перспективным платформам\n",
    "na_perspective = na_popular_games.loc[na_popular_games['platform'].isin(profit_platforms)==True]\n",
    "na_perspective"
   ]
  },
  {
   "cell_type": "markdown",
   "metadata": {},
   "source": [
    "Доли продаж потенциально перспективных платформ для Северной Америки пока ничтожны."
   ]
  },
  {
   "cell_type": "markdown",
   "metadata": {},
   "source": [
    "<div class=\"alert alert-success\">\n",
    "    <b>✔️ Комментарий ревьюера:</b> \n",
    "    \n",
    "Супер, здесь все правильно!\n",
    "</div>"
   ]
  },
  {
   "cell_type": "markdown",
   "metadata": {},
   "source": [
    "#### Популярные платформы в Европе"
   ]
  },
  {
   "cell_type": "code",
   "execution_count": 74,
   "metadata": {},
   "outputs": [
    {
     "data": {
      "text/html": [
       "<div>\n",
       "<style scoped>\n",
       "    .dataframe tbody tr th:only-of-type {\n",
       "        vertical-align: middle;\n",
       "    }\n",
       "\n",
       "    .dataframe tbody tr th {\n",
       "        vertical-align: top;\n",
       "    }\n",
       "\n",
       "    .dataframe thead th {\n",
       "        text-align: right;\n",
       "    }\n",
       "</style>\n",
       "<table border=\"1\" class=\"dataframe\">\n",
       "  <thead>\n",
       "    <tr style=\"text-align: right;\">\n",
       "      <th></th>\n",
       "      <th>platform</th>\n",
       "      <th>eu_sales</th>\n",
       "      <th>eu_ratio</th>\n",
       "    </tr>\n",
       "  </thead>\n",
       "  <tbody>\n",
       "    <tr>\n",
       "      <th>0</th>\n",
       "      <td>PS3</td>\n",
       "      <td>163.10</td>\n",
       "      <td>0.243</td>\n",
       "    </tr>\n",
       "    <tr>\n",
       "      <th>1</th>\n",
       "      <td>PS4</td>\n",
       "      <td>141.09</td>\n",
       "      <td>0.211</td>\n",
       "    </tr>\n",
       "    <tr>\n",
       "      <th>2</th>\n",
       "      <td>X360</td>\n",
       "      <td>117.14</td>\n",
       "      <td>0.175</td>\n",
       "    </tr>\n",
       "    <tr>\n",
       "      <th>3</th>\n",
       "      <td>3DS</td>\n",
       "      <td>61.27</td>\n",
       "      <td>0.091</td>\n",
       "    </tr>\n",
       "    <tr>\n",
       "      <th>4</th>\n",
       "      <td>PC</td>\n",
       "      <td>56.70</td>\n",
       "      <td>0.085</td>\n",
       "    </tr>\n",
       "  </tbody>\n",
       "</table>\n",
       "</div>"
      ],
      "text/plain": [
       "  platform  eu_sales  eu_ratio\n",
       "0      PS3    163.10     0.243\n",
       "1      PS4    141.09     0.211\n",
       "2     X360    117.14     0.175\n",
       "3      3DS     61.27     0.091\n",
       "4       PC     56.70     0.085"
      ]
     },
     "execution_count": 74,
     "metadata": {},
     "output_type": "execute_result"
    }
   ],
   "source": [
    "# Сводная таблица по размерам продаж платформ в Европе\n",
    "eu_popular_games = (games_actual\n",
    "                                .pivot_table(index='platform', values='eu_sales', aggfunc='sum')\n",
    "                                .sort_values(by='eu_sales', ascending=False)\n",
    "                                .reset_index()\n",
    "                   )\n",
    "eu_popular_games['eu_ratio'] = round(eu_popular_games['eu_sales'] / sum(eu_popular_games['eu_sales']), 3)\n",
    "\n",
    "# Выборка самых популярных платформ в Европе для сравнения по регионам\n",
    "eu_superpopular = eu_popular_games.head()\n",
    "eu_superpopular"
   ]
  },
  {
   "cell_type": "markdown",
   "metadata": {},
   "source": [
    "В Европе наиболее популярными платформами стали Playstation3, XBox360, Wii, DS и Playstation4."
   ]
  },
  {
   "cell_type": "code",
   "execution_count": 75,
   "metadata": {},
   "outputs": [
    {
     "data": {
      "text/html": [
       "<div>\n",
       "<style scoped>\n",
       "    .dataframe tbody tr th:only-of-type {\n",
       "        vertical-align: middle;\n",
       "    }\n",
       "\n",
       "    .dataframe tbody tr th {\n",
       "        vertical-align: top;\n",
       "    }\n",
       "\n",
       "    .dataframe thead th {\n",
       "        text-align: right;\n",
       "    }\n",
       "</style>\n",
       "<table border=\"1\" class=\"dataframe\">\n",
       "  <thead>\n",
       "    <tr style=\"text-align: right;\">\n",
       "      <th></th>\n",
       "      <th>platform</th>\n",
       "      <th>eu_sales</th>\n",
       "      <th>eu_ratio</th>\n",
       "    </tr>\n",
       "  </thead>\n",
       "  <tbody>\n",
       "    <tr>\n",
       "      <th>1</th>\n",
       "      <td>PS4</td>\n",
       "      <td>141.09</td>\n",
       "      <td>0.211</td>\n",
       "    </tr>\n",
       "    <tr>\n",
       "      <th>3</th>\n",
       "      <td>3DS</td>\n",
       "      <td>61.27</td>\n",
       "      <td>0.091</td>\n",
       "    </tr>\n",
       "    <tr>\n",
       "      <th>5</th>\n",
       "      <td>XOne</td>\n",
       "      <td>51.59</td>\n",
       "      <td>0.077</td>\n",
       "    </tr>\n",
       "    <tr>\n",
       "      <th>7</th>\n",
       "      <td>WiiU</td>\n",
       "      <td>25.13</td>\n",
       "      <td>0.038</td>\n",
       "    </tr>\n",
       "    <tr>\n",
       "      <th>8</th>\n",
       "      <td>PSV</td>\n",
       "      <td>13.07</td>\n",
       "      <td>0.020</td>\n",
       "    </tr>\n",
       "  </tbody>\n",
       "</table>\n",
       "</div>"
      ],
      "text/plain": [
       "  platform  eu_sales  eu_ratio\n",
       "1      PS4    141.09     0.211\n",
       "3      3DS     61.27     0.091\n",
       "5     XOne     51.59     0.077\n",
       "7     WiiU     25.13     0.038\n",
       "8      PSV     13.07     0.020"
      ]
     },
     "execution_count": 75,
     "metadata": {},
     "output_type": "execute_result"
    }
   ],
   "source": [
    "# Продажи в Европе по ранее выделенным перспективным платформам\n",
    "eu_perspective = eu_popular_games.loc[eu_popular_games['platform'].isin(profit_platforms)==True]\n",
    "eu_perspective"
   ]
  },
  {
   "cell_type": "markdown",
   "metadata": {},
   "source": [
    "<div class=\"alert alert-success\">\n",
    "    <b>✔️ Комментарий ревьюера:</b> \n",
    "    \n",
    "Тут тоже все гуд 👍\n",
    "</div>"
   ]
  },
  {
   "cell_type": "markdown",
   "metadata": {},
   "source": [
    "#### Популярные платформы в Японии"
   ]
  },
  {
   "cell_type": "code",
   "execution_count": 76,
   "metadata": {},
   "outputs": [
    {
     "data": {
      "text/html": [
       "<div>\n",
       "<style scoped>\n",
       "    .dataframe tbody tr th:only-of-type {\n",
       "        vertical-align: middle;\n",
       "    }\n",
       "\n",
       "    .dataframe tbody tr th {\n",
       "        vertical-align: top;\n",
       "    }\n",
       "\n",
       "    .dataframe thead th {\n",
       "        text-align: right;\n",
       "    }\n",
       "</style>\n",
       "<table border=\"1\" class=\"dataframe\">\n",
       "  <thead>\n",
       "    <tr style=\"text-align: right;\">\n",
       "      <th></th>\n",
       "      <th>platform</th>\n",
       "      <th>jp_sales</th>\n",
       "      <th>jp_ratio</th>\n",
       "    </tr>\n",
       "  </thead>\n",
       "  <tbody>\n",
       "    <tr>\n",
       "      <th>0</th>\n",
       "      <td>3DS</td>\n",
       "      <td>100.62</td>\n",
       "      <td>0.410</td>\n",
       "    </tr>\n",
       "    <tr>\n",
       "      <th>1</th>\n",
       "      <td>PS3</td>\n",
       "      <td>49.39</td>\n",
       "      <td>0.201</td>\n",
       "    </tr>\n",
       "    <tr>\n",
       "      <th>2</th>\n",
       "      <td>PSP</td>\n",
       "      <td>24.04</td>\n",
       "      <td>0.098</td>\n",
       "    </tr>\n",
       "    <tr>\n",
       "      <th>3</th>\n",
       "      <td>PSV</td>\n",
       "      <td>21.84</td>\n",
       "      <td>0.089</td>\n",
       "    </tr>\n",
       "    <tr>\n",
       "      <th>4</th>\n",
       "      <td>PS4</td>\n",
       "      <td>15.96</td>\n",
       "      <td>0.065</td>\n",
       "    </tr>\n",
       "  </tbody>\n",
       "</table>\n",
       "</div>"
      ],
      "text/plain": [
       "  platform  jp_sales  jp_ratio\n",
       "0      3DS    100.62     0.410\n",
       "1      PS3     49.39     0.201\n",
       "2      PSP     24.04     0.098\n",
       "3      PSV     21.84     0.089\n",
       "4      PS4     15.96     0.065"
      ]
     },
     "execution_count": 76,
     "metadata": {},
     "output_type": "execute_result"
    }
   ],
   "source": [
    "# Сводная таблица по размерам продаж платформ в Японии\n",
    "jp_popular_games = (games_actual\n",
    "                                .pivot_table(index='platform', values='jp_sales', aggfunc='sum')\n",
    "                                .sort_values(by='jp_sales', ascending=False)\n",
    "                                .reset_index()\n",
    "                   )\n",
    "jp_popular_games['jp_ratio'] = round(jp_popular_games['jp_sales'] / sum(jp_popular_games['jp_sales']), 3)\n",
    "\n",
    "# Выборка самых популярных платформ в Японии для сравнения по регионам\n",
    "jp_superpopular = jp_popular_games.head()\n",
    "jp_superpopular"
   ]
  },
  {
   "cell_type": "markdown",
   "metadata": {},
   "source": [
    "В Японии пятерка самых популярных платформ: DS, 3DS, Playstation3, PlaystationPortable, Wii."
   ]
  },
  {
   "cell_type": "code",
   "execution_count": 77,
   "metadata": {},
   "outputs": [
    {
     "data": {
      "text/html": [
       "<div>\n",
       "<style scoped>\n",
       "    .dataframe tbody tr th:only-of-type {\n",
       "        vertical-align: middle;\n",
       "    }\n",
       "\n",
       "    .dataframe tbody tr th {\n",
       "        vertical-align: top;\n",
       "    }\n",
       "\n",
       "    .dataframe thead th {\n",
       "        text-align: right;\n",
       "    }\n",
       "</style>\n",
       "<table border=\"1\" class=\"dataframe\">\n",
       "  <thead>\n",
       "    <tr style=\"text-align: right;\">\n",
       "      <th></th>\n",
       "      <th>platform</th>\n",
       "      <th>jp_sales</th>\n",
       "      <th>jp_ratio</th>\n",
       "    </tr>\n",
       "  </thead>\n",
       "  <tbody>\n",
       "    <tr>\n",
       "      <th>0</th>\n",
       "      <td>3DS</td>\n",
       "      <td>100.62</td>\n",
       "      <td>0.410</td>\n",
       "    </tr>\n",
       "    <tr>\n",
       "      <th>3</th>\n",
       "      <td>PSV</td>\n",
       "      <td>21.84</td>\n",
       "      <td>0.089</td>\n",
       "    </tr>\n",
       "    <tr>\n",
       "      <th>4</th>\n",
       "      <td>PS4</td>\n",
       "      <td>15.96</td>\n",
       "      <td>0.065</td>\n",
       "    </tr>\n",
       "    <tr>\n",
       "      <th>5</th>\n",
       "      <td>WiiU</td>\n",
       "      <td>13.01</td>\n",
       "      <td>0.053</td>\n",
       "    </tr>\n",
       "    <tr>\n",
       "      <th>9</th>\n",
       "      <td>XOne</td>\n",
       "      <td>0.34</td>\n",
       "      <td>0.001</td>\n",
       "    </tr>\n",
       "  </tbody>\n",
       "</table>\n",
       "</div>"
      ],
      "text/plain": [
       "  platform  jp_sales  jp_ratio\n",
       "0      3DS    100.62     0.410\n",
       "3      PSV     21.84     0.089\n",
       "4      PS4     15.96     0.065\n",
       "5     WiiU     13.01     0.053\n",
       "9     XOne      0.34     0.001"
      ]
     },
     "execution_count": 77,
     "metadata": {},
     "output_type": "execute_result"
    }
   ],
   "source": [
    "# # Продажи в Японии по ранее выделенным перспективным платформам\n",
    "jp_perspective = jp_popular_games.loc[jp_popular_games['platform'].isin(profit_platforms)==True]\n",
    "jp_perspective"
   ]
  },
  {
   "cell_type": "markdown",
   "metadata": {},
   "source": [
    "Игры на  XBoxOne в Японии практически не продаются, а возможно и вообще эта платформа не представлена на японском рынке."
   ]
  },
  {
   "cell_type": "markdown",
   "metadata": {},
   "source": [
    "<div class=\"alert alert-success\">\n",
    "    <b>✔️ Комментарий ревьюера:</b> \n",
    "    \n",
    "Да, все верно. \n",
    "</div>"
   ]
  },
  {
   "cell_type": "markdown",
   "metadata": {},
   "source": [
    "<div class=\"alert alert-warning\">\n",
    "    <b>⚠️ Комментарий ревьюера:</b> \n",
    "    \n",
    "Как рекомендация, я бы мог посоветовать представлять `ratio` все-таки в %, так как долю все же понятнее представлять именно в таком виде 😉\n",
    "    \n",
    "Хотя это на вкус и цвет)\n",
    "</div>"
   ]
  },
  {
   "cell_type": "markdown",
   "metadata": {},
   "source": [
    "<div class=\"alert alert-info\">\n",
    "<b>Комментарий студента:</b>\n",
    "    <br> \n",
    "Хорошо, учту и не буду злоупотреблять такими штуками.</div>"
   ]
  },
  {
   "cell_type": "markdown",
   "metadata": {},
   "source": [
    "#### Сравнение популярных платформ по регионам"
   ]
  },
  {
   "cell_type": "code",
   "execution_count": 78,
   "metadata": {},
   "outputs": [
    {
     "data": {
      "text/html": [
       "<div>\n",
       "<style scoped>\n",
       "    .dataframe tbody tr th:only-of-type {\n",
       "        vertical-align: middle;\n",
       "    }\n",
       "\n",
       "    .dataframe tbody tr th {\n",
       "        vertical-align: top;\n",
       "    }\n",
       "\n",
       "    .dataframe thead th {\n",
       "        text-align: right;\n",
       "    }\n",
       "</style>\n",
       "<table border=\"1\" class=\"dataframe\">\n",
       "  <thead>\n",
       "    <tr style=\"text-align: right;\">\n",
       "      <th></th>\n",
       "      <th>platform</th>\n",
       "      <th>na_ratio</th>\n",
       "      <th>eu_ratio</th>\n",
       "      <th>jp_ratio</th>\n",
       "    </tr>\n",
       "  </thead>\n",
       "  <tbody>\n",
       "    <tr>\n",
       "      <th>0</th>\n",
       "      <td>3DS</td>\n",
       "      <td>0.100</td>\n",
       "      <td>0.091</td>\n",
       "      <td>0.410</td>\n",
       "    </tr>\n",
       "    <tr>\n",
       "      <th>1</th>\n",
       "      <td>PC</td>\n",
       "      <td>NaN</td>\n",
       "      <td>0.085</td>\n",
       "      <td>NaN</td>\n",
       "    </tr>\n",
       "    <tr>\n",
       "      <th>2</th>\n",
       "      <td>PS3</td>\n",
       "      <td>0.203</td>\n",
       "      <td>0.243</td>\n",
       "      <td>0.201</td>\n",
       "    </tr>\n",
       "    <tr>\n",
       "      <th>3</th>\n",
       "      <td>PS4</td>\n",
       "      <td>0.131</td>\n",
       "      <td>0.211</td>\n",
       "      <td>0.065</td>\n",
       "    </tr>\n",
       "    <tr>\n",
       "      <th>4</th>\n",
       "      <td>PSP</td>\n",
       "      <td>NaN</td>\n",
       "      <td>NaN</td>\n",
       "      <td>0.098</td>\n",
       "    </tr>\n",
       "    <tr>\n",
       "      <th>5</th>\n",
       "      <td>PSV</td>\n",
       "      <td>NaN</td>\n",
       "      <td>NaN</td>\n",
       "      <td>0.089</td>\n",
       "    </tr>\n",
       "    <tr>\n",
       "      <th>6</th>\n",
       "      <td>X360</td>\n",
       "      <td>0.273</td>\n",
       "      <td>0.175</td>\n",
       "      <td>NaN</td>\n",
       "    </tr>\n",
       "    <tr>\n",
       "      <th>7</th>\n",
       "      <td>XOne</td>\n",
       "      <td>0.112</td>\n",
       "      <td>NaN</td>\n",
       "      <td>NaN</td>\n",
       "    </tr>\n",
       "  </tbody>\n",
       "</table>\n",
       "</div>"
      ],
      "text/plain": [
       "  platform  na_ratio  eu_ratio  jp_ratio\n",
       "0      3DS     0.100     0.091     0.410\n",
       "1       PC       NaN     0.085       NaN\n",
       "2      PS3     0.203     0.243     0.201\n",
       "3      PS4     0.131     0.211     0.065\n",
       "4      PSP       NaN       NaN     0.098\n",
       "5      PSV       NaN       NaN     0.089\n",
       "6     X360     0.273     0.175       NaN\n",
       "7     XOne     0.112       NaN       NaN"
      ]
     },
     "execution_count": 78,
     "metadata": {},
     "output_type": "execute_result"
    }
   ],
   "source": [
    "# Сведем данные по долям продаж популярных платформ в регионах в единую таблицу\n",
    "superpopular = na_superpopular.merge(eu_superpopular, on=['platform'], how='outer')\n",
    "superpopular = superpopular.merge(jp_superpopular, on=['platform'], how='outer')\n",
    "superpopular.drop(['na_sales', 'eu_sales', 'jp_sales'], axis='columns', inplace=True)\n",
    "superpopular.sort_values(by='platform').reset_index(drop=True)"
   ]
  },
  {
   "cell_type": "code",
   "execution_count": 79,
   "metadata": {},
   "outputs": [
    {
     "data": {
      "image/png": "[encoded data removed]",
      "text/plain": [
       "<Figure size 432x288 with 1 Axes>"
      ]
     },
     "metadata": {
      "needs_background": "light"
     },
     "output_type": "display_data"
    }
   ],
   "source": [
    "fig, ax = plt.subplots()\n",
    "ax.set(title='Доля продаж игр на самых популярных платформах по регионам',\n",
    "       xlabel='Название платформы', ylabel='Доля продаж')\n",
    "x1 = np.arange(1,9) - 0.3\n",
    "x2 = np.arange(1,9)\n",
    "x3 = np.arange(1,9) + 0.3\n",
    "plt.xticks([1, 2, 3, 4, 5, 6, 7, 8], ['X360', 'Wii', 'PS3', 'DS', 'PS2', 'PS4', '3DS', 'PSP'])\n",
    "ax.bar(x1, superpopular['na_ratio'], width=0.3, label='Северная Америка')\n",
    "ax.bar(x2, superpopular['eu_ratio'], width=0.3, label='Европа')\n",
    "ax.bar(x3, superpopular['jp_ratio'], width=0.3, label='Япония')\n",
    "ax.grid=True\n",
    "ax.legend(bbox_to_anchor=(1.45, 1), frameon=True, loc='upper right')\n",
    "plt.show()"
   ]
  },
  {
   "cell_type": "markdown",
   "metadata": {},
   "source": [
    "<b>Наблюдения</b>\n",
    "\n",
    "Платформа XBox360 наиболее популярна в Северной Америке (почти 25% рынка продаж), в Европе достаточно популярна (доля рынка около 18%), в Японии же практически не продается в рассматриваемый период.\n",
    "\n",
    "Платформа Playstation3 активно популярна в Европе (доля продаж 23%), достаточно популярна в Северной Америке (17% рынка) и Японии (14% рынка).\n",
    "\n",
    "Платформа DS очень популярна в Японии (26% локального рынка), не так популярна в Северной Америке (14% объема продаж) и Европе (доля продаж 10%). \n",
    "\n",
    "Платформа Wii довольно популярна в Северной Америке (21% продаж), Европе (18% рынка) и в Японии (13% локального объема продаж).\n",
    "\n",
    "Некоторые платформы популярны исключительно в отдельных регионах: Playstation4 в Европе, Playstation2 в Северной Америке, PlaystationPortable в Японии."
   ]
  },
  {
   "cell_type": "markdown",
   "metadata": {},
   "source": [
    "<div class=\"alert alert-success\">\n",
    "    <b>✔️ Комментарий ревьюера:</b> \n",
    "    \n",
    "Отличная и наглядная демонстрация данных!\n",
    "</div>"
   ]
  },
  {
   "cell_type": "code",
   "execution_count": 80,
   "metadata": {},
   "outputs": [
    {
     "data": {
      "text/html": [
       "<div>\n",
       "<style scoped>\n",
       "    .dataframe tbody tr th:only-of-type {\n",
       "        vertical-align: middle;\n",
       "    }\n",
       "\n",
       "    .dataframe tbody tr th {\n",
       "        vertical-align: top;\n",
       "    }\n",
       "\n",
       "    .dataframe thead th {\n",
       "        text-align: right;\n",
       "    }\n",
       "</style>\n",
       "<table border=\"1\" class=\"dataframe\">\n",
       "  <thead>\n",
       "    <tr style=\"text-align: right;\">\n",
       "      <th></th>\n",
       "      <th>platform</th>\n",
       "      <th>na_ratio</th>\n",
       "      <th>eu_ratio</th>\n",
       "      <th>jp_ratio</th>\n",
       "    </tr>\n",
       "  </thead>\n",
       "  <tbody>\n",
       "    <tr>\n",
       "      <th>0</th>\n",
       "      <td>3DS</td>\n",
       "      <td>0.100</td>\n",
       "      <td>0.091</td>\n",
       "      <td>0.410</td>\n",
       "    </tr>\n",
       "    <tr>\n",
       "      <th>1</th>\n",
       "      <td>PS4</td>\n",
       "      <td>0.131</td>\n",
       "      <td>0.211</td>\n",
       "      <td>0.065</td>\n",
       "    </tr>\n",
       "    <tr>\n",
       "      <th>2</th>\n",
       "      <td>PSV</td>\n",
       "      <td>0.015</td>\n",
       "      <td>0.020</td>\n",
       "      <td>0.089</td>\n",
       "    </tr>\n",
       "    <tr>\n",
       "      <th>3</th>\n",
       "      <td>WiiU</td>\n",
       "      <td>0.046</td>\n",
       "      <td>0.038</td>\n",
       "      <td>0.053</td>\n",
       "    </tr>\n",
       "    <tr>\n",
       "      <th>4</th>\n",
       "      <td>XOne</td>\n",
       "      <td>0.112</td>\n",
       "      <td>0.077</td>\n",
       "      <td>0.001</td>\n",
       "    </tr>\n",
       "  </tbody>\n",
       "</table>\n",
       "</div>"
      ],
      "text/plain": [
       "  platform  na_ratio  eu_ratio  jp_ratio\n",
       "0      3DS     0.100     0.091     0.410\n",
       "1      PS4     0.131     0.211     0.065\n",
       "2      PSV     0.015     0.020     0.089\n",
       "3     WiiU     0.046     0.038     0.053\n",
       "4     XOne     0.112     0.077     0.001"
      ]
     },
     "execution_count": 80,
     "metadata": {},
     "output_type": "execute_result"
    }
   ],
   "source": [
    "# Выведем в единую таблицу доли продаж по потенциально прибыльным платформам в регионах\n",
    "perspectives = na_perspective.merge(eu_perspective, on=['platform'], how='outer')\n",
    "perspectives = perspectives.merge(jp_perspective, on=['platform'], how='outer')\n",
    "perspectives.drop(['na_sales', 'eu_sales', 'jp_sales'], axis='columns', inplace=True)\n",
    "perspectives.sort_values(by='platform').reset_index(drop=True)"
   ]
  },
  {
   "cell_type": "code",
   "execution_count": 115,
   "metadata": {},
   "outputs": [
    {
     "data": {
      "image/png": "[encoded data removed]",
      "text/plain": [
       "<Figure size 432x288 with 1 Axes>"
      ]
     },
     "metadata": {
      "needs_background": "light"
     },
     "output_type": "display_data"
    }
   ],
   "source": [
    "fig, ax = plt.subplots()\n",
    "ax.set(title='Доля продаж игр на самых перспективных платформах по регионам',\n",
    "       xlabel='Название платформы', ylabel='Доля продаж')\n",
    "x1 = np.arange(1,6) - 0.3\n",
    "x2 = np.arange(1,6)\n",
    "x3 = np.arange(1,6) + 0.3\n",
    "plt.xticks([1, 2, 3, 4, 5], ['PS4', 'XOne', '3DS', 'WiiU', 'PSV'])\n",
    "ax.bar(x1, perspectives['na_ratio'], width=0.3, label='Северная Америка')\n",
    "ax.bar(x2, perspectives['eu_ratio'], width=0.3, label='Европа')\n",
    "ax.bar(x3, perspectives['jp_ratio'], width=0.3, label='Япония')\n",
    "ax.grid=False\n",
    "ax.legend(bbox_to_anchor=(1.45, 1), frameon=True, loc='upper right')\n",
    "plt.show()"
   ]
  },
  {
   "cell_type": "markdown",
   "metadata": {},
   "source": [
    "<b>Наблюдения</b>\n",
    "\n",
    "По перспективным платформам в регионах на 2017 год можно выстроить следующие предположения: \n",
    "* в Северной Америке и Европе наиболее популярна Playstation4 (4% от продаж и 8% от продаж соответственно)\n",
    "* в Японии гиперпопулярной является 3DS (18%), в других регионах ее положение можно назвать в разряде перспективных (3% в Северной Америке и 4% в Европе)\n",
    "* XBoxOne популярна и в Северной Америке, и в Европе, однако практически не представлена в Японии."
   ]
  },
  {
   "cell_type": "markdown",
   "metadata": {},
   "source": [
    "<div class=\"alert alert-success\">\n",
    "    <b>✔️ Комментарий ревьюера:</b> \n",
    "    \n",
    "Молодец! Блок проанализирован верно, комментарии даны правильные 👍\n",
    "</div>"
   ]
  },
  {
   "cell_type": "markdown",
   "metadata": {},
   "source": [
    "### Топ-5 популярных жанров для пользователя региона (NA, EU, JP)"
   ]
  },
  {
   "cell_type": "markdown",
   "metadata": {},
   "source": [
    "#### Популярные жанры в Северной Америке"
   ]
  },
  {
   "cell_type": "code",
   "execution_count": 82,
   "metadata": {},
   "outputs": [
    {
     "data": {
      "text/html": [
       "<div>\n",
       "<style scoped>\n",
       "    .dataframe tbody tr th:only-of-type {\n",
       "        vertical-align: middle;\n",
       "    }\n",
       "\n",
       "    .dataframe tbody tr th {\n",
       "        vertical-align: top;\n",
       "    }\n",
       "\n",
       "    .dataframe thead th {\n",
       "        text-align: right;\n",
       "    }\n",
       "</style>\n",
       "<table border=\"1\" class=\"dataframe\">\n",
       "  <thead>\n",
       "    <tr style=\"text-align: right;\">\n",
       "      <th></th>\n",
       "      <th>genre</th>\n",
       "      <th>na_sales</th>\n",
       "      <th>na_ratio</th>\n",
       "    </tr>\n",
       "  </thead>\n",
       "  <tbody>\n",
       "    <tr>\n",
       "      <th>0</th>\n",
       "      <td>Action</td>\n",
       "      <td>230.92</td>\n",
       "      <td>0.278</td>\n",
       "    </tr>\n",
       "    <tr>\n",
       "      <th>1</th>\n",
       "      <td>Shooter</td>\n",
       "      <td>194.43</td>\n",
       "      <td>0.234</td>\n",
       "    </tr>\n",
       "    <tr>\n",
       "      <th>2</th>\n",
       "      <td>Sports</td>\n",
       "      <td>108.70</td>\n",
       "      <td>0.131</td>\n",
       "    </tr>\n",
       "    <tr>\n",
       "      <th>3</th>\n",
       "      <td>Role-Playing</td>\n",
       "      <td>83.78</td>\n",
       "      <td>0.101</td>\n",
       "    </tr>\n",
       "    <tr>\n",
       "      <th>4</th>\n",
       "      <td>Misc</td>\n",
       "      <td>69.69</td>\n",
       "      <td>0.084</td>\n",
       "    </tr>\n",
       "  </tbody>\n",
       "</table>\n",
       "</div>"
      ],
      "text/plain": [
       "          genre  na_sales  na_ratio\n",
       "0        Action    230.92     0.278\n",
       "1       Shooter    194.43     0.234\n",
       "2        Sports    108.70     0.131\n",
       "3  Role-Playing     83.78     0.101\n",
       "4          Misc     69.69     0.084"
      ]
     },
     "execution_count": 82,
     "metadata": {},
     "output_type": "execute_result"
    }
   ],
   "source": [
    "na_pop_genres = (games_actual\n",
    "                                .pivot_table(index='genre', values='na_sales', aggfunc='sum')\n",
    "                                .sort_values(by='na_sales', ascending=False)\n",
    "                                .reset_index()\n",
    "                   )\n",
    "na_pop_genres['na_ratio'] = round(na_pop_genres['na_sales'] / sum(na_pop_genres['na_sales']), 3)\n",
    "na_super_genres = na_pop_genres.head()\n",
    "na_super_genres"
   ]
  },
  {
   "cell_type": "markdown",
   "metadata": {},
   "source": [
    "#### Популярные жанры в Европе"
   ]
  },
  {
   "cell_type": "code",
   "execution_count": 83,
   "metadata": {},
   "outputs": [
    {
     "data": {
      "text/html": [
       "<div>\n",
       "<style scoped>\n",
       "    .dataframe tbody tr th:only-of-type {\n",
       "        vertical-align: middle;\n",
       "    }\n",
       "\n",
       "    .dataframe tbody tr th {\n",
       "        vertical-align: top;\n",
       "    }\n",
       "\n",
       "    .dataframe thead th {\n",
       "        text-align: right;\n",
       "    }\n",
       "</style>\n",
       "<table border=\"1\" class=\"dataframe\">\n",
       "  <thead>\n",
       "    <tr style=\"text-align: right;\">\n",
       "      <th></th>\n",
       "      <th>genre</th>\n",
       "      <th>eu_sales</th>\n",
       "      <th>eu_ratio</th>\n",
       "    </tr>\n",
       "  </thead>\n",
       "  <tbody>\n",
       "    <tr>\n",
       "      <th>0</th>\n",
       "      <td>Action</td>\n",
       "      <td>199.12</td>\n",
       "      <td>0.297</td>\n",
       "    </tr>\n",
       "    <tr>\n",
       "      <th>1</th>\n",
       "      <td>Shooter</td>\n",
       "      <td>148.02</td>\n",
       "      <td>0.221</td>\n",
       "    </tr>\n",
       "    <tr>\n",
       "      <th>2</th>\n",
       "      <td>Sports</td>\n",
       "      <td>88.48</td>\n",
       "      <td>0.132</td>\n",
       "    </tr>\n",
       "    <tr>\n",
       "      <th>3</th>\n",
       "      <td>Role-Playing</td>\n",
       "      <td>62.30</td>\n",
       "      <td>0.093</td>\n",
       "    </tr>\n",
       "    <tr>\n",
       "      <th>4</th>\n",
       "      <td>Racing</td>\n",
       "      <td>40.62</td>\n",
       "      <td>0.061</td>\n",
       "    </tr>\n",
       "  </tbody>\n",
       "</table>\n",
       "</div>"
      ],
      "text/plain": [
       "          genre  eu_sales  eu_ratio\n",
       "0        Action    199.12     0.297\n",
       "1       Shooter    148.02     0.221\n",
       "2        Sports     88.48     0.132\n",
       "3  Role-Playing     62.30     0.093\n",
       "4        Racing     40.62     0.061"
      ]
     },
     "execution_count": 83,
     "metadata": {},
     "output_type": "execute_result"
    }
   ],
   "source": [
    "eu_pop_genres = (games_actual\n",
    "                                .pivot_table(index='genre', values='eu_sales', aggfunc='sum')\n",
    "                                .sort_values(by='eu_sales', ascending=False)\n",
    "                                .reset_index()\n",
    "                   )\n",
    "eu_pop_genres['eu_ratio'] = round(eu_pop_genres['eu_sales'] / sum(eu_pop_genres['eu_sales']), 3)\n",
    "eu_super_genres = eu_pop_genres.head()\n",
    "eu_super_genres"
   ]
  },
  {
   "cell_type": "markdown",
   "metadata": {},
   "source": [
    "#### Популярные жанры в Японии"
   ]
  },
  {
   "cell_type": "code",
   "execution_count": 84,
   "metadata": {},
   "outputs": [
    {
     "data": {
      "text/html": [
       "<div>\n",
       "<style scoped>\n",
       "    .dataframe tbody tr th:only-of-type {\n",
       "        vertical-align: middle;\n",
       "    }\n",
       "\n",
       "    .dataframe tbody tr th {\n",
       "        vertical-align: top;\n",
       "    }\n",
       "\n",
       "    .dataframe thead th {\n",
       "        text-align: right;\n",
       "    }\n",
       "</style>\n",
       "<table border=\"1\" class=\"dataframe\">\n",
       "  <thead>\n",
       "    <tr style=\"text-align: right;\">\n",
       "      <th></th>\n",
       "      <th>genre</th>\n",
       "      <th>jp_sales</th>\n",
       "      <th>jp_ratio</th>\n",
       "    </tr>\n",
       "  </thead>\n",
       "  <tbody>\n",
       "    <tr>\n",
       "      <th>0</th>\n",
       "      <td>Role-Playing</td>\n",
       "      <td>79.87</td>\n",
       "      <td>0.325</td>\n",
       "    </tr>\n",
       "    <tr>\n",
       "      <th>1</th>\n",
       "      <td>Action</td>\n",
       "      <td>63.62</td>\n",
       "      <td>0.259</td>\n",
       "    </tr>\n",
       "    <tr>\n",
       "      <th>2</th>\n",
       "      <td>Misc</td>\n",
       "      <td>17.60</td>\n",
       "      <td>0.072</td>\n",
       "    </tr>\n",
       "    <tr>\n",
       "      <th>3</th>\n",
       "      <td>Fighting</td>\n",
       "      <td>12.38</td>\n",
       "      <td>0.050</td>\n",
       "    </tr>\n",
       "    <tr>\n",
       "      <th>4</th>\n",
       "      <td>Platform</td>\n",
       "      <td>12.13</td>\n",
       "      <td>0.049</td>\n",
       "    </tr>\n",
       "  </tbody>\n",
       "</table>\n",
       "</div>"
      ],
      "text/plain": [
       "          genre  jp_sales  jp_ratio\n",
       "0  Role-Playing     79.87     0.325\n",
       "1        Action     63.62     0.259\n",
       "2          Misc     17.60     0.072\n",
       "3      Fighting     12.38     0.050\n",
       "4      Platform     12.13     0.049"
      ]
     },
     "execution_count": 84,
     "metadata": {},
     "output_type": "execute_result"
    }
   ],
   "source": [
    "jp_pop_genres = (games_actual\n",
    "                                .pivot_table(index='genre', values='jp_sales', aggfunc='sum')\n",
    "                                .sort_values(by='jp_sales', ascending=False)\n",
    "                                .reset_index()\n",
    "                   )\n",
    "jp_pop_genres['jp_ratio'] = round(jp_pop_genres['jp_sales'] / sum(jp_pop_genres['jp_sales']), 3)\n",
    "jp_super_genres = jp_pop_genres.head()\n",
    "jp_super_genres"
   ]
  },
  {
   "cell_type": "markdown",
   "metadata": {},
   "source": [
    "#### Сравнение популярных жанров по регионам"
   ]
  },
  {
   "cell_type": "code",
   "execution_count": 85,
   "metadata": {},
   "outputs": [
    {
     "data": {
      "text/html": [
       "<div>\n",
       "<style scoped>\n",
       "    .dataframe tbody tr th:only-of-type {\n",
       "        vertical-align: middle;\n",
       "    }\n",
       "\n",
       "    .dataframe tbody tr th {\n",
       "        vertical-align: top;\n",
       "    }\n",
       "\n",
       "    .dataframe thead th {\n",
       "        text-align: right;\n",
       "    }\n",
       "</style>\n",
       "<table border=\"1\" class=\"dataframe\">\n",
       "  <thead>\n",
       "    <tr style=\"text-align: right;\">\n",
       "      <th></th>\n",
       "      <th>genre</th>\n",
       "      <th>na_ratio</th>\n",
       "      <th>eu_ratio</th>\n",
       "      <th>jp_ratio</th>\n",
       "    </tr>\n",
       "  </thead>\n",
       "  <tbody>\n",
       "    <tr>\n",
       "      <th>0</th>\n",
       "      <td>Action</td>\n",
       "      <td>0.278</td>\n",
       "      <td>0.297</td>\n",
       "      <td>0.259</td>\n",
       "    </tr>\n",
       "    <tr>\n",
       "      <th>1</th>\n",
       "      <td>Fighting</td>\n",
       "      <td>NaN</td>\n",
       "      <td>NaN</td>\n",
       "      <td>0.050</td>\n",
       "    </tr>\n",
       "    <tr>\n",
       "      <th>2</th>\n",
       "      <td>Misc</td>\n",
       "      <td>0.084</td>\n",
       "      <td>NaN</td>\n",
       "      <td>0.072</td>\n",
       "    </tr>\n",
       "    <tr>\n",
       "      <th>3</th>\n",
       "      <td>Platform</td>\n",
       "      <td>NaN</td>\n",
       "      <td>NaN</td>\n",
       "      <td>0.049</td>\n",
       "    </tr>\n",
       "    <tr>\n",
       "      <th>4</th>\n",
       "      <td>Racing</td>\n",
       "      <td>NaN</td>\n",
       "      <td>0.061</td>\n",
       "      <td>NaN</td>\n",
       "    </tr>\n",
       "    <tr>\n",
       "      <th>5</th>\n",
       "      <td>Role-Playing</td>\n",
       "      <td>0.101</td>\n",
       "      <td>0.093</td>\n",
       "      <td>0.325</td>\n",
       "    </tr>\n",
       "    <tr>\n",
       "      <th>6</th>\n",
       "      <td>Shooter</td>\n",
       "      <td>0.234</td>\n",
       "      <td>0.221</td>\n",
       "      <td>NaN</td>\n",
       "    </tr>\n",
       "    <tr>\n",
       "      <th>7</th>\n",
       "      <td>Sports</td>\n",
       "      <td>0.131</td>\n",
       "      <td>0.132</td>\n",
       "      <td>NaN</td>\n",
       "    </tr>\n",
       "  </tbody>\n",
       "</table>\n",
       "</div>"
      ],
      "text/plain": [
       "          genre  na_ratio  eu_ratio  jp_ratio\n",
       "0        Action     0.278     0.297     0.259\n",
       "1      Fighting       NaN       NaN     0.050\n",
       "2          Misc     0.084       NaN     0.072\n",
       "3      Platform       NaN       NaN     0.049\n",
       "4        Racing       NaN     0.061       NaN\n",
       "5  Role-Playing     0.101     0.093     0.325\n",
       "6       Shooter     0.234     0.221       NaN\n",
       "7        Sports     0.131     0.132       NaN"
      ]
     },
     "execution_count": 85,
     "metadata": {},
     "output_type": "execute_result"
    }
   ],
   "source": [
    "super_genres = na_super_genres.merge(eu_super_genres, on=['genre'], how='outer')\n",
    "super_genres = super_genres.merge(jp_super_genres, on=['genre'], how='outer')\n",
    "super_genres.drop(['na_sales', 'eu_sales', 'jp_sales'], axis='columns', inplace=True)\n",
    "super_genres.sort_values(by='genre').reset_index(drop=True)"
   ]
  },
  {
   "cell_type": "code",
   "execution_count": 106,
   "metadata": {},
   "outputs": [
    {
     "data": {
      "text/plain": [
       "0    0.278\n",
       "1    0.234\n",
       "2    0.131\n",
       "3    0.101\n",
       "4    0.084\n",
       "5      NaN\n",
       "6      NaN\n",
       "7      NaN\n",
       "Name: na_ratio, dtype: float64"
      ]
     },
     "execution_count": 106,
     "metadata": {},
     "output_type": "execute_result"
    }
   ],
   "source": [
    "super_genres['na_ratio']"
   ]
  },
  {
   "cell_type": "code",
   "execution_count": 120,
   "metadata": {},
   "outputs": [
    {
     "data": {
      "image/png": "[encoded data removed]",
      "text/plain": [
       "<Figure size 432x288 with 1 Axes>"
      ]
     },
     "metadata": {
      "needs_background": "light"
     },
     "output_type": "display_data"
    }
   ],
   "source": [
    "fig, ax = plt.subplots()\n",
    "ax.set(title='Доля продаж игр в самых популярных жанрах по регионам',\n",
    "      xlabel='Название жанра', ylabel='Доля продаж')\n",
    "x1 = np.arange(1,9) - 0.3\n",
    "x2 = np.arange(1,9)\n",
    "x3 = np.arange(1,9) + 0.3\n",
    "plt.xticks([1, 2, 3, 4, 5, 6, 7], ['Action', 'Sports', 'Shooter', 'Misc', 'Role-Playing', 'Racing', 'Platform'])\n",
    "ax.bar(x1, super_genres['na_ratio'], width=0.3, label='Северная Америка')\n",
    "ax.bar(x2, super_genres['eu_ratio'], width=0.3, label='Европа')\n",
    "ax.bar(x3, super_genres['jp_ratio'], width=0.3, label='Япония')\n",
    "ax.grid=True\n",
    "ax.legend(bbox_to_anchor=(1.45, 1), frameon=True, loc='upper right')\n",
    "plt.show()"
   ]
  },
  {
   "cell_type": "markdown",
   "metadata": {},
   "source": [
    "<b>Наблюдения</b>\n",
    "\n",
    "Экшн равнозначно популярен во всех трех регионах. Бросается в глаза гиперпопулярность ролевого жанра в Японии, при этом шутеры, так популярные в Европе и Северной Америке, совсем здесь не представлены.\n",
    "\n",
    "Обращает на себя внимание категория \"Прочее\" (Misc), довольно ровно популярная во всех регионах за счет разнообразия жанрового контента для любой аудитории. И локальная популярность гоночного жанра в Европе и жанра \"Platform\" для Японии.\n",
    "\n",
    "Различия в предпочтениях разных регионов могут быть связаны не только с представленностью платформ, но и с культурными различиями в разных частях света. Западная культура Европы и Северной Америки все-таки сближает их предпочтения по жанрам и довольно сильно отличает от восточной уникальности Японии."
   ]
  },
  {
   "cell_type": "markdown",
   "metadata": {},
   "source": [
    "<div class=\"alert alert-success\">\n",
    "    <b>✔️ Комментарий ревьюера:</b> \n",
    "    \n",
    "Все просто великолепно: расчеты верные, выводы полные и содержательные.\n",
    "</div>"
   ]
  },
  {
   "cell_type": "markdown",
   "metadata": {},
   "source": [
    "<div class=\"alert alert-warning\">\n",
    "    <b>⚠️ Комментарий ревьюера v2:</b> \n",
    "    \n",
    "Анна, а почему ты решила закомментировать график?\n",
    "</div>"
   ]
  },
  {
   "cell_type": "markdown",
   "metadata": {},
   "source": [
    "<div class=\"alert alert-info\">\n",
    "<b>Комментарий студента v2:</b>\n",
    "    <br> \n",
    "К сожалению, после дополнительных манипуляций отображение графика сломалось, и я по малодушию его скрыла, не зная, как починить исходное отображение. Знаю, что так нельзя, но сдалась раньше времени.\n",
    "</div>\n"
   ]
  },
  {
   "cell_type": "markdown",
   "metadata": {},
   "source": [
    "<div class=\"alert alert-warning\">\n",
    "    <b>⚠️ Комментарий ревьюера v3:</b> \n",
    "    \n",
    "Анна, я разобрался, почему возникала ошибка при выводе графика: по оси Х находится 8 категорий, а когда ты создаешь `np.arange(1,8)` (как было до этого), цифр в массиве будет 7 (от 1 до 7). Поэтому необходимо продлить границу до 9, как это сделал я. \n",
    "    \n",
    "Теперь график выводится хорошо :)\n",
    "</div>"
   ]
  },
  {
   "cell_type": "markdown",
   "metadata": {},
   "source": [
    "### Влияние рейтинга ESRB на продажи в отдельном регионе"
   ]
  },
  {
   "cell_type": "markdown",
   "metadata": {},
   "source": [
    "Классификация рейтинга для справки:\n",
    "\n",
    "* «EC» («Early childhood») — «Для детей младшего возраста»: игра подходит для детей от 3 лет и не содержит материалов, которые родители могли бы счесть неподходящими.\n",
    "* «E» («Everyone») — «Для всех»: содержание вполне подходит для возрастной категории от 6 лет. Такие игры могут понравиться и взрослым.\n",
    "* «E10+» («Everyone 10 and older») — «Для всех от 10 лет и старше».\n",
    "* «T» («Teen») — «Подросткам»: игра подходит для лиц от 13 лет.\n",
    "* «M» («Mature») — «Для взрослых»: материалы игры не подходят для подростков младше 17 лет.\n",
    "* «AO» («Adults Only 18+») — «Только для взрослых»: содержание игры только для взрослых старше 18 лет.\n",
    "* «RP» («Rating Pending») — «Рейтинг ожидается»: продукт был отправлен в ESRB и ожидает присвоения рейтинга."
   ]
  },
  {
   "cell_type": "markdown",
   "metadata": {},
   "source": [
    "#### Влияние рейтинга ESRB на продажи в Северной Америке"
   ]
  },
  {
   "cell_type": "code",
   "execution_count": 87,
   "metadata": {},
   "outputs": [
    {
     "data": {
      "text/html": [
       "<div>\n",
       "<style scoped>\n",
       "    .dataframe tbody tr th:only-of-type {\n",
       "        vertical-align: middle;\n",
       "    }\n",
       "\n",
       "    .dataframe tbody tr th {\n",
       "        vertical-align: top;\n",
       "    }\n",
       "\n",
       "    .dataframe thead th {\n",
       "        text-align: right;\n",
       "    }\n",
       "</style>\n",
       "<table border=\"1\" class=\"dataframe\">\n",
       "  <thead>\n",
       "    <tr style=\"text-align: right;\">\n",
       "      <th></th>\n",
       "      <th>rating</th>\n",
       "      <th>na_sales</th>\n",
       "      <th>na_ratio</th>\n",
       "    </tr>\n",
       "  </thead>\n",
       "  <tbody>\n",
       "    <tr>\n",
       "      <th>0</th>\n",
       "      <td>M</td>\n",
       "      <td>308.45</td>\n",
       "      <td>0.437</td>\n",
       "    </tr>\n",
       "    <tr>\n",
       "      <th>1</th>\n",
       "      <td>E</td>\n",
       "      <td>170.17</td>\n",
       "      <td>0.241</td>\n",
       "    </tr>\n",
       "    <tr>\n",
       "      <th>2</th>\n",
       "      <td>E10+</td>\n",
       "      <td>117.72</td>\n",
       "      <td>0.167</td>\n",
       "    </tr>\n",
       "    <tr>\n",
       "      <th>3</th>\n",
       "      <td>T</td>\n",
       "      <td>109.31</td>\n",
       "      <td>0.155</td>\n",
       "    </tr>\n",
       "    <tr>\n",
       "      <th>4</th>\n",
       "      <td>EC</td>\n",
       "      <td>0.42</td>\n",
       "      <td>0.001</td>\n",
       "    </tr>\n",
       "    <tr>\n",
       "      <th>5</th>\n",
       "      <td>RP</td>\n",
       "      <td>0.00</td>\n",
       "      <td>0.000</td>\n",
       "    </tr>\n",
       "  </tbody>\n",
       "</table>\n",
       "</div>"
      ],
      "text/plain": [
       "  rating  na_sales  na_ratio\n",
       "0      M    308.45     0.437\n",
       "1      E    170.17     0.241\n",
       "2   E10+    117.72     0.167\n",
       "3      T    109.31     0.155\n",
       "4     EC      0.42     0.001\n",
       "5     RP      0.00     0.000"
      ]
     },
     "execution_count": 87,
     "metadata": {},
     "output_type": "execute_result"
    }
   ],
   "source": [
    "na_rating_sales = (games_actual\n",
    "                                .pivot_table(index='rating', values='na_sales', aggfunc='sum')\n",
    "                                .sort_values(by='na_sales', ascending=False)\n",
    "                                .reset_index()\n",
    "                   )\n",
    "na_rating_sales['na_ratio'] = round(na_rating_sales['na_sales'] / sum(na_rating_sales['na_sales']), 3)\n",
    "na_rating_sales"
   ]
  },
  {
   "cell_type": "markdown",
   "metadata": {},
   "source": [
    "Самые продаваемые игры в Северной Америке по рейтингу ESRB:\n",
    "* E - для всех: 38%\n",
    "* М - для взрослых: 27%\n",
    "* Т - для подростков: 20%\n",
    "* E10+ - от 10 лет и старше: 15%\n",
    "* EC - для детей младшего возраста: 0.1% (почти не продаются)"
   ]
  },
  {
   "cell_type": "markdown",
   "metadata": {},
   "source": [
    "#### Влияние рейтинга ESRB на продажи в Европе"
   ]
  },
  {
   "cell_type": "code",
   "execution_count": 88,
   "metadata": {},
   "outputs": [
    {
     "data": {
      "text/html": [
       "<div>\n",
       "<style scoped>\n",
       "    .dataframe tbody tr th:only-of-type {\n",
       "        vertical-align: middle;\n",
       "    }\n",
       "\n",
       "    .dataframe tbody tr th {\n",
       "        vertical-align: top;\n",
       "    }\n",
       "\n",
       "    .dataframe thead th {\n",
       "        text-align: right;\n",
       "    }\n",
       "</style>\n",
       "<table border=\"1\" class=\"dataframe\">\n",
       "  <thead>\n",
       "    <tr style=\"text-align: right;\">\n",
       "      <th></th>\n",
       "      <th>rating</th>\n",
       "      <th>eu_sales</th>\n",
       "      <th>eu_ratio</th>\n",
       "    </tr>\n",
       "  </thead>\n",
       "  <tbody>\n",
       "    <tr>\n",
       "      <th>0</th>\n",
       "      <td>M</td>\n",
       "      <td>250.26</td>\n",
       "      <td>0.452</td>\n",
       "    </tr>\n",
       "    <tr>\n",
       "      <th>1</th>\n",
       "      <td>E</td>\n",
       "      <td>141.73</td>\n",
       "      <td>0.256</td>\n",
       "    </tr>\n",
       "    <tr>\n",
       "      <th>2</th>\n",
       "      <td>T</td>\n",
       "      <td>83.16</td>\n",
       "      <td>0.150</td>\n",
       "    </tr>\n",
       "    <tr>\n",
       "      <th>3</th>\n",
       "      <td>E10+</td>\n",
       "      <td>78.00</td>\n",
       "      <td>0.141</td>\n",
       "    </tr>\n",
       "    <tr>\n",
       "      <th>4</th>\n",
       "      <td>RP</td>\n",
       "      <td>0.03</td>\n",
       "      <td>0.000</td>\n",
       "    </tr>\n",
       "    <tr>\n",
       "      <th>5</th>\n",
       "      <td>EC</td>\n",
       "      <td>0.00</td>\n",
       "      <td>0.000</td>\n",
       "    </tr>\n",
       "  </tbody>\n",
       "</table>\n",
       "</div>"
      ],
      "text/plain": [
       "  rating  eu_sales  eu_ratio\n",
       "0      M    250.26     0.452\n",
       "1      E    141.73     0.256\n",
       "2      T     83.16     0.150\n",
       "3   E10+     78.00     0.141\n",
       "4     RP      0.03     0.000\n",
       "5     EC      0.00     0.000"
      ]
     },
     "execution_count": 88,
     "metadata": {},
     "output_type": "execute_result"
    }
   ],
   "source": [
    "eu_rating_sales = (games_actual\n",
    "                                .pivot_table(index='rating', values='eu_sales', aggfunc='sum')\n",
    "                                .sort_values(by='eu_sales', ascending=False)\n",
    "                                .reset_index()\n",
    "                   )\n",
    "eu_rating_sales['eu_ratio'] = round(eu_rating_sales['eu_sales'] / sum(eu_rating_sales['eu_sales']), 3)\n",
    "eu_rating_sales"
   ]
  },
  {
   "cell_type": "markdown",
   "metadata": {},
   "source": [
    "Самые продаваемые игры в Европе по рейтингу ESRB:\n",
    "* E - для всех: 36%\n",
    "* М - для взрослых: 31%\n",
    "* Т - для подростков: 19%\n",
    "* E10+ - от 10 лет и старше: 14%\n",
    "* EC - для детей младшего возраста: 0%"
   ]
  },
  {
   "cell_type": "markdown",
   "metadata": {},
   "source": [
    "#### Влияние рейтинга ESRB на продажи в Японии"
   ]
  },
  {
   "cell_type": "code",
   "execution_count": 89,
   "metadata": {},
   "outputs": [
    {
     "data": {
      "text/html": [
       "<div>\n",
       "<style scoped>\n",
       "    .dataframe tbody tr th:only-of-type {\n",
       "        vertical-align: middle;\n",
       "    }\n",
       "\n",
       "    .dataframe tbody tr th {\n",
       "        vertical-align: top;\n",
       "    }\n",
       "\n",
       "    .dataframe thead th {\n",
       "        text-align: right;\n",
       "    }\n",
       "</style>\n",
       "<table border=\"1\" class=\"dataframe\">\n",
       "  <thead>\n",
       "    <tr style=\"text-align: right;\">\n",
       "      <th></th>\n",
       "      <th>rating</th>\n",
       "      <th>jp_sales</th>\n",
       "      <th>jp_ratio</th>\n",
       "    </tr>\n",
       "  </thead>\n",
       "  <tbody>\n",
       "    <tr>\n",
       "      <th>0</th>\n",
       "      <td>E</td>\n",
       "      <td>36.68</td>\n",
       "      <td>0.341</td>\n",
       "    </tr>\n",
       "    <tr>\n",
       "      <th>1</th>\n",
       "      <td>T</td>\n",
       "      <td>33.39</td>\n",
       "      <td>0.311</td>\n",
       "    </tr>\n",
       "    <tr>\n",
       "      <th>2</th>\n",
       "      <td>M</td>\n",
       "      <td>26.14</td>\n",
       "      <td>0.243</td>\n",
       "    </tr>\n",
       "    <tr>\n",
       "      <th>3</th>\n",
       "      <td>E10+</td>\n",
       "      <td>11.23</td>\n",
       "      <td>0.105</td>\n",
       "    </tr>\n",
       "    <tr>\n",
       "      <th>4</th>\n",
       "      <td>EC</td>\n",
       "      <td>0.00</td>\n",
       "      <td>0.000</td>\n",
       "    </tr>\n",
       "    <tr>\n",
       "      <th>5</th>\n",
       "      <td>RP</td>\n",
       "      <td>0.00</td>\n",
       "      <td>0.000</td>\n",
       "    </tr>\n",
       "  </tbody>\n",
       "</table>\n",
       "</div>"
      ],
      "text/plain": [
       "  rating  jp_sales  jp_ratio\n",
       "0      E     36.68     0.341\n",
       "1      T     33.39     0.311\n",
       "2      M     26.14     0.243\n",
       "3   E10+     11.23     0.105\n",
       "4     EC      0.00     0.000\n",
       "5     RP      0.00     0.000"
      ]
     },
     "execution_count": 89,
     "metadata": {},
     "output_type": "execute_result"
    }
   ],
   "source": [
    "jp_rating_sales = (games_actual\n",
    "                                .pivot_table(index='rating', values='jp_sales', aggfunc='sum')\n",
    "                                .sort_values(by='jp_sales', ascending=False)\n",
    "                                .reset_index()\n",
    "                   )\n",
    "jp_rating_sales['jp_ratio'] = round(jp_rating_sales['jp_sales'] / sum(jp_rating_sales['jp_sales']), 3)\n",
    "jp_rating_sales"
   ]
  },
  {
   "cell_type": "markdown",
   "metadata": {},
   "source": [
    "Самые продаваемые игры в Японии по рейтингу ESRB:\n",
    "* E - для всех: 42%\n",
    "* М - для взрослых: 15%\n",
    "* Т - для подростков: 30%\n",
    "* E10+ - от 10 лет и старше: 13%\n",
    "* EC - для детей младшего возраста: 0%\n",
    "\n",
    "В Японии большая доля продаж у игр для подростков, чем для игр для взрослых (в отличие от Северной Америки и Европы). При этом игры для детей младшего возраста не представлены ни в одном регионе."
   ]
  },
  {
   "cell_type": "markdown",
   "metadata": {},
   "source": [
    "<div class=\"alert alert-success\">\n",
    "    <b>✔️ Комментарий ревьюера:</b> \n",
    "    \n",
    "Влияние рейтингов проанализировано полностью правильно!\n",
    "</div>"
   ]
  },
  {
   "cell_type": "markdown",
   "metadata": {},
   "source": [
    "<div class=\"alert alert-danger\">\n",
    "    <b>❌ Комментарий ревьюера:</b> \n",
    "    \n",
    "Анна, боюсь ты не рассмотрела игры с пропущенными рейтингами. Их надо тоже добавить в таблицу и прокомментировать разницу. \n",
    "    \n",
    "Для этого пропуски необходимо заменить на какое-нибудь маркерное значение 😉\n",
    "</div>"
   ]
  },
  {
   "cell_type": "markdown",
   "metadata": {},
   "source": [
    "<div class=\"alert alert-info\">\n",
    "<b>Комментарий студента:</b>\n",
    "    <br> \n",
    "    Эх, и правда мое упущение. Попробую что-то придумать, но страшно, что все посыпется вдребезги.</div>"
   ]
  },
  {
   "cell_type": "code",
   "execution_count": 90,
   "metadata": {},
   "outputs": [
    {
     "data": {
      "text/html": [
       "<div>\n",
       "<style scoped>\n",
       "    .dataframe tbody tr th:only-of-type {\n",
       "        vertical-align: middle;\n",
       "    }\n",
       "\n",
       "    .dataframe tbody tr th {\n",
       "        vertical-align: top;\n",
       "    }\n",
       "\n",
       "    .dataframe thead th {\n",
       "        text-align: right;\n",
       "    }\n",
       "</style>\n",
       "<table border=\"1\" class=\"dataframe\">\n",
       "  <thead>\n",
       "    <tr style=\"text-align: right;\">\n",
       "      <th></th>\n",
       "      <th>rating</th>\n",
       "      <th>na_sales</th>\n",
       "      <th>eu_sales</th>\n",
       "      <th>jp_sales</th>\n",
       "    </tr>\n",
       "  </thead>\n",
       "  <tbody>\n",
       "    <tr>\n",
       "      <th>0</th>\n",
       "      <td>E</td>\n",
       "      <td>170.17</td>\n",
       "      <td>141.73</td>\n",
       "      <td>36.68</td>\n",
       "    </tr>\n",
       "    <tr>\n",
       "      <th>1</th>\n",
       "      <td>E10+</td>\n",
       "      <td>117.72</td>\n",
       "      <td>78.00</td>\n",
       "      <td>11.23</td>\n",
       "    </tr>\n",
       "    <tr>\n",
       "      <th>2</th>\n",
       "      <td>EC</td>\n",
       "      <td>0.42</td>\n",
       "      <td>0.00</td>\n",
       "      <td>0.00</td>\n",
       "    </tr>\n",
       "    <tr>\n",
       "      <th>3</th>\n",
       "      <td>M</td>\n",
       "      <td>308.45</td>\n",
       "      <td>250.26</td>\n",
       "      <td>26.14</td>\n",
       "    </tr>\n",
       "    <tr>\n",
       "      <th>4</th>\n",
       "      <td>RP</td>\n",
       "      <td>0.00</td>\n",
       "      <td>0.03</td>\n",
       "      <td>0.00</td>\n",
       "    </tr>\n",
       "    <tr>\n",
       "      <th>5</th>\n",
       "      <td>T</td>\n",
       "      <td>109.31</td>\n",
       "      <td>83.16</td>\n",
       "      <td>33.39</td>\n",
       "    </tr>\n",
       "  </tbody>\n",
       "</table>\n",
       "</div>"
      ],
      "text/plain": [
       "  rating  na_sales  eu_sales  jp_sales\n",
       "0      E    170.17    141.73     36.68\n",
       "1   E10+    117.72     78.00     11.23\n",
       "2     EC      0.42      0.00      0.00\n",
       "3      M    308.45    250.26     26.14\n",
       "4     RP      0.00      0.03      0.00\n",
       "5      T    109.31     83.16     33.39"
      ]
     },
     "execution_count": 90,
     "metadata": {},
     "output_type": "execute_result"
    }
   ],
   "source": [
    "region_rating_sales = na_rating_sales.merge(eu_rating_sales, on=['rating'], how='outer')\n",
    "region_rating_sales = region_rating_sales.merge(jp_rating_sales, on=['rating'], how='outer')\n",
    "region_rating_sales.drop(['na_ratio', 'eu_ratio', 'jp_ratio'], axis='columns', inplace=True)\n",
    "region_rating_sales.sort_values(by='rating').reset_index(drop=True)"
   ]
  },
  {
   "cell_type": "markdown",
   "metadata": {},
   "source": [
    "<div class=\"alert alert-info\">\n",
    "<b>Комментарий студента:</b>\n",
    "    <br>Попробую заменить пропуски в рейтинге ESRB пометкой tbd\n",
    "</div>"
   ]
  },
  {
   "cell_type": "code",
   "execution_count": 91,
   "metadata": {},
   "outputs": [
    {
     "data": {
      "text/html": [
       "<div>\n",
       "<style scoped>\n",
       "    .dataframe tbody tr th:only-of-type {\n",
       "        vertical-align: middle;\n",
       "    }\n",
       "\n",
       "    .dataframe tbody tr th {\n",
       "        vertical-align: top;\n",
       "    }\n",
       "\n",
       "    .dataframe thead th {\n",
       "        text-align: right;\n",
       "    }\n",
       "</style>\n",
       "<table border=\"1\" class=\"dataframe\">\n",
       "  <thead>\n",
       "    <tr style=\"text-align: right;\">\n",
       "      <th></th>\n",
       "      <th>rating</th>\n",
       "      <th>na_sales</th>\n",
       "      <th>eu_sales</th>\n",
       "      <th>jp_sales</th>\n",
       "    </tr>\n",
       "  </thead>\n",
       "  <tbody>\n",
       "    <tr>\n",
       "      <th>0</th>\n",
       "      <td>M</td>\n",
       "      <td>308.45</td>\n",
       "      <td>250.26</td>\n",
       "      <td>26.14</td>\n",
       "    </tr>\n",
       "    <tr>\n",
       "      <th>1</th>\n",
       "      <td>E</td>\n",
       "      <td>170.17</td>\n",
       "      <td>141.73</td>\n",
       "      <td>36.68</td>\n",
       "    </tr>\n",
       "    <tr>\n",
       "      <th>2</th>\n",
       "      <td>E10+</td>\n",
       "      <td>117.72</td>\n",
       "      <td>78.00</td>\n",
       "      <td>11.23</td>\n",
       "    </tr>\n",
       "    <tr>\n",
       "      <th>3</th>\n",
       "      <td>T</td>\n",
       "      <td>109.31</td>\n",
       "      <td>83.16</td>\n",
       "      <td>33.39</td>\n",
       "    </tr>\n",
       "    <tr>\n",
       "      <th>4</th>\n",
       "      <td>EC</td>\n",
       "      <td>0.42</td>\n",
       "      <td>0.00</td>\n",
       "      <td>0.00</td>\n",
       "    </tr>\n",
       "    <tr>\n",
       "      <th>5</th>\n",
       "      <td>RP</td>\n",
       "      <td>0.00</td>\n",
       "      <td>0.03</td>\n",
       "      <td>0.00</td>\n",
       "    </tr>\n",
       "  </tbody>\n",
       "</table>\n",
       "</div>"
      ],
      "text/plain": [
       "  rating  na_sales  eu_sales  jp_sales\n",
       "0      M    308.45    250.26     26.14\n",
       "1      E    170.17    141.73     36.68\n",
       "2   E10+    117.72     78.00     11.23\n",
       "3      T    109.31     83.16     33.39\n",
       "4     EC      0.42      0.00      0.00\n",
       "5     RP      0.00      0.03      0.00"
      ]
     },
     "execution_count": 91,
     "metadata": {},
     "output_type": "execute_result"
    }
   ],
   "source": [
    "region_rating_sales['rating'] = region_rating_sales['rating'].fillna('tbd')\n",
    "region_rating_sales"
   ]
  },
  {
   "cell_type": "markdown",
   "metadata": {},
   "source": [
    "<div class=\"alert alert-info\">\n",
    "<b>Комментарий студента:</b>\n",
    "    <br> При учете игр с пропущенным рейтингом продажи в западном регионе возглавили игры для взрослых, затем игры для всех, для детей старше 10 лет и подростков. В Европе практически та же картина, но игры для подростков продаются лучше игр для детей старше 10 лет. В Японии остается та же картина: игры для всех в топе, затем для подростков и взрослых.\n",
    "</div>"
   ]
  },
  {
   "cell_type": "markdown",
   "metadata": {},
   "source": [
    "<div class=\"alert alert-success\">\n",
    "    <b>✔️ Комментарий ревьюера v2:</b> \n",
    "    \n",
    "Да, супер, теперь все верно)\n",
    "</div>"
   ]
  },
  {
   "cell_type": "markdown",
   "metadata": {},
   "source": [
    "<b>ВЫВОДЫ</b>\n",
    "\n",
    "<b>Популярность</b>\n",
    "В Северной Америке наиболее популярны игры на платформе XBox360, эта платформа также популярна в Европе, но совсем не представлена в Японии. В Европе самыми популярными являются игры на Playstation3, которая также популярна в Северной Америке и в Японии. В Японии наиболее продаваемыми являются игры на платформе DS, которая при этом менее популярна в Северной Америке и Европе. Во всех регионах довольно популярны игры на платформе Wii. Также есть платформы, завоевавшие популярность на отдельных рынках: Playstation2 в Северной Америке, Playstation4 в Европе, 3DS и PlaystationPortable в Японии.\n",
    "\n",
    "<b>Перспективы</b>\n",
    "По перспективным платформам в регионах на 2017 год можно выстроить следующие предположения: \n",
    "* в Северной Америке и Европе наиболее популярна Playstation4 (4% от продаж и 8% от продаж соответственно)\n",
    "* в Японии гиперпопулярной является 3DS (18%), в других регионах ее положение можно назвать в разряде перспективных (3% в Северной Америке и 4% в Европе)\n",
    "* XBoxOne популярна и в Северной Америке, и в Европе, однако практически не представлена в Японии.\n",
    "\n",
    "<b>Жанры</b>\n",
    "Экшн равнозначно популярен во всех трех регионах. Бросается в глаза гиперпопулярность ролевого жанра в Японии, при этом шутеры, так популярные в Европе и Северной Америке, совсем здесь не представлены. Обращает на себя внимание категория \"Прочее\" (Misc), довольно ровно популярная во всех регионах за счет разнообразия жанрового контента для любой аудитории. И локальная популярность гоночного жанра в Европе и жанра \"Platform\" для Японии. Различия в предпочтениях разных регионов могут быть связаны не только с представленностью платформ, но и с культурными различиями в разных частях света. Западная культура Европы и Северной Америки все-таки сближает их предпочтения по жанрам и довольно сильно отличает от восточной уникальности Японии.\n",
    "\n",
    "<b>Рейтинг ESRB</b>\n",
    "В Северной Америке и Европе схожая структура продаж по рейтингу игр: игры для всех, для взрослых и для подростков в топе. В Японии предпочтения отличаются: подростковые игры более популярны, чем игры для взрослых. На игры для детей младшего возраста нет спроса ни в одном регионе."
   ]
  },
  {
   "cell_type": "markdown",
   "metadata": {},
   "source": [
    "<div class=\"alert alert-success\">\n",
    "    <b>✔️ Комментарий ревьюера:</b> \n",
    "    \n",
    "Точно так же, как и выше, блок изучен абсолютно верно, молодец!\n",
    "</div>"
   ]
  },
  {
   "cell_type": "markdown",
   "metadata": {},
   "source": [
    "<div class=\"alert alert-warning\">\n",
    "    <b>⚠️ Комментарий ревьюера:</b> \n",
    "    \n",
    "Разве что, я мог бы порекомендовать растягивать график там, где названия не умещаются по дефолту 😉\n",
    "</div>"
   ]
  },
  {
   "cell_type": "markdown",
   "metadata": {},
   "source": [
    "## Проверка гипотез"
   ]
  },
  {
   "cell_type": "markdown",
   "metadata": {},
   "source": [
    "В этом разделе проверим следующие гипотезы:\n",
    "* Средние пользовательские рейтинги платформ Xbox One и PC одинаковые;\n",
    "* Средние пользовательские рейтинги жанров Action (англ. «действие», экшен-игры) и Sports (англ. «спортивные соревнования») разные."
   ]
  },
  {
   "cell_type": "markdown",
   "metadata": {},
   "source": [
    "### Гипотеза о равенстве средних пользовательских рейтингов платформ Xbox One и PC"
   ]
  },
  {
   "cell_type": "markdown",
   "metadata": {},
   "source": [
    "Проанализируем две генеральные совокупности: рейтинг пользователей игр на платформе XBoxOne (xboxone_games) и PC (pc_games)."
   ]
  },
  {
   "cell_type": "code",
   "execution_count": 92,
   "metadata": {},
   "outputs": [],
   "source": [
    "xboxone_games = games_actual.loc[(games_actual['user_score'].isna()!=True) & (games_actual['platform'] == \"XOne\")]\n",
    "pc_games = games_actual.loc[(games_actual['user_score'].isna()!=True) & (games_actual['platform'] == \"PC\")]"
   ]
  },
  {
   "cell_type": "markdown",
   "metadata": {},
   "source": [
    "Прежде чем формулировать или проверять статистические гипотезы, удостоверимся, что сравниваемые наборы имеют нормальное распределение."
   ]
  },
  {
   "cell_type": "code",
   "execution_count": 93,
   "metadata": {},
   "outputs": [
    {
     "name": "stderr",
     "output_type": "stream",
     "text": [
      "/opt/conda/lib/python3.9/site-packages/seaborn/distributions.py:2557: FutureWarning: `distplot` is a deprecated function and will be removed in a future version. Please adapt your code to use either `displot` (a figure-level function with similar flexibility) or `histplot` (an axes-level function for histograms).\n",
      "  warnings.warn(msg, FutureWarning)\n",
      "/opt/conda/lib/python3.9/site-packages/seaborn/distributions.py:2557: FutureWarning: `distplot` is a deprecated function and will be removed in a future version. Please adapt your code to use either `displot` (a figure-level function with similar flexibility) or `histplot` (an axes-level function for histograms).\n",
      "  warnings.warn(msg, FutureWarning)\n"
     ]
    },
    {
     "data": {
      "image/png": "[encoded data removed]",
      "text/plain": [
       "<Figure size 432x288 with 1 Axes>"
      ]
     },
     "metadata": {
      "needs_background": "light"
     },
     "output_type": "display_data"
    }
   ],
   "source": [
    "fig = plt.figure()\n",
    "plt.xlabel('xlabel')\n",
    "plt.ylabel('Распределение')\n",
    "plt.title('Сопоставление распределения по рейтингам')\n",
    "sns.distplot(xboxone_games['user_score'], label='XOne')\n",
    "sns.distplot(pc_games['user_score'], label='PC')\n",
    "plt.legend()\n",
    "plt.show()"
   ]
  },
  {
   "cell_type": "markdown",
   "metadata": {},
   "source": [
    "Данные распределены нормально, хоть и с отрицательной скошенностью набора данных.\n",
    "\n",
    "Нулевая гипотеза <b>H0</b>: Средние двух генеральных совокупностей равны между собой.\n",
    "\n",
    "Альтернативная гипотеза <b>H1</b>: Средние двух генеральных совокупностей не равны между собой.\n",
    "\n",
    "Несмотря на то, что xboxone_games и pc_games - это не совсем генеральные совокупности, а скорее выборки, согласно центральной предельной теореме, выборочные средние распределены нормально вокруг истинного среднего генеральной совокупности. Введём уровень значимости, определяющий близость к среднему значению: 5%.\n",
    "\n",
    "Выборки являются независимыми. Дисперсия каждой выборки должна быть оценена по датасету каждой из выборок, а не по их объединению."
   ]
  },
  {
   "cell_type": "code",
   "execution_count": 94,
   "metadata": {},
   "outputs": [
    {
     "name": "stdout",
     "output_type": "stream",
     "text": [
      "p-значение: 0.6130712247638477\n",
      "Не получилось отвергнуть нулевую гипотезу.\n"
     ]
    }
   ],
   "source": [
    "# Проверим гипотезы через распределение t-Стьюдента\n",
    "sample_1 = xboxone_games['user_score']\n",
    "sample_2 = pc_games['user_score']\n",
    "\n",
    "alpha = .05\n",
    "\n",
    "results = st.ttest_ind(sample_1, sample_2, equal_var=False)\n",
    "print('p-значение:', results.pvalue)\n",
    "\n",
    "if results.pvalue < alpha:\n",
    "    print('Отвергаем нулевую гипотезу.')\n",
    "else:\n",
    "    print('Не получилось отвергнуть нулевую гипотезу.')"
   ]
  },
  {
   "cell_type": "markdown",
   "metadata": {},
   "source": [
    "<b>Результат</b>: p-значение оказалось меньше уровня значимости в 5%. Соответственно, мы отвергли нулевую гипотезу и приняли альтернативную гипотезу, что средние двух генеральных совокупностей не равны между собой.\n",
    "\n",
    "<b>Вывод</b>: средние пользовательские рейтинги платформ Xbox One и PC различаются."
   ]
  },
  {
   "cell_type": "markdown",
   "metadata": {},
   "source": [
    "<div class=\"alert alert-success\">\n",
    "    <b>✔️ Комментарий ревьюера:</b> \n",
    "    \n",
    "Первая гипотеза сформулирована и проверена правильно!\n",
    "</div>"
   ]
  },
  {
   "cell_type": "markdown",
   "metadata": {},
   "source": [
    "### Гипотеза о различии средних пользовательских рейтингов жанров Action и Sports"
   ]
  },
  {
   "cell_type": "markdown",
   "metadata": {},
   "source": [
    "Проанализируем две генеральные совокупности: рейтинг пользователей игр в жанре Action (action_games) и Sports (sports_games)."
   ]
  },
  {
   "cell_type": "code",
   "execution_count": 95,
   "metadata": {},
   "outputs": [],
   "source": [
    "action_games = games_actual.loc[(games_actual['user_score'].isna()!=True) & (games_actual['genre'] == \"Action\")]\n",
    "sports_games = games_actual.loc[(games_actual['user_score'].isna()!=True) & (games_actual['genre'] == \"Sports\")]"
   ]
  },
  {
   "cell_type": "markdown",
   "metadata": {},
   "source": [
    "Проверим, чтобы сравниваемые наборы имели нормальное распределение."
   ]
  },
  {
   "cell_type": "code",
   "execution_count": 96,
   "metadata": {
    "scrolled": false
   },
   "outputs": [
    {
     "name": "stderr",
     "output_type": "stream",
     "text": [
      "/opt/conda/lib/python3.9/site-packages/seaborn/distributions.py:2557: FutureWarning: `distplot` is a deprecated function and will be removed in a future version. Please adapt your code to use either `displot` (a figure-level function with similar flexibility) or `histplot` (an axes-level function for histograms).\n",
      "  warnings.warn(msg, FutureWarning)\n",
      "/opt/conda/lib/python3.9/site-packages/seaborn/distributions.py:2557: FutureWarning: `distplot` is a deprecated function and will be removed in a future version. Please adapt your code to use either `displot` (a figure-level function with similar flexibility) or `histplot` (an axes-level function for histograms).\n",
      "  warnings.warn(msg, FutureWarning)\n"
     ]
    },
    {
     "data": {
      "image/png": "[encoded data removed]",
      "text/plain": [
       "<Figure size 432x288 with 1 Axes>"
      ]
     },
     "metadata": {
      "needs_background": "light"
     },
     "output_type": "display_data"
    }
   ],
   "source": [
    "fig = plt.figure()\n",
    "plt.xlabel('xlabel')\n",
    "plt.ylabel('Распределение')\n",
    "plt.title('Сопоставление распределения по рейтингам')\n",
    "sns.distplot(action_games['user_score'], label='Action')\n",
    "sns.distplot(sports_games['user_score'], label='Sports')\n",
    "plt.legend()\n",
    "plt.show()"
   ]
  },
  {
   "cell_type": "markdown",
   "metadata": {},
   "source": [
    "Наборы данных скошены влево, при этом имеют нормальное распределение.\n",
    "\n",
    "Нулевая гипотеза  <b>H0</b>: Средние двух генеральных совокупностей равны между собой.\n",
    "\n",
    "Альтернативная гипотеза <b>H1</b>: Средние двух генераальных совокупностей не равны между собой.\n",
    "\n",
    "Несмотря на то, что action_games и sports_games - это не совсем генеральные совокупности, а скорее выборки, согласно центральной предельной теореме, выборочные средние распределены нормально вокруг истинного среднего генеральной совокупности. Введём уровень значимости, определяющий близость к среднему значению: 5%.\n",
    "\n",
    "Выборки являются независимыми. Дисперсия каждой выборки должна быть оценена по датасету каждой из выборок, а не по их объединению."
   ]
  },
  {
   "cell_type": "code",
   "execution_count": 97,
   "metadata": {},
   "outputs": [
    {
     "name": "stdout",
     "output_type": "stream",
     "text": [
      "p-значение: 8.285648549432565e-19\n",
      "Отвергаем нулевую гипотезу.\n"
     ]
    }
   ],
   "source": [
    "# Проверим гипотезы через распределение t-Стьюдента.\n",
    "sample_1 = action_games['user_score']\n",
    "sample_2 = sports_games['user_score']\n",
    "\n",
    "alpha = .05\n",
    "\n",
    "results = st.ttest_ind(sample_1, sample_2, equal_var=False)\n",
    "print('p-значение:', results.pvalue)\n",
    "\n",
    "if results.pvalue < alpha:\n",
    "    print('Отвергаем нулевую гипотезу.')\n",
    "else:\n",
    "    print('Не получилось отвергнуть нулевую гипотезу.')"
   ]
  },
  {
   "cell_type": "markdown",
   "metadata": {},
   "source": [
    "<b>Результат</b>: p-значение оказалось меньше уровня значимости в 5%. Соответственно, мы отвергли нулевую гипотезу и приняли альтернативную гипотезу, что средние двух генеральных совокупностей не равны между собой.\n",
    "\n",
    "<b>Вывод</b>: Cредние пользовательские рейтинги жанров Action и Sports различаются.\n",
    "\n",
    "Итак, были проведены t-тесты проверки двусторонних гипотез для двух независимых выборок. В результате было выявлено, что средние пользовательские рейтинги платформ Xbox One и PC различаются, как и средние пользовательские рейтинги жанров Action и Sports."
   ]
  },
  {
   "cell_type": "markdown",
   "metadata": {},
   "source": [
    "<div class=\"alert alert-success\">\n",
    "    <b>✔️ Комментарий ревьюера:</b> \n",
    "    \n",
    "Вторая гипотеза так же сформулирована и проверена верно 👍\n",
    "</div>"
   ]
  },
  {
   "cell_type": "markdown",
   "metadata": {},
   "source": [
    "## Общий вывод"
   ]
  },
  {
   "cell_type": "markdown",
   "metadata": {},
   "source": [
    "Для интернет-магазина «Стримчик» проведено исследование рынка компьютерных игр в разных регионах мира за период с 1994 по 2016 год с целью выявления перспектив на 2017 год. \n",
    "\n",
    "После предобработки данных (восстановления пропущенных значений и исключения выбросов) исследовательский анализ показал динамику смены популярности платформ в регионах Северной Америки, Европы и Японии. Примерный срок, за который устаревает платформа, составляет около 8-10 лет.\n",
    "\n",
    "На основе анализа продаж можно сделать прогноз, что потенциально прибыльными в 2017 году могут быть платформы: \n",
    "* 3DS, которая уже несколько лет популярна у пользователей\n",
    "* Playstation4, только набирающая обороты и приносящая самый высокий доход от продаж\n",
    "* PlaystationVita не самая популярная, но потенциально успешная в ближайшие 2-3 года \n",
    "* WiiU как преемница популярной в свое время Wii\n",
    "* XBoxOne как потенциальный конкурент Playstation4. \n",
    "\n",
    "Также выявлено отсутствие сильной или явной связи между оценкой игры и совокупными продажами, то есть можно сделать вывод, что на продажи игр влияют некие иные факторы.\n",
    "\n",
    "Анализ продаж по жанрам показывает прибыльность жанра экшн - за счет продаж отдельных особо успешных и дорогих игр. На втором месте по доходности за анализируемый актуальный период находится спортивный жанр, для него также характерна похожая ситуация. Следущим по прибыльности стал жанр шутеров. Это оказался в среднем самым доходным сегментом игр: средний и медианный уровни продаж этого жанра выше значений по любому другому жанру, а значит, это перспективное направление для продажи. Самыми низкоприбыльными оказались жанры стратегии, паззлов и приключений, причем последний явно не подает надежды на успешность.\n",
    "\n",
    "Составлен портрет пользователя в каждом регионе. По перспективным для 2017 года платформам по регионам наблюдается следующее:\n",
    "* в Северной Америке и Европе наиболее популярна Playstation4 \n",
    "* в Японии самой популярной является 3DS, которая в других регионах занимет второе место из перспективных \n",
    "* в Северной Америке и Европе также популярна платформа XBoxOne, однако игры на которой не продаются в Японии.\n",
    "\n",
    "В западных регионах Северной Америки и Европы наблюдаются различия от Японии в предпочтении игровых жанров. Например, популярные на западе шутеры совсем не пользуются интересом в Японии. При этом в Японии очень популярны ролевые игры, совсем не представленные на Западе. Такие же различия заметны по рейтингу игр ESRB: в Японии, в отличие от Северной Америки и Европы, более популярны подростковые игры, нежели игры для взрослых.\n",
    "\n",
    "В заключение анализа были проверены две гипотезы. По t-тестам было выявлено, что средние пользовательские рейтинги платформ Xbox One и PC различаются, а также средние пользовательские рейтинги жанров Action и Sports различаются.\n",
    "\n",
    "<b>СПРАВКА ДЛЯ ИНТЕРНЕТ-МАГАЗИНА \"СТРИМЧИК\"</b>\n",
    "\n",
    "* При планировании продаж не базироваться на оценки пользователей и критиков\n",
    "* Иметь в виду, что срок устаревания платформы в среднем составляет 8-10 лет, то есть следует полагаться на молодые платформы возрастом до 6 лет\n",
    "* Следует учитывать региональные предпочтения по платформам и жанрам: на Западе основной фокус платформам Playstation4 и XBoxOne с акцентом на жанрах экшн и шутер, в Японии ориентироваться на платформу 3DS с опорой на ролевой жанр игр\n",
    "* По рейтингу ESRB стоит придерживаться консервативного подхода при выпуске игр: E - для всех, M - для взрослых, T - для подростков. Стоит изучить демографические показатели, чтобы рассмотреть возможность развития игр для детей старшего и младшего возраста, которые пока не сильно представлены (не пользуются спросом)."
   ]
  },
  {
   "cell_type": "markdown",
   "metadata": {},
   "source": [
    "<div class=\"alert alert-success\">\n",
    "    <b>✔️ Комментарий ревьюера:</b> \n",
    "    \n",
    "Вывод написан потрясающе! Содержит:\n",
    "    \n",
    "* Все необходимые результаты анализов\n",
    "* Полные и подробные комментари\n",
    "* Рекомендации на будущее\n",
    "    \n",
    "Так держать 👍\n",
    "</div>"
   ]
  },
  {
   "cell_type": "markdown",
   "metadata": {},
   "source": [
    "<div class=\"alert alert-success\">\n",
    "    <b>Общий вывод:</b> \n",
    "    \n",
    "Анна, поздравляю, ты справилась с большим и весьма непростым исследованием, молодец! Мне безумно понравилось проверять твой проект: \n",
    "\n",
    "* Хороший код\n",
    "* Умение структурировать информации\n",
    "* Твои выводы, все четко и по делу\n",
    "* Классные визуализации\n",
    "    \n",
    "Ознакомься с моими комментариями и рекомендациями, чтобы мы могли вместе обсудить твои вопросы) \n",
    "    \n",
    "Если их не будет, то я с большой радостью приму твой проект в следующей итерации! 🙂\n",
    "\n",
    "Успехов!\n",
    "</div>"
   ]
  },
  {
   "cell_type": "markdown",
   "metadata": {},
   "source": [
    "<div class=\"alert alert-info\">\n",
    "<b>Комментарий студента:</b>\n",
    "    <br> Миша, спасибо за стремительное и такое деликатное, заботливое ревью. Очень неловко все делать впопыхах, неосмысленно, но у меня такие нарастающие отставания по всем личным, рабочим и учебным делам, что хоть что-то хочется сгоряча доделать. Готова на правки, паузу на осмысление, но надеюсь совсем не отстать от когорты и хоть что-то доделать в разумном режиме. Наитеплейшие приветы и большое спасибо за помощь и поддержку.\n",
    "</div>"
   ]
  },
  {
   "cell_type": "markdown",
   "metadata": {},
   "source": [
    "<div class=\"alert alert-success\">\n",
    "    <b>Общий вывод v2:</b> \n",
    "    \n",
    "Анна, большое спасибо за ценную обратную связь. Я вижу твое большое стремление к работе, поэтому очень хочу, чтобы мы смогли вместе разобраться в этом проекте и двигаться дальше!\n",
    "    \n",
    "Ознакомься с моими новыми комментариями с пометкой **v2**. Я уверен, что для тебя не составит труда подредактировать свой код, чтобы получить верный ответ) \n",
    "    \n",
    "Также хочу напомнить, что ты можешь спросить меня о чем угодно, ведь моя задача помочь тебе стать лучшим аналитиком данных!\n",
    "    \n",
    "Если вопросов не будет, то я уверен, что твой проект будет готов к следующей проверке, и ты сможешь двигаться дальше! 🙂\n",
    "\n",
    "С пожеланием успехов, Миша!\n",
    "</div>"
   ]
  },
  {
   "cell_type": "markdown",
   "metadata": {},
   "source": [
    "<div class=\"alert alert-info\">\n",
    "<b>Комментарий студента v2:</b>\n",
    "    <br> \n",
    "Миша, спасибо за поддержку и подсказки. Неловко за эмоциональный фон моей предыдущей ревизии: в очередной раз потеряла душевный покой и хладнокровие для здравого, поступательного решения вопросов. Надеюсь сохранять благоразумие и спокойствие на пути к цели.\n",
    "</div>"
   ]
  },
  {
   "cell_type": "markdown",
   "metadata": {},
   "source": [
    "<div class=\"alert alert-success\">\n",
    "    <b>Общий вывод v3:</b> \n",
    "    \n",
    "Анна, не вижу смысла так переживать :) \n",
    "    \n",
    "Яндекс.Практикум тем и отличается, что у тебя нет никакой спешки - если ты понимаешь, что тебе требуется больше времени для изучения материала, то ты всегда можешь сделать \"паузу\" и посвятить столько времени разбору материала, сколько тебе необходимо. Здесь не ставят плохие оценки, потому что наша главная задача помочь студентам самостоятельно разобраться в теме и как видишь, у тебя прекрасно получилось исправить свою работу!\n",
    "    \n",
    "Я считаю, что твоя работа теперь выполнена чудесно и готова к тому, чтобы ты могла двигаться дальше! \n",
    "    \n",
    "Ознакомься пожалуйста с моими дополнениями с комментарием **v3**, там есть пара полезных советов :)\n",
    "\n",
    "Анна, все будет хорошо, ты обязательно справишься и успешно закончишь начатое дело, ведь оно того стоит! Успехов, Миша!\n",
    "</div>"
   ]
  }
 ],
 "metadata": {
  "ExecuteTimeLog": [
   {
    "duration": 4,
    "start_time": "2022-04-11T06:34:48.544Z"
   },
   {
    "duration": 1497,
    "start_time": "2022-04-11T06:36:02.484Z"
   },
   {
    "duration": 7,
    "start_time": "2022-04-11T06:36:05.874Z"
   },
   {
    "duration": 193,
    "start_time": "2022-04-11T06:38:14.614Z"
   },
   {
    "duration": 170,
    "start_time": "2022-04-11T06:38:42.140Z"
   },
   {
    "duration": 29,
    "start_time": "2022-04-11T06:39:16.606Z"
   },
   {
    "duration": 117,
    "start_time": "2022-04-11T06:39:37.886Z"
   },
   {
    "duration": 2,
    "start_time": "2022-04-11T06:40:58.698Z"
   },
   {
    "duration": 9,
    "start_time": "2022-04-11T06:41:18.048Z"
   },
   {
    "duration": 1982,
    "start_time": "2022-04-11T06:50:53.493Z"
   },
   {
    "duration": 1185,
    "start_time": "2022-04-11T06:51:33.884Z"
   },
   {
    "duration": 208,
    "start_time": "2022-04-11T06:51:35.071Z"
   },
   {
    "duration": 29,
    "start_time": "2022-04-11T06:51:35.280Z"
   },
   {
    "duration": 6,
    "start_time": "2022-04-11T06:51:35.312Z"
   },
   {
    "duration": 17,
    "start_time": "2022-04-11T06:51:35.340Z"
   },
   {
    "duration": 1287,
    "start_time": "2022-04-11T06:52:50.491Z"
   },
   {
    "duration": 138,
    "start_time": "2022-04-11T06:52:51.781Z"
   },
   {
    "duration": 33,
    "start_time": "2022-04-11T06:52:51.921Z"
   },
   {
    "duration": 7,
    "start_time": "2022-04-11T06:52:51.957Z"
   },
   {
    "duration": 15,
    "start_time": "2022-04-11T06:52:51.967Z"
   },
   {
    "duration": 6,
    "start_time": "2022-04-11T06:52:51.984Z"
   },
   {
    "duration": 5,
    "start_time": "2022-04-11T06:53:52.051Z"
   },
   {
    "duration": 17,
    "start_time": "2022-04-11T06:54:54.432Z"
   },
   {
    "duration": 16,
    "start_time": "2022-04-11T06:56:23.651Z"
   },
   {
    "duration": 8,
    "start_time": "2022-04-11T07:01:52.254Z"
   },
   {
    "duration": 7,
    "start_time": "2022-04-11T07:02:31.471Z"
   },
   {
    "duration": 16,
    "start_time": "2022-04-11T07:02:33.620Z"
   },
   {
    "duration": 12,
    "start_time": "2022-04-11T07:03:35.475Z"
   },
   {
    "duration": 13,
    "start_time": "2022-04-11T07:10:01.687Z"
   },
   {
    "duration": 7,
    "start_time": "2022-04-11T07:13:27.853Z"
   },
   {
    "duration": 6,
    "start_time": "2022-04-11T07:15:30.019Z"
   },
   {
    "duration": 123,
    "start_time": "2022-04-11T07:26:32.561Z"
   },
   {
    "duration": 3,
    "start_time": "2022-04-11T07:28:35.285Z"
   },
   {
    "duration": 11,
    "start_time": "2022-04-11T07:29:05.379Z"
   },
   {
    "duration": 18,
    "start_time": "2022-04-11T07:31:46.968Z"
   },
   {
    "duration": 9,
    "start_time": "2022-04-11T07:32:12.447Z"
   },
   {
    "duration": 8,
    "start_time": "2022-04-11T07:33:40.167Z"
   },
   {
    "duration": 20,
    "start_time": "2022-04-11T07:34:41.957Z"
   },
   {
    "duration": 7,
    "start_time": "2022-04-11T07:42:54.252Z"
   },
   {
    "duration": 1934,
    "start_time": "2022-04-11T07:44:18.532Z"
   },
   {
    "duration": 114,
    "start_time": "2022-04-11T07:45:06.689Z"
   },
   {
    "duration": 108,
    "start_time": "2022-04-11T07:45:17.292Z"
   },
   {
    "duration": 18,
    "start_time": "2022-04-11T07:45:22.006Z"
   },
   {
    "duration": 6,
    "start_time": "2022-04-11T07:45:55.207Z"
   },
   {
    "duration": 18,
    "start_time": "2022-04-11T07:47:58.569Z"
   },
   {
    "duration": 23,
    "start_time": "2022-04-11T07:48:33.608Z"
   },
   {
    "duration": 17,
    "start_time": "2022-04-11T07:48:53.855Z"
   },
   {
    "duration": 7,
    "start_time": "2022-04-11T07:49:17.269Z"
   },
   {
    "duration": 482,
    "start_time": "2022-04-11T07:50:44.168Z"
   },
   {
    "duration": 7,
    "start_time": "2022-04-11T07:51:31.861Z"
   },
   {
    "duration": 5,
    "start_time": "2022-04-11T07:51:35.993Z"
   },
   {
    "duration": 10,
    "start_time": "2022-04-11T07:52:05.076Z"
   },
   {
    "duration": 1306,
    "start_time": "2022-04-11T07:52:31.358Z"
   },
   {
    "duration": 224,
    "start_time": "2022-04-11T07:52:32.666Z"
   },
   {
    "duration": 30,
    "start_time": "2022-04-11T07:52:32.892Z"
   },
   {
    "duration": 16,
    "start_time": "2022-04-11T07:52:32.924Z"
   },
   {
    "duration": 22,
    "start_time": "2022-04-11T07:52:32.942Z"
   },
   {
    "duration": 23,
    "start_time": "2022-04-11T07:52:32.966Z"
   },
   {
    "duration": 18,
    "start_time": "2022-04-11T07:52:32.991Z"
   },
   {
    "duration": 19,
    "start_time": "2022-04-11T07:52:33.011Z"
   },
   {
    "duration": 11,
    "start_time": "2022-04-11T07:52:33.031Z"
   },
   {
    "duration": 25,
    "start_time": "2022-04-11T07:52:33.046Z"
   },
   {
    "duration": 18,
    "start_time": "2022-04-11T07:52:33.073Z"
   },
   {
    "duration": 11,
    "start_time": "2022-04-11T07:52:33.093Z"
   },
   {
    "duration": 17,
    "start_time": "2022-04-11T07:52:33.106Z"
   },
   {
    "duration": 6,
    "start_time": "2022-04-11T07:52:33.125Z"
   },
   {
    "duration": 16,
    "start_time": "2022-04-11T07:52:33.139Z"
   },
   {
    "duration": 22,
    "start_time": "2022-04-11T07:52:33.157Z"
   },
   {
    "duration": 8,
    "start_time": "2022-04-11T07:52:33.181Z"
   },
   {
    "duration": 23,
    "start_time": "2022-04-11T07:52:33.191Z"
   },
   {
    "duration": 25,
    "start_time": "2022-04-11T07:52:33.216Z"
   },
   {
    "duration": 2209,
    "start_time": "2022-04-11T07:52:33.243Z"
   },
   {
    "duration": 19,
    "start_time": "2022-04-11T07:52:35.454Z"
   },
   {
    "duration": 25,
    "start_time": "2022-04-11T07:52:35.475Z"
   },
   {
    "duration": 16,
    "start_time": "2022-04-11T07:52:35.502Z"
   },
   {
    "duration": 18,
    "start_time": "2022-04-11T07:52:35.520Z"
   },
   {
    "duration": 14,
    "start_time": "2022-04-11T07:52:35.540Z"
   },
   {
    "duration": 6,
    "start_time": "2022-04-11T07:54:31.792Z"
   },
   {
    "duration": 5,
    "start_time": "2022-04-11T07:55:48.754Z"
   },
   {
    "duration": 6,
    "start_time": "2022-04-11T07:56:01.111Z"
   },
   {
    "duration": 14,
    "start_time": "2022-04-11T09:37:11.060Z"
   },
   {
    "duration": 14,
    "start_time": "2022-04-11T09:37:33.096Z"
   },
   {
    "duration": 213,
    "start_time": "2022-04-11T09:37:50.267Z"
   },
   {
    "duration": 6,
    "start_time": "2022-04-11T09:39:28.844Z"
   },
   {
    "duration": 13,
    "start_time": "2022-04-11T09:40:08.868Z"
   },
   {
    "duration": 150,
    "start_time": "2022-04-11T09:40:31.480Z"
   },
   {
    "duration": 11,
    "start_time": "2022-04-11T09:41:32.471Z"
   },
   {
    "duration": 16,
    "start_time": "2022-04-11T09:42:29.712Z"
   },
   {
    "duration": 1945,
    "start_time": "2022-04-11T09:44:13.807Z"
   },
   {
    "duration": 19,
    "start_time": "2022-04-11T09:44:48.015Z"
   },
   {
    "duration": 1253,
    "start_time": "2022-04-11T09:46:15.002Z"
   },
   {
    "duration": 154,
    "start_time": "2022-04-11T09:46:16.257Z"
   },
   {
    "duration": 31,
    "start_time": "2022-04-11T09:46:16.412Z"
   },
   {
    "duration": 8,
    "start_time": "2022-04-11T09:46:16.445Z"
   },
   {
    "duration": 12,
    "start_time": "2022-04-11T09:46:16.454Z"
   },
   {
    "duration": 11,
    "start_time": "2022-04-11T09:46:16.468Z"
   },
   {
    "duration": 20,
    "start_time": "2022-04-11T09:46:16.480Z"
   },
   {
    "duration": 16,
    "start_time": "2022-04-11T09:46:16.502Z"
   },
   {
    "duration": 23,
    "start_time": "2022-04-11T09:46:16.520Z"
   },
   {
    "duration": 17,
    "start_time": "2022-04-11T09:46:16.546Z"
   },
   {
    "duration": 12,
    "start_time": "2022-04-11T09:46:16.565Z"
   },
   {
    "duration": 9,
    "start_time": "2022-04-11T09:46:16.579Z"
   },
   {
    "duration": 15,
    "start_time": "2022-04-11T09:46:16.590Z"
   },
   {
    "duration": 34,
    "start_time": "2022-04-11T09:46:16.607Z"
   },
   {
    "duration": 16,
    "start_time": "2022-04-11T09:46:16.643Z"
   },
   {
    "duration": 25,
    "start_time": "2022-04-11T09:46:16.661Z"
   },
   {
    "duration": 7,
    "start_time": "2022-04-11T09:46:16.688Z"
   },
   {
    "duration": 27,
    "start_time": "2022-04-11T09:46:16.697Z"
   },
   {
    "duration": 17,
    "start_time": "2022-04-11T09:46:16.726Z"
   },
   {
    "duration": 2009,
    "start_time": "2022-04-11T09:46:16.744Z"
   },
   {
    "duration": 19,
    "start_time": "2022-04-11T09:46:18.755Z"
   },
   {
    "duration": 18,
    "start_time": "2022-04-11T09:46:18.776Z"
   },
   {
    "duration": 18,
    "start_time": "2022-04-11T09:46:18.795Z"
   },
   {
    "duration": 25,
    "start_time": "2022-04-11T09:46:18.815Z"
   },
   {
    "duration": 6,
    "start_time": "2022-04-11T09:46:18.842Z"
   },
   {
    "duration": 10,
    "start_time": "2022-04-11T09:46:18.850Z"
   },
   {
    "duration": 11,
    "start_time": "2022-04-11T09:46:18.861Z"
   },
   {
    "duration": 20,
    "start_time": "2022-04-11T09:46:18.875Z"
   },
   {
    "duration": 13,
    "start_time": "2022-04-11T09:46:18.897Z"
   },
   {
    "duration": 218,
    "start_time": "2022-04-11T09:46:18.911Z"
   },
   {
    "duration": 6,
    "start_time": "2022-04-11T09:46:19.139Z"
   },
   {
    "duration": 19,
    "start_time": "2022-04-11T09:46:19.147Z"
   },
   {
    "duration": 153,
    "start_time": "2022-04-11T09:46:19.168Z"
   },
   {
    "duration": 20,
    "start_time": "2022-04-11T09:46:19.323Z"
   },
   {
    "duration": 20,
    "start_time": "2022-04-11T09:46:19.345Z"
   },
   {
    "duration": 7,
    "start_time": "2022-04-11T09:46:19.367Z"
   },
   {
    "duration": 136,
    "start_time": "2022-04-11T09:46:19.376Z"
   },
   {
    "duration": 9,
    "start_time": "2022-04-11T09:49:01.861Z"
   },
   {
    "duration": 17,
    "start_time": "2022-04-11T09:50:51.808Z"
   },
   {
    "duration": 2,
    "start_time": "2022-04-11T09:51:23.225Z"
   },
   {
    "duration": 17,
    "start_time": "2022-04-11T09:54:21.505Z"
   },
   {
    "duration": 485,
    "start_time": "2022-04-11T09:54:39.681Z"
   },
   {
    "duration": 490,
    "start_time": "2022-04-11T09:55:25.779Z"
   },
   {
    "duration": 17,
    "start_time": "2022-04-11T09:59:21.620Z"
   },
   {
    "duration": 1200,
    "start_time": "2022-04-11T10:02:57.864Z"
   },
   {
    "duration": 128,
    "start_time": "2022-04-11T10:02:59.066Z"
   },
   {
    "duration": 30,
    "start_time": "2022-04-11T10:02:59.196Z"
   },
   {
    "duration": 12,
    "start_time": "2022-04-11T10:02:59.228Z"
   },
   {
    "duration": 6,
    "start_time": "2022-04-11T10:02:59.241Z"
   },
   {
    "duration": 13,
    "start_time": "2022-04-11T10:02:59.249Z"
   },
   {
    "duration": 18,
    "start_time": "2022-04-11T10:02:59.264Z"
   },
   {
    "duration": 15,
    "start_time": "2022-04-11T10:02:59.283Z"
   },
   {
    "duration": 14,
    "start_time": "2022-04-11T10:02:59.300Z"
   },
   {
    "duration": 34,
    "start_time": "2022-04-11T10:02:59.317Z"
   },
   {
    "duration": 14,
    "start_time": "2022-04-11T10:02:59.353Z"
   },
   {
    "duration": 10,
    "start_time": "2022-04-11T10:02:59.368Z"
   },
   {
    "duration": 17,
    "start_time": "2022-04-11T10:02:59.380Z"
   },
   {
    "duration": 8,
    "start_time": "2022-04-11T10:02:59.399Z"
   },
   {
    "duration": 17,
    "start_time": "2022-04-11T10:02:59.409Z"
   },
   {
    "duration": 17,
    "start_time": "2022-04-11T10:02:59.439Z"
   },
   {
    "duration": 8,
    "start_time": "2022-04-11T10:02:59.458Z"
   },
   {
    "duration": 21,
    "start_time": "2022-04-11T10:02:59.468Z"
   },
   {
    "duration": 7,
    "start_time": "2022-04-11T10:02:59.491Z"
   },
   {
    "duration": 2023,
    "start_time": "2022-04-11T10:02:59.499Z"
   },
   {
    "duration": 33,
    "start_time": "2022-04-11T10:03:01.524Z"
   },
   {
    "duration": 41,
    "start_time": "2022-04-11T10:03:01.559Z"
   },
   {
    "duration": 19,
    "start_time": "2022-04-11T10:03:01.602Z"
   },
   {
    "duration": 20,
    "start_time": "2022-04-11T10:03:01.623Z"
   },
   {
    "duration": 17,
    "start_time": "2022-04-11T10:03:01.645Z"
   },
   {
    "duration": 15,
    "start_time": "2022-04-11T10:03:01.664Z"
   },
   {
    "duration": 22,
    "start_time": "2022-04-11T10:03:01.681Z"
   },
   {
    "duration": 48,
    "start_time": "2022-04-11T10:03:01.707Z"
   },
   {
    "duration": 34,
    "start_time": "2022-04-11T10:03:01.757Z"
   },
   {
    "duration": 215,
    "start_time": "2022-04-11T10:03:01.793Z"
   },
   {
    "duration": 6,
    "start_time": "2022-04-11T10:03:02.010Z"
   },
   {
    "duration": 61,
    "start_time": "2022-04-11T10:03:02.017Z"
   },
   {
    "duration": 159,
    "start_time": "2022-04-11T10:03:02.080Z"
   },
   {
    "duration": 11,
    "start_time": "2022-04-11T10:03:02.241Z"
   },
   {
    "duration": 30,
    "start_time": "2022-04-11T10:03:02.254Z"
   },
   {
    "duration": 17,
    "start_time": "2022-04-11T10:03:02.285Z"
   },
   {
    "duration": 30,
    "start_time": "2022-04-11T10:03:02.304Z"
   },
   {
    "duration": 62,
    "start_time": "2022-04-11T10:03:02.336Z"
   },
   {
    "duration": 4,
    "start_time": "2022-04-11T10:10:28.790Z"
   },
   {
    "duration": 1241,
    "start_time": "2022-04-11T10:11:08.319Z"
   },
   {
    "duration": 199,
    "start_time": "2022-04-11T10:11:09.563Z"
   },
   {
    "duration": 32,
    "start_time": "2022-04-11T10:11:09.764Z"
   },
   {
    "duration": 7,
    "start_time": "2022-04-11T10:11:09.799Z"
   },
   {
    "duration": 32,
    "start_time": "2022-04-11T10:11:09.808Z"
   },
   {
    "duration": 6,
    "start_time": "2022-04-11T10:11:09.842Z"
   },
   {
    "duration": 16,
    "start_time": "2022-04-11T10:11:09.850Z"
   },
   {
    "duration": 19,
    "start_time": "2022-04-11T10:11:09.868Z"
   },
   {
    "duration": 8,
    "start_time": "2022-04-11T10:11:09.890Z"
   },
   {
    "duration": 45,
    "start_time": "2022-04-11T10:11:09.902Z"
   },
   {
    "duration": 13,
    "start_time": "2022-04-11T10:11:09.950Z"
   },
   {
    "duration": 13,
    "start_time": "2022-04-11T10:11:09.965Z"
   },
   {
    "duration": 14,
    "start_time": "2022-04-11T10:11:09.980Z"
   },
   {
    "duration": 6,
    "start_time": "2022-04-11T10:11:09.996Z"
   },
   {
    "duration": 44,
    "start_time": "2022-04-11T10:11:10.004Z"
   },
   {
    "duration": 21,
    "start_time": "2022-04-11T10:11:10.050Z"
   },
   {
    "duration": 8,
    "start_time": "2022-04-11T10:11:10.073Z"
   },
   {
    "duration": 23,
    "start_time": "2022-04-11T10:11:10.083Z"
   },
   {
    "duration": 31,
    "start_time": "2022-04-11T10:11:10.108Z"
   },
   {
    "duration": 2236,
    "start_time": "2022-04-11T10:11:10.141Z"
   },
   {
    "duration": 20,
    "start_time": "2022-04-11T10:11:12.379Z"
   },
   {
    "duration": 39,
    "start_time": "2022-04-11T10:11:12.401Z"
   },
   {
    "duration": 5,
    "start_time": "2022-04-11T10:11:12.443Z"
   },
   {
    "duration": 15,
    "start_time": "2022-04-11T10:11:12.450Z"
   },
   {
    "duration": 8,
    "start_time": "2022-04-11T10:11:12.467Z"
   },
   {
    "duration": 9,
    "start_time": "2022-04-11T10:11:12.477Z"
   },
   {
    "duration": 10,
    "start_time": "2022-04-11T10:11:12.488Z"
   },
   {
    "duration": 9,
    "start_time": "2022-04-11T10:11:12.502Z"
   },
   {
    "duration": 36,
    "start_time": "2022-04-11T10:11:12.513Z"
   },
   {
    "duration": 18,
    "start_time": "2022-04-11T10:11:12.551Z"
   },
   {
    "duration": 199,
    "start_time": "2022-04-11T10:11:12.571Z"
   },
   {
    "duration": 6,
    "start_time": "2022-04-11T10:11:12.772Z"
   },
   {
    "duration": 22,
    "start_time": "2022-04-11T10:11:12.780Z"
   },
   {
    "duration": 162,
    "start_time": "2022-04-11T10:11:12.804Z"
   },
   {
    "duration": 11,
    "start_time": "2022-04-11T10:11:12.967Z"
   },
   {
    "duration": 23,
    "start_time": "2022-04-11T10:11:12.980Z"
   },
   {
    "duration": 3,
    "start_time": "2022-04-11T10:11:13.005Z"
   },
   {
    "duration": 29,
    "start_time": "2022-04-11T10:11:13.010Z"
   },
   {
    "duration": 19,
    "start_time": "2022-04-11T10:11:13.041Z"
   },
   {
    "duration": 4,
    "start_time": "2022-04-11T10:11:54.641Z"
   },
   {
    "duration": 5,
    "start_time": "2022-04-11T10:13:09.934Z"
   },
   {
    "duration": 1663,
    "start_time": "2022-04-11T10:15:18.880Z"
   },
   {
    "duration": 141,
    "start_time": "2022-04-11T10:15:20.546Z"
   },
   {
    "duration": 32,
    "start_time": "2022-04-11T10:15:20.689Z"
   },
   {
    "duration": 17,
    "start_time": "2022-04-11T10:15:20.724Z"
   },
   {
    "duration": 30,
    "start_time": "2022-04-11T10:15:20.743Z"
   },
   {
    "duration": 18,
    "start_time": "2022-04-11T10:15:20.775Z"
   },
   {
    "duration": 28,
    "start_time": "2022-04-11T10:15:20.795Z"
   },
   {
    "duration": 25,
    "start_time": "2022-04-11T10:15:20.825Z"
   },
   {
    "duration": 18,
    "start_time": "2022-04-11T10:15:20.851Z"
   },
   {
    "duration": 35,
    "start_time": "2022-04-11T10:15:20.872Z"
   },
   {
    "duration": 30,
    "start_time": "2022-04-11T10:15:20.909Z"
   },
   {
    "duration": 19,
    "start_time": "2022-04-11T10:15:20.940Z"
   },
   {
    "duration": 26,
    "start_time": "2022-04-11T10:15:20.960Z"
   },
   {
    "duration": 10,
    "start_time": "2022-04-11T10:15:20.988Z"
   },
   {
    "duration": 38,
    "start_time": "2022-04-11T10:15:21.000Z"
   },
   {
    "duration": 23,
    "start_time": "2022-04-11T10:15:21.040Z"
   },
   {
    "duration": 20,
    "start_time": "2022-04-11T10:15:21.065Z"
   },
   {
    "duration": 38,
    "start_time": "2022-04-11T10:15:21.087Z"
   },
   {
    "duration": 9,
    "start_time": "2022-04-11T10:15:21.126Z"
   },
   {
    "duration": 2215,
    "start_time": "2022-04-11T10:15:21.137Z"
   },
   {
    "duration": 23,
    "start_time": "2022-04-11T10:15:23.354Z"
   },
   {
    "duration": 22,
    "start_time": "2022-04-11T10:15:23.380Z"
   },
   {
    "duration": 12,
    "start_time": "2022-04-11T10:15:23.404Z"
   },
   {
    "duration": 9,
    "start_time": "2022-04-11T10:15:23.440Z"
   },
   {
    "duration": 10,
    "start_time": "2022-04-11T10:15:23.451Z"
   },
   {
    "duration": 10,
    "start_time": "2022-04-11T10:15:23.463Z"
   },
   {
    "duration": 11,
    "start_time": "2022-04-11T10:15:23.476Z"
   },
   {
    "duration": 11,
    "start_time": "2022-04-11T10:15:23.492Z"
   },
   {
    "duration": 38,
    "start_time": "2022-04-11T10:15:23.505Z"
   },
   {
    "duration": 15,
    "start_time": "2022-04-11T10:15:23.546Z"
   },
   {
    "duration": 15,
    "start_time": "2022-04-11T10:15:23.563Z"
   },
   {
    "duration": 221,
    "start_time": "2022-04-11T10:15:23.580Z"
   },
   {
    "duration": 7,
    "start_time": "2022-04-11T10:15:23.804Z"
   },
   {
    "duration": 36,
    "start_time": "2022-04-11T10:15:23.813Z"
   },
   {
    "duration": 158,
    "start_time": "2022-04-11T10:15:23.851Z"
   },
   {
    "duration": 10,
    "start_time": "2022-04-11T10:15:24.011Z"
   },
   {
    "duration": 33,
    "start_time": "2022-04-11T10:15:24.022Z"
   },
   {
    "duration": 21,
    "start_time": "2022-04-11T10:15:24.056Z"
   },
   {
    "duration": 13,
    "start_time": "2022-04-11T11:16:15.980Z"
   },
   {
    "duration": 135,
    "start_time": "2022-04-11T11:16:26.672Z"
   },
   {
    "duration": 19,
    "start_time": "2022-04-11T11:44:41.352Z"
   },
   {
    "duration": 3,
    "start_time": "2022-04-11T11:46:38.469Z"
   },
   {
    "duration": 16,
    "start_time": "2022-04-11T11:47:23.553Z"
   },
   {
    "duration": 1542,
    "start_time": "2022-04-11T11:47:36.640Z"
   },
   {
    "duration": 1659,
    "start_time": "2022-04-11T11:49:18.493Z"
   },
   {
    "duration": 1475,
    "start_time": "2022-04-11T11:49:28.613Z"
   },
   {
    "duration": 66,
    "start_time": "2022-04-11T16:06:28.583Z"
   },
   {
    "duration": 1877,
    "start_time": "2022-04-11T16:06:50.425Z"
   },
   {
    "duration": 157,
    "start_time": "2022-04-11T16:06:52.306Z"
   },
   {
    "duration": 40,
    "start_time": "2022-04-11T16:06:52.465Z"
   },
   {
    "duration": 9,
    "start_time": "2022-04-11T16:06:52.508Z"
   },
   {
    "duration": 9,
    "start_time": "2022-04-11T16:06:52.520Z"
   },
   {
    "duration": 37,
    "start_time": "2022-04-11T16:06:52.532Z"
   },
   {
    "duration": 16,
    "start_time": "2022-04-11T16:06:52.572Z"
   },
   {
    "duration": 17,
    "start_time": "2022-04-11T16:06:52.590Z"
   },
   {
    "duration": 8,
    "start_time": "2022-04-11T16:06:52.609Z"
   },
   {
    "duration": 53,
    "start_time": "2022-04-11T16:06:52.621Z"
   },
   {
    "duration": 18,
    "start_time": "2022-04-11T16:06:52.676Z"
   },
   {
    "duration": 9,
    "start_time": "2022-04-11T16:06:52.696Z"
   },
   {
    "duration": 15,
    "start_time": "2022-04-11T16:06:52.707Z"
   },
   {
    "duration": 6,
    "start_time": "2022-04-11T16:06:52.724Z"
   },
   {
    "duration": 12,
    "start_time": "2022-04-11T16:06:52.768Z"
   },
   {
    "duration": 30,
    "start_time": "2022-04-11T16:06:52.782Z"
   },
   {
    "duration": 11,
    "start_time": "2022-04-11T16:06:52.814Z"
   },
   {
    "duration": 52,
    "start_time": "2022-04-11T16:06:52.828Z"
   },
   {
    "duration": 8,
    "start_time": "2022-04-11T16:06:52.882Z"
   },
   {
    "duration": 2414,
    "start_time": "2022-04-11T16:06:52.892Z"
   },
   {
    "duration": 21,
    "start_time": "2022-04-11T16:06:55.309Z"
   },
   {
    "duration": 45,
    "start_time": "2022-04-11T16:06:55.332Z"
   },
   {
    "duration": 11,
    "start_time": "2022-04-11T16:06:55.379Z"
   },
   {
    "duration": 14,
    "start_time": "2022-04-11T16:06:55.392Z"
   },
   {
    "duration": 7,
    "start_time": "2022-04-11T16:06:55.409Z"
   },
   {
    "duration": 10,
    "start_time": "2022-04-11T16:06:55.418Z"
   },
   {
    "duration": 43,
    "start_time": "2022-04-11T16:06:55.430Z"
   },
   {
    "duration": 7,
    "start_time": "2022-04-11T16:06:55.478Z"
   },
   {
    "duration": 13,
    "start_time": "2022-04-11T16:06:55.487Z"
   },
   {
    "duration": 19,
    "start_time": "2022-04-11T16:06:55.502Z"
   },
   {
    "duration": 54,
    "start_time": "2022-04-11T16:06:55.523Z"
   },
   {
    "duration": 271,
    "start_time": "2022-04-11T16:06:55.579Z"
   },
   {
    "duration": 7,
    "start_time": "2022-04-11T16:06:55.852Z"
   },
   {
    "duration": 16,
    "start_time": "2022-04-11T16:06:55.868Z"
   },
   {
    "duration": 222,
    "start_time": "2022-04-11T16:06:55.886Z"
   },
   {
    "duration": 12,
    "start_time": "2022-04-11T16:06:56.110Z"
   },
   {
    "duration": 44,
    "start_time": "2022-04-11T16:06:56.124Z"
   },
   {
    "duration": 23,
    "start_time": "2022-04-11T16:06:56.171Z"
   },
   {
    "duration": 17,
    "start_time": "2022-04-11T16:06:56.196Z"
   },
   {
    "duration": 229,
    "start_time": "2022-04-11T16:06:56.215Z"
   },
   {
    "duration": 31,
    "start_time": "2022-04-11T16:06:56.446Z"
   },
   {
    "duration": 4,
    "start_time": "2022-04-11T16:06:56.479Z"
   },
   {
    "duration": 23,
    "start_time": "2022-04-11T16:06:56.485Z"
   },
   {
    "duration": 2272,
    "start_time": "2022-04-11T16:06:56.510Z"
   },
   {
    "duration": 9,
    "start_time": "2022-04-11T16:06:58.784Z"
   },
   {
    "duration": 10,
    "start_time": "2022-04-11T16:07:23.162Z"
   },
   {
    "duration": 9,
    "start_time": "2022-04-11T16:08:44.466Z"
   },
   {
    "duration": 3741,
    "start_time": "2022-04-11T16:10:10.180Z"
   },
   {
    "duration": 10,
    "start_time": "2022-04-11T16:10:20.936Z"
   },
   {
    "duration": 44,
    "start_time": "2022-04-11T16:10:44.899Z"
   },
   {
    "duration": 34,
    "start_time": "2022-04-11T16:13:47.882Z"
   },
   {
    "duration": 17,
    "start_time": "2022-04-11T16:17:19.092Z"
   },
   {
    "duration": 754,
    "start_time": "2022-04-11T16:18:08.789Z"
   },
   {
    "duration": 848,
    "start_time": "2022-04-11T16:19:13.815Z"
   },
   {
    "duration": 27,
    "start_time": "2022-04-11T16:28:35.681Z"
   },
   {
    "duration": 29,
    "start_time": "2022-04-11T16:28:43.130Z"
   },
   {
    "duration": 25,
    "start_time": "2022-04-11T16:29:45.881Z"
   },
   {
    "duration": 27,
    "start_time": "2022-04-11T16:32:21.203Z"
   },
   {
    "duration": 265,
    "start_time": "2022-04-11T16:33:16.166Z"
   },
   {
    "duration": 268,
    "start_time": "2022-04-11T16:36:35.803Z"
   },
   {
    "duration": 273,
    "start_time": "2022-04-11T16:37:42.831Z"
   },
   {
    "duration": 285,
    "start_time": "2022-04-11T16:37:52.014Z"
   },
   {
    "duration": 46,
    "start_time": "2022-04-12T06:16:35.222Z"
   },
   {
    "duration": 1253,
    "start_time": "2022-04-12T06:16:52.247Z"
   },
   {
    "duration": 209,
    "start_time": "2022-04-12T06:16:53.502Z"
   },
   {
    "duration": 24,
    "start_time": "2022-04-12T06:16:53.713Z"
   },
   {
    "duration": 5,
    "start_time": "2022-04-12T06:16:53.738Z"
   },
   {
    "duration": 5,
    "start_time": "2022-04-12T06:16:53.745Z"
   },
   {
    "duration": 5,
    "start_time": "2022-04-12T06:16:53.751Z"
   },
   {
    "duration": 11,
    "start_time": "2022-04-12T06:16:53.758Z"
   },
   {
    "duration": 32,
    "start_time": "2022-04-12T06:16:53.770Z"
   },
   {
    "duration": 6,
    "start_time": "2022-04-12T06:16:53.803Z"
   },
   {
    "duration": 12,
    "start_time": "2022-04-12T06:16:53.810Z"
   },
   {
    "duration": 8,
    "start_time": "2022-04-12T06:16:53.824Z"
   },
   {
    "duration": 5,
    "start_time": "2022-04-12T06:16:53.834Z"
   },
   {
    "duration": 10,
    "start_time": "2022-04-12T06:16:53.840Z"
   },
   {
    "duration": 4,
    "start_time": "2022-04-12T06:16:53.852Z"
   },
   {
    "duration": 46,
    "start_time": "2022-04-12T06:16:53.857Z"
   },
   {
    "duration": 12,
    "start_time": "2022-04-12T06:16:53.905Z"
   },
   {
    "duration": 6,
    "start_time": "2022-04-12T06:16:53.919Z"
   },
   {
    "duration": 14,
    "start_time": "2022-04-12T06:16:53.926Z"
   },
   {
    "duration": 6,
    "start_time": "2022-04-12T06:16:53.941Z"
   },
   {
    "duration": 1927,
    "start_time": "2022-04-12T06:16:53.948Z"
   },
   {
    "duration": 30,
    "start_time": "2022-04-12T06:16:55.877Z"
   },
   {
    "duration": 15,
    "start_time": "2022-04-12T06:16:55.908Z"
   },
   {
    "duration": 8,
    "start_time": "2022-04-12T06:16:55.925Z"
   },
   {
    "duration": 9,
    "start_time": "2022-04-12T06:16:55.934Z"
   },
   {
    "duration": 5,
    "start_time": "2022-04-12T06:16:55.945Z"
   },
   {
    "duration": 5,
    "start_time": "2022-04-12T06:16:55.951Z"
   },
   {
    "duration": 6,
    "start_time": "2022-04-12T06:16:55.958Z"
   },
   {
    "duration": 5,
    "start_time": "2022-04-12T06:16:55.965Z"
   },
   {
    "duration": 7,
    "start_time": "2022-04-12T06:16:55.999Z"
   },
   {
    "duration": 10,
    "start_time": "2022-04-12T06:16:56.008Z"
   },
   {
    "duration": 9,
    "start_time": "2022-04-12T06:16:56.019Z"
   },
   {
    "duration": 174,
    "start_time": "2022-04-12T06:16:56.029Z"
   },
   {
    "duration": 5,
    "start_time": "2022-04-12T06:16:56.205Z"
   },
   {
    "duration": 21,
    "start_time": "2022-04-12T06:16:56.212Z"
   },
   {
    "duration": 126,
    "start_time": "2022-04-12T06:16:56.235Z"
   },
   {
    "duration": 10,
    "start_time": "2022-04-12T06:16:56.363Z"
   },
   {
    "duration": 29,
    "start_time": "2022-04-12T06:16:56.374Z"
   },
   {
    "duration": 16,
    "start_time": "2022-04-12T06:16:56.405Z"
   },
   {
    "duration": 10,
    "start_time": "2022-04-12T06:16:56.422Z"
   },
   {
    "duration": 145,
    "start_time": "2022-04-12T06:16:56.433Z"
   },
   {
    "duration": 19,
    "start_time": "2022-04-12T06:16:56.582Z"
   },
   {
    "duration": 2,
    "start_time": "2022-04-12T06:16:56.602Z"
   },
   {
    "duration": 14,
    "start_time": "2022-04-12T06:16:56.605Z"
   },
   {
    "duration": 1270,
    "start_time": "2022-04-12T06:16:56.621Z"
   },
   {
    "duration": 11,
    "start_time": "2022-04-12T06:16:57.893Z"
   },
   {
    "duration": 27,
    "start_time": "2022-04-12T06:16:57.905Z"
   },
   {
    "duration": 13,
    "start_time": "2022-04-12T06:16:57.934Z"
   },
   {
    "duration": 10,
    "start_time": "2022-04-12T06:16:57.949Z"
   },
   {
    "duration": 480,
    "start_time": "2022-04-12T06:16:57.961Z"
   },
   {
    "duration": 15,
    "start_time": "2022-04-12T06:16:58.442Z"
   },
   {
    "duration": 16,
    "start_time": "2022-04-12T06:16:58.458Z"
   },
   {
    "duration": 168,
    "start_time": "2022-04-12T06:16:58.475Z"
   },
   {
    "duration": 146,
    "start_time": "2022-04-12T06:16:58.644Z"
   },
   {
    "duration": 820,
    "start_time": "2022-04-12T06:16:58.792Z"
   },
   {
    "duration": 187,
    "start_time": "2022-04-12T06:48:52.905Z"
   },
   {
    "duration": 12,
    "start_time": "2022-04-12T06:48:56.384Z"
   },
   {
    "duration": 1200,
    "start_time": "2022-04-12T06:49:16.566Z"
   },
   {
    "duration": 315,
    "start_time": "2022-04-12T06:49:17.768Z"
   },
   {
    "duration": 23,
    "start_time": "2022-04-12T06:49:18.085Z"
   },
   {
    "duration": 5,
    "start_time": "2022-04-12T06:49:18.110Z"
   },
   {
    "duration": 6,
    "start_time": "2022-04-12T06:49:18.116Z"
   },
   {
    "duration": 4,
    "start_time": "2022-04-12T06:49:18.123Z"
   },
   {
    "duration": 12,
    "start_time": "2022-04-12T06:49:18.129Z"
   },
   {
    "duration": 11,
    "start_time": "2022-04-12T06:49:18.142Z"
   },
   {
    "duration": 10,
    "start_time": "2022-04-12T06:49:18.155Z"
   },
   {
    "duration": 40,
    "start_time": "2022-04-12T06:49:18.167Z"
   },
   {
    "duration": 10,
    "start_time": "2022-04-12T06:49:18.208Z"
   },
   {
    "duration": 6,
    "start_time": "2022-04-12T06:49:18.219Z"
   },
   {
    "duration": 13,
    "start_time": "2022-04-12T06:49:18.226Z"
   },
   {
    "duration": 5,
    "start_time": "2022-04-12T06:49:18.240Z"
   },
   {
    "duration": 10,
    "start_time": "2022-04-12T06:49:18.246Z"
   },
   {
    "duration": 43,
    "start_time": "2022-04-12T06:49:18.257Z"
   },
   {
    "duration": 8,
    "start_time": "2022-04-12T06:49:18.302Z"
   },
   {
    "duration": 16,
    "start_time": "2022-04-12T06:49:18.311Z"
   },
   {
    "duration": 8,
    "start_time": "2022-04-12T06:49:18.328Z"
   },
   {
    "duration": 1810,
    "start_time": "2022-04-12T06:49:18.338Z"
   },
   {
    "duration": 16,
    "start_time": "2022-04-12T06:49:20.150Z"
   },
   {
    "duration": 15,
    "start_time": "2022-04-12T06:49:20.168Z"
   },
   {
    "duration": 12,
    "start_time": "2022-04-12T06:49:20.201Z"
   },
   {
    "duration": 11,
    "start_time": "2022-04-12T06:49:20.214Z"
   },
   {
    "duration": 10,
    "start_time": "2022-04-12T06:49:20.226Z"
   },
   {
    "duration": 5,
    "start_time": "2022-04-12T06:49:20.238Z"
   },
   {
    "duration": 7,
    "start_time": "2022-04-12T06:49:20.245Z"
   },
   {
    "duration": 5,
    "start_time": "2022-04-12T06:49:20.256Z"
   },
   {
    "duration": 18,
    "start_time": "2022-04-12T06:49:20.262Z"
   },
   {
    "duration": 25,
    "start_time": "2022-04-12T06:49:20.281Z"
   },
   {
    "duration": 9,
    "start_time": "2022-04-12T06:49:20.308Z"
   },
   {
    "duration": 193,
    "start_time": "2022-04-12T06:49:20.318Z"
   },
   {
    "duration": 6,
    "start_time": "2022-04-12T06:49:20.513Z"
   },
   {
    "duration": 13,
    "start_time": "2022-04-12T06:49:20.521Z"
   },
   {
    "duration": 156,
    "start_time": "2022-04-12T06:49:20.536Z"
   },
   {
    "duration": 11,
    "start_time": "2022-04-12T06:49:20.693Z"
   },
   {
    "duration": 20,
    "start_time": "2022-04-12T06:49:20.705Z"
   },
   {
    "duration": 15,
    "start_time": "2022-04-12T06:49:20.726Z"
   },
   {
    "duration": 9,
    "start_time": "2022-04-12T06:49:20.742Z"
   },
   {
    "duration": 166,
    "start_time": "2022-04-12T06:49:20.753Z"
   },
   {
    "duration": 17,
    "start_time": "2022-04-12T06:49:20.920Z"
   },
   {
    "duration": 4,
    "start_time": "2022-04-12T06:49:20.939Z"
   },
   {
    "duration": 24,
    "start_time": "2022-04-12T06:49:20.944Z"
   },
   {
    "duration": 1482,
    "start_time": "2022-04-12T06:49:20.969Z"
   },
   {
    "duration": 7,
    "start_time": "2022-04-12T06:49:22.453Z"
   },
   {
    "duration": 55,
    "start_time": "2022-04-12T06:49:22.461Z"
   },
   {
    "duration": 23,
    "start_time": "2022-04-12T06:49:22.518Z"
   },
   {
    "duration": 16,
    "start_time": "2022-04-12T06:49:22.543Z"
   },
   {
    "duration": 541,
    "start_time": "2022-04-12T06:49:22.561Z"
   },
   {
    "duration": 16,
    "start_time": "2022-04-12T06:49:23.103Z"
   },
   {
    "duration": 15,
    "start_time": "2022-04-12T06:49:23.120Z"
   },
   {
    "duration": 194,
    "start_time": "2022-04-12T06:49:23.137Z"
   },
   {
    "duration": 154,
    "start_time": "2022-04-12T06:49:23.333Z"
   },
   {
    "duration": 979,
    "start_time": "2022-04-12T06:49:23.488Z"
   },
   {
    "duration": 12,
    "start_time": "2022-04-12T06:49:24.468Z"
   },
   {
    "duration": 374,
    "start_time": "2022-04-12T06:49:24.482Z"
   },
   {
    "duration": 420,
    "start_time": "2022-04-12T08:09:42.736Z"
   },
   {
    "duration": 6,
    "start_time": "2022-04-12T08:11:46.364Z"
   },
   {
    "duration": 856,
    "start_time": "2022-04-12T08:12:22.053Z"
   },
   {
    "duration": 14,
    "start_time": "2022-04-12T08:12:44.958Z"
   },
   {
    "duration": 322,
    "start_time": "2022-04-12T08:15:46.332Z"
   },
   {
    "duration": 28,
    "start_time": "2022-04-12T08:16:38.395Z"
   },
   {
    "duration": 379,
    "start_time": "2022-04-12T08:16:55.581Z"
   },
   {
    "duration": 881,
    "start_time": "2022-04-12T08:17:37.590Z"
   },
   {
    "duration": 956,
    "start_time": "2022-04-12T08:17:54.779Z"
   },
   {
    "duration": 890,
    "start_time": "2022-04-12T08:18:54.346Z"
   },
   {
    "duration": 13,
    "start_time": "2022-04-12T08:19:10.792Z"
   },
   {
    "duration": 360,
    "start_time": "2022-04-12T08:19:41.972Z"
   },
   {
    "duration": 379,
    "start_time": "2022-04-12T08:20:11.044Z"
   },
   {
    "duration": 2,
    "start_time": "2022-04-12T08:21:27.646Z"
   },
   {
    "duration": 341,
    "start_time": "2022-04-12T08:23:08.299Z"
   },
   {
    "duration": 18,
    "start_time": "2022-04-12T08:25:07.327Z"
   },
   {
    "duration": 69,
    "start_time": "2022-04-13T13:54:53.591Z"
   },
   {
    "duration": 2053,
    "start_time": "2022-04-13T13:55:14.215Z"
   },
   {
    "duration": 147,
    "start_time": "2022-04-13T13:55:16.271Z"
   },
   {
    "duration": 62,
    "start_time": "2022-04-13T13:55:16.420Z"
   },
   {
    "duration": 12,
    "start_time": "2022-04-13T13:55:16.485Z"
   },
   {
    "duration": 10,
    "start_time": "2022-04-13T13:55:16.499Z"
   },
   {
    "duration": 6,
    "start_time": "2022-04-13T13:55:16.511Z"
   },
   {
    "duration": 15,
    "start_time": "2022-04-13T13:55:16.519Z"
   },
   {
    "duration": 53,
    "start_time": "2022-04-13T13:55:16.536Z"
   },
   {
    "duration": 9,
    "start_time": "2022-04-13T13:55:16.591Z"
   },
   {
    "duration": 17,
    "start_time": "2022-04-13T13:55:16.604Z"
   },
   {
    "duration": 13,
    "start_time": "2022-04-13T13:55:16.624Z"
   },
   {
    "duration": 50,
    "start_time": "2022-04-13T13:55:16.638Z"
   },
   {
    "duration": 16,
    "start_time": "2022-04-13T13:55:16.691Z"
   },
   {
    "duration": 7,
    "start_time": "2022-04-13T13:55:16.709Z"
   },
   {
    "duration": 14,
    "start_time": "2022-04-13T13:55:16.718Z"
   },
   {
    "duration": 65,
    "start_time": "2022-04-13T13:55:16.734Z"
   },
   {
    "duration": 10,
    "start_time": "2022-04-13T13:55:16.802Z"
   },
   {
    "duration": 25,
    "start_time": "2022-04-13T13:55:16.814Z"
   },
   {
    "duration": 43,
    "start_time": "2022-04-13T13:55:16.841Z"
   },
   {
    "duration": 2780,
    "start_time": "2022-04-13T13:55:16.886Z"
   },
   {
    "duration": 29,
    "start_time": "2022-04-13T13:55:19.683Z"
   },
   {
    "duration": 36,
    "start_time": "2022-04-13T13:55:19.714Z"
   },
   {
    "duration": 33,
    "start_time": "2022-04-13T13:55:19.753Z"
   },
   {
    "duration": 19,
    "start_time": "2022-04-13T13:55:19.788Z"
   },
   {
    "duration": 12,
    "start_time": "2022-04-13T13:55:19.810Z"
   },
   {
    "duration": 13,
    "start_time": "2022-04-13T13:55:19.825Z"
   },
   {
    "duration": 9,
    "start_time": "2022-04-13T13:55:19.840Z"
   },
   {
    "duration": 7,
    "start_time": "2022-04-13T13:55:19.882Z"
   },
   {
    "duration": 13,
    "start_time": "2022-04-13T13:55:19.892Z"
   },
   {
    "duration": 21,
    "start_time": "2022-04-13T13:55:19.907Z"
   },
   {
    "duration": 15,
    "start_time": "2022-04-13T13:55:19.930Z"
   },
   {
    "duration": 344,
    "start_time": "2022-04-13T13:55:19.947Z"
   },
   {
    "duration": 9,
    "start_time": "2022-04-13T13:55:20.293Z"
   },
   {
    "duration": 23,
    "start_time": "2022-04-13T13:55:20.305Z"
   },
   {
    "duration": 265,
    "start_time": "2022-04-13T13:55:20.331Z"
   },
   {
    "duration": 13,
    "start_time": "2022-04-13T13:55:20.598Z"
   },
   {
    "duration": 29,
    "start_time": "2022-04-13T13:55:20.613Z"
   },
   {
    "duration": 59,
    "start_time": "2022-04-13T13:55:20.645Z"
   },
   {
    "duration": 79,
    "start_time": "2022-04-13T13:55:20.706Z"
   },
   {
    "duration": 269,
    "start_time": "2022-04-13T13:55:20.787Z"
   },
   {
    "duration": 33,
    "start_time": "2022-04-13T13:55:21.059Z"
   },
   {
    "duration": 3,
    "start_time": "2022-04-13T13:55:21.094Z"
   },
   {
    "duration": 23,
    "start_time": "2022-04-13T13:55:21.100Z"
   },
   {
    "duration": 2383,
    "start_time": "2022-04-13T13:55:21.125Z"
   },
   {
    "duration": 9,
    "start_time": "2022-04-13T13:55:23.511Z"
   },
   {
    "duration": 67,
    "start_time": "2022-04-13T13:55:23.523Z"
   },
   {
    "duration": 25,
    "start_time": "2022-04-13T13:55:23.592Z"
   },
   {
    "duration": 16,
    "start_time": "2022-04-13T13:55:23.619Z"
   },
   {
    "duration": 953,
    "start_time": "2022-04-13T13:55:23.637Z"
   },
   {
    "duration": 25,
    "start_time": "2022-04-13T13:55:24.593Z"
   },
   {
    "duration": 25,
    "start_time": "2022-04-13T13:55:24.621Z"
   },
   {
    "duration": 300,
    "start_time": "2022-04-13T13:55:24.649Z"
   },
   {
    "duration": 291,
    "start_time": "2022-04-13T13:55:24.951Z"
   },
   {
    "duration": 1437,
    "start_time": "2022-04-13T13:55:25.244Z"
   },
   {
    "duration": 19,
    "start_time": "2022-04-13T13:55:26.684Z"
   },
   {
    "duration": 635,
    "start_time": "2022-04-13T13:55:26.707Z"
   },
   {
    "duration": 7,
    "start_time": "2022-04-13T13:55:27.345Z"
   },
   {
    "duration": 1530,
    "start_time": "2022-04-13T13:55:27.355Z"
   },
   {
    "duration": 22,
    "start_time": "2022-04-13T13:55:28.887Z"
   },
   {
    "duration": 552,
    "start_time": "2022-04-13T13:55:28.911Z"
   },
   {
    "duration": 415,
    "start_time": "2022-04-13T13:55:29.466Z"
   },
   {
    "duration": 23,
    "start_time": "2022-04-13T13:55:29.883Z"
   },
   {
    "duration": 24,
    "start_time": "2022-04-13T13:55:29.908Z"
   },
   {
    "duration": 15,
    "start_time": "2022-04-13T14:04:41.595Z"
   },
   {
    "duration": 26,
    "start_time": "2022-04-13T14:08:04.523Z"
   },
   {
    "duration": 14,
    "start_time": "2022-04-13T14:11:16.138Z"
   },
   {
    "duration": 33,
    "start_time": "2022-04-13T14:12:20.477Z"
   },
   {
    "duration": 21,
    "start_time": "2022-04-13T14:14:49.972Z"
   },
   {
    "duration": 29,
    "start_time": "2022-04-13T14:17:17.829Z"
   },
   {
    "duration": 28,
    "start_time": "2022-04-13T14:18:05.031Z"
   },
   {
    "duration": 500,
    "start_time": "2022-04-13T14:18:48.068Z"
   },
   {
    "duration": 213,
    "start_time": "2022-04-13T14:19:52.196Z"
   },
   {
    "duration": 387,
    "start_time": "2022-04-13T14:33:21.362Z"
   },
   {
    "duration": 25,
    "start_time": "2022-04-13T14:54:05.794Z"
   },
   {
    "duration": 25,
    "start_time": "2022-04-13T14:54:46.429Z"
   },
   {
    "duration": 32,
    "start_time": "2022-04-13T14:54:52.582Z"
   },
   {
    "duration": 23,
    "start_time": "2022-04-13T14:55:12.001Z"
   },
   {
    "duration": 28,
    "start_time": "2022-04-13T14:57:07.481Z"
   },
   {
    "duration": 414,
    "start_time": "2022-04-13T14:57:18.657Z"
   },
   {
    "duration": 25,
    "start_time": "2022-04-13T17:39:24.805Z"
   },
   {
    "duration": 264,
    "start_time": "2022-04-13T17:41:23.052Z"
   },
   {
    "duration": 268,
    "start_time": "2022-04-13T17:41:54.185Z"
   },
   {
    "duration": 3,
    "start_time": "2022-04-13T17:46:39.133Z"
   },
   {
    "duration": 25,
    "start_time": "2022-04-13T17:51:16.137Z"
   },
   {
    "duration": 33,
    "start_time": "2022-04-13T17:52:28.696Z"
   },
   {
    "duration": 25,
    "start_time": "2022-04-13T17:53:34.702Z"
   },
   {
    "duration": 3,
    "start_time": "2022-04-13T17:54:32.551Z"
   },
   {
    "duration": 29,
    "start_time": "2022-04-13T17:55:58.206Z"
   },
   {
    "duration": 280,
    "start_time": "2022-04-13T17:56:59.641Z"
   },
   {
    "duration": 26,
    "start_time": "2022-04-13T17:58:20.209Z"
   },
   {
    "duration": 44,
    "start_time": "2022-04-14T18:05:23.825Z"
   },
   {
    "duration": 1371,
    "start_time": "2022-04-14T18:05:31.659Z"
   },
   {
    "duration": 183,
    "start_time": "2022-04-14T18:05:33.032Z"
   },
   {
    "duration": 25,
    "start_time": "2022-04-14T18:05:33.217Z"
   },
   {
    "duration": 6,
    "start_time": "2022-04-14T18:05:33.244Z"
   },
   {
    "duration": 9,
    "start_time": "2022-04-14T18:05:33.252Z"
   },
   {
    "duration": 5,
    "start_time": "2022-04-14T18:05:33.263Z"
   },
   {
    "duration": 32,
    "start_time": "2022-04-14T18:05:33.269Z"
   },
   {
    "duration": 19,
    "start_time": "2022-04-14T18:05:33.302Z"
   },
   {
    "duration": 7,
    "start_time": "2022-04-14T18:05:33.323Z"
   },
   {
    "duration": 13,
    "start_time": "2022-04-14T18:05:33.332Z"
   },
   {
    "duration": 12,
    "start_time": "2022-04-14T18:05:33.346Z"
   },
   {
    "duration": 7,
    "start_time": "2022-04-14T18:05:33.360Z"
   },
   {
    "duration": 40,
    "start_time": "2022-04-14T18:05:33.368Z"
   },
   {
    "duration": 7,
    "start_time": "2022-04-14T18:05:33.410Z"
   },
   {
    "duration": 9,
    "start_time": "2022-04-14T18:05:33.419Z"
   },
   {
    "duration": 15,
    "start_time": "2022-04-14T18:05:33.429Z"
   },
   {
    "duration": 7,
    "start_time": "2022-04-14T18:05:33.445Z"
   },
   {
    "duration": 47,
    "start_time": "2022-04-14T18:05:33.454Z"
   },
   {
    "duration": 5,
    "start_time": "2022-04-14T18:05:33.503Z"
   },
   {
    "duration": 2201,
    "start_time": "2022-04-14T18:05:33.510Z"
   },
   {
    "duration": 15,
    "start_time": "2022-04-14T18:05:35.713Z"
   },
   {
    "duration": 15,
    "start_time": "2022-04-14T18:05:35.730Z"
   },
   {
    "duration": 9,
    "start_time": "2022-04-14T18:05:35.747Z"
   },
   {
    "duration": 11,
    "start_time": "2022-04-14T18:05:35.758Z"
   },
   {
    "duration": 7,
    "start_time": "2022-04-14T18:05:35.771Z"
   },
   {
    "duration": 6,
    "start_time": "2022-04-14T18:05:35.801Z"
   },
   {
    "duration": 8,
    "start_time": "2022-04-14T18:05:35.809Z"
   },
   {
    "duration": 6,
    "start_time": "2022-04-14T18:05:35.824Z"
   },
   {
    "duration": 16,
    "start_time": "2022-04-14T18:05:35.832Z"
   },
   {
    "duration": 15,
    "start_time": "2022-04-14T18:05:35.850Z"
   },
   {
    "duration": 42,
    "start_time": "2022-04-14T18:05:35.867Z"
   },
   {
    "duration": 260,
    "start_time": "2022-04-14T18:05:35.911Z"
   },
   {
    "duration": 7,
    "start_time": "2022-04-14T18:05:36.174Z"
   },
   {
    "duration": 28,
    "start_time": "2022-04-14T18:05:36.183Z"
   },
   {
    "duration": 133,
    "start_time": "2022-04-14T18:05:36.213Z"
   },
   {
    "duration": 11,
    "start_time": "2022-04-14T18:05:36.348Z"
   },
   {
    "duration": 24,
    "start_time": "2022-04-14T18:05:36.360Z"
   },
   {
    "duration": 33,
    "start_time": "2022-04-14T18:05:36.386Z"
   },
   {
    "duration": 13,
    "start_time": "2022-04-14T18:05:36.421Z"
   },
   {
    "duration": 142,
    "start_time": "2022-04-14T18:05:36.435Z"
   },
   {
    "duration": 24,
    "start_time": "2022-04-14T18:05:36.579Z"
   },
   {
    "duration": 3,
    "start_time": "2022-04-14T18:05:36.604Z"
   },
   {
    "duration": 15,
    "start_time": "2022-04-14T18:05:36.608Z"
   },
   {
    "duration": 1360,
    "start_time": "2022-04-14T18:05:36.625Z"
   },
   {
    "duration": 6,
    "start_time": "2022-04-14T18:05:37.987Z"
   },
   {
    "duration": 26,
    "start_time": "2022-04-14T18:05:38.000Z"
   },
   {
    "duration": 14,
    "start_time": "2022-04-14T18:05:38.028Z"
   },
   {
    "duration": 11,
    "start_time": "2022-04-14T18:05:38.043Z"
   },
   {
    "duration": 651,
    "start_time": "2022-04-14T18:05:38.056Z"
   },
   {
    "duration": 23,
    "start_time": "2022-04-14T18:05:38.709Z"
   },
   {
    "duration": 21,
    "start_time": "2022-04-14T18:05:38.734Z"
   },
   {
    "duration": 251,
    "start_time": "2022-04-14T18:05:38.757Z"
   },
   {
    "duration": 233,
    "start_time": "2022-04-14T18:05:39.010Z"
   },
   {
    "duration": 869,
    "start_time": "2022-04-14T18:05:39.245Z"
   },
   {
    "duration": 13,
    "start_time": "2022-04-14T18:05:40.115Z"
   },
   {
    "duration": 346,
    "start_time": "2022-04-14T18:05:40.130Z"
   },
   {
    "duration": 6,
    "start_time": "2022-04-14T18:05:40.477Z"
   },
   {
    "duration": 1001,
    "start_time": "2022-04-14T18:05:40.485Z"
   },
   {
    "duration": 17,
    "start_time": "2022-04-14T18:05:41.488Z"
   },
   {
    "duration": 343,
    "start_time": "2022-04-14T18:05:41.506Z"
   },
   {
    "duration": 235,
    "start_time": "2022-04-14T18:05:41.851Z"
   },
   {
    "duration": 22,
    "start_time": "2022-04-14T18:05:42.087Z"
   },
   {
    "duration": 19,
    "start_time": "2022-04-14T18:05:42.111Z"
   },
   {
    "duration": 11,
    "start_time": "2022-04-14T18:05:42.132Z"
   },
   {
    "duration": 28,
    "start_time": "2022-04-14T18:05:42.145Z"
   },
   {
    "duration": 32,
    "start_time": "2022-04-14T18:05:42.175Z"
   },
   {
    "duration": 29,
    "start_time": "2022-04-14T18:05:42.209Z"
   },
   {
    "duration": 11,
    "start_time": "2022-04-14T18:05:42.240Z"
   },
   {
    "duration": 16,
    "start_time": "2022-04-14T18:05:42.253Z"
   },
   {
    "duration": 178,
    "start_time": "2022-04-14T18:05:42.270Z"
   },
   {
    "duration": 15,
    "start_time": "2022-04-14T18:05:42.450Z"
   },
   {
    "duration": 155,
    "start_time": "2022-04-14T18:05:42.466Z"
   },
   {
    "duration": 17,
    "start_time": "2022-04-14T18:05:42.622Z"
   },
   {
    "duration": 15,
    "start_time": "2022-04-14T18:05:42.640Z"
   },
   {
    "duration": 15,
    "start_time": "2022-04-14T18:05:42.657Z"
   },
   {
    "duration": 43,
    "start_time": "2022-04-14T18:05:42.673Z"
   },
   {
    "duration": 172,
    "start_time": "2022-04-14T18:05:42.717Z"
   },
   {
    "duration": 21,
    "start_time": "2022-04-14T18:05:42.890Z"
   },
   {
    "duration": 16,
    "start_time": "2022-04-14T18:05:42.912Z"
   },
   {
    "duration": 15,
    "start_time": "2022-04-14T18:06:51.617Z"
   },
   {
    "duration": 2,
    "start_time": "2022-04-14T18:08:59.668Z"
   },
   {
    "duration": 7,
    "start_time": "2022-04-14T18:10:07.681Z"
   },
   {
    "duration": 211,
    "start_time": "2022-04-14T18:11:09.568Z"
   },
   {
    "duration": 193,
    "start_time": "2022-04-14T18:11:24.037Z"
   },
   {
    "duration": 6,
    "start_time": "2022-04-14T18:12:45.599Z"
   },
   {
    "duration": 9,
    "start_time": "2022-04-14T18:14:27.998Z"
   },
   {
    "duration": 336,
    "start_time": "2022-04-14T18:15:25.407Z"
   },
   {
    "duration": 362,
    "start_time": "2022-04-14T18:15:46.028Z"
   },
   {
    "duration": 194,
    "start_time": "2022-04-14T18:16:10.888Z"
   },
   {
    "duration": 5,
    "start_time": "2022-04-14T18:17:32.001Z"
   },
   {
    "duration": 70,
    "start_time": "2022-04-16T09:16:14.697Z"
   },
   {
    "duration": 1782,
    "start_time": "2022-04-16T09:17:23.828Z"
   },
   {
    "duration": 235,
    "start_time": "2022-04-16T09:17:25.613Z"
   },
   {
    "duration": 53,
    "start_time": "2022-04-16T09:17:25.850Z"
   },
   {
    "duration": 9,
    "start_time": "2022-04-16T09:17:25.905Z"
   },
   {
    "duration": 9,
    "start_time": "2022-04-16T09:17:25.917Z"
   },
   {
    "duration": 14,
    "start_time": "2022-04-16T09:17:25.928Z"
   },
   {
    "duration": 20,
    "start_time": "2022-04-16T09:17:25.944Z"
   },
   {
    "duration": 18,
    "start_time": "2022-04-16T09:17:25.994Z"
   },
   {
    "duration": 9,
    "start_time": "2022-04-16T09:17:26.014Z"
   },
   {
    "duration": 18,
    "start_time": "2022-04-16T09:17:26.026Z"
   },
   {
    "duration": 53,
    "start_time": "2022-04-16T09:17:26.046Z"
   },
   {
    "duration": 8,
    "start_time": "2022-04-16T09:17:26.102Z"
   },
   {
    "duration": 15,
    "start_time": "2022-04-16T09:17:26.112Z"
   },
   {
    "duration": 11,
    "start_time": "2022-04-16T09:17:26.132Z"
   },
   {
    "duration": 14,
    "start_time": "2022-04-16T09:17:26.145Z"
   },
   {
    "duration": 24,
    "start_time": "2022-04-16T09:17:26.194Z"
   },
   {
    "duration": 10,
    "start_time": "2022-04-16T09:17:26.220Z"
   },
   {
    "duration": 24,
    "start_time": "2022-04-16T09:17:26.232Z"
   },
   {
    "duration": 40,
    "start_time": "2022-04-16T09:17:26.258Z"
   },
   {
    "duration": 2877,
    "start_time": "2022-04-16T09:17:26.300Z"
   },
   {
    "duration": 31,
    "start_time": "2022-04-16T09:17:29.180Z"
   },
   {
    "duration": 26,
    "start_time": "2022-04-16T09:17:29.213Z"
   },
   {
    "duration": 6,
    "start_time": "2022-04-16T09:17:29.241Z"
   },
   {
    "duration": 49,
    "start_time": "2022-04-16T09:17:29.249Z"
   },
   {
    "duration": 12,
    "start_time": "2022-04-16T09:17:29.301Z"
   },
   {
    "duration": 14,
    "start_time": "2022-04-16T09:17:29.315Z"
   },
   {
    "duration": 10,
    "start_time": "2022-04-16T09:17:29.331Z"
   },
   {
    "duration": 10,
    "start_time": "2022-04-16T09:17:29.343Z"
   },
   {
    "duration": 15,
    "start_time": "2022-04-16T09:17:29.355Z"
   },
   {
    "duration": 34,
    "start_time": "2022-04-16T09:17:29.372Z"
   },
   {
    "duration": 16,
    "start_time": "2022-04-16T09:17:29.409Z"
   },
   {
    "duration": 303,
    "start_time": "2022-04-16T09:17:29.427Z"
   },
   {
    "duration": 8,
    "start_time": "2022-04-16T09:17:29.733Z"
   },
   {
    "duration": 17,
    "start_time": "2022-04-16T09:17:29.744Z"
   },
   {
    "duration": 242,
    "start_time": "2022-04-16T09:17:29.764Z"
   },
   {
    "duration": 13,
    "start_time": "2022-04-16T09:17:30.009Z"
   },
   {
    "duration": 23,
    "start_time": "2022-04-16T09:17:30.024Z"
   },
   {
    "duration": 62,
    "start_time": "2022-04-16T09:17:30.049Z"
   },
   {
    "duration": 20,
    "start_time": "2022-04-16T09:17:30.113Z"
   },
   {
    "duration": 230,
    "start_time": "2022-04-16T09:17:30.135Z"
   },
   {
    "duration": 33,
    "start_time": "2022-04-16T09:17:30.374Z"
   },
   {
    "duration": 13,
    "start_time": "2022-04-16T09:17:30.409Z"
   },
   {
    "duration": 43,
    "start_time": "2022-04-16T09:17:30.424Z"
   },
   {
    "duration": 2388,
    "start_time": "2022-04-16T09:17:30.470Z"
   },
   {
    "duration": 8,
    "start_time": "2022-04-16T09:17:32.861Z"
   },
   {
    "duration": 59,
    "start_time": "2022-04-16T09:17:32.871Z"
   },
   {
    "duration": 22,
    "start_time": "2022-04-16T09:17:32.932Z"
   },
   {
    "duration": 37,
    "start_time": "2022-04-16T09:17:32.956Z"
   },
   {
    "duration": 736,
    "start_time": "2022-04-16T09:17:32.995Z"
   },
   {
    "duration": 25,
    "start_time": "2022-04-16T09:17:33.733Z"
   },
   {
    "duration": 45,
    "start_time": "2022-04-16T09:17:33.760Z"
   },
   {
    "duration": 280,
    "start_time": "2022-04-16T09:17:33.807Z"
   },
   {
    "duration": 271,
    "start_time": "2022-04-16T09:17:34.089Z"
   },
   {
    "duration": 1397,
    "start_time": "2022-04-16T09:17:34.362Z"
   },
   {
    "duration": 33,
    "start_time": "2022-04-16T09:17:35.761Z"
   },
   {
    "duration": 488,
    "start_time": "2022-04-16T09:17:35.796Z"
   },
   {
    "duration": 9,
    "start_time": "2022-04-16T09:17:36.292Z"
   },
   {
    "duration": 1691,
    "start_time": "2022-04-16T09:17:36.303Z"
   },
   {
    "duration": 23,
    "start_time": "2022-04-16T09:17:37.996Z"
   },
   {
    "duration": 554,
    "start_time": "2022-04-16T09:17:38.022Z"
   },
   {
    "duration": 507,
    "start_time": "2022-04-16T09:17:38.578Z"
   },
   {
    "duration": 27,
    "start_time": "2022-04-16T09:17:39.087Z"
   },
   {
    "duration": 24,
    "start_time": "2022-04-16T09:17:39.116Z"
   },
   {
    "duration": 12,
    "start_time": "2022-04-16T09:17:39.142Z"
   },
   {
    "duration": 58,
    "start_time": "2022-04-16T09:17:39.156Z"
   },
   {
    "duration": 11,
    "start_time": "2022-04-16T09:17:39.216Z"
   },
   {
    "duration": 24,
    "start_time": "2022-04-16T09:17:39.229Z"
   },
   {
    "duration": 40,
    "start_time": "2022-04-16T09:17:39.255Z"
   },
   {
    "duration": 28,
    "start_time": "2022-04-16T09:17:39.297Z"
   },
   {
    "duration": 295,
    "start_time": "2022-04-16T09:17:39.327Z"
   },
   {
    "duration": 24,
    "start_time": "2022-04-16T09:17:39.624Z"
   },
   {
    "duration": 265,
    "start_time": "2022-04-16T09:17:39.650Z"
   },
   {
    "duration": 23,
    "start_time": "2022-04-16T09:17:39.918Z"
   },
   {
    "duration": 51,
    "start_time": "2022-04-16T09:17:39.943Z"
   },
   {
    "duration": 24,
    "start_time": "2022-04-16T09:17:39.996Z"
   },
   {
    "duration": 26,
    "start_time": "2022-04-16T09:17:40.022Z"
   },
   {
    "duration": 301,
    "start_time": "2022-04-16T09:17:40.050Z"
   },
   {
    "duration": 26,
    "start_time": "2022-04-16T09:17:40.354Z"
   },
   {
    "duration": 25,
    "start_time": "2022-04-16T09:17:40.393Z"
   },
   {
    "duration": 25,
    "start_time": "2022-04-16T09:17:40.421Z"
   },
   {
    "duration": 49,
    "start_time": "2022-04-16T09:17:40.449Z"
   },
   {
    "duration": 345,
    "start_time": "2022-04-16T09:17:40.500Z"
   },
   {
    "duration": 6,
    "start_time": "2022-04-16T09:17:40.847Z"
   },
   {
    "duration": 11,
    "start_time": "2022-04-16T09:17:40.857Z"
   },
   {
    "duration": 391,
    "start_time": "2022-04-16T09:17:40.893Z"
   },
   {
    "duration": 16,
    "start_time": "2022-04-16T09:17:41.287Z"
   },
   {
    "duration": 26,
    "start_time": "2022-04-16T09:20:41.574Z"
   },
   {
    "duration": 24,
    "start_time": "2022-04-16T09:20:54.072Z"
   },
   {
    "duration": 14,
    "start_time": "2022-04-16T09:21:10.346Z"
   },
   {
    "duration": 26,
    "start_time": "2022-04-16T09:23:27.849Z"
   },
   {
    "duration": 13,
    "start_time": "2022-04-16T09:24:13.712Z"
   },
   {
    "duration": 13,
    "start_time": "2022-04-16T09:24:55.363Z"
   },
   {
    "duration": 48,
    "start_time": "2022-04-17T06:38:00.727Z"
   },
   {
    "duration": 1291,
    "start_time": "2022-04-17T06:38:32.793Z"
   },
   {
    "duration": 278,
    "start_time": "2022-04-17T06:38:34.086Z"
   },
   {
    "duration": 29,
    "start_time": "2022-04-17T06:38:34.366Z"
   },
   {
    "duration": 6,
    "start_time": "2022-04-17T06:38:34.398Z"
   },
   {
    "duration": 6,
    "start_time": "2022-04-17T06:38:34.406Z"
   },
   {
    "duration": 6,
    "start_time": "2022-04-17T06:38:34.414Z"
   },
   {
    "duration": 12,
    "start_time": "2022-04-17T06:38:34.421Z"
   },
   {
    "duration": 13,
    "start_time": "2022-04-17T06:38:34.434Z"
   },
   {
    "duration": 7,
    "start_time": "2022-04-17T06:38:34.474Z"
   },
   {
    "duration": 17,
    "start_time": "2022-04-17T06:38:34.485Z"
   },
   {
    "duration": 10,
    "start_time": "2022-04-17T06:38:34.504Z"
   },
   {
    "duration": 7,
    "start_time": "2022-04-17T06:38:34.516Z"
   },
   {
    "duration": 12,
    "start_time": "2022-04-17T06:38:34.524Z"
   },
   {
    "duration": 40,
    "start_time": "2022-04-17T06:38:34.538Z"
   },
   {
    "duration": 10,
    "start_time": "2022-04-17T06:38:34.580Z"
   },
   {
    "duration": 16,
    "start_time": "2022-04-17T06:38:34.592Z"
   },
   {
    "duration": 7,
    "start_time": "2022-04-17T06:38:34.610Z"
   },
   {
    "duration": 17,
    "start_time": "2022-04-17T06:38:34.618Z"
   },
   {
    "duration": 36,
    "start_time": "2022-04-17T06:38:34.637Z"
   },
   {
    "duration": 1762,
    "start_time": "2022-04-17T06:38:34.675Z"
   },
   {
    "duration": 17,
    "start_time": "2022-04-17T06:38:36.439Z"
   },
   {
    "duration": 17,
    "start_time": "2022-04-17T06:38:36.474Z"
   },
   {
    "duration": 7,
    "start_time": "2022-04-17T06:38:36.493Z"
   },
   {
    "duration": 8,
    "start_time": "2022-04-17T06:38:36.502Z"
   },
   {
    "duration": 6,
    "start_time": "2022-04-17T06:38:36.511Z"
   },
   {
    "duration": 7,
    "start_time": "2022-04-17T06:38:36.518Z"
   },
   {
    "duration": 8,
    "start_time": "2022-04-17T06:38:36.527Z"
   },
   {
    "duration": 36,
    "start_time": "2022-04-17T06:38:36.539Z"
   },
   {
    "duration": 8,
    "start_time": "2022-04-17T06:38:36.577Z"
   },
   {
    "duration": 18,
    "start_time": "2022-04-17T06:38:36.587Z"
   },
   {
    "duration": 11,
    "start_time": "2022-04-17T06:38:36.607Z"
   },
   {
    "duration": 193,
    "start_time": "2022-04-17T06:38:36.619Z"
   },
   {
    "duration": 6,
    "start_time": "2022-04-17T06:38:36.814Z"
   },
   {
    "duration": 14,
    "start_time": "2022-04-17T06:38:36.821Z"
   },
   {
    "duration": 146,
    "start_time": "2022-04-17T06:38:36.837Z"
   },
   {
    "duration": 8,
    "start_time": "2022-04-17T06:38:36.985Z"
   },
   {
    "duration": 18,
    "start_time": "2022-04-17T06:38:36.994Z"
   },
   {
    "duration": 17,
    "start_time": "2022-04-17T06:38:37.013Z"
   },
   {
    "duration": 18,
    "start_time": "2022-04-17T06:38:37.032Z"
   },
   {
    "duration": 153,
    "start_time": "2022-04-17T06:38:37.052Z"
   },
   {
    "duration": 17,
    "start_time": "2022-04-17T06:38:37.207Z"
   },
   {
    "duration": 20,
    "start_time": "2022-04-17T06:38:37.225Z"
   },
   {
    "duration": 25,
    "start_time": "2022-04-17T06:38:37.247Z"
   },
   {
    "duration": 1442,
    "start_time": "2022-04-17T06:38:37.274Z"
   },
   {
    "duration": 7,
    "start_time": "2022-04-17T06:38:38.718Z"
   },
   {
    "duration": 32,
    "start_time": "2022-04-17T06:38:38.726Z"
   },
   {
    "duration": 26,
    "start_time": "2022-04-17T06:38:38.759Z"
   },
   {
    "duration": 12,
    "start_time": "2022-04-17T06:38:38.787Z"
   },
   {
    "duration": 506,
    "start_time": "2022-04-17T06:38:38.801Z"
   },
   {
    "duration": 18,
    "start_time": "2022-04-17T06:38:39.309Z"
   },
   {
    "duration": 17,
    "start_time": "2022-04-17T06:38:39.328Z"
   },
   {
    "duration": 186,
    "start_time": "2022-04-17T06:38:39.347Z"
   },
   {
    "duration": 168,
    "start_time": "2022-04-17T06:38:39.535Z"
   },
   {
    "duration": 877,
    "start_time": "2022-04-17T06:38:39.705Z"
   },
   {
    "duration": 13,
    "start_time": "2022-04-17T06:38:40.584Z"
   },
   {
    "duration": 341,
    "start_time": "2022-04-17T06:38:40.599Z"
   },
   {
    "duration": 7,
    "start_time": "2022-04-17T06:38:40.942Z"
   },
   {
    "duration": 1048,
    "start_time": "2022-04-17T06:38:40.950Z"
   },
   {
    "duration": 14,
    "start_time": "2022-04-17T06:38:42.000Z"
   },
   {
    "duration": 360,
    "start_time": "2022-04-17T06:38:42.016Z"
   },
   {
    "duration": 249,
    "start_time": "2022-04-17T06:38:42.378Z"
   },
   {
    "duration": 16,
    "start_time": "2022-04-17T06:38:42.629Z"
   },
   {
    "duration": 30,
    "start_time": "2022-04-17T06:38:42.647Z"
   },
   {
    "duration": 10,
    "start_time": "2022-04-17T06:38:42.679Z"
   },
   {
    "duration": 20,
    "start_time": "2022-04-17T06:38:42.690Z"
   },
   {
    "duration": 9,
    "start_time": "2022-04-17T06:38:42.712Z"
   },
   {
    "duration": 19,
    "start_time": "2022-04-17T06:38:42.723Z"
   },
   {
    "duration": 11,
    "start_time": "2022-04-17T06:38:42.772Z"
   },
   {
    "duration": 20,
    "start_time": "2022-04-17T06:38:42.785Z"
   },
   {
    "duration": 198,
    "start_time": "2022-04-17T06:38:42.807Z"
   },
   {
    "duration": 17,
    "start_time": "2022-04-17T06:38:43.007Z"
   },
   {
    "duration": 180,
    "start_time": "2022-04-17T06:38:43.026Z"
   },
   {
    "duration": 18,
    "start_time": "2022-04-17T06:38:43.208Z"
   },
   {
    "duration": 16,
    "start_time": "2022-04-17T06:38:43.228Z"
   },
   {
    "duration": 43,
    "start_time": "2022-04-17T06:38:43.246Z"
   },
   {
    "duration": 17,
    "start_time": "2022-04-17T06:38:43.291Z"
   },
   {
    "duration": 188,
    "start_time": "2022-04-17T06:38:43.310Z"
   },
   {
    "duration": 18,
    "start_time": "2022-04-17T06:38:43.500Z"
   },
   {
    "duration": 18,
    "start_time": "2022-04-17T06:38:43.520Z"
   },
   {
    "duration": 43,
    "start_time": "2022-04-17T06:38:43.539Z"
   },
   {
    "duration": 8,
    "start_time": "2022-04-17T06:38:43.584Z"
   },
   {
    "duration": 230,
    "start_time": "2022-04-17T06:38:43.597Z"
   },
   {
    "duration": 5,
    "start_time": "2022-04-17T06:38:43.829Z"
   },
   {
    "duration": 9,
    "start_time": "2022-04-17T06:38:43.835Z"
   },
   {
    "duration": 255,
    "start_time": "2022-04-17T06:38:43.846Z"
   },
   {
    "duration": 5,
    "start_time": "2022-04-17T06:38:44.103Z"
   },
   {
    "duration": 18,
    "start_time": "2022-04-17T07:33:05.710Z"
   },
   {
    "duration": 7,
    "start_time": "2022-04-17T08:01:32.359Z"
   },
   {
    "duration": 1188,
    "start_time": "2022-04-17T09:04:16.508Z"
   },
   {
    "duration": 189,
    "start_time": "2022-04-17T09:04:17.698Z"
   },
   {
    "duration": 30,
    "start_time": "2022-04-17T09:04:17.890Z"
   },
   {
    "duration": 7,
    "start_time": "2022-04-17T09:04:17.923Z"
   },
   {
    "duration": 6,
    "start_time": "2022-04-17T09:04:17.932Z"
   },
   {
    "duration": 35,
    "start_time": "2022-04-17T09:04:17.940Z"
   },
   {
    "duration": 13,
    "start_time": "2022-04-17T09:04:17.977Z"
   },
   {
    "duration": 14,
    "start_time": "2022-04-17T09:04:17.992Z"
   },
   {
    "duration": 7,
    "start_time": "2022-04-17T09:04:18.008Z"
   },
   {
    "duration": 14,
    "start_time": "2022-04-17T09:04:18.018Z"
   },
   {
    "duration": 48,
    "start_time": "2022-04-17T09:04:18.034Z"
   },
   {
    "duration": 11,
    "start_time": "2022-04-17T09:04:18.084Z"
   },
   {
    "duration": 14,
    "start_time": "2022-04-17T09:04:18.097Z"
   },
   {
    "duration": 6,
    "start_time": "2022-04-17T09:04:18.113Z"
   },
   {
    "duration": 11,
    "start_time": "2022-04-17T09:04:18.120Z"
   },
   {
    "duration": 48,
    "start_time": "2022-04-17T09:04:18.133Z"
   },
   {
    "duration": 8,
    "start_time": "2022-04-17T09:04:18.183Z"
   },
   {
    "duration": 16,
    "start_time": "2022-04-17T09:04:18.193Z"
   },
   {
    "duration": 8,
    "start_time": "2022-04-17T09:04:18.210Z"
   },
   {
    "duration": 1788,
    "start_time": "2022-04-17T09:04:18.219Z"
   },
   {
    "duration": 19,
    "start_time": "2022-04-17T09:04:20.010Z"
   },
   {
    "duration": 42,
    "start_time": "2022-04-17T09:04:20.031Z"
   },
   {
    "duration": 6,
    "start_time": "2022-04-17T09:04:20.075Z"
   },
   {
    "duration": 11,
    "start_time": "2022-04-17T09:04:20.083Z"
   },
   {
    "duration": 7,
    "start_time": "2022-04-17T09:04:20.095Z"
   },
   {
    "duration": 6,
    "start_time": "2022-04-17T09:04:20.104Z"
   },
   {
    "duration": 7,
    "start_time": "2022-04-17T09:04:20.112Z"
   },
   {
    "duration": 5,
    "start_time": "2022-04-17T09:04:20.124Z"
   },
   {
    "duration": 45,
    "start_time": "2022-04-17T09:04:20.131Z"
   },
   {
    "duration": 14,
    "start_time": "2022-04-17T09:04:20.178Z"
   },
   {
    "duration": 11,
    "start_time": "2022-04-17T09:04:20.194Z"
   },
   {
    "duration": 223,
    "start_time": "2022-04-17T09:04:20.207Z"
   },
   {
    "duration": 6,
    "start_time": "2022-04-17T09:04:20.433Z"
   },
   {
    "duration": 19,
    "start_time": "2022-04-17T09:04:20.441Z"
   },
   {
    "duration": 148,
    "start_time": "2022-04-17T09:04:20.461Z"
   },
   {
    "duration": 11,
    "start_time": "2022-04-17T09:04:20.611Z"
   },
   {
    "duration": 16,
    "start_time": "2022-04-17T09:04:20.624Z"
   },
   {
    "duration": 46,
    "start_time": "2022-04-17T09:04:20.642Z"
   },
   {
    "duration": 12,
    "start_time": "2022-04-17T09:04:20.690Z"
   },
   {
    "duration": 156,
    "start_time": "2022-04-17T09:04:20.703Z"
   },
   {
    "duration": 26,
    "start_time": "2022-04-17T09:04:20.862Z"
   },
   {
    "duration": 3,
    "start_time": "2022-04-17T09:04:20.891Z"
   },
   {
    "duration": 20,
    "start_time": "2022-04-17T09:04:20.895Z"
   },
   {
    "duration": 1604,
    "start_time": "2022-04-17T09:04:20.917Z"
   },
   {
    "duration": 7,
    "start_time": "2022-04-17T09:04:22.522Z"
   },
   {
    "duration": 31,
    "start_time": "2022-04-17T09:04:22.531Z"
   },
   {
    "duration": 16,
    "start_time": "2022-04-17T09:04:22.572Z"
   },
   {
    "duration": 14,
    "start_time": "2022-04-17T09:04:22.589Z"
   },
   {
    "duration": 553,
    "start_time": "2022-04-17T09:04:22.605Z"
   },
   {
    "duration": 25,
    "start_time": "2022-04-17T09:04:23.160Z"
   },
   {
    "duration": 18,
    "start_time": "2022-04-17T09:04:23.187Z"
   },
   {
    "duration": 184,
    "start_time": "2022-04-17T09:04:23.206Z"
   },
   {
    "duration": 181,
    "start_time": "2022-04-17T09:04:23.392Z"
   },
   {
    "duration": 924,
    "start_time": "2022-04-17T09:04:23.575Z"
   },
   {
    "duration": 14,
    "start_time": "2022-04-17T09:04:24.500Z"
   },
   {
    "duration": 411,
    "start_time": "2022-04-17T09:04:24.515Z"
   },
   {
    "duration": 7,
    "start_time": "2022-04-17T09:04:24.928Z"
   },
   {
    "duration": 1109,
    "start_time": "2022-04-17T09:04:24.938Z"
   },
   {
    "duration": 15,
    "start_time": "2022-04-17T09:04:26.049Z"
   },
   {
    "duration": 366,
    "start_time": "2022-04-17T09:04:26.074Z"
   },
   {
    "duration": 261,
    "start_time": "2022-04-17T09:04:26.442Z"
   },
   {
    "duration": 15,
    "start_time": "2022-04-17T09:04:26.704Z"
   },
   {
    "duration": 17,
    "start_time": "2022-04-17T09:04:26.721Z"
   },
   {
    "duration": 9,
    "start_time": "2022-04-17T09:04:26.740Z"
   },
   {
    "duration": 38,
    "start_time": "2022-04-17T09:04:26.750Z"
   },
   {
    "duration": 9,
    "start_time": "2022-04-17T09:04:26.790Z"
   },
   {
    "duration": 22,
    "start_time": "2022-04-17T09:04:26.800Z"
   },
   {
    "duration": 9,
    "start_time": "2022-04-17T09:04:26.824Z"
   },
   {
    "duration": 46,
    "start_time": "2022-04-17T09:04:26.834Z"
   },
   {
    "duration": 197,
    "start_time": "2022-04-17T09:04:26.882Z"
   },
   {
    "duration": 17,
    "start_time": "2022-04-17T09:04:27.081Z"
   },
   {
    "duration": 184,
    "start_time": "2022-04-17T09:04:27.100Z"
   },
   {
    "duration": 18,
    "start_time": "2022-04-17T09:04:27.286Z"
   },
   {
    "duration": 16,
    "start_time": "2022-04-17T09:04:27.305Z"
   },
   {
    "duration": 15,
    "start_time": "2022-04-17T09:04:27.323Z"
   },
   {
    "duration": 44,
    "start_time": "2022-04-17T09:04:27.340Z"
   },
   {
    "duration": 188,
    "start_time": "2022-04-17T09:04:27.385Z"
   },
   {
    "duration": 17,
    "start_time": "2022-04-17T09:04:27.575Z"
   },
   {
    "duration": 17,
    "start_time": "2022-04-17T09:04:27.593Z"
   },
   {
    "duration": 16,
    "start_time": "2022-04-17T09:04:27.612Z"
   },
   {
    "duration": 7,
    "start_time": "2022-04-17T09:04:27.631Z"
   },
   {
    "duration": 216,
    "start_time": "2022-04-17T09:04:27.676Z"
   },
   {
    "duration": 6,
    "start_time": "2022-04-17T09:04:27.893Z"
   },
   {
    "duration": 11,
    "start_time": "2022-04-17T09:04:27.900Z"
   },
   {
    "duration": 263,
    "start_time": "2022-04-17T09:04:27.912Z"
   },
   {
    "duration": 5,
    "start_time": "2022-04-17T09:04:28.177Z"
   },
   {
    "duration": 1301,
    "start_time": "2022-04-17T10:23:30.014Z"
   },
   {
    "duration": 132,
    "start_time": "2022-04-17T10:23:31.317Z"
   },
   {
    "duration": 30,
    "start_time": "2022-04-17T10:23:31.450Z"
   },
   {
    "duration": 5,
    "start_time": "2022-04-17T10:23:31.482Z"
   },
   {
    "duration": 8,
    "start_time": "2022-04-17T10:23:31.489Z"
   },
   {
    "duration": 13,
    "start_time": "2022-04-17T10:23:31.498Z"
   },
   {
    "duration": 15,
    "start_time": "2022-04-17T10:23:31.512Z"
   },
   {
    "duration": 13,
    "start_time": "2022-04-17T10:23:31.528Z"
   },
   {
    "duration": 5,
    "start_time": "2022-04-17T10:23:31.543Z"
   },
   {
    "duration": 13,
    "start_time": "2022-04-17T10:23:31.550Z"
   },
   {
    "duration": 13,
    "start_time": "2022-04-17T10:23:31.564Z"
   },
   {
    "duration": 30,
    "start_time": "2022-04-17T10:23:31.578Z"
   },
   {
    "duration": 10,
    "start_time": "2022-04-17T10:23:31.609Z"
   },
   {
    "duration": 4,
    "start_time": "2022-04-17T10:23:31.620Z"
   },
   {
    "duration": 10,
    "start_time": "2022-04-17T10:23:31.626Z"
   },
   {
    "duration": 16,
    "start_time": "2022-04-17T10:23:31.637Z"
   },
   {
    "duration": 7,
    "start_time": "2022-04-17T10:23:31.654Z"
   },
   {
    "duration": 46,
    "start_time": "2022-04-17T10:23:31.662Z"
   },
   {
    "duration": 5,
    "start_time": "2022-04-17T10:23:31.710Z"
   },
   {
    "duration": 1698,
    "start_time": "2022-04-17T10:23:31.717Z"
   },
   {
    "duration": 18,
    "start_time": "2022-04-17T10:23:33.417Z"
   },
   {
    "duration": 17,
    "start_time": "2022-04-17T10:23:33.437Z"
   },
   {
    "duration": 6,
    "start_time": "2022-04-17T10:23:33.456Z"
   },
   {
    "duration": 7,
    "start_time": "2022-04-17T10:23:33.464Z"
   },
   {
    "duration": 37,
    "start_time": "2022-04-17T10:23:33.473Z"
   },
   {
    "duration": 6,
    "start_time": "2022-04-17T10:23:33.511Z"
   },
   {
    "duration": 6,
    "start_time": "2022-04-17T10:23:33.518Z"
   },
   {
    "duration": 4,
    "start_time": "2022-04-17T10:23:33.528Z"
   },
   {
    "duration": 10,
    "start_time": "2022-04-17T10:23:33.534Z"
   },
   {
    "duration": 11,
    "start_time": "2022-04-17T10:23:33.545Z"
   },
   {
    "duration": 8,
    "start_time": "2022-04-17T10:23:33.558Z"
   },
   {
    "duration": 206,
    "start_time": "2022-04-17T10:23:33.568Z"
   },
   {
    "duration": 5,
    "start_time": "2022-04-17T10:23:33.775Z"
   },
   {
    "duration": 26,
    "start_time": "2022-04-17T10:23:33.782Z"
   },
   {
    "duration": 147,
    "start_time": "2022-04-17T10:23:33.809Z"
   },
   {
    "duration": 10,
    "start_time": "2022-04-17T10:23:33.958Z"
   },
   {
    "duration": 17,
    "start_time": "2022-04-17T10:23:33.970Z"
   },
   {
    "duration": 17,
    "start_time": "2022-04-17T10:23:34.006Z"
   },
   {
    "duration": 10,
    "start_time": "2022-04-17T10:23:34.025Z"
   },
   {
    "duration": 155,
    "start_time": "2022-04-17T10:23:34.037Z"
   },
   {
    "duration": 26,
    "start_time": "2022-04-17T10:23:34.194Z"
   },
   {
    "duration": 3,
    "start_time": "2022-04-17T10:23:34.222Z"
   },
   {
    "duration": 17,
    "start_time": "2022-04-17T10:23:34.227Z"
   },
   {
    "duration": 1559,
    "start_time": "2022-04-17T10:23:34.245Z"
   },
   {
    "duration": 7,
    "start_time": "2022-04-17T10:23:35.806Z"
   },
   {
    "duration": 29,
    "start_time": "2022-04-17T10:23:35.814Z"
   },
   {
    "duration": 16,
    "start_time": "2022-04-17T10:23:35.845Z"
   },
   {
    "duration": 12,
    "start_time": "2022-04-17T10:23:35.862Z"
   },
   {
    "duration": 533,
    "start_time": "2022-04-17T10:23:35.876Z"
   },
   {
    "duration": 17,
    "start_time": "2022-04-17T10:23:36.411Z"
   },
   {
    "duration": 17,
    "start_time": "2022-04-17T10:23:36.430Z"
   },
   {
    "duration": 190,
    "start_time": "2022-04-17T10:23:36.448Z"
   },
   {
    "duration": 177,
    "start_time": "2022-04-17T10:23:36.639Z"
   },
   {
    "duration": 880,
    "start_time": "2022-04-17T10:23:36.818Z"
   },
   {
    "duration": 13,
    "start_time": "2022-04-17T10:23:37.700Z"
   },
   {
    "duration": 357,
    "start_time": "2022-04-17T10:23:37.714Z"
   },
   {
    "duration": 6,
    "start_time": "2022-04-17T10:23:38.073Z"
   },
   {
    "duration": 1067,
    "start_time": "2022-04-17T10:23:38.081Z"
   },
   {
    "duration": 14,
    "start_time": "2022-04-17T10:23:39.149Z"
   },
   {
    "duration": 390,
    "start_time": "2022-04-17T10:23:39.164Z"
   },
   {
    "duration": 260,
    "start_time": "2022-04-17T10:23:39.556Z"
   },
   {
    "duration": 15,
    "start_time": "2022-04-17T10:23:39.818Z"
   },
   {
    "duration": 15,
    "start_time": "2022-04-17T10:23:39.834Z"
   },
   {
    "duration": 9,
    "start_time": "2022-04-17T10:23:39.850Z"
   },
   {
    "duration": 16,
    "start_time": "2022-04-17T10:23:39.861Z"
   },
   {
    "duration": 10,
    "start_time": "2022-04-17T10:23:39.908Z"
   },
   {
    "duration": 17,
    "start_time": "2022-04-17T10:23:39.920Z"
   },
   {
    "duration": 8,
    "start_time": "2022-04-17T10:23:39.939Z"
   },
   {
    "duration": 19,
    "start_time": "2022-04-17T10:23:39.949Z"
   },
   {
    "duration": 210,
    "start_time": "2022-04-17T10:23:39.970Z"
   },
   {
    "duration": 26,
    "start_time": "2022-04-17T10:23:40.182Z"
   },
   {
    "duration": 168,
    "start_time": "2022-04-17T10:23:40.210Z"
   },
   {
    "duration": 28,
    "start_time": "2022-04-17T10:23:40.379Z"
   },
   {
    "duration": 16,
    "start_time": "2022-04-17T10:23:40.409Z"
   },
   {
    "duration": 15,
    "start_time": "2022-04-17T10:23:40.427Z"
   },
   {
    "duration": 18,
    "start_time": "2022-04-17T10:23:40.444Z"
   },
   {
    "duration": 205,
    "start_time": "2022-04-17T10:23:40.464Z"
   },
   {
    "duration": 20,
    "start_time": "2022-04-17T10:23:40.671Z"
   },
   {
    "duration": 30,
    "start_time": "2022-04-17T10:23:40.693Z"
   },
   {
    "duration": 16,
    "start_time": "2022-04-17T10:23:40.724Z"
   },
   {
    "duration": 7,
    "start_time": "2022-04-17T10:23:40.741Z"
   },
   {
    "duration": 238,
    "start_time": "2022-04-17T10:23:40.754Z"
   },
   {
    "duration": 14,
    "start_time": "2022-04-17T10:23:40.994Z"
   },
   {
    "duration": 8,
    "start_time": "2022-04-17T10:23:41.009Z"
   },
   {
    "duration": 269,
    "start_time": "2022-04-17T10:23:41.018Z"
   },
   {
    "duration": 6,
    "start_time": "2022-04-17T10:23:41.289Z"
   },
   {
    "duration": 6,
    "start_time": "2022-04-17T10:23:54.604Z"
   },
   {
    "duration": 7,
    "start_time": "2022-04-17T10:24:13.091Z"
   },
   {
    "duration": 8,
    "start_time": "2022-04-17T10:24:32.488Z"
   },
   {
    "duration": 9,
    "start_time": "2022-04-17T10:24:43.964Z"
   },
   {
    "duration": 12,
    "start_time": "2022-04-17T10:25:02.992Z"
   },
   {
    "duration": 100,
    "start_time": "2022-04-17T10:25:49.647Z"
   },
   {
    "duration": 12,
    "start_time": "2022-04-17T10:26:09.856Z"
   },
   {
    "duration": 5790,
    "start_time": "2022-04-17T10:26:23.931Z"
   },
   {
    "duration": 5508,
    "start_time": "2022-04-17T10:26:36.400Z"
   },
   {
    "duration": 4493,
    "start_time": "2022-04-17T10:26:53.466Z"
   },
   {
    "duration": 5056,
    "start_time": "2022-04-17T10:27:05.508Z"
   },
   {
    "duration": 5558,
    "start_time": "2022-04-17T10:27:13.078Z"
   },
   {
    "duration": 4971,
    "start_time": "2022-04-17T10:27:31.888Z"
   },
   {
    "duration": 1065,
    "start_time": "2022-04-17T10:28:21.204Z"
   },
   {
    "duration": 13,
    "start_time": "2022-04-17T10:28:31.154Z"
   },
   {
    "duration": 7,
    "start_time": "2022-04-17T10:33:39.180Z"
   },
   {
    "duration": 7,
    "start_time": "2022-04-17T10:33:47.620Z"
   },
   {
    "duration": 1026,
    "start_time": "2022-04-17T10:51:11.870Z"
   },
   {
    "duration": 1213,
    "start_time": "2022-04-17T10:51:35.624Z"
   },
   {
    "duration": 36,
    "start_time": "2022-04-17T10:51:45.686Z"
   },
   {
    "duration": 34,
    "start_time": "2022-04-17T10:51:52.610Z"
   },
   {
    "duration": 130,
    "start_time": "2022-04-17T10:52:11.092Z"
   },
   {
    "duration": 32,
    "start_time": "2022-04-17T10:52:21.792Z"
   },
   {
    "duration": 26,
    "start_time": "2022-04-17T10:52:39.732Z"
   },
   {
    "duration": 26,
    "start_time": "2022-04-17T10:52:46.632Z"
   },
   {
    "duration": 15,
    "start_time": "2022-04-17T10:52:54.531Z"
   },
   {
    "duration": 34,
    "start_time": "2022-04-17T10:52:58.291Z"
   },
   {
    "duration": 30,
    "start_time": "2022-04-17T10:53:05.611Z"
   },
   {
    "duration": 22,
    "start_time": "2022-04-17T10:53:14.710Z"
   },
   {
    "duration": 26,
    "start_time": "2022-04-17T10:53:24.532Z"
   },
   {
    "duration": 6,
    "start_time": "2022-04-17T10:53:45.043Z"
   },
   {
    "duration": 15,
    "start_time": "2022-04-17T10:53:50.851Z"
   },
   {
    "duration": 5,
    "start_time": "2022-04-17T10:56:58.273Z"
   },
   {
    "duration": 6,
    "start_time": "2022-04-17T10:57:06.312Z"
   },
   {
    "duration": 206,
    "start_time": "2022-04-17T10:59:15.839Z"
   },
   {
    "duration": 73,
    "start_time": "2022-04-18T06:15:30.152Z"
   },
   {
    "duration": 11,
    "start_time": "2022-04-18T06:15:52.322Z"
   },
   {
    "duration": 1955,
    "start_time": "2022-04-18T06:16:07.245Z"
   },
   {
    "duration": 227,
    "start_time": "2022-04-18T06:16:09.203Z"
   },
   {
    "duration": 43,
    "start_time": "2022-04-18T06:16:09.434Z"
   },
   {
    "duration": 9,
    "start_time": "2022-04-18T06:16:09.480Z"
   },
   {
    "duration": 43,
    "start_time": "2022-04-18T06:16:09.491Z"
   },
   {
    "duration": 11,
    "start_time": "2022-04-18T06:16:09.538Z"
   },
   {
    "duration": 16,
    "start_time": "2022-04-18T06:16:09.552Z"
   },
   {
    "duration": 20,
    "start_time": "2022-04-18T06:16:09.570Z"
   },
   {
    "duration": 9,
    "start_time": "2022-04-18T06:16:09.625Z"
   },
   {
    "duration": 26,
    "start_time": "2022-04-18T06:16:09.640Z"
   },
   {
    "duration": 14,
    "start_time": "2022-04-18T06:16:09.669Z"
   },
   {
    "duration": 43,
    "start_time": "2022-04-18T06:16:09.686Z"
   },
   {
    "duration": 18,
    "start_time": "2022-04-18T06:16:09.731Z"
   },
   {
    "duration": 7,
    "start_time": "2022-04-18T06:16:09.751Z"
   },
   {
    "duration": 17,
    "start_time": "2022-04-18T06:16:09.760Z"
   },
   {
    "duration": 62,
    "start_time": "2022-04-18T06:16:09.779Z"
   },
   {
    "duration": 10,
    "start_time": "2022-04-18T06:16:09.844Z"
   },
   {
    "duration": 26,
    "start_time": "2022-04-18T06:16:09.856Z"
   },
   {
    "duration": 11,
    "start_time": "2022-04-18T06:16:09.884Z"
   },
   {
    "duration": 2924,
    "start_time": "2022-04-18T06:16:09.924Z"
   },
   {
    "duration": 33,
    "start_time": "2022-04-18T06:16:12.850Z"
   },
   {
    "duration": 59,
    "start_time": "2022-04-18T06:16:12.886Z"
   },
   {
    "duration": 8,
    "start_time": "2022-04-18T06:16:12.947Z"
   },
   {
    "duration": 13,
    "start_time": "2022-04-18T06:16:12.957Z"
   },
   {
    "duration": 8,
    "start_time": "2022-04-18T06:16:12.972Z"
   },
   {
    "duration": 45,
    "start_time": "2022-04-18T06:16:12.982Z"
   },
   {
    "duration": 28,
    "start_time": "2022-04-18T06:16:13.030Z"
   },
   {
    "duration": 10,
    "start_time": "2022-04-18T06:16:13.070Z"
   },
   {
    "duration": 15,
    "start_time": "2022-04-18T06:16:13.082Z"
   },
   {
    "duration": 37,
    "start_time": "2022-04-18T06:16:13.101Z"
   },
   {
    "duration": 18,
    "start_time": "2022-04-18T06:16:13.140Z"
   },
   {
    "duration": 10,
    "start_time": "2022-04-18T06:16:13.161Z"
   },
   {
    "duration": 14,
    "start_time": "2022-04-18T06:16:13.174Z"
   },
   {
    "duration": 326,
    "start_time": "2022-04-18T06:16:13.226Z"
   },
   {
    "duration": 7,
    "start_time": "2022-04-18T06:16:13.555Z"
   },
   {
    "duration": 20,
    "start_time": "2022-04-18T06:16:13.565Z"
   },
   {
    "duration": 275,
    "start_time": "2022-04-18T06:16:13.588Z"
   },
   {
    "duration": 12,
    "start_time": "2022-04-18T06:16:13.866Z"
   },
   {
    "duration": 43,
    "start_time": "2022-04-18T06:16:13.882Z"
   },
   {
    "duration": 29,
    "start_time": "2022-04-18T06:16:13.929Z"
   },
   {
    "duration": 14,
    "start_time": "2022-04-18T06:16:13.961Z"
   },
   {
    "duration": 288,
    "start_time": "2022-04-18T06:16:13.978Z"
   },
   {
    "duration": 24,
    "start_time": "2022-04-18T06:16:14.268Z"
   },
   {
    "duration": 11,
    "start_time": "2022-04-18T06:16:14.294Z"
   },
   {
    "duration": 29,
    "start_time": "2022-04-18T06:16:14.325Z"
   },
   {
    "duration": 2549,
    "start_time": "2022-04-18T06:16:14.356Z"
   },
   {
    "duration": 174,
    "start_time": "2022-04-18T06:16:16.908Z"
   },
   {
    "duration": 0,
    "start_time": "2022-04-18T06:16:17.085Z"
   },
   {
    "duration": 0,
    "start_time": "2022-04-18T06:16:17.086Z"
   },
   {
    "duration": 0,
    "start_time": "2022-04-18T06:16:17.088Z"
   },
   {
    "duration": 0,
    "start_time": "2022-04-18T06:16:17.090Z"
   },
   {
    "duration": 0,
    "start_time": "2022-04-18T06:16:17.092Z"
   },
   {
    "duration": 0,
    "start_time": "2022-04-18T06:16:17.093Z"
   },
   {
    "duration": 0,
    "start_time": "2022-04-18T06:16:17.095Z"
   },
   {
    "duration": 0,
    "start_time": "2022-04-18T06:16:17.096Z"
   },
   {
    "duration": 0,
    "start_time": "2022-04-18T06:16:17.126Z"
   },
   {
    "duration": 0,
    "start_time": "2022-04-18T06:16:17.129Z"
   },
   {
    "duration": 0,
    "start_time": "2022-04-18T06:16:17.131Z"
   },
   {
    "duration": 0,
    "start_time": "2022-04-18T06:16:17.133Z"
   },
   {
    "duration": 0,
    "start_time": "2022-04-18T06:16:17.135Z"
   },
   {
    "duration": 0,
    "start_time": "2022-04-18T06:16:17.136Z"
   },
   {
    "duration": 0,
    "start_time": "2022-04-18T06:16:17.138Z"
   },
   {
    "duration": 0,
    "start_time": "2022-04-18T06:16:17.140Z"
   },
   {
    "duration": 0,
    "start_time": "2022-04-18T06:16:17.142Z"
   },
   {
    "duration": 0,
    "start_time": "2022-04-18T06:16:17.143Z"
   },
   {
    "duration": 0,
    "start_time": "2022-04-18T06:16:17.146Z"
   },
   {
    "duration": 0,
    "start_time": "2022-04-18T06:16:17.148Z"
   },
   {
    "duration": 0,
    "start_time": "2022-04-18T06:16:17.150Z"
   },
   {
    "duration": 0,
    "start_time": "2022-04-18T06:16:17.151Z"
   },
   {
    "duration": 0,
    "start_time": "2022-04-18T06:16:17.153Z"
   },
   {
    "duration": 0,
    "start_time": "2022-04-18T06:16:17.155Z"
   },
   {
    "duration": 0,
    "start_time": "2022-04-18T06:16:17.157Z"
   },
   {
    "duration": 0,
    "start_time": "2022-04-18T06:16:17.158Z"
   },
   {
    "duration": 0,
    "start_time": "2022-04-18T06:16:17.160Z"
   },
   {
    "duration": 0,
    "start_time": "2022-04-18T06:16:17.162Z"
   },
   {
    "duration": 0,
    "start_time": "2022-04-18T06:16:17.164Z"
   },
   {
    "duration": 0,
    "start_time": "2022-04-18T06:16:17.225Z"
   },
   {
    "duration": 0,
    "start_time": "2022-04-18T06:16:17.228Z"
   },
   {
    "duration": 0,
    "start_time": "2022-04-18T06:16:17.230Z"
   },
   {
    "duration": 0,
    "start_time": "2022-04-18T06:16:17.233Z"
   },
   {
    "duration": 0,
    "start_time": "2022-04-18T06:16:17.236Z"
   },
   {
    "duration": 1,
    "start_time": "2022-04-18T06:16:17.237Z"
   },
   {
    "duration": 0,
    "start_time": "2022-04-18T06:16:17.240Z"
   },
   {
    "duration": 0,
    "start_time": "2022-04-18T06:16:17.241Z"
   },
   {
    "duration": 0,
    "start_time": "2022-04-18T06:16:17.243Z"
   },
   {
    "duration": 0,
    "start_time": "2022-04-18T06:16:17.244Z"
   },
   {
    "duration": 0,
    "start_time": "2022-04-18T06:16:17.246Z"
   },
   {
    "duration": 1,
    "start_time": "2022-04-18T06:16:17.247Z"
   },
   {
    "duration": 0,
    "start_time": "2022-04-18T06:16:17.249Z"
   },
   {
    "duration": 11,
    "start_time": "2022-04-18T06:17:07.090Z"
   },
   {
    "duration": 9,
    "start_time": "2022-04-18T06:17:13.239Z"
   },
   {
    "duration": 21,
    "start_time": "2022-04-18T06:35:03.876Z"
   },
   {
    "duration": 17,
    "start_time": "2022-04-18T06:35:13.291Z"
   },
   {
    "duration": 25,
    "start_time": "2022-04-18T06:40:31.419Z"
   },
   {
    "duration": 1593,
    "start_time": "2022-04-18T06:40:47.880Z"
   },
   {
    "duration": 166,
    "start_time": "2022-04-18T06:40:49.476Z"
   },
   {
    "duration": 40,
    "start_time": "2022-04-18T06:40:49.644Z"
   },
   {
    "duration": 8,
    "start_time": "2022-04-18T06:40:49.687Z"
   },
   {
    "duration": 32,
    "start_time": "2022-04-18T06:40:49.697Z"
   },
   {
    "duration": 12,
    "start_time": "2022-04-18T06:40:49.731Z"
   },
   {
    "duration": 16,
    "start_time": "2022-04-18T06:40:49.745Z"
   },
   {
    "duration": 17,
    "start_time": "2022-04-18T06:40:49.763Z"
   },
   {
    "duration": 45,
    "start_time": "2022-04-18T06:40:49.782Z"
   },
   {
    "duration": 17,
    "start_time": "2022-04-18T06:40:49.831Z"
   },
   {
    "duration": 14,
    "start_time": "2022-04-18T06:40:49.851Z"
   },
   {
    "duration": 8,
    "start_time": "2022-04-18T06:40:49.867Z"
   },
   {
    "duration": 55,
    "start_time": "2022-04-18T06:40:49.877Z"
   },
   {
    "duration": 7,
    "start_time": "2022-04-18T06:40:49.934Z"
   },
   {
    "duration": 16,
    "start_time": "2022-04-18T06:40:49.943Z"
   },
   {
    "duration": 23,
    "start_time": "2022-04-18T06:40:49.961Z"
   },
   {
    "duration": 10,
    "start_time": "2022-04-18T06:40:49.986Z"
   },
   {
    "duration": 26,
    "start_time": "2022-04-18T06:40:50.025Z"
   },
   {
    "duration": 9,
    "start_time": "2022-04-18T06:40:50.053Z"
   },
   {
    "duration": 2671,
    "start_time": "2022-04-18T06:40:50.064Z"
   },
   {
    "duration": 27,
    "start_time": "2022-04-18T06:40:52.738Z"
   },
   {
    "duration": 29,
    "start_time": "2022-04-18T06:40:52.767Z"
   },
   {
    "duration": 7,
    "start_time": "2022-04-18T06:40:52.824Z"
   },
   {
    "duration": 18,
    "start_time": "2022-04-18T06:40:52.834Z"
   },
   {
    "duration": 26,
    "start_time": "2022-04-18T06:40:52.854Z"
   },
   {
    "duration": 14,
    "start_time": "2022-04-18T06:40:52.883Z"
   },
   {
    "duration": 26,
    "start_time": "2022-04-18T06:40:52.900Z"
   },
   {
    "duration": 13,
    "start_time": "2022-04-18T06:40:52.935Z"
   },
   {
    "duration": 16,
    "start_time": "2022-04-18T06:40:52.950Z"
   },
   {
    "duration": 37,
    "start_time": "2022-04-18T06:40:52.969Z"
   },
   {
    "duration": 26,
    "start_time": "2022-04-18T06:40:53.008Z"
   },
   {
    "duration": 12,
    "start_time": "2022-04-18T06:40:53.037Z"
   },
   {
    "duration": 24,
    "start_time": "2022-04-18T06:40:53.051Z"
   },
   {
    "duration": 304,
    "start_time": "2022-04-18T06:40:53.077Z"
   },
   {
    "duration": 9,
    "start_time": "2022-04-18T06:40:53.384Z"
   },
   {
    "duration": 38,
    "start_time": "2022-04-18T06:40:53.396Z"
   },
   {
    "duration": 238,
    "start_time": "2022-04-18T06:40:53.436Z"
   },
   {
    "duration": 15,
    "start_time": "2022-04-18T06:40:53.677Z"
   },
   {
    "duration": 49,
    "start_time": "2022-04-18T06:40:53.694Z"
   },
   {
    "duration": 26,
    "start_time": "2022-04-18T06:40:53.746Z"
   },
   {
    "duration": 18,
    "start_time": "2022-04-18T06:40:53.775Z"
   },
   {
    "duration": 186,
    "start_time": "2022-04-18T06:40:53.796Z"
   },
   {
    "duration": 0,
    "start_time": "2022-04-18T06:40:53.986Z"
   },
   {
    "duration": 0,
    "start_time": "2022-04-18T06:40:53.989Z"
   },
   {
    "duration": 0,
    "start_time": "2022-04-18T06:40:53.991Z"
   },
   {
    "duration": 0,
    "start_time": "2022-04-18T06:40:53.993Z"
   },
   {
    "duration": 0,
    "start_time": "2022-04-18T06:40:53.995Z"
   },
   {
    "duration": 1,
    "start_time": "2022-04-18T06:40:53.997Z"
   },
   {
    "duration": 0,
    "start_time": "2022-04-18T06:40:54.000Z"
   },
   {
    "duration": 0,
    "start_time": "2022-04-18T06:40:54.025Z"
   },
   {
    "duration": 0,
    "start_time": "2022-04-18T06:40:54.028Z"
   },
   {
    "duration": 0,
    "start_time": "2022-04-18T06:40:54.030Z"
   },
   {
    "duration": 0,
    "start_time": "2022-04-18T06:40:54.032Z"
   },
   {
    "duration": 0,
    "start_time": "2022-04-18T06:40:54.034Z"
   },
   {
    "duration": 0,
    "start_time": "2022-04-18T06:40:54.037Z"
   },
   {
    "duration": 0,
    "start_time": "2022-04-18T06:40:54.039Z"
   },
   {
    "duration": 0,
    "start_time": "2022-04-18T06:40:54.041Z"
   },
   {
    "duration": 0,
    "start_time": "2022-04-18T06:40:54.043Z"
   },
   {
    "duration": 0,
    "start_time": "2022-04-18T06:40:54.045Z"
   },
   {
    "duration": 0,
    "start_time": "2022-04-18T06:40:54.047Z"
   },
   {
    "duration": 0,
    "start_time": "2022-04-18T06:40:54.049Z"
   },
   {
    "duration": 0,
    "start_time": "2022-04-18T06:40:54.051Z"
   },
   {
    "duration": 0,
    "start_time": "2022-04-18T06:40:54.053Z"
   },
   {
    "duration": 0,
    "start_time": "2022-04-18T06:40:54.055Z"
   },
   {
    "duration": 0,
    "start_time": "2022-04-18T06:40:54.057Z"
   },
   {
    "duration": 0,
    "start_time": "2022-04-18T06:40:54.059Z"
   },
   {
    "duration": 0,
    "start_time": "2022-04-18T06:40:54.062Z"
   },
   {
    "duration": 0,
    "start_time": "2022-04-18T06:40:54.064Z"
   },
   {
    "duration": 0,
    "start_time": "2022-04-18T06:40:54.124Z"
   },
   {
    "duration": 1,
    "start_time": "2022-04-18T06:40:54.126Z"
   },
   {
    "duration": 0,
    "start_time": "2022-04-18T06:40:54.129Z"
   },
   {
    "duration": 0,
    "start_time": "2022-04-18T06:40:54.131Z"
   },
   {
    "duration": 0,
    "start_time": "2022-04-18T06:40:54.133Z"
   },
   {
    "duration": 0,
    "start_time": "2022-04-18T06:40:54.136Z"
   },
   {
    "duration": 0,
    "start_time": "2022-04-18T06:40:54.138Z"
   },
   {
    "duration": 0,
    "start_time": "2022-04-18T06:40:54.140Z"
   },
   {
    "duration": 0,
    "start_time": "2022-04-18T06:40:54.142Z"
   },
   {
    "duration": 0,
    "start_time": "2022-04-18T06:40:54.144Z"
   },
   {
    "duration": 0,
    "start_time": "2022-04-18T06:40:54.147Z"
   },
   {
    "duration": 0,
    "start_time": "2022-04-18T06:40:54.148Z"
   },
   {
    "duration": 0,
    "start_time": "2022-04-18T06:40:54.151Z"
   },
   {
    "duration": 0,
    "start_time": "2022-04-18T06:40:54.153Z"
   },
   {
    "duration": 0,
    "start_time": "2022-04-18T06:40:54.155Z"
   },
   {
    "duration": 0,
    "start_time": "2022-04-18T06:40:54.157Z"
   },
   {
    "duration": 0,
    "start_time": "2022-04-18T06:40:54.159Z"
   },
   {
    "duration": 0,
    "start_time": "2022-04-18T06:40:54.225Z"
   },
   {
    "duration": 0,
    "start_time": "2022-04-18T06:40:54.228Z"
   },
   {
    "duration": 0,
    "start_time": "2022-04-18T06:40:54.230Z"
   },
   {
    "duration": 0,
    "start_time": "2022-04-18T06:40:54.233Z"
   },
   {
    "duration": 0,
    "start_time": "2022-04-18T06:40:54.234Z"
   },
   {
    "duration": 9,
    "start_time": "2022-04-18T06:45:09.233Z"
   },
   {
    "duration": 19,
    "start_time": "2022-04-18T06:54:57.604Z"
   },
   {
    "duration": 19,
    "start_time": "2022-04-18T06:55:03.105Z"
   },
   {
    "duration": 20,
    "start_time": "2022-04-18T06:55:52.802Z"
   },
   {
    "duration": 14,
    "start_time": "2022-04-18T06:56:06.222Z"
   },
   {
    "duration": 13,
    "start_time": "2022-04-18T06:56:24.937Z"
   },
   {
    "duration": 30,
    "start_time": "2022-04-18T06:56:30.869Z"
   },
   {
    "duration": 27,
    "start_time": "2022-04-18T06:59:10.710Z"
   },
   {
    "duration": 313,
    "start_time": "2022-04-18T06:59:50.438Z"
   },
   {
    "duration": 1590,
    "start_time": "2022-04-18T07:00:31.364Z"
   },
   {
    "duration": 150,
    "start_time": "2022-04-18T07:00:32.957Z"
   },
   {
    "duration": 40,
    "start_time": "2022-04-18T07:00:33.109Z"
   },
   {
    "duration": 9,
    "start_time": "2022-04-18T07:00:33.153Z"
   },
   {
    "duration": 36,
    "start_time": "2022-04-18T07:00:33.164Z"
   },
   {
    "duration": 18,
    "start_time": "2022-04-18T07:00:33.202Z"
   },
   {
    "duration": 40,
    "start_time": "2022-04-18T07:00:33.222Z"
   },
   {
    "duration": 41,
    "start_time": "2022-04-18T07:00:33.265Z"
   },
   {
    "duration": 29,
    "start_time": "2022-04-18T07:00:33.308Z"
   },
   {
    "duration": 44,
    "start_time": "2022-04-18T07:00:33.341Z"
   },
   {
    "duration": 28,
    "start_time": "2022-04-18T07:00:33.387Z"
   },
   {
    "duration": 26,
    "start_time": "2022-04-18T07:00:33.418Z"
   },
   {
    "duration": 54,
    "start_time": "2022-04-18T07:00:33.447Z"
   },
   {
    "duration": 29,
    "start_time": "2022-04-18T07:00:33.503Z"
   },
   {
    "duration": 33,
    "start_time": "2022-04-18T07:00:33.534Z"
   },
   {
    "duration": 42,
    "start_time": "2022-04-18T07:00:33.569Z"
   },
   {
    "duration": 16,
    "start_time": "2022-04-18T07:00:33.613Z"
   },
   {
    "duration": 54,
    "start_time": "2022-04-18T07:00:33.632Z"
   },
   {
    "duration": 28,
    "start_time": "2022-04-18T07:00:33.689Z"
   },
   {
    "duration": 2838,
    "start_time": "2022-04-18T07:00:33.719Z"
   },
   {
    "duration": 24,
    "start_time": "2022-04-18T07:00:36.560Z"
   },
   {
    "duration": 50,
    "start_time": "2022-04-18T07:00:36.587Z"
   },
   {
    "duration": 8,
    "start_time": "2022-04-18T07:00:36.640Z"
   },
   {
    "duration": 14,
    "start_time": "2022-04-18T07:00:36.650Z"
   },
   {
    "duration": 9,
    "start_time": "2022-04-18T07:00:36.666Z"
   },
   {
    "duration": 48,
    "start_time": "2022-04-18T07:00:36.678Z"
   },
   {
    "duration": 17,
    "start_time": "2022-04-18T07:00:36.728Z"
   },
   {
    "duration": 8,
    "start_time": "2022-04-18T07:00:36.753Z"
   },
   {
    "duration": 15,
    "start_time": "2022-04-18T07:00:36.763Z"
   },
   {
    "duration": 49,
    "start_time": "2022-04-18T07:00:36.780Z"
   },
   {
    "duration": 18,
    "start_time": "2022-04-18T07:00:36.832Z"
   },
   {
    "duration": 10,
    "start_time": "2022-04-18T07:00:36.852Z"
   },
   {
    "duration": 11,
    "start_time": "2022-04-18T07:00:36.865Z"
   },
   {
    "duration": 350,
    "start_time": "2022-04-18T07:00:36.879Z"
   },
   {
    "duration": 7,
    "start_time": "2022-04-18T07:00:37.232Z"
   },
   {
    "duration": 29,
    "start_time": "2022-04-18T07:00:37.242Z"
   },
   {
    "duration": 438,
    "start_time": "2022-04-18T07:00:37.279Z"
   },
   {
    "duration": 16,
    "start_time": "2022-04-18T07:00:37.724Z"
   },
   {
    "duration": 28,
    "start_time": "2022-04-18T07:00:37.743Z"
   },
   {
    "duration": 59,
    "start_time": "2022-04-18T07:00:37.774Z"
   },
   {
    "duration": 6,
    "start_time": "2022-04-18T07:00:37.836Z"
   },
   {
    "duration": 30,
    "start_time": "2022-04-18T07:00:37.844Z"
   },
   {
    "duration": 247,
    "start_time": "2022-04-18T07:00:37.877Z"
   },
   {
    "duration": 26,
    "start_time": "2022-04-18T07:00:38.127Z"
   },
   {
    "duration": 4,
    "start_time": "2022-04-18T07:00:38.156Z"
   },
   {
    "duration": 24,
    "start_time": "2022-04-18T07:00:38.163Z"
   },
   {
    "duration": 2485,
    "start_time": "2022-04-18T07:00:38.224Z"
   },
   {
    "duration": 162,
    "start_time": "2022-04-18T07:00:40.711Z"
   },
   {
    "duration": 0,
    "start_time": "2022-04-18T07:00:40.876Z"
   },
   {
    "duration": 0,
    "start_time": "2022-04-18T07:00:40.878Z"
   },
   {
    "duration": 0,
    "start_time": "2022-04-18T07:00:40.879Z"
   },
   {
    "duration": 0,
    "start_time": "2022-04-18T07:00:40.880Z"
   },
   {
    "duration": 0,
    "start_time": "2022-04-18T07:00:40.881Z"
   },
   {
    "duration": 0,
    "start_time": "2022-04-18T07:00:40.883Z"
   },
   {
    "duration": 0,
    "start_time": "2022-04-18T07:00:40.885Z"
   },
   {
    "duration": 0,
    "start_time": "2022-04-18T07:00:40.886Z"
   },
   {
    "duration": 0,
    "start_time": "2022-04-18T07:00:40.888Z"
   },
   {
    "duration": 0,
    "start_time": "2022-04-18T07:00:40.890Z"
   },
   {
    "duration": 0,
    "start_time": "2022-04-18T07:00:40.891Z"
   },
   {
    "duration": 0,
    "start_time": "2022-04-18T07:00:40.892Z"
   },
   {
    "duration": 0,
    "start_time": "2022-04-18T07:00:40.894Z"
   },
   {
    "duration": 0,
    "start_time": "2022-04-18T07:00:40.925Z"
   },
   {
    "duration": 0,
    "start_time": "2022-04-18T07:00:40.927Z"
   },
   {
    "duration": 0,
    "start_time": "2022-04-18T07:00:40.929Z"
   },
   {
    "duration": 0,
    "start_time": "2022-04-18T07:00:40.931Z"
   },
   {
    "duration": 0,
    "start_time": "2022-04-18T07:00:40.932Z"
   },
   {
    "duration": 0,
    "start_time": "2022-04-18T07:00:40.933Z"
   },
   {
    "duration": 0,
    "start_time": "2022-04-18T07:00:40.935Z"
   },
   {
    "duration": 0,
    "start_time": "2022-04-18T07:00:40.936Z"
   },
   {
    "duration": 0,
    "start_time": "2022-04-18T07:00:40.938Z"
   },
   {
    "duration": 0,
    "start_time": "2022-04-18T07:00:40.940Z"
   },
   {
    "duration": 0,
    "start_time": "2022-04-18T07:00:40.942Z"
   },
   {
    "duration": 0,
    "start_time": "2022-04-18T07:00:40.943Z"
   },
   {
    "duration": 0,
    "start_time": "2022-04-18T07:00:40.945Z"
   },
   {
    "duration": 0,
    "start_time": "2022-04-18T07:00:40.946Z"
   },
   {
    "duration": 0,
    "start_time": "2022-04-18T07:00:40.948Z"
   },
   {
    "duration": 0,
    "start_time": "2022-04-18T07:00:40.949Z"
   },
   {
    "duration": 0,
    "start_time": "2022-04-18T07:00:40.950Z"
   },
   {
    "duration": 0,
    "start_time": "2022-04-18T07:00:40.952Z"
   },
   {
    "duration": 0,
    "start_time": "2022-04-18T07:00:40.953Z"
   },
   {
    "duration": 0,
    "start_time": "2022-04-18T07:00:40.955Z"
   },
   {
    "duration": 0,
    "start_time": "2022-04-18T07:00:40.956Z"
   },
   {
    "duration": 0,
    "start_time": "2022-04-18T07:00:40.958Z"
   },
   {
    "duration": 0,
    "start_time": "2022-04-18T07:00:40.959Z"
   },
   {
    "duration": 0,
    "start_time": "2022-04-18T07:00:40.961Z"
   },
   {
    "duration": 0,
    "start_time": "2022-04-18T07:00:41.025Z"
   },
   {
    "duration": 0,
    "start_time": "2022-04-18T07:00:41.026Z"
   },
   {
    "duration": 0,
    "start_time": "2022-04-18T07:00:41.028Z"
   },
   {
    "duration": 0,
    "start_time": "2022-04-18T07:00:41.029Z"
   },
   {
    "duration": 0,
    "start_time": "2022-04-18T07:00:41.031Z"
   },
   {
    "duration": 14,
    "start_time": "2022-04-18T07:01:53.342Z"
   },
   {
    "duration": 2280,
    "start_time": "2022-04-18T07:02:16.770Z"
   },
   {
    "duration": 1597,
    "start_time": "2022-04-18T07:02:55.549Z"
   },
   {
    "duration": 155,
    "start_time": "2022-04-18T07:02:57.149Z"
   },
   {
    "duration": 40,
    "start_time": "2022-04-18T07:02:57.306Z"
   },
   {
    "duration": 8,
    "start_time": "2022-04-18T07:02:57.349Z"
   },
   {
    "duration": 9,
    "start_time": "2022-04-18T07:02:57.359Z"
   },
   {
    "duration": 10,
    "start_time": "2022-04-18T07:02:57.370Z"
   },
   {
    "duration": 43,
    "start_time": "2022-04-18T07:02:57.382Z"
   },
   {
    "duration": 17,
    "start_time": "2022-04-18T07:02:57.427Z"
   },
   {
    "duration": 8,
    "start_time": "2022-04-18T07:02:57.447Z"
   },
   {
    "duration": 18,
    "start_time": "2022-04-18T07:02:57.459Z"
   },
   {
    "duration": 51,
    "start_time": "2022-04-18T07:02:57.479Z"
   },
   {
    "duration": 8,
    "start_time": "2022-04-18T07:02:57.532Z"
   },
   {
    "duration": 15,
    "start_time": "2022-04-18T07:02:57.543Z"
   },
   {
    "duration": 6,
    "start_time": "2022-04-18T07:02:57.561Z"
   },
   {
    "duration": 59,
    "start_time": "2022-04-18T07:02:57.570Z"
   },
   {
    "duration": 31,
    "start_time": "2022-04-18T07:02:57.631Z"
   },
   {
    "duration": 13,
    "start_time": "2022-04-18T07:02:57.665Z"
   },
   {
    "duration": 64,
    "start_time": "2022-04-18T07:02:57.681Z"
   },
   {
    "duration": 10,
    "start_time": "2022-04-18T07:02:57.748Z"
   },
   {
    "duration": 2988,
    "start_time": "2022-04-18T07:02:57.761Z"
   },
   {
    "duration": 25,
    "start_time": "2022-04-18T07:03:00.752Z"
   },
   {
    "duration": 48,
    "start_time": "2022-04-18T07:03:00.779Z"
   },
   {
    "duration": 14,
    "start_time": "2022-04-18T07:03:00.829Z"
   },
   {
    "duration": 17,
    "start_time": "2022-04-18T07:03:00.845Z"
   },
   {
    "duration": 23,
    "start_time": "2022-04-18T07:03:00.865Z"
   },
   {
    "duration": 17,
    "start_time": "2022-04-18T07:03:00.890Z"
   },
   {
    "duration": 18,
    "start_time": "2022-04-18T07:03:00.909Z"
   },
   {
    "duration": 8,
    "start_time": "2022-04-18T07:03:00.934Z"
   },
   {
    "duration": 17,
    "start_time": "2022-04-18T07:03:00.944Z"
   },
   {
    "duration": 21,
    "start_time": "2022-04-18T07:03:00.963Z"
   },
   {
    "duration": 42,
    "start_time": "2022-04-18T07:03:00.986Z"
   },
   {
    "duration": 9,
    "start_time": "2022-04-18T07:03:01.030Z"
   },
   {
    "duration": 13,
    "start_time": "2022-04-18T07:03:01.041Z"
   },
   {
    "duration": 575,
    "start_time": "2022-04-18T07:03:01.057Z"
   },
   {
    "duration": 10,
    "start_time": "2022-04-18T07:03:01.635Z"
   },
   {
    "duration": 31,
    "start_time": "2022-04-18T07:03:01.648Z"
   },
   {
    "duration": 381,
    "start_time": "2022-04-18T07:03:01.682Z"
   },
   {
    "duration": 18,
    "start_time": "2022-04-18T07:03:02.066Z"
   },
   {
    "duration": 53,
    "start_time": "2022-04-18T07:03:02.087Z"
   },
   {
    "duration": 36,
    "start_time": "2022-04-18T07:03:02.143Z"
   },
   {
    "duration": 4,
    "start_time": "2022-04-18T07:03:02.181Z"
   },
   {
    "duration": 70,
    "start_time": "2022-04-18T07:03:02.188Z"
   },
   {
    "duration": 328,
    "start_time": "2022-04-18T07:03:02.261Z"
   },
   {
    "duration": 45,
    "start_time": "2022-04-18T07:03:02.592Z"
   },
   {
    "duration": 5,
    "start_time": "2022-04-18T07:03:02.640Z"
   },
   {
    "duration": 40,
    "start_time": "2022-04-18T07:03:02.648Z"
   },
   {
    "duration": 3621,
    "start_time": "2022-04-18T07:03:02.692Z"
   },
   {
    "duration": 156,
    "start_time": "2022-04-18T07:03:06.316Z"
   },
   {
    "duration": 0,
    "start_time": "2022-04-18T07:03:06.475Z"
   },
   {
    "duration": 0,
    "start_time": "2022-04-18T07:03:06.477Z"
   },
   {
    "duration": 0,
    "start_time": "2022-04-18T07:03:06.478Z"
   },
   {
    "duration": 0,
    "start_time": "2022-04-18T07:03:06.480Z"
   },
   {
    "duration": 0,
    "start_time": "2022-04-18T07:03:06.481Z"
   },
   {
    "duration": 0,
    "start_time": "2022-04-18T07:03:06.482Z"
   },
   {
    "duration": 0,
    "start_time": "2022-04-18T07:03:06.484Z"
   },
   {
    "duration": 1,
    "start_time": "2022-04-18T07:03:06.485Z"
   },
   {
    "duration": 0,
    "start_time": "2022-04-18T07:03:06.487Z"
   },
   {
    "duration": 0,
    "start_time": "2022-04-18T07:03:06.489Z"
   },
   {
    "duration": 0,
    "start_time": "2022-04-18T07:03:06.490Z"
   },
   {
    "duration": 0,
    "start_time": "2022-04-18T07:03:06.492Z"
   },
   {
    "duration": 0,
    "start_time": "2022-04-18T07:03:06.493Z"
   },
   {
    "duration": 1,
    "start_time": "2022-04-18T07:03:06.524Z"
   },
   {
    "duration": 0,
    "start_time": "2022-04-18T07:03:06.526Z"
   },
   {
    "duration": 0,
    "start_time": "2022-04-18T07:03:06.528Z"
   },
   {
    "duration": 0,
    "start_time": "2022-04-18T07:03:06.529Z"
   },
   {
    "duration": 0,
    "start_time": "2022-04-18T07:03:06.531Z"
   },
   {
    "duration": 0,
    "start_time": "2022-04-18T07:03:06.532Z"
   },
   {
    "duration": 0,
    "start_time": "2022-04-18T07:03:06.534Z"
   },
   {
    "duration": 0,
    "start_time": "2022-04-18T07:03:06.535Z"
   },
   {
    "duration": 0,
    "start_time": "2022-04-18T07:03:06.536Z"
   },
   {
    "duration": 0,
    "start_time": "2022-04-18T07:03:06.538Z"
   },
   {
    "duration": 0,
    "start_time": "2022-04-18T07:03:06.540Z"
   },
   {
    "duration": 0,
    "start_time": "2022-04-18T07:03:06.541Z"
   },
   {
    "duration": 0,
    "start_time": "2022-04-18T07:03:06.544Z"
   },
   {
    "duration": 0,
    "start_time": "2022-04-18T07:03:06.546Z"
   },
   {
    "duration": 0,
    "start_time": "2022-04-18T07:03:06.548Z"
   },
   {
    "duration": 0,
    "start_time": "2022-04-18T07:03:06.550Z"
   },
   {
    "duration": 0,
    "start_time": "2022-04-18T07:03:06.551Z"
   },
   {
    "duration": 0,
    "start_time": "2022-04-18T07:03:06.553Z"
   },
   {
    "duration": 0,
    "start_time": "2022-04-18T07:03:06.555Z"
   },
   {
    "duration": 0,
    "start_time": "2022-04-18T07:03:06.557Z"
   },
   {
    "duration": 0,
    "start_time": "2022-04-18T07:03:06.558Z"
   },
   {
    "duration": 0,
    "start_time": "2022-04-18T07:03:06.624Z"
   },
   {
    "duration": 0,
    "start_time": "2022-04-18T07:03:06.626Z"
   },
   {
    "duration": 0,
    "start_time": "2022-04-18T07:03:06.628Z"
   },
   {
    "duration": 0,
    "start_time": "2022-04-18T07:03:06.630Z"
   },
   {
    "duration": 0,
    "start_time": "2022-04-18T07:03:06.631Z"
   },
   {
    "duration": 0,
    "start_time": "2022-04-18T07:03:06.633Z"
   },
   {
    "duration": 0,
    "start_time": "2022-04-18T07:03:06.635Z"
   },
   {
    "duration": 0,
    "start_time": "2022-04-18T07:03:06.636Z"
   },
   {
    "duration": 218,
    "start_time": "2022-04-18T07:24:19.698Z"
   },
   {
    "duration": 9,
    "start_time": "2022-04-18T07:26:34.730Z"
   },
   {
    "duration": 10,
    "start_time": "2022-04-18T07:26:40.069Z"
   },
   {
    "duration": 7,
    "start_time": "2022-04-18T07:26:56.585Z"
   },
   {
    "duration": 1794,
    "start_time": "2022-04-18T07:29:57.764Z"
   },
   {
    "duration": 157,
    "start_time": "2022-04-18T07:29:59.561Z"
   },
   {
    "duration": 42,
    "start_time": "2022-04-18T07:29:59.720Z"
   },
   {
    "duration": 9,
    "start_time": "2022-04-18T07:29:59.765Z"
   },
   {
    "duration": 12,
    "start_time": "2022-04-18T07:29:59.776Z"
   },
   {
    "duration": 7,
    "start_time": "2022-04-18T07:29:59.791Z"
   },
   {
    "duration": 15,
    "start_time": "2022-04-18T07:29:59.825Z"
   },
   {
    "duration": 18,
    "start_time": "2022-04-18T07:29:59.841Z"
   },
   {
    "duration": 10,
    "start_time": "2022-04-18T07:29:59.862Z"
   },
   {
    "duration": 55,
    "start_time": "2022-04-18T07:29:59.877Z"
   },
   {
    "duration": 16,
    "start_time": "2022-04-18T07:29:59.935Z"
   },
   {
    "duration": 10,
    "start_time": "2022-04-18T07:29:59.953Z"
   },
   {
    "duration": 60,
    "start_time": "2022-04-18T07:29:59.966Z"
   },
   {
    "duration": 7,
    "start_time": "2022-04-18T07:30:00.028Z"
   },
   {
    "duration": 22,
    "start_time": "2022-04-18T07:30:00.037Z"
   },
   {
    "duration": 31,
    "start_time": "2022-04-18T07:30:00.062Z"
   },
   {
    "duration": 36,
    "start_time": "2022-04-18T07:30:00.095Z"
   },
   {
    "duration": 39,
    "start_time": "2022-04-18T07:30:00.133Z"
   },
   {
    "duration": 11,
    "start_time": "2022-04-18T07:30:00.174Z"
   },
   {
    "duration": 2637,
    "start_time": "2022-04-18T07:30:00.188Z"
   },
   {
    "duration": 27,
    "start_time": "2022-04-18T07:30:02.828Z"
   },
   {
    "duration": 29,
    "start_time": "2022-04-18T07:30:02.857Z"
   },
   {
    "duration": 39,
    "start_time": "2022-04-18T07:30:02.889Z"
   },
   {
    "duration": 14,
    "start_time": "2022-04-18T07:30:02.931Z"
   },
   {
    "duration": 7,
    "start_time": "2022-04-18T07:30:02.948Z"
   },
   {
    "duration": 12,
    "start_time": "2022-04-18T07:30:02.958Z"
   },
   {
    "duration": 13,
    "start_time": "2022-04-18T07:30:02.973Z"
   },
   {
    "duration": 8,
    "start_time": "2022-04-18T07:30:03.026Z"
   },
   {
    "duration": 35,
    "start_time": "2022-04-18T07:30:03.036Z"
   },
   {
    "duration": 37,
    "start_time": "2022-04-18T07:30:03.074Z"
   },
   {
    "duration": 17,
    "start_time": "2022-04-18T07:30:03.113Z"
   },
   {
    "duration": 31,
    "start_time": "2022-04-18T07:30:03.132Z"
   },
   {
    "duration": 36,
    "start_time": "2022-04-18T07:30:03.166Z"
   },
   {
    "duration": 304,
    "start_time": "2022-04-18T07:30:03.204Z"
   },
   {
    "duration": 14,
    "start_time": "2022-04-18T07:30:03.510Z"
   },
   {
    "duration": 29,
    "start_time": "2022-04-18T07:30:03.528Z"
   },
   {
    "duration": 242,
    "start_time": "2022-04-18T07:30:03.560Z"
   },
   {
    "duration": 23,
    "start_time": "2022-04-18T07:30:03.804Z"
   },
   {
    "duration": 44,
    "start_time": "2022-04-18T07:30:03.829Z"
   },
   {
    "duration": 25,
    "start_time": "2022-04-18T07:30:03.876Z"
   },
   {
    "duration": 21,
    "start_time": "2022-04-18T07:30:03.904Z"
   },
   {
    "duration": 51,
    "start_time": "2022-04-18T07:30:03.928Z"
   },
   {
    "duration": 221,
    "start_time": "2022-04-18T07:30:03.981Z"
   },
   {
    "duration": 33,
    "start_time": "2022-04-18T07:30:04.204Z"
   },
   {
    "duration": 4,
    "start_time": "2022-04-18T07:30:04.239Z"
   },
   {
    "duration": 28,
    "start_time": "2022-04-18T07:30:04.245Z"
   },
   {
    "duration": 2460,
    "start_time": "2022-04-18T07:30:04.275Z"
   },
   {
    "duration": 167,
    "start_time": "2022-04-18T07:30:06.737Z"
   },
   {
    "duration": 0,
    "start_time": "2022-04-18T07:30:06.907Z"
   },
   {
    "duration": 0,
    "start_time": "2022-04-18T07:30:06.909Z"
   },
   {
    "duration": 0,
    "start_time": "2022-04-18T07:30:06.910Z"
   },
   {
    "duration": 0,
    "start_time": "2022-04-18T07:30:06.924Z"
   },
   {
    "duration": 0,
    "start_time": "2022-04-18T07:30:06.926Z"
   },
   {
    "duration": 0,
    "start_time": "2022-04-18T07:30:06.928Z"
   },
   {
    "duration": 0,
    "start_time": "2022-04-18T07:30:06.929Z"
   },
   {
    "duration": 0,
    "start_time": "2022-04-18T07:30:06.931Z"
   },
   {
    "duration": 0,
    "start_time": "2022-04-18T07:30:06.932Z"
   },
   {
    "duration": 1,
    "start_time": "2022-04-18T07:30:06.933Z"
   },
   {
    "duration": 0,
    "start_time": "2022-04-18T07:30:06.936Z"
   },
   {
    "duration": 0,
    "start_time": "2022-04-18T07:30:06.937Z"
   },
   {
    "duration": 0,
    "start_time": "2022-04-18T07:30:06.939Z"
   },
   {
    "duration": 0,
    "start_time": "2022-04-18T07:30:06.940Z"
   },
   {
    "duration": 0,
    "start_time": "2022-04-18T07:30:06.943Z"
   },
   {
    "duration": 0,
    "start_time": "2022-04-18T07:30:06.944Z"
   },
   {
    "duration": 0,
    "start_time": "2022-04-18T07:30:06.946Z"
   },
   {
    "duration": 0,
    "start_time": "2022-04-18T07:30:06.948Z"
   },
   {
    "duration": 0,
    "start_time": "2022-04-18T07:30:06.950Z"
   },
   {
    "duration": 0,
    "start_time": "2022-04-18T07:30:06.952Z"
   },
   {
    "duration": 1,
    "start_time": "2022-04-18T07:30:06.953Z"
   },
   {
    "duration": 0,
    "start_time": "2022-04-18T07:30:06.955Z"
   },
   {
    "duration": 1,
    "start_time": "2022-04-18T07:30:06.956Z"
   },
   {
    "duration": 0,
    "start_time": "2022-04-18T07:30:06.958Z"
   },
   {
    "duration": 0,
    "start_time": "2022-04-18T07:30:06.960Z"
   },
   {
    "duration": 0,
    "start_time": "2022-04-18T07:30:07.025Z"
   },
   {
    "duration": 0,
    "start_time": "2022-04-18T07:30:07.027Z"
   },
   {
    "duration": 1,
    "start_time": "2022-04-18T07:30:07.028Z"
   },
   {
    "duration": 0,
    "start_time": "2022-04-18T07:30:07.030Z"
   },
   {
    "duration": 0,
    "start_time": "2022-04-18T07:30:07.032Z"
   },
   {
    "duration": 0,
    "start_time": "2022-04-18T07:30:07.034Z"
   },
   {
    "duration": 0,
    "start_time": "2022-04-18T07:30:07.035Z"
   },
   {
    "duration": 0,
    "start_time": "2022-04-18T07:30:07.037Z"
   },
   {
    "duration": 0,
    "start_time": "2022-04-18T07:30:07.039Z"
   },
   {
    "duration": 0,
    "start_time": "2022-04-18T07:30:07.040Z"
   },
   {
    "duration": 0,
    "start_time": "2022-04-18T07:30:07.042Z"
   },
   {
    "duration": 1,
    "start_time": "2022-04-18T07:30:07.043Z"
   },
   {
    "duration": 0,
    "start_time": "2022-04-18T07:30:07.045Z"
   },
   {
    "duration": 0,
    "start_time": "2022-04-18T07:30:07.047Z"
   },
   {
    "duration": 0,
    "start_time": "2022-04-18T07:30:07.048Z"
   },
   {
    "duration": 0,
    "start_time": "2022-04-18T07:30:07.050Z"
   },
   {
    "duration": 0,
    "start_time": "2022-04-18T07:30:07.051Z"
   },
   {
    "duration": 0,
    "start_time": "2022-04-18T07:30:07.053Z"
   },
   {
    "duration": 0,
    "start_time": "2022-04-18T07:30:07.055Z"
   },
   {
    "duration": 130,
    "start_time": "2022-04-18T07:45:26.909Z"
   },
   {
    "duration": 1485,
    "start_time": "2022-04-18T10:37:23.190Z"
   },
   {
    "duration": 237,
    "start_time": "2022-04-18T10:37:24.678Z"
   },
   {
    "duration": 41,
    "start_time": "2022-04-18T10:37:24.917Z"
   },
   {
    "duration": 9,
    "start_time": "2022-04-18T10:37:24.961Z"
   },
   {
    "duration": 29,
    "start_time": "2022-04-18T10:37:24.972Z"
   },
   {
    "duration": 6,
    "start_time": "2022-04-18T10:37:25.004Z"
   },
   {
    "duration": 22,
    "start_time": "2022-04-18T10:37:25.012Z"
   },
   {
    "duration": 20,
    "start_time": "2022-04-18T10:37:25.036Z"
   },
   {
    "duration": 8,
    "start_time": "2022-04-18T10:37:25.059Z"
   },
   {
    "duration": 19,
    "start_time": "2022-04-18T10:37:25.100Z"
   },
   {
    "duration": 27,
    "start_time": "2022-04-18T10:37:25.121Z"
   },
   {
    "duration": 14,
    "start_time": "2022-04-18T10:37:25.151Z"
   },
   {
    "duration": 28,
    "start_time": "2022-04-18T10:37:25.167Z"
   },
   {
    "duration": 5,
    "start_time": "2022-04-18T10:37:25.197Z"
   },
   {
    "duration": 29,
    "start_time": "2022-04-18T10:37:25.204Z"
   },
   {
    "duration": 26,
    "start_time": "2022-04-18T10:37:25.235Z"
   },
   {
    "duration": 17,
    "start_time": "2022-04-18T10:37:25.263Z"
   },
   {
    "duration": 26,
    "start_time": "2022-04-18T10:37:25.282Z"
   },
   {
    "duration": 6,
    "start_time": "2022-04-18T10:37:25.309Z"
   },
   {
    "duration": 2311,
    "start_time": "2022-04-18T10:37:25.317Z"
   },
   {
    "duration": 17,
    "start_time": "2022-04-18T10:37:27.630Z"
   },
   {
    "duration": 17,
    "start_time": "2022-04-18T10:37:27.649Z"
   },
   {
    "duration": 9,
    "start_time": "2022-04-18T10:37:27.667Z"
   },
   {
    "duration": 28,
    "start_time": "2022-04-18T10:37:27.677Z"
   },
   {
    "duration": 5,
    "start_time": "2022-04-18T10:37:27.707Z"
   },
   {
    "duration": 7,
    "start_time": "2022-04-18T10:37:27.713Z"
   },
   {
    "duration": 9,
    "start_time": "2022-04-18T10:37:27.722Z"
   },
   {
    "duration": 14,
    "start_time": "2022-04-18T10:37:27.736Z"
   },
   {
    "duration": 8,
    "start_time": "2022-04-18T10:37:27.751Z"
   },
   {
    "duration": 12,
    "start_time": "2022-04-18T10:37:27.761Z"
   },
   {
    "duration": 32,
    "start_time": "2022-04-18T10:37:27.775Z"
   },
   {
    "duration": 5,
    "start_time": "2022-04-18T10:37:27.809Z"
   },
   {
    "duration": 9,
    "start_time": "2022-04-18T10:37:27.816Z"
   },
   {
    "duration": 191,
    "start_time": "2022-04-18T10:37:27.826Z"
   },
   {
    "duration": 5,
    "start_time": "2022-04-18T10:37:28.019Z"
   },
   {
    "duration": 13,
    "start_time": "2022-04-18T10:37:28.025Z"
   },
   {
    "duration": 149,
    "start_time": "2022-04-18T10:37:28.039Z"
   },
   {
    "duration": 13,
    "start_time": "2022-04-18T10:37:28.190Z"
   },
   {
    "duration": 16,
    "start_time": "2022-04-18T10:37:28.205Z"
   },
   {
    "duration": 14,
    "start_time": "2022-04-18T10:37:28.223Z"
   },
   {
    "duration": 2,
    "start_time": "2022-04-18T10:37:28.238Z"
   },
   {
    "duration": 19,
    "start_time": "2022-04-18T10:37:28.242Z"
   },
   {
    "duration": 160,
    "start_time": "2022-04-18T10:37:28.262Z"
   },
   {
    "duration": 20,
    "start_time": "2022-04-18T10:37:28.424Z"
   },
   {
    "duration": 3,
    "start_time": "2022-04-18T10:37:28.445Z"
   },
   {
    "duration": 16,
    "start_time": "2022-04-18T10:37:28.449Z"
   },
   {
    "duration": 1393,
    "start_time": "2022-04-18T10:37:28.466Z"
   },
   {
    "duration": 98,
    "start_time": "2022-04-18T10:37:29.861Z"
   },
   {
    "duration": 0,
    "start_time": "2022-04-18T10:37:29.961Z"
   },
   {
    "duration": 0,
    "start_time": "2022-04-18T10:37:29.962Z"
   },
   {
    "duration": 0,
    "start_time": "2022-04-18T10:37:29.963Z"
   },
   {
    "duration": 0,
    "start_time": "2022-04-18T10:37:29.964Z"
   },
   {
    "duration": 0,
    "start_time": "2022-04-18T10:37:29.966Z"
   },
   {
    "duration": 0,
    "start_time": "2022-04-18T10:37:29.967Z"
   },
   {
    "duration": 0,
    "start_time": "2022-04-18T10:37:29.968Z"
   },
   {
    "duration": 0,
    "start_time": "2022-04-18T10:37:29.969Z"
   },
   {
    "duration": 0,
    "start_time": "2022-04-18T10:37:29.970Z"
   },
   {
    "duration": 0,
    "start_time": "2022-04-18T10:37:29.971Z"
   },
   {
    "duration": 0,
    "start_time": "2022-04-18T10:37:29.972Z"
   },
   {
    "duration": 0,
    "start_time": "2022-04-18T10:37:29.973Z"
   },
   {
    "duration": 0,
    "start_time": "2022-04-18T10:37:29.974Z"
   },
   {
    "duration": 0,
    "start_time": "2022-04-18T10:37:29.975Z"
   },
   {
    "duration": 0,
    "start_time": "2022-04-18T10:37:29.976Z"
   },
   {
    "duration": 0,
    "start_time": "2022-04-18T10:37:29.977Z"
   },
   {
    "duration": 0,
    "start_time": "2022-04-18T10:37:30.000Z"
   },
   {
    "duration": 0,
    "start_time": "2022-04-18T10:37:30.001Z"
   },
   {
    "duration": 0,
    "start_time": "2022-04-18T10:37:30.002Z"
   },
   {
    "duration": 0,
    "start_time": "2022-04-18T10:37:30.003Z"
   },
   {
    "duration": 0,
    "start_time": "2022-04-18T10:37:30.004Z"
   },
   {
    "duration": 0,
    "start_time": "2022-04-18T10:37:30.005Z"
   },
   {
    "duration": 0,
    "start_time": "2022-04-18T10:37:30.006Z"
   },
   {
    "duration": 0,
    "start_time": "2022-04-18T10:37:30.007Z"
   },
   {
    "duration": 0,
    "start_time": "2022-04-18T10:37:30.009Z"
   },
   {
    "duration": 0,
    "start_time": "2022-04-18T10:37:30.010Z"
   },
   {
    "duration": 0,
    "start_time": "2022-04-18T10:37:30.010Z"
   },
   {
    "duration": 0,
    "start_time": "2022-04-18T10:37:30.011Z"
   },
   {
    "duration": 0,
    "start_time": "2022-04-18T10:37:30.013Z"
   },
   {
    "duration": 0,
    "start_time": "2022-04-18T10:37:30.013Z"
   },
   {
    "duration": 0,
    "start_time": "2022-04-18T10:37:30.015Z"
   },
   {
    "duration": 0,
    "start_time": "2022-04-18T10:37:30.016Z"
   },
   {
    "duration": 0,
    "start_time": "2022-04-18T10:37:30.017Z"
   },
   {
    "duration": 0,
    "start_time": "2022-04-18T10:37:30.018Z"
   },
   {
    "duration": 0,
    "start_time": "2022-04-18T10:37:30.019Z"
   },
   {
    "duration": 0,
    "start_time": "2022-04-18T10:37:30.020Z"
   },
   {
    "duration": 0,
    "start_time": "2022-04-18T10:37:30.021Z"
   },
   {
    "duration": 0,
    "start_time": "2022-04-18T10:37:30.022Z"
   },
   {
    "duration": 0,
    "start_time": "2022-04-18T10:37:30.023Z"
   },
   {
    "duration": 0,
    "start_time": "2022-04-18T10:37:30.024Z"
   },
   {
    "duration": 0,
    "start_time": "2022-04-18T10:37:30.025Z"
   },
   {
    "duration": 0,
    "start_time": "2022-04-18T10:37:30.026Z"
   },
   {
    "duration": 0,
    "start_time": "2022-04-18T10:37:30.027Z"
   },
   {
    "duration": 0,
    "start_time": "2022-04-18T10:37:30.029Z"
   },
   {
    "duration": 0,
    "start_time": "2022-04-18T10:37:30.030Z"
   },
   {
    "duration": 1583,
    "start_time": "2022-04-18T10:39:20.320Z"
   },
   {
    "duration": 236,
    "start_time": "2022-04-18T10:39:21.906Z"
   },
   {
    "duration": 28,
    "start_time": "2022-04-18T10:39:22.143Z"
   },
   {
    "duration": 5,
    "start_time": "2022-04-18T10:39:22.173Z"
   },
   {
    "duration": 7,
    "start_time": "2022-04-18T10:39:22.179Z"
   },
   {
    "duration": 4,
    "start_time": "2022-04-18T10:39:22.200Z"
   },
   {
    "duration": 13,
    "start_time": "2022-04-18T10:39:22.205Z"
   },
   {
    "duration": 13,
    "start_time": "2022-04-18T10:39:22.219Z"
   },
   {
    "duration": 5,
    "start_time": "2022-04-18T10:39:22.233Z"
   },
   {
    "duration": 12,
    "start_time": "2022-04-18T10:39:22.241Z"
   },
   {
    "duration": 46,
    "start_time": "2022-04-18T10:39:22.255Z"
   },
   {
    "duration": 6,
    "start_time": "2022-04-18T10:39:22.303Z"
   },
   {
    "duration": 10,
    "start_time": "2022-04-18T10:39:22.310Z"
   },
   {
    "duration": 4,
    "start_time": "2022-04-18T10:39:22.321Z"
   },
   {
    "duration": 12,
    "start_time": "2022-04-18T10:39:22.327Z"
   },
   {
    "duration": 14,
    "start_time": "2022-04-18T10:39:22.340Z"
   },
   {
    "duration": 48,
    "start_time": "2022-04-18T10:39:22.355Z"
   },
   {
    "duration": 15,
    "start_time": "2022-04-18T10:39:22.405Z"
   },
   {
    "duration": 10,
    "start_time": "2022-04-18T10:39:22.422Z"
   },
   {
    "duration": 2317,
    "start_time": "2022-04-18T10:39:22.433Z"
   },
   {
    "duration": 26,
    "start_time": "2022-04-18T10:39:24.752Z"
   },
   {
    "duration": 43,
    "start_time": "2022-04-18T10:39:24.780Z"
   },
   {
    "duration": 7,
    "start_time": "2022-04-18T10:39:24.825Z"
   },
   {
    "duration": 11,
    "start_time": "2022-04-18T10:39:24.834Z"
   },
   {
    "duration": 7,
    "start_time": "2022-04-18T10:39:24.847Z"
   },
   {
    "duration": 7,
    "start_time": "2022-04-18T10:39:24.855Z"
   },
   {
    "duration": 6,
    "start_time": "2022-04-18T10:39:24.864Z"
   },
   {
    "duration": 7,
    "start_time": "2022-04-18T10:39:24.903Z"
   },
   {
    "duration": 10,
    "start_time": "2022-04-18T10:39:24.913Z"
   },
   {
    "duration": 17,
    "start_time": "2022-04-18T10:39:24.925Z"
   },
   {
    "duration": 15,
    "start_time": "2022-04-18T10:39:24.944Z"
   },
   {
    "duration": 8,
    "start_time": "2022-04-18T10:39:24.962Z"
   },
   {
    "duration": 7,
    "start_time": "2022-04-18T10:39:25.001Z"
   },
   {
    "duration": 177,
    "start_time": "2022-04-18T10:39:25.010Z"
   },
   {
    "duration": 6,
    "start_time": "2022-04-18T10:39:25.188Z"
   },
   {
    "duration": 11,
    "start_time": "2022-04-18T10:39:25.201Z"
   },
   {
    "duration": 142,
    "start_time": "2022-04-18T10:39:25.214Z"
   },
   {
    "duration": 10,
    "start_time": "2022-04-18T10:39:25.358Z"
   },
   {
    "duration": 31,
    "start_time": "2022-04-18T10:39:25.369Z"
   },
   {
    "duration": 15,
    "start_time": "2022-04-18T10:39:25.402Z"
   },
   {
    "duration": 2,
    "start_time": "2022-04-18T10:39:25.418Z"
   },
   {
    "duration": 18,
    "start_time": "2022-04-18T10:39:25.422Z"
   },
   {
    "duration": 137,
    "start_time": "2022-04-18T10:39:25.442Z"
   },
   {
    "duration": 23,
    "start_time": "2022-04-18T10:39:25.581Z"
   },
   {
    "duration": 2,
    "start_time": "2022-04-18T10:39:25.606Z"
   },
   {
    "duration": 19,
    "start_time": "2022-04-18T10:39:25.609Z"
   },
   {
    "duration": 1398,
    "start_time": "2022-04-18T10:39:25.630Z"
   },
   {
    "duration": 99,
    "start_time": "2022-04-18T10:39:27.030Z"
   },
   {
    "duration": 0,
    "start_time": "2022-04-18T10:39:27.131Z"
   },
   {
    "duration": 0,
    "start_time": "2022-04-18T10:39:27.133Z"
   },
   {
    "duration": 0,
    "start_time": "2022-04-18T10:39:27.134Z"
   },
   {
    "duration": 0,
    "start_time": "2022-04-18T10:39:27.135Z"
   },
   {
    "duration": 0,
    "start_time": "2022-04-18T10:39:27.136Z"
   },
   {
    "duration": 0,
    "start_time": "2022-04-18T10:39:27.137Z"
   },
   {
    "duration": 0,
    "start_time": "2022-04-18T10:39:27.138Z"
   },
   {
    "duration": 0,
    "start_time": "2022-04-18T10:39:27.139Z"
   },
   {
    "duration": 0,
    "start_time": "2022-04-18T10:39:27.140Z"
   },
   {
    "duration": 0,
    "start_time": "2022-04-18T10:39:27.141Z"
   },
   {
    "duration": 0,
    "start_time": "2022-04-18T10:39:27.142Z"
   },
   {
    "duration": 0,
    "start_time": "2022-04-18T10:39:27.143Z"
   },
   {
    "duration": 0,
    "start_time": "2022-04-18T10:39:27.143Z"
   },
   {
    "duration": 0,
    "start_time": "2022-04-18T10:39:27.145Z"
   },
   {
    "duration": 0,
    "start_time": "2022-04-18T10:39:27.145Z"
   },
   {
    "duration": 0,
    "start_time": "2022-04-18T10:39:27.146Z"
   },
   {
    "duration": 0,
    "start_time": "2022-04-18T10:39:27.147Z"
   },
   {
    "duration": 0,
    "start_time": "2022-04-18T10:39:27.148Z"
   },
   {
    "duration": 0,
    "start_time": "2022-04-18T10:39:27.149Z"
   },
   {
    "duration": 0,
    "start_time": "2022-04-18T10:39:27.150Z"
   },
   {
    "duration": 0,
    "start_time": "2022-04-18T10:39:27.151Z"
   },
   {
    "duration": 0,
    "start_time": "2022-04-18T10:39:27.152Z"
   },
   {
    "duration": 0,
    "start_time": "2022-04-18T10:39:27.154Z"
   },
   {
    "duration": 0,
    "start_time": "2022-04-18T10:39:27.155Z"
   },
   {
    "duration": 0,
    "start_time": "2022-04-18T10:39:27.156Z"
   },
   {
    "duration": 0,
    "start_time": "2022-04-18T10:39:27.157Z"
   },
   {
    "duration": 0,
    "start_time": "2022-04-18T10:39:27.200Z"
   },
   {
    "duration": 0,
    "start_time": "2022-04-18T10:39:27.202Z"
   },
   {
    "duration": 0,
    "start_time": "2022-04-18T10:39:27.203Z"
   },
   {
    "duration": 0,
    "start_time": "2022-04-18T10:39:27.204Z"
   },
   {
    "duration": 0,
    "start_time": "2022-04-18T10:39:27.205Z"
   },
   {
    "duration": 0,
    "start_time": "2022-04-18T10:39:27.206Z"
   },
   {
    "duration": 0,
    "start_time": "2022-04-18T10:39:27.207Z"
   },
   {
    "duration": 0,
    "start_time": "2022-04-18T10:39:27.208Z"
   },
   {
    "duration": 0,
    "start_time": "2022-04-18T10:39:27.209Z"
   },
   {
    "duration": 0,
    "start_time": "2022-04-18T10:39:27.210Z"
   },
   {
    "duration": 0,
    "start_time": "2022-04-18T10:39:27.211Z"
   },
   {
    "duration": 0,
    "start_time": "2022-04-18T10:39:27.212Z"
   },
   {
    "duration": 0,
    "start_time": "2022-04-18T10:39:27.213Z"
   },
   {
    "duration": 0,
    "start_time": "2022-04-18T10:39:27.214Z"
   },
   {
    "duration": 0,
    "start_time": "2022-04-18T10:39:27.215Z"
   },
   {
    "duration": 0,
    "start_time": "2022-04-18T10:39:27.216Z"
   },
   {
    "duration": 0,
    "start_time": "2022-04-18T10:39:27.217Z"
   },
   {
    "duration": 0,
    "start_time": "2022-04-18T10:39:27.218Z"
   },
   {
    "duration": 0,
    "start_time": "2022-04-18T10:39:27.219Z"
   },
   {
    "duration": 1232,
    "start_time": "2022-04-18T10:41:00.760Z"
   },
   {
    "duration": 297,
    "start_time": "2022-04-18T10:41:01.996Z"
   },
   {
    "duration": 28,
    "start_time": "2022-04-18T10:41:02.295Z"
   },
   {
    "duration": 9,
    "start_time": "2022-04-18T10:41:02.326Z"
   },
   {
    "duration": 14,
    "start_time": "2022-04-18T10:41:02.337Z"
   },
   {
    "duration": 13,
    "start_time": "2022-04-18T10:41:02.352Z"
   },
   {
    "duration": 17,
    "start_time": "2022-04-18T10:41:02.367Z"
   },
   {
    "duration": 17,
    "start_time": "2022-04-18T10:41:02.386Z"
   },
   {
    "duration": 7,
    "start_time": "2022-04-18T10:41:02.405Z"
   },
   {
    "duration": 15,
    "start_time": "2022-04-18T10:41:02.415Z"
   },
   {
    "duration": 10,
    "start_time": "2022-04-18T10:41:02.432Z"
   },
   {
    "duration": 6,
    "start_time": "2022-04-18T10:41:02.443Z"
   },
   {
    "duration": 12,
    "start_time": "2022-04-18T10:41:02.450Z"
   },
   {
    "duration": 8,
    "start_time": "2022-04-18T10:41:02.463Z"
   },
   {
    "duration": 40,
    "start_time": "2022-04-18T10:41:02.473Z"
   },
   {
    "duration": 19,
    "start_time": "2022-04-18T10:41:02.514Z"
   },
   {
    "duration": 7,
    "start_time": "2022-04-18T10:41:02.534Z"
   },
   {
    "duration": 16,
    "start_time": "2022-04-18T10:41:02.542Z"
   },
   {
    "duration": 7,
    "start_time": "2022-04-18T10:41:02.560Z"
   },
   {
    "duration": 1798,
    "start_time": "2022-04-18T10:41:02.569Z"
   },
   {
    "duration": 33,
    "start_time": "2022-04-18T10:41:04.369Z"
   },
   {
    "duration": 17,
    "start_time": "2022-04-18T10:41:04.403Z"
   },
   {
    "duration": 6,
    "start_time": "2022-04-18T10:41:04.422Z"
   },
   {
    "duration": 10,
    "start_time": "2022-04-18T10:41:04.429Z"
   },
   {
    "duration": 8,
    "start_time": "2022-04-18T10:41:04.441Z"
   },
   {
    "duration": 6,
    "start_time": "2022-04-18T10:41:04.451Z"
   },
   {
    "duration": 6,
    "start_time": "2022-04-18T10:41:04.460Z"
   },
   {
    "duration": 8,
    "start_time": "2022-04-18T10:41:04.507Z"
   },
   {
    "duration": 11,
    "start_time": "2022-04-18T10:41:04.517Z"
   },
   {
    "duration": 19,
    "start_time": "2022-04-18T10:41:04.530Z"
   },
   {
    "duration": 16,
    "start_time": "2022-04-18T10:41:04.551Z"
   },
   {
    "duration": 34,
    "start_time": "2022-04-18T10:41:04.569Z"
   },
   {
    "duration": 9,
    "start_time": "2022-04-18T10:41:04.605Z"
   },
   {
    "duration": 180,
    "start_time": "2022-04-18T10:41:04.616Z"
   },
   {
    "duration": 5,
    "start_time": "2022-04-18T10:41:04.798Z"
   },
   {
    "duration": 14,
    "start_time": "2022-04-18T10:41:04.804Z"
   },
   {
    "duration": 144,
    "start_time": "2022-04-18T10:41:04.819Z"
   },
   {
    "duration": 10,
    "start_time": "2022-04-18T10:41:04.964Z"
   },
   {
    "duration": 26,
    "start_time": "2022-04-18T10:41:04.975Z"
   },
   {
    "duration": 16,
    "start_time": "2022-04-18T10:41:05.002Z"
   },
   {
    "duration": 5,
    "start_time": "2022-04-18T10:41:05.020Z"
   },
   {
    "duration": 21,
    "start_time": "2022-04-18T10:41:05.027Z"
   },
   {
    "duration": 146,
    "start_time": "2022-04-18T10:41:05.049Z"
   },
   {
    "duration": 17,
    "start_time": "2022-04-18T10:41:05.196Z"
   },
   {
    "duration": 3,
    "start_time": "2022-04-18T10:41:05.215Z"
   },
   {
    "duration": 19,
    "start_time": "2022-04-18T10:41:05.219Z"
   },
   {
    "duration": 1468,
    "start_time": "2022-04-18T10:41:05.240Z"
   },
   {
    "duration": 99,
    "start_time": "2022-04-18T10:41:06.709Z"
   },
   {
    "duration": 0,
    "start_time": "2022-04-18T10:41:06.810Z"
   },
   {
    "duration": 0,
    "start_time": "2022-04-18T10:41:06.812Z"
   },
   {
    "duration": 0,
    "start_time": "2022-04-18T10:41:06.813Z"
   },
   {
    "duration": 0,
    "start_time": "2022-04-18T10:41:06.814Z"
   },
   {
    "duration": 0,
    "start_time": "2022-04-18T10:41:06.815Z"
   },
   {
    "duration": 0,
    "start_time": "2022-04-18T10:41:06.816Z"
   },
   {
    "duration": 0,
    "start_time": "2022-04-18T10:41:06.816Z"
   },
   {
    "duration": 0,
    "start_time": "2022-04-18T10:41:06.817Z"
   },
   {
    "duration": 0,
    "start_time": "2022-04-18T10:41:06.819Z"
   },
   {
    "duration": 0,
    "start_time": "2022-04-18T10:41:06.820Z"
   },
   {
    "duration": 0,
    "start_time": "2022-04-18T10:41:06.821Z"
   },
   {
    "duration": 0,
    "start_time": "2022-04-18T10:41:06.822Z"
   },
   {
    "duration": 0,
    "start_time": "2022-04-18T10:41:06.823Z"
   },
   {
    "duration": 0,
    "start_time": "2022-04-18T10:41:06.824Z"
   },
   {
    "duration": 0,
    "start_time": "2022-04-18T10:41:06.824Z"
   },
   {
    "duration": 0,
    "start_time": "2022-04-18T10:41:06.826Z"
   },
   {
    "duration": 0,
    "start_time": "2022-04-18T10:41:06.826Z"
   },
   {
    "duration": 0,
    "start_time": "2022-04-18T10:41:06.828Z"
   },
   {
    "duration": 0,
    "start_time": "2022-04-18T10:41:06.829Z"
   },
   {
    "duration": 0,
    "start_time": "2022-04-18T10:41:06.830Z"
   },
   {
    "duration": 0,
    "start_time": "2022-04-18T10:41:06.831Z"
   },
   {
    "duration": 0,
    "start_time": "2022-04-18T10:41:06.832Z"
   },
   {
    "duration": 0,
    "start_time": "2022-04-18T10:41:06.833Z"
   },
   {
    "duration": 0,
    "start_time": "2022-04-18T10:41:06.834Z"
   },
   {
    "duration": 0,
    "start_time": "2022-04-18T10:41:06.834Z"
   },
   {
    "duration": 0,
    "start_time": "2022-04-18T10:41:06.835Z"
   },
   {
    "duration": 0,
    "start_time": "2022-04-18T10:41:06.836Z"
   },
   {
    "duration": 0,
    "start_time": "2022-04-18T10:41:06.838Z"
   },
   {
    "duration": 0,
    "start_time": "2022-04-18T10:41:06.838Z"
   },
   {
    "duration": 0,
    "start_time": "2022-04-18T10:41:06.839Z"
   },
   {
    "duration": 0,
    "start_time": "2022-04-18T10:41:06.840Z"
   },
   {
    "duration": 0,
    "start_time": "2022-04-18T10:41:06.841Z"
   },
   {
    "duration": 0,
    "start_time": "2022-04-18T10:41:06.842Z"
   },
   {
    "duration": 0,
    "start_time": "2022-04-18T10:41:06.900Z"
   },
   {
    "duration": 0,
    "start_time": "2022-04-18T10:41:06.901Z"
   },
   {
    "duration": 0,
    "start_time": "2022-04-18T10:41:06.902Z"
   },
   {
    "duration": 0,
    "start_time": "2022-04-18T10:41:06.903Z"
   },
   {
    "duration": 0,
    "start_time": "2022-04-18T10:41:06.904Z"
   },
   {
    "duration": 0,
    "start_time": "2022-04-18T10:41:06.905Z"
   },
   {
    "duration": 0,
    "start_time": "2022-04-18T10:41:06.906Z"
   },
   {
    "duration": 0,
    "start_time": "2022-04-18T10:41:06.907Z"
   },
   {
    "duration": 0,
    "start_time": "2022-04-18T10:41:06.907Z"
   },
   {
    "duration": 0,
    "start_time": "2022-04-18T10:41:06.909Z"
   },
   {
    "duration": 0,
    "start_time": "2022-04-18T10:41:06.910Z"
   },
   {
    "duration": 0,
    "start_time": "2022-04-18T10:41:06.911Z"
   },
   {
    "duration": 1124,
    "start_time": "2022-04-18T10:44:51.566Z"
   },
   {
    "duration": 170,
    "start_time": "2022-04-18T10:44:52.693Z"
   },
   {
    "duration": 25,
    "start_time": "2022-04-18T10:44:52.865Z"
   },
   {
    "duration": 5,
    "start_time": "2022-04-18T10:44:52.892Z"
   },
   {
    "duration": 19,
    "start_time": "2022-04-18T10:44:52.899Z"
   },
   {
    "duration": 7,
    "start_time": "2022-04-18T10:44:52.920Z"
   },
   {
    "duration": 14,
    "start_time": "2022-04-18T10:44:52.928Z"
   },
   {
    "duration": 11,
    "start_time": "2022-04-18T10:44:52.943Z"
   },
   {
    "duration": 17,
    "start_time": "2022-04-18T10:44:52.956Z"
   },
   {
    "duration": 12,
    "start_time": "2022-04-18T10:44:52.976Z"
   },
   {
    "duration": 16,
    "start_time": "2022-04-18T10:44:52.989Z"
   },
   {
    "duration": 10,
    "start_time": "2022-04-18T10:44:53.006Z"
   },
   {
    "duration": 11,
    "start_time": "2022-04-18T10:44:53.018Z"
   },
   {
    "duration": 4,
    "start_time": "2022-04-18T10:44:53.030Z"
   },
   {
    "duration": 18,
    "start_time": "2022-04-18T10:44:53.035Z"
   },
   {
    "duration": 15,
    "start_time": "2022-04-18T10:44:53.055Z"
   },
   {
    "duration": 20,
    "start_time": "2022-04-18T10:44:53.071Z"
   },
   {
    "duration": 23,
    "start_time": "2022-04-18T10:44:53.093Z"
   },
   {
    "duration": 5,
    "start_time": "2022-04-18T10:44:53.118Z"
   },
   {
    "duration": 1844,
    "start_time": "2022-04-18T10:44:53.124Z"
   },
   {
    "duration": 15,
    "start_time": "2022-04-18T10:44:54.970Z"
   },
   {
    "duration": 23,
    "start_time": "2022-04-18T10:44:54.987Z"
   },
   {
    "duration": 12,
    "start_time": "2022-04-18T10:44:55.011Z"
   },
   {
    "duration": 9,
    "start_time": "2022-04-18T10:44:55.024Z"
   },
   {
    "duration": 6,
    "start_time": "2022-04-18T10:44:55.034Z"
   },
   {
    "duration": 6,
    "start_time": "2022-04-18T10:44:55.042Z"
   },
   {
    "duration": 6,
    "start_time": "2022-04-18T10:44:55.049Z"
   },
   {
    "duration": 5,
    "start_time": "2022-04-18T10:44:55.059Z"
   },
   {
    "duration": 10,
    "start_time": "2022-04-18T10:44:55.065Z"
   },
   {
    "duration": 20,
    "start_time": "2022-04-18T10:44:55.100Z"
   },
   {
    "duration": 11,
    "start_time": "2022-04-18T10:44:55.122Z"
   },
   {
    "duration": 6,
    "start_time": "2022-04-18T10:44:55.135Z"
   },
   {
    "duration": 7,
    "start_time": "2022-04-18T10:44:55.142Z"
   },
   {
    "duration": 189,
    "start_time": "2022-04-18T10:44:55.151Z"
   },
   {
    "duration": 5,
    "start_time": "2022-04-18T10:44:55.342Z"
   },
   {
    "duration": 13,
    "start_time": "2022-04-18T10:44:55.348Z"
   },
   {
    "duration": 140,
    "start_time": "2022-04-18T10:44:55.362Z"
   },
   {
    "duration": 11,
    "start_time": "2022-04-18T10:44:55.504Z"
   },
   {
    "duration": 18,
    "start_time": "2022-04-18T10:44:55.517Z"
   },
   {
    "duration": 16,
    "start_time": "2022-04-18T10:44:55.536Z"
   },
   {
    "duration": 8,
    "start_time": "2022-04-18T10:44:55.553Z"
   },
   {
    "duration": 45,
    "start_time": "2022-04-18T10:44:55.562Z"
   },
   {
    "duration": 124,
    "start_time": "2022-04-18T10:44:55.609Z"
   },
   {
    "duration": 16,
    "start_time": "2022-04-18T10:44:55.735Z"
   },
   {
    "duration": 2,
    "start_time": "2022-04-18T10:44:55.753Z"
   },
   {
    "duration": 16,
    "start_time": "2022-04-18T10:44:55.756Z"
   },
   {
    "duration": 1415,
    "start_time": "2022-04-18T10:44:55.774Z"
   },
   {
    "duration": 98,
    "start_time": "2022-04-18T10:44:57.191Z"
   },
   {
    "duration": 0,
    "start_time": "2022-04-18T10:44:57.291Z"
   },
   {
    "duration": 0,
    "start_time": "2022-04-18T10:44:57.292Z"
   },
   {
    "duration": 0,
    "start_time": "2022-04-18T10:44:57.294Z"
   },
   {
    "duration": 0,
    "start_time": "2022-04-18T10:44:57.300Z"
   },
   {
    "duration": 0,
    "start_time": "2022-04-18T10:44:57.301Z"
   },
   {
    "duration": 0,
    "start_time": "2022-04-18T10:44:57.302Z"
   },
   {
    "duration": 0,
    "start_time": "2022-04-18T10:44:57.303Z"
   },
   {
    "duration": 0,
    "start_time": "2022-04-18T10:44:57.304Z"
   },
   {
    "duration": 0,
    "start_time": "2022-04-18T10:44:57.305Z"
   },
   {
    "duration": 0,
    "start_time": "2022-04-18T10:44:57.306Z"
   },
   {
    "duration": 0,
    "start_time": "2022-04-18T10:44:57.307Z"
   },
   {
    "duration": 0,
    "start_time": "2022-04-18T10:44:57.308Z"
   },
   {
    "duration": 0,
    "start_time": "2022-04-18T10:44:57.309Z"
   },
   {
    "duration": 0,
    "start_time": "2022-04-18T10:44:57.310Z"
   },
   {
    "duration": 0,
    "start_time": "2022-04-18T10:44:57.311Z"
   },
   {
    "duration": 0,
    "start_time": "2022-04-18T10:44:57.315Z"
   },
   {
    "duration": 0,
    "start_time": "2022-04-18T10:44:57.318Z"
   },
   {
    "duration": 0,
    "start_time": "2022-04-18T10:44:57.319Z"
   },
   {
    "duration": 0,
    "start_time": "2022-04-18T10:44:57.320Z"
   },
   {
    "duration": 0,
    "start_time": "2022-04-18T10:44:57.322Z"
   },
   {
    "duration": 0,
    "start_time": "2022-04-18T10:44:57.323Z"
   },
   {
    "duration": 0,
    "start_time": "2022-04-18T10:44:57.324Z"
   },
   {
    "duration": 1,
    "start_time": "2022-04-18T10:44:57.325Z"
   },
   {
    "duration": 0,
    "start_time": "2022-04-18T10:44:57.327Z"
   },
   {
    "duration": 0,
    "start_time": "2022-04-18T10:44:57.328Z"
   },
   {
    "duration": 0,
    "start_time": "2022-04-18T10:44:57.330Z"
   },
   {
    "duration": 0,
    "start_time": "2022-04-18T10:44:57.331Z"
   },
   {
    "duration": 0,
    "start_time": "2022-04-18T10:44:57.332Z"
   },
   {
    "duration": 0,
    "start_time": "2022-04-18T10:44:57.333Z"
   },
   {
    "duration": 0,
    "start_time": "2022-04-18T10:44:57.334Z"
   },
   {
    "duration": 0,
    "start_time": "2022-04-18T10:44:57.335Z"
   },
   {
    "duration": 0,
    "start_time": "2022-04-18T10:44:57.336Z"
   },
   {
    "duration": 0,
    "start_time": "2022-04-18T10:44:57.337Z"
   },
   {
    "duration": 0,
    "start_time": "2022-04-18T10:44:57.338Z"
   },
   {
    "duration": 0,
    "start_time": "2022-04-18T10:44:57.338Z"
   },
   {
    "duration": 0,
    "start_time": "2022-04-18T10:44:57.339Z"
   },
   {
    "duration": 0,
    "start_time": "2022-04-18T10:44:57.340Z"
   },
   {
    "duration": 0,
    "start_time": "2022-04-18T10:44:57.341Z"
   },
   {
    "duration": 0,
    "start_time": "2022-04-18T10:44:57.342Z"
   },
   {
    "duration": 1,
    "start_time": "2022-04-18T10:44:57.404Z"
   },
   {
    "duration": 0,
    "start_time": "2022-04-18T10:44:57.406Z"
   },
   {
    "duration": 0,
    "start_time": "2022-04-18T10:44:57.410Z"
   },
   {
    "duration": 0,
    "start_time": "2022-04-18T10:44:57.411Z"
   },
   {
    "duration": 0,
    "start_time": "2022-04-18T10:44:57.415Z"
   },
   {
    "duration": 0,
    "start_time": "2022-04-18T10:44:57.416Z"
   },
   {
    "duration": 1185,
    "start_time": "2022-04-18T10:50:32.150Z"
   },
   {
    "duration": 294,
    "start_time": "2022-04-18T10:50:33.338Z"
   },
   {
    "duration": 27,
    "start_time": "2022-04-18T10:50:33.633Z"
   },
   {
    "duration": 6,
    "start_time": "2022-04-18T10:50:33.662Z"
   },
   {
    "duration": 10,
    "start_time": "2022-04-18T10:50:33.670Z"
   },
   {
    "duration": 27,
    "start_time": "2022-04-18T10:50:33.681Z"
   },
   {
    "duration": 12,
    "start_time": "2022-04-18T10:50:33.710Z"
   },
   {
    "duration": 14,
    "start_time": "2022-04-18T10:50:33.723Z"
   },
   {
    "duration": 5,
    "start_time": "2022-04-18T10:50:33.739Z"
   },
   {
    "duration": 11,
    "start_time": "2022-04-18T10:50:33.747Z"
   },
   {
    "duration": 9,
    "start_time": "2022-04-18T10:50:33.759Z"
   },
   {
    "duration": 43,
    "start_time": "2022-04-18T10:50:33.770Z"
   },
   {
    "duration": 12,
    "start_time": "2022-04-18T10:50:33.815Z"
   },
   {
    "duration": 4,
    "start_time": "2022-04-18T10:50:33.829Z"
   },
   {
    "duration": 12,
    "start_time": "2022-04-18T10:50:33.834Z"
   },
   {
    "duration": 13,
    "start_time": "2022-04-18T10:50:33.847Z"
   },
   {
    "duration": 6,
    "start_time": "2022-04-18T10:50:33.862Z"
   },
   {
    "duration": 43,
    "start_time": "2022-04-18T10:50:33.870Z"
   },
   {
    "duration": 6,
    "start_time": "2022-04-18T10:50:33.914Z"
   },
   {
    "duration": 1863,
    "start_time": "2022-04-18T10:50:33.922Z"
   },
   {
    "duration": 28,
    "start_time": "2022-04-18T10:50:35.786Z"
   },
   {
    "duration": 19,
    "start_time": "2022-04-18T10:50:35.816Z"
   },
   {
    "duration": 5,
    "start_time": "2022-04-18T10:50:35.836Z"
   },
   {
    "duration": 12,
    "start_time": "2022-04-18T10:50:35.843Z"
   },
   {
    "duration": 5,
    "start_time": "2022-04-18T10:50:35.856Z"
   },
   {
    "duration": 5,
    "start_time": "2022-04-18T10:50:35.863Z"
   },
   {
    "duration": 38,
    "start_time": "2022-04-18T10:50:35.870Z"
   },
   {
    "duration": 6,
    "start_time": "2022-04-18T10:50:35.913Z"
   },
   {
    "duration": 8,
    "start_time": "2022-04-18T10:50:35.921Z"
   },
   {
    "duration": 15,
    "start_time": "2022-04-18T10:50:35.930Z"
   },
   {
    "duration": 9,
    "start_time": "2022-04-18T10:50:35.946Z"
   },
   {
    "duration": 6,
    "start_time": "2022-04-18T10:50:35.956Z"
   },
   {
    "duration": 10,
    "start_time": "2022-04-18T10:50:35.963Z"
   },
   {
    "duration": 187,
    "start_time": "2022-04-18T10:50:35.975Z"
   },
   {
    "duration": 5,
    "start_time": "2022-04-18T10:50:36.164Z"
   },
   {
    "duration": 14,
    "start_time": "2022-04-18T10:50:36.170Z"
   },
   {
    "duration": 146,
    "start_time": "2022-04-18T10:50:36.185Z"
   },
   {
    "duration": 8,
    "start_time": "2022-04-18T10:50:36.333Z"
   },
   {
    "duration": 22,
    "start_time": "2022-04-18T10:50:36.342Z"
   },
   {
    "duration": 14,
    "start_time": "2022-04-18T10:50:36.366Z"
   },
   {
    "duration": 5,
    "start_time": "2022-04-18T10:50:36.381Z"
   },
   {
    "duration": 27,
    "start_time": "2022-04-18T10:50:36.402Z"
   },
   {
    "duration": 140,
    "start_time": "2022-04-18T10:50:36.431Z"
   },
   {
    "duration": 15,
    "start_time": "2022-04-18T10:50:36.573Z"
   },
   {
    "duration": 10,
    "start_time": "2022-04-18T10:50:36.590Z"
   },
   {
    "duration": 17,
    "start_time": "2022-04-18T10:50:36.602Z"
   },
   {
    "duration": 1506,
    "start_time": "2022-04-18T10:50:36.621Z"
   },
   {
    "duration": 100,
    "start_time": "2022-04-18T10:50:38.128Z"
   },
   {
    "duration": 0,
    "start_time": "2022-04-18T10:50:38.230Z"
   },
   {
    "duration": 0,
    "start_time": "2022-04-18T10:50:38.231Z"
   },
   {
    "duration": 0,
    "start_time": "2022-04-18T10:50:38.232Z"
   },
   {
    "duration": 0,
    "start_time": "2022-04-18T10:50:38.233Z"
   },
   {
    "duration": 0,
    "start_time": "2022-04-18T10:50:38.233Z"
   },
   {
    "duration": 0,
    "start_time": "2022-04-18T10:50:38.234Z"
   },
   {
    "duration": 0,
    "start_time": "2022-04-18T10:50:38.235Z"
   },
   {
    "duration": 0,
    "start_time": "2022-04-18T10:50:38.236Z"
   },
   {
    "duration": 0,
    "start_time": "2022-04-18T10:50:38.237Z"
   },
   {
    "duration": 0,
    "start_time": "2022-04-18T10:50:38.238Z"
   },
   {
    "duration": 0,
    "start_time": "2022-04-18T10:50:38.239Z"
   },
   {
    "duration": 0,
    "start_time": "2022-04-18T10:50:38.240Z"
   },
   {
    "duration": 0,
    "start_time": "2022-04-18T10:50:38.241Z"
   },
   {
    "duration": 0,
    "start_time": "2022-04-18T10:50:38.242Z"
   },
   {
    "duration": 0,
    "start_time": "2022-04-18T10:50:38.243Z"
   },
   {
    "duration": 0,
    "start_time": "2022-04-18T10:50:38.244Z"
   },
   {
    "duration": 0,
    "start_time": "2022-04-18T10:50:38.245Z"
   },
   {
    "duration": 0,
    "start_time": "2022-04-18T10:50:38.246Z"
   },
   {
    "duration": 0,
    "start_time": "2022-04-18T10:50:38.247Z"
   },
   {
    "duration": 0,
    "start_time": "2022-04-18T10:50:38.248Z"
   },
   {
    "duration": 0,
    "start_time": "2022-04-18T10:50:38.249Z"
   },
   {
    "duration": 0,
    "start_time": "2022-04-18T10:50:38.250Z"
   },
   {
    "duration": 0,
    "start_time": "2022-04-18T10:50:38.251Z"
   },
   {
    "duration": 0,
    "start_time": "2022-04-18T10:50:38.252Z"
   },
   {
    "duration": 0,
    "start_time": "2022-04-18T10:50:38.253Z"
   },
   {
    "duration": 0,
    "start_time": "2022-04-18T10:50:38.254Z"
   },
   {
    "duration": 0,
    "start_time": "2022-04-18T10:50:38.255Z"
   },
   {
    "duration": 0,
    "start_time": "2022-04-18T10:50:38.256Z"
   },
   {
    "duration": 0,
    "start_time": "2022-04-18T10:50:38.257Z"
   },
   {
    "duration": 0,
    "start_time": "2022-04-18T10:50:38.257Z"
   },
   {
    "duration": 0,
    "start_time": "2022-04-18T10:50:38.258Z"
   },
   {
    "duration": 0,
    "start_time": "2022-04-18T10:50:38.300Z"
   },
   {
    "duration": 0,
    "start_time": "2022-04-18T10:50:38.302Z"
   },
   {
    "duration": 0,
    "start_time": "2022-04-18T10:50:38.303Z"
   },
   {
    "duration": 0,
    "start_time": "2022-04-18T10:50:38.308Z"
   },
   {
    "duration": 0,
    "start_time": "2022-04-18T10:50:38.309Z"
   },
   {
    "duration": 0,
    "start_time": "2022-04-18T10:50:38.310Z"
   },
   {
    "duration": 0,
    "start_time": "2022-04-18T10:50:38.311Z"
   },
   {
    "duration": 0,
    "start_time": "2022-04-18T10:50:38.315Z"
   },
   {
    "duration": 0,
    "start_time": "2022-04-18T10:50:38.316Z"
   },
   {
    "duration": 0,
    "start_time": "2022-04-18T10:50:38.317Z"
   },
   {
    "duration": 0,
    "start_time": "2022-04-18T10:50:38.318Z"
   },
   {
    "duration": 0,
    "start_time": "2022-04-18T10:50:38.319Z"
   },
   {
    "duration": 0,
    "start_time": "2022-04-18T10:50:38.320Z"
   },
   {
    "duration": 0,
    "start_time": "2022-04-18T10:50:38.321Z"
   },
   {
    "duration": 1239,
    "start_time": "2022-04-18T12:07:41.862Z"
   },
   {
    "duration": 210,
    "start_time": "2022-04-18T12:07:43.104Z"
   },
   {
    "duration": 26,
    "start_time": "2022-04-18T12:07:43.315Z"
   },
   {
    "duration": 5,
    "start_time": "2022-04-18T12:07:43.344Z"
   },
   {
    "duration": 15,
    "start_time": "2022-04-18T12:07:43.351Z"
   },
   {
    "duration": 6,
    "start_time": "2022-04-18T12:07:43.368Z"
   },
   {
    "duration": 28,
    "start_time": "2022-04-18T12:07:43.376Z"
   },
   {
    "duration": 13,
    "start_time": "2022-04-18T12:07:43.405Z"
   },
   {
    "duration": 7,
    "start_time": "2022-04-18T12:07:43.421Z"
   },
   {
    "duration": 14,
    "start_time": "2022-04-18T12:07:43.431Z"
   },
   {
    "duration": 10,
    "start_time": "2022-04-18T12:07:43.447Z"
   },
   {
    "duration": 45,
    "start_time": "2022-04-18T12:07:43.459Z"
   },
   {
    "duration": 10,
    "start_time": "2022-04-18T12:07:43.506Z"
   },
   {
    "duration": 4,
    "start_time": "2022-04-18T12:07:43.517Z"
   },
   {
    "duration": 11,
    "start_time": "2022-04-18T12:07:43.523Z"
   },
   {
    "duration": 13,
    "start_time": "2022-04-18T12:07:43.536Z"
   },
   {
    "duration": 7,
    "start_time": "2022-04-18T12:07:43.550Z"
   },
   {
    "duration": 56,
    "start_time": "2022-04-18T12:07:43.558Z"
   },
   {
    "duration": 9,
    "start_time": "2022-04-18T12:07:43.615Z"
   },
   {
    "duration": 1835,
    "start_time": "2022-04-18T12:07:43.626Z"
   },
   {
    "duration": 15,
    "start_time": "2022-04-18T12:07:45.464Z"
   },
   {
    "duration": 35,
    "start_time": "2022-04-18T12:07:45.481Z"
   },
   {
    "duration": 18,
    "start_time": "2022-04-18T12:07:45.518Z"
   },
   {
    "duration": 12,
    "start_time": "2022-04-18T12:07:45.537Z"
   },
   {
    "duration": 6,
    "start_time": "2022-04-18T12:07:45.550Z"
   },
   {
    "duration": 7,
    "start_time": "2022-04-18T12:07:45.558Z"
   },
   {
    "duration": 8,
    "start_time": "2022-04-18T12:07:45.566Z"
   },
   {
    "duration": 25,
    "start_time": "2022-04-18T12:07:45.578Z"
   },
   {
    "duration": 9,
    "start_time": "2022-04-18T12:07:45.605Z"
   },
   {
    "duration": 14,
    "start_time": "2022-04-18T12:07:45.615Z"
   },
   {
    "duration": 10,
    "start_time": "2022-04-18T12:07:45.631Z"
   },
   {
    "duration": 6,
    "start_time": "2022-04-18T12:07:45.642Z"
   },
   {
    "duration": 7,
    "start_time": "2022-04-18T12:07:45.649Z"
   },
   {
    "duration": 208,
    "start_time": "2022-04-18T12:07:45.657Z"
   },
   {
    "duration": 5,
    "start_time": "2022-04-18T12:07:45.867Z"
   },
   {
    "duration": 15,
    "start_time": "2022-04-18T12:07:45.874Z"
   },
   {
    "duration": 221,
    "start_time": "2022-04-18T12:07:45.900Z"
   },
   {
    "duration": 15,
    "start_time": "2022-04-18T12:07:46.124Z"
   },
   {
    "duration": 25,
    "start_time": "2022-04-18T12:07:46.141Z"
   },
   {
    "duration": 46,
    "start_time": "2022-04-18T12:07:46.168Z"
   },
   {
    "duration": 3,
    "start_time": "2022-04-18T12:07:46.216Z"
   },
   {
    "duration": 32,
    "start_time": "2022-04-18T12:07:46.221Z"
   },
   {
    "duration": 215,
    "start_time": "2022-04-18T12:07:46.256Z"
   },
   {
    "duration": 35,
    "start_time": "2022-04-18T12:07:46.473Z"
   },
   {
    "duration": 3,
    "start_time": "2022-04-18T12:07:46.510Z"
   },
   {
    "duration": 24,
    "start_time": "2022-04-18T12:07:46.515Z"
   },
   {
    "duration": 2427,
    "start_time": "2022-04-18T12:07:46.541Z"
   },
   {
    "duration": 155,
    "start_time": "2022-04-18T12:07:48.970Z"
   },
   {
    "duration": 0,
    "start_time": "2022-04-18T12:07:49.127Z"
   },
   {
    "duration": 0,
    "start_time": "2022-04-18T12:07:49.129Z"
   },
   {
    "duration": 0,
    "start_time": "2022-04-18T12:07:49.131Z"
   },
   {
    "duration": 0,
    "start_time": "2022-04-18T12:07:49.132Z"
   },
   {
    "duration": 0,
    "start_time": "2022-04-18T12:07:49.134Z"
   },
   {
    "duration": 0,
    "start_time": "2022-04-18T12:07:49.136Z"
   },
   {
    "duration": 0,
    "start_time": "2022-04-18T12:07:49.137Z"
   },
   {
    "duration": 0,
    "start_time": "2022-04-18T12:07:49.138Z"
   },
   {
    "duration": 0,
    "start_time": "2022-04-18T12:07:49.139Z"
   },
   {
    "duration": 0,
    "start_time": "2022-04-18T12:07:49.141Z"
   },
   {
    "duration": 0,
    "start_time": "2022-04-18T12:07:49.142Z"
   },
   {
    "duration": 0,
    "start_time": "2022-04-18T12:07:49.144Z"
   },
   {
    "duration": 0,
    "start_time": "2022-04-18T12:07:49.145Z"
   },
   {
    "duration": 0,
    "start_time": "2022-04-18T12:07:49.147Z"
   },
   {
    "duration": 0,
    "start_time": "2022-04-18T12:07:49.148Z"
   },
   {
    "duration": 0,
    "start_time": "2022-04-18T12:07:49.150Z"
   },
   {
    "duration": 0,
    "start_time": "2022-04-18T12:07:49.151Z"
   },
   {
    "duration": 0,
    "start_time": "2022-04-18T12:07:49.152Z"
   },
   {
    "duration": 0,
    "start_time": "2022-04-18T12:07:49.154Z"
   },
   {
    "duration": 0,
    "start_time": "2022-04-18T12:07:49.156Z"
   },
   {
    "duration": 0,
    "start_time": "2022-04-18T12:07:49.201Z"
   },
   {
    "duration": 0,
    "start_time": "2022-04-18T12:07:49.203Z"
   },
   {
    "duration": 0,
    "start_time": "2022-04-18T12:07:49.205Z"
   },
   {
    "duration": 0,
    "start_time": "2022-04-18T12:07:49.206Z"
   },
   {
    "duration": 0,
    "start_time": "2022-04-18T12:07:49.207Z"
   },
   {
    "duration": 0,
    "start_time": "2022-04-18T12:07:49.209Z"
   },
   {
    "duration": 0,
    "start_time": "2022-04-18T12:07:49.211Z"
   },
   {
    "duration": 0,
    "start_time": "2022-04-18T12:07:49.213Z"
   },
   {
    "duration": 0,
    "start_time": "2022-04-18T12:07:49.214Z"
   },
   {
    "duration": 0,
    "start_time": "2022-04-18T12:07:49.216Z"
   },
   {
    "duration": 0,
    "start_time": "2022-04-18T12:07:49.218Z"
   },
   {
    "duration": 0,
    "start_time": "2022-04-18T12:07:49.219Z"
   },
   {
    "duration": 0,
    "start_time": "2022-04-18T12:07:49.221Z"
   },
   {
    "duration": 0,
    "start_time": "2022-04-18T12:07:49.222Z"
   },
   {
    "duration": 0,
    "start_time": "2022-04-18T12:07:49.224Z"
   },
   {
    "duration": 0,
    "start_time": "2022-04-18T12:07:49.225Z"
   },
   {
    "duration": 0,
    "start_time": "2022-04-18T12:07:49.227Z"
   },
   {
    "duration": 0,
    "start_time": "2022-04-18T12:07:49.229Z"
   },
   {
    "duration": 0,
    "start_time": "2022-04-18T12:07:49.230Z"
   },
   {
    "duration": 0,
    "start_time": "2022-04-18T12:07:49.232Z"
   },
   {
    "duration": 0,
    "start_time": "2022-04-18T12:07:49.233Z"
   },
   {
    "duration": 0,
    "start_time": "2022-04-18T12:07:49.235Z"
   },
   {
    "duration": 0,
    "start_time": "2022-04-18T12:07:49.236Z"
   },
   {
    "duration": 0,
    "start_time": "2022-04-18T12:07:49.237Z"
   },
   {
    "duration": 0,
    "start_time": "2022-04-18T12:07:49.239Z"
   },
   {
    "duration": 1143,
    "start_time": "2022-04-18T12:09:37.648Z"
   },
   {
    "duration": 221,
    "start_time": "2022-04-18T12:09:38.793Z"
   },
   {
    "duration": 27,
    "start_time": "2022-04-18T12:09:39.015Z"
   },
   {
    "duration": 5,
    "start_time": "2022-04-18T12:09:39.044Z"
   },
   {
    "duration": 6,
    "start_time": "2022-04-18T12:09:39.051Z"
   },
   {
    "duration": 11,
    "start_time": "2022-04-18T12:09:39.058Z"
   },
   {
    "duration": 37,
    "start_time": "2022-04-18T12:09:39.070Z"
   },
   {
    "duration": 13,
    "start_time": "2022-04-18T12:09:39.108Z"
   },
   {
    "duration": 7,
    "start_time": "2022-04-18T12:09:39.122Z"
   },
   {
    "duration": 12,
    "start_time": "2022-04-18T12:09:39.132Z"
   },
   {
    "duration": 9,
    "start_time": "2022-04-18T12:09:39.146Z"
   },
   {
    "duration": 47,
    "start_time": "2022-04-18T12:09:39.156Z"
   },
   {
    "duration": 11,
    "start_time": "2022-04-18T12:09:39.204Z"
   },
   {
    "duration": 5,
    "start_time": "2022-04-18T12:09:39.216Z"
   },
   {
    "duration": 11,
    "start_time": "2022-04-18T12:09:39.222Z"
   },
   {
    "duration": 13,
    "start_time": "2022-04-18T12:09:39.235Z"
   },
   {
    "duration": 6,
    "start_time": "2022-04-18T12:09:39.250Z"
   },
   {
    "duration": 57,
    "start_time": "2022-04-18T12:09:39.257Z"
   },
   {
    "duration": 12,
    "start_time": "2022-04-18T12:09:39.315Z"
   },
   {
    "duration": 1909,
    "start_time": "2022-04-18T12:09:39.328Z"
   },
   {
    "duration": 17,
    "start_time": "2022-04-18T12:09:41.239Z"
   },
   {
    "duration": 16,
    "start_time": "2022-04-18T12:09:41.258Z"
   },
   {
    "duration": 28,
    "start_time": "2022-04-18T12:09:41.276Z"
   },
   {
    "duration": 8,
    "start_time": "2022-04-18T12:09:41.305Z"
   },
   {
    "duration": 6,
    "start_time": "2022-04-18T12:09:41.314Z"
   },
   {
    "duration": 5,
    "start_time": "2022-04-18T12:09:41.321Z"
   },
   {
    "duration": 4,
    "start_time": "2022-04-18T12:09:41.328Z"
   },
   {
    "duration": 4,
    "start_time": "2022-04-18T12:09:41.337Z"
   },
   {
    "duration": 7,
    "start_time": "2022-04-18T12:09:41.343Z"
   },
   {
    "duration": 49,
    "start_time": "2022-04-18T12:09:41.351Z"
   },
   {
    "duration": 12,
    "start_time": "2022-04-18T12:09:41.402Z"
   },
   {
    "duration": 6,
    "start_time": "2022-04-18T12:09:41.415Z"
   },
   {
    "duration": 7,
    "start_time": "2022-04-18T12:09:41.422Z"
   },
   {
    "duration": 187,
    "start_time": "2022-04-18T12:09:41.431Z"
   },
   {
    "duration": 5,
    "start_time": "2022-04-18T12:09:41.620Z"
   },
   {
    "duration": 12,
    "start_time": "2022-04-18T12:09:41.627Z"
   },
   {
    "duration": 144,
    "start_time": "2022-04-18T12:09:41.640Z"
   },
   {
    "duration": 15,
    "start_time": "2022-04-18T12:09:41.786Z"
   },
   {
    "duration": 15,
    "start_time": "2022-04-18T12:09:41.802Z"
   },
   {
    "duration": 15,
    "start_time": "2022-04-18T12:09:41.818Z"
   },
   {
    "duration": 2,
    "start_time": "2022-04-18T12:09:41.835Z"
   },
   {
    "duration": 19,
    "start_time": "2022-04-18T12:09:41.839Z"
   },
   {
    "duration": 147,
    "start_time": "2022-04-18T12:09:41.860Z"
   },
   {
    "duration": 17,
    "start_time": "2022-04-18T12:09:42.008Z"
   },
   {
    "duration": 2,
    "start_time": "2022-04-18T12:09:42.027Z"
   },
   {
    "duration": 18,
    "start_time": "2022-04-18T12:09:42.031Z"
   },
   {
    "duration": 1571,
    "start_time": "2022-04-18T12:09:42.051Z"
   },
   {
    "duration": 98,
    "start_time": "2022-04-18T12:09:43.625Z"
   },
   {
    "duration": 0,
    "start_time": "2022-04-18T12:09:43.725Z"
   },
   {
    "duration": 0,
    "start_time": "2022-04-18T12:09:43.726Z"
   },
   {
    "duration": 0,
    "start_time": "2022-04-18T12:09:43.727Z"
   },
   {
    "duration": 0,
    "start_time": "2022-04-18T12:09:43.728Z"
   },
   {
    "duration": 0,
    "start_time": "2022-04-18T12:09:43.729Z"
   },
   {
    "duration": 0,
    "start_time": "2022-04-18T12:09:43.730Z"
   },
   {
    "duration": 0,
    "start_time": "2022-04-18T12:09:43.731Z"
   },
   {
    "duration": 0,
    "start_time": "2022-04-18T12:09:43.733Z"
   },
   {
    "duration": 0,
    "start_time": "2022-04-18T12:09:43.734Z"
   },
   {
    "duration": 0,
    "start_time": "2022-04-18T12:09:43.735Z"
   },
   {
    "duration": 0,
    "start_time": "2022-04-18T12:09:43.736Z"
   },
   {
    "duration": 0,
    "start_time": "2022-04-18T12:09:43.737Z"
   },
   {
    "duration": 0,
    "start_time": "2022-04-18T12:09:43.738Z"
   },
   {
    "duration": 0,
    "start_time": "2022-04-18T12:09:43.739Z"
   },
   {
    "duration": 0,
    "start_time": "2022-04-18T12:09:43.740Z"
   },
   {
    "duration": 0,
    "start_time": "2022-04-18T12:09:43.741Z"
   },
   {
    "duration": 0,
    "start_time": "2022-04-18T12:09:43.742Z"
   },
   {
    "duration": 0,
    "start_time": "2022-04-18T12:09:43.743Z"
   },
   {
    "duration": 0,
    "start_time": "2022-04-18T12:09:43.745Z"
   },
   {
    "duration": 0,
    "start_time": "2022-04-18T12:09:43.746Z"
   },
   {
    "duration": 0,
    "start_time": "2022-04-18T12:09:43.746Z"
   },
   {
    "duration": 0,
    "start_time": "2022-04-18T12:09:43.747Z"
   },
   {
    "duration": 0,
    "start_time": "2022-04-18T12:09:43.749Z"
   },
   {
    "duration": 0,
    "start_time": "2022-04-18T12:09:43.750Z"
   },
   {
    "duration": 0,
    "start_time": "2022-04-18T12:09:43.751Z"
   },
   {
    "duration": 0,
    "start_time": "2022-04-18T12:09:43.800Z"
   },
   {
    "duration": 0,
    "start_time": "2022-04-18T12:09:43.801Z"
   },
   {
    "duration": 0,
    "start_time": "2022-04-18T12:09:43.802Z"
   },
   {
    "duration": 0,
    "start_time": "2022-04-18T12:09:43.803Z"
   },
   {
    "duration": 0,
    "start_time": "2022-04-18T12:09:43.804Z"
   },
   {
    "duration": 0,
    "start_time": "2022-04-18T12:09:43.805Z"
   },
   {
    "duration": 0,
    "start_time": "2022-04-18T12:09:43.806Z"
   },
   {
    "duration": 0,
    "start_time": "2022-04-18T12:09:43.807Z"
   },
   {
    "duration": 0,
    "start_time": "2022-04-18T12:09:43.808Z"
   },
   {
    "duration": 0,
    "start_time": "2022-04-18T12:09:43.809Z"
   },
   {
    "duration": 0,
    "start_time": "2022-04-18T12:09:43.810Z"
   },
   {
    "duration": 0,
    "start_time": "2022-04-18T12:09:43.811Z"
   },
   {
    "duration": 0,
    "start_time": "2022-04-18T12:09:43.812Z"
   },
   {
    "duration": 0,
    "start_time": "2022-04-18T12:09:43.813Z"
   },
   {
    "duration": 0,
    "start_time": "2022-04-18T12:09:43.814Z"
   },
   {
    "duration": 0,
    "start_time": "2022-04-18T12:09:43.815Z"
   },
   {
    "duration": 0,
    "start_time": "2022-04-18T12:09:43.816Z"
   },
   {
    "duration": 0,
    "start_time": "2022-04-18T12:09:43.817Z"
   },
   {
    "duration": 0,
    "start_time": "2022-04-18T12:09:43.818Z"
   },
   {
    "duration": 0,
    "start_time": "2022-04-18T12:09:43.819Z"
   },
   {
    "duration": 1470,
    "start_time": "2022-04-18T12:11:06.540Z"
   },
   {
    "duration": 172,
    "start_time": "2022-04-18T12:11:08.012Z"
   },
   {
    "duration": 25,
    "start_time": "2022-04-18T12:11:08.186Z"
   },
   {
    "duration": 6,
    "start_time": "2022-04-18T12:11:08.213Z"
   },
   {
    "duration": 7,
    "start_time": "2022-04-18T12:11:08.221Z"
   },
   {
    "duration": 8,
    "start_time": "2022-04-18T12:11:08.229Z"
   },
   {
    "duration": 14,
    "start_time": "2022-04-18T12:11:08.238Z"
   },
   {
    "duration": 13,
    "start_time": "2022-04-18T12:11:08.253Z"
   },
   {
    "duration": 7,
    "start_time": "2022-04-18T12:11:08.267Z"
   },
   {
    "duration": 36,
    "start_time": "2022-04-18T12:11:08.275Z"
   },
   {
    "duration": 10,
    "start_time": "2022-04-18T12:11:08.312Z"
   },
   {
    "duration": 6,
    "start_time": "2022-04-18T12:11:08.324Z"
   },
   {
    "duration": 12,
    "start_time": "2022-04-18T12:11:08.331Z"
   },
   {
    "duration": 4,
    "start_time": "2022-04-18T12:11:08.346Z"
   },
   {
    "duration": 10,
    "start_time": "2022-04-18T12:11:08.351Z"
   },
   {
    "duration": 48,
    "start_time": "2022-04-18T12:11:08.363Z"
   },
   {
    "duration": 7,
    "start_time": "2022-04-18T12:11:08.413Z"
   },
   {
    "duration": 16,
    "start_time": "2022-04-18T12:11:08.422Z"
   },
   {
    "duration": 6,
    "start_time": "2022-04-18T12:11:08.439Z"
   },
   {
    "duration": 1980,
    "start_time": "2022-04-18T12:11:08.447Z"
   },
   {
    "duration": 16,
    "start_time": "2022-04-18T12:11:10.429Z"
   },
   {
    "duration": 16,
    "start_time": "2022-04-18T12:11:10.446Z"
   },
   {
    "duration": 10,
    "start_time": "2022-04-18T12:11:10.464Z"
   },
   {
    "duration": 30,
    "start_time": "2022-04-18T12:11:10.476Z"
   },
   {
    "duration": 5,
    "start_time": "2022-04-18T12:11:10.508Z"
   },
   {
    "duration": 10,
    "start_time": "2022-04-18T12:11:10.514Z"
   },
   {
    "duration": 7,
    "start_time": "2022-04-18T12:11:10.526Z"
   },
   {
    "duration": 6,
    "start_time": "2022-04-18T12:11:10.535Z"
   },
   {
    "duration": 9,
    "start_time": "2022-04-18T12:11:10.542Z"
   },
   {
    "duration": 11,
    "start_time": "2022-04-18T12:11:10.553Z"
   },
   {
    "duration": 44,
    "start_time": "2022-04-18T12:11:10.565Z"
   },
   {
    "duration": 6,
    "start_time": "2022-04-18T12:11:10.610Z"
   },
   {
    "duration": 7,
    "start_time": "2022-04-18T12:11:10.618Z"
   },
   {
    "duration": 188,
    "start_time": "2022-04-18T12:11:10.626Z"
   },
   {
    "duration": 5,
    "start_time": "2022-04-18T12:11:10.816Z"
   },
   {
    "duration": 14,
    "start_time": "2022-04-18T12:11:10.822Z"
   },
   {
    "duration": 155,
    "start_time": "2022-04-18T12:11:10.838Z"
   },
   {
    "duration": 10,
    "start_time": "2022-04-18T12:11:10.995Z"
   },
   {
    "duration": 14,
    "start_time": "2022-04-18T12:11:11.007Z"
   },
   {
    "duration": 15,
    "start_time": "2022-04-18T12:11:11.023Z"
   },
   {
    "duration": 2,
    "start_time": "2022-04-18T12:11:11.043Z"
   },
   {
    "duration": 20,
    "start_time": "2022-04-18T12:11:11.046Z"
   },
   {
    "duration": 157,
    "start_time": "2022-04-18T12:11:11.068Z"
   },
   {
    "duration": 17,
    "start_time": "2022-04-18T12:11:11.227Z"
   },
   {
    "duration": 7,
    "start_time": "2022-04-18T12:11:11.245Z"
   },
   {
    "duration": 15,
    "start_time": "2022-04-18T12:11:11.254Z"
   },
   {
    "duration": 1438,
    "start_time": "2022-04-18T12:11:11.270Z"
   },
   {
    "duration": 99,
    "start_time": "2022-04-18T12:11:12.710Z"
   },
   {
    "duration": 0,
    "start_time": "2022-04-18T12:11:12.811Z"
   },
   {
    "duration": 0,
    "start_time": "2022-04-18T12:11:12.812Z"
   },
   {
    "duration": 0,
    "start_time": "2022-04-18T12:11:12.814Z"
   },
   {
    "duration": 0,
    "start_time": "2022-04-18T12:11:12.815Z"
   },
   {
    "duration": 0,
    "start_time": "2022-04-18T12:11:12.816Z"
   },
   {
    "duration": 0,
    "start_time": "2022-04-18T12:11:12.817Z"
   },
   {
    "duration": 0,
    "start_time": "2022-04-18T12:11:12.818Z"
   },
   {
    "duration": 0,
    "start_time": "2022-04-18T12:11:12.818Z"
   },
   {
    "duration": 0,
    "start_time": "2022-04-18T12:11:12.819Z"
   },
   {
    "duration": 0,
    "start_time": "2022-04-18T12:11:12.820Z"
   },
   {
    "duration": 0,
    "start_time": "2022-04-18T12:11:12.821Z"
   },
   {
    "duration": 0,
    "start_time": "2022-04-18T12:11:12.822Z"
   },
   {
    "duration": 0,
    "start_time": "2022-04-18T12:11:12.823Z"
   },
   {
    "duration": 0,
    "start_time": "2022-04-18T12:11:12.824Z"
   },
   {
    "duration": 0,
    "start_time": "2022-04-18T12:11:12.825Z"
   },
   {
    "duration": 0,
    "start_time": "2022-04-18T12:11:12.826Z"
   },
   {
    "duration": 0,
    "start_time": "2022-04-18T12:11:12.827Z"
   },
   {
    "duration": 0,
    "start_time": "2022-04-18T12:11:12.828Z"
   },
   {
    "duration": 0,
    "start_time": "2022-04-18T12:11:12.828Z"
   },
   {
    "duration": 0,
    "start_time": "2022-04-18T12:11:12.829Z"
   },
   {
    "duration": 0,
    "start_time": "2022-04-18T12:11:12.830Z"
   },
   {
    "duration": 0,
    "start_time": "2022-04-18T12:11:12.831Z"
   },
   {
    "duration": 0,
    "start_time": "2022-04-18T12:11:12.832Z"
   },
   {
    "duration": 0,
    "start_time": "2022-04-18T12:11:12.833Z"
   },
   {
    "duration": 0,
    "start_time": "2022-04-18T12:11:12.834Z"
   },
   {
    "duration": 0,
    "start_time": "2022-04-18T12:11:12.835Z"
   },
   {
    "duration": 0,
    "start_time": "2022-04-18T12:11:12.836Z"
   },
   {
    "duration": 0,
    "start_time": "2022-04-18T12:11:12.837Z"
   },
   {
    "duration": 0,
    "start_time": "2022-04-18T12:11:12.838Z"
   },
   {
    "duration": 0,
    "start_time": "2022-04-18T12:11:12.839Z"
   },
   {
    "duration": 0,
    "start_time": "2022-04-18T12:11:12.840Z"
   },
   {
    "duration": 0,
    "start_time": "2022-04-18T12:11:12.841Z"
   },
   {
    "duration": 0,
    "start_time": "2022-04-18T12:11:12.842Z"
   },
   {
    "duration": 0,
    "start_time": "2022-04-18T12:11:12.843Z"
   },
   {
    "duration": 0,
    "start_time": "2022-04-18T12:11:12.845Z"
   },
   {
    "duration": 0,
    "start_time": "2022-04-18T12:11:12.846Z"
   },
   {
    "duration": 0,
    "start_time": "2022-04-18T12:11:12.847Z"
   },
   {
    "duration": 0,
    "start_time": "2022-04-18T12:11:12.904Z"
   },
   {
    "duration": 0,
    "start_time": "2022-04-18T12:11:12.906Z"
   },
   {
    "duration": 0,
    "start_time": "2022-04-18T12:11:12.910Z"
   },
   {
    "duration": 0,
    "start_time": "2022-04-18T12:11:12.912Z"
   },
   {
    "duration": 0,
    "start_time": "2022-04-18T12:11:12.913Z"
   },
   {
    "duration": 0,
    "start_time": "2022-04-18T12:11:12.914Z"
   },
   {
    "duration": 1,
    "start_time": "2022-04-18T12:11:12.915Z"
   },
   {
    "duration": 0,
    "start_time": "2022-04-18T12:11:12.917Z"
   },
   {
    "duration": 1230,
    "start_time": "2022-04-18T12:11:47.093Z"
   },
   {
    "duration": 172,
    "start_time": "2022-04-18T12:11:48.325Z"
   },
   {
    "duration": 29,
    "start_time": "2022-04-18T12:11:48.499Z"
   },
   {
    "duration": 5,
    "start_time": "2022-04-18T12:11:48.530Z"
   },
   {
    "duration": 8,
    "start_time": "2022-04-18T12:11:48.537Z"
   },
   {
    "duration": 6,
    "start_time": "2022-04-18T12:11:48.546Z"
   },
   {
    "duration": 14,
    "start_time": "2022-04-18T12:11:48.554Z"
   },
   {
    "duration": 37,
    "start_time": "2022-04-18T12:11:48.569Z"
   },
   {
    "duration": 12,
    "start_time": "2022-04-18T12:11:48.607Z"
   },
   {
    "duration": 12,
    "start_time": "2022-04-18T12:11:48.622Z"
   },
   {
    "duration": 9,
    "start_time": "2022-04-18T12:11:48.635Z"
   },
   {
    "duration": 5,
    "start_time": "2022-04-18T12:11:48.645Z"
   },
   {
    "duration": 10,
    "start_time": "2022-04-18T12:11:48.652Z"
   },
   {
    "duration": 4,
    "start_time": "2022-04-18T12:11:48.663Z"
   },
   {
    "duration": 12,
    "start_time": "2022-04-18T12:11:48.704Z"
   },
   {
    "duration": 14,
    "start_time": "2022-04-18T12:11:48.720Z"
   },
   {
    "duration": 5,
    "start_time": "2022-04-18T12:11:48.736Z"
   },
   {
    "duration": 14,
    "start_time": "2022-04-18T12:11:48.743Z"
   },
   {
    "duration": 5,
    "start_time": "2022-04-18T12:11:48.758Z"
   },
   {
    "duration": 1821,
    "start_time": "2022-04-18T12:11:48.764Z"
   },
   {
    "duration": 34,
    "start_time": "2022-04-18T12:11:50.587Z"
   },
   {
    "duration": 16,
    "start_time": "2022-04-18T12:11:50.623Z"
   },
   {
    "duration": 5,
    "start_time": "2022-04-18T12:11:50.640Z"
   },
   {
    "duration": 15,
    "start_time": "2022-04-18T12:11:50.646Z"
   },
   {
    "duration": 11,
    "start_time": "2022-04-18T12:11:50.662Z"
   },
   {
    "duration": 9,
    "start_time": "2022-04-18T12:11:50.674Z"
   },
   {
    "duration": 21,
    "start_time": "2022-04-18T12:11:50.685Z"
   },
   {
    "duration": 6,
    "start_time": "2022-04-18T12:11:50.713Z"
   },
   {
    "duration": 8,
    "start_time": "2022-04-18T12:11:50.721Z"
   },
   {
    "duration": 11,
    "start_time": "2022-04-18T12:11:50.731Z"
   },
   {
    "duration": 9,
    "start_time": "2022-04-18T12:11:50.743Z"
   },
   {
    "duration": 5,
    "start_time": "2022-04-18T12:11:50.754Z"
   },
   {
    "duration": 6,
    "start_time": "2022-04-18T12:11:50.761Z"
   },
   {
    "duration": 200,
    "start_time": "2022-04-18T12:11:50.769Z"
   },
   {
    "duration": 6,
    "start_time": "2022-04-18T12:11:50.971Z"
   },
   {
    "duration": 30,
    "start_time": "2022-04-18T12:11:50.978Z"
   },
   {
    "duration": 132,
    "start_time": "2022-04-18T12:11:51.010Z"
   },
   {
    "duration": 8,
    "start_time": "2022-04-18T12:11:51.144Z"
   },
   {
    "duration": 14,
    "start_time": "2022-04-18T12:11:51.153Z"
   },
   {
    "duration": 42,
    "start_time": "2022-04-18T12:11:51.168Z"
   },
   {
    "duration": 2,
    "start_time": "2022-04-18T12:11:51.212Z"
   },
   {
    "duration": 18,
    "start_time": "2022-04-18T12:11:51.216Z"
   },
   {
    "duration": 126,
    "start_time": "2022-04-18T12:11:51.236Z"
   },
   {
    "duration": 15,
    "start_time": "2022-04-18T12:11:51.364Z"
   },
   {
    "duration": 3,
    "start_time": "2022-04-18T12:11:51.381Z"
   },
   {
    "duration": 27,
    "start_time": "2022-04-18T12:11:51.385Z"
   },
   {
    "duration": 1353,
    "start_time": "2022-04-18T12:11:51.413Z"
   },
   {
    "duration": 105,
    "start_time": "2022-04-18T12:11:52.767Z"
   },
   {
    "duration": 0,
    "start_time": "2022-04-18T12:11:52.874Z"
   },
   {
    "duration": 0,
    "start_time": "2022-04-18T12:11:52.875Z"
   },
   {
    "duration": 0,
    "start_time": "2022-04-18T12:11:52.876Z"
   },
   {
    "duration": 0,
    "start_time": "2022-04-18T12:11:52.877Z"
   },
   {
    "duration": 0,
    "start_time": "2022-04-18T12:11:52.878Z"
   },
   {
    "duration": 0,
    "start_time": "2022-04-18T12:11:52.879Z"
   },
   {
    "duration": 0,
    "start_time": "2022-04-18T12:11:52.880Z"
   },
   {
    "duration": 0,
    "start_time": "2022-04-18T12:11:52.881Z"
   },
   {
    "duration": 0,
    "start_time": "2022-04-18T12:11:52.882Z"
   },
   {
    "duration": 0,
    "start_time": "2022-04-18T12:11:52.899Z"
   },
   {
    "duration": 0,
    "start_time": "2022-04-18T12:11:52.901Z"
   },
   {
    "duration": 0,
    "start_time": "2022-04-18T12:11:52.902Z"
   },
   {
    "duration": 0,
    "start_time": "2022-04-18T12:11:52.904Z"
   },
   {
    "duration": 0,
    "start_time": "2022-04-18T12:11:52.905Z"
   },
   {
    "duration": 0,
    "start_time": "2022-04-18T12:11:52.907Z"
   },
   {
    "duration": 0,
    "start_time": "2022-04-18T12:11:52.908Z"
   },
   {
    "duration": 0,
    "start_time": "2022-04-18T12:11:52.909Z"
   },
   {
    "duration": 0,
    "start_time": "2022-04-18T12:11:52.911Z"
   },
   {
    "duration": 0,
    "start_time": "2022-04-18T12:11:52.915Z"
   },
   {
    "duration": 0,
    "start_time": "2022-04-18T12:11:52.916Z"
   },
   {
    "duration": 0,
    "start_time": "2022-04-18T12:11:52.918Z"
   },
   {
    "duration": 0,
    "start_time": "2022-04-18T12:11:52.919Z"
   },
   {
    "duration": 0,
    "start_time": "2022-04-18T12:11:52.920Z"
   },
   {
    "duration": 0,
    "start_time": "2022-04-18T12:11:52.921Z"
   },
   {
    "duration": 0,
    "start_time": "2022-04-18T12:11:52.922Z"
   },
   {
    "duration": 0,
    "start_time": "2022-04-18T12:11:52.923Z"
   },
   {
    "duration": 0,
    "start_time": "2022-04-18T12:11:52.924Z"
   },
   {
    "duration": 0,
    "start_time": "2022-04-18T12:11:52.925Z"
   },
   {
    "duration": 0,
    "start_time": "2022-04-18T12:11:52.926Z"
   },
   {
    "duration": 0,
    "start_time": "2022-04-18T12:11:52.927Z"
   },
   {
    "duration": 0,
    "start_time": "2022-04-18T12:11:52.927Z"
   },
   {
    "duration": 0,
    "start_time": "2022-04-18T12:11:52.929Z"
   },
   {
    "duration": 0,
    "start_time": "2022-04-18T12:11:52.929Z"
   },
   {
    "duration": 0,
    "start_time": "2022-04-18T12:11:52.930Z"
   },
   {
    "duration": 0,
    "start_time": "2022-04-18T12:11:52.932Z"
   },
   {
    "duration": 0,
    "start_time": "2022-04-18T12:11:52.933Z"
   },
   {
    "duration": 0,
    "start_time": "2022-04-18T12:11:52.934Z"
   },
   {
    "duration": 0,
    "start_time": "2022-04-18T12:11:52.935Z"
   },
   {
    "duration": 0,
    "start_time": "2022-04-18T12:11:52.936Z"
   },
   {
    "duration": 0,
    "start_time": "2022-04-18T12:11:52.937Z"
   },
   {
    "duration": 0,
    "start_time": "2022-04-18T12:11:52.938Z"
   },
   {
    "duration": 0,
    "start_time": "2022-04-18T12:11:52.939Z"
   },
   {
    "duration": 0,
    "start_time": "2022-04-18T12:11:52.940Z"
   },
   {
    "duration": 0,
    "start_time": "2022-04-18T12:11:52.941Z"
   },
   {
    "duration": 0,
    "start_time": "2022-04-18T12:11:52.942Z"
   },
   {
    "duration": 186,
    "start_time": "2022-04-18T12:13:17.224Z"
   },
   {
    "duration": 159,
    "start_time": "2022-04-18T12:13:21.630Z"
   },
   {
    "duration": 178,
    "start_time": "2022-04-18T12:13:31.930Z"
   },
   {
    "duration": 202,
    "start_time": "2022-04-18T12:13:35.594Z"
   },
   {
    "duration": 7,
    "start_time": "2022-04-18T12:14:19.121Z"
   },
   {
    "duration": 1238,
    "start_time": "2022-04-18T12:14:53.607Z"
   },
   {
    "duration": 139,
    "start_time": "2022-04-18T12:14:54.847Z"
   },
   {
    "duration": 31,
    "start_time": "2022-04-18T12:14:54.988Z"
   },
   {
    "duration": 6,
    "start_time": "2022-04-18T12:14:55.021Z"
   },
   {
    "duration": 9,
    "start_time": "2022-04-18T12:14:55.028Z"
   },
   {
    "duration": 8,
    "start_time": "2022-04-18T12:14:55.038Z"
   },
   {
    "duration": 13,
    "start_time": "2022-04-18T12:14:55.047Z"
   },
   {
    "duration": 13,
    "start_time": "2022-04-18T12:14:55.061Z"
   },
   {
    "duration": 36,
    "start_time": "2022-04-18T12:14:55.075Z"
   },
   {
    "duration": 16,
    "start_time": "2022-04-18T12:14:55.114Z"
   },
   {
    "duration": 10,
    "start_time": "2022-04-18T12:14:55.131Z"
   },
   {
    "duration": 6,
    "start_time": "2022-04-18T12:14:55.143Z"
   },
   {
    "duration": 11,
    "start_time": "2022-04-18T12:14:55.151Z"
   },
   {
    "duration": 4,
    "start_time": "2022-04-18T12:14:55.164Z"
   },
   {
    "duration": 44,
    "start_time": "2022-04-18T12:14:55.169Z"
   },
   {
    "duration": 16,
    "start_time": "2022-04-18T12:14:55.216Z"
   },
   {
    "duration": 7,
    "start_time": "2022-04-18T12:14:55.234Z"
   },
   {
    "duration": 16,
    "start_time": "2022-04-18T12:14:55.242Z"
   },
   {
    "duration": 5,
    "start_time": "2022-04-18T12:14:55.260Z"
   },
   {
    "duration": 1786,
    "start_time": "2022-04-18T12:14:55.267Z"
   },
   {
    "duration": 16,
    "start_time": "2022-04-18T12:14:57.055Z"
   },
   {
    "duration": 30,
    "start_time": "2022-04-18T12:14:57.073Z"
   },
   {
    "duration": 11,
    "start_time": "2022-04-18T12:14:57.105Z"
   },
   {
    "duration": 8,
    "start_time": "2022-04-18T12:14:57.118Z"
   },
   {
    "duration": 6,
    "start_time": "2022-04-18T12:14:57.127Z"
   },
   {
    "duration": 7,
    "start_time": "2022-04-18T12:14:57.134Z"
   },
   {
    "duration": 8,
    "start_time": "2022-04-18T12:14:57.142Z"
   },
   {
    "duration": 5,
    "start_time": "2022-04-18T12:14:57.156Z"
   },
   {
    "duration": 11,
    "start_time": "2022-04-18T12:14:57.163Z"
   },
   {
    "duration": 13,
    "start_time": "2022-04-18T12:14:57.208Z"
   },
   {
    "duration": 10,
    "start_time": "2022-04-18T12:14:57.223Z"
   },
   {
    "duration": 7,
    "start_time": "2022-04-18T12:14:57.235Z"
   },
   {
    "duration": 10,
    "start_time": "2022-04-18T12:14:57.244Z"
   },
   {
    "duration": 179,
    "start_time": "2022-04-18T12:14:57.255Z"
   },
   {
    "duration": 5,
    "start_time": "2022-04-18T12:14:57.436Z"
   },
   {
    "duration": 12,
    "start_time": "2022-04-18T12:14:57.443Z"
   },
   {
    "duration": 160,
    "start_time": "2022-04-18T12:14:57.457Z"
   },
   {
    "duration": 9,
    "start_time": "2022-04-18T12:14:57.619Z"
   },
   {
    "duration": 14,
    "start_time": "2022-04-18T12:14:57.630Z"
   },
   {
    "duration": 15,
    "start_time": "2022-04-18T12:14:57.646Z"
   },
   {
    "duration": 2,
    "start_time": "2022-04-18T12:14:57.663Z"
   },
   {
    "duration": 52,
    "start_time": "2022-04-18T12:14:57.667Z"
   },
   {
    "duration": 128,
    "start_time": "2022-04-18T12:14:57.721Z"
   },
   {
    "duration": 16,
    "start_time": "2022-04-18T12:14:57.851Z"
   },
   {
    "duration": 3,
    "start_time": "2022-04-18T12:14:57.869Z"
   },
   {
    "duration": 39,
    "start_time": "2022-04-18T12:14:57.874Z"
   },
   {
    "duration": 1397,
    "start_time": "2022-04-18T12:14:57.915Z"
   },
   {
    "duration": 100,
    "start_time": "2022-04-18T12:14:59.313Z"
   },
   {
    "duration": 0,
    "start_time": "2022-04-18T12:14:59.415Z"
   },
   {
    "duration": 0,
    "start_time": "2022-04-18T12:14:59.417Z"
   },
   {
    "duration": 0,
    "start_time": "2022-04-18T12:14:59.418Z"
   },
   {
    "duration": 0,
    "start_time": "2022-04-18T12:14:59.419Z"
   },
   {
    "duration": 0,
    "start_time": "2022-04-18T12:14:59.420Z"
   },
   {
    "duration": 0,
    "start_time": "2022-04-18T12:14:59.421Z"
   },
   {
    "duration": 0,
    "start_time": "2022-04-18T12:14:59.422Z"
   },
   {
    "duration": 0,
    "start_time": "2022-04-18T12:14:59.424Z"
   },
   {
    "duration": 0,
    "start_time": "2022-04-18T12:14:59.425Z"
   },
   {
    "duration": 0,
    "start_time": "2022-04-18T12:14:59.426Z"
   },
   {
    "duration": 0,
    "start_time": "2022-04-18T12:14:59.427Z"
   },
   {
    "duration": 0,
    "start_time": "2022-04-18T12:14:59.428Z"
   },
   {
    "duration": 0,
    "start_time": "2022-04-18T12:14:59.429Z"
   },
   {
    "duration": 0,
    "start_time": "2022-04-18T12:14:59.430Z"
   },
   {
    "duration": 0,
    "start_time": "2022-04-18T12:14:59.431Z"
   },
   {
    "duration": 0,
    "start_time": "2022-04-18T12:14:59.432Z"
   },
   {
    "duration": 0,
    "start_time": "2022-04-18T12:14:59.433Z"
   },
   {
    "duration": 0,
    "start_time": "2022-04-18T12:14:59.434Z"
   },
   {
    "duration": 0,
    "start_time": "2022-04-18T12:14:59.435Z"
   },
   {
    "duration": 0,
    "start_time": "2022-04-18T12:14:59.436Z"
   },
   {
    "duration": 0,
    "start_time": "2022-04-18T12:14:59.437Z"
   },
   {
    "duration": 0,
    "start_time": "2022-04-18T12:14:59.438Z"
   },
   {
    "duration": 0,
    "start_time": "2022-04-18T12:14:59.440Z"
   },
   {
    "duration": 0,
    "start_time": "2022-04-18T12:14:59.441Z"
   },
   {
    "duration": 0,
    "start_time": "2022-04-18T12:14:59.442Z"
   },
   {
    "duration": 0,
    "start_time": "2022-04-18T12:14:59.443Z"
   },
   {
    "duration": 0,
    "start_time": "2022-04-18T12:14:59.444Z"
   },
   {
    "duration": 0,
    "start_time": "2022-04-18T12:14:59.445Z"
   },
   {
    "duration": 0,
    "start_time": "2022-04-18T12:14:59.446Z"
   },
   {
    "duration": 0,
    "start_time": "2022-04-18T12:14:59.447Z"
   },
   {
    "duration": 0,
    "start_time": "2022-04-18T12:14:59.448Z"
   },
   {
    "duration": 0,
    "start_time": "2022-04-18T12:14:59.449Z"
   },
   {
    "duration": 0,
    "start_time": "2022-04-18T12:14:59.450Z"
   },
   {
    "duration": 0,
    "start_time": "2022-04-18T12:14:59.452Z"
   },
   {
    "duration": 0,
    "start_time": "2022-04-18T12:14:59.453Z"
   },
   {
    "duration": 0,
    "start_time": "2022-04-18T12:14:59.453Z"
   },
   {
    "duration": 0,
    "start_time": "2022-04-18T12:14:59.454Z"
   },
   {
    "duration": 0,
    "start_time": "2022-04-18T12:14:59.454Z"
   },
   {
    "duration": 0,
    "start_time": "2022-04-18T12:14:59.455Z"
   },
   {
    "duration": 0,
    "start_time": "2022-04-18T12:14:59.500Z"
   },
   {
    "duration": 0,
    "start_time": "2022-04-18T12:14:59.501Z"
   },
   {
    "duration": 0,
    "start_time": "2022-04-18T12:14:59.511Z"
   },
   {
    "duration": 0,
    "start_time": "2022-04-18T12:14:59.512Z"
   },
   {
    "duration": 0,
    "start_time": "2022-04-18T12:14:59.513Z"
   },
   {
    "duration": 3,
    "start_time": "2022-04-18T12:16:57.396Z"
   },
   {
    "duration": 1250,
    "start_time": "2022-04-18T12:17:17.014Z"
   },
   {
    "duration": 168,
    "start_time": "2022-04-18T12:17:18.266Z"
   },
   {
    "duration": 25,
    "start_time": "2022-04-18T12:17:18.435Z"
   },
   {
    "duration": 5,
    "start_time": "2022-04-18T12:17:18.461Z"
   },
   {
    "duration": 7,
    "start_time": "2022-04-18T12:17:18.468Z"
   },
   {
    "duration": 11,
    "start_time": "2022-04-18T12:17:18.476Z"
   },
   {
    "duration": 28,
    "start_time": "2022-04-18T12:17:18.488Z"
   },
   {
    "duration": 14,
    "start_time": "2022-04-18T12:17:18.518Z"
   },
   {
    "duration": 6,
    "start_time": "2022-04-18T12:17:18.533Z"
   },
   {
    "duration": 15,
    "start_time": "2022-04-18T12:17:18.541Z"
   },
   {
    "duration": 13,
    "start_time": "2022-04-18T12:17:18.558Z"
   },
   {
    "duration": 33,
    "start_time": "2022-04-18T12:17:18.572Z"
   },
   {
    "duration": 17,
    "start_time": "2022-04-18T12:17:18.607Z"
   },
   {
    "duration": 4,
    "start_time": "2022-04-18T12:17:18.627Z"
   },
   {
    "duration": 12,
    "start_time": "2022-04-18T12:17:18.633Z"
   },
   {
    "duration": 15,
    "start_time": "2022-04-18T12:17:18.647Z"
   },
   {
    "duration": 6,
    "start_time": "2022-04-18T12:17:18.664Z"
   },
   {
    "duration": 39,
    "start_time": "2022-04-18T12:17:18.672Z"
   },
   {
    "duration": 7,
    "start_time": "2022-04-18T12:17:18.713Z"
   },
   {
    "duration": 1833,
    "start_time": "2022-04-18T12:17:18.722Z"
   },
   {
    "duration": 18,
    "start_time": "2022-04-18T12:17:20.557Z"
   },
   {
    "duration": 39,
    "start_time": "2022-04-18T12:17:20.577Z"
   },
   {
    "duration": 6,
    "start_time": "2022-04-18T12:17:20.618Z"
   },
   {
    "duration": 9,
    "start_time": "2022-04-18T12:17:20.626Z"
   },
   {
    "duration": 7,
    "start_time": "2022-04-18T12:17:20.636Z"
   },
   {
    "duration": 7,
    "start_time": "2022-04-18T12:17:20.645Z"
   },
   {
    "duration": 18,
    "start_time": "2022-04-18T12:17:20.654Z"
   },
   {
    "duration": 15,
    "start_time": "2022-04-18T12:17:20.673Z"
   },
   {
    "duration": 26,
    "start_time": "2022-04-18T12:17:20.690Z"
   },
   {
    "duration": 15,
    "start_time": "2022-04-18T12:17:20.718Z"
   },
   {
    "duration": 27,
    "start_time": "2022-04-18T12:17:20.734Z"
   },
   {
    "duration": 8,
    "start_time": "2022-04-18T12:17:20.763Z"
   },
   {
    "duration": 17,
    "start_time": "2022-04-18T12:17:20.773Z"
   },
   {
    "duration": 183,
    "start_time": "2022-04-18T12:17:20.792Z"
   },
   {
    "duration": 5,
    "start_time": "2022-04-18T12:17:20.977Z"
   },
   {
    "duration": 18,
    "start_time": "2022-04-18T12:17:20.984Z"
   },
   {
    "duration": 140,
    "start_time": "2022-04-18T12:17:21.004Z"
   },
   {
    "duration": 9,
    "start_time": "2022-04-18T12:17:21.146Z"
   },
   {
    "duration": 13,
    "start_time": "2022-04-18T12:17:21.157Z"
   },
   {
    "duration": 41,
    "start_time": "2022-04-18T12:17:21.172Z"
   },
   {
    "duration": 2,
    "start_time": "2022-04-18T12:17:21.218Z"
   },
   {
    "duration": 23,
    "start_time": "2022-04-18T12:17:21.221Z"
   },
   {
    "duration": 145,
    "start_time": "2022-04-18T12:17:21.246Z"
   },
   {
    "duration": 20,
    "start_time": "2022-04-18T12:17:21.399Z"
   },
   {
    "duration": 11,
    "start_time": "2022-04-18T12:17:21.421Z"
   },
   {
    "duration": 18,
    "start_time": "2022-04-18T12:17:21.434Z"
   },
   {
    "duration": 1520,
    "start_time": "2022-04-18T12:17:21.454Z"
   },
   {
    "duration": 3,
    "start_time": "2022-04-18T12:17:22.976Z"
   },
   {
    "duration": 19,
    "start_time": "2022-04-18T12:17:22.981Z"
   },
   {
    "duration": 20,
    "start_time": "2022-04-18T12:17:23.006Z"
   },
   {
    "duration": 24,
    "start_time": "2022-04-18T12:17:23.027Z"
   },
   {
    "duration": 3449,
    "start_time": "2022-04-18T12:17:23.053Z"
   },
   {
    "duration": 0,
    "start_time": "2022-04-18T12:17:26.504Z"
   },
   {
    "duration": 0,
    "start_time": "2022-04-18T12:17:26.506Z"
   },
   {
    "duration": 0,
    "start_time": "2022-04-18T12:17:26.508Z"
   },
   {
    "duration": 0,
    "start_time": "2022-04-18T12:17:26.509Z"
   },
   {
    "duration": 0,
    "start_time": "2022-04-18T12:17:26.514Z"
   },
   {
    "duration": 0,
    "start_time": "2022-04-18T12:17:26.515Z"
   },
   {
    "duration": 0,
    "start_time": "2022-04-18T12:17:26.516Z"
   },
   {
    "duration": 0,
    "start_time": "2022-04-18T12:17:26.517Z"
   },
   {
    "duration": 0,
    "start_time": "2022-04-18T12:17:26.520Z"
   },
   {
    "duration": 0,
    "start_time": "2022-04-18T12:17:26.521Z"
   },
   {
    "duration": 0,
    "start_time": "2022-04-18T12:17:26.522Z"
   },
   {
    "duration": 0,
    "start_time": "2022-04-18T12:17:26.523Z"
   },
   {
    "duration": 0,
    "start_time": "2022-04-18T12:17:26.524Z"
   },
   {
    "duration": 0,
    "start_time": "2022-04-18T12:17:26.526Z"
   },
   {
    "duration": 0,
    "start_time": "2022-04-18T12:17:26.527Z"
   },
   {
    "duration": 0,
    "start_time": "2022-04-18T12:17:26.528Z"
   },
   {
    "duration": 0,
    "start_time": "2022-04-18T12:17:26.529Z"
   },
   {
    "duration": 0,
    "start_time": "2022-04-18T12:17:26.530Z"
   },
   {
    "duration": 0,
    "start_time": "2022-04-18T12:17:26.530Z"
   },
   {
    "duration": 0,
    "start_time": "2022-04-18T12:17:26.531Z"
   },
   {
    "duration": 0,
    "start_time": "2022-04-18T12:17:26.532Z"
   },
   {
    "duration": 0,
    "start_time": "2022-04-18T12:17:26.533Z"
   },
   {
    "duration": 0,
    "start_time": "2022-04-18T12:17:26.534Z"
   },
   {
    "duration": 0,
    "start_time": "2022-04-18T12:17:26.536Z"
   },
   {
    "duration": 0,
    "start_time": "2022-04-18T12:17:26.537Z"
   },
   {
    "duration": 0,
    "start_time": "2022-04-18T12:17:26.538Z"
   },
   {
    "duration": 0,
    "start_time": "2022-04-18T12:17:26.539Z"
   },
   {
    "duration": 0,
    "start_time": "2022-04-18T12:17:26.540Z"
   },
   {
    "duration": 0,
    "start_time": "2022-04-18T12:17:26.541Z"
   },
   {
    "duration": 0,
    "start_time": "2022-04-18T12:17:26.542Z"
   },
   {
    "duration": 0,
    "start_time": "2022-04-18T12:17:26.543Z"
   },
   {
    "duration": 0,
    "start_time": "2022-04-18T12:17:26.544Z"
   },
   {
    "duration": 0,
    "start_time": "2022-04-18T12:17:26.606Z"
   },
   {
    "duration": 0,
    "start_time": "2022-04-18T12:17:26.608Z"
   },
   {
    "duration": 0,
    "start_time": "2022-04-18T12:17:26.610Z"
   },
   {
    "duration": 0,
    "start_time": "2022-04-18T12:17:26.611Z"
   },
   {
    "duration": 0,
    "start_time": "2022-04-18T12:17:26.613Z"
   },
   {
    "duration": 0,
    "start_time": "2022-04-18T12:17:26.615Z"
   },
   {
    "duration": 0,
    "start_time": "2022-04-18T12:17:26.616Z"
   },
   {
    "duration": 0,
    "start_time": "2022-04-18T12:17:26.617Z"
   },
   {
    "duration": 11,
    "start_time": "2022-04-18T12:18:26.961Z"
   },
   {
    "duration": 15,
    "start_time": "2022-04-18T12:19:06.313Z"
   },
   {
    "duration": 3,
    "start_time": "2022-04-18T12:19:43.681Z"
   },
   {
    "duration": 480,
    "start_time": "2022-04-18T12:19:51.822Z"
   },
   {
    "duration": 16,
    "start_time": "2022-04-18T12:23:49.651Z"
   },
   {
    "duration": 17,
    "start_time": "2022-04-18T12:23:59.296Z"
   },
   {
    "duration": 153,
    "start_time": "2022-04-18T12:24:04.892Z"
   },
   {
    "duration": 149,
    "start_time": "2022-04-18T12:24:07.682Z"
   },
   {
    "duration": 793,
    "start_time": "2022-04-18T12:24:16.354Z"
   },
   {
    "duration": 202,
    "start_time": "2022-04-18T12:24:19.598Z"
   },
   {
    "duration": 964,
    "start_time": "2022-04-18T12:25:00.376Z"
   },
   {
    "duration": 12,
    "start_time": "2022-04-18T12:25:15.539Z"
   },
   {
    "duration": 12,
    "start_time": "2022-04-18T12:25:30.594Z"
   },
   {
    "duration": 8,
    "start_time": "2022-04-18T12:26:54.880Z"
   },
   {
    "duration": 9,
    "start_time": "2022-04-18T12:27:44.897Z"
   },
   {
    "duration": 9,
    "start_time": "2022-04-18T12:27:54.466Z"
   },
   {
    "duration": 9,
    "start_time": "2022-04-18T12:28:10.991Z"
   },
   {
    "duration": 14,
    "start_time": "2022-04-18T12:31:28.290Z"
   },
   {
    "duration": 355,
    "start_time": "2022-04-18T12:31:48.161Z"
   },
   {
    "duration": 196,
    "start_time": "2022-04-18T13:03:22.158Z"
   },
   {
    "duration": 9,
    "start_time": "2022-04-18T13:26:10.209Z"
   },
   {
    "duration": 7,
    "start_time": "2022-04-18T13:26:18.070Z"
   },
   {
    "duration": 5,
    "start_time": "2022-04-18T13:26:37.969Z"
   },
   {
    "duration": 5,
    "start_time": "2022-04-18T13:37:15.024Z"
   },
   {
    "duration": 6,
    "start_time": "2022-04-18T13:37:50.995Z"
   },
   {
    "duration": 1234,
    "start_time": "2022-04-18T13:38:32.804Z"
   },
   {
    "duration": 220,
    "start_time": "2022-04-18T13:38:34.040Z"
   },
   {
    "duration": 27,
    "start_time": "2022-04-18T13:38:34.261Z"
   },
   {
    "duration": 6,
    "start_time": "2022-04-18T13:38:34.290Z"
   },
   {
    "duration": 6,
    "start_time": "2022-04-18T13:38:34.298Z"
   },
   {
    "duration": 10,
    "start_time": "2022-04-18T13:38:34.305Z"
   },
   {
    "duration": 12,
    "start_time": "2022-04-18T13:38:34.316Z"
   },
   {
    "duration": 12,
    "start_time": "2022-04-18T13:38:34.329Z"
   },
   {
    "duration": 5,
    "start_time": "2022-04-18T13:38:34.343Z"
   },
   {
    "duration": 16,
    "start_time": "2022-04-18T13:38:34.351Z"
   },
   {
    "duration": 34,
    "start_time": "2022-04-18T13:38:34.368Z"
   },
   {
    "duration": 6,
    "start_time": "2022-04-18T13:38:34.403Z"
   },
   {
    "duration": 11,
    "start_time": "2022-04-18T13:38:34.411Z"
   },
   {
    "duration": 4,
    "start_time": "2022-04-18T13:38:34.423Z"
   },
   {
    "duration": 10,
    "start_time": "2022-04-18T13:38:34.428Z"
   },
   {
    "duration": 14,
    "start_time": "2022-04-18T13:38:34.440Z"
   },
   {
    "duration": 6,
    "start_time": "2022-04-18T13:38:34.455Z"
   },
   {
    "duration": 16,
    "start_time": "2022-04-18T13:38:34.499Z"
   },
   {
    "duration": 7,
    "start_time": "2022-04-18T13:38:34.516Z"
   },
   {
    "duration": 1850,
    "start_time": "2022-04-18T13:38:34.524Z"
   },
   {
    "duration": 33,
    "start_time": "2022-04-18T13:38:36.375Z"
   },
   {
    "duration": 16,
    "start_time": "2022-04-18T13:38:36.410Z"
   },
   {
    "duration": 6,
    "start_time": "2022-04-18T13:38:36.427Z"
   },
   {
    "duration": 8,
    "start_time": "2022-04-18T13:38:36.434Z"
   },
   {
    "duration": 6,
    "start_time": "2022-04-18T13:38:36.443Z"
   },
   {
    "duration": 6,
    "start_time": "2022-04-18T13:38:36.451Z"
   },
   {
    "duration": 6,
    "start_time": "2022-04-18T13:38:36.458Z"
   },
   {
    "duration": 32,
    "start_time": "2022-04-18T13:38:36.468Z"
   },
   {
    "duration": 6,
    "start_time": "2022-04-18T13:38:36.501Z"
   },
   {
    "duration": 11,
    "start_time": "2022-04-18T13:38:36.509Z"
   },
   {
    "duration": 10,
    "start_time": "2022-04-18T13:38:36.521Z"
   },
   {
    "duration": 5,
    "start_time": "2022-04-18T13:38:36.532Z"
   },
   {
    "duration": 10,
    "start_time": "2022-04-18T13:38:36.538Z"
   },
   {
    "duration": 225,
    "start_time": "2022-04-18T13:38:36.549Z"
   },
   {
    "duration": 4,
    "start_time": "2022-04-18T13:38:36.776Z"
   },
   {
    "duration": 12,
    "start_time": "2022-04-18T13:38:36.782Z"
   },
   {
    "duration": 123,
    "start_time": "2022-04-18T13:38:36.796Z"
   },
   {
    "duration": 9,
    "start_time": "2022-04-18T13:38:36.920Z"
   },
   {
    "duration": 15,
    "start_time": "2022-04-18T13:38:36.931Z"
   },
   {
    "duration": 15,
    "start_time": "2022-04-18T13:38:36.947Z"
   },
   {
    "duration": 3,
    "start_time": "2022-04-18T13:38:36.963Z"
   },
   {
    "duration": 45,
    "start_time": "2022-04-18T13:38:36.967Z"
   },
   {
    "duration": 128,
    "start_time": "2022-04-18T13:38:37.013Z"
   },
   {
    "duration": 14,
    "start_time": "2022-04-18T13:38:37.142Z"
   },
   {
    "duration": 3,
    "start_time": "2022-04-18T13:38:37.158Z"
   },
   {
    "duration": 14,
    "start_time": "2022-04-18T13:38:37.162Z"
   },
   {
    "duration": 1371,
    "start_time": "2022-04-18T13:38:37.177Z"
   },
   {
    "duration": 2,
    "start_time": "2022-04-18T13:38:38.550Z"
   },
   {
    "duration": 12,
    "start_time": "2022-04-18T13:38:38.554Z"
   },
   {
    "duration": 5,
    "start_time": "2022-04-18T13:38:38.568Z"
   },
   {
    "duration": 33,
    "start_time": "2022-04-18T13:38:38.575Z"
   },
   {
    "duration": 10,
    "start_time": "2022-04-18T13:38:38.610Z"
   },
   {
    "duration": 7,
    "start_time": "2022-04-18T13:38:38.621Z"
   },
   {
    "duration": 503,
    "start_time": "2022-04-18T13:38:38.629Z"
   },
   {
    "duration": 16,
    "start_time": "2022-04-18T13:38:39.133Z"
   },
   {
    "duration": 16,
    "start_time": "2022-04-18T13:38:39.150Z"
   },
   {
    "duration": 192,
    "start_time": "2022-04-18T13:38:39.167Z"
   },
   {
    "duration": 151,
    "start_time": "2022-04-18T13:38:39.361Z"
   },
   {
    "duration": 875,
    "start_time": "2022-04-18T13:38:39.514Z"
   },
   {
    "duration": 19,
    "start_time": "2022-04-18T13:38:40.391Z"
   },
   {
    "duration": 363,
    "start_time": "2022-04-18T13:38:40.412Z"
   },
   {
    "duration": 5,
    "start_time": "2022-04-18T13:38:40.777Z"
   },
   {
    "duration": 23,
    "start_time": "2022-04-18T13:38:40.784Z"
   },
   {
    "duration": 983,
    "start_time": "2022-04-18T13:38:40.809Z"
   },
   {
    "duration": 12,
    "start_time": "2022-04-18T13:38:41.793Z"
   },
   {
    "duration": 342,
    "start_time": "2022-04-18T13:38:41.807Z"
   },
   {
    "duration": 230,
    "start_time": "2022-04-18T13:38:42.151Z"
   },
   {
    "duration": 22,
    "start_time": "2022-04-18T13:38:42.383Z"
   },
   {
    "duration": 15,
    "start_time": "2022-04-18T13:38:42.406Z"
   },
   {
    "duration": 8,
    "start_time": "2022-04-18T13:38:42.423Z"
   },
   {
    "duration": 16,
    "start_time": "2022-04-18T13:38:42.432Z"
   },
   {
    "duration": 9,
    "start_time": "2022-04-18T13:38:42.449Z"
   },
   {
    "duration": 43,
    "start_time": "2022-04-18T13:38:42.460Z"
   },
   {
    "duration": 8,
    "start_time": "2022-04-18T13:38:42.504Z"
   },
   {
    "duration": 17,
    "start_time": "2022-04-18T13:38:42.514Z"
   },
   {
    "duration": 192,
    "start_time": "2022-04-18T13:38:42.533Z"
   },
   {
    "duration": 16,
    "start_time": "2022-04-18T13:38:42.727Z"
   },
   {
    "duration": 166,
    "start_time": "2022-04-18T13:38:42.745Z"
   },
   {
    "duration": 15,
    "start_time": "2022-04-18T13:38:42.913Z"
   },
   {
    "duration": 15,
    "start_time": "2022-04-18T13:38:42.930Z"
   },
   {
    "duration": 21,
    "start_time": "2022-04-18T13:38:42.947Z"
   },
   {
    "duration": 45,
    "start_time": "2022-04-18T13:38:42.975Z"
   },
   {
    "duration": 529,
    "start_time": "2022-04-18T13:38:43.022Z"
   },
   {
    "duration": 0,
    "start_time": "2022-04-18T13:38:43.552Z"
   },
   {
    "duration": 0,
    "start_time": "2022-04-18T13:38:43.554Z"
   },
   {
    "duration": 0,
    "start_time": "2022-04-18T13:38:43.555Z"
   },
   {
    "duration": 0,
    "start_time": "2022-04-18T13:38:43.556Z"
   },
   {
    "duration": 0,
    "start_time": "2022-04-18T13:38:43.557Z"
   },
   {
    "duration": 0,
    "start_time": "2022-04-18T13:38:43.558Z"
   },
   {
    "duration": 0,
    "start_time": "2022-04-18T13:38:43.559Z"
   },
   {
    "duration": 0,
    "start_time": "2022-04-18T13:38:43.560Z"
   },
   {
    "duration": 0,
    "start_time": "2022-04-18T13:38:43.561Z"
   },
   {
    "duration": 7,
    "start_time": "2022-04-18T13:40:42.647Z"
   },
   {
    "duration": 6,
    "start_time": "2022-04-18T13:41:32.448Z"
   },
   {
    "duration": 7,
    "start_time": "2022-04-18T13:41:38.686Z"
   },
   {
    "duration": 5,
    "start_time": "2022-04-18T13:41:46.476Z"
   },
   {
    "duration": 6,
    "start_time": "2022-04-18T13:41:51.024Z"
   },
   {
    "duration": 142,
    "start_time": "2022-04-18T13:43:59.951Z"
   },
   {
    "duration": 6,
    "start_time": "2022-04-18T13:45:20.474Z"
   },
   {
    "duration": 6,
    "start_time": "2022-04-18T13:45:44.400Z"
   },
   {
    "duration": 159,
    "start_time": "2022-04-18T13:46:23.208Z"
   },
   {
    "duration": 241,
    "start_time": "2022-04-18T13:46:58.940Z"
   },
   {
    "duration": 277,
    "start_time": "2022-04-18T14:10:23.215Z"
   },
   {
    "duration": 290,
    "start_time": "2022-04-18T14:11:26.326Z"
   },
   {
    "duration": 281,
    "start_time": "2022-04-18T14:11:32.551Z"
   },
   {
    "duration": 994,
    "start_time": "2022-04-18T14:11:38.662Z"
   },
   {
    "duration": 311,
    "start_time": "2022-04-18T14:11:45.902Z"
   },
   {
    "duration": 3,
    "start_time": "2022-04-18T14:12:26.597Z"
   },
   {
    "duration": 16,
    "start_time": "2022-04-18T14:12:39.046Z"
   },
   {
    "duration": 16,
    "start_time": "2022-04-18T14:12:43.705Z"
   },
   {
    "duration": 17,
    "start_time": "2022-04-18T14:12:47.579Z"
   },
   {
    "duration": 5,
    "start_time": "2022-04-18T14:29:37.646Z"
   },
   {
    "duration": 15,
    "start_time": "2022-04-18T14:29:49.223Z"
   },
   {
    "duration": 15,
    "start_time": "2022-04-18T14:29:57.514Z"
   },
   {
    "duration": 16,
    "start_time": "2022-04-18T14:30:01.399Z"
   },
   {
    "duration": 5,
    "start_time": "2022-04-18T14:30:27.193Z"
   },
   {
    "duration": 5,
    "start_time": "2022-04-18T14:30:37.490Z"
   },
   {
    "duration": 5,
    "start_time": "2022-04-18T14:30:46.604Z"
   },
   {
    "duration": 4,
    "start_time": "2022-04-18T14:31:13.751Z"
   },
   {
    "duration": 15,
    "start_time": "2022-04-18T14:31:19.641Z"
   },
   {
    "duration": 16,
    "start_time": "2022-04-18T14:31:24.254Z"
   },
   {
    "duration": 15,
    "start_time": "2022-04-18T14:31:28.893Z"
   },
   {
    "duration": 4,
    "start_time": "2022-04-18T14:33:25.450Z"
   },
   {
    "duration": 13,
    "start_time": "2022-04-18T14:45:16.231Z"
   },
   {
    "duration": 11,
    "start_time": "2022-04-18T14:45:25.025Z"
   },
   {
    "duration": 7,
    "start_time": "2022-04-18T14:45:32.628Z"
   },
   {
    "duration": 8,
    "start_time": "2022-04-18T14:45:45.711Z"
   },
   {
    "duration": 10,
    "start_time": "2022-04-18T14:45:55.856Z"
   },
   {
    "duration": 7,
    "start_time": "2022-04-18T14:46:24.249Z"
   },
   {
    "duration": 9,
    "start_time": "2022-04-18T14:46:31.988Z"
   },
   {
    "duration": 10,
    "start_time": "2022-04-18T14:47:04.832Z"
   },
   {
    "duration": 6,
    "start_time": "2022-04-18T14:47:17.731Z"
   },
   {
    "duration": 8,
    "start_time": "2022-04-18T14:48:04.209Z"
   },
   {
    "duration": 7,
    "start_time": "2022-04-18T14:48:17.741Z"
   },
   {
    "duration": 1540,
    "start_time": "2022-04-18T14:48:55.363Z"
   },
   {
    "duration": 208,
    "start_time": "2022-04-18T14:48:56.905Z"
   },
   {
    "duration": 33,
    "start_time": "2022-04-18T14:48:57.115Z"
   },
   {
    "duration": 7,
    "start_time": "2022-04-18T14:48:57.150Z"
   },
   {
    "duration": 14,
    "start_time": "2022-04-18T14:48:57.159Z"
   },
   {
    "duration": 5,
    "start_time": "2022-04-18T14:48:57.174Z"
   },
   {
    "duration": 25,
    "start_time": "2022-04-18T14:48:57.181Z"
   },
   {
    "duration": 11,
    "start_time": "2022-04-18T14:48:57.208Z"
   },
   {
    "duration": 7,
    "start_time": "2022-04-18T14:48:57.221Z"
   },
   {
    "duration": 12,
    "start_time": "2022-04-18T14:48:57.231Z"
   },
   {
    "duration": 9,
    "start_time": "2022-04-18T14:48:57.245Z"
   },
   {
    "duration": 47,
    "start_time": "2022-04-18T14:48:57.256Z"
   },
   {
    "duration": 15,
    "start_time": "2022-04-18T14:48:57.305Z"
   },
   {
    "duration": 5,
    "start_time": "2022-04-18T14:48:57.322Z"
   },
   {
    "duration": 14,
    "start_time": "2022-04-18T14:48:57.329Z"
   },
   {
    "duration": 17,
    "start_time": "2022-04-18T14:48:57.345Z"
   },
   {
    "duration": 36,
    "start_time": "2022-04-18T14:48:57.364Z"
   },
   {
    "duration": 21,
    "start_time": "2022-04-18T14:48:57.402Z"
   },
   {
    "duration": 6,
    "start_time": "2022-04-18T14:48:57.425Z"
   },
   {
    "duration": 1902,
    "start_time": "2022-04-18T14:48:57.433Z"
   },
   {
    "duration": 20,
    "start_time": "2022-04-18T14:48:59.337Z"
   },
   {
    "duration": 22,
    "start_time": "2022-04-18T14:48:59.359Z"
   },
   {
    "duration": 23,
    "start_time": "2022-04-18T14:48:59.382Z"
   },
   {
    "duration": 8,
    "start_time": "2022-04-18T14:48:59.407Z"
   },
   {
    "duration": 6,
    "start_time": "2022-04-18T14:48:59.417Z"
   },
   {
    "duration": 6,
    "start_time": "2022-04-18T14:48:59.425Z"
   },
   {
    "duration": 6,
    "start_time": "2022-04-18T14:48:59.432Z"
   },
   {
    "duration": 4,
    "start_time": "2022-04-18T14:48:59.443Z"
   },
   {
    "duration": 7,
    "start_time": "2022-04-18T14:48:59.449Z"
   },
   {
    "duration": 4,
    "start_time": "2022-04-18T14:48:59.457Z"
   },
   {
    "duration": 48,
    "start_time": "2022-04-18T14:48:59.463Z"
   },
   {
    "duration": 11,
    "start_time": "2022-04-18T14:48:59.513Z"
   },
   {
    "duration": 7,
    "start_time": "2022-04-18T14:48:59.525Z"
   },
   {
    "duration": 6,
    "start_time": "2022-04-18T14:48:59.534Z"
   },
   {
    "duration": 191,
    "start_time": "2022-04-18T14:48:59.542Z"
   },
   {
    "duration": 5,
    "start_time": "2022-04-18T14:48:59.735Z"
   },
   {
    "duration": 11,
    "start_time": "2022-04-18T14:48:59.742Z"
   },
   {
    "duration": 138,
    "start_time": "2022-04-18T14:48:59.754Z"
   },
   {
    "duration": 8,
    "start_time": "2022-04-18T14:48:59.900Z"
   },
   {
    "duration": 16,
    "start_time": "2022-04-18T14:48:59.909Z"
   },
   {
    "duration": 14,
    "start_time": "2022-04-18T14:48:59.926Z"
   },
   {
    "duration": 2,
    "start_time": "2022-04-18T14:48:59.942Z"
   },
   {
    "duration": 22,
    "start_time": "2022-04-18T14:48:59.945Z"
   },
   {
    "duration": 137,
    "start_time": "2022-04-18T14:48:59.968Z"
   },
   {
    "duration": 15,
    "start_time": "2022-04-18T14:49:00.106Z"
   },
   {
    "duration": 3,
    "start_time": "2022-04-18T14:49:00.122Z"
   },
   {
    "duration": 15,
    "start_time": "2022-04-18T14:49:00.127Z"
   },
   {
    "duration": 1414,
    "start_time": "2022-04-18T14:49:00.144Z"
   },
   {
    "duration": 2,
    "start_time": "2022-04-18T14:49:01.560Z"
   },
   {
    "duration": 11,
    "start_time": "2022-04-18T14:49:01.563Z"
   },
   {
    "duration": 10,
    "start_time": "2022-04-18T14:49:01.575Z"
   },
   {
    "duration": 34,
    "start_time": "2022-04-18T14:49:01.586Z"
   },
   {
    "duration": 11,
    "start_time": "2022-04-18T14:49:01.622Z"
   },
   {
    "duration": 6,
    "start_time": "2022-04-18T14:49:01.634Z"
   },
   {
    "duration": 522,
    "start_time": "2022-04-18T14:49:01.642Z"
   },
   {
    "duration": 17,
    "start_time": "2022-04-18T14:49:02.165Z"
   },
   {
    "duration": 18,
    "start_time": "2022-04-18T14:49:02.199Z"
   },
   {
    "duration": 159,
    "start_time": "2022-04-18T14:49:02.218Z"
   },
   {
    "duration": 156,
    "start_time": "2022-04-18T14:49:02.379Z"
   },
   {
    "duration": 820,
    "start_time": "2022-04-18T14:49:02.536Z"
   },
   {
    "duration": 12,
    "start_time": "2022-04-18T14:49:03.358Z"
   },
   {
    "duration": 360,
    "start_time": "2022-04-18T14:49:03.371Z"
   },
   {
    "duration": 7,
    "start_time": "2022-04-18T14:49:03.733Z"
   },
   {
    "duration": 268,
    "start_time": "2022-04-18T14:49:03.741Z"
   },
   {
    "duration": 7,
    "start_time": "2022-04-18T14:49:04.010Z"
   },
   {
    "duration": 169,
    "start_time": "2022-04-18T14:49:04.019Z"
   },
   {
    "duration": 11,
    "start_time": "2022-04-18T14:49:04.189Z"
   },
   {
    "duration": 851,
    "start_time": "2022-04-18T14:49:04.202Z"
   },
   {
    "duration": 11,
    "start_time": "2022-04-18T14:49:05.055Z"
   },
   {
    "duration": 354,
    "start_time": "2022-04-18T14:49:05.068Z"
   },
   {
    "duration": 233,
    "start_time": "2022-04-18T14:49:05.424Z"
   },
   {
    "duration": 14,
    "start_time": "2022-04-18T14:49:05.659Z"
   },
   {
    "duration": 32,
    "start_time": "2022-04-18T14:49:05.674Z"
   },
   {
    "duration": 9,
    "start_time": "2022-04-18T14:49:05.707Z"
   },
   {
    "duration": 19,
    "start_time": "2022-04-18T14:49:05.717Z"
   },
   {
    "duration": 7,
    "start_time": "2022-04-18T14:49:05.738Z"
   },
   {
    "duration": 17,
    "start_time": "2022-04-18T14:49:05.747Z"
   },
   {
    "duration": 8,
    "start_time": "2022-04-18T14:49:05.765Z"
   },
   {
    "duration": 40,
    "start_time": "2022-04-18T14:49:05.775Z"
   },
   {
    "duration": 178,
    "start_time": "2022-04-18T14:49:05.817Z"
   },
   {
    "duration": 16,
    "start_time": "2022-04-18T14:49:06.000Z"
   },
   {
    "duration": 159,
    "start_time": "2022-04-18T14:49:06.022Z"
   },
   {
    "duration": 23,
    "start_time": "2022-04-18T14:49:06.183Z"
   },
   {
    "duration": 18,
    "start_time": "2022-04-18T14:49:06.208Z"
   },
   {
    "duration": 14,
    "start_time": "2022-04-18T14:49:06.228Z"
   },
   {
    "duration": 109,
    "start_time": "2022-04-18T14:49:06.244Z"
   },
   {
    "duration": 2,
    "start_time": "2022-04-18T14:49:06.355Z"
   },
   {
    "duration": 17,
    "start_time": "2022-04-18T14:49:06.359Z"
   },
   {
    "duration": 30,
    "start_time": "2022-04-18T14:49:06.378Z"
   },
   {
    "duration": 14,
    "start_time": "2022-04-18T14:49:06.410Z"
   },
   {
    "duration": 6,
    "start_time": "2022-04-18T14:49:06.426Z"
   },
   {
    "duration": 8,
    "start_time": "2022-04-18T14:49:06.433Z"
   },
   {
    "duration": 197,
    "start_time": "2022-04-18T14:49:06.442Z"
   },
   {
    "duration": 4,
    "start_time": "2022-04-18T14:49:06.641Z"
   },
   {
    "duration": 10,
    "start_time": "2022-04-18T14:49:06.647Z"
   },
   {
    "duration": 211,
    "start_time": "2022-04-18T14:49:06.658Z"
   },
   {
    "duration": 4,
    "start_time": "2022-04-18T14:49:06.871Z"
   },
   {
    "duration": 4,
    "start_time": "2022-04-18T14:52:24.562Z"
   },
   {
    "duration": 1145,
    "start_time": "2022-04-18T14:52:49.864Z"
   },
   {
    "duration": 208,
    "start_time": "2022-04-18T14:52:51.010Z"
   },
   {
    "duration": 24,
    "start_time": "2022-04-18T14:52:51.219Z"
   },
   {
    "duration": 5,
    "start_time": "2022-04-18T14:52:51.245Z"
   },
   {
    "duration": 6,
    "start_time": "2022-04-18T14:52:51.251Z"
   },
   {
    "duration": 6,
    "start_time": "2022-04-18T14:52:51.258Z"
   },
   {
    "duration": 11,
    "start_time": "2022-04-18T14:52:51.265Z"
   },
   {
    "duration": 31,
    "start_time": "2022-04-18T14:52:51.278Z"
   },
   {
    "duration": 6,
    "start_time": "2022-04-18T14:52:51.310Z"
   },
   {
    "duration": 12,
    "start_time": "2022-04-18T14:52:51.318Z"
   },
   {
    "duration": 9,
    "start_time": "2022-04-18T14:52:51.331Z"
   },
   {
    "duration": 5,
    "start_time": "2022-04-18T14:52:51.342Z"
   },
   {
    "duration": 10,
    "start_time": "2022-04-18T14:52:51.348Z"
   },
   {
    "duration": 41,
    "start_time": "2022-04-18T14:52:51.359Z"
   },
   {
    "duration": 9,
    "start_time": "2022-04-18T14:52:51.401Z"
   },
   {
    "duration": 15,
    "start_time": "2022-04-18T14:52:51.411Z"
   },
   {
    "duration": 7,
    "start_time": "2022-04-18T14:52:51.428Z"
   },
   {
    "duration": 14,
    "start_time": "2022-04-18T14:52:51.436Z"
   },
   {
    "duration": 5,
    "start_time": "2022-04-18T14:52:51.452Z"
   },
   {
    "duration": 1814,
    "start_time": "2022-04-18T14:52:51.459Z"
   },
   {
    "duration": 33,
    "start_time": "2022-04-18T14:52:53.276Z"
   },
   {
    "duration": 16,
    "start_time": "2022-04-18T14:52:53.310Z"
   },
   {
    "duration": 7,
    "start_time": "2022-04-18T14:52:53.327Z"
   },
   {
    "duration": 6,
    "start_time": "2022-04-18T14:52:53.336Z"
   },
   {
    "duration": 4,
    "start_time": "2022-04-18T14:52:53.344Z"
   },
   {
    "duration": 5,
    "start_time": "2022-04-18T14:52:53.349Z"
   },
   {
    "duration": 5,
    "start_time": "2022-04-18T14:52:53.356Z"
   },
   {
    "duration": 5,
    "start_time": "2022-04-18T14:52:53.365Z"
   },
   {
    "duration": 7,
    "start_time": "2022-04-18T14:52:53.401Z"
   },
   {
    "duration": 6,
    "start_time": "2022-04-18T14:52:53.410Z"
   },
   {
    "duration": 12,
    "start_time": "2022-04-18T14:52:53.418Z"
   },
   {
    "duration": 9,
    "start_time": "2022-04-18T14:52:53.431Z"
   },
   {
    "duration": 5,
    "start_time": "2022-04-18T14:52:53.442Z"
   },
   {
    "duration": 6,
    "start_time": "2022-04-18T14:52:53.449Z"
   },
   {
    "duration": 189,
    "start_time": "2022-04-18T14:52:53.457Z"
   },
   {
    "duration": 4,
    "start_time": "2022-04-18T14:52:53.648Z"
   },
   {
    "duration": 11,
    "start_time": "2022-04-18T14:52:53.654Z"
   },
   {
    "duration": 2822,
    "start_time": "2022-04-18T14:52:53.666Z"
   },
   {
    "duration": 0,
    "start_time": "2022-04-18T14:52:56.490Z"
   },
   {
    "duration": 0,
    "start_time": "2022-04-18T14:52:56.492Z"
   },
   {
    "duration": 0,
    "start_time": "2022-04-18T14:52:56.493Z"
   },
   {
    "duration": 0,
    "start_time": "2022-04-18T14:52:56.494Z"
   },
   {
    "duration": 0,
    "start_time": "2022-04-18T14:52:56.495Z"
   },
   {
    "duration": 0,
    "start_time": "2022-04-18T14:52:56.500Z"
   },
   {
    "duration": 0,
    "start_time": "2022-04-18T14:52:56.502Z"
   },
   {
    "duration": 0,
    "start_time": "2022-04-18T14:52:56.503Z"
   },
   {
    "duration": 0,
    "start_time": "2022-04-18T14:52:56.504Z"
   },
   {
    "duration": 0,
    "start_time": "2022-04-18T14:52:56.506Z"
   },
   {
    "duration": 0,
    "start_time": "2022-04-18T14:52:56.507Z"
   },
   {
    "duration": 0,
    "start_time": "2022-04-18T14:52:56.508Z"
   },
   {
    "duration": 0,
    "start_time": "2022-04-18T14:52:56.509Z"
   },
   {
    "duration": 0,
    "start_time": "2022-04-18T14:52:56.510Z"
   },
   {
    "duration": 0,
    "start_time": "2022-04-18T14:52:56.511Z"
   },
   {
    "duration": 0,
    "start_time": "2022-04-18T14:52:56.512Z"
   },
   {
    "duration": 0,
    "start_time": "2022-04-18T14:52:56.513Z"
   },
   {
    "duration": 0,
    "start_time": "2022-04-18T14:52:56.514Z"
   },
   {
    "duration": 0,
    "start_time": "2022-04-18T14:52:56.515Z"
   },
   {
    "duration": 0,
    "start_time": "2022-04-18T14:52:56.516Z"
   },
   {
    "duration": 0,
    "start_time": "2022-04-18T14:52:56.517Z"
   },
   {
    "duration": 0,
    "start_time": "2022-04-18T14:52:56.519Z"
   },
   {
    "duration": 0,
    "start_time": "2022-04-18T14:52:56.520Z"
   },
   {
    "duration": 0,
    "start_time": "2022-04-18T14:52:56.521Z"
   },
   {
    "duration": 0,
    "start_time": "2022-04-18T14:52:56.522Z"
   },
   {
    "duration": 0,
    "start_time": "2022-04-18T14:52:56.523Z"
   },
   {
    "duration": 0,
    "start_time": "2022-04-18T14:52:56.524Z"
   },
   {
    "duration": 0,
    "start_time": "2022-04-18T14:52:56.525Z"
   },
   {
    "duration": 0,
    "start_time": "2022-04-18T14:52:56.526Z"
   },
   {
    "duration": 0,
    "start_time": "2022-04-18T14:52:56.528Z"
   },
   {
    "duration": 0,
    "start_time": "2022-04-18T14:52:56.529Z"
   },
   {
    "duration": 0,
    "start_time": "2022-04-18T14:52:56.530Z"
   },
   {
    "duration": 0,
    "start_time": "2022-04-18T14:52:56.531Z"
   },
   {
    "duration": 0,
    "start_time": "2022-04-18T14:52:56.532Z"
   },
   {
    "duration": 0,
    "start_time": "2022-04-18T14:52:56.533Z"
   },
   {
    "duration": 0,
    "start_time": "2022-04-18T14:52:56.535Z"
   },
   {
    "duration": 0,
    "start_time": "2022-04-18T14:52:56.536Z"
   },
   {
    "duration": 0,
    "start_time": "2022-04-18T14:52:56.537Z"
   },
   {
    "duration": 0,
    "start_time": "2022-04-18T14:52:56.538Z"
   },
   {
    "duration": 0,
    "start_time": "2022-04-18T14:52:56.600Z"
   },
   {
    "duration": 0,
    "start_time": "2022-04-18T14:52:56.601Z"
   },
   {
    "duration": 0,
    "start_time": "2022-04-18T14:52:56.603Z"
   },
   {
    "duration": 0,
    "start_time": "2022-04-18T14:52:56.604Z"
   },
   {
    "duration": 0,
    "start_time": "2022-04-18T14:52:56.605Z"
   },
   {
    "duration": 0,
    "start_time": "2022-04-18T14:52:56.606Z"
   },
   {
    "duration": 0,
    "start_time": "2022-04-18T14:52:56.608Z"
   },
   {
    "duration": 0,
    "start_time": "2022-04-18T14:52:56.609Z"
   },
   {
    "duration": 0,
    "start_time": "2022-04-18T14:52:56.610Z"
   },
   {
    "duration": 0,
    "start_time": "2022-04-18T14:52:56.611Z"
   },
   {
    "duration": 0,
    "start_time": "2022-04-18T14:52:56.612Z"
   },
   {
    "duration": 1,
    "start_time": "2022-04-18T14:52:56.613Z"
   },
   {
    "duration": 0,
    "start_time": "2022-04-18T14:52:56.614Z"
   },
   {
    "duration": 0,
    "start_time": "2022-04-18T14:52:56.615Z"
   },
   {
    "duration": 0,
    "start_time": "2022-04-18T14:52:56.616Z"
   },
   {
    "duration": 0,
    "start_time": "2022-04-18T14:52:56.618Z"
   },
   {
    "duration": 0,
    "start_time": "2022-04-18T14:52:56.619Z"
   },
   {
    "duration": 0,
    "start_time": "2022-04-18T14:52:56.620Z"
   },
   {
    "duration": 0,
    "start_time": "2022-04-18T14:52:56.621Z"
   },
   {
    "duration": 0,
    "start_time": "2022-04-18T14:52:56.622Z"
   },
   {
    "duration": 1134,
    "start_time": "2022-04-18T14:55:34.151Z"
   },
   {
    "duration": 335,
    "start_time": "2022-04-18T14:55:35.287Z"
   },
   {
    "duration": 25,
    "start_time": "2022-04-18T14:55:35.624Z"
   },
   {
    "duration": 5,
    "start_time": "2022-04-18T14:55:35.651Z"
   },
   {
    "duration": 7,
    "start_time": "2022-04-18T14:55:35.658Z"
   },
   {
    "duration": 5,
    "start_time": "2022-04-18T14:55:35.666Z"
   },
   {
    "duration": 31,
    "start_time": "2022-04-18T14:55:35.673Z"
   },
   {
    "duration": 13,
    "start_time": "2022-04-18T14:55:35.706Z"
   },
   {
    "duration": 5,
    "start_time": "2022-04-18T14:55:35.721Z"
   },
   {
    "duration": 12,
    "start_time": "2022-04-18T14:55:35.728Z"
   },
   {
    "duration": 12,
    "start_time": "2022-04-18T14:55:35.741Z"
   },
   {
    "duration": 6,
    "start_time": "2022-04-18T14:55:35.754Z"
   },
   {
    "duration": 45,
    "start_time": "2022-04-18T14:55:35.762Z"
   },
   {
    "duration": 5,
    "start_time": "2022-04-18T14:55:35.809Z"
   },
   {
    "duration": 11,
    "start_time": "2022-04-18T14:55:35.816Z"
   },
   {
    "duration": 17,
    "start_time": "2022-04-18T14:55:35.828Z"
   },
   {
    "duration": 8,
    "start_time": "2022-04-18T14:55:35.847Z"
   },
   {
    "duration": 44,
    "start_time": "2022-04-18T14:55:35.857Z"
   },
   {
    "duration": 7,
    "start_time": "2022-04-18T14:55:35.903Z"
   },
   {
    "duration": 2148,
    "start_time": "2022-04-18T14:55:35.911Z"
   },
   {
    "duration": 16,
    "start_time": "2022-04-18T14:55:38.061Z"
   },
   {
    "duration": 35,
    "start_time": "2022-04-18T14:55:38.079Z"
   },
   {
    "duration": 7,
    "start_time": "2022-04-18T14:55:38.115Z"
   },
   {
    "duration": 6,
    "start_time": "2022-04-18T14:55:38.124Z"
   },
   {
    "duration": 5,
    "start_time": "2022-04-18T14:55:38.132Z"
   },
   {
    "duration": 7,
    "start_time": "2022-04-18T14:55:38.138Z"
   },
   {
    "duration": 7,
    "start_time": "2022-04-18T14:55:38.146Z"
   },
   {
    "duration": 5,
    "start_time": "2022-04-18T14:55:38.157Z"
   },
   {
    "duration": 40,
    "start_time": "2022-04-18T14:55:38.163Z"
   },
   {
    "duration": 11,
    "start_time": "2022-04-18T14:55:38.205Z"
   },
   {
    "duration": 10,
    "start_time": "2022-04-18T14:55:38.217Z"
   },
   {
    "duration": 6,
    "start_time": "2022-04-18T14:55:38.228Z"
   },
   {
    "duration": 9,
    "start_time": "2022-04-18T14:55:38.235Z"
   },
   {
    "duration": 176,
    "start_time": "2022-04-18T14:55:38.245Z"
   },
   {
    "duration": 5,
    "start_time": "2022-04-18T14:55:38.423Z"
   },
   {
    "duration": 12,
    "start_time": "2022-04-18T14:55:38.429Z"
   },
   {
    "duration": 135,
    "start_time": "2022-04-18T14:55:38.443Z"
   },
   {
    "duration": 9,
    "start_time": "2022-04-18T14:55:38.579Z"
   },
   {
    "duration": 14,
    "start_time": "2022-04-18T14:55:38.600Z"
   },
   {
    "duration": 14,
    "start_time": "2022-04-18T14:55:38.616Z"
   },
   {
    "duration": 3,
    "start_time": "2022-04-18T14:55:38.631Z"
   },
   {
    "duration": 21,
    "start_time": "2022-04-18T14:55:38.635Z"
   },
   {
    "duration": 137,
    "start_time": "2022-04-18T14:55:38.658Z"
   },
   {
    "duration": 15,
    "start_time": "2022-04-18T14:55:38.799Z"
   },
   {
    "duration": 3,
    "start_time": "2022-04-18T14:55:38.816Z"
   },
   {
    "duration": 16,
    "start_time": "2022-04-18T14:55:38.820Z"
   },
   {
    "duration": 1438,
    "start_time": "2022-04-18T14:55:38.838Z"
   },
   {
    "duration": 2,
    "start_time": "2022-04-18T14:55:40.278Z"
   },
   {
    "duration": 18,
    "start_time": "2022-04-18T14:55:40.282Z"
   },
   {
    "duration": 5,
    "start_time": "2022-04-18T14:55:40.302Z"
   },
   {
    "duration": 21,
    "start_time": "2022-04-18T14:55:40.309Z"
   },
   {
    "duration": 11,
    "start_time": "2022-04-18T14:55:40.332Z"
   },
   {
    "duration": 6,
    "start_time": "2022-04-18T14:55:40.344Z"
   },
   {
    "duration": 538,
    "start_time": "2022-04-18T14:55:40.351Z"
   },
   {
    "duration": 23,
    "start_time": "2022-04-18T14:55:40.890Z"
   },
   {
    "duration": 17,
    "start_time": "2022-04-18T14:55:40.914Z"
   },
   {
    "duration": 260,
    "start_time": "2022-04-18T14:55:40.933Z"
   },
   {
    "duration": 150,
    "start_time": "2022-04-18T14:55:41.195Z"
   },
   {
    "duration": 926,
    "start_time": "2022-04-18T14:55:41.347Z"
   },
   {
    "duration": 13,
    "start_time": "2022-04-18T14:55:42.275Z"
   },
   {
    "duration": 331,
    "start_time": "2022-04-18T14:55:42.301Z"
   },
   {
    "duration": 6,
    "start_time": "2022-04-18T14:55:42.634Z"
   },
   {
    "duration": 304,
    "start_time": "2022-04-18T14:55:42.642Z"
   },
   {
    "duration": 7,
    "start_time": "2022-04-18T14:55:42.948Z"
   },
   {
    "duration": 184,
    "start_time": "2022-04-18T14:55:42.957Z"
   },
   {
    "duration": 7,
    "start_time": "2022-04-18T14:55:43.143Z"
   },
   {
    "duration": 978,
    "start_time": "2022-04-18T14:55:43.152Z"
   },
   {
    "duration": 12,
    "start_time": "2022-04-18T14:55:44.131Z"
   },
   {
    "duration": 343,
    "start_time": "2022-04-18T14:55:44.145Z"
   },
   {
    "duration": 257,
    "start_time": "2022-04-18T14:55:44.490Z"
   },
   {
    "duration": 14,
    "start_time": "2022-04-18T14:55:44.748Z"
   },
   {
    "duration": 14,
    "start_time": "2022-04-18T14:55:44.764Z"
   },
   {
    "duration": 29,
    "start_time": "2022-04-18T14:55:44.779Z"
   },
   {
    "duration": 20,
    "start_time": "2022-04-18T14:55:44.811Z"
   },
   {
    "duration": 10,
    "start_time": "2022-04-18T14:55:44.833Z"
   },
   {
    "duration": 17,
    "start_time": "2022-04-18T14:55:44.845Z"
   },
   {
    "duration": 14,
    "start_time": "2022-04-18T14:55:44.863Z"
   },
   {
    "duration": 28,
    "start_time": "2022-04-18T14:55:44.879Z"
   },
   {
    "duration": 194,
    "start_time": "2022-04-18T14:55:44.908Z"
   },
   {
    "duration": 16,
    "start_time": "2022-04-18T14:55:45.104Z"
   },
   {
    "duration": 168,
    "start_time": "2022-04-18T14:55:45.122Z"
   },
   {
    "duration": 17,
    "start_time": "2022-04-18T14:55:45.300Z"
   },
   {
    "duration": 24,
    "start_time": "2022-04-18T14:55:45.318Z"
   },
   {
    "duration": 14,
    "start_time": "2022-04-18T14:55:45.343Z"
   },
   {
    "duration": 123,
    "start_time": "2022-04-18T14:55:45.359Z"
   },
   {
    "duration": 3,
    "start_time": "2022-04-18T14:55:45.483Z"
   },
   {
    "duration": 26,
    "start_time": "2022-04-18T14:55:45.487Z"
   },
   {
    "duration": 25,
    "start_time": "2022-04-18T14:55:45.514Z"
   },
   {
    "duration": 18,
    "start_time": "2022-04-18T14:55:45.541Z"
   },
   {
    "duration": 5,
    "start_time": "2022-04-18T14:55:45.561Z"
   },
   {
    "duration": 8,
    "start_time": "2022-04-18T14:55:45.568Z"
   },
   {
    "duration": 222,
    "start_time": "2022-04-18T14:55:45.601Z"
   },
   {
    "duration": 5,
    "start_time": "2022-04-18T14:55:45.825Z"
   },
   {
    "duration": 7,
    "start_time": "2022-04-18T14:55:45.832Z"
   },
   {
    "duration": 237,
    "start_time": "2022-04-18T14:55:45.841Z"
   },
   {
    "duration": 5,
    "start_time": "2022-04-18T14:55:46.080Z"
   },
   {
    "duration": 7,
    "start_time": "2022-04-18T14:57:20.023Z"
   },
   {
    "duration": 18,
    "start_time": "2022-04-18T15:02:30.650Z"
   },
   {
    "duration": 16,
    "start_time": "2022-04-18T15:03:29.853Z"
   },
   {
    "duration": 9,
    "start_time": "2022-04-18T15:05:12.714Z"
   },
   {
    "duration": 207,
    "start_time": "2022-04-18T15:09:55.738Z"
   },
   {
    "duration": 1428,
    "start_time": "2022-04-18T17:42:49.630Z"
   },
   {
    "duration": 157,
    "start_time": "2022-04-18T17:42:51.060Z"
   },
   {
    "duration": 28,
    "start_time": "2022-04-18T17:42:51.219Z"
   },
   {
    "duration": 6,
    "start_time": "2022-04-18T17:42:51.250Z"
   },
   {
    "duration": 7,
    "start_time": "2022-04-18T17:42:51.280Z"
   },
   {
    "duration": 12,
    "start_time": "2022-04-18T17:42:51.289Z"
   },
   {
    "duration": 14,
    "start_time": "2022-04-18T17:42:51.302Z"
   },
   {
    "duration": 19,
    "start_time": "2022-04-18T17:42:51.318Z"
   },
   {
    "duration": 7,
    "start_time": "2022-04-18T17:42:51.339Z"
   },
   {
    "duration": 47,
    "start_time": "2022-04-18T17:42:51.349Z"
   },
   {
    "duration": 14,
    "start_time": "2022-04-18T17:42:51.398Z"
   },
   {
    "duration": 8,
    "start_time": "2022-04-18T17:42:51.414Z"
   },
   {
    "duration": 14,
    "start_time": "2022-04-18T17:42:51.424Z"
   },
   {
    "duration": 42,
    "start_time": "2022-04-18T17:42:51.440Z"
   },
   {
    "duration": 28,
    "start_time": "2022-04-18T17:42:51.484Z"
   },
   {
    "duration": 19,
    "start_time": "2022-04-18T17:42:51.515Z"
   },
   {
    "duration": 9,
    "start_time": "2022-04-18T17:42:51.537Z"
   },
   {
    "duration": 41,
    "start_time": "2022-04-18T17:42:51.547Z"
   },
   {
    "duration": 8,
    "start_time": "2022-04-18T17:42:51.590Z"
   },
   {
    "duration": 2078,
    "start_time": "2022-04-18T17:42:51.599Z"
   },
   {
    "duration": 21,
    "start_time": "2022-04-18T17:42:53.680Z"
   },
   {
    "duration": 18,
    "start_time": "2022-04-18T17:42:53.702Z"
   },
   {
    "duration": 11,
    "start_time": "2022-04-18T17:42:53.722Z"
   },
   {
    "duration": 9,
    "start_time": "2022-04-18T17:42:53.735Z"
   },
   {
    "duration": 43,
    "start_time": "2022-04-18T17:42:53.746Z"
   },
   {
    "duration": 13,
    "start_time": "2022-04-18T17:42:53.791Z"
   },
   {
    "duration": 8,
    "start_time": "2022-04-18T17:42:53.806Z"
   },
   {
    "duration": 6,
    "start_time": "2022-04-18T17:42:53.819Z"
   },
   {
    "duration": 13,
    "start_time": "2022-04-18T17:42:53.826Z"
   },
   {
    "duration": 13,
    "start_time": "2022-04-18T17:42:53.840Z"
   },
   {
    "duration": 31,
    "start_time": "2022-04-18T17:42:53.855Z"
   },
   {
    "duration": 18,
    "start_time": "2022-04-18T17:42:53.888Z"
   },
   {
    "duration": 9,
    "start_time": "2022-04-18T17:42:53.907Z"
   },
   {
    "duration": 209,
    "start_time": "2022-04-18T17:42:53.918Z"
   },
   {
    "duration": 6,
    "start_time": "2022-04-18T17:42:54.129Z"
   },
   {
    "duration": 14,
    "start_time": "2022-04-18T17:42:54.136Z"
   },
   {
    "duration": 173,
    "start_time": "2022-04-18T17:42:54.152Z"
   },
   {
    "duration": 10,
    "start_time": "2022-04-18T17:42:54.326Z"
   },
   {
    "duration": 17,
    "start_time": "2022-04-18T17:42:54.337Z"
   },
   {
    "duration": 24,
    "start_time": "2022-04-18T17:42:54.372Z"
   },
   {
    "duration": 3,
    "start_time": "2022-04-18T17:42:54.398Z"
   },
   {
    "duration": 30,
    "start_time": "2022-04-18T17:42:54.403Z"
   },
   {
    "duration": 183,
    "start_time": "2022-04-18T17:42:54.435Z"
   },
   {
    "duration": 18,
    "start_time": "2022-04-18T17:42:54.620Z"
   },
   {
    "duration": 3,
    "start_time": "2022-04-18T17:42:54.640Z"
   },
   {
    "duration": 33,
    "start_time": "2022-04-18T17:42:54.645Z"
   },
   {
    "duration": 1659,
    "start_time": "2022-04-18T17:42:54.684Z"
   },
   {
    "duration": 3,
    "start_time": "2022-04-18T17:42:56.346Z"
   },
   {
    "duration": 19,
    "start_time": "2022-04-18T17:42:56.350Z"
   },
   {
    "duration": 26,
    "start_time": "2022-04-18T17:42:56.371Z"
   },
   {
    "duration": 25,
    "start_time": "2022-04-18T17:42:56.399Z"
   },
   {
    "duration": 12,
    "start_time": "2022-04-18T17:42:56.426Z"
   },
   {
    "duration": 6,
    "start_time": "2022-04-18T17:42:56.440Z"
   },
   {
    "duration": 611,
    "start_time": "2022-04-18T17:42:56.448Z"
   },
   {
    "duration": 34,
    "start_time": "2022-04-18T17:42:57.061Z"
   },
   {
    "duration": 23,
    "start_time": "2022-04-18T17:42:57.097Z"
   },
   {
    "duration": 222,
    "start_time": "2022-04-18T17:42:57.123Z"
   },
   {
    "duration": 198,
    "start_time": "2022-04-18T17:42:57.347Z"
   },
   {
    "duration": 977,
    "start_time": "2022-04-18T17:42:57.548Z"
   },
   {
    "duration": 15,
    "start_time": "2022-04-18T17:42:58.527Z"
   },
   {
    "duration": 506,
    "start_time": "2022-04-18T17:42:58.544Z"
   },
   {
    "duration": 24,
    "start_time": "2022-04-18T17:42:59.053Z"
   },
   {
    "duration": 203,
    "start_time": "2022-04-18T17:42:59.079Z"
   },
   {
    "duration": 7,
    "start_time": "2022-04-18T17:42:59.284Z"
   },
   {
    "duration": 204,
    "start_time": "2022-04-18T17:42:59.293Z"
   },
   {
    "duration": 6,
    "start_time": "2022-04-18T17:42:59.499Z"
   },
   {
    "duration": 1046,
    "start_time": "2022-04-18T17:42:59.507Z"
   },
   {
    "duration": 25,
    "start_time": "2022-04-18T17:43:00.555Z"
   },
   {
    "duration": 390,
    "start_time": "2022-04-18T17:43:00.585Z"
   },
   {
    "duration": 301,
    "start_time": "2022-04-18T17:43:00.980Z"
   },
   {
    "duration": 25,
    "start_time": "2022-04-18T17:43:01.283Z"
   },
   {
    "duration": 30,
    "start_time": "2022-04-18T17:43:01.309Z"
   },
   {
    "duration": 49,
    "start_time": "2022-04-18T17:43:01.341Z"
   },
   {
    "duration": 27,
    "start_time": "2022-04-18T17:43:01.393Z"
   },
   {
    "duration": 19,
    "start_time": "2022-04-18T17:43:01.422Z"
   },
   {
    "duration": 42,
    "start_time": "2022-04-18T17:43:01.443Z"
   },
   {
    "duration": 14,
    "start_time": "2022-04-18T17:43:01.487Z"
   },
   {
    "duration": 38,
    "start_time": "2022-04-18T17:43:01.503Z"
   },
   {
    "duration": 230,
    "start_time": "2022-04-18T17:43:01.544Z"
   },
   {
    "duration": 24,
    "start_time": "2022-04-18T17:43:01.777Z"
   },
   {
    "duration": 330,
    "start_time": "2022-04-18T17:43:01.803Z"
   },
   {
    "duration": 20,
    "start_time": "2022-04-18T17:43:02.140Z"
   },
   {
    "duration": 25,
    "start_time": "2022-04-18T17:43:02.176Z"
   },
   {
    "duration": 18,
    "start_time": "2022-04-18T17:43:02.204Z"
   },
   {
    "duration": 58,
    "start_time": "2022-04-18T17:43:02.224Z"
   },
   {
    "duration": 3,
    "start_time": "2022-04-18T17:43:02.287Z"
   },
   {
    "duration": 23,
    "start_time": "2022-04-18T17:43:02.292Z"
   },
   {
    "duration": 21,
    "start_time": "2022-04-18T17:43:02.317Z"
   },
   {
    "duration": 48,
    "start_time": "2022-04-18T17:43:02.340Z"
   },
   {
    "duration": 31,
    "start_time": "2022-04-18T17:43:02.390Z"
   },
   {
    "duration": 22,
    "start_time": "2022-04-18T17:43:02.423Z"
   },
   {
    "duration": 10,
    "start_time": "2022-04-18T17:43:02.447Z"
   },
   {
    "duration": 246,
    "start_time": "2022-04-18T17:43:02.459Z"
   },
   {
    "duration": 5,
    "start_time": "2022-04-18T17:43:02.707Z"
   },
   {
    "duration": 11,
    "start_time": "2022-04-18T17:43:02.714Z"
   },
   {
    "duration": 279,
    "start_time": "2022-04-18T17:43:02.728Z"
   },
   {
    "duration": 6,
    "start_time": "2022-04-18T17:43:03.009Z"
   },
   {
    "duration": 533,
    "start_time": "2022-04-18T17:44:46.649Z"
   },
   {
    "duration": 214,
    "start_time": "2022-04-18T17:46:12.387Z"
   },
   {
    "duration": 563,
    "start_time": "2022-04-18T17:46:14.741Z"
   },
   {
    "duration": 528,
    "start_time": "2022-04-18T17:49:20.496Z"
   },
   {
    "duration": 1915,
    "start_time": "2022-04-22T07:29:05.577Z"
   },
   {
    "duration": 192,
    "start_time": "2022-04-22T07:29:07.495Z"
   },
   {
    "duration": 44,
    "start_time": "2022-04-22T07:29:07.690Z"
   },
   {
    "duration": 8,
    "start_time": "2022-04-22T07:29:07.737Z"
   },
   {
    "duration": 16,
    "start_time": "2022-04-22T07:29:07.747Z"
   },
   {
    "duration": 20,
    "start_time": "2022-04-22T07:29:07.765Z"
   },
   {
    "duration": 20,
    "start_time": "2022-04-22T07:29:07.788Z"
   },
   {
    "duration": 28,
    "start_time": "2022-04-22T07:29:07.810Z"
   },
   {
    "duration": 79,
    "start_time": "2022-04-22T07:29:07.840Z"
   },
   {
    "duration": 35,
    "start_time": "2022-04-22T07:29:07.925Z"
   },
   {
    "duration": 20,
    "start_time": "2022-04-22T07:29:07.962Z"
   },
   {
    "duration": 8,
    "start_time": "2022-04-22T07:29:07.985Z"
   },
   {
    "duration": 15,
    "start_time": "2022-04-22T07:29:07.995Z"
   },
   {
    "duration": 17,
    "start_time": "2022-04-22T07:29:08.012Z"
   },
   {
    "duration": 25,
    "start_time": "2022-04-22T07:29:08.031Z"
   },
   {
    "duration": 41,
    "start_time": "2022-04-22T07:29:08.058Z"
   },
   {
    "duration": 9,
    "start_time": "2022-04-22T07:29:08.101Z"
   },
   {
    "duration": 47,
    "start_time": "2022-04-22T07:29:08.113Z"
   },
   {
    "duration": 8,
    "start_time": "2022-04-22T07:29:08.162Z"
   },
   {
    "duration": 2499,
    "start_time": "2022-04-22T07:29:08.172Z"
   },
   {
    "duration": 24,
    "start_time": "2022-04-22T07:29:10.674Z"
   },
   {
    "duration": 47,
    "start_time": "2022-04-22T07:29:10.700Z"
   },
   {
    "duration": 14,
    "start_time": "2022-04-22T07:29:10.749Z"
   },
   {
    "duration": 12,
    "start_time": "2022-04-22T07:29:10.765Z"
   },
   {
    "duration": 8,
    "start_time": "2022-04-22T07:29:10.779Z"
   },
   {
    "duration": 37,
    "start_time": "2022-04-22T07:29:10.789Z"
   },
   {
    "duration": 7,
    "start_time": "2022-04-22T07:29:10.828Z"
   },
   {
    "duration": 7,
    "start_time": "2022-04-22T07:29:10.842Z"
   },
   {
    "duration": 14,
    "start_time": "2022-04-22T07:29:10.851Z"
   },
   {
    "duration": 20,
    "start_time": "2022-04-22T07:29:10.867Z"
   },
   {
    "duration": 46,
    "start_time": "2022-04-22T07:29:10.889Z"
   },
   {
    "duration": 8,
    "start_time": "2022-04-22T07:29:10.937Z"
   },
   {
    "duration": 14,
    "start_time": "2022-04-22T07:29:10.947Z"
   },
   {
    "duration": 317,
    "start_time": "2022-04-22T07:29:10.964Z"
   },
   {
    "duration": 7,
    "start_time": "2022-04-22T07:29:11.283Z"
   },
   {
    "duration": 33,
    "start_time": "2022-04-22T07:29:11.292Z"
   },
   {
    "duration": 243,
    "start_time": "2022-04-22T07:29:11.327Z"
   },
   {
    "duration": 12,
    "start_time": "2022-04-22T07:29:11.572Z"
   },
   {
    "duration": 44,
    "start_time": "2022-04-22T07:29:11.586Z"
   },
   {
    "duration": 25,
    "start_time": "2022-04-22T07:29:11.632Z"
   },
   {
    "duration": 3,
    "start_time": "2022-04-22T07:29:11.659Z"
   },
   {
    "duration": 30,
    "start_time": "2022-04-22T07:29:11.664Z"
   },
   {
    "duration": 244,
    "start_time": "2022-04-22T07:29:11.697Z"
   },
   {
    "duration": 23,
    "start_time": "2022-04-22T07:29:11.943Z"
   },
   {
    "duration": 3,
    "start_time": "2022-04-22T07:29:11.969Z"
   },
   {
    "duration": 50,
    "start_time": "2022-04-22T07:29:11.974Z"
   },
   {
    "duration": 2390,
    "start_time": "2022-04-22T07:29:12.027Z"
   },
   {
    "duration": 6,
    "start_time": "2022-04-22T07:29:14.419Z"
   },
   {
    "duration": 13,
    "start_time": "2022-04-22T07:29:14.428Z"
   },
   {
    "duration": 13,
    "start_time": "2022-04-22T07:29:14.443Z"
   },
   {
    "duration": 37,
    "start_time": "2022-04-22T07:29:14.458Z"
   },
   {
    "duration": 42,
    "start_time": "2022-04-22T07:29:14.498Z"
   },
   {
    "duration": 12,
    "start_time": "2022-04-22T07:29:14.543Z"
   },
   {
    "duration": 785,
    "start_time": "2022-04-22T07:29:14.558Z"
   },
   {
    "duration": 25,
    "start_time": "2022-04-22T07:29:15.345Z"
   },
   {
    "duration": 27,
    "start_time": "2022-04-22T07:29:15.372Z"
   },
   {
    "duration": 290,
    "start_time": "2022-04-22T07:29:15.425Z"
   },
   {
    "duration": 299,
    "start_time": "2022-04-22T07:29:15.718Z"
   },
   {
    "duration": 1516,
    "start_time": "2022-04-22T07:29:16.019Z"
   },
   {
    "duration": 19,
    "start_time": "2022-04-22T07:29:17.537Z"
   },
   {
    "duration": 887,
    "start_time": "2022-04-22T07:29:17.559Z"
   },
   {
    "duration": 9,
    "start_time": "2022-04-22T07:29:18.448Z"
   },
   {
    "duration": 304,
    "start_time": "2022-04-22T07:29:18.459Z"
   },
   {
    "duration": 9,
    "start_time": "2022-04-22T07:29:18.765Z"
   },
   {
    "duration": 305,
    "start_time": "2022-04-22T07:29:18.776Z"
   },
   {
    "duration": 6,
    "start_time": "2022-04-22T07:29:19.084Z"
   },
   {
    "duration": 1512,
    "start_time": "2022-04-22T07:29:19.093Z"
   },
   {
    "duration": 28,
    "start_time": "2022-04-22T07:29:20.607Z"
   },
   {
    "duration": 725,
    "start_time": "2022-04-22T07:29:20.637Z"
   },
   {
    "duration": 454,
    "start_time": "2022-04-22T07:29:21.364Z"
   },
   {
    "duration": 22,
    "start_time": "2022-04-22T07:29:21.820Z"
   },
   {
    "duration": 26,
    "start_time": "2022-04-22T07:29:21.845Z"
   },
   {
    "duration": 13,
    "start_time": "2022-04-22T07:29:21.873Z"
   },
   {
    "duration": 25,
    "start_time": "2022-04-22T07:29:21.924Z"
   },
   {
    "duration": 13,
    "start_time": "2022-04-22T07:29:21.951Z"
   },
   {
    "duration": 170,
    "start_time": "2022-04-22T07:29:21.966Z"
   },
   {
    "duration": 14,
    "start_time": "2022-04-22T07:29:22.138Z"
   },
   {
    "duration": 30,
    "start_time": "2022-04-22T07:29:22.154Z"
   },
   {
    "duration": 351,
    "start_time": "2022-04-22T07:29:22.187Z"
   },
   {
    "duration": 27,
    "start_time": "2022-04-22T07:29:22.540Z"
   },
   {
    "duration": 320,
    "start_time": "2022-04-22T07:29:22.569Z"
   },
   {
    "duration": 39,
    "start_time": "2022-04-22T07:29:22.897Z"
   },
   {
    "duration": 26,
    "start_time": "2022-04-22T07:29:22.938Z"
   },
   {
    "duration": 58,
    "start_time": "2022-04-22T07:29:22.966Z"
   },
   {
    "duration": 31,
    "start_time": "2022-04-22T07:29:23.026Z"
   },
   {
    "duration": 555,
    "start_time": "2022-04-22T07:29:23.059Z"
   },
   {
    "duration": 0,
    "start_time": "2022-04-22T07:29:23.617Z"
   },
   {
    "duration": 0,
    "start_time": "2022-04-22T07:29:23.618Z"
   },
   {
    "duration": 0,
    "start_time": "2022-04-22T07:29:23.624Z"
   },
   {
    "duration": 0,
    "start_time": "2022-04-22T07:29:23.626Z"
   },
   {
    "duration": 0,
    "start_time": "2022-04-22T07:29:23.628Z"
   },
   {
    "duration": 0,
    "start_time": "2022-04-22T07:29:23.630Z"
   },
   {
    "duration": 0,
    "start_time": "2022-04-22T07:29:23.632Z"
   },
   {
    "duration": 0,
    "start_time": "2022-04-22T07:29:23.635Z"
   },
   {
    "duration": 0,
    "start_time": "2022-04-22T07:29:23.638Z"
   },
   {
    "duration": 0,
    "start_time": "2022-04-22T07:29:23.640Z"
   },
   {
    "duration": 0,
    "start_time": "2022-04-22T07:29:23.643Z"
   },
   {
    "duration": 4,
    "start_time": "2022-04-22T07:30:07.348Z"
   },
   {
    "duration": 142,
    "start_time": "2022-04-22T07:40:19.431Z"
   },
   {
    "duration": 1582,
    "start_time": "2022-04-22T14:01:46.194Z"
   },
   {
    "duration": 202,
    "start_time": "2022-04-22T14:01:47.778Z"
   },
   {
    "duration": 29,
    "start_time": "2022-04-22T14:01:47.982Z"
   },
   {
    "duration": 6,
    "start_time": "2022-04-22T14:01:48.014Z"
   },
   {
    "duration": 7,
    "start_time": "2022-04-22T14:01:48.022Z"
   },
   {
    "duration": 9,
    "start_time": "2022-04-22T14:01:48.031Z"
   },
   {
    "duration": 18,
    "start_time": "2022-04-22T14:01:48.042Z"
   },
   {
    "duration": 21,
    "start_time": "2022-04-22T14:01:48.062Z"
   },
   {
    "duration": 9,
    "start_time": "2022-04-22T14:01:48.086Z"
   },
   {
    "duration": 21,
    "start_time": "2022-04-22T14:01:48.099Z"
   },
   {
    "duration": 13,
    "start_time": "2022-04-22T14:01:48.122Z"
   },
   {
    "duration": 8,
    "start_time": "2022-04-22T14:01:48.137Z"
   },
   {
    "duration": 14,
    "start_time": "2022-04-22T14:01:48.146Z"
   },
   {
    "duration": 6,
    "start_time": "2022-04-22T14:01:48.163Z"
   },
   {
    "duration": 27,
    "start_time": "2022-04-22T14:01:48.171Z"
   },
   {
    "duration": 27,
    "start_time": "2022-04-22T14:01:48.200Z"
   },
   {
    "duration": 8,
    "start_time": "2022-04-22T14:01:48.229Z"
   },
   {
    "duration": 16,
    "start_time": "2022-04-22T14:01:48.239Z"
   },
   {
    "duration": 6,
    "start_time": "2022-04-22T14:01:48.257Z"
   },
   {
    "duration": 2946,
    "start_time": "2022-04-22T14:01:48.265Z"
   },
   {
    "duration": 18,
    "start_time": "2022-04-22T14:01:51.213Z"
   },
   {
    "duration": 20,
    "start_time": "2022-04-22T14:01:51.232Z"
   },
   {
    "duration": 8,
    "start_time": "2022-04-22T14:01:51.254Z"
   },
   {
    "duration": 34,
    "start_time": "2022-04-22T14:01:51.263Z"
   },
   {
    "duration": 8,
    "start_time": "2022-04-22T14:01:51.299Z"
   },
   {
    "duration": 6,
    "start_time": "2022-04-22T14:01:51.309Z"
   },
   {
    "duration": 7,
    "start_time": "2022-04-22T14:01:51.317Z"
   },
   {
    "duration": 5,
    "start_time": "2022-04-22T14:01:51.330Z"
   },
   {
    "duration": 8,
    "start_time": "2022-04-22T14:01:51.337Z"
   },
   {
    "duration": 55,
    "start_time": "2022-04-22T14:01:51.347Z"
   },
   {
    "duration": 11,
    "start_time": "2022-04-22T14:01:51.404Z"
   },
   {
    "duration": 7,
    "start_time": "2022-04-22T14:01:51.417Z"
   },
   {
    "duration": 9,
    "start_time": "2022-04-22T14:01:51.426Z"
   },
   {
    "duration": 238,
    "start_time": "2022-04-22T14:01:51.437Z"
   },
   {
    "duration": 6,
    "start_time": "2022-04-22T14:01:51.677Z"
   },
   {
    "duration": 19,
    "start_time": "2022-04-22T14:01:51.685Z"
   },
   {
    "duration": 169,
    "start_time": "2022-04-22T14:01:51.705Z"
   },
   {
    "duration": 19,
    "start_time": "2022-04-22T14:01:51.875Z"
   },
   {
    "duration": 39,
    "start_time": "2022-04-22T14:01:51.896Z"
   },
   {
    "duration": 24,
    "start_time": "2022-04-22T14:01:51.936Z"
   },
   {
    "duration": 8,
    "start_time": "2022-04-22T14:01:51.962Z"
   },
   {
    "duration": 38,
    "start_time": "2022-04-22T14:01:51.973Z"
   },
   {
    "duration": 227,
    "start_time": "2022-04-22T14:01:52.014Z"
   },
   {
    "duration": 19,
    "start_time": "2022-04-22T14:01:52.243Z"
   },
   {
    "duration": 3,
    "start_time": "2022-04-22T14:01:52.264Z"
   },
   {
    "duration": 16,
    "start_time": "2022-04-22T14:01:52.293Z"
   },
   {
    "duration": 1562,
    "start_time": "2022-04-22T14:01:52.311Z"
   },
   {
    "duration": 3,
    "start_time": "2022-04-22T14:01:53.876Z"
   },
   {
    "duration": 16,
    "start_time": "2022-04-22T14:01:53.892Z"
   },
   {
    "duration": 13,
    "start_time": "2022-04-22T14:01:53.911Z"
   },
   {
    "duration": 49,
    "start_time": "2022-04-22T14:01:53.926Z"
   },
   {
    "duration": 21,
    "start_time": "2022-04-22T14:01:53.977Z"
   },
   {
    "duration": 3,
    "start_time": "2022-04-22T14:01:54.001Z"
   },
   {
    "duration": 814,
    "start_time": "2022-04-22T14:01:54.006Z"
   },
   {
    "duration": 28,
    "start_time": "2022-04-22T14:01:54.822Z"
   },
   {
    "duration": 54,
    "start_time": "2022-04-22T14:01:54.852Z"
   },
   {
    "duration": 278,
    "start_time": "2022-04-22T14:01:54.908Z"
   },
   {
    "duration": 270,
    "start_time": "2022-04-22T14:01:55.192Z"
   },
   {
    "duration": 1457,
    "start_time": "2022-04-22T14:01:55.465Z"
   },
   {
    "duration": 22,
    "start_time": "2022-04-22T14:01:56.925Z"
   },
   {
    "duration": 967,
    "start_time": "2022-04-22T14:01:56.949Z"
   },
   {
    "duration": 11,
    "start_time": "2022-04-22T14:01:57.919Z"
   },
   {
    "duration": 201,
    "start_time": "2022-04-22T14:01:57.933Z"
   },
   {
    "duration": 8,
    "start_time": "2022-04-22T14:01:58.136Z"
   },
   {
    "duration": 294,
    "start_time": "2022-04-22T14:01:58.146Z"
   },
   {
    "duration": 5,
    "start_time": "2022-04-22T14:01:58.442Z"
   },
   {
    "duration": 927,
    "start_time": "2022-04-22T14:01:58.449Z"
   },
   {
    "duration": 18,
    "start_time": "2022-04-22T14:01:59.378Z"
   },
   {
    "duration": 515,
    "start_time": "2022-04-22T14:01:59.397Z"
   },
   {
    "duration": 286,
    "start_time": "2022-04-22T14:01:59.914Z"
   },
   {
    "duration": 18,
    "start_time": "2022-04-22T14:02:00.201Z"
   },
   {
    "duration": 24,
    "start_time": "2022-04-22T14:02:00.222Z"
   },
   {
    "duration": 27,
    "start_time": "2022-04-22T14:02:00.248Z"
   },
   {
    "duration": 37,
    "start_time": "2022-04-22T14:02:00.277Z"
   },
   {
    "duration": 17,
    "start_time": "2022-04-22T14:02:00.316Z"
   },
   {
    "duration": 161,
    "start_time": "2022-04-22T14:02:00.335Z"
   },
   {
    "duration": 32,
    "start_time": "2022-04-22T14:02:00.499Z"
   },
   {
    "duration": 47,
    "start_time": "2022-04-22T14:02:00.533Z"
   },
   {
    "duration": 325,
    "start_time": "2022-04-22T14:02:00.582Z"
   },
   {
    "duration": 25,
    "start_time": "2022-04-22T14:02:00.909Z"
   },
   {
    "duration": 231,
    "start_time": "2022-04-22T14:02:00.936Z"
   },
   {
    "duration": 29,
    "start_time": "2022-04-22T14:02:01.173Z"
   },
   {
    "duration": 53,
    "start_time": "2022-04-22T14:02:01.204Z"
   },
   {
    "duration": 33,
    "start_time": "2022-04-22T14:02:01.259Z"
   },
   {
    "duration": 44,
    "start_time": "2022-04-22T14:02:01.294Z"
   },
   {
    "duration": 13,
    "start_time": "2022-04-22T14:02:01.340Z"
   },
   {
    "duration": 27,
    "start_time": "2022-04-22T14:02:01.354Z"
   },
   {
    "duration": 28,
    "start_time": "2022-04-22T14:02:01.383Z"
   },
   {
    "duration": 20,
    "start_time": "2022-04-22T14:02:01.414Z"
   },
   {
    "duration": 20,
    "start_time": "2022-04-22T14:02:01.436Z"
   },
   {
    "duration": 32,
    "start_time": "2022-04-22T14:02:01.458Z"
   },
   {
    "duration": 11,
    "start_time": "2022-04-22T14:02:01.492Z"
   },
   {
    "duration": 276,
    "start_time": "2022-04-22T14:02:01.504Z"
   },
   {
    "duration": 5,
    "start_time": "2022-04-22T14:02:01.782Z"
   },
   {
    "duration": 17,
    "start_time": "2022-04-22T14:02:01.789Z"
   },
   {
    "duration": 265,
    "start_time": "2022-04-22T14:02:01.808Z"
   },
   {
    "duration": 5,
    "start_time": "2022-04-22T14:02:02.075Z"
   },
   {
    "duration": 415,
    "start_time": "2022-04-22T14:02:47.424Z"
   },
   {
    "duration": 128,
    "start_time": "2022-04-22T14:03:21.396Z"
   },
   {
    "duration": 218,
    "start_time": "2022-04-22T14:03:25.527Z"
   },
   {
    "duration": 189,
    "start_time": "2022-04-22T14:03:29.233Z"
   },
   {
    "duration": 404,
    "start_time": "2022-04-22T14:03:32.171Z"
   },
   {
    "duration": 5,
    "start_time": "2022-04-22T14:04:03.241Z"
   },
   {
    "duration": 6,
    "start_time": "2022-04-22T14:04:08.622Z"
   },
   {
    "duration": 5,
    "start_time": "2022-04-22T14:04:13.759Z"
   },
   {
    "duration": 6,
    "start_time": "2022-04-22T14:04:48.556Z"
   },
   {
    "duration": 358,
    "start_time": "2022-04-22T14:05:04.909Z"
   },
   {
    "duration": 139,
    "start_time": "2022-04-22T14:05:31.468Z"
   },
   {
    "duration": 341,
    "start_time": "2022-04-22T14:05:39.050Z"
   },
   {
    "duration": 190,
    "start_time": "2022-04-22T14:06:20.736Z"
   },
   {
    "duration": 191,
    "start_time": "2022-04-22T14:06:52.322Z"
   },
   {
    "duration": 444,
    "start_time": "2022-04-22T14:06:56.656Z"
   },
   {
    "duration": 297,
    "start_time": "2022-04-22T14:07:11.220Z"
   },
   {
    "duration": 454,
    "start_time": "2022-04-22T14:08:28.090Z"
   },
   {
    "duration": 164,
    "start_time": "2022-04-22T14:09:05.049Z"
   },
   {
    "duration": 319,
    "start_time": "2022-04-22T14:09:15.342Z"
   },
   {
    "duration": 295,
    "start_time": "2022-04-22T14:10:58.639Z"
   },
   {
    "duration": 5,
    "start_time": "2022-04-22T14:11:11.103Z"
   },
   {
    "duration": 187,
    "start_time": "2022-04-22T14:11:20.410Z"
   },
   {
    "duration": 186,
    "start_time": "2022-04-22T14:11:36.276Z"
   }
  ],
  "kernelspec": {
   "display_name": "Python 3 (ipykernel)",
   "language": "python",
   "name": "python3"
  },
  "language_info": {
   "codemirror_mode": {
    "name": "ipython",
    "version": 3
   },
   "file_extension": ".py",
   "mimetype": "text/x-python",
   "name": "python",
   "nbconvert_exporter": "python",
   "pygments_lexer": "ipython3",
   "version": "3.9.5"
  },
  "toc": {
   "base_numbering": 1,
   "nav_menu": {},
   "number_sections": true,
   "sideBar": true,
   "skip_h1_title": true,
   "title_cell": "Table of Contents",
   "title_sidebar": "Contents",
   "toc_cell": false,
   "toc_position": {
    "height": "calc(100% - 180px)",
    "left": "10px",
    "top": "150px",
    "width": "270.391px"
   },
   "toc_section_display": true,
   "toc_window_display": false
  }
 },
 "nbformat": 4,
 "nbformat_minor": 2
}
