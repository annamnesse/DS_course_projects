{
 "cells": [
  {
   "cell_type": "markdown",
   "metadata": {},
   "source": [
    "<div class=\"alert alert-info\">\n",
    "<font size=\"3\"><b>✔️Комментарий ревьюера ✔️</b></font>\n",
    "\n",
    "\n",
    "Привет, Анна! 👋\n",
    "    \n",
    "    \n",
    "Спасибо, что отправила задание. Меня зовут Ольга Комисарук, и я буду проверять твой проект.  \n",
    "Будет здорово, если ты будешь поддерживать диалог ответами на мои комментарии. Если обращение на ты неприемлемо, то прошу сообщить. \n",
    "\n",
    "Мои комментарии обозначены пометкой **Комментарий ревьюера**, а повторное ревью будут обозначены в соответствии с версией **v_**. Далее в файле ты сможешь найти их в похожих ячейках:\n",
    "Есть несколько аспектов, которые **требуют** твоего **внимания**. Комментарии по ним помечены красным цветом и символами ❌. После их доработки проект будет принят, осталось совсем немного :) \n",
    "\n",
    "    \n",
    "<div class=\"alert alert-block alert-info\">\n",
    "<div class=\"alert alert-block alert-success\"> <b>✔️ Комментарий ревьюера ✔️</b>\n",
    "    Если фон комментария зелёный - отмечены удачные и элегантные решения, на которые можно опираться в будущих проектах;</div>\n",
    "    \n",
    "<div class=\"alert alert-block alert-warning\"> <b>⚠️ Комментарий ревьюера ⚠️</b> \n",
    "    Если фон комментария жёлтый - в следующий раз можно сделать по-другому. Ты можешь учесть эти комментарии при выполнении будущих заданий или доработать проект сейчас (однако это не обязательно).</div>\n",
    " \n",
    "<div class=\"alert alert-block alert-danger\"> <b>❌ Комментарий ревьюера ❌</b> \n",
    "    Если фон комментария красный - допущена ошибка и нужно переделать. После их доработки проект будет принят. Осталось совсем немного, буду ждать твою работу на повторное ревью. 🙂  </div>\n",
    "</div>  \n",
    "\n",
    "\n",
    "Давай работать над проектом в диалоге: если ты что-то меняешь в проекте по моим рекомендациям — пиши об этом. \n",
    "Выбери для своих комментариев какой-то заметный цвет, так мне будет легче отследить изменения. Пожалуйста, не перемещай, не изменяй и не удаляй мои комментарии. Всё это поможет выполнить повторную проверку твоего проекта оперативнее. "
   ]
  },
  {
   "cell_type": "markdown",
   "metadata": {},
   "source": [
    "<div  style=\"background-color: aliceblue; border-left: 7px solid blue; padding: 15px; \">\n",
    "<b> <font color='blue' > ✔️Ревью: Итог ✔️</font></b> \n",
    "    \n",
    "Всё посмотрела, всё отлично!\n",
    "    \n",
    "Мне было очень интересно проверять твой проект. Очень здорово, что мы поэкспериментировали с обучением, потому что мы поняли, что в нашем случае, с нашим набором данных, стандартизация данных не помогает улучшать обучение, а вот дополнительно обработать данные - куда важнее. Это очень важный вывод и результат. \n",
    "    \n",
    "Желаю тебе успехов, познавать мир машинного обучения дальше, он очень интересен! Надеюсь, что ссылочки на материал помогут тебе ещё больше погрузиться и расставить всё по полочкам 🤗 \n",
    "\n",
    "<div> "
   ]
  },
  {
   "cell_type": "markdown",
   "metadata": {},
   "source": [
    "# Определение стоимости автомобилей"
   ]
  },
  {
   "cell_type": "markdown",
   "metadata": {},
   "source": [
    "Сервис по продаже автомобилей с пробегом «Не бит, не крашен» разрабатывает приложение для привлечения новых клиентов. В нём можно быстро узнать рыночную стоимость своего автомобиля. В вашем распоряжении исторические данные: технические характеристики, комплектации и цены автомобилей. Вам нужно построить модель для определения стоимости. \n",
    "\n",
    "Заказчику важны:\n",
    "\n",
    "- качество предсказания;\n",
    "- скорость предсказания;\n",
    "- время обучения."
   ]
  },
  {
   "cell_type": "markdown",
   "metadata": {},
   "source": [
    "<div class=\"alert alert-block alert-warning\"> <b>⚠️ Комментарий ревьюера ⚠️</b> \n",
    "\n",
    "Хорошо, не забывай добавлять план/ход исследования и описание имеющих данных в самом начале проекта, так сразу видно с какими данными мы имеем дело, какую задачу необходимо решить и какие дать ответы на вопросы проекта.   \n",
    "</div> "
   ]
  },
  {
   "cell_type": "markdown",
   "metadata": {},
   "source": [
    "<div class=\"alert alert-block alert-success\"> <b>✔️ Комментарий студента ✔️</b>\n",
    "    Ольга, спасибо большое за подсказку. Постараюсь дорабатывать блоки с описательной частью по плану исследования.</div>"
   ]
  },
  {
   "cell_type": "markdown",
   "metadata": {},
   "source": [
    "Чтобы усилить исследование, не будем ограничиваться градиентным бустингом. Попробуем более простые модели — иногда они работают лучше. Это редкие случаи, которые легко пропустить, если всегда применять только бустинг. Поэкспериментируем и сравним характеристики моделей: скорость работы, точность результата.\n",
    "\n",
    "**План исследования:**\n",
    "* Загрузим и подготовим данные.\n",
    "* Обучим разные модели. Для каждой попробуем различные гиперпараметры.\n",
    "* Проанализируем скорость работы и качество моделей.\n",
    "\n",
    "<i>Примечания:</i>\n",
    "* Для оценки качества моделей применим метрику RMSE.\n",
    "  Значение метрики RMSE должно быть меньше 2500.\n"
   ]
  },
  {
   "cell_type": "markdown",
   "metadata": {},
   "source": [
    "<div class=\"alert alert-block alert-success\"> <b>✔️ Комментарий ревьюера v2 ✔️</b>\n",
    "\n",
    "Супер!👍    \n",
    "\n",
    "</div>"
   ]
  },
  {
   "cell_type": "markdown",
   "metadata": {},
   "source": [
    "## Подготовка данных"
   ]
  },
  {
   "cell_type": "code",
   "execution_count": 1,
   "metadata": {},
   "outputs": [],
   "source": [
    "# Импорт библиотек\n",
    "import pandas as pd\n",
    "import numpy as np\n",
    "import seaborn as sns\n",
    "import matplotlib.pyplot as plt\n",
    "import lightgbm as lgb\n",
    "\n",
    "from sklearn.preprocessing import OneHotEncoder, OrdinalEncoder, LabelEncoder, StandardScaler\n",
    "from sklearn.model_selection import cross_val_score, KFold, GridSearchCV, train_test_split\n",
    "from sklearn.metrics import mean_squared_error\n",
    "from sklearn.linear_model import LinearRegression\n",
    "from sklearn.tree import DecisionTreeRegressor\n",
    "from sklearn.ensemble import RandomForestRegressor\n",
    "from sklearn.pipeline import Pipeline\n",
    "from catboost import CatBoostRegressor\n",
    "from lightgbm import LGBMRegressor\n",
    "\n",
    "import warnings\n",
    "warnings.filterwarnings('ignore')"
   ]
  },
  {
   "cell_type": "code",
   "execution_count": 2,
   "metadata": {},
   "outputs": [],
   "source": [
    "# Загрузка данных\n",
    "try:\n",
    "    data = pd.read_csv('/datasets/autos.csv')\n",
    "except:\n",
    "    data = pd.read_csv('https:://code.s3.yandex.net/datasets/autos.csv')"
   ]
  },
  {
   "cell_type": "code",
   "execution_count": 3,
   "metadata": {},
   "outputs": [
    {
     "name": "stdout",
     "output_type": "stream",
     "text": [
      "<class 'pandas.core.frame.DataFrame'>\n",
      "RangeIndex: 354369 entries, 0 to 354368\n",
      "Data columns (total 16 columns):\n",
      " #   Column             Non-Null Count   Dtype \n",
      "---  ------             --------------   ----- \n",
      " 0   DateCrawled        354369 non-null  object\n",
      " 1   Price              354369 non-null  int64 \n",
      " 2   VehicleType        316879 non-null  object\n",
      " 3   RegistrationYear   354369 non-null  int64 \n",
      " 4   Gearbox            334536 non-null  object\n",
      " 5   Power              354369 non-null  int64 \n",
      " 6   Model              334664 non-null  object\n",
      " 7   Kilometer          354369 non-null  int64 \n",
      " 8   RegistrationMonth  354369 non-null  int64 \n",
      " 9   FuelType           321474 non-null  object\n",
      " 10  Brand              354369 non-null  object\n",
      " 11  NotRepaired        283215 non-null  object\n",
      " 12  DateCreated        354369 non-null  object\n",
      " 13  NumberOfPictures   354369 non-null  int64 \n",
      " 14  PostalCode         354369 non-null  int64 \n",
      " 15  LastSeen           354369 non-null  object\n",
      "dtypes: int64(7), object(9)\n",
      "memory usage: 43.3+ MB\n",
      "\n"
     ]
    },
    {
     "data": {
      "text/html": [
       "<div>\n",
       "<style scoped>\n",
       "    .dataframe tbody tr th:only-of-type {\n",
       "        vertical-align: middle;\n",
       "    }\n",
       "\n",
       "    .dataframe tbody tr th {\n",
       "        vertical-align: top;\n",
       "    }\n",
       "\n",
       "    .dataframe thead th {\n",
       "        text-align: right;\n",
       "    }\n",
       "</style>\n",
       "<table border=\"1\" class=\"dataframe\">\n",
       "  <thead>\n",
       "    <tr style=\"text-align: right;\">\n",
       "      <th></th>\n",
       "      <th>0</th>\n",
       "      <th>1</th>\n",
       "      <th>2</th>\n",
       "      <th>3</th>\n",
       "      <th>4</th>\n",
       "    </tr>\n",
       "  </thead>\n",
       "  <tbody>\n",
       "    <tr>\n",
       "      <th>DateCrawled</th>\n",
       "      <td>2016-03-24 11:52:17</td>\n",
       "      <td>2016-03-24 10:58:45</td>\n",
       "      <td>2016-03-14 12:52:21</td>\n",
       "      <td>2016-03-17 16:54:04</td>\n",
       "      <td>2016-03-31 17:25:20</td>\n",
       "    </tr>\n",
       "    <tr>\n",
       "      <th>Price</th>\n",
       "      <td>480</td>\n",
       "      <td>18300</td>\n",
       "      <td>9800</td>\n",
       "      <td>1500</td>\n",
       "      <td>3600</td>\n",
       "    </tr>\n",
       "    <tr>\n",
       "      <th>VehicleType</th>\n",
       "      <td>NaN</td>\n",
       "      <td>coupe</td>\n",
       "      <td>suv</td>\n",
       "      <td>small</td>\n",
       "      <td>small</td>\n",
       "    </tr>\n",
       "    <tr>\n",
       "      <th>RegistrationYear</th>\n",
       "      <td>1993</td>\n",
       "      <td>2011</td>\n",
       "      <td>2004</td>\n",
       "      <td>2001</td>\n",
       "      <td>2008</td>\n",
       "    </tr>\n",
       "    <tr>\n",
       "      <th>Gearbox</th>\n",
       "      <td>manual</td>\n",
       "      <td>manual</td>\n",
       "      <td>auto</td>\n",
       "      <td>manual</td>\n",
       "      <td>manual</td>\n",
       "    </tr>\n",
       "    <tr>\n",
       "      <th>Power</th>\n",
       "      <td>0</td>\n",
       "      <td>190</td>\n",
       "      <td>163</td>\n",
       "      <td>75</td>\n",
       "      <td>69</td>\n",
       "    </tr>\n",
       "    <tr>\n",
       "      <th>Model</th>\n",
       "      <td>golf</td>\n",
       "      <td>NaN</td>\n",
       "      <td>grand</td>\n",
       "      <td>golf</td>\n",
       "      <td>fabia</td>\n",
       "    </tr>\n",
       "    <tr>\n",
       "      <th>Kilometer</th>\n",
       "      <td>150000</td>\n",
       "      <td>125000</td>\n",
       "      <td>125000</td>\n",
       "      <td>150000</td>\n",
       "      <td>90000</td>\n",
       "    </tr>\n",
       "    <tr>\n",
       "      <th>RegistrationMonth</th>\n",
       "      <td>0</td>\n",
       "      <td>5</td>\n",
       "      <td>8</td>\n",
       "      <td>6</td>\n",
       "      <td>7</td>\n",
       "    </tr>\n",
       "    <tr>\n",
       "      <th>FuelType</th>\n",
       "      <td>petrol</td>\n",
       "      <td>gasoline</td>\n",
       "      <td>gasoline</td>\n",
       "      <td>petrol</td>\n",
       "      <td>gasoline</td>\n",
       "    </tr>\n",
       "    <tr>\n",
       "      <th>Brand</th>\n",
       "      <td>volkswagen</td>\n",
       "      <td>audi</td>\n",
       "      <td>jeep</td>\n",
       "      <td>volkswagen</td>\n",
       "      <td>skoda</td>\n",
       "    </tr>\n",
       "    <tr>\n",
       "      <th>NotRepaired</th>\n",
       "      <td>NaN</td>\n",
       "      <td>yes</td>\n",
       "      <td>NaN</td>\n",
       "      <td>no</td>\n",
       "      <td>no</td>\n",
       "    </tr>\n",
       "    <tr>\n",
       "      <th>DateCreated</th>\n",
       "      <td>2016-03-24 00:00:00</td>\n",
       "      <td>2016-03-24 00:00:00</td>\n",
       "      <td>2016-03-14 00:00:00</td>\n",
       "      <td>2016-03-17 00:00:00</td>\n",
       "      <td>2016-03-31 00:00:00</td>\n",
       "    </tr>\n",
       "    <tr>\n",
       "      <th>NumberOfPictures</th>\n",
       "      <td>0</td>\n",
       "      <td>0</td>\n",
       "      <td>0</td>\n",
       "      <td>0</td>\n",
       "      <td>0</td>\n",
       "    </tr>\n",
       "    <tr>\n",
       "      <th>PostalCode</th>\n",
       "      <td>70435</td>\n",
       "      <td>66954</td>\n",
       "      <td>90480</td>\n",
       "      <td>91074</td>\n",
       "      <td>60437</td>\n",
       "    </tr>\n",
       "    <tr>\n",
       "      <th>LastSeen</th>\n",
       "      <td>2016-04-07 03:16:57</td>\n",
       "      <td>2016-04-07 01:46:50</td>\n",
       "      <td>2016-04-05 12:47:46</td>\n",
       "      <td>2016-03-17 17:40:17</td>\n",
       "      <td>2016-04-06 10:17:21</td>\n",
       "    </tr>\n",
       "  </tbody>\n",
       "</table>\n",
       "</div>"
      ],
      "text/plain": [
       "                                     0                    1  \\\n",
       "DateCrawled        2016-03-24 11:52:17  2016-03-24 10:58:45   \n",
       "Price                              480                18300   \n",
       "VehicleType                        NaN                coupe   \n",
       "RegistrationYear                  1993                 2011   \n",
       "Gearbox                         manual               manual   \n",
       "Power                                0                  190   \n",
       "Model                             golf                  NaN   \n",
       "Kilometer                       150000               125000   \n",
       "RegistrationMonth                    0                    5   \n",
       "FuelType                        petrol             gasoline   \n",
       "Brand                       volkswagen                 audi   \n",
       "NotRepaired                        NaN                  yes   \n",
       "DateCreated        2016-03-24 00:00:00  2016-03-24 00:00:00   \n",
       "NumberOfPictures                     0                    0   \n",
       "PostalCode                       70435                66954   \n",
       "LastSeen           2016-04-07 03:16:57  2016-04-07 01:46:50   \n",
       "\n",
       "                                     2                    3  \\\n",
       "DateCrawled        2016-03-14 12:52:21  2016-03-17 16:54:04   \n",
       "Price                             9800                 1500   \n",
       "VehicleType                        suv                small   \n",
       "RegistrationYear                  2004                 2001   \n",
       "Gearbox                           auto               manual   \n",
       "Power                              163                   75   \n",
       "Model                            grand                 golf   \n",
       "Kilometer                       125000               150000   \n",
       "RegistrationMonth                    8                    6   \n",
       "FuelType                      gasoline               petrol   \n",
       "Brand                             jeep           volkswagen   \n",
       "NotRepaired                        NaN                   no   \n",
       "DateCreated        2016-03-14 00:00:00  2016-03-17 00:00:00   \n",
       "NumberOfPictures                     0                    0   \n",
       "PostalCode                       90480                91074   \n",
       "LastSeen           2016-04-05 12:47:46  2016-03-17 17:40:17   \n",
       "\n",
       "                                     4  \n",
       "DateCrawled        2016-03-31 17:25:20  \n",
       "Price                             3600  \n",
       "VehicleType                      small  \n",
       "RegistrationYear                  2008  \n",
       "Gearbox                         manual  \n",
       "Power                               69  \n",
       "Model                            fabia  \n",
       "Kilometer                        90000  \n",
       "RegistrationMonth                    7  \n",
       "FuelType                      gasoline  \n",
       "Brand                            skoda  \n",
       "NotRepaired                         no  \n",
       "DateCreated        2016-03-31 00:00:00  \n",
       "NumberOfPictures                     0  \n",
       "PostalCode                       60437  \n",
       "LastSeen           2016-04-06 10:17:21  "
      ]
     },
     "execution_count": 3,
     "metadata": {},
     "output_type": "execute_result"
    }
   ],
   "source": [
    "# Изучим данные\n",
    "data.info()\n",
    "print()\n",
    "data.head().T"
   ]
  },
  {
   "cell_type": "markdown",
   "metadata": {},
   "source": [
    "Знакомимся с признаками\n",
    "\n",
    "**Признаки**\n",
    "- DateCrawled — дата скачивания анкеты из базы\n",
    "- VehicleType — тип автомобильного кузова\n",
    "- RegistrationYear — год регистрации автомобиля\n",
    "- Gearbox — тип коробки передач\n",
    "- Power — мощность (л. с.)\n",
    "- Model — модель автомобиля\n",
    "- Kilometer — пробег (км)\n",
    "- RegistrationMonth — месяц регистрации автомобиля\n",
    "- FuelType — тип топлива\n",
    "- Brand — марка автомобиля\n",
    "- NotRepaired — была машина в ремонте или нет\n",
    "- DateCreated — дата создания анкеты\n",
    "- NumberOfPictures — количество фотографий автомобиля\n",
    "- PostalCode — почтовый индекс владельца анкеты (пользователя)\n",
    "- LastSeen — дата последней активности пользователя\n",
    "\n",
    "**Целевой признак**\n",
    "- Price — цена (евро)"
   ]
  },
  {
   "cell_type": "code",
   "execution_count": 4,
   "metadata": {},
   "outputs": [],
   "source": [
    "# Для начала приведем названия столбцов к нижнему регистру\n",
    "data.columns = map(str.lower, data.columns)"
   ]
  },
  {
   "cell_type": "markdown",
   "metadata": {},
   "source": [
    "<div class=\"alert alert-block alert-warning\"> <b>⚠️ Комментарий ревьюера ⚠️</b> \n",
    "\n",
    "Можно так, а можно ещё вот так: \n",
    "    \n",
    "`df.columns = df.columns.str.lower()`\n",
    "</div>"
   ]
  },
  {
   "cell_type": "markdown",
   "metadata": {},
   "source": [
    "<div class=\"alert alert-block alert-success\"> <b>✔️ Комментарий студента ✔️</b>\n",
    "    Ольга, спасибо за более изящное решение. Видела такой вариант онлайн, но почему-то решила усугубить map-ом.</div>"
   ]
  },
  {
   "cell_type": "markdown",
   "metadata": {},
   "source": [
    "<div class=\"alert alert-block alert-success\"> <b>✔️ Комментарий ревьюера v2 ✔️</b>\n",
    "\n",
    "Но всё равно очень классно, что ты знаешь функцию `map()`, потому что она иногда очень выручает в более сложных задачах, точнее упрощает код 😊  \n",
    "\n",
    "</div>"
   ]
  },
  {
   "cell_type": "code",
   "execution_count": 5,
   "metadata": {},
   "outputs": [
    {
     "data": {
      "text/plain": [
       "4"
      ]
     },
     "execution_count": 5,
     "metadata": {},
     "output_type": "execute_result"
    }
   ],
   "source": [
    "# Изучим наличие дубликатов\n",
    "data.duplicated().sum()"
   ]
  },
  {
   "cell_type": "code",
   "execution_count": 6,
   "metadata": {},
   "outputs": [],
   "source": [
    "# Удалим дубликаты\n",
    "data = data.drop_duplicates()"
   ]
  },
  {
   "cell_type": "code",
   "execution_count": 7,
   "metadata": {},
   "outputs": [
    {
     "data": {
      "text/plain": [
       "datecrawled              0\n",
       "price                    0\n",
       "vehicletype          37490\n",
       "registrationyear         0\n",
       "gearbox              19833\n",
       "power                    0\n",
       "model                19705\n",
       "kilometer                0\n",
       "registrationmonth        0\n",
       "fueltype             32895\n",
       "brand                    0\n",
       "notrepaired          71154\n",
       "datecreated              0\n",
       "numberofpictures         0\n",
       "postalcode               0\n",
       "lastseen                 0\n",
       "dtype: int64"
      ]
     },
     "execution_count": 7,
     "metadata": {},
     "output_type": "execute_result"
    }
   ],
   "source": [
    "# Оценим количество пропусков\n",
    "data.isna().sum()"
   ]
  },
  {
   "cell_type": "markdown",
   "metadata": {},
   "source": [
    "Довольно большая доля пропусков в признаках: *VehicleType*, *Gearbox*, *Model*, *FuelType*, *NotRepaired*. \n",
    "Попробуем заменить пропуски самыми частотными значениями по признаку, тем более это категориальные значения."
   ]
  },
  {
   "cell_type": "code",
   "execution_count": 8,
   "metadata": {},
   "outputs": [],
   "source": [
    "# Заполнение пропусков самым частотным значением для признака\n",
    "data['vehicletype'] = data['vehicletype'].fillna(data['vehicletype'].mode().values[0])\n",
    "data['gearbox'] = data['gearbox'].fillna(data['gearbox'].mode().values[0])\n",
    "data['model'] = data['model'].fillna(data['model'].mode().values[0])\n",
    "data['fueltype'] = data['fueltype'].fillna(data['fueltype'].mode().values[0])\n",
    "data['notrepaired'] = data['notrepaired'].fillna(\"no\")"
   ]
  },
  {
   "cell_type": "code",
   "execution_count": 9,
   "metadata": {},
   "outputs": [],
   "source": [
    "# Приведение признаков даты к типу datetime\n",
    "date_columns = ['datecrawled' , 'datecreated', 'lastseen']\n",
    "for time in date_columns:\n",
    "    data[time] = pd.to_datetime(data[time], format = '%Y.%m.%d %H:%M:%S')"
   ]
  },
  {
   "cell_type": "code",
   "execution_count": 10,
   "metadata": {},
   "outputs": [
    {
     "data": {
      "text/html": [
       "<div>\n",
       "<style scoped>\n",
       "    .dataframe tbody tr th:only-of-type {\n",
       "        vertical-align: middle;\n",
       "    }\n",
       "\n",
       "    .dataframe tbody tr th {\n",
       "        vertical-align: top;\n",
       "    }\n",
       "\n",
       "    .dataframe thead th {\n",
       "        text-align: right;\n",
       "    }\n",
       "</style>\n",
       "<table border=\"1\" class=\"dataframe\">\n",
       "  <thead>\n",
       "    <tr style=\"text-align: right;\">\n",
       "      <th></th>\n",
       "      <th>price</th>\n",
       "      <th>registrationyear</th>\n",
       "      <th>power</th>\n",
       "      <th>kilometer</th>\n",
       "      <th>registrationmonth</th>\n",
       "      <th>numberofpictures</th>\n",
       "      <th>postalcode</th>\n",
       "    </tr>\n",
       "  </thead>\n",
       "  <tbody>\n",
       "    <tr>\n",
       "      <th>count</th>\n",
       "      <td>354365.000000</td>\n",
       "      <td>354365.000000</td>\n",
       "      <td>354365.000000</td>\n",
       "      <td>354365.000000</td>\n",
       "      <td>354365.000000</td>\n",
       "      <td>354365.0</td>\n",
       "      <td>354365.000000</td>\n",
       "    </tr>\n",
       "    <tr>\n",
       "      <th>mean</th>\n",
       "      <td>4416.679830</td>\n",
       "      <td>2004.234481</td>\n",
       "      <td>110.093816</td>\n",
       "      <td>128211.363989</td>\n",
       "      <td>5.714650</td>\n",
       "      <td>0.0</td>\n",
       "      <td>50508.503800</td>\n",
       "    </tr>\n",
       "    <tr>\n",
       "      <th>std</th>\n",
       "      <td>4514.176349</td>\n",
       "      <td>90.228466</td>\n",
       "      <td>189.851330</td>\n",
       "      <td>37905.083858</td>\n",
       "      <td>3.726432</td>\n",
       "      <td>0.0</td>\n",
       "      <td>25783.100078</td>\n",
       "    </tr>\n",
       "    <tr>\n",
       "      <th>min</th>\n",
       "      <td>0.000000</td>\n",
       "      <td>1000.000000</td>\n",
       "      <td>0.000000</td>\n",
       "      <td>5000.000000</td>\n",
       "      <td>0.000000</td>\n",
       "      <td>0.0</td>\n",
       "      <td>1067.000000</td>\n",
       "    </tr>\n",
       "    <tr>\n",
       "      <th>25%</th>\n",
       "      <td>1050.000000</td>\n",
       "      <td>1999.000000</td>\n",
       "      <td>69.000000</td>\n",
       "      <td>125000.000000</td>\n",
       "      <td>3.000000</td>\n",
       "      <td>0.0</td>\n",
       "      <td>30165.000000</td>\n",
       "    </tr>\n",
       "    <tr>\n",
       "      <th>50%</th>\n",
       "      <td>2700.000000</td>\n",
       "      <td>2003.000000</td>\n",
       "      <td>105.000000</td>\n",
       "      <td>150000.000000</td>\n",
       "      <td>6.000000</td>\n",
       "      <td>0.0</td>\n",
       "      <td>49413.000000</td>\n",
       "    </tr>\n",
       "    <tr>\n",
       "      <th>75%</th>\n",
       "      <td>6400.000000</td>\n",
       "      <td>2008.000000</td>\n",
       "      <td>143.000000</td>\n",
       "      <td>150000.000000</td>\n",
       "      <td>9.000000</td>\n",
       "      <td>0.0</td>\n",
       "      <td>71083.000000</td>\n",
       "    </tr>\n",
       "    <tr>\n",
       "      <th>max</th>\n",
       "      <td>20000.000000</td>\n",
       "      <td>9999.000000</td>\n",
       "      <td>20000.000000</td>\n",
       "      <td>150000.000000</td>\n",
       "      <td>12.000000</td>\n",
       "      <td>0.0</td>\n",
       "      <td>99998.000000</td>\n",
       "    </tr>\n",
       "  </tbody>\n",
       "</table>\n",
       "</div>"
      ],
      "text/plain": [
       "               price  registrationyear          power      kilometer  \\\n",
       "count  354365.000000     354365.000000  354365.000000  354365.000000   \n",
       "mean     4416.679830       2004.234481     110.093816  128211.363989   \n",
       "std      4514.176349         90.228466     189.851330   37905.083858   \n",
       "min         0.000000       1000.000000       0.000000    5000.000000   \n",
       "25%      1050.000000       1999.000000      69.000000  125000.000000   \n",
       "50%      2700.000000       2003.000000     105.000000  150000.000000   \n",
       "75%      6400.000000       2008.000000     143.000000  150000.000000   \n",
       "max     20000.000000       9999.000000   20000.000000  150000.000000   \n",
       "\n",
       "       registrationmonth  numberofpictures     postalcode  \n",
       "count      354365.000000          354365.0  354365.000000  \n",
       "mean            5.714650               0.0   50508.503800  \n",
       "std             3.726432               0.0   25783.100078  \n",
       "min             0.000000               0.0    1067.000000  \n",
       "25%             3.000000               0.0   30165.000000  \n",
       "50%             6.000000               0.0   49413.000000  \n",
       "75%             9.000000               0.0   71083.000000  \n",
       "max            12.000000               0.0   99998.000000  "
      ]
     },
     "execution_count": 10,
     "metadata": {},
     "output_type": "execute_result"
    }
   ],
   "source": [
    "# Рассмотрим численные признаки на явные выбросы\n",
    "data.describe()"
   ]
  },
  {
   "cell_type": "markdown",
   "metadata": {},
   "source": [
    "<div class=\"alert alert-block alert-success\"> <b>✔️ Комментарий ревьюера ✔️</b>\n",
    "\n",
    "+ Здорово, что применяешь метод <code>.head()</code> так в память не будет загружаться все данные, так как объём данных может быть большим и мы будем тратить время на ожидание загрузки всех данных. Так же можно использовать метод <code> .tail()</code>, который вернёт последние строки. </p>\n",
    "\n",
    "+ Метод <code>.info()</code>  очень важно использовать в задачах, так мы понимаем, какие типы в данных стоит поменять, а также где есть пропуски.</p>\n",
    "\n",
    "+ Отлично, что проверяешь дубликаты. </p> \n",
    "\n",
    "+ Использовать метод `.describe` в таких задачах важно, так мы получаем первую статистическую информацию о данных.</p>\n",
    "\n",
    "+ Первоначальная обработка и приведение даты в нужный тип - отлично что тоже тут! 👍 </p>\n",
    "\n",
    "</div>"
   ]
  },
  {
   "cell_type": "markdown",
   "metadata": {},
   "source": [
    "Есть выбросы в столбце RegistrationYear с минимумом в 1000 и максимальным значением 9999. Отсечем заведомо аномальные значения с регистрацией ранее 1900 года и позднее 2016 года."
   ]
  },
  {
   "cell_type": "code",
   "execution_count": 11,
   "metadata": {},
   "outputs": [
    {
     "data": {
      "text/plain": [
       "count    330170.000000\n",
       "mean       2002.089236\n",
       "std           6.802969\n",
       "min        1910.000000\n",
       "25%        1999.000000\n",
       "50%        2002.000000\n",
       "75%        2007.000000\n",
       "max        2015.000000\n",
       "Name: registrationyear, dtype: float64"
      ]
     },
     "execution_count": 11,
     "metadata": {},
     "output_type": "execute_result"
    },
    {
     "data": {
      "image/png": "[encoded data removed]",
      "text/plain": [
       "<Figure size 864x648 with 1 Axes>"
      ]
     },
     "metadata": {
      "needs_background": "light"
     },
     "output_type": "display_data"
    }
   ],
   "source": [
    "data = data.query('1900 < registrationyear < 2016')\n",
    "data['registrationyear'].hist(bins=100, figsize=(12,9))\n",
    "data['registrationyear'].describe()"
   ]
  },
  {
   "cell_type": "markdown",
   "metadata": {},
   "source": [
    "<div class=\"alert alert-block alert-danger\"> <b>❌ Комментарий ревьюера ❌</b>\n",
    "\n",
    "Год выгрузки базы — 2016, не может быть автомобилей с более поздним годом регистрации.\n",
    "</div>"
   ]
  },
  {
   "cell_type": "markdown",
   "metadata": {},
   "source": [
    "<div class=\"alert alert-block alert-success\"> <b>✔️ Комментарий студента ✔️</b>\n",
    "    Упс, это я проглядела. Сейчас поправлю. </div>"
   ]
  },
  {
   "cell_type": "markdown",
   "metadata": {},
   "source": [
    "<div class=\"alert alert-block alert-success\"> <b>✔️ Комментарий ревьюера v2 ✔️</b>\n",
    "\n",
    "Во, теперь отлично!👍\n",
    "\n",
    "</div>"
   ]
  },
  {
   "cell_type": "markdown",
   "metadata": {},
   "source": [
    "В столбце Power также заметны аномалии с нулевыми значениями и данными мощности, превышающими лошадиные силы самого быстрого болида. Проведем замену аномальных значений медианными по каждой модели."
   ]
  },
  {
   "cell_type": "code",
   "execution_count": 12,
   "metadata": {},
   "outputs": [],
   "source": [
    "data.loc[(data['power'] > 1000) | (data['power'] <= 0), 'power'] = None\n",
    "data['power'] = data['power'].fillna(data.groupby('model')['power'].transform('median'))\n",
    "data = data.loc[~data['power'].isna()]\n",
    "data['power'] = data['power'].astype('int64')"
   ]
  },
  {
   "cell_type": "code",
   "execution_count": 13,
   "metadata": {},
   "outputs": [
    {
     "data": {
      "text/plain": [
       "count    330168.000000\n",
       "mean        119.701937\n",
       "std          53.658730\n",
       "min           1.000000\n",
       "25%          77.000000\n",
       "50%         110.000000\n",
       "75%         146.000000\n",
       "max        1000.000000\n",
       "Name: power, dtype: float64"
      ]
     },
     "execution_count": 13,
     "metadata": {},
     "output_type": "execute_result"
    },
    {
     "data": {
      "image/png": "[encoded data removed]",
      "text/plain": [
       "<Figure size 864x648 with 1 Axes>"
      ]
     },
     "metadata": {
      "needs_background": "light"
     },
     "output_type": "display_data"
    }
   ],
   "source": [
    "data['power'].hist(bins=100, figsize=(12,9))\n",
    "plt.title('Гистограмма мощностей автомобилей')\n",
    "plt.xlabel('Мощность двигателя, л.с.')\n",
    "plt.ylabel('Количество объявлений, шт.')\n",
    "data['power'].describe()"
   ]
  },
  {
   "cell_type": "markdown",
   "metadata": {},
   "source": [
    "<div class=\"alert alert-block alert-success\"> <b>✔️ Комментарий ревьюера ✔️</b>\n",
    "\n",
    "Всё отлично, визуализацию можно сделать ещё более наглядной, добавив названием осям, графику, добавить легенду и т.п\n",
    "Вот тут есть примерчики: https://matplotlib.org/stable/gallery/lines_bars_and_markers/barchart.html#sphx-glr-gallery-lines-bars-and-markers-barchart-py\n",
    "    \n",
    "Вообще у matplotlib отличная библиотека, там много всякого интересного можно найти\n",
    "</div>"
   ]
  },
  {
   "cell_type": "markdown",
   "metadata": {},
   "source": [
    "<div class=\"alert alert-block alert-success\"> <b>✔️ Комментарий студента ✔️</b>\n",
    "    Спасибо, Ольга. Добавила подписи на гистограмму. Введу в практику более тщательное оформление.</div>"
   ]
  },
  {
   "cell_type": "markdown",
   "metadata": {},
   "source": [
    "Заменим отсутствующие данные месяца на самый частотный (после 0) месяц (по моде)."
   ]
  },
  {
   "cell_type": "code",
   "execution_count": 14,
   "metadata": {},
   "outputs": [],
   "source": [
    "data.loc[data['registrationmonth'] == 0, 'registrationmonth'] = data['registrationmonth'].value_counts().index[1]"
   ]
  },
  {
   "cell_type": "code",
   "execution_count": 15,
   "metadata": {},
   "outputs": [
    {
     "data": {
      "text/html": [
       "<div>\n",
       "<style scoped>\n",
       "    .dataframe tbody tr th:only-of-type {\n",
       "        vertical-align: middle;\n",
       "    }\n",
       "\n",
       "    .dataframe tbody tr th {\n",
       "        vertical-align: top;\n",
       "    }\n",
       "\n",
       "    .dataframe thead th {\n",
       "        text-align: right;\n",
       "    }\n",
       "</style>\n",
       "<table border=\"1\" class=\"dataframe\">\n",
       "  <thead>\n",
       "    <tr style=\"text-align: right;\">\n",
       "      <th></th>\n",
       "      <th>price</th>\n",
       "      <th>registrationyear</th>\n",
       "      <th>power</th>\n",
       "      <th>kilometer</th>\n",
       "      <th>registrationmonth</th>\n",
       "      <th>numberofpictures</th>\n",
       "      <th>postalcode</th>\n",
       "    </tr>\n",
       "  </thead>\n",
       "  <tbody>\n",
       "    <tr>\n",
       "      <th>count</th>\n",
       "      <td>330168.000000</td>\n",
       "      <td>330168.000000</td>\n",
       "      <td>330168.000000</td>\n",
       "      <td>330168.000000</td>\n",
       "      <td>330168.000000</td>\n",
       "      <td>330168.0</td>\n",
       "      <td>330168.000000</td>\n",
       "    </tr>\n",
       "    <tr>\n",
       "      <th>mean</th>\n",
       "      <td>4540.158786</td>\n",
       "      <td>2002.089406</td>\n",
       "      <td>119.701937</td>\n",
       "      <td>127921.164377</td>\n",
       "      <td>5.789707</td>\n",
       "      <td>0.0</td>\n",
       "      <td>50692.404494</td>\n",
       "    </tr>\n",
       "    <tr>\n",
       "      <th>std</th>\n",
       "      <td>4564.412996</td>\n",
       "      <td>6.802631</td>\n",
       "      <td>53.658730</td>\n",
       "      <td>37913.067990</td>\n",
       "      <td>3.694135</td>\n",
       "      <td>0.0</td>\n",
       "      <td>25813.708279</td>\n",
       "    </tr>\n",
       "    <tr>\n",
       "      <th>min</th>\n",
       "      <td>0.000000</td>\n",
       "      <td>1910.000000</td>\n",
       "      <td>1.000000</td>\n",
       "      <td>5000.000000</td>\n",
       "      <td>0.000000</td>\n",
       "      <td>0.0</td>\n",
       "      <td>1067.000000</td>\n",
       "    </tr>\n",
       "    <tr>\n",
       "      <th>25%</th>\n",
       "      <td>1149.000000</td>\n",
       "      <td>1999.000000</td>\n",
       "      <td>77.000000</td>\n",
       "      <td>125000.000000</td>\n",
       "      <td>3.000000</td>\n",
       "      <td>0.0</td>\n",
       "      <td>30179.000000</td>\n",
       "    </tr>\n",
       "    <tr>\n",
       "      <th>50%</th>\n",
       "      <td>2850.000000</td>\n",
       "      <td>2002.000000</td>\n",
       "      <td>110.000000</td>\n",
       "      <td>150000.000000</td>\n",
       "      <td>6.000000</td>\n",
       "      <td>0.0</td>\n",
       "      <td>49565.000000</td>\n",
       "    </tr>\n",
       "    <tr>\n",
       "      <th>75%</th>\n",
       "      <td>6500.000000</td>\n",
       "      <td>2007.000000</td>\n",
       "      <td>146.000000</td>\n",
       "      <td>150000.000000</td>\n",
       "      <td>9.000000</td>\n",
       "      <td>0.0</td>\n",
       "      <td>71287.000000</td>\n",
       "    </tr>\n",
       "    <tr>\n",
       "      <th>max</th>\n",
       "      <td>20000.000000</td>\n",
       "      <td>2015.000000</td>\n",
       "      <td>1000.000000</td>\n",
       "      <td>150000.000000</td>\n",
       "      <td>12.000000</td>\n",
       "      <td>0.0</td>\n",
       "      <td>99998.000000</td>\n",
       "    </tr>\n",
       "  </tbody>\n",
       "</table>\n",
       "</div>"
      ],
      "text/plain": [
       "               price  registrationyear          power      kilometer  \\\n",
       "count  330168.000000     330168.000000  330168.000000  330168.000000   \n",
       "mean     4540.158786       2002.089406     119.701937  127921.164377   \n",
       "std      4564.412996          6.802631      53.658730   37913.067990   \n",
       "min         0.000000       1910.000000       1.000000    5000.000000   \n",
       "25%      1149.000000       1999.000000      77.000000  125000.000000   \n",
       "50%      2850.000000       2002.000000     110.000000  150000.000000   \n",
       "75%      6500.000000       2007.000000     146.000000  150000.000000   \n",
       "max     20000.000000       2015.000000    1000.000000  150000.000000   \n",
       "\n",
       "       registrationmonth  numberofpictures     postalcode  \n",
       "count      330168.000000          330168.0  330168.000000  \n",
       "mean            5.789707               0.0   50692.404494  \n",
       "std             3.694135               0.0   25813.708279  \n",
       "min             0.000000               0.0    1067.000000  \n",
       "25%             3.000000               0.0   30179.000000  \n",
       "50%             6.000000               0.0   49565.000000  \n",
       "75%             9.000000               0.0   71287.000000  \n",
       "max            12.000000               0.0   99998.000000  "
      ]
     },
     "execution_count": 15,
     "metadata": {},
     "output_type": "execute_result"
    }
   ],
   "source": [
    "data.describe()"
   ]
  },
  {
   "cell_type": "markdown",
   "metadata": {},
   "source": [
    "Для корректной работы моделей сбросим колонки с временными признаками - date_columns"
   ]
  },
  {
   "cell_type": "code",
   "execution_count": 16,
   "metadata": {},
   "outputs": [],
   "source": [
    "data = data.drop(date_columns, axis=1)"
   ]
  },
  {
   "cell_type": "markdown",
   "metadata": {},
   "source": [
    "А еще имеет смысл удалить малозначимую колонку NumberOfPictures, в которой везде нули. Об этой ошибке стоит сообщить техническим специалистам."
   ]
  },
  {
   "cell_type": "code",
   "execution_count": 17,
   "metadata": {},
   "outputs": [],
   "source": [
    "data = data.drop('numberofpictures', axis=1)"
   ]
  },
  {
   "cell_type": "markdown",
   "metadata": {},
   "source": [
    "Изучим категорийные признаки"
   ]
  },
  {
   "cell_type": "code",
   "execution_count": 18,
   "metadata": {},
   "outputs": [],
   "source": [
    "cat_columns = list(data.select_dtypes(include='object').columns)"
   ]
  },
  {
   "cell_type": "markdown",
   "metadata": {},
   "source": [
    "Закодируем категорийные признаки через Label Encoder"
   ]
  },
  {
   "cell_type": "code",
   "execution_count": 19,
   "metadata": {},
   "outputs": [],
   "source": [
    "le = LabelEncoder()\n",
    "for column in cat_columns:\n",
    "    le.fit(data[column].astype('str'))\n",
    "    data[column] = le.transform(data[column].astype('str'))"
   ]
  },
  {
   "cell_type": "code",
   "execution_count": 20,
   "metadata": {},
   "outputs": [
    {
     "data": {
      "text/plain": [
       "<AxesSubplot:xlabel='price', ylabel='Density'>"
      ]
     },
     "execution_count": 20,
     "metadata": {},
     "output_type": "execute_result"
    },
    {
     "data": {
      "image/png": "[encoded data removed]",
      "text/plain": [
       "<Figure size 432x288 with 1 Axes>"
      ]
     },
     "metadata": {
      "needs_background": "light"
     },
     "output_type": "display_data"
    }
   ],
   "source": [
    "# Посмотрим графическое представление целевого признака по плотности распределения цен\n",
    "sns.distplot(data['price'])"
   ]
  },
  {
   "attachments": {
    "image-2.png": {
     "image/png": "[encoded data removed]"
    },
    "image.png": {
     "image/png": "[encoded data removed]"
    }
   },
   "cell_type": "markdown",
   "metadata": {},
   "source": [
    "<div class=\"alert alert-block alert-warning\"> <b>⚠️ Комментарий ревьюера ⚠️</b> \n",
    "\n",
    "Хорошо, давай по графику посмотрим на цену:\n",
    "    \n",
    "\n",
    "![image.png](attachment:image.png)\n",
    "Комментарии: \n",
    "    \n",
    "1) Как-то много нулей - их можно игнорировать, причин может быть много, например, технические;\n",
    "\n",
    "2) А также, видно что до 1000 евро какие-то пики, которые хорошо изучить, посмотрим ближе: \n",
    "    \n",
    "![image-2.png](attachment:image-2.png)\n",
    "\n",
    "Теперь мы видим, что до 10 евро, значения можно спокойно убирать. Они несоответствуют цели нашей задачи - предсказывать реальную цену автомобилей, иногда это может влиять на качество обучения.\n",
    "    \n",
    "    \n",
    "Это один из вариантов, как можно проанализировать признаки и лучше понимать данные.\n",
    "\n",
    "+ Пример столбчатых диаграмм и вообще всякой классной визуализации: https://proproprogs.ru/modules/matplotlib-risuem-gistogrammy-stolbchatye-i-krugovye-diagrammy\n",
    "\n",
    "    \n",
    "\n",
    " \n",
    "</div>"
   ]
  },
  {
   "cell_type": "markdown",
   "metadata": {},
   "source": [
    "<div class=\"alert alert-block alert-success\"> <b>✔️ Комментарий студента ✔️</b>\n",
    "    Классный разбор по полочкам. Спасибо за прокачку этой гистограммы и расширение моего понимания.\n",
    "    Поддерживаю подсказку исключить цены до 10 евро как не помогающие нам решить цель нашей задачи.\n",
    "</div>"
   ]
  },
  {
   "cell_type": "code",
   "execution_count": 21,
   "metadata": {},
   "outputs": [
    {
     "data": {
      "text/plain": [
       "count    319588.000000\n",
       "mean       4690.454394\n",
       "std        4562.745913\n",
       "min          11.000000\n",
       "25%        1250.000000\n",
       "50%        2999.000000\n",
       "75%        6800.000000\n",
       "max       20000.000000\n",
       "Name: price, dtype: float64"
      ]
     },
     "execution_count": 21,
     "metadata": {},
     "output_type": "execute_result"
    },
    {
     "data": {
      "image/png": "[encoded data removed]",
      "text/plain": [
       "<Figure size 864x648 with 1 Axes>"
      ]
     },
     "metadata": {
      "needs_background": "light"
     },
     "output_type": "display_data"
    }
   ],
   "source": [
    "data = data.query('price > 10')\n",
    "data['price'].hist(bins=100, figsize=(12,9))\n",
    "plt.title('Гистограмма цены автомобилей')\n",
    "plt.xlabel('Цена автомобиля, евро')\n",
    "plt.ylabel('Количество объявлений, шт.')\n",
    "data['price'].describe()"
   ]
  },
  {
   "cell_type": "markdown",
   "metadata": {},
   "source": [
    "**Выводы**\n",
    "\n",
    "Проведено изучение и предобработка данных:\n",
    "- удалены дубликаты\n",
    "- данные в столбцах временных данных приведены к типу datetime\n",
    "- пропуски заполнены самым частотным значением признаков\n",
    "- удалены аномалии для данных с годом регистрации до 1900 и позднее 2016 года\n",
    "- нулевые показатели мощности заменены медианными значениями признака по каждой модели\n",
    "- для целей нашего исследования оставлены цены автомобилей больше 10 евро\n",
    "- нулевые значения месяца регистрации заменены самым частотным месяцем - 01"
   ]
  },
  {
   "cell_type": "markdown",
   "metadata": {},
   "source": [
    "<div class=\"alert alert-block alert-warning\"> <b>⚠️ Комментарий ревьюера ⚠️</b> \n",
    "\n",
    "Да, отлично. \n",
    "Я бы к анализу данных добавила бы ещё такой пукнт, как удаление не очень важных параметров для нашей задачи.\n",
    "    \n",
    "Ну вот, например, \n",
    "    \n",
    "Признак `NumberOfPictures `. Мы в самом начале видим абсолютно бесполезно для машинного обучения значения, так как содержит одни нули. Его следует удалить из набора данных, а поставщика данных предупредить о технической ошибке.\n",
    "\n",
    "Или признак `DateCrawled` (дата скачивания анкеты из базы) не оказывает влияния на цены, так как относится не к действиям пользователей, а к действиям системы сбора информации. Оно тоже не особо нужно для нашей задачи.\n",
    " \n",
    "</div>"
   ]
  },
  {
   "cell_type": "markdown",
   "metadata": {},
   "source": [
    "<div class=\"alert alert-block alert-success\"> <b>✔️ Комментарий студента ✔️</b>\n",
    "    Колонки с датами я уже была вынуждена удалить: у меня модели не срабатывали из-за datetime почему-то. А вот количество фотографий удалю с удовольствием. Спасибо за важную подсказку. Буду иметь ввиду на будущее такие моменты.\n",
    "</div>"
   ]
  },
  {
   "cell_type": "markdown",
   "metadata": {},
   "source": [
    "## Обучение моделей"
   ]
  },
  {
   "cell_type": "markdown",
   "metadata": {},
   "source": [
    "Создадим переменные для признаков и целевого признака."
   ]
  },
  {
   "cell_type": "code",
   "execution_count": 22,
   "metadata": {},
   "outputs": [],
   "source": [
    "X = data.drop('price', axis=1)\n",
    "y = data['price']"
   ]
  },
  {
   "cell_type": "markdown",
   "metadata": {},
   "source": [
    "Разобьем данные на две части: обучающую и тестовую выборки в соотношении 70:30 соответственно"
   ]
  },
  {
   "cell_type": "code",
   "execution_count": 23,
   "metadata": {},
   "outputs": [],
   "source": [
    "X_train, X_test, y_train, y_test = train_test_split(X, y, test_size=0.3, random_state=12345)"
   ]
  },
  {
   "cell_type": "markdown",
   "metadata": {},
   "source": [
    "<div class=\"alert alert-block alert-warning\"> <b>⚠️ Комментарий ревьюера ⚠️</b> \n",
    "\n",
    "Лучше всегда проверять любые изменения в данных сразу, так мы сможем избежать ошибок. Например, достаточно методом `shape` посмотреть на размеры выборок.\n",
    "</div> "
   ]
  },
  {
   "cell_type": "markdown",
   "metadata": {},
   "source": [
    "<div class=\"alert alert-block alert-success\"> <b>✔️ Комментарий студента ✔️</b>\n",
    "    Спасибо за важный момент. Добавляю проверку на размер выборок.\n",
    "</div>"
   ]
  },
  {
   "cell_type": "code",
   "execution_count": 50,
   "metadata": {},
   "outputs": [
    {
     "data": {
      "text/plain": [
       "(223711, 11)"
      ]
     },
     "execution_count": 50,
     "metadata": {},
     "output_type": "execute_result"
    }
   ],
   "source": [
    "# Размер обучающей выборки\n",
    "X_train.shape"
   ]
  },
  {
   "cell_type": "code",
   "execution_count": 51,
   "metadata": {},
   "outputs": [
    {
     "data": {
      "text/plain": [
       "(95877, 11)"
      ]
     },
     "execution_count": 51,
     "metadata": {},
     "output_type": "execute_result"
    }
   ],
   "source": [
    "# Размер тестовой выборки\n",
    "X_test.shape"
   ]
  },
  {
   "cell_type": "code",
   "execution_count": 24,
   "metadata": {},
   "outputs": [],
   "source": [
    "# Введем функцию для подсчета метрики RMSE\n",
    "def rmse (target, predictions):\n",
    "    mse = mean_squared_error(target, predictions)\n",
    "    rmse = mse ** 0.5\n",
    "    return rmse"
   ]
  },
  {
   "cell_type": "markdown",
   "metadata": {},
   "source": [
    "<div class=\"alert alert-block alert-success\"> <b>✔️ Комментарий ревьюера ✔️</b>\n",
    "\n",
    "Верно, отличная функция\n",
    "</div>"
   ]
  },
  {
   "cell_type": "markdown",
   "metadata": {},
   "source": [
    "### Линейная регрессия"
   ]
  },
  {
   "cell_type": "code",
   "execution_count": 25,
   "metadata": {},
   "outputs": [],
   "source": [
    "lr = LinearRegression()"
   ]
  },
  {
   "cell_type": "code",
   "execution_count": 26,
   "metadata": {},
   "outputs": [
    {
     "name": "stdout",
     "output_type": "stream",
     "text": [
      "CPU times: user 77.6 ms, sys: 26.9 ms, total: 104 ms\n",
      "Wall time: 77.1 ms\n"
     ]
    },
    {
     "data": {
      "text/plain": [
       "LinearRegression()"
      ]
     },
     "execution_count": 26,
     "metadata": {},
     "output_type": "execute_result"
    }
   ],
   "source": [
    "%%time\n",
    "lr.fit(X_train, y_train)"
   ]
  },
  {
   "cell_type": "code",
   "execution_count": 27,
   "metadata": {},
   "outputs": [
    {
     "name": "stdout",
     "output_type": "stream",
     "text": [
      "CPU times: user 16.5 ms, sys: 26 ms, total: 42.5 ms\n",
      "Wall time: 78.6 ms\n"
     ]
    }
   ],
   "source": [
    "%%time\n",
    "test_prediction_lr = lr.predict(X_test)"
   ]
  },
  {
   "cell_type": "code",
   "execution_count": 28,
   "metadata": {},
   "outputs": [
    {
     "name": "stdout",
     "output_type": "stream",
     "text": [
      "RMSE: 2989.2481715463878\n"
     ]
    }
   ],
   "source": [
    "print('RMSE:', rmse(y_test, test_prediction_lr))"
   ]
  },
  {
   "cell_type": "markdown",
   "metadata": {},
   "source": [
    "Задействуем технику прямого кодирования, чтобы преобразовать категориальные признаки в численные."
   ]
  },
  {
   "cell_type": "code",
   "execution_count": 29,
   "metadata": {},
   "outputs": [],
   "source": [
    "# One-hot-encoding: получение дамми-признаков\n",
    "data_X = pd.get_dummies(data, drop_first=True)\n",
    "ohe_X = pd.get_dummies(X, drop_first=True)"
   ]
  },
  {
   "cell_type": "code",
   "execution_count": 30,
   "metadata": {},
   "outputs": [],
   "source": [
    "ohe_X_train = ohe_X.loc[X_train.index, :]\n",
    "ohe_X_test = ohe_X.loc[X_test.index, :]"
   ]
  },
  {
   "cell_type": "code",
   "execution_count": 58,
   "metadata": {},
   "outputs": [
    {
     "name": "stdout",
     "output_type": "stream",
     "text": [
      "RMSE для линейной регрессии = 2994.679323815554\n",
      "CPU times: user 586 ms, sys: 482 ms, total: 1.07 s\n",
      "Wall time: 1.01 s\n"
     ]
    }
   ],
   "source": [
    "%%time\n",
    "\n",
    "regressor = LinearRegression()\n",
    "cv_RMSE_lr = (cross_val_score(regressor, \n",
    "                             ohe_X_train, \n",
    "                             y_train, \n",
    "                             cv=5, \n",
    "                             scoring='neg_mean_squared_error').mean() * -1) ** 0.5\n",
    "print('RMSE для линейной регрессии =', cv_RMSE_lr)"
   ]
  },
  {
   "cell_type": "markdown",
   "metadata": {},
   "source": [
    "<div class=\"alert alert-block alert-warning\"> <b>⚠️ Комментарий ревьюера ⚠️</b> \n",
    "\n",
    "+ Можно поробовать улучшать результат, например, за счёт генерации новых признаков.\n",
    "+ Или использовать масштабирование или нормализацию.\n",
    "\n",
    "Вот тут описаны некоторые варианты для `LinearRegression`:\n",
    "https://www.baeldung.com/cs/normalization-vs-standardization\n",
    "\n",
    "\n",
    "</div> "
   ]
  },
  {
   "cell_type": "markdown",
   "metadata": {},
   "source": [
    "<div class=\"alert alert-block alert-success\"> <b>✔️ Комментарий студента ✔️</b>\n",
    "\n",
    "Попробую добавить масштабирование StandardScaler\n",
    "</div>"
   ]
  },
  {
   "cell_type": "code",
   "execution_count": 59,
   "metadata": {},
   "outputs": [
    {
     "name": "stdout",
     "output_type": "stream",
     "text": [
      "RMSE для линейной регрессии с масштабированием = 2994.6793238155483\n"
     ]
    }
   ],
   "source": [
    "# Линейная регрессия с масштабированием признаков\n",
    "regressor = LinearRegression()\n",
    "scaler = StandardScaler()\n",
    "pipeline = Pipeline([(\"standard_scaler\", scaler),(\"linear_regression\", regressor)])\n",
    "cv_RMSE_lr_scaled = (cross_val_score(pipeline,\n",
    "                                ohe_X_train, \n",
    "                                y_train, \n",
    "                                cv=5, \n",
    "                                scoring='neg_mean_squared_error').mean() * -1) ** 0.5\n",
    "print('RMSE для линейной регрессии с масштабированием =', cv_RMSE_lr_scaled)"
   ]
  },
  {
   "cell_type": "markdown",
   "metadata": {},
   "source": [
    "Увы, никакого улучшения работы модели при добавлении масштабирования признаков не удалось достичь."
   ]
  },
  {
   "cell_type": "markdown",
   "metadata": {},
   "source": [
    "<b>Вывод:</b> Линейная регрессия для условий данной задачи показывает низкое качество работы модели. Рассмотрим альтернативные варианты."
   ]
  },
  {
   "cell_type": "markdown",
   "metadata": {},
   "source": [
    "### Модель CatBoostRegressor"
   ]
  },
  {
   "cell_type": "code",
   "execution_count": 32,
   "metadata": {},
   "outputs": [
    {
     "name": "stdout",
     "output_type": "stream",
     "text": [
      "Learning rate set to 0.5\n",
      "0:\tlearn: 3097.4715175\ttotal: 127ms\tremaining: 1.14s\n",
      "9:\tlearn: 1768.8097282\ttotal: 954ms\tremaining: 0us\n",
      "Learning rate set to 0.5\n",
      "0:\tlearn: 3070.9055723\ttotal: 71.8ms\tremaining: 646ms\n",
      "9:\tlearn: 1751.1531804\ttotal: 687ms\tremaining: 0us\n",
      "Результат при количестве итераций = 10 : [0.83874471 0.84716794]\n",
      "\n",
      "Learning rate set to 0.5\n",
      "0:\tlearn: 3097.4715175\ttotal: 67ms\tremaining: 2.28s\n",
      "10:\tlearn: 1755.5254910\ttotal: 740ms\tremaining: 1.61s\n",
      "20:\tlearn: 1654.1096439\ttotal: 1.41s\tremaining: 941ms\n",
      "30:\tlearn: 1597.1619216\ttotal: 2.07s\tremaining: 267ms\n",
      "34:\tlearn: 1577.0831117\ttotal: 2.33s\tremaining: 0us\n",
      "Learning rate set to 0.5\n",
      "0:\tlearn: 3070.9055723\ttotal: 70.4ms\tremaining: 2.39s\n",
      "10:\tlearn: 1740.6178534\ttotal: 825ms\tremaining: 1.8s\n",
      "20:\tlearn: 1652.2767595\ttotal: 1.49s\tremaining: 990ms\n",
      "30:\tlearn: 1592.3632787\ttotal: 2.16s\tremaining: 279ms\n",
      "34:\tlearn: 1569.5115861\ttotal: 2.44s\tremaining: 0us\n",
      "Результат при количестве итераций = 35 : [0.85702153 0.86255189]\n",
      "\n",
      "Learning rate set to 0.5\n",
      "0:\tlearn: 3097.4715175\ttotal: 83.6ms\tremaining: 4.93s\n",
      "10:\tlearn: 1755.5254910\ttotal: 778ms\tremaining: 3.47s\n",
      "20:\tlearn: 1654.1096439\ttotal: 1.45s\tremaining: 2.7s\n",
      "30:\tlearn: 1597.1619216\ttotal: 2.13s\tremaining: 1.99s\n",
      "40:\tlearn: 1548.0607205\ttotal: 2.78s\tremaining: 1.29s\n",
      "50:\tlearn: 1510.4413504\ttotal: 3.43s\tremaining: 606ms\n",
      "59:\tlearn: 1479.9747191\ttotal: 4.01s\tremaining: 0us\n",
      "Learning rate set to 0.5\n",
      "0:\tlearn: 3070.9055723\ttotal: 68.8ms\tremaining: 4.06s\n",
      "10:\tlearn: 1740.6178534\ttotal: 732ms\tremaining: 3.26s\n",
      "20:\tlearn: 1652.2767595\ttotal: 1.37s\tremaining: 2.55s\n",
      "30:\tlearn: 1592.3632787\ttotal: 2.05s\tremaining: 1.92s\n",
      "40:\tlearn: 1540.2003117\ttotal: 2.8s\tremaining: 1.3s\n",
      "50:\tlearn: 1495.4558394\ttotal: 3.44s\tremaining: 607ms\n",
      "59:\tlearn: 1467.6764751\ttotal: 4.06s\tremaining: 0us\n",
      "Результат при количестве итераций = 60 : [0.86178762 0.86633767]\n",
      "\n",
      "Learning rate set to 0.5\n",
      "0:\tlearn: 3097.4715175\ttotal: 68.4ms\tremaining: 5.75s\n",
      "10:\tlearn: 1755.5254910\ttotal: 756ms\tremaining: 5.09s\n",
      "20:\tlearn: 1654.1096439\ttotal: 1.45s\tremaining: 4.41s\n",
      "30:\tlearn: 1597.1619216\ttotal: 2.1s\tremaining: 3.66s\n",
      "40:\tlearn: 1548.0607205\ttotal: 2.76s\tremaining: 2.96s\n",
      "50:\tlearn: 1510.4413504\ttotal: 3.42s\tremaining: 2.28s\n",
      "60:\tlearn: 1474.0026916\ttotal: 4.08s\tremaining: 1.6s\n",
      "70:\tlearn: 1439.4517372\ttotal: 4.71s\tremaining: 928ms\n",
      "80:\tlearn: 1412.9660741\ttotal: 5.35s\tremaining: 264ms\n",
      "84:\tlearn: 1403.8487348\ttotal: 5.62s\tremaining: 0us\n",
      "Learning rate set to 0.5\n",
      "0:\tlearn: 3070.9055723\ttotal: 68.3ms\tremaining: 5.73s\n",
      "10:\tlearn: 1740.6178534\ttotal: 787ms\tremaining: 5.3s\n",
      "20:\tlearn: 1652.2767595\ttotal: 1.51s\tremaining: 4.59s\n",
      "30:\tlearn: 1592.3632787\ttotal: 2.16s\tremaining: 3.77s\n",
      "40:\tlearn: 1540.2003117\ttotal: 2.83s\tremaining: 3.04s\n",
      "50:\tlearn: 1495.4558394\ttotal: 3.49s\tremaining: 2.33s\n",
      "60:\tlearn: 1463.7198858\ttotal: 4.17s\tremaining: 1.64s\n",
      "70:\tlearn: 1436.6803760\ttotal: 4.83s\tremaining: 953ms\n",
      "80:\tlearn: 1413.7023938\ttotal: 5.53s\tremaining: 273ms\n",
      "84:\tlearn: 1405.2135488\ttotal: 5.83s\tremaining: 0us\n",
      "Результат при количестве итераций = 85 : [0.86434422 0.86780029]\n",
      "\n",
      "Learning rate set to 0.5\n",
      "0:\tlearn: 3097.4715175\ttotal: 80.9ms\tremaining: 8.82s\n",
      "10:\tlearn: 1755.5254910\ttotal: 797ms\tremaining: 7.17s\n",
      "20:\tlearn: 1654.1096439\ttotal: 1.47s\tremaining: 6.22s\n",
      "30:\tlearn: 1597.1619216\ttotal: 2.13s\tremaining: 5.44s\n",
      "40:\tlearn: 1548.0607205\ttotal: 2.79s\tremaining: 4.7s\n",
      "50:\tlearn: 1510.4413504\ttotal: 3.47s\tremaining: 4.01s\n",
      "60:\tlearn: 1474.0026916\ttotal: 4.23s\tremaining: 3.4s\n",
      "70:\tlearn: 1439.4517372\ttotal: 4.91s\tremaining: 2.7s\n",
      "80:\tlearn: 1412.9660741\ttotal: 5.56s\tremaining: 1.99s\n",
      "90:\tlearn: 1389.7029726\ttotal: 6.23s\tremaining: 1.3s\n",
      "100:\tlearn: 1362.6801340\ttotal: 6.9s\tremaining: 615ms\n",
      "109:\tlearn: 1343.0794179\ttotal: 7.5s\tremaining: 0us\n",
      "Learning rate set to 0.5\n",
      "0:\tlearn: 3070.9055723\ttotal: 70.9ms\tremaining: 7.73s\n",
      "10:\tlearn: 1740.6178534\ttotal: 830ms\tremaining: 7.47s\n",
      "20:\tlearn: 1652.2767595\ttotal: 1.5s\tremaining: 6.35s\n",
      "30:\tlearn: 1592.3632787\ttotal: 2.14s\tremaining: 5.46s\n",
      "40:\tlearn: 1540.2003117\ttotal: 2.82s\tremaining: 4.75s\n",
      "50:\tlearn: 1495.4558394\ttotal: 3.47s\tremaining: 4.01s\n",
      "60:\tlearn: 1463.7198858\ttotal: 4.11s\tremaining: 3.3s\n",
      "70:\tlearn: 1436.6803760\ttotal: 4.77s\tremaining: 2.62s\n",
      "80:\tlearn: 1413.7023938\ttotal: 5.38s\tremaining: 1.93s\n",
      "90:\tlearn: 1390.0497101\ttotal: 6.16s\tremaining: 1.29s\n",
      "100:\tlearn: 1367.8726727\ttotal: 6.82s\tremaining: 608ms\n",
      "109:\tlearn: 1347.7335108\ttotal: 7.4s\tremaining: 0us\n",
      "Результат при количестве итераций = 110 : [0.8652763 0.8687633]\n",
      "\n"
     ]
    }
   ],
   "source": [
    "# Построим модель CatBoostRegressor с перебором гиперпараметра iterations с помощью кросс-валидации\n",
    "for iteration in range(10, 111, 25):\n",
    "    cbr_model = (CatBoostRegressor(loss_function=\"RMSE\", iterations=iteration, depth=10, \n",
    "                                   verbose=10, cat_features=cat_columns))\n",
    "    cbr_cv = cross_val_score(cbr_model, X_train, y_train, cv=2)\n",
    "    print(\"Результат при количестве итераций =\", iteration, \":\", cbr_cv)\n",
    "    print()"
   ]
  },
  {
   "cell_type": "markdown",
   "metadata": {},
   "source": [
    "<div class=\"alert alert-block alert-success\"> <b>✔️ Комментарий ревьюера ✔️</b>\n",
    "\n",
    "+ Очень круто, что используешь кросс-валидацию.\n",
    "+ Выводишь всю важную информацию👍\n",
    "\n",
    "</div>"
   ]
  },
  {
   "cell_type": "code",
   "execution_count": 33,
   "metadata": {},
   "outputs": [
    {
     "name": "stdout",
     "output_type": "stream",
     "text": [
      "Learning rate set to 0.5\n",
      "0:\tlearn: 3235.2309423\ttotal: 36.8ms\tremaining: 699ms\n",
      "10:\tlearn: 1948.7188830\ttotal: 368ms\tremaining: 301ms\n",
      "19:\tlearn: 1858.6333627\ttotal: 670ms\tremaining: 0us\n",
      "Learning rate set to 0.5\n",
      "0:\tlearn: 3237.9901602\ttotal: 35.8ms\tremaining: 680ms\n",
      "10:\tlearn: 1962.3859994\ttotal: 356ms\tremaining: 291ms\n",
      "19:\tlearn: 1875.6171508\ttotal: 637ms\tremaining: 0us\n",
      "Результат при depth = 5 : [0.82908607 0.83279937]\n",
      "Результат = 0.830942718530951\n",
      "\n",
      "Learning rate set to 0.5\n",
      "0:\tlearn: 3153.4442266\ttotal: 65.1ms\tremaining: 1.24s\n",
      "10:\tlearn: 1867.2887489\ttotal: 495ms\tremaining: 405ms\n",
      "19:\tlearn: 1781.2619312\ttotal: 889ms\tremaining: 0us\n",
      "Learning rate set to 0.5\n",
      "0:\tlearn: 3143.4591079\ttotal: 43.4ms\tremaining: 824ms\n",
      "10:\tlearn: 1876.5845990\ttotal: 528ms\tremaining: 432ms\n",
      "19:\tlearn: 1791.5382959\ttotal: 887ms\tremaining: 0us\n",
      "Результат при depth = 7 : [0.8407778 0.8440935]\n",
      "Результат = 0.8424356477252724\n",
      "\n",
      "Learning rate set to 0.5\n",
      "0:\tlearn: 3124.4850389\ttotal: 60.9ms\tremaining: 1.16s\n",
      "10:\tlearn: 1788.5277858\ttotal: 659ms\tremaining: 539ms\n",
      "19:\tlearn: 1708.1980553\ttotal: 1.22s\tremaining: 0us\n",
      "Learning rate set to 0.5\n",
      "0:\tlearn: 3084.9931473\ttotal: 56.2ms\tremaining: 1.07s\n",
      "10:\tlearn: 1795.9907366\ttotal: 601ms\tremaining: 492ms\n",
      "19:\tlearn: 1718.7414971\ttotal: 1.11s\tremaining: 0us\n",
      "Результат при depth = 9 : [0.84890879 0.85146095]\n",
      "Результат = 0.8501848732703575\n",
      "\n",
      "Learning rate set to 0.5\n",
      "0:\tlearn: 3086.3862784\ttotal: 97.1ms\tremaining: 1.84s\n",
      "10:\tlearn: 1716.7078691\ttotal: 966ms\tremaining: 790ms\n",
      "19:\tlearn: 1623.4006778\ttotal: 1.73s\tremaining: 0us\n",
      "Learning rate set to 0.5\n",
      "0:\tlearn: 3034.7047445\ttotal: 96.8ms\tremaining: 1.84s\n",
      "10:\tlearn: 1741.1047812\ttotal: 959ms\tremaining: 784ms\n",
      "19:\tlearn: 1636.8730133\ttotal: 1.71s\tremaining: 0us\n",
      "Результат при depth = 11 : [0.85401808 0.85632871]\n",
      "Результат = 0.8551733955150909\n",
      "\n",
      "Learning rate set to 0.5\n",
      "0:\tlearn: 3071.0593797\ttotal: 187ms\tremaining: 3.56s\n",
      "10:\tlearn: 1629.6266248\ttotal: 2.11s\tremaining: 1.73s\n",
      "19:\tlearn: 1528.2812195\ttotal: 3.67s\tremaining: 0us\n",
      "Learning rate set to 0.5\n",
      "0:\tlearn: 3030.9323058\ttotal: 179ms\tremaining: 3.4s\n",
      "10:\tlearn: 1651.0714873\ttotal: 2.09s\tremaining: 1.71s\n",
      "19:\tlearn: 1534.6486694\ttotal: 3.83s\tremaining: 0us\n",
      "Результат при depth = 13 : [0.85459501 0.85856326]\n",
      "Результат = 0.8565791344494542\n",
      "\n",
      "Learning rate set to 0.5\n",
      "0:\tlearn: 3039.9258050\ttotal: 782ms\tremaining: 14.9s\n",
      "10:\tlearn: 1561.3395639\ttotal: 8.3s\tremaining: 6.79s\n",
      "19:\tlearn: 1424.4562833\ttotal: 15.6s\tremaining: 0us\n",
      "Learning rate set to 0.5\n",
      "0:\tlearn: 3001.1193654\ttotal: 828ms\tremaining: 15.7s\n",
      "10:\tlearn: 1572.8483944\ttotal: 9.28s\tremaining: 7.59s\n",
      "19:\tlearn: 1419.7618679\ttotal: 16.7s\tremaining: 0us\n",
      "Результат при depth = 15 : [0.8559066  0.85929586]\n",
      "Результат = 0.8576012311746285\n",
      "\n"
     ]
    }
   ],
   "source": [
    "# Исследуем работу модели с различными значениями гиперпараметра depth\n",
    "for depth in range(5, 16, 2):\n",
    "    cbr_model = CatBoostRegressor(loss_function=\"RMSE\", iterations=20, depth=depth, verbose=10, cat_features=cat_columns)\n",
    "    cbr_cv = cross_val_score(cbr_model, X_train, y_train, cv=2)\n",
    "    print(\"Результат при depth =\", depth, \":\", cbr_cv)\n",
    "    print(\"Результат =\", sum(cbr_cv)/len(cbr_cv))\n",
    "    print()"
   ]
  },
  {
   "cell_type": "markdown",
   "metadata": {},
   "source": [
    "Качество кросс-валидации растет при увеличении количества итераций до порогового значения iterations, равного 85. Выберем оптимальный вариант с числом iterations 85. При изменении глубины depth прослеживается аналогичная тенденция, которая теряет положительную динамику после достижения глубины 13. Такие параметры, вероятно, увеличат время обучения. Проверим это, обучив модель с выбранными оптимальными параметрами: iterations = 85 и depth = 13."
   ]
  },
  {
   "cell_type": "code",
   "execution_count": 34,
   "metadata": {},
   "outputs": [],
   "source": [
    "cbr_selected = CatBoostRegressor(loss_function=\"RMSE\", iterations=85, depth=13, verbose=10)"
   ]
  },
  {
   "cell_type": "code",
   "execution_count": 35,
   "metadata": {},
   "outputs": [
    {
     "name": "stdout",
     "output_type": "stream",
     "text": [
      "Learning rate set to 0.5\n",
      "0:\tlearn: 3028.4420061\ttotal: 259ms\tremaining: 21.8s\n",
      "10:\tlearn: 1671.2542211\ttotal: 2.89s\tremaining: 19.4s\n",
      "20:\tlearn: 1573.9906359\ttotal: 5.5s\tremaining: 16.8s\n",
      "30:\tlearn: 1525.0474275\ttotal: 7.71s\tremaining: 13.4s\n",
      "40:\tlearn: 1447.3408600\ttotal: 10.5s\tremaining: 11.3s\n",
      "50:\tlearn: 1393.4766287\ttotal: 13.5s\tremaining: 8.98s\n",
      "60:\tlearn: 1348.5861747\ttotal: 16.4s\tremaining: 6.44s\n",
      "70:\tlearn: 1316.4869625\ttotal: 19.1s\tremaining: 3.77s\n",
      "80:\tlearn: 1286.6661858\ttotal: 21.9s\tremaining: 1.08s\n",
      "84:\tlearn: 1273.2380910\ttotal: 23s\tremaining: 0us\n",
      "CPU times: user 23.1 s, sys: 130 ms, total: 23.3 s\n",
      "Wall time: 23.9 s\n"
     ]
    },
    {
     "data": {
      "text/plain": [
       "<catboost.core.CatBoostRegressor at 0x7fe72d6d3190>"
      ]
     },
     "execution_count": 35,
     "metadata": {},
     "output_type": "execute_result"
    }
   ],
   "source": [
    "%%time\n",
    "cbr_selected.fit(X_train, y_train, cat_features=cat_columns)"
   ]
  },
  {
   "cell_type": "code",
   "execution_count": 36,
   "metadata": {},
   "outputs": [
    {
     "name": "stdout",
     "output_type": "stream",
     "text": [
      "CPU times: user 166 ms, sys: 0 ns, total: 166 ms\n",
      "Wall time: 166 ms\n"
     ]
    }
   ],
   "source": [
    "%%time\n",
    "predicted_cbr_selected = pd.Series(cbr_selected.predict(X_test))"
   ]
  },
  {
   "cell_type": "code",
   "execution_count": 37,
   "metadata": {},
   "outputs": [
    {
     "data": {
      "text/plain": [
       "1604.029121060848"
      ]
     },
     "execution_count": 37,
     "metadata": {},
     "output_type": "execute_result"
    }
   ],
   "source": [
    "rmse(y_test, predicted_cbr_selected)"
   ]
  },
  {
   "cell_type": "markdown",
   "metadata": {},
   "source": [
    "<b>Вывод</b>: Качество предсказания модели CatBoost удовлетворяет заданным условиям. RMSE = 1604. Время работы модели - примерно 23 секунды."
   ]
  },
  {
   "cell_type": "markdown",
   "metadata": {},
   "source": [
    "<div class=\"alert alert-block alert-success\"> <b>✔️ Комментарий ревьюера ✔️</b>\n",
    "\n",
    "Отличный результат! \n",
    "</div>"
   ]
  },
  {
   "cell_type": "markdown",
   "metadata": {},
   "source": [
    "### Модель LightGBM"
   ]
  },
  {
   "cell_type": "code",
   "execution_count": 38,
   "metadata": {},
   "outputs": [],
   "source": [
    "params = {\n",
    "    'num_leaves': 30, \n",
    "    'learning_rate': 0.5,\n",
    "    'random_state':[12345],\n",
    "    'boosting_type': 'gbdt',\n",
    "    'objective': 'regression',\n",
    "    'metric': 'rmse',\n",
    "    'max_depth': 6, \n",
    "    'verbose': 0\n",
    "}"
   ]
  },
  {
   "cell_type": "code",
   "execution_count": 39,
   "metadata": {},
   "outputs": [],
   "source": [
    "lgbm_model = LGBMRegressor(**params)"
   ]
  },
  {
   "cell_type": "code",
   "execution_count": 40,
   "metadata": {},
   "outputs": [
    {
     "name": "stdout",
     "output_type": "stream",
     "text": [
      "[LightGBM] [Warning] Auto-choosing col-wise multi-threading, the overhead of testing was 0.096835 seconds.\n",
      "You can set `force_col_wise=true` to remove the overhead.\n",
      "[LightGBM] [Warning] No further splits with positive gain, best gain: -inf\n",
      "[LightGBM] [Warning] No further splits with positive gain, best gain: -inf\n",
      "[LightGBM] [Warning] No further splits with positive gain, best gain: -inf\n",
      "[LightGBM] [Warning] No further splits with positive gain, best gain: -inf\n",
      "[LightGBM] [Warning] No further splits with positive gain, best gain: -inf\n",
      "[LightGBM] [Warning] No further splits with positive gain, best gain: -inf\n",
      "CPU times: user 6.77 s, sys: 2.38 ms, total: 6.78 s\n",
      "Wall time: 6.8 s\n"
     ]
    },
    {
     "data": {
      "text/plain": [
       "LGBMRegressor(learning_rate=0.5, max_depth=6, metric='rmse', num_leaves=30,\n",
       "              objective='regression', random_state=[12345], verbose=0)"
      ]
     },
     "execution_count": 40,
     "metadata": {},
     "output_type": "execute_result"
    }
   ],
   "source": [
    "%%time\n",
    "lgbm_model.fit(X_train, y_train)"
   ]
  },
  {
   "cell_type": "code",
   "execution_count": 41,
   "metadata": {},
   "outputs": [
    {
     "name": "stdout",
     "output_type": "stream",
     "text": [
      "CPU times: user 560 ms, sys: 0 ns, total: 560 ms\n",
      "Wall time: 598 ms\n"
     ]
    }
   ],
   "source": [
    "%%time\n",
    "predictions_lgbm = lgbm_model.predict(X_test)"
   ]
  },
  {
   "cell_type": "code",
   "execution_count": 42,
   "metadata": {},
   "outputs": [
    {
     "data": {
      "text/plain": [
       "1649.923344906405"
      ]
     },
     "execution_count": 42,
     "metadata": {},
     "output_type": "execute_result"
    }
   ],
   "source": [
    "rmse(y_test, predictions_lgbm)"
   ]
  },
  {
   "cell_type": "markdown",
   "metadata": {},
   "source": [
    "<b>Вывод</b>: Качество предсказания модели LightGBM при выбранных гиперпараметрах (количество листьев - 30, максимальная глубина - 6, скорость обучения - 0.5) удовлетворяет заданным условиям: RMSE = 1650. Время работы модели - всего 7 секунд."
   ]
  },
  {
   "cell_type": "markdown",
   "metadata": {},
   "source": [
    "<div class=\"alert alert-block alert-success\"> <b>✔️ Комментарий ревьюера ✔️</b>\n",
    "\n",
    "Кстати, модель `LightGBM` не чувствительна к масштабу признаков, так как использует деревья решений\n",
    "</div>"
   ]
  },
  {
   "cell_type": "markdown",
   "metadata": {},
   "source": [
    "### Модель DecisionTreeRegressor"
   ]
  },
  {
   "cell_type": "code",
   "execution_count": 43,
   "metadata": {},
   "outputs": [
    {
     "name": "stdout",
     "output_type": "stream",
     "text": [
      "Оптимальные параметры:\n",
      "\n",
      "{'criterion': 'mse', 'max_depth': 13, 'random_state': 12345}\n",
      "CPU times: user 50.4 s, sys: 62.9 ms, total: 50.5 s\n",
      "Wall time: 50.6 s\n"
     ]
    }
   ],
   "source": [
    "%%time\n",
    "\n",
    "regressor = DecisionTreeRegressor() \n",
    "max_depth_list = [x for x in range(2, 20)]\n",
    "hyperparams = [{'criterion':['mse'], \n",
    "                'max_depth':max_depth_list, \n",
    "                'random_state':[12345]}]\n",
    "\n",
    "clf = GridSearchCV(regressor, hyperparams, scoring='neg_mean_squared_error')\n",
    "clf.fit(ohe_X_train, y_train)\n",
    "print(\"Оптимальные параметры:\")\n",
    "print()\n",
    "print(clf.best_params_)"
   ]
  },
  {
   "cell_type": "markdown",
   "metadata": {},
   "source": [
    "Обучим модель решающего дерева на найденных оптимальных параметрах"
   ]
  },
  {
   "cell_type": "code",
   "execution_count": 44,
   "metadata": {},
   "outputs": [],
   "source": [
    "dtr_selected = DecisionTreeRegressor(max_depth=12, random_state=12345)"
   ]
  },
  {
   "cell_type": "code",
   "execution_count": 45,
   "metadata": {},
   "outputs": [
    {
     "name": "stdout",
     "output_type": "stream",
     "text": [
      "CPU times: user 817 ms, sys: 4.36 ms, total: 822 ms\n",
      "Wall time: 821 ms\n"
     ]
    },
    {
     "data": {
      "text/plain": [
       "DecisionTreeRegressor(max_depth=12, random_state=12345)"
      ]
     },
     "execution_count": 45,
     "metadata": {},
     "output_type": "execute_result"
    }
   ],
   "source": [
    "%%time\n",
    "dtr_selected.fit(X_train, y_train)"
   ]
  },
  {
   "cell_type": "code",
   "execution_count": 46,
   "metadata": {},
   "outputs": [
    {
     "name": "stdout",
     "output_type": "stream",
     "text": [
      "CPU times: user 16.5 ms, sys: 37 µs, total: 16.5 ms\n",
      "Wall time: 14.5 ms\n"
     ]
    }
   ],
   "source": [
    "%%time\n",
    "predictions_dtr = dtr_selected.predict(X_test)"
   ]
  },
  {
   "cell_type": "code",
   "execution_count": 47,
   "metadata": {},
   "outputs": [
    {
     "data": {
      "text/plain": [
       "1914.6856366668765"
      ]
     },
     "execution_count": 47,
     "metadata": {},
     "output_type": "execute_result"
    }
   ],
   "source": [
    "rmse(y_test, predictions_dtr)"
   ]
  },
  {
   "cell_type": "markdown",
   "metadata": {},
   "source": [
    "<b>Вывод:</b> Модель решающего дерева показывает допустимое, но не достаточно высокое качество предсказания: RMSE=1914. Скорость при этом стремительная."
   ]
  },
  {
   "cell_type": "markdown",
   "metadata": {},
   "source": [
    "<div class=\"alert alert-block alert-success\"> <b>✔️ Комментарий ревьюера ✔️</b>\n",
    "\n",
    "Да, верно. А ещё результаты бывает сложно анализировать, если дерево графически построить.\n",
    "    \n",
    "Внизу есть примеры результата деревьев: https://mipt-stats.gitlab.io/courses/ad_fivt/trees.html\n",
    "</div>"
   ]
  },
  {
   "cell_type": "markdown",
   "metadata": {},
   "source": [
    "## Анализ моделей"
   ]
  },
  {
   "cell_type": "markdown",
   "metadata": {},
   "source": [
    "Сравним результаты работы рассмотренных моделей"
   ]
  },
  {
   "cell_type": "code",
   "execution_count": 52,
   "metadata": {},
   "outputs": [
    {
     "data": {
      "text/html": [
       "<div>\n",
       "<style scoped>\n",
       "    .dataframe tbody tr th:only-of-type {\n",
       "        vertical-align: middle;\n",
       "    }\n",
       "\n",
       "    .dataframe tbody tr th {\n",
       "        vertical-align: top;\n",
       "    }\n",
       "\n",
       "    .dataframe thead th {\n",
       "        text-align: right;\n",
       "    }\n",
       "</style>\n",
       "<table border=\"1\" class=\"dataframe\">\n",
       "  <thead>\n",
       "    <tr style=\"text-align: right;\">\n",
       "      <th></th>\n",
       "      <th>model</th>\n",
       "      <th>train, sec</th>\n",
       "      <th>predict, msec</th>\n",
       "      <th>rmse</th>\n",
       "    </tr>\n",
       "  </thead>\n",
       "  <tbody>\n",
       "    <tr>\n",
       "      <th>0</th>\n",
       "      <td>LR</td>\n",
       "      <td>0.08</td>\n",
       "      <td>79</td>\n",
       "      <td>2989</td>\n",
       "    </tr>\n",
       "    <tr>\n",
       "      <th>1</th>\n",
       "      <td>CBR</td>\n",
       "      <td>23.00</td>\n",
       "      <td>166</td>\n",
       "      <td>1604</td>\n",
       "    </tr>\n",
       "    <tr>\n",
       "      <th>2</th>\n",
       "      <td>LGBM</td>\n",
       "      <td>7.00</td>\n",
       "      <td>598</td>\n",
       "      <td>1650</td>\n",
       "    </tr>\n",
       "    <tr>\n",
       "      <th>3</th>\n",
       "      <td>DTR</td>\n",
       "      <td>0.80</td>\n",
       "      <td>15</td>\n",
       "      <td>1914</td>\n",
       "    </tr>\n",
       "  </tbody>\n",
       "</table>\n",
       "</div>"
      ],
      "text/plain": [
       "  model  train, sec  predict, msec  rmse\n",
       "0    LR        0.08             79  2989\n",
       "1   CBR       23.00            166  1604\n",
       "2  LGBM        7.00            598  1650\n",
       "3   DTR        0.80             15  1914"
      ]
     },
     "execution_count": 52,
     "metadata": {},
     "output_type": "execute_result"
    }
   ],
   "source": [
    "models = [['LR', 0.08, 79, 2989], ['CBR', 23, 166, 1604], \n",
    "       ['LGBM', 7, 598, 1650], ['DTR', 0.8, 15, 1914]] \n",
    "    \n",
    "models_check = pd.DataFrame(models, columns =['model', 'train, sec', 'predict, msec', 'rmse']) \n",
    "models_check "
   ]
  },
  {
   "cell_type": "markdown",
   "metadata": {},
   "source": [
    "На рассмотренных моделях по метрике RMSE надежнее всего себя показали модели CatBoostRegressor и LightGBM. Первая точнее, но медленнее. Быстрее всего работает модель линейной регресии, но ее точность оставляет желать лучшего. Модель решающего дерева работает не с самым высоким качеством, но удовлетворяет допустимому уровню точности прогноза, при этом модель работает стремительно."
   ]
  },
  {
   "cell_type": "markdown",
   "metadata": {},
   "source": [
    "<div class=\"alert alert-block alert-success\"> <b>✔️ Комментарий ревьюера ✔️</b>\n",
    "\n",
    "Отлично, все результаты и вывод на месте. \n",
    "</div>"
   ]
  },
  {
   "cell_type": "markdown",
   "metadata": {},
   "source": [
    "## Выводы"
   ]
  },
  {
   "cell_type": "markdown",
   "metadata": {},
   "source": [
    "Для реализации проекта была проведена предобработка данных:\n",
    "- удалены дубликаты\n",
    "- пропуски заполнены самым частотным значением признаков\n",
    "- удалены аномалии для данных с годом регистрации до 1900 и позднее 2016 года\n",
    "- нулевые показатели мощности заменены медианными значениями признака по каждой модели\n",
    "- нулевые значения месяца регистрации заменены самым частотным месяцем - 01\n",
    "- отсечены аномальные данные с ценой ниже 10 евро, а также колонки с количеством фотографий (которое везде нулевое)\n",
    "\n",
    "Для решения целей проекта были обучены следующие модели с подбором оптимальных гиперпараметров:\n",
    "- Линейная регрессия (RMSE = 2989)\n",
    "- Модель CatBoostRegressor (RMSE = 1604)\n",
    "- Модель LightGBM (RMSE = 1650)\n",
    "- Модель DecisionTreeRegressor (RMSE = 1914)\n",
    "\n",
    "Была проанализирована скорость работы и качество моделей:\n",
    "\n",
    "* Исходя из требований к качеству и скорости предсказания, а также времени обучения, оптимальным сочетанием гиперпараметров для самой успешной модели CatBoostRegressor будет iterations=85, depth=13, learning rate = 0.5."
   ]
  },
  {
   "cell_type": "markdown",
   "metadata": {},
   "source": [
    "<div class=\"alert alert-block alert-success\"> <b>✔️ Комментарий ревьюера ✔️</b>\n",
    "\n",
    "Отличное итоговое резюме по проекту 👍\n",
    "</div>"
   ]
  },
  {
   "cell_type": "markdown",
   "metadata": {},
   "source": [
    "<div class=\"alert alert-block alert-success\"> <b>✔️ Комментарий студента ✔️</b>\n",
    "\n",
    "Оля, спасибо за важные советы. После дополнительной обработки исходных данных модели показали еще более высокое качество прогнозов.</div>"
   ]
  },
  {
   "cell_type": "markdown",
   "metadata": {},
   "source": [
    "## Чек-лист проверки"
   ]
  },
  {
   "cell_type": "markdown",
   "metadata": {},
   "source": [
    "Поставьте 'x' в выполненных пунктах. Далее нажмите Shift+Enter."
   ]
  },
  {
   "cell_type": "markdown",
   "metadata": {},
   "source": [
    "- [x]  Jupyter Notebook открыт\n",
    "- [x]  Весь код выполняется без ошибок\n",
    "- [x]  Ячейки с кодом расположены в порядке исполнения\n",
    "- [x]  Выполнена загрузка и подготовка данных\n",
    "- [x]  Выполнено обучение моделей\n",
    "- [x]  Есть анализ скорости работы и качества моделей"
   ]
  },
  {
   "cell_type": "markdown",
   "metadata": {},
   "source": [
    "<div  style=\"background-color: aliceblue; border-left: 7px solid blue; padding: 15px; \">\n",
    "<b> <font color='blue' > ✔️Ревью: заключительный комментарий ✔️</font></b> \n",
    "    \n",
    "    \n",
    "Получился хороший проект! Проделана огромная работа. Твое исследование признаков, соответсвует цели задачи. Выводы логичны и обоснованы. Верно разделены выборки, выполнена кросс-валидация👍. Выполнено отличное обучение моделей. Рассмотрено несколько моделей обучения. Выполнен анализ моделей. Проект структурирован, всё по шагам. \n",
    "\n",
    "от ещё несколько полезных ресурсов: \n",
    "    \n",
    "\n",
    "1) Русский канал чувака, который понятным языком объясняет не только ML, но и математику и кучу всего другого, очень рекомендую: https://www.youtube.com/watch?v=ZpYj02xMImc&list=PLA0M1Bcd0w8zxDIDOTQHsX68MCDOAJDtj\n",
    "\n",
    "+ инфо-сайт автора: https://proproprogs.ru/ml\n",
    "    \n",
    "2)Английский канал, тоже классный интерактивный, много чего полезного можно узнать: https://www.youtube.com/c/3blue1brown/featured\n",
    "\n",
    "3)В нашем деле нужно быть всегда в курсе всех новинок, новостей и тд, вот тут публикуют новости в области DS: https://www.infoq.com/data-analysis/news/\n",
    "    \n",
    "Почти у цели. Жду тетрадку на повторное ревью. Еслиу тебя остались вопросы - дай знать 😎\n",
    "    \n",
    "Удачи!\n",
    "\n",
    "<div> "
   ]
  },
  {
   "cell_type": "code",
   "execution_count": null,
   "metadata": {},
   "outputs": [],
   "source": []
  }
 ],
 "metadata": {
  "ExecuteTimeLog": [
   {
    "duration": 1547,
    "start_time": "2022-06-25T14:54:23.423Z"
   },
   {
    "duration": 1040,
    "start_time": "2022-06-25T15:00:46.697Z"
   },
   {
    "duration": 112,
    "start_time": "2022-06-25T15:01:49.679Z"
   },
   {
    "duration": 4,
    "start_time": "2022-06-25T15:01:57.080Z"
   },
   {
    "duration": 201,
    "start_time": "2022-06-25T15:02:02.628Z"
   },
   {
    "duration": 137,
    "start_time": "2022-06-25T15:02:21.574Z"
   },
   {
    "duration": 131,
    "start_time": "2022-06-25T15:10:09.946Z"
   },
   {
    "duration": 3,
    "start_time": "2022-06-25T15:12:57.693Z"
   },
   {
    "duration": 14,
    "start_time": "2022-06-25T15:38:11.411Z"
   },
   {
    "duration": 11,
    "start_time": "2022-06-25T15:38:16.909Z"
   },
   {
    "duration": 510,
    "start_time": "2022-06-25T15:38:23.036Z"
   },
   {
    "duration": 490,
    "start_time": "2022-06-25T15:38:28.758Z"
   },
   {
    "duration": 30,
    "start_time": "2022-06-25T15:40:12.370Z"
   },
   {
    "duration": 5884,
    "start_time": "2022-06-25T15:41:36.500Z"
   },
   {
    "duration": 173,
    "start_time": "2022-06-25T15:54:46.376Z"
   },
   {
    "duration": 137,
    "start_time": "2022-06-25T15:54:59.702Z"
   },
   {
    "duration": 171,
    "start_time": "2022-06-25T15:55:39.135Z"
   },
   {
    "duration": 525,
    "start_time": "2022-06-25T15:56:41.026Z"
   },
   {
    "duration": 491,
    "start_time": "2022-06-25T15:56:44.704Z"
   },
   {
    "duration": 5,
    "start_time": "2022-06-25T16:01:45.748Z"
   },
   {
    "duration": 583,
    "start_time": "2022-06-25T16:02:42.349Z"
   },
   {
    "duration": 19,
    "start_time": "2022-06-25T16:04:31.701Z"
   },
   {
    "duration": 312,
    "start_time": "2022-06-25T16:04:40.882Z"
   },
   {
    "duration": 11,
    "start_time": "2022-06-25T16:19:22.980Z"
   },
   {
    "duration": 28,
    "start_time": "2022-06-25T16:19:29.923Z"
   },
   {
    "duration": 12,
    "start_time": "2022-06-25T16:19:33.461Z"
   },
   {
    "duration": 15,
    "start_time": "2022-06-25T16:19:58.934Z"
   },
   {
    "duration": 25,
    "start_time": "2022-06-25T16:20:23.043Z"
   },
   {
    "duration": 1965,
    "start_time": "2022-06-25T16:20:32.345Z"
   },
   {
    "duration": 1989,
    "start_time": "2022-06-25T16:21:22.276Z"
   },
   {
    "duration": 126,
    "start_time": "2022-06-25T16:23:25.061Z"
   },
   {
    "duration": 58,
    "start_time": "2022-06-25T16:23:40.851Z"
   },
   {
    "duration": 19,
    "start_time": "2022-06-25T16:23:53.086Z"
   },
   {
    "duration": 150,
    "start_time": "2022-06-25T16:24:19.120Z"
   },
   {
    "duration": 145,
    "start_time": "2022-06-25T16:24:49.131Z"
   },
   {
    "duration": 197,
    "start_time": "2022-06-25T16:31:29.243Z"
   },
   {
    "duration": 1488,
    "start_time": "2022-06-26T06:51:13.083Z"
   },
   {
    "duration": 1070,
    "start_time": "2022-06-26T06:51:14.573Z"
   },
   {
    "duration": 138,
    "start_time": "2022-06-26T06:51:15.645Z"
   },
   {
    "duration": 439,
    "start_time": "2022-06-26T06:51:15.785Z"
   },
   {
    "duration": 526,
    "start_time": "2022-06-26T06:51:16.226Z"
   },
   {
    "duration": 117,
    "start_time": "2022-06-26T06:51:16.754Z"
   },
   {
    "duration": 161,
    "start_time": "2022-06-26T06:51:16.873Z"
   },
   {
    "duration": 195,
    "start_time": "2022-06-26T06:51:17.036Z"
   },
   {
    "duration": 1447,
    "start_time": "2022-06-26T06:51:17.233Z"
   },
   {
    "duration": 157,
    "start_time": "2022-06-26T07:51:24.051Z"
   },
   {
    "duration": 111,
    "start_time": "2022-06-26T07:56:34.109Z"
   },
   {
    "duration": 10,
    "start_time": "2022-06-26T07:56:46.167Z"
   },
   {
    "duration": 34,
    "start_time": "2022-06-26T07:56:53.258Z"
   },
   {
    "duration": 37,
    "start_time": "2022-06-26T07:57:25.091Z"
   },
   {
    "duration": 80,
    "start_time": "2022-06-26T07:57:49.301Z"
   },
   {
    "duration": 79,
    "start_time": "2022-06-26T08:01:02.644Z"
   },
   {
    "duration": 262,
    "start_time": "2022-06-26T08:05:00.018Z"
   },
   {
    "duration": 188,
    "start_time": "2022-06-26T08:06:38.168Z"
   },
   {
    "duration": 244,
    "start_time": "2022-06-26T08:06:58.333Z"
   },
   {
    "duration": 144,
    "start_time": "2022-06-26T08:07:04.220Z"
   },
   {
    "duration": 26,
    "start_time": "2022-06-26T08:13:18.404Z"
   },
   {
    "duration": 295,
    "start_time": "2022-06-26T08:14:00.797Z"
   },
   {
    "duration": 330,
    "start_time": "2022-06-26T08:28:06.459Z"
   },
   {
    "duration": 354,
    "start_time": "2022-06-26T08:28:13.693Z"
   },
   {
    "duration": 1466,
    "start_time": "2022-06-26T08:28:25.131Z"
   },
   {
    "duration": 782,
    "start_time": "2022-06-26T08:28:26.599Z"
   },
   {
    "duration": 166,
    "start_time": "2022-06-26T08:28:27.384Z"
   },
   {
    "duration": 449,
    "start_time": "2022-06-26T08:28:27.552Z"
   },
   {
    "duration": 485,
    "start_time": "2022-06-26T08:28:28.003Z"
   },
   {
    "duration": 122,
    "start_time": "2022-06-26T08:28:28.489Z"
   },
   {
    "duration": 199,
    "start_time": "2022-06-26T08:28:28.613Z"
   },
   {
    "duration": 245,
    "start_time": "2022-06-26T08:28:28.814Z"
   },
   {
    "duration": 102,
    "start_time": "2022-06-26T08:28:29.061Z"
   },
   {
    "duration": 362,
    "start_time": "2022-06-26T08:28:29.165Z"
   },
   {
    "duration": 400,
    "start_time": "2022-06-26T08:28:29.529Z"
   },
   {
    "duration": 1464,
    "start_time": "2022-06-26T08:28:29.931Z"
   },
   {
    "duration": 30,
    "start_time": "2022-06-26T08:33:21.430Z"
   },
   {
    "duration": 82,
    "start_time": "2022-06-26T08:33:31.844Z"
   },
   {
    "duration": 31,
    "start_time": "2022-06-26T08:45:49.394Z"
   },
   {
    "duration": 92,
    "start_time": "2022-06-26T08:45:51.240Z"
   },
   {
    "duration": 827,
    "start_time": "2022-06-26T08:49:18.960Z"
   },
   {
    "duration": 4,
    "start_time": "2022-06-26T08:49:39.340Z"
   },
   {
    "duration": 21,
    "start_time": "2022-06-26T08:49:45.380Z"
   },
   {
    "duration": 79,
    "start_time": "2022-06-26T08:49:47.676Z"
   },
   {
    "duration": 12,
    "start_time": "2022-06-26T08:50:39.424Z"
   },
   {
    "duration": 48,
    "start_time": "2022-06-26T08:51:24.391Z"
   },
   {
    "duration": 69,
    "start_time": "2022-06-26T08:51:25.979Z"
   },
   {
    "duration": 60,
    "start_time": "2022-06-26T09:00:59.584Z"
   },
   {
    "duration": 82,
    "start_time": "2022-06-26T09:01:00.412Z"
   },
   {
    "duration": 1279,
    "start_time": "2022-06-26T09:01:04.897Z"
   },
   {
    "duration": 53,
    "start_time": "2022-06-26T09:02:08.576Z"
   },
   {
    "duration": 574,
    "start_time": "2022-06-26T09:54:16.468Z"
   },
   {
    "duration": 49,
    "start_time": "2022-06-26T14:41:04.140Z"
   },
   {
    "duration": 1512,
    "start_time": "2022-06-26T14:41:18.296Z"
   },
   {
    "duration": 1003,
    "start_time": "2022-06-26T14:41:19.810Z"
   },
   {
    "duration": 118,
    "start_time": "2022-06-26T14:41:20.814Z"
   },
   {
    "duration": 429,
    "start_time": "2022-06-26T14:41:20.935Z"
   },
   {
    "duration": 468,
    "start_time": "2022-06-26T14:41:21.366Z"
   },
   {
    "duration": 102,
    "start_time": "2022-06-26T14:41:21.836Z"
   },
   {
    "duration": 134,
    "start_time": "2022-06-26T14:41:21.940Z"
   },
   {
    "duration": 243,
    "start_time": "2022-06-26T14:41:22.076Z"
   },
   {
    "duration": 90,
    "start_time": "2022-06-26T14:41:22.320Z"
   },
   {
    "duration": 310,
    "start_time": "2022-06-26T14:41:22.412Z"
   },
   {
    "duration": 387,
    "start_time": "2022-06-26T14:41:22.723Z"
   },
   {
    "duration": 24,
    "start_time": "2022-06-26T14:41:23.112Z"
   },
   {
    "duration": 6,
    "start_time": "2022-06-26T14:41:23.138Z"
   },
   {
    "duration": 91,
    "start_time": "2022-06-26T14:41:23.145Z"
   },
   {
    "duration": 1292,
    "start_time": "2022-06-26T14:41:23.238Z"
   },
   {
    "duration": 822,
    "start_time": "2022-06-26T14:41:24.531Z"
   },
   {
    "duration": 97,
    "start_time": "2022-06-26T15:06:56.122Z"
   },
   {
    "duration": 20,
    "start_time": "2022-06-26T15:08:37.926Z"
   },
   {
    "duration": 3,
    "start_time": "2022-06-26T15:09:55.927Z"
   },
   {
    "duration": 916,
    "start_time": "2022-06-26T15:11:00.258Z"
   },
   {
    "duration": 10,
    "start_time": "2022-06-26T15:13:46.543Z"
   },
   {
    "duration": 1583,
    "start_time": "2022-06-26T15:14:09.635Z"
   },
   {
    "duration": 982,
    "start_time": "2022-06-26T15:14:11.220Z"
   },
   {
    "duration": 181,
    "start_time": "2022-06-26T15:14:12.208Z"
   },
   {
    "duration": 538,
    "start_time": "2022-06-26T15:14:12.393Z"
   },
   {
    "duration": 652,
    "start_time": "2022-06-26T15:14:12.935Z"
   },
   {
    "duration": 174,
    "start_time": "2022-06-26T15:14:13.589Z"
   },
   {
    "duration": 246,
    "start_time": "2022-06-26T15:14:13.766Z"
   },
   {
    "duration": 378,
    "start_time": "2022-06-26T15:14:14.014Z"
   },
   {
    "duration": 119,
    "start_time": "2022-06-26T15:14:14.394Z"
   },
   {
    "duration": 409,
    "start_time": "2022-06-26T15:14:14.515Z"
   },
   {
    "duration": 507,
    "start_time": "2022-06-26T15:14:14.926Z"
   },
   {
    "duration": 49,
    "start_time": "2022-06-26T15:14:15.435Z"
   },
   {
    "duration": 18,
    "start_time": "2022-06-26T15:14:15.486Z"
   },
   {
    "duration": 127,
    "start_time": "2022-06-26T15:14:15.512Z"
   },
   {
    "duration": 1736,
    "start_time": "2022-06-26T15:14:15.641Z"
   },
   {
    "duration": 35,
    "start_time": "2022-06-26T15:14:17.379Z"
   },
   {
    "duration": 21,
    "start_time": "2022-06-26T15:14:17.416Z"
   },
   {
    "duration": 820,
    "start_time": "2022-06-26T15:14:17.439Z"
   },
   {
    "duration": 152,
    "start_time": "2022-06-26T15:14:18.261Z"
   },
   {
    "duration": 10,
    "start_time": "2022-06-26T15:14:39.814Z"
   },
   {
    "duration": 477,
    "start_time": "2022-06-26T15:14:48.711Z"
   },
   {
    "duration": 3,
    "start_time": "2022-06-26T15:16:20.514Z"
   },
   {
    "duration": 742,
    "start_time": "2022-06-26T15:17:39.058Z"
   },
   {
    "duration": 893,
    "start_time": "2022-06-26T15:24:30.829Z"
   },
   {
    "duration": 92,
    "start_time": "2022-06-26T15:25:31.374Z"
   },
   {
    "duration": 4,
    "start_time": "2022-06-26T15:26:30.924Z"
   },
   {
    "duration": 93,
    "start_time": "2022-06-26T15:26:44.166Z"
   },
   {
    "duration": 5,
    "start_time": "2022-06-26T15:28:15.130Z"
   },
   {
    "duration": 769,
    "start_time": "2022-06-26T15:28:22.659Z"
   },
   {
    "duration": 81,
    "start_time": "2022-06-26T15:31:41.717Z"
   },
   {
    "duration": 11,
    "start_time": "2022-06-26T15:32:06.620Z"
   },
   {
    "duration": 30,
    "start_time": "2022-06-26T15:33:48.567Z"
   },
   {
    "duration": 5,
    "start_time": "2022-06-26T15:33:57.614Z"
   },
   {
    "duration": 23317,
    "start_time": "2022-06-26T15:34:08.225Z"
   },
   {
    "duration": 4,
    "start_time": "2022-06-26T15:35:26.941Z"
   },
   {
    "duration": 4,
    "start_time": "2022-06-26T15:36:58.547Z"
   },
   {
    "duration": 5,
    "start_time": "2022-06-26T15:37:58.214Z"
   },
   {
    "duration": 1614,
    "start_time": "2022-06-29T07:01:53.537Z"
   },
   {
    "duration": 998,
    "start_time": "2022-06-29T07:01:55.153Z"
   },
   {
    "duration": 130,
    "start_time": "2022-06-29T07:01:56.153Z"
   },
   {
    "duration": 478,
    "start_time": "2022-06-29T07:01:56.286Z"
   },
   {
    "duration": 525,
    "start_time": "2022-06-29T07:01:56.765Z"
   },
   {
    "duration": 103,
    "start_time": "2022-06-29T07:01:57.292Z"
   },
   {
    "duration": 162,
    "start_time": "2022-06-29T07:01:57.397Z"
   },
   {
    "duration": 252,
    "start_time": "2022-06-29T07:01:57.561Z"
   },
   {
    "duration": 107,
    "start_time": "2022-06-29T07:01:57.815Z"
   },
   {
    "duration": 347,
    "start_time": "2022-06-29T07:01:57.925Z"
   },
   {
    "duration": 428,
    "start_time": "2022-06-29T07:01:58.274Z"
   },
   {
    "duration": 18,
    "start_time": "2022-06-29T07:01:58.703Z"
   },
   {
    "duration": 7,
    "start_time": "2022-06-29T07:01:58.723Z"
   },
   {
    "duration": 115,
    "start_time": "2022-06-29T07:01:58.732Z"
   },
   {
    "duration": 1539,
    "start_time": "2022-06-29T07:01:58.849Z"
   },
   {
    "duration": 19,
    "start_time": "2022-06-29T07:02:00.390Z"
   },
   {
    "duration": 3,
    "start_time": "2022-06-29T07:02:00.411Z"
   },
   {
    "duration": 1207,
    "start_time": "2022-06-29T07:02:00.416Z"
   },
   {
    "duration": 361,
    "start_time": "2022-06-29T07:02:01.625Z"
   },
   {
    "duration": 671,
    "start_time": "2022-06-29T07:02:01.989Z"
   },
   {
    "duration": 803,
    "start_time": "2022-06-29T07:02:02.662Z"
   },
   {
    "duration": 796,
    "start_time": "2022-06-29T07:02:03.467Z"
   },
   {
    "duration": 3,
    "start_time": "2022-06-29T07:02:04.265Z"
   },
   {
    "duration": 7,
    "start_time": "2022-06-29T07:02:04.270Z"
   },
   {
    "duration": 8,
    "start_time": "2022-06-29T07:02:04.279Z"
   },
   {
    "duration": 2493,
    "start_time": "2022-06-29T07:42:24.401Z"
   },
   {
    "duration": 364,
    "start_time": "2022-06-29T07:49:05.175Z"
   },
   {
    "duration": 369,
    "start_time": "2022-06-29T07:49:38.271Z"
   },
   {
    "duration": 1829,
    "start_time": "2022-06-29T07:50:12.169Z"
   },
   {
    "duration": 934,
    "start_time": "2022-06-29T07:50:14.002Z"
   },
   {
    "duration": 156,
    "start_time": "2022-06-29T07:50:14.938Z"
   },
   {
    "duration": 514,
    "start_time": "2022-06-29T07:50:15.096Z"
   },
   {
    "duration": 526,
    "start_time": "2022-06-29T07:50:15.613Z"
   },
   {
    "duration": 117,
    "start_time": "2022-06-29T07:50:16.141Z"
   },
   {
    "duration": 147,
    "start_time": "2022-06-29T07:50:16.260Z"
   },
   {
    "duration": 261,
    "start_time": "2022-06-29T07:50:16.408Z"
   },
   {
    "duration": 104,
    "start_time": "2022-06-29T07:50:16.673Z"
   },
   {
    "duration": 350,
    "start_time": "2022-06-29T07:50:16.779Z"
   },
   {
    "duration": 495,
    "start_time": "2022-06-29T07:50:17.131Z"
   },
   {
    "duration": 8,
    "start_time": "2022-06-29T07:50:17.628Z"
   },
   {
    "duration": 118,
    "start_time": "2022-06-29T07:50:17.639Z"
   },
   {
    "duration": 1567,
    "start_time": "2022-06-29T07:50:17.759Z"
   },
   {
    "duration": 38,
    "start_time": "2022-06-29T07:50:19.328Z"
   },
   {
    "duration": 3,
    "start_time": "2022-06-29T07:50:19.368Z"
   },
   {
    "duration": 1092,
    "start_time": "2022-06-29T07:50:19.372Z"
   },
   {
    "duration": 411,
    "start_time": "2022-06-29T07:50:20.466Z"
   },
   {
    "duration": 689,
    "start_time": "2022-06-29T07:50:20.880Z"
   },
   {
    "duration": 866,
    "start_time": "2022-06-29T07:50:21.571Z"
   },
   {
    "duration": 857,
    "start_time": "2022-06-29T07:50:22.439Z"
   },
   {
    "duration": 5,
    "start_time": "2022-06-29T07:50:23.300Z"
   },
   {
    "duration": 9,
    "start_time": "2022-06-29T07:50:23.307Z"
   },
   {
    "duration": 8,
    "start_time": "2022-06-29T07:50:23.318Z"
   },
   {
    "duration": 381,
    "start_time": "2022-06-29T07:57:29.922Z"
   },
   {
    "duration": 83,
    "start_time": "2022-06-29T07:57:33.188Z"
   },
   {
    "duration": 13,
    "start_time": "2022-06-29T08:15:53.295Z"
   },
   {
    "duration": 13,
    "start_time": "2022-06-29T08:16:09.937Z"
   },
   {
    "duration": 14,
    "start_time": "2022-06-29T08:16:29.291Z"
   },
   {
    "duration": 14,
    "start_time": "2022-06-29T08:17:05.699Z"
   },
   {
    "duration": 3,
    "start_time": "2022-06-29T09:16:47.823Z"
   },
   {
    "duration": 133,
    "start_time": "2022-06-29T09:17:31.541Z"
   },
   {
    "duration": 20,
    "start_time": "2022-06-29T09:19:17.465Z"
   },
   {
    "duration": 12,
    "start_time": "2022-06-29T09:19:42.301Z"
   },
   {
    "duration": 44,
    "start_time": "2022-06-29T18:01:47.983Z"
   },
   {
    "duration": 1627,
    "start_time": "2022-06-29T18:02:00.014Z"
   },
   {
    "duration": 1070,
    "start_time": "2022-06-29T18:02:01.643Z"
   },
   {
    "duration": 129,
    "start_time": "2022-06-29T18:02:02.715Z"
   },
   {
    "duration": 421,
    "start_time": "2022-06-29T18:02:02.851Z"
   },
   {
    "duration": 456,
    "start_time": "2022-06-29T18:02:03.274Z"
   },
   {
    "duration": 100,
    "start_time": "2022-06-29T18:02:03.732Z"
   },
   {
    "duration": 133,
    "start_time": "2022-06-29T18:02:03.833Z"
   },
   {
    "duration": 258,
    "start_time": "2022-06-29T18:02:03.968Z"
   },
   {
    "duration": 94,
    "start_time": "2022-06-29T18:02:04.228Z"
   },
   {
    "duration": 310,
    "start_time": "2022-06-29T18:02:04.324Z"
   },
   {
    "duration": 83,
    "start_time": "2022-06-29T18:02:04.636Z"
   },
   {
    "duration": 356,
    "start_time": "2022-06-29T18:02:04.721Z"
   },
   {
    "duration": 7,
    "start_time": "2022-06-29T18:02:05.079Z"
   },
   {
    "duration": 114,
    "start_time": "2022-06-29T18:02:05.087Z"
   },
   {
    "duration": 1479,
    "start_time": "2022-06-29T18:02:05.203Z"
   },
   {
    "duration": 18,
    "start_time": "2022-06-29T18:02:06.683Z"
   },
   {
    "duration": 2,
    "start_time": "2022-06-29T18:02:06.703Z"
   },
   {
    "duration": 792,
    "start_time": "2022-06-29T18:02:06.707Z"
   },
   {
    "duration": 229,
    "start_time": "2022-06-29T18:02:07.501Z"
   },
   {
    "duration": 2,
    "start_time": "2022-06-29T18:02:07.732Z"
   },
   {
    "duration": 174,
    "start_time": "2022-06-29T18:02:07.736Z"
   },
   {
    "duration": 344,
    "start_time": "2022-06-29T18:02:07.912Z"
   },
   {
    "duration": 284,
    "start_time": "2022-06-29T18:02:08.258Z"
   },
   {
    "duration": 0,
    "start_time": "2022-06-29T18:02:08.544Z"
   },
   {
    "duration": 0,
    "start_time": "2022-06-29T18:02:08.545Z"
   },
   {
    "duration": 0,
    "start_time": "2022-06-29T18:02:08.546Z"
   },
   {
    "duration": 0,
    "start_time": "2022-06-29T18:02:08.552Z"
   },
   {
    "duration": 0,
    "start_time": "2022-06-29T18:02:08.553Z"
   },
   {
    "duration": 25,
    "start_time": "2022-06-29T18:03:40.110Z"
   },
   {
    "duration": 352,
    "start_time": "2022-06-29T18:05:17.519Z"
   },
   {
    "duration": 134,
    "start_time": "2022-06-29T18:05:26.595Z"
   },
   {
    "duration": 92,
    "start_time": "2022-06-29T18:05:35.597Z"
   },
   {
    "duration": 373,
    "start_time": "2022-06-29T18:05:48.689Z"
   },
   {
    "duration": 63,
    "start_time": "2022-06-29T18:06:50.830Z"
   },
   {
    "duration": 3,
    "start_time": "2022-06-29T18:07:50.396Z"
   },
   {
    "duration": 2,
    "start_time": "2022-06-29T18:09:04.907Z"
   },
   {
    "duration": 150,
    "start_time": "2022-06-29T18:09:24.923Z"
   },
   {
    "duration": 119,
    "start_time": "2022-06-29T18:09:58.480Z"
   },
   {
    "duration": 2,
    "start_time": "2022-06-29T18:10:07.432Z"
   },
   {
    "duration": 151,
    "start_time": "2022-06-29T18:10:08.571Z"
   },
   {
    "duration": 345,
    "start_time": "2022-06-29T18:10:24.066Z"
   },
   {
    "duration": 146,
    "start_time": "2022-06-29T18:10:27.850Z"
   },
   {
    "duration": 80,
    "start_time": "2022-06-29T18:11:13.033Z"
   },
   {
    "duration": 9,
    "start_time": "2022-06-29T18:11:52.808Z"
   },
   {
    "duration": 1378,
    "start_time": "2022-06-29T18:12:05.450Z"
   },
   {
    "duration": 769,
    "start_time": "2022-06-29T18:12:06.829Z"
   },
   {
    "duration": 123,
    "start_time": "2022-06-29T18:12:07.600Z"
   },
   {
    "duration": 439,
    "start_time": "2022-06-29T18:12:07.726Z"
   },
   {
    "duration": 472,
    "start_time": "2022-06-29T18:12:08.166Z"
   },
   {
    "duration": 100,
    "start_time": "2022-06-29T18:12:08.640Z"
   },
   {
    "duration": 139,
    "start_time": "2022-06-29T18:12:08.742Z"
   },
   {
    "duration": 263,
    "start_time": "2022-06-29T18:12:08.882Z"
   },
   {
    "duration": 96,
    "start_time": "2022-06-29T18:12:09.146Z"
   },
   {
    "duration": 339,
    "start_time": "2022-06-29T18:12:09.245Z"
   },
   {
    "duration": 83,
    "start_time": "2022-06-29T18:12:09.585Z"
   },
   {
    "duration": 368,
    "start_time": "2022-06-29T18:12:09.670Z"
   },
   {
    "duration": 13,
    "start_time": "2022-06-29T18:12:10.039Z"
   },
   {
    "duration": 113,
    "start_time": "2022-06-29T18:12:10.054Z"
   },
   {
    "duration": 1542,
    "start_time": "2022-06-29T18:12:10.169Z"
   },
   {
    "duration": 18,
    "start_time": "2022-06-29T18:12:11.713Z"
   },
   {
    "duration": 777,
    "start_time": "2022-06-29T18:12:11.732Z"
   },
   {
    "duration": 279,
    "start_time": "2022-06-29T18:12:12.511Z"
   },
   {
    "duration": 2,
    "start_time": "2022-06-29T18:12:12.792Z"
   },
   {
    "duration": 151,
    "start_time": "2022-06-29T18:12:12.796Z"
   },
   {
    "duration": 333,
    "start_time": "2022-06-29T18:12:12.951Z"
   },
   {
    "duration": 96,
    "start_time": "2022-06-29T18:12:13.286Z"
   },
   {
    "duration": 3,
    "start_time": "2022-06-29T18:12:13.383Z"
   },
   {
    "duration": 9,
    "start_time": "2022-06-29T18:12:13.387Z"
   },
   {
    "duration": 236,
    "start_time": "2022-06-29T18:12:13.397Z"
   },
   {
    "duration": 82,
    "start_time": "2022-06-29T18:12:13.635Z"
   },
   {
    "duration": 9,
    "start_time": "2022-06-29T18:12:13.719Z"
   },
   {
    "duration": 0,
    "start_time": "2022-06-29T18:12:13.730Z"
   },
   {
    "duration": 0,
    "start_time": "2022-06-29T18:12:13.731Z"
   },
   {
    "duration": 0,
    "start_time": "2022-06-29T18:12:13.732Z"
   },
   {
    "duration": 0,
    "start_time": "2022-06-29T18:12:13.733Z"
   },
   {
    "duration": 0,
    "start_time": "2022-06-29T18:12:13.734Z"
   },
   {
    "duration": 0,
    "start_time": "2022-06-29T18:12:13.735Z"
   },
   {
    "duration": 0,
    "start_time": "2022-06-29T18:12:13.736Z"
   },
   {
    "duration": 393,
    "start_time": "2022-06-29T18:13:25.010Z"
   },
   {
    "duration": 3,
    "start_time": "2022-06-29T18:13:29.412Z"
   },
   {
    "duration": 160,
    "start_time": "2022-06-29T18:13:30.896Z"
   },
   {
    "duration": 65695,
    "start_time": "2022-06-29T18:15:41.467Z"
   },
   {
    "duration": 91141,
    "start_time": "2022-06-29T18:17:05.092Z"
   },
   {
    "duration": 2,
    "start_time": "2022-06-29T18:18:36.235Z"
   },
   {
    "duration": 17483,
    "start_time": "2022-06-29T18:18:40.337Z"
   },
   {
    "duration": 245,
    "start_time": "2022-06-29T18:19:18.293Z"
   },
   {
    "duration": 5,
    "start_time": "2022-06-29T18:19:36.786Z"
   },
   {
    "duration": 3,
    "start_time": "2022-06-29T18:20:20.642Z"
   },
   {
    "duration": 3,
    "start_time": "2022-06-29T18:20:40.105Z"
   },
   {
    "duration": 107,
    "start_time": "2022-06-29T18:20:59.525Z"
   },
   {
    "duration": 91,
    "start_time": "2022-06-29T18:21:21.082Z"
   },
   {
    "duration": 8,
    "start_time": "2022-06-29T18:21:46.565Z"
   },
   {
    "duration": 12,
    "start_time": "2022-06-29T18:22:51.066Z"
   },
   {
    "duration": 1701,
    "start_time": "2022-06-30T07:08:44.947Z"
   },
   {
    "duration": 1444,
    "start_time": "2022-06-30T07:08:46.650Z"
   },
   {
    "duration": 161,
    "start_time": "2022-06-30T07:08:48.096Z"
   },
   {
    "duration": 525,
    "start_time": "2022-06-30T07:08:48.259Z"
   },
   {
    "duration": 552,
    "start_time": "2022-06-30T07:08:48.785Z"
   },
   {
    "duration": 176,
    "start_time": "2022-06-30T07:08:49.339Z"
   },
   {
    "duration": 186,
    "start_time": "2022-06-30T07:08:49.517Z"
   },
   {
    "duration": 296,
    "start_time": "2022-06-30T07:08:49.705Z"
   },
   {
    "duration": 119,
    "start_time": "2022-06-30T07:08:50.003Z"
   },
   {
    "duration": 355,
    "start_time": "2022-06-30T07:08:50.125Z"
   },
   {
    "duration": 84,
    "start_time": "2022-06-30T07:08:50.482Z"
   },
   {
    "duration": 431,
    "start_time": "2022-06-30T07:08:50.568Z"
   },
   {
    "duration": 7,
    "start_time": "2022-06-30T07:08:51.001Z"
   },
   {
    "duration": 122,
    "start_time": "2022-06-30T07:08:51.010Z"
   },
   {
    "duration": 1555,
    "start_time": "2022-06-30T07:08:51.134Z"
   },
   {
    "duration": 19,
    "start_time": "2022-06-30T07:08:52.691Z"
   },
   {
    "duration": 1104,
    "start_time": "2022-06-30T07:08:52.712Z"
   },
   {
    "duration": 244,
    "start_time": "2022-06-30T07:08:53.818Z"
   },
   {
    "duration": 2,
    "start_time": "2022-06-30T07:08:54.064Z"
   },
   {
    "duration": 171,
    "start_time": "2022-06-30T07:08:54.071Z"
   },
   {
    "duration": 387,
    "start_time": "2022-06-30T07:08:54.244Z"
   },
   {
    "duration": 116,
    "start_time": "2022-06-30T07:08:54.633Z"
   },
   {
    "duration": 10,
    "start_time": "2022-06-30T07:08:54.751Z"
   },
   {
    "duration": 30,
    "start_time": "2022-06-30T07:08:54.763Z"
   },
   {
    "duration": 257,
    "start_time": "2022-06-30T07:08:54.795Z"
   },
   {
    "duration": 64,
    "start_time": "2022-06-30T07:08:55.054Z"
   },
   {
    "duration": 10,
    "start_time": "2022-06-30T07:08:55.121Z"
   },
   {
    "duration": 0,
    "start_time": "2022-06-30T07:08:55.133Z"
   },
   {
    "duration": 0,
    "start_time": "2022-06-30T07:08:55.135Z"
   },
   {
    "duration": 0,
    "start_time": "2022-06-30T07:08:55.136Z"
   },
   {
    "duration": 0,
    "start_time": "2022-06-30T07:08:55.137Z"
   },
   {
    "duration": 0,
    "start_time": "2022-06-30T07:08:55.139Z"
   },
   {
    "duration": 0,
    "start_time": "2022-06-30T07:08:55.140Z"
   },
   {
    "duration": 0,
    "start_time": "2022-06-30T07:08:55.141Z"
   },
   {
    "duration": 0,
    "start_time": "2022-06-30T07:08:55.142Z"
   },
   {
    "duration": 0,
    "start_time": "2022-06-30T07:08:55.144Z"
   },
   {
    "duration": 0,
    "start_time": "2022-06-30T07:08:55.145Z"
   },
   {
    "duration": 0,
    "start_time": "2022-06-30T07:08:55.147Z"
   },
   {
    "duration": 0,
    "start_time": "2022-06-30T07:08:55.148Z"
   },
   {
    "duration": 0,
    "start_time": "2022-06-30T07:08:55.149Z"
   },
   {
    "duration": 0,
    "start_time": "2022-06-30T07:08:55.150Z"
   },
   {
    "duration": 0,
    "start_time": "2022-06-30T07:08:55.152Z"
   },
   {
    "duration": 0,
    "start_time": "2022-06-30T07:08:55.153Z"
   },
   {
    "duration": 0,
    "start_time": "2022-06-30T07:08:55.155Z"
   },
   {
    "duration": 0,
    "start_time": "2022-06-30T07:08:55.156Z"
   },
   {
    "duration": 0,
    "start_time": "2022-06-30T07:08:55.157Z"
   },
   {
    "duration": 83,
    "start_time": "2022-06-30T07:11:32.038Z"
   },
   {
    "duration": 67,
    "start_time": "2022-06-30T07:12:14.183Z"
   },
   {
    "duration": 10,
    "start_time": "2022-06-30T07:12:25.027Z"
   },
   {
    "duration": 71232,
    "start_time": "2022-06-30T07:12:40.351Z"
   },
   {
    "duration": 94499,
    "start_time": "2022-06-30T07:14:34.449Z"
   },
   {
    "duration": 11,
    "start_time": "2022-06-30T07:16:08.950Z"
   },
   {
    "duration": 20099,
    "start_time": "2022-06-30T07:16:21.541Z"
   },
   {
    "duration": 278,
    "start_time": "2022-06-30T07:19:26.152Z"
   },
   {
    "duration": 5,
    "start_time": "2022-06-30T07:19:29.654Z"
   },
   {
    "duration": 2,
    "start_time": "2022-06-30T07:19:32.629Z"
   },
   {
    "duration": 3,
    "start_time": "2022-06-30T07:19:34.326Z"
   },
   {
    "duration": 127,
    "start_time": "2022-06-30T07:19:35.645Z"
   },
   {
    "duration": 59,
    "start_time": "2022-06-30T07:19:49.593Z"
   },
   {
    "duration": 10,
    "start_time": "2022-06-30T07:19:51.702Z"
   },
   {
    "duration": 16,
    "start_time": "2022-06-30T07:19:58.510Z"
   },
   {
    "duration": 4,
    "start_time": "2022-06-30T08:03:11.614Z"
   },
   {
    "duration": 4,
    "start_time": "2022-06-30T08:03:36.283Z"
   },
   {
    "duration": 4,
    "start_time": "2022-06-30T08:04:04.683Z"
   },
   {
    "duration": 5,
    "start_time": "2022-06-30T08:04:11.850Z"
   },
   {
    "duration": 122,
    "start_time": "2022-06-30T08:07:02.693Z"
   },
   {
    "duration": 1024,
    "start_time": "2022-06-30T09:16:26.591Z"
   },
   {
    "duration": 1178,
    "start_time": "2022-06-30T09:42:58.912Z"
   },
   {
    "duration": 1047,
    "start_time": "2022-06-30T09:43:04.007Z"
   },
   {
    "duration": 6,
    "start_time": "2022-06-30T09:45:18.527Z"
   },
   {
    "duration": 22,
    "start_time": "2022-06-30T09:45:43.309Z"
   },
   {
    "duration": 888,
    "start_time": "2022-06-30T09:45:48.589Z"
   },
   {
    "duration": 256,
    "start_time": "2022-06-30T09:45:51.511Z"
   },
   {
    "duration": 449,
    "start_time": "2022-06-30T09:45:58.200Z"
   },
   {
    "duration": 78,
    "start_time": "2022-06-30T09:45:59.434Z"
   },
   {
    "duration": 4,
    "start_time": "2022-06-30T09:46:05.949Z"
   },
   {
    "duration": 926,
    "start_time": "2022-06-30T09:46:06.999Z"
   },
   {
    "duration": 3,
    "start_time": "2022-06-30T09:52:35.505Z"
   },
   {
    "duration": 159,
    "start_time": "2022-06-30T09:52:38.305Z"
   },
   {
    "duration": 81,
    "start_time": "2022-06-30T09:52:43.994Z"
   },
   {
    "duration": 807,
    "start_time": "2022-06-30T09:53:13.327Z"
   },
   {
    "duration": 8,
    "start_time": "2022-06-30T10:01:56.206Z"
   },
   {
    "duration": 4,
    "start_time": "2022-06-30T10:05:17.348Z"
   },
   {
    "duration": 39,
    "start_time": "2022-06-30T10:06:12.988Z"
   },
   {
    "duration": 24,
    "start_time": "2022-06-30T10:06:27.846Z"
   },
   {
    "duration": 49,
    "start_time": "2022-06-30T10:06:50.478Z"
   },
   {
    "duration": 3364,
    "start_time": "2022-06-30T10:07:52.304Z"
   },
   {
    "duration": 3393,
    "start_time": "2022-06-30T10:08:25.486Z"
   },
   {
    "duration": 90504,
    "start_time": "2022-06-30T10:18:05.691Z"
   },
   {
    "duration": 14,
    "start_time": "2022-06-30T10:50:10.035Z"
   },
   {
    "duration": 22,
    "start_time": "2022-06-30T10:50:30.387Z"
   },
   {
    "duration": 7,
    "start_time": "2022-06-30T10:53:05.787Z"
   },
   {
    "duration": 3,
    "start_time": "2022-06-30T10:53:31.333Z"
   },
   {
    "duration": 7,
    "start_time": "2022-06-30T10:53:41.442Z"
   },
   {
    "duration": 11,
    "start_time": "2022-06-30T10:54:08.678Z"
   },
   {
    "duration": 457,
    "start_time": "2022-06-30T10:54:32.692Z"
   },
   {
    "duration": 12,
    "start_time": "2022-06-30T10:57:31.694Z"
   },
   {
    "duration": 24,
    "start_time": "2022-06-30T11:03:51.791Z"
   },
   {
    "duration": 156,
    "start_time": "2022-06-30T11:03:55.192Z"
   },
   {
    "duration": 1610,
    "start_time": "2022-06-30T11:04:49.186Z"
   },
   {
    "duration": 1698,
    "start_time": "2022-06-30T11:04:50.798Z"
   },
   {
    "duration": 196,
    "start_time": "2022-06-30T11:04:52.504Z"
   },
   {
    "duration": 662,
    "start_time": "2022-06-30T11:04:52.705Z"
   },
   {
    "duration": 614,
    "start_time": "2022-06-30T11:04:53.370Z"
   },
   {
    "duration": 187,
    "start_time": "2022-06-30T11:04:53.985Z"
   },
   {
    "duration": 238,
    "start_time": "2022-06-30T11:04:54.179Z"
   },
   {
    "duration": 427,
    "start_time": "2022-06-30T11:04:54.419Z"
   },
   {
    "duration": 146,
    "start_time": "2022-06-30T11:04:54.849Z"
   },
   {
    "duration": 420,
    "start_time": "2022-06-30T11:04:54.997Z"
   },
   {
    "duration": 108,
    "start_time": "2022-06-30T11:04:55.421Z"
   },
   {
    "duration": 476,
    "start_time": "2022-06-30T11:04:55.531Z"
   },
   {
    "duration": 17,
    "start_time": "2022-06-30T11:04:56.008Z"
   },
   {
    "duration": 148,
    "start_time": "2022-06-30T11:04:56.028Z"
   },
   {
    "duration": 10,
    "start_time": "2022-06-30T11:04:56.179Z"
   },
   {
    "duration": 248,
    "start_time": "2022-06-30T11:04:56.195Z"
   },
   {
    "duration": 10,
    "start_time": "2022-06-30T11:04:56.445Z"
   },
   {
    "duration": 2071,
    "start_time": "2022-06-30T11:04:56.462Z"
   },
   {
    "duration": 10,
    "start_time": "2022-06-30T11:04:58.535Z"
   },
   {
    "duration": 826,
    "start_time": "2022-06-30T11:04:58.547Z"
   },
   {
    "duration": 229,
    "start_time": "2022-06-30T11:04:59.375Z"
   },
   {
    "duration": 416,
    "start_time": "2022-06-30T11:04:59.606Z"
   },
   {
    "duration": 84,
    "start_time": "2022-06-30T11:05:00.024Z"
   },
   {
    "duration": 8,
    "start_time": "2022-06-30T11:05:00.113Z"
   },
   {
    "duration": 12,
    "start_time": "2022-06-30T11:05:00.122Z"
   },
   {
    "duration": 13,
    "start_time": "2022-06-30T11:05:00.136Z"
   },
   {
    "duration": 72,
    "start_time": "2022-06-30T11:05:00.151Z"
   },
   {
    "duration": 90807,
    "start_time": "2022-06-30T11:05:00.225Z"
   },
   {
    "duration": 108477,
    "start_time": "2022-06-30T11:06:31.033Z"
   },
   {
    "duration": 6,
    "start_time": "2022-06-30T11:08:19.512Z"
   },
   {
    "duration": 1816,
    "start_time": "2022-06-30T11:08:27.740Z"
   },
   {
    "duration": 1013,
    "start_time": "2022-06-30T11:08:29.559Z"
   },
   {
    "duration": 200,
    "start_time": "2022-06-30T11:08:30.581Z"
   },
   {
    "duration": 649,
    "start_time": "2022-06-30T11:08:30.783Z"
   },
   {
    "duration": 646,
    "start_time": "2022-06-30T11:08:31.434Z"
   },
   {
    "duration": 197,
    "start_time": "2022-06-30T11:08:32.082Z"
   },
   {
    "duration": 207,
    "start_time": "2022-06-30T11:08:32.290Z"
   },
   {
    "duration": 329,
    "start_time": "2022-06-30T11:08:32.499Z"
   },
   {
    "duration": 113,
    "start_time": "2022-06-30T11:08:32.830Z"
   },
   {
    "duration": 420,
    "start_time": "2022-06-30T11:08:32.945Z"
   },
   {
    "duration": 116,
    "start_time": "2022-06-30T11:08:33.372Z"
   },
   {
    "duration": 490,
    "start_time": "2022-06-30T11:08:33.496Z"
   },
   {
    "duration": 18,
    "start_time": "2022-06-30T11:08:33.991Z"
   },
   {
    "duration": 155,
    "start_time": "2022-06-30T11:08:34.016Z"
   },
   {
    "duration": 7,
    "start_time": "2022-06-30T11:08:34.176Z"
   },
   {
    "duration": 259,
    "start_time": "2022-06-30T11:08:34.190Z"
   },
   {
    "duration": 35,
    "start_time": "2022-06-30T11:08:34.451Z"
   },
   {
    "duration": 2132,
    "start_time": "2022-06-30T11:08:34.491Z"
   },
   {
    "duration": 10,
    "start_time": "2022-06-30T11:08:36.626Z"
   },
   {
    "duration": 883,
    "start_time": "2022-06-30T11:08:36.638Z"
   },
   {
    "duration": 257,
    "start_time": "2022-06-30T11:08:37.529Z"
   },
   {
    "duration": 484,
    "start_time": "2022-06-30T11:08:37.799Z"
   },
   {
    "duration": 104,
    "start_time": "2022-06-30T11:08:38.284Z"
   },
   {
    "duration": 5,
    "start_time": "2022-06-30T11:08:38.390Z"
   },
   {
    "duration": 101,
    "start_time": "2022-06-30T11:08:38.397Z"
   },
   {
    "duration": 29,
    "start_time": "2022-06-30T11:08:38.500Z"
   },
   {
    "duration": 14,
    "start_time": "2022-06-30T11:08:38.531Z"
   },
   {
    "duration": 93196,
    "start_time": "2022-06-30T11:08:38.548Z"
   },
   {
    "duration": 109241,
    "start_time": "2022-06-30T11:10:11.746Z"
   },
   {
    "duration": 10,
    "start_time": "2022-06-30T11:12:00.992Z"
   },
   {
    "duration": 26135,
    "start_time": "2022-06-30T11:12:01.012Z"
   },
   {
    "duration": 301,
    "start_time": "2022-06-30T11:12:27.150Z"
   },
   {
    "duration": 30,
    "start_time": "2022-06-30T11:12:27.453Z"
   },
   {
    "duration": 53,
    "start_time": "2022-06-30T11:12:27.485Z"
   },
   {
    "duration": 38,
    "start_time": "2022-06-30T11:12:27.542Z"
   },
   {
    "duration": 417,
    "start_time": "2022-06-30T11:12:27.582Z"
   },
   {
    "duration": 118,
    "start_time": "2022-06-30T11:12:28.001Z"
   },
   {
    "duration": 13,
    "start_time": "2022-06-30T11:12:28.122Z"
   },
   {
    "duration": 0,
    "start_time": "2022-06-30T11:12:28.138Z"
   },
   {
    "duration": 0,
    "start_time": "2022-06-30T11:12:28.141Z"
   },
   {
    "duration": 0,
    "start_time": "2022-06-30T11:12:28.142Z"
   },
   {
    "duration": 0,
    "start_time": "2022-06-30T11:12:28.144Z"
   },
   {
    "duration": 0,
    "start_time": "2022-06-30T11:12:28.146Z"
   },
   {
    "duration": 0,
    "start_time": "2022-06-30T11:12:28.147Z"
   },
   {
    "duration": 0,
    "start_time": "2022-06-30T11:12:28.149Z"
   },
   {
    "duration": 0,
    "start_time": "2022-06-30T11:12:28.151Z"
   },
   {
    "duration": 10,
    "start_time": "2022-06-30T11:12:44.513Z"
   },
   {
    "duration": 149,
    "start_time": "2022-06-30T11:12:47.473Z"
   },
   {
    "duration": 13,
    "start_time": "2022-06-30T11:12:53.201Z"
   },
   {
    "duration": 107,
    "start_time": "2022-06-30T11:12:56.128Z"
   },
   {
    "duration": 13,
    "start_time": "2022-06-30T11:13:09.110Z"
   },
   {
    "duration": 11,
    "start_time": "2022-06-30T11:13:16.488Z"
   },
   {
    "duration": 1916,
    "start_time": "2022-06-30T11:15:46.834Z"
   },
   {
    "duration": 1137,
    "start_time": "2022-06-30T11:15:48.752Z"
   },
   {
    "duration": 231,
    "start_time": "2022-06-30T11:15:49.891Z"
   },
   {
    "duration": 772,
    "start_time": "2022-06-30T11:15:50.124Z"
   },
   {
    "duration": 687,
    "start_time": "2022-06-30T11:15:50.905Z"
   },
   {
    "duration": 222,
    "start_time": "2022-06-30T11:15:51.594Z"
   },
   {
    "duration": 277,
    "start_time": "2022-06-30T11:15:51.822Z"
   },
   {
    "duration": 387,
    "start_time": "2022-06-30T11:15:52.103Z"
   },
   {
    "duration": 142,
    "start_time": "2022-06-30T11:15:52.499Z"
   },
   {
    "duration": 422,
    "start_time": "2022-06-30T11:15:52.645Z"
   },
   {
    "duration": 153,
    "start_time": "2022-06-30T11:15:53.069Z"
   },
   {
    "duration": 634,
    "start_time": "2022-06-30T11:15:53.224Z"
   },
   {
    "duration": 33,
    "start_time": "2022-06-30T11:15:53.868Z"
   },
   {
    "duration": 184,
    "start_time": "2022-06-30T11:15:53.911Z"
   },
   {
    "duration": 13,
    "start_time": "2022-06-30T11:15:54.097Z"
   },
   {
    "duration": 292,
    "start_time": "2022-06-30T11:15:54.113Z"
   },
   {
    "duration": 20,
    "start_time": "2022-06-30T11:15:54.412Z"
   },
   {
    "duration": 1952,
    "start_time": "2022-06-30T11:15:54.435Z"
   },
   {
    "duration": 10,
    "start_time": "2022-06-30T11:15:56.388Z"
   },
   {
    "duration": 871,
    "start_time": "2022-06-30T11:15:56.407Z"
   },
   {
    "duration": 254,
    "start_time": "2022-06-30T11:15:57.284Z"
   },
   {
    "duration": 550,
    "start_time": "2022-06-30T11:15:57.541Z"
   },
   {
    "duration": 119,
    "start_time": "2022-06-30T11:15:58.093Z"
   },
   {
    "duration": 4,
    "start_time": "2022-06-30T11:15:58.214Z"
   },
   {
    "duration": 4,
    "start_time": "2022-06-30T11:15:58.220Z"
   },
   {
    "duration": 13,
    "start_time": "2022-06-30T11:15:58.226Z"
   },
   {
    "duration": 23,
    "start_time": "2022-06-30T11:15:58.241Z"
   },
   {
    "duration": 101108,
    "start_time": "2022-06-30T11:15:58.265Z"
   },
   {
    "duration": 136949,
    "start_time": "2022-06-30T11:17:39.377Z"
   },
   {
    "duration": 14,
    "start_time": "2022-06-30T11:19:56.328Z"
   },
   {
    "duration": 35501,
    "start_time": "2022-06-30T11:19:56.344Z"
   },
   {
    "duration": 662,
    "start_time": "2022-06-30T11:20:31.852Z"
   },
   {
    "duration": 20,
    "start_time": "2022-06-30T11:20:32.521Z"
   },
   {
    "duration": 438,
    "start_time": "2022-06-30T11:20:32.548Z"
   },
   {
    "duration": 124,
    "start_time": "2022-06-30T11:20:32.993Z"
   },
   {
    "duration": 687,
    "start_time": "2022-06-30T11:20:33.128Z"
   },
   {
    "duration": 200,
    "start_time": "2022-06-30T11:20:33.817Z"
   },
   {
    "duration": 25,
    "start_time": "2022-06-30T11:20:34.022Z"
   },
   {
    "duration": 0,
    "start_time": "2022-06-30T11:20:34.054Z"
   },
   {
    "duration": 1,
    "start_time": "2022-06-30T11:20:34.066Z"
   },
   {
    "duration": 0,
    "start_time": "2022-06-30T11:20:34.071Z"
   },
   {
    "duration": 0,
    "start_time": "2022-06-30T11:20:34.080Z"
   },
   {
    "duration": 0,
    "start_time": "2022-06-30T11:20:34.087Z"
   },
   {
    "duration": 0,
    "start_time": "2022-06-30T11:20:34.092Z"
   },
   {
    "duration": 0,
    "start_time": "2022-06-30T11:20:34.094Z"
   },
   {
    "duration": 0,
    "start_time": "2022-06-30T11:20:34.095Z"
   },
   {
    "duration": 139,
    "start_time": "2022-06-30T11:42:10.337Z"
   },
   {
    "duration": 77,
    "start_time": "2022-06-30T11:43:47.748Z"
   },
   {
    "duration": 352,
    "start_time": "2022-06-30T11:43:55.233Z"
   },
   {
    "duration": 55,
    "start_time": "2022-06-30T11:47:02.887Z"
   },
   {
    "duration": 18,
    "start_time": "2022-06-30T12:14:07.818Z"
   },
   {
    "duration": 285,
    "start_time": "2022-06-30T12:14:40.753Z"
   },
   {
    "duration": 248,
    "start_time": "2022-06-30T12:15:37.644Z"
   },
   {
    "duration": 99,
    "start_time": "2022-06-30T12:23:22.238Z"
   },
   {
    "duration": 850,
    "start_time": "2022-06-30T12:23:42.595Z"
   },
   {
    "duration": 215,
    "start_time": "2022-06-30T12:23:43.591Z"
   },
   {
    "duration": 996,
    "start_time": "2022-06-30T12:24:08.243Z"
   },
   {
    "duration": 191,
    "start_time": "2022-06-30T12:24:09.724Z"
   },
   {
    "duration": 1723,
    "start_time": "2022-06-30T12:24:54.326Z"
   },
   {
    "duration": 878,
    "start_time": "2022-06-30T12:24:56.859Z"
   },
   {
    "duration": 790,
    "start_time": "2022-06-30T12:24:57.748Z"
   },
   {
    "duration": 1173,
    "start_time": "2022-06-30T12:28:08.411Z"
   },
   {
    "duration": 1327,
    "start_time": "2022-06-30T12:29:26.682Z"
   },
   {
    "duration": 2055,
    "start_time": "2022-06-30T12:30:07.471Z"
   },
   {
    "duration": 1239,
    "start_time": "2022-06-30T12:30:09.529Z"
   },
   {
    "duration": 298,
    "start_time": "2022-06-30T12:30:10.776Z"
   },
   {
    "duration": 774,
    "start_time": "2022-06-30T12:30:11.084Z"
   },
   {
    "duration": 813,
    "start_time": "2022-06-30T12:30:11.869Z"
   },
   {
    "duration": 214,
    "start_time": "2022-06-30T12:30:12.687Z"
   },
   {
    "duration": 322,
    "start_time": "2022-06-30T12:30:12.907Z"
   },
   {
    "duration": 413,
    "start_time": "2022-06-30T12:30:13.235Z"
   },
   {
    "duration": 140,
    "start_time": "2022-06-30T12:30:13.650Z"
   },
   {
    "duration": 520,
    "start_time": "2022-06-30T12:30:13.800Z"
   },
   {
    "duration": 105,
    "start_time": "2022-06-30T12:30:14.329Z"
   },
   {
    "duration": 509,
    "start_time": "2022-06-30T12:30:14.438Z"
   },
   {
    "duration": 16,
    "start_time": "2022-06-30T12:30:14.953Z"
   },
   {
    "duration": 175,
    "start_time": "2022-06-30T12:30:14.971Z"
   },
   {
    "duration": 3,
    "start_time": "2022-06-30T12:30:15.148Z"
   },
   {
    "duration": 237,
    "start_time": "2022-06-30T12:30:15.152Z"
   },
   {
    "duration": 16,
    "start_time": "2022-06-30T12:30:15.391Z"
   },
   {
    "duration": 2382,
    "start_time": "2022-06-30T12:30:15.408Z"
   },
   {
    "duration": 16,
    "start_time": "2022-06-30T12:30:17.792Z"
   },
   {
    "duration": 1722,
    "start_time": "2022-06-30T12:30:17.813Z"
   },
   {
    "duration": 835,
    "start_time": "2022-06-30T12:30:19.541Z"
   },
   {
    "duration": 738,
    "start_time": "2022-06-30T12:30:20.383Z"
   },
   {
    "duration": 1348,
    "start_time": "2022-06-30T12:30:21.127Z"
   },
   {
    "duration": 248,
    "start_time": "2022-06-30T12:30:22.476Z"
   },
   {
    "duration": 471,
    "start_time": "2022-06-30T12:30:22.729Z"
   },
   {
    "duration": 81,
    "start_time": "2022-06-30T12:30:23.205Z"
   },
   {
    "duration": 4,
    "start_time": "2022-06-30T12:30:23.289Z"
   },
   {
    "duration": 58,
    "start_time": "2022-06-30T12:30:23.297Z"
   },
   {
    "duration": 81,
    "start_time": "2022-06-30T12:30:23.357Z"
   },
   {
    "duration": 10,
    "start_time": "2022-06-30T12:30:23.442Z"
   },
   {
    "duration": 110997,
    "start_time": "2022-06-30T12:30:23.455Z"
   },
   {
    "duration": 120482,
    "start_time": "2022-06-30T12:32:14.454Z"
   },
   {
    "duration": 12,
    "start_time": "2022-06-30T12:34:14.942Z"
   },
   {
    "duration": 29551,
    "start_time": "2022-06-30T12:34:14.959Z"
   },
   {
    "duration": 326,
    "start_time": "2022-06-30T12:34:44.518Z"
   },
   {
    "duration": 5,
    "start_time": "2022-06-30T12:34:44.851Z"
   },
   {
    "duration": 29,
    "start_time": "2022-06-30T12:34:44.864Z"
   },
   {
    "duration": 41,
    "start_time": "2022-06-30T12:34:44.900Z"
   },
   {
    "duration": 201,
    "start_time": "2022-06-30T12:34:44.943Z"
   },
   {
    "duration": 197,
    "start_time": "2022-06-30T12:34:45.146Z"
   },
   {
    "duration": 17,
    "start_time": "2022-06-30T12:34:45.345Z"
   },
   {
    "duration": 0,
    "start_time": "2022-06-30T12:34:45.370Z"
   },
   {
    "duration": 0,
    "start_time": "2022-06-30T12:34:45.372Z"
   },
   {
    "duration": 0,
    "start_time": "2022-06-30T12:34:45.374Z"
   },
   {
    "duration": 0,
    "start_time": "2022-06-30T12:34:45.376Z"
   },
   {
    "duration": 0,
    "start_time": "2022-06-30T12:34:45.377Z"
   },
   {
    "duration": 0,
    "start_time": "2022-06-30T12:34:45.377Z"
   },
   {
    "duration": 0,
    "start_time": "2022-06-30T12:34:45.379Z"
   },
   {
    "duration": 0,
    "start_time": "2022-06-30T12:34:45.381Z"
   },
   {
    "duration": 1121,
    "start_time": "2022-06-30T12:35:18.226Z"
   },
   {
    "duration": 9853,
    "start_time": "2022-06-30T12:36:33.797Z"
   },
   {
    "duration": 25179,
    "start_time": "2022-06-30T14:23:48.277Z"
   },
   {
    "duration": 81,
    "start_time": "2022-07-02T09:48:05.444Z"
   },
   {
    "duration": 1528,
    "start_time": "2022-07-02T09:48:16.546Z"
   },
   {
    "duration": 2800,
    "start_time": "2022-07-02T09:48:18.076Z"
   },
   {
    "duration": 172,
    "start_time": "2022-07-02T09:48:20.878Z"
   },
   {
    "duration": 4,
    "start_time": "2022-07-02T09:48:21.053Z"
   },
   {
    "duration": 455,
    "start_time": "2022-07-02T09:48:21.059Z"
   },
   {
    "duration": 507,
    "start_time": "2022-07-02T09:48:21.516Z"
   },
   {
    "duration": 139,
    "start_time": "2022-07-02T09:48:22.026Z"
   },
   {
    "duration": 1470,
    "start_time": "2022-07-02T09:48:22.167Z"
   },
   {
    "duration": 0,
    "start_time": "2022-07-02T09:48:23.640Z"
   },
   {
    "duration": 0,
    "start_time": "2022-07-02T09:48:23.641Z"
   },
   {
    "duration": 0,
    "start_time": "2022-07-02T09:48:23.643Z"
   },
   {
    "duration": 0,
    "start_time": "2022-07-02T09:48:23.644Z"
   },
   {
    "duration": 0,
    "start_time": "2022-07-02T09:48:23.646Z"
   },
   {
    "duration": 0,
    "start_time": "2022-07-02T09:48:23.647Z"
   },
   {
    "duration": 0,
    "start_time": "2022-07-02T09:48:23.648Z"
   },
   {
    "duration": 0,
    "start_time": "2022-07-02T09:48:23.649Z"
   },
   {
    "duration": 0,
    "start_time": "2022-07-02T09:48:23.650Z"
   },
   {
    "duration": 0,
    "start_time": "2022-07-02T09:48:23.652Z"
   },
   {
    "duration": 0,
    "start_time": "2022-07-02T09:48:23.654Z"
   },
   {
    "duration": 0,
    "start_time": "2022-07-02T09:48:23.655Z"
   },
   {
    "duration": 0,
    "start_time": "2022-07-02T09:48:23.657Z"
   },
   {
    "duration": 0,
    "start_time": "2022-07-02T09:48:23.658Z"
   },
   {
    "duration": 0,
    "start_time": "2022-07-02T09:48:23.661Z"
   },
   {
    "duration": 0,
    "start_time": "2022-07-02T09:48:23.663Z"
   },
   {
    "duration": 0,
    "start_time": "2022-07-02T09:48:23.664Z"
   },
   {
    "duration": 0,
    "start_time": "2022-07-02T09:48:23.665Z"
   },
   {
    "duration": 0,
    "start_time": "2022-07-02T09:48:23.667Z"
   },
   {
    "duration": 0,
    "start_time": "2022-07-02T09:48:23.668Z"
   },
   {
    "duration": 0,
    "start_time": "2022-07-02T09:48:23.669Z"
   },
   {
    "duration": 0,
    "start_time": "2022-07-02T09:48:23.670Z"
   },
   {
    "duration": 0,
    "start_time": "2022-07-02T09:48:23.672Z"
   },
   {
    "duration": 0,
    "start_time": "2022-07-02T09:48:23.674Z"
   },
   {
    "duration": 0,
    "start_time": "2022-07-02T09:48:23.675Z"
   },
   {
    "duration": 0,
    "start_time": "2022-07-02T09:48:23.676Z"
   },
   {
    "duration": 0,
    "start_time": "2022-07-02T09:48:23.678Z"
   },
   {
    "duration": 0,
    "start_time": "2022-07-02T09:48:23.680Z"
   },
   {
    "duration": 0,
    "start_time": "2022-07-02T09:48:23.681Z"
   },
   {
    "duration": 0,
    "start_time": "2022-07-02T09:48:23.682Z"
   },
   {
    "duration": 0,
    "start_time": "2022-07-02T09:48:23.683Z"
   },
   {
    "duration": 0,
    "start_time": "2022-07-02T09:48:23.684Z"
   },
   {
    "duration": 0,
    "start_time": "2022-07-02T09:48:23.684Z"
   },
   {
    "duration": 0,
    "start_time": "2022-07-02T09:48:23.685Z"
   },
   {
    "duration": 0,
    "start_time": "2022-07-02T09:48:23.686Z"
   },
   {
    "duration": 0,
    "start_time": "2022-07-02T09:48:23.730Z"
   },
   {
    "duration": 0,
    "start_time": "2022-07-02T09:48:23.732Z"
   },
   {
    "duration": 0,
    "start_time": "2022-07-02T09:48:23.734Z"
   },
   {
    "duration": 0,
    "start_time": "2022-07-02T09:48:23.735Z"
   },
   {
    "duration": 0,
    "start_time": "2022-07-02T09:48:23.737Z"
   },
   {
    "duration": 0,
    "start_time": "2022-07-02T09:48:23.740Z"
   },
   {
    "duration": 0,
    "start_time": "2022-07-02T09:48:23.742Z"
   },
   {
    "duration": 0,
    "start_time": "2022-07-02T09:48:23.743Z"
   },
   {
    "duration": 130,
    "start_time": "2022-07-02T09:50:03.800Z"
   },
   {
    "duration": 247,
    "start_time": "2022-07-02T09:50:23.856Z"
   },
   {
    "duration": 88,
    "start_time": "2022-07-02T09:50:27.602Z"
   },
   {
    "duration": 77,
    "start_time": "2022-07-02T09:53:18.108Z"
   },
   {
    "duration": 287,
    "start_time": "2022-07-02T09:53:25.748Z"
   },
   {
    "duration": 15,
    "start_time": "2022-07-02T09:55:17.694Z"
   },
   {
    "duration": 110,
    "start_time": "2022-07-02T09:55:18.778Z"
   },
   {
    "duration": 3,
    "start_time": "2022-07-02T09:55:22.041Z"
   },
   {
    "duration": 164,
    "start_time": "2022-07-02T09:55:23.531Z"
   },
   {
    "duration": 11,
    "start_time": "2022-07-02T09:55:25.186Z"
   },
   {
    "duration": 1378,
    "start_time": "2022-07-02T09:55:30.476Z"
   },
   {
    "duration": 1607,
    "start_time": "2022-07-02T09:55:34.830Z"
   },
   {
    "duration": 8,
    "start_time": "2022-07-02T09:59:55.044Z"
   },
   {
    "duration": 1283,
    "start_time": "2022-07-02T10:00:29.594Z"
   },
   {
    "duration": 456,
    "start_time": "2022-07-02T10:00:31.513Z"
   },
   {
    "duration": 666,
    "start_time": "2022-07-02T10:00:33.795Z"
   },
   {
    "duration": 8810,
    "start_time": "2022-07-02T10:00:37.218Z"
   },
   {
    "duration": 23361,
    "start_time": "2022-07-02T10:02:02.811Z"
   },
   {
    "duration": 246,
    "start_time": "2022-07-02T10:02:26.174Z"
   },
   {
    "duration": 373,
    "start_time": "2022-07-02T10:02:26.421Z"
   },
   {
    "duration": 1814,
    "start_time": "2022-07-03T09:57:19.174Z"
   },
   {
    "duration": 2992,
    "start_time": "2022-07-03T09:57:21.750Z"
   },
   {
    "duration": 3,
    "start_time": "2022-07-03T09:57:29.409Z"
   },
   {
    "duration": 502,
    "start_time": "2022-07-03T09:57:30.335Z"
   },
   {
    "duration": 542,
    "start_time": "2022-07-03T09:57:32.006Z"
   },
   {
    "duration": 114,
    "start_time": "2022-07-03T09:57:33.564Z"
   },
   {
    "duration": 147,
    "start_time": "2022-07-03T09:57:38.835Z"
   },
   {
    "duration": 333,
    "start_time": "2022-07-03T09:57:40.189Z"
   },
   {
    "duration": 104,
    "start_time": "2022-07-03T09:57:42.735Z"
   },
   {
    "duration": 375,
    "start_time": "2022-07-03T09:57:49.867Z"
   },
   {
    "duration": 89,
    "start_time": "2022-07-03T09:57:52.799Z"
   },
   {
    "duration": 113,
    "start_time": "2022-07-03T09:57:58.416Z"
   },
   {
    "duration": 114,
    "start_time": "2022-07-03T09:58:57.173Z"
   },
   {
    "duration": 22,
    "start_time": "2022-07-03T09:59:07.565Z"
   },
   {
    "duration": 462,
    "start_time": "2022-07-03T10:00:53.886Z"
   },
   {
    "duration": 2,
    "start_time": "2022-07-03T10:01:02.200Z"
   },
   {
    "duration": 1634,
    "start_time": "2022-07-03T10:01:09.680Z"
   },
   {
    "duration": 48,
    "start_time": "2022-07-03T10:02:16.450Z"
   },
   {
    "duration": 3,
    "start_time": "2022-07-03T10:02:28.481Z"
   },
   {
    "duration": 75,
    "start_time": "2022-07-03T10:04:05.153Z"
   },
   {
    "duration": 3,
    "start_time": "2022-07-03T10:05:49.669Z"
   },
   {
    "duration": 3,
    "start_time": "2022-07-03T10:06:06.329Z"
   },
   {
    "duration": 869,
    "start_time": "2022-07-03T10:06:33.508Z"
   },
   {
    "duration": 10,
    "start_time": "2022-07-03T10:10:30.517Z"
   },
   {
    "duration": 11,
    "start_time": "2022-07-03T10:11:39.021Z"
   },
   {
    "duration": 4,
    "start_time": "2022-07-03T10:11:54.669Z"
   },
   {
    "duration": 3,
    "start_time": "2022-07-03T10:12:02.901Z"
   },
   {
    "duration": 230,
    "start_time": "2022-07-03T10:12:20.857Z"
   },
   {
    "duration": 23,
    "start_time": "2022-07-03T10:16:28.239Z"
   },
   {
    "duration": 186,
    "start_time": "2022-07-03T10:16:38.606Z"
   },
   {
    "duration": 1734,
    "start_time": "2022-07-03T10:17:03.643Z"
   },
   {
    "duration": 931,
    "start_time": "2022-07-03T10:17:05.379Z"
   },
   {
    "duration": 229,
    "start_time": "2022-07-03T10:17:06.312Z"
   },
   {
    "duration": 4,
    "start_time": "2022-07-03T10:17:06.543Z"
   },
   {
    "duration": 596,
    "start_time": "2022-07-03T10:17:06.551Z"
   },
   {
    "duration": 618,
    "start_time": "2022-07-03T10:17:07.149Z"
   },
   {
    "duration": 131,
    "start_time": "2022-07-03T10:17:07.769Z"
   },
   {
    "duration": 184,
    "start_time": "2022-07-03T10:17:07.902Z"
   },
   {
    "duration": 336,
    "start_time": "2022-07-03T10:17:08.089Z"
   },
   {
    "duration": 117,
    "start_time": "2022-07-03T10:17:08.427Z"
   },
   {
    "duration": 390,
    "start_time": "2022-07-03T10:17:08.546Z"
   },
   {
    "duration": 89,
    "start_time": "2022-07-03T10:17:08.938Z"
   },
   {
    "duration": 381,
    "start_time": "2022-07-03T10:17:09.029Z"
   },
   {
    "duration": 14,
    "start_time": "2022-07-03T10:17:09.415Z"
   },
   {
    "duration": 202,
    "start_time": "2022-07-03T10:17:09.441Z"
   },
   {
    "duration": 25,
    "start_time": "2022-07-03T10:17:09.645Z"
   },
   {
    "duration": 19,
    "start_time": "2022-07-03T10:17:09.672Z"
   },
   {
    "duration": 601,
    "start_time": "2022-07-03T10:17:09.693Z"
   },
   {
    "duration": 3,
    "start_time": "2022-07-03T10:17:10.296Z"
   },
   {
    "duration": 5,
    "start_time": "2022-07-03T10:17:10.302Z"
   },
   {
    "duration": 1952,
    "start_time": "2022-07-03T10:17:10.310Z"
   },
   {
    "duration": 45,
    "start_time": "2022-07-03T10:17:12.265Z"
   },
   {
    "duration": 104,
    "start_time": "2022-07-03T10:17:12.312Z"
   },
   {
    "duration": 3,
    "start_time": "2022-07-03T10:17:12.418Z"
   },
   {
    "duration": 19,
    "start_time": "2022-07-03T10:17:12.423Z"
   },
   {
    "duration": 1902,
    "start_time": "2022-07-03T10:43:35.140Z"
   },
   {
    "duration": 1150,
    "start_time": "2022-07-03T10:43:37.044Z"
   },
   {
    "duration": 150,
    "start_time": "2022-07-03T10:43:38.197Z"
   },
   {
    "duration": 4,
    "start_time": "2022-07-03T10:43:38.352Z"
   },
   {
    "duration": 534,
    "start_time": "2022-07-03T10:43:38.358Z"
   },
   {
    "duration": 595,
    "start_time": "2022-07-03T10:43:38.894Z"
   },
   {
    "duration": 126,
    "start_time": "2022-07-03T10:43:39.491Z"
   },
   {
    "duration": 202,
    "start_time": "2022-07-03T10:43:39.620Z"
   },
   {
    "duration": 333,
    "start_time": "2022-07-03T10:43:39.824Z"
   },
   {
    "duration": 134,
    "start_time": "2022-07-03T10:43:40.160Z"
   },
   {
    "duration": 454,
    "start_time": "2022-07-03T10:43:40.296Z"
   },
   {
    "duration": 97,
    "start_time": "2022-07-03T10:43:40.752Z"
   },
   {
    "duration": 334,
    "start_time": "2022-07-03T10:43:40.851Z"
   },
   {
    "duration": 11,
    "start_time": "2022-07-03T10:43:41.186Z"
   },
   {
    "duration": 123,
    "start_time": "2022-07-03T10:43:41.199Z"
   },
   {
    "duration": 27,
    "start_time": "2022-07-03T10:43:41.324Z"
   },
   {
    "duration": 20,
    "start_time": "2022-07-03T10:43:41.353Z"
   },
   {
    "duration": 561,
    "start_time": "2022-07-03T10:43:41.375Z"
   },
   {
    "duration": 3,
    "start_time": "2022-07-03T10:43:41.939Z"
   },
   {
    "duration": 8,
    "start_time": "2022-07-03T10:43:41.945Z"
   },
   {
    "duration": 1868,
    "start_time": "2022-07-03T10:43:41.955Z"
   },
   {
    "duration": 66,
    "start_time": "2022-07-03T10:43:43.825Z"
   },
   {
    "duration": 88,
    "start_time": "2022-07-03T10:43:43.894Z"
   },
   {
    "duration": 4,
    "start_time": "2022-07-03T10:43:43.984Z"
   },
   {
    "duration": 11,
    "start_time": "2022-07-03T10:43:43.990Z"
   },
   {
    "duration": 1546,
    "start_time": "2022-07-03T11:48:04.991Z"
   },
   {
    "duration": 901,
    "start_time": "2022-07-03T11:48:06.539Z"
   },
   {
    "duration": 177,
    "start_time": "2022-07-03T11:48:07.442Z"
   },
   {
    "duration": 19,
    "start_time": "2022-07-03T11:48:07.622Z"
   },
   {
    "duration": 531,
    "start_time": "2022-07-03T11:48:07.646Z"
   },
   {
    "duration": 579,
    "start_time": "2022-07-03T11:48:08.179Z"
   },
   {
    "duration": 127,
    "start_time": "2022-07-03T11:48:08.761Z"
   },
   {
    "duration": 198,
    "start_time": "2022-07-03T11:48:08.890Z"
   },
   {
    "duration": 346,
    "start_time": "2022-07-03T11:48:09.095Z"
   },
   {
    "duration": 111,
    "start_time": "2022-07-03T11:48:09.443Z"
   },
   {
    "duration": 373,
    "start_time": "2022-07-03T11:48:09.556Z"
   },
   {
    "duration": 87,
    "start_time": "2022-07-03T11:48:09.930Z"
   },
   {
    "duration": 368,
    "start_time": "2022-07-03T11:48:10.019Z"
   },
   {
    "duration": 11,
    "start_time": "2022-07-03T11:48:10.391Z"
   },
   {
    "duration": 253,
    "start_time": "2022-07-03T11:48:10.404Z"
   },
   {
    "duration": 33,
    "start_time": "2022-07-03T11:48:10.659Z"
   },
   {
    "duration": 30,
    "start_time": "2022-07-03T11:48:10.695Z"
   },
   {
    "duration": 597,
    "start_time": "2022-07-03T11:48:10.743Z"
   },
   {
    "duration": 3,
    "start_time": "2022-07-03T11:48:11.343Z"
   },
   {
    "duration": 40,
    "start_time": "2022-07-03T11:48:11.349Z"
   },
   {
    "duration": 2038,
    "start_time": "2022-07-03T11:48:11.392Z"
   },
   {
    "duration": 58,
    "start_time": "2022-07-03T11:48:13.432Z"
   },
   {
    "duration": 78,
    "start_time": "2022-07-03T11:48:13.492Z"
   },
   {
    "duration": 3,
    "start_time": "2022-07-03T11:48:13.572Z"
   },
   {
    "duration": 7,
    "start_time": "2022-07-03T11:48:13.577Z"
   },
   {
    "duration": 1487,
    "start_time": "2022-07-03T12:05:41.808Z"
   },
   {
    "duration": 834,
    "start_time": "2022-07-03T12:05:43.299Z"
   },
   {
    "duration": 130,
    "start_time": "2022-07-03T12:05:44.135Z"
   },
   {
    "duration": 3,
    "start_time": "2022-07-03T12:05:44.267Z"
   },
   {
    "duration": 470,
    "start_time": "2022-07-03T12:05:44.271Z"
   },
   {
    "duration": 501,
    "start_time": "2022-07-03T12:05:44.743Z"
   },
   {
    "duration": 107,
    "start_time": "2022-07-03T12:05:45.246Z"
   },
   {
    "duration": 160,
    "start_time": "2022-07-03T12:05:45.355Z"
   },
   {
    "duration": 276,
    "start_time": "2022-07-03T12:05:45.517Z"
   },
   {
    "duration": 110,
    "start_time": "2022-07-03T12:05:45.796Z"
   },
   {
    "duration": 373,
    "start_time": "2022-07-03T12:05:45.907Z"
   },
   {
    "duration": 88,
    "start_time": "2022-07-03T12:05:46.282Z"
   },
   {
    "duration": 316,
    "start_time": "2022-07-03T12:05:46.371Z"
   },
   {
    "duration": 15,
    "start_time": "2022-07-03T12:05:46.690Z"
   },
   {
    "duration": 164,
    "start_time": "2022-07-03T12:05:46.708Z"
   },
   {
    "duration": 28,
    "start_time": "2022-07-03T12:05:46.875Z"
   },
   {
    "duration": 37,
    "start_time": "2022-07-03T12:05:46.905Z"
   },
   {
    "duration": 474,
    "start_time": "2022-07-03T12:05:46.945Z"
   },
   {
    "duration": 3,
    "start_time": "2022-07-03T12:05:47.421Z"
   },
   {
    "duration": 6,
    "start_time": "2022-07-03T12:05:47.425Z"
   },
   {
    "duration": 1711,
    "start_time": "2022-07-03T12:05:47.433Z"
   },
   {
    "duration": 65,
    "start_time": "2022-07-03T12:05:49.146Z"
   },
   {
    "duration": 79,
    "start_time": "2022-07-03T12:05:49.213Z"
   },
   {
    "duration": 4,
    "start_time": "2022-07-03T12:05:49.294Z"
   },
   {
    "duration": 6,
    "start_time": "2022-07-03T12:05:49.300Z"
   },
   {
    "duration": 7,
    "start_time": "2022-07-03T12:05:49.309Z"
   },
   {
    "duration": 7,
    "start_time": "2022-07-03T12:05:49.317Z"
   },
   {
    "duration": 118,
    "start_time": "2022-07-03T12:05:49.342Z"
   },
   {
    "duration": 98,
    "start_time": "2022-07-03T12:05:49.462Z"
   },
   {
    "duration": 211,
    "start_time": "2022-07-03T12:05:49.647Z"
   },
   {
    "duration": 7,
    "start_time": "2022-07-03T12:05:49.942Z"
   },
   {
    "duration": 92,
    "start_time": "2022-07-03T12:05:49.951Z"
   },
   {
    "duration": 126,
    "start_time": "2022-07-03T12:05:50.045Z"
   },
   {
    "duration": 0,
    "start_time": "2022-07-03T12:05:50.173Z"
   },
   {
    "duration": 0,
    "start_time": "2022-07-03T12:05:50.174Z"
   },
   {
    "duration": 0,
    "start_time": "2022-07-03T12:05:50.176Z"
   },
   {
    "duration": 0,
    "start_time": "2022-07-03T12:05:50.177Z"
   },
   {
    "duration": 0,
    "start_time": "2022-07-03T12:05:50.178Z"
   },
   {
    "duration": 0,
    "start_time": "2022-07-03T12:05:50.180Z"
   },
   {
    "duration": 0,
    "start_time": "2022-07-03T12:05:50.181Z"
   },
   {
    "duration": 0,
    "start_time": "2022-07-03T12:05:50.182Z"
   },
   {
    "duration": 0,
    "start_time": "2022-07-03T12:05:50.183Z"
   },
   {
    "duration": 0,
    "start_time": "2022-07-03T12:05:50.184Z"
   },
   {
    "duration": 0,
    "start_time": "2022-07-03T12:05:50.185Z"
   },
   {
    "duration": 0,
    "start_time": "2022-07-03T12:05:50.186Z"
   },
   {
    "duration": 0,
    "start_time": "2022-07-03T12:05:50.188Z"
   },
   {
    "duration": 0,
    "start_time": "2022-07-03T12:05:50.189Z"
   },
   {
    "duration": 0,
    "start_time": "2022-07-03T12:05:50.190Z"
   },
   {
    "duration": 0,
    "start_time": "2022-07-03T12:05:50.191Z"
   },
   {
    "duration": 0,
    "start_time": "2022-07-03T12:05:50.192Z"
   },
   {
    "duration": 0,
    "start_time": "2022-07-03T12:05:50.193Z"
   },
   {
    "duration": 0,
    "start_time": "2022-07-03T12:05:50.194Z"
   },
   {
    "duration": 0,
    "start_time": "2022-07-03T12:05:50.196Z"
   },
   {
    "duration": 1,
    "start_time": "2022-07-03T12:05:50.196Z"
   },
   {
    "duration": 0,
    "start_time": "2022-07-03T12:05:50.198Z"
   },
   {
    "duration": 0,
    "start_time": "2022-07-03T12:05:50.199Z"
   },
   {
    "duration": 0,
    "start_time": "2022-07-03T12:05:50.241Z"
   },
   {
    "duration": 0,
    "start_time": "2022-07-03T12:05:50.243Z"
   },
   {
    "duration": 0,
    "start_time": "2022-07-03T12:05:50.244Z"
   },
   {
    "duration": 0,
    "start_time": "2022-07-03T12:05:50.245Z"
   },
   {
    "duration": 0,
    "start_time": "2022-07-03T12:05:50.246Z"
   },
   {
    "duration": 0,
    "start_time": "2022-07-03T12:05:50.247Z"
   },
   {
    "duration": 0,
    "start_time": "2022-07-03T12:05:50.248Z"
   },
   {
    "duration": 0,
    "start_time": "2022-07-03T12:05:50.249Z"
   },
   {
    "duration": 0,
    "start_time": "2022-07-03T12:05:50.250Z"
   },
   {
    "duration": 0,
    "start_time": "2022-07-03T12:05:50.251Z"
   },
   {
    "duration": 0,
    "start_time": "2022-07-03T12:05:50.252Z"
   },
   {
    "duration": 0,
    "start_time": "2022-07-03T12:05:50.253Z"
   },
   {
    "duration": 0,
    "start_time": "2022-07-03T12:05:50.254Z"
   },
   {
    "duration": 0,
    "start_time": "2022-07-03T12:05:50.254Z"
   },
   {
    "duration": 1,
    "start_time": "2022-07-03T12:05:50.255Z"
   },
   {
    "duration": 0,
    "start_time": "2022-07-03T12:05:50.257Z"
   },
   {
    "duration": 0,
    "start_time": "2022-07-03T12:05:50.258Z"
   },
   {
    "duration": 13,
    "start_time": "2022-07-03T12:07:42.927Z"
   },
   {
    "duration": 1624,
    "start_time": "2022-07-03T12:08:32.629Z"
   },
   {
    "duration": 797,
    "start_time": "2022-07-03T12:08:34.254Z"
   },
   {
    "duration": 129,
    "start_time": "2022-07-03T12:08:35.052Z"
   },
   {
    "duration": 3,
    "start_time": "2022-07-03T12:08:35.183Z"
   },
   {
    "duration": 472,
    "start_time": "2022-07-03T12:08:35.188Z"
   },
   {
    "duration": 505,
    "start_time": "2022-07-03T12:08:35.662Z"
   },
   {
    "duration": 108,
    "start_time": "2022-07-03T12:08:36.169Z"
   },
   {
    "duration": 190,
    "start_time": "2022-07-03T12:08:36.279Z"
   },
   {
    "duration": 307,
    "start_time": "2022-07-03T12:08:36.471Z"
   },
   {
    "duration": 134,
    "start_time": "2022-07-03T12:08:36.781Z"
   },
   {
    "duration": 410,
    "start_time": "2022-07-03T12:08:36.917Z"
   },
   {
    "duration": 104,
    "start_time": "2022-07-03T12:08:37.328Z"
   },
   {
    "duration": 380,
    "start_time": "2022-07-03T12:08:37.434Z"
   },
   {
    "duration": 9,
    "start_time": "2022-07-03T12:08:37.817Z"
   },
   {
    "duration": 114,
    "start_time": "2022-07-03T12:08:37.828Z"
   },
   {
    "duration": 20,
    "start_time": "2022-07-03T12:08:37.944Z"
   },
   {
    "duration": 18,
    "start_time": "2022-07-03T12:08:37.965Z"
   },
   {
    "duration": 511,
    "start_time": "2022-07-03T12:08:37.984Z"
   },
   {
    "duration": 3,
    "start_time": "2022-07-03T12:08:38.496Z"
   },
   {
    "duration": 8,
    "start_time": "2022-07-03T12:08:38.502Z"
   },
   {
    "duration": 1686,
    "start_time": "2022-07-03T12:08:38.514Z"
   },
   {
    "duration": 57,
    "start_time": "2022-07-03T12:08:40.202Z"
   },
   {
    "duration": 57,
    "start_time": "2022-07-03T12:08:40.261Z"
   },
   {
    "duration": 2,
    "start_time": "2022-07-03T12:08:40.320Z"
   },
   {
    "duration": 18,
    "start_time": "2022-07-03T12:08:40.324Z"
   },
   {
    "duration": 2,
    "start_time": "2022-07-03T12:08:40.344Z"
   },
   {
    "duration": 6,
    "start_time": "2022-07-03T12:08:40.348Z"
   },
   {
    "duration": 105,
    "start_time": "2022-07-03T12:08:40.356Z"
   },
   {
    "duration": 90,
    "start_time": "2022-07-03T12:08:40.463Z"
   },
   {
    "duration": 389,
    "start_time": "2022-07-03T12:08:40.554Z"
   },
   {
    "duration": 9,
    "start_time": "2022-07-03T12:08:40.945Z"
   },
   {
    "duration": 99,
    "start_time": "2022-07-03T12:08:40.956Z"
   },
   {
    "duration": 2,
    "start_time": "2022-07-03T12:08:41.060Z"
   },
   {
    "duration": 146,
    "start_time": "2022-07-03T12:08:41.064Z"
   },
   {
    "duration": 0,
    "start_time": "2022-07-03T12:08:41.212Z"
   },
   {
    "duration": 0,
    "start_time": "2022-07-03T12:08:41.214Z"
   },
   {
    "duration": 0,
    "start_time": "2022-07-03T12:08:41.215Z"
   },
   {
    "duration": 0,
    "start_time": "2022-07-03T12:08:41.216Z"
   },
   {
    "duration": 0,
    "start_time": "2022-07-03T12:08:41.217Z"
   },
   {
    "duration": 0,
    "start_time": "2022-07-03T12:08:41.218Z"
   },
   {
    "duration": 0,
    "start_time": "2022-07-03T12:08:41.220Z"
   },
   {
    "duration": 0,
    "start_time": "2022-07-03T12:08:41.241Z"
   },
   {
    "duration": 0,
    "start_time": "2022-07-03T12:08:41.242Z"
   },
   {
    "duration": 0,
    "start_time": "2022-07-03T12:08:41.244Z"
   },
   {
    "duration": 0,
    "start_time": "2022-07-03T12:08:41.245Z"
   },
   {
    "duration": 0,
    "start_time": "2022-07-03T12:08:41.247Z"
   },
   {
    "duration": 0,
    "start_time": "2022-07-03T12:08:41.248Z"
   },
   {
    "duration": 0,
    "start_time": "2022-07-03T12:08:41.249Z"
   },
   {
    "duration": 0,
    "start_time": "2022-07-03T12:08:41.250Z"
   },
   {
    "duration": 0,
    "start_time": "2022-07-03T12:08:41.251Z"
   },
   {
    "duration": 0,
    "start_time": "2022-07-03T12:08:41.252Z"
   },
   {
    "duration": 0,
    "start_time": "2022-07-03T12:08:41.253Z"
   },
   {
    "duration": 0,
    "start_time": "2022-07-03T12:08:41.254Z"
   },
   {
    "duration": 0,
    "start_time": "2022-07-03T12:08:41.255Z"
   },
   {
    "duration": 0,
    "start_time": "2022-07-03T12:08:41.256Z"
   },
   {
    "duration": 0,
    "start_time": "2022-07-03T12:08:41.257Z"
   },
   {
    "duration": 0,
    "start_time": "2022-07-03T12:08:41.258Z"
   },
   {
    "duration": 0,
    "start_time": "2022-07-03T12:08:41.258Z"
   },
   {
    "duration": 0,
    "start_time": "2022-07-03T12:08:41.259Z"
   },
   {
    "duration": 0,
    "start_time": "2022-07-03T12:08:41.260Z"
   },
   {
    "duration": 0,
    "start_time": "2022-07-03T12:08:41.261Z"
   },
   {
    "duration": 0,
    "start_time": "2022-07-03T12:08:41.262Z"
   },
   {
    "duration": 0,
    "start_time": "2022-07-03T12:08:41.263Z"
   },
   {
    "duration": 0,
    "start_time": "2022-07-03T12:08:41.264Z"
   },
   {
    "duration": 0,
    "start_time": "2022-07-03T12:08:41.264Z"
   },
   {
    "duration": 0,
    "start_time": "2022-07-03T12:08:41.265Z"
   },
   {
    "duration": 0,
    "start_time": "2022-07-03T12:08:41.266Z"
   },
   {
    "duration": 0,
    "start_time": "2022-07-03T12:08:41.267Z"
   },
   {
    "duration": 0,
    "start_time": "2022-07-03T12:08:41.268Z"
   },
   {
    "duration": 0,
    "start_time": "2022-07-03T12:08:41.269Z"
   },
   {
    "duration": 0,
    "start_time": "2022-07-03T12:08:41.270Z"
   },
   {
    "duration": 0,
    "start_time": "2022-07-03T12:08:41.271Z"
   },
   {
    "duration": 0,
    "start_time": "2022-07-03T12:08:41.272Z"
   },
   {
    "duration": 1587,
    "start_time": "2022-07-03T12:10:43.249Z"
   },
   {
    "duration": 834,
    "start_time": "2022-07-03T12:10:44.840Z"
   },
   {
    "duration": 128,
    "start_time": "2022-07-03T12:10:45.676Z"
   },
   {
    "duration": 3,
    "start_time": "2022-07-03T12:10:45.805Z"
   },
   {
    "duration": 522,
    "start_time": "2022-07-03T12:10:45.812Z"
   },
   {
    "duration": 587,
    "start_time": "2022-07-03T12:10:46.336Z"
   },
   {
    "duration": 128,
    "start_time": "2022-07-03T12:10:46.925Z"
   },
   {
    "duration": 160,
    "start_time": "2022-07-03T12:10:47.055Z"
   },
   {
    "duration": 287,
    "start_time": "2022-07-03T12:10:47.217Z"
   },
   {
    "duration": 123,
    "start_time": "2022-07-03T12:10:47.506Z"
   },
   {
    "duration": 362,
    "start_time": "2022-07-03T12:10:47.631Z"
   },
   {
    "duration": 97,
    "start_time": "2022-07-03T12:10:47.995Z"
   },
   {
    "duration": 399,
    "start_time": "2022-07-03T12:10:48.094Z"
   },
   {
    "duration": 11,
    "start_time": "2022-07-03T12:10:48.498Z"
   },
   {
    "duration": 125,
    "start_time": "2022-07-03T12:10:48.511Z"
   },
   {
    "duration": 19,
    "start_time": "2022-07-03T12:10:48.642Z"
   },
   {
    "duration": 18,
    "start_time": "2022-07-03T12:10:48.663Z"
   },
   {
    "duration": 526,
    "start_time": "2022-07-03T12:10:48.683Z"
   },
   {
    "duration": 2,
    "start_time": "2022-07-03T12:10:49.211Z"
   },
   {
    "duration": 5,
    "start_time": "2022-07-03T12:10:49.215Z"
   },
   {
    "duration": 1708,
    "start_time": "2022-07-03T12:10:49.222Z"
   },
   {
    "duration": 61,
    "start_time": "2022-07-03T12:10:50.933Z"
   },
   {
    "duration": 73,
    "start_time": "2022-07-03T12:10:50.996Z"
   },
   {
    "duration": 4,
    "start_time": "2022-07-03T12:10:51.071Z"
   },
   {
    "duration": 6,
    "start_time": "2022-07-03T12:10:51.078Z"
   },
   {
    "duration": 1649,
    "start_time": "2022-07-03T15:36:11.647Z"
   },
   {
    "duration": 1134,
    "start_time": "2022-07-03T15:36:13.298Z"
   },
   {
    "duration": 203,
    "start_time": "2022-07-03T15:36:14.434Z"
   },
   {
    "duration": 3,
    "start_time": "2022-07-03T15:36:14.639Z"
   },
   {
    "duration": 561,
    "start_time": "2022-07-03T15:36:14.644Z"
   },
   {
    "duration": 524,
    "start_time": "2022-07-03T15:36:15.207Z"
   },
   {
    "duration": 130,
    "start_time": "2022-07-03T15:36:15.733Z"
   },
   {
    "duration": 165,
    "start_time": "2022-07-03T15:36:15.866Z"
   },
   {
    "duration": 304,
    "start_time": "2022-07-03T15:36:16.033Z"
   },
   {
    "duration": 108,
    "start_time": "2022-07-03T15:36:16.342Z"
   },
   {
    "duration": 351,
    "start_time": "2022-07-03T15:36:16.451Z"
   },
   {
    "duration": 87,
    "start_time": "2022-07-03T15:36:16.804Z"
   },
   {
    "duration": 375,
    "start_time": "2022-07-03T15:36:16.893Z"
   },
   {
    "duration": 11,
    "start_time": "2022-07-03T15:36:17.270Z"
   },
   {
    "duration": 123,
    "start_time": "2022-07-03T15:36:17.282Z"
   },
   {
    "duration": 34,
    "start_time": "2022-07-03T15:36:17.407Z"
   },
   {
    "duration": 18,
    "start_time": "2022-07-03T15:36:17.443Z"
   },
   {
    "duration": 504,
    "start_time": "2022-07-03T15:36:17.464Z"
   },
   {
    "duration": 3,
    "start_time": "2022-07-03T15:36:17.970Z"
   },
   {
    "duration": 10,
    "start_time": "2022-07-03T15:36:17.975Z"
   },
   {
    "duration": 1589,
    "start_time": "2022-07-03T15:36:17.987Z"
   },
   {
    "duration": 51,
    "start_time": "2022-07-03T15:36:19.577Z"
   },
   {
    "duration": 64,
    "start_time": "2022-07-03T15:36:19.630Z"
   },
   {
    "duration": 3,
    "start_time": "2022-07-03T15:36:19.696Z"
   },
   {
    "duration": 6,
    "start_time": "2022-07-03T15:36:19.701Z"
   },
   {
    "duration": 1402,
    "start_time": "2022-07-03T15:47:14.654Z"
   },
   {
    "duration": 835,
    "start_time": "2022-07-03T15:47:16.058Z"
   },
   {
    "duration": 147,
    "start_time": "2022-07-03T15:47:16.894Z"
   },
   {
    "duration": 3,
    "start_time": "2022-07-03T15:47:17.042Z"
   },
   {
    "duration": 509,
    "start_time": "2022-07-03T15:47:17.047Z"
   },
   {
    "duration": 534,
    "start_time": "2022-07-03T15:47:17.558Z"
   },
   {
    "duration": 123,
    "start_time": "2022-07-03T15:47:18.094Z"
   },
   {
    "duration": 176,
    "start_time": "2022-07-03T15:47:18.227Z"
   },
   {
    "duration": 289,
    "start_time": "2022-07-03T15:47:18.406Z"
   },
   {
    "duration": 106,
    "start_time": "2022-07-03T15:47:18.698Z"
   },
   {
    "duration": 362,
    "start_time": "2022-07-03T15:47:18.806Z"
   },
   {
    "duration": 97,
    "start_time": "2022-07-03T15:47:19.169Z"
   },
   {
    "duration": 371,
    "start_time": "2022-07-03T15:47:19.267Z"
   },
   {
    "duration": 10,
    "start_time": "2022-07-03T15:47:19.641Z"
   },
   {
    "duration": 117,
    "start_time": "2022-07-03T15:47:19.652Z"
   },
   {
    "duration": 25,
    "start_time": "2022-07-03T15:47:19.771Z"
   },
   {
    "duration": 36,
    "start_time": "2022-07-03T15:47:19.798Z"
   },
   {
    "duration": 506,
    "start_time": "2022-07-03T15:47:19.836Z"
   },
   {
    "duration": 3,
    "start_time": "2022-07-03T15:47:20.344Z"
   },
   {
    "duration": 11,
    "start_time": "2022-07-03T15:47:20.348Z"
   },
   {
    "duration": 1494,
    "start_time": "2022-07-03T15:47:20.361Z"
   },
   {
    "duration": 53,
    "start_time": "2022-07-03T15:47:21.856Z"
   },
   {
    "duration": 76,
    "start_time": "2022-07-03T15:47:21.911Z"
   },
   {
    "duration": 3,
    "start_time": "2022-07-03T15:47:21.989Z"
   },
   {
    "duration": 13,
    "start_time": "2022-07-03T15:47:21.993Z"
   },
   {
    "duration": 9,
    "start_time": "2022-07-03T15:47:22.007Z"
   },
   {
    "duration": 9,
    "start_time": "2022-07-03T15:47:22.018Z"
   },
   {
    "duration": 18,
    "start_time": "2022-07-03T15:47:22.030Z"
   },
   {
    "duration": 12,
    "start_time": "2022-07-03T15:47:22.050Z"
   },
   {
    "duration": 11,
    "start_time": "2022-07-03T15:47:22.064Z"
   },
   {
    "duration": 126,
    "start_time": "2022-07-03T15:47:22.077Z"
   },
   {
    "duration": 0,
    "start_time": "2022-07-03T15:47:22.205Z"
   },
   {
    "duration": 0,
    "start_time": "2022-07-03T15:47:22.208Z"
   },
   {
    "duration": 0,
    "start_time": "2022-07-03T15:47:22.209Z"
   },
   {
    "duration": 0,
    "start_time": "2022-07-03T15:47:22.210Z"
   },
   {
    "duration": 0,
    "start_time": "2022-07-03T15:47:22.211Z"
   },
   {
    "duration": 0,
    "start_time": "2022-07-03T15:47:22.212Z"
   },
   {
    "duration": 0,
    "start_time": "2022-07-03T15:47:22.214Z"
   },
   {
    "duration": 0,
    "start_time": "2022-07-03T15:47:22.226Z"
   },
   {
    "duration": 0,
    "start_time": "2022-07-03T15:47:22.228Z"
   },
   {
    "duration": 0,
    "start_time": "2022-07-03T15:47:22.229Z"
   },
   {
    "duration": 0,
    "start_time": "2022-07-03T15:47:22.230Z"
   },
   {
    "duration": 0,
    "start_time": "2022-07-03T15:47:22.232Z"
   },
   {
    "duration": 0,
    "start_time": "2022-07-03T15:47:22.233Z"
   },
   {
    "duration": 0,
    "start_time": "2022-07-03T15:47:22.234Z"
   },
   {
    "duration": 0,
    "start_time": "2022-07-03T15:47:22.235Z"
   },
   {
    "duration": 0,
    "start_time": "2022-07-03T15:47:22.236Z"
   },
   {
    "duration": 0,
    "start_time": "2022-07-03T15:47:22.237Z"
   },
   {
    "duration": 0,
    "start_time": "2022-07-03T15:47:22.238Z"
   },
   {
    "duration": 0,
    "start_time": "2022-07-03T15:47:22.240Z"
   },
   {
    "duration": 0,
    "start_time": "2022-07-03T15:47:22.241Z"
   },
   {
    "duration": 0,
    "start_time": "2022-07-03T15:47:22.242Z"
   },
   {
    "duration": 0,
    "start_time": "2022-07-03T15:47:22.244Z"
   },
   {
    "duration": 0,
    "start_time": "2022-07-03T15:47:22.245Z"
   },
   {
    "duration": 0,
    "start_time": "2022-07-03T15:47:22.246Z"
   },
   {
    "duration": 0,
    "start_time": "2022-07-03T15:47:22.247Z"
   },
   {
    "duration": 0,
    "start_time": "2022-07-03T15:47:22.248Z"
   },
   {
    "duration": 0,
    "start_time": "2022-07-03T15:47:22.249Z"
   },
   {
    "duration": 0,
    "start_time": "2022-07-03T15:47:22.250Z"
   },
   {
    "duration": 0,
    "start_time": "2022-07-03T15:47:22.251Z"
   },
   {
    "duration": 0,
    "start_time": "2022-07-03T15:47:22.252Z"
   },
   {
    "duration": 0,
    "start_time": "2022-07-03T15:47:22.253Z"
   },
   {
    "duration": 0,
    "start_time": "2022-07-03T15:47:22.255Z"
   },
   {
    "duration": 0,
    "start_time": "2022-07-03T15:47:22.256Z"
   },
   {
    "duration": 0,
    "start_time": "2022-07-03T15:47:22.257Z"
   },
   {
    "duration": 0,
    "start_time": "2022-07-03T15:47:22.258Z"
   },
   {
    "duration": 0,
    "start_time": "2022-07-03T15:47:22.259Z"
   },
   {
    "duration": 0,
    "start_time": "2022-07-03T15:47:22.261Z"
   },
   {
    "duration": 0,
    "start_time": "2022-07-03T15:47:22.262Z"
   },
   {
    "duration": 0,
    "start_time": "2022-07-03T15:47:22.326Z"
   },
   {
    "duration": 0,
    "start_time": "2022-07-03T15:47:22.327Z"
   },
   {
    "duration": 0,
    "start_time": "2022-07-03T15:47:22.328Z"
   },
   {
    "duration": 0,
    "start_time": "2022-07-03T15:47:22.330Z"
   },
   {
    "duration": 3,
    "start_time": "2022-07-03T16:06:07.044Z"
   },
   {
    "duration": 1471,
    "start_time": "2022-07-03T16:06:50.246Z"
   },
   {
    "duration": 840,
    "start_time": "2022-07-03T16:06:51.719Z"
   },
   {
    "duration": 144,
    "start_time": "2022-07-03T16:06:52.561Z"
   },
   {
    "duration": 3,
    "start_time": "2022-07-03T16:06:52.708Z"
   },
   {
    "duration": 476,
    "start_time": "2022-07-03T16:06:52.712Z"
   },
   {
    "duration": 521,
    "start_time": "2022-07-03T16:06:53.190Z"
   },
   {
    "duration": 130,
    "start_time": "2022-07-03T16:06:53.713Z"
   },
   {
    "duration": 223,
    "start_time": "2022-07-03T16:06:53.845Z"
   },
   {
    "duration": 301,
    "start_time": "2022-07-03T16:06:54.070Z"
   },
   {
    "duration": 129,
    "start_time": "2022-07-03T16:06:54.375Z"
   },
   {
    "duration": 456,
    "start_time": "2022-07-03T16:06:54.507Z"
   },
   {
    "duration": 115,
    "start_time": "2022-07-03T16:06:54.965Z"
   },
   {
    "duration": 409,
    "start_time": "2022-07-03T16:06:55.082Z"
   },
   {
    "duration": 10,
    "start_time": "2022-07-03T16:06:55.493Z"
   },
   {
    "duration": 124,
    "start_time": "2022-07-03T16:06:55.505Z"
   },
   {
    "duration": 27,
    "start_time": "2022-07-03T16:06:55.630Z"
   },
   {
    "duration": 17,
    "start_time": "2022-07-03T16:06:55.659Z"
   },
   {
    "duration": 495,
    "start_time": "2022-07-03T16:06:55.678Z"
   },
   {
    "duration": 3,
    "start_time": "2022-07-03T16:06:56.175Z"
   },
   {
    "duration": 5,
    "start_time": "2022-07-03T16:06:56.180Z"
   },
   {
    "duration": 1667,
    "start_time": "2022-07-03T16:06:56.187Z"
   },
   {
    "duration": 43,
    "start_time": "2022-07-03T16:06:57.856Z"
   },
   {
    "duration": 86,
    "start_time": "2022-07-03T16:06:57.901Z"
   },
   {
    "duration": 4,
    "start_time": "2022-07-03T16:06:57.989Z"
   },
   {
    "duration": 10,
    "start_time": "2022-07-03T16:06:57.995Z"
   },
   {
    "duration": 8,
    "start_time": "2022-07-03T16:06:58.007Z"
   },
   {
    "duration": 10,
    "start_time": "2022-07-03T16:06:58.017Z"
   },
   {
    "duration": 7,
    "start_time": "2022-07-03T16:06:58.034Z"
   },
   {
    "duration": 13,
    "start_time": "2022-07-03T16:06:58.043Z"
   },
   {
    "duration": 6,
    "start_time": "2022-07-03T16:06:58.058Z"
   },
   {
    "duration": 6,
    "start_time": "2022-07-03T16:06:58.066Z"
   },
   {
    "duration": 49,
    "start_time": "2022-07-03T16:06:58.074Z"
   },
   {
    "duration": 0,
    "start_time": "2022-07-03T16:06:58.125Z"
   },
   {
    "duration": 0,
    "start_time": "2022-07-03T16:06:58.126Z"
   },
   {
    "duration": 0,
    "start_time": "2022-07-03T16:06:58.127Z"
   },
   {
    "duration": 0,
    "start_time": "2022-07-03T16:06:58.128Z"
   },
   {
    "duration": 0,
    "start_time": "2022-07-03T16:06:58.129Z"
   },
   {
    "duration": 0,
    "start_time": "2022-07-03T16:06:58.130Z"
   },
   {
    "duration": 0,
    "start_time": "2022-07-03T16:06:58.131Z"
   },
   {
    "duration": 0,
    "start_time": "2022-07-03T16:06:58.132Z"
   },
   {
    "duration": 0,
    "start_time": "2022-07-03T16:06:58.133Z"
   },
   {
    "duration": 0,
    "start_time": "2022-07-03T16:06:58.133Z"
   },
   {
    "duration": 0,
    "start_time": "2022-07-03T16:06:58.134Z"
   },
   {
    "duration": 0,
    "start_time": "2022-07-03T16:06:58.136Z"
   },
   {
    "duration": 0,
    "start_time": "2022-07-03T16:06:58.136Z"
   },
   {
    "duration": 0,
    "start_time": "2022-07-03T16:06:58.138Z"
   },
   {
    "duration": 0,
    "start_time": "2022-07-03T16:06:58.140Z"
   },
   {
    "duration": 0,
    "start_time": "2022-07-03T16:06:58.141Z"
   },
   {
    "duration": 0,
    "start_time": "2022-07-03T16:06:58.142Z"
   },
   {
    "duration": 0,
    "start_time": "2022-07-03T16:06:58.142Z"
   },
   {
    "duration": 0,
    "start_time": "2022-07-03T16:06:58.144Z"
   },
   {
    "duration": 0,
    "start_time": "2022-07-03T16:06:58.145Z"
   },
   {
    "duration": 0,
    "start_time": "2022-07-03T16:06:58.146Z"
   },
   {
    "duration": 0,
    "start_time": "2022-07-03T16:06:58.147Z"
   },
   {
    "duration": 0,
    "start_time": "2022-07-03T16:06:58.149Z"
   },
   {
    "duration": 0,
    "start_time": "2022-07-03T16:06:58.150Z"
   },
   {
    "duration": 0,
    "start_time": "2022-07-03T16:06:58.151Z"
   },
   {
    "duration": 0,
    "start_time": "2022-07-03T16:06:58.152Z"
   },
   {
    "duration": 0,
    "start_time": "2022-07-03T16:06:58.153Z"
   },
   {
    "duration": 0,
    "start_time": "2022-07-03T16:06:58.155Z"
   },
   {
    "duration": 0,
    "start_time": "2022-07-03T16:06:58.155Z"
   },
   {
    "duration": 0,
    "start_time": "2022-07-03T16:06:58.157Z"
   },
   {
    "duration": 0,
    "start_time": "2022-07-03T16:06:58.158Z"
   },
   {
    "duration": 0,
    "start_time": "2022-07-03T16:06:58.159Z"
   },
   {
    "duration": 0,
    "start_time": "2022-07-03T16:06:58.160Z"
   },
   {
    "duration": 0,
    "start_time": "2022-07-03T16:06:58.161Z"
   },
   {
    "duration": 0,
    "start_time": "2022-07-03T16:06:58.162Z"
   },
   {
    "duration": 0,
    "start_time": "2022-07-03T16:06:58.163Z"
   },
   {
    "duration": 0,
    "start_time": "2022-07-03T16:06:58.164Z"
   },
   {
    "duration": 0,
    "start_time": "2022-07-03T16:06:58.165Z"
   },
   {
    "duration": 0,
    "start_time": "2022-07-03T16:06:58.166Z"
   },
   {
    "duration": 0,
    "start_time": "2022-07-03T16:06:58.227Z"
   },
   {
    "duration": 0,
    "start_time": "2022-07-03T16:06:58.228Z"
   },
   {
    "duration": 1519,
    "start_time": "2022-07-03T16:08:15.338Z"
   },
   {
    "duration": 832,
    "start_time": "2022-07-03T16:08:16.859Z"
   },
   {
    "duration": 155,
    "start_time": "2022-07-03T16:08:17.692Z"
   },
   {
    "duration": 3,
    "start_time": "2022-07-03T16:08:17.849Z"
   },
   {
    "duration": 499,
    "start_time": "2022-07-03T16:08:17.854Z"
   },
   {
    "duration": 541,
    "start_time": "2022-07-03T16:08:18.355Z"
   },
   {
    "duration": 152,
    "start_time": "2022-07-03T16:08:18.898Z"
   },
   {
    "duration": 168,
    "start_time": "2022-07-03T16:08:19.052Z"
   },
   {
    "duration": 274,
    "start_time": "2022-07-03T16:08:19.222Z"
   },
   {
    "duration": 109,
    "start_time": "2022-07-03T16:08:19.501Z"
   },
   {
    "duration": 356,
    "start_time": "2022-07-03T16:08:19.612Z"
   },
   {
    "duration": 99,
    "start_time": "2022-07-03T16:08:19.971Z"
   },
   {
    "duration": 368,
    "start_time": "2022-07-03T16:08:20.072Z"
   },
   {
    "duration": 11,
    "start_time": "2022-07-03T16:08:20.441Z"
   },
   {
    "duration": 109,
    "start_time": "2022-07-03T16:08:20.453Z"
   },
   {
    "duration": 20,
    "start_time": "2022-07-03T16:08:20.564Z"
   },
   {
    "duration": 18,
    "start_time": "2022-07-03T16:08:20.586Z"
   },
   {
    "duration": 500,
    "start_time": "2022-07-03T16:08:20.605Z"
   },
   {
    "duration": 3,
    "start_time": "2022-07-03T16:08:21.106Z"
   },
   {
    "duration": 20,
    "start_time": "2022-07-03T16:08:21.111Z"
   },
   {
    "duration": 1737,
    "start_time": "2022-07-03T16:08:21.133Z"
   },
   {
    "duration": 59,
    "start_time": "2022-07-03T16:08:22.873Z"
   },
   {
    "duration": 92,
    "start_time": "2022-07-03T16:08:22.934Z"
   },
   {
    "duration": 3,
    "start_time": "2022-07-03T16:08:23.029Z"
   },
   {
    "duration": 10,
    "start_time": "2022-07-03T16:08:23.033Z"
   },
   {
    "duration": 9,
    "start_time": "2022-07-03T16:08:23.044Z"
   },
   {
    "duration": 9,
    "start_time": "2022-07-03T16:08:23.054Z"
   },
   {
    "duration": 7,
    "start_time": "2022-07-03T16:08:23.066Z"
   },
   {
    "duration": 10,
    "start_time": "2022-07-03T16:08:23.075Z"
   },
   {
    "duration": 10,
    "start_time": "2022-07-03T16:08:23.087Z"
   },
   {
    "duration": 8,
    "start_time": "2022-07-03T16:08:23.099Z"
   },
   {
    "duration": 50,
    "start_time": "2022-07-03T16:08:23.109Z"
   },
   {
    "duration": 0,
    "start_time": "2022-07-03T16:08:23.161Z"
   },
   {
    "duration": 0,
    "start_time": "2022-07-03T16:08:23.162Z"
   },
   {
    "duration": 0,
    "start_time": "2022-07-03T16:08:23.163Z"
   },
   {
    "duration": 0,
    "start_time": "2022-07-03T16:08:23.164Z"
   },
   {
    "duration": 0,
    "start_time": "2022-07-03T16:08:23.166Z"
   },
   {
    "duration": 0,
    "start_time": "2022-07-03T16:08:23.167Z"
   },
   {
    "duration": 0,
    "start_time": "2022-07-03T16:08:23.168Z"
   },
   {
    "duration": 0,
    "start_time": "2022-07-03T16:08:23.169Z"
   },
   {
    "duration": 0,
    "start_time": "2022-07-03T16:08:23.170Z"
   },
   {
    "duration": 0,
    "start_time": "2022-07-03T16:08:23.171Z"
   },
   {
    "duration": 0,
    "start_time": "2022-07-03T16:08:23.172Z"
   },
   {
    "duration": 0,
    "start_time": "2022-07-03T16:08:23.173Z"
   },
   {
    "duration": 0,
    "start_time": "2022-07-03T16:08:23.174Z"
   },
   {
    "duration": 0,
    "start_time": "2022-07-03T16:08:23.176Z"
   },
   {
    "duration": 0,
    "start_time": "2022-07-03T16:08:23.177Z"
   },
   {
    "duration": 0,
    "start_time": "2022-07-03T16:08:23.178Z"
   },
   {
    "duration": 0,
    "start_time": "2022-07-03T16:08:23.180Z"
   },
   {
    "duration": 0,
    "start_time": "2022-07-03T16:08:23.182Z"
   },
   {
    "duration": 0,
    "start_time": "2022-07-03T16:08:23.183Z"
   },
   {
    "duration": 0,
    "start_time": "2022-07-03T16:08:23.185Z"
   },
   {
    "duration": 0,
    "start_time": "2022-07-03T16:08:23.186Z"
   },
   {
    "duration": 0,
    "start_time": "2022-07-03T16:08:23.188Z"
   },
   {
    "duration": 0,
    "start_time": "2022-07-03T16:08:23.190Z"
   },
   {
    "duration": 0,
    "start_time": "2022-07-03T16:08:23.191Z"
   },
   {
    "duration": 0,
    "start_time": "2022-07-03T16:08:23.192Z"
   },
   {
    "duration": 0,
    "start_time": "2022-07-03T16:08:23.193Z"
   },
   {
    "duration": 0,
    "start_time": "2022-07-03T16:08:23.194Z"
   },
   {
    "duration": 0,
    "start_time": "2022-07-03T16:08:23.195Z"
   },
   {
    "duration": 0,
    "start_time": "2022-07-03T16:08:23.196Z"
   },
   {
    "duration": 0,
    "start_time": "2022-07-03T16:08:23.197Z"
   },
   {
    "duration": 0,
    "start_time": "2022-07-03T16:08:23.226Z"
   },
   {
    "duration": 0,
    "start_time": "2022-07-03T16:08:23.227Z"
   },
   {
    "duration": 0,
    "start_time": "2022-07-03T16:08:23.229Z"
   },
   {
    "duration": 0,
    "start_time": "2022-07-03T16:08:23.230Z"
   },
   {
    "duration": 0,
    "start_time": "2022-07-03T16:08:23.231Z"
   },
   {
    "duration": 0,
    "start_time": "2022-07-03T16:08:23.232Z"
   },
   {
    "duration": 0,
    "start_time": "2022-07-03T16:08:23.233Z"
   },
   {
    "duration": 0,
    "start_time": "2022-07-03T16:08:23.234Z"
   },
   {
    "duration": 0,
    "start_time": "2022-07-03T16:08:23.235Z"
   },
   {
    "duration": 0,
    "start_time": "2022-07-03T16:08:23.236Z"
   },
   {
    "duration": 0,
    "start_time": "2022-07-03T16:08:23.237Z"
   },
   {
    "duration": 1476,
    "start_time": "2022-07-03T16:09:26.875Z"
   },
   {
    "duration": 829,
    "start_time": "2022-07-03T16:09:28.353Z"
   },
   {
    "duration": 218,
    "start_time": "2022-07-03T16:09:29.183Z"
   },
   {
    "duration": 4,
    "start_time": "2022-07-03T16:09:29.403Z"
   },
   {
    "duration": 602,
    "start_time": "2022-07-03T16:09:29.409Z"
   },
   {
    "duration": 581,
    "start_time": "2022-07-03T16:09:30.013Z"
   },
   {
    "duration": 131,
    "start_time": "2022-07-03T16:09:30.595Z"
   },
   {
    "duration": 212,
    "start_time": "2022-07-03T16:09:30.728Z"
   },
   {
    "duration": 280,
    "start_time": "2022-07-03T16:09:30.941Z"
   },
   {
    "duration": 139,
    "start_time": "2022-07-03T16:09:31.227Z"
   },
   {
    "duration": 376,
    "start_time": "2022-07-03T16:09:31.368Z"
   },
   {
    "duration": 97,
    "start_time": "2022-07-03T16:09:31.746Z"
   },
   {
    "duration": 366,
    "start_time": "2022-07-03T16:09:31.845Z"
   },
   {
    "duration": 16,
    "start_time": "2022-07-03T16:09:32.213Z"
   },
   {
    "duration": 122,
    "start_time": "2022-07-03T16:09:32.231Z"
   },
   {
    "duration": 25,
    "start_time": "2022-07-03T16:09:32.355Z"
   },
   {
    "duration": 37,
    "start_time": "2022-07-03T16:09:32.381Z"
   },
   {
    "duration": 506,
    "start_time": "2022-07-03T16:09:32.429Z"
   },
   {
    "duration": 2,
    "start_time": "2022-07-03T16:09:32.937Z"
   },
   {
    "duration": 11,
    "start_time": "2022-07-03T16:09:32.941Z"
   },
   {
    "duration": 1544,
    "start_time": "2022-07-03T16:09:32.954Z"
   },
   {
    "duration": 56,
    "start_time": "2022-07-03T16:09:34.501Z"
   },
   {
    "duration": 84,
    "start_time": "2022-07-03T16:09:34.559Z"
   },
   {
    "duration": 3,
    "start_time": "2022-07-03T16:09:34.645Z"
   },
   {
    "duration": 14,
    "start_time": "2022-07-03T16:09:34.650Z"
   },
   {
    "duration": 14,
    "start_time": "2022-07-03T16:09:34.667Z"
   },
   {
    "duration": 13,
    "start_time": "2022-07-03T16:09:34.684Z"
   },
   {
    "duration": 20,
    "start_time": "2022-07-03T16:09:34.701Z"
   },
   {
    "duration": 8,
    "start_time": "2022-07-03T16:09:34.723Z"
   },
   {
    "duration": 7,
    "start_time": "2022-07-03T16:09:34.733Z"
   },
   {
    "duration": 6,
    "start_time": "2022-07-03T16:09:34.741Z"
   },
   {
    "duration": 83,
    "start_time": "2022-07-03T16:09:34.749Z"
   },
   {
    "duration": 0,
    "start_time": "2022-07-03T16:09:34.833Z"
   },
   {
    "duration": 0,
    "start_time": "2022-07-03T16:09:34.835Z"
   },
   {
    "duration": 0,
    "start_time": "2022-07-03T16:09:34.836Z"
   },
   {
    "duration": 0,
    "start_time": "2022-07-03T16:09:34.837Z"
   },
   {
    "duration": 0,
    "start_time": "2022-07-03T16:09:34.838Z"
   },
   {
    "duration": 0,
    "start_time": "2022-07-03T16:09:34.839Z"
   },
   {
    "duration": 0,
    "start_time": "2022-07-03T16:09:34.841Z"
   },
   {
    "duration": 0,
    "start_time": "2022-07-03T16:09:34.842Z"
   },
   {
    "duration": 0,
    "start_time": "2022-07-03T16:09:34.844Z"
   },
   {
    "duration": 0,
    "start_time": "2022-07-03T16:09:34.845Z"
   },
   {
    "duration": 0,
    "start_time": "2022-07-03T16:09:34.846Z"
   },
   {
    "duration": 0,
    "start_time": "2022-07-03T16:09:34.847Z"
   },
   {
    "duration": 0,
    "start_time": "2022-07-03T16:09:34.848Z"
   },
   {
    "duration": 0,
    "start_time": "2022-07-03T16:09:34.850Z"
   },
   {
    "duration": 0,
    "start_time": "2022-07-03T16:09:34.851Z"
   },
   {
    "duration": 0,
    "start_time": "2022-07-03T16:09:34.852Z"
   },
   {
    "duration": 0,
    "start_time": "2022-07-03T16:09:34.853Z"
   },
   {
    "duration": 0,
    "start_time": "2022-07-03T16:09:34.855Z"
   },
   {
    "duration": 0,
    "start_time": "2022-07-03T16:09:34.855Z"
   },
   {
    "duration": 0,
    "start_time": "2022-07-03T16:09:34.857Z"
   },
   {
    "duration": 0,
    "start_time": "2022-07-03T16:09:34.858Z"
   },
   {
    "duration": 0,
    "start_time": "2022-07-03T16:09:34.859Z"
   },
   {
    "duration": 0,
    "start_time": "2022-07-03T16:09:34.860Z"
   },
   {
    "duration": 0,
    "start_time": "2022-07-03T16:09:34.861Z"
   },
   {
    "duration": 0,
    "start_time": "2022-07-03T16:09:34.862Z"
   },
   {
    "duration": 0,
    "start_time": "2022-07-03T16:09:34.863Z"
   },
   {
    "duration": 0,
    "start_time": "2022-07-03T16:09:34.864Z"
   },
   {
    "duration": 0,
    "start_time": "2022-07-03T16:09:34.865Z"
   },
   {
    "duration": 0,
    "start_time": "2022-07-03T16:09:34.866Z"
   },
   {
    "duration": 0,
    "start_time": "2022-07-03T16:09:34.867Z"
   },
   {
    "duration": 0,
    "start_time": "2022-07-03T16:09:34.869Z"
   },
   {
    "duration": 0,
    "start_time": "2022-07-03T16:09:34.870Z"
   },
   {
    "duration": 0,
    "start_time": "2022-07-03T16:09:34.926Z"
   },
   {
    "duration": 0,
    "start_time": "2022-07-03T16:09:34.927Z"
   },
   {
    "duration": 0,
    "start_time": "2022-07-03T16:09:34.929Z"
   },
   {
    "duration": 0,
    "start_time": "2022-07-03T16:09:34.931Z"
   },
   {
    "duration": 0,
    "start_time": "2022-07-03T16:09:34.933Z"
   },
   {
    "duration": 0,
    "start_time": "2022-07-03T16:09:34.934Z"
   },
   {
    "duration": 0,
    "start_time": "2022-07-03T16:09:34.936Z"
   },
   {
    "duration": 0,
    "start_time": "2022-07-03T16:09:34.937Z"
   },
   {
    "duration": 0,
    "start_time": "2022-07-03T16:09:34.938Z"
   },
   {
    "duration": 1449,
    "start_time": "2022-07-03T16:11:18.850Z"
   },
   {
    "duration": 832,
    "start_time": "2022-07-03T16:11:20.302Z"
   },
   {
    "duration": 181,
    "start_time": "2022-07-03T16:11:21.137Z"
   },
   {
    "duration": 5,
    "start_time": "2022-07-03T16:11:21.325Z"
   },
   {
    "duration": 581,
    "start_time": "2022-07-03T16:11:21.332Z"
   },
   {
    "duration": 540,
    "start_time": "2022-07-03T16:11:21.915Z"
   },
   {
    "duration": 127,
    "start_time": "2022-07-03T16:11:22.457Z"
   },
   {
    "duration": 181,
    "start_time": "2022-07-03T16:11:22.586Z"
   },
   {
    "duration": 289,
    "start_time": "2022-07-03T16:11:22.769Z"
   },
   {
    "duration": 105,
    "start_time": "2022-07-03T16:11:23.062Z"
   },
   {
    "duration": 357,
    "start_time": "2022-07-03T16:11:23.169Z"
   },
   {
    "duration": 88,
    "start_time": "2022-07-03T16:11:23.527Z"
   },
   {
    "duration": 361,
    "start_time": "2022-07-03T16:11:23.626Z"
   },
   {
    "duration": 10,
    "start_time": "2022-07-03T16:11:23.989Z"
   },
   {
    "duration": 110,
    "start_time": "2022-07-03T16:11:24.001Z"
   },
   {
    "duration": 29,
    "start_time": "2022-07-03T16:11:24.112Z"
   },
   {
    "duration": 22,
    "start_time": "2022-07-03T16:11:24.143Z"
   },
   {
    "duration": 547,
    "start_time": "2022-07-03T16:11:24.167Z"
   },
   {
    "duration": 3,
    "start_time": "2022-07-03T16:11:24.716Z"
   },
   {
    "duration": 6,
    "start_time": "2022-07-03T16:11:24.725Z"
   },
   {
    "duration": 1467,
    "start_time": "2022-07-03T16:11:24.733Z"
   },
   {
    "duration": 53,
    "start_time": "2022-07-03T16:11:26.202Z"
   },
   {
    "duration": 76,
    "start_time": "2022-07-03T16:11:26.257Z"
   },
   {
    "duration": 3,
    "start_time": "2022-07-03T16:11:26.335Z"
   },
   {
    "duration": 9,
    "start_time": "2022-07-03T16:11:26.339Z"
   },
   {
    "duration": 7,
    "start_time": "2022-07-03T16:11:26.349Z"
   },
   {
    "duration": 15,
    "start_time": "2022-07-03T16:11:26.358Z"
   },
   {
    "duration": 9,
    "start_time": "2022-07-03T16:11:26.378Z"
   },
   {
    "duration": 6,
    "start_time": "2022-07-03T16:11:26.389Z"
   },
   {
    "duration": 5,
    "start_time": "2022-07-03T16:11:26.397Z"
   },
   {
    "duration": 8,
    "start_time": "2022-07-03T16:11:26.404Z"
   },
   {
    "duration": 7,
    "start_time": "2022-07-03T16:11:26.414Z"
   },
   {
    "duration": 11,
    "start_time": "2022-07-03T16:11:26.422Z"
   },
   {
    "duration": 11,
    "start_time": "2022-07-03T16:11:26.435Z"
   },
   {
    "duration": 5,
    "start_time": "2022-07-03T16:11:26.448Z"
   },
   {
    "duration": 9,
    "start_time": "2022-07-03T16:11:26.455Z"
   },
   {
    "duration": 6,
    "start_time": "2022-07-03T16:11:26.466Z"
   },
   {
    "duration": 6,
    "start_time": "2022-07-03T16:11:26.474Z"
   },
   {
    "duration": 5,
    "start_time": "2022-07-03T16:11:26.481Z"
   },
   {
    "duration": 8,
    "start_time": "2022-07-03T16:11:26.488Z"
   },
   {
    "duration": 11,
    "start_time": "2022-07-03T16:11:26.498Z"
   },
   {
    "duration": 6,
    "start_time": "2022-07-03T16:11:26.511Z"
   },
   {
    "duration": 164,
    "start_time": "2022-07-03T16:11:26.519Z"
   },
   {
    "duration": 0,
    "start_time": "2022-07-03T16:11:26.685Z"
   },
   {
    "duration": 0,
    "start_time": "2022-07-03T16:11:26.686Z"
   },
   {
    "duration": 0,
    "start_time": "2022-07-03T16:11:26.687Z"
   },
   {
    "duration": 0,
    "start_time": "2022-07-03T16:11:26.688Z"
   },
   {
    "duration": 0,
    "start_time": "2022-07-03T16:11:26.689Z"
   },
   {
    "duration": 0,
    "start_time": "2022-07-03T16:11:26.690Z"
   },
   {
    "duration": 0,
    "start_time": "2022-07-03T16:11:26.691Z"
   },
   {
    "duration": 0,
    "start_time": "2022-07-03T16:11:26.692Z"
   },
   {
    "duration": 0,
    "start_time": "2022-07-03T16:11:26.693Z"
   },
   {
    "duration": 0,
    "start_time": "2022-07-03T16:11:26.694Z"
   },
   {
    "duration": 0,
    "start_time": "2022-07-03T16:11:26.695Z"
   },
   {
    "duration": 0,
    "start_time": "2022-07-03T16:11:26.697Z"
   },
   {
    "duration": 0,
    "start_time": "2022-07-03T16:11:26.698Z"
   },
   {
    "duration": 0,
    "start_time": "2022-07-03T16:11:26.699Z"
   },
   {
    "duration": 0,
    "start_time": "2022-07-03T16:11:26.700Z"
   },
   {
    "duration": 0,
    "start_time": "2022-07-03T16:11:26.726Z"
   },
   {
    "duration": 0,
    "start_time": "2022-07-03T16:11:26.727Z"
   },
   {
    "duration": 0,
    "start_time": "2022-07-03T16:11:26.728Z"
   },
   {
    "duration": 0,
    "start_time": "2022-07-03T16:11:26.729Z"
   },
   {
    "duration": 0,
    "start_time": "2022-07-03T16:11:26.730Z"
   },
   {
    "duration": 0,
    "start_time": "2022-07-03T16:11:26.731Z"
   },
   {
    "duration": 0,
    "start_time": "2022-07-03T16:11:26.733Z"
   },
   {
    "duration": 0,
    "start_time": "2022-07-03T16:11:26.734Z"
   },
   {
    "duration": 0,
    "start_time": "2022-07-03T16:11:26.735Z"
   },
   {
    "duration": 0,
    "start_time": "2022-07-03T16:11:26.736Z"
   },
   {
    "duration": 0,
    "start_time": "2022-07-03T16:11:26.736Z"
   },
   {
    "duration": 0,
    "start_time": "2022-07-03T16:11:26.738Z"
   },
   {
    "duration": 0,
    "start_time": "2022-07-03T16:11:26.739Z"
   },
   {
    "duration": 0,
    "start_time": "2022-07-03T16:11:26.740Z"
   },
   {
    "duration": 0,
    "start_time": "2022-07-03T16:11:26.741Z"
   },
   {
    "duration": 81,
    "start_time": "2022-07-03T16:12:42.580Z"
   },
   {
    "duration": 2,
    "start_time": "2022-07-03T16:14:24.824Z"
   },
   {
    "duration": 2,
    "start_time": "2022-07-03T16:15:19.581Z"
   },
   {
    "duration": 13,
    "start_time": "2022-07-03T16:18:50.602Z"
   },
   {
    "duration": 4,
    "start_time": "2022-07-03T16:19:07.781Z"
   },
   {
    "duration": 3,
    "start_time": "2022-07-03T16:19:22.385Z"
   },
   {
    "duration": 2,
    "start_time": "2022-07-03T16:19:49.179Z"
   },
   {
    "duration": 3,
    "start_time": "2022-07-03T16:19:54.701Z"
   },
   {
    "duration": 3,
    "start_time": "2022-07-03T16:19:58.986Z"
   },
   {
    "duration": 83,
    "start_time": "2022-07-03T16:20:01.661Z"
   },
   {
    "duration": 234395,
    "start_time": "2022-07-03T16:20:14.033Z"
   },
   {
    "duration": 895,
    "start_time": "2022-07-03T16:24:08.431Z"
   },
   {
    "duration": 11,
    "start_time": "2022-07-03T16:24:09.328Z"
   },
   {
    "duration": 0,
    "start_time": "2022-07-03T16:24:09.341Z"
   },
   {
    "duration": 3,
    "start_time": "2022-07-03T16:26:36.749Z"
   },
   {
    "duration": 104,
    "start_time": "2022-07-03T16:26:40.537Z"
   },
   {
    "duration": 21,
    "start_time": "2022-07-03T16:26:46.123Z"
   },
   {
    "duration": 129,
    "start_time": "2022-07-03T16:26:51.299Z"
   },
   {
    "duration": 241,
    "start_time": "2022-07-03T16:26:54.491Z"
   },
   {
    "duration": 5,
    "start_time": "2022-07-03T16:26:58.493Z"
   },
   {
    "duration": 3,
    "start_time": "2022-07-03T16:27:26.165Z"
   },
   {
    "duration": 12,
    "start_time": "2022-07-03T16:27:35.260Z"
   },
   {
    "duration": 3,
    "start_time": "2022-07-03T16:27:51.184Z"
   },
   {
    "duration": 3,
    "start_time": "2022-07-03T16:28:01.013Z"
   },
   {
    "duration": 5,
    "start_time": "2022-07-03T16:28:06.370Z"
   },
   {
    "duration": 5,
    "start_time": "2022-07-03T16:28:16.361Z"
   },
   {
    "duration": 1511,
    "start_time": "2022-07-03T16:54:22.790Z"
   },
   {
    "duration": 885,
    "start_time": "2022-07-03T16:54:24.303Z"
   },
   {
    "duration": 160,
    "start_time": "2022-07-03T16:54:25.190Z"
   },
   {
    "duration": 3,
    "start_time": "2022-07-03T16:54:25.352Z"
   },
   {
    "duration": 478,
    "start_time": "2022-07-03T16:54:25.357Z"
   },
   {
    "duration": 554,
    "start_time": "2022-07-03T16:54:25.837Z"
   },
   {
    "duration": 121,
    "start_time": "2022-07-03T16:54:26.393Z"
   },
   {
    "duration": 156,
    "start_time": "2022-07-03T16:54:26.525Z"
   },
   {
    "duration": 303,
    "start_time": "2022-07-03T16:54:26.683Z"
   },
   {
    "duration": 99,
    "start_time": "2022-07-03T16:54:26.991Z"
   },
   {
    "duration": 352,
    "start_time": "2022-07-03T16:54:27.092Z"
   },
   {
    "duration": 100,
    "start_time": "2022-07-03T16:54:27.446Z"
   },
   {
    "duration": 371,
    "start_time": "2022-07-03T16:54:27.548Z"
   },
   {
    "duration": 10,
    "start_time": "2022-07-03T16:54:27.926Z"
   },
   {
    "duration": 113,
    "start_time": "2022-07-03T16:54:27.938Z"
   },
   {
    "duration": 22,
    "start_time": "2022-07-03T16:54:28.053Z"
   },
   {
    "duration": 27,
    "start_time": "2022-07-03T16:54:28.077Z"
   },
   {
    "duration": 521,
    "start_time": "2022-07-03T16:54:28.106Z"
   },
   {
    "duration": 2,
    "start_time": "2022-07-03T16:54:28.629Z"
   },
   {
    "duration": 17,
    "start_time": "2022-07-03T16:54:28.633Z"
   },
   {
    "duration": 1531,
    "start_time": "2022-07-03T16:54:28.652Z"
   },
   {
    "duration": 56,
    "start_time": "2022-07-03T16:54:30.185Z"
   },
   {
    "duration": 96,
    "start_time": "2022-07-03T16:54:30.243Z"
   },
   {
    "duration": 3,
    "start_time": "2022-07-03T16:54:30.342Z"
   },
   {
    "duration": 32,
    "start_time": "2022-07-03T16:54:30.347Z"
   },
   {
    "duration": 33,
    "start_time": "2022-07-03T16:54:30.381Z"
   },
   {
    "duration": 13,
    "start_time": "2022-07-03T16:54:30.417Z"
   },
   {
    "duration": 111,
    "start_time": "2022-07-03T16:54:30.434Z"
   },
   {
    "duration": 89,
    "start_time": "2022-07-03T16:54:30.548Z"
   },
   {
    "duration": 301,
    "start_time": "2022-07-03T16:54:30.727Z"
   },
   {
    "duration": 7,
    "start_time": "2022-07-03T16:54:31.030Z"
   },
   {
    "duration": 108,
    "start_time": "2022-07-03T16:54:31.039Z"
   },
   {
    "duration": 34,
    "start_time": "2022-07-03T16:54:31.149Z"
   },
   {
    "duration": 54,
    "start_time": "2022-07-03T16:54:31.184Z"
   },
   {
    "duration": 37,
    "start_time": "2022-07-03T16:54:31.240Z"
   },
   {
    "duration": 27,
    "start_time": "2022-07-03T16:54:31.279Z"
   },
   {
    "duration": 14,
    "start_time": "2022-07-03T16:54:31.308Z"
   },
   {
    "duration": 21,
    "start_time": "2022-07-03T16:54:31.324Z"
   },
   {
    "duration": 18,
    "start_time": "2022-07-03T16:54:31.347Z"
   },
   {
    "duration": 30,
    "start_time": "2022-07-03T16:54:31.368Z"
   },
   {
    "duration": 48,
    "start_time": "2022-07-03T16:54:31.401Z"
   },
   {
    "duration": 26,
    "start_time": "2022-07-03T16:54:31.451Z"
   },
   {
    "duration": 106,
    "start_time": "2022-07-03T16:54:31.479Z"
   },
   {
    "duration": 239,
    "start_time": "2022-07-03T16:54:31.587Z"
   },
   {
    "duration": 66,
    "start_time": "2022-07-03T16:54:31.828Z"
   },
   {
    "duration": 553449,
    "start_time": "2022-07-03T16:54:31.896Z"
   },
   {
    "duration": 85,
    "start_time": "2022-07-03T17:03:45.347Z"
   },
   {
    "duration": 0,
    "start_time": "2022-07-03T17:03:45.433Z"
   },
   {
    "duration": 0,
    "start_time": "2022-07-03T17:03:45.435Z"
   },
   {
    "duration": 0,
    "start_time": "2022-07-03T17:03:45.436Z"
   },
   {
    "duration": 0,
    "start_time": "2022-07-03T17:03:45.437Z"
   },
   {
    "duration": 0,
    "start_time": "2022-07-03T17:03:45.438Z"
   },
   {
    "duration": 0,
    "start_time": "2022-07-03T17:03:45.440Z"
   },
   {
    "duration": 0,
    "start_time": "2022-07-03T17:03:45.441Z"
   },
   {
    "duration": 0,
    "start_time": "2022-07-03T17:03:45.443Z"
   },
   {
    "duration": 0,
    "start_time": "2022-07-03T17:03:45.444Z"
   },
   {
    "duration": 0,
    "start_time": "2022-07-03T17:03:45.446Z"
   },
   {
    "duration": 1,
    "start_time": "2022-07-03T17:03:45.446Z"
   },
   {
    "duration": 0,
    "start_time": "2022-07-03T17:03:45.448Z"
   },
   {
    "duration": 0,
    "start_time": "2022-07-03T17:03:45.449Z"
   },
   {
    "duration": 0,
    "start_time": "2022-07-03T17:03:45.451Z"
   },
   {
    "duration": 0,
    "start_time": "2022-07-03T17:03:45.452Z"
   },
   {
    "duration": 0,
    "start_time": "2022-07-03T17:03:45.453Z"
   },
   {
    "duration": 0,
    "start_time": "2022-07-03T17:03:45.454Z"
   },
   {
    "duration": 0,
    "start_time": "2022-07-03T17:03:45.456Z"
   },
   {
    "duration": 0,
    "start_time": "2022-07-03T17:03:45.457Z"
   },
   {
    "duration": 1,
    "start_time": "2022-07-03T17:03:45.457Z"
   },
   {
    "duration": 0,
    "start_time": "2022-07-03T17:03:45.459Z"
   },
   {
    "duration": 0,
    "start_time": "2022-07-03T17:03:45.460Z"
   },
   {
    "duration": 0,
    "start_time": "2022-07-03T17:03:45.461Z"
   },
   {
    "duration": 0,
    "start_time": "2022-07-03T17:03:45.462Z"
   },
   {
    "duration": 0,
    "start_time": "2022-07-03T17:03:45.526Z"
   },
   {
    "duration": 0,
    "start_time": "2022-07-03T17:03:45.527Z"
   },
   {
    "duration": 163,
    "start_time": "2022-07-03T17:04:47.930Z"
   },
   {
    "duration": 122117,
    "start_time": "2022-07-03T17:05:11.740Z"
   },
   {
    "duration": 67,
    "start_time": "2022-07-03T17:09:55.444Z"
   },
   {
    "duration": 438,
    "start_time": "2022-07-03T17:10:08.420Z"
   },
   {
    "duration": 439,
    "start_time": "2022-07-03T17:11:04.780Z"
   },
   {
    "duration": 445,
    "start_time": "2022-07-03T17:11:17.613Z"
   },
   {
    "duration": 451,
    "start_time": "2022-07-03T17:11:23.482Z"
   },
   {
    "duration": 981,
    "start_time": "2022-07-03T17:11:51.516Z"
   },
   {
    "duration": 20,
    "start_time": "2022-07-03T17:12:37.781Z"
   },
   {
    "duration": 970,
    "start_time": "2022-07-03T17:12:43.480Z"
   },
   {
    "duration": 57801,
    "start_time": "2022-07-03T17:13:01.533Z"
   },
   {
    "duration": 12,
    "start_time": "2022-07-03T17:15:11.612Z"
   },
   {
    "duration": 12,
    "start_time": "2022-07-03T17:15:32.019Z"
   },
   {
    "duration": 63164,
    "start_time": "2022-07-03T17:15:47.588Z"
   },
   {
    "duration": 4,
    "start_time": "2022-07-03T17:20:13.289Z"
   },
   {
    "duration": 12,
    "start_time": "2022-07-03T17:20:55.864Z"
   },
   {
    "duration": 15270,
    "start_time": "2022-07-03T17:21:27.538Z"
   },
   {
    "duration": 225,
    "start_time": "2022-07-03T17:21:54.302Z"
   },
   {
    "duration": 4,
    "start_time": "2022-07-03T17:22:18.747Z"
   },
   {
    "duration": 11,
    "start_time": "2022-07-03T17:22:25.545Z"
   },
   {
    "duration": 7,
    "start_time": "2022-07-03T17:22:34.427Z"
   },
   {
    "duration": 3,
    "start_time": "2022-07-03T17:22:48.103Z"
   },
   {
    "duration": 3,
    "start_time": "2022-07-03T17:22:49.208Z"
   },
   {
    "duration": 1550,
    "start_time": "2022-07-03T17:25:06.958Z"
   },
   {
    "duration": 868,
    "start_time": "2022-07-03T17:25:08.510Z"
   },
   {
    "duration": 167,
    "start_time": "2022-07-03T17:25:09.380Z"
   },
   {
    "duration": 3,
    "start_time": "2022-07-03T17:25:09.549Z"
   },
   {
    "duration": 505,
    "start_time": "2022-07-03T17:25:09.554Z"
   },
   {
    "duration": 553,
    "start_time": "2022-07-03T17:25:10.061Z"
   },
   {
    "duration": 133,
    "start_time": "2022-07-03T17:25:10.615Z"
   },
   {
    "duration": 164,
    "start_time": "2022-07-03T17:25:10.749Z"
   },
   {
    "duration": 294,
    "start_time": "2022-07-03T17:25:10.915Z"
   },
   {
    "duration": 118,
    "start_time": "2022-07-03T17:25:11.214Z"
   },
   {
    "duration": 353,
    "start_time": "2022-07-03T17:25:11.334Z"
   },
   {
    "duration": 87,
    "start_time": "2022-07-03T17:25:11.689Z"
   },
   {
    "duration": 388,
    "start_time": "2022-07-03T17:25:11.778Z"
   },
   {
    "duration": 11,
    "start_time": "2022-07-03T17:25:12.168Z"
   },
   {
    "duration": 121,
    "start_time": "2022-07-03T17:25:12.180Z"
   },
   {
    "duration": 30,
    "start_time": "2022-07-03T17:25:12.303Z"
   },
   {
    "duration": 25,
    "start_time": "2022-07-03T17:25:12.335Z"
   },
   {
    "duration": 463,
    "start_time": "2022-07-03T17:25:12.362Z"
   },
   {
    "duration": 2,
    "start_time": "2022-07-03T17:25:12.827Z"
   },
   {
    "duration": 22,
    "start_time": "2022-07-03T17:25:12.830Z"
   },
   {
    "duration": 1433,
    "start_time": "2022-07-03T17:25:12.856Z"
   },
   {
    "duration": 43,
    "start_time": "2022-07-03T17:25:14.291Z"
   },
   {
    "duration": 74,
    "start_time": "2022-07-03T17:25:14.336Z"
   },
   {
    "duration": 13,
    "start_time": "2022-07-03T17:25:14.413Z"
   },
   {
    "duration": 8,
    "start_time": "2022-07-03T17:25:14.429Z"
   },
   {
    "duration": 9,
    "start_time": "2022-07-03T17:25:14.439Z"
   },
   {
    "duration": 12,
    "start_time": "2022-07-03T17:25:14.450Z"
   },
   {
    "duration": 170,
    "start_time": "2022-07-03T17:25:14.467Z"
   },
   {
    "duration": 88,
    "start_time": "2022-07-03T17:25:14.639Z"
   },
   {
    "duration": 293,
    "start_time": "2022-07-03T17:25:14.733Z"
   },
   {
    "duration": 8,
    "start_time": "2022-07-03T17:25:15.029Z"
   },
   {
    "duration": 8,
    "start_time": "2022-07-03T17:25:15.127Z"
   },
   {
    "duration": 13,
    "start_time": "2022-07-03T17:25:15.136Z"
   },
   {
    "duration": 19,
    "start_time": "2022-07-03T17:25:15.151Z"
   },
   {
    "duration": 12,
    "start_time": "2022-07-03T17:25:15.171Z"
   },
   {
    "duration": 7,
    "start_time": "2022-07-03T17:25:15.185Z"
   },
   {
    "duration": 7,
    "start_time": "2022-07-03T17:25:15.194Z"
   },
   {
    "duration": 12,
    "start_time": "2022-07-03T17:25:15.203Z"
   },
   {
    "duration": 9,
    "start_time": "2022-07-03T17:25:15.217Z"
   },
   {
    "duration": 9,
    "start_time": "2022-07-03T17:25:15.227Z"
   },
   {
    "duration": 8,
    "start_time": "2022-07-03T17:25:15.238Z"
   },
   {
    "duration": 7,
    "start_time": "2022-07-03T17:25:15.248Z"
   },
   {
    "duration": 91,
    "start_time": "2022-07-03T17:25:15.256Z"
   },
   {
    "duration": 252,
    "start_time": "2022-07-03T17:25:15.349Z"
   },
   {
    "duration": 78,
    "start_time": "2022-07-03T17:25:15.603Z"
   },
   {
    "duration": 1765,
    "start_time": "2022-07-03T17:48:56.295Z"
   },
   {
    "duration": 852,
    "start_time": "2022-07-03T17:48:58.062Z"
   },
   {
    "duration": 143,
    "start_time": "2022-07-03T17:48:58.916Z"
   },
   {
    "duration": 3,
    "start_time": "2022-07-03T17:48:59.061Z"
   },
   {
    "duration": 500,
    "start_time": "2022-07-03T17:48:59.066Z"
   },
   {
    "duration": 575,
    "start_time": "2022-07-03T17:48:59.569Z"
   },
   {
    "duration": 136,
    "start_time": "2022-07-03T17:49:00.146Z"
   },
   {
    "duration": 207,
    "start_time": "2022-07-03T17:49:00.284Z"
   },
   {
    "duration": 280,
    "start_time": "2022-07-03T17:49:00.493Z"
   },
   {
    "duration": 103,
    "start_time": "2022-07-03T17:49:00.775Z"
   },
   {
    "duration": 350,
    "start_time": "2022-07-03T17:49:00.880Z"
   },
   {
    "duration": 137,
    "start_time": "2022-07-03T17:49:01.232Z"
   },
   {
    "duration": 479,
    "start_time": "2022-07-03T17:49:01.371Z"
   },
   {
    "duration": 16,
    "start_time": "2022-07-03T17:49:01.855Z"
   },
   {
    "duration": 147,
    "start_time": "2022-07-03T17:49:01.874Z"
   },
   {
    "duration": 32,
    "start_time": "2022-07-03T17:49:02.023Z"
   },
   {
    "duration": 31,
    "start_time": "2022-07-03T17:49:02.057Z"
   },
   {
    "duration": 717,
    "start_time": "2022-07-03T17:49:02.090Z"
   },
   {
    "duration": 4,
    "start_time": "2022-07-03T17:49:02.809Z"
   },
   {
    "duration": 13,
    "start_time": "2022-07-03T17:49:02.815Z"
   },
   {
    "duration": 1754,
    "start_time": "2022-07-03T17:49:02.830Z"
   },
   {
    "duration": 66,
    "start_time": "2022-07-03T17:49:04.586Z"
   },
   {
    "duration": 112,
    "start_time": "2022-07-03T17:49:04.654Z"
   },
   {
    "duration": 3,
    "start_time": "2022-07-03T17:49:04.769Z"
   },
   {
    "duration": 11,
    "start_time": "2022-07-03T17:49:04.774Z"
   },
   {
    "duration": 143,
    "start_time": "2022-07-03T17:49:04.787Z"
   },
   {
    "duration": 96,
    "start_time": "2022-07-03T17:49:04.932Z"
   },
   {
    "duration": 206,
    "start_time": "2022-07-03T17:49:05.032Z"
   },
   {
    "duration": 85,
    "start_time": "2022-07-03T17:49:05.240Z"
   },
   {
    "duration": 9,
    "start_time": "2022-07-03T17:49:05.328Z"
   },
   {
    "duration": 161,
    "start_time": "2022-07-03T17:49:05.339Z"
   },
   {
    "duration": 262,
    "start_time": "2022-07-03T17:49:05.502Z"
   },
   {
    "duration": 75,
    "start_time": "2022-07-03T17:49:05.766Z"
   },
   {
    "duration": 1593,
    "start_time": "2022-07-03T17:57:03.783Z"
   },
   {
    "duration": 851,
    "start_time": "2022-07-03T17:57:05.378Z"
   },
   {
    "duration": 164,
    "start_time": "2022-07-03T17:57:06.231Z"
   },
   {
    "duration": 2,
    "start_time": "2022-07-03T17:57:06.397Z"
   },
   {
    "duration": 514,
    "start_time": "2022-07-03T17:57:06.402Z"
   },
   {
    "duration": 672,
    "start_time": "2022-07-03T17:57:06.918Z"
   },
   {
    "duration": 139,
    "start_time": "2022-07-03T17:57:07.592Z"
   },
   {
    "duration": 203,
    "start_time": "2022-07-03T17:57:07.734Z"
   },
   {
    "duration": 372,
    "start_time": "2022-07-03T17:57:07.939Z"
   },
   {
    "duration": 121,
    "start_time": "2022-07-03T17:57:08.313Z"
   },
   {
    "duration": 414,
    "start_time": "2022-07-03T17:57:08.436Z"
   },
   {
    "duration": 100,
    "start_time": "2022-07-03T17:57:08.852Z"
   },
   {
    "duration": 450,
    "start_time": "2022-07-03T17:57:08.954Z"
   },
   {
    "duration": 22,
    "start_time": "2022-07-03T17:57:09.408Z"
   },
   {
    "duration": 118,
    "start_time": "2022-07-03T17:57:09.432Z"
   },
   {
    "duration": 24,
    "start_time": "2022-07-03T17:57:09.552Z"
   },
   {
    "duration": 20,
    "start_time": "2022-07-03T17:57:09.578Z"
   },
   {
    "duration": 680,
    "start_time": "2022-07-03T17:57:09.600Z"
   },
   {
    "duration": 1680,
    "start_time": "2022-07-03T17:57:10.282Z"
   },
   {
    "duration": 67,
    "start_time": "2022-07-03T17:57:11.964Z"
   },
   {
    "duration": 65,
    "start_time": "2022-07-03T17:57:12.033Z"
   },
   {
    "duration": 3,
    "start_time": "2022-07-03T17:57:12.100Z"
   },
   {
    "duration": 22,
    "start_time": "2022-07-03T17:57:12.105Z"
   },
   {
    "duration": 119,
    "start_time": "2022-07-03T17:57:12.129Z"
   },
   {
    "duration": 176,
    "start_time": "2022-07-03T17:57:12.250Z"
   },
   {
    "duration": 302,
    "start_time": "2022-07-03T17:57:12.428Z"
   },
   {
    "duration": 8,
    "start_time": "2022-07-03T17:57:12.732Z"
   },
   {
    "duration": 144,
    "start_time": "2022-07-03T17:57:12.743Z"
   },
   {
    "duration": 277,
    "start_time": "2022-07-03T17:57:12.889Z"
   },
   {
    "duration": 183,
    "start_time": "2022-07-03T17:57:13.168Z"
   },
   {
    "duration": 53,
    "start_time": "2022-07-03T17:57:13.353Z"
   },
   {
    "duration": 0,
    "start_time": "2022-07-03T17:57:13.408Z"
   },
   {
    "duration": 0,
    "start_time": "2022-07-03T17:57:13.409Z"
   },
   {
    "duration": 0,
    "start_time": "2022-07-03T17:57:13.411Z"
   },
   {
    "duration": 0,
    "start_time": "2022-07-03T17:57:13.413Z"
   },
   {
    "duration": 0,
    "start_time": "2022-07-03T17:57:13.414Z"
   },
   {
    "duration": 0,
    "start_time": "2022-07-03T17:57:13.415Z"
   },
   {
    "duration": 0,
    "start_time": "2022-07-03T17:57:13.417Z"
   },
   {
    "duration": 0,
    "start_time": "2022-07-03T17:57:13.419Z"
   },
   {
    "duration": 0,
    "start_time": "2022-07-03T17:57:13.421Z"
   },
   {
    "duration": 0,
    "start_time": "2022-07-03T17:57:13.422Z"
   },
   {
    "duration": 0,
    "start_time": "2022-07-03T17:57:13.424Z"
   },
   {
    "duration": 0,
    "start_time": "2022-07-03T17:57:13.425Z"
   },
   {
    "duration": 0,
    "start_time": "2022-07-03T17:57:13.427Z"
   },
   {
    "duration": 0,
    "start_time": "2022-07-03T17:57:13.428Z"
   },
   {
    "duration": 0,
    "start_time": "2022-07-03T17:57:13.430Z"
   },
   {
    "duration": 0,
    "start_time": "2022-07-03T17:57:13.431Z"
   },
   {
    "duration": 0,
    "start_time": "2022-07-03T17:57:13.433Z"
   },
   {
    "duration": 0,
    "start_time": "2022-07-03T17:57:13.434Z"
   },
   {
    "duration": 1,
    "start_time": "2022-07-03T17:57:13.435Z"
   },
   {
    "duration": 0,
    "start_time": "2022-07-03T17:57:13.437Z"
   },
   {
    "duration": 0,
    "start_time": "2022-07-03T17:57:13.438Z"
   },
   {
    "duration": 0,
    "start_time": "2022-07-03T17:57:13.440Z"
   },
   {
    "duration": 0,
    "start_time": "2022-07-03T17:57:13.442Z"
   },
   {
    "duration": 56,
    "start_time": "2022-07-03T17:57:55.657Z"
   },
   {
    "duration": 1414,
    "start_time": "2022-07-03T18:06:09.378Z"
   },
   {
    "duration": 861,
    "start_time": "2022-07-03T18:06:10.794Z"
   },
   {
    "duration": 146,
    "start_time": "2022-07-03T18:06:11.657Z"
   },
   {
    "duration": 4,
    "start_time": "2022-07-03T18:06:11.805Z"
   },
   {
    "duration": 516,
    "start_time": "2022-07-03T18:06:11.811Z"
   },
   {
    "duration": 700,
    "start_time": "2022-07-03T18:06:12.330Z"
   },
   {
    "duration": 125,
    "start_time": "2022-07-03T18:06:13.032Z"
   },
   {
    "duration": 185,
    "start_time": "2022-07-03T18:06:13.159Z"
   },
   {
    "duration": 303,
    "start_time": "2022-07-03T18:06:13.346Z"
   },
   {
    "duration": 111,
    "start_time": "2022-07-03T18:06:13.653Z"
   },
   {
    "duration": 361,
    "start_time": "2022-07-03T18:06:13.766Z"
   },
   {
    "duration": 103,
    "start_time": "2022-07-03T18:06:14.130Z"
   },
   {
    "duration": 500,
    "start_time": "2022-07-03T18:06:14.236Z"
   },
   {
    "duration": 14,
    "start_time": "2022-07-03T18:06:14.738Z"
   },
   {
    "duration": 120,
    "start_time": "2022-07-03T18:06:14.754Z"
   },
   {
    "duration": 23,
    "start_time": "2022-07-03T18:06:14.876Z"
   },
   {
    "duration": 33,
    "start_time": "2022-07-03T18:06:14.901Z"
   },
   {
    "duration": 474,
    "start_time": "2022-07-03T18:06:14.936Z"
   },
   {
    "duration": 1546,
    "start_time": "2022-07-03T18:06:15.413Z"
   },
   {
    "duration": 71,
    "start_time": "2022-07-03T18:06:16.961Z"
   },
   {
    "duration": 93,
    "start_time": "2022-07-03T18:06:17.034Z"
   },
   {
    "duration": 4,
    "start_time": "2022-07-03T18:06:17.130Z"
   },
   {
    "duration": 10,
    "start_time": "2022-07-03T18:06:17.137Z"
   },
   {
    "duration": 104,
    "start_time": "2022-07-03T18:06:17.153Z"
   },
   {
    "duration": 98,
    "start_time": "2022-07-03T18:06:17.327Z"
   },
   {
    "duration": 209,
    "start_time": "2022-07-03T18:06:17.428Z"
   },
   {
    "duration": 7,
    "start_time": "2022-07-03T18:06:17.639Z"
   },
   {
    "duration": 151,
    "start_time": "2022-07-03T18:06:17.730Z"
   },
   {
    "duration": 259,
    "start_time": "2022-07-03T18:06:17.884Z"
   },
   {
    "duration": 168,
    "start_time": "2022-07-03T18:06:18.144Z"
   },
   {
    "duration": 1740,
    "start_time": "2022-07-03T18:19:44.328Z"
   },
   {
    "duration": 906,
    "start_time": "2022-07-03T18:19:46.070Z"
   },
   {
    "duration": 156,
    "start_time": "2022-07-03T18:19:46.978Z"
   },
   {
    "duration": 4,
    "start_time": "2022-07-03T18:19:47.138Z"
   },
   {
    "duration": 569,
    "start_time": "2022-07-03T18:19:47.143Z"
   },
   {
    "duration": 613,
    "start_time": "2022-07-03T18:19:47.714Z"
   },
   {
    "duration": 155,
    "start_time": "2022-07-03T18:19:48.330Z"
   },
   {
    "duration": 206,
    "start_time": "2022-07-03T18:19:48.488Z"
   },
   {
    "duration": 322,
    "start_time": "2022-07-03T18:19:48.696Z"
   },
   {
    "duration": 123,
    "start_time": "2022-07-03T18:19:49.022Z"
   },
   {
    "duration": 446,
    "start_time": "2022-07-03T18:19:49.147Z"
   },
   {
    "duration": 120,
    "start_time": "2022-07-03T18:19:49.595Z"
   },
   {
    "duration": 431,
    "start_time": "2022-07-03T18:19:49.718Z"
   },
   {
    "duration": 10,
    "start_time": "2022-07-03T18:19:50.151Z"
   },
   {
    "duration": 113,
    "start_time": "2022-07-03T18:19:50.163Z"
   },
   {
    "duration": 22,
    "start_time": "2022-07-03T18:19:50.278Z"
   },
   {
    "duration": 33,
    "start_time": "2022-07-03T18:19:50.302Z"
   },
   {
    "duration": 526,
    "start_time": "2022-07-03T18:19:50.337Z"
   },
   {
    "duration": 1600,
    "start_time": "2022-07-03T18:19:50.865Z"
   },
   {
    "duration": 59,
    "start_time": "2022-07-03T18:19:52.467Z"
   },
   {
    "duration": 82,
    "start_time": "2022-07-03T18:19:52.528Z"
   },
   {
    "duration": 4,
    "start_time": "2022-07-03T18:19:52.612Z"
   },
   {
    "duration": 9,
    "start_time": "2022-07-03T18:19:52.625Z"
   },
   {
    "duration": 109,
    "start_time": "2022-07-03T18:19:52.636Z"
   },
   {
    "duration": 90,
    "start_time": "2022-07-03T18:19:52.747Z"
   },
   {
    "duration": 387,
    "start_time": "2022-07-03T18:19:52.839Z"
   },
   {
    "duration": 8,
    "start_time": "2022-07-03T18:19:53.228Z"
   },
   {
    "duration": 63,
    "start_time": "2022-07-03T18:19:53.325Z"
   },
   {
    "duration": 245,
    "start_time": "2022-07-03T18:19:53.390Z"
   },
   {
    "duration": 179,
    "start_time": "2022-07-03T18:19:53.638Z"
   },
   {
    "duration": 1420,
    "start_time": "2022-07-03T18:27:39.170Z"
   },
   {
    "duration": 864,
    "start_time": "2022-07-03T18:27:40.591Z"
   },
   {
    "duration": 191,
    "start_time": "2022-07-03T18:27:41.457Z"
   },
   {
    "duration": 4,
    "start_time": "2022-07-03T18:27:41.650Z"
   },
   {
    "duration": 578,
    "start_time": "2022-07-03T18:27:41.655Z"
   },
   {
    "duration": 617,
    "start_time": "2022-07-03T18:27:42.234Z"
   },
   {
    "duration": 134,
    "start_time": "2022-07-03T18:27:42.852Z"
   },
   {
    "duration": 178,
    "start_time": "2022-07-03T18:27:42.988Z"
   },
   {
    "duration": 289,
    "start_time": "2022-07-03T18:27:43.168Z"
   },
   {
    "duration": 112,
    "start_time": "2022-07-03T18:27:43.461Z"
   },
   {
    "duration": 356,
    "start_time": "2022-07-03T18:27:43.575Z"
   },
   {
    "duration": 104,
    "start_time": "2022-07-03T18:27:43.933Z"
   },
   {
    "duration": 414,
    "start_time": "2022-07-03T18:27:44.039Z"
   },
   {
    "duration": 11,
    "start_time": "2022-07-03T18:27:44.455Z"
   },
   {
    "duration": 146,
    "start_time": "2022-07-03T18:27:44.469Z"
   },
   {
    "duration": 33,
    "start_time": "2022-07-03T18:27:44.617Z"
   },
   {
    "duration": 20,
    "start_time": "2022-07-03T18:27:44.652Z"
   },
   {
    "duration": 510,
    "start_time": "2022-07-03T18:27:44.674Z"
   },
   {
    "duration": 1620,
    "start_time": "2022-07-03T18:27:45.186Z"
   },
   {
    "duration": 60,
    "start_time": "2022-07-03T18:27:46.809Z"
   },
   {
    "duration": 79,
    "start_time": "2022-07-03T18:27:46.872Z"
   },
   {
    "duration": 4,
    "start_time": "2022-07-03T18:27:46.952Z"
   },
   {
    "duration": 6,
    "start_time": "2022-07-03T18:27:46.957Z"
   },
   {
    "duration": 91,
    "start_time": "2022-07-03T18:27:46.964Z"
   },
   {
    "duration": 100,
    "start_time": "2022-07-03T18:27:47.126Z"
   },
   {
    "duration": 212,
    "start_time": "2022-07-03T18:27:47.229Z"
   },
   {
    "duration": 6,
    "start_time": "2022-07-03T18:27:47.528Z"
   },
   {
    "duration": 147,
    "start_time": "2022-07-03T18:27:47.541Z"
   },
   {
    "duration": 262,
    "start_time": "2022-07-03T18:27:47.690Z"
   },
   {
    "duration": 148,
    "start_time": "2022-07-03T18:27:47.954Z"
   },
   {
    "duration": 1571,
    "start_time": "2022-07-03T18:44:41.724Z"
   },
   {
    "duration": 963,
    "start_time": "2022-07-03T18:44:43.298Z"
   },
   {
    "duration": 204,
    "start_time": "2022-07-03T18:44:44.264Z"
   },
   {
    "duration": 4,
    "start_time": "2022-07-03T18:44:44.471Z"
   },
   {
    "duration": 638,
    "start_time": "2022-07-03T18:44:44.477Z"
   },
   {
    "duration": 697,
    "start_time": "2022-07-03T18:44:45.118Z"
   },
   {
    "duration": 162,
    "start_time": "2022-07-03T18:44:45.817Z"
   },
   {
    "duration": 231,
    "start_time": "2022-07-03T18:44:45.981Z"
   },
   {
    "duration": 312,
    "start_time": "2022-07-03T18:44:46.214Z"
   },
   {
    "duration": 121,
    "start_time": "2022-07-03T18:44:46.531Z"
   },
   {
    "duration": 396,
    "start_time": "2022-07-03T18:44:46.653Z"
   },
   {
    "duration": 98,
    "start_time": "2022-07-03T18:44:47.051Z"
   },
   {
    "duration": 406,
    "start_time": "2022-07-03T18:44:47.152Z"
   },
   {
    "duration": 11,
    "start_time": "2022-07-03T18:44:47.560Z"
   },
   {
    "duration": 139,
    "start_time": "2022-07-03T18:44:47.573Z"
   },
   {
    "duration": 36,
    "start_time": "2022-07-03T18:44:47.714Z"
   },
   {
    "duration": 39,
    "start_time": "2022-07-03T18:44:47.753Z"
   },
   {
    "duration": 531,
    "start_time": "2022-07-03T18:44:47.794Z"
   },
   {
    "duration": 1733,
    "start_time": "2022-07-03T18:44:48.328Z"
   },
   {
    "duration": 39,
    "start_time": "2022-07-03T18:44:50.064Z"
   },
   {
    "duration": 81,
    "start_time": "2022-07-03T18:44:50.104Z"
   },
   {
    "duration": 3,
    "start_time": "2022-07-03T18:44:50.187Z"
   },
   {
    "duration": 8,
    "start_time": "2022-07-03T18:44:50.192Z"
   },
   {
    "duration": 147,
    "start_time": "2022-07-03T18:44:50.202Z"
   },
   {
    "duration": 84,
    "start_time": "2022-07-03T18:44:50.352Z"
   },
   {
    "duration": 310,
    "start_time": "2022-07-03T18:44:50.439Z"
   },
   {
    "duration": 80,
    "start_time": "2022-07-03T18:44:50.752Z"
   },
   {
    "duration": 127,
    "start_time": "2022-07-03T18:44:50.837Z"
   },
   {
    "duration": 300,
    "start_time": "2022-07-03T18:44:50.966Z"
   },
   {
    "duration": 190,
    "start_time": "2022-07-03T18:44:51.270Z"
   },
   {
    "duration": 1509,
    "start_time": "2022-07-03T19:00:50.389Z"
   },
   {
    "duration": 905,
    "start_time": "2022-07-03T19:00:51.901Z"
   },
   {
    "duration": 149,
    "start_time": "2022-07-03T19:00:52.808Z"
   },
   {
    "duration": 4,
    "start_time": "2022-07-03T19:00:52.960Z"
   },
   {
    "duration": 532,
    "start_time": "2022-07-03T19:00:52.965Z"
   },
   {
    "duration": 567,
    "start_time": "2022-07-03T19:00:53.499Z"
   },
   {
    "duration": 162,
    "start_time": "2022-07-03T19:00:54.068Z"
   },
   {
    "duration": 198,
    "start_time": "2022-07-03T19:00:54.233Z"
   },
   {
    "duration": 370,
    "start_time": "2022-07-03T19:00:54.435Z"
   },
   {
    "duration": 109,
    "start_time": "2022-07-03T19:00:54.811Z"
   },
   {
    "duration": 383,
    "start_time": "2022-07-03T19:00:54.926Z"
   },
   {
    "duration": 103,
    "start_time": "2022-07-03T19:00:55.311Z"
   },
   {
    "duration": 390,
    "start_time": "2022-07-03T19:00:55.416Z"
   },
   {
    "duration": 18,
    "start_time": "2022-07-03T19:00:55.808Z"
   },
   {
    "duration": 111,
    "start_time": "2022-07-03T19:00:55.828Z"
   },
   {
    "duration": 23,
    "start_time": "2022-07-03T19:00:55.941Z"
   },
   {
    "duration": 20,
    "start_time": "2022-07-03T19:00:55.967Z"
   },
   {
    "duration": 517,
    "start_time": "2022-07-03T19:00:55.989Z"
   },
   {
    "duration": 1561,
    "start_time": "2022-07-03T19:00:56.508Z"
   },
   {
    "duration": 55,
    "start_time": "2022-07-03T19:00:58.071Z"
   },
   {
    "duration": 101,
    "start_time": "2022-07-03T19:00:58.128Z"
   },
   {
    "duration": 4,
    "start_time": "2022-07-03T19:00:58.232Z"
   },
   {
    "duration": 24,
    "start_time": "2022-07-03T19:00:58.238Z"
   },
   {
    "duration": 103,
    "start_time": "2022-07-03T19:00:58.265Z"
   },
   {
    "duration": 111,
    "start_time": "2022-07-03T19:00:58.427Z"
   },
   {
    "duration": 289,
    "start_time": "2022-07-03T19:00:58.541Z"
   },
   {
    "duration": 6,
    "start_time": "2022-07-03T19:00:58.832Z"
   },
   {
    "duration": 245,
    "start_time": "2022-07-03T19:00:58.842Z"
   },
   {
    "duration": 2,
    "start_time": "2022-07-03T19:00:59.090Z"
   },
   {
    "duration": 105,
    "start_time": "2022-07-03T19:00:59.093Z"
   },
   {
    "duration": 1872,
    "start_time": "2022-07-04T03:32:31.990Z"
   },
   {
    "duration": 1360,
    "start_time": "2022-07-04T03:32:33.870Z"
   },
   {
    "duration": 181,
    "start_time": "2022-07-04T03:32:35.232Z"
   },
   {
    "duration": 11,
    "start_time": "2022-07-04T03:32:35.415Z"
   },
   {
    "duration": 557,
    "start_time": "2022-07-04T03:32:35.428Z"
   },
   {
    "duration": 605,
    "start_time": "2022-07-04T03:32:35.987Z"
   },
   {
    "duration": 129,
    "start_time": "2022-07-04T03:32:36.594Z"
   },
   {
    "duration": 190,
    "start_time": "2022-07-04T03:32:36.725Z"
   },
   {
    "duration": 326,
    "start_time": "2022-07-04T03:32:36.917Z"
   },
   {
    "duration": 134,
    "start_time": "2022-07-04T03:32:37.245Z"
   },
   {
    "duration": 448,
    "start_time": "2022-07-04T03:32:37.381Z"
   },
   {
    "duration": 93,
    "start_time": "2022-07-04T03:32:37.831Z"
   },
   {
    "duration": 422,
    "start_time": "2022-07-04T03:32:37.926Z"
   },
   {
    "duration": 14,
    "start_time": "2022-07-04T03:32:38.352Z"
   },
   {
    "duration": 147,
    "start_time": "2022-07-04T03:32:38.367Z"
   },
   {
    "duration": 21,
    "start_time": "2022-07-04T03:32:38.516Z"
   },
   {
    "duration": 29,
    "start_time": "2022-07-04T03:32:38.539Z"
   },
   {
    "duration": 558,
    "start_time": "2022-07-04T03:32:38.570Z"
   },
   {
    "duration": 1758,
    "start_time": "2022-07-04T03:32:39.129Z"
   },
   {
    "duration": 49,
    "start_time": "2022-07-04T03:32:40.891Z"
   },
   {
    "duration": 73,
    "start_time": "2022-07-04T03:32:40.941Z"
   },
   {
    "duration": 3,
    "start_time": "2022-07-04T03:32:41.016Z"
   },
   {
    "duration": 9,
    "start_time": "2022-07-04T03:32:41.022Z"
   },
   {
    "duration": 275,
    "start_time": "2022-07-04T03:32:41.033Z"
   },
   {
    "duration": 12,
    "start_time": "2022-07-04T03:32:41.309Z"
   },
   {
    "duration": 219,
    "start_time": "2022-07-04T03:32:41.371Z"
   },
   {
    "duration": 57,
    "start_time": "2022-07-04T03:32:41.600Z"
   },
   {
    "duration": 199,
    "start_time": "2022-07-04T03:32:41.659Z"
   },
   {
    "duration": 4,
    "start_time": "2022-07-04T03:32:41.864Z"
   },
   {
    "duration": 116,
    "start_time": "2022-07-04T03:32:41.870Z"
   },
   {
    "duration": 1597,
    "start_time": "2022-07-04T03:58:13.894Z"
   },
   {
    "duration": 835,
    "start_time": "2022-07-04T03:58:15.493Z"
   },
   {
    "duration": 149,
    "start_time": "2022-07-04T03:58:16.330Z"
   },
   {
    "duration": 11,
    "start_time": "2022-07-04T03:58:16.482Z"
   },
   {
    "duration": 509,
    "start_time": "2022-07-04T03:58:16.495Z"
   },
   {
    "duration": 489,
    "start_time": "2022-07-04T03:58:17.005Z"
   },
   {
    "duration": 119,
    "start_time": "2022-07-04T03:58:17.496Z"
   },
   {
    "duration": 166,
    "start_time": "2022-07-04T03:58:17.617Z"
   },
   {
    "duration": 272,
    "start_time": "2022-07-04T03:58:17.786Z"
   },
   {
    "duration": 111,
    "start_time": "2022-07-04T03:58:18.062Z"
   },
   {
    "duration": 331,
    "start_time": "2022-07-04T03:58:18.175Z"
   },
   {
    "duration": 87,
    "start_time": "2022-07-04T03:58:18.507Z"
   },
   {
    "duration": 383,
    "start_time": "2022-07-04T03:58:18.595Z"
   },
   {
    "duration": 11,
    "start_time": "2022-07-04T03:58:18.981Z"
   },
   {
    "duration": 102,
    "start_time": "2022-07-04T03:58:18.993Z"
   },
   {
    "duration": 19,
    "start_time": "2022-07-04T03:58:19.096Z"
   },
   {
    "duration": 17,
    "start_time": "2022-07-04T03:58:19.117Z"
   },
   {
    "duration": 493,
    "start_time": "2022-07-04T03:58:19.151Z"
   },
   {
    "duration": 1556,
    "start_time": "2022-07-04T03:58:19.646Z"
   },
   {
    "duration": 43,
    "start_time": "2022-07-04T03:58:21.204Z"
   },
   {
    "duration": 74,
    "start_time": "2022-07-04T03:58:21.253Z"
   },
   {
    "duration": 3,
    "start_time": "2022-07-04T03:58:21.328Z"
   },
   {
    "duration": 8,
    "start_time": "2022-07-04T03:58:21.333Z"
   },
   {
    "duration": 129,
    "start_time": "2022-07-04T03:58:21.343Z"
   },
   {
    "duration": 20,
    "start_time": "2022-07-04T03:58:21.473Z"
   },
   {
    "duration": 365,
    "start_time": "2022-07-04T03:58:21.495Z"
   },
   {
    "duration": 13,
    "start_time": "2022-07-04T03:58:21.862Z"
   },
   {
    "duration": 102,
    "start_time": "2022-07-04T03:58:21.951Z"
   },
   {
    "duration": 7,
    "start_time": "2022-07-04T03:58:22.058Z"
   },
   {
    "duration": 94,
    "start_time": "2022-07-04T03:58:22.069Z"
   },
   {
    "duration": 1289,
    "start_time": "2022-07-04T03:58:22.166Z"
   },
   {
    "duration": 256,
    "start_time": "2022-07-04T03:58:23.456Z"
   },
   {
    "duration": 1470,
    "start_time": "2022-07-04T04:08:20.810Z"
   },
   {
    "duration": 891,
    "start_time": "2022-07-04T04:08:22.290Z"
   },
   {
    "duration": 152,
    "start_time": "2022-07-04T04:08:23.185Z"
   },
   {
    "duration": 7,
    "start_time": "2022-07-04T04:08:23.353Z"
   },
   {
    "duration": 529,
    "start_time": "2022-07-04T04:08:23.364Z"
   },
   {
    "duration": 567,
    "start_time": "2022-07-04T04:08:23.894Z"
   },
   {
    "duration": 131,
    "start_time": "2022-07-04T04:08:24.473Z"
   },
   {
    "duration": 157,
    "start_time": "2022-07-04T04:08:24.605Z"
   },
   {
    "duration": 280,
    "start_time": "2022-07-04T04:08:24.764Z"
   },
   {
    "duration": 129,
    "start_time": "2022-07-04T04:08:25.052Z"
   },
   {
    "duration": 458,
    "start_time": "2022-07-04T04:08:25.182Z"
   },
   {
    "duration": 96,
    "start_time": "2022-07-04T04:08:25.642Z"
   },
   {
    "duration": 441,
    "start_time": "2022-07-04T04:08:25.740Z"
   },
   {
    "duration": 12,
    "start_time": "2022-07-04T04:08:26.183Z"
   },
   {
    "duration": 111,
    "start_time": "2022-07-04T04:08:26.197Z"
   },
   {
    "duration": 20,
    "start_time": "2022-07-04T04:08:26.309Z"
   },
   {
    "duration": 43,
    "start_time": "2022-07-04T04:08:26.332Z"
   },
   {
    "duration": 508,
    "start_time": "2022-07-04T04:08:26.380Z"
   },
   {
    "duration": 1688,
    "start_time": "2022-07-04T04:08:26.890Z"
   },
   {
    "duration": 44,
    "start_time": "2022-07-04T04:08:28.581Z"
   },
   {
    "duration": 69,
    "start_time": "2022-07-04T04:08:28.627Z"
   },
   {
    "duration": 3,
    "start_time": "2022-07-04T04:08:28.698Z"
   },
   {
    "duration": 10,
    "start_time": "2022-07-04T04:08:28.702Z"
   },
   {
    "duration": 150,
    "start_time": "2022-07-04T04:08:28.714Z"
   },
   {
    "duration": 95,
    "start_time": "2022-07-04T04:08:28.866Z"
   },
   {
    "duration": 185,
    "start_time": "2022-07-04T04:08:28.982Z"
   },
   {
    "duration": 99,
    "start_time": "2022-07-04T04:08:29.170Z"
   },
   {
    "duration": 101,
    "start_time": "2022-07-04T04:08:29.281Z"
   },
   {
    "duration": 9,
    "start_time": "2022-07-04T04:08:29.383Z"
   },
   {
    "duration": 69,
    "start_time": "2022-07-04T04:08:29.394Z"
   },
   {
    "duration": 1204,
    "start_time": "2022-07-04T04:08:29.466Z"
   },
   {
    "duration": 1525,
    "start_time": "2022-07-04T04:08:30.753Z"
   },
   {
    "duration": 1640,
    "start_time": "2022-07-04T04:14:56.331Z"
   },
   {
    "duration": 905,
    "start_time": "2022-07-04T04:14:57.973Z"
   },
   {
    "duration": 160,
    "start_time": "2022-07-04T04:14:58.880Z"
   },
   {
    "duration": 4,
    "start_time": "2022-07-04T04:14:59.042Z"
   },
   {
    "duration": 583,
    "start_time": "2022-07-04T04:14:59.056Z"
   },
   {
    "duration": 608,
    "start_time": "2022-07-04T04:14:59.641Z"
   },
   {
    "duration": 140,
    "start_time": "2022-07-04T04:15:00.251Z"
   },
   {
    "duration": 230,
    "start_time": "2022-07-04T04:15:00.401Z"
   },
   {
    "duration": 325,
    "start_time": "2022-07-04T04:15:00.633Z"
   },
   {
    "duration": 114,
    "start_time": "2022-07-04T04:15:00.962Z"
   },
   {
    "duration": 393,
    "start_time": "2022-07-04T04:15:01.080Z"
   },
   {
    "duration": 107,
    "start_time": "2022-07-04T04:15:01.475Z"
   },
   {
    "duration": 446,
    "start_time": "2022-07-04T04:15:01.584Z"
   },
   {
    "duration": 22,
    "start_time": "2022-07-04T04:15:02.034Z"
   },
   {
    "duration": 228,
    "start_time": "2022-07-04T04:15:02.058Z"
   },
   {
    "duration": 22,
    "start_time": "2022-07-04T04:15:02.294Z"
   },
   {
    "duration": 28,
    "start_time": "2022-07-04T04:15:02.319Z"
   },
   {
    "duration": 665,
    "start_time": "2022-07-04T04:15:02.349Z"
   },
   {
    "duration": 1812,
    "start_time": "2022-07-04T04:15:03.016Z"
   },
   {
    "duration": 55,
    "start_time": "2022-07-04T04:15:04.831Z"
   },
   {
    "duration": 90,
    "start_time": "2022-07-04T04:15:04.897Z"
   },
   {
    "duration": 4,
    "start_time": "2022-07-04T04:15:04.989Z"
   },
   {
    "duration": 3,
    "start_time": "2022-07-04T04:15:04.994Z"
   },
   {
    "duration": 157,
    "start_time": "2022-07-04T04:15:05.001Z"
   },
   {
    "duration": 95,
    "start_time": "2022-07-04T04:15:05.159Z"
   },
   {
    "duration": 230,
    "start_time": "2022-07-04T04:15:05.260Z"
   },
   {
    "duration": 19,
    "start_time": "2022-07-04T04:15:05.558Z"
   },
   {
    "duration": 155,
    "start_time": "2022-07-04T04:15:05.580Z"
   },
   {
    "duration": 13,
    "start_time": "2022-07-04T04:15:05.738Z"
   },
   {
    "duration": 136,
    "start_time": "2022-07-04T04:15:05.754Z"
   },
   {
    "duration": 1467,
    "start_time": "2022-07-04T04:15:05.892Z"
   },
   {
    "duration": 1535,
    "start_time": "2022-07-04T04:15:07.372Z"
   },
   {
    "duration": 65835,
    "start_time": "2022-07-04T04:15:08.970Z"
   },
   {
    "duration": 71536,
    "start_time": "2022-07-04T04:16:14.809Z"
   },
   {
    "duration": 12,
    "start_time": "2022-07-04T04:17:26.347Z"
   },
   {
    "duration": 19473,
    "start_time": "2022-07-04T04:17:26.363Z"
   },
   {
    "duration": 237,
    "start_time": "2022-07-04T04:17:45.838Z"
   },
   {
    "duration": 14,
    "start_time": "2022-07-04T04:17:46.077Z"
   },
   {
    "duration": 1812,
    "start_time": "2022-07-04T04:27:53.114Z"
   },
   {
    "duration": 1152,
    "start_time": "2022-07-04T04:27:54.930Z"
   },
   {
    "duration": 203,
    "start_time": "2022-07-04T04:27:56.096Z"
   },
   {
    "duration": 6,
    "start_time": "2022-07-04T04:27:56.304Z"
   },
   {
    "duration": 658,
    "start_time": "2022-07-04T04:27:56.311Z"
   },
   {
    "duration": 597,
    "start_time": "2022-07-04T04:27:56.971Z"
   },
   {
    "duration": 150,
    "start_time": "2022-07-04T04:27:57.576Z"
   },
   {
    "duration": 194,
    "start_time": "2022-07-04T04:27:57.728Z"
   },
   {
    "duration": 372,
    "start_time": "2022-07-04T04:27:57.924Z"
   },
   {
    "duration": 114,
    "start_time": "2022-07-04T04:27:58.298Z"
   },
   {
    "duration": 453,
    "start_time": "2022-07-04T04:27:58.418Z"
   },
   {
    "duration": 100,
    "start_time": "2022-07-04T04:27:58.872Z"
   },
   {
    "duration": 452,
    "start_time": "2022-07-04T04:27:58.981Z"
   },
   {
    "duration": 29,
    "start_time": "2022-07-04T04:27:59.435Z"
   },
   {
    "duration": 128,
    "start_time": "2022-07-04T04:27:59.466Z"
   },
   {
    "duration": 33,
    "start_time": "2022-07-04T04:27:59.596Z"
   },
   {
    "duration": 33,
    "start_time": "2022-07-04T04:27:59.631Z"
   },
   {
    "duration": 683,
    "start_time": "2022-07-04T04:27:59.666Z"
   },
   {
    "duration": 1973,
    "start_time": "2022-07-04T04:28:00.350Z"
   },
   {
    "duration": 51,
    "start_time": "2022-07-04T04:28:02.328Z"
   },
   {
    "duration": 80,
    "start_time": "2022-07-04T04:28:02.381Z"
   },
   {
    "duration": 6,
    "start_time": "2022-07-04T04:28:02.463Z"
   },
   {
    "duration": 49,
    "start_time": "2022-07-04T04:28:02.470Z"
   },
   {
    "duration": 150,
    "start_time": "2022-07-04T04:28:02.521Z"
   },
   {
    "duration": 106,
    "start_time": "2022-07-04T04:28:02.676Z"
   },
   {
    "duration": 252,
    "start_time": "2022-07-04T04:28:02.802Z"
   },
   {
    "duration": 14,
    "start_time": "2022-07-04T04:28:03.059Z"
   },
   {
    "duration": 203,
    "start_time": "2022-07-04T04:28:03.078Z"
   },
   {
    "duration": 3,
    "start_time": "2022-07-04T04:28:03.287Z"
   },
   {
    "duration": 142,
    "start_time": "2022-07-04T04:28:03.292Z"
   },
   {
    "duration": 5,
    "start_time": "2022-07-04T04:28:03.437Z"
   },
   {
    "duration": 0,
    "start_time": "2022-07-04T04:28:03.444Z"
   },
   {
    "duration": 0,
    "start_time": "2022-07-04T04:28:03.445Z"
   },
   {
    "duration": 0,
    "start_time": "2022-07-04T04:28:03.447Z"
   },
   {
    "duration": 0,
    "start_time": "2022-07-04T04:28:03.448Z"
   },
   {
    "duration": 0,
    "start_time": "2022-07-04T04:28:03.449Z"
   },
   {
    "duration": 0,
    "start_time": "2022-07-04T04:28:03.452Z"
   },
   {
    "duration": 0,
    "start_time": "2022-07-04T04:28:03.458Z"
   },
   {
    "duration": 0,
    "start_time": "2022-07-04T04:28:03.459Z"
   },
   {
    "duration": 0,
    "start_time": "2022-07-04T04:28:03.468Z"
   },
   {
    "duration": 0,
    "start_time": "2022-07-04T04:28:03.469Z"
   },
   {
    "duration": 0,
    "start_time": "2022-07-04T04:28:03.471Z"
   },
   {
    "duration": 0,
    "start_time": "2022-07-04T04:28:03.472Z"
   },
   {
    "duration": 0,
    "start_time": "2022-07-04T04:28:03.473Z"
   },
   {
    "duration": 0,
    "start_time": "2022-07-04T04:28:03.473Z"
   },
   {
    "duration": 0,
    "start_time": "2022-07-04T04:28:03.477Z"
   },
   {
    "duration": 0,
    "start_time": "2022-07-04T04:28:03.480Z"
   },
   {
    "duration": 0,
    "start_time": "2022-07-04T04:28:03.480Z"
   },
   {
    "duration": 1246,
    "start_time": "2022-07-04T04:28:25.031Z"
   },
   {
    "duration": 73108,
    "start_time": "2022-07-04T04:28:32.401Z"
   },
   {
    "duration": 79900,
    "start_time": "2022-07-04T04:40:13.728Z"
   },
   {
    "duration": 3,
    "start_time": "2022-07-04T04:44:28.279Z"
   },
   {
    "duration": 32251,
    "start_time": "2022-07-04T04:44:30.437Z"
   },
   {
    "duration": 275,
    "start_time": "2022-07-04T04:45:24.821Z"
   },
   {
    "duration": 8,
    "start_time": "2022-07-04T04:45:31.084Z"
   },
   {
    "duration": 1839,
    "start_time": "2022-07-04T05:42:24.797Z"
   },
   {
    "duration": 924,
    "start_time": "2022-07-04T05:42:26.638Z"
   },
   {
    "duration": 148,
    "start_time": "2022-07-04T05:42:27.564Z"
   },
   {
    "duration": 4,
    "start_time": "2022-07-04T05:42:27.714Z"
   },
   {
    "duration": 565,
    "start_time": "2022-07-04T05:42:27.720Z"
   },
   {
    "duration": 562,
    "start_time": "2022-07-04T05:42:28.287Z"
   },
   {
    "duration": 112,
    "start_time": "2022-07-04T05:42:28.851Z"
   },
   {
    "duration": 187,
    "start_time": "2022-07-04T05:42:28.964Z"
   },
   {
    "duration": 307,
    "start_time": "2022-07-04T05:42:29.162Z"
   },
   {
    "duration": 109,
    "start_time": "2022-07-04T05:42:29.475Z"
   },
   {
    "duration": 357,
    "start_time": "2022-07-04T05:42:29.585Z"
   },
   {
    "duration": 127,
    "start_time": "2022-07-04T05:42:29.944Z"
   },
   {
    "duration": 404,
    "start_time": "2022-07-04T05:42:30.073Z"
   },
   {
    "duration": 10,
    "start_time": "2022-07-04T05:42:30.479Z"
   },
   {
    "duration": 133,
    "start_time": "2022-07-04T05:42:30.491Z"
   },
   {
    "duration": 43,
    "start_time": "2022-07-04T05:42:30.625Z"
   },
   {
    "duration": 19,
    "start_time": "2022-07-04T05:42:30.671Z"
   },
   {
    "duration": 507,
    "start_time": "2022-07-04T05:42:30.692Z"
   },
   {
    "duration": 1666,
    "start_time": "2022-07-04T05:42:31.201Z"
   },
   {
    "duration": 43,
    "start_time": "2022-07-04T05:42:32.871Z"
   },
   {
    "duration": 88,
    "start_time": "2022-07-04T05:42:32.916Z"
   },
   {
    "duration": 3,
    "start_time": "2022-07-04T05:42:33.005Z"
   },
   {
    "duration": 10,
    "start_time": "2022-07-04T05:42:33.010Z"
   },
   {
    "duration": 140,
    "start_time": "2022-07-04T05:42:33.022Z"
   },
   {
    "duration": 87,
    "start_time": "2022-07-04T05:42:33.164Z"
   },
   {
    "duration": 215,
    "start_time": "2022-07-04T05:42:33.255Z"
   },
   {
    "duration": 76,
    "start_time": "2022-07-04T05:42:33.475Z"
   },
   {
    "duration": 153,
    "start_time": "2022-07-04T05:42:33.555Z"
   },
   {
    "duration": 3,
    "start_time": "2022-07-04T05:42:33.709Z"
   },
   {
    "duration": 93,
    "start_time": "2022-07-04T05:42:33.714Z"
   },
   {
    "duration": 1461,
    "start_time": "2022-07-04T05:42:33.809Z"
   },
   {
    "duration": 57294,
    "start_time": "2022-07-04T05:42:35.274Z"
   },
   {
    "duration": 63697,
    "start_time": "2022-07-04T05:43:32.575Z"
   },
   {
    "duration": 15,
    "start_time": "2022-07-04T05:44:36.274Z"
   },
   {
    "duration": 26953,
    "start_time": "2022-07-04T05:44:36.294Z"
   },
   {
    "duration": 260,
    "start_time": "2022-07-04T05:45:03.249Z"
   },
   {
    "duration": 6,
    "start_time": "2022-07-04T05:45:03.511Z"
   },
   {
    "duration": 6,
    "start_time": "2022-07-04T05:45:03.519Z"
   },
   {
    "duration": 5,
    "start_time": "2022-07-04T05:45:03.527Z"
   },
   {
    "duration": 210,
    "start_time": "2022-07-04T05:45:03.534Z"
   },
   {
    "duration": 77,
    "start_time": "2022-07-04T05:45:03.746Z"
   },
   {
    "duration": 10,
    "start_time": "2022-07-04T05:45:03.825Z"
   },
   {
    "duration": 0,
    "start_time": "2022-07-04T05:45:03.837Z"
   },
   {
    "duration": 0,
    "start_time": "2022-07-04T05:45:03.838Z"
   },
   {
    "duration": 0,
    "start_time": "2022-07-04T05:45:03.839Z"
   },
   {
    "duration": 0,
    "start_time": "2022-07-04T05:45:03.840Z"
   },
   {
    "duration": 0,
    "start_time": "2022-07-04T05:45:03.842Z"
   },
   {
    "duration": 0,
    "start_time": "2022-07-04T05:45:03.843Z"
   },
   {
    "duration": 113,
    "start_time": "2022-07-04T05:46:53.837Z"
   },
   {
    "duration": 1728,
    "start_time": "2022-07-04T05:49:04.019Z"
   },
   {
    "duration": 953,
    "start_time": "2022-07-04T05:49:05.749Z"
   },
   {
    "duration": 155,
    "start_time": "2022-07-04T05:49:06.704Z"
   },
   {
    "duration": 6,
    "start_time": "2022-07-04T05:49:06.865Z"
   },
   {
    "duration": 617,
    "start_time": "2022-07-04T05:49:06.873Z"
   },
   {
    "duration": 587,
    "start_time": "2022-07-04T05:49:07.492Z"
   },
   {
    "duration": 122,
    "start_time": "2022-07-04T05:49:08.081Z"
   },
   {
    "duration": 218,
    "start_time": "2022-07-04T05:49:08.205Z"
   },
   {
    "duration": 329,
    "start_time": "2022-07-04T05:49:08.425Z"
   },
   {
    "duration": 119,
    "start_time": "2022-07-04T05:49:08.759Z"
   },
   {
    "duration": 413,
    "start_time": "2022-07-04T05:49:08.880Z"
   },
   {
    "duration": 143,
    "start_time": "2022-07-04T05:49:09.296Z"
   },
   {
    "duration": 436,
    "start_time": "2022-07-04T05:49:09.442Z"
   },
   {
    "duration": 11,
    "start_time": "2022-07-04T05:49:09.879Z"
   },
   {
    "duration": 132,
    "start_time": "2022-07-04T05:49:09.892Z"
   },
   {
    "duration": 48,
    "start_time": "2022-07-04T05:49:10.026Z"
   },
   {
    "duration": 19,
    "start_time": "2022-07-04T05:49:10.076Z"
   },
   {
    "duration": 535,
    "start_time": "2022-07-04T05:49:10.097Z"
   },
   {
    "duration": 1754,
    "start_time": "2022-07-04T05:49:10.634Z"
   },
   {
    "duration": 45,
    "start_time": "2022-07-04T05:49:12.390Z"
   },
   {
    "duration": 102,
    "start_time": "2022-07-04T05:49:12.437Z"
   },
   {
    "duration": 14,
    "start_time": "2022-07-04T05:49:12.542Z"
   },
   {
    "duration": 29,
    "start_time": "2022-07-04T05:49:12.560Z"
   },
   {
    "duration": 172,
    "start_time": "2022-07-04T05:49:12.591Z"
   },
   {
    "duration": 91,
    "start_time": "2022-07-04T05:49:12.772Z"
   },
   {
    "duration": 291,
    "start_time": "2022-07-04T05:49:12.869Z"
   },
   {
    "duration": 91,
    "start_time": "2022-07-04T05:49:13.166Z"
   },
   {
    "duration": 83,
    "start_time": "2022-07-04T05:49:13.267Z"
   },
   {
    "duration": 5,
    "start_time": "2022-07-04T05:49:13.356Z"
   },
   {
    "duration": 138,
    "start_time": "2022-07-04T05:49:13.363Z"
   },
   {
    "duration": 1454,
    "start_time": "2022-07-04T05:49:13.504Z"
   },
   {
    "duration": 66459,
    "start_time": "2022-07-04T05:49:14.962Z"
   },
   {
    "duration": 72030,
    "start_time": "2022-07-04T05:50:21.423Z"
   },
   {
    "duration": 17,
    "start_time": "2022-07-04T05:51:33.459Z"
   },
   {
    "duration": 28484,
    "start_time": "2022-07-04T05:51:33.478Z"
   },
   {
    "duration": 320,
    "start_time": "2022-07-04T05:52:01.964Z"
   },
   {
    "duration": 6,
    "start_time": "2022-07-04T05:52:02.287Z"
   },
   {
    "duration": 56,
    "start_time": "2022-07-04T05:52:02.295Z"
   },
   {
    "duration": 0,
    "start_time": "2022-07-04T05:52:02.355Z"
   },
   {
    "duration": 0,
    "start_time": "2022-07-04T05:52:02.356Z"
   },
   {
    "duration": 0,
    "start_time": "2022-07-04T05:52:02.357Z"
   },
   {
    "duration": 0,
    "start_time": "2022-07-04T05:52:02.359Z"
   },
   {
    "duration": 0,
    "start_time": "2022-07-04T05:52:02.362Z"
   },
   {
    "duration": 0,
    "start_time": "2022-07-04T05:52:02.367Z"
   },
   {
    "duration": 0,
    "start_time": "2022-07-04T05:52:02.368Z"
   },
   {
    "duration": 0,
    "start_time": "2022-07-04T05:52:02.369Z"
   },
   {
    "duration": 0,
    "start_time": "2022-07-04T05:52:02.369Z"
   },
   {
    "duration": 0,
    "start_time": "2022-07-04T05:52:02.370Z"
   },
   {
    "duration": 4,
    "start_time": "2022-07-04T05:54:27.916Z"
   },
   {
    "duration": 3,
    "start_time": "2022-07-04T05:54:30.123Z"
   },
   {
    "duration": 221,
    "start_time": "2022-07-04T05:54:31.372Z"
   },
   {
    "duration": 9,
    "start_time": "2022-07-04T05:55:09.149Z"
   },
   {
    "duration": 3,
    "start_time": "2022-07-04T05:55:11.212Z"
   },
   {
    "duration": 164,
    "start_time": "2022-07-04T05:55:12.384Z"
   },
   {
    "duration": 4,
    "start_time": "2022-07-04T05:55:35.619Z"
   },
   {
    "duration": 3,
    "start_time": "2022-07-04T05:55:37.241Z"
   },
   {
    "duration": 290617,
    "start_time": "2022-07-04T05:55:38.472Z"
   },
   {
    "duration": 696,
    "start_time": "2022-07-04T06:00:29.091Z"
   },
   {
    "duration": 6,
    "start_time": "2022-07-04T06:00:29.789Z"
   },
   {
    "duration": 5,
    "start_time": "2022-07-04T06:03:53.977Z"
   },
   {
    "duration": 4,
    "start_time": "2022-07-04T06:03:55.081Z"
   },
   {
    "duration": 161365,
    "start_time": "2022-07-04T06:03:58.210Z"
   },
   {
    "duration": 4,
    "start_time": "2022-07-04T06:07:31.573Z"
   },
   {
    "duration": 3,
    "start_time": "2022-07-04T06:07:32.734Z"
   },
   {
    "duration": 10,
    "start_time": "2022-07-04T06:10:32.194Z"
   },
   {
    "duration": 163782,
    "start_time": "2022-07-04T06:10:32.206Z"
   },
   {
    "duration": 5,
    "start_time": "2022-07-04T06:13:15.992Z"
   },
   {
    "duration": 1661,
    "start_time": "2022-07-04T06:18:28.822Z"
   },
   {
    "duration": 897,
    "start_time": "2022-07-04T06:18:30.485Z"
   },
   {
    "duration": 132,
    "start_time": "2022-07-04T06:18:31.384Z"
   },
   {
    "duration": 4,
    "start_time": "2022-07-04T06:18:31.518Z"
   },
   {
    "duration": 579,
    "start_time": "2022-07-04T06:18:31.524Z"
   },
   {
    "duration": 599,
    "start_time": "2022-07-04T06:18:32.105Z"
   },
   {
    "duration": 124,
    "start_time": "2022-07-04T06:18:32.707Z"
   },
   {
    "duration": 234,
    "start_time": "2022-07-04T06:18:32.833Z"
   },
   {
    "duration": 356,
    "start_time": "2022-07-04T06:18:33.070Z"
   },
   {
    "duration": 110,
    "start_time": "2022-07-04T06:18:33.430Z"
   },
   {
    "duration": 361,
    "start_time": "2022-07-04T06:18:33.542Z"
   },
   {
    "duration": 105,
    "start_time": "2022-07-04T06:18:33.905Z"
   },
   {
    "duration": 407,
    "start_time": "2022-07-04T06:18:34.012Z"
   },
   {
    "duration": 10,
    "start_time": "2022-07-04T06:18:34.420Z"
   },
   {
    "duration": 128,
    "start_time": "2022-07-04T06:18:34.432Z"
   },
   {
    "duration": 22,
    "start_time": "2022-07-04T06:18:34.566Z"
   },
   {
    "duration": 19,
    "start_time": "2022-07-04T06:18:34.590Z"
   },
   {
    "duration": 527,
    "start_time": "2022-07-04T06:18:34.611Z"
   },
   {
    "duration": 1933,
    "start_time": "2022-07-04T06:18:35.140Z"
   },
   {
    "duration": 47,
    "start_time": "2022-07-04T06:18:37.076Z"
   },
   {
    "duration": 119,
    "start_time": "2022-07-04T06:18:37.124Z"
   },
   {
    "duration": 4,
    "start_time": "2022-07-04T06:18:37.245Z"
   },
   {
    "duration": 45,
    "start_time": "2022-07-04T06:18:37.251Z"
   },
   {
    "duration": 166,
    "start_time": "2022-07-04T06:18:37.299Z"
   },
   {
    "duration": 113,
    "start_time": "2022-07-04T06:18:37.468Z"
   },
   {
    "duration": 131,
    "start_time": "2022-07-04T06:18:37.652Z"
   },
   {
    "duration": 69,
    "start_time": "2022-07-04T06:18:37.787Z"
   },
   {
    "duration": 183,
    "start_time": "2022-07-04T06:18:37.866Z"
   },
   {
    "duration": 3,
    "start_time": "2022-07-04T06:18:38.052Z"
   },
   {
    "duration": 149,
    "start_time": "2022-07-04T06:18:38.057Z"
   },
   {
    "duration": 1348,
    "start_time": "2022-07-04T06:18:38.208Z"
   },
   {
    "duration": 66428,
    "start_time": "2022-07-04T06:18:39.559Z"
   },
   {
    "duration": 61291,
    "start_time": "2022-07-04T06:19:45.989Z"
   },
   {
    "duration": 4,
    "start_time": "2022-07-04T06:20:47.282Z"
   },
   {
    "duration": 27533,
    "start_time": "2022-07-04T06:20:47.289Z"
   },
   {
    "duration": 275,
    "start_time": "2022-07-04T06:21:14.824Z"
   },
   {
    "duration": 7,
    "start_time": "2022-07-04T06:21:15.101Z"
   },
   {
    "duration": 9,
    "start_time": "2022-07-04T06:21:15.110Z"
   },
   {
    "duration": 13,
    "start_time": "2022-07-04T06:21:15.121Z"
   },
   {
    "duration": 160532,
    "start_time": "2022-07-04T06:21:15.136Z"
   },
   {
    "duration": 523,
    "start_time": "2022-07-04T06:23:55.670Z"
   },
   {
    "duration": 83,
    "start_time": "2022-07-04T06:23:56.195Z"
   },
   {
    "duration": 1436,
    "start_time": "2022-07-04T06:25:20.975Z"
   },
   {
    "duration": 882,
    "start_time": "2022-07-04T06:25:22.413Z"
   },
   {
    "duration": 134,
    "start_time": "2022-07-04T06:25:23.297Z"
   },
   {
    "duration": 3,
    "start_time": "2022-07-04T06:25:23.432Z"
   },
   {
    "duration": 490,
    "start_time": "2022-07-04T06:25:23.454Z"
   },
   {
    "duration": 555,
    "start_time": "2022-07-04T06:25:23.946Z"
   },
   {
    "duration": 112,
    "start_time": "2022-07-04T06:25:24.503Z"
   },
   {
    "duration": 165,
    "start_time": "2022-07-04T06:25:24.617Z"
   },
   {
    "duration": 285,
    "start_time": "2022-07-04T06:25:24.784Z"
   },
   {
    "duration": 107,
    "start_time": "2022-07-04T06:25:25.071Z"
   },
   {
    "duration": 412,
    "start_time": "2022-07-04T06:25:25.180Z"
   },
   {
    "duration": 100,
    "start_time": "2022-07-04T06:25:25.594Z"
   },
   {
    "duration": 383,
    "start_time": "2022-07-04T06:25:25.696Z"
   },
   {
    "duration": 11,
    "start_time": "2022-07-04T06:25:26.083Z"
   },
   {
    "duration": 130,
    "start_time": "2022-07-04T06:25:26.095Z"
   },
   {
    "duration": 36,
    "start_time": "2022-07-04T06:25:26.227Z"
   },
   {
    "duration": 22,
    "start_time": "2022-07-04T06:25:26.267Z"
   },
   {
    "duration": 502,
    "start_time": "2022-07-04T06:25:26.291Z"
   },
   {
    "duration": 1592,
    "start_time": "2022-07-04T06:25:26.795Z"
   },
   {
    "duration": 50,
    "start_time": "2022-07-04T06:25:28.388Z"
   },
   {
    "duration": 61,
    "start_time": "2022-07-04T06:25:28.458Z"
   },
   {
    "duration": 3,
    "start_time": "2022-07-04T06:25:28.520Z"
   },
   {
    "duration": 19,
    "start_time": "2022-07-04T06:25:28.525Z"
   },
   {
    "duration": 118,
    "start_time": "2022-07-04T06:25:28.546Z"
   },
   {
    "duration": 85,
    "start_time": "2022-07-04T06:25:28.668Z"
   },
   {
    "duration": 212,
    "start_time": "2022-07-04T06:25:28.755Z"
   },
   {
    "duration": 12,
    "start_time": "2022-07-04T06:25:28.974Z"
   },
   {
    "duration": 151,
    "start_time": "2022-07-04T06:25:29.056Z"
   },
   {
    "duration": 2,
    "start_time": "2022-07-04T06:25:29.209Z"
   },
   {
    "duration": 89,
    "start_time": "2022-07-04T06:25:29.213Z"
   },
   {
    "duration": 1450,
    "start_time": "2022-07-04T06:25:29.304Z"
   },
   {
    "duration": 56263,
    "start_time": "2022-07-04T06:25:30.759Z"
   },
   {
    "duration": 62226,
    "start_time": "2022-07-04T06:26:27.024Z"
   },
   {
    "duration": 8,
    "start_time": "2022-07-04T06:27:29.257Z"
   },
   {
    "duration": 26966,
    "start_time": "2022-07-04T06:27:29.269Z"
   },
   {
    "duration": 216,
    "start_time": "2022-07-04T06:27:56.237Z"
   },
   {
    "duration": 5,
    "start_time": "2022-07-04T06:27:56.467Z"
   },
   {
    "duration": 11,
    "start_time": "2022-07-04T06:27:56.474Z"
   },
   {
    "duration": 4,
    "start_time": "2022-07-04T06:27:56.487Z"
   },
   {
    "duration": 178064,
    "start_time": "2022-07-04T06:27:56.493Z"
   },
   {
    "duration": 509,
    "start_time": "2022-07-04T06:30:54.567Z"
   },
   {
    "duration": 6,
    "start_time": "2022-07-04T06:30:55.078Z"
   },
   {
    "duration": 1639,
    "start_time": "2022-07-04T06:31:59.748Z"
   },
   {
    "duration": 1023,
    "start_time": "2022-07-04T06:32:01.390Z"
   },
   {
    "duration": 220,
    "start_time": "2022-07-04T06:32:02.416Z"
   },
   {
    "duration": 14,
    "start_time": "2022-07-04T06:32:02.639Z"
   },
   {
    "duration": 597,
    "start_time": "2022-07-04T06:32:02.660Z"
   },
   {
    "duration": 613,
    "start_time": "2022-07-04T06:32:03.260Z"
   },
   {
    "duration": 120,
    "start_time": "2022-07-04T06:32:03.876Z"
   },
   {
    "duration": 174,
    "start_time": "2022-07-04T06:32:03.998Z"
   },
   {
    "duration": 341,
    "start_time": "2022-07-04T06:32:04.174Z"
   },
   {
    "duration": 117,
    "start_time": "2022-07-04T06:32:04.517Z"
   },
   {
    "duration": 385,
    "start_time": "2022-07-04T06:32:04.636Z"
   },
   {
    "duration": 104,
    "start_time": "2022-07-04T06:32:05.023Z"
   },
   {
    "duration": 482,
    "start_time": "2022-07-04T06:32:05.129Z"
   },
   {
    "duration": 11,
    "start_time": "2022-07-04T06:32:05.616Z"
   },
   {
    "duration": 139,
    "start_time": "2022-07-04T06:32:05.628Z"
   },
   {
    "duration": 24,
    "start_time": "2022-07-04T06:32:05.770Z"
   },
   {
    "duration": 29,
    "start_time": "2022-07-04T06:32:05.796Z"
   },
   {
    "duration": 543,
    "start_time": "2022-07-04T06:32:05.827Z"
   },
   {
    "duration": 1702,
    "start_time": "2022-07-04T06:32:06.372Z"
   },
   {
    "duration": 50,
    "start_time": "2022-07-04T06:32:08.076Z"
   },
   {
    "duration": 84,
    "start_time": "2022-07-04T06:32:08.128Z"
   },
   {
    "duration": 4,
    "start_time": "2022-07-04T06:32:08.214Z"
   },
   {
    "duration": 14,
    "start_time": "2022-07-04T06:32:08.219Z"
   },
   {
    "duration": 142,
    "start_time": "2022-07-04T06:32:08.235Z"
   },
   {
    "duration": 83,
    "start_time": "2022-07-04T06:32:08.379Z"
   },
   {
    "duration": 307,
    "start_time": "2022-07-04T06:32:08.475Z"
   },
   {
    "duration": 9,
    "start_time": "2022-07-04T06:32:08.857Z"
   },
   {
    "duration": 143,
    "start_time": "2022-07-04T06:32:08.868Z"
   },
   {
    "duration": 93,
    "start_time": "2022-07-04T06:32:09.013Z"
   },
   {
    "duration": 1356,
    "start_time": "2022-07-04T06:32:09.108Z"
   },
   {
    "duration": 59622,
    "start_time": "2022-07-04T06:32:10.466Z"
   },
   {
    "duration": 61876,
    "start_time": "2022-07-04T06:33:10.090Z"
   },
   {
    "duration": 6,
    "start_time": "2022-07-04T06:34:11.970Z"
   },
   {
    "duration": 27802,
    "start_time": "2022-07-04T06:34:11.977Z"
   },
   {
    "duration": 231,
    "start_time": "2022-07-04T06:34:39.781Z"
   },
   {
    "duration": 8,
    "start_time": "2022-07-04T06:34:40.014Z"
   },
   {
    "duration": 8,
    "start_time": "2022-07-04T06:34:40.025Z"
   },
   {
    "duration": 24,
    "start_time": "2022-07-04T06:34:40.036Z"
   },
   {
    "duration": 386612,
    "start_time": "2022-07-04T06:34:40.066Z"
   },
   {
    "duration": 698,
    "start_time": "2022-07-04T06:41:06.680Z"
   },
   {
    "duration": 7,
    "start_time": "2022-07-04T06:41:07.383Z"
   },
   {
    "duration": 1442,
    "start_time": "2022-07-04T06:41:59.809Z"
   },
   {
    "duration": 888,
    "start_time": "2022-07-04T06:42:01.256Z"
   },
   {
    "duration": 224,
    "start_time": "2022-07-04T06:42:02.146Z"
   },
   {
    "duration": 4,
    "start_time": "2022-07-04T06:42:02.372Z"
   },
   {
    "duration": 597,
    "start_time": "2022-07-04T06:42:02.378Z"
   },
   {
    "duration": 625,
    "start_time": "2022-07-04T06:42:02.978Z"
   },
   {
    "duration": 197,
    "start_time": "2022-07-04T06:42:03.605Z"
   },
   {
    "duration": 223,
    "start_time": "2022-07-04T06:42:03.805Z"
   },
   {
    "duration": 315,
    "start_time": "2022-07-04T06:42:04.030Z"
   },
   {
    "duration": 126,
    "start_time": "2022-07-04T06:42:04.349Z"
   },
   {
    "duration": 390,
    "start_time": "2022-07-04T06:42:04.477Z"
   },
   {
    "duration": 97,
    "start_time": "2022-07-04T06:42:04.869Z"
   },
   {
    "duration": 473,
    "start_time": "2022-07-04T06:42:04.968Z"
   },
   {
    "duration": 21,
    "start_time": "2022-07-04T06:42:05.444Z"
   },
   {
    "duration": 156,
    "start_time": "2022-07-04T06:42:05.472Z"
   },
   {
    "duration": 35,
    "start_time": "2022-07-04T06:42:05.634Z"
   },
   {
    "duration": 34,
    "start_time": "2022-07-04T06:42:05.676Z"
   },
   {
    "duration": 554,
    "start_time": "2022-07-04T06:42:05.712Z"
   },
   {
    "duration": 1795,
    "start_time": "2022-07-04T06:42:06.268Z"
   },
   {
    "duration": 53,
    "start_time": "2022-07-04T06:42:08.065Z"
   },
   {
    "duration": 92,
    "start_time": "2022-07-04T06:42:08.120Z"
   },
   {
    "duration": 3,
    "start_time": "2022-07-04T06:42:08.214Z"
   },
   {
    "duration": 8,
    "start_time": "2022-07-04T06:42:08.219Z"
   },
   {
    "duration": 135,
    "start_time": "2022-07-04T06:42:08.230Z"
   },
   {
    "duration": 92,
    "start_time": "2022-07-04T06:42:08.368Z"
   },
   {
    "duration": 308,
    "start_time": "2022-07-04T06:42:08.463Z"
   },
   {
    "duration": 80,
    "start_time": "2022-07-04T06:42:08.773Z"
   },
   {
    "duration": 103,
    "start_time": "2022-07-04T06:42:08.867Z"
   },
   {
    "duration": 68,
    "start_time": "2022-07-04T06:42:08.975Z"
   },
   {
    "duration": 1516,
    "start_time": "2022-07-04T06:42:09.046Z"
   },
   {
    "duration": 55937,
    "start_time": "2022-07-04T06:42:10.567Z"
   },
   {
    "duration": 58935,
    "start_time": "2022-07-04T06:43:06.506Z"
   },
   {
    "duration": 3,
    "start_time": "2022-07-04T06:44:05.443Z"
   },
   {
    "duration": 23571,
    "start_time": "2022-07-04T06:44:05.447Z"
   },
   {
    "duration": 207,
    "start_time": "2022-07-04T06:44:29.019Z"
   },
   {
    "duration": 5,
    "start_time": "2022-07-04T06:44:29.227Z"
   },
   {
    "duration": 21,
    "start_time": "2022-07-04T06:44:29.234Z"
   },
   {
    "duration": 7,
    "start_time": "2022-07-04T06:44:29.259Z"
   },
   {
    "duration": 290105,
    "start_time": "2022-07-04T06:44:29.268Z"
   },
   {
    "duration": 695,
    "start_time": "2022-07-04T06:49:19.375Z"
   },
   {
    "duration": 7,
    "start_time": "2022-07-04T06:49:20.074Z"
   },
   {
    "duration": 135365,
    "start_time": "2022-07-04T06:49:20.083Z"
   },
   {
    "duration": 1529,
    "start_time": "2022-07-04T07:17:13.954Z"
   },
   {
    "duration": 862,
    "start_time": "2022-07-04T07:17:15.486Z"
   },
   {
    "duration": 136,
    "start_time": "2022-07-04T07:17:16.349Z"
   },
   {
    "duration": 3,
    "start_time": "2022-07-04T07:17:16.494Z"
   },
   {
    "duration": 505,
    "start_time": "2022-07-04T07:17:16.501Z"
   },
   {
    "duration": 561,
    "start_time": "2022-07-04T07:17:17.009Z"
   },
   {
    "duration": 106,
    "start_time": "2022-07-04T07:17:17.572Z"
   },
   {
    "duration": 156,
    "start_time": "2022-07-04T07:17:17.680Z"
   },
   {
    "duration": 297,
    "start_time": "2022-07-04T07:17:17.838Z"
   },
   {
    "duration": 103,
    "start_time": "2022-07-04T07:17:18.137Z"
   },
   {
    "duration": 355,
    "start_time": "2022-07-04T07:17:18.242Z"
   },
   {
    "duration": 96,
    "start_time": "2022-07-04T07:17:18.599Z"
   },
   {
    "duration": 374,
    "start_time": "2022-07-04T07:17:18.697Z"
   },
   {
    "duration": 13,
    "start_time": "2022-07-04T07:17:19.076Z"
   },
   {
    "duration": 120,
    "start_time": "2022-07-04T07:17:19.092Z"
   },
   {
    "duration": 21,
    "start_time": "2022-07-04T07:17:19.214Z"
   },
   {
    "duration": 36,
    "start_time": "2022-07-04T07:17:19.238Z"
   },
   {
    "duration": 460,
    "start_time": "2022-07-04T07:17:19.276Z"
   },
   {
    "duration": 1554,
    "start_time": "2022-07-04T07:17:19.738Z"
   },
   {
    "duration": 71,
    "start_time": "2022-07-04T07:17:21.294Z"
   },
   {
    "duration": 71,
    "start_time": "2022-07-04T07:17:21.370Z"
   },
   {
    "duration": 3,
    "start_time": "2022-07-04T07:17:21.442Z"
   },
   {
    "duration": 44,
    "start_time": "2022-07-04T07:17:21.447Z"
   },
   {
    "duration": 98,
    "start_time": "2022-07-04T07:17:21.492Z"
   },
   {
    "duration": 170,
    "start_time": "2022-07-04T07:17:21.592Z"
   },
   {
    "duration": 213,
    "start_time": "2022-07-04T07:17:21.770Z"
   },
   {
    "duration": 75,
    "start_time": "2022-07-04T07:17:21.985Z"
   },
   {
    "duration": 132,
    "start_time": "2022-07-04T07:17:22.064Z"
   },
   {
    "duration": 77,
    "start_time": "2022-07-04T07:17:22.198Z"
   },
   {
    "duration": 1290,
    "start_time": "2022-07-04T07:17:22.277Z"
   },
   {
    "duration": 58420,
    "start_time": "2022-07-04T07:17:23.568Z"
   },
   {
    "duration": 76615,
    "start_time": "2022-07-04T07:18:21.989Z"
   },
   {
    "duration": 3,
    "start_time": "2022-07-04T07:19:38.607Z"
   },
   {
    "duration": 26560,
    "start_time": "2022-07-04T07:19:38.612Z"
   },
   {
    "duration": 231,
    "start_time": "2022-07-04T07:20:05.179Z"
   },
   {
    "duration": 6,
    "start_time": "2022-07-04T07:20:05.412Z"
   },
   {
    "duration": 4,
    "start_time": "2022-07-04T07:20:05.420Z"
   },
   {
    "duration": 7,
    "start_time": "2022-07-04T07:20:05.426Z"
   },
   {
    "duration": 303251,
    "start_time": "2022-07-04T07:20:05.435Z"
   },
   {
    "duration": 631,
    "start_time": "2022-07-04T07:25:08.754Z"
   },
   {
    "duration": 5,
    "start_time": "2022-07-04T07:25:09.390Z"
   },
   {
    "duration": 88465,
    "start_time": "2022-07-04T07:25:09.397Z"
   },
   {
    "duration": 18,
    "start_time": "2022-07-04T07:26:37.864Z"
   },
   {
    "duration": 5,
    "start_time": "2022-07-04T07:30:45.529Z"
   },
   {
    "duration": 3,
    "start_time": "2022-07-04T07:31:52.210Z"
   },
   {
    "duration": 62033,
    "start_time": "2022-07-04T07:33:53.281Z"
   },
   {
    "duration": 61606,
    "start_time": "2022-07-04T07:36:52.388Z"
   },
   {
    "duration": 127,
    "start_time": "2022-07-04T07:38:34.809Z"
   },
   {
    "duration": 7,
    "start_time": "2022-07-04T07:38:48.175Z"
   },
   {
    "duration": 941,
    "start_time": "2022-07-04T07:39:06.849Z"
   },
   {
    "duration": 21,
    "start_time": "2022-07-04T07:39:51.824Z"
   },
   {
    "duration": 9,
    "start_time": "2022-07-04T07:40:20.172Z"
   },
   {
    "duration": 14,
    "start_time": "2022-07-04T07:52:27.513Z"
   },
   {
    "duration": 14,
    "start_time": "2022-07-04T07:52:54.015Z"
   },
   {
    "duration": 10,
    "start_time": "2022-07-04T07:53:01.504Z"
   },
   {
    "duration": 9,
    "start_time": "2022-07-04T07:54:18.377Z"
   },
   {
    "duration": 5,
    "start_time": "2022-07-04T08:34:16.283Z"
   },
   {
    "duration": 1763,
    "start_time": "2022-07-04T08:34:56.142Z"
   },
   {
    "duration": 1093,
    "start_time": "2022-07-04T08:34:57.907Z"
   },
   {
    "duration": 177,
    "start_time": "2022-07-04T08:34:59.002Z"
   },
   {
    "duration": 27,
    "start_time": "2022-07-04T08:34:59.181Z"
   },
   {
    "duration": 598,
    "start_time": "2022-07-04T08:34:59.212Z"
   },
   {
    "duration": 720,
    "start_time": "2022-07-04T08:34:59.812Z"
   },
   {
    "duration": 150,
    "start_time": "2022-07-04T08:35:00.534Z"
   },
   {
    "duration": 230,
    "start_time": "2022-07-04T08:35:00.691Z"
   },
   {
    "duration": 392,
    "start_time": "2022-07-04T08:35:00.923Z"
   },
   {
    "duration": 142,
    "start_time": "2022-07-04T08:35:01.321Z"
   },
   {
    "duration": 480,
    "start_time": "2022-07-04T08:35:01.465Z"
   },
   {
    "duration": 131,
    "start_time": "2022-07-04T08:35:01.947Z"
   },
   {
    "duration": 481,
    "start_time": "2022-07-04T08:35:02.087Z"
   },
   {
    "duration": 17,
    "start_time": "2022-07-04T08:35:02.574Z"
   },
   {
    "duration": 173,
    "start_time": "2022-07-04T08:35:02.594Z"
   },
   {
    "duration": 28,
    "start_time": "2022-07-04T08:35:02.768Z"
   },
   {
    "duration": 43,
    "start_time": "2022-07-04T08:35:02.800Z"
   },
   {
    "duration": 687,
    "start_time": "2022-07-04T08:35:02.845Z"
   },
   {
    "duration": 2149,
    "start_time": "2022-07-04T08:35:03.535Z"
   },
   {
    "duration": 57,
    "start_time": "2022-07-04T08:35:05.690Z"
   },
   {
    "duration": 95,
    "start_time": "2022-07-04T08:35:05.750Z"
   },
   {
    "duration": 50,
    "start_time": "2022-07-04T08:35:05.847Z"
   },
   {
    "duration": 27,
    "start_time": "2022-07-04T08:35:05.900Z"
   },
   {
    "duration": 146,
    "start_time": "2022-07-04T08:35:05.929Z"
   },
   {
    "duration": 87,
    "start_time": "2022-07-04T08:35:06.077Z"
   },
   {
    "duration": 24,
    "start_time": "2022-07-04T08:35:06.181Z"
   },
   {
    "duration": 163,
    "start_time": "2022-07-04T08:35:06.208Z"
   },
   {
    "duration": 116,
    "start_time": "2022-07-04T08:35:06.373Z"
   },
   {
    "duration": 1462,
    "start_time": "2022-07-04T08:35:06.496Z"
   },
   {
    "duration": 71345,
    "start_time": "2022-07-04T08:35:07.985Z"
   },
   {
    "duration": 80527,
    "start_time": "2022-07-04T08:36:19.336Z"
   },
   {
    "duration": 5,
    "start_time": "2022-07-04T08:37:39.869Z"
   },
   {
    "duration": 33315,
    "start_time": "2022-07-04T08:37:39.879Z"
   },
   {
    "duration": 268,
    "start_time": "2022-07-04T08:38:13.196Z"
   },
   {
    "duration": 9,
    "start_time": "2022-07-04T08:38:13.468Z"
   },
   {
    "duration": 40,
    "start_time": "2022-07-04T08:38:13.479Z"
   },
   {
    "duration": 7,
    "start_time": "2022-07-04T08:38:13.522Z"
   },
   {
    "duration": 352747,
    "start_time": "2022-07-04T08:38:13.530Z"
   },
   {
    "duration": 696,
    "start_time": "2022-07-04T08:44:06.281Z"
   },
   {
    "duration": 7,
    "start_time": "2022-07-04T08:44:06.980Z"
   },
   {
    "duration": 65942,
    "start_time": "2022-07-04T08:44:06.994Z"
   },
   {
    "duration": 3,
    "start_time": "2022-07-04T08:45:12.938Z"
   },
   {
    "duration": 1056,
    "start_time": "2022-07-04T08:45:12.943Z"
   },
   {
    "duration": 21,
    "start_time": "2022-07-04T08:45:14.001Z"
   },
   {
    "duration": 6,
    "start_time": "2022-07-04T08:45:14.023Z"
   },
   {
    "duration": 36,
    "start_time": "2022-07-04T08:45:14.030Z"
   },
   {
    "duration": 3,
    "start_time": "2022-07-04T08:47:03.115Z"
   },
   {
    "duration": 4,
    "start_time": "2022-07-04T08:47:06.488Z"
   },
   {
    "duration": 382286,
    "start_time": "2022-07-04T08:47:09.090Z"
   },
   {
    "duration": 726,
    "start_time": "2022-07-04T08:57:32.144Z"
   },
   {
    "duration": 7,
    "start_time": "2022-07-04T08:57:34.896Z"
   },
   {
    "duration": 17,
    "start_time": "2022-07-04T08:59:15.137Z"
   },
   {
    "duration": 1202,
    "start_time": "2022-07-04T09:02:19.761Z"
   },
   {
    "duration": 82,
    "start_time": "2022-07-04T09:12:13.629Z"
   },
   {
    "duration": 3,
    "start_time": "2022-07-04T09:12:19.321Z"
   },
   {
    "duration": 2,
    "start_time": "2022-07-04T09:12:20.891Z"
   },
   {
    "duration": 1615,
    "start_time": "2022-07-04T09:42:00.393Z"
   },
   {
    "duration": 959,
    "start_time": "2022-07-04T09:42:02.010Z"
   },
   {
    "duration": 155,
    "start_time": "2022-07-04T09:42:02.972Z"
   },
   {
    "duration": 3,
    "start_time": "2022-07-04T09:42:03.128Z"
   },
   {
    "duration": 586,
    "start_time": "2022-07-04T09:42:03.133Z"
   },
   {
    "duration": 683,
    "start_time": "2022-07-04T09:42:03.720Z"
   },
   {
    "duration": 137,
    "start_time": "2022-07-04T09:42:04.406Z"
   },
   {
    "duration": 192,
    "start_time": "2022-07-04T09:42:04.545Z"
   },
   {
    "duration": 331,
    "start_time": "2022-07-04T09:42:04.739Z"
   },
   {
    "duration": 116,
    "start_time": "2022-07-04T09:42:05.073Z"
   },
   {
    "duration": 443,
    "start_time": "2022-07-04T09:42:05.190Z"
   },
   {
    "duration": 102,
    "start_time": "2022-07-04T09:42:05.634Z"
   },
   {
    "duration": 440,
    "start_time": "2022-07-04T09:42:05.738Z"
   },
   {
    "duration": 12,
    "start_time": "2022-07-04T09:42:06.181Z"
   },
   {
    "duration": 124,
    "start_time": "2022-07-04T09:42:06.196Z"
   },
   {
    "duration": 20,
    "start_time": "2022-07-04T09:42:06.322Z"
   },
   {
    "duration": 25,
    "start_time": "2022-07-04T09:42:06.354Z"
   },
   {
    "duration": 551,
    "start_time": "2022-07-04T09:42:06.381Z"
   },
   {
    "duration": 1812,
    "start_time": "2022-07-04T09:42:06.933Z"
   },
   {
    "duration": 57,
    "start_time": "2022-07-04T09:42:08.752Z"
   },
   {
    "duration": 92,
    "start_time": "2022-07-04T09:42:08.811Z"
   },
   {
    "duration": 4,
    "start_time": "2022-07-04T09:42:08.904Z"
   },
   {
    "duration": 10,
    "start_time": "2022-07-04T09:42:08.910Z"
   },
   {
    "duration": 133,
    "start_time": "2022-07-04T09:42:08.922Z"
   },
   {
    "duration": 100,
    "start_time": "2022-07-04T09:42:09.061Z"
   },
   {
    "duration": 85,
    "start_time": "2022-07-04T09:42:09.168Z"
   },
   {
    "duration": 92,
    "start_time": "2022-07-04T09:42:09.255Z"
   },
   {
    "duration": 86,
    "start_time": "2022-07-04T09:42:09.349Z"
   },
   {
    "duration": 1236,
    "start_time": "2022-07-04T09:42:09.437Z"
   },
   {
    "duration": 64133,
    "start_time": "2022-07-04T09:42:10.675Z"
   },
   {
    "duration": 68329,
    "start_time": "2022-07-04T09:43:14.811Z"
   },
   {
    "duration": 4,
    "start_time": "2022-07-04T09:44:23.142Z"
   },
   {
    "duration": 28496,
    "start_time": "2022-07-04T09:44:23.154Z"
   },
   {
    "duration": 224,
    "start_time": "2022-07-04T09:44:51.654Z"
   },
   {
    "duration": 10,
    "start_time": "2022-07-04T09:44:51.880Z"
   },
   {
    "duration": 8,
    "start_time": "2022-07-04T09:44:51.892Z"
   },
   {
    "duration": 10,
    "start_time": "2022-07-04T09:44:51.901Z"
   },
   {
    "duration": 295249,
    "start_time": "2022-07-04T09:44:51.913Z"
   },
   {
    "duration": 689,
    "start_time": "2022-07-04T09:49:47.166Z"
   },
   {
    "duration": 10,
    "start_time": "2022-07-04T09:49:47.857Z"
   },
   {
    "duration": 62020,
    "start_time": "2022-07-04T09:49:47.871Z"
   },
   {
    "duration": 4,
    "start_time": "2022-07-04T09:50:49.893Z"
   },
   {
    "duration": 952,
    "start_time": "2022-07-04T09:50:49.899Z"
   },
   {
    "duration": 22,
    "start_time": "2022-07-04T09:50:50.855Z"
   },
   {
    "duration": 15,
    "start_time": "2022-07-04T09:50:50.879Z"
   },
   {
    "duration": 18,
    "start_time": "2022-07-04T09:50:50.896Z"
   },
   {
    "duration": 2112,
    "start_time": "2022-07-04T17:40:28.520Z"
   },
   {
    "duration": 2528,
    "start_time": "2022-07-04T17:40:34.827Z"
   },
   {
    "duration": 2,
    "start_time": "2022-07-04T17:57:02.875Z"
   },
   {
    "duration": 120,
    "start_time": "2022-07-04T17:57:11.372Z"
   },
   {
    "duration": 6,
    "start_time": "2022-07-04T17:57:17.061Z"
   },
   {
    "duration": 353,
    "start_time": "2022-07-04T17:57:20.412Z"
   },
   {
    "duration": 393,
    "start_time": "2022-07-04T17:57:21.164Z"
   },
   {
    "duration": 90,
    "start_time": "2022-07-04T17:57:22.325Z"
   },
   {
    "duration": 128,
    "start_time": "2022-07-04T17:57:25.465Z"
   },
   {
    "duration": 209,
    "start_time": "2022-07-04T17:57:26.310Z"
   },
   {
    "duration": 89,
    "start_time": "2022-07-04T17:57:28.088Z"
   },
   {
    "duration": 270,
    "start_time": "2022-07-04T17:57:32.314Z"
   },
   {
    "duration": 82,
    "start_time": "2022-07-04T17:57:36.931Z"
   },
   {
    "duration": 297,
    "start_time": "2022-07-04T17:57:38.066Z"
   },
   {
    "duration": 99,
    "start_time": "2022-07-04T17:59:08.014Z"
   },
   {
    "duration": 351,
    "start_time": "2022-07-04T17:59:15.667Z"
   },
   {
    "duration": 10,
    "start_time": "2022-07-04T18:00:55.417Z"
   },
   {
    "duration": 253,
    "start_time": "2022-07-04T18:01:01.008Z"
   },
   {
    "duration": 239,
    "start_time": "2022-07-04T18:03:12.949Z"
   },
   {
    "duration": 112,
    "start_time": "2022-07-04T18:26:13.883Z"
   },
   {
    "duration": 51,
    "start_time": "2022-07-05T08:01:19.728Z"
   },
   {
    "duration": 1642,
    "start_time": "2022-07-05T08:16:42.781Z"
   },
   {
    "duration": 1293,
    "start_time": "2022-07-05T08:16:44.425Z"
   },
   {
    "duration": 167,
    "start_time": "2022-07-05T08:16:45.720Z"
   },
   {
    "duration": 4,
    "start_time": "2022-07-05T08:16:45.890Z"
   },
   {
    "duration": 533,
    "start_time": "2022-07-05T08:16:45.896Z"
   },
   {
    "duration": 578,
    "start_time": "2022-07-05T08:16:46.431Z"
   },
   {
    "duration": 145,
    "start_time": "2022-07-05T08:16:47.010Z"
   },
   {
    "duration": 157,
    "start_time": "2022-07-05T08:16:47.156Z"
   },
   {
    "duration": 318,
    "start_time": "2022-07-05T08:16:47.315Z"
   },
   {
    "duration": 126,
    "start_time": "2022-07-05T08:16:47.637Z"
   },
   {
    "duration": 357,
    "start_time": "2022-07-05T08:16:47.767Z"
   },
   {
    "duration": 100,
    "start_time": "2022-07-05T08:16:48.126Z"
   },
   {
    "duration": 472,
    "start_time": "2022-07-05T08:16:48.228Z"
   },
   {
    "duration": 0,
    "start_time": "2022-07-05T08:16:48.702Z"
   },
   {
    "duration": 0,
    "start_time": "2022-07-05T08:16:48.703Z"
   },
   {
    "duration": 1,
    "start_time": "2022-07-05T08:16:48.704Z"
   },
   {
    "duration": 0,
    "start_time": "2022-07-05T08:16:48.706Z"
   },
   {
    "duration": 0,
    "start_time": "2022-07-05T08:16:48.707Z"
   },
   {
    "duration": 0,
    "start_time": "2022-07-05T08:16:48.708Z"
   },
   {
    "duration": 0,
    "start_time": "2022-07-05T08:16:48.709Z"
   },
   {
    "duration": 0,
    "start_time": "2022-07-05T08:16:48.711Z"
   },
   {
    "duration": 0,
    "start_time": "2022-07-05T08:16:48.712Z"
   },
   {
    "duration": 0,
    "start_time": "2022-07-05T08:16:48.713Z"
   },
   {
    "duration": 0,
    "start_time": "2022-07-05T08:16:48.714Z"
   },
   {
    "duration": 0,
    "start_time": "2022-07-05T08:16:48.715Z"
   },
   {
    "duration": 0,
    "start_time": "2022-07-05T08:16:48.716Z"
   },
   {
    "duration": 0,
    "start_time": "2022-07-05T08:16:48.717Z"
   },
   {
    "duration": 0,
    "start_time": "2022-07-05T08:16:48.718Z"
   },
   {
    "duration": 0,
    "start_time": "2022-07-05T08:16:48.751Z"
   },
   {
    "duration": 0,
    "start_time": "2022-07-05T08:16:48.752Z"
   },
   {
    "duration": 0,
    "start_time": "2022-07-05T08:16:48.753Z"
   },
   {
    "duration": 0,
    "start_time": "2022-07-05T08:16:48.754Z"
   },
   {
    "duration": 0,
    "start_time": "2022-07-05T08:16:48.754Z"
   },
   {
    "duration": 0,
    "start_time": "2022-07-05T08:16:48.755Z"
   },
   {
    "duration": 0,
    "start_time": "2022-07-05T08:16:48.756Z"
   },
   {
    "duration": 0,
    "start_time": "2022-07-05T08:16:48.763Z"
   },
   {
    "duration": 0,
    "start_time": "2022-07-05T08:16:48.764Z"
   },
   {
    "duration": 0,
    "start_time": "2022-07-05T08:16:48.766Z"
   },
   {
    "duration": 0,
    "start_time": "2022-07-05T08:16:48.767Z"
   },
   {
    "duration": 0,
    "start_time": "2022-07-05T08:16:48.768Z"
   },
   {
    "duration": 0,
    "start_time": "2022-07-05T08:16:48.769Z"
   },
   {
    "duration": 0,
    "start_time": "2022-07-05T08:16:48.770Z"
   },
   {
    "duration": 0,
    "start_time": "2022-07-05T08:16:48.771Z"
   },
   {
    "duration": 0,
    "start_time": "2022-07-05T08:16:48.773Z"
   },
   {
    "duration": 0,
    "start_time": "2022-07-05T08:16:48.774Z"
   },
   {
    "duration": 0,
    "start_time": "2022-07-05T08:16:48.775Z"
   },
   {
    "duration": 281,
    "start_time": "2022-07-05T08:20:41.782Z"
   },
   {
    "duration": 283,
    "start_time": "2022-07-05T08:21:05.876Z"
   },
   {
    "duration": 313,
    "start_time": "2022-07-05T08:23:35.288Z"
   },
   {
    "duration": 323,
    "start_time": "2022-07-05T08:24:44.217Z"
   },
   {
    "duration": 323,
    "start_time": "2022-07-05T08:27:30.192Z"
   },
   {
    "duration": 454,
    "start_time": "2022-07-05T08:28:02.231Z"
   },
   {
    "duration": 293,
    "start_time": "2022-07-05T08:29:10.687Z"
   },
   {
    "duration": 303,
    "start_time": "2022-07-05T08:29:33.461Z"
   },
   {
    "duration": 308,
    "start_time": "2022-07-05T08:29:52.031Z"
   },
   {
    "duration": 292,
    "start_time": "2022-07-05T08:29:57.996Z"
   },
   {
    "duration": 411,
    "start_time": "2022-07-05T08:30:34.104Z"
   },
   {
    "duration": 1532,
    "start_time": "2022-07-05T08:33:03.141Z"
   },
   {
    "duration": 905,
    "start_time": "2022-07-05T08:33:04.676Z"
   },
   {
    "duration": 180,
    "start_time": "2022-07-05T08:33:05.583Z"
   },
   {
    "duration": 4,
    "start_time": "2022-07-05T08:33:05.765Z"
   },
   {
    "duration": 552,
    "start_time": "2022-07-05T08:33:05.772Z"
   },
   {
    "duration": 607,
    "start_time": "2022-07-05T08:33:06.327Z"
   },
   {
    "duration": 152,
    "start_time": "2022-07-05T08:33:06.935Z"
   },
   {
    "duration": 198,
    "start_time": "2022-07-05T08:33:07.089Z"
   },
   {
    "duration": 310,
    "start_time": "2022-07-05T08:33:07.288Z"
   },
   {
    "duration": 114,
    "start_time": "2022-07-05T08:33:07.600Z"
   },
   {
    "duration": 364,
    "start_time": "2022-07-05T08:33:07.715Z"
   },
   {
    "duration": 95,
    "start_time": "2022-07-05T08:33:08.081Z"
   },
   {
    "duration": 425,
    "start_time": "2022-07-05T08:33:08.177Z"
   },
   {
    "duration": 9,
    "start_time": "2022-07-05T08:33:08.606Z"
   },
   {
    "duration": 126,
    "start_time": "2022-07-05T08:33:08.617Z"
   },
   {
    "duration": 32,
    "start_time": "2022-07-05T08:33:08.744Z"
   },
   {
    "duration": 51,
    "start_time": "2022-07-05T08:33:08.779Z"
   },
   {
    "duration": 586,
    "start_time": "2022-07-05T08:33:08.833Z"
   },
   {
    "duration": 1500,
    "start_time": "2022-07-05T08:33:09.421Z"
   },
   {
    "duration": 60,
    "start_time": "2022-07-05T08:33:10.923Z"
   },
   {
    "duration": 62,
    "start_time": "2022-07-05T08:33:10.985Z"
   },
   {
    "duration": 9,
    "start_time": "2022-07-05T08:33:11.049Z"
   },
   {
    "duration": 8,
    "start_time": "2022-07-05T08:33:11.060Z"
   },
   {
    "duration": 108,
    "start_time": "2022-07-05T08:33:11.069Z"
   },
   {
    "duration": 97,
    "start_time": "2022-07-05T08:33:11.253Z"
   },
   {
    "duration": 107,
    "start_time": "2022-07-05T08:33:11.353Z"
   },
   {
    "duration": 71,
    "start_time": "2022-07-05T08:33:11.462Z"
   },
   {
    "duration": 70,
    "start_time": "2022-07-05T08:33:11.535Z"
   },
   {
    "duration": 1258,
    "start_time": "2022-07-05T08:33:11.607Z"
   },
   {
    "duration": 53071,
    "start_time": "2022-07-05T08:33:12.948Z"
   },
   {
    "duration": 60206,
    "start_time": "2022-07-05T08:34:06.021Z"
   },
   {
    "duration": 3,
    "start_time": "2022-07-05T08:35:06.229Z"
   },
   {
    "duration": 24643,
    "start_time": "2022-07-05T08:35:06.234Z"
   },
   {
    "duration": 200,
    "start_time": "2022-07-05T08:35:30.878Z"
   },
   {
    "duration": 6,
    "start_time": "2022-07-05T08:35:31.080Z"
   },
   {
    "duration": 18,
    "start_time": "2022-07-05T08:35:31.088Z"
   },
   {
    "duration": 35,
    "start_time": "2022-07-05T08:35:31.108Z"
   },
   {
    "duration": 57421,
    "start_time": "2022-07-05T08:35:31.145Z"
   },
   {
    "duration": 681,
    "start_time": "2022-07-05T08:36:28.570Z"
   },
   {
    "duration": 8,
    "start_time": "2022-07-05T08:36:29.253Z"
   },
   {
    "duration": 55931,
    "start_time": "2022-07-05T08:36:29.268Z"
   },
   {
    "duration": 3,
    "start_time": "2022-07-05T08:37:25.201Z"
   },
   {
    "duration": 853,
    "start_time": "2022-07-05T08:37:25.206Z"
   },
   {
    "duration": 18,
    "start_time": "2022-07-05T08:37:26.060Z"
   },
   {
    "duration": 5,
    "start_time": "2022-07-05T08:37:26.080Z"
   },
   {
    "duration": 11,
    "start_time": "2022-07-05T08:37:26.086Z"
   },
   {
    "duration": 302,
    "start_time": "2022-07-05T08:44:28.253Z"
   },
   {
    "duration": 29,
    "start_time": "2022-07-05T08:59:46.830Z"
   },
   {
    "duration": 1515,
    "start_time": "2022-07-05T09:00:05.650Z"
   },
   {
    "duration": 177,
    "start_time": "2022-07-05T09:00:32.651Z"
   },
   {
    "duration": 343,
    "start_time": "2022-07-05T09:01:26.702Z"
   },
   {
    "duration": 370,
    "start_time": "2022-07-05T09:02:12.732Z"
   },
   {
    "duration": 454,
    "start_time": "2022-07-05T09:02:56.920Z"
   },
   {
    "duration": 293,
    "start_time": "2022-07-05T09:04:08.364Z"
   },
   {
    "duration": 66,
    "start_time": "2022-07-05T09:05:41.519Z"
   },
   {
    "duration": 9,
    "start_time": "2022-07-05T09:50:04.538Z"
   },
   {
    "duration": 1439,
    "start_time": "2022-07-05T09:50:12.663Z"
   },
   {
    "duration": 849,
    "start_time": "2022-07-05T09:50:14.104Z"
   },
   {
    "duration": 169,
    "start_time": "2022-07-05T09:50:14.957Z"
   },
   {
    "duration": 3,
    "start_time": "2022-07-05T09:50:15.129Z"
   },
   {
    "duration": 553,
    "start_time": "2022-07-05T09:50:15.146Z"
   },
   {
    "duration": 579,
    "start_time": "2022-07-05T09:50:15.700Z"
   },
   {
    "duration": 128,
    "start_time": "2022-07-05T09:50:16.280Z"
   },
   {
    "duration": 172,
    "start_time": "2022-07-05T09:50:16.410Z"
   },
   {
    "duration": 273,
    "start_time": "2022-07-05T09:50:16.584Z"
   },
   {
    "duration": 110,
    "start_time": "2022-07-05T09:50:16.859Z"
   },
   {
    "duration": 341,
    "start_time": "2022-07-05T09:50:16.971Z"
   },
   {
    "duration": 92,
    "start_time": "2022-07-05T09:50:17.314Z"
   },
   {
    "duration": 413,
    "start_time": "2022-07-05T09:50:17.409Z"
   },
   {
    "duration": 11,
    "start_time": "2022-07-05T09:50:17.823Z"
   },
   {
    "duration": 116,
    "start_time": "2022-07-05T09:50:17.835Z"
   },
   {
    "duration": 21,
    "start_time": "2022-07-05T09:50:17.953Z"
   },
   {
    "duration": 24,
    "start_time": "2022-07-05T09:50:17.976Z"
   },
   {
    "duration": 17,
    "start_time": "2022-07-05T09:50:18.002Z"
   },
   {
    "duration": 520,
    "start_time": "2022-07-05T09:50:18.021Z"
   },
   {
    "duration": 1464,
    "start_time": "2022-07-05T09:50:18.543Z"
   },
   {
    "duration": 364,
    "start_time": "2022-07-05T09:50:20.009Z"
   },
   {
    "duration": 14,
    "start_time": "2022-07-05T09:50:20.375Z"
   },
   {
    "duration": 66,
    "start_time": "2022-07-05T09:50:20.391Z"
   },
   {
    "duration": 3,
    "start_time": "2022-07-05T09:50:20.459Z"
   },
   {
    "duration": 10,
    "start_time": "2022-07-05T09:50:20.464Z"
   },
   {
    "duration": 90,
    "start_time": "2022-07-05T09:50:20.475Z"
   },
   {
    "duration": 83,
    "start_time": "2022-07-05T09:50:20.567Z"
   },
   {
    "duration": 97,
    "start_time": "2022-07-05T09:50:20.653Z"
   },
   {
    "duration": 53,
    "start_time": "2022-07-05T09:50:20.752Z"
   },
   {
    "duration": 72,
    "start_time": "2022-07-05T09:50:20.807Z"
   },
   {
    "duration": 1065,
    "start_time": "2022-07-05T09:50:20.881Z"
   },
   {
    "duration": 49187,
    "start_time": "2022-07-05T09:50:21.948Z"
   },
   {
    "duration": 58538,
    "start_time": "2022-07-05T09:51:11.136Z"
   },
   {
    "duration": 4,
    "start_time": "2022-07-05T09:52:09.675Z"
   },
   {
    "duration": 23947,
    "start_time": "2022-07-05T09:52:09.680Z"
   },
   {
    "duration": 170,
    "start_time": "2022-07-05T09:52:33.629Z"
   },
   {
    "duration": 5,
    "start_time": "2022-07-05T09:52:33.801Z"
   },
   {
    "duration": 8,
    "start_time": "2022-07-05T09:52:33.808Z"
   },
   {
    "duration": 6,
    "start_time": "2022-07-05T09:52:33.818Z"
   },
   {
    "duration": 6826,
    "start_time": "2022-07-05T09:52:33.828Z"
   },
   {
    "duration": 602,
    "start_time": "2022-07-05T09:52:40.656Z"
   },
   {
    "duration": 6,
    "start_time": "2022-07-05T09:52:41.259Z"
   },
   {
    "duration": 50590,
    "start_time": "2022-07-05T09:52:41.266Z"
   },
   {
    "duration": 3,
    "start_time": "2022-07-05T09:53:31.858Z"
   },
   {
    "duration": 836,
    "start_time": "2022-07-05T09:53:31.863Z"
   },
   {
    "duration": 18,
    "start_time": "2022-07-05T09:53:32.701Z"
   },
   {
    "duration": 5,
    "start_time": "2022-07-05T09:53:32.720Z"
   },
   {
    "duration": 29,
    "start_time": "2022-07-05T09:53:32.727Z"
   },
   {
    "duration": 4,
    "start_time": "2022-07-05T09:53:37.374Z"
   },
   {
    "duration": 4,
    "start_time": "2022-07-05T09:53:55.706Z"
   },
   {
    "duration": 4,
    "start_time": "2022-07-05T09:54:24.532Z"
   },
   {
    "duration": 10,
    "start_time": "2022-07-05T10:01:28.465Z"
   },
   {
    "duration": 67,
    "start_time": "2022-07-05T10:06:10.524Z"
   },
   {
    "duration": 60,
    "start_time": "2022-07-05T10:06:17.794Z"
   },
   {
    "duration": 5,
    "start_time": "2022-07-05T10:13:53.727Z"
   },
   {
    "duration": 1380,
    "start_time": "2022-07-05T10:14:01.668Z"
   },
   {
    "duration": 54,
    "start_time": "2022-07-05T10:15:15.605Z"
   },
   {
    "duration": 1102,
    "start_time": "2022-07-05T10:15:40.044Z"
   },
   {
    "duration": 1280,
    "start_time": "2022-07-05T10:16:02.476Z"
   }
  ],
  "kernelspec": {
   "display_name": "Python 3 (ipykernel)",
   "language": "python",
   "name": "python3"
  },
  "language_info": {
   "codemirror_mode": {
    "name": "ipython",
    "version": 3
   },
   "file_extension": ".py",
   "mimetype": "text/x-python",
   "name": "python",
   "nbconvert_exporter": "python",
   "pygments_lexer": "ipython3",
   "version": "3.9.5"
  },
  "toc": {
   "base_numbering": 1,
   "nav_menu": {},
   "number_sections": true,
   "sideBar": true,
   "skip_h1_title": true,
   "title_cell": "Table of Contents",
   "title_sidebar": "Contents",
   "toc_cell": false,
   "toc_position": {},
   "toc_section_display": true,
   "toc_window_display": false
  }
 },
 "nbformat": 4,
 "nbformat_minor": 2
}
