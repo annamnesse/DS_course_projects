{
  "cells": [
    {
      "cell_type": "markdown",
      "metadata": {
        "toc": true,
        "id": "BLqLo0Whpt55"
      },
      "source": [
        "<h1>Содержание<span class=\"tocSkip\"></span></h1>\n",
        "<div class=\"toc\"><ul class=\"toc-item\"><li><span><a href=\"#Подготовка-данных\" data-toc-modified-id=\"Подготовка-данных-1\"><span class=\"toc-item-num\">1&nbsp;&nbsp;</span>Подготовка данных</a></span><ul class=\"toc-item\"><li><span><a href=\"#Пропущенные-значения\" data-toc-modified-id=\"Пропущенные-значения-1.1\"><span class=\"toc-item-num\">1.1&nbsp;&nbsp;</span>Пропущенные значения</a></span></li><li><span><a href=\"#Дубликаты\" data-toc-modified-id=\"Дубликаты-1.2\"><span class=\"toc-item-num\">1.2&nbsp;&nbsp;</span>Дубликаты</a></span></li><li><span><a href=\"#Типы-данных\" data-toc-modified-id=\"Типы-данных-1.3\"><span class=\"toc-item-num\">1.3&nbsp;&nbsp;</span>Типы данных</a></span></li><li><span><a href=\"#Подготовка-признаков\" data-toc-modified-id=\"Подготовка-признаков-1.4\"><span class=\"toc-item-num\">1.4&nbsp;&nbsp;</span>Подготовка признаков</a></span><ul class=\"toc-item\"><li><span><a href=\"#One-hot-encoding:-получение-дамми-признаков\" data-toc-modified-id=\"One-hot-encoding:-получение-дамми-признаков-1.4.1\"><span class=\"toc-item-num\">1.4.1&nbsp;&nbsp;</span>One-hot-encoding: получение дамми-признаков</a></span></li><li><span><a href=\"#Стандартизация\" data-toc-modified-id=\"Стандартизация-1.4.2\"><span class=\"toc-item-num\">1.4.2&nbsp;&nbsp;</span>Стандартизация</a></span></li></ul></li></ul></li><li><span><a href=\"#Исследование-задачи\" data-toc-modified-id=\"Исследование-задачи-2\"><span class=\"toc-item-num\">2&nbsp;&nbsp;</span>Исследование задачи</a></span></li><li><span><a href=\"#Борьба-с-дисбалансом\" data-toc-modified-id=\"Борьба-с-дисбалансом-3\"><span class=\"toc-item-num\">3&nbsp;&nbsp;</span>Борьба с дисбалансом</a></span><ul class=\"toc-item\"><li><span><a href=\"#Взвешивание-классов\" data-toc-modified-id=\"Взвешивание-классов-3.1\"><span class=\"toc-item-num\">3.1&nbsp;&nbsp;</span>Взвешивание классов</a></span></li><li><span><a href=\"#Уменьшение-выборки\" data-toc-modified-id=\"Уменьшение-выборки-3.2\"><span class=\"toc-item-num\">3.2&nbsp;&nbsp;</span>Уменьшение выборки</a></span></li><li><span><a href=\"#Изменение-порога\" data-toc-modified-id=\"Изменение-порога-3.3\"><span class=\"toc-item-num\">3.3&nbsp;&nbsp;</span>Изменение порога</a></span></li></ul></li><li><span><a href=\"#Тестирование-модели\" data-toc-modified-id=\"Тестирование-модели-4\"><span class=\"toc-item-num\">4&nbsp;&nbsp;</span>Тестирование модели</a></span></li><li><span><a href=\"#Общий-вывод\" data-toc-modified-id=\"Общий-вывод-5\"><span class=\"toc-item-num\">5&nbsp;&nbsp;</span>Общий вывод</a></span></li><li><span><a href=\"#Чек-лист-готовности-проекта\" data-toc-modified-id=\"Чек-лист-готовности-проекта-6\"><span class=\"toc-item-num\">6&nbsp;&nbsp;</span>Чек-лист готовности проекта</a></span></li></ul></div>"
      ]
    },
    {
      "cell_type": "markdown",
      "metadata": {
        "id": "Ej0_sLoApt59"
      },
      "source": [
        "# Отток клиентов"
      ]
    },
    {
      "cell_type": "markdown",
      "metadata": {
        "id": "sV3MqMxppt5-"
      },
      "source": [
        "Из «Бета-Банка» стали уходить клиенты. Каждый месяц. Немного, но заметно. Банковские маркетологи посчитали: сохранять текущих клиентов дешевле, чем привлекать новых.\n",
        "\n",
        "Нужно спрогнозировать, уйдёт клиент из банка в ближайшее время или нет. Вам предоставлены исторические данные о поведении клиентов и расторжении договоров с банком. \n",
        "\n",
        "Постройте модель с предельно большим значением *F1*-меры. Чтобы сдать проект успешно, нужно довести метрику до 0.59. Проверьте *F1*-меру на тестовой выборке самостоятельно.\n",
        "\n",
        "Дополнительно измеряйте *AUC-ROC*, сравнивайте её значение с *F1*-мерой.\n",
        "\n",
        "Источник данных: [https://www.kaggle.com/barelydedicated/bank-customer-churn-modeling](https://www.kaggle.com/barelydedicated/bank-customer-churn-modeling)"
      ]
    },
    {
      "cell_type": "markdown",
      "metadata": {
        "id": "adcrNrd-pt6A"
      },
      "source": [
        "## Подготовка данных"
      ]
    },
    {
      "cell_type": "code",
      "execution_count": null,
      "metadata": {
        "id": "E2RXiiMJpt6B"
      },
      "outputs": [],
      "source": [
        "# Импорт библиотек\n",
        "import pandas as pd\n",
        "import numpy as np\n",
        "import seaborn as sns\n",
        "import math\n",
        "import sklearn\n",
        "import matplotlib.pyplot as plt\n",
        "\n",
        "import warnings\n",
        "warnings.filterwarnings('ignore')\n",
        "\n",
        "from sklearn.metrics import f1_score, mean_absolute_error, accuracy_score, roc_auc_score, roc_curve\n",
        "from sklearn.preprocessing import StandardScaler, OrdinalEncoder\n",
        "from sklearn.utils import shuffle\n",
        "from sklearn.model_selection import train_test_split\n",
        "from sklearn.linear_model import LogisticRegression\n",
        "from sklearn.ensemble import RandomForestClassifier"
      ]
    },
    {
      "cell_type": "code",
      "execution_count": null,
      "metadata": {
        "id": "vHwjNhkVpt6D"
      },
      "outputs": [],
      "source": [
        "data = pd.read_csv('/datasets/Churn.csv')"
      ]
    },
    {
      "cell_type": "markdown",
      "metadata": {
        "id": "dfV2WWTKpt6E"
      },
      "source": [
        "<b>Признаки</b>:\n",
        "\n",
        "* RowNumber — индекс строки в данных\n",
        "* CustomerId — уникальный идентификатор клиента\n",
        "* Surname — фамилия\n",
        "* CreditScore — кредитный рейтинг\n",
        "* Geography — страна проживания\n",
        "* Gender — пол\n",
        "* Age — возраст\n",
        "* Tenure — сколько лет человек является клиентом банка\n",
        "* Balance — баланс на счёте\n",
        "* NumOfProducts — количество продуктов банка, используемых клиентом\n",
        "* HasCrCard — наличие кредитной карты\n",
        "* IsActiveMember — активность клиента\n",
        "* EstimatedSalary — предполагаемая зарплата\n",
        "\n",
        "<b>Целевой признак</b>\n",
        "\n",
        "* Exited — факт ухода клиента"
      ]
    },
    {
      "cell_type": "code",
      "execution_count": null,
      "metadata": {
        "id": "n2p2oA8Cpt6F",
        "outputId": "d0f2c206-5282-4922-91d3-1a0869fe035a"
      },
      "outputs": [
        {
          "data": {
            "text/html": [
              "<div>\n",
              "<style scoped>\n",
              "    .dataframe tbody tr th:only-of-type {\n",
              "        vertical-align: middle;\n",
              "    }\n",
              "\n",
              "    .dataframe tbody tr th {\n",
              "        vertical-align: top;\n",
              "    }\n",
              "\n",
              "    .dataframe thead th {\n",
              "        text-align: right;\n",
              "    }\n",
              "</style>\n",
              "<table border=\"1\" class=\"dataframe\">\n",
              "  <thead>\n",
              "    <tr style=\"text-align: right;\">\n",
              "      <th></th>\n",
              "      <th>RowNumber</th>\n",
              "      <th>CustomerId</th>\n",
              "      <th>Surname</th>\n",
              "      <th>CreditScore</th>\n",
              "      <th>Geography</th>\n",
              "      <th>Gender</th>\n",
              "      <th>Age</th>\n",
              "      <th>Tenure</th>\n",
              "      <th>Balance</th>\n",
              "      <th>NumOfProducts</th>\n",
              "      <th>HasCrCard</th>\n",
              "      <th>IsActiveMember</th>\n",
              "      <th>EstimatedSalary</th>\n",
              "      <th>Exited</th>\n",
              "    </tr>\n",
              "  </thead>\n",
              "  <tbody>\n",
              "    <tr>\n",
              "      <th>0</th>\n",
              "      <td>1</td>\n",
              "      <td>15634602</td>\n",
              "      <td>Hargrave</td>\n",
              "      <td>619</td>\n",
              "      <td>France</td>\n",
              "      <td>Female</td>\n",
              "      <td>42</td>\n",
              "      <td>2.0</td>\n",
              "      <td>0.00</td>\n",
              "      <td>1</td>\n",
              "      <td>1</td>\n",
              "      <td>1</td>\n",
              "      <td>101348.88</td>\n",
              "      <td>1</td>\n",
              "    </tr>\n",
              "    <tr>\n",
              "      <th>1</th>\n",
              "      <td>2</td>\n",
              "      <td>15647311</td>\n",
              "      <td>Hill</td>\n",
              "      <td>608</td>\n",
              "      <td>Spain</td>\n",
              "      <td>Female</td>\n",
              "      <td>41</td>\n",
              "      <td>1.0</td>\n",
              "      <td>83807.86</td>\n",
              "      <td>1</td>\n",
              "      <td>0</td>\n",
              "      <td>1</td>\n",
              "      <td>112542.58</td>\n",
              "      <td>0</td>\n",
              "    </tr>\n",
              "    <tr>\n",
              "      <th>2</th>\n",
              "      <td>3</td>\n",
              "      <td>15619304</td>\n",
              "      <td>Onio</td>\n",
              "      <td>502</td>\n",
              "      <td>France</td>\n",
              "      <td>Female</td>\n",
              "      <td>42</td>\n",
              "      <td>8.0</td>\n",
              "      <td>159660.80</td>\n",
              "      <td>3</td>\n",
              "      <td>1</td>\n",
              "      <td>0</td>\n",
              "      <td>113931.57</td>\n",
              "      <td>1</td>\n",
              "    </tr>\n",
              "    <tr>\n",
              "      <th>3</th>\n",
              "      <td>4</td>\n",
              "      <td>15701354</td>\n",
              "      <td>Boni</td>\n",
              "      <td>699</td>\n",
              "      <td>France</td>\n",
              "      <td>Female</td>\n",
              "      <td>39</td>\n",
              "      <td>1.0</td>\n",
              "      <td>0.00</td>\n",
              "      <td>2</td>\n",
              "      <td>0</td>\n",
              "      <td>0</td>\n",
              "      <td>93826.63</td>\n",
              "      <td>0</td>\n",
              "    </tr>\n",
              "    <tr>\n",
              "      <th>4</th>\n",
              "      <td>5</td>\n",
              "      <td>15737888</td>\n",
              "      <td>Mitchell</td>\n",
              "      <td>850</td>\n",
              "      <td>Spain</td>\n",
              "      <td>Female</td>\n",
              "      <td>43</td>\n",
              "      <td>2.0</td>\n",
              "      <td>125510.82</td>\n",
              "      <td>1</td>\n",
              "      <td>1</td>\n",
              "      <td>1</td>\n",
              "      <td>79084.10</td>\n",
              "      <td>0</td>\n",
              "    </tr>\n",
              "  </tbody>\n",
              "</table>\n",
              "</div>"
            ],
            "text/plain": [
              "   RowNumber  CustomerId   Surname  CreditScore Geography  Gender  Age  \\\n",
              "0          1    15634602  Hargrave          619    France  Female   42   \n",
              "1          2    15647311      Hill          608     Spain  Female   41   \n",
              "2          3    15619304      Onio          502    France  Female   42   \n",
              "3          4    15701354      Boni          699    France  Female   39   \n",
              "4          5    15737888  Mitchell          850     Spain  Female   43   \n",
              "\n",
              "   Tenure    Balance  NumOfProducts  HasCrCard  IsActiveMember  \\\n",
              "0     2.0       0.00              1          1               1   \n",
              "1     1.0   83807.86              1          0               1   \n",
              "2     8.0  159660.80              3          1               0   \n",
              "3     1.0       0.00              2          0               0   \n",
              "4     2.0  125510.82              1          1               1   \n",
              "\n",
              "   EstimatedSalary  Exited  \n",
              "0        101348.88       1  \n",
              "1        112542.58       0  \n",
              "2        113931.57       1  \n",
              "3         93826.63       0  \n",
              "4         79084.10       0  "
            ]
          },
          "execution_count": 3,
          "metadata": {},
          "output_type": "execute_result"
        }
      ],
      "source": [
        "data.head()"
      ]
    },
    {
      "cell_type": "markdown",
      "metadata": {
        "id": "jfm3DHA-pt6G"
      },
      "source": [
        "<b>Наблюдения</b>\n",
        "\n",
        "* При наличии идентификации по CustomerId столбцы RowNumber и Surname для целей нашего анализа кажутся избыточными. Их можно удалить."
      ]
    },
    {
      "cell_type": "code",
      "execution_count": null,
      "metadata": {
        "id": "-zsLvWMlpt6G",
        "outputId": "69522925-17e7-432a-9241-0412c7dfa4c4"
      },
      "outputs": [
        {
          "name": "stdout",
          "output_type": "stream",
          "text": [
            "<class 'pandas.core.frame.DataFrame'>\n",
            "RangeIndex: 10000 entries, 0 to 9999\n",
            "Data columns (total 14 columns):\n",
            " #   Column           Non-Null Count  Dtype  \n",
            "---  ------           --------------  -----  \n",
            " 0   RowNumber        10000 non-null  int64  \n",
            " 1   CustomerId       10000 non-null  int64  \n",
            " 2   Surname          10000 non-null  object \n",
            " 3   CreditScore      10000 non-null  int64  \n",
            " 4   Geography        10000 non-null  object \n",
            " 5   Gender           10000 non-null  object \n",
            " 6   Age              10000 non-null  int64  \n",
            " 7   Tenure           9091 non-null   float64\n",
            " 8   Balance          10000 non-null  float64\n",
            " 9   NumOfProducts    10000 non-null  int64  \n",
            " 10  HasCrCard        10000 non-null  int64  \n",
            " 11  IsActiveMember   10000 non-null  int64  \n",
            " 12  EstimatedSalary  10000 non-null  float64\n",
            " 13  Exited           10000 non-null  int64  \n",
            "dtypes: float64(3), int64(8), object(3)\n",
            "memory usage: 1.1+ MB\n"
          ]
        }
      ],
      "source": [
        "data.info()"
      ]
    },
    {
      "cell_type": "markdown",
      "metadata": {
        "id": "wwmWu0ijpt6H"
      },
      "source": [
        "<b>Наблюдения</b>\n",
        "\n",
        "* Имеет смысл привести Tenure к целочисленному типу данных: дробная часть нам вряд ли важна, при этом всегда важно экономить память."
      ]
    },
    {
      "cell_type": "markdown",
      "metadata": {
        "id": "9fkrEkMDpt6I"
      },
      "source": [
        "### Пропущенные значения"
      ]
    },
    {
      "cell_type": "markdown",
      "metadata": {
        "id": "AKo4o9uNpt6I"
      },
      "source": [
        "Есть пропущенные значения в признаке Tenure - сколько лет человек является клиентом банка. Примем отсутствующее значение за 0: человек только-только стал клиентом банка."
      ]
    },
    {
      "cell_type": "code",
      "execution_count": null,
      "metadata": {
        "id": "5jOKMcpHpt6J"
      },
      "outputs": [],
      "source": [
        "data['Tenure']=data['Tenure'].fillna(0)"
      ]
    },
    {
      "cell_type": "code",
      "execution_count": null,
      "metadata": {
        "id": "QualRS_Wpt6L",
        "outputId": "25e49a6e-fd74-4a97-da07-c003e5cec778"
      },
      "outputs": [
        {
          "data": {
            "text/plain": [
              "RowNumber          0\n",
              "CustomerId         0\n",
              "Surname            0\n",
              "CreditScore        0\n",
              "Geography          0\n",
              "Gender             0\n",
              "Age                0\n",
              "Tenure             0\n",
              "Balance            0\n",
              "NumOfProducts      0\n",
              "HasCrCard          0\n",
              "IsActiveMember     0\n",
              "EstimatedSalary    0\n",
              "Exited             0\n",
              "dtype: int64"
            ]
          },
          "execution_count": 6,
          "metadata": {},
          "output_type": "execute_result"
        }
      ],
      "source": [
        "data.isna().sum()"
      ]
    },
    {
      "cell_type": "markdown",
      "metadata": {
        "id": "BgfEMWsZpt6M"
      },
      "source": [
        "Пропущенные значения отсутствуют."
      ]
    },
    {
      "cell_type": "markdown",
      "metadata": {
        "id": "kZ6aTz10pt6N"
      },
      "source": [
        "### Дубликаты"
      ]
    },
    {
      "cell_type": "code",
      "execution_count": null,
      "metadata": {
        "id": "-zKsIII4pt6O",
        "outputId": "6597e7d1-edca-4dd4-9c6c-f8d78e763ee7"
      },
      "outputs": [
        {
          "data": {
            "text/plain": [
              "0"
            ]
          },
          "execution_count": 7,
          "metadata": {},
          "output_type": "execute_result"
        }
      ],
      "source": [
        "data.duplicated().sum()"
      ]
    },
    {
      "cell_type": "markdown",
      "metadata": {
        "id": "VB8bW0qPpt6P"
      },
      "source": [
        "Дубликаты строк отсутствуют."
      ]
    },
    {
      "cell_type": "markdown",
      "metadata": {
        "id": "ekH6qfskpt6Q"
      },
      "source": [
        "### Типы данных"
      ]
    },
    {
      "cell_type": "code",
      "execution_count": null,
      "metadata": {
        "id": "OWd-JqXbpt6R"
      },
      "outputs": [],
      "source": [
        "# Приведем столбец Tenure к целочисленному типу данных\n",
        "data['Tenure'] = data['Tenure'].astype('int')"
      ]
    },
    {
      "cell_type": "markdown",
      "metadata": {
        "id": "3go3J5hqpt6R"
      },
      "source": [
        "### Подготовка признаков"
      ]
    },
    {
      "cell_type": "code",
      "execution_count": null,
      "metadata": {
        "id": "k4DnGEhlpt6S"
      },
      "outputs": [],
      "source": [
        "# Удалим из датафрейма избыточные столбцы Surname, CustomerId и RowNumber, не влияющие на целевой признак Exited\n",
        "data_ohe = data.drop(['Surname', 'CustomerId', 'RowNumber'], axis=1)"
      ]
    },
    {
      "cell_type": "markdown",
      "metadata": {
        "id": "G1_-4QVQpt6T"
      },
      "source": [
        "Преобразуем категориальные признаки в количественные с помощью техники прямого кодирования OHE через функцию .get_dummies, избегая дамми-ловушки."
      ]
    },
    {
      "cell_type": "markdown",
      "metadata": {
        "id": "STAN4Qfvpt6V"
      },
      "source": [
        "####  One-hot-encoding: получение дамми-признаков"
      ]
    },
    {
      "cell_type": "code",
      "execution_count": null,
      "metadata": {
        "id": "MaIjnEDIpt6V"
      },
      "outputs": [],
      "source": [
        "data_ohe = pd.get_dummies(data_ohe, drop_first=True)"
      ]
    },
    {
      "cell_type": "code",
      "execution_count": null,
      "metadata": {
        "id": "JbVLOrW3pt6X",
        "outputId": "a219e660-ecfc-4dce-add7-0a2596d95ddc"
      },
      "outputs": [
        {
          "name": "stdout",
          "output_type": "stream",
          "text": [
            "<class 'pandas.core.frame.DataFrame'>\n",
            "RangeIndex: 10000 entries, 0 to 9999\n",
            "Data columns (total 12 columns):\n",
            " #   Column             Non-Null Count  Dtype  \n",
            "---  ------             --------------  -----  \n",
            " 0   CreditScore        10000 non-null  int64  \n",
            " 1   Age                10000 non-null  int64  \n",
            " 2   Tenure             10000 non-null  int64  \n",
            " 3   Balance            10000 non-null  float64\n",
            " 4   NumOfProducts      10000 non-null  int64  \n",
            " 5   HasCrCard          10000 non-null  int64  \n",
            " 6   IsActiveMember     10000 non-null  int64  \n",
            " 7   EstimatedSalary    10000 non-null  float64\n",
            " 8   Exited             10000 non-null  int64  \n",
            " 9   Geography_Germany  10000 non-null  uint8  \n",
            " 10  Geography_Spain    10000 non-null  uint8  \n",
            " 11  Gender_Male        10000 non-null  uint8  \n",
            "dtypes: float64(2), int64(7), uint8(3)\n",
            "memory usage: 732.5 KB\n"
          ]
        },
        {
          "data": {
            "text/html": [
              "<div>\n",
              "<style scoped>\n",
              "    .dataframe tbody tr th:only-of-type {\n",
              "        vertical-align: middle;\n",
              "    }\n",
              "\n",
              "    .dataframe tbody tr th {\n",
              "        vertical-align: top;\n",
              "    }\n",
              "\n",
              "    .dataframe thead th {\n",
              "        text-align: right;\n",
              "    }\n",
              "</style>\n",
              "<table border=\"1\" class=\"dataframe\">\n",
              "  <thead>\n",
              "    <tr style=\"text-align: right;\">\n",
              "      <th></th>\n",
              "      <th>CreditScore</th>\n",
              "      <th>Age</th>\n",
              "      <th>Tenure</th>\n",
              "      <th>Balance</th>\n",
              "      <th>NumOfProducts</th>\n",
              "      <th>HasCrCard</th>\n",
              "      <th>IsActiveMember</th>\n",
              "      <th>EstimatedSalary</th>\n",
              "      <th>Exited</th>\n",
              "      <th>Geography_Germany</th>\n",
              "      <th>Geography_Spain</th>\n",
              "      <th>Gender_Male</th>\n",
              "    </tr>\n",
              "  </thead>\n",
              "  <tbody>\n",
              "    <tr>\n",
              "      <th>0</th>\n",
              "      <td>619</td>\n",
              "      <td>42</td>\n",
              "      <td>2</td>\n",
              "      <td>0.00</td>\n",
              "      <td>1</td>\n",
              "      <td>1</td>\n",
              "      <td>1</td>\n",
              "      <td>101348.88</td>\n",
              "      <td>1</td>\n",
              "      <td>0</td>\n",
              "      <td>0</td>\n",
              "      <td>0</td>\n",
              "    </tr>\n",
              "    <tr>\n",
              "      <th>1</th>\n",
              "      <td>608</td>\n",
              "      <td>41</td>\n",
              "      <td>1</td>\n",
              "      <td>83807.86</td>\n",
              "      <td>1</td>\n",
              "      <td>0</td>\n",
              "      <td>1</td>\n",
              "      <td>112542.58</td>\n",
              "      <td>0</td>\n",
              "      <td>0</td>\n",
              "      <td>1</td>\n",
              "      <td>0</td>\n",
              "    </tr>\n",
              "    <tr>\n",
              "      <th>2</th>\n",
              "      <td>502</td>\n",
              "      <td>42</td>\n",
              "      <td>8</td>\n",
              "      <td>159660.80</td>\n",
              "      <td>3</td>\n",
              "      <td>1</td>\n",
              "      <td>0</td>\n",
              "      <td>113931.57</td>\n",
              "      <td>1</td>\n",
              "      <td>0</td>\n",
              "      <td>0</td>\n",
              "      <td>0</td>\n",
              "    </tr>\n",
              "    <tr>\n",
              "      <th>3</th>\n",
              "      <td>699</td>\n",
              "      <td>39</td>\n",
              "      <td>1</td>\n",
              "      <td>0.00</td>\n",
              "      <td>2</td>\n",
              "      <td>0</td>\n",
              "      <td>0</td>\n",
              "      <td>93826.63</td>\n",
              "      <td>0</td>\n",
              "      <td>0</td>\n",
              "      <td>0</td>\n",
              "      <td>0</td>\n",
              "    </tr>\n",
              "    <tr>\n",
              "      <th>4</th>\n",
              "      <td>850</td>\n",
              "      <td>43</td>\n",
              "      <td>2</td>\n",
              "      <td>125510.82</td>\n",
              "      <td>1</td>\n",
              "      <td>1</td>\n",
              "      <td>1</td>\n",
              "      <td>79084.10</td>\n",
              "      <td>0</td>\n",
              "      <td>0</td>\n",
              "      <td>1</td>\n",
              "      <td>0</td>\n",
              "    </tr>\n",
              "  </tbody>\n",
              "</table>\n",
              "</div>"
            ],
            "text/plain": [
              "   CreditScore  Age  Tenure    Balance  NumOfProducts  HasCrCard  \\\n",
              "0          619   42       2       0.00              1          1   \n",
              "1          608   41       1   83807.86              1          0   \n",
              "2          502   42       8  159660.80              3          1   \n",
              "3          699   39       1       0.00              2          0   \n",
              "4          850   43       2  125510.82              1          1   \n",
              "\n",
              "   IsActiveMember  EstimatedSalary  Exited  Geography_Germany  \\\n",
              "0               1        101348.88       1                  0   \n",
              "1               1        112542.58       0                  0   \n",
              "2               0        113931.57       1                  0   \n",
              "3               0         93826.63       0                  0   \n",
              "4               1         79084.10       0                  0   \n",
              "\n",
              "   Geography_Spain  Gender_Male  \n",
              "0                0            0  \n",
              "1                1            0  \n",
              "2                0            0  \n",
              "3                0            0  \n",
              "4                1            0  "
            ]
          },
          "execution_count": 11,
          "metadata": {},
          "output_type": "execute_result"
        }
      ],
      "source": [
        "# Проверим преобразованный датафрейм\n",
        "data_ohe.info()\n",
        "data_ohe.head()"
      ]
    },
    {
      "cell_type": "markdown",
      "metadata": {
        "id": "2iqtCp23pt6X"
      },
      "source": [
        "Разобьем данные на обучающую, валидационную и тестовую выборки в отношении 3:1:1."
      ]
    },
    {
      "cell_type": "code",
      "execution_count": null,
      "metadata": {
        "id": "B1h3nOvwpt6Y"
      },
      "outputs": [],
      "source": [
        "target = data_ohe['Exited']\n",
        "features = data_ohe.drop('Exited', axis=1)\n",
        "\n",
        "features_train, features_rest, target_train, target_rest = train_test_split(features, target, test_size=.4, random_state=12345)\n",
        "features_valid, features_test, target_valid, target_test = train_test_split(features_rest, target_rest, test_size=.5, random_state=12345)"
      ]
    },
    {
      "cell_type": "code",
      "execution_count": null,
      "metadata": {
        "id": "0hBm7tBBpt6Z",
        "outputId": "9214a8bf-e70b-4418-a182-8fcf58053d77"
      },
      "outputs": [
        {
          "name": "stdout",
          "output_type": "stream",
          "text": [
            "(6000, 11)\n",
            "(2000, 11)\n",
            "(2000, 11)\n"
          ]
        }
      ],
      "source": [
        "# Проверим форму полученных выборок\n",
        "print(features_train.shape)\n",
        "print(features_valid.shape)\n",
        "print(features_test.shape)"
      ]
    },
    {
      "cell_type": "markdown",
      "metadata": {
        "id": "ZvBcqhnUpt6b"
      },
      "source": [
        " #### Стандартизация"
      ]
    },
    {
      "cell_type": "markdown",
      "metadata": {
        "id": "uALTr76jpt6b"
      },
      "source": [
        "Масштабируем признаки методом стандартизации."
      ]
    },
    {
      "cell_type": "code",
      "execution_count": null,
      "metadata": {
        "id": "7g3YPo2xpt6c"
      },
      "outputs": [],
      "source": [
        "numeric = ['CreditScore', 'Age', 'Balance', 'EstimatedSalary', 'Tenure', 'NumOfProducts']"
      ]
    },
    {
      "cell_type": "code",
      "execution_count": null,
      "metadata": {
        "id": "6cFngSorpt6c"
      },
      "outputs": [],
      "source": [
        "scaler = StandardScaler()\n",
        "scaler.fit(features_train[numeric])\n",
        "features_train[numeric] = scaler.transform(features_train[numeric])\n",
        "features_valid[numeric] = scaler.transform(features_valid[numeric])\n",
        "features_test[numeric] = scaler.transform(features_test[numeric])"
      ]
    },
    {
      "cell_type": "markdown",
      "metadata": {
        "id": "F-mX68Bspt6d"
      },
      "source": [
        "## Исследование задачи"
      ]
    },
    {
      "cell_type": "markdown",
      "metadata": {
        "id": "KOOhAOubpt6e"
      },
      "source": [
        "Обучим модели и измерим accuracy."
      ]
    },
    {
      "cell_type": "code",
      "execution_count": null,
      "metadata": {
        "id": "gvU-6_1Ypt6e",
        "outputId": "91e10696-59f7-4f34-8296-b4c6544ca661"
      },
      "outputs": [
        {
          "data": {
            "text/plain": [
              "0.8025"
            ]
          },
          "execution_count": 16,
          "metadata": {},
          "output_type": "execute_result"
        }
      ],
      "source": [
        "# Логистическая регрессия\n",
        "model = LogisticRegression(random_state=12345,solver = 'liblinear')\n",
        "model.fit(features_train, target_train)\n",
        "lr_predicted_valid = pd.Series(model.predict(features_valid))\n",
        "model.score(features_valid, target_valid)"
      ]
    },
    {
      "cell_type": "code",
      "execution_count": null,
      "metadata": {
        "id": "hGTG2eAcpt6f",
        "outputId": "8a18a6c4-f916-40df-9596-664c1ed24e56"
      },
      "outputs": [
        {
          "data": {
            "text/plain": [
              "0.8615"
            ]
          },
          "execution_count": 17,
          "metadata": {},
          "output_type": "execute_result"
        }
      ],
      "source": [
        "# Случайный лес\n",
        "model = RandomForestClassifier(n_estimators=100, max_depth=8, random_state=12345)\n",
        "model.fit(features_train, target_train)\n",
        "forest_predicted_valid = pd.Series(model.predict(features_valid))\n",
        "model.score(features_valid, target_valid)"
      ]
    },
    {
      "cell_type": "markdown",
      "metadata": {
        "id": "mipJkfa4pt6f"
      },
      "source": [
        "Изучим, хорош ли результат, полученный при доле правильных ответов 86%."
      ]
    },
    {
      "cell_type": "markdown",
      "metadata": {
        "id": "0SnUIQt9pt6g"
      },
      "source": [
        "## Борьба с дисбалансом"
      ]
    },
    {
      "cell_type": "markdown",
      "metadata": {
        "id": "V6AqR1Ndpt6h"
      },
      "source": [
        "Чтобы оценить адекватность модели, проверим, как часто в целевом признаке Exited встречается класс «1» или «0»."
      ]
    },
    {
      "cell_type": "code",
      "execution_count": null,
      "metadata": {
        "scrolled": true,
        "id": "DghYclbIpt6i",
        "outputId": "1cd51a97-f676-4800-f7ad-30cf2d68dabe"
      },
      "outputs": [
        {
          "name": "stdout",
          "output_type": "stream",
          "text": [
            "0    0.7963\n",
            "1    0.2037\n",
            "Name: Exited, dtype: float64\n"
          ]
        },
        {
          "data": {
            "text/plain": [
              "<AxesSubplot:>"
            ]
          },
          "execution_count": 18,
          "metadata": {},
          "output_type": "execute_result"
        },
        {
          "data": {
            "image/png": "[encoded data removed]",
            "text/plain": [
              "<Figure size 432x288 with 1 Axes>"
            ]
          },
          "metadata": {
            "needs_background": "light"
          },
          "output_type": "display_data"
        }
      ],
      "source": [
        "class_frequency = data['Exited'].value_counts(normalize=True)\n",
        "print(class_frequency)\n",
        "class_frequency.plot(kind='bar')"
      ]
    },
    {
      "cell_type": "markdown",
      "metadata": {
        "id": "qWIUtloApt6j"
      },
      "source": [
        "Наблюдается сильный дисбаланс классов. Классы несбалансированны: клиенты уходят в 20% процентах случаев, то есть положительный класс меньше отрицательного в 4 раза."
      ]
    },
    {
      "cell_type": "markdown",
      "metadata": {
        "id": "fObabH-jpt6k"
      },
      "source": [
        "Проанализируем частоты классов в результатах предсказаний обеих моделей."
      ]
    },
    {
      "cell_type": "code",
      "execution_count": null,
      "metadata": {
        "id": "bgkv0TRUpt6k",
        "outputId": "c7dcdd7a-1637-42b9-d8b0-d58b1f439690"
      },
      "outputs": [
        {
          "name": "stdout",
          "output_type": "stream",
          "text": [
            "0    0.9125\n",
            "1    0.0875\n",
            "dtype: float64\n"
          ]
        },
        {
          "data": {
            "text/plain": [
              "<AxesSubplot:>"
            ]
          },
          "execution_count": 19,
          "metadata": {},
          "output_type": "execute_result"
        },
        {
          "data": {
            "image/png": "[encoded data removed]",
            "text/plain": [
              "<Figure size 432x288 with 1 Axes>"
            ]
          },
          "metadata": {
            "needs_background": "light"
          },
          "output_type": "display_data"
        }
      ],
      "source": [
        "# Для модели логистической регрессии\n",
        "lr_class_frequency = lr_predicted_valid.value_counts(normalize=True)\n",
        "print(lr_class_frequency)\n",
        "lr_class_frequency.plot(kind='bar')"
      ]
    },
    {
      "cell_type": "code",
      "execution_count": null,
      "metadata": {
        "id": "AYCRUgVspt6l",
        "outputId": "1df7f253-3504-4559-d6b7-b62648ccf733"
      },
      "outputs": [
        {
          "name": "stdout",
          "output_type": "stream",
          "text": [
            "0    0.8955\n",
            "1    0.1045\n",
            "dtype: float64\n"
          ]
        },
        {
          "data": {
            "text/plain": [
              "<AxesSubplot:>"
            ]
          },
          "execution_count": 20,
          "metadata": {},
          "output_type": "execute_result"
        },
        {
          "data": {
            "image/png": "[encoded data removed]",
            "text/plain": [
              "<Figure size 432x288 with 1 Axes>"
            ]
          },
          "metadata": {
            "needs_background": "light"
          },
          "output_type": "display_data"
        }
      ],
      "source": [
        "# Для модели случайного леса\n",
        "forest_class_frequency = forest_predicted_valid.value_counts(normalize=True)\n",
        "print(forest_class_frequency)\n",
        "forest_class_frequency.plot(kind='bar')"
      ]
    },
    {
      "cell_type": "markdown",
      "metadata": {
        "id": "z65YyeThpt6m"
      },
      "source": [
        "Модели предсказывают более оптимистичные перспективы оттока клиентов. Cравним их с работой константной модели."
      ]
    },
    {
      "cell_type": "code",
      "execution_count": null,
      "metadata": {
        "id": "2OAMkoR5pt6n",
        "outputId": "8fd9c282-a0fc-4021-931a-ad329126a9e2"
      },
      "outputs": [
        {
          "data": {
            "text/plain": [
              "0.7963"
            ]
          },
          "execution_count": 21,
          "metadata": {},
          "output_type": "execute_result"
        }
      ],
      "source": [
        "constant_target_prediction = pd.Series(0, target.index)\n",
        "accuracy_score(target, constant_target_prediction)"
      ]
    },
    {
      "cell_type": "markdown",
      "metadata": {
        "id": "YuU6_PM8pt6o"
      },
      "source": [
        "Проверка моделей на адекватность прошла успешно. Обученные модели предсказывают уход клиентов лучше, чем константная модель."
      ]
    },
    {
      "cell_type": "markdown",
      "metadata": {
        "id": "GqPX9QO3pt6p"
      },
      "source": [
        "Для оценки качества прогноза положительного класса у моделей применим F1-меру."
      ]
    },
    {
      "cell_type": "code",
      "execution_count": null,
      "metadata": {
        "id": "c2qhwPdBpt6q",
        "outputId": "d8cd86fd-a6b7-453c-9f6b-8c448e802c15"
      },
      "outputs": [
        {
          "data": {
            "text/plain": [
              "0.33389544688026984"
            ]
          },
          "execution_count": 22,
          "metadata": {},
          "output_type": "execute_result"
        }
      ],
      "source": [
        "# F1-мера для модели логистической регрессии\n",
        "f1_score(target_valid, lr_predicted_valid)"
      ]
    },
    {
      "cell_type": "code",
      "execution_count": null,
      "metadata": {
        "id": "CT64bDABpt6r",
        "outputId": "226fad4e-8dab-4caf-97f7-64ef98bd2654"
      },
      "outputs": [
        {
          "data": {
            "text/plain": [
              "0.5582137161084529"
            ]
          },
          "execution_count": 23,
          "metadata": {},
          "output_type": "execute_result"
        }
      ],
      "source": [
        "# F1-мера для модели случайного леса\n",
        "f1_score(target_valid, forest_predicted_valid)"
      ]
    },
    {
      "cell_type": "markdown",
      "metadata": {
        "id": "LrxV1jyNpt6r"
      },
      "source": [
        "<b>Промежуточные выводы</b>:\n",
        "\n",
        "* классы несбалансированны\n",
        "* клиенты уходят в 20% процентах случаев, то есть положительный класс меньше отрицательного в 4 раза\n",
        "* результат работы модели случайного леса пока выглядит лучше"
      ]
    },
    {
      "cell_type": "markdown",
      "metadata": {
        "id": "Yc_j2pX_pt6s"
      },
      "source": [
        "Постараемся достичь F1 не менее 0.59."
      ]
    },
    {
      "cell_type": "markdown",
      "metadata": {
        "id": "zie-hOexpt6u"
      },
      "source": [
        "### Взвешивание классов"
      ]
    },
    {
      "cell_type": "markdown",
      "metadata": {
        "id": "FubmheUipt6u"
      },
      "source": [
        "Сбалансируем классы с помощью аргумента class_weight"
      ]
    },
    {
      "cell_type": "code",
      "execution_count": null,
      "metadata": {
        "id": "jdqGSGxipt6v",
        "outputId": "e1ae75a6-9a96-4781-dab0-9b35ef84e08f"
      },
      "outputs": [
        {
          "data": {
            "text/plain": [
              "0.489"
            ]
          },
          "execution_count": 24,
          "metadata": {},
          "output_type": "execute_result"
        }
      ],
      "source": [
        "# Для модели логистической регрессии\n",
        "model = LogisticRegression(random_state=12345, solver = 'liblinear', class_weight='balanced')\n",
        "model.fit(features_train, target_train)\n",
        "lr_predicted_valid = pd.Series(model.predict(features_valid))\n",
        "round(f1_score(target_valid, lr_predicted_valid), 3)"
      ]
    },
    {
      "cell_type": "code",
      "execution_count": null,
      "metadata": {
        "id": "G1CUwUIFpt6z",
        "outputId": "4bbfcbdf-8e9f-4f97-8c65-68d109fa2ee8"
      },
      "outputs": [
        {
          "data": {
            "text/plain": [
              "0.627"
            ]
          },
          "execution_count": 25,
          "metadata": {},
          "output_type": "execute_result"
        }
      ],
      "source": [
        "# Для модели случайного леса\n",
        "model = RandomForestClassifier(n_estimators=100, max_depth=8, random_state=12345, class_weight='balanced')\n",
        "model.fit(features_train, target_train)\n",
        "forest_predicted_valid = pd.Series(model.predict(features_valid))\n",
        "round(f1_score(target_valid, forest_predicted_valid), 3)"
      ]
    },
    {
      "cell_type": "markdown",
      "metadata": {
        "id": "p1ONIAI8pt60"
      },
      "source": [
        "### Уменьшение выборки"
      ]
    },
    {
      "cell_type": "markdown",
      "metadata": {
        "id": "a3gwAomZpt60"
      },
      "source": [
        "Сделаем объекты частого класса \"0\" не такими частыми. Применим технику балансирования классов downsampling, чтобы уменьшить число объектов большего класса путем случайного удаления объектов большего класса."
      ]
    },
    {
      "cell_type": "code",
      "execution_count": null,
      "metadata": {
        "id": "gA_J8lwApt61"
      },
      "outputs": [],
      "source": [
        "def downsample(features, target, fraction):\n",
        "    features_zeros = features[target == 0]\n",
        "    features_ones = features[target == 1]\n",
        "    target_zeros = target[target == 0]\n",
        "    target_ones = target[target == 1]\n",
        "\n",
        "    features_downsampled = pd.concat(\n",
        "        [features_zeros.sample(frac=fraction, random_state=12345)] + [features_ones])\n",
        "    target_downsampled = pd.concat(\n",
        "        [target_zeros.sample(frac=fraction, random_state=12345)] + [target_ones])\n",
        "    \n",
        "    features_downsampled, target_downsampled = shuffle(\n",
        "        features_downsampled, target_downsampled, random_state=12345)\n",
        "    \n",
        "    return features_downsampled, target_downsampled"
      ]
    },
    {
      "cell_type": "code",
      "execution_count": null,
      "metadata": {
        "id": "AOGh1QJUpt63"
      },
      "outputs": [],
      "source": [
        "features_downsampled, target_downsampled = downsample(features_train, target_train, 0.25)"
      ]
    },
    {
      "cell_type": "code",
      "execution_count": null,
      "metadata": {
        "id": "1g4cJIjopt65",
        "outputId": "d2c2721e-5c1e-4d46-d172-ff4ae406ed40"
      },
      "outputs": [
        {
          "name": "stdout",
          "output_type": "stream",
          "text": [
            "0    0.501043\n",
            "1    0.498957\n",
            "Name: Exited, dtype: float64\n"
          ]
        }
      ],
      "source": [
        "# Проверим выравнивание частоты классов подбором аргумента frac=0.25\n",
        "down_class_frequency = target_downsampled.value_counts(normalize=True)\n",
        "print(down_class_frequency)"
      ]
    },
    {
      "cell_type": "code",
      "execution_count": null,
      "metadata": {
        "id": "EbMfXW7lpt65",
        "outputId": "4e5755d3-8512-4657-9d16-84e32b8dc61c"
      },
      "outputs": [
        {
          "data": {
            "text/plain": [
              "0.489"
            ]
          },
          "execution_count": 30,
          "metadata": {},
          "output_type": "execute_result"
        }
      ],
      "source": [
        "# Для модели логистической регрессии\n",
        "model = LogisticRegression(random_state=12345, solver = 'liblinear')\n",
        "model.fit(features_downsampled, target_downsampled)\n",
        "lr_predicted_valid_downsampled = model.predict(features_valid)\n",
        "round(f1_score(target_valid, lr_predicted_valid_downsampled), 3)"
      ]
    },
    {
      "cell_type": "code",
      "execution_count": null,
      "metadata": {
        "id": "R0M-gDUYpt66",
        "outputId": "7396babf-9a62-4802-ebdc-15a140cb21ff"
      },
      "outputs": [
        {
          "data": {
            "text/plain": [
              "0.592"
            ]
          },
          "execution_count": 31,
          "metadata": {},
          "output_type": "execute_result"
        }
      ],
      "source": [
        "# Для модели случайного леса\n",
        "model = RandomForestClassifier(n_estimators=100, max_depth=8, random_state=12345)\n",
        "model.fit(features_downsampled, target_downsampled)\n",
        "forest_predicted_valid_downsampled = model.predict(features_valid)\n",
        "round(f1_score(target_valid, forest_predicted_valid_downsampled), 3)"
      ]
    },
    {
      "cell_type": "markdown",
      "metadata": {
        "id": "haFSNf_Zpt67"
      },
      "source": [
        "Уменьшение выборки не дает убедительных результатов. Попробуем изменить порог."
      ]
    },
    {
      "cell_type": "markdown",
      "metadata": {
        "id": "YvJD-8SApt67"
      },
      "source": [
        "<div class=\"alert alert-info\"> <b>🎓 Комментарий студента:</b> Модель случайного леса при пересмотренном аргументе frac показывает адекватный уровень F1-меры, но попробуем увеличить этот показатель.</div>"
      ]
    },
    {
      "cell_type": "markdown",
      "metadata": {
        "id": "XwRUcLhVpt68"
      },
      "source": [
        "### Изменение порога"
      ]
    },
    {
      "cell_type": "markdown",
      "metadata": {
        "id": "tfsqSZXKpt68"
      },
      "source": [
        "Путем изменения значения порога посмотрим, как изменится F1-мера."
      ]
    },
    {
      "cell_type": "code",
      "execution_count": null,
      "metadata": {
        "id": "wX-JU6wjpt69"
      },
      "outputs": [],
      "source": [
        "# Вероятности классов для логистической регрессии\n",
        "model = LogisticRegression(random_state=12345, solver='liblinear')\n",
        "model.fit(features_train, target_train)\n",
        "lr_probabilities_valid = model.predict_proba(features_valid)\n",
        "lr_probabilities_one_valid = lr_probabilities_valid[:, 1]"
      ]
    },
    {
      "cell_type": "code",
      "execution_count": null,
      "metadata": {
        "id": "8vHVfmLEpt69"
      },
      "outputs": [],
      "source": [
        "# Функция подсчета F1 при различных значениях порога\n",
        "def count_threshold (probabilities_one_valid):\n",
        "    for threshold in np.arange(0, 0.6, 0.05):\n",
        "        predicted_valid = probabilities_one_valid > threshold\n",
        "        f1 = f1_score(target_valid, predicted_valid)\n",
        "        print(\"Порог = {:.2f} | F1 = {:.3f}\".format(\n",
        "        threshold, f1))"
      ]
    },
    {
      "cell_type": "code",
      "execution_count": null,
      "metadata": {
        "id": "P47PsnInpt6-",
        "outputId": "eed0965f-f3a7-4661-d67d-466d5177dafb"
      },
      "outputs": [
        {
          "name": "stdout",
          "output_type": "stream",
          "text": [
            "Порог = 0.00 | F1 = 0.346\n",
            "Порог = 0.05 | F1 = 0.379\n",
            "Порог = 0.10 | F1 = 0.422\n",
            "Порог = 0.15 | F1 = 0.462\n",
            "Порог = 0.20 | F1 = 0.479\n",
            "Порог = 0.25 | F1 = 0.497\n",
            "Порог = 0.30 | F1 = 0.488\n",
            "Порог = 0.35 | F1 = 0.456\n",
            "Порог = 0.40 | F1 = 0.401\n",
            "Порог = 0.45 | F1 = 0.362\n",
            "Порог = 0.50 | F1 = 0.334\n",
            "Порог = 0.55 | F1 = 0.273\n"
          ]
        }
      ],
      "source": [
        "# Перебор значений порога для модели логистической регрессии\n",
        "count_threshold(lr_probabilities_one_valid)"
      ]
    },
    {
      "cell_type": "code",
      "execution_count": null,
      "metadata": {
        "id": "9mT1x9Gqpt6-"
      },
      "outputs": [],
      "source": [
        "# Вероятности классов для модели случайного леса\n",
        "model = RandomForestClassifier(n_estimators=100, max_depth=8, random_state=12345)\n",
        "model.fit(features_train, target_train)\n",
        "forest_probabilities_valid = model.predict_proba(features_valid)\n",
        "forest_probabilities_one_valid = forest_probabilities_valid[:, 1]"
      ]
    },
    {
      "cell_type": "code",
      "execution_count": null,
      "metadata": {
        "id": "I93ZcWIRpt6_",
        "outputId": "7620ea09-0814-4c59-e792-b04b36912d65"
      },
      "outputs": [
        {
          "name": "stdout",
          "output_type": "stream",
          "text": [
            "Порог = 0.00 | F1 = 0.346\n",
            "Порог = 0.05 | F1 = 0.392\n",
            "Порог = 0.10 | F1 = 0.465\n",
            "Порог = 0.15 | F1 = 0.543\n",
            "Порог = 0.20 | F1 = 0.604\n",
            "Порог = 0.25 | F1 = 0.636\n",
            "Порог = 0.30 | F1 = 0.623\n",
            "Порог = 0.35 | F1 = 0.634\n",
            "Порог = 0.40 | F1 = 0.609\n",
            "Порог = 0.45 | F1 = 0.590\n",
            "Порог = 0.50 | F1 = 0.558\n",
            "Порог = 0.55 | F1 = 0.532\n"
          ]
        }
      ],
      "source": [
        "# Перебор значений порога для модели случайного леса\n",
        "count_threshold(forest_probabilities_one_valid)"
      ]
    },
    {
      "cell_type": "markdown",
      "metadata": {
        "id": "cVah4fx8pt6_"
      },
      "source": [
        "Изменение порога показывает лучшие результаты, чем уменьшение выборки."
      ]
    },
    {
      "cell_type": "markdown",
      "metadata": {
        "id": "sH8SkNMnpt7A"
      },
      "source": [
        "Для модели случайного леса найдем значения n_estimators и max_depth, при которых она будет показывать лучшие результаты."
      ]
    },
    {
      "cell_type": "code",
      "execution_count": null,
      "metadata": {
        "id": "KBgmXRWipt7A",
        "outputId": "dec9daeb-e9c6-40c7-d169-eecd8abdba32"
      },
      "outputs": [
        {
          "name": "stdout",
          "output_type": "stream",
          "text": [
            "Accuracy при глубине = 5\n",
            "Обучающая выборка: 0.864\n",
            "Валидационная выборка: 0.8535\n",
            "\n",
            "Accuracy при глубине = 6\n",
            "Обучающая выборка: 0.8713333333333333\n",
            "Валидационная выборка: 0.859\n",
            "\n",
            "Accuracy при глубине = 7\n",
            "Обучающая выборка: 0.8785\n",
            "Валидационная выборка: 0.855\n",
            "\n",
            "Accuracy при глубине = 8\n",
            "Обучающая выборка: 0.882\n",
            "Валидационная выборка: 0.862\n",
            "\n",
            "Accuracy при глубине = 9\n",
            "Обучающая выборка: 0.893\n",
            "Валидационная выборка: 0.8625\n",
            "\n",
            "Accuracy при глубине = 10\n",
            "Обучающая выборка: 0.9041666666666667\n",
            "Валидационная выборка: 0.861\n",
            "\n"
          ]
        }
      ],
      "source": [
        "for depth in range(5, 11, 1):\n",
        "    model = RandomForestClassifier(random_state=12345, n_estimators=20, max_depth=depth)\n",
        "    model.fit(features_train, target_train)\n",
        "    var_predictions_train = model.predict(features_train)\n",
        "    var_predictions_valid = model.predict(features_valid)\n",
        "    print(\"Accuracy при глубине =\", depth)\n",
        "    print(\"Обучающая выборка:\", accuracy_score(target_train, var_predictions_train))\n",
        "    print(\"Валидационная выборка:\", accuracy_score(target_valid, var_predictions_valid))\n",
        "    print()"
      ]
    },
    {
      "cell_type": "code",
      "execution_count": null,
      "metadata": {
        "id": "wANclFiapt7C",
        "outputId": "edc0beae-ad64-4137-e7ba-4f310a8261cc"
      },
      "outputs": [
        {
          "name": "stdout",
          "output_type": "stream",
          "text": [
            "F1-мера при глубине = 10\n",
            "0.579\n",
            "\n",
            "F1-мера при глубине = 11\n",
            "0.579\n",
            "\n",
            "F1-мера при глубине = 12\n",
            "0.594\n",
            "\n",
            "F1-мера при глубине = 13\n",
            "0.578\n",
            "\n",
            "F1-мера при глубине = 14\n",
            "0.58\n",
            "\n"
          ]
        }
      ],
      "source": [
        "for depth in range(10, 15, 1):\n",
        "    model = RandomForestClassifier(random_state=12345, n_estimators=20, max_depth=depth)\n",
        "    model.fit(features_train, target_train)\n",
        "    var_predictions_train = model.predict(features_train)\n",
        "    var_predictions_valid = model.predict(features_valid)\n",
        "    var_f1 = f1_score(target_valid, var_predictions_valid)\n",
        "    print(\"F1-мера при глубине =\", depth)\n",
        "    print(round(var_f1, 3))\n",
        "    print()"
      ]
    },
    {
      "cell_type": "markdown",
      "metadata": {
        "id": "XqnJnO9hpt7D"
      },
      "source": [
        "<div class=\"alert alert-info\"> <b>🎓 Комментарий студента:</b> При глубине случайного леса, равной 12, достигается необходимое значение F1-меры.</div>"
      ]
    },
    {
      "cell_type": "code",
      "execution_count": null,
      "metadata": {
        "id": "VQjk6aKQpt7D",
        "outputId": "092ec7ac-0587-4057-9ddd-cc97583f344c"
      },
      "outputs": [
        {
          "name": "stdout",
          "output_type": "stream",
          "text": [
            "Accuracy при n_estimators = 40\n",
            "Обучающая выборка: 0.8786666666666667\n",
            "Валидационная выборка: 0.856\n",
            "\n",
            "Accuracy при n_estimators = 60\n",
            "Обучающая выборка: 0.879\n",
            "Валидационная выборка: 0.8605\n",
            "\n",
            "Accuracy при n_estimators = 80\n",
            "Обучающая выборка: 0.8795\n",
            "Валидационная выборка: 0.861\n",
            "\n",
            "Accuracy при n_estimators = 100\n",
            "Обучающая выборка: 0.8801666666666667\n",
            "Валидационная выборка: 0.8605\n",
            "\n",
            "Accuracy при n_estimators = 120\n",
            "Обучающая выборка: 0.8806666666666667\n",
            "Валидационная выборка: 0.8605\n",
            "\n"
          ]
        }
      ],
      "source": [
        "for est in range(40, 140, 20):\n",
        "    model = RandomForestClassifier(random_state=12345, n_estimators=est, max_depth = 7)\n",
        "    model.fit(features_train, target_train)\n",
        "    var2_predictions_train = model.predict(features_train)\n",
        "    var2_predictions_valid = model.predict(features_valid)\n",
        "    print(\"Accuracy при n_estimators =\", est)\n",
        "    print(\"Обучающая выборка:\", accuracy_score(target_train, var2_predictions_train))\n",
        "    print(\"Валидационная выборка:\", accuracy_score(target_valid, var2_predictions_valid))\n",
        "    print()"
      ]
    },
    {
      "cell_type": "code",
      "execution_count": null,
      "metadata": {
        "id": "pSTzRSzipt7E",
        "outputId": "132afed1-761f-4da4-909c-978c03dc232c"
      },
      "outputs": [
        {
          "name": "stdout",
          "output_type": "stream",
          "text": [
            "F1-мера при n_estimators = 20\n",
            "0.594\n",
            "\n",
            "F1-мера при n_estimators = 40\n",
            "0.595\n",
            "\n",
            "F1-мера при n_estimators = 60\n",
            "0.582\n",
            "\n",
            "F1-мера при n_estimators = 80\n",
            "0.571\n",
            "\n",
            "F1-мера при n_estimators = 100\n",
            "0.583\n",
            "\n",
            "F1-мера при n_estimators = 120\n",
            "0.576\n",
            "\n"
          ]
        }
      ],
      "source": [
        "for est in range(20, 140, 20):\n",
        "    model = RandomForestClassifier(random_state=12345, n_estimators=est, max_depth = 12)\n",
        "    model.fit(features_train, target_train)\n",
        "    var2_predictions_train = model.predict(features_train)\n",
        "    var2_predictions_valid = model.predict(features_valid)\n",
        "    var2_f1 = f1_score(target_valid, var2_predictions_valid)\n",
        "    print(\"F1-мера при n_estimators =\", est)\n",
        "    print(round(var2_f1, 3))\n",
        "    print()"
      ]
    },
    {
      "cell_type": "markdown",
      "metadata": {
        "id": "f1L7AJFJpt7E"
      },
      "source": [
        "<div class=\"alert alert-info\"> <b>🎓 Комментарий студента:</b> \n",
        "    \n",
        "Необходимое значение F1-меры достигается в модели случайного леса при глубине 12 и параметре n_estimators 40.</div>"
      ]
    },
    {
      "cell_type": "markdown",
      "metadata": {
        "id": "apVAJ_B1pt7F"
      },
      "source": [
        "<b>ВЫВОДЫ:</b>\n",
        "\n",
        "* лучшие результаты при борьбе с дисбалансом показало взвешивание классов class_weight\n",
        "* следует продолжить работу с моделью случайного леса при n_estimators = 40 и max_depth = 12"
      ]
    },
    {
      "cell_type": "markdown",
      "metadata": {
        "id": "8vUdqBsdpt7G"
      },
      "source": [
        "## Тестирование модели"
      ]
    },
    {
      "cell_type": "markdown",
      "metadata": {
        "id": "W1cr6z_Bpt7G"
      },
      "source": [
        "Обучим финальную модель и проверим её на тестовой выборке."
      ]
    },
    {
      "cell_type": "code",
      "execution_count": null,
      "metadata": {
        "id": "pwfx5hHZpt7H",
        "outputId": "6603e250-5fdb-4d7d-e8ea-8df8cd8314dc"
      },
      "outputs": [
        {
          "data": {
            "text/plain": [
              "0.614"
            ]
          },
          "execution_count": 41,
          "metadata": {},
          "output_type": "execute_result"
        }
      ],
      "source": [
        "# Модель случайного леса со взвешиванием классов\n",
        "model_final = RandomForestClassifier(random_state=12345, n_estimators=40, max_depth = 9, class_weight='balanced')\n",
        "model_final.fit(features_train, target_train)\n",
        "predicted_test = model_final.predict(features_test)\n",
        "round(f1_score(target_test, predicted_test), 3)"
      ]
    },
    {
      "cell_type": "markdown",
      "metadata": {
        "id": "59STH3c9pt7H"
      },
      "source": [
        "Требуемое значение F1-меры (>0.59) достигнуто."
      ]
    },
    {
      "cell_type": "markdown",
      "metadata": {
        "id": "kNf0LODOpt7I"
      },
      "source": [
        "Посчитаем площадь под ROC-кривой для модели AUC-ROC, чтобы понять, насколько ее точность отличается от случайной."
      ]
    },
    {
      "cell_type": "code",
      "execution_count": null,
      "metadata": {
        "id": "f1Dka_Pzpt7I",
        "outputId": "ff3a7ed2-8632-4d7a-9cd8-8454fe9c954a"
      },
      "outputs": [
        {
          "data": {
            "text/plain": [
              "0.855"
            ]
          },
          "execution_count": 42,
          "metadata": {},
          "output_type": "execute_result"
        }
      ],
      "source": [
        "probabilities_valid_final = model_final.predict_proba(features_valid)\n",
        "probabilities_one_valid_final = probabilities_valid_final[:, 1]\n",
        "round(roc_auc_score(target_valid, probabilities_one_valid_final), 3)"
      ]
    },
    {
      "cell_type": "code",
      "execution_count": null,
      "metadata": {
        "id": "rgfvz9THpt7J",
        "outputId": "38a056d8-c2f5-4f58-a63a-3bf7598431d0"
      },
      "outputs": [
        {
          "data": {
            "image/png": "[encoded data removed]",
            "text/plain": [
              "<Figure size 432x288 with 1 Axes>"
            ]
          },
          "metadata": {
            "needs_background": "light"
          },
          "output_type": "display_data"
        }
      ],
      "source": [
        "fpr, tpr, _ = roc_curve(target_valid, probabilities_one_valid_final)\n",
        "\n",
        "# Построим ROC-кривую\n",
        "plt.plot(fpr,tpr)\n",
        "plt.ylabel('True Positive Rate')\n",
        "plt.xlabel('False Positive Rate')\n",
        "plt.show()"
      ]
    },
    {
      "cell_type": "markdown",
      "metadata": {
        "id": "zazPRcOQpt7L"
      },
      "source": [
        "## Общий вывод"
      ]
    },
    {
      "cell_type": "markdown",
      "metadata": {
        "id": "8PR1-nKnpt7L"
      },
      "source": [
        "Данные изучены и подготовлены к исследованию:\n",
        "\n",
        "* категориальные признаки преобразованы в численные с помощью техники прямого кодирования One-Hot Encoding\n",
        "* подготовленный датасет разбит на обучающую, валидационную и тестовую выборки\n",
        "* признаки отмасштабированы методом стандартизации\n",
        "\n",
        "Исследован баланс классов:\n",
        " \n",
        "* классы несбалансированны\n",
        "* работа модели случайного леса показала лучшие результаты\n",
        "\n",
        "Борьба с дисбалансом:\n",
        "\n",
        "* применено три способа: аргумент class_weight, уменьшение выборки и изменение порога \n",
        "* class_weight показал лучший результат борьбы с дисбалансом\n",
        "* выявлены лучшие значения n_estimators и max_depth для модели случайного леса\n",
        "\n",
        "Финальная модель обучена и проверена на тестовой выборке. \n",
        "Достигнутое значение F1 = 0.61. \n",
        "Исследована метрика AUC-ROC. В нашем случае ее значение почти не отличается от значения для случайной модели (0.5)."
      ]
    }
  ],
  "metadata": {
    "ExecuteTimeLog": [
      {
        "duration": 1610,
        "start_time": "2022-04-29T14:02:58.835Z"
      },
      {
        "duration": 4,
        "start_time": "2022-04-29T14:03:12.036Z"
      },
      {
        "duration": 26,
        "start_time": "2022-04-29T14:03:42.001Z"
      },
      {
        "duration": 23,
        "start_time": "2022-04-29T14:04:30.272Z"
      },
      {
        "duration": 29,
        "start_time": "2022-04-29T14:04:33.174Z"
      },
      {
        "duration": 11,
        "start_time": "2022-04-29T14:06:18.315Z"
      },
      {
        "duration": 13,
        "start_time": "2022-04-29T14:06:29.736Z"
      },
      {
        "duration": 4,
        "start_time": "2022-04-29T14:12:44.432Z"
      },
      {
        "duration": 5,
        "start_time": "2022-04-29T14:13:04.975Z"
      },
      {
        "duration": 2,
        "start_time": "2022-04-29T14:15:22.658Z"
      },
      {
        "duration": 13,
        "start_time": "2022-04-29T14:15:46.038Z"
      },
      {
        "duration": 10,
        "start_time": "2022-04-29T14:15:54.294Z"
      },
      {
        "duration": 8,
        "start_time": "2022-04-29T14:16:40.072Z"
      },
      {
        "duration": 4,
        "start_time": "2022-04-29T14:27:36.931Z"
      },
      {
        "duration": 4,
        "start_time": "2022-04-29T14:28:26.763Z"
      },
      {
        "duration": 13,
        "start_time": "2022-04-29T14:30:25.510Z"
      },
      {
        "duration": 3,
        "start_time": "2022-04-29T14:35:53.223Z"
      },
      {
        "duration": 5,
        "start_time": "2022-04-29T14:36:34.686Z"
      },
      {
        "duration": 120,
        "start_time": "2022-05-02T11:47:10.856Z"
      },
      {
        "duration": 2592,
        "start_time": "2022-05-02T11:47:20.121Z"
      },
      {
        "duration": 48,
        "start_time": "2022-05-02T11:47:22.716Z"
      },
      {
        "duration": 35,
        "start_time": "2022-05-02T11:47:22.767Z"
      },
      {
        "duration": 43,
        "start_time": "2022-05-02T11:47:22.806Z"
      },
      {
        "duration": 15,
        "start_time": "2022-05-02T11:47:22.852Z"
      },
      {
        "duration": 19,
        "start_time": "2022-05-02T11:47:22.870Z"
      },
      {
        "duration": 45,
        "start_time": "2022-05-02T11:47:22.891Z"
      },
      {
        "duration": 6,
        "start_time": "2022-05-02T11:47:22.940Z"
      },
      {
        "duration": 11,
        "start_time": "2022-05-02T11:47:22.949Z"
      },
      {
        "duration": 18,
        "start_time": "2022-05-02T11:47:22.963Z"
      },
      {
        "duration": 43,
        "start_time": "2022-05-02T11:48:28.847Z"
      },
      {
        "duration": 286,
        "start_time": "2022-05-02T11:59:51.125Z"
      },
      {
        "duration": 14,
        "start_time": "2022-05-02T12:01:10.802Z"
      },
      {
        "duration": 16,
        "start_time": "2022-05-02T12:03:27.706Z"
      },
      {
        "duration": 130,
        "start_time": "2022-05-02T12:04:36.994Z"
      },
      {
        "duration": 40,
        "start_time": "2022-05-02T12:04:47.066Z"
      },
      {
        "duration": 6,
        "start_time": "2022-05-02T12:05:42.497Z"
      },
      {
        "duration": 5,
        "start_time": "2022-05-02T12:06:18.386Z"
      },
      {
        "duration": 5,
        "start_time": "2022-05-02T12:07:21.698Z"
      },
      {
        "duration": 44,
        "start_time": "2022-05-02T12:07:42.702Z"
      },
      {
        "duration": 187,
        "start_time": "2022-05-02T12:09:41.643Z"
      },
      {
        "duration": 1224,
        "start_time": "2022-05-02T12:18:15.690Z"
      },
      {
        "duration": 253,
        "start_time": "2022-05-02T12:20:55.290Z"
      },
      {
        "duration": 157,
        "start_time": "2022-05-02T12:25:06.819Z"
      },
      {
        "duration": 37,
        "start_time": "2022-05-02T12:27:41.581Z"
      },
      {
        "duration": 824,
        "start_time": "2022-05-02T12:28:10.208Z"
      },
      {
        "duration": 147,
        "start_time": "2022-05-02T12:28:16.390Z"
      },
      {
        "duration": 170,
        "start_time": "2022-05-02T12:28:21.235Z"
      },
      {
        "duration": 8,
        "start_time": "2022-05-02T12:30:32.674Z"
      },
      {
        "duration": 9,
        "start_time": "2022-05-02T12:34:10.105Z"
      },
      {
        "duration": 9,
        "start_time": "2022-05-02T12:35:02.122Z"
      },
      {
        "duration": 4,
        "start_time": "2022-05-02T12:38:45.401Z"
      },
      {
        "duration": 34,
        "start_time": "2022-05-02T12:39:45.922Z"
      },
      {
        "duration": 55,
        "start_time": "2022-05-02T12:39:52.371Z"
      },
      {
        "duration": 118,
        "start_time": "2022-05-02T12:39:59.416Z"
      },
      {
        "duration": 791,
        "start_time": "2022-05-02T12:41:07.689Z"
      },
      {
        "duration": 153,
        "start_time": "2022-05-02T12:41:29.973Z"
      },
      {
        "duration": 3,
        "start_time": "2022-05-02T12:42:30.972Z"
      },
      {
        "duration": 6,
        "start_time": "2022-05-02T12:44:06.872Z"
      },
      {
        "duration": 14,
        "start_time": "2022-05-02T12:44:32.761Z"
      },
      {
        "duration": 175,
        "start_time": "2022-05-02T12:45:19.915Z"
      },
      {
        "duration": 479,
        "start_time": "2022-05-02T12:46:17.228Z"
      },
      {
        "duration": 22,
        "start_time": "2022-05-02T12:47:44.584Z"
      },
      {
        "duration": 33,
        "start_time": "2022-05-02T12:48:37.126Z"
      },
      {
        "duration": 5,
        "start_time": "2022-05-02T12:49:40.245Z"
      },
      {
        "duration": 56,
        "start_time": "2022-05-02T12:50:13.834Z"
      },
      {
        "duration": 32,
        "start_time": "2022-05-02T12:52:12.876Z"
      },
      {
        "duration": 891,
        "start_time": "2022-05-02T12:53:17.650Z"
      },
      {
        "duration": 32,
        "start_time": "2022-05-02T12:54:00.617Z"
      },
      {
        "duration": 1645,
        "start_time": "2022-05-02T12:56:25.728Z"
      },
      {
        "duration": 1303,
        "start_time": "2022-05-02T12:56:50.049Z"
      },
      {
        "duration": 3968,
        "start_time": "2022-05-02T12:58:17.249Z"
      },
      {
        "duration": 526,
        "start_time": "2022-05-02T13:01:03.456Z"
      },
      {
        "duration": 156,
        "start_time": "2022-05-02T13:02:11.988Z"
      },
      {
        "duration": 46,
        "start_time": "2022-05-02T13:02:43.170Z"
      },
      {
        "duration": 182,
        "start_time": "2022-05-02T13:03:09.983Z"
      },
      {
        "duration": 89,
        "start_time": "2022-05-03T10:00:54.130Z"
      },
      {
        "duration": 2306,
        "start_time": "2022-05-03T10:01:50.210Z"
      },
      {
        "duration": 33,
        "start_time": "2022-05-03T10:01:52.519Z"
      },
      {
        "duration": 30,
        "start_time": "2022-05-03T10:01:52.556Z"
      },
      {
        "duration": 20,
        "start_time": "2022-05-03T10:01:52.590Z"
      },
      {
        "duration": 4,
        "start_time": "2022-05-03T10:01:52.612Z"
      },
      {
        "duration": 39,
        "start_time": "2022-05-03T10:01:52.618Z"
      },
      {
        "duration": 20,
        "start_time": "2022-05-03T10:01:52.660Z"
      },
      {
        "duration": 5,
        "start_time": "2022-05-03T10:01:52.682Z"
      },
      {
        "duration": 10,
        "start_time": "2022-05-03T10:01:52.689Z"
      },
      {
        "duration": 58,
        "start_time": "2022-05-03T10:01:52.702Z"
      },
      {
        "duration": 31,
        "start_time": "2022-05-03T10:01:52.764Z"
      },
      {
        "duration": 14,
        "start_time": "2022-05-03T10:01:52.798Z"
      },
      {
        "duration": 5,
        "start_time": "2022-05-03T10:01:52.814Z"
      },
      {
        "duration": 5,
        "start_time": "2022-05-03T10:01:52.852Z"
      },
      {
        "duration": 51,
        "start_time": "2022-05-03T10:01:52.859Z"
      },
      {
        "duration": 59,
        "start_time": "2022-05-03T10:01:52.912Z"
      },
      {
        "duration": 962,
        "start_time": "2022-05-03T10:01:53.053Z"
      },
      {
        "duration": 222,
        "start_time": "2022-05-03T10:01:54.017Z"
      },
      {
        "duration": 170,
        "start_time": "2022-05-03T10:01:54.241Z"
      },
      {
        "duration": 183,
        "start_time": "2022-05-03T10:01:54.414Z"
      },
      {
        "duration": 7,
        "start_time": "2022-05-03T10:01:54.599Z"
      },
      {
        "duration": 9,
        "start_time": "2022-05-03T10:01:54.608Z"
      },
      {
        "duration": 39,
        "start_time": "2022-05-03T10:01:54.619Z"
      },
      {
        "duration": 95,
        "start_time": "2022-05-03T10:01:54.660Z"
      },
      {
        "duration": 929,
        "start_time": "2022-05-03T10:01:54.758Z"
      },
      {
        "duration": 6,
        "start_time": "2022-05-03T10:01:55.689Z"
      },
      {
        "duration": 19,
        "start_time": "2022-05-03T10:01:55.697Z"
      },
      {
        "duration": 40,
        "start_time": "2022-05-03T10:01:55.720Z"
      },
      {
        "duration": 563,
        "start_time": "2022-05-03T10:01:55.763Z"
      },
      {
        "duration": 37,
        "start_time": "2022-05-03T10:01:56.328Z"
      },
      {
        "duration": 84,
        "start_time": "2022-05-03T10:01:56.368Z"
      },
      {
        "duration": 140,
        "start_time": "2022-05-03T10:01:56.455Z"
      },
      {
        "duration": 821,
        "start_time": "2022-05-03T10:01:56.597Z"
      },
      {
        "duration": 47,
        "start_time": "2022-05-03T10:01:57.420Z"
      },
      {
        "duration": 1142,
        "start_time": "2022-05-03T10:01:57.470Z"
      },
      {
        "duration": 3441,
        "start_time": "2022-05-03T10:01:58.614Z"
      },
      {
        "duration": 369,
        "start_time": "2022-05-03T10:02:02.058Z"
      },
      {
        "duration": 48,
        "start_time": "2022-05-03T10:02:02.429Z"
      },
      {
        "duration": 849,
        "start_time": "2022-05-03T11:18:53.142Z"
      },
      {
        "duration": 195,
        "start_time": "2022-05-03T11:54:54.444Z"
      },
      {
        "duration": 6,
        "start_time": "2022-05-03T11:55:20.048Z"
      },
      {
        "duration": 16,
        "start_time": "2022-05-03T11:55:23.740Z"
      },
      {
        "duration": 29,
        "start_time": "2022-05-03T11:55:27.118Z"
      },
      {
        "duration": 12,
        "start_time": "2022-05-03T11:55:31.386Z"
      },
      {
        "duration": 6,
        "start_time": "2022-05-03T11:55:33.859Z"
      },
      {
        "duration": 5,
        "start_time": "2022-05-03T11:55:38.356Z"
      },
      {
        "duration": 38,
        "start_time": "2022-05-03T11:55:39.056Z"
      },
      {
        "duration": 108,
        "start_time": "2022-05-03T11:55:43.847Z"
      },
      {
        "duration": 180,
        "start_time": "2022-05-03T11:55:50.733Z"
      },
      {
        "duration": 223,
        "start_time": "2022-05-03T11:55:55.495Z"
      },
      {
        "duration": 10,
        "start_time": "2022-05-03T11:56:04.626Z"
      },
      {
        "duration": 10,
        "start_time": "2022-05-03T11:58:05.974Z"
      },
      {
        "duration": 10,
        "start_time": "2022-05-03T11:58:09.105Z"
      },
      {
        "duration": 157,
        "start_time": "2022-05-03T11:58:58.899Z"
      },
      {
        "duration": 751,
        "start_time": "2022-05-03T11:59:01.040Z"
      },
      {
        "duration": 24,
        "start_time": "2022-05-03T12:00:59.193Z"
      },
      {
        "duration": 9,
        "start_time": "2022-05-03T12:01:02.055Z"
      },
      {
        "duration": 15,
        "start_time": "2022-05-03T12:01:02.764Z"
      },
      {
        "duration": 24,
        "start_time": "2022-05-03T12:01:03.376Z"
      },
      {
        "duration": 352,
        "start_time": "2022-05-03T12:01:04.959Z"
      },
      {
        "duration": 27,
        "start_time": "2022-05-03T12:02:49.278Z"
      },
      {
        "duration": 5,
        "start_time": "2022-05-03T12:02:50.128Z"
      },
      {
        "duration": 33,
        "start_time": "2022-05-03T12:02:54.419Z"
      },
      {
        "duration": 963,
        "start_time": "2022-05-03T12:03:07.536Z"
      },
      {
        "duration": 339,
        "start_time": "2022-05-03T12:03:35.637Z"
      },
      {
        "duration": 29,
        "start_time": "2022-05-03T12:04:05.153Z"
      },
      {
        "duration": 6,
        "start_time": "2022-05-03T12:06:41.802Z"
      },
      {
        "duration": 72,
        "start_time": "2022-05-03T17:46:44.908Z"
      },
      {
        "duration": 2539,
        "start_time": "2022-05-03T17:46:57.389Z"
      },
      {
        "duration": 35,
        "start_time": "2022-05-03T17:46:59.932Z"
      },
      {
        "duration": 25,
        "start_time": "2022-05-03T17:46:59.970Z"
      },
      {
        "duration": 26,
        "start_time": "2022-05-03T17:46:59.999Z"
      },
      {
        "duration": 27,
        "start_time": "2022-05-03T17:47:00.027Z"
      },
      {
        "duration": 13,
        "start_time": "2022-05-03T17:47:00.056Z"
      },
      {
        "duration": 24,
        "start_time": "2022-05-03T17:47:00.071Z"
      },
      {
        "duration": 7,
        "start_time": "2022-05-03T17:47:00.097Z"
      },
      {
        "duration": 9,
        "start_time": "2022-05-03T17:47:00.106Z"
      },
      {
        "duration": 17,
        "start_time": "2022-05-03T17:47:00.151Z"
      },
      {
        "duration": 32,
        "start_time": "2022-05-03T17:47:00.171Z"
      },
      {
        "duration": 14,
        "start_time": "2022-05-03T17:47:00.205Z"
      },
      {
        "duration": 35,
        "start_time": "2022-05-03T17:47:00.222Z"
      },
      {
        "duration": 34,
        "start_time": "2022-05-03T17:47:00.260Z"
      },
      {
        "duration": 52,
        "start_time": "2022-05-03T17:47:00.297Z"
      },
      {
        "duration": 202,
        "start_time": "2022-05-03T17:47:00.351Z"
      },
      {
        "duration": 875,
        "start_time": "2022-05-03T17:47:00.556Z"
      },
      {
        "duration": 219,
        "start_time": "2022-05-03T17:47:01.434Z"
      },
      {
        "duration": 174,
        "start_time": "2022-05-03T17:47:01.656Z"
      },
      {
        "duration": 176,
        "start_time": "2022-05-03T17:47:01.833Z"
      },
      {
        "duration": 8,
        "start_time": "2022-05-03T17:47:02.011Z"
      },
      {
        "duration": 18,
        "start_time": "2022-05-03T17:47:02.021Z"
      },
      {
        "duration": 16,
        "start_time": "2022-05-03T17:47:02.041Z"
      },
      {
        "duration": 101,
        "start_time": "2022-05-03T17:47:02.059Z"
      },
      {
        "duration": 774,
        "start_time": "2022-05-03T17:47:02.253Z"
      },
      {
        "duration": 6,
        "start_time": "2022-05-03T17:47:03.029Z"
      },
      {
        "duration": 27,
        "start_time": "2022-05-03T17:47:03.037Z"
      },
      {
        "duration": 85,
        "start_time": "2022-05-03T17:47:03.070Z"
      },
      {
        "duration": 449,
        "start_time": "2022-05-03T17:47:03.159Z"
      },
      {
        "duration": 45,
        "start_time": "2022-05-03T17:47:03.610Z"
      },
      {
        "duration": 7,
        "start_time": "2022-05-03T17:47:03.658Z"
      },
      {
        "duration": 204,
        "start_time": "2022-05-03T17:47:03.669Z"
      },
      {
        "duration": 737,
        "start_time": "2022-05-03T17:47:03.875Z"
      },
      {
        "duration": 47,
        "start_time": "2022-05-03T17:47:04.614Z"
      },
      {
        "duration": 1047,
        "start_time": "2022-05-03T17:47:04.663Z"
      },
      {
        "duration": 3058,
        "start_time": "2022-05-03T17:47:05.713Z"
      },
      {
        "duration": 348,
        "start_time": "2022-05-03T17:47:08.774Z"
      },
      {
        "duration": 45,
        "start_time": "2022-05-03T17:47:09.125Z"
      },
      {
        "duration": 118,
        "start_time": "2022-05-03T17:48:27.941Z"
      },
      {
        "duration": 831,
        "start_time": "2022-05-03T17:48:40.939Z"
      },
      {
        "duration": 335,
        "start_time": "2022-05-03T17:50:57.203Z"
      },
      {
        "duration": 6,
        "start_time": "2022-05-03T17:54:03.359Z"
      },
      {
        "duration": 162,
        "start_time": "2022-05-03T17:58:18.483Z"
      },
      {
        "duration": 6,
        "start_time": "2022-05-03T17:59:07.581Z"
      },
      {
        "duration": 13,
        "start_time": "2022-05-03T17:59:21.702Z"
      },
      {
        "duration": 12,
        "start_time": "2022-05-03T17:59:33.258Z"
      },
      {
        "duration": 15,
        "start_time": "2022-05-03T17:59:40.711Z"
      },
      {
        "duration": 178,
        "start_time": "2022-05-03T18:00:28.113Z"
      },
      {
        "duration": 365,
        "start_time": "2022-05-03T18:01:26.763Z"
      },
      {
        "duration": 2101,
        "start_time": "2022-05-04T14:50:43.589Z"
      },
      {
        "duration": 36,
        "start_time": "2022-05-04T14:50:45.696Z"
      },
      {
        "duration": 26,
        "start_time": "2022-05-04T14:50:45.734Z"
      },
      {
        "duration": 38,
        "start_time": "2022-05-04T14:50:45.764Z"
      },
      {
        "duration": 6,
        "start_time": "2022-05-04T14:50:45.804Z"
      },
      {
        "duration": 14,
        "start_time": "2022-05-04T14:50:45.812Z"
      },
      {
        "duration": 20,
        "start_time": "2022-05-04T14:50:45.828Z"
      },
      {
        "duration": 5,
        "start_time": "2022-05-04T14:50:45.850Z"
      },
      {
        "duration": 44,
        "start_time": "2022-05-04T14:50:45.857Z"
      },
      {
        "duration": 16,
        "start_time": "2022-05-04T14:50:45.906Z"
      },
      {
        "duration": 32,
        "start_time": "2022-05-04T14:50:45.924Z"
      },
      {
        "duration": 35,
        "start_time": "2022-05-04T14:50:45.959Z"
      },
      {
        "duration": 5,
        "start_time": "2022-05-04T14:50:45.997Z"
      },
      {
        "duration": 7,
        "start_time": "2022-05-04T14:50:46.004Z"
      },
      {
        "duration": 43,
        "start_time": "2022-05-04T14:50:46.013Z"
      },
      {
        "duration": 139,
        "start_time": "2022-05-04T14:50:46.058Z"
      },
      {
        "duration": 913,
        "start_time": "2022-05-04T14:50:46.201Z"
      },
      {
        "duration": 216,
        "start_time": "2022-05-04T14:50:47.116Z"
      },
      {
        "duration": 183,
        "start_time": "2022-05-04T14:50:47.334Z"
      },
      {
        "duration": 174,
        "start_time": "2022-05-04T14:50:47.519Z"
      },
      {
        "duration": 8,
        "start_time": "2022-05-04T14:50:47.696Z"
      },
      {
        "duration": 10,
        "start_time": "2022-05-04T14:50:47.706Z"
      },
      {
        "duration": 8,
        "start_time": "2022-05-04T14:50:47.718Z"
      },
      {
        "duration": 74,
        "start_time": "2022-05-04T14:50:47.728Z"
      },
      {
        "duration": 872,
        "start_time": "2022-05-04T14:50:47.883Z"
      },
      {
        "duration": 7,
        "start_time": "2022-05-04T14:50:48.757Z"
      },
      {
        "duration": 19,
        "start_time": "2022-05-04T14:50:48.781Z"
      },
      {
        "duration": 93,
        "start_time": "2022-05-04T14:50:48.806Z"
      },
      {
        "duration": 385,
        "start_time": "2022-05-04T14:50:48.981Z"
      },
      {
        "duration": 34,
        "start_time": "2022-05-04T14:50:49.368Z"
      },
      {
        "duration": 77,
        "start_time": "2022-05-04T14:50:49.405Z"
      },
      {
        "duration": 133,
        "start_time": "2022-05-04T14:50:49.491Z"
      },
      {
        "duration": 781,
        "start_time": "2022-05-04T14:50:49.626Z"
      },
      {
        "duration": 32,
        "start_time": "2022-05-04T14:50:50.409Z"
      },
      {
        "duration": 1104,
        "start_time": "2022-05-04T14:50:50.444Z"
      },
      {
        "duration": 3212,
        "start_time": "2022-05-04T14:50:51.550Z"
      },
      {
        "duration": 375,
        "start_time": "2022-05-04T14:50:54.764Z"
      },
      {
        "duration": 46,
        "start_time": "2022-05-04T14:50:55.141Z"
      },
      {
        "duration": 195,
        "start_time": "2022-05-04T14:50:55.190Z"
      },
      {
        "duration": 32,
        "start_time": "2022-05-04T14:59:23.942Z"
      },
      {
        "duration": 1655,
        "start_time": "2022-05-05T08:08:35.167Z"
      },
      {
        "duration": 31,
        "start_time": "2022-05-05T08:08:36.824Z"
      },
      {
        "duration": 17,
        "start_time": "2022-05-05T08:08:36.857Z"
      },
      {
        "duration": 16,
        "start_time": "2022-05-05T08:08:36.877Z"
      },
      {
        "duration": 5,
        "start_time": "2022-05-05T08:08:36.909Z"
      },
      {
        "duration": 15,
        "start_time": "2022-05-05T08:08:36.915Z"
      },
      {
        "duration": 15,
        "start_time": "2022-05-05T08:08:36.932Z"
      },
      {
        "duration": 4,
        "start_time": "2022-05-05T08:08:36.949Z"
      },
      {
        "duration": 6,
        "start_time": "2022-05-05T08:08:36.955Z"
      },
      {
        "duration": 47,
        "start_time": "2022-05-05T08:08:36.963Z"
      },
      {
        "duration": 26,
        "start_time": "2022-05-05T08:08:37.012Z"
      },
      {
        "duration": 143,
        "start_time": "2022-05-05T08:08:37.040Z"
      },
      {
        "duration": 0,
        "start_time": "2022-05-05T08:08:37.187Z"
      },
      {
        "duration": 0,
        "start_time": "2022-05-05T08:08:37.188Z"
      },
      {
        "duration": 0,
        "start_time": "2022-05-05T08:08:37.190Z"
      },
      {
        "duration": 0,
        "start_time": "2022-05-05T08:08:37.192Z"
      },
      {
        "duration": 1,
        "start_time": "2022-05-05T08:08:37.192Z"
      },
      {
        "duration": 0,
        "start_time": "2022-05-05T08:08:37.194Z"
      },
      {
        "duration": 0,
        "start_time": "2022-05-05T08:08:37.207Z"
      },
      {
        "duration": 0,
        "start_time": "2022-05-05T08:08:37.209Z"
      },
      {
        "duration": 0,
        "start_time": "2022-05-05T08:08:37.210Z"
      },
      {
        "duration": 0,
        "start_time": "2022-05-05T08:08:37.212Z"
      },
      {
        "duration": 0,
        "start_time": "2022-05-05T08:08:37.213Z"
      },
      {
        "duration": 0,
        "start_time": "2022-05-05T08:08:37.214Z"
      },
      {
        "duration": 0,
        "start_time": "2022-05-05T08:08:37.215Z"
      },
      {
        "duration": 0,
        "start_time": "2022-05-05T08:08:37.216Z"
      },
      {
        "duration": 0,
        "start_time": "2022-05-05T08:08:37.218Z"
      },
      {
        "duration": 0,
        "start_time": "2022-05-05T08:08:37.219Z"
      },
      {
        "duration": 0,
        "start_time": "2022-05-05T08:08:37.221Z"
      },
      {
        "duration": 0,
        "start_time": "2022-05-05T08:08:37.222Z"
      },
      {
        "duration": 0,
        "start_time": "2022-05-05T08:08:37.224Z"
      },
      {
        "duration": 0,
        "start_time": "2022-05-05T08:08:37.225Z"
      },
      {
        "duration": 0,
        "start_time": "2022-05-05T08:08:37.227Z"
      },
      {
        "duration": 0,
        "start_time": "2022-05-05T08:08:37.228Z"
      },
      {
        "duration": 0,
        "start_time": "2022-05-05T08:08:37.230Z"
      },
      {
        "duration": 0,
        "start_time": "2022-05-05T08:08:37.231Z"
      },
      {
        "duration": 0,
        "start_time": "2022-05-05T08:08:37.232Z"
      },
      {
        "duration": 0,
        "start_time": "2022-05-05T08:08:37.233Z"
      },
      {
        "duration": 13,
        "start_time": "2022-05-05T08:09:18.263Z"
      },
      {
        "duration": 11,
        "start_time": "2022-05-05T08:09:36.073Z"
      },
      {
        "duration": 3,
        "start_time": "2022-05-05T08:09:36.763Z"
      },
      {
        "duration": 1739,
        "start_time": "2022-05-05T08:09:44.817Z"
      },
      {
        "duration": 35,
        "start_time": "2022-05-05T08:09:46.559Z"
      },
      {
        "duration": 23,
        "start_time": "2022-05-05T08:09:46.596Z"
      },
      {
        "duration": 18,
        "start_time": "2022-05-05T08:09:46.622Z"
      },
      {
        "duration": 4,
        "start_time": "2022-05-05T08:09:46.642Z"
      },
      {
        "duration": 12,
        "start_time": "2022-05-05T08:09:46.648Z"
      },
      {
        "duration": 45,
        "start_time": "2022-05-05T08:09:46.662Z"
      },
      {
        "duration": 5,
        "start_time": "2022-05-05T08:09:46.709Z"
      },
      {
        "duration": 7,
        "start_time": "2022-05-05T08:09:46.716Z"
      },
      {
        "duration": 13,
        "start_time": "2022-05-05T08:09:46.728Z"
      },
      {
        "duration": 26,
        "start_time": "2022-05-05T08:09:46.744Z"
      },
      {
        "duration": 42,
        "start_time": "2022-05-05T08:09:46.773Z"
      },
      {
        "duration": 6,
        "start_time": "2022-05-05T08:09:46.817Z"
      },
      {
        "duration": 5,
        "start_time": "2022-05-05T08:09:46.826Z"
      },
      {
        "duration": 49,
        "start_time": "2022-05-05T08:09:46.833Z"
      },
      {
        "duration": 138,
        "start_time": "2022-05-05T08:09:46.884Z"
      },
      {
        "duration": 922,
        "start_time": "2022-05-05T08:09:47.026Z"
      },
      {
        "duration": 174,
        "start_time": "2022-05-05T08:09:47.949Z"
      },
      {
        "duration": 123,
        "start_time": "2022-05-05T08:09:48.125Z"
      },
      {
        "duration": 139,
        "start_time": "2022-05-05T08:09:48.250Z"
      },
      {
        "duration": 17,
        "start_time": "2022-05-05T08:09:48.391Z"
      },
      {
        "duration": 7,
        "start_time": "2022-05-05T08:09:48.410Z"
      },
      {
        "duration": 14,
        "start_time": "2022-05-05T08:09:48.420Z"
      },
      {
        "duration": 173,
        "start_time": "2022-05-05T08:09:48.436Z"
      },
      {
        "duration": 664,
        "start_time": "2022-05-05T08:09:48.611Z"
      },
      {
        "duration": 5,
        "start_time": "2022-05-05T08:09:49.277Z"
      },
      {
        "duration": 27,
        "start_time": "2022-05-05T08:09:49.284Z"
      },
      {
        "duration": 106,
        "start_time": "2022-05-05T08:09:49.316Z"
      },
      {
        "duration": 304,
        "start_time": "2022-05-05T08:09:49.508Z"
      },
      {
        "duration": 31,
        "start_time": "2022-05-05T08:09:49.813Z"
      },
      {
        "duration": 9,
        "start_time": "2022-05-05T08:09:49.909Z"
      },
      {
        "duration": 109,
        "start_time": "2022-05-05T08:09:49.920Z"
      },
      {
        "duration": 611,
        "start_time": "2022-05-05T08:09:50.031Z"
      },
      {
        "duration": 28,
        "start_time": "2022-05-05T08:09:50.644Z"
      },
      {
        "duration": 801,
        "start_time": "2022-05-05T08:09:50.674Z"
      },
      {
        "duration": 2300,
        "start_time": "2022-05-05T08:09:51.477Z"
      },
      {
        "duration": 249,
        "start_time": "2022-05-05T08:09:53.779Z"
      },
      {
        "duration": 25,
        "start_time": "2022-05-05T08:09:54.030Z"
      },
      {
        "duration": 135,
        "start_time": "2022-05-05T08:09:54.057Z"
      },
      {
        "duration": 26,
        "start_time": "2022-05-05T08:16:43.680Z"
      },
      {
        "duration": 551,
        "start_time": "2022-05-05T08:17:00.189Z"
      },
      {
        "duration": 95,
        "start_time": "2022-05-05T08:19:54.360Z"
      },
      {
        "duration": 4,
        "start_time": "2022-05-05T08:33:39.129Z"
      },
      {
        "duration": 10,
        "start_time": "2022-05-05T08:33:46.448Z"
      },
      {
        "duration": 5,
        "start_time": "2022-05-05T08:33:49.040Z"
      },
      {
        "duration": 11,
        "start_time": "2022-05-05T08:33:53.431Z"
      },
      {
        "duration": 5,
        "start_time": "2022-05-05T08:33:56.434Z"
      },
      {
        "duration": 6,
        "start_time": "2022-05-05T08:36:14.290Z"
      },
      {
        "duration": 10,
        "start_time": "2022-05-05T08:36:31.926Z"
      },
      {
        "duration": 5,
        "start_time": "2022-05-05T08:36:39.420Z"
      },
      {
        "duration": 11,
        "start_time": "2022-05-05T08:36:51.692Z"
      },
      {
        "duration": 5,
        "start_time": "2022-05-05T08:36:52.563Z"
      },
      {
        "duration": 23,
        "start_time": "2022-05-05T08:37:09.548Z"
      },
      {
        "duration": 21,
        "start_time": "2022-05-05T08:37:27.260Z"
      },
      {
        "duration": 368,
        "start_time": "2022-05-05T08:37:35.477Z"
      },
      {
        "duration": 64,
        "start_time": "2022-05-05T08:45:36.652Z"
      },
      {
        "duration": 318,
        "start_time": "2022-05-05T08:45:39.038Z"
      },
      {
        "duration": 537,
        "start_time": "2022-05-05T08:45:51.108Z"
      },
      {
        "duration": 25,
        "start_time": "2022-05-05T08:45:57.294Z"
      },
      {
        "duration": 851,
        "start_time": "2022-05-05T08:48:14.523Z"
      },
      {
        "duration": 786,
        "start_time": "2022-05-05T08:49:33.780Z"
      },
      {
        "duration": 3,
        "start_time": "2022-05-05T08:50:20.492Z"
      },
      {
        "duration": 751,
        "start_time": "2022-05-05T08:51:33.834Z"
      },
      {
        "duration": 770,
        "start_time": "2022-05-05T08:52:37.999Z"
      },
      {
        "duration": 820,
        "start_time": "2022-05-05T08:53:02.762Z"
      },
      {
        "duration": 2354,
        "start_time": "2022-05-05T09:45:35.365Z"
      },
      {
        "duration": 364,
        "start_time": "2022-05-05T09:47:08.307Z"
      },
      {
        "duration": 2294,
        "start_time": "2022-05-05T09:47:15.520Z"
      },
      {
        "duration": 3167,
        "start_time": "2022-05-05T09:47:36.018Z"
      },
      {
        "duration": 93,
        "start_time": "2022-05-05T09:48:20.976Z"
      },
      {
        "duration": 3298,
        "start_time": "2022-05-05T09:50:20.778Z"
      },
      {
        "duration": 3400,
        "start_time": "2022-05-05T09:50:37.139Z"
      },
      {
        "duration": 234,
        "start_time": "2022-05-05T09:52:43.417Z"
      },
      {
        "duration": 287,
        "start_time": "2022-05-05T09:52:58.830Z"
      },
      {
        "duration": 241,
        "start_time": "2022-05-05T09:53:05.147Z"
      },
      {
        "duration": 25,
        "start_time": "2022-05-05T09:56:43.596Z"
      },
      {
        "duration": 27,
        "start_time": "2022-05-05T10:01:16.379Z"
      },
      {
        "duration": 116,
        "start_time": "2022-05-05T10:02:07.651Z"
      },
      {
        "duration": 1546,
        "start_time": "2022-05-05T10:11:58.243Z"
      },
      {
        "duration": 28,
        "start_time": "2022-05-05T10:11:59.791Z"
      },
      {
        "duration": 18,
        "start_time": "2022-05-05T10:11:59.820Z"
      },
      {
        "duration": 15,
        "start_time": "2022-05-05T10:11:59.840Z"
      },
      {
        "duration": 4,
        "start_time": "2022-05-05T10:11:59.857Z"
      },
      {
        "duration": 12,
        "start_time": "2022-05-05T10:11:59.862Z"
      },
      {
        "duration": 35,
        "start_time": "2022-05-05T10:11:59.876Z"
      },
      {
        "duration": 5,
        "start_time": "2022-05-05T10:11:59.913Z"
      },
      {
        "duration": 7,
        "start_time": "2022-05-05T10:11:59.920Z"
      },
      {
        "duration": 13,
        "start_time": "2022-05-05T10:11:59.930Z"
      },
      {
        "duration": 23,
        "start_time": "2022-05-05T10:11:59.945Z"
      },
      {
        "duration": 12,
        "start_time": "2022-05-05T10:12:00.007Z"
      },
      {
        "duration": 7,
        "start_time": "2022-05-05T10:12:00.021Z"
      },
      {
        "duration": 11,
        "start_time": "2022-05-05T10:12:00.030Z"
      },
      {
        "duration": 43,
        "start_time": "2022-05-05T10:12:00.043Z"
      },
      {
        "duration": 39,
        "start_time": "2022-05-05T10:12:00.088Z"
      },
      {
        "duration": 675,
        "start_time": "2022-05-05T10:12:00.208Z"
      },
      {
        "duration": 142,
        "start_time": "2022-05-05T10:12:00.885Z"
      },
      {
        "duration": 118,
        "start_time": "2022-05-05T10:12:01.029Z"
      },
      {
        "duration": 117,
        "start_time": "2022-05-05T10:12:01.149Z"
      },
      {
        "duration": 6,
        "start_time": "2022-05-05T10:12:01.267Z"
      },
      {
        "duration": 9,
        "start_time": "2022-05-05T10:12:01.275Z"
      },
      {
        "duration": 18,
        "start_time": "2022-05-05T10:12:01.307Z"
      },
      {
        "duration": 81,
        "start_time": "2022-05-05T10:12:01.327Z"
      },
      {
        "duration": 649,
        "start_time": "2022-05-05T10:12:01.410Z"
      },
      {
        "duration": 5,
        "start_time": "2022-05-05T10:12:02.061Z"
      },
      {
        "duration": 33,
        "start_time": "2022-05-05T10:12:02.068Z"
      },
      {
        "duration": 10,
        "start_time": "2022-05-05T10:12:02.105Z"
      },
      {
        "duration": 5,
        "start_time": "2022-05-05T10:12:02.117Z"
      },
      {
        "duration": 17,
        "start_time": "2022-05-05T10:12:02.124Z"
      },
      {
        "duration": 419,
        "start_time": "2022-05-05T10:12:02.209Z"
      },
      {
        "duration": 20,
        "start_time": "2022-05-05T10:12:02.630Z"
      },
      {
        "duration": 58,
        "start_time": "2022-05-05T10:12:02.652Z"
      },
      {
        "duration": 118,
        "start_time": "2022-05-05T10:12:02.712Z"
      },
      {
        "duration": 555,
        "start_time": "2022-05-05T10:12:02.832Z"
      },
      {
        "duration": 32,
        "start_time": "2022-05-05T10:12:03.389Z"
      },
      {
        "duration": 825,
        "start_time": "2022-05-05T10:12:03.423Z"
      },
      {
        "duration": 864,
        "start_time": "2022-05-05T10:12:04.249Z"
      },
      {
        "duration": 2319,
        "start_time": "2022-05-05T10:12:05.115Z"
      },
      {
        "duration": 3328,
        "start_time": "2022-05-05T10:12:07.436Z"
      },
      {
        "duration": 256,
        "start_time": "2022-05-05T10:12:10.766Z"
      },
      {
        "duration": 25,
        "start_time": "2022-05-05T10:12:11.024Z"
      },
      {
        "duration": 142,
        "start_time": "2022-05-05T10:12:11.050Z"
      },
      {
        "duration": 67,
        "start_time": "2022-05-05T10:34:35.896Z"
      }
    ],
    "kernelspec": {
      "display_name": "Python 3 (ipykernel)",
      "language": "python",
      "name": "python3"
    },
    "language_info": {
      "codemirror_mode": {
        "name": "ipython",
        "version": 3
      },
      "file_extension": ".py",
      "mimetype": "text/x-python",
      "name": "python",
      "nbconvert_exporter": "python",
      "pygments_lexer": "ipython3",
      "version": "3.9.5"
    },
    "toc": {
      "base_numbering": 1,
      "nav_menu": {},
      "number_sections": true,
      "sideBar": true,
      "skip_h1_title": true,
      "title_cell": "Содержание",
      "title_sidebar": "Contents",
      "toc_cell": true,
      "toc_position": {},
      "toc_section_display": true,
      "toc_window_display": false
    },
    "colab": {
      "provenance": []
    }
  },
  "nbformat": 4,
  "nbformat_minor": 0
}