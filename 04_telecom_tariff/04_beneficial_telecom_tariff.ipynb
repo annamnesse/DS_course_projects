{
  "cells": [
    {
      "cell_type": "markdown",
      "metadata": {
        "id": "SNf3mBFG191n"
      },
      "source": [
        "## Описание проекта"
      ]
    },
    {
      "cell_type": "markdown",
      "metadata": {
        "id": "db2TsOZf191n"
      },
      "source": [
        "Компания «Мегалайн» — федеральный оператор сотовой связи. Клиентам предлагают два тарифных плана: «Смарт» и «Ультра». Чтобы скорректировать рекламный бюджет, коммерческий департамент хочет понять, какой тариф приносит больше денег.\n",
        "\n",
        "Вам предстоит сделать предварительный анализ тарифов на небольшой выборке клиентов. В вашем распоряжении данные 500 пользователей «Мегалайна»: кто они, откуда, каким тарифом пользуются, сколько звонков и сообщений каждый отправил за 2018 год. Нужно проанализировать поведение клиентов и сделать вывод — какой тариф лучше."
      ]
    },
    {
      "cell_type": "markdown",
      "metadata": {
        "id": "NBTWIi6w191o"
      },
      "source": [
        "## 1. Изучение данных"
      ]
    },
    {
      "cell_type": "markdown",
      "metadata": {
        "id": "DtoDsb7F191p"
      },
      "source": [
        "Начинаем с импорта библиотек"
      ]
    },
    {
      "cell_type": "code",
      "execution_count": null,
      "metadata": {
        "id": "4TLl6vTR191q"
      },
      "outputs": [],
      "source": [
        "import pandas as pd\n",
        "import numpy as np\n",
        "\n",
        "import matplotlib.pyplot as plt\n",
        "import seaborn as sns\n",
        "\n",
        "import math as mt\n",
        "from scipy import stats as st"
      ]
    },
    {
      "cell_type": "markdown",
      "metadata": {
        "id": "JbKJpNj9191s"
      },
      "source": [
        "##### Таблица users (информация о пользователях):\n",
        "\n",
        "* user_id — уникальный идентификатор пользователя\n",
        "* first_name — имя пользователя\n",
        "* last_name — фамилия пользователя\n",
        "* age — возраст пользователя (годы)\n",
        "* reg_date — дата подключения тарифа (день, месяц, год)\n",
        "* churn_date — дата прекращения пользования тарифом (если значение пропущено, то тариф ещё действовал на момент выгрузки данных)\n",
        "* city — город проживания пользователя\n",
        "* tariff — название тарифного плана"
      ]
    },
    {
      "cell_type": "code",
      "execution_count": null,
      "metadata": {
        "id": "MwzHX4iJ191s",
        "outputId": "aaa25d5f-a8bd-4759-c634-a80d53e1a2b0"
      },
      "outputs": [
        {
          "name": "stdout",
          "output_type": "stream",
          "text": [
            "<class 'pandas.core.frame.DataFrame'>\n",
            "RangeIndex: 500 entries, 0 to 499\n",
            "Data columns (total 8 columns):\n",
            "user_id       500 non-null int64\n",
            "age           500 non-null int64\n",
            "churn_date    38 non-null object\n",
            "city          500 non-null object\n",
            "first_name    500 non-null object\n",
            "last_name     500 non-null object\n",
            "reg_date      500 non-null object\n",
            "tariff        500 non-null object\n",
            "dtypes: int64(2), object(6)\n",
            "memory usage: 31.4+ KB\n"
          ]
        }
      ],
      "source": [
        "users = pd.read_csv('https://code.s3.yandex.net/datasets/users.csv')\n",
        "users.info()\n",
        "#users.head()"
      ]
    },
    {
      "cell_type": "markdown",
      "metadata": {
        "id": "fjJ3lhc1191u"
      },
      "source": [
        "<b>Вывод:</b>\n",
        "\n",
        "Датасет выглядит ровно, за исключением столбца churn_date с малым количеством значений. Судя по исходным условиям, пропущенное значение означает действие тарифа на момент выгрузки данных. Поэтому данная аномалия не требует заполнения пропусков.\n",
        "\n",
        "Что касается несоответствия типов данных, то напрашивается конверсия столбцов churn_date и reg_date в тип datetime."
      ]
    },
    {
      "cell_type": "markdown",
      "metadata": {
        "id": "xlAEbJeJ191v"
      },
      "source": [
        "##### Таблица calls (информация о звонках):\n",
        "* id — уникальный номер звонка\n",
        "* call_date — дата звонка\n",
        "* duration — длительность звонка в минутах\n",
        "* user_id — идентификатор пользователя, сделавшего звонок"
      ]
    },
    {
      "cell_type": "code",
      "execution_count": null,
      "metadata": {
        "id": "lgok1Klr191w",
        "outputId": "9f673070-7203-4f3c-a7a2-b002341d3324"
      },
      "outputs": [
        {
          "data": {
            "text/html": [
              "<div>\n",
              "<style scoped>\n",
              "    .dataframe tbody tr th:only-of-type {\n",
              "        vertical-align: middle;\n",
              "    }\n",
              "\n",
              "    .dataframe tbody tr th {\n",
              "        vertical-align: top;\n",
              "    }\n",
              "\n",
              "    .dataframe thead th {\n",
              "        text-align: right;\n",
              "    }\n",
              "</style>\n",
              "<table border=\"1\" class=\"dataframe\">\n",
              "  <thead>\n",
              "    <tr style=\"text-align: right;\">\n",
              "      <th></th>\n",
              "      <th>id</th>\n",
              "      <th>call_date</th>\n",
              "      <th>duration</th>\n",
              "      <th>user_id</th>\n",
              "    </tr>\n",
              "  </thead>\n",
              "  <tbody>\n",
              "    <tr>\n",
              "      <td>0</td>\n",
              "      <td>1000_0</td>\n",
              "      <td>2018-07-25</td>\n",
              "      <td>0.00</td>\n",
              "      <td>1000</td>\n",
              "    </tr>\n",
              "    <tr>\n",
              "      <td>1</td>\n",
              "      <td>1000_1</td>\n",
              "      <td>2018-08-17</td>\n",
              "      <td>0.00</td>\n",
              "      <td>1000</td>\n",
              "    </tr>\n",
              "    <tr>\n",
              "      <td>2</td>\n",
              "      <td>1000_2</td>\n",
              "      <td>2018-06-11</td>\n",
              "      <td>2.85</td>\n",
              "      <td>1000</td>\n",
              "    </tr>\n",
              "    <tr>\n",
              "      <td>3</td>\n",
              "      <td>1000_3</td>\n",
              "      <td>2018-09-21</td>\n",
              "      <td>13.80</td>\n",
              "      <td>1000</td>\n",
              "    </tr>\n",
              "    <tr>\n",
              "      <td>4</td>\n",
              "      <td>1000_4</td>\n",
              "      <td>2018-12-15</td>\n",
              "      <td>5.18</td>\n",
              "      <td>1000</td>\n",
              "    </tr>\n",
              "  </tbody>\n",
              "</table>\n",
              "</div>"
            ],
            "text/plain": [
              "       id   call_date  duration  user_id\n",
              "0  1000_0  2018-07-25      0.00     1000\n",
              "1  1000_1  2018-08-17      0.00     1000\n",
              "2  1000_2  2018-06-11      2.85     1000\n",
              "3  1000_3  2018-09-21     13.80     1000\n",
              "4  1000_4  2018-12-15      5.18     1000"
            ]
          },
          "execution_count": 3,
          "metadata": {},
          "output_type": "execute_result"
        }
      ],
      "source": [
        "calls = pd.read_csv('https://code.s3.yandex.net/datasets/calls.csv')\n",
        "calls.head()"
      ]
    },
    {
      "cell_type": "code",
      "execution_count": null,
      "metadata": {
        "id": "LPnvuR5E191x",
        "outputId": "bb2ce504-d6e5-4bfd-d6fa-4a321e89f998"
      },
      "outputs": [
        {
          "name": "stdout",
          "output_type": "stream",
          "text": [
            "<class 'pandas.core.frame.DataFrame'>\n",
            "RangeIndex: 202607 entries, 0 to 202606\n",
            "Data columns (total 4 columns):\n",
            "id           202607 non-null object\n",
            "call_date    202607 non-null object\n",
            "duration     202607 non-null float64\n",
            "user_id      202607 non-null int64\n",
            "dtypes: float64(1), int64(1), object(2)\n",
            "memory usage: 6.2+ MB\n"
          ]
        }
      ],
      "source": [
        "calls.info()"
      ]
    },
    {
      "cell_type": "markdown",
      "metadata": {
        "id": "Lpz6pUcl191y"
      },
      "source": [
        "<b>Вывод:</b>\n",
        "\n",
        "Датасет с одинаковым числом значений по столбцам - явных пропусков не обнаружено.\n",
        "\n",
        "Согласно исходным условиям, <i>«Мегалайн» всегда округляет секунды до минут, а мегабайты — до гигабайт. Каждый звонок округляется отдельно: даже если он длился всего 1 секунду, будет засчитан как 1 минута.</i>\n",
        "Это значит, что столбец duration нужно будет привести к целочисленному значению с округлением в большую сторону.\n",
        "В свою очередь, столбцу call_date нужно будет присвоить тип datetime."
      ]
    },
    {
      "cell_type": "markdown",
      "metadata": {
        "id": "fY5lGc1k191z"
      },
      "source": [
        "##### Таблица messages (информация о сообщениях):\n",
        "* id — уникальный номер сообщения\n",
        "* message_date — дата сообщения\n",
        "* user_id — идентификатор пользователя, отправившего сообщение"
      ]
    },
    {
      "cell_type": "code",
      "execution_count": null,
      "metadata": {
        "id": "jILTM56R1910",
        "outputId": "db46d0be-9a71-40f4-f90d-25828cb421e5"
      },
      "outputs": [
        {
          "data": {
            "text/html": [
              "<div>\n",
              "<style scoped>\n",
              "    .dataframe tbody tr th:only-of-type {\n",
              "        vertical-align: middle;\n",
              "    }\n",
              "\n",
              "    .dataframe tbody tr th {\n",
              "        vertical-align: top;\n",
              "    }\n",
              "\n",
              "    .dataframe thead th {\n",
              "        text-align: right;\n",
              "    }\n",
              "</style>\n",
              "<table border=\"1\" class=\"dataframe\">\n",
              "  <thead>\n",
              "    <tr style=\"text-align: right;\">\n",
              "      <th></th>\n",
              "      <th>id</th>\n",
              "      <th>message_date</th>\n",
              "      <th>user_id</th>\n",
              "    </tr>\n",
              "  </thead>\n",
              "  <tbody>\n",
              "    <tr>\n",
              "      <td>0</td>\n",
              "      <td>1000_0</td>\n",
              "      <td>2018-06-27</td>\n",
              "      <td>1000</td>\n",
              "    </tr>\n",
              "    <tr>\n",
              "      <td>1</td>\n",
              "      <td>1000_1</td>\n",
              "      <td>2018-10-08</td>\n",
              "      <td>1000</td>\n",
              "    </tr>\n",
              "    <tr>\n",
              "      <td>2</td>\n",
              "      <td>1000_2</td>\n",
              "      <td>2018-08-04</td>\n",
              "      <td>1000</td>\n",
              "    </tr>\n",
              "    <tr>\n",
              "      <td>3</td>\n",
              "      <td>1000_3</td>\n",
              "      <td>2018-06-16</td>\n",
              "      <td>1000</td>\n",
              "    </tr>\n",
              "    <tr>\n",
              "      <td>4</td>\n",
              "      <td>1000_4</td>\n",
              "      <td>2018-12-05</td>\n",
              "      <td>1000</td>\n",
              "    </tr>\n",
              "  </tbody>\n",
              "</table>\n",
              "</div>"
            ],
            "text/plain": [
              "       id message_date  user_id\n",
              "0  1000_0   2018-06-27     1000\n",
              "1  1000_1   2018-10-08     1000\n",
              "2  1000_2   2018-08-04     1000\n",
              "3  1000_3   2018-06-16     1000\n",
              "4  1000_4   2018-12-05     1000"
            ]
          },
          "execution_count": 5,
          "metadata": {},
          "output_type": "execute_result"
        }
      ],
      "source": [
        "messages = pd.read_csv('https://code.s3.yandex.net/datasets/messages.csv')\n",
        "messages.head()"
      ]
    },
    {
      "cell_type": "code",
      "execution_count": null,
      "metadata": {
        "id": "XkFjP8P_1911",
        "outputId": "2faea68b-d088-4ea4-88db-e878bb676910"
      },
      "outputs": [
        {
          "name": "stdout",
          "output_type": "stream",
          "text": [
            "<class 'pandas.core.frame.DataFrame'>\n",
            "RangeIndex: 123036 entries, 0 to 123035\n",
            "Data columns (total 3 columns):\n",
            "id              123036 non-null object\n",
            "message_date    123036 non-null object\n",
            "user_id         123036 non-null int64\n",
            "dtypes: int64(1), object(2)\n",
            "memory usage: 2.8+ MB\n"
          ]
        }
      ],
      "source": [
        "messages.info()"
      ]
    },
    {
      "cell_type": "markdown",
      "metadata": {
        "id": "YTyHM-Mq1911"
      },
      "source": [
        "<b>Вывод:</b>\n",
        "\n",
        "Датасет с одинаковым числом значений по столбцам - явных пропусков не обнаружено.\n",
        "\n",
        "Cтолбец message_date переведем в тип данных datetime."
      ]
    },
    {
      "cell_type": "markdown",
      "metadata": {
        "id": "iSFos2c91912"
      },
      "source": [
        "##### Таблица internet (информация об интернет-сессиях):\n",
        "* id — уникальный номер сессии\n",
        "* mb_used — объём потраченного за сессию интернет-трафика (в мегабайтах)\n",
        "* session_date — дата интернет-сессии\n",
        "* user_id — идентификатор пользователя"
      ]
    },
    {
      "cell_type": "code",
      "execution_count": null,
      "metadata": {
        "id": "gJjddjsZ1913",
        "outputId": "43696e75-351c-46ce-aa31-a5a5ef27eea4"
      },
      "outputs": [
        {
          "data": {
            "text/html": [
              "<div>\n",
              "<style scoped>\n",
              "    .dataframe tbody tr th:only-of-type {\n",
              "        vertical-align: middle;\n",
              "    }\n",
              "\n",
              "    .dataframe tbody tr th {\n",
              "        vertical-align: top;\n",
              "    }\n",
              "\n",
              "    .dataframe thead th {\n",
              "        text-align: right;\n",
              "    }\n",
              "</style>\n",
              "<table border=\"1\" class=\"dataframe\">\n",
              "  <thead>\n",
              "    <tr style=\"text-align: right;\">\n",
              "      <th></th>\n",
              "      <th>Unnamed: 0</th>\n",
              "      <th>id</th>\n",
              "      <th>mb_used</th>\n",
              "      <th>session_date</th>\n",
              "      <th>user_id</th>\n",
              "    </tr>\n",
              "  </thead>\n",
              "  <tbody>\n",
              "    <tr>\n",
              "      <td>0</td>\n",
              "      <td>0</td>\n",
              "      <td>1000_0</td>\n",
              "      <td>112.95</td>\n",
              "      <td>2018-11-25</td>\n",
              "      <td>1000</td>\n",
              "    </tr>\n",
              "    <tr>\n",
              "      <td>1</td>\n",
              "      <td>1</td>\n",
              "      <td>1000_1</td>\n",
              "      <td>1052.81</td>\n",
              "      <td>2018-09-07</td>\n",
              "      <td>1000</td>\n",
              "    </tr>\n",
              "    <tr>\n",
              "      <td>2</td>\n",
              "      <td>2</td>\n",
              "      <td>1000_2</td>\n",
              "      <td>1197.26</td>\n",
              "      <td>2018-06-25</td>\n",
              "      <td>1000</td>\n",
              "    </tr>\n",
              "    <tr>\n",
              "      <td>3</td>\n",
              "      <td>3</td>\n",
              "      <td>1000_3</td>\n",
              "      <td>550.27</td>\n",
              "      <td>2018-08-22</td>\n",
              "      <td>1000</td>\n",
              "    </tr>\n",
              "    <tr>\n",
              "      <td>4</td>\n",
              "      <td>4</td>\n",
              "      <td>1000_4</td>\n",
              "      <td>302.56</td>\n",
              "      <td>2018-09-24</td>\n",
              "      <td>1000</td>\n",
              "    </tr>\n",
              "  </tbody>\n",
              "</table>\n",
              "</div>"
            ],
            "text/plain": [
              "   Unnamed: 0      id  mb_used session_date  user_id\n",
              "0           0  1000_0   112.95   2018-11-25     1000\n",
              "1           1  1000_1  1052.81   2018-09-07     1000\n",
              "2           2  1000_2  1197.26   2018-06-25     1000\n",
              "3           3  1000_3   550.27   2018-08-22     1000\n",
              "4           4  1000_4   302.56   2018-09-24     1000"
            ]
          },
          "execution_count": 7,
          "metadata": {},
          "output_type": "execute_result"
        }
      ],
      "source": [
        "internet = pd.read_csv('https://code.s3.yandex.net/datasets/internet.csv')\n",
        "internet.head()"
      ]
    },
    {
      "cell_type": "code",
      "execution_count": null,
      "metadata": {
        "id": "BJZZgEqW1914",
        "outputId": "89e428c4-d815-4f58-ef93-a593581a0c92"
      },
      "outputs": [
        {
          "name": "stdout",
          "output_type": "stream",
          "text": [
            "<class 'pandas.core.frame.DataFrame'>\n",
            "RangeIndex: 149396 entries, 0 to 149395\n",
            "Data columns (total 5 columns):\n",
            "Unnamed: 0      149396 non-null int64\n",
            "id              149396 non-null object\n",
            "mb_used         149396 non-null float64\n",
            "session_date    149396 non-null object\n",
            "user_id         149396 non-null int64\n",
            "dtypes: float64(1), int64(2), object(2)\n",
            "memory usage: 5.7+ MB\n"
          ]
        }
      ],
      "source": [
        "internet.info()"
      ]
    },
    {
      "cell_type": "markdown",
      "metadata": {
        "id": "mI7M8EnS1914"
      },
      "source": [
        "<b>Вывод:</b>\n",
        "\n",
        "Датасет с одинаковым числом значений по столбцам - явных пропусков не обнаружено.\n",
        "\n",
        "Согласно исходным условиям: <i> для веб-трафика отдельные сессии не считаются. Вместо этого общая сумма за месяц округляется в бо́льшую сторону. Если абонент использует 1025 мегабайт в этом месяце, с него возьмут плату за 2 гигабайта.</i>\n",
        "Это значит, что столбец mb_used нужно будет привести к целочисленному значению с округлением в большую сторону.\n",
        "В свою очередь, столбцу session_date нужно будет присвоить тип datetime."
      ]
    },
    {
      "cell_type": "markdown",
      "metadata": {
        "id": "RrUWm-bV1916"
      },
      "source": [
        "##### Таблица tariffs (информация о тарифах):\n",
        "* tariff_name — название тарифа\n",
        "* rub_monthly_fee — ежемесячная абонентская плата в рублях\n",
        "* minutes_included — количество минут разговора в месяц, включённых в абонентскую плату\n",
        "* messages_included — количество сообщений в месяц, включённых в абонентскую плату\n",
        "* mb_per_month_included — объём интернет-трафика, включённого в абонентскую плату (в мегабайтах)\n",
        "* rub_per_minute — стоимость минуты разговора сверх тарифного пакета (например, если в тарифе 100 минут разговора в месяц, то со 101 минуты будет взиматься плата)\n",
        "* rub_per_message — стоимость отправки сообщения сверх тарифного пакета\n",
        "* rub_per_gb — стоимость дополнительного гигабайта интернет-трафика сверх тарифного пакета (1 гигабайт = 1024 мегабайта)"
      ]
    },
    {
      "cell_type": "code",
      "execution_count": null,
      "metadata": {
        "id": "T_4Wj6yO1916",
        "outputId": "ae390b2a-d01d-4631-ace6-cea406187000"
      },
      "outputs": [
        {
          "data": {
            "text/html": [
              "<div>\n",
              "<style scoped>\n",
              "    .dataframe tbody tr th:only-of-type {\n",
              "        vertical-align: middle;\n",
              "    }\n",
              "\n",
              "    .dataframe tbody tr th {\n",
              "        vertical-align: top;\n",
              "    }\n",
              "\n",
              "    .dataframe thead th {\n",
              "        text-align: right;\n",
              "    }\n",
              "</style>\n",
              "<table border=\"1\" class=\"dataframe\">\n",
              "  <thead>\n",
              "    <tr style=\"text-align: right;\">\n",
              "      <th></th>\n",
              "      <th>messages_included</th>\n",
              "      <th>mb_per_month_included</th>\n",
              "      <th>minutes_included</th>\n",
              "      <th>rub_monthly_fee</th>\n",
              "      <th>rub_per_gb</th>\n",
              "      <th>rub_per_message</th>\n",
              "      <th>rub_per_minute</th>\n",
              "      <th>tariff_name</th>\n",
              "    </tr>\n",
              "  </thead>\n",
              "  <tbody>\n",
              "    <tr>\n",
              "      <td>0</td>\n",
              "      <td>50</td>\n",
              "      <td>15360</td>\n",
              "      <td>500</td>\n",
              "      <td>550</td>\n",
              "      <td>200</td>\n",
              "      <td>3</td>\n",
              "      <td>3</td>\n",
              "      <td>smart</td>\n",
              "    </tr>\n",
              "    <tr>\n",
              "      <td>1</td>\n",
              "      <td>1000</td>\n",
              "      <td>30720</td>\n",
              "      <td>3000</td>\n",
              "      <td>1950</td>\n",
              "      <td>150</td>\n",
              "      <td>1</td>\n",
              "      <td>1</td>\n",
              "      <td>ultra</td>\n",
              "    </tr>\n",
              "  </tbody>\n",
              "</table>\n",
              "</div>"
            ],
            "text/plain": [
              "   messages_included  mb_per_month_included  minutes_included  \\\n",
              "0                 50                  15360               500   \n",
              "1               1000                  30720              3000   \n",
              "\n",
              "   rub_monthly_fee  rub_per_gb  rub_per_message  rub_per_minute tariff_name  \n",
              "0              550         200                3               3       smart  \n",
              "1             1950         150                1               1       ultra  "
            ]
          },
          "execution_count": 9,
          "metadata": {},
          "output_type": "execute_result"
        }
      ],
      "source": [
        "tariffs = pd.read_csv('https://code.s3.yandex.net/datasets/tariffs.csv')\n",
        "tariffs.head()"
      ]
    },
    {
      "cell_type": "code",
      "execution_count": null,
      "metadata": {
        "id": "AQMq1bg81917",
        "outputId": "a3e15c45-93d1-4b70-8ef2-fc926d5698e3"
      },
      "outputs": [
        {
          "name": "stdout",
          "output_type": "stream",
          "text": [
            "<class 'pandas.core.frame.DataFrame'>\n",
            "RangeIndex: 2 entries, 0 to 1\n",
            "Data columns (total 8 columns):\n",
            "messages_included        2 non-null int64\n",
            "mb_per_month_included    2 non-null int64\n",
            "minutes_included         2 non-null int64\n",
            "rub_monthly_fee          2 non-null int64\n",
            "rub_per_gb               2 non-null int64\n",
            "rub_per_message          2 non-null int64\n",
            "rub_per_minute           2 non-null int64\n",
            "tariff_name              2 non-null object\n",
            "dtypes: int64(7), object(1)\n",
            "memory usage: 256.0+ bytes\n"
          ]
        }
      ],
      "source": [
        "tariffs.info()"
      ]
    },
    {
      "cell_type": "markdown",
      "metadata": {
        "id": "ou6tcGwy1918"
      },
      "source": [
        "<b>Вывод:</b>\n",
        "\n",
        "Пропущенных данных в этом компактном датасете не выявлено. Замена типов данных не требуется.\n",
        "\n",
        "Обратимся к описанию тарифов \"Смарт\" и \"Ультра\" из исходных условий: \n",
        "\n",
        "<b>Тариф «Смарт»</b>\n",
        "* Ежемесячная плата: 550 рублей\n",
        "* Включено 500 минут разговора, 50 сообщений и 15 Гб интернет-трафика\n",
        "\n",
        "     Стоимость услуг сверх тарифного пакета:\n",
        "* минута разговора: 3 рубля\n",
        "* сообщение: 3 рубля\n",
        "* 1 Гб интернет-трафика: 200 рублей\n",
        "\n",
        "<b>Тариф «Ультра»</b>\n",
        "* Ежемесячная плата: 1950 рублей\n",
        "* Включено 3000 минут разговора, 1000 сообщений и 30 Гб интернет-трафика\n",
        "\n",
        "     Стоимость услуг сверх тарифного пакета:\n",
        "* минута разговора: 1 рубль\n",
        "* сообщение: 1 рубль\n",
        "* 1 Гб интернет-трафика: 150 рублей"
      ]
    },
    {
      "cell_type": "markdown",
      "metadata": {
        "id": "VZZ2BJKk1919"
      },
      "source": [
        "## 2. Подготовка данных"
      ]
    },
    {
      "cell_type": "markdown",
      "metadata": {
        "id": "pvQjQxSH1919"
      },
      "source": [
        "### 2.1 Приведение данных к нужным типам"
      ]
    },
    {
      "cell_type": "markdown",
      "metadata": {
        "id": "CLITTgLy191-"
      },
      "source": [
        "По результатам первичного изучения данных, изменим тип данных на временной <i>datetime</i> для следующих столбцов:\n",
        "\n",
        "* в <i>users</i> столбец даты регистрации reg_date\n",
        "* в <i>calls</i> столбец даты звонка call_date\n",
        "* в <i>messages</i> столбец даты сообщения message_date\n",
        "* в <i>internet</i> столбец даты сессии session_date"
      ]
    },
    {
      "cell_type": "code",
      "execution_count": null,
      "metadata": {
        "id": "yzTJKh1J191-"
      },
      "outputs": [],
      "source": [
        "users['reg_date'] = pd.to_datetime(users['reg_date'], format='%Y-%m-%d')\n",
        "calls['call_date'] = pd.to_datetime(calls['call_date'], format='%Y-%m-%d')\n",
        "messages['message_date'] = pd.to_datetime(messages['message_date'], format='%Y-%m-%d')\n",
        "internet['session_date'] = pd.to_datetime(internet['session_date'], format='%Y-%m-%d')"
      ]
    },
    {
      "cell_type": "markdown",
      "metadata": {
        "id": "BWtIFaOf191_"
      },
      "source": [
        "Также согласно базовым условиям тарифов округлим в большую сторону и изменим тип данных на целочисленный <i>integer</i> для следующих столбцов:\n",
        "\n",
        "* в <i>calls</i> столбец duration (до целых минут)\n",
        "* в <i>internet</i> столбец mb_used (до целых мегабайт)"
      ]
    },
    {
      "cell_type": "code",
      "execution_count": null,
      "metadata": {
        "id": "LOY4-Tvd191_",
        "outputId": "d6e03239-6b84-49c3-ba7b-aa39539ea462"
      },
      "outputs": [
        {
          "data": {
            "text/plain": [
              "0          113\n",
              "1         1053\n",
              "2         1198\n",
              "3          551\n",
              "4          303\n",
              "          ... \n",
              "149391     319\n",
              "149392     491\n",
              "149393       0\n",
              "149394    1247\n",
              "149395     545\n",
              "Name: mb_used, Length: 149396, dtype: int64"
            ]
          },
          "execution_count": 12,
          "metadata": {},
          "output_type": "execute_result"
        }
      ],
      "source": [
        "calls['duration'] = calls['duration'].apply(mt.ceil)\n",
        "calls['duration'].astype(int)\n",
        "\n",
        "internet['mb_used'] = internet['mb_used'].apply(mt.ceil)\n",
        "internet['mb_used'].astype(int)"
      ]
    },
    {
      "cell_type": "markdown",
      "metadata": {
        "id": "hM7fhPvF192B"
      },
      "source": [
        "Проверим успешную замену типов данных, где это было необходимо."
      ]
    },
    {
      "cell_type": "code",
      "execution_count": null,
      "metadata": {
        "id": "sC8J7PhJ192B",
        "outputId": "a3a5035b-1171-4c8c-c5b6-4f086934e2ce"
      },
      "outputs": [
        {
          "data": {
            "text/plain": [
              "id                   object\n",
              "call_date    datetime64[ns]\n",
              "duration              int64\n",
              "user_id               int64\n",
              "dtype: object"
            ]
          },
          "execution_count": 13,
          "metadata": {},
          "output_type": "execute_result"
        }
      ],
      "source": [
        "calls.dtypes"
      ]
    },
    {
      "cell_type": "code",
      "execution_count": null,
      "metadata": {
        "id": "7VHQBWZI192C",
        "outputId": "96e6825b-f391-40d5-b87e-30a55c4bc1b8"
      },
      "outputs": [
        {
          "data": {
            "text/plain": [
              "Unnamed: 0               int64\n",
              "id                      object\n",
              "mb_used                  int64\n",
              "session_date    datetime64[ns]\n",
              "user_id                  int64\n",
              "dtype: object"
            ]
          },
          "execution_count": 14,
          "metadata": {},
          "output_type": "execute_result"
        }
      ],
      "source": [
        "internet.dtypes"
      ]
    },
    {
      "cell_type": "code",
      "execution_count": null,
      "metadata": {
        "id": "zHvfAnyE192C",
        "outputId": "8084af12-3450-40a0-d4dd-ac313392ebef"
      },
      "outputs": [
        {
          "data": {
            "text/plain": [
              "user_id                int64\n",
              "age                    int64\n",
              "churn_date            object\n",
              "city                  object\n",
              "first_name            object\n",
              "last_name             object\n",
              "reg_date      datetime64[ns]\n",
              "tariff                object\n",
              "dtype: object"
            ]
          },
          "execution_count": 15,
          "metadata": {},
          "output_type": "execute_result"
        }
      ],
      "source": [
        "users.dtypes"
      ]
    },
    {
      "cell_type": "code",
      "execution_count": null,
      "metadata": {
        "id": "wwcuzNI5192D",
        "outputId": "94899714-afb3-4a36-ea9b-ad8999bcb391"
      },
      "outputs": [
        {
          "data": {
            "text/plain": [
              "id                      object\n",
              "message_date    datetime64[ns]\n",
              "user_id                  int64\n",
              "dtype: object"
            ]
          },
          "execution_count": 16,
          "metadata": {},
          "output_type": "execute_result"
        }
      ],
      "source": [
        "messages.dtypes"
      ]
    },
    {
      "cell_type": "markdown",
      "metadata": {
        "id": "hthXOuy9192D"
      },
      "source": [
        "### 2.2 Нахождение и исправление ошибок в данных"
      ]
    },
    {
      "cell_type": "markdown",
      "metadata": {
        "id": "0fiOsL2V192E"
      },
      "source": [
        "В данных вы найдёте звонки с нулевой продолжительностью. Это не ошибка: нулями обозначены пропущенные звонки, поэтому их не нужно удалять."
      ]
    },
    {
      "cell_type": "markdown",
      "metadata": {
        "id": "XwG3yIXh192E"
      },
      "source": [
        "#### 2.2.1 Информация о пользователях"
      ]
    },
    {
      "cell_type": "code",
      "execution_count": null,
      "metadata": {
        "id": "aj-8qF73192E",
        "outputId": "bbba4f54-954a-4755-eb40-3239deec085c"
      },
      "outputs": [
        {
          "data": {
            "text/html": [
              "<div>\n",
              "<style scoped>\n",
              "    .dataframe tbody tr th:only-of-type {\n",
              "        vertical-align: middle;\n",
              "    }\n",
              "\n",
              "    .dataframe tbody tr th {\n",
              "        vertical-align: top;\n",
              "    }\n",
              "\n",
              "    .dataframe thead th {\n",
              "        text-align: right;\n",
              "    }\n",
              "</style>\n",
              "<table border=\"1\" class=\"dataframe\">\n",
              "  <thead>\n",
              "    <tr style=\"text-align: right;\">\n",
              "      <th></th>\n",
              "      <th>user_id</th>\n",
              "      <th>age</th>\n",
              "    </tr>\n",
              "  </thead>\n",
              "  <tbody>\n",
              "    <tr>\n",
              "      <td>count</td>\n",
              "      <td>500.000000</td>\n",
              "      <td>500.00000</td>\n",
              "    </tr>\n",
              "    <tr>\n",
              "      <td>mean</td>\n",
              "      <td>1249.500000</td>\n",
              "      <td>46.58800</td>\n",
              "    </tr>\n",
              "    <tr>\n",
              "      <td>std</td>\n",
              "      <td>144.481833</td>\n",
              "      <td>16.66763</td>\n",
              "    </tr>\n",
              "    <tr>\n",
              "      <td>min</td>\n",
              "      <td>1000.000000</td>\n",
              "      <td>18.00000</td>\n",
              "    </tr>\n",
              "    <tr>\n",
              "      <td>25%</td>\n",
              "      <td>1124.750000</td>\n",
              "      <td>32.00000</td>\n",
              "    </tr>\n",
              "    <tr>\n",
              "      <td>50%</td>\n",
              "      <td>1249.500000</td>\n",
              "      <td>46.00000</td>\n",
              "    </tr>\n",
              "    <tr>\n",
              "      <td>75%</td>\n",
              "      <td>1374.250000</td>\n",
              "      <td>62.00000</td>\n",
              "    </tr>\n",
              "    <tr>\n",
              "      <td>max</td>\n",
              "      <td>1499.000000</td>\n",
              "      <td>75.00000</td>\n",
              "    </tr>\n",
              "  </tbody>\n",
              "</table>\n",
              "</div>"
            ],
            "text/plain": [
              "           user_id        age\n",
              "count   500.000000  500.00000\n",
              "mean   1249.500000   46.58800\n",
              "std     144.481833   16.66763\n",
              "min    1000.000000   18.00000\n",
              "25%    1124.750000   32.00000\n",
              "50%    1249.500000   46.00000\n",
              "75%    1374.250000   62.00000\n",
              "max    1499.000000   75.00000"
            ]
          },
          "execution_count": 17,
          "metadata": {},
          "output_type": "execute_result"
        }
      ],
      "source": [
        "users.describe()"
      ]
    },
    {
      "cell_type": "code",
      "execution_count": null,
      "metadata": {
        "id": "dcJ30o2G192F",
        "outputId": "38f8dbc5-4d83-4d0c-cce1-512c97a725b0"
      },
      "outputs": [
        {
          "data": {
            "text/plain": [
              "0"
            ]
          },
          "execution_count": 18,
          "metadata": {},
          "output_type": "execute_result"
        }
      ],
      "source": [
        "# Число дубликатов в датасете users\n",
        "users.duplicated().sum()"
      ]
    },
    {
      "cell_type": "code",
      "execution_count": null,
      "metadata": {
        "id": "eUjHSBA-192G",
        "outputId": "c17c3799-d5bb-4928-ae2d-e74c366a7455"
      },
      "outputs": [
        {
          "data": {
            "text/plain": [
              "user_id         0\n",
              "age             0\n",
              "churn_date    462\n",
              "city            0\n",
              "first_name      0\n",
              "last_name       0\n",
              "reg_date        0\n",
              "tariff          0\n",
              "dtype: int64"
            ]
          },
          "execution_count": 19,
          "metadata": {},
          "output_type": "execute_result"
        }
      ],
      "source": [
        "# Число пропущенных значений в датасете users\n",
        "users.isna().sum()"
      ]
    },
    {
      "cell_type": "markdown",
      "metadata": {
        "id": "j7zWVsMQ192H"
      },
      "source": [
        "Согласно исходным данным, если значение churn_date пропущено, то тариф ещё действовал на момент выгрузки данных. С остальными данными все в порядке."
      ]
    },
    {
      "cell_type": "code",
      "execution_count": null,
      "metadata": {
        "id": "wRLMd3PJ192I",
        "outputId": "2e20f4dc-309a-479a-d380-4cddef550462"
      },
      "outputs": [
        {
          "data": {
            "text/plain": [
              "numpy.datetime64('2018-01-01T00:00:00.000000000')"
            ]
          },
          "execution_count": 20,
          "metadata": {},
          "output_type": "execute_result"
        }
      ],
      "source": [
        "# Проверка на выброс самой ранней даты регистрации пользователя\n",
        "users['reg_date'].unique().min()"
      ]
    },
    {
      "cell_type": "code",
      "execution_count": null,
      "metadata": {
        "id": "eZQYPUAQ192I",
        "outputId": "776671e6-25b8-499c-9c83-19f5964984ab"
      },
      "outputs": [
        {
          "data": {
            "text/plain": [
              "numpy.datetime64('2018-12-31T00:00:00.000000000')"
            ]
          },
          "execution_count": 21,
          "metadata": {},
          "output_type": "execute_result"
        }
      ],
      "source": [
        "# Проверка на выброс самой поздней даты регистрации пользователя\n",
        "users['reg_date'].unique().max()"
      ]
    },
    {
      "cell_type": "code",
      "execution_count": null,
      "metadata": {
        "id": "aUa54C5I192J",
        "outputId": "0bdc425d-8c3e-463c-f2e0-9e3a28f978f6"
      },
      "outputs": [
        {
          "data": {
            "text/plain": [
              "array(['2018-08-17', '2018-08-31', '2018-09-02', '2018-09-26',\n",
              "       '2018-09-27', '2018-10-03', '2018-10-04', '2018-10-05',\n",
              "       '2018-10-14', '2018-10-25', '2018-10-27', '2018-10-28',\n",
              "       '2018-11-07', '2018-11-13', '2018-11-16', '2018-11-21',\n",
              "       '2018-11-22', '2018-11-26', '2018-11-27', '2018-11-30',\n",
              "       '2018-12-03', '2018-12-09', '2018-12-11', '2018-12-14',\n",
              "       '2018-12-16', '2018-12-18', '2018-12-20', '2018-12-21',\n",
              "       '2018-12-23', '2018-12-24', '2018-12-25', '2018-12-26',\n",
              "       '2018-12-30', nan], dtype=object)"
            ]
          },
          "execution_count": 22,
          "metadata": {},
          "output_type": "execute_result"
        }
      ],
      "source": [
        "# Проверка известных дат отключения тарифа\n",
        "users['churn_date'].sort_values().unique()"
      ]
    },
    {
      "cell_type": "code",
      "execution_count": null,
      "metadata": {
        "id": "ooWtVlje192K",
        "outputId": "9dbad846-31ec-4d71-da45-2c3f88ec5e08"
      },
      "outputs": [
        {
          "data": {
            "text/plain": [
              "'ultra'"
            ]
          },
          "execution_count": 23,
          "metadata": {},
          "output_type": "execute_result"
        }
      ],
      "source": [
        "# Самый популярный тариф\n",
        "users['tariff'].max()"
      ]
    },
    {
      "cell_type": "code",
      "execution_count": null,
      "metadata": {
        "id": "mX2G6M7g192K",
        "outputId": "67685101-ef79-46cf-cecd-5ab504096ff0"
      },
      "outputs": [
        {
          "data": {
            "text/plain": [
              "76"
            ]
          },
          "execution_count": 24,
          "metadata": {},
          "output_type": "execute_result"
        }
      ],
      "source": [
        "# Количество городов в выборке\n",
        "len(users['city'].sort_values().unique())"
      ]
    },
    {
      "cell_type": "markdown",
      "metadata": {
        "id": "y9K-qXEw192L"
      },
      "source": [
        "<b>Выводы по базе пользователей <i>users</i>:</b>\n",
        "* В выборке 500 пользователей в возрасте от 18 до 75 лет: средний возраст 46-47 лет.\n",
        "* Подключение к тарифу с 1 января 2018 года по 31 декабря 2018 года\n",
        "* Отключение тарифа с 17 августа 2018 года по 30 декабря 2018 года\n",
        "* Тариф \"Ультра\" является более частотным\n",
        "* Данные охватывают 76 городов"
      ]
    },
    {
      "cell_type": "markdown",
      "metadata": {
        "id": "yGbDXjLw192M"
      },
      "source": [
        "#### 2.2.2 Информация о звонках"
      ]
    },
    {
      "cell_type": "code",
      "execution_count": null,
      "metadata": {
        "id": "B9YlI2BL192M",
        "outputId": "a53b90be-cf21-4a4e-a1a4-e05b86cabe28"
      },
      "outputs": [
        {
          "data": {
            "text/html": [
              "<div>\n",
              "<style scoped>\n",
              "    .dataframe tbody tr th:only-of-type {\n",
              "        vertical-align: middle;\n",
              "    }\n",
              "\n",
              "    .dataframe tbody tr th {\n",
              "        vertical-align: top;\n",
              "    }\n",
              "\n",
              "    .dataframe thead th {\n",
              "        text-align: right;\n",
              "    }\n",
              "</style>\n",
              "<table border=\"1\" class=\"dataframe\">\n",
              "  <thead>\n",
              "    <tr style=\"text-align: right;\">\n",
              "      <th></th>\n",
              "      <th>duration</th>\n",
              "      <th>user_id</th>\n",
              "    </tr>\n",
              "  </thead>\n",
              "  <tbody>\n",
              "    <tr>\n",
              "      <td>count</td>\n",
              "      <td>202607.000000</td>\n",
              "      <td>202607.000000</td>\n",
              "    </tr>\n",
              "    <tr>\n",
              "      <td>mean</td>\n",
              "      <td>7.158198</td>\n",
              "      <td>1253.940619</td>\n",
              "    </tr>\n",
              "    <tr>\n",
              "      <td>std</td>\n",
              "      <td>5.959173</td>\n",
              "      <td>144.722751</td>\n",
              "    </tr>\n",
              "    <tr>\n",
              "      <td>min</td>\n",
              "      <td>0.000000</td>\n",
              "      <td>1000.000000</td>\n",
              "    </tr>\n",
              "    <tr>\n",
              "      <td>25%</td>\n",
              "      <td>2.000000</td>\n",
              "      <td>1126.000000</td>\n",
              "    </tr>\n",
              "    <tr>\n",
              "      <td>50%</td>\n",
              "      <td>6.000000</td>\n",
              "      <td>1260.000000</td>\n",
              "    </tr>\n",
              "    <tr>\n",
              "      <td>75%</td>\n",
              "      <td>11.000000</td>\n",
              "      <td>1379.000000</td>\n",
              "    </tr>\n",
              "    <tr>\n",
              "      <td>max</td>\n",
              "      <td>38.000000</td>\n",
              "      <td>1499.000000</td>\n",
              "    </tr>\n",
              "  </tbody>\n",
              "</table>\n",
              "</div>"
            ],
            "text/plain": [
              "            duration        user_id\n",
              "count  202607.000000  202607.000000\n",
              "mean        7.158198    1253.940619\n",
              "std         5.959173     144.722751\n",
              "min         0.000000    1000.000000\n",
              "25%         2.000000    1126.000000\n",
              "50%         6.000000    1260.000000\n",
              "75%        11.000000    1379.000000\n",
              "max        38.000000    1499.000000"
            ]
          },
          "execution_count": 25,
          "metadata": {},
          "output_type": "execute_result"
        }
      ],
      "source": [
        "calls.describe()"
      ]
    },
    {
      "cell_type": "code",
      "execution_count": null,
      "metadata": {
        "id": "RMPRVEKV192N",
        "outputId": "b10c40f4-f432-4886-eea3-a5e45fe7bd09"
      },
      "outputs": [
        {
          "data": {
            "text/plain": [
              "0"
            ]
          },
          "execution_count": 26,
          "metadata": {},
          "output_type": "execute_result"
        }
      ],
      "source": [
        "# Число дубликатов в данных по звонкам\n",
        "calls.duplicated().sum()"
      ]
    },
    {
      "cell_type": "code",
      "execution_count": null,
      "metadata": {
        "id": "RZ6e-w0y192N",
        "outputId": "e752fa73-828e-4f6f-92d9-4a9bfc6307b4"
      },
      "outputs": [
        {
          "data": {
            "text/plain": [
              "id           0\n",
              "call_date    0\n",
              "duration     0\n",
              "user_id      0\n",
              "dtype: int64"
            ]
          },
          "execution_count": 27,
          "metadata": {},
          "output_type": "execute_result"
        }
      ],
      "source": [
        "# Число пропущенных значений в данных по звонкам\n",
        "calls.isna().sum()"
      ]
    },
    {
      "cell_type": "code",
      "execution_count": null,
      "metadata": {
        "id": "l_u4ictj192O",
        "outputId": "e0e42051-03f5-4a90-f57c-d3ba522f7475"
      },
      "outputs": [
        {
          "data": {
            "text/plain": [
              "duration\n",
              "0    39613\n",
              "1     8402\n",
              "2     9194\n",
              "3    10362\n",
              "4    10918\n",
              "Name: duration, dtype: int64"
            ]
          },
          "execution_count": 28,
          "metadata": {},
          "output_type": "execute_result"
        }
      ],
      "source": [
        "# Сортировка по длительности звонков\n",
        "calls.groupby('duration')['duration'].count().head()"
      ]
    },
    {
      "cell_type": "markdown",
      "metadata": {
        "id": "JHtZTsss192O"
      },
      "source": [
        "Обнаружено существенное количество звонков с нулевой длительностью. Однако согласно исходным условиям не будем считать это ошибкой: нулями обозначены пропущенные звонки, поэтому их не нужно удалять."
      ]
    },
    {
      "cell_type": "markdown",
      "metadata": {
        "id": "ODghoSX8192Q"
      },
      "source": [
        "<b>Выводы по базе звонков <i>calls</i>:</b>\n",
        "* В выборке 202607 звонков со средней длительностью 7 минут и максимальной длительностью 38 минут.\n",
        "* Около 20% зарегистрированных звонков - пропущенные"
      ]
    },
    {
      "cell_type": "markdown",
      "metadata": {
        "id": "yYPEGBzA192Q"
      },
      "source": [
        "#### 2.2.3 Информация о сообщениях"
      ]
    },
    {
      "cell_type": "code",
      "execution_count": null,
      "metadata": {
        "id": "Q85rhnZ_192R",
        "outputId": "b85571cf-12f6-4589-c32e-0a14b6fe96d5"
      },
      "outputs": [
        {
          "data": {
            "text/plain": [
              "count    123036.000000\n",
              "mean       1256.989410\n",
              "std         143.523967\n",
              "min        1000.000000\n",
              "25%        1134.000000\n",
              "50%        1271.000000\n",
              "75%        1381.000000\n",
              "max        1499.000000\n",
              "Name: user_id, dtype: float64"
            ]
          },
          "execution_count": 29,
          "metadata": {},
          "output_type": "execute_result"
        }
      ],
      "source": [
        "messages['user_id'].describe()"
      ]
    },
    {
      "cell_type": "code",
      "execution_count": null,
      "metadata": {
        "id": "eIo3l-lX192S",
        "outputId": "3a6554aa-8a35-4798-e483-cbd8345d23d3"
      },
      "outputs": [
        {
          "data": {
            "text/plain": [
              "0"
            ]
          },
          "execution_count": 30,
          "metadata": {},
          "output_type": "execute_result"
        }
      ],
      "source": [
        "# Поиск дубликатов в базе сообщений\n",
        "messages.duplicated().sum()"
      ]
    },
    {
      "cell_type": "code",
      "execution_count": null,
      "metadata": {
        "id": "EWSEgtf-192T",
        "outputId": "4e30abd9-792c-40fd-ab15-381fc7688140"
      },
      "outputs": [
        {
          "data": {
            "text/plain": [
              "id              0\n",
              "message_date    0\n",
              "user_id         0\n",
              "dtype: int64"
            ]
          },
          "execution_count": 31,
          "metadata": {},
          "output_type": "execute_result"
        }
      ],
      "source": [
        "# Поиск пропущенных значений в базе сообщещний\n",
        "messages.isna().sum(0)"
      ]
    },
    {
      "cell_type": "code",
      "execution_count": null,
      "metadata": {
        "id": "PX9lze1o192U",
        "outputId": "c3180dcc-1ddd-4097-c691-211a60ecab30"
      },
      "outputs": [
        {
          "data": {
            "text/plain": [
              "numpy.datetime64('2018-01-02T00:00:00.000000000')"
            ]
          },
          "execution_count": 32,
          "metadata": {},
          "output_type": "execute_result"
        }
      ],
      "source": [
        "# Анализ самой ранней даты сообщения\n",
        "messages['message_date'].sort_values().unique().min()"
      ]
    },
    {
      "cell_type": "code",
      "execution_count": null,
      "metadata": {
        "id": "w2JSIuWK192V",
        "outputId": "11d99a7a-c48b-47fe-c337-c4ffa047c981"
      },
      "outputs": [
        {
          "data": {
            "text/plain": [
              "numpy.datetime64('2018-12-31T00:00:00.000000000')"
            ]
          },
          "execution_count": 33,
          "metadata": {},
          "output_type": "execute_result"
        }
      ],
      "source": [
        "# Анализ последней даты сообщения\n",
        "messages['message_date'].sort_values().unique().max()"
      ]
    },
    {
      "cell_type": "markdown",
      "metadata": {
        "id": "1HW_jtv7192V"
      },
      "source": [
        "<b>Выводы по базе сообщений <i>messages</i>:</b>\n",
        "* В выборке 123036 сообщений, зарегистрированных со 2 января 2018 года по 31 декабря 2018 года.\n",
        "* Явных аномалий в выборке не замечено"
      ]
    },
    {
      "cell_type": "markdown",
      "metadata": {
        "id": "9VC0arTI192W"
      },
      "source": [
        "#### 2.2.4 Информация об интернет-сессиях"
      ]
    },
    {
      "cell_type": "code",
      "execution_count": null,
      "metadata": {
        "id": "lqDD3BPf192X",
        "outputId": "e4b74bf6-4644-4a30-dc14-d9d3cc0127f3"
      },
      "outputs": [
        {
          "data": {
            "text/html": [
              "<div>\n",
              "<style scoped>\n",
              "    .dataframe tbody tr th:only-of-type {\n",
              "        vertical-align: middle;\n",
              "    }\n",
              "\n",
              "    .dataframe tbody tr th {\n",
              "        vertical-align: top;\n",
              "    }\n",
              "\n",
              "    .dataframe thead th {\n",
              "        text-align: right;\n",
              "    }\n",
              "</style>\n",
              "<table border=\"1\" class=\"dataframe\">\n",
              "  <thead>\n",
              "    <tr style=\"text-align: right;\">\n",
              "      <th></th>\n",
              "      <th>Unnamed: 0</th>\n",
              "      <th>mb_used</th>\n",
              "      <th>user_id</th>\n",
              "    </tr>\n",
              "  </thead>\n",
              "  <tbody>\n",
              "    <tr>\n",
              "      <td>count</td>\n",
              "      <td>149396.000000</td>\n",
              "      <td>149396.000000</td>\n",
              "      <td>149396.000000</td>\n",
              "    </tr>\n",
              "    <tr>\n",
              "      <td>mean</td>\n",
              "      <td>74697.500000</td>\n",
              "      <td>370.622098</td>\n",
              "      <td>1252.099842</td>\n",
              "    </tr>\n",
              "    <tr>\n",
              "      <td>std</td>\n",
              "      <td>43127.054745</td>\n",
              "      <td>278.387019</td>\n",
              "      <td>144.050823</td>\n",
              "    </tr>\n",
              "    <tr>\n",
              "      <td>min</td>\n",
              "      <td>0.000000</td>\n",
              "      <td>0.000000</td>\n",
              "      <td>1000.000000</td>\n",
              "    </tr>\n",
              "    <tr>\n",
              "      <td>25%</td>\n",
              "      <td>37348.750000</td>\n",
              "      <td>139.000000</td>\n",
              "      <td>1130.000000</td>\n",
              "    </tr>\n",
              "    <tr>\n",
              "      <td>50%</td>\n",
              "      <td>74697.500000</td>\n",
              "      <td>349.000000</td>\n",
              "      <td>1251.000000</td>\n",
              "    </tr>\n",
              "    <tr>\n",
              "      <td>75%</td>\n",
              "      <td>112046.250000</td>\n",
              "      <td>560.000000</td>\n",
              "      <td>1380.000000</td>\n",
              "    </tr>\n",
              "    <tr>\n",
              "      <td>max</td>\n",
              "      <td>149395.000000</td>\n",
              "      <td>1725.000000</td>\n",
              "      <td>1499.000000</td>\n",
              "    </tr>\n",
              "  </tbody>\n",
              "</table>\n",
              "</div>"
            ],
            "text/plain": [
              "          Unnamed: 0        mb_used        user_id\n",
              "count  149396.000000  149396.000000  149396.000000\n",
              "mean    74697.500000     370.622098    1252.099842\n",
              "std     43127.054745     278.387019     144.050823\n",
              "min         0.000000       0.000000    1000.000000\n",
              "25%     37348.750000     139.000000    1130.000000\n",
              "50%     74697.500000     349.000000    1251.000000\n",
              "75%    112046.250000     560.000000    1380.000000\n",
              "max    149395.000000    1725.000000    1499.000000"
            ]
          },
          "execution_count": 34,
          "metadata": {},
          "output_type": "execute_result"
        }
      ],
      "source": [
        "internet.describe()"
      ]
    },
    {
      "cell_type": "code",
      "execution_count": null,
      "metadata": {
        "id": "NlPUOWK5192X",
        "outputId": "57721ca3-7814-4e0f-89c0-e0e694d93aa9"
      },
      "outputs": [
        {
          "data": {
            "text/plain": [
              "0"
            ]
          },
          "execution_count": 35,
          "metadata": {},
          "output_type": "execute_result"
        }
      ],
      "source": [
        "# Число дубликатов в данных об интернет-сессиях\n",
        "internet.duplicated().sum()"
      ]
    },
    {
      "cell_type": "code",
      "execution_count": null,
      "metadata": {
        "id": "C7WKTCyg192Y",
        "outputId": "73c6e01e-e97d-48d5-c59b-3056792d915c"
      },
      "outputs": [
        {
          "data": {
            "text/plain": [
              "Unnamed: 0      0\n",
              "id              0\n",
              "mb_used         0\n",
              "session_date    0\n",
              "user_id         0\n",
              "dtype: int64"
            ]
          },
          "execution_count": 36,
          "metadata": {},
          "output_type": "execute_result"
        }
      ],
      "source": [
        "# Число пропущенных данных об интернет-сессиях\n",
        "internet.isna().sum()"
      ]
    },
    {
      "cell_type": "code",
      "execution_count": null,
      "metadata": {
        "id": "EYGMaQ-Y192Y",
        "outputId": "d354bb14-9067-4f4b-9252-9b6f3d401485"
      },
      "outputs": [
        {
          "data": {
            "text/plain": [
              "mb_used\n",
              "0    19598\n",
              "1      102\n",
              "2       98\n",
              "3       96\n",
              "4      100\n",
              "Name: user_id, dtype: int64"
            ]
          },
          "execution_count": 37,
          "metadata": {},
          "output_type": "execute_result"
        }
      ],
      "source": [
        "# Сортировка статистики использованного траффика\n",
        "internet.groupby('mb_used')['user_id'].count().head()"
      ]
    },
    {
      "cell_type": "markdown",
      "metadata": {
        "id": "tmXw-gh-192Z"
      },
      "source": [
        "<b>Выводы по базе интернет-сессий <i>internet</i>:</b>\n",
        "* Подавляющее большинство пользователей не использовало интернет.\n",
        "* Явных аномалий в выборке не замечено"
      ]
    },
    {
      "cell_type": "markdown",
      "metadata": {
        "id": "if4WpzqG192a"
      },
      "source": [
        "#### 2.2.5 Информация об тарифах"
      ]
    },
    {
      "cell_type": "code",
      "execution_count": null,
      "metadata": {
        "scrolled": true,
        "id": "7evTVCYJ192a",
        "outputId": "63199c27-3fc0-40af-dfca-805d3153622e"
      },
      "outputs": [
        {
          "data": {
            "text/html": [
              "<div>\n",
              "<style scoped>\n",
              "    .dataframe tbody tr th:only-of-type {\n",
              "        vertical-align: middle;\n",
              "    }\n",
              "\n",
              "    .dataframe tbody tr th {\n",
              "        vertical-align: top;\n",
              "    }\n",
              "\n",
              "    .dataframe thead th {\n",
              "        text-align: right;\n",
              "    }\n",
              "</style>\n",
              "<table border=\"1\" class=\"dataframe\">\n",
              "  <thead>\n",
              "    <tr style=\"text-align: right;\">\n",
              "      <th></th>\n",
              "      <th>messages_included</th>\n",
              "      <th>mb_per_month_included</th>\n",
              "      <th>minutes_included</th>\n",
              "      <th>rub_monthly_fee</th>\n",
              "      <th>rub_per_gb</th>\n",
              "      <th>rub_per_message</th>\n",
              "      <th>rub_per_minute</th>\n",
              "    </tr>\n",
              "  </thead>\n",
              "  <tbody>\n",
              "    <tr>\n",
              "      <td>count</td>\n",
              "      <td>2.000000</td>\n",
              "      <td>2.000000</td>\n",
              "      <td>2.000000</td>\n",
              "      <td>2.000000</td>\n",
              "      <td>2.000000</td>\n",
              "      <td>2.000000</td>\n",
              "      <td>2.000000</td>\n",
              "    </tr>\n",
              "    <tr>\n",
              "      <td>mean</td>\n",
              "      <td>525.000000</td>\n",
              "      <td>23040.000000</td>\n",
              "      <td>1750.000000</td>\n",
              "      <td>1250.000000</td>\n",
              "      <td>175.000000</td>\n",
              "      <td>2.000000</td>\n",
              "      <td>2.000000</td>\n",
              "    </tr>\n",
              "    <tr>\n",
              "      <td>std</td>\n",
              "      <td>671.751442</td>\n",
              "      <td>10861.160159</td>\n",
              "      <td>1767.766953</td>\n",
              "      <td>989.949494</td>\n",
              "      <td>35.355339</td>\n",
              "      <td>1.414214</td>\n",
              "      <td>1.414214</td>\n",
              "    </tr>\n",
              "    <tr>\n",
              "      <td>min</td>\n",
              "      <td>50.000000</td>\n",
              "      <td>15360.000000</td>\n",
              "      <td>500.000000</td>\n",
              "      <td>550.000000</td>\n",
              "      <td>150.000000</td>\n",
              "      <td>1.000000</td>\n",
              "      <td>1.000000</td>\n",
              "    </tr>\n",
              "    <tr>\n",
              "      <td>25%</td>\n",
              "      <td>287.500000</td>\n",
              "      <td>19200.000000</td>\n",
              "      <td>1125.000000</td>\n",
              "      <td>900.000000</td>\n",
              "      <td>162.500000</td>\n",
              "      <td>1.500000</td>\n",
              "      <td>1.500000</td>\n",
              "    </tr>\n",
              "    <tr>\n",
              "      <td>50%</td>\n",
              "      <td>525.000000</td>\n",
              "      <td>23040.000000</td>\n",
              "      <td>1750.000000</td>\n",
              "      <td>1250.000000</td>\n",
              "      <td>175.000000</td>\n",
              "      <td>2.000000</td>\n",
              "      <td>2.000000</td>\n",
              "    </tr>\n",
              "    <tr>\n",
              "      <td>75%</td>\n",
              "      <td>762.500000</td>\n",
              "      <td>26880.000000</td>\n",
              "      <td>2375.000000</td>\n",
              "      <td>1600.000000</td>\n",
              "      <td>187.500000</td>\n",
              "      <td>2.500000</td>\n",
              "      <td>2.500000</td>\n",
              "    </tr>\n",
              "    <tr>\n",
              "      <td>max</td>\n",
              "      <td>1000.000000</td>\n",
              "      <td>30720.000000</td>\n",
              "      <td>3000.000000</td>\n",
              "      <td>1950.000000</td>\n",
              "      <td>200.000000</td>\n",
              "      <td>3.000000</td>\n",
              "      <td>3.000000</td>\n",
              "    </tr>\n",
              "  </tbody>\n",
              "</table>\n",
              "</div>"
            ],
            "text/plain": [
              "       messages_included  mb_per_month_included  minutes_included  \\\n",
              "count           2.000000               2.000000          2.000000   \n",
              "mean          525.000000           23040.000000       1750.000000   \n",
              "std           671.751442           10861.160159       1767.766953   \n",
              "min            50.000000           15360.000000        500.000000   \n",
              "25%           287.500000           19200.000000       1125.000000   \n",
              "50%           525.000000           23040.000000       1750.000000   \n",
              "75%           762.500000           26880.000000       2375.000000   \n",
              "max          1000.000000           30720.000000       3000.000000   \n",
              "\n",
              "       rub_monthly_fee  rub_per_gb  rub_per_message  rub_per_minute  \n",
              "count         2.000000    2.000000         2.000000        2.000000  \n",
              "mean       1250.000000  175.000000         2.000000        2.000000  \n",
              "std         989.949494   35.355339         1.414214        1.414214  \n",
              "min         550.000000  150.000000         1.000000        1.000000  \n",
              "25%         900.000000  162.500000         1.500000        1.500000  \n",
              "50%        1250.000000  175.000000         2.000000        2.000000  \n",
              "75%        1600.000000  187.500000         2.500000        2.500000  \n",
              "max        1950.000000  200.000000         3.000000        3.000000  "
            ]
          },
          "execution_count": 38,
          "metadata": {},
          "output_type": "execute_result"
        }
      ],
      "source": [
        "tariffs.describe()"
      ]
    },
    {
      "cell_type": "code",
      "execution_count": null,
      "metadata": {
        "id": "rAED5nvd192b",
        "outputId": "b242b87c-0acb-442a-bd05-f759f6839293"
      },
      "outputs": [
        {
          "data": {
            "text/plain": [
              "0"
            ]
          },
          "execution_count": 39,
          "metadata": {},
          "output_type": "execute_result"
        }
      ],
      "source": [
        "# Число дубрикатов в данных о тарифах\n",
        "tariffs.duplicated().sum()"
      ]
    },
    {
      "cell_type": "code",
      "execution_count": null,
      "metadata": {
        "id": "UbrrVTFO192b",
        "outputId": "e43607d0-e0b1-40e8-d139-8abc9b5ffaaa"
      },
      "outputs": [
        {
          "data": {
            "text/plain": [
              "messages_included        0\n",
              "mb_per_month_included    0\n",
              "minutes_included         0\n",
              "rub_monthly_fee          0\n",
              "rub_per_gb               0\n",
              "rub_per_message          0\n",
              "rub_per_minute           0\n",
              "tariff_name              0\n",
              "dtype: int64"
            ]
          },
          "execution_count": 40,
          "metadata": {},
          "output_type": "execute_result"
        }
      ],
      "source": [
        "# Число пропущенных значений в данных о тарифах\n",
        "tariffs.isna().sum()"
      ]
    },
    {
      "cell_type": "markdown",
      "metadata": {
        "id": "rLZyBaH0192c"
      },
      "source": [
        "<b>Выводы по данным о тарифах <i>tariffs</i>:</b>\n",
        "* В нашем анализе данные по двум тарифам с абонентской платой от 550 рублей в месяц до 1950 рублей в месяц\n",
        "* Явных аномалий в выборке не замечено"
      ]
    },
    {
      "cell_type": "markdown",
      "metadata": {
        "id": "wNgD3kXL192c"
      },
      "source": [
        "### 2.3 Параметры для каждого пользователя"
      ]
    },
    {
      "cell_type": "markdown",
      "metadata": {
        "id": "p3AYyt-v192c"
      },
      "source": [
        "#### 2.3.1  Количество сделанных звонков и израсходованных минут разговора по месяцам"
      ]
    },
    {
      "cell_type": "markdown",
      "metadata": {
        "id": "Unvnag00192d"
      },
      "source": [
        "Добавим в датасет calls столбец call_month для месяца, в который сделан звонок"
      ]
    },
    {
      "cell_type": "code",
      "execution_count": null,
      "metadata": {
        "id": "SNzJzfgQ192d"
      },
      "outputs": [],
      "source": [
        "calls['call_month'] = pd.DatetimeIndex(calls['call_date']).month"
      ]
    },
    {
      "cell_type": "markdown",
      "metadata": {
        "id": "crwhSGzC192d"
      },
      "source": [
        "Составим сводную таблицу по количеству и длительности звонков в месяц на пользователя"
      ]
    },
    {
      "cell_type": "code",
      "execution_count": null,
      "metadata": {
        "id": "A0oZR3Fd192e"
      },
      "outputs": [],
      "source": [
        "user_calls = pd.pivot_table(calls,\n",
        "                            index=['user_id', 'call_month'],\n",
        "                            values=['duration'],\n",
        "                            aggfunc=('sum', 'count')).reset_index()\n",
        "user_calls.columns = ['user_id', 'month', 'calls_number', 'call_duration']"
      ]
    },
    {
      "cell_type": "markdown",
      "metadata": {
        "id": "fOCrCI7Y192e"
      },
      "source": [
        "Самые активные пользователи по количеству звонков в месяц"
      ]
    },
    {
      "cell_type": "code",
      "execution_count": null,
      "metadata": {
        "id": "dhdYwPos192f",
        "outputId": "7749bc99-93f5-465f-bdaf-8cae65628b62"
      },
      "outputs": [
        {
          "data": {
            "text/html": [
              "<div>\n",
              "<style scoped>\n",
              "    .dataframe tbody tr th:only-of-type {\n",
              "        vertical-align: middle;\n",
              "    }\n",
              "\n",
              "    .dataframe tbody tr th {\n",
              "        vertical-align: top;\n",
              "    }\n",
              "\n",
              "    .dataframe thead th {\n",
              "        text-align: right;\n",
              "    }\n",
              "</style>\n",
              "<table border=\"1\" class=\"dataframe\">\n",
              "  <thead>\n",
              "    <tr style=\"text-align: right;\">\n",
              "      <th></th>\n",
              "      <th>user_id</th>\n",
              "      <th>month</th>\n",
              "      <th>calls_number</th>\n",
              "      <th>call_duration</th>\n",
              "    </tr>\n",
              "  </thead>\n",
              "  <tbody>\n",
              "    <tr>\n",
              "      <td>0</td>\n",
              "      <td>1467</td>\n",
              "      <td>12</td>\n",
              "      <td>244</td>\n",
              "      <td>1673</td>\n",
              "    </tr>\n",
              "    <tr>\n",
              "      <td>1</td>\n",
              "      <td>1377</td>\n",
              "      <td>3</td>\n",
              "      <td>203</td>\n",
              "      <td>1609</td>\n",
              "    </tr>\n",
              "    <tr>\n",
              "      <td>2</td>\n",
              "      <td>1216</td>\n",
              "      <td>12</td>\n",
              "      <td>198</td>\n",
              "      <td>1435</td>\n",
              "    </tr>\n",
              "    <tr>\n",
              "      <td>3</td>\n",
              "      <td>1222</td>\n",
              "      <td>10</td>\n",
              "      <td>196</td>\n",
              "      <td>1322</td>\n",
              "    </tr>\n",
              "    <tr>\n",
              "      <td>4</td>\n",
              "      <td>1196</td>\n",
              "      <td>12</td>\n",
              "      <td>189</td>\n",
              "      <td>1213</td>\n",
              "    </tr>\n",
              "  </tbody>\n",
              "</table>\n",
              "</div>"
            ],
            "text/plain": [
              "   user_id  month  calls_number  call_duration\n",
              "0     1467     12           244           1673\n",
              "1     1377      3           203           1609\n",
              "2     1216     12           198           1435\n",
              "3     1222     10           196           1322\n",
              "4     1196     12           189           1213"
            ]
          },
          "execution_count": 43,
          "metadata": {},
          "output_type": "execute_result"
        }
      ],
      "source": [
        "user_calls.sort_values(by='calls_number', ascending=False).head().reset_index(drop=True)"
      ]
    },
    {
      "cell_type": "code",
      "execution_count": null,
      "metadata": {
        "id": "mJCiiRtg192f",
        "outputId": "2d7d1266-a739-4fea-c515-115be7203817"
      },
      "outputs": [
        {
          "data": {
            "text/html": [
              "<div>\n",
              "<style scoped>\n",
              "    .dataframe tbody tr th:only-of-type {\n",
              "        vertical-align: middle;\n",
              "    }\n",
              "\n",
              "    .dataframe tbody tr th {\n",
              "        vertical-align: top;\n",
              "    }\n",
              "\n",
              "    .dataframe thead tr th {\n",
              "        text-align: left;\n",
              "    }\n",
              "</style>\n",
              "<table border=\"1\" class=\"dataframe\">\n",
              "  <thead>\n",
              "    <tr>\n",
              "      <th></th>\n",
              "      <th>user_id</th>\n",
              "      <th>month</th>\n",
              "      <th>calls_number</th>\n",
              "    </tr>\n",
              "    <tr>\n",
              "      <th></th>\n",
              "      <th></th>\n",
              "      <th></th>\n",
              "      <th>sum</th>\n",
              "    </tr>\n",
              "  </thead>\n",
              "  <tbody>\n",
              "    <tr>\n",
              "      <td>0</td>\n",
              "      <td>1000</td>\n",
              "      <td>5</td>\n",
              "      <td>22</td>\n",
              "    </tr>\n",
              "    <tr>\n",
              "      <td>1</td>\n",
              "      <td>1000</td>\n",
              "      <td>6</td>\n",
              "      <td>43</td>\n",
              "    </tr>\n",
              "    <tr>\n",
              "      <td>2</td>\n",
              "      <td>1000</td>\n",
              "      <td>7</td>\n",
              "      <td>47</td>\n",
              "    </tr>\n",
              "    <tr>\n",
              "      <td>3</td>\n",
              "      <td>1000</td>\n",
              "      <td>8</td>\n",
              "      <td>52</td>\n",
              "    </tr>\n",
              "    <tr>\n",
              "      <td>4</td>\n",
              "      <td>1000</td>\n",
              "      <td>9</td>\n",
              "      <td>58</td>\n",
              "    </tr>\n",
              "    <tr>\n",
              "      <td>...</td>\n",
              "      <td>...</td>\n",
              "      <td>...</td>\n",
              "      <td>...</td>\n",
              "    </tr>\n",
              "    <tr>\n",
              "      <td>3169</td>\n",
              "      <td>1498</td>\n",
              "      <td>10</td>\n",
              "      <td>41</td>\n",
              "    </tr>\n",
              "    <tr>\n",
              "      <td>3170</td>\n",
              "      <td>1499</td>\n",
              "      <td>9</td>\n",
              "      <td>9</td>\n",
              "    </tr>\n",
              "    <tr>\n",
              "      <td>3171</td>\n",
              "      <td>1499</td>\n",
              "      <td>10</td>\n",
              "      <td>68</td>\n",
              "    </tr>\n",
              "    <tr>\n",
              "      <td>3172</td>\n",
              "      <td>1499</td>\n",
              "      <td>11</td>\n",
              "      <td>74</td>\n",
              "    </tr>\n",
              "    <tr>\n",
              "      <td>3173</td>\n",
              "      <td>1499</td>\n",
              "      <td>12</td>\n",
              "      <td>69</td>\n",
              "    </tr>\n",
              "  </tbody>\n",
              "</table>\n",
              "<p>3174 rows × 3 columns</p>\n",
              "</div>"
            ],
            "text/plain": [
              "     user_id month calls_number\n",
              "                            sum\n",
              "0       1000     5           22\n",
              "1       1000     6           43\n",
              "2       1000     7           47\n",
              "3       1000     8           52\n",
              "4       1000     9           58\n",
              "...      ...   ...          ...\n",
              "3169    1498    10           41\n",
              "3170    1499     9            9\n",
              "3171    1499    10           68\n",
              "3172    1499    11           74\n",
              "3173    1499    12           69\n",
              "\n",
              "[3174 rows x 3 columns]"
            ]
          },
          "execution_count": 44,
          "metadata": {},
          "output_type": "execute_result"
        }
      ],
      "source": [
        "# Статистика звонков по каждому пользователю по месяцам\n",
        "user_calls.groupby(['user_id','month'])[['calls_number']].agg(['sum']).reset_index()"
      ]
    },
    {
      "cell_type": "code",
      "execution_count": null,
      "metadata": {
        "id": "IqxJiSNJ192g",
        "outputId": "40628d01-8444-4981-e1ce-0dd7fb2d0953"
      },
      "outputs": [
        {
          "data": {
            "text/html": [
              "<div>\n",
              "<style scoped>\n",
              "    .dataframe tbody tr th:only-of-type {\n",
              "        vertical-align: middle;\n",
              "    }\n",
              "\n",
              "    .dataframe tbody tr th {\n",
              "        vertical-align: top;\n",
              "    }\n",
              "\n",
              "    .dataframe thead tr th {\n",
              "        text-align: left;\n",
              "    }\n",
              "</style>\n",
              "<table border=\"1\" class=\"dataframe\">\n",
              "  <thead>\n",
              "    <tr>\n",
              "      <th></th>\n",
              "      <th>user_id</th>\n",
              "      <th>month</th>\n",
              "      <th>call_duration</th>\n",
              "    </tr>\n",
              "    <tr>\n",
              "      <th></th>\n",
              "      <th></th>\n",
              "      <th></th>\n",
              "      <th>sum</th>\n",
              "    </tr>\n",
              "  </thead>\n",
              "  <tbody>\n",
              "    <tr>\n",
              "      <td>0</td>\n",
              "      <td>1000</td>\n",
              "      <td>5</td>\n",
              "      <td>159</td>\n",
              "    </tr>\n",
              "    <tr>\n",
              "      <td>1</td>\n",
              "      <td>1000</td>\n",
              "      <td>6</td>\n",
              "      <td>172</td>\n",
              "    </tr>\n",
              "    <tr>\n",
              "      <td>2</td>\n",
              "      <td>1000</td>\n",
              "      <td>7</td>\n",
              "      <td>340</td>\n",
              "    </tr>\n",
              "    <tr>\n",
              "      <td>3</td>\n",
              "      <td>1000</td>\n",
              "      <td>8</td>\n",
              "      <td>408</td>\n",
              "    </tr>\n",
              "    <tr>\n",
              "      <td>4</td>\n",
              "      <td>1000</td>\n",
              "      <td>9</td>\n",
              "      <td>466</td>\n",
              "    </tr>\n",
              "    <tr>\n",
              "      <td>...</td>\n",
              "      <td>...</td>\n",
              "      <td>...</td>\n",
              "      <td>...</td>\n",
              "    </tr>\n",
              "    <tr>\n",
              "      <td>3169</td>\n",
              "      <td>1498</td>\n",
              "      <td>10</td>\n",
              "      <td>247</td>\n",
              "    </tr>\n",
              "    <tr>\n",
              "      <td>3170</td>\n",
              "      <td>1499</td>\n",
              "      <td>9</td>\n",
              "      <td>70</td>\n",
              "    </tr>\n",
              "    <tr>\n",
              "      <td>3171</td>\n",
              "      <td>1499</td>\n",
              "      <td>10</td>\n",
              "      <td>449</td>\n",
              "    </tr>\n",
              "    <tr>\n",
              "      <td>3172</td>\n",
              "      <td>1499</td>\n",
              "      <td>11</td>\n",
              "      <td>612</td>\n",
              "    </tr>\n",
              "    <tr>\n",
              "      <td>3173</td>\n",
              "      <td>1499</td>\n",
              "      <td>12</td>\n",
              "      <td>492</td>\n",
              "    </tr>\n",
              "  </tbody>\n",
              "</table>\n",
              "<p>3174 rows × 3 columns</p>\n",
              "</div>"
            ],
            "text/plain": [
              "     user_id month call_duration\n",
              "                             sum\n",
              "0       1000     5           159\n",
              "1       1000     6           172\n",
              "2       1000     7           340\n",
              "3       1000     8           408\n",
              "4       1000     9           466\n",
              "...      ...   ...           ...\n",
              "3169    1498    10           247\n",
              "3170    1499     9            70\n",
              "3171    1499    10           449\n",
              "3172    1499    11           612\n",
              "3173    1499    12           492\n",
              "\n",
              "[3174 rows x 3 columns]"
            ]
          },
          "execution_count": 45,
          "metadata": {},
          "output_type": "execute_result"
        }
      ],
      "source": [
        "# Выгрузка длительности звонков по каждому пользователю по месяцам\n",
        "user_calls.groupby(['user_id','month'])[['call_duration']].agg(['sum']).reset_index()"
      ]
    },
    {
      "cell_type": "markdown",
      "metadata": {
        "id": "PrFMahkX192h"
      },
      "source": [
        "#### 2.3.2 Количество отправленных сообщений по месяцам"
      ]
    },
    {
      "cell_type": "markdown",
      "metadata": {
        "id": "PRHO9Lx6192h"
      },
      "source": [
        "Добавим в датасет messages столбец message_month для месяца, в который отправлено сообщение"
      ]
    },
    {
      "cell_type": "code",
      "execution_count": null,
      "metadata": {
        "id": "QI6QJvxg192i"
      },
      "outputs": [],
      "source": [
        "messages['message_month'] = pd.DatetimeIndex(messages['message_date']).month"
      ]
    },
    {
      "cell_type": "markdown",
      "metadata": {
        "id": "F_PQ3eyd192i"
      },
      "source": [
        "Составим сводную таблицу по количеству сообщений в месяц на пользователя"
      ]
    },
    {
      "cell_type": "code",
      "execution_count": null,
      "metadata": {
        "id": "RCkEqCEY192i"
      },
      "outputs": [],
      "source": [
        "user_messages = pd.pivot_table(messages,\n",
        "                               index=['user_id', 'message_month'],\n",
        "                               values=['id'],\n",
        "                               aggfunc=('count')).reset_index()\n",
        "user_messages.columns = ['user_id', 'month', 'messages_number']"
      ]
    },
    {
      "cell_type": "markdown",
      "metadata": {
        "id": "fUyLVD-H192i"
      },
      "source": [
        "Самые активные пользователи по количеству отправленных сообщений в месяц"
      ]
    },
    {
      "cell_type": "code",
      "execution_count": null,
      "metadata": {
        "id": "xrHEktcQ192j",
        "outputId": "ac91e44b-749d-48f4-975f-513affd895e8"
      },
      "outputs": [
        {
          "data": {
            "text/html": [
              "<div>\n",
              "<style scoped>\n",
              "    .dataframe tbody tr th:only-of-type {\n",
              "        vertical-align: middle;\n",
              "    }\n",
              "\n",
              "    .dataframe tbody tr th {\n",
              "        vertical-align: top;\n",
              "    }\n",
              "\n",
              "    .dataframe thead th {\n",
              "        text-align: right;\n",
              "    }\n",
              "</style>\n",
              "<table border=\"1\" class=\"dataframe\">\n",
              "  <thead>\n",
              "    <tr style=\"text-align: right;\">\n",
              "      <th></th>\n",
              "      <th>user_id</th>\n",
              "      <th>month</th>\n",
              "      <th>messages_number</th>\n",
              "    </tr>\n",
              "  </thead>\n",
              "  <tbody>\n",
              "    <tr>\n",
              "      <td>0</td>\n",
              "      <td>1165</td>\n",
              "      <td>12</td>\n",
              "      <td>224</td>\n",
              "    </tr>\n",
              "    <tr>\n",
              "      <td>1</td>\n",
              "      <td>1028</td>\n",
              "      <td>10</td>\n",
              "      <td>223</td>\n",
              "    </tr>\n",
              "    <tr>\n",
              "      <td>2</td>\n",
              "      <td>1231</td>\n",
              "      <td>7</td>\n",
              "      <td>211</td>\n",
              "    </tr>\n",
              "    <tr>\n",
              "      <td>3</td>\n",
              "      <td>1231</td>\n",
              "      <td>6</td>\n",
              "      <td>201</td>\n",
              "    </tr>\n",
              "    <tr>\n",
              "      <td>4</td>\n",
              "      <td>1165</td>\n",
              "      <td>11</td>\n",
              "      <td>197</td>\n",
              "    </tr>\n",
              "  </tbody>\n",
              "</table>\n",
              "</div>"
            ],
            "text/plain": [
              "   user_id  month  messages_number\n",
              "0     1165     12              224\n",
              "1     1028     10              223\n",
              "2     1231      7              211\n",
              "3     1231      6              201\n",
              "4     1165     11              197"
            ]
          },
          "execution_count": 48,
          "metadata": {},
          "output_type": "execute_result"
        }
      ],
      "source": [
        "user_messages.sort_values(by='messages_number', ascending=False).head().reset_index(drop=True)"
      ]
    },
    {
      "cell_type": "code",
      "execution_count": null,
      "metadata": {
        "id": "JLqzvqzp192j",
        "outputId": "4905068c-9c39-4cb6-f333-4d9d553a4dcf"
      },
      "outputs": [
        {
          "data": {
            "text/html": [
              "<div>\n",
              "<style scoped>\n",
              "    .dataframe tbody tr th:only-of-type {\n",
              "        vertical-align: middle;\n",
              "    }\n",
              "\n",
              "    .dataframe tbody tr th {\n",
              "        vertical-align: top;\n",
              "    }\n",
              "\n",
              "    .dataframe thead tr th {\n",
              "        text-align: left;\n",
              "    }\n",
              "</style>\n",
              "<table border=\"1\" class=\"dataframe\">\n",
              "  <thead>\n",
              "    <tr>\n",
              "      <th></th>\n",
              "      <th>user_id</th>\n",
              "      <th>month</th>\n",
              "      <th>messages_number</th>\n",
              "    </tr>\n",
              "    <tr>\n",
              "      <th></th>\n",
              "      <th></th>\n",
              "      <th></th>\n",
              "      <th>sum</th>\n",
              "    </tr>\n",
              "  </thead>\n",
              "  <tbody>\n",
              "    <tr>\n",
              "      <td>0</td>\n",
              "      <td>1000</td>\n",
              "      <td>5</td>\n",
              "      <td>22</td>\n",
              "    </tr>\n",
              "    <tr>\n",
              "      <td>1</td>\n",
              "      <td>1000</td>\n",
              "      <td>6</td>\n",
              "      <td>60</td>\n",
              "    </tr>\n",
              "    <tr>\n",
              "      <td>2</td>\n",
              "      <td>1000</td>\n",
              "      <td>7</td>\n",
              "      <td>75</td>\n",
              "    </tr>\n",
              "    <tr>\n",
              "      <td>3</td>\n",
              "      <td>1000</td>\n",
              "      <td>8</td>\n",
              "      <td>81</td>\n",
              "    </tr>\n",
              "    <tr>\n",
              "      <td>4</td>\n",
              "      <td>1000</td>\n",
              "      <td>9</td>\n",
              "      <td>57</td>\n",
              "    </tr>\n",
              "    <tr>\n",
              "      <td>...</td>\n",
              "      <td>...</td>\n",
              "      <td>...</td>\n",
              "      <td>...</td>\n",
              "    </tr>\n",
              "    <tr>\n",
              "      <td>2712</td>\n",
              "      <td>1498</td>\n",
              "      <td>10</td>\n",
              "      <td>42</td>\n",
              "    </tr>\n",
              "    <tr>\n",
              "      <td>2713</td>\n",
              "      <td>1499</td>\n",
              "      <td>9</td>\n",
              "      <td>11</td>\n",
              "    </tr>\n",
              "    <tr>\n",
              "      <td>2714</td>\n",
              "      <td>1499</td>\n",
              "      <td>10</td>\n",
              "      <td>48</td>\n",
              "    </tr>\n",
              "    <tr>\n",
              "      <td>2715</td>\n",
              "      <td>1499</td>\n",
              "      <td>11</td>\n",
              "      <td>59</td>\n",
              "    </tr>\n",
              "    <tr>\n",
              "      <td>2716</td>\n",
              "      <td>1499</td>\n",
              "      <td>12</td>\n",
              "      <td>66</td>\n",
              "    </tr>\n",
              "  </tbody>\n",
              "</table>\n",
              "<p>2717 rows × 3 columns</p>\n",
              "</div>"
            ],
            "text/plain": [
              "     user_id month messages_number\n",
              "                               sum\n",
              "0       1000     5              22\n",
              "1       1000     6              60\n",
              "2       1000     7              75\n",
              "3       1000     8              81\n",
              "4       1000     9              57\n",
              "...      ...   ...             ...\n",
              "2712    1498    10              42\n",
              "2713    1499     9              11\n",
              "2714    1499    10              48\n",
              "2715    1499    11              59\n",
              "2716    1499    12              66\n",
              "\n",
              "[2717 rows x 3 columns]"
            ]
          },
          "execution_count": 49,
          "metadata": {},
          "output_type": "execute_result"
        }
      ],
      "source": [
        "# Статистика отправленных сообщений по каждому пользователю по месяцам\n",
        "user_messages.groupby(['user_id','month'])[['messages_number']].agg(['sum']).reset_index()"
      ]
    },
    {
      "cell_type": "markdown",
      "metadata": {
        "id": "sj0hYcsP192l"
      },
      "source": [
        "#### 2.3.3 Объем израсходованного интернет-трафика по месяцам"
      ]
    },
    {
      "cell_type": "markdown",
      "metadata": {
        "id": "2hk9anGH192l"
      },
      "source": [
        "Добавим в датасет internet столбец internet_month для месяца, в который израсходован трафик"
      ]
    },
    {
      "cell_type": "code",
      "execution_count": null,
      "metadata": {
        "id": "HNUrLSVo192l"
      },
      "outputs": [],
      "source": [
        "internet['internet_month'] = pd.DatetimeIndex(internet['session_date']).month"
      ]
    },
    {
      "cell_type": "markdown",
      "metadata": {
        "id": "3GoAKulj192m"
      },
      "source": [
        "Переведем израсходованный интернет-трафик из мегабайт в гигабайты делением на 1024 (количество МБ в ГБ)"
      ]
    },
    {
      "cell_type": "code",
      "execution_count": null,
      "metadata": {
        "id": "frsFHFtI192m"
      },
      "outputs": [],
      "source": [
        "internet['gb_used'] = internet['mb_used'] / 1024"
      ]
    },
    {
      "cell_type": "markdown",
      "metadata": {
        "id": "Uk5tjBuh192n"
      },
      "source": [
        "Составим сводную таблицу по объему израсходованного трафика в месяц в гигабайтах на пользователя"
      ]
    },
    {
      "cell_type": "code",
      "execution_count": null,
      "metadata": {
        "id": "0WtNogUe192o"
      },
      "outputs": [],
      "source": [
        "user_internet = pd.pivot_table(internet,\n",
        "                               index=['user_id', 'internet_month'],\n",
        "                               values=['gb_used'],\n",
        "                               aggfunc=('sum')).reset_index()\n",
        "user_internet.columns = ['user_id', 'month', 'gb_used']"
      ]
    },
    {
      "cell_type": "markdown",
      "metadata": {
        "id": "lvDs4DX6192o"
      },
      "source": [
        "Рекордсмены по израсходованному в месяц интернет-трафику"
      ]
    },
    {
      "cell_type": "code",
      "execution_count": null,
      "metadata": {
        "id": "rPr1e5mo192o",
        "outputId": "322b4824-9ec0-426d-f32c-70e7a58fa5cd"
      },
      "outputs": [
        {
          "data": {
            "text/html": [
              "<div>\n",
              "<style scoped>\n",
              "    .dataframe tbody tr th:only-of-type {\n",
              "        vertical-align: middle;\n",
              "    }\n",
              "\n",
              "    .dataframe tbody tr th {\n",
              "        vertical-align: top;\n",
              "    }\n",
              "\n",
              "    .dataframe thead th {\n",
              "        text-align: right;\n",
              "    }\n",
              "</style>\n",
              "<table border=\"1\" class=\"dataframe\">\n",
              "  <thead>\n",
              "    <tr style=\"text-align: right;\">\n",
              "      <th></th>\n",
              "      <th>user_id</th>\n",
              "      <th>month</th>\n",
              "      <th>gb_used</th>\n",
              "    </tr>\n",
              "  </thead>\n",
              "  <tbody>\n",
              "    <tr>\n",
              "      <td>0</td>\n",
              "      <td>1124</td>\n",
              "      <td>10</td>\n",
              "      <td>48.622070</td>\n",
              "    </tr>\n",
              "    <tr>\n",
              "      <td>1</td>\n",
              "      <td>1240</td>\n",
              "      <td>8</td>\n",
              "      <td>47.260742</td>\n",
              "    </tr>\n",
              "    <tr>\n",
              "      <td>2</td>\n",
              "      <td>1255</td>\n",
              "      <td>7</td>\n",
              "      <td>44.162109</td>\n",
              "    </tr>\n",
              "    <tr>\n",
              "      <td>3</td>\n",
              "      <td>1300</td>\n",
              "      <td>11</td>\n",
              "      <td>43.301758</td>\n",
              "    </tr>\n",
              "    <tr>\n",
              "      <td>4</td>\n",
              "      <td>1060</td>\n",
              "      <td>12</td>\n",
              "      <td>42.942383</td>\n",
              "    </tr>\n",
              "  </tbody>\n",
              "</table>\n",
              "</div>"
            ],
            "text/plain": [
              "   user_id  month    gb_used\n",
              "0     1124     10  48.622070\n",
              "1     1240      8  47.260742\n",
              "2     1255      7  44.162109\n",
              "3     1300     11  43.301758\n",
              "4     1060     12  42.942383"
            ]
          },
          "execution_count": 53,
          "metadata": {},
          "output_type": "execute_result"
        }
      ],
      "source": [
        "user_internet.sort_values(by='gb_used', ascending=False).head().reset_index(drop=True)"
      ]
    },
    {
      "cell_type": "code",
      "execution_count": null,
      "metadata": {
        "id": "iqvJlS3_192p",
        "outputId": "6ea45a42-c764-401b-bf5f-48c6182a4c2f"
      },
      "outputs": [
        {
          "data": {
            "text/html": [
              "<div>\n",
              "<style scoped>\n",
              "    .dataframe tbody tr th:only-of-type {\n",
              "        vertical-align: middle;\n",
              "    }\n",
              "\n",
              "    .dataframe tbody tr th {\n",
              "        vertical-align: top;\n",
              "    }\n",
              "\n",
              "    .dataframe thead tr th {\n",
              "        text-align: left;\n",
              "    }\n",
              "</style>\n",
              "<table border=\"1\" class=\"dataframe\">\n",
              "  <thead>\n",
              "    <tr>\n",
              "      <th></th>\n",
              "      <th>user_id</th>\n",
              "      <th>month</th>\n",
              "      <th>gb_used</th>\n",
              "    </tr>\n",
              "    <tr>\n",
              "      <th></th>\n",
              "      <th></th>\n",
              "      <th></th>\n",
              "      <th>sum</th>\n",
              "    </tr>\n",
              "  </thead>\n",
              "  <tbody>\n",
              "    <tr>\n",
              "      <td>0</td>\n",
              "      <td>1000</td>\n",
              "      <td>5</td>\n",
              "      <td>2.203125</td>\n",
              "    </tr>\n",
              "    <tr>\n",
              "      <td>1</td>\n",
              "      <td>1000</td>\n",
              "      <td>6</td>\n",
              "      <td>22.711914</td>\n",
              "    </tr>\n",
              "    <tr>\n",
              "      <td>2</td>\n",
              "      <td>1000</td>\n",
              "      <td>7</td>\n",
              "      <td>13.687500</td>\n",
              "    </tr>\n",
              "    <tr>\n",
              "      <td>3</td>\n",
              "      <td>1000</td>\n",
              "      <td>8</td>\n",
              "      <td>13.740234</td>\n",
              "    </tr>\n",
              "    <tr>\n",
              "      <td>4</td>\n",
              "      <td>1000</td>\n",
              "      <td>9</td>\n",
              "      <td>14.239258</td>\n",
              "    </tr>\n",
              "    <tr>\n",
              "      <td>...</td>\n",
              "      <td>...</td>\n",
              "      <td>...</td>\n",
              "      <td>...</td>\n",
              "    </tr>\n",
              "    <tr>\n",
              "      <td>3198</td>\n",
              "      <td>1498</td>\n",
              "      <td>10</td>\n",
              "      <td>20.121094</td>\n",
              "    </tr>\n",
              "    <tr>\n",
              "      <td>3199</td>\n",
              "      <td>1499</td>\n",
              "      <td>9</td>\n",
              "      <td>1.804688</td>\n",
              "    </tr>\n",
              "    <tr>\n",
              "      <td>3200</td>\n",
              "      <td>1499</td>\n",
              "      <td>10</td>\n",
              "      <td>17.391602</td>\n",
              "    </tr>\n",
              "    <tr>\n",
              "      <td>3201</td>\n",
              "      <td>1499</td>\n",
              "      <td>11</td>\n",
              "      <td>17.562500</td>\n",
              "    </tr>\n",
              "    <tr>\n",
              "      <td>3202</td>\n",
              "      <td>1499</td>\n",
              "      <td>12</td>\n",
              "      <td>12.770508</td>\n",
              "    </tr>\n",
              "  </tbody>\n",
              "</table>\n",
              "<p>3203 rows × 3 columns</p>\n",
              "</div>"
            ],
            "text/plain": [
              "     user_id month    gb_used\n",
              "                          sum\n",
              "0       1000     5   2.203125\n",
              "1       1000     6  22.711914\n",
              "2       1000     7  13.687500\n",
              "3       1000     8  13.740234\n",
              "4       1000     9  14.239258\n",
              "...      ...   ...        ...\n",
              "3198    1498    10  20.121094\n",
              "3199    1499     9   1.804688\n",
              "3200    1499    10  17.391602\n",
              "3201    1499    11  17.562500\n",
              "3202    1499    12  12.770508\n",
              "\n",
              "[3203 rows x 3 columns]"
            ]
          },
          "execution_count": 54,
          "metadata": {},
          "output_type": "execute_result"
        }
      ],
      "source": [
        "# Статистика израсходованного интернет-трафика по каждому пользователю по месяцам\n",
        "user_internet.groupby(['user_id','month'])[['gb_used']].agg(['sum']).reset_index()"
      ]
    },
    {
      "cell_type": "markdown",
      "metadata": {
        "id": "w8-LVWUg192q"
      },
      "source": [
        "#### 2.3.4 Помесячная выручка с каждого пользователя"
      ]
    },
    {
      "cell_type": "markdown",
      "metadata": {
        "id": "NLUR05jW192q"
      },
      "source": [
        "Для рассчета помесячной выручки с каждого пользователя необходимо:\n",
        "* вычесть бесплатный лимит из суммарного количества звонков, сообщений и интернет-трафика\n",
        "* умножить остаток на значение из тарифного плана\n",
        "* прибавить абонентскую плату, соответствующую тарифному плану"
      ]
    },
    {
      "cell_type": "markdown",
      "metadata": {
        "id": "yuEKL-bn192r"
      },
      "source": [
        "Для этого объединим данные о количестве звонков и минут разговора, данные о количестве сообщений, данные об объёме интернет-трафика по месяцам в новом датасете"
      ]
    },
    {
      "cell_type": "code",
      "execution_count": null,
      "metadata": {
        "id": "hIWH8mLq192r",
        "outputId": "101de91c-8fd5-4771-fea7-a74822465e84"
      },
      "outputs": [
        {
          "data": {
            "text/html": [
              "<div>\n",
              "<style scoped>\n",
              "    .dataframe tbody tr th:only-of-type {\n",
              "        vertical-align: middle;\n",
              "    }\n",
              "\n",
              "    .dataframe tbody tr th {\n",
              "        vertical-align: top;\n",
              "    }\n",
              "\n",
              "    .dataframe thead th {\n",
              "        text-align: right;\n",
              "    }\n",
              "</style>\n",
              "<table border=\"1\" class=\"dataframe\">\n",
              "  <thead>\n",
              "    <tr style=\"text-align: right;\">\n",
              "      <th></th>\n",
              "      <th>user_id</th>\n",
              "      <th>month</th>\n",
              "      <th>calls_number</th>\n",
              "      <th>call_duration</th>\n",
              "      <th>messages_number</th>\n",
              "      <th>gb_used</th>\n",
              "    </tr>\n",
              "  </thead>\n",
              "  <tbody>\n",
              "    <tr>\n",
              "      <td>0</td>\n",
              "      <td>1000</td>\n",
              "      <td>5</td>\n",
              "      <td>22.0</td>\n",
              "      <td>159.0</td>\n",
              "      <td>22.0</td>\n",
              "      <td>2.203125</td>\n",
              "    </tr>\n",
              "    <tr>\n",
              "      <td>1</td>\n",
              "      <td>1000</td>\n",
              "      <td>6</td>\n",
              "      <td>43.0</td>\n",
              "      <td>172.0</td>\n",
              "      <td>60.0</td>\n",
              "      <td>22.711914</td>\n",
              "    </tr>\n",
              "    <tr>\n",
              "      <td>2</td>\n",
              "      <td>1000</td>\n",
              "      <td>7</td>\n",
              "      <td>47.0</td>\n",
              "      <td>340.0</td>\n",
              "      <td>75.0</td>\n",
              "      <td>13.687500</td>\n",
              "    </tr>\n",
              "    <tr>\n",
              "      <td>3</td>\n",
              "      <td>1000</td>\n",
              "      <td>8</td>\n",
              "      <td>52.0</td>\n",
              "      <td>408.0</td>\n",
              "      <td>81.0</td>\n",
              "      <td>13.740234</td>\n",
              "    </tr>\n",
              "    <tr>\n",
              "      <td>4</td>\n",
              "      <td>1000</td>\n",
              "      <td>9</td>\n",
              "      <td>58.0</td>\n",
              "      <td>466.0</td>\n",
              "      <td>57.0</td>\n",
              "      <td>14.239258</td>\n",
              "    </tr>\n",
              "    <tr>\n",
              "      <td>...</td>\n",
              "      <td>...</td>\n",
              "      <td>...</td>\n",
              "      <td>...</td>\n",
              "      <td>...</td>\n",
              "      <td>...</td>\n",
              "      <td>...</td>\n",
              "    </tr>\n",
              "    <tr>\n",
              "      <td>3209</td>\n",
              "      <td>1489</td>\n",
              "      <td>9</td>\n",
              "      <td>NaN</td>\n",
              "      <td>NaN</td>\n",
              "      <td>32.0</td>\n",
              "      <td>16.828125</td>\n",
              "    </tr>\n",
              "    <tr>\n",
              "      <td>3210</td>\n",
              "      <td>1489</td>\n",
              "      <td>10</td>\n",
              "      <td>NaN</td>\n",
              "      <td>NaN</td>\n",
              "      <td>21.0</td>\n",
              "      <td>19.128906</td>\n",
              "    </tr>\n",
              "    <tr>\n",
              "      <td>3211</td>\n",
              "      <td>1489</td>\n",
              "      <td>11</td>\n",
              "      <td>NaN</td>\n",
              "      <td>NaN</td>\n",
              "      <td>20.0</td>\n",
              "      <td>17.105469</td>\n",
              "    </tr>\n",
              "    <tr>\n",
              "      <td>3212</td>\n",
              "      <td>1489</td>\n",
              "      <td>12</td>\n",
              "      <td>NaN</td>\n",
              "      <td>NaN</td>\n",
              "      <td>35.0</td>\n",
              "      <td>16.934570</td>\n",
              "    </tr>\n",
              "    <tr>\n",
              "      <td>3213</td>\n",
              "      <td>1476</td>\n",
              "      <td>4</td>\n",
              "      <td>NaN</td>\n",
              "      <td>NaN</td>\n",
              "      <td>NaN</td>\n",
              "      <td>0.518555</td>\n",
              "    </tr>\n",
              "  </tbody>\n",
              "</table>\n",
              "<p>3214 rows × 6 columns</p>\n",
              "</div>"
            ],
            "text/plain": [
              "      user_id  month  calls_number  call_duration  messages_number    gb_used\n",
              "0        1000      5          22.0          159.0             22.0   2.203125\n",
              "1        1000      6          43.0          172.0             60.0  22.711914\n",
              "2        1000      7          47.0          340.0             75.0  13.687500\n",
              "3        1000      8          52.0          408.0             81.0  13.740234\n",
              "4        1000      9          58.0          466.0             57.0  14.239258\n",
              "...       ...    ...           ...            ...              ...        ...\n",
              "3209     1489      9           NaN            NaN             32.0  16.828125\n",
              "3210     1489     10           NaN            NaN             21.0  19.128906\n",
              "3211     1489     11           NaN            NaN             20.0  17.105469\n",
              "3212     1489     12           NaN            NaN             35.0  16.934570\n",
              "3213     1476      4           NaN            NaN              NaN   0.518555\n",
              "\n",
              "[3214 rows x 6 columns]"
            ]
          },
          "execution_count": 55,
          "metadata": {},
          "output_type": "execute_result"
        }
      ],
      "source": [
        "user_total = user_calls.merge(user_messages, on=['user_id', 'month'], how='outer')\n",
        "user_total = user_total.merge(user_internet, on=['user_id', 'month'], how='outer')\n",
        "user_total"
      ]
    },
    {
      "cell_type": "markdown",
      "metadata": {
        "id": "yIjgdpCl192t"
      },
      "source": [
        "При слиянии датасетов в некоторых столбцах появились пропущенные значения NaN. Вероятная причина: не каждый пользователь использует тарифный план полностью, включая все услуги. Самым простым решением будет заменить пропущенные значения нулями для отражения неиспользованной услуги."
      ]
    },
    {
      "cell_type": "code",
      "execution_count": null,
      "metadata": {
        "id": "cM4KqQhr192t",
        "outputId": "9a0f2db1-eb12-4ba3-b242-e1380232349b"
      },
      "outputs": [
        {
          "data": {
            "text/html": [
              "<div>\n",
              "<style scoped>\n",
              "    .dataframe tbody tr th:only-of-type {\n",
              "        vertical-align: middle;\n",
              "    }\n",
              "\n",
              "    .dataframe tbody tr th {\n",
              "        vertical-align: top;\n",
              "    }\n",
              "\n",
              "    .dataframe thead th {\n",
              "        text-align: right;\n",
              "    }\n",
              "</style>\n",
              "<table border=\"1\" class=\"dataframe\">\n",
              "  <thead>\n",
              "    <tr style=\"text-align: right;\">\n",
              "      <th></th>\n",
              "      <th>user_id</th>\n",
              "      <th>month</th>\n",
              "      <th>calls_number</th>\n",
              "      <th>call_duration</th>\n",
              "      <th>messages_number</th>\n",
              "      <th>gb_used</th>\n",
              "    </tr>\n",
              "  </thead>\n",
              "  <tbody>\n",
              "    <tr>\n",
              "      <td>0</td>\n",
              "      <td>1000</td>\n",
              "      <td>5</td>\n",
              "      <td>22.0</td>\n",
              "      <td>159.0</td>\n",
              "      <td>22.0</td>\n",
              "      <td>2.203125</td>\n",
              "    </tr>\n",
              "    <tr>\n",
              "      <td>1</td>\n",
              "      <td>1000</td>\n",
              "      <td>6</td>\n",
              "      <td>43.0</td>\n",
              "      <td>172.0</td>\n",
              "      <td>60.0</td>\n",
              "      <td>22.711914</td>\n",
              "    </tr>\n",
              "    <tr>\n",
              "      <td>2</td>\n",
              "      <td>1000</td>\n",
              "      <td>7</td>\n",
              "      <td>47.0</td>\n",
              "      <td>340.0</td>\n",
              "      <td>75.0</td>\n",
              "      <td>13.687500</td>\n",
              "    </tr>\n",
              "    <tr>\n",
              "      <td>3</td>\n",
              "      <td>1000</td>\n",
              "      <td>8</td>\n",
              "      <td>52.0</td>\n",
              "      <td>408.0</td>\n",
              "      <td>81.0</td>\n",
              "      <td>13.740234</td>\n",
              "    </tr>\n",
              "    <tr>\n",
              "      <td>4</td>\n",
              "      <td>1000</td>\n",
              "      <td>9</td>\n",
              "      <td>58.0</td>\n",
              "      <td>466.0</td>\n",
              "      <td>57.0</td>\n",
              "      <td>14.239258</td>\n",
              "    </tr>\n",
              "    <tr>\n",
              "      <td>...</td>\n",
              "      <td>...</td>\n",
              "      <td>...</td>\n",
              "      <td>...</td>\n",
              "      <td>...</td>\n",
              "      <td>...</td>\n",
              "      <td>...</td>\n",
              "    </tr>\n",
              "    <tr>\n",
              "      <td>3209</td>\n",
              "      <td>1489</td>\n",
              "      <td>9</td>\n",
              "      <td>0.0</td>\n",
              "      <td>0.0</td>\n",
              "      <td>32.0</td>\n",
              "      <td>16.828125</td>\n",
              "    </tr>\n",
              "    <tr>\n",
              "      <td>3210</td>\n",
              "      <td>1489</td>\n",
              "      <td>10</td>\n",
              "      <td>0.0</td>\n",
              "      <td>0.0</td>\n",
              "      <td>21.0</td>\n",
              "      <td>19.128906</td>\n",
              "    </tr>\n",
              "    <tr>\n",
              "      <td>3211</td>\n",
              "      <td>1489</td>\n",
              "      <td>11</td>\n",
              "      <td>0.0</td>\n",
              "      <td>0.0</td>\n",
              "      <td>20.0</td>\n",
              "      <td>17.105469</td>\n",
              "    </tr>\n",
              "    <tr>\n",
              "      <td>3212</td>\n",
              "      <td>1489</td>\n",
              "      <td>12</td>\n",
              "      <td>0.0</td>\n",
              "      <td>0.0</td>\n",
              "      <td>35.0</td>\n",
              "      <td>16.934570</td>\n",
              "    </tr>\n",
              "    <tr>\n",
              "      <td>3213</td>\n",
              "      <td>1476</td>\n",
              "      <td>4</td>\n",
              "      <td>0.0</td>\n",
              "      <td>0.0</td>\n",
              "      <td>0.0</td>\n",
              "      <td>0.518555</td>\n",
              "    </tr>\n",
              "  </tbody>\n",
              "</table>\n",
              "<p>3214 rows × 6 columns</p>\n",
              "</div>"
            ],
            "text/plain": [
              "      user_id  month  calls_number  call_duration  messages_number    gb_used\n",
              "0        1000      5          22.0          159.0             22.0   2.203125\n",
              "1        1000      6          43.0          172.0             60.0  22.711914\n",
              "2        1000      7          47.0          340.0             75.0  13.687500\n",
              "3        1000      8          52.0          408.0             81.0  13.740234\n",
              "4        1000      9          58.0          466.0             57.0  14.239258\n",
              "...       ...    ...           ...            ...              ...        ...\n",
              "3209     1489      9           0.0            0.0             32.0  16.828125\n",
              "3210     1489     10           0.0            0.0             21.0  19.128906\n",
              "3211     1489     11           0.0            0.0             20.0  17.105469\n",
              "3212     1489     12           0.0            0.0             35.0  16.934570\n",
              "3213     1476      4           0.0            0.0              0.0   0.518555\n",
              "\n",
              "[3214 rows x 6 columns]"
            ]
          },
          "execution_count": 56,
          "metadata": {},
          "output_type": "execute_result"
        }
      ],
      "source": [
        "user_total = user_total.fillna(0)\n",
        "user_total"
      ]
    },
    {
      "cell_type": "markdown",
      "metadata": {
        "id": "48m2k2FE192u"
      },
      "source": [
        "Следующим шагом добавим к текущему датасету данные о подключенных тарифах для каждого пользователя"
      ]
    },
    {
      "cell_type": "code",
      "execution_count": null,
      "metadata": {
        "id": "0qy6moPs192u",
        "outputId": "ba9baf3b-8753-4032-d337-39888dfb9611"
      },
      "outputs": [
        {
          "data": {
            "text/html": [
              "<div>\n",
              "<style scoped>\n",
              "    .dataframe tbody tr th:only-of-type {\n",
              "        vertical-align: middle;\n",
              "    }\n",
              "\n",
              "    .dataframe tbody tr th {\n",
              "        vertical-align: top;\n",
              "    }\n",
              "\n",
              "    .dataframe thead th {\n",
              "        text-align: right;\n",
              "    }\n",
              "</style>\n",
              "<table border=\"1\" class=\"dataframe\">\n",
              "  <thead>\n",
              "    <tr style=\"text-align: right;\">\n",
              "      <th></th>\n",
              "      <th>user_id</th>\n",
              "      <th>month</th>\n",
              "      <th>calls_number</th>\n",
              "      <th>call_duration</th>\n",
              "      <th>messages_number</th>\n",
              "      <th>gb_used</th>\n",
              "      <th>churn_date</th>\n",
              "      <th>city</th>\n",
              "      <th>reg_date</th>\n",
              "      <th>tariff</th>\n",
              "    </tr>\n",
              "  </thead>\n",
              "  <tbody>\n",
              "    <tr>\n",
              "      <td>0</td>\n",
              "      <td>1000</td>\n",
              "      <td>5.0</td>\n",
              "      <td>22.0</td>\n",
              "      <td>159.0</td>\n",
              "      <td>22.0</td>\n",
              "      <td>2.203125</td>\n",
              "      <td>NaN</td>\n",
              "      <td>Краснодар</td>\n",
              "      <td>2018-05-25</td>\n",
              "      <td>ultra</td>\n",
              "    </tr>\n",
              "    <tr>\n",
              "      <td>1</td>\n",
              "      <td>1000</td>\n",
              "      <td>6.0</td>\n",
              "      <td>43.0</td>\n",
              "      <td>172.0</td>\n",
              "      <td>60.0</td>\n",
              "      <td>22.711914</td>\n",
              "      <td>NaN</td>\n",
              "      <td>Краснодар</td>\n",
              "      <td>2018-05-25</td>\n",
              "      <td>ultra</td>\n",
              "    </tr>\n",
              "    <tr>\n",
              "      <td>2</td>\n",
              "      <td>1000</td>\n",
              "      <td>7.0</td>\n",
              "      <td>47.0</td>\n",
              "      <td>340.0</td>\n",
              "      <td>75.0</td>\n",
              "      <td>13.687500</td>\n",
              "      <td>NaN</td>\n",
              "      <td>Краснодар</td>\n",
              "      <td>2018-05-25</td>\n",
              "      <td>ultra</td>\n",
              "    </tr>\n",
              "    <tr>\n",
              "      <td>3</td>\n",
              "      <td>1000</td>\n",
              "      <td>8.0</td>\n",
              "      <td>52.0</td>\n",
              "      <td>408.0</td>\n",
              "      <td>81.0</td>\n",
              "      <td>13.740234</td>\n",
              "      <td>NaN</td>\n",
              "      <td>Краснодар</td>\n",
              "      <td>2018-05-25</td>\n",
              "      <td>ultra</td>\n",
              "    </tr>\n",
              "    <tr>\n",
              "      <td>4</td>\n",
              "      <td>1000</td>\n",
              "      <td>9.0</td>\n",
              "      <td>58.0</td>\n",
              "      <td>466.0</td>\n",
              "      <td>57.0</td>\n",
              "      <td>14.239258</td>\n",
              "      <td>NaN</td>\n",
              "      <td>Краснодар</td>\n",
              "      <td>2018-05-25</td>\n",
              "      <td>ultra</td>\n",
              "    </tr>\n",
              "    <tr>\n",
              "      <td>...</td>\n",
              "      <td>...</td>\n",
              "      <td>...</td>\n",
              "      <td>...</td>\n",
              "      <td>...</td>\n",
              "      <td>...</td>\n",
              "      <td>...</td>\n",
              "      <td>...</td>\n",
              "      <td>...</td>\n",
              "      <td>...</td>\n",
              "      <td>...</td>\n",
              "    </tr>\n",
              "    <tr>\n",
              "      <td>3211</td>\n",
              "      <td>1489</td>\n",
              "      <td>10.0</td>\n",
              "      <td>0.0</td>\n",
              "      <td>0.0</td>\n",
              "      <td>21.0</td>\n",
              "      <td>19.128906</td>\n",
              "      <td>NaN</td>\n",
              "      <td>Санкт-Петербург</td>\n",
              "      <td>2018-08-15</td>\n",
              "      <td>smart</td>\n",
              "    </tr>\n",
              "    <tr>\n",
              "      <td>3212</td>\n",
              "      <td>1489</td>\n",
              "      <td>11.0</td>\n",
              "      <td>0.0</td>\n",
              "      <td>0.0</td>\n",
              "      <td>20.0</td>\n",
              "      <td>17.105469</td>\n",
              "      <td>NaN</td>\n",
              "      <td>Санкт-Петербург</td>\n",
              "      <td>2018-08-15</td>\n",
              "      <td>smart</td>\n",
              "    </tr>\n",
              "    <tr>\n",
              "      <td>3213</td>\n",
              "      <td>1489</td>\n",
              "      <td>12.0</td>\n",
              "      <td>0.0</td>\n",
              "      <td>0.0</td>\n",
              "      <td>35.0</td>\n",
              "      <td>16.934570</td>\n",
              "      <td>NaN</td>\n",
              "      <td>Санкт-Петербург</td>\n",
              "      <td>2018-08-15</td>\n",
              "      <td>smart</td>\n",
              "    </tr>\n",
              "    <tr>\n",
              "      <td>3214</td>\n",
              "      <td>1128</td>\n",
              "      <td>NaN</td>\n",
              "      <td>NaN</td>\n",
              "      <td>NaN</td>\n",
              "      <td>NaN</td>\n",
              "      <td>NaN</td>\n",
              "      <td>2018-12-23</td>\n",
              "      <td>Волжский</td>\n",
              "      <td>2018-12-15</td>\n",
              "      <td>ultra</td>\n",
              "    </tr>\n",
              "    <tr>\n",
              "      <td>3215</td>\n",
              "      <td>1371</td>\n",
              "      <td>NaN</td>\n",
              "      <td>NaN</td>\n",
              "      <td>NaN</td>\n",
              "      <td>NaN</td>\n",
              "      <td>NaN</td>\n",
              "      <td>2018-12-30</td>\n",
              "      <td>Омск</td>\n",
              "      <td>2018-12-25</td>\n",
              "      <td>smart</td>\n",
              "    </tr>\n",
              "  </tbody>\n",
              "</table>\n",
              "<p>3216 rows × 10 columns</p>\n",
              "</div>"
            ],
            "text/plain": [
              "      user_id  month  calls_number  call_duration  messages_number    gb_used  \\\n",
              "0        1000    5.0          22.0          159.0             22.0   2.203125   \n",
              "1        1000    6.0          43.0          172.0             60.0  22.711914   \n",
              "2        1000    7.0          47.0          340.0             75.0  13.687500   \n",
              "3        1000    8.0          52.0          408.0             81.0  13.740234   \n",
              "4        1000    9.0          58.0          466.0             57.0  14.239258   \n",
              "...       ...    ...           ...            ...              ...        ...   \n",
              "3211     1489   10.0           0.0            0.0             21.0  19.128906   \n",
              "3212     1489   11.0           0.0            0.0             20.0  17.105469   \n",
              "3213     1489   12.0           0.0            0.0             35.0  16.934570   \n",
              "3214     1128    NaN           NaN            NaN              NaN        NaN   \n",
              "3215     1371    NaN           NaN            NaN              NaN        NaN   \n",
              "\n",
              "      churn_date             city   reg_date tariff  \n",
              "0            NaN        Краснодар 2018-05-25  ultra  \n",
              "1            NaN        Краснодар 2018-05-25  ultra  \n",
              "2            NaN        Краснодар 2018-05-25  ultra  \n",
              "3            NaN        Краснодар 2018-05-25  ultra  \n",
              "4            NaN        Краснодар 2018-05-25  ultra  \n",
              "...          ...              ...        ...    ...  \n",
              "3211         NaN  Санкт-Петербург 2018-08-15  smart  \n",
              "3212         NaN  Санкт-Петербург 2018-08-15  smart  \n",
              "3213         NaN  Санкт-Петербург 2018-08-15  smart  \n",
              "3214  2018-12-23         Волжский 2018-12-15  ultra  \n",
              "3215  2018-12-30             Омск 2018-12-25  smart  \n",
              "\n",
              "[3216 rows x 10 columns]"
            ]
          },
          "execution_count": 57,
          "metadata": {},
          "output_type": "execute_result"
        }
      ],
      "source": [
        "user_total = user_total.merge(users, on='user_id', how='outer')\n",
        "user_total.drop(['age', 'first_name', 'last_name'], axis='columns', inplace=True)\n",
        "user_total"
      ]
    },
    {
      "cell_type": "markdown",
      "metadata": {
        "id": "UUxp_NaW192v"
      },
      "source": [
        "В расширенном датасете пропущенные значения для некоторых пользователей охватывают все услуги, при этом судя по churn_date эти клиенты уже отключились от тарифа. Поскольку по факту услуги не были оказаны, думаю, можно удалить эти значения как не дающие дополнительной информации для нашего анализа."
      ]
    },
    {
      "cell_type": "code",
      "execution_count": null,
      "metadata": {
        "id": "zCBVlggc192x"
      },
      "outputs": [],
      "source": [
        "user_total.dropna(subset = ['calls_number', 'messages_number', 'gb_used'], inplace = True)"
      ]
    },
    {
      "cell_type": "markdown",
      "metadata": {
        "id": "sgE-iALk192z"
      },
      "source": [
        "Проверим, остались ли еще непропущенные значения в столбце churn_date"
      ]
    },
    {
      "cell_type": "code",
      "execution_count": null,
      "metadata": {
        "id": "WFc9sh4j1922",
        "outputId": "e5af12e6-4892-4013-99e0-c89c71b62932"
      },
      "outputs": [
        {
          "data": {
            "text/plain": [
              "3214"
            ]
          },
          "execution_count": 59,
          "metadata": {},
          "output_type": "execute_result"
        }
      ],
      "source": [
        "user_total['churn_date'].isna().count()"
      ]
    },
    {
      "cell_type": "markdown",
      "metadata": {
        "id": "gy-6W1WD1923"
      },
      "source": [
        "Похоже, у всех пользователей в базе активные тарифы, поэтому столбец churn_date за ненадобностью можно удалить."
      ]
    },
    {
      "cell_type": "code",
      "execution_count": null,
      "metadata": {
        "id": "xO3kqXoB1924"
      },
      "outputs": [],
      "source": [
        "user_total.drop('churn_date', axis='columns', inplace=True)"
      ]
    },
    {
      "cell_type": "markdown",
      "metadata": {
        "id": "NiE_8pGZ1925"
      },
      "source": [
        "Вернемся к датасету tariffs и приведем его к единому виду из расчета на гигабайт, а не мегабайт -- для успешного слияния с текущей таблицей user_total"
      ]
    },
    {
      "cell_type": "code",
      "execution_count": null,
      "metadata": {
        "id": "NXOOZBIR1926"
      },
      "outputs": [],
      "source": [
        "# Добавим новый столбец с пересчетом мегабайт абонемента в гигабайты\n",
        "tariffs['gb_per_month_included'] = tariffs['mb_per_month_included'] / 1024\n",
        "\n",
        "# Удалим более не нужный столбец mb_per_month_included\n",
        "tariffs.drop(['mb_per_month_included'], axis='columns', inplace=True)"
      ]
    },
    {
      "cell_type": "code",
      "execution_count": null,
      "metadata": {
        "id": "PW04aV0X1926"
      },
      "outputs": [],
      "source": [
        "# Унифицируем название столбца с наименованием тарифа для успешного слияния с датасетом user_total: \n",
        "# из tariff_name в tariff\n",
        "tariffs.columns = ['messages_included', 'minutes_included', 'rub_monthly_fee', 'rub_per_gb',\n",
        "                   'rub_per_message', 'rub_per_minute', 'tariff', 'gb_per_month_included']"
      ]
    },
    {
      "cell_type": "code",
      "execution_count": null,
      "metadata": {
        "id": "L8MYWVO-1927",
        "outputId": "9b9c4412-8e24-4462-bb59-15c97abeddad"
      },
      "outputs": [
        {
          "data": {
            "text/html": [
              "<div>\n",
              "<style scoped>\n",
              "    .dataframe tbody tr th:only-of-type {\n",
              "        vertical-align: middle;\n",
              "    }\n",
              "\n",
              "    .dataframe tbody tr th {\n",
              "        vertical-align: top;\n",
              "    }\n",
              "\n",
              "    .dataframe thead th {\n",
              "        text-align: right;\n",
              "    }\n",
              "</style>\n",
              "<table border=\"1\" class=\"dataframe\">\n",
              "  <thead>\n",
              "    <tr style=\"text-align: right;\">\n",
              "      <th></th>\n",
              "      <th>user_id</th>\n",
              "      <th>month</th>\n",
              "      <th>calls_number</th>\n",
              "      <th>call_duration</th>\n",
              "      <th>messages_number</th>\n",
              "      <th>gb_used</th>\n",
              "      <th>city</th>\n",
              "      <th>reg_date</th>\n",
              "      <th>tariff</th>\n",
              "      <th>messages_included</th>\n",
              "      <th>minutes_included</th>\n",
              "      <th>rub_monthly_fee</th>\n",
              "      <th>rub_per_gb</th>\n",
              "      <th>rub_per_message</th>\n",
              "      <th>rub_per_minute</th>\n",
              "      <th>gb_per_month_included</th>\n",
              "    </tr>\n",
              "  </thead>\n",
              "  <tbody>\n",
              "    <tr>\n",
              "      <td>0</td>\n",
              "      <td>1000</td>\n",
              "      <td>5.0</td>\n",
              "      <td>22.0</td>\n",
              "      <td>159.0</td>\n",
              "      <td>22.0</td>\n",
              "      <td>2.203125</td>\n",
              "      <td>Краснодар</td>\n",
              "      <td>2018-05-25</td>\n",
              "      <td>ultra</td>\n",
              "      <td>1000</td>\n",
              "      <td>3000</td>\n",
              "      <td>1950</td>\n",
              "      <td>150</td>\n",
              "      <td>1</td>\n",
              "      <td>1</td>\n",
              "      <td>30.0</td>\n",
              "    </tr>\n",
              "    <tr>\n",
              "      <td>1</td>\n",
              "      <td>1000</td>\n",
              "      <td>6.0</td>\n",
              "      <td>43.0</td>\n",
              "      <td>172.0</td>\n",
              "      <td>60.0</td>\n",
              "      <td>22.711914</td>\n",
              "      <td>Краснодар</td>\n",
              "      <td>2018-05-25</td>\n",
              "      <td>ultra</td>\n",
              "      <td>1000</td>\n",
              "      <td>3000</td>\n",
              "      <td>1950</td>\n",
              "      <td>150</td>\n",
              "      <td>1</td>\n",
              "      <td>1</td>\n",
              "      <td>30.0</td>\n",
              "    </tr>\n",
              "    <tr>\n",
              "      <td>2</td>\n",
              "      <td>1000</td>\n",
              "      <td>7.0</td>\n",
              "      <td>47.0</td>\n",
              "      <td>340.0</td>\n",
              "      <td>75.0</td>\n",
              "      <td>13.687500</td>\n",
              "      <td>Краснодар</td>\n",
              "      <td>2018-05-25</td>\n",
              "      <td>ultra</td>\n",
              "      <td>1000</td>\n",
              "      <td>3000</td>\n",
              "      <td>1950</td>\n",
              "      <td>150</td>\n",
              "      <td>1</td>\n",
              "      <td>1</td>\n",
              "      <td>30.0</td>\n",
              "    </tr>\n",
              "    <tr>\n",
              "      <td>3</td>\n",
              "      <td>1000</td>\n",
              "      <td>8.0</td>\n",
              "      <td>52.0</td>\n",
              "      <td>408.0</td>\n",
              "      <td>81.0</td>\n",
              "      <td>13.740234</td>\n",
              "      <td>Краснодар</td>\n",
              "      <td>2018-05-25</td>\n",
              "      <td>ultra</td>\n",
              "      <td>1000</td>\n",
              "      <td>3000</td>\n",
              "      <td>1950</td>\n",
              "      <td>150</td>\n",
              "      <td>1</td>\n",
              "      <td>1</td>\n",
              "      <td>30.0</td>\n",
              "    </tr>\n",
              "    <tr>\n",
              "      <td>4</td>\n",
              "      <td>1000</td>\n",
              "      <td>9.0</td>\n",
              "      <td>58.0</td>\n",
              "      <td>466.0</td>\n",
              "      <td>57.0</td>\n",
              "      <td>14.239258</td>\n",
              "      <td>Краснодар</td>\n",
              "      <td>2018-05-25</td>\n",
              "      <td>ultra</td>\n",
              "      <td>1000</td>\n",
              "      <td>3000</td>\n",
              "      <td>1950</td>\n",
              "      <td>150</td>\n",
              "      <td>1</td>\n",
              "      <td>1</td>\n",
              "      <td>30.0</td>\n",
              "    </tr>\n",
              "    <tr>\n",
              "      <td>...</td>\n",
              "      <td>...</td>\n",
              "      <td>...</td>\n",
              "      <td>...</td>\n",
              "      <td>...</td>\n",
              "      <td>...</td>\n",
              "      <td>...</td>\n",
              "      <td>...</td>\n",
              "      <td>...</td>\n",
              "      <td>...</td>\n",
              "      <td>...</td>\n",
              "      <td>...</td>\n",
              "      <td>...</td>\n",
              "      <td>...</td>\n",
              "      <td>...</td>\n",
              "      <td>...</td>\n",
              "      <td>...</td>\n",
              "    </tr>\n",
              "    <tr>\n",
              "      <td>3209</td>\n",
              "      <td>1489</td>\n",
              "      <td>8.0</td>\n",
              "      <td>0.0</td>\n",
              "      <td>0.0</td>\n",
              "      <td>17.0</td>\n",
              "      <td>10.806641</td>\n",
              "      <td>Санкт-Петербург</td>\n",
              "      <td>2018-08-15</td>\n",
              "      <td>smart</td>\n",
              "      <td>50</td>\n",
              "      <td>500</td>\n",
              "      <td>550</td>\n",
              "      <td>200</td>\n",
              "      <td>3</td>\n",
              "      <td>3</td>\n",
              "      <td>15.0</td>\n",
              "    </tr>\n",
              "    <tr>\n",
              "      <td>3210</td>\n",
              "      <td>1489</td>\n",
              "      <td>9.0</td>\n",
              "      <td>0.0</td>\n",
              "      <td>0.0</td>\n",
              "      <td>32.0</td>\n",
              "      <td>16.828125</td>\n",
              "      <td>Санкт-Петербург</td>\n",
              "      <td>2018-08-15</td>\n",
              "      <td>smart</td>\n",
              "      <td>50</td>\n",
              "      <td>500</td>\n",
              "      <td>550</td>\n",
              "      <td>200</td>\n",
              "      <td>3</td>\n",
              "      <td>3</td>\n",
              "      <td>15.0</td>\n",
              "    </tr>\n",
              "    <tr>\n",
              "      <td>3211</td>\n",
              "      <td>1489</td>\n",
              "      <td>10.0</td>\n",
              "      <td>0.0</td>\n",
              "      <td>0.0</td>\n",
              "      <td>21.0</td>\n",
              "      <td>19.128906</td>\n",
              "      <td>Санкт-Петербург</td>\n",
              "      <td>2018-08-15</td>\n",
              "      <td>smart</td>\n",
              "      <td>50</td>\n",
              "      <td>500</td>\n",
              "      <td>550</td>\n",
              "      <td>200</td>\n",
              "      <td>3</td>\n",
              "      <td>3</td>\n",
              "      <td>15.0</td>\n",
              "    </tr>\n",
              "    <tr>\n",
              "      <td>3212</td>\n",
              "      <td>1489</td>\n",
              "      <td>11.0</td>\n",
              "      <td>0.0</td>\n",
              "      <td>0.0</td>\n",
              "      <td>20.0</td>\n",
              "      <td>17.105469</td>\n",
              "      <td>Санкт-Петербург</td>\n",
              "      <td>2018-08-15</td>\n",
              "      <td>smart</td>\n",
              "      <td>50</td>\n",
              "      <td>500</td>\n",
              "      <td>550</td>\n",
              "      <td>200</td>\n",
              "      <td>3</td>\n",
              "      <td>3</td>\n",
              "      <td>15.0</td>\n",
              "    </tr>\n",
              "    <tr>\n",
              "      <td>3213</td>\n",
              "      <td>1489</td>\n",
              "      <td>12.0</td>\n",
              "      <td>0.0</td>\n",
              "      <td>0.0</td>\n",
              "      <td>35.0</td>\n",
              "      <td>16.934570</td>\n",
              "      <td>Санкт-Петербург</td>\n",
              "      <td>2018-08-15</td>\n",
              "      <td>smart</td>\n",
              "      <td>50</td>\n",
              "      <td>500</td>\n",
              "      <td>550</td>\n",
              "      <td>200</td>\n",
              "      <td>3</td>\n",
              "      <td>3</td>\n",
              "      <td>15.0</td>\n",
              "    </tr>\n",
              "  </tbody>\n",
              "</table>\n",
              "<p>3214 rows × 16 columns</p>\n",
              "</div>"
            ],
            "text/plain": [
              "      user_id  month  calls_number  call_duration  messages_number    gb_used  \\\n",
              "0        1000    5.0          22.0          159.0             22.0   2.203125   \n",
              "1        1000    6.0          43.0          172.0             60.0  22.711914   \n",
              "2        1000    7.0          47.0          340.0             75.0  13.687500   \n",
              "3        1000    8.0          52.0          408.0             81.0  13.740234   \n",
              "4        1000    9.0          58.0          466.0             57.0  14.239258   \n",
              "...       ...    ...           ...            ...              ...        ...   \n",
              "3209     1489    8.0           0.0            0.0             17.0  10.806641   \n",
              "3210     1489    9.0           0.0            0.0             32.0  16.828125   \n",
              "3211     1489   10.0           0.0            0.0             21.0  19.128906   \n",
              "3212     1489   11.0           0.0            0.0             20.0  17.105469   \n",
              "3213     1489   12.0           0.0            0.0             35.0  16.934570   \n",
              "\n",
              "                 city   reg_date tariff  messages_included  minutes_included  \\\n",
              "0           Краснодар 2018-05-25  ultra               1000              3000   \n",
              "1           Краснодар 2018-05-25  ultra               1000              3000   \n",
              "2           Краснодар 2018-05-25  ultra               1000              3000   \n",
              "3           Краснодар 2018-05-25  ultra               1000              3000   \n",
              "4           Краснодар 2018-05-25  ultra               1000              3000   \n",
              "...               ...        ...    ...                ...               ...   \n",
              "3209  Санкт-Петербург 2018-08-15  smart                 50               500   \n",
              "3210  Санкт-Петербург 2018-08-15  smart                 50               500   \n",
              "3211  Санкт-Петербург 2018-08-15  smart                 50               500   \n",
              "3212  Санкт-Петербург 2018-08-15  smart                 50               500   \n",
              "3213  Санкт-Петербург 2018-08-15  smart                 50               500   \n",
              "\n",
              "      rub_monthly_fee  rub_per_gb  rub_per_message  rub_per_minute  \\\n",
              "0                1950         150                1               1   \n",
              "1                1950         150                1               1   \n",
              "2                1950         150                1               1   \n",
              "3                1950         150                1               1   \n",
              "4                1950         150                1               1   \n",
              "...               ...         ...              ...             ...   \n",
              "3209              550         200                3               3   \n",
              "3210              550         200                3               3   \n",
              "3211              550         200                3               3   \n",
              "3212              550         200                3               3   \n",
              "3213              550         200                3               3   \n",
              "\n",
              "      gb_per_month_included  \n",
              "0                      30.0  \n",
              "1                      30.0  \n",
              "2                      30.0  \n",
              "3                      30.0  \n",
              "4                      30.0  \n",
              "...                     ...  \n",
              "3209                   15.0  \n",
              "3210                   15.0  \n",
              "3211                   15.0  \n",
              "3212                   15.0  \n",
              "3213                   15.0  \n",
              "\n",
              "[3214 rows x 16 columns]"
            ]
          },
          "execution_count": 63,
          "metadata": {},
          "output_type": "execute_result"
        }
      ],
      "source": [
        "# Включим данные из базы tariffs в анализируемый датасет user_total\n",
        "user_total = user_total.merge(tariffs, on='tariff', how='left')\n",
        "user_total"
      ]
    },
    {
      "cell_type": "markdown",
      "metadata": {
        "id": "H-y41rdB1928"
      },
      "source": [
        "Найдем значения по превышению использования пользователями тарифа по звонкам, сообщениям и интернет-трафику"
      ]
    },
    {
      "cell_type": "code",
      "execution_count": null,
      "metadata": {
        "id": "n1CtcF5u1929"
      },
      "outputs": [],
      "source": [
        "# Новый столбец с минутами звонков, потраченными сверх лимита\n",
        "user_total['extra_minutes'] = user_total['call_duration'] - user_total['minutes_included']\n",
        "user_total.loc[user_total['extra_minutes'] < 0, 'extra_minutes'] = 0"
      ]
    },
    {
      "cell_type": "code",
      "execution_count": null,
      "metadata": {
        "id": "7sIzB5BT1929"
      },
      "outputs": [],
      "source": [
        "# Новый столбец с числом сообщений, отправленных сверх лимита\n",
        "user_total['extra_messages'] = user_total['messages_number'] - user_total['messages_included']\n",
        "user_total.loc[user_total['extra_messages'] < 0, 'extra_messages'] = 0"
      ]
    },
    {
      "cell_type": "code",
      "execution_count": null,
      "metadata": {
        "id": "6pj68ytE192-"
      },
      "outputs": [],
      "source": [
        "# Новый столбец с объемом интернет-трафика, использованным сверх лимита\n",
        "user_total['extra_gb'] = user_total['gb_used'] - user_total['gb_per_month_included']\n",
        "user_total.loc[user_total['extra_gb'] < 0, 'extra_gb'] = 0"
      ]
    },
    {
      "cell_type": "code",
      "execution_count": null,
      "metadata": {
        "id": "x6Ik8fhX192-"
      },
      "outputs": [],
      "source": [
        "# Новый столбец с подсчетом переплаты пользователя за использование опций сверх лимита\n",
        "user_total['extra_payment'] = (user_total['extra_minutes'] * user_total['rub_per_minute'] +\n",
        "                               user_total['extra_messages'] * user_total['rub_per_message'] +\n",
        "                               user_total['extra_gb'] * user_total['rub_per_gb'])"
      ]
    },
    {
      "cell_type": "markdown",
      "metadata": {
        "id": "WEZ1VJtB192-"
      },
      "source": [
        "В отдельном столбце просуммируем месячную абонентскую плату по тарифу и затраты заа превышение тарифных опций"
      ]
    },
    {
      "cell_type": "code",
      "execution_count": null,
      "metadata": {
        "id": "tboporf9192_"
      },
      "outputs": [],
      "source": [
        "user_total['monthly'] = user_total['rub_monthly_fee'] + user_total['extra_payment']"
      ]
    },
    {
      "cell_type": "code",
      "execution_count": null,
      "metadata": {
        "id": "yPnLScKX192_",
        "outputId": "c471b229-fbee-43f1-88c6-fb8ba04c257b"
      },
      "outputs": [
        {
          "data": {
            "text/html": [
              "<div>\n",
              "<style scoped>\n",
              "    .dataframe tbody tr th:only-of-type {\n",
              "        vertical-align: middle;\n",
              "    }\n",
              "\n",
              "    .dataframe tbody tr th {\n",
              "        vertical-align: top;\n",
              "    }\n",
              "\n",
              "    .dataframe thead th {\n",
              "        text-align: right;\n",
              "    }\n",
              "</style>\n",
              "<table border=\"1\" class=\"dataframe\">\n",
              "  <thead>\n",
              "    <tr style=\"text-align: right;\">\n",
              "      <th></th>\n",
              "      <th>user_id</th>\n",
              "      <th>month</th>\n",
              "      <th>monthly</th>\n",
              "    </tr>\n",
              "  </thead>\n",
              "  <tbody>\n",
              "    <tr>\n",
              "      <td>0</td>\n",
              "      <td>1000</td>\n",
              "      <td>5.0</td>\n",
              "      <td>1950.0</td>\n",
              "    </tr>\n",
              "    <tr>\n",
              "      <td>1</td>\n",
              "      <td>1000</td>\n",
              "      <td>6.0</td>\n",
              "      <td>1950.0</td>\n",
              "    </tr>\n",
              "    <tr>\n",
              "      <td>2</td>\n",
              "      <td>1000</td>\n",
              "      <td>7.0</td>\n",
              "      <td>1950.0</td>\n",
              "    </tr>\n",
              "    <tr>\n",
              "      <td>3</td>\n",
              "      <td>1000</td>\n",
              "      <td>8.0</td>\n",
              "      <td>1950.0</td>\n",
              "    </tr>\n",
              "    <tr>\n",
              "      <td>4</td>\n",
              "      <td>1000</td>\n",
              "      <td>9.0</td>\n",
              "      <td>1950.0</td>\n",
              "    </tr>\n",
              "  </tbody>\n",
              "</table>\n",
              "</div>"
            ],
            "text/plain": [
              "   user_id  month  monthly\n",
              "0     1000    5.0   1950.0\n",
              "1     1000    6.0   1950.0\n",
              "2     1000    7.0   1950.0\n",
              "3     1000    8.0   1950.0\n",
              "4     1000    9.0   1950.0"
            ]
          },
          "execution_count": 69,
          "metadata": {},
          "output_type": "execute_result"
        }
      ],
      "source": [
        "# Перестроим данные по пользователю и месяцам с помощью сводной таблицы\n",
        "revenue = user_total.pivot_table(index=['user_id', 'month'], values='monthly', aggfunc='sum').reset_index()\n",
        "revenue.head()"
      ]
    },
    {
      "cell_type": "code",
      "execution_count": null,
      "metadata": {
        "id": "RhwFQgVW193A"
      },
      "outputs": [],
      "source": [
        "# Удалим из полученной сводной таблицы больше не значимые для нас столбцы\n",
        "user_total.drop(['messages_included', 'minutes_included', 'rub_monthly_fee', 'rub_per_gb', 'rub_per_message', \n",
        "                 'rub_per_minute', 'gb_per_month_included'], axis='columns', inplace=True)"
      ]
    },
    {
      "cell_type": "code",
      "execution_count": null,
      "metadata": {
        "id": "_X93AjPx193A",
        "outputId": "b22299b2-2925-4365-e6fa-639e9744a403"
      },
      "outputs": [
        {
          "data": {
            "text/html": [
              "<div>\n",
              "<style scoped>\n",
              "    .dataframe tbody tr th:only-of-type {\n",
              "        vertical-align: middle;\n",
              "    }\n",
              "\n",
              "    .dataframe tbody tr th {\n",
              "        vertical-align: top;\n",
              "    }\n",
              "\n",
              "    .dataframe thead th {\n",
              "        text-align: right;\n",
              "    }\n",
              "</style>\n",
              "<table border=\"1\" class=\"dataframe\">\n",
              "  <thead>\n",
              "    <tr style=\"text-align: right;\">\n",
              "      <th></th>\n",
              "      <th>user_id</th>\n",
              "      <th>month</th>\n",
              "      <th>monthly</th>\n",
              "    </tr>\n",
              "  </thead>\n",
              "  <tbody>\n",
              "    <tr>\n",
              "      <td>0</td>\n",
              "      <td>1486</td>\n",
              "      <td>12.0</td>\n",
              "      <td>6711.015625</td>\n",
              "    </tr>\n",
              "    <tr>\n",
              "      <td>1</td>\n",
              "      <td>1261</td>\n",
              "      <td>12.0</td>\n",
              "      <td>5658.132812</td>\n",
              "    </tr>\n",
              "    <tr>\n",
              "      <td>2</td>\n",
              "      <td>1042</td>\n",
              "      <td>12.0</td>\n",
              "      <td>5578.335938</td>\n",
              "    </tr>\n",
              "    <tr>\n",
              "      <td>3</td>\n",
              "      <td>1486</td>\n",
              "      <td>11.0</td>\n",
              "      <td>5573.554688</td>\n",
              "    </tr>\n",
              "    <tr>\n",
              "      <td>4</td>\n",
              "      <td>1286</td>\n",
              "      <td>12.0</td>\n",
              "      <td>5186.429688</td>\n",
              "    </tr>\n",
              "    <tr>\n",
              "      <td>5</td>\n",
              "      <td>1159</td>\n",
              "      <td>12.0</td>\n",
              "      <td>5122.703125</td>\n",
              "    </tr>\n",
              "    <tr>\n",
              "      <td>6</td>\n",
              "      <td>1098</td>\n",
              "      <td>12.0</td>\n",
              "      <td>4956.187500</td>\n",
              "    </tr>\n",
              "    <tr>\n",
              "      <td>7</td>\n",
              "      <td>1124</td>\n",
              "      <td>10.0</td>\n",
              "      <td>4743.310547</td>\n",
              "    </tr>\n",
              "    <tr>\n",
              "      <td>8</td>\n",
              "      <td>1261</td>\n",
              "      <td>11.0</td>\n",
              "      <td>4619.859375</td>\n",
              "    </tr>\n",
              "    <tr>\n",
              "      <td>9</td>\n",
              "      <td>1240</td>\n",
              "      <td>8.0</td>\n",
              "      <td>4539.111328</td>\n",
              "    </tr>\n",
              "  </tbody>\n",
              "</table>\n",
              "</div>"
            ],
            "text/plain": [
              "   user_id  month      monthly\n",
              "0     1486   12.0  6711.015625\n",
              "1     1261   12.0  5658.132812\n",
              "2     1042   12.0  5578.335938\n",
              "3     1486   11.0  5573.554688\n",
              "4     1286   12.0  5186.429688\n",
              "5     1159   12.0  5122.703125\n",
              "6     1098   12.0  4956.187500\n",
              "7     1124   10.0  4743.310547\n",
              "8     1261   11.0  4619.859375\n",
              "9     1240    8.0  4539.111328"
            ]
          },
          "execution_count": 71,
          "metadata": {},
          "output_type": "execute_result"
        }
      ],
      "source": [
        "# Посмотрим список самых активных пользователей экстра-опций с наибольшей выгодой для оператора\n",
        "revenue.sort_values(by='monthly', ascending=False).head(10).reset_index(drop=True)"
      ]
    },
    {
      "cell_type": "markdown",
      "metadata": {
        "id": "2LvoapUl193A"
      },
      "source": [
        "<b>Промежуточный вывод:</b>\n",
        "\n",
        "Для 5 датасетов с данными о пользователях, звонках, сообщениях, интернет-сессиях и тарифах компании \"Мегалайн\" за 2018 год были проведены следующие манипуляции:\n",
        "\n",
        "* заменён тип данных для столбцов с датами, а также для целочисленных значений \n",
        "* округлены в большую сторону данные с использованным трафиком и количеством минут разговора\n",
        "\n",
        "Аномалий, дубликатов и значительных пропущенных значений в данных не выявлено.\n",
        "\n",
        "В целях дальнейшего анализа была дополнительно собрана статистика по пользователям: \n",
        "\n",
        "* по совершённым звонкам и минутам разговора\n",
        "* по количеству сообщений\n",
        "* по объёму использованного интернет-трафика\n",
        "\n",
        "Предварительно, \"на глаз\" было отмечено, что пользователи, как правило, предпочитают одну из опций тарифа другой: кто-то любит больше говорить по телефону, кому-то по душе отправлять сообщения, а кто-то использует телефонного провайдера для доступа в интернет. \n",
        "\n",
        "Кроме того, посчитана помесячная выручка с каждого пользователя с повышенными показателями в ноябре и декабре 2018 года."
      ]
    },
    {
      "cell_type": "markdown",
      "metadata": {
        "id": "q5HXgC8J193B"
      },
      "source": [
        "## 3. Анализ данных"
      ]
    },
    {
      "cell_type": "markdown",
      "metadata": {
        "id": "HwB-KkRg193B"
      },
      "source": [
        "Опишем поведение клиентов оператора, исходя из выборки."
      ]
    },
    {
      "cell_type": "markdown",
      "metadata": {
        "id": "Jar2nUXk193C"
      },
      "source": [
        "### 3.1 Поведение клиентов"
      ]
    },
    {
      "cell_type": "markdown",
      "metadata": {
        "id": "31BD6h70193C"
      },
      "source": [
        "С помощью ранее сформированной сводной таблицы сфокусируемся на нужных нам данных для анализа: узнаем, сколько минут разговора, сколько сообщений и какой объём интернет-трафика требуется пользователям каждого тарифа в месяц."
      ]
    },
    {
      "cell_type": "code",
      "execution_count": null,
      "metadata": {
        "id": "blPET4G1193C",
        "outputId": "3778ffeb-1edc-4689-d6a4-0451a7540e67"
      },
      "outputs": [
        {
          "data": {
            "text/html": [
              "<div>\n",
              "<style scoped>\n",
              "    .dataframe tbody tr th:only-of-type {\n",
              "        vertical-align: middle;\n",
              "    }\n",
              "\n",
              "    .dataframe tbody tr th {\n",
              "        vertical-align: top;\n",
              "    }\n",
              "\n",
              "    .dataframe thead th {\n",
              "        text-align: right;\n",
              "    }\n",
              "</style>\n",
              "<table border=\"1\" class=\"dataframe\">\n",
              "  <thead>\n",
              "    <tr style=\"text-align: right;\">\n",
              "      <th></th>\n",
              "      <th>user_id</th>\n",
              "      <th>month</th>\n",
              "      <th>call_duration</th>\n",
              "      <th>messages_number</th>\n",
              "      <th>gb_used</th>\n",
              "      <th>city</th>\n",
              "      <th>tariff</th>\n",
              "      <th>monthly</th>\n",
              "    </tr>\n",
              "  </thead>\n",
              "  <tbody>\n",
              "    <tr>\n",
              "      <td>0</td>\n",
              "      <td>1000</td>\n",
              "      <td>5.0</td>\n",
              "      <td>159.0</td>\n",
              "      <td>22.0</td>\n",
              "      <td>2.203125</td>\n",
              "      <td>Краснодар</td>\n",
              "      <td>ultra</td>\n",
              "      <td>1950.0</td>\n",
              "    </tr>\n",
              "    <tr>\n",
              "      <td>1</td>\n",
              "      <td>1000</td>\n",
              "      <td>6.0</td>\n",
              "      <td>172.0</td>\n",
              "      <td>60.0</td>\n",
              "      <td>22.711914</td>\n",
              "      <td>Краснодар</td>\n",
              "      <td>ultra</td>\n",
              "      <td>1950.0</td>\n",
              "    </tr>\n",
              "    <tr>\n",
              "      <td>2</td>\n",
              "      <td>1000</td>\n",
              "      <td>7.0</td>\n",
              "      <td>340.0</td>\n",
              "      <td>75.0</td>\n",
              "      <td>13.687500</td>\n",
              "      <td>Краснодар</td>\n",
              "      <td>ultra</td>\n",
              "      <td>1950.0</td>\n",
              "    </tr>\n",
              "    <tr>\n",
              "      <td>3</td>\n",
              "      <td>1000</td>\n",
              "      <td>8.0</td>\n",
              "      <td>408.0</td>\n",
              "      <td>81.0</td>\n",
              "      <td>13.740234</td>\n",
              "      <td>Краснодар</td>\n",
              "      <td>ultra</td>\n",
              "      <td>1950.0</td>\n",
              "    </tr>\n",
              "    <tr>\n",
              "      <td>4</td>\n",
              "      <td>1000</td>\n",
              "      <td>9.0</td>\n",
              "      <td>466.0</td>\n",
              "      <td>57.0</td>\n",
              "      <td>14.239258</td>\n",
              "      <td>Краснодар</td>\n",
              "      <td>ultra</td>\n",
              "      <td>1950.0</td>\n",
              "    </tr>\n",
              "  </tbody>\n",
              "</table>\n",
              "</div>"
            ],
            "text/plain": [
              "   user_id  month  call_duration  messages_number    gb_used       city  \\\n",
              "0     1000    5.0          159.0             22.0   2.203125  Краснодар   \n",
              "1     1000    6.0          172.0             60.0  22.711914  Краснодар   \n",
              "2     1000    7.0          340.0             75.0  13.687500  Краснодар   \n",
              "3     1000    8.0          408.0             81.0  13.740234  Краснодар   \n",
              "4     1000    9.0          466.0             57.0  14.239258  Краснодар   \n",
              "\n",
              "  tariff  monthly  \n",
              "0  ultra   1950.0  \n",
              "1  ultra   1950.0  \n",
              "2  ultra   1950.0  \n",
              "3  ultra   1950.0  \n",
              "4  ultra   1950.0  "
            ]
          },
          "execution_count": 72,
          "metadata": {},
          "output_type": "execute_result"
        }
      ],
      "source": [
        "total = user_total[['user_id', 'month', 'call_duration', 'messages_number', 'gb_used', 'city', 'tariff', 'monthly']]\n",
        "total.head()"
      ]
    },
    {
      "cell_type": "code",
      "execution_count": null,
      "metadata": {
        "id": "dTOXk9Up193D",
        "outputId": "5b44d2de-5c01-47f4-c272-761b5973dc1b"
      },
      "outputs": [
        {
          "data": {
            "text/html": [
              "<div>\n",
              "<style scoped>\n",
              "    .dataframe tbody tr th:only-of-type {\n",
              "        vertical-align: middle;\n",
              "    }\n",
              "\n",
              "    .dataframe tbody tr th {\n",
              "        vertical-align: top;\n",
              "    }\n",
              "\n",
              "    .dataframe thead th {\n",
              "        text-align: right;\n",
              "    }\n",
              "</style>\n",
              "<table border=\"1\" class=\"dataframe\">\n",
              "  <thead>\n",
              "    <tr style=\"text-align: right;\">\n",
              "      <th></th>\n",
              "      <th>user_id</th>\n",
              "      <th>month</th>\n",
              "      <th>call_duration</th>\n",
              "      <th>messages_number</th>\n",
              "      <th>gb_used</th>\n",
              "      <th>monthly</th>\n",
              "    </tr>\n",
              "  </thead>\n",
              "  <tbody>\n",
              "    <tr>\n",
              "      <td>count</td>\n",
              "      <td>985.000000</td>\n",
              "      <td>985.000000</td>\n",
              "      <td>985.000000</td>\n",
              "      <td>985.000000</td>\n",
              "      <td>985.000000</td>\n",
              "      <td>985.000000</td>\n",
              "    </tr>\n",
              "    <tr>\n",
              "      <td>mean</td>\n",
              "      <td>1263.094416</td>\n",
              "      <td>8.250761</td>\n",
              "      <td>526.623350</td>\n",
              "      <td>49.363452</td>\n",
              "      <td>19.030177</td>\n",
              "      <td>2060.529971</td>\n",
              "    </tr>\n",
              "    <tr>\n",
              "      <td>std</td>\n",
              "      <td>140.694908</td>\n",
              "      <td>2.871762</td>\n",
              "      <td>317.606098</td>\n",
              "      <td>47.804457</td>\n",
              "      <td>9.859685</td>\n",
              "      <td>356.305046</td>\n",
              "    </tr>\n",
              "    <tr>\n",
              "      <td>min</td>\n",
              "      <td>1000.000000</td>\n",
              "      <td>1.000000</td>\n",
              "      <td>0.000000</td>\n",
              "      <td>0.000000</td>\n",
              "      <td>0.000000</td>\n",
              "      <td>1950.000000</td>\n",
              "    </tr>\n",
              "    <tr>\n",
              "      <td>25%</td>\n",
              "      <td>1143.000000</td>\n",
              "      <td>6.000000</td>\n",
              "      <td>284.000000</td>\n",
              "      <td>6.000000</td>\n",
              "      <td>11.508789</td>\n",
              "      <td>1950.000000</td>\n",
              "    </tr>\n",
              "    <tr>\n",
              "      <td>50%</td>\n",
              "      <td>1277.000000</td>\n",
              "      <td>9.000000</td>\n",
              "      <td>518.000000</td>\n",
              "      <td>38.000000</td>\n",
              "      <td>18.871094</td>\n",
              "      <td>1950.000000</td>\n",
              "    </tr>\n",
              "    <tr>\n",
              "      <td>75%</td>\n",
              "      <td>1381.000000</td>\n",
              "      <td>11.000000</td>\n",
              "      <td>752.000000</td>\n",
              "      <td>79.000000</td>\n",
              "      <td>26.233398</td>\n",
              "      <td>1950.000000</td>\n",
              "    </tr>\n",
              "    <tr>\n",
              "      <td>max</td>\n",
              "      <td>1495.000000</td>\n",
              "      <td>12.000000</td>\n",
              "      <td>1673.000000</td>\n",
              "      <td>224.000000</td>\n",
              "      <td>48.622070</td>\n",
              "      <td>4743.310547</td>\n",
              "    </tr>\n",
              "  </tbody>\n",
              "</table>\n",
              "</div>"
            ],
            "text/plain": [
              "           user_id       month  call_duration  messages_number     gb_used  \\\n",
              "count   985.000000  985.000000     985.000000       985.000000  985.000000   \n",
              "mean   1263.094416    8.250761     526.623350        49.363452   19.030177   \n",
              "std     140.694908    2.871762     317.606098        47.804457    9.859685   \n",
              "min    1000.000000    1.000000       0.000000         0.000000    0.000000   \n",
              "25%    1143.000000    6.000000     284.000000         6.000000   11.508789   \n",
              "50%    1277.000000    9.000000     518.000000        38.000000   18.871094   \n",
              "75%    1381.000000   11.000000     752.000000        79.000000   26.233398   \n",
              "max    1495.000000   12.000000    1673.000000       224.000000   48.622070   \n",
              "\n",
              "           monthly  \n",
              "count   985.000000  \n",
              "mean   2060.529971  \n",
              "std     356.305046  \n",
              "min    1950.000000  \n",
              "25%    1950.000000  \n",
              "50%    1950.000000  \n",
              "75%    1950.000000  \n",
              "max    4743.310547  "
            ]
          },
          "execution_count": 73,
          "metadata": {},
          "output_type": "execute_result"
        }
      ],
      "source": [
        "# Сделаем срез по тарифу ultra\n",
        "ultra_total = total.query('tariff == \"ultra\"')\n",
        "ultra_total.describe()"
      ]
    },
    {
      "cell_type": "markdown",
      "metadata": {
        "id": "s6UwXAEk193D"
      },
      "source": [
        "Для тарифа <b>\"ultra\"</b> фиксируются следующие медианные показатели поведения клиентов в 2018 году:\n",
        "* длительность звонков - 518 минут в месяц (в среднем 17 минут в день)\n",
        "* число отправляемых сообщений в месяц - 38\n",
        "* значение ежемесячного интернет-трафика - почти 19 ГБ"
      ]
    },
    {
      "cell_type": "code",
      "execution_count": null,
      "metadata": {
        "id": "QEEM6lKr193D",
        "outputId": "85e25fcd-570b-42e4-812f-22f07195af3c"
      },
      "outputs": [
        {
          "data": {
            "text/html": [
              "<div>\n",
              "<style scoped>\n",
              "    .dataframe tbody tr th:only-of-type {\n",
              "        vertical-align: middle;\n",
              "    }\n",
              "\n",
              "    .dataframe tbody tr th {\n",
              "        vertical-align: top;\n",
              "    }\n",
              "\n",
              "    .dataframe thead th {\n",
              "        text-align: right;\n",
              "    }\n",
              "</style>\n",
              "<table border=\"1\" class=\"dataframe\">\n",
              "  <thead>\n",
              "    <tr style=\"text-align: right;\">\n",
              "      <th></th>\n",
              "      <th>user_id</th>\n",
              "      <th>month</th>\n",
              "      <th>call_duration</th>\n",
              "      <th>messages_number</th>\n",
              "      <th>gb_used</th>\n",
              "      <th>monthly</th>\n",
              "    </tr>\n",
              "  </thead>\n",
              "  <tbody>\n",
              "    <tr>\n",
              "      <td>count</td>\n",
              "      <td>2229.000000</td>\n",
              "      <td>2229.000000</td>\n",
              "      <td>2229.000000</td>\n",
              "      <td>2229.000000</td>\n",
              "      <td>2229.000000</td>\n",
              "      <td>2229.000000</td>\n",
              "    </tr>\n",
              "    <tr>\n",
              "      <td>mean</td>\n",
              "      <td>1246.506505</td>\n",
              "      <td>8.346792</td>\n",
              "      <td>417.934948</td>\n",
              "      <td>33.384029</td>\n",
              "      <td>15.848817</td>\n",
              "      <td>1233.349467</td>\n",
              "    </tr>\n",
              "    <tr>\n",
              "      <td>std</td>\n",
              "      <td>146.119496</td>\n",
              "      <td>2.920316</td>\n",
              "      <td>190.313730</td>\n",
              "      <td>28.227876</td>\n",
              "      <td>5.739821</td>\n",
              "      <td>787.688141</td>\n",
              "    </tr>\n",
              "    <tr>\n",
              "      <td>min</td>\n",
              "      <td>1001.000000</td>\n",
              "      <td>1.000000</td>\n",
              "      <td>0.000000</td>\n",
              "      <td>0.000000</td>\n",
              "      <td>0.000000</td>\n",
              "      <td>550.000000</td>\n",
              "    </tr>\n",
              "    <tr>\n",
              "      <td>25%</td>\n",
              "      <td>1121.000000</td>\n",
              "      <td>6.000000</td>\n",
              "      <td>282.000000</td>\n",
              "      <td>10.000000</td>\n",
              "      <td>12.361328</td>\n",
              "      <td>550.000000</td>\n",
              "    </tr>\n",
              "    <tr>\n",
              "      <td>50%</td>\n",
              "      <td>1239.000000</td>\n",
              "      <td>9.000000</td>\n",
              "      <td>422.000000</td>\n",
              "      <td>28.000000</td>\n",
              "      <td>16.143555</td>\n",
              "      <td>959.898438</td>\n",
              "    </tr>\n",
              "    <tr>\n",
              "      <td>75%</td>\n",
              "      <td>1376.000000</td>\n",
              "      <td>11.000000</td>\n",
              "      <td>545.000000</td>\n",
              "      <td>51.000000</td>\n",
              "      <td>19.597656</td>\n",
              "      <td>1668.117188</td>\n",
              "    </tr>\n",
              "    <tr>\n",
              "      <td>max</td>\n",
              "      <td>1499.000000</td>\n",
              "      <td>12.000000</td>\n",
              "      <td>1435.000000</td>\n",
              "      <td>143.000000</td>\n",
              "      <td>37.705078</td>\n",
              "      <td>6711.015625</td>\n",
              "    </tr>\n",
              "  </tbody>\n",
              "</table>\n",
              "</div>"
            ],
            "text/plain": [
              "           user_id        month  call_duration  messages_number      gb_used  \\\n",
              "count  2229.000000  2229.000000    2229.000000      2229.000000  2229.000000   \n",
              "mean   1246.506505     8.346792     417.934948        33.384029    15.848817   \n",
              "std     146.119496     2.920316     190.313730        28.227876     5.739821   \n",
              "min    1001.000000     1.000000       0.000000         0.000000     0.000000   \n",
              "25%    1121.000000     6.000000     282.000000        10.000000    12.361328   \n",
              "50%    1239.000000     9.000000     422.000000        28.000000    16.143555   \n",
              "75%    1376.000000    11.000000     545.000000        51.000000    19.597656   \n",
              "max    1499.000000    12.000000    1435.000000       143.000000    37.705078   \n",
              "\n",
              "           monthly  \n",
              "count  2229.000000  \n",
              "mean   1233.349467  \n",
              "std     787.688141  \n",
              "min     550.000000  \n",
              "25%     550.000000  \n",
              "50%     959.898438  \n",
              "75%    1668.117188  \n",
              "max    6711.015625  "
            ]
          },
          "execution_count": 74,
          "metadata": {},
          "output_type": "execute_result"
        }
      ],
      "source": [
        "# Сделаем срез по тарифу smart\n",
        "smart_total = total.query('tariff == \"smart\"')\n",
        "smart_total.describe()"
      ]
    },
    {
      "cell_type": "markdown",
      "metadata": {
        "id": "dL93hfwN193E"
      },
      "source": [
        "Для тарифа <b>\"smart\"</b> фиксируются следующие медианные показатели поведения клиентов в 2018 году:\n",
        "* длительность звонков - 422 минут в месяц (в среднем 14 минут в день)\n",
        "* число отправляемых сообщений в месяц - 28\n",
        "* значение ежемесячного интернет-трафика - 16 ГБ"
      ]
    },
    {
      "cell_type": "code",
      "execution_count": null,
      "metadata": {
        "id": "dW7_F1u_193E"
      },
      "outputs": [],
      "source": [
        "# Сравним оба тарифа по месячной статистике пользователей\n",
        "ultra_pivot = ultra_total.pivot_table(index='month',\n",
        "                                      values=['call_duration', 'messages_number', 'gb_used', 'monthly'],\n",
        "                                      aggfunc='mean').reset_index()\n",
        "smart_pivot = smart_total.pivot_table(index='month',\n",
        "                                      values=['call_duration', 'messages_number', 'gb_used', 'monthly'],\n",
        "                                      aggfunc='mean').reset_index()"
      ]
    },
    {
      "cell_type": "code",
      "execution_count": null,
      "metadata": {
        "id": "WLJuGPOw193F",
        "outputId": "0ebd6793-0502-4a49-991a-3e6eb737d0d9"
      },
      "outputs": [
        {
          "data": {
            "image/png": "[encoded data removed]",
            "text/plain": [
              "<Figure size 432x288 with 1 Axes>"
            ]
          },
          "metadata": {
            "needs_background": "light"
          },
          "output_type": "display_data"
        }
      ],
      "source": [
        "# Сравним на графике данные по длительности звонков для пользователей обоих тарифов\n",
        "fig, ax = plt.subplots()\n",
        "ax.set(title='Длительность звонков по тарифам Smart и Ultra в 2018',\n",
        "        xlabel='Месяц',\n",
        "        ylabel='Средняя длительность звонков в месяц, мин')\n",
        "ax.plot(ultra_pivot['month'], ultra_pivot['call_duration'], 'o-', label='Ultra')\n",
        "ax.plot(smart_pivot['month'], smart_pivot['call_duration'], 'o-', label='Smart')\n",
        "ax.legend(frameon=False)\n",
        "plt.show()"
      ]
    },
    {
      "cell_type": "markdown",
      "metadata": {
        "id": "Ykeghm4v193F"
      },
      "source": [
        "<b>Наблюдение:</b>\n",
        "В течение года заметен рост длительности разговоров по обоим тарифам. При этом длительность разговоров по тарифу \"Ультра\" значительно превышает показатели тарифа \"Смарт\"."
      ]
    },
    {
      "cell_type": "code",
      "execution_count": null,
      "metadata": {
        "id": "KawRFR_F193F",
        "outputId": "75bcbaff-4f50-42fc-b572-b7b9619488d5"
      },
      "outputs": [
        {
          "data": {
            "image/png": "[encoded data removed]",
            "text/plain": [
              "<Figure size 432x288 with 1 Axes>"
            ]
          },
          "metadata": {
            "needs_background": "light"
          },
          "output_type": "display_data"
        }
      ],
      "source": [
        "# Сравним на графике данные по числу отправленных сообщений пользователями обоих тарифов\n",
        "fig, ax = plt.subplots()\n",
        "ax.set(title='Число сообщений по тарифам Smart и Ultra в 2018',\n",
        "        xlabel='Месяц',\n",
        "        ylabel='Среднее число сообщений в месяц')\n",
        "ax.plot(ultra_pivot['month'], ultra_pivot['messages_number'], 'o-', label='Ultra')\n",
        "ax.plot(smart_pivot['month'], smart_pivot['messages_number'], 'o-', label='Smart')\n",
        "ax.legend(frameon=False)\n",
        "plt.show()"
      ]
    },
    {
      "cell_type": "markdown",
      "metadata": {
        "id": "4R9JAl5A193G"
      },
      "source": [
        "<b>Наблюдение:</b>\n",
        "В течение года заметен уверенный рост числа отправляемых сообщений по тарифу \"Ультра\". При этом тариф \"Смарт\" по данному показателю демонстрирует устойчивый выход на плато без динамики к росту - здесь что-то не так."
      ]
    },
    {
      "cell_type": "code",
      "execution_count": null,
      "metadata": {
        "id": "Cyw5yr7W193G",
        "outputId": "d97c6d43-21e0-4648-d4d4-14e0f42676a8"
      },
      "outputs": [
        {
          "data": {
            "image/png": "[encoded data removed]",
            "text/plain": [
              "<Figure size 432x288 with 1 Axes>"
            ]
          },
          "metadata": {
            "needs_background": "light"
          },
          "output_type": "display_data"
        }
      ],
      "source": [
        "# Сравним на графике данные по объему использованного трафика пользователями обоих тарифов\n",
        "fig, ax = plt.subplots()\n",
        "ax.set(title='Объем интернет-трафика по тарифам Smart и Ultra в 2018',\n",
        "        xlabel='Месяц',\n",
        "        ylabel='Среднее число гигабайтов в месяц')\n",
        "ax.plot(ultra_pivot['month'], ultra_pivot['gb_used'], 'o-', label='Ultra')\n",
        "ax.plot(smart_pivot['month'], smart_pivot['gb_used'], 'o-', label='Smart')\n",
        "ax.legend(frameon=False)\n",
        "plt.show()"
      ]
    },
    {
      "cell_type": "markdown",
      "metadata": {
        "id": "wLVLPF1x193G"
      },
      "source": [
        "<b>Наблюдение:</b>\n",
        "В течение года заметен рост интернет-трафика по обоим тарифам. При этом рост потребления интернет-трафика по тарифу \"Ультра\" значительно превышает объем использованных гигабайтов по тарифу \"Смарт\"."
      ]
    },
    {
      "cell_type": "code",
      "execution_count": null,
      "metadata": {
        "id": "j1eqyEtA193H",
        "outputId": "f7ef33c8-ed40-4d2b-8296-f1b8a23658db"
      },
      "outputs": [
        {
          "data": {
            "image/png": "[encoded data removed]",
            "text/plain": [
              "<Figure size 432x288 with 1 Axes>"
            ]
          },
          "metadata": {
            "needs_background": "light"
          },
          "output_type": "display_data"
        }
      ],
      "source": [
        "# Сравним на графике данные по среднемесячной выручке от пользователей обоих тарифов\n",
        "fig, ax = plt.subplots()\n",
        "ax.set(title='Среднемесячная выручка по тарифам Smart и Ultra в 2018',\n",
        "        xlabel='Месяц',\n",
        "        ylabel='Среднемесячная выручка, руб.')\n",
        "ax.plot(ultra_pivot['month'], ultra_pivot['monthly'], 'o-', label='Ultra')\n",
        "ax.plot(smart_pivot['month'], smart_pivot['monthly'], 'o-', label='Smart')\n",
        "ax.legend(frameon=False)\n",
        "plt.show()"
      ]
    },
    {
      "cell_type": "markdown",
      "metadata": {
        "id": "VNuuje5a193H"
      },
      "source": [
        "<b>Наблюдение:</b>\n",
        "Выручка по тарифу \"Ультра\" значительно превышает вырочку по тарифу \"Смарт\": видимо, в силу изначально более высокой абонентской платы (1950 рублей в месяц против 550 рублей в месяц). При этом наблюдается отсутствие тенденции к росту выручки по тарифу \"Ультра\" в отличие от тарифа \"Смарт\", выручка по которому уверенно растет."
      ]
    },
    {
      "cell_type": "markdown",
      "metadata": {
        "id": "w1rQadZG193I"
      },
      "source": [
        "### 3.2 Статистический анализ поведения клиентов"
      ]
    },
    {
      "cell_type": "markdown",
      "metadata": {
        "id": "0G1UEXBp193I"
      },
      "source": [
        "Посчитаем среднее количество, дисперсию и стандартное отклонение."
      ]
    },
    {
      "cell_type": "markdown",
      "metadata": {
        "id": "did30GhW193I"
      },
      "source": [
        "#### 3.2.1 Для тарифа \"Ультра\""
      ]
    },
    {
      "cell_type": "code",
      "execution_count": null,
      "metadata": {
        "id": "TAfkcKJv193J",
        "outputId": "83d3c6bc-585c-4f29-d8bb-554f8cecc60e"
      },
      "outputs": [
        {
          "data": {
            "text/plain": [
              "user_id            1263.094416\n",
              "month                 8.250761\n",
              "call_duration       526.623350\n",
              "messages_number      49.363452\n",
              "gb_used              19.030177\n",
              "monthly            2060.529971\n",
              "dtype: float64"
            ]
          },
          "execution_count": 80,
          "metadata": {},
          "output_type": "execute_result"
        }
      ],
      "source": [
        "# Средние значения для тарифа \"Ультра\"\n",
        "ultra_mean = ultra_total.mean()\n",
        "ultra_mean"
      ]
    },
    {
      "cell_type": "code",
      "execution_count": null,
      "metadata": {
        "scrolled": true,
        "id": "AzeQ2_Z3193J",
        "outputId": "7a74c596-a5ee-44ab-ee8a-e129a6b1f8fa"
      },
      "outputs": [
        {
          "data": {
            "text/plain": [
              "user_id             19795.057133\n",
              "month                   8.247014\n",
              "call_duration      100873.633397\n",
              "messages_number      2285.266143\n",
              "gb_used                97.213384\n",
              "monthly            126953.285460\n",
              "dtype: float64"
            ]
          },
          "execution_count": 81,
          "metadata": {},
          "output_type": "execute_result"
        }
      ],
      "source": [
        "# Дисперсия для тарифа \"Ультра\"\n",
        "ultra_var = np.var(ultra_total, ddof=1)\n",
        "ultra_var"
      ]
    },
    {
      "cell_type": "code",
      "execution_count": null,
      "metadata": {
        "id": "eMYOWj0S193J",
        "outputId": "48da735c-9f81-40e7-b359-8643cadd4cd8"
      },
      "outputs": [
        {
          "data": {
            "text/plain": [
              "user_id            140.694908\n",
              "month                2.871762\n",
              "call_duration      317.606098\n",
              "messages_number     47.804457\n",
              "gb_used              9.859685\n",
              "monthly            356.305046\n",
              "dtype: float64"
            ]
          },
          "execution_count": 82,
          "metadata": {},
          "output_type": "execute_result"
        }
      ],
      "source": [
        "# Стандартное отклонение для тарифа \"Ультра\"\n",
        "ultra_std_dev = np.std(ultra_total, ddof=1)\n",
        "ultra_std_dev"
      ]
    },
    {
      "cell_type": "markdown",
      "metadata": {
        "id": "3yIM9mx0193K"
      },
      "source": [
        "Расчитаем промежуток, в котором находится 99% значений для тарифа \"Ультра\" по правилу трёх сигм."
      ]
    },
    {
      "cell_type": "code",
      "execution_count": null,
      "metadata": {
        "id": "x-OD4tPM193K",
        "outputId": "e9b96d12-6df0-4726-c62c-84224c85257b"
      },
      "outputs": [
        {
          "name": "stdout",
          "output_type": "stream",
          "text": [
            "Длительность звонков пользователей тарифа \"Ультра\" в промежутке от 0 до 1479 минут.\n"
          ]
        }
      ],
      "source": [
        "# Промежуток для 99% значений по длительности звонка для тарифа \"Ультра\"\n",
        "ultra_duration_min = max(0, ultra_mean['call_duration'] - 3 * ultra_std_dev['call_duration'])\n",
        "ultra_duration_max = ultra_mean['call_duration'] + 3 * ultra_std_dev['call_duration']\n",
        "print('Длительность звонков пользователей тарифа \"Ультра\" в промежутке от {:.0f} до {:.0f} минут.'\n",
        "      .format(ultra_duration_min, ultra_duration_max))"
      ]
    },
    {
      "cell_type": "code",
      "execution_count": null,
      "metadata": {
        "id": "9GWppvWq193K",
        "outputId": "1fd0349a-6df8-4ad5-c9ad-d3c84d62e41b"
      },
      "outputs": [
        {
          "name": "stdout",
          "output_type": "stream",
          "text": [
            "Количество отправленных сообщений пользователями тарифа \"Ультра\" в промежутке от 0 до 193 сообщений.\n"
          ]
        }
      ],
      "source": [
        "# Промежуток для 99% значений по отправленным сообщениям для тарифа \"Ультра\"\n",
        "ultra_messages_min = max(0, (ultra_mean['messages_number'] - 3 * ultra_std_dev['messages_number']))\n",
        "ultra_messages_max = ultra_mean['messages_number'] + 3 * ultra_std_dev['messages_number']\n",
        "print('Количество отправленных сообщений пользователями тарифа \"Ультра\" в промежутке от {:.0f} до {:.0f} сообщений.'\n",
        "      .format(ultra_messages_min, ultra_messages_max))"
      ]
    },
    {
      "cell_type": "code",
      "execution_count": null,
      "metadata": {
        "id": "Pvt-98E6193L",
        "outputId": "af2db04c-8513-47ad-b027-2bf2a27d46f5"
      },
      "outputs": [
        {
          "name": "stdout",
          "output_type": "stream",
          "text": [
            "Объём интернет-трафика пользователей тарифа \"Ультра\" в промежутке от 0 до 49 гигабайт.\n"
          ]
        }
      ],
      "source": [
        "# Промежуток для 99% значений по объёму использованного интернет-трафика для тарифа \"Ультра\"\n",
        "ultra_gbused_min = max(0, ultra_mean['gb_used'] - 3 * ultra_std_dev['gb_used'])\n",
        "ultra_gbused_max = ultra_mean['gb_used'] + 3 * ultra_std_dev['gb_used']\n",
        "print('Объём интернет-трафика пользователей тарифа \"Ультра\" в промежутке от {:.0f} до {:.0f} гигабайт.'.format(ultra_gbused_min, ultra_gbused_max))"
      ]
    },
    {
      "cell_type": "markdown",
      "metadata": {
        "id": "jzdyarrN193L"
      },
      "source": [
        "#### 3.2.2 Для тарифа \"Смарт\""
      ]
    },
    {
      "cell_type": "code",
      "execution_count": null,
      "metadata": {
        "id": "x5cZR2hq193L",
        "outputId": "6087e863-b8b1-4dc9-835b-d4715eb10471"
      },
      "outputs": [
        {
          "data": {
            "text/plain": [
              "user_id            1246.506505\n",
              "month                 8.346792\n",
              "call_duration       417.934948\n",
              "messages_number      33.384029\n",
              "gb_used              15.848817\n",
              "monthly            1233.349467\n",
              "dtype: float64"
            ]
          },
          "execution_count": 86,
          "metadata": {},
          "output_type": "execute_result"
        }
      ],
      "source": [
        "# Средние значения для тарифа \"Смарт\"\n",
        "smart_mean = smart_total.mean()\n",
        "smart_mean"
      ]
    },
    {
      "cell_type": "code",
      "execution_count": null,
      "metadata": {
        "id": "1u5yU-V8193M",
        "outputId": "2d2fa873-bfed-4157-dcd8-54e06258af32"
      },
      "outputs": [
        {
          "data": {
            "text/plain": [
              "user_id             21350.907161\n",
              "month                   8.528245\n",
              "call_duration       36219.315784\n",
              "messages_number       796.812958\n",
              "gb_used                32.945548\n",
              "monthly            620452.607534\n",
              "dtype: float64"
            ]
          },
          "execution_count": 87,
          "metadata": {},
          "output_type": "execute_result"
        }
      ],
      "source": [
        "# Дисперсия для тарифа \"Смарт\"\n",
        "smart_var = np.var(smart_total, ddof=1)\n",
        "smart_var"
      ]
    },
    {
      "cell_type": "code",
      "execution_count": null,
      "metadata": {
        "id": "TUTYMxlk193N",
        "outputId": "c4341dc6-3138-4743-9706-6f745ade8ab4"
      },
      "outputs": [
        {
          "data": {
            "text/plain": [
              "user_id            146.119496\n",
              "month                2.920316\n",
              "call_duration      190.313730\n",
              "messages_number     28.227876\n",
              "gb_used              5.739821\n",
              "monthly            787.688141\n",
              "dtype: float64"
            ]
          },
          "execution_count": 88,
          "metadata": {},
          "output_type": "execute_result"
        }
      ],
      "source": [
        "# Стандартное отклонение для тарифа \"Смарт\"\n",
        "smart_std_dev = np.std(smart_total, ddof=1)\n",
        "smart_std_dev"
      ]
    },
    {
      "cell_type": "markdown",
      "metadata": {
        "id": "vgpehg_p193O"
      },
      "source": [
        "Расчитаем промежуток, в котором находится 99% значений для тарифа \"Смарт\" по правилу трёх сигм."
      ]
    },
    {
      "cell_type": "code",
      "execution_count": null,
      "metadata": {
        "id": "9yB6VYjn193O",
        "outputId": "19eae339-091e-4c35-aba9-347bfe3984e6"
      },
      "outputs": [
        {
          "name": "stdout",
          "output_type": "stream",
          "text": [
            "Длительность звонков пользователей тарифа \"Смарт\" в промежутке от 0 до 989 минут.\n"
          ]
        }
      ],
      "source": [
        "# Промежуток для 99% значений по длительности звонка для тарифа \"Смарт\"\n",
        "smart_duration_min = max(0, smart_mean['call_duration'] - 3 * smart_std_dev['call_duration'])\n",
        "smart_duration_max = smart_mean['call_duration'] + 3 * smart_std_dev['call_duration']\n",
        "print('Длительность звонков пользователей тарифа \"Смарт\" в промежутке от {:.0f} до {:.0f} минут.'\n",
        "      .format(smart_duration_min, smart_duration_max))"
      ]
    },
    {
      "cell_type": "code",
      "execution_count": null,
      "metadata": {
        "id": "nI40jRkl193P",
        "outputId": "6a549b74-4cda-4022-b482-217c10bda334"
      },
      "outputs": [
        {
          "name": "stdout",
          "output_type": "stream",
          "text": [
            "Количество отправленных сообщений пользователями тарифа \"Смарт\" в промежутке от 0 до 118 сообщений.\n"
          ]
        }
      ],
      "source": [
        "# Промежуток для 99% значений по отправленным сообщениям для тарифа \"Смарт\"\n",
        "smart_messages_min = max(0, (smart_mean['messages_number'] - 3 * smart_std_dev['messages_number']))\n",
        "smart_messages_max = smart_mean['messages_number'] + 3 * smart_std_dev['messages_number']\n",
        "print('Количество отправленных сообщений пользователями тарифа \"Смарт\" в промежутке от {:.0f} до {:.0f} сообщений.'\n",
        "      .format(smart_messages_min, smart_messages_max))"
      ]
    },
    {
      "cell_type": "code",
      "execution_count": null,
      "metadata": {
        "id": "N1k_RJG9193Q",
        "outputId": "bd97850c-570e-43ce-f5df-7ec640176868"
      },
      "outputs": [
        {
          "name": "stdout",
          "output_type": "stream",
          "text": [
            "Объём интернет-трафика пользователей тарифа \"Смарт\" в промежутке от 0 до 33 гигабайт.\n"
          ]
        }
      ],
      "source": [
        "# Промежуток для 99% значений по объёму использованного интернет-трафика для тарифа \"Смарт\"\n",
        "smart_gbused_min = max(0, smart_mean['gb_used'] - 3 * smart_std_dev['gb_used'])\n",
        "smart_gbused_max = smart_mean['gb_used'] + 3 * smart_std_dev['gb_used']\n",
        "print('Объём интернет-трафика пользователей тарифа \"Смарт\" в промежутке от {:.0f} до {:.0f} гигабайт.'.format(smart_gbused_min, smart_gbused_max))"
      ]
    },
    {
      "cell_type": "markdown",
      "metadata": {
        "id": "-bGZr_DA193Q"
      },
      "source": [
        "Для наглядности сравнения сведем собранные статистические данные в единую табличку."
      ]
    },
    {
      "cell_type": "code",
      "execution_count": null,
      "metadata": {
        "id": "dF42ZFy3193R",
        "outputId": "b2682f89-f7b5-4e03-a235-5b4a01938ee1"
      },
      "outputs": [
        {
          "data": {
            "text/html": [
              "<div>\n",
              "<style scoped>\n",
              "    .dataframe tbody tr th:only-of-type {\n",
              "        vertical-align: middle;\n",
              "    }\n",
              "\n",
              "    .dataframe tbody tr th {\n",
              "        vertical-align: top;\n",
              "    }\n",
              "\n",
              "    .dataframe thead th {\n",
              "        text-align: right;\n",
              "    }\n",
              "</style>\n",
              "<table border=\"1\" class=\"dataframe\">\n",
              "  <thead>\n",
              "    <tr style=\"text-align: right;\">\n",
              "      <th></th>\n",
              "      <th>Ультра</th>\n",
              "      <th>Смарт</th>\n",
              "    </tr>\n",
              "    <tr>\n",
              "      <th>Статистика</th>\n",
              "      <th></th>\n",
              "      <th></th>\n",
              "    </tr>\n",
              "  </thead>\n",
              "  <tbody>\n",
              "    <tr>\n",
              "      <td>Средняя длительность звонков</td>\n",
              "      <td>527</td>\n",
              "      <td>418</td>\n",
              "    </tr>\n",
              "    <tr>\n",
              "      <td>Дисперсия по длительности звонков</td>\n",
              "      <td>100874</td>\n",
              "      <td>36219</td>\n",
              "    </tr>\n",
              "    <tr>\n",
              "      <td>Стандартное отклонение по длительности звонков</td>\n",
              "      <td>318</td>\n",
              "      <td>190</td>\n",
              "    </tr>\n",
              "    <tr>\n",
              "      <td>Средняя численность сообщений</td>\n",
              "      <td>49</td>\n",
              "      <td>33</td>\n",
              "    </tr>\n",
              "    <tr>\n",
              "      <td>Дисперсия по числу сообщений</td>\n",
              "      <td>2285</td>\n",
              "      <td>797</td>\n",
              "    </tr>\n",
              "    <tr>\n",
              "      <td>Стандартное отклонение по числу сообщений</td>\n",
              "      <td>48</td>\n",
              "      <td>28</td>\n",
              "    </tr>\n",
              "    <tr>\n",
              "      <td>Средний интернет-трафик</td>\n",
              "      <td>19</td>\n",
              "      <td>16</td>\n",
              "    </tr>\n",
              "    <tr>\n",
              "      <td>Дисперсия по интернет-трафику</td>\n",
              "      <td>97</td>\n",
              "      <td>33</td>\n",
              "    </tr>\n",
              "    <tr>\n",
              "      <td>Стандартное отклонение по интернет-трафику</td>\n",
              "      <td>10</td>\n",
              "      <td>6</td>\n",
              "    </tr>\n",
              "  </tbody>\n",
              "</table>\n",
              "</div>"
            ],
            "text/plain": [
              "                                                Ультра  Смарт\n",
              "Статистика                                                   \n",
              "Средняя длительность звонков                       527    418\n",
              "Дисперсия по длительности звонков               100874  36219\n",
              "Стандартное отклонение по длительности звонков     318    190\n",
              "Средняя численность сообщений                       49     33\n",
              "Дисперсия по числу сообщений                      2285    797\n",
              "Стандартное отклонение по числу сообщений           48     28\n",
              "Средний интернет-трафик                             19     16\n",
              "Дисперсия по интернет-трафику                       97     33\n",
              "Стандартное отклонение по интернет-трафику          10      6"
            ]
          },
          "execution_count": 92,
          "metadata": {},
          "output_type": "execute_result"
        }
      ],
      "source": [
        "stat_values = pd.DataFrame({'Статистика': ['Средняя длительность звонков', 'Дисперсия по длительности звонков',\n",
        "                                           'Стандартное отклонение по длительности звонков',\n",
        "                                           'Средняя численность сообщений', 'Дисперсия по числу сообщений',\n",
        "                                           'Стандартное отклонение по числу сообщений',\n",
        "                                           'Средний интернет-трафик', 'Дисперсия по интернет-трафику',\n",
        "                                           'Стандартное отклонение по интернет-трафику' ],\n",
        "\n",
        "                            'Ультра': [ultra_mean['call_duration'],\n",
        "                                      ultra_var['call_duration'], ultra_std_dev['call_duration'],\n",
        "                                      ultra_mean['messages_number'],\n",
        "                                      ultra_var['messages_number'], ultra_std_dev['messages_number'],\n",
        "                                      ultra_mean['gb_used'], \n",
        "                                      ultra_var['gb_used'], ultra_std_dev['gb_used']],\n",
        "                           \n",
        "                            'Смарт': [smart_mean['call_duration'],\n",
        "                                      smart_var['call_duration'], smart_std_dev['call_duration'],\n",
        "                                      smart_mean['messages_number'], \n",
        "                                      smart_var['messages_number'], smart_std_dev['messages_number'],\n",
        "                                      smart_mean['gb_used'], \n",
        "                                      smart_var['gb_used'], smart_std_dev['gb_used']]})\n",
        "stat_values[['Ультра', 'Смарт']] = round(stat_values[['Ультра', 'Смарт']],0).astype('int')\n",
        "stat_values = stat_values.set_index('Статистика')\n",
        "stat_values"
      ]
    },
    {
      "cell_type": "markdown",
      "metadata": {
        "id": "PCZJG3YD193T"
      },
      "source": [
        "### 3.3 Анализ гистограмм"
      ]
    },
    {
      "cell_type": "markdown",
      "metadata": {
        "id": "rIS187_4193U"
      },
      "source": [
        "Построим гистограммы и опишем распределения."
      ]
    },
    {
      "cell_type": "code",
      "execution_count": null,
      "metadata": {
        "id": "wnJsJ28w193V",
        "outputId": "a1cba851-3a40-49a5-8633-6f7ae2d6bab2"
      },
      "outputs": [
        {
          "data": {
            "image/png": "[encoded data removed]",
            "text/plain": [
              "<Figure size 432x288 with 1 Axes>"
            ]
          },
          "metadata": {
            "needs_background": "light"
          },
          "output_type": "display_data"
        }
      ],
      "source": [
        "# Длительность звонков по тарифам\n",
        "plt.xlabel('Длительность звонка, мин')\n",
        "plt.ylabel('Плотность распределения')\n",
        "plt.title('Длительность звонков по тарифам')\n",
        "sns.kdeplot(smart_total['call_duration'], shade=True, label=\"Smart\")\n",
        "sns.kdeplot(ultra_total['call_duration'], shade=True, label=\"Ultra\")\n",
        "plt.show()"
      ]
    },
    {
      "cell_type": "markdown",
      "metadata": {
        "id": "GN6bwDeZ193W"
      },
      "source": [
        "Распределения выборок тарифов по длительности звонков близки к нормальным. При этом в тарифе \"Ультра\" генеральная выборка значений находится в более широком интервале со скосом вправо, то есть когда медианное значение меньше среднего. Это может свидетельствовать о том, что есть достаточно много пользователей тарифа \"Ультра\", которые используют тарифные минуты звонков свыше медианного показателя длительности."
      ]
    },
    {
      "cell_type": "code",
      "execution_count": null,
      "metadata": {
        "id": "j_YRDhZX193X",
        "outputId": "323e8945-4253-436b-d74d-75f1e19400a0"
      },
      "outputs": [
        {
          "data": {
            "image/png": "[encoded data removed]",
            "text/plain": [
              "<Figure size 432x288 with 1 Axes>"
            ]
          },
          "metadata": {
            "needs_background": "light"
          },
          "output_type": "display_data"
        }
      ],
      "source": [
        "# Отправленные сообщения по тарифам\n",
        "plt.xlabel('Количество сообщений')\n",
        "plt.ylabel('Плотность распределения')\n",
        "plt.title('Отправленные сообщения по тарифам')\n",
        "sns.kdeplot(smart_total['messages_number'], shade=True, label=\"Smart\")\n",
        "sns.kdeplot(ultra_total['messages_number'], shade=True, label=\"Ultra\")\n",
        "plt.show()"
      ]
    },
    {
      "cell_type": "markdown",
      "metadata": {
        "id": "wQUahhaS193Y"
      },
      "source": [
        "Распределения выборок тарифов по количеству отправленных сообщений близки к нормальным, при этом разброс значений больше в тарифе \"Ультра\". Оба тарифа представлены датасетами с положительной скошенностью (вправо), то есть медиана меньше среднего, и пользователи обоих тарифов используют опцию отсылки сообщений больше медианного значения: в тарифе \"Ультра\" чаще, чем в тарифе \"Смарт\"."
      ]
    },
    {
      "cell_type": "code",
      "execution_count": null,
      "metadata": {
        "id": "Ve_EDAbp193b",
        "outputId": "026ab468-90b1-48b6-92e3-61890b4c0775"
      },
      "outputs": [
        {
          "data": {
            "image/png": "[encoded data removed]",
            "text/plain": [
              "<Figure size 432x288 with 1 Axes>"
            ]
          },
          "metadata": {
            "needs_background": "light"
          },
          "output_type": "display_data"
        }
      ],
      "source": [
        "# Израсходованный интернет-трафик по тарифам\n",
        "plt.xlabel('Интернет-трафик, ГБ')\n",
        "plt.ylabel('Плотность распределения')\n",
        "plt.title('Израсходованный интернет-трафик по тарифам')\n",
        "sns.kdeplot(smart_total['gb_used'], shade=True, label=\"Smart\")\n",
        "sns.kdeplot(ultra_total['gb_used'], shade=True, label=\"Ultra\")\n",
        "plt.show()"
      ]
    },
    {
      "cell_type": "markdown",
      "metadata": {
        "id": "hLLRgDZW193c"
      },
      "source": [
        "Распределения тарифов по интернет-трафику близки к нормальным и практически симметричны. Однако выборка тарифа \"Смарт\" по интернет-трафику скошена влево, то есть у пользователей этого тарифа наблюдается тенденция использовать гигабайты меньше медианного значения."
      ]
    },
    {
      "cell_type": "code",
      "execution_count": null,
      "metadata": {
        "id": "j5jVY3Ah193d",
        "outputId": "1a8a7668-c517-4e93-aa3a-faac7cb8329f"
      },
      "outputs": [
        {
          "data": {
            "image/png": "[encoded data removed]",
            "text/plain": [
              "<Figure size 432x288 with 1 Axes>"
            ]
          },
          "metadata": {
            "needs_background": "light"
          },
          "output_type": "display_data"
        }
      ],
      "source": [
        "# Ежемесячная выручка по тарифам\n",
        "plt.xlabel('Ежемесячная выручка, руб.')\n",
        "plt.ylabel('Плотность распределения')\n",
        "plt.title('Ежемесячная выручка по тарифам')\n",
        "sns.kdeplot(smart_total['monthly'], shade=True, label=\"Smart\")\n",
        "sns.kdeplot(ultra_total['monthly'], shade=True, label=\"Ultra\")\n",
        "plt.show()"
      ]
    },
    {
      "cell_type": "markdown",
      "metadata": {
        "id": "6aWjZmrh193e"
      },
      "source": [
        "Распределение тарифа \"Смарт\" по выручке близко к нормальному с положительной скошенностью, то есть для этого тарифа больше пользователей приносят выручку выше медианного значения.\n",
        "\n",
        "Напротив, распределение тарифа \"Ультра\" по выручке совсем не выглядит нормальным, в нем много иррегулярностей и выбросов. Это может свидетельствовать о непостоянности и сложной непредсказуемости этого распределения. "
      ]
    },
    {
      "cell_type": "markdown",
      "metadata": {
        "id": "EQCZfP5B193f"
      },
      "source": [
        "##  4. Проверка гипотез"
      ]
    },
    {
      "cell_type": "markdown",
      "metadata": {
        "id": "8Ona0Xxh193f"
      },
      "source": [
        "### 4.1 Средняя выручка пользователей тарифов «Ультра» и «Смарт» различаются"
      ]
    },
    {
      "cell_type": "markdown",
      "metadata": {
        "id": "1mlC_CFF193f"
      },
      "source": [
        "В качестве генеральных совокупностей примем выборки тарифа \"Ультра\" (ultra_pivot) и тарифа \"Смарт\" (smart_pivot) по выручке. Начинаем формулировку гипотез, опираясь на типичные статистические гипотезы для средних значений.\n",
        "\n",
        "<b>Нулевая гипотеза H0:</b> \n",
        "Средние двух генеральных совокупностей равны между собой.\n",
        "\n",
        "<b>Альтернативная гипотеза H1:</b>\n",
        "Средние двух генеральных совокупностей не равны между собой.\n",
        "\n",
        "ultra_pivot и smart_pivot - это скорее выборки, а не генеральные совокупности. Тем не менее по центральной предельной теореме, выборочные средние распределены нормально вокруг истинного среднего генеральной совокупности. Для определения близости к среднему значению введём уровень значимости 5%.\n",
        "\n",
        "Выборки являются независимыми. Дисперсия выборок оценивается по датасету каждой из выборок, а не по их объединению. Проверим гипотезы через распределение t-Стьюдента."
      ]
    },
    {
      "cell_type": "code",
      "execution_count": null,
      "metadata": {
        "id": "jtwMWYnV193h",
        "outputId": "cacb9c02-0716-421f-cbd5-6f85e02b292d"
      },
      "outputs": [
        {
          "name": "stdout",
          "output_type": "stream",
          "text": [
            "p-значение: 8.931402711368788e-296\n",
            "Отвергаем нулевую гипотезу.\n"
          ]
        }
      ],
      "source": [
        "sample_1 = ultra_total['monthly']\n",
        "sample_2 = smart_total['monthly']\n",
        "\n",
        "alpha = .05\n",
        "\n",
        "results = st.ttest_ind(sample_1, sample_2, equal_var=False)\n",
        "print('p-значение:', results.pvalue)\n",
        "\n",
        "if results.pvalue < alpha:\n",
        "    print('Отвергаем нулевую гипотезу.')\n",
        "else:\n",
        "    print('Не получилось отвергнуть нулевую гипотезу.')"
      ]
    },
    {
      "cell_type": "markdown",
      "metadata": {
        "id": "UlaElqTM193h"
      },
      "source": [
        "<b>ВЫВОД:</b>\n",
        "\n",
        "Нулевая гипотеза отвергнута: p-value оказалось меньше уровня значимости 5%. Следовательно принимается альтернативная гипотеза: средние двух генеральных совокупностей не равны между собой.\n",
        "\n",
        "То есть средняя выручка пользователей тарифов «Ультра» и «Смарт» различаются."
      ]
    },
    {
      "cell_type": "markdown",
      "metadata": {
        "id": "W4rv76tc193j"
      },
      "source": [
        "### 4.2 Cредняя выручка пользователей из Москвы отличается от выручки пользователей из других регионов"
      ]
    },
    {
      "cell_type": "markdown",
      "metadata": {
        "id": "rtpmk277193j"
      },
      "source": [
        "Из из общей выборки пользователей total подготовим срез пользователей из Москвы moscow_users, а также срез пользователей из других регионов other_users."
      ]
    },
    {
      "cell_type": "code",
      "execution_count": null,
      "metadata": {
        "id": "j50UavH3193k"
      },
      "outputs": [],
      "source": [
        "moscow_users = total.query('city == \"Москва\"')\n",
        "other_users = total.query('city != \"Москва\"')"
      ]
    },
    {
      "cell_type": "markdown",
      "metadata": {
        "id": "Ohmhwz27193k"
      },
      "source": [
        "Сформируем гипотезы для выборок выручки пользователей из Москвы и пользователей из других регионов.\n",
        "\n",
        "<b>Нулевая гипотеза H0:</b>\n",
        "Средние двух генеральных совокупностей равны между собой.\n",
        "\n",
        "<b>Альтернативная гипотеза H1:</b>\n",
        "Средние двух генераальных совокупностей не равны между собой.\n",
        "\n",
        "Для данных независимых выборок также действует центральная предельная теорема: выборочные средние распределены нормально вокруг истинного среднего генеральной совокупности. \n",
        "\n",
        "Опять-таки примем уровень значимости равный 5%."
      ]
    },
    {
      "cell_type": "code",
      "execution_count": null,
      "metadata": {
        "id": "bPa097An193l",
        "outputId": "fbc94e94-68a4-46df-a011-2f444f5680c3"
      },
      "outputs": [
        {
          "name": "stdout",
          "output_type": "stream",
          "text": [
            "p-значение: 0.4549775646471024\n",
            "Не получилось отвергнуть нулевую гипотезу.\n"
          ]
        }
      ],
      "source": [
        "sample_1 = moscow_users['monthly']\n",
        "sample_2 = other_users['monthly']\n",
        "\n",
        "alpha = .05\n",
        "\n",
        "results = st.ttest_ind(sample_1, sample_2, equal_var=False)\n",
        "print('p-значение:', results.pvalue)\n",
        "\n",
        "if results.pvalue < alpha:\n",
        "    print('Отвергаем нулевую гипотезу.')\n",
        "else:\n",
        "    print('Не получилось отвергнуть нулевую гипотезу.')"
      ]
    },
    {
      "cell_type": "markdown",
      "metadata": {
        "id": "eZQ_yo1G193m"
      },
      "source": [
        "<b>ВЫВОД:</b>\n",
        "\n",
        "Нулевая гипотеза не может быть отвергнута (p-value больше уровня значимости), поэтому альтернативная гипотеза не принята.\n",
        "\n",
        "То есть средняя выручка пользователей из Москвы не отличается от выручки пользователей из других регионов."
      ]
    },
    {
      "cell_type": "markdown",
      "metadata": {
        "id": "b5YXQRWU193n"
      },
      "source": [
        "<b>СОБРАННЫЕ НАБЛЮДЕНИЯ</b>\n",
        "\n",
        "При сравнении тарифов было выявлено, что с января по декабрь 2018 года для обоих тарифов наблюдался рост и длительности звонков, и количества сообщений, и интернет-трафика. При этом длительность звонков и интернет-трафика потребителей тарифа \"Ультра\" превышала аналогичный показатель потребителя тарифа \"Смарт\". \n",
        "\n",
        "Распределения выборок тарифов по всем параметрам (длительности звонков, количеству сообщений, интернет-трафику) близки к нормальным. По объёму интернет-трафика распределения по обоим тарифам обладают отрицательной скошенностью, однако для тарифа \"Ультра\" данные расположены в более высоком регистре значений. Тариф \"Ультра\" по длительности звонков имеет более широкий интервал распределения, чем тариф \"Смарт\", а также скошенность вправо. А по количеству отправленных сообщений оба датасета скошены вправо. Это говорит нам о том, что в тарифе \"Ультра\" присутствуют пользователи, которые использует тарифные минуты звонков и отправляют сообщения свыше медианных значений, а также те, кто использует интернет-трафик ниже медианного значения. В тарифе \"Смарт\" есть пользователи с использованным интернет-трафиком ниже медианы, а также клиенты, отправляющие сообщения выше медианного значения.\n",
        "\n",
        "Распределение выручки по тарифу \"Смарт\" близко к нормальному, но датасет скошен вправо, то есть существует большое число пользователей тарифа, которые приносят компании выручку выше медианного значения. Распределение выручки по тарифу \"Ультра\" выглядит непредсказуемо: пользователи приносят более высокую выручку компании, но у распределения очень много выбросов.\n",
        "\n",
        "Были проведены t-тесты проверки двусторонних гипотез для двух независимых выборок. В результате этих испытаний было зафиксировано, что средняя выручка пользователей тарифов «Ультра» и «Смарт» различается, а средняя выручка пользователей из Москвы не отличается от выручки пользователей из других регионов."
      ]
    },
    {
      "cell_type": "markdown",
      "metadata": {
        "id": "5Y4iZ685193o"
      },
      "source": [
        "## 5. Общий вывод"
      ]
    },
    {
      "cell_type": "markdown",
      "metadata": {
        "id": "XvGUsUHy193o"
      },
      "source": [
        "Проведено исследование тарифов \"Смарт\" и \"Ультра\", которые предлагает оператор сотовой связи «Мегалайн». Анализ проведён на основе исходных данных о пользователях, звонках, сообщениях, интернет-сесссиях пользователей и тарифах. Проведена предобработка данных: изменение типа данных, выявление аномалий, расчёт дополнительных показателей. Явных ошибок/аномалий в данных не выявлено. Дополнительно собрана информация о длительности звонков, количестве отправленных сообщений, объёме использованного интернет-трафика.\n",
        "\n",
        "Согласно предварительным наблюдениям пользователи, как правило, предпочитают использовать одну из опций тарифа: звонки, сообщения или интернет-трафик. Рассчитана ежемесячная выручка оператора в связи с использованием опций сверх абонентской платы.\n",
        "\n",
        "Сравнение тарифов показывает, что на протяжении 2018 года для обоих тарифов наблюдается рост использования всех опций пакета: длительности звонков, количества отправленных сообщений и интернет-трафика. При этом длительность звонков и использованного интернет-трафика клиентов тарифа \"Ультра\" превышает аналогичный показатель тарифа \"Смарт\". \n",
        "\n",
        "Кроме того, проведены t-тесты с выбором подтвержденных гипотез, что средняя выручка пользователей тарифов «Ультра» и «Смарт» различается, а средняя выручка пользователей из Москвы не отличается от выручки пользователей из других регионов."
      ]
    },
    {
      "cell_type": "code",
      "execution_count": null,
      "metadata": {
        "id": "gOCYj9cK193q"
      },
      "outputs": [],
      "source": []
    }
  ],
  "metadata": {
    "ExecuteTimeLog": [
      {
        "duration": 144,
        "start_time": "2022-04-10T16:15:25.161Z"
      },
      {
        "duration": 145,
        "start_time": "2022-04-10T16:16:39.934Z"
      },
      {
        "duration": 322,
        "start_time": "2022-04-10T16:35:22.659Z"
      }
    ],
    "kernelspec": {
      "display_name": "Python 3 (ipykernel)",
      "language": "python",
      "name": "python3"
    },
    "language_info": {
      "codemirror_mode": {
        "name": "ipython",
        "version": 3
      },
      "file_extension": ".py",
      "mimetype": "text/x-python",
      "name": "python",
      "nbconvert_exporter": "python",
      "pygments_lexer": "ipython3",
      "version": "3.9.5"
    },
    "toc": {
      "base_numbering": 1,
      "nav_menu": {},
      "number_sections": true,
      "sideBar": true,
      "skip_h1_title": true,
      "title_cell": "Table of Contents",
      "title_sidebar": "Contents",
      "toc_cell": false,
      "toc_position": {},
      "toc_section_display": true,
      "toc_window_display": false
    },
    "colab": {
      "provenance": []
    }
  },
  "nbformat": 4,
  "nbformat_minor": 0
}