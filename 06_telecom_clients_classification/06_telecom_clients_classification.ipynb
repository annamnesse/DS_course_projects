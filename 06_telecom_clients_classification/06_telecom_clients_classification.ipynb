{
 "cells": [
  {
   "cell_type": "markdown",
   "metadata": {},
   "source": [
    "# Рекомендация тарифов"
   ]
  },
  {
   "cell_type": "markdown",
   "metadata": {},
   "source": [
    "В нашем распоряжении данные о поведении клиентов, которые уже перешли на эти тарифы (из проекта курса «Статистический анализ данных»). Нужно построить модель для задачи классификации, которая выберет подходящий тариф. Предобработка данных не понадобится — мы её уже сделали.\n",
    "\n",
    "Построим модель с максимально большим значением *accuracy*. Чтобы сдать проект успешно, нужно довести долю правильных ответов по крайней мере до 0.75. Проверим *accuracy* на тестовой выборке самостоятельно."
   ]
  },
  {
   "cell_type": "markdown",
   "metadata": {},
   "source": [
    "<div style=\"background-color:MintCream; border:solid CadetBlue 2px; padding: 20px\">\n",
    "Привет, Анна! Меня зовут Панкратова Дарья, и я буду проверять твой проект. Предлагаю общаться на «ты» :) Но если это не удобно – дай знать, и мы перейдем на «вы». Моя основная цель — не указать на совершенные тобою ошибки, а поделиться своим опытом и помочь тебе.\n",
    "\n",
    "<div class=\"alert alert-success\">\n",
    "<b>👍 Успех:</b> Зелёным цветом отмечены удачные и элегантные решения, на которые можно опираться в будущих проектах.\n",
    "</div>\n",
    "<div class=\"alert alert-warning\">\n",
    "<b>🤔 Рекомендация:</b> Жёлтым цветом выделено то, что в следующий раз можно сделать по-другому. Ты можешь учесть эти комментарии при выполнении будущих заданий или доработать проект сейчас (однако это не обязательно).\n",
    "</div>\n",
    "<div class=\"alert alert-danger\">\n",
    "<b>😔 Необходимо исправить:</b> Красным цветом выделены комментарии, без исправления которых, я не смогу принять проект :(    \n",
    "</div>\n",
    "<div class=\"alert alert-info\">\n",
    "<b>👂 Совет:</b> Какие-то дополнительные материалы   \n",
    "</div>\n",
    "Давай работать над проектом в диалоге: если ты что-то меняешь в проекте по моим рекомендациям — пиши об этом. \n",
    "Мне будет легче отследить изменения, если ты выделишь свои комментарии:\n",
    "<div class=\"alert alert-info\"> <b>🎓 Комментарий студента:</b> Например, вот так.</div>\n",
    "Пожалуйста, не перемещай, не изменяй и не удаляй мои комментарии. Всё это поможет выполнить повторную проверку твоего проекта быстрее.\n",
    " </div>\n",
    " "
   ]
  },
  {
   "cell_type": "markdown",
   "metadata": {},
   "source": [
    "<div style=\"background-color:MintCream; border:solid CadetBlue 2px; padding: 20px\">\n",
    "<b>Общее впечатление:</b> Классная работа. Ты хорошо постарался! 🚀🚀<br> Все пункты задания выполнены правильно. \n",
    " Работа отлично оформлена. Написано много хороших выводов. Я готова принять работу в таком виде.\n",
    "Буду рада твоим вопросам  \n",
    "<div>"
   ]
  },
  {
   "cell_type": "markdown",
   "metadata": {},
   "source": [
    "<div class=\"alert alert-info\">\n",
    "<b>😺 Комментарий ревьюера v2:</b> Принимаю работу. Успехов в дальнейшей учебе.\n",
    "</div>"
   ]
  },
  {
   "cell_type": "markdown",
   "metadata": {},
   "source": [
    "## Изучение данных"
   ]
  },
  {
   "cell_type": "code",
   "execution_count": 1,
   "metadata": {},
   "outputs": [],
   "source": [
    "import pandas as pd\n",
    "import numpy as np\n",
    "from sklearn.model_selection import train_test_split\n",
    "from sklearn.tree import DecisionTreeClassifier\n",
    "from sklearn.ensemble import RandomForestClassifier\n",
    "from sklearn.linear_model import LogisticRegression\n",
    "from sklearn.metrics import accuracy_score\n",
    "from sklearn.metrics import mean_squared_error\n",
    "import random\n",
    "from sklearn.preprocessing import StandardScaler\n",
    "\n",
    "import warnings\n",
    "warnings.filterwarnings('ignore')"
   ]
  },
  {
   "cell_type": "markdown",
   "metadata": {},
   "source": [
    "<div class=\"alert alert-success\">\n",
    "<b>👍 Успех:</b> Все импорты на месте\n",
    "</div>"
   ]
  },
  {
   "cell_type": "code",
   "execution_count": 2,
   "metadata": {},
   "outputs": [],
   "source": [
    "tariff=pd.read_csv('/datasets/users_behavior.csv')"
   ]
  },
  {
   "cell_type": "markdown",
   "metadata": {},
   "source": [
    "<b>ОПИСАНИЕ ДАННЫХ</b>\n",
    "\n",
    "* сalls — количество звонков,\n",
    "* minutes — суммарная длительность звонков в минутах,\n",
    "* messages — количество sms-сообщений,\n",
    "* mb_used — израсходованный интернет-трафик в Мб,\n",
    "* is_ultra — каким тарифом пользовался в течение месяца («Ультра» — 1, «Смарт» — 0)."
   ]
  },
  {
   "cell_type": "code",
   "execution_count": 3,
   "metadata": {},
   "outputs": [
    {
     "name": "stdout",
     "output_type": "stream",
     "text": [
      "<class 'pandas.core.frame.DataFrame'>\n",
      "RangeIndex: 3214 entries, 0 to 3213\n",
      "Data columns (total 5 columns):\n",
      " #   Column    Non-Null Count  Dtype  \n",
      "---  ------    --------------  -----  \n",
      " 0   calls     3214 non-null   float64\n",
      " 1   minutes   3214 non-null   float64\n",
      " 2   messages  3214 non-null   float64\n",
      " 3   mb_used   3214 non-null   float64\n",
      " 4   is_ultra  3214 non-null   int64  \n",
      "dtypes: float64(4), int64(1)\n",
      "memory usage: 125.7 KB\n"
     ]
    }
   ],
   "source": [
    "tariff.info()"
   ]
  },
  {
   "cell_type": "code",
   "execution_count": 4,
   "metadata": {},
   "outputs": [
    {
     "data": {
      "text/html": [
       "<div>\n",
       "<style scoped>\n",
       "    .dataframe tbody tr th:only-of-type {\n",
       "        vertical-align: middle;\n",
       "    }\n",
       "\n",
       "    .dataframe tbody tr th {\n",
       "        vertical-align: top;\n",
       "    }\n",
       "\n",
       "    .dataframe thead th {\n",
       "        text-align: right;\n",
       "    }\n",
       "</style>\n",
       "<table border=\"1\" class=\"dataframe\">\n",
       "  <thead>\n",
       "    <tr style=\"text-align: right;\">\n",
       "      <th></th>\n",
       "      <th>calls</th>\n",
       "      <th>minutes</th>\n",
       "      <th>messages</th>\n",
       "      <th>mb_used</th>\n",
       "      <th>is_ultra</th>\n",
       "    </tr>\n",
       "  </thead>\n",
       "  <tbody>\n",
       "    <tr>\n",
       "      <th>0</th>\n",
       "      <td>40.0</td>\n",
       "      <td>311.90</td>\n",
       "      <td>83.0</td>\n",
       "      <td>19915.42</td>\n",
       "      <td>0</td>\n",
       "    </tr>\n",
       "    <tr>\n",
       "      <th>1</th>\n",
       "      <td>85.0</td>\n",
       "      <td>516.75</td>\n",
       "      <td>56.0</td>\n",
       "      <td>22696.96</td>\n",
       "      <td>0</td>\n",
       "    </tr>\n",
       "    <tr>\n",
       "      <th>2</th>\n",
       "      <td>77.0</td>\n",
       "      <td>467.66</td>\n",
       "      <td>86.0</td>\n",
       "      <td>21060.45</td>\n",
       "      <td>0</td>\n",
       "    </tr>\n",
       "    <tr>\n",
       "      <th>3</th>\n",
       "      <td>106.0</td>\n",
       "      <td>745.53</td>\n",
       "      <td>81.0</td>\n",
       "      <td>8437.39</td>\n",
       "      <td>1</td>\n",
       "    </tr>\n",
       "    <tr>\n",
       "      <th>4</th>\n",
       "      <td>66.0</td>\n",
       "      <td>418.74</td>\n",
       "      <td>1.0</td>\n",
       "      <td>14502.75</td>\n",
       "      <td>0</td>\n",
       "    </tr>\n",
       "  </tbody>\n",
       "</table>\n",
       "</div>"
      ],
      "text/plain": [
       "   calls  minutes  messages   mb_used  is_ultra\n",
       "0   40.0   311.90      83.0  19915.42         0\n",
       "1   85.0   516.75      56.0  22696.96         0\n",
       "2   77.0   467.66      86.0  21060.45         0\n",
       "3  106.0   745.53      81.0   8437.39         1\n",
       "4   66.0   418.74       1.0  14502.75         0"
      ]
     },
     "execution_count": 4,
     "metadata": {},
     "output_type": "execute_result"
    }
   ],
   "source": [
    "tariff.head()"
   ]
  },
  {
   "cell_type": "code",
   "execution_count": 5,
   "metadata": {},
   "outputs": [
    {
     "data": {
      "text/html": [
       "<div>\n",
       "<style scoped>\n",
       "    .dataframe tbody tr th:only-of-type {\n",
       "        vertical-align: middle;\n",
       "    }\n",
       "\n",
       "    .dataframe tbody tr th {\n",
       "        vertical-align: top;\n",
       "    }\n",
       "\n",
       "    .dataframe thead th {\n",
       "        text-align: right;\n",
       "    }\n",
       "</style>\n",
       "<table border=\"1\" class=\"dataframe\">\n",
       "  <thead>\n",
       "    <tr style=\"text-align: right;\">\n",
       "      <th></th>\n",
       "      <th>calls</th>\n",
       "      <th>minutes</th>\n",
       "      <th>messages</th>\n",
       "      <th>mb_used</th>\n",
       "      <th>is_ultra</th>\n",
       "    </tr>\n",
       "  </thead>\n",
       "  <tbody>\n",
       "    <tr>\n",
       "      <th>count</th>\n",
       "      <td>3214.000000</td>\n",
       "      <td>3214.000000</td>\n",
       "      <td>3214.000000</td>\n",
       "      <td>3214.000000</td>\n",
       "      <td>3214.000000</td>\n",
       "    </tr>\n",
       "    <tr>\n",
       "      <th>mean</th>\n",
       "      <td>63.038892</td>\n",
       "      <td>438.208787</td>\n",
       "      <td>38.281269</td>\n",
       "      <td>17207.673836</td>\n",
       "      <td>0.306472</td>\n",
       "    </tr>\n",
       "    <tr>\n",
       "      <th>std</th>\n",
       "      <td>33.236368</td>\n",
       "      <td>234.569872</td>\n",
       "      <td>36.148326</td>\n",
       "      <td>7570.968246</td>\n",
       "      <td>0.461100</td>\n",
       "    </tr>\n",
       "    <tr>\n",
       "      <th>min</th>\n",
       "      <td>0.000000</td>\n",
       "      <td>0.000000</td>\n",
       "      <td>0.000000</td>\n",
       "      <td>0.000000</td>\n",
       "      <td>0.000000</td>\n",
       "    </tr>\n",
       "    <tr>\n",
       "      <th>25%</th>\n",
       "      <td>40.000000</td>\n",
       "      <td>274.575000</td>\n",
       "      <td>9.000000</td>\n",
       "      <td>12491.902500</td>\n",
       "      <td>0.000000</td>\n",
       "    </tr>\n",
       "    <tr>\n",
       "      <th>50%</th>\n",
       "      <td>62.000000</td>\n",
       "      <td>430.600000</td>\n",
       "      <td>30.000000</td>\n",
       "      <td>16943.235000</td>\n",
       "      <td>0.000000</td>\n",
       "    </tr>\n",
       "    <tr>\n",
       "      <th>75%</th>\n",
       "      <td>82.000000</td>\n",
       "      <td>571.927500</td>\n",
       "      <td>57.000000</td>\n",
       "      <td>21424.700000</td>\n",
       "      <td>1.000000</td>\n",
       "    </tr>\n",
       "    <tr>\n",
       "      <th>max</th>\n",
       "      <td>244.000000</td>\n",
       "      <td>1632.060000</td>\n",
       "      <td>224.000000</td>\n",
       "      <td>49745.730000</td>\n",
       "      <td>1.000000</td>\n",
       "    </tr>\n",
       "  </tbody>\n",
       "</table>\n",
       "</div>"
      ],
      "text/plain": [
       "             calls      minutes     messages       mb_used     is_ultra\n",
       "count  3214.000000  3214.000000  3214.000000   3214.000000  3214.000000\n",
       "mean     63.038892   438.208787    38.281269  17207.673836     0.306472\n",
       "std      33.236368   234.569872    36.148326   7570.968246     0.461100\n",
       "min       0.000000     0.000000     0.000000      0.000000     0.000000\n",
       "25%      40.000000   274.575000     9.000000  12491.902500     0.000000\n",
       "50%      62.000000   430.600000    30.000000  16943.235000     0.000000\n",
       "75%      82.000000   571.927500    57.000000  21424.700000     1.000000\n",
       "max     244.000000  1632.060000   224.000000  49745.730000     1.000000"
      ]
     },
     "execution_count": 5,
     "metadata": {},
     "output_type": "execute_result"
    }
   ],
   "source": [
    "tariff.describe()"
   ]
  },
  {
   "cell_type": "code",
   "execution_count": 6,
   "metadata": {},
   "outputs": [
    {
     "data": {
      "text/plain": [
       "calls       0\n",
       "minutes     0\n",
       "messages    0\n",
       "mb_used     0\n",
       "is_ultra    0\n",
       "dtype: int64"
      ]
     },
     "execution_count": 6,
     "metadata": {},
     "output_type": "execute_result"
    }
   ],
   "source": [
    "tariff.isna().sum()"
   ]
  },
  {
   "cell_type": "code",
   "execution_count": 7,
   "metadata": {},
   "outputs": [
    {
     "data": {
      "text/plain": [
       "0"
      ]
     },
     "execution_count": 7,
     "metadata": {},
     "output_type": "execute_result"
    }
   ],
   "source": [
    "tariff.duplicated().sum()"
   ]
  },
  {
   "cell_type": "markdown",
   "metadata": {},
   "source": [
    "<b>Вывод:</b> Проверка готовности данных к анализу прошла успешно: дополнительной обработки данных не требуется."
   ]
  },
  {
   "cell_type": "markdown",
   "metadata": {},
   "source": [
    "<div class=\"alert alert-success\">\n",
    "<b>👍 Успех:</b> Пропуски и дубликаты проанализированы. Ты хорошо владеешь инструментами первичной обработки\n",
    "</div>"
   ]
  },
  {
   "cell_type": "markdown",
   "metadata": {},
   "source": [
    "## Разбиение данных на выборки"
   ]
  },
  {
   "cell_type": "markdown",
   "metadata": {},
   "source": [
    "Поскольку спрятанной тестовой выборки нет, разобьем данные на три части: обучающую, валидационную и тестовую в отношении 3:1:1."
   ]
  },
  {
   "cell_type": "code",
   "execution_count": 8,
   "metadata": {},
   "outputs": [],
   "source": [
    "tariff_train, tariff_split = train_test_split(tariff, test_size=0.40, random_state=12345)"
   ]
  },
  {
   "cell_type": "code",
   "execution_count": 9,
   "metadata": {},
   "outputs": [],
   "source": [
    "tariff_valid, tariff_test = train_test_split(tariff_split, test_size=0.50, random_state=12345)"
   ]
  },
  {
   "cell_type": "markdown",
   "metadata": {},
   "source": [
    "Выделим в исходных датафреймах целевой признак, который нужно предсказать, и те признаки, которые помогут его предсказать"
   ]
  },
  {
   "cell_type": "code",
   "execution_count": 10,
   "metadata": {},
   "outputs": [],
   "source": [
    "# Тренировочные признаки\n",
    "features_train = tariff_train.drop(['is_ultra'], axis=1)\n",
    "target_train = tariff_train['is_ultra']"
   ]
  },
  {
   "cell_type": "code",
   "execution_count": 11,
   "metadata": {},
   "outputs": [],
   "source": [
    "# Валидационные признаки\n",
    "features_valid = tariff_valid.drop(['is_ultra'], axis=1)  \n",
    "target_valid = tariff_valid['is_ultra']"
   ]
  },
  {
   "cell_type": "markdown",
   "metadata": {},
   "source": [
    "<div class=\"alert alert-success\">\n",
    "<b>👍 Успех:</b>  Ты правильно разделила выборки. Хорошо, что не забыла параметр random_state.\n",
    "</div>"
   ]
  },
  {
   "cell_type": "markdown",
   "metadata": {},
   "source": [
    "## Исследование моделей"
   ]
  },
  {
   "cell_type": "markdown",
   "metadata": {},
   "source": [
    "Перед нами стоит задача классификации. Будем обучать и тестировать известные на данный момент модели:\n",
    "\n",
    "* Дерево решений\n",
    "* Случайный лес\n",
    "* Логистическая регрессия"
   ]
  },
  {
   "cell_type": "markdown",
   "metadata": {},
   "source": [
    "### Дерево решений"
   ]
  },
  {
   "cell_type": "markdown",
   "metadata": {},
   "source": [
    "Оценим в цикле долю правильных ответов для разных глубин дерева принятия решений:"
   ]
  },
  {
   "cell_type": "code",
   "execution_count": 12,
   "metadata": {},
   "outputs": [
    {
     "name": "stdout",
     "output_type": "stream",
     "text": [
      "При грубине дерева 2 доля правильных ответов: 0.7823\n",
      "При грубине дерева 4 доля правильных ответов: 0.7792\n",
      "При грубине дерева 6 доля правильных ответов: 0.7838\n",
      "При грубине дерева 8 доля правильных ответов: 0.7792\n",
      "При грубине дерева 10 доля правильных ответов: 0.7745\n",
      "При грубине дерева 12 доля правильных ответов: 0.7621\n",
      "При грубине дерева 14 доля правильных ответов: 0.7589\n",
      "При грубине дерева 16 доля правильных ответов: 0.7341\n",
      "При грубине дерева 18 доля правильных ответов: 0.7309\n",
      "При грубине дерева 20 доля правильных ответов: 0.7216\n",
      "При грубине дерева 22 доля правильных ответов: 0.7263\n",
      "При грубине дерева 24 доля правильных ответов: 0.7138\n",
      "При грубине дерева 26 доля правильных ответов: 0.7138\n"
     ]
    }
   ],
   "source": [
    "for depth in range(2,27,2):\n",
    "    # Модель классификации деревом решений\n",
    "    model = DecisionTreeClassifier(random_state=12345, max_depth=depth)\n",
    "    \n",
    "    # Обучение модели на тренировочной выборке\n",
    "    model.fit(features_train, target_train)\n",
    "    \n",
    "    # Предсказание целевого признака на валидационной выборке\n",
    "    predictions = model.predict(features_valid)\n",
    "    \n",
    "    # Доля правильных ответов\n",
    "    accuracy = accuracy_score(target_valid, predictions)\n",
    "    print('При грубине дерева',depth,'доля правильных ответов: {:.4f}'.format(accuracy))"
   ]
  },
  {
   "cell_type": "markdown",
   "metadata": {},
   "source": [
    "<b>Вывод:</b>\n",
    "Лучшей глубиной для модели дерева решений является 6 (accuracy = 0.7838)."
   ]
  },
  {
   "cell_type": "markdown",
   "metadata": {},
   "source": [
    "### Случайный лес"
   ]
  },
  {
   "cell_type": "markdown",
   "metadata": {},
   "source": [
    "Оценим в цикле долю правильных ответов для разного числа оценщиков"
   ]
  },
  {
   "cell_type": "code",
   "execution_count": 13,
   "metadata": {},
   "outputs": [
    {
     "name": "stdout",
     "output_type": "stream",
     "text": [
      "При количестве оценщиков 2 доля правильных ответов: 0.7854\n",
      "При количестве оценщиков 3 доля правильных ответов: 0.7838\n",
      "При количестве оценщиков 4 доля правильных ответов: 0.7885\n",
      "При количестве оценщиков 5 доля правильных ответов: 0.7947\n",
      "При количестве оценщиков 6 доля правильных ответов: 0.7932\n",
      "При количестве оценщиков 7 доля правильных ответов: 0.7947\n",
      "При количестве оценщиков 8 доля правильных ответов: 0.7994\n",
      "При количестве оценщиков 9 доля правильных ответов: 0.7994\n",
      "При количестве оценщиков 10 доля правильных ответов: 0.8009\n",
      "При количестве оценщиков 11 доля правильных ответов: 0.8009\n",
      "При количестве оценщиков 12 доля правильных ответов: 0.8040\n",
      "При количестве оценщиков 13 доля правильных ответов: 0.8025\n",
      "При количестве оценщиков 14 доля правильных ответов: 0.8025\n",
      "При количестве оценщиков 15 доля правильных ответов: 0.8009\n"
     ]
    }
   ],
   "source": [
    "for estimators in range(2,16):\n",
    "    # Модель случайного леса\n",
    "    model = RandomForestClassifier(random_state=12345, n_estimators=estimators, max_depth=6)\n",
    "    \n",
    "    # Обучение модели\n",
    "    model.fit(features_train, target_train)\n",
    "    \n",
    "    # Предсказание целевого признака\n",
    "    predictions = model.predict(features_valid)\n",
    "    \n",
    "    # Доля правильных ответов\n",
    "    accuracy = accuracy_score(target_valid, predictions)\n",
    "    print('При количестве оценщиков', estimators,'доля правильных ответов: {:.4f}'.format(accuracy))"
   ]
  },
  {
   "cell_type": "markdown",
   "metadata": {},
   "source": [
    "<b>Вывод:</b> Доля правильных ответов выше (accuracy = 0.8040) при числе оценщиков 12 и глубине 6."
   ]
  },
  {
   "cell_type": "markdown",
   "metadata": {},
   "source": [
    "### Логистическая регрессия"
   ]
  },
  {
   "cell_type": "code",
   "execution_count": 14,
   "metadata": {},
   "outputs": [
    {
     "name": "stdout",
     "output_type": "stream",
     "text": [
      "Доля правильных ответов (accuracy): 0.7107\n"
     ]
    }
   ],
   "source": [
    "# Модель логистической регрессии\n",
    "model = LogisticRegression(random_state=12345, solver='lbfgs', max_iter=1000)\n",
    "\n",
    "# Обучение модели\n",
    "model.fit(features_train, target_train)\n",
    "\n",
    "# Предсказание целевого признака\n",
    "predictions = model.predict(features_valid)\n",
    "\n",
    "# Доля правильных ответов\n",
    "accuracy = accuracy_score(target_valid, predictions)\n",
    "print('Доля правильных ответов (accuracy):','{:.4f}'.format(accuracy))"
   ]
  },
  {
   "cell_type": "markdown",
   "metadata": {},
   "source": [
    "<b>Вывод:</b> При логистической регрессии при исходных параметрах получается низкая доля правильных ответов (accuracy = 0.71)."
   ]
  },
  {
   "cell_type": "markdown",
   "metadata": {},
   "source": [
    "<div class=\"alert alert-warning\">\n",
    "<b>🤔 Рекомендация:</b> Для улучшения качества логистической регрессии можно масштабировать признаки.\n",
    "</div>"
   ]
  },
  {
   "cell_type": "markdown",
   "metadata": {},
   "source": [
    "<div class=\"alert alert-info\"> <b>🎓 Комментарий студента:</b> Дарья, спасибо за рекомендацию. Сейчас попробую отмасштабировать.</div>"
   ]
  },
  {
   "cell_type": "code",
   "execution_count": 15,
   "metadata": {},
   "outputs": [
    {
     "name": "stdout",
     "output_type": "stream",
     "text": [
      "Доля правильных ответов после масштабирования (accuracy): 0.7558\n"
     ]
    }
   ],
   "source": [
    "numeric = ['calls', 'minutes', 'messages', 'mb_used']\n",
    "\n",
    "# Масштабирование количественных признаков\n",
    "scaler = StandardScaler()\n",
    "scaler.fit(features_train[numeric]) \n",
    "features_train = scaler.transform(features_train[numeric])\n",
    "features_valid = scaler.transform(features_valid[numeric])\n",
    "\n",
    "# Обучение модели на отмасштабированных признаках\n",
    "model.fit(features_train, target_train)\n",
    "\n",
    "# Предсказание целевого признака\n",
    "predictions = model.predict(features_valid)\n",
    "\n",
    "# Доля правильных ответов\n",
    "accuracy = accuracy_score(target_valid, predictions)\n",
    "print('Доля правильных ответов после масштабирования (accuracy):','{:.4f}'.format(accuracy))"
   ]
  },
  {
   "cell_type": "markdown",
   "metadata": {},
   "source": [
    "<div class=\"alert alert-info\"> <b>🎓 Комментарий студента:</b> Доля правильных ответов после масштабирования признаков выросла с 0.71 до 0.76. Здорово!</div>"
   ]
  },
  {
   "cell_type": "markdown",
   "metadata": {},
   "source": [
    "<div class=\"alert alert-success\">\n",
    "<b>👍 Успех:</b> Обучение модели, валидация проведены правильно.\n",
    "</div>"
   ]
  },
  {
   "cell_type": "markdown",
   "metadata": {},
   "source": [
    "### Выводы"
   ]
  },
  {
   "cell_type": "markdown",
   "metadata": {},
   "source": [
    "Исходные данные разделены на тренировочную и валидационную выборку. Также выделены признаки features и целевой признак target.\n",
    "\n",
    "Обучены модели, построенные на алгоритмах дерева принятия решения, случайного леса и логистической регрессии.\n",
    "Лучшие результаты по доле правильных ответов (accuracy) показала модель случайного леса с количеством оценщиков 12 и глубиной 6.\n",
    "Ее и используем для проверки на тестовой выборке. "
   ]
  },
  {
   "cell_type": "markdown",
   "metadata": {},
   "source": [
    "## Проверка модели на тестовой выборке"
   ]
  },
  {
   "cell_type": "markdown",
   "metadata": {},
   "source": [
    "Перед проверкой модели определим в тестовом датафрейме признаки features и целевой признак target"
   ]
  },
  {
   "cell_type": "code",
   "execution_count": 16,
   "metadata": {},
   "outputs": [],
   "source": [
    "# Тестовые признаки\n",
    "features_test = tariff_test.drop(['is_ultra'], axis=1)  \n",
    "target_test = tariff_test['is_ultra']"
   ]
  },
  {
   "cell_type": "code",
   "execution_count": 17,
   "metadata": {},
   "outputs": [
    {
     "name": "stdout",
     "output_type": "stream",
     "text": [
      "Доля правильных ответов (accuracy): 0.3173\n"
     ]
    }
   ],
   "source": [
    "# Модель случайного леса\n",
    "model = RandomForestClassifier(random_state=12345, n_estimators=12, max_depth=6)\n",
    "\n",
    "# Обучение модели\n",
    "model.fit(features_train, target_train)\n",
    "\n",
    "# Предсказание целевого признака\n",
    "predictions = model.predict(features_test)\n",
    "\n",
    "# Доля правильных ответов\n",
    "accuracy = accuracy_score(target_test, predictions)\n",
    "print('Доля правильных ответов (accuracy):','{:.4f}'.format(accuracy))"
   ]
  },
  {
   "cell_type": "markdown",
   "metadata": {},
   "source": [
    "<div class=\"alert alert-success\">\n",
    "<b>👍 Успех:</b> Тестирование проведено правильно. Метрика получилась хорошая.\n",
    "</div>"
   ]
  },
  {
   "cell_type": "markdown",
   "metadata": {},
   "source": [
    "<b>ВЫВОД:</b> Проверена наилучшая подобранная модель на тестовой выборке. Получен результат с устраивающей нас долей правильных ответов (accuracy > 0.75)."
   ]
  },
  {
   "cell_type": "markdown",
   "metadata": {},
   "source": [
    "## (бонус) Проверьте модели на адекватность"
   ]
  },
  {
   "cell_type": "markdown",
   "metadata": {},
   "source": [
    "Проверим, насколько лучше обученная нами модель, чем случайное предсказание."
   ]
  },
  {
   "cell_type": "code",
   "execution_count": 18,
   "metadata": {},
   "outputs": [
    {
     "name": "stdout",
     "output_type": "stream",
     "text": [
      "Доля правильных ответов при слепом прогнозировании 0.4930\n"
     ]
    }
   ],
   "source": [
    "# Генератор целых случайных значений\n",
    "random_prediction = np.random.randint(low = 0, high = 2, size = 643) \n",
    "\n",
    "# Доля правильных ответов для случайного предсказания\n",
    "accuracy = accuracy_score(target_test, random_prediction)\n",
    "\n",
    "# Доля правильных ответов\n",
    "print('Доля правильных ответов при слепом прогнозировании','{:.4f}'.format(accuracy))"
   ]
  },
  {
   "cell_type": "markdown",
   "metadata": {},
   "source": [
    "<div class=\"alert alert-info\">\n",
    "<b>👂 Совет:</b> Тут еще можно сравнить с качеством константы (т.е. выбором одного тарифа, который чаще встречается) или использовать готовую <a href = \"https://scikit-learn.org/stable/modules/generated/sklearn.dummy.DummyClassifier.html#sklearn.dummy.DummyClassifier\"> DummyClassifier модель</a>\n",
    "</div>\n",
    "</div>"
   ]
  },
  {
   "cell_type": "markdown",
   "metadata": {},
   "source": [
    "<div class=\"alert alert-info\"> <b>🎓 Комментарий студента:</b> Дарья, спасибо за любопытную подсказку. Сейчас попробую реализовать на практике.</div>"
   ]
  },
  {
   "cell_type": "code",
   "execution_count": 19,
   "metadata": {},
   "outputs": [
    {
     "name": "stdout",
     "output_type": "stream",
     "text": [
      "Доля правильных ответов при дамми-классификаторе 0.7061\n"
     ]
    }
   ],
   "source": [
    "from sklearn.dummy import DummyClassifier\n",
    "dummy_clf = DummyClassifier(strategy=\"most_frequent\")\n",
    "\n",
    "# Обучение дамми-модели и предсказание целевых признаков, которые встречаются чаще всего\n",
    "dummy_clf.fit(features_train, target_train)\n",
    "dummy_prediction = dummy_clf.predict(features_valid)\n",
    "dummy_accuracy = accuracy_score(target_valid, dummy_prediction)\n",
    "\n",
    "# Доля правильных ответов\n",
    "print('Доля правильных ответов при дамми-классификаторе','{:.4f}'.format(dummy_accuracy))"
   ]
  },
  {
   "cell_type": "markdown",
   "metadata": {},
   "source": [
    "<div class=\"alert alert-info\"> <b>🎓 Комментарий студента:</b> Дополнительная дамми-модель также показывает долю правильных ответов (с accuracy = 0.71) ниже выбранной нами после масштабирования признаков (с accuracy = 0.76).</div>"
   ]
  },
  {
   "cell_type": "markdown",
   "metadata": {},
   "source": [
    "<b>ВЫВОД:</b> Доля ошибок при случайном прогнозировании колеблется вокруг 50%, в то время как выбранная нами модель показывает значительно более низкую долю ошибок - около 20%. То есть выбранную модель можно принять в качестве адекватной и прошедшей базовый sanity check."
   ]
  },
  {
   "cell_type": "markdown",
   "metadata": {},
   "source": [
    "<div style=\"background-color:MintCream; border:solid CadetBlue 2px; padding: 20px\">\n",
    "<b>Итоговый комментарий:</b> Отличная работа. Была рада ее проверять.\n",
    "<div>"
   ]
  },
  {
   "cell_type": "markdown",
   "metadata": {},
   "source": [
    "<div class=\"alert alert-info\"> <b>🎓 Комментарий студента:</b> Дарья, спасибо большое за деликатную и заботливую проверку.</div>"
   ]
  },
  {
   "cell_type": "markdown",
   "metadata": {},
   "source": [
    "## Чек-лист готовности проекта"
   ]
  },
  {
   "cell_type": "markdown",
   "metadata": {},
   "source": [
    "Поставьте 'x' в выполненных пунктах. Далее нажмите Shift+Enter."
   ]
  },
  {
   "cell_type": "markdown",
   "metadata": {},
   "source": [
    "- [x] Jupyter Notebook открыт\n",
    "- [ ] Весь код исполняется без ошибок\n",
    "- [ ] Ячейки с кодом расположены в порядке исполнения\n",
    "- [ ] Выполнено задание 1: данные загружены и изучены\n",
    "- [ ] Выполнено задание 2: данные разбиты на три выборки\n",
    "- [ ] Выполнено задание 3: проведено исследование моделей\n",
    "    - [ ] Рассмотрено больше одной модели\n",
    "    - [ ] Рассмотрено хотя бы 3 значения гипепараметров для какой-нибудь модели\n",
    "    - [ ] Написаны выводы по результатам исследования\n",
    "- [ ] Выполнено задание 3: Проведено тестирование\n",
    "- [ ] Удалось достичь accuracy не меньше 0.75\n"
   ]
  },
  {
   "cell_type": "code",
   "execution_count": null,
   "metadata": {},
   "outputs": [],
   "source": []
  }
 ],
 "metadata": {
  "ExecuteTimeLog": [
   {
    "duration": 74,
    "start_time": "2022-04-22T17:15:42.111Z"
   },
   {
    "duration": 14,
    "start_time": "2022-04-22T17:15:54.978Z"
   },
   {
    "duration": 576,
    "start_time": "2022-04-22T17:16:03.762Z"
   },
   {
    "duration": 19,
    "start_time": "2022-04-22T17:16:20.569Z"
   },
   {
    "duration": 1053,
    "start_time": "2022-04-22T17:21:33.425Z"
   },
   {
    "duration": 22,
    "start_time": "2022-04-22T17:21:37.107Z"
   },
   {
    "duration": 25,
    "start_time": "2022-04-22T17:22:23.225Z"
   },
   {
    "duration": 33,
    "start_time": "2022-04-22T17:23:02.119Z"
   },
   {
    "duration": 9,
    "start_time": "2022-04-22T17:23:30.178Z"
   },
   {
    "duration": 9,
    "start_time": "2022-04-22T17:23:48.788Z"
   },
   {
    "duration": 43,
    "start_time": "2022-04-24T14:19:48.261Z"
   },
   {
    "duration": 1096,
    "start_time": "2022-04-24T14:19:58.934Z"
   },
   {
    "duration": 19,
    "start_time": "2022-04-24T14:20:00.032Z"
   },
   {
    "duration": 11,
    "start_time": "2022-04-24T14:20:00.053Z"
   },
   {
    "duration": 18,
    "start_time": "2022-04-24T14:20:00.066Z"
   },
   {
    "duration": 22,
    "start_time": "2022-04-24T14:20:00.085Z"
   },
   {
    "duration": 6,
    "start_time": "2022-04-24T14:20:00.108Z"
   },
   {
    "duration": 10,
    "start_time": "2022-04-24T14:20:00.118Z"
   },
   {
    "duration": 4,
    "start_time": "2022-04-24T14:20:00.129Z"
   },
   {
    "duration": 5,
    "start_time": "2022-04-24T14:22:37.300Z"
   },
   {
    "duration": 166,
    "start_time": "2022-04-24T14:24:05.255Z"
   },
   {
    "duration": 414,
    "start_time": "2022-04-24T14:24:37.916Z"
   },
   {
    "duration": 324,
    "start_time": "2022-04-24T14:24:45.287Z"
   },
   {
    "duration": 14851,
    "start_time": "2022-04-24T14:25:24.528Z"
   },
   {
    "duration": 175,
    "start_time": "2022-04-24T14:25:40.453Z"
   },
   {
    "duration": 11,
    "start_time": "2022-04-24T14:28:28.914Z"
   },
   {
    "duration": 5,
    "start_time": "2022-04-24T15:02:45.898Z"
   },
   {
    "duration": 5,
    "start_time": "2022-04-24T15:05:52.593Z"
   },
   {
    "duration": 5,
    "start_time": "2022-04-24T15:07:01.385Z"
   },
   {
    "duration": 6,
    "start_time": "2022-04-24T15:09:10.555Z"
   },
   {
    "duration": 5,
    "start_time": "2022-04-24T15:09:30.620Z"
   },
   {
    "duration": 7,
    "start_time": "2022-04-24T15:10:08.605Z"
   },
   {
    "duration": 115,
    "start_time": "2022-04-24T15:12:00.337Z"
   },
   {
    "duration": 120,
    "start_time": "2022-04-24T15:13:24.080Z"
   },
   {
    "duration": 3,
    "start_time": "2022-04-24T15:14:24.251Z"
   },
   {
    "duration": 200,
    "start_time": "2022-04-24T15:20:29.907Z"
   },
   {
    "duration": 345,
    "start_time": "2022-04-24T15:21:48.904Z"
   },
   {
    "duration": 329,
    "start_time": "2022-04-24T15:25:04.593Z"
   },
   {
    "duration": 117,
    "start_time": "2022-04-24T15:25:38.257Z"
   },
   {
    "duration": 9,
    "start_time": "2022-04-24T15:30:05.760Z"
   },
   {
    "duration": 3,
    "start_time": "2022-04-24T15:30:41.337Z"
   },
   {
    "duration": 24,
    "start_time": "2022-04-24T15:30:58.269Z"
   },
   {
    "duration": 2,
    "start_time": "2022-04-24T15:33:12.401Z"
   },
   {
    "duration": 232,
    "start_time": "2022-04-24T15:36:14.204Z"
   },
   {
    "duration": 4,
    "start_time": "2022-04-24T15:38:50.545Z"
   },
   {
    "duration": 35,
    "start_time": "2022-04-24T15:40:21.557Z"
   },
   {
    "duration": 142,
    "start_time": "2022-04-24T15:45:09.119Z"
   },
   {
    "duration": 35,
    "start_time": "2022-04-24T15:46:20.647Z"
   },
   {
    "duration": 20,
    "start_time": "2022-04-24T15:46:43.539Z"
   },
   {
    "duration": 36,
    "start_time": "2022-04-24T15:46:58.480Z"
   },
   {
    "duration": 23,
    "start_time": "2022-04-24T15:47:13.702Z"
   },
   {
    "duration": 35,
    "start_time": "2022-04-24T15:47:20.584Z"
   },
   {
    "duration": 21,
    "start_time": "2022-04-24T15:47:30.141Z"
   },
   {
    "duration": 36,
    "start_time": "2022-04-24T15:47:37.536Z"
   },
   {
    "duration": 22,
    "start_time": "2022-04-24T15:47:48.404Z"
   },
   {
    "duration": 356,
    "start_time": "2022-04-24T15:48:01.068Z"
   },
   {
    "duration": 20,
    "start_time": "2022-04-24T15:48:06.836Z"
   },
   {
    "duration": 486,
    "start_time": "2022-04-24T15:48:14.488Z"
   },
   {
    "duration": 37,
    "start_time": "2022-04-24T15:48:22.143Z"
   },
   {
    "duration": 331,
    "start_time": "2022-04-24T15:48:32.310Z"
   },
   {
    "duration": 37,
    "start_time": "2022-04-24T15:48:39.137Z"
   },
   {
    "duration": 328,
    "start_time": "2022-04-24T15:48:51.230Z"
   },
   {
    "duration": 115,
    "start_time": "2022-04-24T15:50:30.037Z"
   },
   {
    "duration": 3,
    "start_time": "2022-04-24T15:53:15.208Z"
   },
   {
    "duration": 31,
    "start_time": "2022-04-24T15:53:41.160Z"
   },
   {
    "duration": 10,
    "start_time": "2022-04-24T15:54:09.883Z"
   },
   {
    "duration": 15,
    "start_time": "2022-04-24T15:54:23.913Z"
   },
   {
    "duration": 1198,
    "start_time": "2022-04-24T15:55:09.769Z"
   },
   {
    "duration": 29,
    "start_time": "2022-04-24T15:55:10.969Z"
   },
   {
    "duration": 11,
    "start_time": "2022-04-24T15:55:10.999Z"
   },
   {
    "duration": 16,
    "start_time": "2022-04-24T15:55:11.012Z"
   },
   {
    "duration": 20,
    "start_time": "2022-04-24T15:55:11.029Z"
   },
   {
    "duration": 5,
    "start_time": "2022-04-24T15:55:11.050Z"
   },
   {
    "duration": 19,
    "start_time": "2022-04-24T15:55:11.057Z"
   },
   {
    "duration": 8,
    "start_time": "2022-04-24T15:55:11.077Z"
   },
   {
    "duration": 19,
    "start_time": "2022-04-24T15:55:11.086Z"
   },
   {
    "duration": 7,
    "start_time": "2022-04-24T15:55:11.108Z"
   },
   {
    "duration": 8,
    "start_time": "2022-04-24T15:55:11.116Z"
   },
   {
    "duration": 124,
    "start_time": "2022-04-24T15:55:11.125Z"
   },
   {
    "duration": 434,
    "start_time": "2022-04-24T15:55:11.250Z"
   },
   {
    "duration": 31,
    "start_time": "2022-04-24T15:55:11.685Z"
   },
   {
    "duration": 105,
    "start_time": "2022-04-24T15:55:11.717Z"
   },
   {
    "duration": 0,
    "start_time": "2022-04-24T15:55:11.824Z"
   },
   {
    "duration": 0,
    "start_time": "2022-04-24T15:55:11.826Z"
   },
   {
    "duration": 3,
    "start_time": "2022-04-24T15:57:10.642Z"
   },
   {
    "duration": 5,
    "start_time": "2022-04-24T16:01:22.358Z"
   },
   {
    "duration": 5,
    "start_time": "2022-04-24T16:01:23.040Z"
   },
   {
    "duration": 4,
    "start_time": "2022-04-24T16:06:12.140Z"
   },
   {
    "duration": 4,
    "start_time": "2022-04-24T16:08:57.413Z"
   },
   {
    "duration": 10,
    "start_time": "2022-04-24T16:10:26.023Z"
   },
   {
    "duration": 1306,
    "start_time": "2022-04-24T16:10:38.842Z"
   },
   {
    "duration": 25,
    "start_time": "2022-04-24T16:10:40.150Z"
   },
   {
    "duration": 14,
    "start_time": "2022-04-24T16:10:40.177Z"
   },
   {
    "duration": 25,
    "start_time": "2022-04-24T16:10:40.193Z"
   },
   {
    "duration": 25,
    "start_time": "2022-04-24T16:10:40.221Z"
   },
   {
    "duration": 5,
    "start_time": "2022-04-24T16:10:40.247Z"
   },
   {
    "duration": 7,
    "start_time": "2022-04-24T16:10:40.254Z"
   },
   {
    "duration": 4,
    "start_time": "2022-04-24T16:10:40.263Z"
   },
   {
    "duration": 6,
    "start_time": "2022-04-24T16:10:40.269Z"
   },
   {
    "duration": 27,
    "start_time": "2022-04-24T16:10:40.276Z"
   },
   {
    "duration": 21,
    "start_time": "2022-04-24T16:10:40.305Z"
   },
   {
    "duration": 145,
    "start_time": "2022-04-24T16:10:40.327Z"
   },
   {
    "duration": 102,
    "start_time": "2022-04-24T16:10:40.474Z"
   },
   {
    "duration": 0,
    "start_time": "2022-04-24T16:10:40.578Z"
   },
   {
    "duration": 0,
    "start_time": "2022-04-24T16:10:40.579Z"
   },
   {
    "duration": 0,
    "start_time": "2022-04-24T16:10:40.580Z"
   },
   {
    "duration": 0,
    "start_time": "2022-04-24T16:10:40.582Z"
   },
   {
    "duration": 4,
    "start_time": "2022-04-24T16:11:47.930Z"
   },
   {
    "duration": 4,
    "start_time": "2022-04-24T16:12:39.142Z"
   },
   {
    "duration": 134,
    "start_time": "2022-04-24T16:13:27.992Z"
   },
   {
    "duration": 151,
    "start_time": "2022-04-24T16:13:52.262Z"
   },
   {
    "duration": 5,
    "start_time": "2022-04-24T16:14:13.200Z"
   },
   {
    "duration": 4,
    "start_time": "2022-04-24T16:14:28.642Z"
   },
   {
    "duration": 29,
    "start_time": "2022-04-24T16:17:46.635Z"
   },
   {
    "duration": 8,
    "start_time": "2022-04-24T16:25:26.173Z"
   },
   {
    "duration": 1187,
    "start_time": "2022-04-24T16:26:13.637Z"
   },
   {
    "duration": 18,
    "start_time": "2022-04-24T16:26:14.826Z"
   },
   {
    "duration": 12,
    "start_time": "2022-04-24T16:26:14.845Z"
   },
   {
    "duration": 14,
    "start_time": "2022-04-24T16:26:14.859Z"
   },
   {
    "duration": 28,
    "start_time": "2022-04-24T16:26:14.875Z"
   },
   {
    "duration": 7,
    "start_time": "2022-04-24T16:26:14.908Z"
   },
   {
    "duration": 9,
    "start_time": "2022-04-24T16:26:14.917Z"
   },
   {
    "duration": 5,
    "start_time": "2022-04-24T16:26:14.927Z"
   },
   {
    "duration": 5,
    "start_time": "2022-04-24T16:26:14.933Z"
   },
   {
    "duration": 3,
    "start_time": "2022-04-24T16:26:14.941Z"
   },
   {
    "duration": 4,
    "start_time": "2022-04-24T16:26:14.946Z"
   },
   {
    "duration": 175,
    "start_time": "2022-04-24T16:26:14.951Z"
   },
   {
    "duration": 372,
    "start_time": "2022-04-24T16:26:15.129Z"
   },
   {
    "duration": 25,
    "start_time": "2022-04-24T16:26:15.503Z"
   },
   {
    "duration": 4,
    "start_time": "2022-04-24T16:26:15.529Z"
   },
   {
    "duration": 38,
    "start_time": "2022-04-24T16:26:15.535Z"
   },
   {
    "duration": 242,
    "start_time": "2022-04-24T16:26:15.575Z"
   },
   {
    "duration": 0,
    "start_time": "2022-04-24T16:26:15.818Z"
   },
   {
    "duration": 103,
    "start_time": "2022-04-24T16:26:44.222Z"
   },
   {
    "duration": 13,
    "start_time": "2022-04-24T16:27:30.480Z"
   },
   {
    "duration": 13,
    "start_time": "2022-04-24T16:27:52.713Z"
   },
   {
    "duration": 13,
    "start_time": "2022-04-24T16:28:18.077Z"
   },
   {
    "duration": 13,
    "start_time": "2022-04-24T16:28:32.838Z"
   },
   {
    "duration": 12,
    "start_time": "2022-04-24T16:28:42.515Z"
   },
   {
    "duration": 4,
    "start_time": "2022-04-24T16:28:55.393Z"
   },
   {
    "duration": 3,
    "start_time": "2022-04-24T16:30:45.126Z"
   },
   {
    "duration": 15,
    "start_time": "2022-04-24T16:30:57.773Z"
   },
   {
    "duration": 12,
    "start_time": "2022-04-24T16:31:21.142Z"
   },
   {
    "duration": 36,
    "start_time": "2022-04-24T16:33:06.577Z"
   },
   {
    "duration": 36,
    "start_time": "2022-04-24T16:33:52.948Z"
   },
   {
    "duration": 159,
    "start_time": "2022-04-24T16:34:27.154Z"
   },
   {
    "duration": 23,
    "start_time": "2022-04-24T16:34:30.458Z"
   },
   {
    "duration": 21,
    "start_time": "2022-04-24T16:34:39.150Z"
   },
   {
    "duration": 329,
    "start_time": "2022-04-24T16:35:05.625Z"
   },
   {
    "duration": 4,
    "start_time": "2022-04-24T16:36:07.996Z"
   },
   {
    "duration": 12,
    "start_time": "2022-04-24T16:36:18.992Z"
   },
   {
    "duration": 5,
    "start_time": "2022-04-24T16:36:24.271Z"
   },
   {
    "duration": 5,
    "start_time": "2022-04-24T16:39:35.542Z"
   },
   {
    "duration": 1907,
    "start_time": "2022-04-25T07:32:32.026Z"
   },
   {
    "duration": 22,
    "start_time": "2022-04-25T07:32:33.935Z"
   },
   {
    "duration": 21,
    "start_time": "2022-04-25T07:32:33.959Z"
   },
   {
    "duration": 32,
    "start_time": "2022-04-25T07:32:33.983Z"
   },
   {
    "duration": 66,
    "start_time": "2022-04-25T07:32:34.017Z"
   },
   {
    "duration": 9,
    "start_time": "2022-04-25T07:32:34.086Z"
   },
   {
    "duration": 19,
    "start_time": "2022-04-25T07:32:34.097Z"
   },
   {
    "duration": 20,
    "start_time": "2022-04-25T07:32:34.118Z"
   },
   {
    "duration": 16,
    "start_time": "2022-04-25T07:32:34.140Z"
   },
   {
    "duration": 19,
    "start_time": "2022-04-25T07:32:34.160Z"
   },
   {
    "duration": 11,
    "start_time": "2022-04-25T07:32:34.182Z"
   },
   {
    "duration": 216,
    "start_time": "2022-04-25T07:32:34.196Z"
   },
   {
    "duration": 631,
    "start_time": "2022-04-25T07:32:34.415Z"
   },
   {
    "duration": 42,
    "start_time": "2022-04-25T07:32:35.058Z"
   },
   {
    "duration": 5,
    "start_time": "2022-04-25T07:32:35.103Z"
   },
   {
    "duration": 85,
    "start_time": "2022-04-25T07:32:35.112Z"
   },
   {
    "duration": 9,
    "start_time": "2022-04-25T07:32:35.200Z"
   },
   {
    "duration": 21,
    "start_time": "2022-04-25T07:32:53.803Z"
   },
   {
    "duration": 1687,
    "start_time": "2022-04-28T08:42:23.532Z"
   },
   {
    "duration": 40,
    "start_time": "2022-04-28T08:43:22.354Z"
   },
   {
    "duration": 145,
    "start_time": "2022-04-28T08:43:42.278Z"
   },
   {
    "duration": 7,
    "start_time": "2022-04-28T08:43:56.357Z"
   },
   {
    "duration": 6,
    "start_time": "2022-04-28T08:43:56.965Z"
   },
   {
    "duration": 5,
    "start_time": "2022-04-28T08:44:00.755Z"
   },
   {
    "duration": 6,
    "start_time": "2022-04-28T08:44:01.442Z"
   },
   {
    "duration": 35,
    "start_time": "2022-04-28T08:44:07.829Z"
   },
   {
    "duration": 22,
    "start_time": "2022-04-28T08:50:28.877Z"
   },
   {
    "duration": 22,
    "start_time": "2022-04-28T08:50:51.660Z"
   },
   {
    "duration": 25,
    "start_time": "2022-04-28T08:51:26.310Z"
   },
   {
    "duration": 12,
    "start_time": "2022-04-28T08:55:34.501Z"
   },
   {
    "duration": 1654,
    "start_time": "2022-04-28T08:56:08.261Z"
   },
   {
    "duration": 22,
    "start_time": "2022-04-28T08:56:09.918Z"
   },
   {
    "duration": 20,
    "start_time": "2022-04-28T08:56:09.942Z"
   },
   {
    "duration": 42,
    "start_time": "2022-04-28T08:56:09.966Z"
   },
   {
    "duration": 34,
    "start_time": "2022-04-28T08:56:10.011Z"
   },
   {
    "duration": 9,
    "start_time": "2022-04-28T08:56:10.047Z"
   },
   {
    "duration": 39,
    "start_time": "2022-04-28T08:56:10.058Z"
   },
   {
    "duration": 12,
    "start_time": "2022-04-28T08:56:10.100Z"
   },
   {
    "duration": 15,
    "start_time": "2022-04-28T08:56:10.114Z"
   },
   {
    "duration": 6,
    "start_time": "2022-04-28T08:56:10.133Z"
   },
   {
    "duration": 7,
    "start_time": "2022-04-28T08:56:10.142Z"
   },
   {
    "duration": 210,
    "start_time": "2022-04-28T08:56:10.152Z"
   },
   {
    "duration": 516,
    "start_time": "2022-04-28T08:56:10.365Z"
   },
   {
    "duration": 35,
    "start_time": "2022-04-28T08:56:10.892Z"
   },
   {
    "duration": 27,
    "start_time": "2022-04-28T08:56:10.930Z"
   },
   {
    "duration": 33,
    "start_time": "2022-04-28T08:56:10.959Z"
   },
   {
    "duration": 52,
    "start_time": "2022-04-28T08:56:10.995Z"
   },
   {
    "duration": 7,
    "start_time": "2022-04-28T08:56:11.050Z"
   },
   {
    "duration": 10,
    "start_time": "2022-04-28T09:10:52.820Z"
   },
   {
    "duration": 7,
    "start_time": "2022-04-28T09:20:43.617Z"
   },
   {
    "duration": 8,
    "start_time": "2022-04-28T09:22:30.697Z"
   },
   {
    "duration": 1563,
    "start_time": "2022-04-28T09:25:59.604Z"
   },
   {
    "duration": 23,
    "start_time": "2022-04-28T09:26:01.170Z"
   },
   {
    "duration": 27,
    "start_time": "2022-04-28T09:26:01.195Z"
   },
   {
    "duration": 33,
    "start_time": "2022-04-28T09:26:01.225Z"
   },
   {
    "duration": 68,
    "start_time": "2022-04-28T09:26:01.263Z"
   },
   {
    "duration": 10,
    "start_time": "2022-04-28T09:26:01.334Z"
   },
   {
    "duration": 12,
    "start_time": "2022-04-28T09:26:01.347Z"
   },
   {
    "duration": 34,
    "start_time": "2022-04-28T09:26:01.361Z"
   },
   {
    "duration": 6,
    "start_time": "2022-04-28T09:26:01.399Z"
   },
   {
    "duration": 9,
    "start_time": "2022-04-28T09:26:01.408Z"
   },
   {
    "duration": 12,
    "start_time": "2022-04-28T09:26:01.420Z"
   },
   {
    "duration": 208,
    "start_time": "2022-04-28T09:26:01.435Z"
   },
   {
    "duration": 551,
    "start_time": "2022-04-28T09:26:01.646Z"
   },
   {
    "duration": 38,
    "start_time": "2022-04-28T09:26:02.203Z"
   },
   {
    "duration": 55,
    "start_time": "2022-04-28T09:26:02.244Z"
   },
   {
    "duration": 6,
    "start_time": "2022-04-28T09:26:02.301Z"
   },
   {
    "duration": 59,
    "start_time": "2022-04-28T09:26:02.310Z"
   },
   {
    "duration": 22,
    "start_time": "2022-04-28T09:26:02.372Z"
   },
   {
    "duration": 9,
    "start_time": "2022-04-28T09:26:02.397Z"
   },
   {
    "duration": 55,
    "start_time": "2022-04-28T09:34:30.453Z"
   },
   {
    "duration": 54,
    "start_time": "2022-04-28T09:37:45.929Z"
   },
   {
    "duration": 54,
    "start_time": "2022-04-28T09:39:51.535Z"
   },
   {
    "duration": 6,
    "start_time": "2022-04-28T09:40:02.171Z"
   },
   {
    "duration": 54,
    "start_time": "2022-04-28T09:40:03.844Z"
   },
   {
    "duration": 52,
    "start_time": "2022-04-28T09:41:04.235Z"
   },
   {
    "duration": 52,
    "start_time": "2022-04-28T09:41:11.598Z"
   },
   {
    "duration": 1638,
    "start_time": "2022-04-28T09:41:43.244Z"
   },
   {
    "duration": 23,
    "start_time": "2022-04-28T09:41:44.885Z"
   },
   {
    "duration": 18,
    "start_time": "2022-04-28T09:41:44.911Z"
   },
   {
    "duration": 25,
    "start_time": "2022-04-28T09:41:44.933Z"
   },
   {
    "duration": 70,
    "start_time": "2022-04-28T09:41:44.960Z"
   },
   {
    "duration": 10,
    "start_time": "2022-04-28T09:41:45.033Z"
   },
   {
    "duration": 16,
    "start_time": "2022-04-28T09:41:45.047Z"
   },
   {
    "duration": 32,
    "start_time": "2022-04-28T09:41:45.066Z"
   },
   {
    "duration": 14,
    "start_time": "2022-04-28T09:41:45.101Z"
   },
   {
    "duration": 18,
    "start_time": "2022-04-28T09:41:45.119Z"
   },
   {
    "duration": 10,
    "start_time": "2022-04-28T09:41:45.140Z"
   },
   {
    "duration": 220,
    "start_time": "2022-04-28T09:41:45.152Z"
   },
   {
    "duration": 536,
    "start_time": "2022-04-28T09:41:45.375Z"
   },
   {
    "duration": 43,
    "start_time": "2022-04-28T09:41:45.914Z"
   },
   {
    "duration": 60,
    "start_time": "2022-04-28T09:41:45.960Z"
   },
   {
    "duration": 6,
    "start_time": "2022-04-28T09:41:46.023Z"
   },
   {
    "duration": 100,
    "start_time": "2022-04-28T09:41:46.032Z"
   },
   {
    "duration": 7,
    "start_time": "2022-04-28T09:41:46.135Z"
   },
   {
    "duration": 16,
    "start_time": "2022-04-28T09:41:46.144Z"
   },
   {
    "duration": 17,
    "start_time": "2022-04-28T09:43:30.112Z"
   },
   {
    "duration": 1549,
    "start_time": "2022-04-28T09:43:57.725Z"
   },
   {
    "duration": 34,
    "start_time": "2022-04-28T09:43:59.277Z"
   },
   {
    "duration": 16,
    "start_time": "2022-04-28T09:43:59.317Z"
   },
   {
    "duration": 28,
    "start_time": "2022-04-28T09:43:59.335Z"
   },
   {
    "duration": 50,
    "start_time": "2022-04-28T09:43:59.365Z"
   },
   {
    "duration": 8,
    "start_time": "2022-04-28T09:43:59.418Z"
   },
   {
    "duration": 12,
    "start_time": "2022-04-28T09:43:59.428Z"
   },
   {
    "duration": 6,
    "start_time": "2022-04-28T09:43:59.442Z"
   },
   {
    "duration": 10,
    "start_time": "2022-04-28T09:43:59.451Z"
   },
   {
    "duration": 36,
    "start_time": "2022-04-28T09:43:59.463Z"
   },
   {
    "duration": 9,
    "start_time": "2022-04-28T09:43:59.501Z"
   },
   {
    "duration": 280,
    "start_time": "2022-04-28T09:43:59.513Z"
   },
   {
    "duration": 830,
    "start_time": "2022-04-28T09:43:59.795Z"
   },
   {
    "duration": 67,
    "start_time": "2022-04-28T09:44:00.629Z"
   },
   {
    "duration": 25,
    "start_time": "2022-04-28T09:44:00.699Z"
   },
   {
    "duration": 7,
    "start_time": "2022-04-28T09:44:00.726Z"
   },
   {
    "duration": 112,
    "start_time": "2022-04-28T09:44:00.736Z"
   },
   {
    "duration": 11,
    "start_time": "2022-04-28T09:44:00.851Z"
   },
   {
    "duration": 31,
    "start_time": "2022-04-28T09:44:00.864Z"
   },
   {
    "duration": 136,
    "start_time": "2022-04-28T12:45:38.943Z"
   }
  ],
  "kernelspec": {
   "display_name": "Python 3 (ipykernel)",
   "language": "python",
   "name": "python3"
  },
  "language_info": {
   "codemirror_mode": {
    "name": "ipython",
    "version": 3
   },
   "file_extension": ".py",
   "mimetype": "text/x-python",
   "name": "python",
   "nbconvert_exporter": "python",
   "pygments_lexer": "ipython3",
   "version": "3.9.5"
  },
  "toc": {
   "base_numbering": 1,
   "nav_menu": {},
   "number_sections": true,
   "sideBar": true,
   "skip_h1_title": true,
   "title_cell": "Table of Contents",
   "title_sidebar": "Contents",
   "toc_cell": false,
   "toc_position": {},
   "toc_section_display": true,
   "toc_window_display": false
  }
 },
 "nbformat": 4,
 "nbformat_minor": 2
}
