{
  "cells": [
    {
      "cell_type": "markdown",
      "metadata": {
        "toc": true,
        "id": "w-SJkiH2wdFu"
      },
      "source": [
        "<h1>Содержание<span class=\"tocSkip\"></span></h1>\n",
        "<div class=\"toc\"><ul class=\"toc-item\"><li><span><a href=\"#Подготовка\" data-toc-modified-id=\"Подготовка-1\"><span class=\"toc-item-num\">1&nbsp;&nbsp;</span>Подготовка</a></span></li><li><span><a href=\"#Обучение\" data-toc-modified-id=\"Обучение-2\"><span class=\"toc-item-num\">2&nbsp;&nbsp;</span>Обучение</a></span><ul class=\"toc-item\"><li><span><a href=\"#Решающее-дерево\" data-toc-modified-id=\"Решающее-дерево-2.1\"><span class=\"toc-item-num\">2.1&nbsp;&nbsp;</span>Решающее дерево</a></span></li><li><span><a href=\"#Логистическая-регрессия\" data-toc-modified-id=\"Логистическая-регрессия-2.2\"><span class=\"toc-item-num\">2.2&nbsp;&nbsp;</span>Логистическая регрессия</a></span></li><li><span><a href=\"#Случайный-лес\" data-toc-modified-id=\"Случайный-лес-2.3\"><span class=\"toc-item-num\">2.3&nbsp;&nbsp;</span>Случайный лес</a></span></li><li><span><a href=\"#Модель-CatBoost\" data-toc-modified-id=\"Модель-CatBoost-2.4\"><span class=\"toc-item-num\">2.4&nbsp;&nbsp;</span>Модель CatBoost</a></span></li></ul></li><li><span><a href=\"#Выводы\" data-toc-modified-id=\"Выводы-3\"><span class=\"toc-item-num\">3&nbsp;&nbsp;</span>Выводы</a></span></li><li><span><a href=\"#Чек-лист-проверки\" data-toc-modified-id=\"Чек-лист-проверки-4\"><span class=\"toc-item-num\">4&nbsp;&nbsp;</span>Чек-лист проверки</a></span></li></ul></div>"
      ]
    },
    {
      "cell_type": "markdown",
      "metadata": {
        "id": "oUZqW_XXwdFv"
      },
      "source": [
        "# Проект для «Викишоп»"
      ]
    },
    {
      "cell_type": "markdown",
      "metadata": {
        "id": "tzdTWbouwdFx"
      },
      "source": [
        "Интернет-магазин «Викишоп» запускает новый сервис. Теперь пользователи могут редактировать и дополнять описания товаров, как в вики-сообществах. То есть клиенты предлагают свои правки и комментируют изменения других. Магазину нужен инструмент, который будет искать токсичные комментарии и отправлять их на модерацию. \n",
        "\n",
        "Обучите модель классифицировать комментарии на позитивные и негативные. В вашем распоряжении набор данных с разметкой о токсичности правок.\n",
        "\n",
        "Постройте модель со значением метрики качества *F1* не меньше 0.75. \n",
        "\n",
        "**Инструкция по выполнению проекта**\n",
        "\n",
        "1. Загрузите и подготовьте данные.\n",
        "2. Обучите разные модели. \n",
        "3. Сделайте выводы.\n",
        "\n",
        "Для выполнения проекта применять *BERT* необязательно, но вы можете попробовать.\n",
        "\n",
        "**Описание данных**\n",
        "\n",
        "Данные находятся в файле `toxic_comments.csv`. Столбец *text* в нём содержит текст комментария, а *toxic* — целевой признак."
      ]
    },
    {
      "cell_type": "markdown",
      "metadata": {
        "id": "th3gWFnowdFy"
      },
      "source": [
        "## Подготовка"
      ]
    },
    {
      "cell_type": "code",
      "execution_count": null,
      "metadata": {
        "id": "ffMikYcwwdFz"
      },
      "outputs": [],
      "source": [
        "# Импорт библиотек\n",
        "import pandas as pd\n",
        "import numpy as np\n",
        "import nltk\n",
        "import re\n",
        "import spacy\n",
        "import matplotlib.pyplot as plt\n",
        "from tqdm import tqdm\n",
        "\n",
        "from sklearn.metrics import f1_score\n",
        "from sklearn.experimental import enable_halving_search_cv\n",
        "from sklearn.model_selection import train_test_split, cross_val_score, GridSearchCV, HalvingGridSearchCV\n",
        "from sklearn.utils import shuffle\n",
        "from sklearn.linear_model import LogisticRegression\n",
        "from sklearn.ensemble import RandomForestClassifier\n",
        "from sklearn.tree import DecisionTreeClassifier\n",
        "from catboost import CatBoostClassifier\n",
        "from sklearn.svm import SVC\n",
        "from sklearn.feature_extraction.text import TfidfVectorizer\n",
        "from sklearn.feature_extraction.text import CountVectorizer\n",
        "\n",
        "import warnings\n",
        "warnings.filterwarnings('ignore')"
      ]
    },
    {
      "cell_type": "code",
      "execution_count": null,
      "metadata": {
        "id": "waou87J6wdF1",
        "outputId": "c499da7f-6dc1-4fda-f0d5-30799aad1cf4"
      },
      "outputs": [
        {
          "name": "stderr",
          "output_type": "stream",
          "text": [
            "[nltk_data] Downloading package stopwords to /home/jovyan/nltk_data...\n",
            "[nltk_data]   Unzipping corpora/stopwords.zip.\n"
          ]
        },
        {
          "data": {
            "text/plain": [
              "True"
            ]
          },
          "execution_count": 2,
          "metadata": {},
          "output_type": "execute_result"
        }
      ],
      "source": [
        "from nltk.corpus import stopwords as nltk_stopwords\n",
        "from nltk.stem import WordNetLemmatizer \n",
        "nltk.download('stopwords')"
      ]
    },
    {
      "cell_type": "code",
      "execution_count": null,
      "metadata": {
        "id": "Q-oehf4qwdF3"
      },
      "outputs": [],
      "source": [
        "# Загрузка данных\n",
        "try:\n",
        "    data = pd.read_csv('/datasets/toxic_comments.csv')\n",
        "except:\n",
        "    data = pd.read_csv('https://code.s3.yandex.net/datasets/toxic_comments.csv')"
      ]
    },
    {
      "cell_type": "code",
      "execution_count": null,
      "metadata": {
        "id": "bhoqEzRRwdF4",
        "outputId": "041ea5af-f533-4b8c-f5fe-79f3266b2708"
      },
      "outputs": [
        {
          "data": {
            "text/html": [
              "<div>\n",
              "<style scoped>\n",
              "    .dataframe tbody tr th:only-of-type {\n",
              "        vertical-align: middle;\n",
              "    }\n",
              "\n",
              "    .dataframe tbody tr th {\n",
              "        vertical-align: top;\n",
              "    }\n",
              "\n",
              "    .dataframe thead th {\n",
              "        text-align: right;\n",
              "    }\n",
              "</style>\n",
              "<table border=\"1\" class=\"dataframe\">\n",
              "  <thead>\n",
              "    <tr style=\"text-align: right;\">\n",
              "      <th></th>\n",
              "      <th>text</th>\n",
              "      <th>toxic</th>\n",
              "    </tr>\n",
              "  </thead>\n",
              "  <tbody>\n",
              "    <tr>\n",
              "      <th>0</th>\n",
              "      <td>Explanation\\nWhy the edits made under my usern...</td>\n",
              "      <td>0</td>\n",
              "    </tr>\n",
              "    <tr>\n",
              "      <th>1</th>\n",
              "      <td>D'aww! He matches this background colour I'm s...</td>\n",
              "      <td>0</td>\n",
              "    </tr>\n",
              "    <tr>\n",
              "      <th>2</th>\n",
              "      <td>Hey man, I'm really not trying to edit war. It...</td>\n",
              "      <td>0</td>\n",
              "    </tr>\n",
              "    <tr>\n",
              "      <th>3</th>\n",
              "      <td>\"\\nMore\\nI can't make any real suggestions on ...</td>\n",
              "      <td>0</td>\n",
              "    </tr>\n",
              "    <tr>\n",
              "      <th>4</th>\n",
              "      <td>You, sir, are my hero. Any chance you remember...</td>\n",
              "      <td>0</td>\n",
              "    </tr>\n",
              "    <tr>\n",
              "      <th>5</th>\n",
              "      <td>\"\\n\\nCongratulations from me as well, use the ...</td>\n",
              "      <td>0</td>\n",
              "    </tr>\n",
              "    <tr>\n",
              "      <th>6</th>\n",
              "      <td>COCKSUCKER BEFORE YOU PISS AROUND ON MY WORK</td>\n",
              "      <td>1</td>\n",
              "    </tr>\n",
              "    <tr>\n",
              "      <th>7</th>\n",
              "      <td>Your vandalism to the Matt Shirvington article...</td>\n",
              "      <td>0</td>\n",
              "    </tr>\n",
              "    <tr>\n",
              "      <th>8</th>\n",
              "      <td>Sorry if the word 'nonsense' was offensive to ...</td>\n",
              "      <td>0</td>\n",
              "    </tr>\n",
              "    <tr>\n",
              "      <th>9</th>\n",
              "      <td>alignment on this subject and which are contra...</td>\n",
              "      <td>0</td>\n",
              "    </tr>\n",
              "  </tbody>\n",
              "</table>\n",
              "</div>"
            ],
            "text/plain": [
              "                                                text  toxic\n",
              "0  Explanation\\nWhy the edits made under my usern...      0\n",
              "1  D'aww! He matches this background colour I'm s...      0\n",
              "2  Hey man, I'm really not trying to edit war. It...      0\n",
              "3  \"\\nMore\\nI can't make any real suggestions on ...      0\n",
              "4  You, sir, are my hero. Any chance you remember...      0\n",
              "5  \"\\n\\nCongratulations from me as well, use the ...      0\n",
              "6       COCKSUCKER BEFORE YOU PISS AROUND ON MY WORK      1\n",
              "7  Your vandalism to the Matt Shirvington article...      0\n",
              "8  Sorry if the word 'nonsense' was offensive to ...      0\n",
              "9  alignment on this subject and which are contra...      0"
            ]
          },
          "execution_count": 4,
          "metadata": {},
          "output_type": "execute_result"
        }
      ],
      "source": [
        "data.head(10)"
      ]
    },
    {
      "cell_type": "code",
      "execution_count": null,
      "metadata": {
        "id": "ofibzKnMwdF6",
        "outputId": "cde0e015-80c3-478f-f9c1-1bbb1c56dc04"
      },
      "outputs": [
        {
          "name": "stdout",
          "output_type": "stream",
          "text": [
            "<class 'pandas.core.frame.DataFrame'>\n",
            "RangeIndex: 159571 entries, 0 to 159570\n",
            "Data columns (total 2 columns):\n",
            " #   Column  Non-Null Count   Dtype \n",
            "---  ------  --------------   ----- \n",
            " 0   text    159571 non-null  object\n",
            " 1   toxic   159571 non-null  int64 \n",
            "dtypes: int64(1), object(1)\n",
            "memory usage: 2.4+ MB\n"
          ]
        }
      ],
      "source": [
        "data.info()"
      ]
    },
    {
      "cell_type": "code",
      "execution_count": null,
      "metadata": {
        "id": "FCY664e_wdF8",
        "outputId": "5be593e5-6828-4330-9932-33bddc2c3dad"
      },
      "outputs": [
        {
          "data": {
            "text/plain": [
              "Text(0.5, 1.0, 'Распределение комментариев по классам токсичности')"
            ]
          },
          "execution_count": 6,
          "metadata": {},
          "output_type": "execute_result"
        },
        {
          "data": {
            "image/png": "[encoded data removed]",
            "text/plain": [
              "<Figure size 432x288 with 1 Axes>"
            ]
          },
          "metadata": {
            "needs_background": "light"
          },
          "output_type": "display_data"
        }
      ],
      "source": [
        "# Проверим распределение целевого признака\n",
        "data['toxic'].hist()\n",
        "plt.title('Распределение комментариев по классам токсичности')"
      ]
    },
    {
      "cell_type": "code",
      "execution_count": null,
      "metadata": {
        "id": "FpvsvPgjwdF_",
        "outputId": "e44e5dbb-b1b8-482f-a38f-187e2ac7ae4b"
      },
      "outputs": [
        {
          "data": {
            "text/html": [
              "<div>\n",
              "<style scoped>\n",
              "    .dataframe tbody tr th:only-of-type {\n",
              "        vertical-align: middle;\n",
              "    }\n",
              "\n",
              "    .dataframe tbody tr th {\n",
              "        vertical-align: top;\n",
              "    }\n",
              "\n",
              "    .dataframe thead th {\n",
              "        text-align: right;\n",
              "    }\n",
              "</style>\n",
              "<table border=\"1\" class=\"dataframe\">\n",
              "  <thead>\n",
              "    <tr style=\"text-align: right;\">\n",
              "      <th></th>\n",
              "      <th>text</th>\n",
              "      <th>toxic</th>\n",
              "    </tr>\n",
              "  </thead>\n",
              "  <tbody>\n",
              "    <tr>\n",
              "      <th>6</th>\n",
              "      <td>COCKSUCKER BEFORE YOU PISS AROUND ON MY WORK</td>\n",
              "      <td>1</td>\n",
              "    </tr>\n",
              "    <tr>\n",
              "      <th>12</th>\n",
              "      <td>Hey... what is it..\\n@ | talk .\\nWhat is it......</td>\n",
              "      <td>1</td>\n",
              "    </tr>\n",
              "    <tr>\n",
              "      <th>16</th>\n",
              "      <td>Bye! \\n\\nDon't look, come or think of comming ...</td>\n",
              "      <td>1</td>\n",
              "    </tr>\n",
              "    <tr>\n",
              "      <th>42</th>\n",
              "      <td>You are gay or antisemmitian? \\n\\nArchangel WH...</td>\n",
              "      <td>1</td>\n",
              "    </tr>\n",
              "    <tr>\n",
              "      <th>43</th>\n",
              "      <td>FUCK YOUR FILTHY MOTHER IN THE ASS, DRY!</td>\n",
              "      <td>1</td>\n",
              "    </tr>\n",
              "    <tr>\n",
              "      <th>44</th>\n",
              "      <td>I'm Sorry \\n\\nI'm sorry I screwed around with ...</td>\n",
              "      <td>1</td>\n",
              "    </tr>\n",
              "    <tr>\n",
              "      <th>51</th>\n",
              "      <td>GET FUCKED UP. GET FUCKEEED UP.  GOT A DRINK T...</td>\n",
              "      <td>1</td>\n",
              "    </tr>\n",
              "    <tr>\n",
              "      <th>55</th>\n",
              "      <td>Stupid peace of shit stop deleting my stuff as...</td>\n",
              "      <td>1</td>\n",
              "    </tr>\n",
              "    <tr>\n",
              "      <th>56</th>\n",
              "      <td>=Tony Sidaway is obviously a fistfuckee. He lo...</td>\n",
              "      <td>1</td>\n",
              "    </tr>\n",
              "    <tr>\n",
              "      <th>58</th>\n",
              "      <td>My Band Page's deletion. You thought I was gon...</td>\n",
              "      <td>1</td>\n",
              "    </tr>\n",
              "  </tbody>\n",
              "</table>\n",
              "</div>"
            ],
            "text/plain": [
              "                                                 text  toxic\n",
              "6        COCKSUCKER BEFORE YOU PISS AROUND ON MY WORK      1\n",
              "12  Hey... what is it..\\n@ | talk .\\nWhat is it......      1\n",
              "16  Bye! \\n\\nDon't look, come or think of comming ...      1\n",
              "42  You are gay or antisemmitian? \\n\\nArchangel WH...      1\n",
              "43           FUCK YOUR FILTHY MOTHER IN THE ASS, DRY!      1\n",
              "44  I'm Sorry \\n\\nI'm sorry I screwed around with ...      1\n",
              "51  GET FUCKED UP. GET FUCKEEED UP.  GOT A DRINK T...      1\n",
              "55  Stupid peace of shit stop deleting my stuff as...      1\n",
              "56  =Tony Sidaway is obviously a fistfuckee. He lo...      1\n",
              "58  My Band Page's deletion. You thought I was gon...      1"
            ]
          },
          "execution_count": 7,
          "metadata": {},
          "output_type": "execute_result"
        }
      ],
      "source": [
        "data[data['toxic'] == 1].head(10)"
      ]
    },
    {
      "cell_type": "markdown",
      "metadata": {
        "id": "WlPmMfuzwdGA"
      },
      "source": [
        "Многие токсичные комментарии пишутся в верхнем регистре, но это, пожалуй, не общее правило."
      ]
    },
    {
      "cell_type": "code",
      "execution_count": null,
      "metadata": {
        "id": "SXbcJwgzwdGB"
      },
      "outputs": [],
      "source": [
        "data['is_upper'] = data['text'].str.isupper()"
      ]
    },
    {
      "cell_type": "code",
      "execution_count": null,
      "metadata": {
        "id": "520C9nMPwdGB",
        "outputId": "7e3efff3-022e-411a-d7e5-3ed49695d96b"
      },
      "outputs": [
        {
          "name": "stdout",
          "output_type": "stream",
          "text": [
            "Доля токсичных коментариев заглавными буквами: 66.7%\n"
          ]
        }
      ],
      "source": [
        "print('Доля токсичных коментариев заглавными буквами: {0:.1%}'.format(\n",
        "    data[data['is_upper'] == 1]['toxic'].mean()\n",
        "))"
      ]
    },
    {
      "cell_type": "markdown",
      "metadata": {
        "id": "OSMExnYTwdGC"
      },
      "source": [
        "Перед обучением моделей подготовим признаки и целевой признак, запустив лемматизацию текстов."
      ]
    },
    {
      "cell_type": "code",
      "execution_count": null,
      "metadata": {
        "id": "tFVY8_jtwdGF"
      },
      "outputs": [],
      "source": [
        "# Функция для лемматизации и очистки комментариев\n",
        "def lemma_by_spacy(text):\n",
        "    text = text.lower()\n",
        "    doc = nlp(text)\n",
        "    doc = \" \".join([token.lemma_ for token in doc])\n",
        "    doc = re.sub(r'[^a-zA-Z ]',' ',doc)\n",
        "  \n",
        "    return \" \".join(doc.split())"
      ]
    },
    {
      "cell_type": "code",
      "execution_count": null,
      "metadata": {
        "id": "oIBat5VPwdGG"
      },
      "outputs": [],
      "source": [
        "nlp = spacy.load('en_core_web_sm', disable=['parser', 'ner'])"
      ]
    },
    {
      "cell_type": "code",
      "execution_count": null,
      "metadata": {
        "id": "ddnjbbyjwdGH"
      },
      "outputs": [],
      "source": [
        "#tqdm.pandas()\n",
        "#data['text'] = data['text'].progress_apply(lambda x: lemmatize(clear_text(x)))"
      ]
    },
    {
      "cell_type": "markdown",
      "metadata": {
        "id": "3r_uzjfCwdGI"
      },
      "source": [
        "Выделим признаки для обучения моделей"
      ]
    },
    {
      "cell_type": "code",
      "execution_count": null,
      "metadata": {
        "id": "C8LtXLOhwdGJ"
      },
      "outputs": [],
      "source": [
        "target = data['toxic']\n",
        "features = data['text']"
      ]
    },
    {
      "cell_type": "code",
      "execution_count": null,
      "metadata": {
        "id": "Cb0PRG-KwdGL",
        "outputId": "bd8bc027-0c0e-4a54-a105-577f62687f0a"
      },
      "outputs": [
        {
          "name": "stderr",
          "output_type": "stream",
          "text": [
            "100%|██████████| 159571/159571 [17:51<00:00, 148.98it/s]\n"
          ]
        }
      ],
      "source": [
        "tqdm.pandas()\n",
        "lemma = features.progress_apply(lemma_by_spacy)"
      ]
    },
    {
      "cell_type": "markdown",
      "metadata": {
        "id": "yFg1hbkdwdGO"
      },
      "source": [
        "Разобьем датасет на обучающую и тестовую выборки. "
      ]
    },
    {
      "cell_type": "code",
      "execution_count": null,
      "metadata": {
        "id": "bzqWx197wdGO"
      },
      "outputs": [],
      "source": [
        "features_train, features_test, target_train, target_test = train_test_split(lemma, target, \n",
        "                                                                            test_size = 0.3, random_state = 12345)"
      ]
    },
    {
      "cell_type": "markdown",
      "metadata": {
        "id": "_pYSOlSNwdGQ"
      },
      "source": [
        "Очистим тексты от стоп-слов и ненужных символов. Создадим счетчик, указав в нем стоп-слова"
      ]
    },
    {
      "cell_type": "code",
      "execution_count": null,
      "metadata": {
        "id": "tdQnEXJGwdGQ",
        "outputId": "055f696f-183d-432a-c23c-c7c1717dca1c"
      },
      "outputs": [
        {
          "name": "stderr",
          "output_type": "stream",
          "text": [
            "[nltk_data] Downloading package stopwords to /home/jovyan/nltk_data...\n",
            "[nltk_data]   Package stopwords is already up-to-date!\n"
          ]
        }
      ],
      "source": [
        "nltk.download('stopwords')\n",
        "stopwords = set(nltk_stopwords.words('english'))\n",
        "\n",
        "count_tf_idf = TfidfVectorizer(stop_words=stopwords)"
      ]
    },
    {
      "cell_type": "markdown",
      "metadata": {
        "id": "eeKsco6NwdGR"
      },
      "source": [
        "Чтобы посчитать TF-IDF для корпуса текстов, вызовем функцию fit_transform() для обучающей выборки. Сразу приведем данные выборок к формату Unicode."
      ]
    },
    {
      "cell_type": "code",
      "execution_count": null,
      "metadata": {
        "id": "SQ7P-Z4pwdGS"
      },
      "outputs": [],
      "source": [
        "features_train = count_tf_idf.fit_transform(features_train)\n",
        "#features_valid = count_tf_idf.transform(features_valid['lemm_text'].values.astype('U'))\n",
        "features_test = count_tf_idf.transform(features_test)"
      ]
    },
    {
      "cell_type": "code",
      "execution_count": null,
      "metadata": {
        "id": "jnzuugJUwdGU",
        "outputId": "d1a164ee-7122-46d1-aac7-990a6f107636"
      },
      "outputs": [
        {
          "name": "stdout",
          "output_type": "stream",
          "text": [
            "(111699, 124480)\n",
            "(47872, 124480)\n"
          ]
        }
      ],
      "source": [
        "# Формы тренировочной и тестовой выборок\n",
        "print(features_train.shape)\n",
        "#print(features_valid.shape)\n",
        "print(features_test.shape)"
      ]
    },
    {
      "cell_type": "markdown",
      "metadata": {
        "id": "2LJLdYB8wdGV"
      },
      "source": [
        "Ограничим количество кроссвалидаций до 3 для ускорения процесса и проверим показатели на модели логистической регрессии."
      ]
    },
    {
      "cell_type": "code",
      "execution_count": null,
      "metadata": {
        "id": "HPjMGQHbwdGV",
        "outputId": "d91de6e7-3c45-4b6a-c07c-697dc7fc2188"
      },
      "outputs": [
        {
          "name": "stdout",
          "output_type": "stream",
          "text": [
            "F1 на кросс-валидации 0.7001447631887121\n"
          ]
        }
      ],
      "source": [
        "classificator = LogisticRegression()\n",
        "f1_train = cross_val_score(classificator, features_train, target_train, cv=3, scoring='f1').mean()\n",
        "print('F1 на кросс-валидации', f1_train)"
      ]
    },
    {
      "cell_type": "markdown",
      "metadata": {
        "id": "vuFZe3RCwdGY"
      },
      "source": [
        "Классы разбалансированы. Уберем часть объектов бОльшего класса с помощью техники downsampling."
      ]
    },
    {
      "cell_type": "code",
      "execution_count": null,
      "metadata": {
        "id": "sEMkQJlCwdGb"
      },
      "outputs": [],
      "source": [
        "data_train = data.iloc[target_train.index]\n",
        "\n",
        "target_train_class_zero = data_train[data_train['toxic'] == 0]['toxic']\n",
        "target_train_class_one = data_train[data_train['toxic'] == 1]['toxic']\n",
        "\n",
        "target_train_class_zero_downsample = target_train_class_zero.sample(target_train_class_one.shape[0],\n",
        "                                                                    random_state=12345)\n",
        "target_train_downsample = pd.concat([target_train_class_zero_downsample, target_train_class_one])"
      ]
    },
    {
      "cell_type": "code",
      "execution_count": null,
      "metadata": {
        "id": "QXU_8aYxwdGb"
      },
      "outputs": [],
      "source": [
        "features_train_downsample = data.iloc[target_train_downsample.index]\n",
        "features_train_downsample, target_train_downsample = shuffle(features_train_downsample,\n",
        "                                                             target_train_downsample,\n",
        "                                                             random_state=12345)\n",
        "features_train_downsample = count_tf_idf.transform(features_train_downsample['text']\n",
        "                                                   .values.astype('U'))"
      ]
    },
    {
      "cell_type": "code",
      "execution_count": null,
      "metadata": {
        "id": "t9abR8mewdGc",
        "outputId": "bc78371c-1c8c-4038-8030-7deb80c3785b"
      },
      "outputs": [
        {
          "name": "stdout",
          "output_type": "stream",
          "text": [
            "F1 на кросс-валидации с уменьшением классов 0.8770088578293147\n"
          ]
        }
      ],
      "source": [
        "classificator = LogisticRegression()\n",
        "f1_train_downsample = cross_val_score(classificator,\n",
        "                      features_train_downsample, \n",
        "                      target_train_downsample, \n",
        "                      cv=3, \n",
        "                      scoring='f1').mean()\n",
        "print('F1 на кросс-валидации с уменьшением классов', f1_train_downsample)"
      ]
    },
    {
      "cell_type": "markdown",
      "metadata": {
        "id": "7cUVnCcnwdGd"
      },
      "source": [
        "**Вывод**\n",
        "\n",
        "В ходе предобработки путем токенизации и лемматизации подготовлены признаки для обучения. Выборка разделена на обучающую и тестовую в соотношении 70:30.\n",
        "\n",
        "Судя по анализу метрики F1, стоит использовать классификатор с учетом веса классов."
      ]
    },
    {
      "cell_type": "markdown",
      "metadata": {
        "id": "_5hUVv5OwdGe"
      },
      "source": [
        "## Обучение"
      ]
    },
    {
      "cell_type": "markdown",
      "metadata": {
        "id": "fsxhNjVxwdGe"
      },
      "source": [
        "Для обучения выберем следующие модели:\n",
        "\n",
        "* Решающее дерево\n",
        "* Логистическая регрессия\n",
        "* Случайный лес\n",
        "* CatBoost"
      ]
    },
    {
      "cell_type": "markdown",
      "metadata": {
        "id": "yuDg_UBawdGf"
      },
      "source": [
        "### Решающее дерево"
      ]
    },
    {
      "cell_type": "code",
      "execution_count": null,
      "metadata": {
        "id": "FRyug4_JwdGj",
        "outputId": "947bcf5c-4fce-49c2-e5a6-5593d3b548b5"
      },
      "outputs": [
        {
          "data": {
            "text/plain": [
              "{'max_depth': 2, 'max_features': 9}"
            ]
          },
          "execution_count": 26,
          "metadata": {},
          "output_type": "execute_result"
        }
      ],
      "source": [
        "# Подберем гиперпараметры с помощью HalvingGridSearchCV\n",
        "classificator = DecisionTreeClassifier(class_weight = 'balanced')\n",
        "param_grid = {\"max_depth\": [10, 101, 2]}\n",
        "search = (HalvingGridSearchCV(classificator, param_grid, resource='max_features', max_resources=10, \n",
        "                              cv=3, random_state=12345))\n",
        "search.fit(features_train, target_train)\n",
        "search.best_params_"
      ]
    },
    {
      "cell_type": "code",
      "execution_count": null,
      "metadata": {
        "id": "dQCK27XCwdGk",
        "outputId": "d5df7564-85c8-4447-9657-28867bc1f462"
      },
      "outputs": [
        {
          "name": "stdout",
          "output_type": "stream",
          "text": [
            "0.3680158282527149\n"
          ]
        }
      ],
      "source": [
        "f1_dt = search.best_score_\n",
        "print(f1_dt)"
      ]
    },
    {
      "cell_type": "markdown",
      "metadata": {
        "id": "Rczi-LUywdGm"
      },
      "source": [
        "### Логистическая регрессия"
      ]
    },
    {
      "cell_type": "code",
      "execution_count": null,
      "metadata": {
        "id": "hizYaE67wdGn",
        "outputId": "8b198a04-c511-48b1-a7d7-bc5c95294ef7"
      },
      "outputs": [
        {
          "data": {
            "text/plain": [
              "{'C': 1, 'class_weight': 'balanced', 'solver': 'lbfgs'}"
            ]
          },
          "execution_count": 29,
          "metadata": {},
          "output_type": "execute_result"
        }
      ],
      "source": [
        "param_grid = {'solver': ['liblinear', 'newton-cg', 'sag', 'saga', 'lbfgs'],\n",
        "              'C': [0.1, 1, 10],\n",
        "              'class_weight': ['balanced']}\n",
        "search = (HalvingGridSearchCV(LogisticRegression(), param_grid,\n",
        "                            scoring = 'f1', cv=3, random_state=12345))\n",
        "search.fit(features_train, target_train)\n",
        "search.best_params_"
      ]
    },
    {
      "cell_type": "code",
      "execution_count": null,
      "metadata": {
        "id": "rEuJNrNXwdGn",
        "outputId": "f6d8ff6e-3d7a-40a6-8181-a76893ae7f32"
      },
      "outputs": [
        {
          "name": "stdout",
          "output_type": "stream",
          "text": [
            "0.7501033090205939\n"
          ]
        }
      ],
      "source": [
        "f1_lr = search.best_score_\n",
        "print(f1_lr)"
      ]
    },
    {
      "cell_type": "markdown",
      "metadata": {
        "id": "u_Y_RVFpwdGr"
      },
      "source": [
        "### Случайный лес"
      ]
    },
    {
      "cell_type": "code",
      "execution_count": null,
      "metadata": {
        "id": "IJr2HyidwdGt",
        "outputId": "79dbdb86-6295-445a-f95c-9710d834fa4a"
      },
      "outputs": [
        {
          "data": {
            "text/plain": [
              "{'class_weight': 'balanced', 'max_depth': 100, 'n_estimators': 200}"
            ]
          },
          "execution_count": 34,
          "metadata": {},
          "output_type": "execute_result"
        }
      ],
      "source": [
        "param_grid = {'n_estimators':[10, 200, 10],\n",
        "              'max_depth':[2, 100, 10],\n",
        "              'class_weight': ['balanced']}\n",
        "search = (HalvingGridSearchCV(RandomForestClassifier(), param_grid, \n",
        "                            scoring = 'f1', cv=3, random_state=12345))\n",
        "search.fit(features_train, target_train)\n",
        "search.best_params_"
      ]
    },
    {
      "cell_type": "code",
      "execution_count": null,
      "metadata": {
        "id": "sxrCNrUNwdGu",
        "outputId": "0130a1b2-9ad9-457f-e517-24291f3654e8"
      },
      "outputs": [
        {
          "name": "stdout",
          "output_type": "stream",
          "text": [
            "0.5469888772785895\n"
          ]
        }
      ],
      "source": [
        "f1_rf = search.best_score_\n",
        "print(f1_rf)"
      ]
    },
    {
      "cell_type": "markdown",
      "metadata": {
        "id": "qzCPJFGmwdGv"
      },
      "source": [
        "### Модель CatBoost"
      ]
    },
    {
      "cell_type": "code",
      "execution_count": null,
      "metadata": {
        "id": "CiVJkC9rwdGv",
        "outputId": "7e16e4c5-9a96-41df-bc68-03df472d807b"
      },
      "outputs": [
        {
          "name": "stdout",
          "output_type": "stream",
          "text": [
            "n_iterations: 3\n",
            "n_required_iterations: 3\n",
            "n_possible_iterations: 3\n",
            "min_resources_: 12411\n",
            "max_resources_: 111699\n",
            "aggressive_elimination: False\n",
            "factor: 3\n",
            "----------\n",
            "iter: 0\n",
            "n_candidates: 9\n",
            "n_resources: 12411\n",
            "Fitting 3 folds for each of 9 candidates, totalling 27 fits\n",
            "[CV 1/3; 1/9] START iterations=100, learning_rate=0.1...........................\n",
            "0:\tlearn: 0.5999579\ttotal: 355ms\tremaining: 35.1s\n",
            "1:\tlearn: 0.5197036\ttotal: 576ms\tremaining: 28.2s\n",
            "2:\tlearn: 0.4601355\ttotal: 798ms\tremaining: 25.8s\n",
            "3:\tlearn: 0.4151490\ttotal: 1.02s\tremaining: 24.4s\n",
            "4:\tlearn: 0.3812665\ttotal: 1.24s\tremaining: 23.6s\n",
            "5:\tlearn: 0.3550014\ttotal: 1.46s\tremaining: 22.9s\n",
            "6:\tlearn: 0.3330446\ttotal: 1.68s\tremaining: 22.3s\n",
            "7:\tlearn: 0.3140495\ttotal: 1.91s\tremaining: 22s\n",
            "8:\tlearn: 0.2993969\ttotal: 2.15s\tremaining: 21.7s\n",
            "9:\tlearn: 0.2889785\ttotal: 2.38s\tremaining: 21.4s\n",
            "10:\tlearn: 0.2793645\ttotal: 2.61s\tremaining: 21.1s\n",
            "11:\tlearn: 0.2708005\ttotal: 2.83s\tremaining: 20.7s\n",
            "12:\tlearn: 0.2625543\ttotal: 3.05s\tremaining: 20.4s\n",
            "13:\tlearn: 0.2561222\ttotal: 3.27s\tremaining: 20.1s\n",
            "14:\tlearn: 0.2500672\ttotal: 3.49s\tremaining: 19.8s\n",
            "15:\tlearn: 0.2452056\ttotal: 3.71s\tremaining: 19.5s\n",
            "16:\tlearn: 0.2406685\ttotal: 3.94s\tremaining: 19.2s\n",
            "17:\tlearn: 0.2365905\ttotal: 4.17s\tremaining: 19s\n",
            "18:\tlearn: 0.2329319\ttotal: 4.41s\tremaining: 18.8s\n",
            "19:\tlearn: 0.2297923\ttotal: 4.64s\tremaining: 18.6s\n",
            "20:\tlearn: 0.2265589\ttotal: 4.87s\tremaining: 18.3s\n",
            "21:\tlearn: 0.2241640\ttotal: 5.09s\tremaining: 18s\n",
            "22:\tlearn: 0.2216949\ttotal: 5.32s\tremaining: 17.8s\n",
            "23:\tlearn: 0.2194774\ttotal: 5.54s\tremaining: 17.5s\n",
            "24:\tlearn: 0.2175834\ttotal: 5.76s\tremaining: 17.3s\n",
            "25:\tlearn: 0.2155318\ttotal: 5.98s\tremaining: 17s\n",
            "26:\tlearn: 0.2136304\ttotal: 6.2s\tremaining: 16.8s\n",
            "27:\tlearn: 0.2118198\ttotal: 6.43s\tremaining: 16.5s\n",
            "28:\tlearn: 0.2101113\ttotal: 6.65s\tremaining: 16.3s\n",
            "29:\tlearn: 0.2081130\ttotal: 6.88s\tremaining: 16.1s\n",
            "30:\tlearn: 0.2059079\ttotal: 7.1s\tremaining: 15.8s\n",
            "31:\tlearn: 0.2039736\ttotal: 7.33s\tremaining: 15.6s\n",
            "32:\tlearn: 0.2028452\ttotal: 7.55s\tremaining: 15.3s\n",
            "33:\tlearn: 0.2015902\ttotal: 7.78s\tremaining: 15.1s\n",
            "34:\tlearn: 0.2006289\ttotal: 8s\tremaining: 14.9s\n",
            "35:\tlearn: 0.1994494\ttotal: 8.23s\tremaining: 14.6s\n",
            "36:\tlearn: 0.1983081\ttotal: 8.48s\tremaining: 14.4s\n",
            "37:\tlearn: 0.1977585\ttotal: 8.73s\tremaining: 14.2s\n",
            "38:\tlearn: 0.1965935\ttotal: 8.97s\tremaining: 14s\n",
            "39:\tlearn: 0.1955188\ttotal: 9.2s\tremaining: 13.8s\n",
            "40:\tlearn: 0.1943437\ttotal: 9.42s\tremaining: 13.6s\n",
            "41:\tlearn: 0.1934747\ttotal: 9.64s\tremaining: 13.3s\n",
            "42:\tlearn: 0.1928068\ttotal: 9.87s\tremaining: 13.1s\n",
            "43:\tlearn: 0.1913512\ttotal: 10.1s\tremaining: 12.8s\n",
            "44:\tlearn: 0.1906964\ttotal: 10.3s\tremaining: 12.6s\n",
            "45:\tlearn: 0.1899068\ttotal: 10.5s\tremaining: 12.4s\n",
            "46:\tlearn: 0.1892075\ttotal: 10.7s\tremaining: 12.1s\n",
            "47:\tlearn: 0.1884474\ttotal: 11s\tremaining: 11.9s\n",
            "48:\tlearn: 0.1876613\ttotal: 11.2s\tremaining: 11.7s\n",
            "49:\tlearn: 0.1869650\ttotal: 11.4s\tremaining: 11.4s\n",
            "50:\tlearn: 0.1862575\ttotal: 11.7s\tremaining: 11.2s\n",
            "51:\tlearn: 0.1857888\ttotal: 11.9s\tremaining: 11s\n",
            "52:\tlearn: 0.1851056\ttotal: 12.1s\tremaining: 10.7s\n",
            "53:\tlearn: 0.1842673\ttotal: 12.4s\tremaining: 10.5s\n",
            "54:\tlearn: 0.1833659\ttotal: 12.6s\tremaining: 10.3s\n",
            "55:\tlearn: 0.1827255\ttotal: 12.8s\tremaining: 10.1s\n",
            "56:\tlearn: 0.1820700\ttotal: 13s\tremaining: 9.82s\n",
            "57:\tlearn: 0.1814598\ttotal: 13.3s\tremaining: 9.6s\n",
            "58:\tlearn: 0.1809473\ttotal: 13.5s\tremaining: 9.37s\n",
            "59:\tlearn: 0.1805124\ttotal: 13.7s\tremaining: 9.15s\n",
            "60:\tlearn: 0.1799021\ttotal: 14s\tremaining: 8.93s\n",
            "61:\tlearn: 0.1795088\ttotal: 14.2s\tremaining: 8.7s\n",
            "62:\tlearn: 0.1786002\ttotal: 14.4s\tremaining: 8.47s\n",
            "63:\tlearn: 0.1778165\ttotal: 14.7s\tremaining: 8.24s\n",
            "64:\tlearn: 0.1771895\ttotal: 14.9s\tremaining: 8.01s\n",
            "65:\tlearn: 0.1762349\ttotal: 15.1s\tremaining: 7.77s\n",
            "66:\tlearn: 0.1756058\ttotal: 15.3s\tremaining: 7.54s\n",
            "67:\tlearn: 0.1751240\ttotal: 15.5s\tremaining: 7.3s\n",
            "68:\tlearn: 0.1742927\ttotal: 15.7s\tremaining: 7.07s\n",
            "69:\tlearn: 0.1737129\ttotal: 16s\tremaining: 6.84s\n",
            "70:\tlearn: 0.1729524\ttotal: 16.2s\tremaining: 6.62s\n",
            "71:\tlearn: 0.1724039\ttotal: 16.4s\tremaining: 6.39s\n",
            "72:\tlearn: 0.1719638\ttotal: 16.6s\tremaining: 6.15s\n",
            "73:\tlearn: 0.1714511\ttotal: 16.9s\tremaining: 5.92s\n",
            "74:\tlearn: 0.1709506\ttotal: 17.1s\tremaining: 5.69s\n",
            "75:\tlearn: 0.1705391\ttotal: 17.3s\tremaining: 5.46s\n",
            "76:\tlearn: 0.1700638\ttotal: 17.5s\tremaining: 5.23s\n",
            "77:\tlearn: 0.1695993\ttotal: 17.7s\tremaining: 5s\n",
            "78:\tlearn: 0.1690667\ttotal: 18s\tremaining: 4.78s\n",
            "79:\tlearn: 0.1684282\ttotal: 18.2s\tremaining: 4.55s\n",
            "80:\tlearn: 0.1676927\ttotal: 18.5s\tremaining: 4.33s\n",
            "81:\tlearn: 0.1671790\ttotal: 18.7s\tremaining: 4.11s\n",
            "82:\tlearn: 0.1665605\ttotal: 18.9s\tremaining: 3.88s\n",
            "83:\tlearn: 0.1661785\ttotal: 19.2s\tremaining: 3.65s\n",
            "84:\tlearn: 0.1657729\ttotal: 19.4s\tremaining: 3.42s\n",
            "85:\tlearn: 0.1652277\ttotal: 19.6s\tremaining: 3.19s\n",
            "86:\tlearn: 0.1646593\ttotal: 19.8s\tremaining: 2.96s\n",
            "87:\tlearn: 0.1642469\ttotal: 20.1s\tremaining: 2.73s\n",
            "88:\tlearn: 0.1635920\ttotal: 20.3s\tremaining: 2.51s\n",
            "89:\tlearn: 0.1631557\ttotal: 20.5s\tremaining: 2.28s\n",
            "90:\tlearn: 0.1625180\ttotal: 20.7s\tremaining: 2.05s\n",
            "91:\tlearn: 0.1621600\ttotal: 20.9s\tremaining: 1.82s\n",
            "92:\tlearn: 0.1617628\ttotal: 21.2s\tremaining: 1.59s\n",
            "93:\tlearn: 0.1613438\ttotal: 21.4s\tremaining: 1.36s\n",
            "94:\tlearn: 0.1608971\ttotal: 21.6s\tremaining: 1.14s\n",
            "95:\tlearn: 0.1604830\ttotal: 21.8s\tremaining: 908ms\n",
            "96:\tlearn: 0.1601151\ttotal: 22s\tremaining: 681ms\n",
            "97:\tlearn: 0.1595837\ttotal: 22.3s\tremaining: 454ms\n",
            "98:\tlearn: 0.1588216\ttotal: 22.5s\tremaining: 227ms\n",
            "99:\tlearn: 0.1584484\ttotal: 22.7s\tremaining: 0us\n",
            "[CV 1/3; 1/9] END .........iterations=100, learning_rate=0.1; total time=  24.8s\n",
            "[CV 2/3; 1/9] START iterations=100, learning_rate=0.1...........................\n",
            "0:\tlearn: 0.6009751\ttotal: 309ms\tremaining: 30.6s\n",
            "1:\tlearn: 0.5255140\ttotal: 543ms\tremaining: 26.6s\n",
            "2:\tlearn: 0.4664193\ttotal: 770ms\tremaining: 24.9s\n",
            "3:\tlearn: 0.4189783\ttotal: 995ms\tremaining: 23.9s\n",
            "4:\tlearn: 0.3851882\ttotal: 1.23s\tremaining: 23.3s\n",
            "5:\tlearn: 0.3565085\ttotal: 1.46s\tremaining: 22.9s\n",
            "6:\tlearn: 0.3289639\ttotal: 1.7s\tremaining: 22.6s\n",
            "7:\tlearn: 0.3108454\ttotal: 1.92s\tremaining: 22.1s\n",
            "8:\tlearn: 0.2959573\ttotal: 2.15s\tremaining: 21.7s\n",
            "9:\tlearn: 0.2830115\ttotal: 2.37s\tremaining: 21.4s\n",
            "10:\tlearn: 0.2720302\ttotal: 2.61s\tremaining: 21.1s\n",
            "11:\tlearn: 0.2634993\ttotal: 2.83s\tremaining: 20.7s\n",
            "12:\tlearn: 0.2555492\ttotal: 3.05s\tremaining: 20.4s\n",
            "13:\tlearn: 0.2490120\ttotal: 3.28s\tremaining: 20.2s\n",
            "14:\tlearn: 0.2411033\ttotal: 3.53s\tremaining: 20s\n",
            "15:\tlearn: 0.2369934\ttotal: 3.83s\tremaining: 20.1s\n",
            "16:\tlearn: 0.2327591\ttotal: 4.09s\tremaining: 20s\n",
            "17:\tlearn: 0.2289090\ttotal: 4.32s\tremaining: 19.7s\n",
            "18:\tlearn: 0.2253798\ttotal: 4.56s\tremaining: 19.4s\n",
            "19:\tlearn: 0.2218645\ttotal: 4.8s\tremaining: 19.2s\n",
            "20:\tlearn: 0.2183834\ttotal: 5.04s\tremaining: 19s\n",
            "21:\tlearn: 0.2156624\ttotal: 5.27s\tremaining: 18.7s\n",
            "22:\tlearn: 0.2129566\ttotal: 5.5s\tremaining: 18.4s\n",
            "23:\tlearn: 0.2104901\ttotal: 5.73s\tremaining: 18.2s\n",
            "24:\tlearn: 0.2079280\ttotal: 5.96s\tremaining: 17.9s\n",
            "25:\tlearn: 0.2061916\ttotal: 6.19s\tremaining: 17.6s\n",
            "26:\tlearn: 0.2042792\ttotal: 6.42s\tremaining: 17.4s\n",
            "27:\tlearn: 0.2026215\ttotal: 6.66s\tremaining: 17.1s\n",
            "28:\tlearn: 0.2003364\ttotal: 6.9s\tremaining: 16.9s\n",
            "29:\tlearn: 0.1992140\ttotal: 7.13s\tremaining: 16.6s\n",
            "30:\tlearn: 0.1974744\ttotal: 7.36s\tremaining: 16.4s\n",
            "31:\tlearn: 0.1963006\ttotal: 7.6s\tremaining: 16.1s\n",
            "32:\tlearn: 0.1944269\ttotal: 7.83s\tremaining: 15.9s\n",
            "33:\tlearn: 0.1935398\ttotal: 8.06s\tremaining: 15.6s\n",
            "34:\tlearn: 0.1921008\ttotal: 8.32s\tremaining: 15.4s\n",
            "35:\tlearn: 0.1913802\ttotal: 8.55s\tremaining: 15.2s\n",
            "36:\tlearn: 0.1903660\ttotal: 8.79s\tremaining: 15s\n",
            "37:\tlearn: 0.1890506\ttotal: 9.03s\tremaining: 14.7s\n",
            "38:\tlearn: 0.1879246\ttotal: 9.26s\tremaining: 14.5s\n",
            "39:\tlearn: 0.1869689\ttotal: 9.52s\tremaining: 14.3s\n",
            "40:\tlearn: 0.1858878\ttotal: 9.76s\tremaining: 14s\n",
            "41:\tlearn: 0.1850441\ttotal: 10s\tremaining: 13.8s\n",
            "42:\tlearn: 0.1838307\ttotal: 10.2s\tremaining: 13.6s\n",
            "43:\tlearn: 0.1828027\ttotal: 10.5s\tremaining: 13.3s\n",
            "44:\tlearn: 0.1815702\ttotal: 10.7s\tremaining: 13.1s\n",
            "45:\tlearn: 0.1805381\ttotal: 10.9s\tremaining: 12.8s\n",
            "46:\tlearn: 0.1796111\ttotal: 11.2s\tremaining: 12.6s\n",
            "47:\tlearn: 0.1787715\ttotal: 11.4s\tremaining: 12.3s\n",
            "48:\tlearn: 0.1781021\ttotal: 11.6s\tremaining: 12.1s\n",
            "49:\tlearn: 0.1775363\ttotal: 11.9s\tremaining: 11.9s\n",
            "50:\tlearn: 0.1768058\ttotal: 12.1s\tremaining: 11.6s\n",
            "51:\tlearn: 0.1758904\ttotal: 12.3s\tremaining: 11.4s\n",
            "52:\tlearn: 0.1752001\ttotal: 12.5s\tremaining: 11.1s\n",
            "53:\tlearn: 0.1744456\ttotal: 12.8s\tremaining: 10.9s\n",
            "54:\tlearn: 0.1737570\ttotal: 13s\tremaining: 10.6s\n",
            "55:\tlearn: 0.1729573\ttotal: 13.2s\tremaining: 10.4s\n",
            "56:\tlearn: 0.1725129\ttotal: 13.5s\tremaining: 10.2s\n",
            "57:\tlearn: 0.1719269\ttotal: 13.8s\tremaining: 9.96s\n",
            "58:\tlearn: 0.1714206\ttotal: 14s\tremaining: 9.74s\n",
            "59:\tlearn: 0.1708348\ttotal: 14.3s\tremaining: 9.51s\n",
            "60:\tlearn: 0.1702023\ttotal: 14.5s\tremaining: 9.27s\n",
            "61:\tlearn: 0.1698164\ttotal: 14.8s\tremaining: 9.06s\n",
            "62:\tlearn: 0.1692933\ttotal: 15s\tremaining: 8.83s\n",
            "63:\tlearn: 0.1684570\ttotal: 15.3s\tremaining: 8.58s\n",
            "64:\tlearn: 0.1677840\ttotal: 15.5s\tremaining: 8.34s\n",
            "65:\tlearn: 0.1673631\ttotal: 15.7s\tremaining: 8.09s\n",
            "66:\tlearn: 0.1667280\ttotal: 15.9s\tremaining: 7.85s\n",
            "67:\tlearn: 0.1661826\ttotal: 16.2s\tremaining: 7.61s\n",
            "68:\tlearn: 0.1653055\ttotal: 16.4s\tremaining: 7.37s\n",
            "69:\tlearn: 0.1644863\ttotal: 16.6s\tremaining: 7.13s\n",
            "70:\tlearn: 0.1636714\ttotal: 16.9s\tremaining: 6.88s\n",
            "71:\tlearn: 0.1629029\ttotal: 17.1s\tremaining: 6.64s\n",
            "72:\tlearn: 0.1621528\ttotal: 17.3s\tremaining: 6.4s\n",
            "73:\tlearn: 0.1614795\ttotal: 17.6s\tremaining: 6.17s\n",
            "74:\tlearn: 0.1608709\ttotal: 17.8s\tremaining: 5.93s\n",
            "75:\tlearn: 0.1604283\ttotal: 18s\tremaining: 5.69s\n",
            "76:\tlearn: 0.1597718\ttotal: 18.3s\tremaining: 5.45s\n",
            "77:\tlearn: 0.1594314\ttotal: 18.5s\tremaining: 5.21s\n",
            "78:\tlearn: 0.1590349\ttotal: 18.7s\tremaining: 4.98s\n",
            "79:\tlearn: 0.1584127\ttotal: 19s\tremaining: 4.74s\n",
            "80:\tlearn: 0.1578402\ttotal: 19.2s\tremaining: 4.5s\n",
            "81:\tlearn: 0.1570120\ttotal: 19.4s\tremaining: 4.26s\n",
            "82:\tlearn: 0.1565586\ttotal: 19.6s\tremaining: 4.02s\n",
            "83:\tlearn: 0.1561832\ttotal: 19.9s\tremaining: 3.78s\n",
            "84:\tlearn: 0.1558266\ttotal: 20.1s\tremaining: 3.54s\n",
            "85:\tlearn: 0.1551958\ttotal: 20.3s\tremaining: 3.31s\n",
            "86:\tlearn: 0.1547920\ttotal: 20.5s\tremaining: 3.07s\n",
            "87:\tlearn: 0.1544559\ttotal: 20.7s\tremaining: 2.83s\n",
            "88:\tlearn: 0.1540336\ttotal: 21s\tremaining: 2.59s\n",
            "89:\tlearn: 0.1535569\ttotal: 21.2s\tremaining: 2.35s\n",
            "90:\tlearn: 0.1532237\ttotal: 21.4s\tremaining: 2.12s\n",
            "91:\tlearn: 0.1525474\ttotal: 21.7s\tremaining: 1.88s\n",
            "92:\tlearn: 0.1521707\ttotal: 21.9s\tremaining: 1.65s\n",
            "93:\tlearn: 0.1516127\ttotal: 22.1s\tremaining: 1.41s\n",
            "94:\tlearn: 0.1513009\ttotal: 22.3s\tremaining: 1.18s\n",
            "95:\tlearn: 0.1509188\ttotal: 22.6s\tremaining: 941ms\n",
            "96:\tlearn: 0.1505577\ttotal: 22.8s\tremaining: 705ms\n",
            "97:\tlearn: 0.1501808\ttotal: 23s\tremaining: 470ms\n",
            "98:\tlearn: 0.1496341\ttotal: 23.3s\tremaining: 235ms\n",
            "99:\tlearn: 0.1492301\ttotal: 23.5s\tremaining: 0us\n",
            "[CV 2/3; 1/9] END .........iterations=100, learning_rate=0.1; total time=  25.4s\n",
            "[CV 3/3; 1/9] START iterations=100, learning_rate=0.1...........................\n",
            "0:\tlearn: 0.5997332\ttotal: 316ms\tremaining: 31.3s\n",
            "1:\tlearn: 0.5255958\ttotal: 549ms\tremaining: 26.9s\n",
            "2:\tlearn: 0.4714234\ttotal: 784ms\tremaining: 25.4s\n",
            "3:\tlearn: 0.4284542\ttotal: 1.01s\tremaining: 24.3s\n",
            "4:\tlearn: 0.3919469\ttotal: 1.24s\tremaining: 23.6s\n",
            "5:\tlearn: 0.3625234\ttotal: 1.47s\tremaining: 23s\n",
            "6:\tlearn: 0.3418271\ttotal: 1.71s\tremaining: 22.7s\n",
            "7:\tlearn: 0.3220838\ttotal: 1.95s\tremaining: 22.4s\n",
            "8:\tlearn: 0.3057689\ttotal: 2.2s\tremaining: 22.2s\n",
            "9:\tlearn: 0.2933511\ttotal: 2.43s\tremaining: 21.8s\n",
            "10:\tlearn: 0.2816150\ttotal: 2.66s\tremaining: 21.6s\n",
            "11:\tlearn: 0.2715796\ttotal: 2.9s\tremaining: 21.3s\n",
            "12:\tlearn: 0.2640166\ttotal: 3.13s\tremaining: 21s\n",
            "13:\tlearn: 0.2550744\ttotal: 3.37s\tremaining: 20.7s\n",
            "14:\tlearn: 0.2495342\ttotal: 3.62s\tremaining: 20.5s\n",
            "15:\tlearn: 0.2445512\ttotal: 3.88s\tremaining: 20.4s\n",
            "16:\tlearn: 0.2401560\ttotal: 4.12s\tremaining: 20.1s\n",
            "17:\tlearn: 0.2368456\ttotal: 4.35s\tremaining: 19.8s\n",
            "18:\tlearn: 0.2327459\ttotal: 4.59s\tremaining: 19.6s\n",
            "19:\tlearn: 0.2293316\ttotal: 4.82s\tremaining: 19.3s\n",
            "20:\tlearn: 0.2254322\ttotal: 5.05s\tremaining: 19s\n",
            "21:\tlearn: 0.2225527\ttotal: 5.28s\tremaining: 18.7s\n",
            "22:\tlearn: 0.2195591\ttotal: 5.51s\tremaining: 18.4s\n",
            "23:\tlearn: 0.2172567\ttotal: 5.74s\tremaining: 18.2s\n",
            "24:\tlearn: 0.2141627\ttotal: 5.99s\tremaining: 18s\n",
            "25:\tlearn: 0.2116994\ttotal: 6.21s\tremaining: 17.7s\n",
            "26:\tlearn: 0.2096167\ttotal: 6.43s\tremaining: 17.4s\n",
            "27:\tlearn: 0.2076335\ttotal: 6.67s\tremaining: 17.1s\n",
            "28:\tlearn: 0.2059116\ttotal: 6.91s\tremaining: 16.9s\n",
            "29:\tlearn: 0.2036986\ttotal: 7.14s\tremaining: 16.7s\n",
            "30:\tlearn: 0.2020030\ttotal: 7.37s\tremaining: 16.4s\n",
            "31:\tlearn: 0.2006311\ttotal: 7.61s\tremaining: 16.2s\n",
            "32:\tlearn: 0.1984099\ttotal: 7.85s\tremaining: 15.9s\n",
            "33:\tlearn: 0.1969770\ttotal: 8.12s\tremaining: 15.8s\n",
            "34:\tlearn: 0.1955214\ttotal: 8.38s\tremaining: 15.6s\n",
            "35:\tlearn: 0.1945349\ttotal: 8.61s\tremaining: 15.3s\n",
            "36:\tlearn: 0.1931160\ttotal: 8.86s\tremaining: 15.1s\n",
            "37:\tlearn: 0.1921142\ttotal: 9.1s\tremaining: 14.9s\n",
            "38:\tlearn: 0.1910512\ttotal: 9.34s\tremaining: 14.6s\n",
            "39:\tlearn: 0.1891918\ttotal: 9.58s\tremaining: 14.4s\n",
            "40:\tlearn: 0.1881960\ttotal: 9.81s\tremaining: 14.1s\n",
            "41:\tlearn: 0.1872322\ttotal: 10s\tremaining: 13.9s\n",
            "42:\tlearn: 0.1862248\ttotal: 10.3s\tremaining: 13.6s\n",
            "43:\tlearn: 0.1853285\ttotal: 10.5s\tremaining: 13.4s\n",
            "44:\tlearn: 0.1838058\ttotal: 10.7s\tremaining: 13.1s\n",
            "45:\tlearn: 0.1831038\ttotal: 11s\tremaining: 12.9s\n",
            "46:\tlearn: 0.1823499\ttotal: 11.2s\tremaining: 12.6s\n",
            "47:\tlearn: 0.1810798\ttotal: 11.4s\tremaining: 12.4s\n",
            "48:\tlearn: 0.1805228\ttotal: 11.6s\tremaining: 12.1s\n",
            "49:\tlearn: 0.1796527\ttotal: 11.9s\tremaining: 11.9s\n",
            "50:\tlearn: 0.1787540\ttotal: 12.1s\tremaining: 11.6s\n",
            "51:\tlearn: 0.1780536\ttotal: 12.3s\tremaining: 11.4s\n",
            "52:\tlearn: 0.1774187\ttotal: 12.6s\tremaining: 11.2s\n",
            "53:\tlearn: 0.1766352\ttotal: 12.8s\tremaining: 10.9s\n",
            "54:\tlearn: 0.1760972\ttotal: 13.1s\tremaining: 10.7s\n",
            "55:\tlearn: 0.1750169\ttotal: 13.3s\tremaining: 10.4s\n",
            "56:\tlearn: 0.1743074\ttotal: 13.5s\tremaining: 10.2s\n",
            "57:\tlearn: 0.1739411\ttotal: 13.8s\tremaining: 9.96s\n",
            "58:\tlearn: 0.1727714\ttotal: 14s\tremaining: 9.73s\n",
            "59:\tlearn: 0.1720632\ttotal: 14.3s\tremaining: 9.5s\n",
            "60:\tlearn: 0.1712455\ttotal: 14.5s\tremaining: 9.26s\n",
            "61:\tlearn: 0.1705482\ttotal: 14.7s\tremaining: 9.03s\n",
            "62:\tlearn: 0.1698435\ttotal: 15s\tremaining: 8.79s\n",
            "63:\tlearn: 0.1693270\ttotal: 15.2s\tremaining: 8.55s\n",
            "64:\tlearn: 0.1687832\ttotal: 15.4s\tremaining: 8.31s\n",
            "65:\tlearn: 0.1684029\ttotal: 15.7s\tremaining: 8.07s\n",
            "66:\tlearn: 0.1676889\ttotal: 15.9s\tremaining: 7.83s\n",
            "67:\tlearn: 0.1670612\ttotal: 16.1s\tremaining: 7.59s\n",
            "68:\tlearn: 0.1666028\ttotal: 16.4s\tremaining: 7.35s\n",
            "69:\tlearn: 0.1658431\ttotal: 16.6s\tremaining: 7.12s\n",
            "70:\tlearn: 0.1654298\ttotal: 16.8s\tremaining: 6.88s\n",
            "71:\tlearn: 0.1648856\ttotal: 17.1s\tremaining: 6.64s\n",
            "72:\tlearn: 0.1638719\ttotal: 17.3s\tremaining: 6.4s\n",
            "73:\tlearn: 0.1635440\ttotal: 17.6s\tremaining: 6.17s\n",
            "74:\tlearn: 0.1626106\ttotal: 17.8s\tremaining: 5.93s\n",
            "75:\tlearn: 0.1620538\ttotal: 18.1s\tremaining: 5.7s\n",
            "76:\tlearn: 0.1613995\ttotal: 18.3s\tremaining: 5.47s\n",
            "77:\tlearn: 0.1610398\ttotal: 18.6s\tremaining: 5.23s\n",
            "78:\tlearn: 0.1600329\ttotal: 18.8s\tremaining: 5s\n",
            "79:\tlearn: 0.1593972\ttotal: 19s\tremaining: 4.76s\n",
            "80:\tlearn: 0.1588181\ttotal: 19.3s\tremaining: 4.52s\n",
            "81:\tlearn: 0.1580619\ttotal: 19.5s\tremaining: 4.29s\n",
            "82:\tlearn: 0.1573313\ttotal: 19.8s\tremaining: 4.05s\n",
            "83:\tlearn: 0.1569458\ttotal: 20s\tremaining: 3.81s\n",
            "84:\tlearn: 0.1566282\ttotal: 20.2s\tremaining: 3.57s\n",
            "85:\tlearn: 0.1560482\ttotal: 20.5s\tremaining: 3.33s\n",
            "86:\tlearn: 0.1554057\ttotal: 20.7s\tremaining: 3.1s\n",
            "87:\tlearn: 0.1544257\ttotal: 21s\tremaining: 2.86s\n",
            "88:\tlearn: 0.1540947\ttotal: 21.2s\tremaining: 2.62s\n",
            "89:\tlearn: 0.1536614\ttotal: 21.4s\tremaining: 2.38s\n",
            "90:\tlearn: 0.1533505\ttotal: 21.7s\tremaining: 2.14s\n",
            "91:\tlearn: 0.1529362\ttotal: 21.9s\tremaining: 1.91s\n",
            "92:\tlearn: 0.1524242\ttotal: 22.2s\tremaining: 1.67s\n",
            "93:\tlearn: 0.1520300\ttotal: 22.4s\tremaining: 1.43s\n",
            "94:\tlearn: 0.1517250\ttotal: 22.6s\tremaining: 1.19s\n",
            "95:\tlearn: 0.1508994\ttotal: 22.9s\tremaining: 953ms\n",
            "96:\tlearn: 0.1506086\ttotal: 23.1s\tremaining: 715ms\n",
            "97:\tlearn: 0.1496766\ttotal: 23.4s\tremaining: 477ms\n",
            "98:\tlearn: 0.1493111\ttotal: 23.6s\tremaining: 238ms\n",
            "99:\tlearn: 0.1489103\ttotal: 23.9s\tremaining: 0us\n",
            "[CV 3/3; 1/9] END .........iterations=100, learning_rate=0.1; total time=  25.9s\n",
            "[CV 1/3; 2/9] START iterations=100, learning_rate=1.0...........................\n",
            "0:\tlearn: 0.2868986\ttotal: 321ms\tremaining: 31.8s\n",
            "1:\tlearn: 0.2387006\ttotal: 556ms\tremaining: 27.2s\n",
            "2:\tlearn: 0.2164450\ttotal: 793ms\tremaining: 25.6s\n",
            "3:\tlearn: 0.2030887\ttotal: 1.02s\tremaining: 24.6s\n",
            "4:\tlearn: 0.1913996\ttotal: 1.26s\tremaining: 24s\n",
            "5:\tlearn: 0.1815924\ttotal: 1.5s\tremaining: 23.5s\n",
            "6:\tlearn: 0.1733469\ttotal: 1.74s\tremaining: 23.1s\n",
            "7:\tlearn: 0.1671416\ttotal: 1.98s\tremaining: 22.8s\n",
            "8:\tlearn: 0.1589177\ttotal: 2.27s\tremaining: 22.9s\n",
            "9:\tlearn: 0.1538316\ttotal: 2.51s\tremaining: 22.6s\n",
            "10:\tlearn: 0.1501238\ttotal: 2.73s\tremaining: 22.1s\n",
            "11:\tlearn: 0.1435760\ttotal: 2.96s\tremaining: 21.7s\n",
            "12:\tlearn: 0.1389516\ttotal: 3.19s\tremaining: 21.4s\n",
            "13:\tlearn: 0.1352037\ttotal: 3.43s\tremaining: 21.1s\n",
            "14:\tlearn: 0.1313042\ttotal: 3.68s\tremaining: 20.9s\n",
            "15:\tlearn: 0.1271509\ttotal: 3.91s\tremaining: 20.6s\n",
            "16:\tlearn: 0.1223926\ttotal: 4.15s\tremaining: 20.3s\n",
            "17:\tlearn: 0.1193276\ttotal: 4.39s\tremaining: 20s\n",
            "18:\tlearn: 0.1157750\ttotal: 4.62s\tremaining: 19.7s\n",
            "19:\tlearn: 0.1137453\ttotal: 4.87s\tremaining: 19.5s\n",
            "20:\tlearn: 0.1116999\ttotal: 5.1s\tremaining: 19.2s\n",
            "21:\tlearn: 0.1087012\ttotal: 5.32s\tremaining: 18.9s\n",
            "22:\tlearn: 0.1063615\ttotal: 5.55s\tremaining: 18.6s\n",
            "23:\tlearn: 0.1045192\ttotal: 5.79s\tremaining: 18.3s\n",
            "24:\tlearn: 0.1025635\ttotal: 6.03s\tremaining: 18.1s\n",
            "25:\tlearn: 0.1006280\ttotal: 6.28s\tremaining: 17.9s\n",
            "26:\tlearn: 0.0988046\ttotal: 6.53s\tremaining: 17.7s\n",
            "27:\tlearn: 0.0970690\ttotal: 6.77s\tremaining: 17.4s\n",
            "28:\tlearn: 0.0947446\ttotal: 7s\tremaining: 17.1s\n",
            "29:\tlearn: 0.0930302\ttotal: 7.25s\tremaining: 16.9s\n",
            "30:\tlearn: 0.0913325\ttotal: 7.49s\tremaining: 16.7s\n",
            "31:\tlearn: 0.0896329\ttotal: 7.72s\tremaining: 16.4s\n",
            "32:\tlearn: 0.0877915\ttotal: 7.96s\tremaining: 16.2s\n",
            "33:\tlearn: 0.0860071\ttotal: 8.2s\tremaining: 15.9s\n",
            "34:\tlearn: 0.0843020\ttotal: 8.45s\tremaining: 15.7s\n",
            "35:\tlearn: 0.0825663\ttotal: 8.7s\tremaining: 15.5s\n",
            "36:\tlearn: 0.0808605\ttotal: 8.93s\tremaining: 15.2s\n",
            "37:\tlearn: 0.0791753\ttotal: 9.15s\tremaining: 14.9s\n",
            "38:\tlearn: 0.0774298\ttotal: 9.39s\tremaining: 14.7s\n",
            "39:\tlearn: 0.0756787\ttotal: 9.64s\tremaining: 14.5s\n",
            "40:\tlearn: 0.0741971\ttotal: 9.89s\tremaining: 14.2s\n",
            "41:\tlearn: 0.0715641\ttotal: 10.1s\tremaining: 14s\n",
            "42:\tlearn: 0.0702818\ttotal: 10.4s\tremaining: 13.7s\n",
            "43:\tlearn: 0.0691257\ttotal: 10.6s\tremaining: 13.5s\n",
            "44:\tlearn: 0.0676461\ttotal: 10.8s\tremaining: 13.3s\n",
            "45:\tlearn: 0.0666193\ttotal: 11.1s\tremaining: 13s\n",
            "46:\tlearn: 0.0657564\ttotal: 11.3s\tremaining: 12.8s\n",
            "47:\tlearn: 0.0648676\ttotal: 11.5s\tremaining: 12.5s\n",
            "48:\tlearn: 0.0637898\ttotal: 11.8s\tremaining: 12.2s\n",
            "49:\tlearn: 0.0630179\ttotal: 12s\tremaining: 12s\n",
            "50:\tlearn: 0.0620256\ttotal: 12.3s\tremaining: 11.8s\n",
            "51:\tlearn: 0.0612584\ttotal: 12.6s\tremaining: 11.6s\n",
            "52:\tlearn: 0.0605137\ttotal: 12.8s\tremaining: 11.3s\n",
            "53:\tlearn: 0.0597163\ttotal: 13s\tremaining: 11.1s\n",
            "54:\tlearn: 0.0590580\ttotal: 13.3s\tremaining: 10.8s\n",
            "55:\tlearn: 0.0583482\ttotal: 13.5s\tremaining: 10.6s\n",
            "56:\tlearn: 0.0577198\ttotal: 13.7s\tremaining: 10.4s\n",
            "57:\tlearn: 0.0570731\ttotal: 14s\tremaining: 10.1s\n",
            "58:\tlearn: 0.0558197\ttotal: 14.2s\tremaining: 9.88s\n",
            "59:\tlearn: 0.0551548\ttotal: 14.4s\tremaining: 9.63s\n",
            "60:\tlearn: 0.0544901\ttotal: 14.7s\tremaining: 9.38s\n",
            "61:\tlearn: 0.0535798\ttotal: 14.9s\tremaining: 9.14s\n",
            "62:\tlearn: 0.0529327\ttotal: 15.1s\tremaining: 8.89s\n",
            "63:\tlearn: 0.0517063\ttotal: 15.4s\tremaining: 8.65s\n",
            "64:\tlearn: 0.0509709\ttotal: 15.6s\tremaining: 8.4s\n",
            "65:\tlearn: 0.0502960\ttotal: 15.8s\tremaining: 8.16s\n",
            "66:\tlearn: 0.0495966\ttotal: 16.1s\tremaining: 7.92s\n",
            "67:\tlearn: 0.0489294\ttotal: 16.3s\tremaining: 7.67s\n",
            "68:\tlearn: 0.0482855\ttotal: 16.5s\tremaining: 7.43s\n",
            "69:\tlearn: 0.0476817\ttotal: 16.8s\tremaining: 7.19s\n",
            "70:\tlearn: 0.0469157\ttotal: 17s\tremaining: 6.94s\n",
            "71:\tlearn: 0.0457967\ttotal: 17.2s\tremaining: 6.7s\n",
            "72:\tlearn: 0.0451936\ttotal: 17.5s\tremaining: 6.46s\n",
            "73:\tlearn: 0.0446322\ttotal: 17.7s\tremaining: 6.22s\n",
            "74:\tlearn: 0.0441104\ttotal: 18s\tremaining: 5.98s\n",
            "75:\tlearn: 0.0436284\ttotal: 18.2s\tremaining: 5.75s\n",
            "76:\tlearn: 0.0431561\ttotal: 18.4s\tremaining: 5.51s\n",
            "77:\tlearn: 0.0425949\ttotal: 18.7s\tremaining: 5.27s\n",
            "78:\tlearn: 0.0421268\ttotal: 18.9s\tremaining: 5.03s\n",
            "79:\tlearn: 0.0409519\ttotal: 19.2s\tremaining: 4.79s\n",
            "80:\tlearn: 0.0405201\ttotal: 19.4s\tremaining: 4.55s\n",
            "81:\tlearn: 0.0401159\ttotal: 19.6s\tremaining: 4.31s\n",
            "82:\tlearn: 0.0395439\ttotal: 19.9s\tremaining: 4.07s\n",
            "83:\tlearn: 0.0391657\ttotal: 20.1s\tremaining: 3.83s\n",
            "84:\tlearn: 0.0387157\ttotal: 20.3s\tremaining: 3.59s\n",
            "85:\tlearn: 0.0383491\ttotal: 20.6s\tremaining: 3.35s\n",
            "86:\tlearn: 0.0379997\ttotal: 20.8s\tremaining: 3.11s\n",
            "87:\tlearn: 0.0376572\ttotal: 21s\tremaining: 2.87s\n",
            "88:\tlearn: 0.0373310\ttotal: 21.2s\tremaining: 2.63s\n",
            "89:\tlearn: 0.0363137\ttotal: 21.5s\tremaining: 2.39s\n",
            "90:\tlearn: 0.0359891\ttotal: 21.7s\tremaining: 2.15s\n",
            "91:\tlearn: 0.0356154\ttotal: 21.9s\tremaining: 1.91s\n",
            "92:\tlearn: 0.0353227\ttotal: 22.2s\tremaining: 1.67s\n",
            "93:\tlearn: 0.0348690\ttotal: 22.5s\tremaining: 1.44s\n",
            "94:\tlearn: 0.0345950\ttotal: 22.7s\tremaining: 1.2s\n",
            "95:\tlearn: 0.0341343\ttotal: 22.9s\tremaining: 956ms\n",
            "96:\tlearn: 0.0338636\ttotal: 23.2s\tremaining: 717ms\n",
            "97:\tlearn: 0.0336040\ttotal: 23.4s\tremaining: 478ms\n",
            "98:\tlearn: 0.0333394\ttotal: 23.7s\tremaining: 239ms\n",
            "99:\tlearn: 0.0330683\ttotal: 23.9s\tremaining: 0us\n",
            "[CV 1/3; 2/9] END .........iterations=100, learning_rate=1.0; total time=  25.7s\n",
            "[CV 2/3; 2/9] START iterations=100, learning_rate=1.0...........................\n",
            "0:\tlearn: 0.2912119\ttotal: 318ms\tremaining: 31.5s\n",
            "1:\tlearn: 0.2395410\ttotal: 544ms\tremaining: 26.7s\n",
            "2:\tlearn: 0.2091075\ttotal: 777ms\tremaining: 25.1s\n",
            "3:\tlearn: 0.1986206\ttotal: 1.01s\tremaining: 24.2s\n",
            "4:\tlearn: 0.1850228\ttotal: 1.24s\tremaining: 23.6s\n",
            "5:\tlearn: 0.1721339\ttotal: 1.47s\tremaining: 23.1s\n",
            "6:\tlearn: 0.1670479\ttotal: 1.7s\tremaining: 22.6s\n",
            "7:\tlearn: 0.1617119\ttotal: 1.93s\tremaining: 22.3s\n",
            "8:\tlearn: 0.1559666\ttotal: 2.17s\tremaining: 21.9s\n",
            "9:\tlearn: 0.1508495\ttotal: 2.4s\tremaining: 21.6s\n",
            "10:\tlearn: 0.1469135\ttotal: 2.63s\tremaining: 21.3s\n",
            "11:\tlearn: 0.1412830\ttotal: 2.87s\tremaining: 21s\n",
            "12:\tlearn: 0.1358913\ttotal: 3.1s\tremaining: 20.7s\n",
            "13:\tlearn: 0.1317376\ttotal: 3.37s\tremaining: 20.7s\n",
            "14:\tlearn: 0.1274490\ttotal: 3.6s\tremaining: 20.4s\n",
            "15:\tlearn: 0.1240706\ttotal: 3.84s\tremaining: 20.2s\n",
            "16:\tlearn: 0.1207628\ttotal: 4.07s\tremaining: 19.9s\n",
            "17:\tlearn: 0.1182035\ttotal: 4.3s\tremaining: 19.6s\n",
            "18:\tlearn: 0.1139949\ttotal: 4.53s\tremaining: 19.3s\n",
            "19:\tlearn: 0.1111511\ttotal: 4.76s\tremaining: 19s\n",
            "20:\tlearn: 0.1071768\ttotal: 4.99s\tremaining: 18.8s\n",
            "21:\tlearn: 0.1050750\ttotal: 5.21s\tremaining: 18.5s\n",
            "22:\tlearn: 0.1027784\ttotal: 5.44s\tremaining: 18.2s\n",
            "23:\tlearn: 0.1007414\ttotal: 5.67s\tremaining: 17.9s\n",
            "24:\tlearn: 0.0967225\ttotal: 5.9s\tremaining: 17.7s\n",
            "25:\tlearn: 0.0947129\ttotal: 6.16s\tremaining: 17.5s\n",
            "26:\tlearn: 0.0914405\ttotal: 6.42s\tremaining: 17.3s\n",
            "27:\tlearn: 0.0896205\ttotal: 6.65s\tremaining: 17.1s\n",
            "28:\tlearn: 0.0879028\ttotal: 6.87s\tremaining: 16.8s\n",
            "29:\tlearn: 0.0861929\ttotal: 7.1s\tremaining: 16.6s\n",
            "30:\tlearn: 0.0845374\ttotal: 7.33s\tremaining: 16.3s\n",
            "31:\tlearn: 0.0828477\ttotal: 7.58s\tremaining: 16.1s\n",
            "32:\tlearn: 0.0811497\ttotal: 7.81s\tremaining: 15.9s\n",
            "33:\tlearn: 0.0794674\ttotal: 8.04s\tremaining: 15.6s\n",
            "34:\tlearn: 0.0778185\ttotal: 8.26s\tremaining: 15.3s\n",
            "35:\tlearn: 0.0761104\ttotal: 8.5s\tremaining: 15.1s\n",
            "36:\tlearn: 0.0744356\ttotal: 8.74s\tremaining: 14.9s\n",
            "37:\tlearn: 0.0705034\ttotal: 8.97s\tremaining: 14.6s\n",
            "38:\tlearn: 0.0688905\ttotal: 9.19s\tremaining: 14.4s\n",
            "39:\tlearn: 0.0671308\ttotal: 9.43s\tremaining: 14.1s\n",
            "40:\tlearn: 0.0655898\ttotal: 9.66s\tremaining: 13.9s\n",
            "41:\tlearn: 0.0642441\ttotal: 9.89s\tremaining: 13.7s\n",
            "42:\tlearn: 0.0630429\ttotal: 10.1s\tremaining: 13.4s\n",
            "43:\tlearn: 0.0619894\ttotal: 10.4s\tremaining: 13.2s\n",
            "44:\tlearn: 0.0610400\ttotal: 10.6s\tremaining: 13s\n",
            "45:\tlearn: 0.0597808\ttotal: 10.8s\tremaining: 12.7s\n",
            "46:\tlearn: 0.0589647\ttotal: 11.1s\tremaining: 12.5s\n",
            "47:\tlearn: 0.0580472\ttotal: 11.3s\tremaining: 12.2s\n",
            "48:\tlearn: 0.0572508\ttotal: 11.5s\tremaining: 12s\n",
            "49:\tlearn: 0.0550935\ttotal: 11.8s\tremaining: 11.8s\n",
            "50:\tlearn: 0.0543690\ttotal: 12s\tremaining: 11.5s\n",
            "51:\tlearn: 0.0535811\ttotal: 12.3s\tremaining: 11.3s\n",
            "52:\tlearn: 0.0525733\ttotal: 12.5s\tremaining: 11.1s\n",
            "53:\tlearn: 0.0518992\ttotal: 12.7s\tremaining: 10.8s\n",
            "54:\tlearn: 0.0512660\ttotal: 12.9s\tremaining: 10.6s\n",
            "55:\tlearn: 0.0506533\ttotal: 13.2s\tremaining: 10.4s\n",
            "56:\tlearn: 0.0496976\ttotal: 13.4s\tremaining: 10.1s\n",
            "57:\tlearn: 0.0479734\ttotal: 13.7s\tremaining: 9.89s\n",
            "58:\tlearn: 0.0471759\ttotal: 13.9s\tremaining: 9.66s\n",
            "59:\tlearn: 0.0465315\ttotal: 14.1s\tremaining: 9.41s\n",
            "60:\tlearn: 0.0458684\ttotal: 14.4s\tremaining: 9.18s\n",
            "61:\tlearn: 0.0452447\ttotal: 14.6s\tremaining: 8.94s\n",
            "62:\tlearn: 0.0446374\ttotal: 14.8s\tremaining: 8.7s\n",
            "63:\tlearn: 0.0440155\ttotal: 15s\tremaining: 8.46s\n",
            "64:\tlearn: 0.0434116\ttotal: 15.3s\tremaining: 8.22s\n",
            "65:\tlearn: 0.0428505\ttotal: 15.5s\tremaining: 7.99s\n",
            "66:\tlearn: 0.0422850\ttotal: 15.7s\tremaining: 7.75s\n",
            "67:\tlearn: 0.0417643\ttotal: 16s\tremaining: 7.52s\n",
            "68:\tlearn: 0.0412574\ttotal: 16.2s\tremaining: 7.28s\n",
            "69:\tlearn: 0.0407750\ttotal: 16.5s\tremaining: 7.07s\n",
            "70:\tlearn: 0.0402278\ttotal: 16.7s\tremaining: 6.83s\n",
            "71:\tlearn: 0.0395755\ttotal: 17s\tremaining: 6.6s\n",
            "72:\tlearn: 0.0382109\ttotal: 17.2s\tremaining: 6.36s\n",
            "73:\tlearn: 0.0376935\ttotal: 17.4s\tremaining: 6.13s\n",
            "74:\tlearn: 0.0371835\ttotal: 17.7s\tremaining: 5.89s\n",
            "75:\tlearn: 0.0367191\ttotal: 17.9s\tremaining: 5.66s\n",
            "76:\tlearn: 0.0362924\ttotal: 18.1s\tremaining: 5.42s\n",
            "77:\tlearn: 0.0351955\ttotal: 18.4s\tremaining: 5.18s\n",
            "78:\tlearn: 0.0347731\ttotal: 18.6s\tremaining: 4.95s\n",
            "79:\tlearn: 0.0343239\ttotal: 18.8s\tremaining: 4.71s\n",
            "80:\tlearn: 0.0340038\ttotal: 19.1s\tremaining: 4.47s\n",
            "81:\tlearn: 0.0336919\ttotal: 19.3s\tremaining: 4.24s\n",
            "82:\tlearn: 0.0331247\ttotal: 19.5s\tremaining: 4s\n",
            "83:\tlearn: 0.0328162\ttotal: 19.8s\tremaining: 3.77s\n",
            "84:\tlearn: 0.0322195\ttotal: 20s\tremaining: 3.53s\n",
            "85:\tlearn: 0.0318725\ttotal: 20.2s\tremaining: 3.29s\n",
            "86:\tlearn: 0.0315897\ttotal: 20.5s\tremaining: 3.06s\n",
            "87:\tlearn: 0.0312755\ttotal: 20.7s\tremaining: 2.82s\n",
            "88:\tlearn: 0.0310094\ttotal: 20.9s\tremaining: 2.59s\n",
            "89:\tlearn: 0.0307672\ttotal: 21.2s\tremaining: 2.35s\n",
            "90:\tlearn: 0.0302536\ttotal: 21.4s\tremaining: 2.12s\n",
            "91:\tlearn: 0.0300097\ttotal: 21.6s\tremaining: 1.88s\n",
            "92:\tlearn: 0.0297722\ttotal: 21.9s\tremaining: 1.65s\n",
            "93:\tlearn: 0.0295484\ttotal: 22.1s\tremaining: 1.41s\n",
            "94:\tlearn: 0.0293379\ttotal: 22.4s\tremaining: 1.18s\n",
            "95:\tlearn: 0.0291067\ttotal: 22.6s\tremaining: 942ms\n",
            "96:\tlearn: 0.0285472\ttotal: 22.8s\tremaining: 706ms\n",
            "97:\tlearn: 0.0283435\ttotal: 23.1s\tremaining: 471ms\n",
            "98:\tlearn: 0.0281215\ttotal: 23.3s\tremaining: 235ms\n",
            "99:\tlearn: 0.0278063\ttotal: 23.5s\tremaining: 0us\n",
            "[CV 2/3; 2/9] END .........iterations=100, learning_rate=1.0; total time=  25.5s\n",
            "[CV 3/3; 2/9] START iterations=100, learning_rate=1.0...........................\n",
            "0:\tlearn: 0.2856772\ttotal: 353ms\tremaining: 35s\n",
            "1:\tlearn: 0.2393461\ttotal: 612ms\tremaining: 30s\n",
            "2:\tlearn: 0.2179169\ttotal: 857ms\tremaining: 27.7s\n",
            "3:\tlearn: 0.2010899\ttotal: 1.09s\tremaining: 26.2s\n",
            "4:\tlearn: 0.1899915\ttotal: 1.33s\tremaining: 25.3s\n",
            "5:\tlearn: 0.1813457\ttotal: 1.57s\tremaining: 24.6s\n",
            "6:\tlearn: 0.1745192\ttotal: 1.82s\tremaining: 24.2s\n",
            "7:\tlearn: 0.1668932\ttotal: 2.06s\tremaining: 23.7s\n",
            "8:\tlearn: 0.1611620\ttotal: 2.29s\tremaining: 23.2s\n",
            "9:\tlearn: 0.1572290\ttotal: 2.52s\tremaining: 22.7s\n",
            "10:\tlearn: 0.1501428\ttotal: 2.75s\tremaining: 22.3s\n",
            "11:\tlearn: 0.1434479\ttotal: 3s\tremaining: 22s\n",
            "12:\tlearn: 0.1360070\ttotal: 3.23s\tremaining: 21.6s\n",
            "13:\tlearn: 0.1318276\ttotal: 3.46s\tremaining: 21.2s\n",
            "14:\tlearn: 0.1279484\ttotal: 3.69s\tremaining: 20.9s\n",
            "15:\tlearn: 0.1249321\ttotal: 3.92s\tremaining: 20.6s\n",
            "16:\tlearn: 0.1220379\ttotal: 4.16s\tremaining: 20.3s\n",
            "17:\tlearn: 0.1182413\ttotal: 4.39s\tremaining: 20s\n",
            "18:\tlearn: 0.1129597\ttotal: 4.63s\tremaining: 19.7s\n",
            "19:\tlearn: 0.1103733\ttotal: 4.86s\tremaining: 19.4s\n",
            "20:\tlearn: 0.1060606\ttotal: 5.09s\tremaining: 19.2s\n",
            "21:\tlearn: 0.1042339\ttotal: 5.33s\tremaining: 18.9s\n",
            "22:\tlearn: 0.1022398\ttotal: 5.56s\tremaining: 18.6s\n",
            "23:\tlearn: 0.0995350\ttotal: 5.8s\tremaining: 18.4s\n",
            "24:\tlearn: 0.0974856\ttotal: 6.04s\tremaining: 18.1s\n",
            "25:\tlearn: 0.0947013\ttotal: 6.28s\tremaining: 17.9s\n",
            "26:\tlearn: 0.0927126\ttotal: 6.51s\tremaining: 17.6s\n",
            "27:\tlearn: 0.0908600\ttotal: 6.73s\tremaining: 17.3s\n",
            "28:\tlearn: 0.0891652\ttotal: 6.97s\tremaining: 17.1s\n",
            "29:\tlearn: 0.0873397\ttotal: 7.21s\tremaining: 16.8s\n",
            "30:\tlearn: 0.0855113\ttotal: 7.43s\tremaining: 16.5s\n",
            "31:\tlearn: 0.0837416\ttotal: 7.67s\tremaining: 16.3s\n",
            "32:\tlearn: 0.0819651\ttotal: 7.91s\tremaining: 16.1s\n",
            "33:\tlearn: 0.0802717\ttotal: 8.15s\tremaining: 15.8s\n",
            "34:\tlearn: 0.0784493\ttotal: 8.38s\tremaining: 15.6s\n",
            "35:\tlearn: 0.0767243\ttotal: 8.63s\tremaining: 15.3s\n",
            "36:\tlearn: 0.0751174\ttotal: 8.87s\tremaining: 15.1s\n",
            "37:\tlearn: 0.0735793\ttotal: 9.11s\tremaining: 14.9s\n",
            "38:\tlearn: 0.0722567\ttotal: 9.34s\tremaining: 14.6s\n",
            "39:\tlearn: 0.0709982\ttotal: 9.57s\tremaining: 14.4s\n",
            "40:\tlearn: 0.0699936\ttotal: 9.82s\tremaining: 14.1s\n",
            "41:\tlearn: 0.0689767\ttotal: 10.1s\tremaining: 13.9s\n",
            "42:\tlearn: 0.0681215\ttotal: 10.3s\tremaining: 13.7s\n",
            "43:\tlearn: 0.0646175\ttotal: 10.6s\tremaining: 13.5s\n",
            "44:\tlearn: 0.0635286\ttotal: 10.8s\tremaining: 13.2s\n",
            "45:\tlearn: 0.0625997\ttotal: 11.1s\tremaining: 13s\n",
            "46:\tlearn: 0.0616728\ttotal: 11.3s\tremaining: 12.7s\n",
            "47:\tlearn: 0.0608897\ttotal: 11.5s\tremaining: 12.5s\n",
            "48:\tlearn: 0.0595655\ttotal: 11.8s\tremaining: 12.3s\n",
            "49:\tlearn: 0.0587365\ttotal: 12s\tremaining: 12s\n",
            "50:\tlearn: 0.0579804\ttotal: 12.3s\tremaining: 11.8s\n",
            "51:\tlearn: 0.0571363\ttotal: 12.5s\tremaining: 11.5s\n",
            "52:\tlearn: 0.0563414\ttotal: 12.7s\tremaining: 11.3s\n",
            "53:\tlearn: 0.0556503\ttotal: 13s\tremaining: 11.1s\n",
            "54:\tlearn: 0.0549923\ttotal: 13.2s\tremaining: 10.8s\n",
            "55:\tlearn: 0.0530495\ttotal: 13.4s\tremaining: 10.6s\n",
            "56:\tlearn: 0.0523123\ttotal: 13.7s\tremaining: 10.3s\n",
            "57:\tlearn: 0.0509987\ttotal: 13.9s\tremaining: 10.1s\n",
            "58:\tlearn: 0.0502843\ttotal: 14.2s\tremaining: 9.84s\n",
            "59:\tlearn: 0.0496267\ttotal: 14.4s\tremaining: 9.6s\n",
            "60:\tlearn: 0.0488791\ttotal: 14.6s\tremaining: 9.35s\n",
            "61:\tlearn: 0.0481358\ttotal: 14.9s\tremaining: 9.13s\n",
            "62:\tlearn: 0.0474801\ttotal: 15.1s\tremaining: 8.89s\n",
            "63:\tlearn: 0.0468306\ttotal: 15.4s\tremaining: 8.64s\n",
            "64:\tlearn: 0.0462218\ttotal: 15.6s\tremaining: 8.4s\n",
            "65:\tlearn: 0.0456560\ttotal: 15.8s\tremaining: 8.16s\n",
            "66:\tlearn: 0.0450882\ttotal: 16.1s\tremaining: 7.91s\n",
            "67:\tlearn: 0.0445472\ttotal: 16.3s\tremaining: 7.67s\n",
            "68:\tlearn: 0.0440395\ttotal: 16.5s\tremaining: 7.43s\n",
            "69:\tlearn: 0.0435247\ttotal: 16.8s\tremaining: 7.19s\n",
            "70:\tlearn: 0.0428497\ttotal: 17s\tremaining: 6.96s\n",
            "71:\tlearn: 0.0423926\ttotal: 17.3s\tremaining: 6.71s\n",
            "72:\tlearn: 0.0418444\ttotal: 17.5s\tremaining: 6.47s\n",
            "73:\tlearn: 0.0413988\ttotal: 17.7s\tremaining: 6.23s\n",
            "74:\tlearn: 0.0409926\ttotal: 18s\tremaining: 5.99s\n",
            "75:\tlearn: 0.0405393\ttotal: 18.2s\tremaining: 5.75s\n",
            "76:\tlearn: 0.0390353\ttotal: 18.4s\tremaining: 5.51s\n",
            "77:\tlearn: 0.0386764\ttotal: 18.7s\tremaining: 5.27s\n",
            "78:\tlearn: 0.0380561\ttotal: 18.9s\tremaining: 5.03s\n",
            "79:\tlearn: 0.0376869\ttotal: 19.2s\tremaining: 4.79s\n",
            "80:\tlearn: 0.0372247\ttotal: 19.4s\tremaining: 4.55s\n",
            "81:\tlearn: 0.0363722\ttotal: 19.6s\tremaining: 4.31s\n",
            "82:\tlearn: 0.0360177\ttotal: 19.9s\tremaining: 4.07s\n",
            "83:\tlearn: 0.0357108\ttotal: 20.1s\tremaining: 3.83s\n",
            "84:\tlearn: 0.0352370\ttotal: 20.4s\tremaining: 3.6s\n",
            "85:\tlearn: 0.0348890\ttotal: 20.7s\tremaining: 3.36s\n",
            "86:\tlearn: 0.0344331\ttotal: 20.9s\tremaining: 3.12s\n",
            "87:\tlearn: 0.0341240\ttotal: 21.1s\tremaining: 2.88s\n",
            "88:\tlearn: 0.0338248\ttotal: 21.4s\tremaining: 2.64s\n",
            "89:\tlearn: 0.0333347\ttotal: 21.6s\tremaining: 2.4s\n",
            "90:\tlearn: 0.0330255\ttotal: 21.9s\tremaining: 2.16s\n",
            "91:\tlearn: 0.0324938\ttotal: 22.1s\tremaining: 1.92s\n",
            "92:\tlearn: 0.0321980\ttotal: 22.3s\tremaining: 1.68s\n",
            "93:\tlearn: 0.0317046\ttotal: 22.6s\tremaining: 1.44s\n",
            "94:\tlearn: 0.0314278\ttotal: 22.8s\tremaining: 1.2s\n",
            "95:\tlearn: 0.0311604\ttotal: 23s\tremaining: 960ms\n",
            "96:\tlearn: 0.0305539\ttotal: 23.3s\tremaining: 720ms\n",
            "97:\tlearn: 0.0302403\ttotal: 23.5s\tremaining: 480ms\n",
            "98:\tlearn: 0.0300019\ttotal: 23.8s\tremaining: 240ms\n",
            "99:\tlearn: 0.0297548\ttotal: 24s\tremaining: 0us\n",
            "[CV 3/3; 2/9] END .........iterations=100, learning_rate=1.0; total time=  26.1s\n",
            "[CV 1/3; 3/9] START iterations=100, learning_rate=0.2...........................\n",
            "0:\tlearn: 0.5212708\ttotal: 333ms\tremaining: 32.9s\n",
            "1:\tlearn: 0.4072900\ttotal: 556ms\tremaining: 27.3s\n",
            "2:\tlearn: 0.3484539\ttotal: 788ms\tremaining: 25.5s\n",
            "3:\tlearn: 0.3051713\ttotal: 1.02s\tremaining: 24.5s\n",
            "4:\tlearn: 0.2774157\ttotal: 1.24s\tremaining: 23.6s\n",
            "5:\tlearn: 0.2582186\ttotal: 1.47s\tremaining: 23s\n",
            "6:\tlearn: 0.2450462\ttotal: 1.7s\tremaining: 22.6s\n",
            "7:\tlearn: 0.2354369\ttotal: 1.92s\tremaining: 22.1s\n",
            "8:\tlearn: 0.2286421\ttotal: 2.16s\tremaining: 21.8s\n",
            "9:\tlearn: 0.2237668\ttotal: 2.38s\tremaining: 21.4s\n",
            "10:\tlearn: 0.2185426\ttotal: 2.6s\tremaining: 21s\n",
            "11:\tlearn: 0.2152759\ttotal: 2.82s\tremaining: 20.7s\n",
            "12:\tlearn: 0.2096017\ttotal: 3.05s\tremaining: 20.4s\n",
            "13:\tlearn: 0.2068185\ttotal: 3.28s\tremaining: 20.2s\n",
            "14:\tlearn: 0.2039560\ttotal: 3.54s\tremaining: 20s\n",
            "15:\tlearn: 0.2017295\ttotal: 3.76s\tremaining: 19.8s\n",
            "16:\tlearn: 0.1991547\ttotal: 3.99s\tremaining: 19.5s\n",
            "17:\tlearn: 0.1971479\ttotal: 4.24s\tremaining: 19.3s\n",
            "18:\tlearn: 0.1948874\ttotal: 4.5s\tremaining: 19.2s\n",
            "19:\tlearn: 0.1933191\ttotal: 4.75s\tremaining: 19s\n",
            "20:\tlearn: 0.1908602\ttotal: 4.98s\tremaining: 18.7s\n",
            "21:\tlearn: 0.1887958\ttotal: 5.29s\tremaining: 18.7s\n",
            "22:\tlearn: 0.1871539\ttotal: 5.51s\tremaining: 18.5s\n",
            "23:\tlearn: 0.1859825\ttotal: 5.75s\tremaining: 18.2s\n",
            "24:\tlearn: 0.1844659\ttotal: 5.98s\tremaining: 17.9s\n",
            "25:\tlearn: 0.1829813\ttotal: 6.21s\tremaining: 17.7s\n",
            "26:\tlearn: 0.1814248\ttotal: 6.44s\tremaining: 17.4s\n",
            "27:\tlearn: 0.1786981\ttotal: 6.67s\tremaining: 17.2s\n",
            "28:\tlearn: 0.1773033\ttotal: 6.89s\tremaining: 16.9s\n",
            "29:\tlearn: 0.1758314\ttotal: 7.12s\tremaining: 16.6s\n",
            "30:\tlearn: 0.1736317\ttotal: 7.36s\tremaining: 16.4s\n",
            "31:\tlearn: 0.1723754\ttotal: 7.58s\tremaining: 16.1s\n",
            "32:\tlearn: 0.1712441\ttotal: 7.81s\tremaining: 15.9s\n",
            "33:\tlearn: 0.1702563\ttotal: 8.05s\tremaining: 15.6s\n",
            "34:\tlearn: 0.1691974\ttotal: 8.28s\tremaining: 15.4s\n",
            "35:\tlearn: 0.1679598\ttotal: 8.52s\tremaining: 15.1s\n",
            "36:\tlearn: 0.1670191\ttotal: 8.75s\tremaining: 14.9s\n",
            "37:\tlearn: 0.1659187\ttotal: 8.99s\tremaining: 14.7s\n",
            "38:\tlearn: 0.1645829\ttotal: 9.22s\tremaining: 14.4s\n",
            "39:\tlearn: 0.1638421\ttotal: 9.46s\tremaining: 14.2s\n",
            "40:\tlearn: 0.1631789\ttotal: 9.69s\tremaining: 13.9s\n",
            "41:\tlearn: 0.1624092\ttotal: 9.93s\tremaining: 13.7s\n",
            "42:\tlearn: 0.1616447\ttotal: 10.2s\tremaining: 13.5s\n",
            "43:\tlearn: 0.1608127\ttotal: 10.4s\tremaining: 13.2s\n",
            "44:\tlearn: 0.1596473\ttotal: 10.6s\tremaining: 13s\n",
            "45:\tlearn: 0.1586442\ttotal: 10.9s\tremaining: 12.8s\n",
            "46:\tlearn: 0.1573454\ttotal: 11.1s\tremaining: 12.5s\n",
            "47:\tlearn: 0.1563648\ttotal: 11.3s\tremaining: 12.3s\n",
            "48:\tlearn: 0.1554613\ttotal: 11.6s\tremaining: 12.1s\n",
            "49:\tlearn: 0.1546267\ttotal: 11.8s\tremaining: 11.8s\n",
            "50:\tlearn: 0.1538981\ttotal: 12.1s\tremaining: 11.6s\n",
            "51:\tlearn: 0.1528429\ttotal: 12.3s\tremaining: 11.3s\n",
            "52:\tlearn: 0.1511932\ttotal: 12.5s\tremaining: 11.1s\n",
            "53:\tlearn: 0.1502829\ttotal: 12.8s\tremaining: 10.9s\n",
            "54:\tlearn: 0.1492270\ttotal: 13s\tremaining: 10.6s\n",
            "55:\tlearn: 0.1485702\ttotal: 13.2s\tremaining: 10.4s\n",
            "56:\tlearn: 0.1478203\ttotal: 13.4s\tremaining: 10.1s\n",
            "57:\tlearn: 0.1471904\ttotal: 13.7s\tremaining: 9.91s\n",
            "58:\tlearn: 0.1464985\ttotal: 13.9s\tremaining: 9.68s\n",
            "59:\tlearn: 0.1452380\ttotal: 14.2s\tremaining: 9.45s\n",
            "60:\tlearn: 0.1446528\ttotal: 14.4s\tremaining: 9.24s\n",
            "61:\tlearn: 0.1436662\ttotal: 14.7s\tremaining: 9s\n",
            "62:\tlearn: 0.1430924\ttotal: 14.9s\tremaining: 8.76s\n",
            "63:\tlearn: 0.1418530\ttotal: 15.2s\tremaining: 8.52s\n",
            "64:\tlearn: 0.1412202\ttotal: 15.4s\tremaining: 8.28s\n",
            "65:\tlearn: 0.1406543\ttotal: 15.6s\tremaining: 8.05s\n",
            "66:\tlearn: 0.1390161\ttotal: 15.9s\tremaining: 7.81s\n",
            "67:\tlearn: 0.1378326\ttotal: 16.1s\tremaining: 7.57s\n",
            "68:\tlearn: 0.1373249\ttotal: 16.3s\tremaining: 7.33s\n",
            "69:\tlearn: 0.1363460\ttotal: 16.6s\tremaining: 7.09s\n",
            "70:\tlearn: 0.1358236\ttotal: 16.8s\tremaining: 6.86s\n",
            "71:\tlearn: 0.1348426\ttotal: 17s\tremaining: 6.62s\n",
            "72:\tlearn: 0.1333497\ttotal: 17.2s\tremaining: 6.38s\n",
            "73:\tlearn: 0.1322330\ttotal: 17.5s\tremaining: 6.14s\n",
            "74:\tlearn: 0.1317631\ttotal: 17.7s\tremaining: 5.91s\n",
            "75:\tlearn: 0.1305906\ttotal: 18s\tremaining: 5.67s\n",
            "76:\tlearn: 0.1299148\ttotal: 18.2s\tremaining: 5.44s\n",
            "77:\tlearn: 0.1292021\ttotal: 18.4s\tremaining: 5.2s\n",
            "78:\tlearn: 0.1281329\ttotal: 18.7s\tremaining: 4.96s\n",
            "79:\tlearn: 0.1269179\ttotal: 18.9s\tremaining: 4.73s\n",
            "80:\tlearn: 0.1264799\ttotal: 19.1s\tremaining: 4.49s\n",
            "81:\tlearn: 0.1260189\ttotal: 19.4s\tremaining: 4.25s\n",
            "82:\tlearn: 0.1255257\ttotal: 19.6s\tremaining: 4.01s\n",
            "83:\tlearn: 0.1248671\ttotal: 19.8s\tremaining: 3.77s\n",
            "84:\tlearn: 0.1236771\ttotal: 20.1s\tremaining: 3.54s\n",
            "85:\tlearn: 0.1230945\ttotal: 20.3s\tremaining: 3.3s\n",
            "86:\tlearn: 0.1226771\ttotal: 20.5s\tremaining: 3.06s\n",
            "87:\tlearn: 0.1222600\ttotal: 20.7s\tremaining: 2.83s\n",
            "88:\tlearn: 0.1213781\ttotal: 21s\tremaining: 2.59s\n",
            "89:\tlearn: 0.1210210\ttotal: 21.2s\tremaining: 2.35s\n",
            "90:\tlearn: 0.1206738\ttotal: 21.4s\tremaining: 2.12s\n",
            "91:\tlearn: 0.1202383\ttotal: 21.6s\tremaining: 1.88s\n",
            "92:\tlearn: 0.1189316\ttotal: 21.9s\tremaining: 1.65s\n",
            "93:\tlearn: 0.1184227\ttotal: 22.1s\tremaining: 1.41s\n",
            "94:\tlearn: 0.1180556\ttotal: 22.3s\tremaining: 1.17s\n",
            "95:\tlearn: 0.1172948\ttotal: 22.5s\tremaining: 939ms\n",
            "96:\tlearn: 0.1169425\ttotal: 22.7s\tremaining: 704ms\n",
            "97:\tlearn: 0.1165951\ttotal: 23s\tremaining: 469ms\n",
            "98:\tlearn: 0.1162306\ttotal: 23.2s\tremaining: 234ms\n",
            "99:\tlearn: 0.1158875\ttotal: 23.4s\tremaining: 0us\n",
            "[CV 1/3; 3/9] END .........iterations=100, learning_rate=0.2; total time=  25.6s\n",
            "[CV 2/3; 3/9] START iterations=100, learning_rate=0.2...........................\n",
            "0:\tlearn: 0.5231330\ttotal: 322ms\tremaining: 31.9s\n",
            "1:\tlearn: 0.4179903\ttotal: 553ms\tremaining: 27.1s\n",
            "2:\tlearn: 0.3452815\ttotal: 784ms\tremaining: 25.3s\n",
            "3:\tlearn: 0.3023549\ttotal: 1.01s\tremaining: 24.3s\n",
            "4:\tlearn: 0.2758922\ttotal: 1.25s\tremaining: 23.7s\n",
            "5:\tlearn: 0.2585611\ttotal: 1.49s\tremaining: 23.3s\n",
            "6:\tlearn: 0.2443122\ttotal: 1.73s\tremaining: 23s\n",
            "7:\tlearn: 0.2339146\ttotal: 1.96s\tremaining: 22.5s\n",
            "8:\tlearn: 0.2253028\ttotal: 2.19s\tremaining: 22.1s\n",
            "9:\tlearn: 0.2195628\ttotal: 2.42s\tremaining: 21.8s\n",
            "10:\tlearn: 0.2146602\ttotal: 2.65s\tremaining: 21.4s\n",
            "11:\tlearn: 0.2102645\ttotal: 2.88s\tremaining: 21.1s\n",
            "12:\tlearn: 0.2068188\ttotal: 3.12s\tremaining: 20.9s\n",
            "13:\tlearn: 0.2028272\ttotal: 3.35s\tremaining: 20.6s\n",
            "14:\tlearn: 0.1988719\ttotal: 3.58s\tremaining: 20.3s\n",
            "15:\tlearn: 0.1966222\ttotal: 3.81s\tremaining: 20s\n",
            "16:\tlearn: 0.1937588\ttotal: 4.05s\tremaining: 19.8s\n",
            "17:\tlearn: 0.1910982\ttotal: 4.29s\tremaining: 19.6s\n",
            "18:\tlearn: 0.1887046\ttotal: 4.53s\tremaining: 19.3s\n",
            "19:\tlearn: 0.1866321\ttotal: 4.77s\tremaining: 19.1s\n",
            "20:\tlearn: 0.1847001\ttotal: 5s\tremaining: 18.8s\n",
            "21:\tlearn: 0.1835807\ttotal: 5.25s\tremaining: 18.6s\n",
            "22:\tlearn: 0.1822114\ttotal: 5.48s\tremaining: 18.4s\n",
            "23:\tlearn: 0.1805440\ttotal: 5.72s\tremaining: 18.1s\n",
            "24:\tlearn: 0.1782676\ttotal: 5.94s\tremaining: 17.8s\n",
            "25:\tlearn: 0.1764501\ttotal: 6.18s\tremaining: 17.6s\n",
            "26:\tlearn: 0.1747424\ttotal: 6.42s\tremaining: 17.4s\n",
            "27:\tlearn: 0.1731816\ttotal: 6.65s\tremaining: 17.1s\n",
            "28:\tlearn: 0.1710979\ttotal: 6.88s\tremaining: 16.8s\n",
            "29:\tlearn: 0.1698085\ttotal: 7.11s\tremaining: 16.6s\n",
            "30:\tlearn: 0.1688717\ttotal: 7.34s\tremaining: 16.3s\n",
            "31:\tlearn: 0.1676002\ttotal: 7.57s\tremaining: 16.1s\n",
            "32:\tlearn: 0.1663018\ttotal: 7.8s\tremaining: 15.8s\n",
            "33:\tlearn: 0.1653262\ttotal: 8.03s\tremaining: 15.6s\n",
            "34:\tlearn: 0.1636047\ttotal: 8.26s\tremaining: 15.3s\n",
            "35:\tlearn: 0.1628514\ttotal: 8.55s\tremaining: 15.2s\n",
            "36:\tlearn: 0.1619889\ttotal: 8.82s\tremaining: 15s\n",
            "37:\tlearn: 0.1611566\ttotal: 9.06s\tremaining: 14.8s\n",
            "38:\tlearn: 0.1597053\ttotal: 9.29s\tremaining: 14.5s\n",
            "39:\tlearn: 0.1589241\ttotal: 9.52s\tremaining: 14.3s\n",
            "40:\tlearn: 0.1576267\ttotal: 9.76s\tremaining: 14s\n",
            "41:\tlearn: 0.1564431\ttotal: 9.99s\tremaining: 13.8s\n",
            "42:\tlearn: 0.1556830\ttotal: 10.2s\tremaining: 13.6s\n",
            "43:\tlearn: 0.1550711\ttotal: 10.5s\tremaining: 13.3s\n",
            "44:\tlearn: 0.1542613\ttotal: 10.7s\tremaining: 13s\n",
            "45:\tlearn: 0.1522899\ttotal: 10.9s\tremaining: 12.8s\n",
            "46:\tlearn: 0.1515241\ttotal: 11.1s\tremaining: 12.6s\n",
            "47:\tlearn: 0.1507570\ttotal: 11.4s\tremaining: 12.3s\n",
            "48:\tlearn: 0.1497577\ttotal: 11.6s\tremaining: 12.1s\n",
            "49:\tlearn: 0.1491163\ttotal: 11.8s\tremaining: 11.8s\n",
            "50:\tlearn: 0.1477660\ttotal: 12.1s\tremaining: 11.6s\n",
            "51:\tlearn: 0.1470885\ttotal: 12.3s\tremaining: 11.3s\n",
            "52:\tlearn: 0.1447965\ttotal: 12.5s\tremaining: 11.1s\n",
            "53:\tlearn: 0.1439899\ttotal: 12.7s\tremaining: 10.9s\n",
            "54:\tlearn: 0.1432067\ttotal: 13s\tremaining: 10.6s\n",
            "55:\tlearn: 0.1424963\ttotal: 13.2s\tremaining: 10.4s\n",
            "56:\tlearn: 0.1412414\ttotal: 13.5s\tremaining: 10.2s\n",
            "57:\tlearn: 0.1405747\ttotal: 13.7s\tremaining: 9.94s\n",
            "58:\tlearn: 0.1400558\ttotal: 14s\tremaining: 9.7s\n",
            "59:\tlearn: 0.1394226\ttotal: 14.2s\tremaining: 9.47s\n",
            "60:\tlearn: 0.1383217\ttotal: 14.5s\tremaining: 9.24s\n",
            "61:\tlearn: 0.1376514\ttotal: 14.7s\tremaining: 9s\n",
            "62:\tlearn: 0.1363335\ttotal: 14.9s\tremaining: 8.76s\n",
            "63:\tlearn: 0.1358301\ttotal: 15.2s\tremaining: 8.53s\n",
            "64:\tlearn: 0.1347762\ttotal: 15.4s\tremaining: 8.29s\n",
            "65:\tlearn: 0.1336211\ttotal: 15.6s\tremaining: 8.05s\n",
            "66:\tlearn: 0.1330144\ttotal: 15.9s\tremaining: 7.81s\n",
            "67:\tlearn: 0.1318793\ttotal: 16.1s\tremaining: 7.58s\n",
            "68:\tlearn: 0.1313197\ttotal: 16.3s\tremaining: 7.34s\n",
            "69:\tlearn: 0.1308027\ttotal: 16.6s\tremaining: 7.1s\n",
            "70:\tlearn: 0.1292162\ttotal: 16.8s\tremaining: 6.87s\n",
            "71:\tlearn: 0.1281518\ttotal: 17s\tremaining: 6.63s\n",
            "72:\tlearn: 0.1268675\ttotal: 17.3s\tremaining: 6.39s\n",
            "73:\tlearn: 0.1261761\ttotal: 17.5s\tremaining: 6.16s\n",
            "74:\tlearn: 0.1257337\ttotal: 17.8s\tremaining: 5.92s\n",
            "75:\tlearn: 0.1252703\ttotal: 18s\tremaining: 5.68s\n",
            "76:\tlearn: 0.1243144\ttotal: 18.2s\tremaining: 5.45s\n",
            "77:\tlearn: 0.1237822\ttotal: 18.6s\tremaining: 5.23s\n",
            "78:\tlearn: 0.1233541\ttotal: 18.8s\tremaining: 5s\n",
            "79:\tlearn: 0.1225607\ttotal: 19s\tremaining: 4.76s\n",
            "80:\tlearn: 0.1219834\ttotal: 19.3s\tremaining: 4.52s\n",
            "81:\tlearn: 0.1213055\ttotal: 19.5s\tremaining: 4.28s\n",
            "82:\tlearn: 0.1209265\ttotal: 19.8s\tremaining: 4.05s\n",
            "83:\tlearn: 0.1205935\ttotal: 20s\tremaining: 3.81s\n",
            "84:\tlearn: 0.1201806\ttotal: 20.2s\tremaining: 3.57s\n",
            "85:\tlearn: 0.1196577\ttotal: 20.5s\tremaining: 3.33s\n",
            "86:\tlearn: 0.1184895\ttotal: 20.7s\tremaining: 3.1s\n",
            "87:\tlearn: 0.1180716\ttotal: 20.9s\tremaining: 2.85s\n",
            "88:\tlearn: 0.1177154\ttotal: 21.2s\tremaining: 2.62s\n",
            "89:\tlearn: 0.1173389\ttotal: 21.4s\tremaining: 2.38s\n",
            "90:\tlearn: 0.1169848\ttotal: 21.6s\tremaining: 2.14s\n",
            "91:\tlearn: 0.1162778\ttotal: 21.9s\tremaining: 1.9s\n",
            "92:\tlearn: 0.1159240\ttotal: 22.1s\tremaining: 1.67s\n",
            "93:\tlearn: 0.1155681\ttotal: 22.4s\tremaining: 1.43s\n",
            "94:\tlearn: 0.1151109\ttotal: 22.6s\tremaining: 1.19s\n",
            "95:\tlearn: 0.1147565\ttotal: 22.8s\tremaining: 952ms\n",
            "96:\tlearn: 0.1144013\ttotal: 23.1s\tremaining: 714ms\n",
            "97:\tlearn: 0.1133734\ttotal: 23.3s\tremaining: 476ms\n",
            "98:\tlearn: 0.1128271\ttotal: 23.6s\tremaining: 238ms\n",
            "99:\tlearn: 0.1124736\ttotal: 23.8s\tremaining: 0us\n",
            "[CV 2/3; 3/9] END .........iterations=100, learning_rate=0.2; total time=  25.7s\n",
            "[CV 3/3; 3/9] START iterations=100, learning_rate=0.2...........................\n",
            "0:\tlearn: 0.5208205\ttotal: 332ms\tremaining: 32.9s\n",
            "1:\tlearn: 0.4174683\ttotal: 565ms\tremaining: 27.7s\n",
            "2:\tlearn: 0.3576598\ttotal: 806ms\tremaining: 26.1s\n",
            "3:\tlearn: 0.3212685\ttotal: 1.06s\tremaining: 25.4s\n",
            "4:\tlearn: 0.2892437\ttotal: 1.29s\tremaining: 24.6s\n",
            "5:\tlearn: 0.2694871\ttotal: 1.53s\tremaining: 23.9s\n",
            "6:\tlearn: 0.2552466\ttotal: 1.76s\tremaining: 23.4s\n",
            "7:\tlearn: 0.2438512\ttotal: 2s\tremaining: 23s\n",
            "8:\tlearn: 0.2366291\ttotal: 2.25s\tremaining: 22.7s\n",
            "9:\tlearn: 0.2295391\ttotal: 2.57s\tremaining: 23.1s\n",
            "10:\tlearn: 0.2232122\ttotal: 2.82s\tremaining: 22.8s\n",
            "11:\tlearn: 0.2177770\ttotal: 3.07s\tremaining: 22.5s\n",
            "12:\tlearn: 0.2140275\ttotal: 3.32s\tremaining: 22.2s\n",
            "13:\tlearn: 0.2085761\ttotal: 3.58s\tremaining: 22s\n",
            "14:\tlearn: 0.2052334\ttotal: 3.84s\tremaining: 21.8s\n",
            "15:\tlearn: 0.2011992\ttotal: 4.1s\tremaining: 21.5s\n",
            "16:\tlearn: 0.1980590\ttotal: 4.34s\tremaining: 21.2s\n",
            "17:\tlearn: 0.1946358\ttotal: 4.58s\tremaining: 20.8s\n",
            "18:\tlearn: 0.1921707\ttotal: 4.81s\tremaining: 20.5s\n",
            "19:\tlearn: 0.1892429\ttotal: 5.05s\tremaining: 20.2s\n",
            "20:\tlearn: 0.1862202\ttotal: 5.29s\tremaining: 19.9s\n",
            "21:\tlearn: 0.1843001\ttotal: 5.55s\tremaining: 19.7s\n",
            "22:\tlearn: 0.1830369\ttotal: 5.8s\tremaining: 19.4s\n",
            "23:\tlearn: 0.1816889\ttotal: 6.05s\tremaining: 19.2s\n",
            "24:\tlearn: 0.1789310\ttotal: 6.3s\tremaining: 18.9s\n",
            "25:\tlearn: 0.1767700\ttotal: 6.55s\tremaining: 18.6s\n",
            "26:\tlearn: 0.1749728\ttotal: 6.79s\tremaining: 18.3s\n",
            "27:\tlearn: 0.1742196\ttotal: 7.02s\tremaining: 18.1s\n",
            "28:\tlearn: 0.1726697\ttotal: 7.25s\tremaining: 17.8s\n",
            "29:\tlearn: 0.1715645\ttotal: 7.48s\tremaining: 17.4s\n",
            "30:\tlearn: 0.1700603\ttotal: 7.71s\tremaining: 17.2s\n",
            "31:\tlearn: 0.1686023\ttotal: 7.94s\tremaining: 16.9s\n",
            "32:\tlearn: 0.1669448\ttotal: 8.18s\tremaining: 16.6s\n",
            "33:\tlearn: 0.1659017\ttotal: 8.41s\tremaining: 16.3s\n",
            "34:\tlearn: 0.1647425\ttotal: 8.64s\tremaining: 16s\n",
            "35:\tlearn: 0.1638724\ttotal: 8.86s\tremaining: 15.8s\n",
            "36:\tlearn: 0.1625548\ttotal: 9.1s\tremaining: 15.5s\n",
            "37:\tlearn: 0.1613372\ttotal: 9.33s\tremaining: 15.2s\n",
            "38:\tlearn: 0.1606071\ttotal: 9.56s\tremaining: 14.9s\n",
            "39:\tlearn: 0.1596361\ttotal: 9.78s\tremaining: 14.7s\n",
            "40:\tlearn: 0.1585707\ttotal: 10s\tremaining: 14.4s\n",
            "41:\tlearn: 0.1571228\ttotal: 10.3s\tremaining: 14.2s\n",
            "42:\tlearn: 0.1563193\ttotal: 10.5s\tremaining: 13.9s\n",
            "43:\tlearn: 0.1556986\ttotal: 10.7s\tremaining: 13.6s\n",
            "44:\tlearn: 0.1543019\ttotal: 10.9s\tremaining: 13.4s\n",
            "45:\tlearn: 0.1529131\ttotal: 11.2s\tremaining: 13.1s\n",
            "46:\tlearn: 0.1519855\ttotal: 11.4s\tremaining: 12.9s\n",
            "47:\tlearn: 0.1512128\ttotal: 11.6s\tremaining: 12.6s\n",
            "48:\tlearn: 0.1501827\ttotal: 11.9s\tremaining: 12.4s\n",
            "49:\tlearn: 0.1493460\ttotal: 12.1s\tremaining: 12.1s\n",
            "50:\tlearn: 0.1481143\ttotal: 12.4s\tremaining: 11.9s\n",
            "51:\tlearn: 0.1474293\ttotal: 12.6s\tremaining: 11.7s\n",
            "52:\tlearn: 0.1461668\ttotal: 12.9s\tremaining: 11.4s\n",
            "53:\tlearn: 0.1447471\ttotal: 13.1s\tremaining: 11.2s\n",
            "54:\tlearn: 0.1439531\ttotal: 13.3s\tremaining: 10.9s\n",
            "55:\tlearn: 0.1432568\ttotal: 13.6s\tremaining: 10.7s\n",
            "56:\tlearn: 0.1424593\ttotal: 13.8s\tremaining: 10.4s\n",
            "57:\tlearn: 0.1417748\ttotal: 14.1s\tremaining: 10.2s\n",
            "58:\tlearn: 0.1404162\ttotal: 14.3s\tremaining: 9.94s\n",
            "59:\tlearn: 0.1398394\ttotal: 14.5s\tremaining: 9.69s\n",
            "60:\tlearn: 0.1388064\ttotal: 14.8s\tremaining: 9.44s\n",
            "61:\tlearn: 0.1375831\ttotal: 15s\tremaining: 9.19s\n",
            "62:\tlearn: 0.1370411\ttotal: 15.2s\tremaining: 8.94s\n",
            "63:\tlearn: 0.1365615\ttotal: 15.5s\tremaining: 8.7s\n",
            "64:\tlearn: 0.1359165\ttotal: 15.7s\tremaining: 8.45s\n",
            "65:\tlearn: 0.1350440\ttotal: 15.9s\tremaining: 8.21s\n",
            "66:\tlearn: 0.1337182\ttotal: 16.2s\tremaining: 7.96s\n",
            "67:\tlearn: 0.1332010\ttotal: 16.4s\tremaining: 7.72s\n",
            "68:\tlearn: 0.1325826\ttotal: 16.6s\tremaining: 7.47s\n",
            "69:\tlearn: 0.1320416\ttotal: 16.9s\tremaining: 7.23s\n",
            "70:\tlearn: 0.1315681\ttotal: 17.1s\tremaining: 6.99s\n",
            "71:\tlearn: 0.1303972\ttotal: 17.3s\tremaining: 6.74s\n",
            "72:\tlearn: 0.1299335\ttotal: 17.6s\tremaining: 6.5s\n",
            "73:\tlearn: 0.1291313\ttotal: 17.8s\tremaining: 6.26s\n",
            "74:\tlearn: 0.1276339\ttotal: 18.1s\tremaining: 6.02s\n",
            "75:\tlearn: 0.1272371\ttotal: 18.3s\tremaining: 5.78s\n",
            "76:\tlearn: 0.1261998\ttotal: 18.5s\tremaining: 5.53s\n",
            "77:\tlearn: 0.1254497\ttotal: 18.8s\tremaining: 5.29s\n",
            "78:\tlearn: 0.1249163\ttotal: 19s\tremaining: 5.05s\n",
            "79:\tlearn: 0.1237986\ttotal: 19.2s\tremaining: 4.81s\n",
            "80:\tlearn: 0.1233764\ttotal: 19.5s\tremaining: 4.57s\n",
            "81:\tlearn: 0.1223486\ttotal: 19.7s\tremaining: 4.33s\n",
            "82:\tlearn: 0.1213413\ttotal: 20s\tremaining: 4.09s\n",
            "83:\tlearn: 0.1207306\ttotal: 20.2s\tremaining: 3.85s\n",
            "84:\tlearn: 0.1201542\ttotal: 20.4s\tremaining: 3.61s\n",
            "85:\tlearn: 0.1197526\ttotal: 20.7s\tremaining: 3.37s\n",
            "86:\tlearn: 0.1193773\ttotal: 20.9s\tremaining: 3.12s\n",
            "87:\tlearn: 0.1190079\ttotal: 21.1s\tremaining: 2.88s\n",
            "88:\tlearn: 0.1184350\ttotal: 21.4s\tremaining: 2.64s\n",
            "89:\tlearn: 0.1175400\ttotal: 21.6s\tremaining: 2.4s\n",
            "90:\tlearn: 0.1171376\ttotal: 21.8s\tremaining: 2.16s\n",
            "91:\tlearn: 0.1167799\ttotal: 22.1s\tremaining: 1.92s\n",
            "92:\tlearn: 0.1161405\ttotal: 22.4s\tremaining: 1.68s\n",
            "93:\tlearn: 0.1156174\ttotal: 22.6s\tremaining: 1.45s\n",
            "94:\tlearn: 0.1152633\ttotal: 22.9s\tremaining: 1.2s\n",
            "95:\tlearn: 0.1149245\ttotal: 23.1s\tremaining: 963ms\n",
            "96:\tlearn: 0.1145811\ttotal: 23.3s\tremaining: 722ms\n",
            "97:\tlearn: 0.1142460\ttotal: 23.6s\tremaining: 481ms\n",
            "98:\tlearn: 0.1139000\ttotal: 23.8s\tremaining: 240ms\n",
            "99:\tlearn: 0.1135717\ttotal: 24s\tremaining: 0us\n",
            "[CV 3/3; 3/9] END .........iterations=100, learning_rate=0.2; total time=  26.1s\n",
            "[CV 1/3; 4/9] START iterations=200, learning_rate=0.1...........................\n",
            "0:\tlearn: 0.5999579\ttotal: 333ms\tremaining: 1m 6s\n",
            "1:\tlearn: 0.5197036\ttotal: 556ms\tremaining: 55.1s\n",
            "2:\tlearn: 0.4601355\ttotal: 791ms\tremaining: 51.9s\n",
            "3:\tlearn: 0.4151490\ttotal: 1.02s\tremaining: 50.2s\n",
            "4:\tlearn: 0.3812665\ttotal: 1.25s\tremaining: 48.6s\n",
            "5:\tlearn: 0.3550014\ttotal: 1.47s\tremaining: 47.4s\n",
            "6:\tlearn: 0.3330446\ttotal: 1.69s\tremaining: 46.6s\n",
            "7:\tlearn: 0.3140495\ttotal: 1.92s\tremaining: 46.1s\n",
            "8:\tlearn: 0.2993969\ttotal: 2.15s\tremaining: 45.7s\n",
            "9:\tlearn: 0.2889785\ttotal: 2.38s\tremaining: 45.2s\n",
            "10:\tlearn: 0.2793645\ttotal: 2.6s\tremaining: 44.7s\n",
            "11:\tlearn: 0.2708005\ttotal: 2.83s\tremaining: 44.4s\n",
            "12:\tlearn: 0.2625543\ttotal: 3.06s\tremaining: 44s\n",
            "13:\tlearn: 0.2561222\ttotal: 3.29s\tremaining: 43.7s\n",
            "14:\tlearn: 0.2500672\ttotal: 3.51s\tremaining: 43.3s\n",
            "15:\tlearn: 0.2452056\ttotal: 3.74s\tremaining: 43s\n",
            "16:\tlearn: 0.2406685\ttotal: 3.97s\tremaining: 42.7s\n",
            "17:\tlearn: 0.2365905\ttotal: 4.2s\tremaining: 42.5s\n",
            "18:\tlearn: 0.2329319\ttotal: 4.43s\tremaining: 42.2s\n",
            "19:\tlearn: 0.2297923\ttotal: 4.65s\tremaining: 41.8s\n",
            "20:\tlearn: 0.2265589\ttotal: 4.88s\tremaining: 41.6s\n",
            "21:\tlearn: 0.2241640\ttotal: 5.1s\tremaining: 41.3s\n",
            "22:\tlearn: 0.2216949\ttotal: 5.33s\tremaining: 41s\n",
            "23:\tlearn: 0.2194774\ttotal: 5.55s\tremaining: 40.7s\n",
            "24:\tlearn: 0.2175834\ttotal: 5.78s\tremaining: 40.5s\n",
            "25:\tlearn: 0.2155318\ttotal: 6.01s\tremaining: 40.2s\n",
            "26:\tlearn: 0.2136304\ttotal: 6.26s\tremaining: 40.1s\n",
            "27:\tlearn: 0.2118198\ttotal: 6.55s\tremaining: 40.2s\n",
            "28:\tlearn: 0.2101113\ttotal: 6.8s\tremaining: 40.1s\n",
            "29:\tlearn: 0.2081130\ttotal: 7.03s\tremaining: 39.8s\n",
            "30:\tlearn: 0.2059079\ttotal: 7.26s\tremaining: 39.6s\n",
            "31:\tlearn: 0.2039736\ttotal: 7.5s\tremaining: 39.4s\n",
            "32:\tlearn: 0.2028452\ttotal: 7.74s\tremaining: 39.2s\n",
            "33:\tlearn: 0.2015902\ttotal: 7.99s\tremaining: 39s\n",
            "34:\tlearn: 0.2006289\ttotal: 8.23s\tremaining: 38.8s\n",
            "35:\tlearn: 0.1994494\ttotal: 8.49s\tremaining: 38.7s\n",
            "36:\tlearn: 0.1983081\ttotal: 8.73s\tremaining: 38.4s\n",
            "37:\tlearn: 0.1977585\ttotal: 8.96s\tremaining: 38.2s\n",
            "38:\tlearn: 0.1965935\ttotal: 9.19s\tremaining: 37.9s\n",
            "39:\tlearn: 0.1955188\ttotal: 9.41s\tremaining: 37.6s\n",
            "40:\tlearn: 0.1943437\ttotal: 9.65s\tremaining: 37.4s\n",
            "41:\tlearn: 0.1934747\ttotal: 9.88s\tremaining: 37.2s\n",
            "42:\tlearn: 0.1928068\ttotal: 10.1s\tremaining: 37s\n",
            "43:\tlearn: 0.1913512\ttotal: 10.4s\tremaining: 36.7s\n",
            "44:\tlearn: 0.1906964\ttotal: 10.6s\tremaining: 36.4s\n",
            "45:\tlearn: 0.1899068\ttotal: 10.8s\tremaining: 36.2s\n",
            "46:\tlearn: 0.1892075\ttotal: 11s\tremaining: 35.9s\n",
            "47:\tlearn: 0.1884474\ttotal: 11.3s\tremaining: 35.7s\n",
            "48:\tlearn: 0.1876613\ttotal: 11.5s\tremaining: 35.4s\n",
            "49:\tlearn: 0.1869650\ttotal: 11.7s\tremaining: 35.2s\n",
            "50:\tlearn: 0.1862575\ttotal: 12s\tremaining: 35.1s\n",
            "51:\tlearn: 0.1857888\ttotal: 12.3s\tremaining: 34.9s\n",
            "52:\tlearn: 0.1851056\ttotal: 12.5s\tremaining: 34.7s\n",
            "53:\tlearn: 0.1842673\ttotal: 12.7s\tremaining: 34.4s\n",
            "54:\tlearn: 0.1833659\ttotal: 13s\tremaining: 34.2s\n",
            "55:\tlearn: 0.1827255\ttotal: 13.2s\tremaining: 34s\n",
            "56:\tlearn: 0.1820700\ttotal: 13.5s\tremaining: 33.8s\n",
            "57:\tlearn: 0.1814598\ttotal: 13.7s\tremaining: 33.6s\n",
            "58:\tlearn: 0.1809473\ttotal: 14s\tremaining: 33.4s\n",
            "59:\tlearn: 0.1805124\ttotal: 14.2s\tremaining: 33.2s\n",
            "60:\tlearn: 0.1799021\ttotal: 14.5s\tremaining: 32.9s\n",
            "61:\tlearn: 0.1795088\ttotal: 14.7s\tremaining: 32.7s\n",
            "62:\tlearn: 0.1786002\ttotal: 14.9s\tremaining: 32.4s\n",
            "63:\tlearn: 0.1778165\ttotal: 15.2s\tremaining: 32.2s\n",
            "64:\tlearn: 0.1771895\ttotal: 15.4s\tremaining: 32s\n",
            "65:\tlearn: 0.1762349\ttotal: 15.7s\tremaining: 31.8s\n",
            "66:\tlearn: 0.1756058\ttotal: 15.9s\tremaining: 31.5s\n",
            "67:\tlearn: 0.1751240\ttotal: 16.1s\tremaining: 31.3s\n",
            "68:\tlearn: 0.1742927\ttotal: 16.4s\tremaining: 31.2s\n",
            "69:\tlearn: 0.1737129\ttotal: 16.7s\tremaining: 31s\n",
            "70:\tlearn: 0.1729524\ttotal: 16.9s\tremaining: 30.8s\n",
            "71:\tlearn: 0.1724039\ttotal: 17.2s\tremaining: 30.5s\n",
            "72:\tlearn: 0.1719638\ttotal: 17.4s\tremaining: 30.3s\n",
            "73:\tlearn: 0.1714511\ttotal: 17.6s\tremaining: 30.1s\n",
            "74:\tlearn: 0.1709506\ttotal: 17.9s\tremaining: 29.8s\n",
            "75:\tlearn: 0.1705391\ttotal: 18.1s\tremaining: 29.6s\n",
            "76:\tlearn: 0.1700638\ttotal: 18.4s\tremaining: 29.3s\n",
            "77:\tlearn: 0.1695993\ttotal: 18.6s\tremaining: 29.2s\n",
            "78:\tlearn: 0.1690667\ttotal: 18.9s\tremaining: 28.9s\n",
            "79:\tlearn: 0.1684282\ttotal: 19.1s\tremaining: 28.7s\n",
            "80:\tlearn: 0.1676927\ttotal: 19.4s\tremaining: 28.5s\n",
            "81:\tlearn: 0.1671790\ttotal: 19.6s\tremaining: 28.2s\n",
            "82:\tlearn: 0.1665605\ttotal: 19.8s\tremaining: 27.9s\n",
            "83:\tlearn: 0.1661785\ttotal: 20.1s\tremaining: 27.8s\n",
            "84:\tlearn: 0.1657729\ttotal: 20.3s\tremaining: 27.5s\n",
            "85:\tlearn: 0.1652277\ttotal: 20.6s\tremaining: 27.3s\n",
            "86:\tlearn: 0.1646593\ttotal: 20.8s\tremaining: 27s\n",
            "87:\tlearn: 0.1642469\ttotal: 21s\tremaining: 26.8s\n",
            "88:\tlearn: 0.1635920\ttotal: 21.3s\tremaining: 26.5s\n",
            "89:\tlearn: 0.1631557\ttotal: 21.5s\tremaining: 26.3s\n",
            "90:\tlearn: 0.1625180\ttotal: 21.8s\tremaining: 26.1s\n",
            "91:\tlearn: 0.1621600\ttotal: 22s\tremaining: 25.8s\n",
            "92:\tlearn: 0.1617628\ttotal: 22.2s\tremaining: 25.6s\n",
            "93:\tlearn: 0.1613438\ttotal: 22.5s\tremaining: 25.4s\n",
            "94:\tlearn: 0.1608971\ttotal: 22.7s\tremaining: 25.1s\n",
            "95:\tlearn: 0.1604830\ttotal: 23s\tremaining: 24.9s\n",
            "96:\tlearn: 0.1601151\ttotal: 23.2s\tremaining: 24.6s\n",
            "97:\tlearn: 0.1595837\ttotal: 23.4s\tremaining: 24.4s\n",
            "98:\tlearn: 0.1588216\ttotal: 23.7s\tremaining: 24.2s\n",
            "99:\tlearn: 0.1584484\ttotal: 23.9s\tremaining: 23.9s\n",
            "100:\tlearn: 0.1575617\ttotal: 24.1s\tremaining: 23.7s\n",
            "101:\tlearn: 0.1572278\ttotal: 24.4s\tremaining: 23.4s\n",
            "102:\tlearn: 0.1567224\ttotal: 24.6s\tremaining: 23.2s\n",
            "103:\tlearn: 0.1563092\ttotal: 24.9s\tremaining: 22.9s\n",
            "104:\tlearn: 0.1559320\ttotal: 25.1s\tremaining: 22.7s\n",
            "105:\tlearn: 0.1553817\ttotal: 25.3s\tremaining: 22.5s\n",
            "106:\tlearn: 0.1546024\ttotal: 25.6s\tremaining: 22.2s\n",
            "107:\tlearn: 0.1542442\ttotal: 25.8s\tremaining: 22s\n",
            "108:\tlearn: 0.1537828\ttotal: 26.1s\tremaining: 21.8s\n",
            "109:\tlearn: 0.1534579\ttotal: 26.4s\tremaining: 21.6s\n",
            "110:\tlearn: 0.1527430\ttotal: 26.6s\tremaining: 21.4s\n",
            "111:\tlearn: 0.1521003\ttotal: 26.9s\tremaining: 21.1s\n",
            "112:\tlearn: 0.1513121\ttotal: 27.1s\tremaining: 20.9s\n",
            "113:\tlearn: 0.1506279\ttotal: 27.4s\tremaining: 20.6s\n",
            "114:\tlearn: 0.1499040\ttotal: 27.6s\tremaining: 20.4s\n",
            "115:\tlearn: 0.1494206\ttotal: 27.9s\tremaining: 20.2s\n",
            "116:\tlearn: 0.1485756\ttotal: 28.1s\tremaining: 19.9s\n",
            "117:\tlearn: 0.1482686\ttotal: 28.4s\tremaining: 19.7s\n",
            "118:\tlearn: 0.1479604\ttotal: 28.6s\tremaining: 19.5s\n",
            "119:\tlearn: 0.1472845\ttotal: 28.8s\tremaining: 19.2s\n",
            "120:\tlearn: 0.1466230\ttotal: 29.1s\tremaining: 19s\n",
            "121:\tlearn: 0.1463123\ttotal: 29.3s\tremaining: 18.8s\n",
            "122:\tlearn: 0.1455963\ttotal: 29.6s\tremaining: 18.5s\n",
            "123:\tlearn: 0.1450406\ttotal: 29.8s\tremaining: 18.3s\n",
            "124:\tlearn: 0.1444585\ttotal: 30.1s\tremaining: 18.1s\n",
            "125:\tlearn: 0.1441951\ttotal: 30.3s\tremaining: 17.8s\n",
            "126:\tlearn: 0.1438765\ttotal: 30.6s\tremaining: 17.6s\n",
            "127:\tlearn: 0.1434279\ttotal: 30.8s\tremaining: 17.3s\n",
            "128:\tlearn: 0.1431497\ttotal: 31.1s\tremaining: 17.1s\n",
            "129:\tlearn: 0.1428463\ttotal: 31.3s\tremaining: 16.9s\n",
            "130:\tlearn: 0.1424126\ttotal: 31.6s\tremaining: 16.6s\n",
            "131:\tlearn: 0.1421660\ttotal: 31.8s\tremaining: 16.4s\n",
            "132:\tlearn: 0.1417983\ttotal: 32s\tremaining: 16.1s\n",
            "133:\tlearn: 0.1412755\ttotal: 32.3s\tremaining: 15.9s\n",
            "134:\tlearn: 0.1409575\ttotal: 32.5s\tremaining: 15.7s\n",
            "135:\tlearn: 0.1404955\ttotal: 32.8s\tremaining: 15.4s\n",
            "136:\tlearn: 0.1402487\ttotal: 33s\tremaining: 15.2s\n",
            "137:\tlearn: 0.1398581\ttotal: 33.3s\tremaining: 14.9s\n",
            "138:\tlearn: 0.1393509\ttotal: 33.5s\tremaining: 14.7s\n",
            "139:\tlearn: 0.1390791\ttotal: 33.7s\tremaining: 14.5s\n",
            "140:\tlearn: 0.1388403\ttotal: 34s\tremaining: 14.2s\n",
            "141:\tlearn: 0.1384129\ttotal: 34.2s\tremaining: 14s\n",
            "142:\tlearn: 0.1376402\ttotal: 34.5s\tremaining: 13.7s\n",
            "143:\tlearn: 0.1366699\ttotal: 34.7s\tremaining: 13.5s\n",
            "144:\tlearn: 0.1362011\ttotal: 34.9s\tremaining: 13.2s\n",
            "145:\tlearn: 0.1359650\ttotal: 35.2s\tremaining: 13s\n",
            "146:\tlearn: 0.1356880\ttotal: 35.4s\tremaining: 12.8s\n",
            "147:\tlearn: 0.1351005\ttotal: 35.7s\tremaining: 12.5s\n",
            "148:\tlearn: 0.1346739\ttotal: 35.9s\tremaining: 12.3s\n",
            "149:\tlearn: 0.1342666\ttotal: 36.1s\tremaining: 12s\n",
            "150:\tlearn: 0.1339802\ttotal: 36.4s\tremaining: 11.8s\n",
            "151:\tlearn: 0.1332793\ttotal: 36.7s\tremaining: 11.6s\n",
            "152:\tlearn: 0.1328680\ttotal: 36.9s\tremaining: 11.3s\n",
            "153:\tlearn: 0.1324978\ttotal: 37.2s\tremaining: 11.1s\n",
            "154:\tlearn: 0.1322462\ttotal: 37.4s\tremaining: 10.9s\n",
            "155:\tlearn: 0.1318072\ttotal: 37.7s\tremaining: 10.6s\n",
            "156:\tlearn: 0.1313600\ttotal: 37.9s\tremaining: 10.4s\n",
            "157:\tlearn: 0.1311373\ttotal: 38.2s\tremaining: 10.1s\n",
            "158:\tlearn: 0.1306566\ttotal: 38.4s\tremaining: 9.9s\n",
            "159:\tlearn: 0.1304428\ttotal: 38.6s\tremaining: 9.66s\n",
            "160:\tlearn: 0.1300409\ttotal: 38.9s\tremaining: 9.42s\n",
            "161:\tlearn: 0.1297908\ttotal: 39.1s\tremaining: 9.18s\n",
            "162:\tlearn: 0.1296035\ttotal: 39.4s\tremaining: 8.94s\n",
            "163:\tlearn: 0.1290801\ttotal: 39.6s\tremaining: 8.7s\n",
            "164:\tlearn: 0.1285893\ttotal: 39.9s\tremaining: 8.46s\n",
            "165:\tlearn: 0.1282776\ttotal: 40.2s\tremaining: 8.22s\n",
            "166:\tlearn: 0.1280596\ttotal: 40.4s\tremaining: 7.98s\n",
            "167:\tlearn: 0.1278837\ttotal: 40.6s\tremaining: 7.74s\n",
            "168:\tlearn: 0.1277083\ttotal: 40.9s\tremaining: 7.5s\n",
            "169:\tlearn: 0.1271491\ttotal: 41.1s\tremaining: 7.26s\n",
            "170:\tlearn: 0.1269747\ttotal: 41.4s\tremaining: 7.01s\n",
            "171:\tlearn: 0.1264055\ttotal: 41.6s\tremaining: 6.77s\n",
            "172:\tlearn: 0.1260778\ttotal: 41.8s\tremaining: 6.53s\n",
            "173:\tlearn: 0.1258672\ttotal: 42.1s\tremaining: 6.29s\n",
            "174:\tlearn: 0.1255809\ttotal: 42.3s\tremaining: 6.05s\n",
            "175:\tlearn: 0.1254114\ttotal: 42.6s\tremaining: 5.81s\n",
            "176:\tlearn: 0.1252054\ttotal: 42.8s\tremaining: 5.57s\n",
            "177:\tlearn: 0.1250370\ttotal: 43.1s\tremaining: 5.33s\n",
            "178:\tlearn: 0.1247586\ttotal: 43.3s\tremaining: 5.08s\n",
            "179:\tlearn: 0.1244123\ttotal: 43.6s\tremaining: 4.84s\n",
            "180:\tlearn: 0.1242391\ttotal: 43.8s\tremaining: 4.6s\n",
            "181:\tlearn: 0.1240671\ttotal: 44.1s\tremaining: 4.36s\n",
            "182:\tlearn: 0.1238648\ttotal: 44.3s\tremaining: 4.12s\n",
            "183:\tlearn: 0.1236952\ttotal: 44.6s\tremaining: 3.88s\n",
            "184:\tlearn: 0.1234998\ttotal: 44.8s\tremaining: 3.63s\n",
            "185:\tlearn: 0.1233021\ttotal: 45s\tremaining: 3.39s\n",
            "186:\tlearn: 0.1231359\ttotal: 45.3s\tremaining: 3.15s\n",
            "187:\tlearn: 0.1229793\ttotal: 45.5s\tremaining: 2.9s\n",
            "188:\tlearn: 0.1225792\ttotal: 45.8s\tremaining: 2.66s\n",
            "189:\tlearn: 0.1221061\ttotal: 46.1s\tremaining: 2.42s\n",
            "190:\tlearn: 0.1219402\ttotal: 46.4s\tremaining: 2.19s\n",
            "191:\tlearn: 0.1216677\ttotal: 46.7s\tremaining: 1.95s\n",
            "192:\tlearn: 0.1211220\ttotal: 47s\tremaining: 1.71s\n",
            "193:\tlearn: 0.1209247\ttotal: 47.3s\tremaining: 1.46s\n",
            "194:\tlearn: 0.1206560\ttotal: 47.5s\tremaining: 1.22s\n",
            "195:\tlearn: 0.1204961\ttotal: 47.7s\tremaining: 974ms\n",
            "196:\tlearn: 0.1202811\ttotal: 48s\tremaining: 731ms\n",
            "197:\tlearn: 0.1201174\ttotal: 48.2s\tremaining: 487ms\n",
            "198:\tlearn: 0.1196375\ttotal: 48.5s\tremaining: 244ms\n",
            "199:\tlearn: 0.1194745\ttotal: 48.7s\tremaining: 0us\n",
            "[CV 1/3; 4/9] END .........iterations=200, learning_rate=0.1; total time=  50.7s\n",
            "[CV 2/3; 4/9] START iterations=200, learning_rate=0.1...........................\n",
            "0:\tlearn: 0.6009751\ttotal: 350ms\tremaining: 1m 9s\n",
            "1:\tlearn: 0.5255140\ttotal: 609ms\tremaining: 1m\n",
            "2:\tlearn: 0.4664193\ttotal: 867ms\tremaining: 56.9s\n",
            "3:\tlearn: 0.4189783\ttotal: 1.12s\tremaining: 55s\n",
            "4:\tlearn: 0.3851882\ttotal: 1.39s\tremaining: 54.2s\n",
            "5:\tlearn: 0.3565085\ttotal: 1.64s\tremaining: 53.1s\n",
            "6:\tlearn: 0.3289639\ttotal: 1.88s\tremaining: 51.9s\n",
            "7:\tlearn: 0.3108454\ttotal: 2.13s\tremaining: 51.1s\n",
            "8:\tlearn: 0.2959573\ttotal: 2.38s\tremaining: 50.6s\n",
            "9:\tlearn: 0.2830115\ttotal: 2.64s\tremaining: 50.1s\n",
            "10:\tlearn: 0.2720302\ttotal: 2.88s\tremaining: 49.5s\n",
            "11:\tlearn: 0.2634993\ttotal: 3.15s\tremaining: 49.4s\n",
            "12:\tlearn: 0.2555492\ttotal: 3.4s\tremaining: 48.9s\n",
            "13:\tlearn: 0.2490120\ttotal: 3.64s\tremaining: 48.3s\n",
            "14:\tlearn: 0.2411033\ttotal: 3.89s\tremaining: 48s\n",
            "15:\tlearn: 0.2369934\ttotal: 4.15s\tremaining: 47.7s\n",
            "16:\tlearn: 0.2327591\ttotal: 4.41s\tremaining: 47.5s\n",
            "17:\tlearn: 0.2289090\ttotal: 4.67s\tremaining: 47.2s\n",
            "18:\tlearn: 0.2253798\ttotal: 4.92s\tremaining: 46.8s\n",
            "19:\tlearn: 0.2218645\ttotal: 5.18s\tremaining: 46.7s\n",
            "20:\tlearn: 0.2183834\ttotal: 5.48s\tremaining: 46.7s\n",
            "21:\tlearn: 0.2156624\ttotal: 5.77s\tremaining: 46.7s\n",
            "22:\tlearn: 0.2129566\ttotal: 6.02s\tremaining: 46.4s\n",
            "23:\tlearn: 0.2104901\ttotal: 6.29s\tremaining: 46.1s\n",
            "24:\tlearn: 0.2079280\ttotal: 6.54s\tremaining: 45.8s\n",
            "25:\tlearn: 0.2061916\ttotal: 6.81s\tremaining: 45.6s\n",
            "26:\tlearn: 0.2042792\ttotal: 7.08s\tremaining: 45.3s\n",
            "27:\tlearn: 0.2026215\ttotal: 7.33s\tremaining: 45s\n",
            "28:\tlearn: 0.2003364\ttotal: 7.58s\tremaining: 44.7s\n",
            "29:\tlearn: 0.1992140\ttotal: 7.83s\tremaining: 44.4s\n",
            "30:\tlearn: 0.1974744\ttotal: 8.08s\tremaining: 44.1s\n",
            "31:\tlearn: 0.1963006\ttotal: 8.32s\tremaining: 43.7s\n",
            "32:\tlearn: 0.1944269\ttotal: 8.58s\tremaining: 43.4s\n",
            "33:\tlearn: 0.1935398\ttotal: 8.84s\tremaining: 43.1s\n",
            "34:\tlearn: 0.1921008\ttotal: 9.12s\tremaining: 43s\n",
            "35:\tlearn: 0.1913802\ttotal: 9.4s\tremaining: 42.8s\n",
            "36:\tlearn: 0.1903660\ttotal: 9.67s\tremaining: 42.6s\n",
            "37:\tlearn: 0.1890506\ttotal: 9.91s\tremaining: 42.3s\n",
            "38:\tlearn: 0.1879246\ttotal: 10.2s\tremaining: 42s\n",
            "39:\tlearn: 0.1869689\ttotal: 10.4s\tremaining: 41.6s\n",
            "40:\tlearn: 0.1858878\ttotal: 10.7s\tremaining: 41.4s\n",
            "41:\tlearn: 0.1850441\ttotal: 10.9s\tremaining: 41.1s\n",
            "42:\tlearn: 0.1838307\ttotal: 11.2s\tremaining: 40.8s\n",
            "43:\tlearn: 0.1828027\ttotal: 11.4s\tremaining: 40.6s\n",
            "44:\tlearn: 0.1815702\ttotal: 11.7s\tremaining: 40.3s\n",
            "45:\tlearn: 0.1805381\ttotal: 12s\tremaining: 40.1s\n",
            "46:\tlearn: 0.1796111\ttotal: 12.2s\tremaining: 39.8s\n",
            "47:\tlearn: 0.1787715\ttotal: 12.5s\tremaining: 39.5s\n",
            "48:\tlearn: 0.1781021\ttotal: 12.7s\tremaining: 39.2s\n",
            "49:\tlearn: 0.1775363\ttotal: 13s\tremaining: 38.9s\n",
            "50:\tlearn: 0.1768058\ttotal: 13.2s\tremaining: 38.7s\n",
            "51:\tlearn: 0.1758904\ttotal: 13.5s\tremaining: 38.4s\n",
            "52:\tlearn: 0.1752001\ttotal: 13.8s\tremaining: 38.1s\n",
            "53:\tlearn: 0.1744456\ttotal: 14s\tremaining: 37.9s\n",
            "54:\tlearn: 0.1737570\ttotal: 14.3s\tremaining: 37.7s\n",
            "55:\tlearn: 0.1729573\ttotal: 14.5s\tremaining: 37.4s\n",
            "56:\tlearn: 0.1725129\ttotal: 14.8s\tremaining: 37.1s\n",
            "57:\tlearn: 0.1719269\ttotal: 15.1s\tremaining: 36.9s\n",
            "58:\tlearn: 0.1714206\ttotal: 15.3s\tremaining: 36.6s\n",
            "59:\tlearn: 0.1708348\ttotal: 15.6s\tremaining: 36.5s\n",
            "60:\tlearn: 0.1702023\ttotal: 15.9s\tremaining: 36.2s\n",
            "61:\tlearn: 0.1698164\ttotal: 16.1s\tremaining: 35.9s\n",
            "62:\tlearn: 0.1692933\ttotal: 16.4s\tremaining: 35.6s\n",
            "63:\tlearn: 0.1684570\ttotal: 16.6s\tremaining: 35.4s\n",
            "64:\tlearn: 0.1677840\ttotal: 16.9s\tremaining: 35.1s\n",
            "65:\tlearn: 0.1673631\ttotal: 17.2s\tremaining: 34.8s\n",
            "66:\tlearn: 0.1667280\ttotal: 17.4s\tremaining: 34.6s\n",
            "67:\tlearn: 0.1661826\ttotal: 17.7s\tremaining: 34.3s\n",
            "68:\tlearn: 0.1653055\ttotal: 18s\tremaining: 34.1s\n",
            "69:\tlearn: 0.1644863\ttotal: 18.2s\tremaining: 33.8s\n",
            "70:\tlearn: 0.1636714\ttotal: 18.5s\tremaining: 33.5s\n",
            "71:\tlearn: 0.1629029\ttotal: 18.7s\tremaining: 33.3s\n",
            "72:\tlearn: 0.1621528\ttotal: 19s\tremaining: 33s\n",
            "73:\tlearn: 0.1614795\ttotal: 19.2s\tremaining: 32.7s\n",
            "74:\tlearn: 0.1608709\ttotal: 19.5s\tremaining: 32.6s\n",
            "75:\tlearn: 0.1604283\ttotal: 19.8s\tremaining: 32.3s\n",
            "76:\tlearn: 0.1597718\ttotal: 20s\tremaining: 32s\n",
            "77:\tlearn: 0.1594314\ttotal: 20.3s\tremaining: 31.7s\n",
            "78:\tlearn: 0.1590349\ttotal: 20.5s\tremaining: 31.5s\n",
            "79:\tlearn: 0.1584127\ttotal: 20.8s\tremaining: 31.2s\n",
            "80:\tlearn: 0.1578402\ttotal: 21s\tremaining: 30.9s\n",
            "81:\tlearn: 0.1570120\ttotal: 21.3s\tremaining: 30.7s\n",
            "82:\tlearn: 0.1565586\ttotal: 21.6s\tremaining: 30.4s\n",
            "83:\tlearn: 0.1561832\ttotal: 21.8s\tremaining: 30.1s\n",
            "84:\tlearn: 0.1558266\ttotal: 22.1s\tremaining: 29.9s\n",
            "85:\tlearn: 0.1551958\ttotal: 22.3s\tremaining: 29.6s\n",
            "86:\tlearn: 0.1547920\ttotal: 22.6s\tremaining: 29.3s\n",
            "87:\tlearn: 0.1544559\ttotal: 22.8s\tremaining: 29.1s\n",
            "88:\tlearn: 0.1540336\ttotal: 23.1s\tremaining: 28.8s\n",
            "89:\tlearn: 0.1535569\ttotal: 23.3s\tremaining: 28.5s\n",
            "90:\tlearn: 0.1532237\ttotal: 23.6s\tremaining: 28.2s\n",
            "91:\tlearn: 0.1525474\ttotal: 23.8s\tremaining: 28s\n",
            "92:\tlearn: 0.1521707\ttotal: 24.1s\tremaining: 27.7s\n",
            "93:\tlearn: 0.1516127\ttotal: 24.3s\tremaining: 27.4s\n",
            "94:\tlearn: 0.1513009\ttotal: 24.6s\tremaining: 27.2s\n",
            "95:\tlearn: 0.1509188\ttotal: 24.8s\tremaining: 26.9s\n",
            "96:\tlearn: 0.1505577\ttotal: 25.1s\tremaining: 26.7s\n",
            "97:\tlearn: 0.1501808\ttotal: 25.4s\tremaining: 26.4s\n",
            "98:\tlearn: 0.1496341\ttotal: 25.7s\tremaining: 26.2s\n",
            "99:\tlearn: 0.1492301\ttotal: 26s\tremaining: 26s\n",
            "100:\tlearn: 0.1489026\ttotal: 26.2s\tremaining: 25.7s\n",
            "101:\tlearn: 0.1483098\ttotal: 26.5s\tremaining: 25.5s\n",
            "102:\tlearn: 0.1479722\ttotal: 26.8s\tremaining: 25.2s\n",
            "103:\tlearn: 0.1476101\ttotal: 27s\tremaining: 24.9s\n",
            "104:\tlearn: 0.1470258\ttotal: 27.3s\tremaining: 24.7s\n",
            "105:\tlearn: 0.1463791\ttotal: 27.5s\tremaining: 24.4s\n",
            "106:\tlearn: 0.1455012\ttotal: 27.8s\tremaining: 24.2s\n",
            "107:\tlearn: 0.1448303\ttotal: 28.1s\tremaining: 23.9s\n",
            "108:\tlearn: 0.1444476\ttotal: 28.3s\tremaining: 23.7s\n",
            "109:\tlearn: 0.1441074\ttotal: 28.6s\tremaining: 23.4s\n",
            "110:\tlearn: 0.1437825\ttotal: 28.8s\tremaining: 23.1s\n",
            "111:\tlearn: 0.1434488\ttotal: 29.1s\tremaining: 22.9s\n",
            "112:\tlearn: 0.1431621\ttotal: 29.4s\tremaining: 22.6s\n",
            "113:\tlearn: 0.1427013\ttotal: 29.6s\tremaining: 22.4s\n",
            "114:\tlearn: 0.1419111\ttotal: 29.9s\tremaining: 22.1s\n",
            "115:\tlearn: 0.1414151\ttotal: 30.2s\tremaining: 21.9s\n",
            "116:\tlearn: 0.1408398\ttotal: 30.5s\tremaining: 21.6s\n",
            "117:\tlearn: 0.1405519\ttotal: 30.7s\tremaining: 21.3s\n",
            "118:\tlearn: 0.1402828\ttotal: 31s\tremaining: 21.1s\n",
            "119:\tlearn: 0.1397390\ttotal: 31.3s\tremaining: 20.8s\n",
            "120:\tlearn: 0.1387729\ttotal: 31.5s\tremaining: 20.6s\n",
            "121:\tlearn: 0.1384662\ttotal: 31.8s\tremaining: 20.3s\n",
            "122:\tlearn: 0.1377473\ttotal: 32s\tremaining: 20s\n",
            "123:\tlearn: 0.1374813\ttotal: 32.3s\tremaining: 19.8s\n",
            "124:\tlearn: 0.1371279\ttotal: 32.5s\tremaining: 19.5s\n",
            "125:\tlearn: 0.1362890\ttotal: 32.8s\tremaining: 19.2s\n",
            "126:\tlearn: 0.1357894\ttotal: 33s\tremaining: 19s\n",
            "127:\tlearn: 0.1354538\ttotal: 33.3s\tremaining: 18.7s\n",
            "128:\tlearn: 0.1348695\ttotal: 33.5s\tremaining: 18.5s\n",
            "129:\tlearn: 0.1342163\ttotal: 33.8s\tremaining: 18.2s\n",
            "130:\tlearn: 0.1339120\ttotal: 34.1s\tremaining: 17.9s\n",
            "131:\tlearn: 0.1335939\ttotal: 34.3s\tremaining: 17.7s\n",
            "132:\tlearn: 0.1333494\ttotal: 34.6s\tremaining: 17.4s\n",
            "133:\tlearn: 0.1326472\ttotal: 34.8s\tremaining: 17.1s\n",
            "134:\tlearn: 0.1324077\ttotal: 35.1s\tremaining: 16.9s\n",
            "135:\tlearn: 0.1318527\ttotal: 35.4s\tremaining: 16.6s\n",
            "136:\tlearn: 0.1310618\ttotal: 35.7s\tremaining: 16.4s\n",
            "137:\tlearn: 0.1307091\ttotal: 35.9s\tremaining: 16.1s\n",
            "138:\tlearn: 0.1303665\ttotal: 36.2s\tremaining: 15.9s\n",
            "139:\tlearn: 0.1297436\ttotal: 36.4s\tremaining: 15.6s\n",
            "140:\tlearn: 0.1294987\ttotal: 36.7s\tremaining: 15.4s\n",
            "141:\tlearn: 0.1292597\ttotal: 37s\tremaining: 15.1s\n",
            "142:\tlearn: 0.1289694\ttotal: 37.2s\tremaining: 14.8s\n",
            "143:\tlearn: 0.1284926\ttotal: 37.5s\tremaining: 14.6s\n",
            "144:\tlearn: 0.1282740\ttotal: 37.7s\tremaining: 14.3s\n",
            "145:\tlearn: 0.1277961\ttotal: 38s\tremaining: 14s\n",
            "146:\tlearn: 0.1273873\ttotal: 38.2s\tremaining: 13.8s\n",
            "147:\tlearn: 0.1269849\ttotal: 38.5s\tremaining: 13.5s\n",
            "148:\tlearn: 0.1265894\ttotal: 38.7s\tremaining: 13.2s\n",
            "149:\tlearn: 0.1261656\ttotal: 38.9s\tremaining: 13s\n",
            "150:\tlearn: 0.1259363\ttotal: 39.2s\tremaining: 12.7s\n",
            "151:\tlearn: 0.1256098\ttotal: 39.5s\tremaining: 12.5s\n",
            "152:\tlearn: 0.1253801\ttotal: 39.7s\tremaining: 12.2s\n",
            "153:\tlearn: 0.1250120\ttotal: 39.9s\tremaining: 11.9s\n",
            "154:\tlearn: 0.1246686\ttotal: 40.2s\tremaining: 11.7s\n",
            "155:\tlearn: 0.1244388\ttotal: 40.4s\tremaining: 11.4s\n",
            "156:\tlearn: 0.1242522\ttotal: 40.7s\tremaining: 11.1s\n",
            "157:\tlearn: 0.1239474\ttotal: 40.9s\tremaining: 10.9s\n",
            "158:\tlearn: 0.1237545\ttotal: 41.2s\tremaining: 10.6s\n",
            "159:\tlearn: 0.1233490\ttotal: 41.4s\tremaining: 10.4s\n",
            "160:\tlearn: 0.1229160\ttotal: 41.7s\tremaining: 10.1s\n",
            "161:\tlearn: 0.1227354\ttotal: 41.9s\tremaining: 9.83s\n",
            "162:\tlearn: 0.1223662\ttotal: 42.1s\tremaining: 9.56s\n",
            "163:\tlearn: 0.1219721\ttotal: 42.4s\tremaining: 9.3s\n",
            "164:\tlearn: 0.1214779\ttotal: 42.6s\tremaining: 9.04s\n",
            "165:\tlearn: 0.1210148\ttotal: 42.8s\tremaining: 8.78s\n",
            "166:\tlearn: 0.1208389\ttotal: 43.1s\tremaining: 8.51s\n",
            "167:\tlearn: 0.1206690\ttotal: 43.3s\tremaining: 8.25s\n",
            "168:\tlearn: 0.1204185\ttotal: 43.6s\tremaining: 7.99s\n",
            "169:\tlearn: 0.1199170\ttotal: 43.8s\tremaining: 7.73s\n",
            "170:\tlearn: 0.1191467\ttotal: 44.1s\tremaining: 7.47s\n",
            "171:\tlearn: 0.1189160\ttotal: 44.3s\tremaining: 7.21s\n",
            "172:\tlearn: 0.1187409\ttotal: 44.5s\tremaining: 6.95s\n",
            "173:\tlearn: 0.1185742\ttotal: 44.8s\tremaining: 6.69s\n",
            "174:\tlearn: 0.1183993\ttotal: 45s\tremaining: 6.43s\n",
            "175:\tlearn: 0.1182254\ttotal: 45.4s\tremaining: 6.18s\n",
            "176:\tlearn: 0.1180541\ttotal: 45.6s\tremaining: 5.93s\n",
            "177:\tlearn: 0.1178597\ttotal: 45.9s\tremaining: 5.67s\n",
            "178:\tlearn: 0.1173151\ttotal: 46.1s\tremaining: 5.41s\n",
            "179:\tlearn: 0.1170458\ttotal: 46.4s\tremaining: 5.15s\n",
            "180:\tlearn: 0.1168757\ttotal: 46.6s\tremaining: 4.89s\n",
            "181:\tlearn: 0.1167076\ttotal: 46.9s\tremaining: 4.63s\n",
            "182:\tlearn: 0.1165452\ttotal: 47.1s\tremaining: 4.38s\n",
            "183:\tlearn: 0.1163515\ttotal: 47.3s\tremaining: 4.12s\n",
            "184:\tlearn: 0.1161918\ttotal: 47.6s\tremaining: 3.86s\n",
            "185:\tlearn: 0.1159411\ttotal: 47.8s\tremaining: 3.6s\n",
            "186:\tlearn: 0.1156274\ttotal: 48.1s\tremaining: 3.34s\n",
            "187:\tlearn: 0.1148968\ttotal: 48.3s\tremaining: 3.08s\n",
            "188:\tlearn: 0.1147310\ttotal: 48.6s\tremaining: 2.83s\n",
            "189:\tlearn: 0.1145652\ttotal: 48.8s\tremaining: 2.57s\n",
            "190:\tlearn: 0.1143084\ttotal: 49.1s\tremaining: 2.31s\n",
            "191:\tlearn: 0.1141419\ttotal: 49.3s\tremaining: 2.05s\n",
            "192:\tlearn: 0.1139805\ttotal: 49.5s\tremaining: 1.8s\n",
            "193:\tlearn: 0.1138194\ttotal: 49.8s\tremaining: 1.54s\n",
            "194:\tlearn: 0.1136565\ttotal: 50s\tremaining: 1.28s\n",
            "195:\tlearn: 0.1134954\ttotal: 50.3s\tremaining: 1.03s\n",
            "196:\tlearn: 0.1133357\ttotal: 50.6s\tremaining: 770ms\n",
            "197:\tlearn: 0.1127929\ttotal: 50.8s\tremaining: 513ms\n",
            "198:\tlearn: 0.1125788\ttotal: 51.1s\tremaining: 257ms\n",
            "199:\tlearn: 0.1123438\ttotal: 51.3s\tremaining: 0us\n",
            "[CV 2/3; 4/9] END .........iterations=200, learning_rate=0.1; total time=  53.5s\n",
            "[CV 3/3; 4/9] START iterations=200, learning_rate=0.1...........................\n",
            "0:\tlearn: 0.5997332\ttotal: 331ms\tremaining: 1m 5s\n",
            "1:\tlearn: 0.5255958\ttotal: 569ms\tremaining: 56.4s\n",
            "2:\tlearn: 0.4714234\ttotal: 815ms\tremaining: 53.5s\n",
            "3:\tlearn: 0.4284542\ttotal: 1.05s\tremaining: 51.6s\n",
            "4:\tlearn: 0.3919469\ttotal: 1.29s\tremaining: 50.5s\n",
            "5:\tlearn: 0.3625234\ttotal: 1.54s\tremaining: 49.9s\n",
            "6:\tlearn: 0.3418271\ttotal: 1.83s\tremaining: 50.5s\n",
            "7:\tlearn: 0.3220838\ttotal: 2.08s\tremaining: 50s\n",
            "8:\tlearn: 0.3057689\ttotal: 2.33s\tremaining: 49.4s\n",
            "9:\tlearn: 0.2933511\ttotal: 2.57s\tremaining: 48.8s\n",
            "10:\tlearn: 0.2816150\ttotal: 2.8s\tremaining: 48.2s\n",
            "11:\tlearn: 0.2715796\ttotal: 3.06s\tremaining: 48s\n",
            "12:\tlearn: 0.2640166\ttotal: 3.3s\tremaining: 47.5s\n",
            "13:\tlearn: 0.2550744\ttotal: 3.55s\tremaining: 47.1s\n",
            "14:\tlearn: 0.2495342\ttotal: 3.78s\tremaining: 46.6s\n",
            "15:\tlearn: 0.2445512\ttotal: 4.02s\tremaining: 46.2s\n",
            "16:\tlearn: 0.2401560\ttotal: 4.26s\tremaining: 45.8s\n",
            "17:\tlearn: 0.2368456\ttotal: 4.5s\tremaining: 45.5s\n",
            "18:\tlearn: 0.2327459\ttotal: 4.75s\tremaining: 45.2s\n",
            "19:\tlearn: 0.2293316\ttotal: 4.99s\tremaining: 44.9s\n",
            "20:\tlearn: 0.2254322\ttotal: 5.24s\tremaining: 44.6s\n",
            "21:\tlearn: 0.2225527\ttotal: 5.48s\tremaining: 44.4s\n",
            "22:\tlearn: 0.2195591\ttotal: 5.72s\tremaining: 44.1s\n",
            "23:\tlearn: 0.2172567\ttotal: 5.96s\tremaining: 43.7s\n",
            "24:\tlearn: 0.2141627\ttotal: 6.2s\tremaining: 43.4s\n",
            "25:\tlearn: 0.2116994\ttotal: 6.44s\tremaining: 43.1s\n",
            "26:\tlearn: 0.2096167\ttotal: 6.69s\tremaining: 42.8s\n",
            "27:\tlearn: 0.2076335\ttotal: 6.93s\tremaining: 42.6s\n",
            "28:\tlearn: 0.2059116\ttotal: 7.17s\tremaining: 42.3s\n",
            "29:\tlearn: 0.2036986\ttotal: 7.44s\tremaining: 42.2s\n",
            "30:\tlearn: 0.2020030\ttotal: 7.69s\tremaining: 41.9s\n",
            "31:\tlearn: 0.2006311\ttotal: 7.93s\tremaining: 41.6s\n",
            "32:\tlearn: 0.1984099\ttotal: 8.17s\tremaining: 41.4s\n",
            "33:\tlearn: 0.1969770\ttotal: 8.41s\tremaining: 41.1s\n",
            "34:\tlearn: 0.1955214\ttotal: 8.66s\tremaining: 40.8s\n",
            "35:\tlearn: 0.1945349\ttotal: 8.9s\tremaining: 40.5s\n",
            "36:\tlearn: 0.1931160\ttotal: 9.14s\tremaining: 40.3s\n",
            "37:\tlearn: 0.1921142\ttotal: 9.38s\tremaining: 40s\n",
            "38:\tlearn: 0.1910512\ttotal: 9.62s\tremaining: 39.7s\n",
            "39:\tlearn: 0.1891918\ttotal: 9.87s\tremaining: 39.5s\n",
            "40:\tlearn: 0.1881960\ttotal: 10.1s\tremaining: 39.2s\n",
            "41:\tlearn: 0.1872322\ttotal: 10.3s\tremaining: 38.9s\n",
            "42:\tlearn: 0.1862248\ttotal: 10.6s\tremaining: 38.6s\n",
            "43:\tlearn: 0.1853285\ttotal: 10.8s\tremaining: 38.4s\n",
            "44:\tlearn: 0.1838058\ttotal: 11.1s\tremaining: 38.1s\n",
            "45:\tlearn: 0.1831038\ttotal: 11.3s\tremaining: 37.8s\n",
            "46:\tlearn: 0.1823499\ttotal: 11.6s\tremaining: 37.6s\n",
            "47:\tlearn: 0.1810798\ttotal: 11.8s\tremaining: 37.5s\n",
            "48:\tlearn: 0.1805228\ttotal: 12.1s\tremaining: 37.3s\n",
            "49:\tlearn: 0.1796527\ttotal: 12.3s\tremaining: 37s\n",
            "50:\tlearn: 0.1787540\ttotal: 12.6s\tremaining: 36.7s\n",
            "51:\tlearn: 0.1780536\ttotal: 12.8s\tremaining: 36.5s\n",
            "52:\tlearn: 0.1774187\ttotal: 13.1s\tremaining: 36.2s\n",
            "53:\tlearn: 0.1766352\ttotal: 13.3s\tremaining: 36s\n",
            "54:\tlearn: 0.1760972\ttotal: 13.6s\tremaining: 35.7s\n",
            "55:\tlearn: 0.1750169\ttotal: 13.8s\tremaining: 35.5s\n",
            "56:\tlearn: 0.1743074\ttotal: 14s\tremaining: 35.2s\n",
            "57:\tlearn: 0.1739411\ttotal: 14.3s\tremaining: 34.9s\n",
            "58:\tlearn: 0.1727714\ttotal: 14.5s\tremaining: 34.7s\n",
            "59:\tlearn: 0.1720632\ttotal: 14.8s\tremaining: 34.4s\n",
            "60:\tlearn: 0.1712455\ttotal: 15s\tremaining: 34.2s\n",
            "61:\tlearn: 0.1705482\ttotal: 15.2s\tremaining: 33.9s\n",
            "62:\tlearn: 0.1698435\ttotal: 15.5s\tremaining: 33.6s\n",
            "63:\tlearn: 0.1693270\ttotal: 15.7s\tremaining: 33.4s\n",
            "64:\tlearn: 0.1687832\ttotal: 16s\tremaining: 33.2s\n",
            "65:\tlearn: 0.1684029\ttotal: 16.2s\tremaining: 32.9s\n",
            "66:\tlearn: 0.1676889\ttotal: 16.5s\tremaining: 32.7s\n",
            "67:\tlearn: 0.1670612\ttotal: 16.7s\tremaining: 32.4s\n",
            "68:\tlearn: 0.1666028\ttotal: 16.9s\tremaining: 32.1s\n",
            "69:\tlearn: 0.1658431\ttotal: 17.2s\tremaining: 31.9s\n",
            "70:\tlearn: 0.1654298\ttotal: 17.4s\tremaining: 31.6s\n",
            "71:\tlearn: 0.1648856\ttotal: 17.7s\tremaining: 31.4s\n",
            "72:\tlearn: 0.1638719\ttotal: 17.9s\tremaining: 31.2s\n",
            "73:\tlearn: 0.1635440\ttotal: 18.1s\tremaining: 30.9s\n",
            "74:\tlearn: 0.1626106\ttotal: 18.4s\tremaining: 30.6s\n",
            "75:\tlearn: 0.1620538\ttotal: 18.6s\tremaining: 30.4s\n",
            "76:\tlearn: 0.1613995\ttotal: 18.8s\tremaining: 30.1s\n",
            "77:\tlearn: 0.1610398\ttotal: 19.1s\tremaining: 29.9s\n",
            "78:\tlearn: 0.1600329\ttotal: 19.3s\tremaining: 29.6s\n",
            "79:\tlearn: 0.1593972\ttotal: 19.6s\tremaining: 29.4s\n",
            "80:\tlearn: 0.1588181\ttotal: 19.8s\tremaining: 29.1s\n",
            "81:\tlearn: 0.1580619\ttotal: 20.1s\tremaining: 28.9s\n",
            "82:\tlearn: 0.1573313\ttotal: 20.3s\tremaining: 28.6s\n",
            "83:\tlearn: 0.1569458\ttotal: 20.5s\tremaining: 28.3s\n",
            "84:\tlearn: 0.1566282\ttotal: 20.8s\tremaining: 28.1s\n",
            "85:\tlearn: 0.1560482\ttotal: 21s\tremaining: 27.9s\n",
            "86:\tlearn: 0.1554057\ttotal: 21.3s\tremaining: 27.6s\n",
            "87:\tlearn: 0.1544257\ttotal: 21.5s\tremaining: 27.4s\n",
            "88:\tlearn: 0.1540947\ttotal: 21.8s\tremaining: 27.2s\n",
            "89:\tlearn: 0.1536614\ttotal: 22.1s\tremaining: 27s\n",
            "90:\tlearn: 0.1533505\ttotal: 22.3s\tremaining: 26.7s\n",
            "91:\tlearn: 0.1529362\ttotal: 22.5s\tremaining: 26.5s\n",
            "92:\tlearn: 0.1524242\ttotal: 22.8s\tremaining: 26.2s\n",
            "93:\tlearn: 0.1520300\ttotal: 23s\tremaining: 26s\n",
            "94:\tlearn: 0.1517250\ttotal: 23.3s\tremaining: 25.7s\n",
            "95:\tlearn: 0.1508994\ttotal: 23.5s\tremaining: 25.4s\n",
            "96:\tlearn: 0.1506086\ttotal: 23.7s\tremaining: 25.2s\n",
            "97:\tlearn: 0.1496766\ttotal: 23.9s\tremaining: 24.9s\n",
            "98:\tlearn: 0.1493111\ttotal: 24.2s\tremaining: 24.7s\n",
            "99:\tlearn: 0.1489103\ttotal: 24.4s\tremaining: 24.4s\n",
            "100:\tlearn: 0.1483393\ttotal: 24.6s\tremaining: 24.1s\n",
            "101:\tlearn: 0.1479943\ttotal: 24.9s\tremaining: 23.9s\n",
            "102:\tlearn: 0.1473308\ttotal: 25.1s\tremaining: 23.6s\n",
            "103:\tlearn: 0.1467463\ttotal: 25.3s\tremaining: 23.4s\n",
            "104:\tlearn: 0.1464271\ttotal: 25.6s\tremaining: 23.1s\n",
            "105:\tlearn: 0.1460769\ttotal: 25.8s\tremaining: 22.9s\n",
            "106:\tlearn: 0.1456732\ttotal: 26s\tremaining: 22.6s\n",
            "107:\tlearn: 0.1453397\ttotal: 26.3s\tremaining: 22.4s\n",
            "108:\tlearn: 0.1450262\ttotal: 26.5s\tremaining: 22.1s\n",
            "109:\tlearn: 0.1445049\ttotal: 26.7s\tremaining: 21.9s\n",
            "110:\tlearn: 0.1440254\ttotal: 27s\tremaining: 21.6s\n",
            "111:\tlearn: 0.1434626\ttotal: 27.2s\tremaining: 21.4s\n",
            "112:\tlearn: 0.1427958\ttotal: 27.4s\tremaining: 21.1s\n",
            "113:\tlearn: 0.1424891\ttotal: 27.7s\tremaining: 20.9s\n",
            "114:\tlearn: 0.1421154\ttotal: 27.9s\tremaining: 20.6s\n",
            "115:\tlearn: 0.1418093\ttotal: 28.2s\tremaining: 20.4s\n",
            "116:\tlearn: 0.1412773\ttotal: 28.4s\tremaining: 20.2s\n",
            "117:\tlearn: 0.1406734\ttotal: 28.7s\tremaining: 19.9s\n",
            "118:\tlearn: 0.1400021\ttotal: 28.9s\tremaining: 19.7s\n",
            "119:\tlearn: 0.1397223\ttotal: 29.2s\tremaining: 19.4s\n",
            "120:\tlearn: 0.1394377\ttotal: 29.4s\tremaining: 19.2s\n",
            "121:\tlearn: 0.1389529\ttotal: 29.6s\tremaining: 19s\n",
            "122:\tlearn: 0.1383646\ttotal: 29.9s\tremaining: 18.7s\n",
            "123:\tlearn: 0.1378282\ttotal: 30.1s\tremaining: 18.5s\n",
            "124:\tlearn: 0.1373670\ttotal: 30.3s\tremaining: 18.2s\n",
            "125:\tlearn: 0.1371024\ttotal: 30.6s\tremaining: 18s\n",
            "126:\tlearn: 0.1365196\ttotal: 30.8s\tremaining: 17.7s\n",
            "127:\tlearn: 0.1358860\ttotal: 31s\tremaining: 17.5s\n",
            "128:\tlearn: 0.1352387\ttotal: 31.3s\tremaining: 17.2s\n",
            "129:\tlearn: 0.1344632\ttotal: 31.5s\tremaining: 17s\n",
            "130:\tlearn: 0.1341918\ttotal: 31.8s\tremaining: 16.7s\n",
            "131:\tlearn: 0.1335938\ttotal: 32s\tremaining: 16.5s\n",
            "132:\tlearn: 0.1332954\ttotal: 32.3s\tremaining: 16.3s\n",
            "133:\tlearn: 0.1330347\ttotal: 32.5s\tremaining: 16s\n",
            "134:\tlearn: 0.1327720\ttotal: 32.7s\tremaining: 15.8s\n",
            "135:\tlearn: 0.1325226\ttotal: 33s\tremaining: 15.5s\n",
            "136:\tlearn: 0.1321217\ttotal: 33.2s\tremaining: 15.3s\n",
            "137:\tlearn: 0.1316895\ttotal: 33.5s\tremaining: 15s\n",
            "138:\tlearn: 0.1312753\ttotal: 33.7s\tremaining: 14.8s\n",
            "139:\tlearn: 0.1306755\ttotal: 33.9s\tremaining: 14.5s\n",
            "140:\tlearn: 0.1303574\ttotal: 34.2s\tremaining: 14.3s\n",
            "141:\tlearn: 0.1301201\ttotal: 34.4s\tremaining: 14.1s\n",
            "142:\tlearn: 0.1296446\ttotal: 34.6s\tremaining: 13.8s\n",
            "143:\tlearn: 0.1294007\ttotal: 34.9s\tremaining: 13.6s\n",
            "144:\tlearn: 0.1287286\ttotal: 35.1s\tremaining: 13.3s\n",
            "145:\tlearn: 0.1285199\ttotal: 35.4s\tremaining: 13.1s\n",
            "146:\tlearn: 0.1281094\ttotal: 35.6s\tremaining: 12.8s\n",
            "147:\tlearn: 0.1276693\ttotal: 35.8s\tremaining: 12.6s\n",
            "148:\tlearn: 0.1274801\ttotal: 36s\tremaining: 12.3s\n",
            "149:\tlearn: 0.1270476\ttotal: 36.3s\tremaining: 12.1s\n",
            "150:\tlearn: 0.1267617\ttotal: 36.5s\tremaining: 11.8s\n",
            "151:\tlearn: 0.1262264\ttotal: 36.8s\tremaining: 11.6s\n",
            "152:\tlearn: 0.1260077\ttotal: 37s\tremaining: 11.4s\n",
            "153:\tlearn: 0.1256956\ttotal: 37.2s\tremaining: 11.1s\n",
            "154:\tlearn: 0.1254113\ttotal: 37.5s\tremaining: 10.9s\n",
            "155:\tlearn: 0.1249838\ttotal: 37.7s\tremaining: 10.6s\n",
            "156:\tlearn: 0.1247658\ttotal: 37.9s\tremaining: 10.4s\n",
            "157:\tlearn: 0.1244491\ttotal: 38.2s\tremaining: 10.1s\n",
            "158:\tlearn: 0.1238404\ttotal: 38.4s\tremaining: 9.91s\n",
            "159:\tlearn: 0.1236451\ttotal: 38.7s\tremaining: 9.67s\n",
            "160:\tlearn: 0.1233107\ttotal: 38.9s\tremaining: 9.42s\n",
            "161:\tlearn: 0.1231286\ttotal: 39.1s\tremaining: 9.18s\n",
            "162:\tlearn: 0.1229508\ttotal: 39.4s\tremaining: 8.94s\n",
            "163:\tlearn: 0.1227903\ttotal: 39.6s\tremaining: 8.7s\n",
            "164:\tlearn: 0.1226140\ttotal: 39.8s\tremaining: 8.45s\n",
            "165:\tlearn: 0.1220688\ttotal: 40.1s\tremaining: 8.21s\n",
            "166:\tlearn: 0.1219019\ttotal: 40.3s\tremaining: 7.97s\n",
            "167:\tlearn: 0.1215087\ttotal: 40.6s\tremaining: 7.73s\n",
            "168:\tlearn: 0.1211963\ttotal: 40.8s\tremaining: 7.49s\n",
            "169:\tlearn: 0.1210216\ttotal: 41s\tremaining: 7.24s\n",
            "170:\tlearn: 0.1208060\ttotal: 41.3s\tremaining: 7s\n",
            "171:\tlearn: 0.1204247\ttotal: 41.5s\tremaining: 6.76s\n",
            "172:\tlearn: 0.1201669\ttotal: 41.8s\tremaining: 6.53s\n",
            "173:\tlearn: 0.1199930\ttotal: 42.1s\tremaining: 6.29s\n",
            "174:\tlearn: 0.1198241\ttotal: 42.3s\tremaining: 6.04s\n",
            "175:\tlearn: 0.1191388\ttotal: 42.5s\tremaining: 5.8s\n",
            "176:\tlearn: 0.1188361\ttotal: 42.8s\tremaining: 5.56s\n",
            "177:\tlearn: 0.1186707\ttotal: 43s\tremaining: 5.32s\n",
            "178:\tlearn: 0.1183093\ttotal: 43.3s\tremaining: 5.08s\n",
            "179:\tlearn: 0.1180664\ttotal: 43.5s\tremaining: 4.83s\n",
            "180:\tlearn: 0.1175736\ttotal: 43.7s\tremaining: 4.59s\n",
            "181:\tlearn: 0.1172157\ttotal: 44s\tremaining: 4.35s\n",
            "182:\tlearn: 0.1170615\ttotal: 44.2s\tremaining: 4.11s\n",
            "183:\tlearn: 0.1168970\ttotal: 44.5s\tremaining: 3.87s\n",
            "184:\tlearn: 0.1167350\ttotal: 44.7s\tremaining: 3.62s\n",
            "185:\tlearn: 0.1160843\ttotal: 44.9s\tremaining: 3.38s\n",
            "186:\tlearn: 0.1158718\ttotal: 45.2s\tremaining: 3.14s\n",
            "187:\tlearn: 0.1156798\ttotal: 45.4s\tremaining: 2.9s\n",
            "188:\tlearn: 0.1155199\ttotal: 45.7s\tremaining: 2.66s\n",
            "189:\tlearn: 0.1153550\ttotal: 45.9s\tremaining: 2.42s\n",
            "190:\tlearn: 0.1151956\ttotal: 46.2s\tremaining: 2.18s\n",
            "191:\tlearn: 0.1149261\ttotal: 46.4s\tremaining: 1.93s\n",
            "192:\tlearn: 0.1143423\ttotal: 46.7s\tremaining: 1.69s\n",
            "193:\tlearn: 0.1141822\ttotal: 46.9s\tremaining: 1.45s\n",
            "194:\tlearn: 0.1140137\ttotal: 47.1s\tremaining: 1.21s\n",
            "195:\tlearn: 0.1138043\ttotal: 47.4s\tremaining: 967ms\n",
            "196:\tlearn: 0.1136442\ttotal: 47.6s\tremaining: 725ms\n",
            "197:\tlearn: 0.1134954\ttotal: 47.9s\tremaining: 484ms\n",
            "198:\tlearn: 0.1130709\ttotal: 48.1s\tremaining: 242ms\n",
            "199:\tlearn: 0.1129137\ttotal: 48.3s\tremaining: 0us\n",
            "[CV 3/3; 4/9] END .........iterations=200, learning_rate=0.1; total time=  50.4s\n",
            "[CV 1/3; 5/9] START iterations=200, learning_rate=1.0...........................\n",
            "0:\tlearn: 0.2868986\ttotal: 321ms\tremaining: 1m 3s\n",
            "1:\tlearn: 0.2387006\ttotal: 551ms\tremaining: 54.5s\n",
            "2:\tlearn: 0.2164450\ttotal: 778ms\tremaining: 51.1s\n",
            "3:\tlearn: 0.2030887\ttotal: 1.02s\tremaining: 50s\n",
            "4:\tlearn: 0.1913996\ttotal: 1.3s\tremaining: 50.6s\n",
            "5:\tlearn: 0.1815924\ttotal: 1.56s\tremaining: 50.4s\n",
            "6:\tlearn: 0.1733469\ttotal: 1.79s\tremaining: 49.3s\n",
            "7:\tlearn: 0.1671416\ttotal: 2.01s\tremaining: 48.2s\n",
            "8:\tlearn: 0.1589177\ttotal: 2.25s\tremaining: 47.7s\n",
            "9:\tlearn: 0.1538316\ttotal: 2.48s\tremaining: 47.1s\n",
            "10:\tlearn: 0.1501238\ttotal: 2.73s\tremaining: 46.9s\n",
            "11:\tlearn: 0.1435760\ttotal: 2.95s\tremaining: 46.3s\n",
            "12:\tlearn: 0.1389516\ttotal: 3.18s\tremaining: 45.7s\n",
            "13:\tlearn: 0.1352037\ttotal: 3.42s\tremaining: 45.4s\n",
            "14:\tlearn: 0.1313042\ttotal: 3.64s\tremaining: 44.9s\n",
            "15:\tlearn: 0.1271509\ttotal: 3.88s\tremaining: 44.6s\n",
            "16:\tlearn: 0.1223926\ttotal: 4.11s\tremaining: 44.2s\n",
            "17:\tlearn: 0.1193276\ttotal: 4.33s\tremaining: 43.8s\n",
            "18:\tlearn: 0.1157750\ttotal: 4.57s\tremaining: 43.5s\n",
            "19:\tlearn: 0.1137453\ttotal: 4.8s\tremaining: 43.2s\n",
            "20:\tlearn: 0.1116999\ttotal: 5.03s\tremaining: 42.9s\n",
            "21:\tlearn: 0.1087012\ttotal: 5.25s\tremaining: 42.5s\n",
            "22:\tlearn: 0.1063615\ttotal: 5.48s\tremaining: 42.2s\n",
            "23:\tlearn: 0.1045192\ttotal: 5.72s\tremaining: 41.9s\n",
            "24:\tlearn: 0.1025635\ttotal: 5.94s\tremaining: 41.6s\n",
            "25:\tlearn: 0.1006280\ttotal: 6.17s\tremaining: 41.3s\n",
            "26:\tlearn: 0.0988046\ttotal: 6.4s\tremaining: 41s\n",
            "27:\tlearn: 0.0970690\ttotal: 6.64s\tremaining: 40.8s\n",
            "28:\tlearn: 0.0947446\ttotal: 6.88s\tremaining: 40.5s\n",
            "29:\tlearn: 0.0930302\ttotal: 7.11s\tremaining: 40.3s\n",
            "30:\tlearn: 0.0913325\ttotal: 7.34s\tremaining: 40s\n",
            "31:\tlearn: 0.0896329\ttotal: 7.57s\tremaining: 39.8s\n",
            "32:\tlearn: 0.0877915\ttotal: 7.8s\tremaining: 39.5s\n",
            "33:\tlearn: 0.0860071\ttotal: 8.04s\tremaining: 39.2s\n",
            "34:\tlearn: 0.0843020\ttotal: 8.27s\tremaining: 39s\n",
            "35:\tlearn: 0.0825663\ttotal: 8.5s\tremaining: 38.7s\n",
            "36:\tlearn: 0.0808605\ttotal: 8.77s\tremaining: 38.6s\n",
            "37:\tlearn: 0.0791753\ttotal: 9.01s\tremaining: 38.4s\n",
            "38:\tlearn: 0.0774298\ttotal: 9.24s\tremaining: 38.2s\n",
            "39:\tlearn: 0.0756787\ttotal: 9.48s\tremaining: 37.9s\n",
            "40:\tlearn: 0.0741971\ttotal: 9.71s\tremaining: 37.7s\n",
            "41:\tlearn: 0.0715641\ttotal: 9.95s\tremaining: 37.4s\n",
            "42:\tlearn: 0.0702818\ttotal: 10.2s\tremaining: 37.2s\n",
            "43:\tlearn: 0.0691257\ttotal: 10.4s\tremaining: 36.9s\n",
            "44:\tlearn: 0.0676461\ttotal: 10.7s\tremaining: 36.7s\n",
            "45:\tlearn: 0.0666193\ttotal: 10.9s\tremaining: 36.5s\n",
            "46:\tlearn: 0.0657564\ttotal: 11.2s\tremaining: 36.4s\n",
            "47:\tlearn: 0.0648676\ttotal: 11.5s\tremaining: 36.3s\n",
            "48:\tlearn: 0.0637898\ttotal: 11.7s\tremaining: 36.1s\n",
            "49:\tlearn: 0.0630179\ttotal: 11.9s\tremaining: 35.9s\n",
            "50:\tlearn: 0.0620256\ttotal: 12.2s\tremaining: 35.8s\n",
            "51:\tlearn: 0.0612584\ttotal: 12.5s\tremaining: 35.5s\n",
            "52:\tlearn: 0.0605137\ttotal: 12.7s\tremaining: 35.3s\n",
            "53:\tlearn: 0.0597163\ttotal: 13s\tremaining: 35s\n",
            "54:\tlearn: 0.0590580\ttotal: 13.2s\tremaining: 34.7s\n",
            "55:\tlearn: 0.0583482\ttotal: 13.4s\tremaining: 34.5s\n",
            "56:\tlearn: 0.0577198\ttotal: 13.6s\tremaining: 34.2s\n",
            "57:\tlearn: 0.0570731\ttotal: 13.9s\tremaining: 34s\n",
            "58:\tlearn: 0.0558197\ttotal: 14.1s\tremaining: 33.7s\n",
            "59:\tlearn: 0.0551548\ttotal: 14.3s\tremaining: 33.5s\n",
            "60:\tlearn: 0.0544901\ttotal: 14.6s\tremaining: 33.2s\n",
            "61:\tlearn: 0.0535798\ttotal: 14.8s\tremaining: 32.9s\n",
            "62:\tlearn: 0.0529327\ttotal: 15s\tremaining: 32.7s\n",
            "63:\tlearn: 0.0517063\ttotal: 15.3s\tremaining: 32.5s\n",
            "64:\tlearn: 0.0509709\ttotal: 15.5s\tremaining: 32.2s\n",
            "65:\tlearn: 0.0502960\ttotal: 15.7s\tremaining: 31.9s\n",
            "66:\tlearn: 0.0495966\ttotal: 16s\tremaining: 31.7s\n",
            "67:\tlearn: 0.0489294\ttotal: 16.2s\tremaining: 31.4s\n",
            "68:\tlearn: 0.0482855\ttotal: 16.4s\tremaining: 31.2s\n",
            "69:\tlearn: 0.0476817\ttotal: 16.6s\tremaining: 30.9s\n",
            "70:\tlearn: 0.0469157\ttotal: 16.9s\tremaining: 30.7s\n",
            "71:\tlearn: 0.0457967\ttotal: 17.1s\tremaining: 30.4s\n",
            "72:\tlearn: 0.0451936\ttotal: 17.3s\tremaining: 30.1s\n",
            "73:\tlearn: 0.0446322\ttotal: 17.6s\tremaining: 29.9s\n",
            "74:\tlearn: 0.0441104\ttotal: 17.8s\tremaining: 29.6s\n",
            "75:\tlearn: 0.0436284\ttotal: 18s\tremaining: 29.4s\n",
            "76:\tlearn: 0.0431561\ttotal: 18.2s\tremaining: 29.1s\n",
            "77:\tlearn: 0.0425949\ttotal: 18.5s\tremaining: 28.9s\n",
            "78:\tlearn: 0.0421268\ttotal: 18.7s\tremaining: 28.6s\n",
            "79:\tlearn: 0.0409519\ttotal: 18.9s\tremaining: 28.4s\n",
            "80:\tlearn: 0.0405201\ttotal: 19.2s\tremaining: 28.2s\n",
            "81:\tlearn: 0.0401159\ttotal: 19.4s\tremaining: 27.9s\n",
            "82:\tlearn: 0.0395439\ttotal: 19.6s\tremaining: 27.7s\n",
            "83:\tlearn: 0.0391657\ttotal: 19.9s\tremaining: 27.4s\n",
            "84:\tlearn: 0.0387157\ttotal: 20.1s\tremaining: 27.2s\n",
            "85:\tlearn: 0.0383491\ttotal: 20.3s\tremaining: 26.9s\n",
            "86:\tlearn: 0.0379997\ttotal: 20.5s\tremaining: 26.7s\n",
            "87:\tlearn: 0.0376572\ttotal: 20.8s\tremaining: 26.4s\n",
            "88:\tlearn: 0.0373310\ttotal: 21s\tremaining: 26.2s\n",
            "89:\tlearn: 0.0363137\ttotal: 21.3s\tremaining: 26s\n",
            "90:\tlearn: 0.0359891\ttotal: 21.5s\tremaining: 25.7s\n",
            "91:\tlearn: 0.0356154\ttotal: 21.7s\tremaining: 25.5s\n",
            "92:\tlearn: 0.0353227\ttotal: 21.9s\tremaining: 25.2s\n",
            "93:\tlearn: 0.0348690\ttotal: 22.2s\tremaining: 25s\n",
            "94:\tlearn: 0.0345950\ttotal: 22.4s\tremaining: 24.8s\n",
            "95:\tlearn: 0.0341343\ttotal: 22.6s\tremaining: 24.5s\n",
            "96:\tlearn: 0.0338636\ttotal: 22.9s\tremaining: 24.3s\n",
            "97:\tlearn: 0.0336040\ttotal: 23.1s\tremaining: 24s\n",
            "98:\tlearn: 0.0333394\ttotal: 23.3s\tremaining: 23.8s\n",
            "99:\tlearn: 0.0330683\ttotal: 23.5s\tremaining: 23.5s\n",
            "100:\tlearn: 0.0322310\ttotal: 23.8s\tremaining: 23.3s\n",
            "101:\tlearn: 0.0319770\ttotal: 24s\tremaining: 23.1s\n",
            "102:\tlearn: 0.0317301\ttotal: 24.2s\tremaining: 22.8s\n",
            "103:\tlearn: 0.0312149\ttotal: 24.5s\tremaining: 22.6s\n",
            "104:\tlearn: 0.0309660\ttotal: 24.7s\tremaining: 22.3s\n",
            "105:\tlearn: 0.0306957\ttotal: 24.9s\tremaining: 22.1s\n",
            "106:\tlearn: 0.0304023\ttotal: 25.2s\tremaining: 21.9s\n",
            "107:\tlearn: 0.0301695\ttotal: 25.4s\tremaining: 21.6s\n",
            "108:\tlearn: 0.0298906\ttotal: 25.6s\tremaining: 21.4s\n",
            "109:\tlearn: 0.0296583\ttotal: 25.8s\tremaining: 21.1s\n",
            "110:\tlearn: 0.0294263\ttotal: 26.1s\tremaining: 20.9s\n",
            "111:\tlearn: 0.0292003\ttotal: 26.3s\tremaining: 20.7s\n",
            "112:\tlearn: 0.0289788\ttotal: 26.5s\tremaining: 20.4s\n",
            "113:\tlearn: 0.0287013\ttotal: 26.7s\tremaining: 20.2s\n",
            "114:\tlearn: 0.0278274\ttotal: 27s\tremaining: 19.9s\n",
            "115:\tlearn: 0.0275723\ttotal: 27.2s\tremaining: 19.7s\n",
            "116:\tlearn: 0.0273420\ttotal: 27.4s\tremaining: 19.5s\n",
            "117:\tlearn: 0.0271360\ttotal: 27.7s\tremaining: 19.2s\n",
            "118:\tlearn: 0.0269298\ttotal: 27.9s\tremaining: 19s\n",
            "119:\tlearn: 0.0266126\ttotal: 28.1s\tremaining: 18.7s\n",
            "120:\tlearn: 0.0264226\ttotal: 28.3s\tremaining: 18.5s\n",
            "121:\tlearn: 0.0261611\ttotal: 28.6s\tremaining: 18.3s\n",
            "122:\tlearn: 0.0259723\ttotal: 28.8s\tremaining: 18s\n",
            "123:\tlearn: 0.0257436\ttotal: 29s\tremaining: 17.8s\n",
            "124:\tlearn: 0.0255725\ttotal: 29.3s\tremaining: 17.6s\n",
            "125:\tlearn: 0.0252735\ttotal: 29.5s\tremaining: 17.3s\n",
            "126:\tlearn: 0.0250925\ttotal: 29.7s\tremaining: 17.1s\n",
            "127:\tlearn: 0.0249399\ttotal: 30s\tremaining: 16.9s\n",
            "128:\tlearn: 0.0246470\ttotal: 30.2s\tremaining: 16.6s\n",
            "129:\tlearn: 0.0244597\ttotal: 30.4s\tremaining: 16.4s\n",
            "130:\tlearn: 0.0243062\ttotal: 30.7s\tremaining: 16.1s\n",
            "131:\tlearn: 0.0240336\ttotal: 30.9s\tremaining: 15.9s\n",
            "132:\tlearn: 0.0238838\ttotal: 31.2s\tremaining: 15.7s\n",
            "133:\tlearn: 0.0237396\ttotal: 31.5s\tremaining: 15.5s\n",
            "134:\tlearn: 0.0235986\ttotal: 31.7s\tremaining: 15.3s\n",
            "135:\tlearn: 0.0233511\ttotal: 31.9s\tremaining: 15s\n",
            "136:\tlearn: 0.0232117\ttotal: 32.2s\tremaining: 14.8s\n",
            "137:\tlearn: 0.0226443\ttotal: 32.4s\tremaining: 14.6s\n",
            "138:\tlearn: 0.0224823\ttotal: 32.7s\tremaining: 14.3s\n",
            "139:\tlearn: 0.0223460\ttotal: 32.9s\tremaining: 14.1s\n",
            "140:\tlearn: 0.0222157\ttotal: 33.1s\tremaining: 13.9s\n",
            "141:\tlearn: 0.0220934\ttotal: 33.4s\tremaining: 13.6s\n",
            "142:\tlearn: 0.0219717\ttotal: 33.6s\tremaining: 13.4s\n",
            "143:\tlearn: 0.0212615\ttotal: 33.8s\tremaining: 13.2s\n",
            "144:\tlearn: 0.0211309\ttotal: 34.1s\tremaining: 12.9s\n",
            "145:\tlearn: 0.0209260\ttotal: 34.3s\tremaining: 12.7s\n",
            "146:\tlearn: 0.0207873\ttotal: 34.5s\tremaining: 12.5s\n",
            "147:\tlearn: 0.0206700\ttotal: 34.8s\tremaining: 12.2s\n",
            "148:\tlearn: 0.0205438\ttotal: 35s\tremaining: 12s\n",
            "149:\tlearn: 0.0199772\ttotal: 35.2s\tremaining: 11.7s\n",
            "150:\tlearn: 0.0198536\ttotal: 35.5s\tremaining: 11.5s\n",
            "151:\tlearn: 0.0197349\ttotal: 35.7s\tremaining: 11.3s\n",
            "152:\tlearn: 0.0195569\ttotal: 35.9s\tremaining: 11s\n",
            "153:\tlearn: 0.0194175\ttotal: 36.2s\tremaining: 10.8s\n",
            "154:\tlearn: 0.0192991\ttotal: 36.4s\tremaining: 10.6s\n",
            "155:\tlearn: 0.0191834\ttotal: 36.6s\tremaining: 10.3s\n",
            "156:\tlearn: 0.0190642\ttotal: 36.9s\tremaining: 10.1s\n",
            "157:\tlearn: 0.0189489\ttotal: 37.1s\tremaining: 9.86s\n",
            "158:\tlearn: 0.0188361\ttotal: 37.3s\tremaining: 9.63s\n",
            "159:\tlearn: 0.0187258\ttotal: 37.6s\tremaining: 9.39s\n",
            "160:\tlearn: 0.0186191\ttotal: 37.8s\tremaining: 9.15s\n",
            "161:\tlearn: 0.0185199\ttotal: 38s\tremaining: 8.92s\n",
            "162:\tlearn: 0.0183649\ttotal: 38.3s\tremaining: 8.68s\n",
            "163:\tlearn: 0.0178666\ttotal: 38.5s\tremaining: 8.45s\n",
            "164:\tlearn: 0.0177175\ttotal: 38.7s\tremaining: 8.21s\n",
            "165:\tlearn: 0.0175852\ttotal: 39s\tremaining: 7.98s\n",
            "166:\tlearn: 0.0174782\ttotal: 39.2s\tremaining: 7.74s\n",
            "167:\tlearn: 0.0173406\ttotal: 39.4s\tremaining: 7.5s\n",
            "168:\tlearn: 0.0172544\ttotal: 39.6s\tremaining: 7.27s\n",
            "169:\tlearn: 0.0171588\ttotal: 39.9s\tremaining: 7.04s\n",
            "170:\tlearn: 0.0169760\ttotal: 40.1s\tremaining: 6.8s\n",
            "171:\tlearn: 0.0166736\ttotal: 40.4s\tremaining: 6.57s\n",
            "172:\tlearn: 0.0165216\ttotal: 40.6s\tremaining: 6.33s\n",
            "173:\tlearn: 0.0164262\ttotal: 40.8s\tremaining: 6.1s\n",
            "174:\tlearn: 0.0161710\ttotal: 41.1s\tremaining: 5.87s\n",
            "175:\tlearn: 0.0160778\ttotal: 41.3s\tremaining: 5.63s\n",
            "176:\tlearn: 0.0159759\ttotal: 41.5s\tremaining: 5.4s\n",
            "177:\tlearn: 0.0158926\ttotal: 41.8s\tremaining: 5.16s\n",
            "178:\tlearn: 0.0158120\ttotal: 42s\tremaining: 4.93s\n",
            "179:\tlearn: 0.0157343\ttotal: 42.2s\tremaining: 4.69s\n",
            "180:\tlearn: 0.0156517\ttotal: 42.5s\tremaining: 4.46s\n",
            "181:\tlearn: 0.0155797\ttotal: 42.7s\tremaining: 4.22s\n",
            "182:\tlearn: 0.0155039\ttotal: 42.9s\tremaining: 3.99s\n",
            "183:\tlearn: 0.0154019\ttotal: 43.1s\tremaining: 3.75s\n",
            "184:\tlearn: 0.0153342\ttotal: 43.4s\tremaining: 3.52s\n",
            "185:\tlearn: 0.0150220\ttotal: 43.6s\tremaining: 3.28s\n",
            "186:\tlearn: 0.0149521\ttotal: 43.8s\tremaining: 3.05s\n",
            "187:\tlearn: 0.0148694\ttotal: 44.1s\tremaining: 2.81s\n",
            "188:\tlearn: 0.0148038\ttotal: 44.3s\tremaining: 2.58s\n",
            "189:\tlearn: 0.0147387\ttotal: 44.5s\tremaining: 2.34s\n",
            "190:\tlearn: 0.0146770\ttotal: 44.7s\tremaining: 2.11s\n",
            "191:\tlearn: 0.0146014\ttotal: 45s\tremaining: 1.87s\n",
            "192:\tlearn: 0.0145402\ttotal: 45.2s\tremaining: 1.64s\n",
            "193:\tlearn: 0.0144782\ttotal: 45.4s\tremaining: 1.41s\n",
            "194:\tlearn: 0.0143318\ttotal: 45.7s\tremaining: 1.17s\n",
            "195:\tlearn: 0.0142688\ttotal: 45.9s\tremaining: 937ms\n",
            "196:\tlearn: 0.0141853\ttotal: 46.2s\tremaining: 703ms\n",
            "197:\tlearn: 0.0141279\ttotal: 46.4s\tremaining: 469ms\n",
            "198:\tlearn: 0.0140207\ttotal: 46.6s\tremaining: 234ms\n",
            "199:\tlearn: 0.0139494\ttotal: 46.9s\tremaining: 0us\n",
            "[CV 1/3; 5/9] END .........iterations=200, learning_rate=1.0; total time=  48.9s\n",
            "[CV 2/3; 5/9] START iterations=200, learning_rate=1.0...........................\n",
            "0:\tlearn: 0.2912119\ttotal: 329ms\tremaining: 1m 5s\n",
            "1:\tlearn: 0.2395410\ttotal: 562ms\tremaining: 55.6s\n",
            "2:\tlearn: 0.2091075\ttotal: 804ms\tremaining: 52.8s\n",
            "3:\tlearn: 0.1986206\ttotal: 1.06s\tremaining: 52s\n",
            "4:\tlearn: 0.1850228\ttotal: 1.3s\tremaining: 50.8s\n",
            "5:\tlearn: 0.1721339\ttotal: 1.55s\tremaining: 50.3s\n",
            "6:\tlearn: 0.1670479\ttotal: 1.84s\tremaining: 50.7s\n",
            "7:\tlearn: 0.1617119\ttotal: 2.08s\tremaining: 50s\n",
            "8:\tlearn: 0.1559666\ttotal: 2.33s\tremaining: 49.4s\n",
            "9:\tlearn: 0.1508495\ttotal: 2.56s\tremaining: 48.7s\n",
            "10:\tlearn: 0.1469135\ttotal: 2.8s\tremaining: 48.1s\n",
            "11:\tlearn: 0.1412830\ttotal: 3.03s\tremaining: 47.5s\n",
            "12:\tlearn: 0.1358913\ttotal: 3.27s\tremaining: 47.1s\n",
            "13:\tlearn: 0.1317376\ttotal: 3.51s\tremaining: 46.6s\n",
            "14:\tlearn: 0.1274490\ttotal: 3.75s\tremaining: 46.3s\n",
            "15:\tlearn: 0.1240706\ttotal: 3.99s\tremaining: 45.9s\n",
            "16:\tlearn: 0.1207628\ttotal: 4.22s\tremaining: 45.5s\n",
            "17:\tlearn: 0.1182035\ttotal: 4.46s\tremaining: 45.1s\n",
            "18:\tlearn: 0.1139949\ttotal: 4.7s\tremaining: 44.8s\n",
            "19:\tlearn: 0.1111511\ttotal: 4.93s\tremaining: 44.4s\n",
            "20:\tlearn: 0.1071768\ttotal: 5.18s\tremaining: 44.2s\n",
            "21:\tlearn: 0.1050750\ttotal: 5.42s\tremaining: 43.9s\n",
            "22:\tlearn: 0.1027784\ttotal: 5.68s\tremaining: 43.7s\n",
            "23:\tlearn: 0.1007414\ttotal: 5.92s\tremaining: 43.4s\n",
            "24:\tlearn: 0.0967225\ttotal: 6.16s\tremaining: 43.1s\n",
            "25:\tlearn: 0.0947129\ttotal: 6.39s\tremaining: 42.8s\n",
            "26:\tlearn: 0.0914405\ttotal: 6.63s\tremaining: 42.5s\n",
            "27:\tlearn: 0.0896205\ttotal: 6.87s\tremaining: 42.2s\n",
            "28:\tlearn: 0.0879028\ttotal: 7.1s\tremaining: 41.9s\n",
            "29:\tlearn: 0.0861929\ttotal: 7.33s\tremaining: 41.6s\n",
            "30:\tlearn: 0.0845374\ttotal: 7.58s\tremaining: 41.3s\n",
            "31:\tlearn: 0.0828477\ttotal: 7.82s\tremaining: 41.1s\n",
            "32:\tlearn: 0.0811497\ttotal: 8.06s\tremaining: 40.8s\n",
            "33:\tlearn: 0.0794674\ttotal: 8.3s\tremaining: 40.5s\n",
            "34:\tlearn: 0.0778185\ttotal: 8.54s\tremaining: 40.3s\n",
            "35:\tlearn: 0.0761104\ttotal: 8.77s\tremaining: 40s\n",
            "36:\tlearn: 0.0744356\ttotal: 9.01s\tremaining: 39.7s\n",
            "37:\tlearn: 0.0705034\ttotal: 9.26s\tremaining: 39.5s\n",
            "38:\tlearn: 0.0688905\ttotal: 9.5s\tremaining: 39.2s\n",
            "39:\tlearn: 0.0671308\ttotal: 9.76s\tremaining: 39s\n",
            "40:\tlearn: 0.0655898\ttotal: 9.99s\tremaining: 38.8s\n",
            "41:\tlearn: 0.0642441\ttotal: 10.2s\tremaining: 38.5s\n",
            "42:\tlearn: 0.0630429\ttotal: 10.5s\tremaining: 38.2s\n",
            "43:\tlearn: 0.0619894\ttotal: 10.7s\tremaining: 37.9s\n",
            "44:\tlearn: 0.0610400\ttotal: 10.9s\tremaining: 37.7s\n",
            "45:\tlearn: 0.0597808\ttotal: 11.2s\tremaining: 37.5s\n",
            "46:\tlearn: 0.0589647\ttotal: 11.4s\tremaining: 37.3s\n",
            "47:\tlearn: 0.0580472\ttotal: 11.7s\tremaining: 37.1s\n",
            "48:\tlearn: 0.0572508\ttotal: 12s\tremaining: 37s\n",
            "49:\tlearn: 0.0550935\ttotal: 12.3s\tremaining: 36.8s\n",
            "50:\tlearn: 0.0543690\ttotal: 12.5s\tremaining: 36.5s\n",
            "51:\tlearn: 0.0535811\ttotal: 12.7s\tremaining: 36.3s\n",
            "52:\tlearn: 0.0525733\ttotal: 13s\tremaining: 36s\n",
            "53:\tlearn: 0.0518992\ttotal: 13.2s\tremaining: 35.7s\n",
            "54:\tlearn: 0.0512660\ttotal: 13.4s\tremaining: 35.4s\n",
            "55:\tlearn: 0.0506533\ttotal: 13.7s\tremaining: 35.2s\n",
            "56:\tlearn: 0.0496976\ttotal: 13.9s\tremaining: 34.9s\n",
            "57:\tlearn: 0.0479734\ttotal: 14.1s\tremaining: 34.6s\n",
            "58:\tlearn: 0.0471759\ttotal: 14.4s\tremaining: 34.4s\n",
            "59:\tlearn: 0.0465315\ttotal: 14.6s\tremaining: 34.1s\n",
            "60:\tlearn: 0.0458684\ttotal: 14.8s\tremaining: 33.8s\n",
            "61:\tlearn: 0.0452447\ttotal: 15.1s\tremaining: 33.6s\n",
            "62:\tlearn: 0.0446374\ttotal: 15.3s\tremaining: 33.3s\n",
            "63:\tlearn: 0.0440155\ttotal: 15.5s\tremaining: 33s\n",
            "64:\tlearn: 0.0434116\ttotal: 15.8s\tremaining: 32.8s\n",
            "65:\tlearn: 0.0428505\ttotal: 16s\tremaining: 32.5s\n",
            "66:\tlearn: 0.0422850\ttotal: 16.2s\tremaining: 32.2s\n",
            "67:\tlearn: 0.0417643\ttotal: 16.5s\tremaining: 32s\n",
            "68:\tlearn: 0.0412574\ttotal: 16.7s\tremaining: 31.7s\n",
            "69:\tlearn: 0.0407750\ttotal: 16.9s\tremaining: 31.4s\n",
            "70:\tlearn: 0.0402278\ttotal: 17.2s\tremaining: 31.2s\n",
            "71:\tlearn: 0.0395755\ttotal: 17.4s\tremaining: 30.9s\n",
            "72:\tlearn: 0.0382109\ttotal: 17.7s\tremaining: 30.7s\n",
            "73:\tlearn: 0.0376935\ttotal: 17.9s\tremaining: 30.5s\n",
            "74:\tlearn: 0.0371835\ttotal: 18.1s\tremaining: 30.2s\n",
            "75:\tlearn: 0.0367191\ttotal: 18.4s\tremaining: 30s\n",
            "76:\tlearn: 0.0362924\ttotal: 18.6s\tremaining: 29.7s\n",
            "77:\tlearn: 0.0351955\ttotal: 18.8s\tremaining: 29.4s\n",
            "78:\tlearn: 0.0347731\ttotal: 19.1s\tremaining: 29.2s\n",
            "79:\tlearn: 0.0343239\ttotal: 19.3s\tremaining: 29s\n",
            "80:\tlearn: 0.0340038\ttotal: 19.6s\tremaining: 28.8s\n",
            "81:\tlearn: 0.0336919\ttotal: 19.8s\tremaining: 28.5s\n",
            "82:\tlearn: 0.0331247\ttotal: 20.1s\tremaining: 28.3s\n",
            "83:\tlearn: 0.0328162\ttotal: 20.3s\tremaining: 28.1s\n",
            "84:\tlearn: 0.0322195\ttotal: 20.6s\tremaining: 27.8s\n",
            "85:\tlearn: 0.0318725\ttotal: 20.8s\tremaining: 27.6s\n",
            "86:\tlearn: 0.0315897\ttotal: 21s\tremaining: 27.3s\n",
            "87:\tlearn: 0.0312755\ttotal: 21.3s\tremaining: 27.1s\n",
            "88:\tlearn: 0.0310094\ttotal: 21.5s\tremaining: 26.8s\n",
            "89:\tlearn: 0.0307672\ttotal: 21.8s\tremaining: 26.7s\n",
            "90:\tlearn: 0.0302536\ttotal: 22.1s\tremaining: 26.5s\n",
            "91:\tlearn: 0.0300097\ttotal: 22.4s\tremaining: 26.2s\n",
            "92:\tlearn: 0.0297722\ttotal: 22.6s\tremaining: 26s\n",
            "93:\tlearn: 0.0295484\ttotal: 22.8s\tremaining: 25.8s\n",
            "94:\tlearn: 0.0293379\ttotal: 23.1s\tremaining: 25.5s\n",
            "95:\tlearn: 0.0291067\ttotal: 23.3s\tremaining: 25.3s\n",
            "96:\tlearn: 0.0285472\ttotal: 23.6s\tremaining: 25s\n",
            "97:\tlearn: 0.0283435\ttotal: 23.8s\tremaining: 24.8s\n",
            "98:\tlearn: 0.0281215\ttotal: 24s\tremaining: 24.5s\n",
            "99:\tlearn: 0.0278063\ttotal: 24.3s\tremaining: 24.3s\n",
            "100:\tlearn: 0.0275841\ttotal: 24.5s\tremaining: 24s\n",
            "101:\tlearn: 0.0273529\ttotal: 24.7s\tremaining: 23.8s\n",
            "102:\tlearn: 0.0271331\ttotal: 25s\tremaining: 23.5s\n",
            "103:\tlearn: 0.0265164\ttotal: 25.2s\tremaining: 23.3s\n",
            "104:\tlearn: 0.0259187\ttotal: 25.5s\tremaining: 23s\n",
            "105:\tlearn: 0.0256800\ttotal: 25.7s\tremaining: 22.8s\n",
            "106:\tlearn: 0.0254608\ttotal: 25.9s\tremaining: 22.6s\n",
            "107:\tlearn: 0.0252628\ttotal: 26.2s\tremaining: 22.3s\n",
            "108:\tlearn: 0.0250381\ttotal: 26.4s\tremaining: 22.1s\n",
            "109:\tlearn: 0.0248479\ttotal: 26.7s\tremaining: 21.8s\n",
            "110:\tlearn: 0.0246705\ttotal: 26.9s\tremaining: 21.6s\n",
            "111:\tlearn: 0.0244999\ttotal: 27.1s\tremaining: 21.3s\n",
            "112:\tlearn: 0.0242300\ttotal: 27.4s\tremaining: 21.1s\n",
            "113:\tlearn: 0.0239845\ttotal: 27.6s\tremaining: 20.8s\n",
            "114:\tlearn: 0.0237842\ttotal: 27.9s\tremaining: 20.6s\n",
            "115:\tlearn: 0.0236250\ttotal: 28.1s\tremaining: 20.3s\n",
            "116:\tlearn: 0.0234789\ttotal: 28.3s\tremaining: 20.1s\n",
            "117:\tlearn: 0.0232631\ttotal: 28.6s\tremaining: 19.9s\n",
            "118:\tlearn: 0.0225548\ttotal: 28.8s\tremaining: 19.6s\n",
            "119:\tlearn: 0.0223768\ttotal: 29.1s\tremaining: 19.4s\n",
            "120:\tlearn: 0.0219469\ttotal: 29.3s\tremaining: 19.1s\n",
            "121:\tlearn: 0.0217970\ttotal: 29.6s\tremaining: 18.9s\n",
            "122:\tlearn: 0.0216547\ttotal: 29.8s\tremaining: 18.7s\n",
            "123:\tlearn: 0.0215164\ttotal: 30s\tremaining: 18.4s\n",
            "124:\tlearn: 0.0213841\ttotal: 30.3s\tremaining: 18.2s\n",
            "125:\tlearn: 0.0212032\ttotal: 30.5s\tremaining: 17.9s\n",
            "126:\tlearn: 0.0210827\ttotal: 30.7s\tremaining: 17.7s\n",
            "127:\tlearn: 0.0208334\ttotal: 31s\tremaining: 17.4s\n",
            "128:\tlearn: 0.0207132\ttotal: 31.2s\tremaining: 17.2s\n",
            "129:\tlearn: 0.0204127\ttotal: 31.4s\tremaining: 16.9s\n",
            "130:\tlearn: 0.0202987\ttotal: 31.7s\tremaining: 16.7s\n",
            "131:\tlearn: 0.0201626\ttotal: 32s\tremaining: 16.5s\n",
            "132:\tlearn: 0.0200549\ttotal: 32.2s\tremaining: 16.2s\n",
            "133:\tlearn: 0.0199482\ttotal: 32.5s\tremaining: 16s\n",
            "134:\tlearn: 0.0197675\ttotal: 32.7s\tremaining: 15.7s\n",
            "135:\tlearn: 0.0192510\ttotal: 32.9s\tremaining: 15.5s\n",
            "136:\tlearn: 0.0191430\ttotal: 33.2s\tremaining: 15.3s\n",
            "137:\tlearn: 0.0190315\ttotal: 33.4s\tremaining: 15s\n",
            "138:\tlearn: 0.0189203\ttotal: 33.6s\tremaining: 14.8s\n",
            "139:\tlearn: 0.0188126\ttotal: 33.9s\tremaining: 14.5s\n",
            "140:\tlearn: 0.0187052\ttotal: 34.1s\tremaining: 14.3s\n",
            "141:\tlearn: 0.0185230\ttotal: 34.3s\tremaining: 14s\n",
            "142:\tlearn: 0.0184168\ttotal: 34.6s\tremaining: 13.8s\n",
            "143:\tlearn: 0.0182568\ttotal: 34.8s\tremaining: 13.5s\n",
            "144:\tlearn: 0.0181630\ttotal: 35s\tremaining: 13.3s\n",
            "145:\tlearn: 0.0180654\ttotal: 35.3s\tremaining: 13s\n",
            "146:\tlearn: 0.0179718\ttotal: 35.5s\tremaining: 12.8s\n",
            "147:\tlearn: 0.0178830\ttotal: 35.7s\tremaining: 12.6s\n",
            "148:\tlearn: 0.0177889\ttotal: 36s\tremaining: 12.3s\n",
            "149:\tlearn: 0.0176456\ttotal: 36.2s\tremaining: 12.1s\n",
            "150:\tlearn: 0.0175583\ttotal: 36.4s\tremaining: 11.8s\n",
            "151:\tlearn: 0.0171520\ttotal: 36.7s\tremaining: 11.6s\n",
            "152:\tlearn: 0.0170434\ttotal: 36.9s\tremaining: 11.3s\n",
            "153:\tlearn: 0.0169072\ttotal: 37.2s\tremaining: 11.1s\n",
            "154:\tlearn: 0.0168114\ttotal: 37.4s\tremaining: 10.9s\n",
            "155:\tlearn: 0.0166785\ttotal: 37.6s\tremaining: 10.6s\n",
            "156:\tlearn: 0.0165929\ttotal: 37.9s\tremaining: 10.4s\n",
            "157:\tlearn: 0.0165108\ttotal: 38.1s\tremaining: 10.1s\n",
            "158:\tlearn: 0.0161303\ttotal: 38.3s\tremaining: 9.88s\n",
            "159:\tlearn: 0.0160215\ttotal: 38.5s\tremaining: 9.64s\n",
            "160:\tlearn: 0.0159444\ttotal: 38.8s\tremaining: 9.39s\n",
            "161:\tlearn: 0.0158316\ttotal: 39s\tremaining: 9.15s\n",
            "162:\tlearn: 0.0155837\ttotal: 39.3s\tremaining: 8.91s\n",
            "163:\tlearn: 0.0154931\ttotal: 39.5s\tremaining: 8.67s\n",
            "164:\tlearn: 0.0154110\ttotal: 39.7s\tremaining: 8.43s\n",
            "165:\tlearn: 0.0152540\ttotal: 40s\tremaining: 8.19s\n",
            "166:\tlearn: 0.0151707\ttotal: 40.2s\tremaining: 7.95s\n",
            "167:\tlearn: 0.0150590\ttotal: 40.4s\tremaining: 7.7s\n",
            "168:\tlearn: 0.0149883\ttotal: 40.7s\tremaining: 7.46s\n",
            "169:\tlearn: 0.0148964\ttotal: 40.9s\tremaining: 7.22s\n",
            "170:\tlearn: 0.0148166\ttotal: 41.2s\tremaining: 6.98s\n",
            "171:\tlearn: 0.0147344\ttotal: 41.4s\tremaining: 6.74s\n",
            "172:\tlearn: 0.0146263\ttotal: 41.7s\tremaining: 6.51s\n",
            "173:\tlearn: 0.0145603\ttotal: 42s\tremaining: 6.27s\n",
            "174:\tlearn: 0.0143865\ttotal: 42.3s\tremaining: 6.04s\n",
            "175:\tlearn: 0.0143228\ttotal: 42.5s\tremaining: 5.8s\n",
            "176:\tlearn: 0.0142533\ttotal: 42.8s\tremaining: 5.56s\n",
            "177:\tlearn: 0.0141847\ttotal: 43s\tremaining: 5.32s\n",
            "178:\tlearn: 0.0141179\ttotal: 43.3s\tremaining: 5.08s\n",
            "179:\tlearn: 0.0140516\ttotal: 43.5s\tremaining: 4.83s\n",
            "180:\tlearn: 0.0139727\ttotal: 43.8s\tremaining: 4.59s\n",
            "181:\tlearn: 0.0138678\ttotal: 44s\tremaining: 4.35s\n",
            "182:\tlearn: 0.0138043\ttotal: 44.2s\tremaining: 4.11s\n",
            "183:\tlearn: 0.0137430\ttotal: 44.5s\tremaining: 3.87s\n",
            "184:\tlearn: 0.0134353\ttotal: 44.7s\tremaining: 3.63s\n",
            "185:\tlearn: 0.0133482\ttotal: 45s\tremaining: 3.38s\n",
            "186:\tlearn: 0.0132893\ttotal: 45.2s\tremaining: 3.14s\n",
            "187:\tlearn: 0.0131578\ttotal: 45.5s\tremaining: 2.9s\n",
            "188:\tlearn: 0.0130908\ttotal: 45.7s\tremaining: 2.66s\n",
            "189:\tlearn: 0.0130354\ttotal: 45.9s\tremaining: 2.42s\n",
            "190:\tlearn: 0.0129839\ttotal: 46.2s\tremaining: 2.17s\n",
            "191:\tlearn: 0.0129061\ttotal: 46.4s\tremaining: 1.93s\n",
            "192:\tlearn: 0.0128338\ttotal: 46.7s\tremaining: 1.69s\n",
            "193:\tlearn: 0.0125760\ttotal: 46.9s\tremaining: 1.45s\n",
            "194:\tlearn: 0.0125093\ttotal: 47.2s\tremaining: 1.21s\n",
            "195:\tlearn: 0.0124578\ttotal: 47.4s\tremaining: 967ms\n",
            "196:\tlearn: 0.0123737\ttotal: 47.6s\tremaining: 725ms\n",
            "197:\tlearn: 0.0123221\ttotal: 47.9s\tremaining: 484ms\n",
            "198:\tlearn: 0.0122587\ttotal: 48.1s\tremaining: 242ms\n",
            "199:\tlearn: 0.0121054\ttotal: 48.4s\tremaining: 0us\n",
            "[CV 2/3; 5/9] END .........iterations=200, learning_rate=1.0; total time=  50.6s\n",
            "[CV 3/3; 5/9] START iterations=200, learning_rate=1.0...........................\n",
            "0:\tlearn: 0.2856772\ttotal: 339ms\tremaining: 1m 7s\n",
            "1:\tlearn: 0.2393461\ttotal: 577ms\tremaining: 57.1s\n",
            "2:\tlearn: 0.2179169\ttotal: 823ms\tremaining: 54s\n",
            "3:\tlearn: 0.2010899\ttotal: 1.06s\tremaining: 52.2s\n",
            "4:\tlearn: 0.1899915\ttotal: 1.33s\tremaining: 51.9s\n",
            "5:\tlearn: 0.1813457\ttotal: 1.61s\tremaining: 52.2s\n",
            "6:\tlearn: 0.1745192\ttotal: 1.87s\tremaining: 51.5s\n",
            "7:\tlearn: 0.1668932\ttotal: 2.11s\tremaining: 50.7s\n",
            "8:\tlearn: 0.1611620\ttotal: 2.35s\tremaining: 49.9s\n",
            "9:\tlearn: 0.1572290\ttotal: 2.6s\tremaining: 49.5s\n",
            "10:\tlearn: 0.1501428\ttotal: 2.86s\tremaining: 49.2s\n",
            "11:\tlearn: 0.1434479\ttotal: 3.1s\tremaining: 48.6s\n",
            "12:\tlearn: 0.1360070\ttotal: 3.34s\tremaining: 48.1s\n",
            "13:\tlearn: 0.1318276\ttotal: 3.58s\tremaining: 47.5s\n",
            "14:\tlearn: 0.1279484\ttotal: 3.82s\tremaining: 47.1s\n",
            "15:\tlearn: 0.1249321\ttotal: 4.07s\tremaining: 46.8s\n",
            "16:\tlearn: 0.1220379\ttotal: 4.3s\tremaining: 46.3s\n",
            "17:\tlearn: 0.1182413\ttotal: 4.54s\tremaining: 45.9s\n",
            "18:\tlearn: 0.1129597\ttotal: 4.78s\tremaining: 45.5s\n",
            "19:\tlearn: 0.1103733\ttotal: 5.03s\tremaining: 45.3s\n",
            "20:\tlearn: 0.1060606\ttotal: 5.29s\tremaining: 45.1s\n",
            "21:\tlearn: 0.1042339\ttotal: 5.52s\tremaining: 44.7s\n",
            "22:\tlearn: 0.1022398\ttotal: 5.76s\tremaining: 44.3s\n",
            "23:\tlearn: 0.0995350\ttotal: 6s\tremaining: 44s\n",
            "24:\tlearn: 0.0974856\ttotal: 6.25s\tremaining: 43.8s\n",
            "25:\tlearn: 0.0947013\ttotal: 6.5s\tremaining: 43.5s\n",
            "26:\tlearn: 0.0927126\ttotal: 6.75s\tremaining: 43.2s\n",
            "27:\tlearn: 0.0908600\ttotal: 7s\tremaining: 43s\n",
            "28:\tlearn: 0.0891652\ttotal: 7.25s\tremaining: 42.8s\n",
            "29:\tlearn: 0.0873397\ttotal: 7.49s\tremaining: 42.5s\n",
            "30:\tlearn: 0.0855113\ttotal: 7.73s\tremaining: 42.1s\n",
            "31:\tlearn: 0.0837416\ttotal: 7.97s\tremaining: 41.8s\n",
            "32:\tlearn: 0.0819651\ttotal: 8.2s\tremaining: 41.5s\n",
            "33:\tlearn: 0.0802717\ttotal: 8.43s\tremaining: 41.2s\n",
            "34:\tlearn: 0.0784493\ttotal: 8.68s\tremaining: 40.9s\n",
            "35:\tlearn: 0.0767243\ttotal: 8.92s\tremaining: 40.6s\n",
            "36:\tlearn: 0.0751174\ttotal: 9.17s\tremaining: 40.4s\n",
            "37:\tlearn: 0.0735793\ttotal: 9.41s\tremaining: 40.1s\n",
            "38:\tlearn: 0.0722567\ttotal: 9.65s\tremaining: 39.8s\n",
            "39:\tlearn: 0.0709982\ttotal: 9.88s\tremaining: 39.5s\n",
            "40:\tlearn: 0.0699936\ttotal: 10.1s\tremaining: 39.2s\n",
            "41:\tlearn: 0.0689767\ttotal: 10.4s\tremaining: 39s\n",
            "42:\tlearn: 0.0681215\ttotal: 10.6s\tremaining: 38.7s\n",
            "43:\tlearn: 0.0646175\ttotal: 10.8s\tremaining: 38.4s\n",
            "44:\tlearn: 0.0635286\ttotal: 11.1s\tremaining: 38.2s\n",
            "45:\tlearn: 0.0625997\ttotal: 11.4s\tremaining: 38.1s\n",
            "46:\tlearn: 0.0616728\ttotal: 11.6s\tremaining: 37.9s\n",
            "47:\tlearn: 0.0608897\ttotal: 11.9s\tremaining: 37.6s\n",
            "48:\tlearn: 0.0595655\ttotal: 12.1s\tremaining: 37.4s\n",
            "49:\tlearn: 0.0587365\ttotal: 12.4s\tremaining: 37.1s\n",
            "50:\tlearn: 0.0579804\ttotal: 12.6s\tremaining: 36.9s\n",
            "51:\tlearn: 0.0571363\ttotal: 12.9s\tremaining: 36.7s\n",
            "52:\tlearn: 0.0563414\ttotal: 13.1s\tremaining: 36.5s\n",
            "53:\tlearn: 0.0556503\ttotal: 13.4s\tremaining: 36.2s\n",
            "54:\tlearn: 0.0549923\ttotal: 13.6s\tremaining: 35.9s\n",
            "55:\tlearn: 0.0530495\ttotal: 13.8s\tremaining: 35.6s\n",
            "56:\tlearn: 0.0523123\ttotal: 14.1s\tremaining: 35.3s\n",
            "57:\tlearn: 0.0509987\ttotal: 14.3s\tremaining: 35.1s\n",
            "58:\tlearn: 0.0502843\ttotal: 14.6s\tremaining: 34.8s\n",
            "59:\tlearn: 0.0496267\ttotal: 14.8s\tremaining: 34.6s\n",
            "60:\tlearn: 0.0488791\ttotal: 15s\tremaining: 34.3s\n",
            "61:\tlearn: 0.0481358\ttotal: 15.3s\tremaining: 34.1s\n",
            "62:\tlearn: 0.0474801\ttotal: 15.5s\tremaining: 33.8s\n",
            "63:\tlearn: 0.0468306\ttotal: 15.8s\tremaining: 33.5s\n",
            "64:\tlearn: 0.0462218\ttotal: 16s\tremaining: 33.3s\n",
            "65:\tlearn: 0.0456560\ttotal: 16.3s\tremaining: 33.1s\n",
            "66:\tlearn: 0.0450882\ttotal: 16.5s\tremaining: 32.8s\n",
            "67:\tlearn: 0.0445472\ttotal: 16.8s\tremaining: 32.5s\n",
            "68:\tlearn: 0.0440395\ttotal: 17s\tremaining: 32.3s\n",
            "69:\tlearn: 0.0435247\ttotal: 17.3s\tremaining: 32s\n",
            "70:\tlearn: 0.0428497\ttotal: 17.5s\tremaining: 31.8s\n",
            "71:\tlearn: 0.0423926\ttotal: 17.7s\tremaining: 31.5s\n",
            "72:\tlearn: 0.0418444\ttotal: 18s\tremaining: 31.3s\n",
            "73:\tlearn: 0.0413988\ttotal: 18.2s\tremaining: 31s\n",
            "74:\tlearn: 0.0409926\ttotal: 18.5s\tremaining: 30.8s\n",
            "75:\tlearn: 0.0405393\ttotal: 18.7s\tremaining: 30.5s\n",
            "76:\tlearn: 0.0390353\ttotal: 19s\tremaining: 30.3s\n",
            "77:\tlearn: 0.0386764\ttotal: 19.2s\tremaining: 30s\n",
            "78:\tlearn: 0.0380561\ttotal: 19.5s\tremaining: 29.8s\n",
            "79:\tlearn: 0.0376869\ttotal: 19.7s\tremaining: 29.5s\n",
            "80:\tlearn: 0.0372247\ttotal: 19.9s\tremaining: 29.3s\n",
            "81:\tlearn: 0.0363722\ttotal: 20.2s\tremaining: 29s\n",
            "82:\tlearn: 0.0360177\ttotal: 20.4s\tremaining: 28.8s\n",
            "83:\tlearn: 0.0357108\ttotal: 20.7s\tremaining: 28.5s\n",
            "84:\tlearn: 0.0352370\ttotal: 20.9s\tremaining: 28.3s\n",
            "85:\tlearn: 0.0348890\ttotal: 21.2s\tremaining: 28.1s\n",
            "86:\tlearn: 0.0344331\ttotal: 21.5s\tremaining: 27.9s\n",
            "87:\tlearn: 0.0341240\ttotal: 21.7s\tremaining: 27.6s\n",
            "88:\tlearn: 0.0338248\ttotal: 22s\tremaining: 27.4s\n",
            "89:\tlearn: 0.0333347\ttotal: 22.2s\tremaining: 27.1s\n",
            "90:\tlearn: 0.0330255\ttotal: 22.4s\tremaining: 26.9s\n",
            "91:\tlearn: 0.0324938\ttotal: 22.7s\tremaining: 26.7s\n",
            "92:\tlearn: 0.0321980\ttotal: 22.9s\tremaining: 26.4s\n",
            "93:\tlearn: 0.0317046\ttotal: 23.2s\tremaining: 26.2s\n",
            "94:\tlearn: 0.0314278\ttotal: 23.4s\tremaining: 25.9s\n",
            "95:\tlearn: 0.0311604\ttotal: 23.7s\tremaining: 25.7s\n",
            "96:\tlearn: 0.0305539\ttotal: 24s\tremaining: 25.4s\n",
            "97:\tlearn: 0.0302403\ttotal: 24.2s\tremaining: 25.2s\n",
            "98:\tlearn: 0.0300019\ttotal: 24.5s\tremaining: 24.9s\n",
            "99:\tlearn: 0.0297548\ttotal: 24.7s\tremaining: 24.7s\n",
            "100:\tlearn: 0.0295154\ttotal: 25s\tremaining: 24.5s\n",
            "101:\tlearn: 0.0292921\ttotal: 25.2s\tremaining: 24.2s\n",
            "102:\tlearn: 0.0290594\ttotal: 25.4s\tremaining: 24s\n",
            "103:\tlearn: 0.0283821\ttotal: 25.7s\tremaining: 23.7s\n",
            "104:\tlearn: 0.0281410\ttotal: 25.9s\tremaining: 23.5s\n",
            "105:\tlearn: 0.0279040\ttotal: 26.2s\tremaining: 23.2s\n",
            "106:\tlearn: 0.0276512\ttotal: 26.4s\tremaining: 23s\n",
            "107:\tlearn: 0.0273804\ttotal: 26.7s\tremaining: 22.7s\n",
            "108:\tlearn: 0.0271616\ttotal: 26.9s\tremaining: 22.5s\n",
            "109:\tlearn: 0.0268936\ttotal: 27.2s\tremaining: 22.2s\n",
            "110:\tlearn: 0.0265931\ttotal: 27.5s\tremaining: 22s\n",
            "111:\tlearn: 0.0263894\ttotal: 27.7s\tremaining: 21.8s\n",
            "112:\tlearn: 0.0261783\ttotal: 28s\tremaining: 21.5s\n",
            "113:\tlearn: 0.0259455\ttotal: 28.2s\tremaining: 21.3s\n",
            "114:\tlearn: 0.0256800\ttotal: 28.4s\tremaining: 21s\n",
            "115:\tlearn: 0.0254979\ttotal: 28.7s\tremaining: 20.8s\n",
            "116:\tlearn: 0.0253138\ttotal: 28.9s\tremaining: 20.5s\n",
            "117:\tlearn: 0.0251241\ttotal: 29.2s\tremaining: 20.3s\n",
            "118:\tlearn: 0.0248385\ttotal: 29.4s\tremaining: 20s\n",
            "119:\tlearn: 0.0246811\ttotal: 29.7s\tremaining: 19.8s\n",
            "120:\tlearn: 0.0245293\ttotal: 29.9s\tremaining: 19.5s\n",
            "121:\tlearn: 0.0243348\ttotal: 30.2s\tremaining: 19.3s\n",
            "122:\tlearn: 0.0241984\ttotal: 30.4s\tremaining: 19s\n",
            "123:\tlearn: 0.0240557\ttotal: 30.6s\tremaining: 18.8s\n",
            "124:\tlearn: 0.0238697\ttotal: 30.9s\tremaining: 18.5s\n",
            "125:\tlearn: 0.0231010\ttotal: 31.1s\tremaining: 18.3s\n",
            "126:\tlearn: 0.0229613\ttotal: 31.5s\tremaining: 18.1s\n",
            "127:\tlearn: 0.0228113\ttotal: 31.7s\tremaining: 17.8s\n",
            "128:\tlearn: 0.0222556\ttotal: 32s\tremaining: 17.6s\n",
            "129:\tlearn: 0.0221099\ttotal: 32.3s\tremaining: 17.4s\n",
            "130:\tlearn: 0.0219597\ttotal: 32.5s\tremaining: 17.1s\n",
            "131:\tlearn: 0.0217681\ttotal: 32.8s\tremaining: 16.9s\n",
            "132:\tlearn: 0.0215227\ttotal: 33s\tremaining: 16.6s\n",
            "133:\tlearn: 0.0213220\ttotal: 33.3s\tremaining: 16.4s\n",
            "134:\tlearn: 0.0211915\ttotal: 33.5s\tremaining: 16.1s\n",
            "135:\tlearn: 0.0210485\ttotal: 33.8s\tremaining: 15.9s\n",
            "136:\tlearn: 0.0209189\ttotal: 34s\tremaining: 15.6s\n",
            "137:\tlearn: 0.0207453\ttotal: 34.3s\tremaining: 15.4s\n",
            "138:\tlearn: 0.0206228\ttotal: 34.5s\tremaining: 15.1s\n",
            "139:\tlearn: 0.0205025\ttotal: 34.8s\tremaining: 14.9s\n",
            "140:\tlearn: 0.0203722\ttotal: 35s\tremaining: 14.7s\n",
            "141:\tlearn: 0.0202014\ttotal: 35.3s\tremaining: 14.4s\n",
            "142:\tlearn: 0.0200720\ttotal: 35.5s\tremaining: 14.2s\n",
            "143:\tlearn: 0.0199577\ttotal: 35.8s\tremaining: 13.9s\n",
            "144:\tlearn: 0.0198098\ttotal: 36s\tremaining: 13.7s\n",
            "145:\tlearn: 0.0197034\ttotal: 36.3s\tremaining: 13.4s\n",
            "146:\tlearn: 0.0195237\ttotal: 36.5s\tremaining: 13.2s\n",
            "147:\tlearn: 0.0194021\ttotal: 36.7s\tremaining: 12.9s\n",
            "148:\tlearn: 0.0192951\ttotal: 37s\tremaining: 12.7s\n",
            "149:\tlearn: 0.0191901\ttotal: 37.3s\tremaining: 12.4s\n",
            "150:\tlearn: 0.0190906\ttotal: 37.5s\tremaining: 12.2s\n",
            "151:\tlearn: 0.0187803\ttotal: 37.8s\tremaining: 11.9s\n",
            "152:\tlearn: 0.0186773\ttotal: 38.1s\tremaining: 11.7s\n",
            "153:\tlearn: 0.0185792\ttotal: 38.3s\tremaining: 11.4s\n",
            "154:\tlearn: 0.0184527\ttotal: 38.5s\tremaining: 11.2s\n",
            "155:\tlearn: 0.0183426\ttotal: 38.8s\tremaining: 10.9s\n",
            "156:\tlearn: 0.0182278\ttotal: 39s\tremaining: 10.7s\n",
            "157:\tlearn: 0.0177394\ttotal: 39.3s\tremaining: 10.4s\n",
            "158:\tlearn: 0.0176480\ttotal: 39.5s\tremaining: 10.2s\n",
            "159:\tlearn: 0.0175099\ttotal: 39.8s\tremaining: 9.95s\n",
            "160:\tlearn: 0.0172633\ttotal: 40s\tremaining: 9.7s\n",
            "161:\tlearn: 0.0170963\ttotal: 40.3s\tremaining: 9.45s\n",
            "162:\tlearn: 0.0168052\ttotal: 40.5s\tremaining: 9.2s\n",
            "163:\tlearn: 0.0166946\ttotal: 40.8s\tremaining: 8.95s\n",
            "164:\tlearn: 0.0166060\ttotal: 41s\tremaining: 8.7s\n",
            "165:\tlearn: 0.0165020\ttotal: 41.3s\tremaining: 8.46s\n",
            "166:\tlearn: 0.0164184\ttotal: 41.6s\tremaining: 8.21s\n",
            "167:\tlearn: 0.0163408\ttotal: 41.8s\tremaining: 7.96s\n",
            "168:\tlearn: 0.0162213\ttotal: 42s\tremaining: 7.71s\n",
            "169:\tlearn: 0.0161452\ttotal: 42.3s\tremaining: 7.46s\n",
            "170:\tlearn: 0.0160711\ttotal: 42.5s\tremaining: 7.21s\n",
            "171:\tlearn: 0.0159500\ttotal: 42.8s\tremaining: 6.96s\n",
            "172:\tlearn: 0.0158755\ttotal: 43s\tremaining: 6.71s\n",
            "173:\tlearn: 0.0155125\ttotal: 43.2s\tremaining: 6.46s\n",
            "174:\tlearn: 0.0154293\ttotal: 43.5s\tremaining: 6.21s\n",
            "175:\tlearn: 0.0153561\ttotal: 43.7s\tremaining: 5.96s\n",
            "176:\tlearn: 0.0152776\ttotal: 44s\tremaining: 5.71s\n",
            "177:\tlearn: 0.0151792\ttotal: 44.2s\tremaining: 5.46s\n",
            "178:\tlearn: 0.0150973\ttotal: 44.4s\tremaining: 5.21s\n",
            "179:\tlearn: 0.0149191\ttotal: 44.7s\tremaining: 4.96s\n",
            "180:\tlearn: 0.0148496\ttotal: 44.9s\tremaining: 4.71s\n",
            "181:\tlearn: 0.0147830\ttotal: 45.2s\tremaining: 4.47s\n",
            "182:\tlearn: 0.0147210\ttotal: 45.4s\tremaining: 4.22s\n",
            "183:\tlearn: 0.0144761\ttotal: 45.6s\tremaining: 3.97s\n",
            "184:\tlearn: 0.0144006\ttotal: 45.9s\tremaining: 3.72s\n",
            "185:\tlearn: 0.0141579\ttotal: 46.1s\tremaining: 3.47s\n",
            "186:\tlearn: 0.0140920\ttotal: 46.3s\tremaining: 3.22s\n",
            "187:\tlearn: 0.0139404\ttotal: 46.6s\tremaining: 2.97s\n",
            "188:\tlearn: 0.0138680\ttotal: 46.8s\tremaining: 2.73s\n",
            "189:\tlearn: 0.0138042\ttotal: 47.1s\tremaining: 2.48s\n",
            "190:\tlearn: 0.0137408\ttotal: 47.3s\tremaining: 2.23s\n",
            "191:\tlearn: 0.0136725\ttotal: 47.5s\tremaining: 1.98s\n",
            "192:\tlearn: 0.0136150\ttotal: 47.8s\tremaining: 1.73s\n",
            "193:\tlearn: 0.0135466\ttotal: 48s\tremaining: 1.49s\n",
            "194:\tlearn: 0.0134897\ttotal: 48.3s\tremaining: 1.24s\n",
            "195:\tlearn: 0.0134368\ttotal: 48.5s\tremaining: 989ms\n",
            "196:\tlearn: 0.0133841\ttotal: 48.7s\tremaining: 742ms\n",
            "197:\tlearn: 0.0133061\ttotal: 48.9s\tremaining: 494ms\n",
            "198:\tlearn: 0.0132551\ttotal: 49.2s\tremaining: 247ms\n",
            "199:\tlearn: 0.0128050\ttotal: 49.4s\tremaining: 0us\n",
            "[CV 3/3; 5/9] END .........iterations=200, learning_rate=1.0; total time=  51.4s\n",
            "[CV 1/3; 6/9] START iterations=200, learning_rate=0.2...........................\n",
            "0:\tlearn: 0.5212708\ttotal: 339ms\tremaining: 1m 7s\n",
            "1:\tlearn: 0.4072900\ttotal: 575ms\tremaining: 56.9s\n",
            "2:\tlearn: 0.3484539\ttotal: 810ms\tremaining: 53.2s\n",
            "3:\tlearn: 0.3051713\ttotal: 1.04s\tremaining: 51s\n",
            "4:\tlearn: 0.2774157\ttotal: 1.29s\tremaining: 50.2s\n",
            "5:\tlearn: 0.2582186\ttotal: 1.52s\tremaining: 49.2s\n",
            "6:\tlearn: 0.2450462\ttotal: 1.76s\tremaining: 48.4s\n",
            "7:\tlearn: 0.2354369\ttotal: 2s\tremaining: 48.1s\n",
            "8:\tlearn: 0.2286421\ttotal: 2.23s\tremaining: 47.4s\n",
            "9:\tlearn: 0.2237668\ttotal: 2.48s\tremaining: 47.1s\n",
            "10:\tlearn: 0.2185426\ttotal: 2.72s\tremaining: 46.7s\n",
            "11:\tlearn: 0.2152759\ttotal: 2.95s\tremaining: 46.2s\n",
            "12:\tlearn: 0.2096017\ttotal: 3.19s\tremaining: 45.8s\n",
            "13:\tlearn: 0.2068185\ttotal: 3.41s\tremaining: 45.4s\n",
            "14:\tlearn: 0.2039560\ttotal: 3.65s\tremaining: 45s\n",
            "15:\tlearn: 0.2017295\ttotal: 3.88s\tremaining: 44.7s\n",
            "16:\tlearn: 0.1991547\ttotal: 4.13s\tremaining: 44.4s\n",
            "17:\tlearn: 0.1971479\ttotal: 4.37s\tremaining: 44.2s\n",
            "18:\tlearn: 0.1948874\ttotal: 4.61s\tremaining: 43.9s\n",
            "19:\tlearn: 0.1933191\ttotal: 4.84s\tremaining: 43.5s\n",
            "20:\tlearn: 0.1908602\ttotal: 5.08s\tremaining: 43.3s\n",
            "21:\tlearn: 0.1887958\ttotal: 5.31s\tremaining: 43s\n",
            "22:\tlearn: 0.1871539\ttotal: 5.55s\tremaining: 42.7s\n",
            "23:\tlearn: 0.1859825\ttotal: 5.79s\tremaining: 42.5s\n",
            "24:\tlearn: 0.1844659\ttotal: 6.04s\tremaining: 42.3s\n",
            "25:\tlearn: 0.1829813\ttotal: 6.28s\tremaining: 42s\n",
            "26:\tlearn: 0.1814248\ttotal: 6.52s\tremaining: 41.8s\n",
            "27:\tlearn: 0.1786981\ttotal: 6.75s\tremaining: 41.5s\n",
            "28:\tlearn: 0.1773033\ttotal: 6.99s\tremaining: 41.2s\n",
            "29:\tlearn: 0.1758314\ttotal: 7.23s\tremaining: 41s\n",
            "30:\tlearn: 0.1736317\ttotal: 7.47s\tremaining: 40.7s\n",
            "31:\tlearn: 0.1723754\ttotal: 7.71s\tremaining: 40.5s\n",
            "32:\tlearn: 0.1712441\ttotal: 7.96s\tremaining: 40.3s\n",
            "33:\tlearn: 0.1702563\ttotal: 8.2s\tremaining: 40s\n",
            "34:\tlearn: 0.1691974\ttotal: 8.43s\tremaining: 39.7s\n",
            "35:\tlearn: 0.1679598\ttotal: 8.66s\tremaining: 39.4s\n",
            "36:\tlearn: 0.1670191\ttotal: 8.88s\tremaining: 39.1s\n",
            "37:\tlearn: 0.1659187\ttotal: 9.12s\tremaining: 38.9s\n",
            "38:\tlearn: 0.1645829\ttotal: 9.35s\tremaining: 38.6s\n",
            "39:\tlearn: 0.1638421\ttotal: 9.59s\tremaining: 38.4s\n",
            "40:\tlearn: 0.1631789\ttotal: 9.87s\tremaining: 38.3s\n",
            "41:\tlearn: 0.1624092\ttotal: 10.1s\tremaining: 38.1s\n",
            "42:\tlearn: 0.1616447\ttotal: 10.4s\tremaining: 37.9s\n",
            "43:\tlearn: 0.1608127\ttotal: 10.6s\tremaining: 37.6s\n",
            "44:\tlearn: 0.1596473\ttotal: 10.8s\tremaining: 37.3s\n",
            "45:\tlearn: 0.1586442\ttotal: 11.1s\tremaining: 37.1s\n",
            "46:\tlearn: 0.1573454\ttotal: 11.3s\tremaining: 36.8s\n",
            "47:\tlearn: 0.1563648\ttotal: 11.5s\tremaining: 36.6s\n",
            "48:\tlearn: 0.1554613\ttotal: 11.8s\tremaining: 36.3s\n",
            "49:\tlearn: 0.1546267\ttotal: 12s\tremaining: 36s\n",
            "50:\tlearn: 0.1538981\ttotal: 12.2s\tremaining: 35.8s\n",
            "51:\tlearn: 0.1528429\ttotal: 12.5s\tremaining: 35.5s\n",
            "52:\tlearn: 0.1511932\ttotal: 12.7s\tremaining: 35.3s\n",
            "53:\tlearn: 0.1502829\ttotal: 13s\tremaining: 35.1s\n",
            "54:\tlearn: 0.1492270\ttotal: 13.2s\tremaining: 34.8s\n",
            "55:\tlearn: 0.1485702\ttotal: 13.4s\tremaining: 34.6s\n",
            "56:\tlearn: 0.1478203\ttotal: 13.7s\tremaining: 34.3s\n",
            "57:\tlearn: 0.1471904\ttotal: 13.9s\tremaining: 34.1s\n",
            "58:\tlearn: 0.1464985\ttotal: 14.1s\tremaining: 33.8s\n",
            "59:\tlearn: 0.1452380\ttotal: 14.4s\tremaining: 33.6s\n",
            "60:\tlearn: 0.1446528\ttotal: 14.6s\tremaining: 33.4s\n",
            "61:\tlearn: 0.1436662\ttotal: 14.9s\tremaining: 33.1s\n",
            "62:\tlearn: 0.1430924\ttotal: 15.1s\tremaining: 32.9s\n",
            "63:\tlearn: 0.1418530\ttotal: 15.4s\tremaining: 32.7s\n",
            "64:\tlearn: 0.1412202\ttotal: 15.6s\tremaining: 32.4s\n",
            "65:\tlearn: 0.1406543\ttotal: 15.8s\tremaining: 32.2s\n",
            "66:\tlearn: 0.1390161\ttotal: 16.1s\tremaining: 31.9s\n",
            "67:\tlearn: 0.1378326\ttotal: 16.3s\tremaining: 31.7s\n",
            "68:\tlearn: 0.1373249\ttotal: 16.5s\tremaining: 31.4s\n",
            "69:\tlearn: 0.1363460\ttotal: 16.8s\tremaining: 31.2s\n",
            "70:\tlearn: 0.1358236\ttotal: 17s\tremaining: 30.9s\n",
            "71:\tlearn: 0.1348426\ttotal: 17.2s\tremaining: 30.6s\n",
            "72:\tlearn: 0.1333497\ttotal: 17.5s\tremaining: 30.4s\n",
            "73:\tlearn: 0.1322330\ttotal: 17.7s\tremaining: 30.2s\n",
            "74:\tlearn: 0.1317631\ttotal: 17.9s\tremaining: 29.9s\n",
            "75:\tlearn: 0.1305906\ttotal: 18.2s\tremaining: 29.7s\n",
            "76:\tlearn: 0.1299148\ttotal: 18.4s\tremaining: 29.4s\n",
            "77:\tlearn: 0.1292021\ttotal: 18.7s\tremaining: 29.2s\n",
            "78:\tlearn: 0.1281329\ttotal: 18.9s\tremaining: 28.9s\n",
            "79:\tlearn: 0.1269179\ttotal: 19.1s\tremaining: 28.7s\n",
            "80:\tlearn: 0.1264799\ttotal: 19.4s\tremaining: 28.5s\n",
            "81:\tlearn: 0.1260189\ttotal: 19.6s\tremaining: 28.3s\n",
            "82:\tlearn: 0.1255257\ttotal: 19.9s\tremaining: 28.1s\n",
            "83:\tlearn: 0.1248671\ttotal: 20.2s\tremaining: 27.9s\n",
            "84:\tlearn: 0.1236771\ttotal: 20.5s\tremaining: 27.7s\n",
            "85:\tlearn: 0.1230945\ttotal: 20.7s\tremaining: 27.4s\n",
            "86:\tlearn: 0.1226771\ttotal: 20.9s\tremaining: 27.2s\n",
            "87:\tlearn: 0.1222600\ttotal: 21.2s\tremaining: 27s\n",
            "88:\tlearn: 0.1213781\ttotal: 21.5s\tremaining: 26.8s\n",
            "89:\tlearn: 0.1210210\ttotal: 21.7s\tremaining: 26.5s\n",
            "90:\tlearn: 0.1206738\ttotal: 21.9s\tremaining: 26.3s\n",
            "91:\tlearn: 0.1202383\ttotal: 22.2s\tremaining: 26s\n",
            "92:\tlearn: 0.1189316\ttotal: 22.4s\tremaining: 25.8s\n",
            "93:\tlearn: 0.1184227\ttotal: 22.7s\tremaining: 25.6s\n",
            "94:\tlearn: 0.1180556\ttotal: 22.9s\tremaining: 25.3s\n",
            "95:\tlearn: 0.1172948\ttotal: 23.2s\tremaining: 25.1s\n",
            "96:\tlearn: 0.1169425\ttotal: 23.4s\tremaining: 24.9s\n",
            "97:\tlearn: 0.1165951\ttotal: 23.7s\tremaining: 24.6s\n",
            "98:\tlearn: 0.1162306\ttotal: 23.9s\tremaining: 24.4s\n",
            "99:\tlearn: 0.1158875\ttotal: 24.2s\tremaining: 24.2s\n",
            "100:\tlearn: 0.1155623\ttotal: 24.4s\tremaining: 23.9s\n",
            "101:\tlearn: 0.1152418\ttotal: 24.7s\tremaining: 23.7s\n",
            "102:\tlearn: 0.1146619\ttotal: 24.9s\tremaining: 23.5s\n",
            "103:\tlearn: 0.1142159\ttotal: 25.2s\tremaining: 23.2s\n",
            "104:\tlearn: 0.1139072\ttotal: 25.4s\tremaining: 23s\n",
            "105:\tlearn: 0.1134179\ttotal: 25.7s\tremaining: 22.8s\n",
            "106:\tlearn: 0.1124151\ttotal: 25.9s\tremaining: 22.5s\n",
            "107:\tlearn: 0.1120937\ttotal: 26.2s\tremaining: 22.3s\n",
            "108:\tlearn: 0.1114544\ttotal: 26.4s\tremaining: 22.1s\n",
            "109:\tlearn: 0.1111401\ttotal: 26.7s\tremaining: 21.8s\n",
            "110:\tlearn: 0.1108396\ttotal: 26.9s\tremaining: 21.6s\n",
            "111:\tlearn: 0.1103636\ttotal: 27.1s\tremaining: 21.3s\n",
            "112:\tlearn: 0.1100639\ttotal: 27.4s\tremaining: 21.1s\n",
            "113:\tlearn: 0.1097287\ttotal: 27.6s\tremaining: 20.8s\n",
            "114:\tlearn: 0.1094202\ttotal: 27.9s\tremaining: 20.6s\n",
            "115:\tlearn: 0.1091162\ttotal: 28.1s\tremaining: 20.4s\n",
            "116:\tlearn: 0.1088085\ttotal: 28.4s\tremaining: 20.1s\n",
            "117:\tlearn: 0.1085071\ttotal: 28.6s\tremaining: 19.9s\n",
            "118:\tlearn: 0.1082114\ttotal: 28.8s\tremaining: 19.6s\n",
            "119:\tlearn: 0.1079199\ttotal: 29.1s\tremaining: 19.4s\n",
            "120:\tlearn: 0.1076331\ttotal: 29.3s\tremaining: 19.1s\n",
            "121:\tlearn: 0.1070585\ttotal: 29.6s\tremaining: 18.9s\n",
            "122:\tlearn: 0.1067920\ttotal: 29.9s\tremaining: 18.7s\n",
            "123:\tlearn: 0.1060194\ttotal: 30.1s\tremaining: 18.5s\n",
            "124:\tlearn: 0.1053280\ttotal: 30.4s\tremaining: 18.2s\n",
            "125:\tlearn: 0.1050499\ttotal: 30.7s\tremaining: 18s\n",
            "126:\tlearn: 0.1046772\ttotal: 30.9s\tremaining: 17.8s\n",
            "127:\tlearn: 0.1040270\ttotal: 31.2s\tremaining: 17.5s\n",
            "128:\tlearn: 0.1037535\ttotal: 31.4s\tremaining: 17.3s\n",
            "129:\tlearn: 0.1034839\ttotal: 31.6s\tremaining: 17s\n",
            "130:\tlearn: 0.1032183\ttotal: 31.9s\tremaining: 16.8s\n",
            "131:\tlearn: 0.1029574\ttotal: 32.1s\tremaining: 16.5s\n",
            "132:\tlearn: 0.1026903\ttotal: 32.4s\tremaining: 16.3s\n",
            "133:\tlearn: 0.1022124\ttotal: 32.6s\tremaining: 16.1s\n",
            "134:\tlearn: 0.1018921\ttotal: 32.8s\tremaining: 15.8s\n",
            "135:\tlearn: 0.1015196\ttotal: 33.1s\tremaining: 15.6s\n",
            "136:\tlearn: 0.1012522\ttotal: 33.3s\tremaining: 15.3s\n",
            "137:\tlearn: 0.1009902\ttotal: 33.6s\tremaining: 15.1s\n",
            "138:\tlearn: 0.1007318\ttotal: 33.8s\tremaining: 14.8s\n",
            "139:\tlearn: 0.1004798\ttotal: 34s\tremaining: 14.6s\n",
            "140:\tlearn: 0.0997288\ttotal: 34.3s\tremaining: 14.3s\n",
            "141:\tlearn: 0.0994757\ttotal: 34.5s\tremaining: 14.1s\n",
            "142:\tlearn: 0.0992272\ttotal: 34.7s\tremaining: 13.8s\n",
            "143:\tlearn: 0.0989816\ttotal: 35s\tremaining: 13.6s\n",
            "144:\tlearn: 0.0987477\ttotal: 35.2s\tremaining: 13.4s\n",
            "145:\tlearn: 0.0985123\ttotal: 35.5s\tremaining: 13.1s\n",
            "146:\tlearn: 0.0982235\ttotal: 35.7s\tremaining: 12.9s\n",
            "147:\tlearn: 0.0979984\ttotal: 35.9s\tremaining: 12.6s\n",
            "148:\tlearn: 0.0975426\ttotal: 36.2s\tremaining: 12.4s\n",
            "149:\tlearn: 0.0972463\ttotal: 36.4s\tremaining: 12.1s\n",
            "150:\tlearn: 0.0970207\ttotal: 36.6s\tremaining: 11.9s\n",
            "151:\tlearn: 0.0963875\ttotal: 36.9s\tremaining: 11.6s\n",
            "152:\tlearn: 0.0959855\ttotal: 37.1s\tremaining: 11.4s\n",
            "153:\tlearn: 0.0957530\ttotal: 37.3s\tremaining: 11.1s\n",
            "154:\tlearn: 0.0955388\ttotal: 37.6s\tremaining: 10.9s\n",
            "155:\tlearn: 0.0944771\ttotal: 37.8s\tremaining: 10.7s\n",
            "156:\tlearn: 0.0941819\ttotal: 38s\tremaining: 10.4s\n",
            "157:\tlearn: 0.0939527\ttotal: 38.3s\tremaining: 10.2s\n",
            "158:\tlearn: 0.0937242\ttotal: 38.5s\tremaining: 9.93s\n",
            "159:\tlearn: 0.0935086\ttotal: 38.7s\tremaining: 9.68s\n",
            "160:\tlearn: 0.0927419\ttotal: 39s\tremaining: 9.44s\n",
            "161:\tlearn: 0.0924850\ttotal: 39.2s\tremaining: 9.19s\n",
            "162:\tlearn: 0.0921257\ttotal: 39.5s\tremaining: 8.96s\n",
            "163:\tlearn: 0.0919130\ttotal: 39.7s\tremaining: 8.72s\n",
            "164:\tlearn: 0.0917004\ttotal: 40s\tremaining: 8.48s\n",
            "165:\tlearn: 0.0914849\ttotal: 40.2s\tremaining: 8.24s\n",
            "166:\tlearn: 0.0912013\ttotal: 40.5s\tremaining: 8s\n",
            "167:\tlearn: 0.0904835\ttotal: 40.7s\tremaining: 7.76s\n",
            "168:\tlearn: 0.0902693\ttotal: 41s\tremaining: 7.51s\n",
            "169:\tlearn: 0.0900728\ttotal: 41.2s\tremaining: 7.27s\n",
            "170:\tlearn: 0.0897490\ttotal: 41.4s\tremaining: 7.03s\n",
            "171:\tlearn: 0.0894023\ttotal: 41.7s\tremaining: 6.78s\n",
            "172:\tlearn: 0.0891911\ttotal: 41.9s\tremaining: 6.54s\n",
            "173:\tlearn: 0.0889889\ttotal: 42.1s\tremaining: 6.3s\n",
            "174:\tlearn: 0.0887858\ttotal: 42.4s\tremaining: 6.05s\n",
            "175:\tlearn: 0.0885917\ttotal: 42.6s\tremaining: 5.81s\n",
            "176:\tlearn: 0.0883949\ttotal: 42.8s\tremaining: 5.57s\n",
            "177:\tlearn: 0.0881985\ttotal: 43.1s\tremaining: 5.33s\n",
            "178:\tlearn: 0.0880044\ttotal: 43.3s\tremaining: 5.08s\n",
            "179:\tlearn: 0.0873981\ttotal: 43.6s\tremaining: 4.84s\n",
            "180:\tlearn: 0.0872074\ttotal: 43.8s\tremaining: 4.6s\n",
            "181:\tlearn: 0.0870152\ttotal: 44.1s\tremaining: 4.36s\n",
            "182:\tlearn: 0.0863329\ttotal: 44.3s\tremaining: 4.12s\n",
            "183:\tlearn: 0.0861464\ttotal: 44.6s\tremaining: 3.87s\n",
            "184:\tlearn: 0.0858847\ttotal: 44.8s\tremaining: 3.63s\n",
            "185:\tlearn: 0.0856425\ttotal: 45s\tremaining: 3.39s\n",
            "186:\tlearn: 0.0854546\ttotal: 45.3s\tremaining: 3.15s\n",
            "187:\tlearn: 0.0845891\ttotal: 45.5s\tremaining: 2.9s\n",
            "188:\tlearn: 0.0844004\ttotal: 45.8s\tremaining: 2.66s\n",
            "189:\tlearn: 0.0842159\ttotal: 46s\tremaining: 2.42s\n",
            "190:\tlearn: 0.0840354\ttotal: 46.2s\tremaining: 2.18s\n",
            "191:\tlearn: 0.0838507\ttotal: 46.5s\tremaining: 1.94s\n",
            "192:\tlearn: 0.0836682\ttotal: 46.7s\tremaining: 1.69s\n",
            "193:\tlearn: 0.0834667\ttotal: 46.9s\tremaining: 1.45s\n",
            "194:\tlearn: 0.0832874\ttotal: 47.2s\tremaining: 1.21s\n",
            "195:\tlearn: 0.0828665\ttotal: 47.4s\tremaining: 968ms\n",
            "196:\tlearn: 0.0826887\ttotal: 47.6s\tremaining: 726ms\n",
            "197:\tlearn: 0.0823331\ttotal: 47.9s\tremaining: 484ms\n",
            "198:\tlearn: 0.0821567\ttotal: 48.1s\tremaining: 242ms\n",
            "199:\tlearn: 0.0812225\ttotal: 48.4s\tremaining: 0us\n",
            "[CV 1/3; 6/9] END .........iterations=200, learning_rate=0.2; total time=  50.5s\n",
            "[CV 2/3; 6/9] START iterations=200, learning_rate=0.2...........................\n",
            "0:\tlearn: 0.5231330\ttotal: 353ms\tremaining: 1m 10s\n",
            "1:\tlearn: 0.4179903\ttotal: 604ms\tremaining: 59.8s\n",
            "2:\tlearn: 0.3452815\ttotal: 846ms\tremaining: 55.5s\n",
            "3:\tlearn: 0.3023549\ttotal: 1.09s\tremaining: 53.4s\n",
            "4:\tlearn: 0.2758922\ttotal: 1.33s\tremaining: 51.9s\n",
            "5:\tlearn: 0.2585611\ttotal: 1.57s\tremaining: 50.9s\n",
            "6:\tlearn: 0.2443122\ttotal: 1.83s\tremaining: 50.5s\n",
            "7:\tlearn: 0.2339146\ttotal: 2.08s\tremaining: 49.9s\n",
            "8:\tlearn: 0.2253028\ttotal: 2.32s\tremaining: 49.2s\n",
            "9:\tlearn: 0.2195628\ttotal: 2.56s\tremaining: 48.7s\n",
            "10:\tlearn: 0.2146602\ttotal: 2.8s\tremaining: 48.1s\n",
            "11:\tlearn: 0.2102645\ttotal: 3.06s\tremaining: 48s\n",
            "12:\tlearn: 0.2068188\ttotal: 3.32s\tremaining: 47.7s\n",
            "13:\tlearn: 0.2028272\ttotal: 3.58s\tremaining: 47.6s\n",
            "14:\tlearn: 0.1988719\ttotal: 3.83s\tremaining: 47.2s\n",
            "15:\tlearn: 0.1966222\ttotal: 4.06s\tremaining: 46.7s\n",
            "16:\tlearn: 0.1937588\ttotal: 4.3s\tremaining: 46.3s\n",
            "17:\tlearn: 0.1910982\ttotal: 4.54s\tremaining: 45.9s\n",
            "18:\tlearn: 0.1887046\ttotal: 4.79s\tremaining: 45.6s\n",
            "19:\tlearn: 0.1866321\ttotal: 5.03s\tremaining: 45.3s\n",
            "20:\tlearn: 0.1847001\ttotal: 5.27s\tremaining: 44.9s\n",
            "21:\tlearn: 0.1835807\ttotal: 5.51s\tremaining: 44.6s\n",
            "22:\tlearn: 0.1822114\ttotal: 5.75s\tremaining: 44.3s\n",
            "23:\tlearn: 0.1805440\ttotal: 5.99s\tremaining: 43.9s\n",
            "24:\tlearn: 0.1782676\ttotal: 6.22s\tremaining: 43.6s\n",
            "25:\tlearn: 0.1764501\ttotal: 6.46s\tremaining: 43.3s\n",
            "26:\tlearn: 0.1747424\ttotal: 6.7s\tremaining: 43s\n",
            "27:\tlearn: 0.1731816\ttotal: 6.95s\tremaining: 42.7s\n",
            "28:\tlearn: 0.1710979\ttotal: 7.18s\tremaining: 42.4s\n",
            "29:\tlearn: 0.1698085\ttotal: 7.43s\tremaining: 42.1s\n",
            "30:\tlearn: 0.1688717\ttotal: 7.67s\tremaining: 41.8s\n",
            "31:\tlearn: 0.1676002\ttotal: 7.91s\tremaining: 41.5s\n",
            "32:\tlearn: 0.1663018\ttotal: 8.14s\tremaining: 41.2s\n",
            "33:\tlearn: 0.1653262\ttotal: 8.38s\tremaining: 40.9s\n",
            "34:\tlearn: 0.1636047\ttotal: 8.62s\tremaining: 40.6s\n",
            "35:\tlearn: 0.1628514\ttotal: 8.88s\tremaining: 40.4s\n",
            "36:\tlearn: 0.1619889\ttotal: 9.19s\tremaining: 40.5s\n",
            "37:\tlearn: 0.1611566\ttotal: 9.44s\tremaining: 40.2s\n",
            "38:\tlearn: 0.1597053\ttotal: 9.68s\tremaining: 40s\n",
            "39:\tlearn: 0.1589241\ttotal: 9.92s\tremaining: 39.7s\n",
            "40:\tlearn: 0.1576267\ttotal: 10.2s\tremaining: 39.4s\n",
            "41:\tlearn: 0.1564431\ttotal: 10.4s\tremaining: 39.2s\n",
            "42:\tlearn: 0.1556830\ttotal: 10.6s\tremaining: 38.9s\n",
            "43:\tlearn: 0.1550711\ttotal: 10.9s\tremaining: 38.6s\n",
            "44:\tlearn: 0.1542613\ttotal: 11.1s\tremaining: 38.3s\n",
            "45:\tlearn: 0.1522899\ttotal: 11.4s\tremaining: 38s\n",
            "46:\tlearn: 0.1515241\ttotal: 11.6s\tremaining: 37.7s\n",
            "47:\tlearn: 0.1507570\ttotal: 11.8s\tremaining: 37.5s\n",
            "48:\tlearn: 0.1497577\ttotal: 12.1s\tremaining: 37.2s\n",
            "49:\tlearn: 0.1491163\ttotal: 12.3s\tremaining: 37s\n",
            "50:\tlearn: 0.1477660\ttotal: 12.6s\tremaining: 36.7s\n",
            "51:\tlearn: 0.1470885\ttotal: 12.8s\tremaining: 36.5s\n",
            "52:\tlearn: 0.1447965\ttotal: 13.1s\tremaining: 36.2s\n",
            "53:\tlearn: 0.1439899\ttotal: 13.3s\tremaining: 36s\n",
            "54:\tlearn: 0.1432067\ttotal: 13.5s\tremaining: 35.7s\n",
            "55:\tlearn: 0.1424963\ttotal: 13.8s\tremaining: 35.5s\n",
            "56:\tlearn: 0.1412414\ttotal: 14s\tremaining: 35.2s\n",
            "57:\tlearn: 0.1405747\ttotal: 14.3s\tremaining: 34.9s\n",
            "58:\tlearn: 0.1400558\ttotal: 14.5s\tremaining: 34.7s\n",
            "59:\tlearn: 0.1394226\ttotal: 14.8s\tremaining: 34.4s\n",
            "60:\tlearn: 0.1383217\ttotal: 15s\tremaining: 34.2s\n",
            "61:\tlearn: 0.1376514\ttotal: 15.3s\tremaining: 34s\n",
            "62:\tlearn: 0.1363335\ttotal: 15.5s\tremaining: 33.7s\n",
            "63:\tlearn: 0.1358301\ttotal: 15.7s\tremaining: 33.5s\n",
            "64:\tlearn: 0.1347762\ttotal: 16s\tremaining: 33.2s\n",
            "65:\tlearn: 0.1336211\ttotal: 16.2s\tremaining: 32.9s\n",
            "66:\tlearn: 0.1330144\ttotal: 16.5s\tremaining: 32.7s\n",
            "67:\tlearn: 0.1318793\ttotal: 16.7s\tremaining: 32.4s\n",
            "68:\tlearn: 0.1313197\ttotal: 16.9s\tremaining: 32.2s\n",
            "69:\tlearn: 0.1308027\ttotal: 17.2s\tremaining: 31.9s\n",
            "70:\tlearn: 0.1292162\ttotal: 17.4s\tremaining: 31.7s\n",
            "71:\tlearn: 0.1281518\ttotal: 17.7s\tremaining: 31.4s\n",
            "72:\tlearn: 0.1268675\ttotal: 17.9s\tremaining: 31.2s\n",
            "73:\tlearn: 0.1261761\ttotal: 18.1s\tremaining: 30.9s\n",
            "74:\tlearn: 0.1257337\ttotal: 18.4s\tremaining: 30.6s\n",
            "75:\tlearn: 0.1252703\ttotal: 18.6s\tremaining: 30.4s\n",
            "76:\tlearn: 0.1243144\ttotal: 18.9s\tremaining: 30.2s\n",
            "77:\tlearn: 0.1237822\ttotal: 19.2s\tremaining: 30.1s\n",
            "78:\tlearn: 0.1233541\ttotal: 19.5s\tremaining: 29.9s\n",
            "79:\tlearn: 0.1225607\ttotal: 19.8s\tremaining: 29.7s\n",
            "80:\tlearn: 0.1219834\ttotal: 20s\tremaining: 29.4s\n",
            "81:\tlearn: 0.1213055\ttotal: 20.3s\tremaining: 29.3s\n",
            "82:\tlearn: 0.1209265\ttotal: 20.6s\tremaining: 29s\n",
            "83:\tlearn: 0.1205935\ttotal: 20.8s\tremaining: 28.8s\n",
            "84:\tlearn: 0.1201806\ttotal: 21.1s\tremaining: 28.5s\n",
            "85:\tlearn: 0.1196577\ttotal: 21.3s\tremaining: 28.3s\n",
            "86:\tlearn: 0.1184895\ttotal: 21.6s\tremaining: 28s\n",
            "87:\tlearn: 0.1180716\ttotal: 21.8s\tremaining: 27.8s\n",
            "88:\tlearn: 0.1177154\ttotal: 22.1s\tremaining: 27.5s\n",
            "89:\tlearn: 0.1173389\ttotal: 22.3s\tremaining: 27.3s\n",
            "90:\tlearn: 0.1169848\ttotal: 22.6s\tremaining: 27s\n",
            "91:\tlearn: 0.1162778\ttotal: 22.8s\tremaining: 26.8s\n",
            "92:\tlearn: 0.1159240\ttotal: 23.1s\tremaining: 26.5s\n",
            "93:\tlearn: 0.1155681\ttotal: 23.3s\tremaining: 26.3s\n",
            "94:\tlearn: 0.1151109\ttotal: 23.6s\tremaining: 26s\n",
            "95:\tlearn: 0.1147565\ttotal: 23.8s\tremaining: 25.8s\n",
            "96:\tlearn: 0.1144013\ttotal: 24.1s\tremaining: 25.6s\n",
            "97:\tlearn: 0.1133734\ttotal: 24.4s\tremaining: 25.4s\n",
            "98:\tlearn: 0.1128271\ttotal: 24.6s\tremaining: 25.1s\n",
            "99:\tlearn: 0.1124736\ttotal: 24.9s\tremaining: 24.9s\n",
            "100:\tlearn: 0.1116717\ttotal: 25.1s\tremaining: 24.6s\n",
            "101:\tlearn: 0.1113344\ttotal: 25.4s\tremaining: 24.4s\n",
            "102:\tlearn: 0.1110117\ttotal: 25.7s\tremaining: 24.2s\n",
            "103:\tlearn: 0.1106964\ttotal: 25.9s\tremaining: 23.9s\n",
            "104:\tlearn: 0.1103900\ttotal: 26.2s\tremaining: 23.7s\n",
            "105:\tlearn: 0.1100880\ttotal: 26.4s\tremaining: 23.4s\n",
            "106:\tlearn: 0.1095369\ttotal: 26.7s\tremaining: 23.2s\n",
            "107:\tlearn: 0.1084839\ttotal: 26.9s\tremaining: 23s\n",
            "108:\tlearn: 0.1076441\ttotal: 27.2s\tremaining: 22.7s\n",
            "109:\tlearn: 0.1073308\ttotal: 27.5s\tremaining: 22.5s\n",
            "110:\tlearn: 0.1064904\ttotal: 27.7s\tremaining: 22.2s\n",
            "111:\tlearn: 0.1058844\ttotal: 28s\tremaining: 22s\n",
            "112:\tlearn: 0.1055772\ttotal: 28.2s\tremaining: 21.7s\n",
            "113:\tlearn: 0.1052656\ttotal: 28.5s\tremaining: 21.5s\n",
            "114:\tlearn: 0.1049537\ttotal: 28.7s\tremaining: 21.2s\n",
            "115:\tlearn: 0.1046444\ttotal: 29.1s\tremaining: 21s\n",
            "116:\tlearn: 0.1043527\ttotal: 29.4s\tremaining: 20.8s\n",
            "117:\tlearn: 0.1039908\ttotal: 29.6s\tremaining: 20.6s\n",
            "118:\tlearn: 0.1036936\ttotal: 29.9s\tremaining: 20.4s\n",
            "119:\tlearn: 0.1032457\ttotal: 30.2s\tremaining: 20.1s\n",
            "120:\tlearn: 0.1029608\ttotal: 30.5s\tremaining: 19.9s\n",
            "121:\tlearn: 0.1026873\ttotal: 30.8s\tremaining: 19.7s\n",
            "122:\tlearn: 0.1024132\ttotal: 31s\tremaining: 19.4s\n",
            "123:\tlearn: 0.1021533\ttotal: 31.3s\tremaining: 19.2s\n",
            "124:\tlearn: 0.1013124\ttotal: 31.5s\tremaining: 18.9s\n",
            "125:\tlearn: 0.1010172\ttotal: 31.8s\tremaining: 18.7s\n",
            "126:\tlearn: 0.1007470\ttotal: 32.1s\tremaining: 18.4s\n",
            "127:\tlearn: 0.1003883\ttotal: 32.3s\tremaining: 18.2s\n",
            "128:\tlearn: 0.0997782\ttotal: 32.6s\tremaining: 17.9s\n",
            "129:\tlearn: 0.0995087\ttotal: 32.9s\tremaining: 17.7s\n",
            "130:\tlearn: 0.0988806\ttotal: 33.1s\tremaining: 17.4s\n",
            "131:\tlearn: 0.0986108\ttotal: 33.4s\tremaining: 17.2s\n",
            "132:\tlearn: 0.0983477\ttotal: 33.6s\tremaining: 16.9s\n",
            "133:\tlearn: 0.0980781\ttotal: 33.9s\tremaining: 16.7s\n",
            "134:\tlearn: 0.0978090\ttotal: 34.1s\tremaining: 16.4s\n",
            "135:\tlearn: 0.0972807\ttotal: 34.4s\tremaining: 16.2s\n",
            "136:\tlearn: 0.0970169\ttotal: 34.7s\tremaining: 15.9s\n",
            "137:\tlearn: 0.0967584\ttotal: 34.9s\tremaining: 15.7s\n",
            "138:\tlearn: 0.0965012\ttotal: 35.2s\tremaining: 15.4s\n",
            "139:\tlearn: 0.0962565\ttotal: 35.4s\tremaining: 15.2s\n",
            "140:\tlearn: 0.0960080\ttotal: 35.7s\tremaining: 14.9s\n",
            "141:\tlearn: 0.0957647\ttotal: 35.9s\tremaining: 14.7s\n",
            "142:\tlearn: 0.0955243\ttotal: 36.2s\tremaining: 14.4s\n",
            "143:\tlearn: 0.0948083\ttotal: 36.4s\tremaining: 14.2s\n",
            "144:\tlearn: 0.0945674\ttotal: 36.7s\tremaining: 13.9s\n",
            "145:\tlearn: 0.0943395\ttotal: 36.9s\tremaining: 13.7s\n",
            "146:\tlearn: 0.0941083\ttotal: 37.2s\tremaining: 13.4s\n",
            "147:\tlearn: 0.0938336\ttotal: 37.4s\tremaining: 13.2s\n",
            "148:\tlearn: 0.0936052\ttotal: 37.7s\tremaining: 12.9s\n",
            "149:\tlearn: 0.0933619\ttotal: 37.9s\tremaining: 12.6s\n",
            "150:\tlearn: 0.0931469\ttotal: 38.2s\tremaining: 12.4s\n",
            "151:\tlearn: 0.0929268\ttotal: 38.4s\tremaining: 12.1s\n",
            "152:\tlearn: 0.0927010\ttotal: 38.7s\tremaining: 11.9s\n",
            "153:\tlearn: 0.0924746\ttotal: 39s\tremaining: 11.6s\n",
            "154:\tlearn: 0.0919080\ttotal: 39.2s\tremaining: 11.4s\n",
            "155:\tlearn: 0.0913175\ttotal: 39.5s\tremaining: 11.1s\n",
            "156:\tlearn: 0.0910912\ttotal: 39.7s\tremaining: 10.9s\n",
            "157:\tlearn: 0.0908671\ttotal: 40s\tremaining: 10.6s\n",
            "158:\tlearn: 0.0905931\ttotal: 40.2s\tremaining: 10.4s\n",
            "159:\tlearn: 0.0903725\ttotal: 40.5s\tremaining: 10.1s\n",
            "160:\tlearn: 0.0901573\ttotal: 40.7s\tremaining: 9.87s\n",
            "161:\tlearn: 0.0899435\ttotal: 41s\tremaining: 9.61s\n",
            "162:\tlearn: 0.0896042\ttotal: 41.2s\tremaining: 9.36s\n",
            "163:\tlearn: 0.0894004\ttotal: 41.5s\tremaining: 9.1s\n",
            "164:\tlearn: 0.0891933\ttotal: 41.7s\tremaining: 8.85s\n",
            "165:\tlearn: 0.0889039\ttotal: 42s\tremaining: 8.59s\n",
            "166:\tlearn: 0.0885511\ttotal: 42.2s\tremaining: 8.34s\n",
            "167:\tlearn: 0.0876250\ttotal: 42.5s\tremaining: 8.09s\n",
            "168:\tlearn: 0.0873788\ttotal: 42.7s\tremaining: 7.84s\n",
            "169:\tlearn: 0.0871469\ttotal: 43s\tremaining: 7.58s\n",
            "170:\tlearn: 0.0869504\ttotal: 43.2s\tremaining: 7.33s\n",
            "171:\tlearn: 0.0866885\ttotal: 43.5s\tremaining: 7.07s\n",
            "172:\tlearn: 0.0862209\ttotal: 43.7s\tremaining: 6.82s\n",
            "173:\tlearn: 0.0860253\ttotal: 44s\tremaining: 6.57s\n",
            "174:\tlearn: 0.0858291\ttotal: 44.2s\tremaining: 6.31s\n",
            "175:\tlearn: 0.0856390\ttotal: 44.4s\tremaining: 6.06s\n",
            "176:\tlearn: 0.0853634\ttotal: 44.7s\tremaining: 5.81s\n",
            "177:\tlearn: 0.0851585\ttotal: 44.9s\tremaining: 5.55s\n",
            "178:\tlearn: 0.0845058\ttotal: 45.2s\tremaining: 5.3s\n",
            "179:\tlearn: 0.0843185\ttotal: 45.4s\tremaining: 5.05s\n",
            "180:\tlearn: 0.0841267\ttotal: 45.7s\tremaining: 4.79s\n",
            "181:\tlearn: 0.0839340\ttotal: 45.9s\tremaining: 4.54s\n",
            "182:\tlearn: 0.0837432\ttotal: 46.2s\tremaining: 4.29s\n",
            "183:\tlearn: 0.0829534\ttotal: 46.4s\tremaining: 4.04s\n",
            "184:\tlearn: 0.0827635\ttotal: 46.7s\tremaining: 3.78s\n",
            "185:\tlearn: 0.0825106\ttotal: 46.9s\tremaining: 3.53s\n",
            "186:\tlearn: 0.0816010\ttotal: 47.2s\tremaining: 3.28s\n",
            "187:\tlearn: 0.0812931\ttotal: 47.4s\tremaining: 3.02s\n",
            "188:\tlearn: 0.0811039\ttotal: 47.6s\tremaining: 2.77s\n",
            "189:\tlearn: 0.0808109\ttotal: 47.9s\tremaining: 2.52s\n",
            "190:\tlearn: 0.0801371\ttotal: 48.1s\tremaining: 2.27s\n",
            "191:\tlearn: 0.0799492\ttotal: 48.4s\tremaining: 2.02s\n",
            "192:\tlearn: 0.0797649\ttotal: 48.7s\tremaining: 1.76s\n",
            "193:\tlearn: 0.0795816\ttotal: 49s\tremaining: 1.51s\n",
            "194:\tlearn: 0.0794100\ttotal: 49.3s\tremaining: 1.26s\n",
            "195:\tlearn: 0.0792380\ttotal: 49.5s\tremaining: 1.01s\n",
            "196:\tlearn: 0.0790628\ttotal: 49.8s\tremaining: 759ms\n",
            "197:\tlearn: 0.0788948\ttotal: 50s\tremaining: 506ms\n",
            "198:\tlearn: 0.0786551\ttotal: 50.3s\tremaining: 253ms\n",
            "199:\tlearn: 0.0784891\ttotal: 50.5s\tremaining: 0us\n",
            "[CV 2/3; 6/9] END .........iterations=200, learning_rate=0.2; total time=  52.6s\n",
            "[CV 3/3; 6/9] START iterations=200, learning_rate=0.2...........................\n",
            "0:\tlearn: 0.5208205\ttotal: 348ms\tremaining: 1m 9s\n",
            "1:\tlearn: 0.4174683\ttotal: 586ms\tremaining: 58s\n",
            "2:\tlearn: 0.3576598\ttotal: 831ms\tremaining: 54.6s\n",
            "3:\tlearn: 0.3212685\ttotal: 1.08s\tremaining: 52.9s\n",
            "4:\tlearn: 0.2892437\ttotal: 1.32s\tremaining: 51.6s\n",
            "5:\tlearn: 0.2694871\ttotal: 1.58s\tremaining: 51s\n",
            "6:\tlearn: 0.2552466\ttotal: 1.82s\tremaining: 50.2s\n",
            "7:\tlearn: 0.2438512\ttotal: 2.07s\tremaining: 49.7s\n",
            "8:\tlearn: 0.2366291\ttotal: 2.31s\tremaining: 49.1s\n",
            "9:\tlearn: 0.2295391\ttotal: 2.57s\tremaining: 48.9s\n",
            "10:\tlearn: 0.2232122\ttotal: 2.82s\tremaining: 48.4s\n",
            "11:\tlearn: 0.2177770\ttotal: 3.05s\tremaining: 47.8s\n",
            "12:\tlearn: 0.2140275\ttotal: 3.29s\tremaining: 47.3s\n",
            "13:\tlearn: 0.2085761\ttotal: 3.54s\tremaining: 47s\n",
            "14:\tlearn: 0.2052334\ttotal: 3.78s\tremaining: 46.6s\n",
            "15:\tlearn: 0.2011992\ttotal: 4.02s\tremaining: 46.2s\n",
            "16:\tlearn: 0.1980590\ttotal: 4.26s\tremaining: 45.9s\n",
            "17:\tlearn: 0.1946358\ttotal: 4.51s\tremaining: 45.6s\n",
            "18:\tlearn: 0.1921707\ttotal: 4.76s\tremaining: 45.3s\n",
            "19:\tlearn: 0.1892429\ttotal: 5s\tremaining: 45s\n",
            "20:\tlearn: 0.1862202\ttotal: 5.23s\tremaining: 44.6s\n",
            "21:\tlearn: 0.1843001\ttotal: 5.47s\tremaining: 44.3s\n",
            "22:\tlearn: 0.1830369\ttotal: 5.72s\tremaining: 44s\n",
            "23:\tlearn: 0.1816889\ttotal: 5.98s\tremaining: 43.8s\n",
            "24:\tlearn: 0.1789310\ttotal: 6.27s\tremaining: 43.9s\n",
            "25:\tlearn: 0.1767700\ttotal: 6.53s\tremaining: 43.7s\n",
            "26:\tlearn: 0.1749728\ttotal: 6.77s\tremaining: 43.4s\n",
            "27:\tlearn: 0.1742196\ttotal: 7.02s\tremaining: 43.1s\n",
            "28:\tlearn: 0.1726697\ttotal: 7.26s\tremaining: 42.8s\n",
            "29:\tlearn: 0.1715645\ttotal: 7.52s\tremaining: 42.6s\n",
            "30:\tlearn: 0.1700603\ttotal: 7.8s\tremaining: 42.5s\n",
            "31:\tlearn: 0.1686023\ttotal: 8.08s\tremaining: 42.4s\n",
            "32:\tlearn: 0.1669448\ttotal: 8.35s\tremaining: 42.2s\n",
            "33:\tlearn: 0.1659017\ttotal: 8.59s\tremaining: 41.9s\n",
            "34:\tlearn: 0.1647425\ttotal: 8.84s\tremaining: 41.7s\n",
            "35:\tlearn: 0.1638724\ttotal: 9.11s\tremaining: 41.5s\n",
            "36:\tlearn: 0.1625548\ttotal: 9.35s\tremaining: 41.2s\n",
            "37:\tlearn: 0.1613372\ttotal: 9.6s\tremaining: 40.9s\n",
            "38:\tlearn: 0.1606071\ttotal: 9.86s\tremaining: 40.7s\n",
            "39:\tlearn: 0.1596361\ttotal: 10.2s\tremaining: 40.7s\n",
            "40:\tlearn: 0.1585707\ttotal: 10.4s\tremaining: 40.4s\n",
            "41:\tlearn: 0.1571228\ttotal: 10.7s\tremaining: 40.2s\n",
            "42:\tlearn: 0.1563193\ttotal: 10.9s\tremaining: 39.9s\n",
            "43:\tlearn: 0.1556986\ttotal: 11.2s\tremaining: 39.6s\n",
            "44:\tlearn: 0.1543019\ttotal: 11.4s\tremaining: 39.3s\n",
            "45:\tlearn: 0.1529131\ttotal: 11.7s\tremaining: 39.1s\n",
            "46:\tlearn: 0.1519855\ttotal: 11.9s\tremaining: 38.8s\n",
            "47:\tlearn: 0.1512128\ttotal: 12.2s\tremaining: 38.5s\n",
            "48:\tlearn: 0.1501827\ttotal: 12.4s\tremaining: 38.2s\n",
            "49:\tlearn: 0.1493460\ttotal: 12.7s\tremaining: 38s\n",
            "50:\tlearn: 0.1481143\ttotal: 12.9s\tremaining: 37.8s\n",
            "51:\tlearn: 0.1474293\ttotal: 13.2s\tremaining: 37.5s\n",
            "52:\tlearn: 0.1461668\ttotal: 13.4s\tremaining: 37.2s\n",
            "53:\tlearn: 0.1447471\ttotal: 13.7s\tremaining: 36.9s\n",
            "54:\tlearn: 0.1439531\ttotal: 13.9s\tremaining: 36.7s\n",
            "55:\tlearn: 0.1432568\ttotal: 14.1s\tremaining: 36.4s\n",
            "56:\tlearn: 0.1424593\ttotal: 14.4s\tremaining: 36.1s\n",
            "57:\tlearn: 0.1417748\ttotal: 14.6s\tremaining: 35.8s\n",
            "58:\tlearn: 0.1404162\ttotal: 14.9s\tremaining: 35.6s\n",
            "59:\tlearn: 0.1398394\ttotal: 15.1s\tremaining: 35.3s\n",
            "60:\tlearn: 0.1388064\ttotal: 15.4s\tremaining: 35s\n",
            "61:\tlearn: 0.1375831\ttotal: 15.6s\tremaining: 34.7s\n",
            "62:\tlearn: 0.1370411\ttotal: 15.9s\tremaining: 34.5s\n",
            "63:\tlearn: 0.1365615\ttotal: 16.2s\tremaining: 34.3s\n",
            "64:\tlearn: 0.1359165\ttotal: 16.4s\tremaining: 34.1s\n",
            "65:\tlearn: 0.1350440\ttotal: 16.7s\tremaining: 33.9s\n",
            "66:\tlearn: 0.1337182\ttotal: 16.9s\tremaining: 33.6s\n",
            "67:\tlearn: 0.1332010\ttotal: 17.2s\tremaining: 33.3s\n",
            "68:\tlearn: 0.1325826\ttotal: 17.4s\tremaining: 33.1s\n",
            "69:\tlearn: 0.1320416\ttotal: 17.7s\tremaining: 32.8s\n",
            "70:\tlearn: 0.1315681\ttotal: 17.9s\tremaining: 32.6s\n",
            "71:\tlearn: 0.1303972\ttotal: 18.2s\tremaining: 32.3s\n",
            "72:\tlearn: 0.1299335\ttotal: 18.4s\tremaining: 32.1s\n",
            "73:\tlearn: 0.1291313\ttotal: 18.7s\tremaining: 31.9s\n",
            "74:\tlearn: 0.1276339\ttotal: 19s\tremaining: 31.6s\n",
            "75:\tlearn: 0.1272371\ttotal: 19.3s\tremaining: 31.4s\n",
            "76:\tlearn: 0.1261998\ttotal: 19.5s\tremaining: 31.2s\n",
            "77:\tlearn: 0.1254497\ttotal: 19.8s\tremaining: 30.9s\n",
            "78:\tlearn: 0.1249163\ttotal: 20s\tremaining: 30.7s\n",
            "79:\tlearn: 0.1237986\ttotal: 20.3s\tremaining: 30.5s\n",
            "80:\tlearn: 0.1233764\ttotal: 20.6s\tremaining: 30.2s\n",
            "81:\tlearn: 0.1223486\ttotal: 20.9s\tremaining: 30s\n",
            "82:\tlearn: 0.1213413\ttotal: 21.1s\tremaining: 29.8s\n",
            "83:\tlearn: 0.1207306\ttotal: 21.4s\tremaining: 29.6s\n",
            "84:\tlearn: 0.1201542\ttotal: 21.7s\tremaining: 29.3s\n",
            "85:\tlearn: 0.1197526\ttotal: 22s\tremaining: 29.1s\n",
            "86:\tlearn: 0.1193773\ttotal: 22.2s\tremaining: 28.9s\n",
            "87:\tlearn: 0.1190079\ttotal: 22.5s\tremaining: 28.7s\n",
            "88:\tlearn: 0.1184350\ttotal: 22.8s\tremaining: 28.5s\n",
            "89:\tlearn: 0.1175400\ttotal: 23.1s\tremaining: 28.3s\n",
            "90:\tlearn: 0.1171376\ttotal: 23.4s\tremaining: 28.1s\n",
            "91:\tlearn: 0.1167799\ttotal: 23.7s\tremaining: 27.8s\n",
            "92:\tlearn: 0.1161405\ttotal: 23.9s\tremaining: 27.6s\n",
            "93:\tlearn: 0.1156174\ttotal: 24.2s\tremaining: 27.3s\n",
            "94:\tlearn: 0.1152633\ttotal: 24.5s\tremaining: 27s\n",
            "95:\tlearn: 0.1149245\ttotal: 24.7s\tremaining: 26.8s\n",
            "96:\tlearn: 0.1145811\ttotal: 25s\tremaining: 26.5s\n",
            "97:\tlearn: 0.1142460\ttotal: 25.2s\tremaining: 26.2s\n",
            "98:\tlearn: 0.1139000\ttotal: 25.5s\tremaining: 26s\n",
            "99:\tlearn: 0.1135717\ttotal: 25.7s\tremaining: 25.7s\n",
            "100:\tlearn: 0.1130735\ttotal: 26s\tremaining: 25.5s\n",
            "101:\tlearn: 0.1127612\ttotal: 26.3s\tremaining: 25.3s\n",
            "102:\tlearn: 0.1123844\ttotal: 26.5s\tremaining: 25s\n",
            "103:\tlearn: 0.1120630\ttotal: 26.8s\tremaining: 24.7s\n",
            "104:\tlearn: 0.1117709\ttotal: 27s\tremaining: 24.5s\n",
            "105:\tlearn: 0.1112269\ttotal: 27.3s\tremaining: 24.2s\n",
            "106:\tlearn: 0.1109194\ttotal: 27.6s\tremaining: 24s\n",
            "107:\tlearn: 0.1106082\ttotal: 27.8s\tremaining: 23.7s\n",
            "108:\tlearn: 0.1096274\ttotal: 28.1s\tremaining: 23.4s\n",
            "109:\tlearn: 0.1093360\ttotal: 28.3s\tremaining: 23.2s\n",
            "110:\tlearn: 0.1090008\ttotal: 28.6s\tremaining: 22.9s\n",
            "111:\tlearn: 0.1086612\ttotal: 28.8s\tremaining: 22.7s\n",
            "112:\tlearn: 0.1083510\ttotal: 29.1s\tremaining: 22.4s\n",
            "113:\tlearn: 0.1080455\ttotal: 29.3s\tremaining: 22.1s\n",
            "114:\tlearn: 0.1076069\ttotal: 29.6s\tremaining: 21.9s\n",
            "115:\tlearn: 0.1073071\ttotal: 29.8s\tremaining: 21.6s\n",
            "116:\tlearn: 0.1070142\ttotal: 30.1s\tremaining: 21.3s\n",
            "117:\tlearn: 0.1067519\ttotal: 30.3s\tremaining: 21.1s\n",
            "118:\tlearn: 0.1060121\ttotal: 30.6s\tremaining: 20.8s\n",
            "119:\tlearn: 0.1057288\ttotal: 30.9s\tremaining: 20.6s\n",
            "120:\tlearn: 0.1052943\ttotal: 31.1s\tremaining: 20.3s\n",
            "121:\tlearn: 0.1043041\ttotal: 31.4s\tremaining: 20.1s\n",
            "122:\tlearn: 0.1040280\ttotal: 31.7s\tremaining: 19.9s\n",
            "123:\tlearn: 0.1035570\ttotal: 32s\tremaining: 19.6s\n",
            "124:\tlearn: 0.1032787\ttotal: 32.3s\tremaining: 19.4s\n",
            "125:\tlearn: 0.1030024\ttotal: 32.5s\tremaining: 19.1s\n",
            "126:\tlearn: 0.1027290\ttotal: 32.8s\tremaining: 18.8s\n",
            "127:\tlearn: 0.1024765\ttotal: 33s\tremaining: 18.6s\n",
            "128:\tlearn: 0.1014325\ttotal: 33.3s\tremaining: 18.3s\n",
            "129:\tlearn: 0.1007148\ttotal: 33.5s\tremaining: 18.1s\n",
            "130:\tlearn: 0.1004337\ttotal: 33.8s\tremaining: 17.8s\n",
            "131:\tlearn: 0.1001613\ttotal: 34.1s\tremaining: 17.5s\n",
            "132:\tlearn: 0.0998951\ttotal: 34.3s\tremaining: 17.3s\n",
            "133:\tlearn: 0.0995616\ttotal: 34.6s\tremaining: 17s\n",
            "134:\tlearn: 0.0992989\ttotal: 34.8s\tremaining: 16.8s\n",
            "135:\tlearn: 0.0990411\ttotal: 35s\tremaining: 16.5s\n",
            "136:\tlearn: 0.0987824\ttotal: 35.3s\tremaining: 16.2s\n",
            "137:\tlearn: 0.0985304\ttotal: 35.5s\tremaining: 16s\n",
            "138:\tlearn: 0.0982833\ttotal: 35.8s\tremaining: 15.7s\n",
            "139:\tlearn: 0.0980505\ttotal: 36.1s\tremaining: 15.5s\n",
            "140:\tlearn: 0.0978112\ttotal: 36.4s\tremaining: 15.2s\n",
            "141:\tlearn: 0.0975753\ttotal: 36.6s\tremaining: 15s\n",
            "142:\tlearn: 0.0972610\ttotal: 36.9s\tremaining: 14.7s\n",
            "143:\tlearn: 0.0962870\ttotal: 37.1s\tremaining: 14.4s\n",
            "144:\tlearn: 0.0960582\ttotal: 37.4s\tremaining: 14.2s\n",
            "145:\tlearn: 0.0956586\ttotal: 37.6s\tremaining: 13.9s\n",
            "146:\tlearn: 0.0954230\ttotal: 37.9s\tremaining: 13.7s\n",
            "147:\tlearn: 0.0947829\ttotal: 38.1s\tremaining: 13.4s\n",
            "148:\tlearn: 0.0945474\ttotal: 38.4s\tremaining: 13.1s\n",
            "149:\tlearn: 0.0943263\ttotal: 38.6s\tremaining: 12.9s\n",
            "150:\tlearn: 0.0941004\ttotal: 38.9s\tremaining: 12.6s\n",
            "151:\tlearn: 0.0938744\ttotal: 39.1s\tremaining: 12.4s\n",
            "152:\tlearn: 0.0936539\ttotal: 39.4s\tremaining: 12.1s\n",
            "153:\tlearn: 0.0934277\ttotal: 39.6s\tremaining: 11.8s\n",
            "154:\tlearn: 0.0932082\ttotal: 39.9s\tremaining: 11.6s\n",
            "155:\tlearn: 0.0929878\ttotal: 40.1s\tremaining: 11.3s\n",
            "156:\tlearn: 0.0925837\ttotal: 40.4s\tremaining: 11.1s\n",
            "157:\tlearn: 0.0922945\ttotal: 40.6s\tremaining: 10.8s\n",
            "158:\tlearn: 0.0920893\ttotal: 40.9s\tremaining: 10.5s\n",
            "159:\tlearn: 0.0911187\ttotal: 41.1s\tremaining: 10.3s\n",
            "160:\tlearn: 0.0908972\ttotal: 41.4s\tremaining: 10s\n",
            "161:\tlearn: 0.0906840\ttotal: 41.6s\tremaining: 9.76s\n",
            "162:\tlearn: 0.0901039\ttotal: 41.9s\tremaining: 9.5s\n",
            "163:\tlearn: 0.0898949\ttotal: 42.1s\tremaining: 9.24s\n",
            "164:\tlearn: 0.0896104\ttotal: 42.4s\tremaining: 8.99s\n",
            "165:\tlearn: 0.0893065\ttotal: 42.6s\tremaining: 8.73s\n",
            "166:\tlearn: 0.0890989\ttotal: 42.9s\tremaining: 8.47s\n",
            "167:\tlearn: 0.0888924\ttotal: 43.1s\tremaining: 8.21s\n",
            "168:\tlearn: 0.0884124\ttotal: 43.4s\tremaining: 7.95s\n",
            "169:\tlearn: 0.0881342\ttotal: 43.6s\tremaining: 7.7s\n",
            "170:\tlearn: 0.0879343\ttotal: 43.9s\tremaining: 7.44s\n",
            "171:\tlearn: 0.0877327\ttotal: 44.1s\tremaining: 7.18s\n",
            "172:\tlearn: 0.0869889\ttotal: 44.4s\tremaining: 6.93s\n",
            "173:\tlearn: 0.0867842\ttotal: 44.6s\tremaining: 6.67s\n",
            "174:\tlearn: 0.0865850\ttotal: 44.9s\tremaining: 6.41s\n",
            "175:\tlearn: 0.0858980\ttotal: 45.1s\tremaining: 6.15s\n",
            "176:\tlearn: 0.0857010\ttotal: 45.4s\tremaining: 5.89s\n",
            "177:\tlearn: 0.0855040\ttotal: 45.6s\tremaining: 5.64s\n",
            "178:\tlearn: 0.0850934\ttotal: 45.9s\tremaining: 5.38s\n",
            "179:\tlearn: 0.0847466\ttotal: 46.2s\tremaining: 5.13s\n",
            "180:\tlearn: 0.0845510\ttotal: 46.4s\tremaining: 4.87s\n",
            "181:\tlearn: 0.0843549\ttotal: 46.7s\tremaining: 4.62s\n",
            "182:\tlearn: 0.0841662\ttotal: 46.9s\tremaining: 4.36s\n",
            "183:\tlearn: 0.0839762\ttotal: 47.1s\tremaining: 4.1s\n",
            "184:\tlearn: 0.0837933\ttotal: 47.4s\tremaining: 3.84s\n",
            "185:\tlearn: 0.0835313\ttotal: 47.7s\tremaining: 3.59s\n",
            "186:\tlearn: 0.0833507\ttotal: 47.9s\tremaining: 3.33s\n",
            "187:\tlearn: 0.0829173\ttotal: 48.1s\tremaining: 3.07s\n",
            "188:\tlearn: 0.0827418\ttotal: 48.4s\tremaining: 2.81s\n",
            "189:\tlearn: 0.0825638\ttotal: 48.6s\tremaining: 2.56s\n",
            "190:\tlearn: 0.0823137\ttotal: 48.9s\tremaining: 2.3s\n",
            "191:\tlearn: 0.0821419\ttotal: 49.1s\tremaining: 2.04s\n",
            "192:\tlearn: 0.0814605\ttotal: 49.3s\tremaining: 1.79s\n",
            "193:\tlearn: 0.0812738\ttotal: 49.6s\tremaining: 1.53s\n",
            "194:\tlearn: 0.0811035\ttotal: 49.8s\tremaining: 1.28s\n",
            "195:\tlearn: 0.0809310\ttotal: 50.1s\tremaining: 1.02s\n",
            "196:\tlearn: 0.0806733\ttotal: 50.3s\tremaining: 766ms\n",
            "197:\tlearn: 0.0804216\ttotal: 50.6s\tremaining: 511ms\n",
            "198:\tlearn: 0.0802614\ttotal: 50.8s\tremaining: 255ms\n",
            "199:\tlearn: 0.0800915\ttotal: 51s\tremaining: 0us\n",
            "[CV 3/3; 6/9] END .........iterations=200, learning_rate=0.2; total time=  53.4s\n",
            "[CV 1/3; 7/9] START iterations=50, learning_rate=0.1............................\n",
            "0:\tlearn: 0.5999579\ttotal: 336ms\tremaining: 16.4s\n",
            "1:\tlearn: 0.5197036\ttotal: 574ms\tremaining: 13.8s\n",
            "2:\tlearn: 0.4601355\ttotal: 821ms\tremaining: 12.9s\n",
            "3:\tlearn: 0.4151490\ttotal: 1.05s\tremaining: 12.1s\n",
            "4:\tlearn: 0.3812665\ttotal: 1.31s\tremaining: 11.8s\n",
            "5:\tlearn: 0.3550014\ttotal: 1.56s\tremaining: 11.4s\n",
            "6:\tlearn: 0.3330446\ttotal: 1.8s\tremaining: 11.1s\n",
            "7:\tlearn: 0.3140495\ttotal: 2.04s\tremaining: 10.7s\n",
            "8:\tlearn: 0.2993969\ttotal: 2.27s\tremaining: 10.4s\n",
            "9:\tlearn: 0.2889785\ttotal: 2.52s\tremaining: 10.1s\n",
            "10:\tlearn: 0.2793645\ttotal: 2.76s\tremaining: 9.77s\n",
            "11:\tlearn: 0.2708005\ttotal: 3.05s\tremaining: 9.67s\n",
            "12:\tlearn: 0.2625543\ttotal: 3.31s\tremaining: 9.42s\n",
            "13:\tlearn: 0.2561222\ttotal: 3.54s\tremaining: 9.12s\n",
            "14:\tlearn: 0.2500672\ttotal: 3.79s\tremaining: 8.84s\n",
            "15:\tlearn: 0.2452056\ttotal: 4.02s\tremaining: 8.55s\n",
            "16:\tlearn: 0.2406685\ttotal: 4.27s\tremaining: 8.28s\n",
            "17:\tlearn: 0.2365905\ttotal: 4.5s\tremaining: 8.01s\n",
            "18:\tlearn: 0.2329319\ttotal: 4.75s\tremaining: 7.74s\n",
            "19:\tlearn: 0.2297923\ttotal: 4.98s\tremaining: 7.47s\n",
            "20:\tlearn: 0.2265589\ttotal: 5.21s\tremaining: 7.2s\n",
            "21:\tlearn: 0.2241640\ttotal: 5.45s\tremaining: 6.93s\n",
            "22:\tlearn: 0.2216949\ttotal: 5.69s\tremaining: 6.68s\n",
            "23:\tlearn: 0.2194774\ttotal: 5.93s\tremaining: 6.42s\n",
            "24:\tlearn: 0.2175834\ttotal: 6.16s\tremaining: 6.16s\n",
            "25:\tlearn: 0.2155318\ttotal: 6.41s\tremaining: 5.91s\n",
            "26:\tlearn: 0.2136304\ttotal: 6.65s\tremaining: 5.67s\n",
            "27:\tlearn: 0.2118198\ttotal: 6.89s\tremaining: 5.42s\n",
            "28:\tlearn: 0.2101113\ttotal: 7.14s\tremaining: 5.17s\n",
            "29:\tlearn: 0.2081130\ttotal: 7.38s\tremaining: 4.92s\n",
            "30:\tlearn: 0.2059079\ttotal: 7.63s\tremaining: 4.68s\n",
            "31:\tlearn: 0.2039736\ttotal: 7.87s\tremaining: 4.43s\n",
            "32:\tlearn: 0.2028452\ttotal: 8.13s\tremaining: 4.19s\n",
            "33:\tlearn: 0.2015902\ttotal: 8.37s\tremaining: 3.94s\n",
            "34:\tlearn: 0.2006289\ttotal: 8.61s\tremaining: 3.69s\n",
            "35:\tlearn: 0.1994494\ttotal: 8.86s\tremaining: 3.44s\n",
            "36:\tlearn: 0.1983081\ttotal: 9.09s\tremaining: 3.19s\n",
            "37:\tlearn: 0.1977585\ttotal: 9.32s\tremaining: 2.94s\n",
            "38:\tlearn: 0.1965935\ttotal: 9.56s\tremaining: 2.69s\n",
            "39:\tlearn: 0.1955188\ttotal: 9.8s\tremaining: 2.45s\n",
            "40:\tlearn: 0.1943437\ttotal: 10s\tremaining: 2.2s\n",
            "41:\tlearn: 0.1934747\ttotal: 10.3s\tremaining: 1.96s\n",
            "42:\tlearn: 0.1928068\ttotal: 10.5s\tremaining: 1.71s\n",
            "43:\tlearn: 0.1913512\ttotal: 10.8s\tremaining: 1.47s\n",
            "44:\tlearn: 0.1906964\ttotal: 11s\tremaining: 1.22s\n",
            "45:\tlearn: 0.1899068\ttotal: 11.2s\tremaining: 977ms\n",
            "46:\tlearn: 0.1892075\ttotal: 11.5s\tremaining: 732ms\n",
            "47:\tlearn: 0.1884474\ttotal: 11.7s\tremaining: 489ms\n",
            "48:\tlearn: 0.1876613\ttotal: 12s\tremaining: 245ms\n",
            "49:\tlearn: 0.1869650\ttotal: 12.2s\tremaining: 0us\n",
            "[CV 1/3; 7/9] END ..........iterations=50, learning_rate=0.1; total time=  14.1s\n",
            "[CV 2/3; 7/9] START iterations=50, learning_rate=0.1............................\n",
            "0:\tlearn: 0.6009751\ttotal: 346ms\tremaining: 16.9s\n",
            "1:\tlearn: 0.5255140\ttotal: 584ms\tremaining: 14s\n",
            "2:\tlearn: 0.4664193\ttotal: 834ms\tremaining: 13.1s\n",
            "3:\tlearn: 0.4189783\ttotal: 1.09s\tremaining: 12.5s\n",
            "4:\tlearn: 0.3851882\ttotal: 1.33s\tremaining: 12s\n",
            "5:\tlearn: 0.3565085\ttotal: 1.57s\tremaining: 11.5s\n",
            "6:\tlearn: 0.3289639\ttotal: 1.82s\tremaining: 11.2s\n",
            "7:\tlearn: 0.3108454\ttotal: 2.06s\tremaining: 10.8s\n",
            "8:\tlearn: 0.2959573\ttotal: 2.29s\tremaining: 10.4s\n",
            "9:\tlearn: 0.2830115\ttotal: 2.54s\tremaining: 10.1s\n",
            "10:\tlearn: 0.2720302\ttotal: 2.79s\tremaining: 9.89s\n",
            "11:\tlearn: 0.2634993\ttotal: 3.03s\tremaining: 9.61s\n",
            "12:\tlearn: 0.2555492\ttotal: 3.27s\tremaining: 9.32s\n",
            "13:\tlearn: 0.2490120\ttotal: 3.52s\tremaining: 9.05s\n",
            "14:\tlearn: 0.2411033\ttotal: 3.76s\tremaining: 8.77s\n",
            "15:\tlearn: 0.2369934\ttotal: 4s\tremaining: 8.49s\n",
            "16:\tlearn: 0.2327591\ttotal: 4.24s\tremaining: 8.23s\n",
            "17:\tlearn: 0.2289090\ttotal: 4.49s\tremaining: 7.98s\n",
            "18:\tlearn: 0.2253798\ttotal: 4.73s\tremaining: 7.71s\n",
            "19:\tlearn: 0.2218645\ttotal: 4.98s\tremaining: 7.46s\n",
            "20:\tlearn: 0.2183834\ttotal: 5.22s\tremaining: 7.2s\n",
            "21:\tlearn: 0.2156624\ttotal: 5.46s\tremaining: 6.95s\n",
            "22:\tlearn: 0.2129566\ttotal: 5.69s\tremaining: 6.68s\n",
            "23:\tlearn: 0.2104901\ttotal: 5.93s\tremaining: 6.42s\n",
            "24:\tlearn: 0.2079280\ttotal: 6.17s\tremaining: 6.17s\n",
            "25:\tlearn: 0.2061916\ttotal: 6.42s\tremaining: 5.92s\n",
            "26:\tlearn: 0.2042792\ttotal: 6.65s\tremaining: 5.66s\n",
            "27:\tlearn: 0.2026215\ttotal: 6.88s\tremaining: 5.41s\n",
            "28:\tlearn: 0.2003364\ttotal: 7.12s\tremaining: 5.16s\n",
            "29:\tlearn: 0.1992140\ttotal: 7.35s\tremaining: 4.9s\n",
            "30:\tlearn: 0.1974744\ttotal: 7.59s\tremaining: 4.65s\n",
            "31:\tlearn: 0.1963006\ttotal: 7.85s\tremaining: 4.41s\n",
            "32:\tlearn: 0.1944269\ttotal: 8.09s\tremaining: 4.17s\n",
            "33:\tlearn: 0.1935398\ttotal: 8.33s\tremaining: 3.92s\n",
            "34:\tlearn: 0.1921008\ttotal: 8.62s\tremaining: 3.69s\n",
            "35:\tlearn: 0.1913802\ttotal: 8.9s\tremaining: 3.46s\n",
            "36:\tlearn: 0.1903660\ttotal: 9.14s\tremaining: 3.21s\n",
            "37:\tlearn: 0.1890506\ttotal: 9.4s\tremaining: 2.97s\n",
            "38:\tlearn: 0.1879246\ttotal: 9.63s\tremaining: 2.72s\n",
            "39:\tlearn: 0.1869689\ttotal: 9.88s\tremaining: 2.47s\n",
            "40:\tlearn: 0.1858878\ttotal: 10.1s\tremaining: 2.22s\n",
            "41:\tlearn: 0.1850441\ttotal: 10.4s\tremaining: 1.97s\n",
            "42:\tlearn: 0.1838307\ttotal: 10.6s\tremaining: 1.72s\n",
            "43:\tlearn: 0.1828027\ttotal: 10.8s\tremaining: 1.48s\n",
            "44:\tlearn: 0.1815702\ttotal: 11.1s\tremaining: 1.23s\n",
            "45:\tlearn: 0.1805381\ttotal: 11.3s\tremaining: 983ms\n",
            "46:\tlearn: 0.1796111\ttotal: 11.5s\tremaining: 736ms\n",
            "47:\tlearn: 0.1787715\ttotal: 11.8s\tremaining: 490ms\n",
            "48:\tlearn: 0.1781021\ttotal: 12s\tremaining: 245ms\n",
            "49:\tlearn: 0.1775363\ttotal: 12.2s\tremaining: 0us\n",
            "[CV 2/3; 7/9] END ..........iterations=50, learning_rate=0.1; total time=  14.2s\n",
            "[CV 3/3; 7/9] START iterations=50, learning_rate=0.1............................\n",
            "0:\tlearn: 0.5997332\ttotal: 353ms\tremaining: 17.3s\n",
            "1:\tlearn: 0.5255958\ttotal: 596ms\tremaining: 14.3s\n",
            "2:\tlearn: 0.4714234\ttotal: 846ms\tremaining: 13.3s\n",
            "3:\tlearn: 0.4284542\ttotal: 1.09s\tremaining: 12.6s\n",
            "4:\tlearn: 0.3919469\ttotal: 1.34s\tremaining: 12.1s\n",
            "5:\tlearn: 0.3625234\ttotal: 1.58s\tremaining: 11.6s\n",
            "6:\tlearn: 0.3418271\ttotal: 1.84s\tremaining: 11.3s\n",
            "7:\tlearn: 0.3220838\ttotal: 2.08s\tremaining: 10.9s\n",
            "8:\tlearn: 0.3057689\ttotal: 2.32s\tremaining: 10.6s\n",
            "9:\tlearn: 0.2933511\ttotal: 2.57s\tremaining: 10.3s\n",
            "10:\tlearn: 0.2816150\ttotal: 2.81s\tremaining: 9.97s\n",
            "11:\tlearn: 0.2715796\ttotal: 3.05s\tremaining: 9.67s\n",
            "12:\tlearn: 0.2640166\ttotal: 3.3s\tremaining: 9.39s\n",
            "13:\tlearn: 0.2550744\ttotal: 3.56s\tremaining: 9.17s\n",
            "14:\tlearn: 0.2495342\ttotal: 3.85s\tremaining: 8.98s\n",
            "15:\tlearn: 0.2445512\ttotal: 4.13s\tremaining: 8.78s\n",
            "16:\tlearn: 0.2401560\ttotal: 4.4s\tremaining: 8.55s\n",
            "17:\tlearn: 0.2368456\ttotal: 4.65s\tremaining: 8.27s\n",
            "18:\tlearn: 0.2327459\ttotal: 4.89s\tremaining: 7.98s\n",
            "19:\tlearn: 0.2293316\ttotal: 5.13s\tremaining: 7.69s\n",
            "20:\tlearn: 0.2254322\ttotal: 5.38s\tremaining: 7.43s\n",
            "21:\tlearn: 0.2225527\ttotal: 5.64s\tremaining: 7.17s\n",
            "22:\tlearn: 0.2195591\ttotal: 5.89s\tremaining: 6.92s\n",
            "23:\tlearn: 0.2172567\ttotal: 6.14s\tremaining: 6.65s\n",
            "24:\tlearn: 0.2141627\ttotal: 6.38s\tremaining: 6.38s\n",
            "25:\tlearn: 0.2116994\ttotal: 6.63s\tremaining: 6.12s\n",
            "26:\tlearn: 0.2096167\ttotal: 6.89s\tremaining: 5.87s\n",
            "27:\tlearn: 0.2076335\ttotal: 7.13s\tremaining: 5.6s\n",
            "28:\tlearn: 0.2059116\ttotal: 7.37s\tremaining: 5.34s\n",
            "29:\tlearn: 0.2036986\ttotal: 7.62s\tremaining: 5.08s\n",
            "30:\tlearn: 0.2020030\ttotal: 7.87s\tremaining: 4.82s\n",
            "31:\tlearn: 0.2006311\ttotal: 8.11s\tremaining: 4.56s\n",
            "32:\tlearn: 0.1984099\ttotal: 8.35s\tremaining: 4.3s\n",
            "33:\tlearn: 0.1969770\ttotal: 8.59s\tremaining: 4.04s\n",
            "34:\tlearn: 0.1955214\ttotal: 8.84s\tremaining: 3.79s\n",
            "35:\tlearn: 0.1945349\ttotal: 9.09s\tremaining: 3.53s\n",
            "36:\tlearn: 0.1931160\ttotal: 9.33s\tremaining: 3.28s\n",
            "37:\tlearn: 0.1921142\ttotal: 9.59s\tremaining: 3.03s\n",
            "38:\tlearn: 0.1910512\ttotal: 9.84s\tremaining: 2.77s\n",
            "39:\tlearn: 0.1891918\ttotal: 10.1s\tremaining: 2.52s\n",
            "40:\tlearn: 0.1881960\ttotal: 10.3s\tremaining: 2.27s\n",
            "41:\tlearn: 0.1872322\ttotal: 10.6s\tremaining: 2.01s\n",
            "42:\tlearn: 0.1862248\ttotal: 10.8s\tremaining: 1.76s\n",
            "43:\tlearn: 0.1853285\ttotal: 11s\tremaining: 1.51s\n",
            "44:\tlearn: 0.1838058\ttotal: 11.3s\tremaining: 1.25s\n",
            "45:\tlearn: 0.1831038\ttotal: 11.5s\tremaining: 1s\n",
            "46:\tlearn: 0.1823499\ttotal: 11.8s\tremaining: 751ms\n",
            "47:\tlearn: 0.1810798\ttotal: 12s\tremaining: 500ms\n",
            "48:\tlearn: 0.1805228\ttotal: 12.2s\tremaining: 250ms\n",
            "49:\tlearn: 0.1796527\ttotal: 12.5s\tremaining: 0us\n",
            "[CV 3/3; 7/9] END ..........iterations=50, learning_rate=0.1; total time=  14.7s\n",
            "[CV 1/3; 8/9] START iterations=50, learning_rate=1.0............................\n",
            "0:\tlearn: 0.2868986\ttotal: 330ms\tremaining: 16.2s\n",
            "1:\tlearn: 0.2387006\ttotal: 569ms\tremaining: 13.7s\n",
            "2:\tlearn: 0.2164450\ttotal: 812ms\tremaining: 12.7s\n",
            "3:\tlearn: 0.2030887\ttotal: 1.05s\tremaining: 12.1s\n",
            "4:\tlearn: 0.1913996\ttotal: 1.28s\tremaining: 11.6s\n",
            "5:\tlearn: 0.1815924\ttotal: 1.51s\tremaining: 11.1s\n",
            "6:\tlearn: 0.1733469\ttotal: 1.74s\tremaining: 10.7s\n",
            "7:\tlearn: 0.1671416\ttotal: 1.97s\tremaining: 10.4s\n",
            "8:\tlearn: 0.1589177\ttotal: 2.21s\tremaining: 10.1s\n",
            "9:\tlearn: 0.1538316\ttotal: 2.43s\tremaining: 9.74s\n",
            "10:\tlearn: 0.1501238\ttotal: 2.66s\tremaining: 9.45s\n",
            "11:\tlearn: 0.1435760\ttotal: 2.89s\tremaining: 9.16s\n",
            "12:\tlearn: 0.1389516\ttotal: 3.13s\tremaining: 8.92s\n",
            "13:\tlearn: 0.1352037\ttotal: 3.38s\tremaining: 8.69s\n",
            "14:\tlearn: 0.1313042\ttotal: 3.61s\tremaining: 8.42s\n",
            "15:\tlearn: 0.1271509\ttotal: 3.85s\tremaining: 8.18s\n",
            "16:\tlearn: 0.1223926\ttotal: 4.09s\tremaining: 7.94s\n",
            "17:\tlearn: 0.1193276\ttotal: 4.33s\tremaining: 7.69s\n",
            "18:\tlearn: 0.1157750\ttotal: 4.57s\tremaining: 7.45s\n",
            "19:\tlearn: 0.1137453\ttotal: 4.81s\tremaining: 7.21s\n",
            "20:\tlearn: 0.1116999\ttotal: 5.04s\tremaining: 6.97s\n",
            "21:\tlearn: 0.1087012\ttotal: 5.28s\tremaining: 6.72s\n",
            "22:\tlearn: 0.1063615\ttotal: 5.52s\tremaining: 6.48s\n",
            "23:\tlearn: 0.1045192\ttotal: 5.75s\tremaining: 6.23s\n",
            "24:\tlearn: 0.1025635\ttotal: 5.98s\tremaining: 5.98s\n",
            "25:\tlearn: 0.1006280\ttotal: 6.22s\tremaining: 5.74s\n",
            "26:\tlearn: 0.0988046\ttotal: 6.45s\tremaining: 5.49s\n",
            "27:\tlearn: 0.0970690\ttotal: 6.68s\tremaining: 5.25s\n",
            "28:\tlearn: 0.0947446\ttotal: 6.92s\tremaining: 5.01s\n",
            "29:\tlearn: 0.0930302\ttotal: 7.16s\tremaining: 4.77s\n",
            "30:\tlearn: 0.0913325\ttotal: 7.4s\tremaining: 4.53s\n",
            "31:\tlearn: 0.0896329\ttotal: 7.63s\tremaining: 4.29s\n",
            "32:\tlearn: 0.0877915\ttotal: 7.85s\tremaining: 4.04s\n",
            "33:\tlearn: 0.0860071\ttotal: 8.09s\tremaining: 3.81s\n",
            "34:\tlearn: 0.0843020\ttotal: 8.32s\tremaining: 3.57s\n",
            "35:\tlearn: 0.0825663\ttotal: 8.55s\tremaining: 3.32s\n",
            "36:\tlearn: 0.0808605\ttotal: 8.78s\tremaining: 3.08s\n",
            "37:\tlearn: 0.0791753\ttotal: 9.01s\tremaining: 2.84s\n",
            "38:\tlearn: 0.0774298\ttotal: 9.27s\tremaining: 2.61s\n",
            "39:\tlearn: 0.0756787\ttotal: 9.54s\tremaining: 2.38s\n",
            "40:\tlearn: 0.0741971\ttotal: 9.79s\tremaining: 2.15s\n",
            "41:\tlearn: 0.0715641\ttotal: 10s\tremaining: 1.91s\n",
            "42:\tlearn: 0.0702818\ttotal: 10.3s\tremaining: 1.67s\n",
            "43:\tlearn: 0.0691257\ttotal: 10.5s\tremaining: 1.43s\n",
            "44:\tlearn: 0.0676461\ttotal: 10.8s\tremaining: 1.2s\n",
            "45:\tlearn: 0.0666193\ttotal: 11s\tremaining: 958ms\n",
            "46:\tlearn: 0.0657564\ttotal: 11.3s\tremaining: 719ms\n",
            "47:\tlearn: 0.0648676\ttotal: 11.5s\tremaining: 479ms\n",
            "48:\tlearn: 0.0637898\ttotal: 11.7s\tremaining: 240ms\n",
            "49:\tlearn: 0.0630179\ttotal: 12s\tremaining: 0us\n",
            "[CV 1/3; 8/9] END ..........iterations=50, learning_rate=1.0; total time=  14.0s\n",
            "[CV 2/3; 8/9] START iterations=50, learning_rate=1.0............................\n",
            "0:\tlearn: 0.2912119\ttotal: 348ms\tremaining: 17s\n",
            "1:\tlearn: 0.2395410\ttotal: 598ms\tremaining: 14.3s\n",
            "2:\tlearn: 0.2091075\ttotal: 850ms\tremaining: 13.3s\n",
            "3:\tlearn: 0.1986206\ttotal: 1.09s\tremaining: 12.5s\n",
            "4:\tlearn: 0.1850228\ttotal: 1.32s\tremaining: 11.9s\n",
            "5:\tlearn: 0.1721339\ttotal: 1.56s\tremaining: 11.5s\n",
            "6:\tlearn: 0.1670479\ttotal: 1.8s\tremaining: 11.1s\n",
            "7:\tlearn: 0.1617119\ttotal: 2.04s\tremaining: 10.7s\n",
            "8:\tlearn: 0.1559666\ttotal: 2.27s\tremaining: 10.3s\n",
            "9:\tlearn: 0.1508495\ttotal: 2.51s\tremaining: 10s\n",
            "10:\tlearn: 0.1469135\ttotal: 2.75s\tremaining: 9.74s\n",
            "11:\tlearn: 0.1412830\ttotal: 2.98s\tremaining: 9.45s\n",
            "12:\tlearn: 0.1358913\ttotal: 3.22s\tremaining: 9.17s\n",
            "13:\tlearn: 0.1317376\ttotal: 3.46s\tremaining: 8.91s\n",
            "14:\tlearn: 0.1274490\ttotal: 3.7s\tremaining: 8.64s\n",
            "15:\tlearn: 0.1240706\ttotal: 3.94s\tremaining: 8.38s\n",
            "16:\tlearn: 0.1207628\ttotal: 4.18s\tremaining: 8.12s\n",
            "17:\tlearn: 0.1182035\ttotal: 4.42s\tremaining: 7.87s\n",
            "18:\tlearn: 0.1139949\ttotal: 4.68s\tremaining: 7.64s\n",
            "19:\tlearn: 0.1111511\ttotal: 4.99s\tremaining: 7.48s\n",
            "20:\tlearn: 0.1071768\ttotal: 5.27s\tremaining: 7.28s\n",
            "21:\tlearn: 0.1050750\ttotal: 5.51s\tremaining: 7.01s\n",
            "22:\tlearn: 0.1027784\ttotal: 5.76s\tremaining: 6.76s\n",
            "23:\tlearn: 0.1007414\ttotal: 6.02s\tremaining: 6.53s\n",
            "24:\tlearn: 0.0967225\ttotal: 6.3s\tremaining: 6.3s\n",
            "25:\tlearn: 0.0947129\ttotal: 6.6s\tremaining: 6.09s\n",
            "26:\tlearn: 0.0914405\ttotal: 6.84s\tremaining: 5.83s\n",
            "27:\tlearn: 0.0896205\ttotal: 7.11s\tremaining: 5.59s\n",
            "28:\tlearn: 0.0879028\ttotal: 7.35s\tremaining: 5.32s\n",
            "29:\tlearn: 0.0861929\ttotal: 7.6s\tremaining: 5.07s\n",
            "30:\tlearn: 0.0845374\ttotal: 7.84s\tremaining: 4.81s\n",
            "31:\tlearn: 0.0828477\ttotal: 8.08s\tremaining: 4.54s\n",
            "32:\tlearn: 0.0811497\ttotal: 8.32s\tremaining: 4.29s\n",
            "33:\tlearn: 0.0794674\ttotal: 8.57s\tremaining: 4.03s\n",
            "34:\tlearn: 0.0778185\ttotal: 8.84s\tremaining: 3.79s\n",
            "35:\tlearn: 0.0761104\ttotal: 9.08s\tremaining: 3.53s\n",
            "36:\tlearn: 0.0744356\ttotal: 9.32s\tremaining: 3.28s\n",
            "37:\tlearn: 0.0705034\ttotal: 9.56s\tremaining: 3.02s\n",
            "38:\tlearn: 0.0688905\ttotal: 9.8s\tremaining: 2.77s\n",
            "39:\tlearn: 0.0671308\ttotal: 10s\tremaining: 2.51s\n",
            "40:\tlearn: 0.0655898\ttotal: 10.3s\tremaining: 2.26s\n",
            "41:\tlearn: 0.0642441\ttotal: 10.5s\tremaining: 2s\n",
            "42:\tlearn: 0.0630429\ttotal: 10.8s\tremaining: 1.75s\n",
            "43:\tlearn: 0.0619894\ttotal: 11s\tremaining: 1.5s\n",
            "44:\tlearn: 0.0610400\ttotal: 11.2s\tremaining: 1.25s\n",
            "45:\tlearn: 0.0597808\ttotal: 11.5s\tremaining: 996ms\n",
            "46:\tlearn: 0.0589647\ttotal: 11.7s\tremaining: 746ms\n",
            "47:\tlearn: 0.0580472\ttotal: 11.9s\tremaining: 497ms\n",
            "48:\tlearn: 0.0572508\ttotal: 12.2s\tremaining: 248ms\n",
            "49:\tlearn: 0.0550935\ttotal: 12.4s\tremaining: 0us\n",
            "[CV 2/3; 8/9] END ..........iterations=50, learning_rate=1.0; total time=  14.6s\n",
            "[CV 3/3; 8/9] START iterations=50, learning_rate=1.0............................\n",
            "0:\tlearn: 0.2856772\ttotal: 408ms\tremaining: 20s\n",
            "1:\tlearn: 0.2393461\ttotal: 707ms\tremaining: 17s\n",
            "2:\tlearn: 0.2179169\ttotal: 949ms\tremaining: 14.9s\n",
            "3:\tlearn: 0.2010899\ttotal: 1.18s\tremaining: 13.6s\n",
            "4:\tlearn: 0.1899915\ttotal: 1.44s\tremaining: 13s\n",
            "5:\tlearn: 0.1813457\ttotal: 1.72s\tremaining: 12.6s\n",
            "6:\tlearn: 0.1745192\ttotal: 1.96s\tremaining: 12.1s\n",
            "7:\tlearn: 0.1668932\ttotal: 2.22s\tremaining: 11.7s\n",
            "8:\tlearn: 0.1611620\ttotal: 2.45s\tremaining: 11.2s\n",
            "9:\tlearn: 0.1572290\ttotal: 2.7s\tremaining: 10.8s\n",
            "10:\tlearn: 0.1501428\ttotal: 2.94s\tremaining: 10.4s\n",
            "11:\tlearn: 0.1434479\ttotal: 3.19s\tremaining: 10.1s\n",
            "12:\tlearn: 0.1360070\ttotal: 3.44s\tremaining: 9.79s\n",
            "13:\tlearn: 0.1318276\ttotal: 3.68s\tremaining: 9.47s\n",
            "14:\tlearn: 0.1279484\ttotal: 3.92s\tremaining: 9.15s\n",
            "15:\tlearn: 0.1249321\ttotal: 4.17s\tremaining: 8.87s\n",
            "16:\tlearn: 0.1220379\ttotal: 4.43s\tremaining: 8.6s\n",
            "17:\tlearn: 0.1182413\ttotal: 4.67s\tremaining: 8.3s\n",
            "18:\tlearn: 0.1129597\ttotal: 4.92s\tremaining: 8.02s\n",
            "19:\tlearn: 0.1103733\ttotal: 5.15s\tremaining: 7.73s\n",
            "20:\tlearn: 0.1060606\ttotal: 5.39s\tremaining: 7.45s\n",
            "21:\tlearn: 0.1042339\ttotal: 5.64s\tremaining: 7.18s\n",
            "22:\tlearn: 0.1022398\ttotal: 5.88s\tremaining: 6.9s\n",
            "23:\tlearn: 0.0995350\ttotal: 6.12s\tremaining: 6.63s\n",
            "24:\tlearn: 0.0974856\ttotal: 6.36s\tremaining: 6.36s\n",
            "25:\tlearn: 0.0947013\ttotal: 6.59s\tremaining: 6.08s\n",
            "26:\tlearn: 0.0927126\ttotal: 6.83s\tremaining: 5.82s\n",
            "27:\tlearn: 0.0908600\ttotal: 7.06s\tremaining: 5.55s\n",
            "28:\tlearn: 0.0891652\ttotal: 7.3s\tremaining: 5.28s\n",
            "29:\tlearn: 0.0873397\ttotal: 7.53s\tremaining: 5.02s\n",
            "30:\tlearn: 0.0855113\ttotal: 7.77s\tremaining: 4.76s\n",
            "31:\tlearn: 0.0837416\ttotal: 8s\tremaining: 4.5s\n",
            "32:\tlearn: 0.0819651\ttotal: 8.24s\tremaining: 4.24s\n",
            "33:\tlearn: 0.0802717\ttotal: 8.48s\tremaining: 3.99s\n",
            "34:\tlearn: 0.0784493\ttotal: 8.72s\tremaining: 3.74s\n",
            "35:\tlearn: 0.0767243\ttotal: 8.96s\tremaining: 3.48s\n",
            "36:\tlearn: 0.0751174\ttotal: 9.19s\tremaining: 3.23s\n",
            "37:\tlearn: 0.0735793\ttotal: 9.43s\tremaining: 2.98s\n",
            "38:\tlearn: 0.0722567\ttotal: 9.66s\tremaining: 2.73s\n",
            "39:\tlearn: 0.0709982\ttotal: 9.9s\tremaining: 2.48s\n",
            "40:\tlearn: 0.0699936\ttotal: 10.1s\tremaining: 2.23s\n",
            "41:\tlearn: 0.0689767\ttotal: 10.4s\tremaining: 1.99s\n",
            "42:\tlearn: 0.0681215\ttotal: 10.7s\tremaining: 1.74s\n",
            "43:\tlearn: 0.0646175\ttotal: 11s\tremaining: 1.49s\n",
            "44:\tlearn: 0.0635286\ttotal: 11.2s\tremaining: 1.24s\n",
            "45:\tlearn: 0.0625997\ttotal: 11.4s\tremaining: 994ms\n",
            "46:\tlearn: 0.0616728\ttotal: 11.7s\tremaining: 746ms\n",
            "47:\tlearn: 0.0608897\ttotal: 11.9s\tremaining: 498ms\n",
            "48:\tlearn: 0.0595655\ttotal: 12.2s\tremaining: 249ms\n",
            "49:\tlearn: 0.0587365\ttotal: 12.4s\tremaining: 0us\n",
            "[CV 3/3; 8/9] END ..........iterations=50, learning_rate=1.0; total time=  14.5s\n",
            "[CV 1/3; 9/9] START iterations=50, learning_rate=0.2............................\n",
            "0:\tlearn: 0.5212708\ttotal: 337ms\tremaining: 16.5s\n",
            "1:\tlearn: 0.4072900\ttotal: 574ms\tremaining: 13.8s\n",
            "2:\tlearn: 0.3484539\ttotal: 813ms\tremaining: 12.7s\n",
            "3:\tlearn: 0.3051713\ttotal: 1.04s\tremaining: 12s\n",
            "4:\tlearn: 0.2774157\ttotal: 1.28s\tremaining: 11.5s\n",
            "5:\tlearn: 0.2582186\ttotal: 1.51s\tremaining: 11.1s\n",
            "6:\tlearn: 0.2450462\ttotal: 1.76s\tremaining: 10.8s\n",
            "7:\tlearn: 0.2354369\ttotal: 2s\tremaining: 10.5s\n",
            "8:\tlearn: 0.2286421\ttotal: 2.23s\tremaining: 10.2s\n",
            "9:\tlearn: 0.2237668\ttotal: 2.48s\tremaining: 9.93s\n",
            "10:\tlearn: 0.2185426\ttotal: 2.72s\tremaining: 9.64s\n",
            "11:\tlearn: 0.2152759\ttotal: 2.95s\tremaining: 9.35s\n",
            "12:\tlearn: 0.2096017\ttotal: 3.2s\tremaining: 9.1s\n",
            "13:\tlearn: 0.2068185\ttotal: 3.44s\tremaining: 8.83s\n",
            "14:\tlearn: 0.2039560\ttotal: 3.68s\tremaining: 8.58s\n",
            "15:\tlearn: 0.2017295\ttotal: 3.91s\tremaining: 8.31s\n",
            "16:\tlearn: 0.1991547\ttotal: 4.15s\tremaining: 8.05s\n",
            "17:\tlearn: 0.1971479\ttotal: 4.38s\tremaining: 7.79s\n",
            "18:\tlearn: 0.1948874\ttotal: 4.62s\tremaining: 7.54s\n",
            "19:\tlearn: 0.1933191\ttotal: 4.86s\tremaining: 7.28s\n",
            "20:\tlearn: 0.1908602\ttotal: 5.09s\tremaining: 7.03s\n",
            "21:\tlearn: 0.1887958\ttotal: 5.32s\tremaining: 6.77s\n",
            "22:\tlearn: 0.1871539\ttotal: 5.56s\tremaining: 6.53s\n",
            "23:\tlearn: 0.1859825\ttotal: 5.81s\tremaining: 6.3s\n",
            "24:\tlearn: 0.1844659\ttotal: 6.11s\tremaining: 6.11s\n",
            "25:\tlearn: 0.1829813\ttotal: 6.35s\tremaining: 5.86s\n",
            "26:\tlearn: 0.1814248\ttotal: 6.59s\tremaining: 5.61s\n",
            "27:\tlearn: 0.1786981\ttotal: 6.82s\tremaining: 5.36s\n",
            "28:\tlearn: 0.1773033\ttotal: 7.05s\tremaining: 5.1s\n",
            "29:\tlearn: 0.1758314\ttotal: 7.29s\tremaining: 4.86s\n",
            "30:\tlearn: 0.1736317\ttotal: 7.53s\tremaining: 4.62s\n",
            "31:\tlearn: 0.1723754\ttotal: 7.78s\tremaining: 4.38s\n",
            "32:\tlearn: 0.1712441\ttotal: 8.01s\tremaining: 4.13s\n",
            "33:\tlearn: 0.1702563\ttotal: 8.25s\tremaining: 3.88s\n",
            "34:\tlearn: 0.1691974\ttotal: 8.48s\tremaining: 3.63s\n",
            "35:\tlearn: 0.1679598\ttotal: 8.73s\tremaining: 3.39s\n",
            "36:\tlearn: 0.1670191\ttotal: 8.96s\tremaining: 3.15s\n",
            "37:\tlearn: 0.1659187\ttotal: 9.2s\tremaining: 2.9s\n",
            "38:\tlearn: 0.1645829\ttotal: 9.42s\tremaining: 2.66s\n",
            "39:\tlearn: 0.1638421\ttotal: 9.68s\tremaining: 2.42s\n",
            "40:\tlearn: 0.1631789\ttotal: 9.91s\tremaining: 2.17s\n",
            "41:\tlearn: 0.1624092\ttotal: 10.1s\tremaining: 1.93s\n",
            "42:\tlearn: 0.1616447\ttotal: 10.4s\tremaining: 1.69s\n",
            "43:\tlearn: 0.1608127\ttotal: 10.6s\tremaining: 1.45s\n",
            "44:\tlearn: 0.1596473\ttotal: 10.9s\tremaining: 1.21s\n",
            "45:\tlearn: 0.1586442\ttotal: 11.1s\tremaining: 968ms\n",
            "46:\tlearn: 0.1573454\ttotal: 11.4s\tremaining: 726ms\n",
            "47:\tlearn: 0.1563648\ttotal: 11.6s\tremaining: 485ms\n",
            "48:\tlearn: 0.1554613\ttotal: 11.9s\tremaining: 242ms\n",
            "49:\tlearn: 0.1546267\ttotal: 12.1s\tremaining: 0us\n",
            "[CV 1/3; 9/9] END ..........iterations=50, learning_rate=0.2; total time=  14.3s\n",
            "[CV 2/3; 9/9] START iterations=50, learning_rate=0.2............................\n",
            "0:\tlearn: 0.5231330\ttotal: 364ms\tremaining: 17.8s\n",
            "1:\tlearn: 0.4179903\ttotal: 600ms\tremaining: 14.4s\n",
            "2:\tlearn: 0.3452815\ttotal: 845ms\tremaining: 13.2s\n",
            "3:\tlearn: 0.3023549\ttotal: 1.09s\tremaining: 12.5s\n",
            "4:\tlearn: 0.2758922\ttotal: 1.33s\tremaining: 12s\n",
            "5:\tlearn: 0.2585611\ttotal: 1.65s\tremaining: 12.1s\n",
            "6:\tlearn: 0.2443122\ttotal: 1.89s\tremaining: 11.6s\n",
            "7:\tlearn: 0.2339146\ttotal: 2.13s\tremaining: 11.2s\n",
            "8:\tlearn: 0.2253028\ttotal: 2.39s\tremaining: 10.9s\n",
            "9:\tlearn: 0.2195628\ttotal: 2.63s\tremaining: 10.5s\n",
            "10:\tlearn: 0.2146602\ttotal: 2.89s\tremaining: 10.2s\n",
            "11:\tlearn: 0.2102645\ttotal: 3.14s\tremaining: 9.94s\n",
            "12:\tlearn: 0.2068188\ttotal: 3.39s\tremaining: 9.65s\n",
            "13:\tlearn: 0.2028272\ttotal: 3.65s\tremaining: 9.4s\n",
            "14:\tlearn: 0.1988719\ttotal: 3.91s\tremaining: 9.13s\n",
            "15:\tlearn: 0.1966222\ttotal: 4.16s\tremaining: 8.85s\n",
            "16:\tlearn: 0.1937588\ttotal: 4.41s\tremaining: 8.56s\n",
            "17:\tlearn: 0.1910982\ttotal: 4.66s\tremaining: 8.28s\n",
            "18:\tlearn: 0.1887046\ttotal: 4.91s\tremaining: 8.01s\n",
            "19:\tlearn: 0.1866321\ttotal: 5.16s\tremaining: 7.74s\n",
            "20:\tlearn: 0.1847001\ttotal: 5.42s\tremaining: 7.48s\n",
            "21:\tlearn: 0.1835807\ttotal: 5.69s\tremaining: 7.24s\n",
            "22:\tlearn: 0.1822114\ttotal: 5.95s\tremaining: 6.99s\n",
            "23:\tlearn: 0.1805440\ttotal: 6.22s\tremaining: 6.74s\n",
            "24:\tlearn: 0.1782676\ttotal: 6.47s\tremaining: 6.47s\n",
            "25:\tlearn: 0.1764501\ttotal: 6.73s\tremaining: 6.21s\n",
            "26:\tlearn: 0.1747424\ttotal: 6.99s\tremaining: 5.95s\n",
            "27:\tlearn: 0.1731816\ttotal: 7.24s\tremaining: 5.69s\n",
            "28:\tlearn: 0.1710979\ttotal: 7.49s\tremaining: 5.42s\n",
            "29:\tlearn: 0.1698085\ttotal: 7.74s\tremaining: 5.16s\n",
            "30:\tlearn: 0.1688717\ttotal: 7.98s\tremaining: 4.89s\n",
            "31:\tlearn: 0.1676002\ttotal: 8.23s\tremaining: 4.63s\n",
            "32:\tlearn: 0.1663018\ttotal: 8.47s\tremaining: 4.36s\n",
            "33:\tlearn: 0.1653262\ttotal: 8.71s\tremaining: 4.1s\n",
            "34:\tlearn: 0.1636047\ttotal: 8.96s\tremaining: 3.84s\n",
            "35:\tlearn: 0.1628514\ttotal: 9.21s\tremaining: 3.58s\n",
            "36:\tlearn: 0.1619889\ttotal: 9.46s\tremaining: 3.32s\n",
            "37:\tlearn: 0.1611566\ttotal: 9.71s\tremaining: 3.07s\n",
            "38:\tlearn: 0.1597053\ttotal: 9.97s\tremaining: 2.81s\n",
            "39:\tlearn: 0.1589241\ttotal: 10.2s\tremaining: 2.55s\n",
            "40:\tlearn: 0.1576267\ttotal: 10.5s\tremaining: 2.3s\n",
            "41:\tlearn: 0.1564431\ttotal: 10.7s\tremaining: 2.04s\n",
            "42:\tlearn: 0.1556830\ttotal: 11s\tremaining: 1.78s\n",
            "43:\tlearn: 0.1550711\ttotal: 11.2s\tremaining: 1.53s\n",
            "44:\tlearn: 0.1542613\ttotal: 11.5s\tremaining: 1.28s\n",
            "45:\tlearn: 0.1522899\ttotal: 11.8s\tremaining: 1.02s\n",
            "46:\tlearn: 0.1515241\ttotal: 12s\tremaining: 768ms\n",
            "47:\tlearn: 0.1507570\ttotal: 12.3s\tremaining: 512ms\n",
            "48:\tlearn: 0.1497577\ttotal: 12.5s\tremaining: 256ms\n",
            "49:\tlearn: 0.1491163\ttotal: 12.8s\tremaining: 0us\n",
            "[CV 2/3; 9/9] END ..........iterations=50, learning_rate=0.2; total time=  14.8s\n",
            "[CV 3/3; 9/9] START iterations=50, learning_rate=0.2............................\n",
            "0:\tlearn: 0.5208205\ttotal: 359ms\tremaining: 17.6s\n",
            "1:\tlearn: 0.4174683\ttotal: 604ms\tremaining: 14.5s\n",
            "2:\tlearn: 0.3576598\ttotal: 851ms\tremaining: 13.3s\n",
            "3:\tlearn: 0.3212685\ttotal: 1.1s\tremaining: 12.6s\n",
            "4:\tlearn: 0.2892437\ttotal: 1.35s\tremaining: 12.1s\n",
            "5:\tlearn: 0.2694871\ttotal: 1.59s\tremaining: 11.7s\n",
            "6:\tlearn: 0.2552466\ttotal: 1.84s\tremaining: 11.3s\n",
            "7:\tlearn: 0.2438512\ttotal: 2.1s\tremaining: 11s\n",
            "8:\tlearn: 0.2366291\ttotal: 2.35s\tremaining: 10.7s\n",
            "9:\tlearn: 0.2295391\ttotal: 2.59s\tremaining: 10.4s\n",
            "10:\tlearn: 0.2232122\ttotal: 2.84s\tremaining: 10.1s\n",
            "11:\tlearn: 0.2177770\ttotal: 3.09s\tremaining: 9.79s\n",
            "12:\tlearn: 0.2140275\ttotal: 3.33s\tremaining: 9.49s\n",
            "13:\tlearn: 0.2085761\ttotal: 3.58s\tremaining: 9.21s\n",
            "14:\tlearn: 0.2052334\ttotal: 3.82s\tremaining: 8.92s\n",
            "15:\tlearn: 0.2011992\ttotal: 4.07s\tremaining: 8.65s\n",
            "16:\tlearn: 0.1980590\ttotal: 4.32s\tremaining: 8.38s\n",
            "17:\tlearn: 0.1946358\ttotal: 4.57s\tremaining: 8.13s\n",
            "18:\tlearn: 0.1921707\ttotal: 4.82s\tremaining: 7.87s\n",
            "19:\tlearn: 0.1892429\ttotal: 5.08s\tremaining: 7.62s\n",
            "20:\tlearn: 0.1862202\ttotal: 5.33s\tremaining: 7.36s\n",
            "21:\tlearn: 0.1843001\ttotal: 5.57s\tremaining: 7.09s\n",
            "22:\tlearn: 0.1830369\ttotal: 5.81s\tremaining: 6.82s\n",
            "23:\tlearn: 0.1816889\ttotal: 6.07s\tremaining: 6.57s\n",
            "24:\tlearn: 0.1789310\ttotal: 6.32s\tremaining: 6.32s\n",
            "25:\tlearn: 0.1767700\ttotal: 6.63s\tremaining: 6.12s\n",
            "26:\tlearn: 0.1749728\ttotal: 6.9s\tremaining: 5.88s\n",
            "27:\tlearn: 0.1742196\ttotal: 7.15s\tremaining: 5.62s\n",
            "28:\tlearn: 0.1726697\ttotal: 7.4s\tremaining: 5.36s\n",
            "29:\tlearn: 0.1715645\ttotal: 7.64s\tremaining: 5.09s\n",
            "30:\tlearn: 0.1700603\ttotal: 7.89s\tremaining: 4.84s\n",
            "31:\tlearn: 0.1686023\ttotal: 8.14s\tremaining: 4.58s\n",
            "32:\tlearn: 0.1669448\ttotal: 8.39s\tremaining: 4.32s\n",
            "33:\tlearn: 0.1659017\ttotal: 8.63s\tremaining: 4.06s\n",
            "34:\tlearn: 0.1647425\ttotal: 8.87s\tremaining: 3.8s\n",
            "35:\tlearn: 0.1638724\ttotal: 9.11s\tremaining: 3.54s\n",
            "36:\tlearn: 0.1625548\ttotal: 9.37s\tremaining: 3.29s\n",
            "37:\tlearn: 0.1613372\ttotal: 9.63s\tremaining: 3.04s\n",
            "38:\tlearn: 0.1606071\ttotal: 9.87s\tremaining: 2.78s\n",
            "39:\tlearn: 0.1596361\ttotal: 10.1s\tremaining: 2.53s\n",
            "40:\tlearn: 0.1585707\ttotal: 10.4s\tremaining: 2.27s\n",
            "41:\tlearn: 0.1571228\ttotal: 10.6s\tremaining: 2.02s\n",
            "42:\tlearn: 0.1563193\ttotal: 10.9s\tremaining: 1.77s\n",
            "43:\tlearn: 0.1556986\ttotal: 11.1s\tremaining: 1.51s\n",
            "44:\tlearn: 0.1543019\ttotal: 11.4s\tremaining: 1.26s\n",
            "45:\tlearn: 0.1529131\ttotal: 11.6s\tremaining: 1.01s\n",
            "46:\tlearn: 0.1519855\ttotal: 11.9s\tremaining: 757ms\n",
            "47:\tlearn: 0.1512128\ttotal: 12.1s\tremaining: 504ms\n",
            "48:\tlearn: 0.1501827\ttotal: 12.3s\tremaining: 252ms\n",
            "49:\tlearn: 0.1493460\ttotal: 12.6s\tremaining: 0us\n",
            "[CV 3/3; 9/9] END ..........iterations=50, learning_rate=0.2; total time=  14.5s\n",
            "----------\n",
            "iter: 1\n",
            "n_candidates: 3\n",
            "n_resources: 37233\n",
            "Fitting 3 folds for each of 3 candidates, totalling 9 fits\n",
            "[CV 1/3; 1/3] START iterations=50, learning_rate=1.0............................\n",
            "0:\tlearn: 0.2991372\ttotal: 752ms\tremaining: 36.9s\n",
            "1:\tlearn: 0.2480204\ttotal: 1.33s\tremaining: 31.8s\n",
            "2:\tlearn: 0.2251757\ttotal: 1.87s\tremaining: 29.3s\n",
            "3:\tlearn: 0.2068575\ttotal: 2.42s\tremaining: 27.8s\n",
            "4:\tlearn: 0.1935674\ttotal: 2.99s\tremaining: 26.9s\n",
            "5:\tlearn: 0.1824801\ttotal: 3.55s\tremaining: 26.1s\n",
            "6:\tlearn: 0.1779051\ttotal: 4.11s\tremaining: 25.2s\n",
            "7:\tlearn: 0.1740834\ttotal: 4.65s\tremaining: 24.4s\n",
            "8:\tlearn: 0.1689066\ttotal: 5.19s\tremaining: 23.6s\n",
            "9:\tlearn: 0.1655432\ttotal: 5.73s\tremaining: 22.9s\n",
            "10:\tlearn: 0.1619191\ttotal: 6.25s\tremaining: 22.2s\n",
            "11:\tlearn: 0.1569108\ttotal: 6.78s\tremaining: 21.5s\n",
            "12:\tlearn: 0.1542579\ttotal: 7.31s\tremaining: 20.8s\n",
            "13:\tlearn: 0.1513106\ttotal: 7.82s\tremaining: 20.1s\n",
            "14:\tlearn: 0.1485065\ttotal: 8.35s\tremaining: 19.5s\n",
            "15:\tlearn: 0.1465505\ttotal: 8.86s\tremaining: 18.8s\n",
            "16:\tlearn: 0.1438412\ttotal: 9.39s\tremaining: 18.2s\n",
            "17:\tlearn: 0.1411514\ttotal: 9.99s\tremaining: 17.8s\n",
            "18:\tlearn: 0.1394384\ttotal: 10.5s\tremaining: 17.2s\n",
            "19:\tlearn: 0.1373638\ttotal: 11s\tremaining: 16.6s\n",
            "20:\tlearn: 0.1357802\ttotal: 11.5s\tremaining: 15.9s\n",
            "21:\tlearn: 0.1342825\ttotal: 12.1s\tremaining: 15.3s\n",
            "22:\tlearn: 0.1330655\ttotal: 12.6s\tremaining: 14.8s\n",
            "23:\tlearn: 0.1316641\ttotal: 13.1s\tremaining: 14.2s\n",
            "24:\tlearn: 0.1304246\ttotal: 13.7s\tremaining: 13.7s\n",
            "25:\tlearn: 0.1293302\ttotal: 14.2s\tremaining: 13.1s\n",
            "26:\tlearn: 0.1281626\ttotal: 14.7s\tremaining: 12.5s\n",
            "27:\tlearn: 0.1269155\ttotal: 15.3s\tremaining: 12s\n",
            "28:\tlearn: 0.1254537\ttotal: 15.8s\tremaining: 11.4s\n",
            "29:\tlearn: 0.1244067\ttotal: 16.3s\tremaining: 10.9s\n",
            "30:\tlearn: 0.1231575\ttotal: 16.9s\tremaining: 10.3s\n",
            "31:\tlearn: 0.1222600\ttotal: 17.4s\tremaining: 9.78s\n",
            "32:\tlearn: 0.1191043\ttotal: 17.9s\tremaining: 9.24s\n",
            "33:\tlearn: 0.1176445\ttotal: 18.5s\tremaining: 8.69s\n",
            "34:\tlearn: 0.1166713\ttotal: 19s\tremaining: 8.15s\n",
            "35:\tlearn: 0.1149864\ttotal: 19.6s\tremaining: 7.62s\n",
            "36:\tlearn: 0.1134948\ttotal: 20.2s\tremaining: 7.08s\n",
            "37:\tlearn: 0.1115288\ttotal: 20.7s\tremaining: 6.54s\n",
            "38:\tlearn: 0.1107411\ttotal: 21.2s\tremaining: 5.99s\n",
            "39:\tlearn: 0.1092351\ttotal: 21.8s\tremaining: 5.44s\n",
            "40:\tlearn: 0.1075973\ttotal: 22.3s\tremaining: 4.9s\n",
            "41:\tlearn: 0.1064843\ttotal: 22.9s\tremaining: 4.35s\n",
            "42:\tlearn: 0.1057696\ttotal: 23.4s\tremaining: 3.81s\n",
            "43:\tlearn: 0.1051721\ttotal: 23.9s\tremaining: 3.26s\n",
            "44:\tlearn: 0.1045515\ttotal: 24.5s\tremaining: 2.72s\n",
            "45:\tlearn: 0.1039415\ttotal: 25s\tremaining: 2.18s\n",
            "46:\tlearn: 0.1026385\ttotal: 25.6s\tremaining: 1.63s\n",
            "47:\tlearn: 0.1019659\ttotal: 26.1s\tremaining: 1.09s\n",
            "48:\tlearn: 0.1002643\ttotal: 26.7s\tremaining: 544ms\n",
            "49:\tlearn: 0.0988539\ttotal: 27.2s\tremaining: 0us\n",
            "[CV 1/3; 1/3] END ..........iterations=50, learning_rate=1.0; total time=  31.6s\n",
            "[CV 2/3; 1/3] START iterations=50, learning_rate=1.0............................\n",
            "0:\tlearn: 0.2893273\ttotal: 782ms\tremaining: 38.3s\n",
            "1:\tlearn: 0.2396449\ttotal: 1.35s\tremaining: 32.5s\n",
            "2:\tlearn: 0.2188373\ttotal: 1.94s\tremaining: 30.4s\n",
            "3:\tlearn: 0.2015038\ttotal: 2.51s\tremaining: 28.9s\n",
            "4:\tlearn: 0.1915318\ttotal: 3.07s\tremaining: 27.6s\n",
            "5:\tlearn: 0.1851043\ttotal: 3.62s\tremaining: 26.5s\n",
            "6:\tlearn: 0.1798330\ttotal: 4.16s\tremaining: 25.6s\n",
            "7:\tlearn: 0.1752020\ttotal: 4.71s\tremaining: 24.8s\n",
            "8:\tlearn: 0.1721422\ttotal: 5.26s\tremaining: 24s\n",
            "9:\tlearn: 0.1679649\ttotal: 5.82s\tremaining: 23.3s\n",
            "10:\tlearn: 0.1643126\ttotal: 6.36s\tremaining: 22.5s\n",
            "11:\tlearn: 0.1596399\ttotal: 6.91s\tremaining: 21.9s\n",
            "12:\tlearn: 0.1568004\ttotal: 7.47s\tremaining: 21.3s\n",
            "13:\tlearn: 0.1542273\ttotal: 8.09s\tremaining: 20.8s\n",
            "14:\tlearn: 0.1521230\ttotal: 8.63s\tremaining: 20.1s\n",
            "15:\tlearn: 0.1500712\ttotal: 9.18s\tremaining: 19.5s\n",
            "16:\tlearn: 0.1458625\ttotal: 9.73s\tremaining: 18.9s\n",
            "17:\tlearn: 0.1428561\ttotal: 10.3s\tremaining: 18.3s\n",
            "18:\tlearn: 0.1406380\ttotal: 10.8s\tremaining: 17.6s\n",
            "19:\tlearn: 0.1382449\ttotal: 11.3s\tremaining: 17s\n",
            "20:\tlearn: 0.1358794\ttotal: 11.9s\tremaining: 16.4s\n",
            "21:\tlearn: 0.1335937\ttotal: 12.5s\tremaining: 15.9s\n",
            "22:\tlearn: 0.1307235\ttotal: 13s\tremaining: 15.3s\n",
            "23:\tlearn: 0.1285158\ttotal: 13.6s\tremaining: 14.7s\n",
            "24:\tlearn: 0.1268868\ttotal: 14.1s\tremaining: 14.1s\n",
            "25:\tlearn: 0.1254055\ttotal: 14.7s\tremaining: 13.5s\n",
            "26:\tlearn: 0.1239239\ttotal: 15.2s\tremaining: 13s\n",
            "27:\tlearn: 0.1225037\ttotal: 15.7s\tremaining: 12.4s\n",
            "28:\tlearn: 0.1213027\ttotal: 16.3s\tremaining: 11.8s\n",
            "29:\tlearn: 0.1201394\ttotal: 16.8s\tremaining: 11.2s\n",
            "30:\tlearn: 0.1188683\ttotal: 17.4s\tremaining: 10.6s\n",
            "31:\tlearn: 0.1177859\ttotal: 18s\tremaining: 10.1s\n",
            "32:\tlearn: 0.1168933\ttotal: 18.6s\tremaining: 9.59s\n",
            "33:\tlearn: 0.1150467\ttotal: 19.2s\tremaining: 9.02s\n",
            "34:\tlearn: 0.1137776\ttotal: 19.7s\tremaining: 8.44s\n",
            "35:\tlearn: 0.1124719\ttotal: 20.3s\tremaining: 7.88s\n",
            "36:\tlearn: 0.1113720\ttotal: 20.8s\tremaining: 7.3s\n",
            "37:\tlearn: 0.1101105\ttotal: 21.4s\tremaining: 6.74s\n",
            "38:\tlearn: 0.1092349\ttotal: 21.9s\tremaining: 6.18s\n",
            "39:\tlearn: 0.1084858\ttotal: 22.4s\tremaining: 5.61s\n",
            "40:\tlearn: 0.1074556\ttotal: 23s\tremaining: 5.05s\n",
            "41:\tlearn: 0.1064673\ttotal: 23.6s\tremaining: 4.49s\n",
            "42:\tlearn: 0.1057328\ttotal: 24.1s\tremaining: 3.92s\n",
            "43:\tlearn: 0.1049143\ttotal: 24.6s\tremaining: 3.36s\n",
            "44:\tlearn: 0.1038604\ttotal: 25.2s\tremaining: 2.8s\n",
            "45:\tlearn: 0.1030857\ttotal: 25.7s\tremaining: 2.24s\n",
            "46:\tlearn: 0.1012986\ttotal: 26.3s\tremaining: 1.68s\n",
            "47:\tlearn: 0.1006245\ttotal: 26.8s\tremaining: 1.12s\n",
            "48:\tlearn: 0.1000067\ttotal: 27.4s\tremaining: 558ms\n",
            "49:\tlearn: 0.0992325\ttotal: 28s\tremaining: 0us\n",
            "[CV 2/3; 1/3] END ..........iterations=50, learning_rate=1.0; total time=  32.4s\n",
            "[CV 3/3; 1/3] START iterations=50, learning_rate=1.0............................\n",
            "0:\tlearn: 0.2743667\ttotal: 788ms\tremaining: 38.6s\n",
            "1:\tlearn: 0.2351266\ttotal: 1.35s\tremaining: 32.4s\n",
            "2:\tlearn: 0.2171522\ttotal: 1.9s\tremaining: 29.8s\n",
            "3:\tlearn: 0.1984130\ttotal: 2.48s\tremaining: 28.5s\n",
            "4:\tlearn: 0.1884285\ttotal: 3.04s\tremaining: 27.3s\n",
            "5:\tlearn: 0.1811292\ttotal: 3.58s\tremaining: 26.3s\n",
            "6:\tlearn: 0.1755176\ttotal: 4.14s\tremaining: 25.4s\n",
            "7:\tlearn: 0.1712005\ttotal: 4.71s\tremaining: 24.7s\n",
            "8:\tlearn: 0.1681238\ttotal: 5.33s\tremaining: 24.3s\n",
            "9:\tlearn: 0.1633817\ttotal: 5.89s\tremaining: 23.6s\n",
            "10:\tlearn: 0.1607154\ttotal: 6.44s\tremaining: 22.8s\n",
            "11:\tlearn: 0.1578767\ttotal: 6.99s\tremaining: 22.1s\n",
            "12:\tlearn: 0.1544215\ttotal: 7.53s\tremaining: 21.4s\n",
            "13:\tlearn: 0.1520640\ttotal: 8.07s\tremaining: 20.7s\n",
            "14:\tlearn: 0.1494538\ttotal: 8.61s\tremaining: 20.1s\n",
            "15:\tlearn: 0.1477049\ttotal: 9.16s\tremaining: 19.5s\n",
            "16:\tlearn: 0.1450939\ttotal: 9.7s\tremaining: 18.8s\n",
            "17:\tlearn: 0.1414391\ttotal: 10.2s\tremaining: 18.2s\n",
            "18:\tlearn: 0.1377849\ttotal: 10.8s\tremaining: 17.7s\n",
            "19:\tlearn: 0.1348786\ttotal: 11.4s\tremaining: 17.1s\n",
            "20:\tlearn: 0.1332742\ttotal: 11.9s\tremaining: 16.5s\n",
            "21:\tlearn: 0.1315914\ttotal: 12.5s\tremaining: 15.9s\n",
            "22:\tlearn: 0.1300985\ttotal: 13s\tremaining: 15.3s\n",
            "23:\tlearn: 0.1287012\ttotal: 13.6s\tremaining: 14.7s\n",
            "24:\tlearn: 0.1272647\ttotal: 14.1s\tremaining: 14.1s\n",
            "25:\tlearn: 0.1258660\ttotal: 14.7s\tremaining: 13.5s\n",
            "26:\tlearn: 0.1243820\ttotal: 15.3s\tremaining: 13s\n",
            "27:\tlearn: 0.1230714\ttotal: 15.8s\tremaining: 12.4s\n",
            "28:\tlearn: 0.1218520\ttotal: 16.4s\tremaining: 11.9s\n",
            "29:\tlearn: 0.1205600\ttotal: 16.9s\tremaining: 11.3s\n",
            "30:\tlearn: 0.1183874\ttotal: 17.5s\tremaining: 10.7s\n",
            "31:\tlearn: 0.1162836\ttotal: 18s\tremaining: 10.2s\n",
            "32:\tlearn: 0.1135363\ttotal: 18.6s\tremaining: 9.58s\n",
            "33:\tlearn: 0.1126407\ttotal: 19.2s\tremaining: 9.01s\n",
            "34:\tlearn: 0.1117605\ttotal: 19.7s\tremaining: 8.45s\n",
            "35:\tlearn: 0.1100605\ttotal: 20.3s\tremaining: 7.88s\n",
            "36:\tlearn: 0.1089182\ttotal: 20.8s\tremaining: 7.32s\n",
            "37:\tlearn: 0.1078984\ttotal: 21.4s\tremaining: 6.76s\n",
            "38:\tlearn: 0.1063029\ttotal: 22s\tremaining: 6.19s\n",
            "39:\tlearn: 0.1055625\ttotal: 22.5s\tremaining: 5.63s\n",
            "40:\tlearn: 0.1049570\ttotal: 23.1s\tremaining: 5.06s\n",
            "41:\tlearn: 0.1039590\ttotal: 23.6s\tremaining: 4.5s\n",
            "42:\tlearn: 0.1029143\ttotal: 24.2s\tremaining: 3.93s\n",
            "43:\tlearn: 0.1018115\ttotal: 24.7s\tremaining: 3.37s\n",
            "44:\tlearn: 0.1009624\ttotal: 25.4s\tremaining: 2.82s\n",
            "45:\tlearn: 0.1002617\ttotal: 25.9s\tremaining: 2.25s\n",
            "46:\tlearn: 0.0995547\ttotal: 26.5s\tremaining: 1.69s\n",
            "47:\tlearn: 0.0981756\ttotal: 27s\tremaining: 1.13s\n",
            "48:\tlearn: 0.0975915\ttotal: 27.6s\tremaining: 563ms\n",
            "49:\tlearn: 0.0961652\ttotal: 28.1s\tremaining: 0us\n",
            "[CV 3/3; 1/3] END ..........iterations=50, learning_rate=1.0; total time=  32.5s\n",
            "[CV 1/3; 2/3] START iterations=200, learning_rate=1.0...........................\n",
            "0:\tlearn: 0.2991372\ttotal: 758ms\tremaining: 2m 30s\n",
            "1:\tlearn: 0.2480204\ttotal: 1.31s\tremaining: 2m 9s\n",
            "2:\tlearn: 0.2251757\ttotal: 1.87s\tremaining: 2m 2s\n",
            "3:\tlearn: 0.2068575\ttotal: 2.52s\tremaining: 2m 3s\n",
            "4:\tlearn: 0.1935674\ttotal: 3.08s\tremaining: 1m 59s\n",
            "5:\tlearn: 0.1824801\ttotal: 3.64s\tremaining: 1m 57s\n",
            "6:\tlearn: 0.1779051\ttotal: 4.18s\tremaining: 1m 55s\n",
            "7:\tlearn: 0.1740834\ttotal: 4.71s\tremaining: 1m 53s\n",
            "8:\tlearn: 0.1689066\ttotal: 5.26s\tremaining: 1m 51s\n",
            "9:\tlearn: 0.1655432\ttotal: 5.78s\tremaining: 1m 49s\n",
            "10:\tlearn: 0.1619191\ttotal: 6.32s\tremaining: 1m 48s\n",
            "11:\tlearn: 0.1569108\ttotal: 6.86s\tremaining: 1m 47s\n",
            "12:\tlearn: 0.1542579\ttotal: 7.38s\tremaining: 1m 46s\n",
            "13:\tlearn: 0.1513106\ttotal: 7.91s\tremaining: 1m 45s\n",
            "14:\tlearn: 0.1485065\ttotal: 8.45s\tremaining: 1m 44s\n",
            "15:\tlearn: 0.1465505\ttotal: 9s\tremaining: 1m 43s\n",
            "16:\tlearn: 0.1438412\ttotal: 9.58s\tremaining: 1m 43s\n",
            "17:\tlearn: 0.1411514\ttotal: 10.1s\tremaining: 1m 42s\n",
            "18:\tlearn: 0.1394384\ttotal: 10.7s\tremaining: 1m 41s\n",
            "19:\tlearn: 0.1373638\ttotal: 11.2s\tremaining: 1m 40s\n",
            "20:\tlearn: 0.1357802\ttotal: 11.8s\tremaining: 1m 40s\n",
            "21:\tlearn: 0.1342825\ttotal: 12.4s\tremaining: 1m 40s\n",
            "22:\tlearn: 0.1330655\ttotal: 12.9s\tremaining: 1m 39s\n",
            "23:\tlearn: 0.1316641\ttotal: 13.5s\tremaining: 1m 38s\n",
            "24:\tlearn: 0.1304246\ttotal: 14s\tremaining: 1m 38s\n",
            "25:\tlearn: 0.1293302\ttotal: 14.6s\tremaining: 1m 37s\n",
            "26:\tlearn: 0.1281626\ttotal: 15.2s\tremaining: 1m 37s\n",
            "27:\tlearn: 0.1269155\ttotal: 15.7s\tremaining: 1m 36s\n",
            "28:\tlearn: 0.1254537\ttotal: 16.3s\tremaining: 1m 35s\n",
            "29:\tlearn: 0.1244067\ttotal: 16.8s\tremaining: 1m 35s\n",
            "30:\tlearn: 0.1231575\ttotal: 17.4s\tremaining: 1m 34s\n",
            "31:\tlearn: 0.1222600\ttotal: 17.9s\tremaining: 1m 34s\n",
            "32:\tlearn: 0.1191043\ttotal: 18.5s\tremaining: 1m 33s\n",
            "33:\tlearn: 0.1176445\ttotal: 19s\tremaining: 1m 32s\n",
            "34:\tlearn: 0.1166713\ttotal: 19.6s\tremaining: 1m 32s\n",
            "35:\tlearn: 0.1149864\ttotal: 20.1s\tremaining: 1m 31s\n",
            "36:\tlearn: 0.1134948\ttotal: 20.7s\tremaining: 1m 31s\n",
            "37:\tlearn: 0.1115288\ttotal: 21.2s\tremaining: 1m 30s\n",
            "38:\tlearn: 0.1107411\ttotal: 21.7s\tremaining: 1m 29s\n",
            "39:\tlearn: 0.1092351\ttotal: 22.3s\tremaining: 1m 29s\n",
            "40:\tlearn: 0.1075973\ttotal: 22.9s\tremaining: 1m 28s\n",
            "41:\tlearn: 0.1064843\ttotal: 23.4s\tremaining: 1m 28s\n",
            "42:\tlearn: 0.1057696\ttotal: 24s\tremaining: 1m 27s\n",
            "43:\tlearn: 0.1051721\ttotal: 24.5s\tremaining: 1m 26s\n",
            "44:\tlearn: 0.1045515\ttotal: 25s\tremaining: 1m 26s\n",
            "45:\tlearn: 0.1039415\ttotal: 25.5s\tremaining: 1m 25s\n",
            "46:\tlearn: 0.1026385\ttotal: 26.1s\tremaining: 1m 24s\n",
            "47:\tlearn: 0.1019659\ttotal: 26.6s\tremaining: 1m 24s\n",
            "48:\tlearn: 0.1002643\ttotal: 27.1s\tremaining: 1m 23s\n",
            "49:\tlearn: 0.0988539\ttotal: 27.7s\tremaining: 1m 23s\n",
            "50:\tlearn: 0.0980830\ttotal: 28.2s\tremaining: 1m 22s\n",
            "51:\tlearn: 0.0970258\ttotal: 28.8s\tremaining: 1m 21s\n",
            "52:\tlearn: 0.0964326\ttotal: 29.3s\tremaining: 1m 21s\n",
            "53:\tlearn: 0.0950695\ttotal: 29.8s\tremaining: 1m 20s\n",
            "54:\tlearn: 0.0943377\ttotal: 30.3s\tremaining: 1m 20s\n",
            "55:\tlearn: 0.0935793\ttotal: 30.9s\tremaining: 1m 19s\n",
            "56:\tlearn: 0.0929919\ttotal: 31.4s\tremaining: 1m 18s\n",
            "57:\tlearn: 0.0923140\ttotal: 31.9s\tremaining: 1m 18s\n",
            "58:\tlearn: 0.0916554\ttotal: 32.5s\tremaining: 1m 17s\n",
            "59:\tlearn: 0.0910052\ttotal: 33.1s\tremaining: 1m 17s\n",
            "60:\tlearn: 0.0899888\ttotal: 33.6s\tremaining: 1m 16s\n",
            "61:\tlearn: 0.0894215\ttotal: 34.1s\tremaining: 1m 15s\n",
            "62:\tlearn: 0.0884154\ttotal: 34.6s\tremaining: 1m 15s\n",
            "63:\tlearn: 0.0877530\ttotal: 35.2s\tremaining: 1m 14s\n",
            "64:\tlearn: 0.0871038\ttotal: 35.7s\tremaining: 1m 14s\n",
            "65:\tlearn: 0.0863821\ttotal: 36.2s\tremaining: 1m 13s\n",
            "66:\tlearn: 0.0858648\ttotal: 36.8s\tremaining: 1m 12s\n",
            "67:\tlearn: 0.0852441\ttotal: 37.3s\tremaining: 1m 12s\n",
            "68:\tlearn: 0.0846363\ttotal: 37.8s\tremaining: 1m 11s\n",
            "69:\tlearn: 0.0839873\ttotal: 38.4s\tremaining: 1m 11s\n",
            "70:\tlearn: 0.0833524\ttotal: 38.9s\tremaining: 1m 10s\n",
            "71:\tlearn: 0.0827983\ttotal: 39.5s\tremaining: 1m 10s\n",
            "72:\tlearn: 0.0822129\ttotal: 40s\tremaining: 1m 9s\n",
            "73:\tlearn: 0.0816109\ttotal: 40.6s\tremaining: 1m 9s\n",
            "74:\tlearn: 0.0810959\ttotal: 41.1s\tremaining: 1m 8s\n",
            "75:\tlearn: 0.0804919\ttotal: 41.6s\tremaining: 1m 7s\n",
            "76:\tlearn: 0.0799086\ttotal: 42.2s\tremaining: 1m 7s\n",
            "77:\tlearn: 0.0793232\ttotal: 42.8s\tremaining: 1m 6s\n",
            "78:\tlearn: 0.0786779\ttotal: 43.3s\tremaining: 1m 6s\n",
            "79:\tlearn: 0.0781144\ttotal: 43.9s\tremaining: 1m 5s\n",
            "80:\tlearn: 0.0775137\ttotal: 44.5s\tremaining: 1m 5s\n",
            "81:\tlearn: 0.0769069\ttotal: 45s\tremaining: 1m 4s\n",
            "82:\tlearn: 0.0763443\ttotal: 45.6s\tremaining: 1m 4s\n",
            "83:\tlearn: 0.0758021\ttotal: 46.1s\tremaining: 1m 3s\n",
            "84:\tlearn: 0.0751964\ttotal: 46.6s\tremaining: 1m 3s\n",
            "85:\tlearn: 0.0745902\ttotal: 47.2s\tremaining: 1m 2s\n",
            "86:\tlearn: 0.0739854\ttotal: 47.7s\tremaining: 1m 2s\n",
            "87:\tlearn: 0.0734000\ttotal: 48.3s\tremaining: 1m 1s\n",
            "88:\tlearn: 0.0724180\ttotal: 48.9s\tremaining: 1m\n",
            "89:\tlearn: 0.0718514\ttotal: 49.4s\tremaining: 1m\n",
            "90:\tlearn: 0.0713357\ttotal: 49.9s\tremaining: 59.8s\n",
            "91:\tlearn: 0.0708160\ttotal: 50.5s\tremaining: 59.3s\n",
            "92:\tlearn: 0.0699700\ttotal: 51.1s\tremaining: 58.7s\n",
            "93:\tlearn: 0.0694335\ttotal: 51.6s\tremaining: 58.2s\n",
            "94:\tlearn: 0.0689147\ttotal: 52.2s\tremaining: 57.7s\n",
            "95:\tlearn: 0.0684141\ttotal: 52.8s\tremaining: 57.2s\n",
            "96:\tlearn: 0.0679704\ttotal: 53.3s\tremaining: 56.6s\n",
            "97:\tlearn: 0.0675175\ttotal: 53.9s\tremaining: 56.1s\n",
            "98:\tlearn: 0.0670963\ttotal: 54.4s\tremaining: 55.5s\n",
            "99:\tlearn: 0.0666535\ttotal: 54.9s\tremaining: 54.9s\n",
            "100:\tlearn: 0.0662465\ttotal: 55.5s\tremaining: 54.4s\n",
            "101:\tlearn: 0.0658465\ttotal: 56s\tremaining: 53.8s\n",
            "102:\tlearn: 0.0654488\ttotal: 56.6s\tremaining: 53.3s\n",
            "103:\tlearn: 0.0646351\ttotal: 57.1s\tremaining: 52.8s\n",
            "104:\tlearn: 0.0642448\ttotal: 57.7s\tremaining: 52.2s\n",
            "105:\tlearn: 0.0638654\ttotal: 58.2s\tremaining: 51.7s\n",
            "106:\tlearn: 0.0634822\ttotal: 58.8s\tremaining: 51.1s\n",
            "107:\tlearn: 0.0631026\ttotal: 59.4s\tremaining: 50.6s\n",
            "108:\tlearn: 0.0627399\ttotal: 59.9s\tremaining: 50s\n",
            "109:\tlearn: 0.0624579\ttotal: 1m\tremaining: 49.5s\n",
            "110:\tlearn: 0.0621111\ttotal: 1m 1s\tremaining: 48.9s\n",
            "111:\tlearn: 0.0617727\ttotal: 1m 1s\tremaining: 48.4s\n",
            "112:\tlearn: 0.0614451\ttotal: 1m 2s\tremaining: 47.9s\n",
            "113:\tlearn: 0.0610907\ttotal: 1m 2s\tremaining: 47.3s\n",
            "114:\tlearn: 0.0607773\ttotal: 1m 3s\tremaining: 46.8s\n",
            "115:\tlearn: 0.0604609\ttotal: 1m 3s\tremaining: 46.2s\n",
            "116:\tlearn: 0.0601731\ttotal: 1m 4s\tremaining: 45.7s\n",
            "117:\tlearn: 0.0598670\ttotal: 1m 4s\tremaining: 45.1s\n",
            "118:\tlearn: 0.0593384\ttotal: 1m 5s\tremaining: 44.6s\n",
            "119:\tlearn: 0.0588248\ttotal: 1m 6s\tremaining: 44.1s\n",
            "120:\tlearn: 0.0585225\ttotal: 1m 6s\tremaining: 43.5s\n",
            "121:\tlearn: 0.0582410\ttotal: 1m 7s\tremaining: 43s\n",
            "122:\tlearn: 0.0578517\ttotal: 1m 7s\tremaining: 42.4s\n",
            "123:\tlearn: 0.0575472\ttotal: 1m 8s\tremaining: 41.9s\n",
            "124:\tlearn: 0.0572584\ttotal: 1m 8s\tremaining: 41.4s\n",
            "125:\tlearn: 0.0569915\ttotal: 1m 9s\tremaining: 40.8s\n",
            "126:\tlearn: 0.0567254\ttotal: 1m 10s\tremaining: 40.2s\n",
            "127:\tlearn: 0.0564637\ttotal: 1m 10s\tremaining: 39.7s\n",
            "128:\tlearn: 0.0560013\ttotal: 1m 11s\tremaining: 39.1s\n",
            "129:\tlearn: 0.0554022\ttotal: 1m 11s\tremaining: 38.6s\n",
            "130:\tlearn: 0.0551391\ttotal: 1m 12s\tremaining: 38.1s\n",
            "131:\tlearn: 0.0548891\ttotal: 1m 12s\tremaining: 37.6s\n",
            "132:\tlearn: 0.0545989\ttotal: 1m 13s\tremaining: 37.1s\n",
            "133:\tlearn: 0.0543321\ttotal: 1m 14s\tremaining: 36.5s\n",
            "134:\tlearn: 0.0540824\ttotal: 1m 14s\tremaining: 36s\n",
            "135:\tlearn: 0.0538346\ttotal: 1m 15s\tremaining: 35.4s\n",
            "136:\tlearn: 0.0535453\ttotal: 1m 15s\tremaining: 34.9s\n",
            "137:\tlearn: 0.0533022\ttotal: 1m 16s\tremaining: 34.3s\n",
            "138:\tlearn: 0.0530723\ttotal: 1m 16s\tremaining: 33.8s\n",
            "139:\tlearn: 0.0528398\ttotal: 1m 17s\tremaining: 33.2s\n",
            "140:\tlearn: 0.0526156\ttotal: 1m 18s\tremaining: 32.7s\n",
            "141:\tlearn: 0.0523869\ttotal: 1m 18s\tremaining: 32.1s\n",
            "142:\tlearn: 0.0521636\ttotal: 1m 19s\tremaining: 31.6s\n",
            "143:\tlearn: 0.0511336\ttotal: 1m 19s\tremaining: 31s\n",
            "144:\tlearn: 0.0508483\ttotal: 1m 20s\tremaining: 30.4s\n",
            "145:\tlearn: 0.0506238\ttotal: 1m 20s\tremaining: 29.9s\n",
            "146:\tlearn: 0.0503979\ttotal: 1m 21s\tremaining: 29.3s\n",
            "147:\tlearn: 0.0501732\ttotal: 1m 22s\tremaining: 28.8s\n",
            "148:\tlearn: 0.0499490\ttotal: 1m 22s\tremaining: 28.3s\n",
            "149:\tlearn: 0.0497223\ttotal: 1m 23s\tremaining: 27.7s\n",
            "150:\tlearn: 0.0494543\ttotal: 1m 23s\tremaining: 27.2s\n",
            "151:\tlearn: 0.0491754\ttotal: 1m 24s\tremaining: 26.6s\n",
            "152:\tlearn: 0.0486481\ttotal: 1m 24s\tremaining: 26.1s\n",
            "153:\tlearn: 0.0484099\ttotal: 1m 25s\tremaining: 25.5s\n",
            "154:\tlearn: 0.0481795\ttotal: 1m 25s\tremaining: 24.9s\n",
            "155:\tlearn: 0.0479582\ttotal: 1m 26s\tremaining: 24.4s\n",
            "156:\tlearn: 0.0477299\ttotal: 1m 26s\tremaining: 23.8s\n",
            "157:\tlearn: 0.0475103\ttotal: 1m 27s\tremaining: 23.3s\n",
            "158:\tlearn: 0.0472875\ttotal: 1m 28s\tremaining: 22.7s\n",
            "159:\tlearn: 0.0468728\ttotal: 1m 28s\tremaining: 22.1s\n",
            "160:\tlearn: 0.0466574\ttotal: 1m 29s\tremaining: 21.6s\n",
            "161:\tlearn: 0.0464604\ttotal: 1m 29s\tremaining: 21s\n",
            "162:\tlearn: 0.0462633\ttotal: 1m 30s\tremaining: 20.5s\n",
            "163:\tlearn: 0.0460592\ttotal: 1m 30s\tremaining: 19.9s\n",
            "164:\tlearn: 0.0458568\ttotal: 1m 31s\tremaining: 19.4s\n",
            "165:\tlearn: 0.0456483\ttotal: 1m 32s\tremaining: 18.9s\n",
            "166:\tlearn: 0.0454549\ttotal: 1m 32s\tremaining: 18.3s\n",
            "167:\tlearn: 0.0452588\ttotal: 1m 33s\tremaining: 17.8s\n",
            "168:\tlearn: 0.0450356\ttotal: 1m 33s\tremaining: 17.2s\n",
            "169:\tlearn: 0.0448420\ttotal: 1m 34s\tremaining: 16.7s\n",
            "170:\tlearn: 0.0446630\ttotal: 1m 34s\tremaining: 16.1s\n",
            "171:\tlearn: 0.0444632\ttotal: 1m 35s\tremaining: 15.6s\n",
            "172:\tlearn: 0.0441876\ttotal: 1m 36s\tremaining: 15s\n",
            "173:\tlearn: 0.0440010\ttotal: 1m 36s\tremaining: 14.4s\n",
            "174:\tlearn: 0.0438090\ttotal: 1m 37s\tremaining: 13.9s\n",
            "175:\tlearn: 0.0436216\ttotal: 1m 37s\tremaining: 13.3s\n",
            "176:\tlearn: 0.0434406\ttotal: 1m 38s\tremaining: 12.8s\n",
            "177:\tlearn: 0.0431835\ttotal: 1m 38s\tremaining: 12.2s\n",
            "178:\tlearn: 0.0430080\ttotal: 1m 39s\tremaining: 11.7s\n",
            "179:\tlearn: 0.0428364\ttotal: 1m 39s\tremaining: 11.1s\n",
            "180:\tlearn: 0.0426677\ttotal: 1m 40s\tremaining: 10.5s\n",
            "181:\tlearn: 0.0424765\ttotal: 1m 41s\tremaining: 9.99s\n",
            "182:\tlearn: 0.0422894\ttotal: 1m 41s\tremaining: 9.44s\n",
            "183:\tlearn: 0.0417573\ttotal: 1m 42s\tremaining: 8.89s\n",
            "184:\tlearn: 0.0413314\ttotal: 1m 42s\tremaining: 8.34s\n",
            "185:\tlearn: 0.0411578\ttotal: 1m 43s\tremaining: 7.78s\n",
            "186:\tlearn: 0.0409609\ttotal: 1m 43s\tremaining: 7.23s\n",
            "187:\tlearn: 0.0408058\ttotal: 1m 44s\tremaining: 6.67s\n",
            "188:\tlearn: 0.0406339\ttotal: 1m 45s\tremaining: 6.11s\n",
            "189:\tlearn: 0.0404746\ttotal: 1m 45s\tremaining: 5.56s\n",
            "190:\tlearn: 0.0403222\ttotal: 1m 46s\tremaining: 5s\n",
            "191:\tlearn: 0.0401676\ttotal: 1m 46s\tremaining: 4.44s\n",
            "192:\tlearn: 0.0399732\ttotal: 1m 47s\tremaining: 3.89s\n",
            "193:\tlearn: 0.0398225\ttotal: 1m 47s\tremaining: 3.33s\n",
            "194:\tlearn: 0.0394518\ttotal: 1m 48s\tremaining: 2.78s\n",
            "195:\tlearn: 0.0391729\ttotal: 1m 48s\tremaining: 2.22s\n",
            "196:\tlearn: 0.0390165\ttotal: 1m 49s\tremaining: 1.67s\n",
            "197:\tlearn: 0.0388715\ttotal: 1m 50s\tremaining: 1.11s\n",
            "198:\tlearn: 0.0387209\ttotal: 1m 50s\tremaining: 556ms\n",
            "199:\tlearn: 0.0385848\ttotal: 1m 51s\tremaining: 0us\n",
            "[CV 1/3; 2/3] END .........iterations=200, learning_rate=1.0; total time= 1.9min\n",
            "[CV 2/3; 2/3] START iterations=200, learning_rate=1.0...........................\n",
            "0:\tlearn: 0.2893273\ttotal: 779ms\tremaining: 2m 34s\n",
            "1:\tlearn: 0.2396449\ttotal: 1.34s\tremaining: 2m 13s\n",
            "2:\tlearn: 0.2188373\ttotal: 1.96s\tremaining: 2m 8s\n",
            "3:\tlearn: 0.2015038\ttotal: 2.52s\tremaining: 2m 3s\n",
            "4:\tlearn: 0.1915318\ttotal: 3.07s\tremaining: 1m 59s\n",
            "5:\tlearn: 0.1851043\ttotal: 3.63s\tremaining: 1m 57s\n",
            "6:\tlearn: 0.1798330\ttotal: 4.19s\tremaining: 1m 55s\n",
            "7:\tlearn: 0.1752020\ttotal: 4.75s\tremaining: 1m 54s\n",
            "8:\tlearn: 0.1721422\ttotal: 5.3s\tremaining: 1m 52s\n",
            "9:\tlearn: 0.1679649\ttotal: 5.92s\tremaining: 1m 52s\n",
            "10:\tlearn: 0.1643126\ttotal: 6.53s\tremaining: 1m 52s\n",
            "11:\tlearn: 0.1596399\ttotal: 7.11s\tremaining: 1m 51s\n",
            "12:\tlearn: 0.1568004\ttotal: 7.67s\tremaining: 1m 50s\n",
            "13:\tlearn: 0.1542273\ttotal: 8.22s\tremaining: 1m 49s\n",
            "14:\tlearn: 0.1521230\ttotal: 8.77s\tremaining: 1m 48s\n",
            "15:\tlearn: 0.1500712\ttotal: 9.31s\tremaining: 1m 47s\n",
            "16:\tlearn: 0.1458625\ttotal: 9.87s\tremaining: 1m 46s\n",
            "17:\tlearn: 0.1428561\ttotal: 10.4s\tremaining: 1m 45s\n",
            "18:\tlearn: 0.1406380\ttotal: 11s\tremaining: 1m 44s\n",
            "19:\tlearn: 0.1382449\ttotal: 11.5s\tremaining: 1m 43s\n",
            "20:\tlearn: 0.1358794\ttotal: 12.1s\tremaining: 1m 42s\n",
            "21:\tlearn: 0.1335937\ttotal: 12.6s\tremaining: 1m 42s\n",
            "22:\tlearn: 0.1307235\ttotal: 13.1s\tremaining: 1m 41s\n",
            "23:\tlearn: 0.1285158\ttotal: 13.7s\tremaining: 1m 40s\n",
            "24:\tlearn: 0.1268868\ttotal: 14.2s\tremaining: 1m 39s\n",
            "25:\tlearn: 0.1254055\ttotal: 14.8s\tremaining: 1m 38s\n",
            "26:\tlearn: 0.1239239\ttotal: 15.3s\tremaining: 1m 38s\n",
            "27:\tlearn: 0.1225037\ttotal: 15.9s\tremaining: 1m 37s\n",
            "28:\tlearn: 0.1213027\ttotal: 16.5s\tremaining: 1m 37s\n",
            "29:\tlearn: 0.1201394\ttotal: 17s\tremaining: 1m 36s\n",
            "30:\tlearn: 0.1188683\ttotal: 17.6s\tremaining: 1m 36s\n",
            "31:\tlearn: 0.1177859\ttotal: 18.2s\tremaining: 1m 35s\n",
            "32:\tlearn: 0.1168933\ttotal: 18.7s\tremaining: 1m 34s\n",
            "33:\tlearn: 0.1150467\ttotal: 19.3s\tremaining: 1m 34s\n",
            "34:\tlearn: 0.1137776\ttotal: 19.8s\tremaining: 1m 33s\n",
            "35:\tlearn: 0.1124719\ttotal: 20.4s\tremaining: 1m 32s\n",
            "36:\tlearn: 0.1113720\ttotal: 20.9s\tremaining: 1m 32s\n",
            "37:\tlearn: 0.1101105\ttotal: 21.5s\tremaining: 1m 31s\n",
            "38:\tlearn: 0.1092349\ttotal: 22s\tremaining: 1m 30s\n",
            "39:\tlearn: 0.1084858\ttotal: 22.6s\tremaining: 1m 30s\n",
            "40:\tlearn: 0.1074556\ttotal: 23.1s\tremaining: 1m 29s\n",
            "41:\tlearn: 0.1064673\ttotal: 23.7s\tremaining: 1m 29s\n",
            "42:\tlearn: 0.1057328\ttotal: 24.2s\tremaining: 1m 28s\n",
            "43:\tlearn: 0.1049143\ttotal: 24.7s\tremaining: 1m 27s\n",
            "44:\tlearn: 0.1038604\ttotal: 25.3s\tremaining: 1m 27s\n",
            "45:\tlearn: 0.1030857\ttotal: 25.9s\tremaining: 1m 26s\n",
            "46:\tlearn: 0.1012986\ttotal: 26.5s\tremaining: 1m 26s\n",
            "47:\tlearn: 0.1006245\ttotal: 27s\tremaining: 1m 25s\n",
            "48:\tlearn: 0.1000067\ttotal: 27.6s\tremaining: 1m 24s\n",
            "49:\tlearn: 0.0992325\ttotal: 28.1s\tremaining: 1m 24s\n",
            "50:\tlearn: 0.0985981\ttotal: 28.7s\tremaining: 1m 23s\n",
            "51:\tlearn: 0.0979410\ttotal: 29.3s\tremaining: 1m 23s\n",
            "52:\tlearn: 0.0964190\ttotal: 29.9s\tremaining: 1m 22s\n",
            "53:\tlearn: 0.0953469\ttotal: 30.4s\tremaining: 1m 22s\n",
            "54:\tlearn: 0.0946331\ttotal: 31s\tremaining: 1m 21s\n",
            "55:\tlearn: 0.0927984\ttotal: 31.5s\tremaining: 1m 21s\n",
            "56:\tlearn: 0.0913189\ttotal: 32.1s\tremaining: 1m 20s\n",
            "57:\tlearn: 0.0906624\ttotal: 32.6s\tremaining: 1m 19s\n",
            "58:\tlearn: 0.0892434\ttotal: 33.2s\tremaining: 1m 19s\n",
            "59:\tlearn: 0.0879018\ttotal: 33.8s\tremaining: 1m 18s\n",
            "60:\tlearn: 0.0872502\ttotal: 34.3s\tremaining: 1m 18s\n",
            "61:\tlearn: 0.0865843\ttotal: 34.8s\tremaining: 1m 17s\n",
            "62:\tlearn: 0.0859294\ttotal: 35.4s\tremaining: 1m 16s\n",
            "63:\tlearn: 0.0852180\ttotal: 36s\tremaining: 1m 16s\n",
            "64:\tlearn: 0.0845395\ttotal: 36.6s\tremaining: 1m 15s\n",
            "65:\tlearn: 0.0838699\ttotal: 37.1s\tremaining: 1m 15s\n",
            "66:\tlearn: 0.0832217\ttotal: 37.6s\tremaining: 1m 14s\n",
            "67:\tlearn: 0.0825911\ttotal: 38.2s\tremaining: 1m 14s\n",
            "68:\tlearn: 0.0819815\ttotal: 38.7s\tremaining: 1m 13s\n",
            "69:\tlearn: 0.0813927\ttotal: 39.2s\tremaining: 1m 12s\n",
            "70:\tlearn: 0.0808319\ttotal: 39.8s\tremaining: 1m 12s\n",
            "71:\tlearn: 0.0802650\ttotal: 40.3s\tremaining: 1m 11s\n",
            "72:\tlearn: 0.0792913\ttotal: 40.8s\tremaining: 1m 11s\n",
            "73:\tlearn: 0.0786744\ttotal: 41.4s\tremaining: 1m 10s\n",
            "74:\tlearn: 0.0780695\ttotal: 41.9s\tremaining: 1m 9s\n",
            "75:\tlearn: 0.0774972\ttotal: 42.4s\tremaining: 1m 9s\n",
            "76:\tlearn: 0.0769004\ttotal: 43s\tremaining: 1m 8s\n",
            "77:\tlearn: 0.0763432\ttotal: 43.5s\tremaining: 1m 8s\n",
            "78:\tlearn: 0.0757483\ttotal: 44s\tremaining: 1m 7s\n",
            "79:\tlearn: 0.0751567\ttotal: 44.6s\tremaining: 1m 6s\n",
            "80:\tlearn: 0.0745584\ttotal: 45.1s\tremaining: 1m 6s\n",
            "81:\tlearn: 0.0739732\ttotal: 45.7s\tremaining: 1m 5s\n",
            "82:\tlearn: 0.0734176\ttotal: 46.3s\tremaining: 1m 5s\n",
            "83:\tlearn: 0.0728779\ttotal: 46.8s\tremaining: 1m 4s\n",
            "84:\tlearn: 0.0722955\ttotal: 47.4s\tremaining: 1m 4s\n",
            "85:\tlearn: 0.0717311\ttotal: 47.9s\tremaining: 1m 3s\n",
            "86:\tlearn: 0.0712287\ttotal: 48.4s\tremaining: 1m 2s\n",
            "87:\tlearn: 0.0706950\ttotal: 49s\tremaining: 1m 2s\n",
            "88:\tlearn: 0.0701916\ttotal: 49.5s\tremaining: 1m 1s\n",
            "89:\tlearn: 0.0696914\ttotal: 50.1s\tremaining: 1m 1s\n",
            "90:\tlearn: 0.0692317\ttotal: 50.6s\tremaining: 1m\n",
            "91:\tlearn: 0.0687526\ttotal: 51.2s\tremaining: 1m\n",
            "92:\tlearn: 0.0682924\ttotal: 51.8s\tremaining: 59.6s\n",
            "93:\tlearn: 0.0678226\ttotal: 52.3s\tremaining: 59s\n",
            "94:\tlearn: 0.0674017\ttotal: 52.8s\tremaining: 58.4s\n",
            "95:\tlearn: 0.0669632\ttotal: 53.4s\tremaining: 57.8s\n",
            "96:\tlearn: 0.0665546\ttotal: 53.9s\tremaining: 57.3s\n",
            "97:\tlearn: 0.0660692\ttotal: 54.5s\tremaining: 56.7s\n",
            "98:\tlearn: 0.0650722\ttotal: 55s\tremaining: 56.1s\n",
            "99:\tlearn: 0.0646623\ttotal: 55.6s\tremaining: 55.6s\n",
            "100:\tlearn: 0.0642617\ttotal: 56.2s\tremaining: 55.1s\n",
            "101:\tlearn: 0.0638760\ttotal: 56.8s\tremaining: 54.5s\n",
            "102:\tlearn: 0.0634923\ttotal: 57.3s\tremaining: 54s\n",
            "103:\tlearn: 0.0631130\ttotal: 57.8s\tremaining: 53.4s\n",
            "104:\tlearn: 0.0624627\ttotal: 58.4s\tremaining: 52.8s\n",
            "105:\tlearn: 0.0620919\ttotal: 58.9s\tremaining: 52.3s\n",
            "106:\tlearn: 0.0617603\ttotal: 59.5s\tremaining: 51.7s\n",
            "107:\tlearn: 0.0612909\ttotal: 1m\tremaining: 51.1s\n",
            "108:\tlearn: 0.0609490\ttotal: 1m\tremaining: 50.6s\n",
            "109:\tlearn: 0.0605787\ttotal: 1m 1s\tremaining: 50s\n",
            "110:\tlearn: 0.0602684\ttotal: 1m 1s\tremaining: 49.5s\n",
            "111:\tlearn: 0.0599438\ttotal: 1m 2s\tremaining: 48.9s\n",
            "112:\tlearn: 0.0596424\ttotal: 1m 2s\tremaining: 48.3s\n",
            "113:\tlearn: 0.0593299\ttotal: 1m 3s\tremaining: 47.8s\n",
            "114:\tlearn: 0.0590206\ttotal: 1m 3s\tremaining: 47.2s\n",
            "115:\tlearn: 0.0587216\ttotal: 1m 4s\tremaining: 46.6s\n",
            "116:\tlearn: 0.0584223\ttotal: 1m 4s\tremaining: 46.1s\n",
            "117:\tlearn: 0.0581547\ttotal: 1m 5s\tremaining: 45.5s\n",
            "118:\tlearn: 0.0578004\ttotal: 1m 6s\tremaining: 45s\n",
            "119:\tlearn: 0.0575257\ttotal: 1m 6s\tremaining: 44.5s\n",
            "120:\tlearn: 0.0572528\ttotal: 1m 7s\tremaining: 43.9s\n",
            "121:\tlearn: 0.0569852\ttotal: 1m 7s\tremaining: 43.3s\n",
            "122:\tlearn: 0.0567365\ttotal: 1m 8s\tremaining: 42.8s\n",
            "123:\tlearn: 0.0564395\ttotal: 1m 8s\tremaining: 42.2s\n",
            "124:\tlearn: 0.0561877\ttotal: 1m 9s\tremaining: 41.7s\n",
            "125:\tlearn: 0.0558511\ttotal: 1m 9s\tremaining: 41.1s\n",
            "126:\tlearn: 0.0555959\ttotal: 1m 10s\tremaining: 40.5s\n",
            "127:\tlearn: 0.0553619\ttotal: 1m 11s\tremaining: 40s\n",
            "128:\tlearn: 0.0550459\ttotal: 1m 11s\tremaining: 39.4s\n",
            "129:\tlearn: 0.0548102\ttotal: 1m 12s\tremaining: 38.9s\n",
            "130:\tlearn: 0.0545725\ttotal: 1m 12s\tremaining: 38.3s\n",
            "131:\tlearn: 0.0538695\ttotal: 1m 13s\tremaining: 37.8s\n",
            "132:\tlearn: 0.0536009\ttotal: 1m 13s\tremaining: 37.2s\n",
            "133:\tlearn: 0.0530762\ttotal: 1m 14s\tremaining: 36.6s\n",
            "134:\tlearn: 0.0528420\ttotal: 1m 14s\tremaining: 36.1s\n",
            "135:\tlearn: 0.0526035\ttotal: 1m 15s\tremaining: 35.5s\n",
            "136:\tlearn: 0.0523799\ttotal: 1m 16s\tremaining: 35s\n",
            "137:\tlearn: 0.0521483\ttotal: 1m 16s\tremaining: 34.4s\n",
            "138:\tlearn: 0.0519166\ttotal: 1m 17s\tremaining: 33.9s\n",
            "139:\tlearn: 0.0516847\ttotal: 1m 17s\tremaining: 33.4s\n",
            "140:\tlearn: 0.0514595\ttotal: 1m 18s\tremaining: 32.8s\n",
            "141:\tlearn: 0.0512444\ttotal: 1m 18s\tremaining: 32.2s\n",
            "142:\tlearn: 0.0508469\ttotal: 1m 19s\tremaining: 31.7s\n",
            "143:\tlearn: 0.0506377\ttotal: 1m 20s\tremaining: 31.1s\n",
            "144:\tlearn: 0.0504248\ttotal: 1m 20s\tremaining: 30.6s\n",
            "145:\tlearn: 0.0498485\ttotal: 1m 21s\tremaining: 30s\n",
            "146:\tlearn: 0.0496410\ttotal: 1m 21s\tremaining: 29.5s\n",
            "147:\tlearn: 0.0493703\ttotal: 1m 22s\tremaining: 28.9s\n",
            "148:\tlearn: 0.0488259\ttotal: 1m 22s\tremaining: 28.4s\n",
            "149:\tlearn: 0.0485047\ttotal: 1m 23s\tremaining: 27.8s\n",
            "150:\tlearn: 0.0482952\ttotal: 1m 23s\tremaining: 27.2s\n",
            "151:\tlearn: 0.0480452\ttotal: 1m 24s\tremaining: 26.7s\n",
            "152:\tlearn: 0.0478265\ttotal: 1m 25s\tremaining: 26.1s\n",
            "153:\tlearn: 0.0476064\ttotal: 1m 25s\tremaining: 25.6s\n",
            "154:\tlearn: 0.0473878\ttotal: 1m 26s\tremaining: 25s\n",
            "155:\tlearn: 0.0471690\ttotal: 1m 26s\tremaining: 24.5s\n",
            "156:\tlearn: 0.0469465\ttotal: 1m 27s\tremaining: 23.9s\n",
            "157:\tlearn: 0.0467291\ttotal: 1m 27s\tremaining: 23.4s\n",
            "158:\tlearn: 0.0465319\ttotal: 1m 28s\tremaining: 22.8s\n",
            "159:\tlearn: 0.0463459\ttotal: 1m 28s\tremaining: 22.2s\n",
            "160:\tlearn: 0.0461408\ttotal: 1m 29s\tremaining: 21.7s\n",
            "161:\tlearn: 0.0459119\ttotal: 1m 30s\tremaining: 21.1s\n",
            "162:\tlearn: 0.0457139\ttotal: 1m 30s\tremaining: 20.6s\n",
            "163:\tlearn: 0.0455254\ttotal: 1m 31s\tremaining: 20s\n",
            "164:\tlearn: 0.0453142\ttotal: 1m 31s\tremaining: 19.4s\n",
            "165:\tlearn: 0.0451379\ttotal: 1m 32s\tremaining: 18.9s\n",
            "166:\tlearn: 0.0449590\ttotal: 1m 32s\tremaining: 18.3s\n",
            "167:\tlearn: 0.0447905\ttotal: 1m 33s\tremaining: 17.8s\n",
            "168:\tlearn: 0.0442207\ttotal: 1m 33s\tremaining: 17.2s\n",
            "169:\tlearn: 0.0440341\ttotal: 1m 34s\tremaining: 16.6s\n",
            "170:\tlearn: 0.0438691\ttotal: 1m 34s\tremaining: 16.1s\n",
            "171:\tlearn: 0.0437026\ttotal: 1m 35s\tremaining: 15.5s\n",
            "172:\tlearn: 0.0435249\ttotal: 1m 35s\tremaining: 15s\n",
            "173:\tlearn: 0.0433040\ttotal: 1m 36s\tremaining: 14.4s\n",
            "174:\tlearn: 0.0431296\ttotal: 1m 37s\tremaining: 13.9s\n",
            "175:\tlearn: 0.0429709\ttotal: 1m 37s\tremaining: 13.3s\n",
            "176:\tlearn: 0.0428083\ttotal: 1m 38s\tremaining: 12.7s\n",
            "177:\tlearn: 0.0426492\ttotal: 1m 38s\tremaining: 12.2s\n",
            "178:\tlearn: 0.0424291\ttotal: 1m 39s\tremaining: 11.6s\n",
            "179:\tlearn: 0.0422701\ttotal: 1m 39s\tremaining: 11.1s\n",
            "180:\tlearn: 0.0421084\ttotal: 1m 40s\tremaining: 10.5s\n",
            "181:\tlearn: 0.0419661\ttotal: 1m 40s\tremaining: 9.97s\n",
            "182:\tlearn: 0.0414774\ttotal: 1m 41s\tremaining: 9.41s\n",
            "183:\tlearn: 0.0413166\ttotal: 1m 41s\tremaining: 8.86s\n",
            "184:\tlearn: 0.0408383\ttotal: 1m 42s\tremaining: 8.3s\n",
            "185:\tlearn: 0.0406381\ttotal: 1m 42s\tremaining: 7.75s\n",
            "186:\tlearn: 0.0404876\ttotal: 1m 43s\tremaining: 7.19s\n",
            "187:\tlearn: 0.0403318\ttotal: 1m 44s\tremaining: 6.64s\n",
            "188:\tlearn: 0.0401807\ttotal: 1m 44s\tremaining: 6.08s\n",
            "189:\tlearn: 0.0400313\ttotal: 1m 45s\tremaining: 5.53s\n",
            "190:\tlearn: 0.0398839\ttotal: 1m 45s\tremaining: 4.98s\n",
            "191:\tlearn: 0.0397096\ttotal: 1m 46s\tremaining: 4.43s\n",
            "192:\tlearn: 0.0395701\ttotal: 1m 46s\tremaining: 3.87s\n",
            "193:\tlearn: 0.0394305\ttotal: 1m 47s\tremaining: 3.32s\n",
            "194:\tlearn: 0.0393065\ttotal: 1m 47s\tremaining: 2.77s\n",
            "195:\tlearn: 0.0390792\ttotal: 1m 48s\tremaining: 2.21s\n",
            "196:\tlearn: 0.0385320\ttotal: 1m 48s\tremaining: 1.66s\n",
            "197:\tlearn: 0.0383794\ttotal: 1m 49s\tremaining: 1.11s\n",
            "198:\tlearn: 0.0382436\ttotal: 1m 50s\tremaining: 553ms\n",
            "199:\tlearn: 0.0381114\ttotal: 1m 50s\tremaining: 0us\n",
            "[CV 2/3; 2/3] END .........iterations=200, learning_rate=1.0; total time= 1.9min\n",
            "[CV 3/3; 2/3] START iterations=200, learning_rate=1.0...........................\n",
            "0:\tlearn: 0.2743667\ttotal: 861ms\tremaining: 2m 51s\n",
            "1:\tlearn: 0.2351266\ttotal: 1.48s\tremaining: 2m 26s\n",
            "2:\tlearn: 0.2171522\ttotal: 2.04s\tremaining: 2m 14s\n",
            "3:\tlearn: 0.1984130\ttotal: 2.62s\tremaining: 2m 8s\n",
            "4:\tlearn: 0.1884285\ttotal: 3.19s\tremaining: 2m 4s\n",
            "5:\tlearn: 0.1811292\ttotal: 3.74s\tremaining: 2m 1s\n",
            "6:\tlearn: 0.1755176\ttotal: 4.32s\tremaining: 1m 59s\n",
            "7:\tlearn: 0.1712005\ttotal: 4.91s\tremaining: 1m 57s\n",
            "8:\tlearn: 0.1681238\ttotal: 5.51s\tremaining: 1m 56s\n",
            "9:\tlearn: 0.1633817\ttotal: 6.08s\tremaining: 1m 55s\n",
            "10:\tlearn: 0.1607154\ttotal: 6.64s\tremaining: 1m 54s\n",
            "11:\tlearn: 0.1578767\ttotal: 7.21s\tremaining: 1m 52s\n",
            "12:\tlearn: 0.1544215\ttotal: 7.79s\tremaining: 1m 52s\n",
            "13:\tlearn: 0.1520640\ttotal: 8.34s\tremaining: 1m 50s\n",
            "14:\tlearn: 0.1494538\ttotal: 8.92s\tremaining: 1m 50s\n",
            "15:\tlearn: 0.1477049\ttotal: 9.47s\tremaining: 1m 48s\n",
            "16:\tlearn: 0.1450939\ttotal: 10.1s\tremaining: 1m 48s\n",
            "17:\tlearn: 0.1414391\ttotal: 10.6s\tremaining: 1m 47s\n",
            "18:\tlearn: 0.1377849\ttotal: 11.2s\tremaining: 1m 46s\n",
            "19:\tlearn: 0.1348786\ttotal: 11.8s\tremaining: 1m 46s\n",
            "20:\tlearn: 0.1332742\ttotal: 12.3s\tremaining: 1m 45s\n",
            "21:\tlearn: 0.1315914\ttotal: 12.9s\tremaining: 1m 44s\n",
            "22:\tlearn: 0.1300985\ttotal: 13.4s\tremaining: 1m 43s\n",
            "23:\tlearn: 0.1287012\ttotal: 14s\tremaining: 1m 42s\n",
            "24:\tlearn: 0.1272647\ttotal: 14.5s\tremaining: 1m 41s\n",
            "25:\tlearn: 0.1258660\ttotal: 15.1s\tremaining: 1m 40s\n",
            "26:\tlearn: 0.1243820\ttotal: 15.6s\tremaining: 1m 40s\n",
            "27:\tlearn: 0.1230714\ttotal: 16.2s\tremaining: 1m 39s\n",
            "28:\tlearn: 0.1218520\ttotal: 16.7s\tremaining: 1m 38s\n",
            "29:\tlearn: 0.1205600\ttotal: 17.3s\tremaining: 1m 38s\n",
            "30:\tlearn: 0.1183874\ttotal: 17.9s\tremaining: 1m 37s\n",
            "31:\tlearn: 0.1162836\ttotal: 18.4s\tremaining: 1m 36s\n",
            "32:\tlearn: 0.1135363\ttotal: 19s\tremaining: 1m 36s\n",
            "33:\tlearn: 0.1126407\ttotal: 19.5s\tremaining: 1m 35s\n",
            "34:\tlearn: 0.1117605\ttotal: 20.2s\tremaining: 1m 35s\n",
            "35:\tlearn: 0.1100605\ttotal: 20.7s\tremaining: 1m 34s\n",
            "36:\tlearn: 0.1089182\ttotal: 21.3s\tremaining: 1m 33s\n",
            "37:\tlearn: 0.1078984\ttotal: 21.8s\tremaining: 1m 33s\n",
            "38:\tlearn: 0.1063029\ttotal: 22.4s\tremaining: 1m 32s\n",
            "39:\tlearn: 0.1055625\ttotal: 22.9s\tremaining: 1m 31s\n",
            "40:\tlearn: 0.1049570\ttotal: 23.5s\tremaining: 1m 31s\n",
            "41:\tlearn: 0.1039590\ttotal: 24.1s\tremaining: 1m 30s\n",
            "42:\tlearn: 0.1029143\ttotal: 24.6s\tremaining: 1m 29s\n",
            "43:\tlearn: 0.1018115\ttotal: 25.1s\tremaining: 1m 29s\n",
            "44:\tlearn: 0.1009624\ttotal: 25.7s\tremaining: 1m 28s\n",
            "45:\tlearn: 0.1002617\ttotal: 26.3s\tremaining: 1m 27s\n",
            "46:\tlearn: 0.0995547\ttotal: 26.8s\tremaining: 1m 27s\n",
            "47:\tlearn: 0.0981756\ttotal: 27.4s\tremaining: 1m 26s\n",
            "48:\tlearn: 0.0975915\ttotal: 27.9s\tremaining: 1m 26s\n",
            "49:\tlearn: 0.0961652\ttotal: 28.5s\tremaining: 1m 25s\n",
            "50:\tlearn: 0.0945780\ttotal: 29s\tremaining: 1m 24s\n",
            "51:\tlearn: 0.0938123\ttotal: 29.6s\tremaining: 1m 24s\n",
            "52:\tlearn: 0.0931430\ttotal: 30.3s\tremaining: 1m 24s\n",
            "53:\tlearn: 0.0923590\ttotal: 30.9s\tremaining: 1m 23s\n",
            "54:\tlearn: 0.0917579\ttotal: 31.5s\tremaining: 1m 22s\n",
            "55:\tlearn: 0.0911677\ttotal: 32s\tremaining: 1m 22s\n",
            "56:\tlearn: 0.0905619\ttotal: 32.6s\tremaining: 1m 21s\n",
            "57:\tlearn: 0.0899028\ttotal: 33.1s\tremaining: 1m 21s\n",
            "58:\tlearn: 0.0884550\ttotal: 33.7s\tremaining: 1m 20s\n",
            "59:\tlearn: 0.0877542\ttotal: 34.2s\tremaining: 1m 19s\n",
            "60:\tlearn: 0.0870496\ttotal: 34.8s\tremaining: 1m 19s\n",
            "61:\tlearn: 0.0863833\ttotal: 35.3s\tremaining: 1m 18s\n",
            "62:\tlearn: 0.0857800\ttotal: 35.9s\tremaining: 1m 18s\n",
            "63:\tlearn: 0.0851071\ttotal: 36.4s\tremaining: 1m 17s\n",
            "64:\tlearn: 0.0844761\ttotal: 37s\tremaining: 1m 16s\n",
            "65:\tlearn: 0.0838554\ttotal: 37.5s\tremaining: 1m 16s\n",
            "66:\tlearn: 0.0832269\ttotal: 38s\tremaining: 1m 15s\n",
            "67:\tlearn: 0.0826033\ttotal: 38.6s\tremaining: 1m 14s\n",
            "68:\tlearn: 0.0820474\ttotal: 39.1s\tremaining: 1m 14s\n",
            "69:\tlearn: 0.0814364\ttotal: 39.6s\tremaining: 1m 13s\n",
            "70:\tlearn: 0.0807371\ttotal: 40.3s\tremaining: 1m 13s\n",
            "71:\tlearn: 0.0801321\ttotal: 40.8s\tremaining: 1m 12s\n",
            "72:\tlearn: 0.0795633\ttotal: 41.4s\tremaining: 1m 11s\n",
            "73:\tlearn: 0.0789728\ttotal: 41.9s\tremaining: 1m 11s\n",
            "74:\tlearn: 0.0783897\ttotal: 42.4s\tremaining: 1m 10s\n",
            "75:\tlearn: 0.0777882\ttotal: 43s\tremaining: 1m 10s\n",
            "76:\tlearn: 0.0771871\ttotal: 43.5s\tremaining: 1m 9s\n",
            "77:\tlearn: 0.0765855\ttotal: 44.1s\tremaining: 1m 8s\n",
            "78:\tlearn: 0.0759837\ttotal: 44.6s\tremaining: 1m 8s\n",
            "79:\tlearn: 0.0754295\ttotal: 45.1s\tremaining: 1m 7s\n",
            "80:\tlearn: 0.0748249\ttotal: 45.6s\tremaining: 1m 7s\n",
            "81:\tlearn: 0.0742509\ttotal: 46.2s\tremaining: 1m 6s\n",
            "82:\tlearn: 0.0736968\ttotal: 46.7s\tremaining: 1m 5s\n",
            "83:\tlearn: 0.0731139\ttotal: 47.3s\tremaining: 1m 5s\n",
            "84:\tlearn: 0.0725530\ttotal: 47.8s\tremaining: 1m 4s\n",
            "85:\tlearn: 0.0720153\ttotal: 48.4s\tremaining: 1m 4s\n",
            "86:\tlearn: 0.0714998\ttotal: 48.9s\tremaining: 1m 3s\n",
            "87:\tlearn: 0.0709772\ttotal: 49.4s\tremaining: 1m 2s\n",
            "88:\tlearn: 0.0704805\ttotal: 50s\tremaining: 1m 2s\n",
            "89:\tlearn: 0.0693275\ttotal: 50.6s\tremaining: 1m 1s\n",
            "90:\tlearn: 0.0688675\ttotal: 51.1s\tremaining: 1m 1s\n",
            "91:\tlearn: 0.0683737\ttotal: 51.7s\tremaining: 1m\n",
            "92:\tlearn: 0.0679025\ttotal: 52.2s\tremaining: 1m\n",
            "93:\tlearn: 0.0674513\ttotal: 52.8s\tremaining: 59.5s\n",
            "94:\tlearn: 0.0670112\ttotal: 53.3s\tremaining: 58.9s\n",
            "95:\tlearn: 0.0665869\ttotal: 53.8s\tremaining: 58.3s\n",
            "96:\tlearn: 0.0661702\ttotal: 54.4s\tremaining: 57.7s\n",
            "97:\tlearn: 0.0657745\ttotal: 54.9s\tremaining: 57.1s\n",
            "98:\tlearn: 0.0653953\ttotal: 55.4s\tremaining: 56.6s\n",
            "99:\tlearn: 0.0650324\ttotal: 56s\tremaining: 56s\n",
            "100:\tlearn: 0.0645911\ttotal: 56.5s\tremaining: 55.4s\n",
            "101:\tlearn: 0.0636361\ttotal: 57.1s\tremaining: 54.9s\n",
            "102:\tlearn: 0.0632711\ttotal: 57.7s\tremaining: 54.3s\n",
            "103:\tlearn: 0.0626298\ttotal: 58.2s\tremaining: 53.7s\n",
            "104:\tlearn: 0.0622713\ttotal: 58.8s\tremaining: 53.2s\n",
            "105:\tlearn: 0.0619283\ttotal: 59.3s\tremaining: 52.6s\n",
            "106:\tlearn: 0.0615826\ttotal: 59.9s\tremaining: 52s\n",
            "107:\tlearn: 0.0609526\ttotal: 1m\tremaining: 51.5s\n",
            "108:\tlearn: 0.0605733\ttotal: 1m 1s\tremaining: 50.9s\n",
            "109:\tlearn: 0.0602520\ttotal: 1m 1s\tremaining: 50.4s\n",
            "110:\tlearn: 0.0599239\ttotal: 1m 2s\tremaining: 49.8s\n",
            "111:\tlearn: 0.0595664\ttotal: 1m 2s\tremaining: 49.2s\n",
            "112:\tlearn: 0.0592565\ttotal: 1m 3s\tremaining: 48.6s\n",
            "113:\tlearn: 0.0589738\ttotal: 1m 3s\tremaining: 48.1s\n",
            "114:\tlearn: 0.0586481\ttotal: 1m 4s\tremaining: 47.5s\n",
            "115:\tlearn: 0.0583502\ttotal: 1m 4s\tremaining: 47s\n",
            "116:\tlearn: 0.0580665\ttotal: 1m 5s\tremaining: 46.4s\n",
            "117:\tlearn: 0.0577826\ttotal: 1m 5s\tremaining: 45.8s\n",
            "118:\tlearn: 0.0574993\ttotal: 1m 6s\tremaining: 45.3s\n",
            "119:\tlearn: 0.0572293\ttotal: 1m 7s\tremaining: 44.7s\n",
            "120:\tlearn: 0.0569730\ttotal: 1m 7s\tremaining: 44.1s\n",
            "121:\tlearn: 0.0566188\ttotal: 1m 8s\tremaining: 43.6s\n",
            "122:\tlearn: 0.0563520\ttotal: 1m 8s\tremaining: 43s\n",
            "123:\tlearn: 0.0560936\ttotal: 1m 9s\tremaining: 42.4s\n",
            "124:\tlearn: 0.0558469\ttotal: 1m 9s\tremaining: 41.9s\n",
            "125:\tlearn: 0.0556024\ttotal: 1m 10s\tremaining: 41.4s\n",
            "126:\tlearn: 0.0552873\ttotal: 1m 10s\tremaining: 40.8s\n",
            "127:\tlearn: 0.0550391\ttotal: 1m 11s\tremaining: 40.2s\n",
            "128:\tlearn: 0.0544860\ttotal: 1m 12s\tremaining: 39.7s\n",
            "129:\tlearn: 0.0542426\ttotal: 1m 12s\tremaining: 39.1s\n",
            "130:\tlearn: 0.0540094\ttotal: 1m 13s\tremaining: 38.6s\n",
            "131:\tlearn: 0.0533175\ttotal: 1m 13s\tremaining: 38s\n",
            "132:\tlearn: 0.0530684\ttotal: 1m 14s\tremaining: 37.4s\n",
            "133:\tlearn: 0.0528311\ttotal: 1m 14s\tremaining: 36.8s\n",
            "134:\tlearn: 0.0525881\ttotal: 1m 15s\tremaining: 36.3s\n",
            "135:\tlearn: 0.0523480\ttotal: 1m 15s\tremaining: 35.7s\n",
            "136:\tlearn: 0.0521306\ttotal: 1m 16s\tremaining: 35.1s\n",
            "137:\tlearn: 0.0518734\ttotal: 1m 16s\tremaining: 34.6s\n",
            "138:\tlearn: 0.0516536\ttotal: 1m 17s\tremaining: 34s\n",
            "139:\tlearn: 0.0514411\ttotal: 1m 18s\tremaining: 33.4s\n",
            "140:\tlearn: 0.0512256\ttotal: 1m 18s\tremaining: 32.9s\n",
            "141:\tlearn: 0.0509988\ttotal: 1m 19s\tremaining: 32.3s\n",
            "142:\tlearn: 0.0502218\ttotal: 1m 19s\tremaining: 31.8s\n",
            "143:\tlearn: 0.0499804\ttotal: 1m 20s\tremaining: 31.2s\n",
            "144:\tlearn: 0.0497603\ttotal: 1m 20s\tremaining: 30.7s\n",
            "145:\tlearn: 0.0495166\ttotal: 1m 21s\tremaining: 30.1s\n",
            "146:\tlearn: 0.0493028\ttotal: 1m 21s\tremaining: 29.6s\n",
            "147:\tlearn: 0.0490899\ttotal: 1m 22s\tremaining: 29s\n",
            "148:\tlearn: 0.0488234\ttotal: 1m 23s\tremaining: 28.4s\n",
            "149:\tlearn: 0.0485865\ttotal: 1m 23s\tremaining: 27.9s\n",
            "150:\tlearn: 0.0483648\ttotal: 1m 24s\tremaining: 27.3s\n",
            "151:\tlearn: 0.0481440\ttotal: 1m 24s\tremaining: 26.7s\n",
            "152:\tlearn: 0.0479306\ttotal: 1m 25s\tremaining: 26.2s\n",
            "153:\tlearn: 0.0477176\ttotal: 1m 25s\tremaining: 25.6s\n",
            "154:\tlearn: 0.0475120\ttotal: 1m 26s\tremaining: 25s\n",
            "155:\tlearn: 0.0473091\ttotal: 1m 26s\tremaining: 24.5s\n",
            "156:\tlearn: 0.0471098\ttotal: 1m 27s\tremaining: 23.9s\n",
            "157:\tlearn: 0.0463025\ttotal: 1m 27s\tremaining: 23.4s\n",
            "158:\tlearn: 0.0460358\ttotal: 1m 28s\tremaining: 22.8s\n",
            "159:\tlearn: 0.0458411\ttotal: 1m 28s\tremaining: 22.2s\n",
            "160:\tlearn: 0.0456563\ttotal: 1m 29s\tremaining: 21.7s\n",
            "161:\tlearn: 0.0454662\ttotal: 1m 30s\tremaining: 21.1s\n",
            "162:\tlearn: 0.0452767\ttotal: 1m 30s\tremaining: 20.6s\n",
            "163:\tlearn: 0.0447016\ttotal: 1m 31s\tremaining: 20s\n",
            "164:\tlearn: 0.0445108\ttotal: 1m 31s\tremaining: 19.5s\n",
            "165:\tlearn: 0.0443366\ttotal: 1m 32s\tremaining: 18.9s\n",
            "166:\tlearn: 0.0441292\ttotal: 1m 32s\tremaining: 18.3s\n",
            "167:\tlearn: 0.0439463\ttotal: 1m 33s\tremaining: 17.8s\n",
            "168:\tlearn: 0.0437714\ttotal: 1m 33s\tremaining: 17.2s\n",
            "169:\tlearn: 0.0436079\ttotal: 1m 34s\tremaining: 16.7s\n",
            "170:\tlearn: 0.0434323\ttotal: 1m 34s\tremaining: 16.1s\n",
            "171:\tlearn: 0.0432673\ttotal: 1m 35s\tremaining: 15.5s\n",
            "172:\tlearn: 0.0431006\ttotal: 1m 35s\tremaining: 15s\n",
            "173:\tlearn: 0.0429382\ttotal: 1m 36s\tremaining: 14.4s\n",
            "174:\tlearn: 0.0427729\ttotal: 1m 37s\tremaining: 13.9s\n",
            "175:\tlearn: 0.0425159\ttotal: 1m 37s\tremaining: 13.3s\n",
            "176:\tlearn: 0.0423262\ttotal: 1m 38s\tremaining: 12.8s\n",
            "177:\tlearn: 0.0421357\ttotal: 1m 38s\tremaining: 12.2s\n",
            "178:\tlearn: 0.0412043\ttotal: 1m 39s\tremaining: 11.6s\n",
            "179:\tlearn: 0.0410444\ttotal: 1m 39s\tremaining: 11.1s\n",
            "180:\tlearn: 0.0408848\ttotal: 1m 40s\tremaining: 10.5s\n",
            "181:\tlearn: 0.0406849\ttotal: 1m 40s\tremaining: 9.98s\n",
            "182:\tlearn: 0.0405129\ttotal: 1m 41s\tremaining: 9.42s\n",
            "183:\tlearn: 0.0403561\ttotal: 1m 41s\tremaining: 8.87s\n",
            "184:\tlearn: 0.0402023\ttotal: 1m 42s\tremaining: 8.31s\n",
            "185:\tlearn: 0.0400530\ttotal: 1m 43s\tremaining: 7.75s\n",
            "186:\tlearn: 0.0399046\ttotal: 1m 43s\tremaining: 7.2s\n",
            "187:\tlearn: 0.0394756\ttotal: 1m 44s\tremaining: 6.64s\n",
            "188:\tlearn: 0.0393245\ttotal: 1m 44s\tremaining: 6.09s\n",
            "189:\tlearn: 0.0391793\ttotal: 1m 45s\tremaining: 5.53s\n",
            "190:\tlearn: 0.0389831\ttotal: 1m 45s\tremaining: 4.98s\n",
            "191:\tlearn: 0.0388407\ttotal: 1m 46s\tremaining: 4.42s\n",
            "192:\tlearn: 0.0386867\ttotal: 1m 46s\tremaining: 3.87s\n",
            "193:\tlearn: 0.0385574\ttotal: 1m 47s\tremaining: 3.32s\n",
            "194:\tlearn: 0.0384258\ttotal: 1m 47s\tremaining: 2.76s\n",
            "195:\tlearn: 0.0382303\ttotal: 1m 48s\tremaining: 2.21s\n",
            "196:\tlearn: 0.0379814\ttotal: 1m 48s\tremaining: 1.66s\n",
            "197:\tlearn: 0.0376957\ttotal: 1m 49s\tremaining: 1.1s\n",
            "198:\tlearn: 0.0375604\ttotal: 1m 50s\tremaining: 553ms\n",
            "199:\tlearn: 0.0374242\ttotal: 1m 50s\tremaining: 0us\n",
            "[CV 3/3; 2/3] END .........iterations=200, learning_rate=1.0; total time= 1.9min\n",
            "[CV 1/3; 3/3] START iterations=200, learning_rate=0.2...........................\n",
            "0:\tlearn: 0.5266396\ttotal: 785ms\tremaining: 2m 36s\n",
            "1:\tlearn: 0.4136860\ttotal: 1.32s\tremaining: 2m 11s\n",
            "2:\tlearn: 0.3487934\ttotal: 1.86s\tremaining: 2m 2s\n",
            "3:\tlearn: 0.3090029\ttotal: 2.42s\tremaining: 1m 58s\n",
            "4:\tlearn: 0.2805951\ttotal: 2.97s\tremaining: 1m 55s\n",
            "5:\tlearn: 0.2607366\ttotal: 3.52s\tremaining: 1m 53s\n",
            "6:\tlearn: 0.2484271\ttotal: 4.06s\tremaining: 1m 51s\n",
            "7:\tlearn: 0.2371503\ttotal: 4.67s\tremaining: 1m 52s\n",
            "8:\tlearn: 0.2304818\ttotal: 5.27s\tremaining: 1m 51s\n",
            "9:\tlearn: 0.2252467\ttotal: 5.82s\tremaining: 1m 50s\n",
            "10:\tlearn: 0.2195856\ttotal: 6.38s\tremaining: 1m 49s\n",
            "11:\tlearn: 0.2153775\ttotal: 6.92s\tremaining: 1m 48s\n",
            "12:\tlearn: 0.2121422\ttotal: 7.47s\tremaining: 1m 47s\n",
            "13:\tlearn: 0.2095290\ttotal: 8.03s\tremaining: 1m 46s\n",
            "14:\tlearn: 0.2053320\ttotal: 8.61s\tremaining: 1m 46s\n",
            "15:\tlearn: 0.2029069\ttotal: 9.18s\tremaining: 1m 45s\n",
            "16:\tlearn: 0.2008282\ttotal: 9.72s\tremaining: 1m 44s\n",
            "17:\tlearn: 0.1990370\ttotal: 10.3s\tremaining: 1m 43s\n",
            "18:\tlearn: 0.1965759\ttotal: 10.8s\tremaining: 1m 43s\n",
            "19:\tlearn: 0.1949735\ttotal: 11.4s\tremaining: 1m 42s\n",
            "20:\tlearn: 0.1928205\ttotal: 11.9s\tremaining: 1m 41s\n",
            "21:\tlearn: 0.1911631\ttotal: 12.5s\tremaining: 1m 40s\n",
            "22:\tlearn: 0.1896574\ttotal: 13s\tremaining: 1m 39s\n",
            "23:\tlearn: 0.1883540\ttotal: 13.5s\tremaining: 1m 39s\n",
            "24:\tlearn: 0.1865923\ttotal: 14.1s\tremaining: 1m 38s\n",
            "25:\tlearn: 0.1849414\ttotal: 14.7s\tremaining: 1m 38s\n",
            "26:\tlearn: 0.1830406\ttotal: 15.3s\tremaining: 1m 38s\n",
            "27:\tlearn: 0.1818567\ttotal: 15.8s\tremaining: 1m 37s\n",
            "28:\tlearn: 0.1805149\ttotal: 16.4s\tremaining: 1m 36s\n",
            "29:\tlearn: 0.1790806\ttotal: 17s\tremaining: 1m 36s\n",
            "30:\tlearn: 0.1779224\ttotal: 17.5s\tremaining: 1m 35s\n",
            "31:\tlearn: 0.1765842\ttotal: 18.1s\tremaining: 1m 34s\n",
            "32:\tlearn: 0.1758923\ttotal: 18.6s\tremaining: 1m 34s\n",
            "33:\tlearn: 0.1749794\ttotal: 19.2s\tremaining: 1m 33s\n",
            "34:\tlearn: 0.1742084\ttotal: 19.7s\tremaining: 1m 32s\n",
            "35:\tlearn: 0.1731053\ttotal: 20.3s\tremaining: 1m 32s\n",
            "36:\tlearn: 0.1722968\ttotal: 20.8s\tremaining: 1m 31s\n",
            "37:\tlearn: 0.1712538\ttotal: 21.4s\tremaining: 1m 31s\n",
            "38:\tlearn: 0.1703111\ttotal: 21.9s\tremaining: 1m 30s\n",
            "39:\tlearn: 0.1692258\ttotal: 22.4s\tremaining: 1m 29s\n",
            "40:\tlearn: 0.1684343\ttotal: 23s\tremaining: 1m 29s\n",
            "41:\tlearn: 0.1675192\ttotal: 23.5s\tremaining: 1m 28s\n",
            "42:\tlearn: 0.1661270\ttotal: 24.1s\tremaining: 1m 27s\n",
            "43:\tlearn: 0.1650971\ttotal: 24.6s\tremaining: 1m 27s\n",
            "44:\tlearn: 0.1644594\ttotal: 25.2s\tremaining: 1m 26s\n",
            "45:\tlearn: 0.1637938\ttotal: 25.8s\tremaining: 1m 26s\n",
            "46:\tlearn: 0.1631334\ttotal: 26.3s\tremaining: 1m 25s\n",
            "47:\tlearn: 0.1625707\ttotal: 26.9s\tremaining: 1m 25s\n",
            "48:\tlearn: 0.1619438\ttotal: 27.4s\tremaining: 1m 24s\n",
            "49:\tlearn: 0.1611932\ttotal: 28s\tremaining: 1m 23s\n",
            "50:\tlearn: 0.1604589\ttotal: 28.5s\tremaining: 1m 23s\n",
            "51:\tlearn: 0.1599503\ttotal: 29s\tremaining: 1m 22s\n",
            "52:\tlearn: 0.1593854\ttotal: 29.6s\tremaining: 1m 22s\n",
            "53:\tlearn: 0.1587593\ttotal: 30.1s\tremaining: 1m 21s\n",
            "54:\tlearn: 0.1576819\ttotal: 30.6s\tremaining: 1m 20s\n",
            "55:\tlearn: 0.1570810\ttotal: 31.2s\tremaining: 1m 20s\n",
            "56:\tlearn: 0.1564660\ttotal: 31.7s\tremaining: 1m 19s\n",
            "57:\tlearn: 0.1558015\ttotal: 32.2s\tremaining: 1m 18s\n",
            "58:\tlearn: 0.1552938\ttotal: 32.8s\tremaining: 1m 18s\n",
            "59:\tlearn: 0.1544309\ttotal: 33.3s\tremaining: 1m 17s\n",
            "60:\tlearn: 0.1539688\ttotal: 33.8s\tremaining: 1m 17s\n",
            "61:\tlearn: 0.1535567\ttotal: 34.3s\tremaining: 1m 16s\n",
            "62:\tlearn: 0.1527218\ttotal: 35s\tremaining: 1m 16s\n",
            "63:\tlearn: 0.1515821\ttotal: 35.5s\tremaining: 1m 15s\n",
            "64:\tlearn: 0.1511400\ttotal: 36.1s\tremaining: 1m 14s\n",
            "65:\tlearn: 0.1507795\ttotal: 36.6s\tremaining: 1m 14s\n",
            "66:\tlearn: 0.1503694\ttotal: 37.1s\tremaining: 1m 13s\n",
            "67:\tlearn: 0.1496380\ttotal: 37.6s\tremaining: 1m 13s\n",
            "68:\tlearn: 0.1487841\ttotal: 38.2s\tremaining: 1m 12s\n",
            "69:\tlearn: 0.1483103\ttotal: 38.7s\tremaining: 1m 11s\n",
            "70:\tlearn: 0.1479440\ttotal: 39.3s\tremaining: 1m 11s\n",
            "71:\tlearn: 0.1474535\ttotal: 39.8s\tremaining: 1m 10s\n",
            "72:\tlearn: 0.1467247\ttotal: 40.3s\tremaining: 1m 10s\n",
            "73:\tlearn: 0.1459078\ttotal: 40.9s\tremaining: 1m 9s\n",
            "74:\tlearn: 0.1455532\ttotal: 41.4s\tremaining: 1m 8s\n",
            "75:\tlearn: 0.1449720\ttotal: 41.9s\tremaining: 1m 8s\n",
            "76:\tlearn: 0.1446711\ttotal: 42.4s\tremaining: 1m 7s\n",
            "77:\tlearn: 0.1441212\ttotal: 43s\tremaining: 1m 7s\n",
            "78:\tlearn: 0.1437537\ttotal: 43.5s\tremaining: 1m 6s\n",
            "79:\tlearn: 0.1428835\ttotal: 44s\tremaining: 1m 6s\n",
            "80:\tlearn: 0.1423875\ttotal: 44.6s\tremaining: 1m 5s\n",
            "81:\tlearn: 0.1420708\ttotal: 45.2s\tremaining: 1m 4s\n",
            "82:\tlearn: 0.1417903\ttotal: 45.7s\tremaining: 1m 4s\n",
            "83:\tlearn: 0.1414873\ttotal: 46.3s\tremaining: 1m 3s\n",
            "84:\tlearn: 0.1405364\ttotal: 46.8s\tremaining: 1m 3s\n",
            "85:\tlearn: 0.1402606\ttotal: 47.3s\tremaining: 1m 2s\n",
            "86:\tlearn: 0.1394170\ttotal: 47.9s\tremaining: 1m 2s\n",
            "87:\tlearn: 0.1386426\ttotal: 48.4s\tremaining: 1m 1s\n",
            "88:\tlearn: 0.1381137\ttotal: 48.9s\tremaining: 1m 1s\n",
            "89:\tlearn: 0.1377796\ttotal: 49.5s\tremaining: 1m\n",
            "90:\tlearn: 0.1375267\ttotal: 50s\tremaining: 59.9s\n",
            "91:\tlearn: 0.1372399\ttotal: 50.5s\tremaining: 59.3s\n",
            "92:\tlearn: 0.1369791\ttotal: 51.1s\tremaining: 58.7s\n",
            "93:\tlearn: 0.1367190\ttotal: 51.6s\tremaining: 58.2s\n",
            "94:\tlearn: 0.1361365\ttotal: 52.1s\tremaining: 57.6s\n",
            "95:\tlearn: 0.1358493\ttotal: 52.7s\tremaining: 57.1s\n",
            "96:\tlearn: 0.1354584\ttotal: 53.2s\tremaining: 56.5s\n",
            "97:\tlearn: 0.1350923\ttotal: 53.7s\tremaining: 55.9s\n",
            "98:\tlearn: 0.1347763\ttotal: 54.3s\tremaining: 55.4s\n",
            "99:\tlearn: 0.1344031\ttotal: 54.9s\tremaining: 54.9s\n",
            "100:\tlearn: 0.1341715\ttotal: 55.5s\tremaining: 54.4s\n",
            "101:\tlearn: 0.1339412\ttotal: 56s\tremaining: 53.8s\n",
            "102:\tlearn: 0.1337167\ttotal: 56.6s\tremaining: 53.3s\n",
            "103:\tlearn: 0.1335082\ttotal: 57.1s\tremaining: 52.7s\n",
            "104:\tlearn: 0.1327332\ttotal: 57.7s\tremaining: 52.2s\n",
            "105:\tlearn: 0.1322148\ttotal: 58.2s\tremaining: 51.6s\n",
            "106:\tlearn: 0.1318125\ttotal: 58.8s\tremaining: 51.1s\n",
            "107:\tlearn: 0.1315565\ttotal: 59.3s\tremaining: 50.5s\n",
            "108:\tlearn: 0.1313497\ttotal: 59.8s\tremaining: 49.9s\n",
            "109:\tlearn: 0.1307741\ttotal: 1m\tremaining: 49.4s\n",
            "110:\tlearn: 0.1300964\ttotal: 1m\tremaining: 48.9s\n",
            "111:\tlearn: 0.1298806\ttotal: 1m 1s\tremaining: 48.3s\n",
            "112:\tlearn: 0.1292952\ttotal: 1m 2s\tremaining: 47.8s\n",
            "113:\tlearn: 0.1290858\ttotal: 1m 2s\tremaining: 47.2s\n",
            "114:\tlearn: 0.1288917\ttotal: 1m 3s\tremaining: 46.7s\n",
            "115:\tlearn: 0.1282653\ttotal: 1m 3s\tremaining: 46.1s\n",
            "116:\tlearn: 0.1276876\ttotal: 1m 4s\tremaining: 45.6s\n",
            "117:\tlearn: 0.1274833\ttotal: 1m 4s\tremaining: 45.1s\n",
            "118:\tlearn: 0.1272360\ttotal: 1m 5s\tremaining: 44.5s\n",
            "119:\tlearn: 0.1270180\ttotal: 1m 5s\tremaining: 43.9s\n",
            "120:\tlearn: 0.1268340\ttotal: 1m 6s\tremaining: 43.4s\n",
            "121:\tlearn: 0.1266381\ttotal: 1m 7s\tremaining: 42.9s\n",
            "122:\tlearn: 0.1262187\ttotal: 1m 7s\tremaining: 42.3s\n",
            "123:\tlearn: 0.1260269\ttotal: 1m 8s\tremaining: 41.8s\n",
            "124:\tlearn: 0.1256216\ttotal: 1m 8s\tremaining: 41.2s\n",
            "125:\tlearn: 0.1252381\ttotal: 1m 9s\tremaining: 40.7s\n",
            "126:\tlearn: 0.1248955\ttotal: 1m 9s\tremaining: 40.1s\n",
            "127:\tlearn: 0.1246827\ttotal: 1m 10s\tremaining: 39.5s\n",
            "128:\tlearn: 0.1241848\ttotal: 1m 10s\tremaining: 39s\n",
            "129:\tlearn: 0.1240028\ttotal: 1m 11s\tremaining: 38.4s\n",
            "130:\tlearn: 0.1236804\ttotal: 1m 11s\tremaining: 37.9s\n",
            "131:\tlearn: 0.1232081\ttotal: 1m 12s\tremaining: 37.3s\n",
            "132:\tlearn: 0.1230484\ttotal: 1m 13s\tremaining: 36.8s\n",
            "133:\tlearn: 0.1223298\ttotal: 1m 13s\tremaining: 36.2s\n",
            "134:\tlearn: 0.1221691\ttotal: 1m 14s\tremaining: 35.7s\n",
            "135:\tlearn: 0.1219045\ttotal: 1m 14s\tremaining: 35.2s\n",
            "136:\tlearn: 0.1215015\ttotal: 1m 15s\tremaining: 34.6s\n",
            "137:\tlearn: 0.1213205\ttotal: 1m 15s\tremaining: 34.1s\n",
            "138:\tlearn: 0.1211408\ttotal: 1m 16s\tremaining: 33.5s\n",
            "139:\tlearn: 0.1208205\ttotal: 1m 16s\tremaining: 33s\n",
            "140:\tlearn: 0.1204627\ttotal: 1m 17s\tremaining: 32.4s\n",
            "141:\tlearn: 0.1202983\ttotal: 1m 18s\tremaining: 31.9s\n",
            "142:\tlearn: 0.1198531\ttotal: 1m 18s\tremaining: 31.3s\n",
            "143:\tlearn: 0.1195652\ttotal: 1m 19s\tremaining: 30.8s\n",
            "144:\tlearn: 0.1190856\ttotal: 1m 19s\tremaining: 30.2s\n",
            "145:\tlearn: 0.1189271\ttotal: 1m 20s\tremaining: 29.7s\n",
            "146:\tlearn: 0.1187544\ttotal: 1m 20s\tremaining: 29.1s\n",
            "147:\tlearn: 0.1185557\ttotal: 1m 21s\tremaining: 28.6s\n",
            "148:\tlearn: 0.1183307\ttotal: 1m 21s\tremaining: 28s\n",
            "149:\tlearn: 0.1179858\ttotal: 1m 22s\tremaining: 27.4s\n",
            "150:\tlearn: 0.1177040\ttotal: 1m 22s\tremaining: 26.9s\n",
            "151:\tlearn: 0.1173198\ttotal: 1m 23s\tremaining: 26.4s\n",
            "152:\tlearn: 0.1171564\ttotal: 1m 23s\tremaining: 25.8s\n",
            "153:\tlearn: 0.1169880\ttotal: 1m 24s\tremaining: 25.2s\n",
            "154:\tlearn: 0.1168175\ttotal: 1m 25s\tremaining: 24.7s\n",
            "155:\tlearn: 0.1164754\ttotal: 1m 25s\tremaining: 24.2s\n",
            "156:\tlearn: 0.1161459\ttotal: 1m 26s\tremaining: 23.6s\n",
            "157:\tlearn: 0.1157602\ttotal: 1m 26s\tremaining: 23.1s\n",
            "158:\tlearn: 0.1155185\ttotal: 1m 27s\tremaining: 22.5s\n",
            "159:\tlearn: 0.1152390\ttotal: 1m 27s\tremaining: 22s\n",
            "160:\tlearn: 0.1147841\ttotal: 1m 28s\tremaining: 21.4s\n",
            "161:\tlearn: 0.1144212\ttotal: 1m 28s\tremaining: 20.9s\n",
            "162:\tlearn: 0.1142023\ttotal: 1m 29s\tremaining: 20.3s\n",
            "163:\tlearn: 0.1140602\ttotal: 1m 30s\tremaining: 19.8s\n",
            "164:\tlearn: 0.1139231\ttotal: 1m 30s\tremaining: 19.2s\n",
            "165:\tlearn: 0.1137738\ttotal: 1m 31s\tremaining: 18.7s\n",
            "166:\tlearn: 0.1136439\ttotal: 1m 31s\tremaining: 18.1s\n",
            "167:\tlearn: 0.1134454\ttotal: 1m 32s\tremaining: 17.6s\n",
            "168:\tlearn: 0.1130798\ttotal: 1m 32s\tremaining: 17s\n",
            "169:\tlearn: 0.1127231\ttotal: 1m 33s\tremaining: 16.5s\n",
            "170:\tlearn: 0.1124289\ttotal: 1m 33s\tremaining: 15.9s\n",
            "171:\tlearn: 0.1122966\ttotal: 1m 34s\tremaining: 15.3s\n",
            "172:\tlearn: 0.1121358\ttotal: 1m 34s\tremaining: 14.8s\n",
            "173:\tlearn: 0.1118525\ttotal: 1m 35s\tremaining: 14.3s\n",
            "174:\tlearn: 0.1115949\ttotal: 1m 35s\tremaining: 13.7s\n",
            "175:\tlearn: 0.1114482\ttotal: 1m 36s\tremaining: 13.2s\n",
            "176:\tlearn: 0.1113145\ttotal: 1m 37s\tremaining: 12.6s\n",
            "177:\tlearn: 0.1110269\ttotal: 1m 37s\tremaining: 12.1s\n",
            "178:\tlearn: 0.1108992\ttotal: 1m 38s\tremaining: 11.5s\n",
            "179:\tlearn: 0.1105717\ttotal: 1m 38s\tremaining: 11s\n",
            "180:\tlearn: 0.1104150\ttotal: 1m 39s\tremaining: 10.4s\n",
            "181:\tlearn: 0.1102937\ttotal: 1m 39s\tremaining: 9.86s\n",
            "182:\tlearn: 0.1100766\ttotal: 1m 40s\tremaining: 9.31s\n",
            "183:\tlearn: 0.1099519\ttotal: 1m 40s\tremaining: 8.77s\n",
            "184:\tlearn: 0.1098318\ttotal: 1m 41s\tremaining: 8.22s\n",
            "185:\tlearn: 0.1096423\ttotal: 1m 41s\tremaining: 7.67s\n",
            "186:\tlearn: 0.1095181\ttotal: 1m 42s\tremaining: 7.12s\n",
            "187:\tlearn: 0.1093917\ttotal: 1m 42s\tremaining: 6.57s\n",
            "188:\tlearn: 0.1090676\ttotal: 1m 43s\tremaining: 6.02s\n",
            "189:\tlearn: 0.1089133\ttotal: 1m 43s\tremaining: 5.47s\n",
            "190:\tlearn: 0.1087902\ttotal: 1m 44s\tremaining: 4.92s\n",
            "191:\tlearn: 0.1084319\ttotal: 1m 45s\tremaining: 4.38s\n",
            "192:\tlearn: 0.1081007\ttotal: 1m 45s\tremaining: 3.83s\n",
            "193:\tlearn: 0.1079653\ttotal: 1m 46s\tremaining: 3.29s\n",
            "194:\tlearn: 0.1078432\ttotal: 1m 46s\tremaining: 2.74s\n",
            "195:\tlearn: 0.1077289\ttotal: 1m 47s\tremaining: 2.19s\n",
            "196:\tlearn: 0.1076071\ttotal: 1m 47s\tremaining: 1.64s\n",
            "197:\tlearn: 0.1074924\ttotal: 1m 48s\tremaining: 1.09s\n",
            "198:\tlearn: 0.1073603\ttotal: 1m 48s\tremaining: 547ms\n",
            "199:\tlearn: 0.1072415\ttotal: 1m 49s\tremaining: 0us\n",
            "[CV 1/3; 3/3] END .........iterations=200, learning_rate=0.2; total time= 1.9min\n",
            "[CV 2/3; 3/3] START iterations=200, learning_rate=0.2...........................\n",
            "0:\tlearn: 0.5225450\ttotal: 847ms\tremaining: 2m 48s\n",
            "1:\tlearn: 0.4116345\ttotal: 1.41s\tremaining: 2m 19s\n",
            "2:\tlearn: 0.3468621\ttotal: 1.98s\tremaining: 2m 10s\n",
            "3:\tlearn: 0.3067697\ttotal: 2.53s\tremaining: 2m 4s\n",
            "4:\tlearn: 0.2803044\ttotal: 3.09s\tremaining: 2m\n",
            "5:\tlearn: 0.2617913\ttotal: 3.67s\tremaining: 1m 58s\n",
            "6:\tlearn: 0.2494984\ttotal: 4.28s\tremaining: 1m 57s\n",
            "7:\tlearn: 0.2385248\ttotal: 4.83s\tremaining: 1m 56s\n",
            "8:\tlearn: 0.2323139\ttotal: 5.41s\tremaining: 1m 54s\n",
            "9:\tlearn: 0.2277083\ttotal: 5.99s\tremaining: 1m 53s\n",
            "10:\tlearn: 0.2215468\ttotal: 6.57s\tremaining: 1m 52s\n",
            "11:\tlearn: 0.2177679\ttotal: 7.12s\tremaining: 1m 51s\n",
            "12:\tlearn: 0.2140131\ttotal: 7.67s\tremaining: 1m 50s\n",
            "13:\tlearn: 0.2109537\ttotal: 8.25s\tremaining: 1m 49s\n",
            "14:\tlearn: 0.2071760\ttotal: 8.81s\tremaining: 1m 48s\n",
            "15:\tlearn: 0.2048755\ttotal: 9.36s\tremaining: 1m 47s\n",
            "16:\tlearn: 0.2017860\ttotal: 9.92s\tremaining: 1m 46s\n",
            "17:\tlearn: 0.1988077\ttotal: 10.5s\tremaining: 1m 46s\n",
            "18:\tlearn: 0.1964327\ttotal: 11.1s\tremaining: 1m 45s\n",
            "19:\tlearn: 0.1941982\ttotal: 11.7s\tremaining: 1m 45s\n",
            "20:\tlearn: 0.1926671\ttotal: 12.3s\tremaining: 1m 44s\n",
            "21:\tlearn: 0.1909187\ttotal: 12.8s\tremaining: 1m 43s\n",
            "22:\tlearn: 0.1890226\ttotal: 13.4s\tremaining: 1m 43s\n",
            "23:\tlearn: 0.1876282\ttotal: 14s\tremaining: 1m 42s\n",
            "24:\tlearn: 0.1860104\ttotal: 14.6s\tremaining: 1m 41s\n",
            "25:\tlearn: 0.1848457\ttotal: 15.1s\tremaining: 1m 41s\n",
            "26:\tlearn: 0.1837914\ttotal: 15.7s\tremaining: 1m 40s\n",
            "27:\tlearn: 0.1823986\ttotal: 16.2s\tremaining: 1m 39s\n",
            "28:\tlearn: 0.1810369\ttotal: 16.8s\tremaining: 1m 39s\n",
            "29:\tlearn: 0.1792835\ttotal: 17.4s\tremaining: 1m 38s\n",
            "30:\tlearn: 0.1776038\ttotal: 17.9s\tremaining: 1m 37s\n",
            "31:\tlearn: 0.1761684\ttotal: 18.5s\tremaining: 1m 37s\n",
            "32:\tlearn: 0.1749702\ttotal: 19.1s\tremaining: 1m 36s\n",
            "33:\tlearn: 0.1741961\ttotal: 19.6s\tremaining: 1m 35s\n",
            "34:\tlearn: 0.1726543\ttotal: 20.2s\tremaining: 1m 35s\n",
            "35:\tlearn: 0.1718754\ttotal: 20.8s\tremaining: 1m 34s\n",
            "36:\tlearn: 0.1711978\ttotal: 21.4s\tremaining: 1m 34s\n",
            "37:\tlearn: 0.1703845\ttotal: 21.9s\tremaining: 1m 33s\n",
            "38:\tlearn: 0.1696644\ttotal: 22.5s\tremaining: 1m 32s\n",
            "39:\tlearn: 0.1687193\ttotal: 23s\tremaining: 1m 32s\n",
            "40:\tlearn: 0.1678373\ttotal: 23.6s\tremaining: 1m 31s\n",
            "41:\tlearn: 0.1669598\ttotal: 24.2s\tremaining: 1m 30s\n",
            "42:\tlearn: 0.1662273\ttotal: 24.8s\tremaining: 1m 30s\n",
            "43:\tlearn: 0.1653939\ttotal: 25.3s\tremaining: 1m 29s\n",
            "44:\tlearn: 0.1644966\ttotal: 25.9s\tremaining: 1m 29s\n",
            "45:\tlearn: 0.1635541\ttotal: 26.4s\tremaining: 1m 28s\n",
            "46:\tlearn: 0.1630304\ttotal: 26.9s\tremaining: 1m 27s\n",
            "47:\tlearn: 0.1624061\ttotal: 27.5s\tremaining: 1m 27s\n",
            "48:\tlearn: 0.1616907\ttotal: 28s\tremaining: 1m 26s\n",
            "49:\tlearn: 0.1609755\ttotal: 28.6s\tremaining: 1m 25s\n",
            "50:\tlearn: 0.1603571\ttotal: 29.1s\tremaining: 1m 25s\n",
            "51:\tlearn: 0.1598383\ttotal: 29.6s\tremaining: 1m 24s\n",
            "52:\tlearn: 0.1592040\ttotal: 30.2s\tremaining: 1m 23s\n",
            "53:\tlearn: 0.1587976\ttotal: 30.8s\tremaining: 1m 23s\n",
            "54:\tlearn: 0.1581485\ttotal: 31.4s\tremaining: 1m 22s\n",
            "55:\tlearn: 0.1574897\ttotal: 31.9s\tremaining: 1m 22s\n",
            "56:\tlearn: 0.1569800\ttotal: 32.5s\tremaining: 1m 21s\n",
            "57:\tlearn: 0.1563183\ttotal: 33s\tremaining: 1m 20s\n",
            "58:\tlearn: 0.1558053\ttotal: 33.5s\tremaining: 1m 20s\n",
            "59:\tlearn: 0.1553501\ttotal: 34.1s\tremaining: 1m 19s\n",
            "60:\tlearn: 0.1547090\ttotal: 34.6s\tremaining: 1m 18s\n",
            "61:\tlearn: 0.1541831\ttotal: 35.2s\tremaining: 1m 18s\n",
            "62:\tlearn: 0.1536196\ttotal: 35.8s\tremaining: 1m 17s\n",
            "63:\tlearn: 0.1531791\ttotal: 36.3s\tremaining: 1m 17s\n",
            "64:\tlearn: 0.1521539\ttotal: 36.9s\tremaining: 1m 16s\n",
            "65:\tlearn: 0.1513726\ttotal: 37.4s\tremaining: 1m 15s\n",
            "66:\tlearn: 0.1509554\ttotal: 37.9s\tremaining: 1m 15s\n",
            "67:\tlearn: 0.1503016\ttotal: 38.5s\tremaining: 1m 14s\n",
            "68:\tlearn: 0.1499547\ttotal: 39s\tremaining: 1m 14s\n",
            "69:\tlearn: 0.1490025\ttotal: 39.6s\tremaining: 1m 13s\n",
            "70:\tlearn: 0.1483563\ttotal: 40.1s\tremaining: 1m 12s\n",
            "71:\tlearn: 0.1480297\ttotal: 40.8s\tremaining: 1m 12s\n",
            "72:\tlearn: 0.1472175\ttotal: 41.3s\tremaining: 1m 11s\n",
            "73:\tlearn: 0.1464128\ttotal: 41.9s\tremaining: 1m 11s\n",
            "74:\tlearn: 0.1460205\ttotal: 42.4s\tremaining: 1m 10s\n",
            "75:\tlearn: 0.1452379\ttotal: 43s\tremaining: 1m 10s\n",
            "76:\tlearn: 0.1447742\ttotal: 43.5s\tremaining: 1m 9s\n",
            "77:\tlearn: 0.1443697\ttotal: 44s\tremaining: 1m 8s\n",
            "78:\tlearn: 0.1440417\ttotal: 44.6s\tremaining: 1m 8s\n",
            "79:\tlearn: 0.1433757\ttotal: 45.1s\tremaining: 1m 7s\n",
            "80:\tlearn: 0.1427114\ttotal: 45.7s\tremaining: 1m 7s\n",
            "81:\tlearn: 0.1423879\ttotal: 46.2s\tremaining: 1m 6s\n",
            "82:\tlearn: 0.1414768\ttotal: 46.8s\tremaining: 1m 5s\n",
            "83:\tlearn: 0.1409552\ttotal: 47.3s\tremaining: 1m 5s\n",
            "84:\tlearn: 0.1403540\ttotal: 47.9s\tremaining: 1m 4s\n",
            "85:\tlearn: 0.1399998\ttotal: 48.4s\tremaining: 1m 4s\n",
            "86:\tlearn: 0.1396830\ttotal: 48.9s\tremaining: 1m 3s\n",
            "87:\tlearn: 0.1393983\ttotal: 49.4s\tremaining: 1m 2s\n",
            "88:\tlearn: 0.1388234\ttotal: 50s\tremaining: 1m 2s\n",
            "89:\tlearn: 0.1385529\ttotal: 50.6s\tremaining: 1m 1s\n",
            "90:\tlearn: 0.1382968\ttotal: 51.1s\tremaining: 1m 1s\n",
            "91:\tlearn: 0.1377951\ttotal: 51.7s\tremaining: 1m\n",
            "92:\tlearn: 0.1375402\ttotal: 52.2s\tremaining: 1m\n",
            "93:\tlearn: 0.1372997\ttotal: 52.7s\tremaining: 59.5s\n",
            "94:\tlearn: 0.1367045\ttotal: 53.3s\tremaining: 58.9s\n",
            "95:\tlearn: 0.1359969\ttotal: 53.8s\tremaining: 58.3s\n",
            "96:\tlearn: 0.1357465\ttotal: 54.4s\tremaining: 57.8s\n",
            "97:\tlearn: 0.1350277\ttotal: 54.9s\tremaining: 57.2s\n",
            "98:\tlearn: 0.1347806\ttotal: 55.5s\tremaining: 56.6s\n",
            "99:\tlearn: 0.1344868\ttotal: 56s\tremaining: 56s\n",
            "100:\tlearn: 0.1342463\ttotal: 56.6s\tremaining: 55.5s\n",
            "101:\tlearn: 0.1340307\ttotal: 57.1s\tremaining: 54.9s\n",
            "102:\tlearn: 0.1337403\ttotal: 57.7s\tremaining: 54.3s\n",
            "103:\tlearn: 0.1332024\ttotal: 58.3s\tremaining: 53.8s\n",
            "104:\tlearn: 0.1327118\ttotal: 58.8s\tremaining: 53.2s\n",
            "105:\tlearn: 0.1324607\ttotal: 59.3s\tremaining: 52.6s\n",
            "106:\tlearn: 0.1322355\ttotal: 59.9s\tremaining: 52s\n",
            "107:\tlearn: 0.1315262\ttotal: 1m\tremaining: 51.5s\n",
            "108:\tlearn: 0.1310851\ttotal: 1m 1s\tremaining: 51s\n",
            "109:\tlearn: 0.1305102\ttotal: 1m 1s\tremaining: 50.4s\n",
            "110:\tlearn: 0.1302845\ttotal: 1m 2s\tremaining: 49.8s\n",
            "111:\tlearn: 0.1300250\ttotal: 1m 2s\tremaining: 49.3s\n",
            "112:\tlearn: 0.1298086\ttotal: 1m 3s\tremaining: 48.7s\n",
            "113:\tlearn: 0.1292520\ttotal: 1m 3s\tremaining: 48.1s\n",
            "114:\tlearn: 0.1288767\ttotal: 1m 4s\tremaining: 47.5s\n",
            "115:\tlearn: 0.1284449\ttotal: 1m 4s\tremaining: 46.9s\n",
            "116:\tlearn: 0.1282289\ttotal: 1m 5s\tremaining: 46.4s\n",
            "117:\tlearn: 0.1280307\ttotal: 1m 5s\tremaining: 45.8s\n",
            "118:\tlearn: 0.1278368\ttotal: 1m 6s\tremaining: 45.2s\n",
            "119:\tlearn: 0.1274841\ttotal: 1m 7s\tremaining: 44.7s\n",
            "120:\tlearn: 0.1269516\ttotal: 1m 7s\tremaining: 44.1s\n",
            "121:\tlearn: 0.1266940\ttotal: 1m 8s\tremaining: 43.5s\n",
            "122:\tlearn: 0.1263330\ttotal: 1m 8s\tremaining: 43s\n",
            "123:\tlearn: 0.1261405\ttotal: 1m 9s\tremaining: 42.4s\n",
            "124:\tlearn: 0.1255752\ttotal: 1m 9s\tremaining: 41.8s\n",
            "125:\tlearn: 0.1253680\ttotal: 1m 10s\tremaining: 41.3s\n",
            "126:\tlearn: 0.1251887\ttotal: 1m 10s\tremaining: 40.7s\n",
            "127:\tlearn: 0.1249114\ttotal: 1m 11s\tremaining: 40.2s\n",
            "128:\tlearn: 0.1246700\ttotal: 1m 11s\tremaining: 39.6s\n",
            "129:\tlearn: 0.1242078\ttotal: 1m 12s\tremaining: 39s\n",
            "130:\tlearn: 0.1240315\ttotal: 1m 13s\tremaining: 38.5s\n",
            "131:\tlearn: 0.1236494\ttotal: 1m 13s\tremaining: 37.9s\n",
            "132:\tlearn: 0.1233923\ttotal: 1m 14s\tremaining: 37.3s\n",
            "133:\tlearn: 0.1230760\ttotal: 1m 14s\tremaining: 36.8s\n",
            "134:\tlearn: 0.1226090\ttotal: 1m 15s\tremaining: 36.2s\n",
            "135:\tlearn: 0.1222052\ttotal: 1m 15s\tremaining: 35.7s\n",
            "136:\tlearn: 0.1219627\ttotal: 1m 16s\tremaining: 35.1s\n",
            "137:\tlearn: 0.1214496\ttotal: 1m 16s\tremaining: 34.5s\n",
            "138:\tlearn: 0.1211536\ttotal: 1m 17s\tremaining: 34s\n",
            "139:\tlearn: 0.1209695\ttotal: 1m 17s\tremaining: 33.4s\n",
            "140:\tlearn: 0.1207905\ttotal: 1m 18s\tremaining: 32.8s\n",
            "141:\tlearn: 0.1206166\ttotal: 1m 19s\tremaining: 32.3s\n",
            "142:\tlearn: 0.1203958\ttotal: 1m 19s\tremaining: 31.7s\n",
            "143:\tlearn: 0.1202115\ttotal: 1m 20s\tremaining: 31.1s\n",
            "144:\tlearn: 0.1200377\ttotal: 1m 20s\tremaining: 30.6s\n",
            "145:\tlearn: 0.1197150\ttotal: 1m 21s\tremaining: 30.1s\n",
            "146:\tlearn: 0.1193611\ttotal: 1m 21s\tremaining: 29.5s\n",
            "147:\tlearn: 0.1191982\ttotal: 1m 22s\tremaining: 28.9s\n",
            "148:\tlearn: 0.1189127\ttotal: 1m 22s\tremaining: 28.4s\n",
            "149:\tlearn: 0.1185026\ttotal: 1m 23s\tremaining: 27.8s\n",
            "150:\tlearn: 0.1183446\ttotal: 1m 24s\tremaining: 27.3s\n",
            "151:\tlearn: 0.1179823\ttotal: 1m 24s\tremaining: 26.7s\n",
            "152:\tlearn: 0.1176088\ttotal: 1m 25s\tremaining: 26.1s\n",
            "153:\tlearn: 0.1172836\ttotal: 1m 25s\tremaining: 25.6s\n",
            "154:\tlearn: 0.1171254\ttotal: 1m 26s\tremaining: 25s\n",
            "155:\tlearn: 0.1168137\ttotal: 1m 26s\tremaining: 24.5s\n",
            "156:\tlearn: 0.1164529\ttotal: 1m 27s\tremaining: 23.9s\n",
            "157:\tlearn: 0.1163038\ttotal: 1m 27s\tremaining: 23.4s\n",
            "158:\tlearn: 0.1157525\ttotal: 1m 28s\tremaining: 22.8s\n",
            "159:\tlearn: 0.1155387\ttotal: 1m 28s\tremaining: 22.2s\n",
            "160:\tlearn: 0.1151583\ttotal: 1m 29s\tremaining: 21.7s\n",
            "161:\tlearn: 0.1148956\ttotal: 1m 30s\tremaining: 21.1s\n",
            "162:\tlearn: 0.1147433\ttotal: 1m 30s\tremaining: 20.6s\n",
            "163:\tlearn: 0.1144879\ttotal: 1m 31s\tremaining: 20s\n",
            "164:\tlearn: 0.1143492\ttotal: 1m 31s\tremaining: 19.5s\n",
            "165:\tlearn: 0.1140606\ttotal: 1m 32s\tremaining: 18.9s\n",
            "166:\tlearn: 0.1139254\ttotal: 1m 32s\tremaining: 18.4s\n",
            "167:\tlearn: 0.1137207\ttotal: 1m 33s\tremaining: 17.8s\n",
            "168:\tlearn: 0.1134228\ttotal: 1m 34s\tremaining: 17.3s\n",
            "169:\tlearn: 0.1129295\ttotal: 1m 34s\tremaining: 16.7s\n",
            "170:\tlearn: 0.1127840\ttotal: 1m 35s\tremaining: 16.1s\n",
            "171:\tlearn: 0.1125172\ttotal: 1m 35s\tremaining: 15.6s\n",
            "172:\tlearn: 0.1123384\ttotal: 1m 36s\tremaining: 15s\n",
            "173:\tlearn: 0.1121890\ttotal: 1m 36s\tremaining: 14.5s\n",
            "174:\tlearn: 0.1120328\ttotal: 1m 37s\tremaining: 13.9s\n",
            "175:\tlearn: 0.1119119\ttotal: 1m 37s\tremaining: 13.3s\n",
            "176:\tlearn: 0.1116342\ttotal: 1m 38s\tremaining: 12.8s\n",
            "177:\tlearn: 0.1114661\ttotal: 1m 38s\tremaining: 12.2s\n",
            "178:\tlearn: 0.1111304\ttotal: 1m 39s\tremaining: 11.7s\n",
            "179:\tlearn: 0.1108931\ttotal: 1m 40s\tremaining: 11.1s\n",
            "180:\tlearn: 0.1107052\ttotal: 1m 40s\tremaining: 10.6s\n",
            "181:\tlearn: 0.1105877\ttotal: 1m 41s\tremaining: 10s\n",
            "182:\tlearn: 0.1101676\ttotal: 1m 41s\tremaining: 9.45s\n",
            "183:\tlearn: 0.1099624\ttotal: 1m 42s\tremaining: 8.89s\n",
            "184:\tlearn: 0.1098139\ttotal: 1m 42s\tremaining: 8.33s\n",
            "185:\tlearn: 0.1096770\ttotal: 1m 43s\tremaining: 7.77s\n",
            "186:\tlearn: 0.1095505\ttotal: 1m 43s\tremaining: 7.22s\n",
            "187:\tlearn: 0.1094289\ttotal: 1m 44s\tremaining: 6.66s\n",
            "188:\tlearn: 0.1093057\ttotal: 1m 44s\tremaining: 6.11s\n",
            "189:\tlearn: 0.1091034\ttotal: 1m 45s\tremaining: 5.55s\n",
            "190:\tlearn: 0.1089554\ttotal: 1m 45s\tremaining: 4.99s\n",
            "191:\tlearn: 0.1088425\ttotal: 1m 46s\tremaining: 4.44s\n",
            "192:\tlearn: 0.1082905\ttotal: 1m 47s\tremaining: 3.88s\n",
            "193:\tlearn: 0.1081279\ttotal: 1m 47s\tremaining: 3.33s\n",
            "194:\tlearn: 0.1080087\ttotal: 1m 48s\tremaining: 2.77s\n",
            "195:\tlearn: 0.1078885\ttotal: 1m 48s\tremaining: 2.22s\n",
            "196:\tlearn: 0.1077684\ttotal: 1m 49s\tremaining: 1.66s\n",
            "197:\tlearn: 0.1074048\ttotal: 1m 49s\tremaining: 1.11s\n",
            "198:\tlearn: 0.1070868\ttotal: 1m 50s\tremaining: 554ms\n",
            "199:\tlearn: 0.1069719\ttotal: 1m 50s\tremaining: 0us\n",
            "[CV 2/3; 3/3] END .........iterations=200, learning_rate=0.2; total time= 1.9min\n",
            "[CV 3/3; 3/3] START iterations=200, learning_rate=0.2...........................\n",
            "0:\tlearn: 0.5146395\ttotal: 750ms\tremaining: 2m 29s\n",
            "1:\tlearn: 0.4127427\ttotal: 1.29s\tremaining: 2m 7s\n",
            "2:\tlearn: 0.3481033\ttotal: 1.85s\tremaining: 2m 1s\n",
            "3:\tlearn: 0.3057852\ttotal: 2.46s\tremaining: 2m\n",
            "4:\tlearn: 0.2784096\ttotal: 3s\tremaining: 1m 57s\n",
            "5:\tlearn: 0.2600058\ttotal: 3.57s\tremaining: 1m 55s\n",
            "6:\tlearn: 0.2481353\ttotal: 4.13s\tremaining: 1m 53s\n",
            "7:\tlearn: 0.2381948\ttotal: 4.75s\tremaining: 1m 53s\n",
            "8:\tlearn: 0.2312566\ttotal: 5.37s\tremaining: 1m 53s\n",
            "9:\tlearn: 0.2244340\ttotal: 5.93s\tremaining: 1m 52s\n",
            "10:\tlearn: 0.2193925\ttotal: 6.51s\tremaining: 1m 51s\n",
            "11:\tlearn: 0.2158448\ttotal: 7.06s\tremaining: 1m 50s\n",
            "12:\tlearn: 0.2123109\ttotal: 7.62s\tremaining: 1m 49s\n",
            "13:\tlearn: 0.2092084\ttotal: 8.17s\tremaining: 1m 48s\n",
            "14:\tlearn: 0.2062238\ttotal: 8.74s\tremaining: 1m 47s\n",
            "15:\tlearn: 0.2040893\ttotal: 9.3s\tremaining: 1m 46s\n",
            "16:\tlearn: 0.2018112\ttotal: 9.88s\tremaining: 1m 46s\n",
            "17:\tlearn: 0.1996887\ttotal: 10.4s\tremaining: 1m 45s\n",
            "18:\tlearn: 0.1977655\ttotal: 11s\tremaining: 1m 44s\n",
            "19:\tlearn: 0.1953878\ttotal: 11.6s\tremaining: 1m 44s\n",
            "20:\tlearn: 0.1928273\ttotal: 12.1s\tremaining: 1m 43s\n",
            "21:\tlearn: 0.1909656\ttotal: 12.7s\tremaining: 1m 43s\n",
            "22:\tlearn: 0.1892502\ttotal: 13.3s\tremaining: 1m 42s\n",
            "23:\tlearn: 0.1876783\ttotal: 13.9s\tremaining: 1m 41s\n",
            "24:\tlearn: 0.1863742\ttotal: 14.4s\tremaining: 1m 40s\n",
            "25:\tlearn: 0.1849429\ttotal: 15.1s\tremaining: 1m 40s\n",
            "26:\tlearn: 0.1836941\ttotal: 15.6s\tremaining: 1m 40s\n",
            "27:\tlearn: 0.1824420\ttotal: 16.2s\tremaining: 1m 39s\n",
            "28:\tlearn: 0.1809866\ttotal: 16.8s\tremaining: 1m 38s\n",
            "29:\tlearn: 0.1799990\ttotal: 17.3s\tremaining: 1m 38s\n",
            "30:\tlearn: 0.1789672\ttotal: 17.9s\tremaining: 1m 37s\n",
            "31:\tlearn: 0.1775334\ttotal: 18.5s\tremaining: 1m 36s\n",
            "32:\tlearn: 0.1765822\ttotal: 19.1s\tremaining: 1m 36s\n",
            "33:\tlearn: 0.1758242\ttotal: 19.6s\tremaining: 1m 35s\n",
            "34:\tlearn: 0.1748594\ttotal: 20.1s\tremaining: 1m 34s\n",
            "35:\tlearn: 0.1737312\ttotal: 20.7s\tremaining: 1m 34s\n",
            "36:\tlearn: 0.1722111\ttotal: 21.3s\tremaining: 1m 33s\n",
            "37:\tlearn: 0.1714537\ttotal: 21.8s\tremaining: 1m 33s\n",
            "38:\tlearn: 0.1704161\ttotal: 22.4s\tremaining: 1m 32s\n",
            "39:\tlearn: 0.1697493\ttotal: 23s\tremaining: 1m 31s\n",
            "40:\tlearn: 0.1687099\ttotal: 23.5s\tremaining: 1m 31s\n",
            "41:\tlearn: 0.1677928\ttotal: 24.1s\tremaining: 1m 30s\n",
            "42:\tlearn: 0.1672629\ttotal: 24.6s\tremaining: 1m 29s\n",
            "43:\tlearn: 0.1664921\ttotal: 25.2s\tremaining: 1m 29s\n",
            "44:\tlearn: 0.1658325\ttotal: 25.8s\tremaining: 1m 28s\n",
            "45:\tlearn: 0.1648831\ttotal: 26.4s\tremaining: 1m 28s\n",
            "46:\tlearn: 0.1639900\ttotal: 26.9s\tremaining: 1m 27s\n",
            "47:\tlearn: 0.1633772\ttotal: 27.5s\tremaining: 1m 26s\n",
            "48:\tlearn: 0.1624807\ttotal: 28s\tremaining: 1m 26s\n",
            "49:\tlearn: 0.1618056\ttotal: 28.6s\tremaining: 1m 25s\n",
            "50:\tlearn: 0.1610270\ttotal: 29.1s\tremaining: 1m 25s\n",
            "51:\tlearn: 0.1602106\ttotal: 29.7s\tremaining: 1m 24s\n",
            "52:\tlearn: 0.1596954\ttotal: 30.2s\tremaining: 1m 23s\n",
            "53:\tlearn: 0.1586238\ttotal: 30.7s\tremaining: 1m 23s\n",
            "54:\tlearn: 0.1578273\ttotal: 31.3s\tremaining: 1m 22s\n",
            "55:\tlearn: 0.1566743\ttotal: 31.8s\tremaining: 1m 21s\n",
            "56:\tlearn: 0.1562028\ttotal: 32.3s\tremaining: 1m 21s\n",
            "57:\tlearn: 0.1557072\ttotal: 32.9s\tremaining: 1m 20s\n",
            "58:\tlearn: 0.1549047\ttotal: 33.5s\tremaining: 1m 19s\n",
            "59:\tlearn: 0.1538644\ttotal: 34s\tremaining: 1m 19s\n",
            "60:\tlearn: 0.1527593\ttotal: 34.6s\tremaining: 1m 18s\n",
            "61:\tlearn: 0.1519078\ttotal: 35.2s\tremaining: 1m 18s\n",
            "62:\tlearn: 0.1514773\ttotal: 35.8s\tremaining: 1m 17s\n",
            "63:\tlearn: 0.1507681\ttotal: 36.3s\tremaining: 1m 17s\n",
            "64:\tlearn: 0.1502668\ttotal: 36.9s\tremaining: 1m 16s\n",
            "65:\tlearn: 0.1498423\ttotal: 37.4s\tremaining: 1m 15s\n",
            "66:\tlearn: 0.1493502\ttotal: 37.9s\tremaining: 1m 15s\n",
            "67:\tlearn: 0.1487474\ttotal: 38.5s\tremaining: 1m 14s\n",
            "68:\tlearn: 0.1483636\ttotal: 39s\tremaining: 1m 14s\n",
            "69:\tlearn: 0.1476588\ttotal: 39.6s\tremaining: 1m 13s\n",
            "70:\tlearn: 0.1471407\ttotal: 40.1s\tremaining: 1m 12s\n",
            "71:\tlearn: 0.1467673\ttotal: 40.7s\tremaining: 1m 12s\n",
            "72:\tlearn: 0.1464424\ttotal: 41.2s\tremaining: 1m 11s\n",
            "73:\tlearn: 0.1456782\ttotal: 41.7s\tremaining: 1m 11s\n",
            "74:\tlearn: 0.1448966\ttotal: 42.3s\tremaining: 1m 10s\n",
            "75:\tlearn: 0.1445180\ttotal: 42.8s\tremaining: 1m 9s\n",
            "76:\tlearn: 0.1439286\ttotal: 43.4s\tremaining: 1m 9s\n",
            "77:\tlearn: 0.1436171\ttotal: 43.9s\tremaining: 1m 8s\n",
            "78:\tlearn: 0.1432754\ttotal: 44.5s\tremaining: 1m 8s\n",
            "79:\tlearn: 0.1429744\ttotal: 45.1s\tremaining: 1m 7s\n",
            "80:\tlearn: 0.1425606\ttotal: 45.6s\tremaining: 1m 7s\n",
            "81:\tlearn: 0.1420040\ttotal: 46.2s\tremaining: 1m 6s\n",
            "82:\tlearn: 0.1417002\ttotal: 46.7s\tremaining: 1m 5s\n",
            "83:\tlearn: 0.1414309\ttotal: 47.2s\tremaining: 1m 5s\n",
            "84:\tlearn: 0.1409609\ttotal: 47.8s\tremaining: 1m 4s\n",
            "85:\tlearn: 0.1406324\ttotal: 48.3s\tremaining: 1m 4s\n",
            "86:\tlearn: 0.1399953\ttotal: 48.9s\tremaining: 1m 3s\n",
            "87:\tlearn: 0.1392528\ttotal: 49.4s\tremaining: 1m 2s\n",
            "88:\tlearn: 0.1390046\ttotal: 50s\tremaining: 1m 2s\n",
            "89:\tlearn: 0.1384338\ttotal: 50.5s\tremaining: 1m 1s\n",
            "90:\tlearn: 0.1379655\ttotal: 51.1s\tremaining: 1m 1s\n",
            "91:\tlearn: 0.1377246\ttotal: 51.6s\tremaining: 1m\n",
            "92:\tlearn: 0.1370658\ttotal: 52.1s\tremaining: 60s\n",
            "93:\tlearn: 0.1367942\ttotal: 52.7s\tremaining: 59.4s\n",
            "94:\tlearn: 0.1365039\ttotal: 53.2s\tremaining: 58.8s\n",
            "95:\tlearn: 0.1357166\ttotal: 53.8s\tremaining: 58.3s\n",
            "96:\tlearn: 0.1354830\ttotal: 54.3s\tremaining: 57.7s\n",
            "97:\tlearn: 0.1349570\ttotal: 55s\tremaining: 57.2s\n",
            "98:\tlearn: 0.1347371\ttotal: 55.5s\tremaining: 56.6s\n",
            "99:\tlearn: 0.1343882\ttotal: 56s\tremaining: 56s\n",
            "100:\tlearn: 0.1341608\ttotal: 56.6s\tremaining: 55.5s\n",
            "101:\tlearn: 0.1335737\ttotal: 57.1s\tremaining: 54.9s\n",
            "102:\tlearn: 0.1332319\ttotal: 57.7s\tremaining: 54.3s\n",
            "103:\tlearn: 0.1326902\ttotal: 58.2s\tremaining: 53.7s\n",
            "104:\tlearn: 0.1321950\ttotal: 58.8s\tremaining: 53.2s\n",
            "105:\tlearn: 0.1314716\ttotal: 59.3s\tremaining: 52.6s\n",
            "106:\tlearn: 0.1308102\ttotal: 59.9s\tremaining: 52s\n",
            "107:\tlearn: 0.1304280\ttotal: 1m\tremaining: 51.5s\n",
            "108:\tlearn: 0.1302074\ttotal: 1m\tremaining: 50.9s\n",
            "109:\tlearn: 0.1299721\ttotal: 1m 1s\tremaining: 50.3s\n",
            "110:\tlearn: 0.1295797\ttotal: 1m 2s\tremaining: 49.7s\n",
            "111:\tlearn: 0.1293879\ttotal: 1m 2s\tremaining: 49.2s\n",
            "112:\tlearn: 0.1291017\ttotal: 1m 3s\tremaining: 48.6s\n",
            "113:\tlearn: 0.1285942\ttotal: 1m 3s\tremaining: 48s\n",
            "114:\tlearn: 0.1281924\ttotal: 1m 4s\tremaining: 47.4s\n",
            "115:\tlearn: 0.1280020\ttotal: 1m 4s\tremaining: 47s\n",
            "116:\tlearn: 0.1278013\ttotal: 1m 5s\tremaining: 46.4s\n",
            "117:\tlearn: 0.1273526\ttotal: 1m 6s\tremaining: 45.9s\n",
            "118:\tlearn: 0.1268385\ttotal: 1m 6s\tremaining: 45.3s\n",
            "119:\tlearn: 0.1265929\ttotal: 1m 7s\tremaining: 44.8s\n",
            "120:\tlearn: 0.1262111\ttotal: 1m 7s\tremaining: 44.2s\n",
            "121:\tlearn: 0.1259927\ttotal: 1m 8s\tremaining: 43.6s\n",
            "122:\tlearn: 0.1253334\ttotal: 1m 8s\tremaining: 43.1s\n",
            "123:\tlearn: 0.1249908\ttotal: 1m 9s\tremaining: 42.5s\n",
            "124:\tlearn: 0.1246122\ttotal: 1m 9s\tremaining: 42s\n",
            "125:\tlearn: 0.1241834\ttotal: 1m 10s\tremaining: 41.4s\n",
            "126:\tlearn: 0.1239919\ttotal: 1m 11s\tremaining: 40.8s\n",
            "127:\tlearn: 0.1237980\ttotal: 1m 11s\tremaining: 40.3s\n",
            "128:\tlearn: 0.1235607\ttotal: 1m 12s\tremaining: 39.7s\n",
            "129:\tlearn: 0.1231783\ttotal: 1m 12s\tremaining: 39.1s\n",
            "130:\tlearn: 0.1229498\ttotal: 1m 13s\tremaining: 38.6s\n",
            "131:\tlearn: 0.1227878\ttotal: 1m 13s\tremaining: 38s\n",
            "132:\tlearn: 0.1222658\ttotal: 1m 14s\tremaining: 37.4s\n",
            "133:\tlearn: 0.1220954\ttotal: 1m 14s\tremaining: 36.9s\n",
            "134:\tlearn: 0.1218596\ttotal: 1m 15s\tremaining: 36.4s\n",
            "135:\tlearn: 0.1215282\ttotal: 1m 16s\tremaining: 35.8s\n",
            "136:\tlearn: 0.1213662\ttotal: 1m 16s\tremaining: 35.3s\n",
            "137:\tlearn: 0.1211402\ttotal: 1m 17s\tremaining: 34.7s\n",
            "138:\tlearn: 0.1209616\ttotal: 1m 17s\tremaining: 34.1s\n",
            "139:\tlearn: 0.1206427\ttotal: 1m 18s\tremaining: 33.6s\n",
            "140:\tlearn: 0.1204993\ttotal: 1m 18s\tremaining: 33s\n",
            "141:\tlearn: 0.1201394\ttotal: 1m 19s\tremaining: 32.5s\n",
            "142:\tlearn: 0.1198316\ttotal: 1m 20s\tremaining: 31.9s\n",
            "143:\tlearn: 0.1195163\ttotal: 1m 20s\tremaining: 31.3s\n",
            "144:\tlearn: 0.1192976\ttotal: 1m 21s\tremaining: 30.8s\n",
            "145:\tlearn: 0.1191066\ttotal: 1m 21s\tremaining: 30.2s\n",
            "146:\tlearn: 0.1189426\ttotal: 1m 22s\tremaining: 29.7s\n",
            "147:\tlearn: 0.1184445\ttotal: 1m 22s\tremaining: 29.1s\n",
            "148:\tlearn: 0.1182378\ttotal: 1m 23s\tremaining: 28.5s\n",
            "149:\tlearn: 0.1176540\ttotal: 1m 23s\tremaining: 28s\n",
            "150:\tlearn: 0.1172883\ttotal: 1m 24s\tremaining: 27.4s\n",
            "151:\tlearn: 0.1168090\ttotal: 1m 25s\tremaining: 26.9s\n",
            "152:\tlearn: 0.1165201\ttotal: 1m 25s\tremaining: 26.3s\n",
            "153:\tlearn: 0.1163676\ttotal: 1m 26s\tremaining: 25.8s\n",
            "154:\tlearn: 0.1160778\ttotal: 1m 26s\tremaining: 25.3s\n",
            "155:\tlearn: 0.1159003\ttotal: 1m 27s\tremaining: 24.7s\n",
            "156:\tlearn: 0.1157002\ttotal: 1m 28s\tremaining: 24.1s\n",
            "157:\tlearn: 0.1155485\ttotal: 1m 28s\tremaining: 23.6s\n",
            "158:\tlearn: 0.1151670\ttotal: 1m 29s\tremaining: 23s\n",
            "159:\tlearn: 0.1150322\ttotal: 1m 29s\tremaining: 22.5s\n",
            "160:\tlearn: 0.1146239\ttotal: 1m 30s\tremaining: 21.9s\n",
            "161:\tlearn: 0.1144891\ttotal: 1m 30s\tremaining: 21.3s\n",
            "162:\tlearn: 0.1143318\ttotal: 1m 31s\tremaining: 20.8s\n",
            "163:\tlearn: 0.1139878\ttotal: 1m 32s\tremaining: 20.2s\n",
            "164:\tlearn: 0.1138377\ttotal: 1m 32s\tremaining: 19.6s\n",
            "165:\tlearn: 0.1134104\ttotal: 1m 33s\tremaining: 19.1s\n",
            "166:\tlearn: 0.1132806\ttotal: 1m 33s\tremaining: 18.5s\n",
            "167:\tlearn: 0.1131186\ttotal: 1m 34s\tremaining: 17.9s\n",
            "168:\tlearn: 0.1129872\ttotal: 1m 34s\tremaining: 17.4s\n",
            "169:\tlearn: 0.1128203\ttotal: 1m 35s\tremaining: 16.8s\n",
            "170:\tlearn: 0.1125683\ttotal: 1m 36s\tremaining: 16.3s\n",
            "171:\tlearn: 0.1119591\ttotal: 1m 36s\tremaining: 15.7s\n",
            "172:\tlearn: 0.1117010\ttotal: 1m 37s\tremaining: 15.2s\n",
            "173:\tlearn: 0.1113412\ttotal: 1m 37s\tremaining: 14.6s\n",
            "174:\tlearn: 0.1112110\ttotal: 1m 38s\tremaining: 14s\n",
            "175:\tlearn: 0.1110731\ttotal: 1m 38s\tremaining: 13.5s\n",
            "176:\tlearn: 0.1109477\ttotal: 1m 39s\tremaining: 12.9s\n",
            "177:\tlearn: 0.1108253\ttotal: 1m 39s\tremaining: 12.3s\n",
            "178:\tlearn: 0.1105472\ttotal: 1m 40s\tremaining: 11.8s\n",
            "179:\tlearn: 0.1103640\ttotal: 1m 41s\tremaining: 11.2s\n",
            "180:\tlearn: 0.1102159\ttotal: 1m 41s\tremaining: 10.7s\n",
            "181:\tlearn: 0.1100948\ttotal: 1m 42s\tremaining: 10.1s\n",
            "182:\tlearn: 0.1099681\ttotal: 1m 42s\tremaining: 9.54s\n",
            "183:\tlearn: 0.1098469\ttotal: 1m 43s\tremaining: 8.97s\n",
            "184:\tlearn: 0.1097233\ttotal: 1m 43s\tremaining: 8.41s\n",
            "185:\tlearn: 0.1095599\ttotal: 1m 44s\tremaining: 7.85s\n",
            "186:\tlearn: 0.1092676\ttotal: 1m 44s\tremaining: 7.29s\n",
            "187:\tlearn: 0.1089420\ttotal: 1m 45s\tremaining: 6.73s\n",
            "188:\tlearn: 0.1087759\ttotal: 1m 46s\tremaining: 6.17s\n",
            "189:\tlearn: 0.1085885\ttotal: 1m 46s\tremaining: 5.61s\n",
            "190:\tlearn: 0.1084663\ttotal: 1m 47s\tremaining: 5.05s\n",
            "191:\tlearn: 0.1083444\ttotal: 1m 47s\tremaining: 4.49s\n",
            "192:\tlearn: 0.1082227\ttotal: 1m 48s\tremaining: 3.92s\n",
            "193:\tlearn: 0.1081059\ttotal: 1m 48s\tremaining: 3.37s\n",
            "194:\tlearn: 0.1079878\ttotal: 1m 49s\tremaining: 2.8s\n",
            "195:\tlearn: 0.1077226\ttotal: 1m 49s\tremaining: 2.24s\n",
            "196:\tlearn: 0.1075826\ttotal: 1m 50s\tremaining: 1.68s\n",
            "197:\tlearn: 0.1071118\ttotal: 1m 50s\tremaining: 1.12s\n",
            "198:\tlearn: 0.1069866\ttotal: 1m 51s\tremaining: 560ms\n",
            "199:\tlearn: 0.1068345\ttotal: 1m 52s\tremaining: 0us\n",
            "[CV 3/3; 3/3] END .........iterations=200, learning_rate=0.2; total time= 1.9min\n",
            "----------\n",
            "iter: 2\n",
            "n_candidates: 1\n",
            "n_resources: 111699\n",
            "Fitting 3 folds for each of 1 candidates, totalling 3 fits\n",
            "[CV 1/3; 1/1] START iterations=50, learning_rate=1.0............................\n",
            "0:\tlearn: 0.2728086\ttotal: 1.79s\tremaining: 1m 27s\n",
            "1:\tlearn: 0.2343257\ttotal: 3.16s\tremaining: 1m 15s\n",
            "2:\tlearn: 0.2153358\ttotal: 4.5s\tremaining: 1m 10s\n",
            "3:\tlearn: 0.2016457\ttotal: 5.83s\tremaining: 1m 7s\n",
            "4:\tlearn: 0.1871599\ttotal: 7.28s\tremaining: 1m 5s\n",
            "5:\tlearn: 0.1803368\ttotal: 8.63s\tremaining: 1m 3s\n",
            "6:\tlearn: 0.1749979\ttotal: 9.98s\tremaining: 1m 1s\n",
            "7:\tlearn: 0.1701911\ttotal: 11.3s\tremaining: 59.3s\n",
            "8:\tlearn: 0.1659871\ttotal: 12.7s\tremaining: 57.8s\n",
            "9:\tlearn: 0.1629401\ttotal: 14s\tremaining: 56s\n",
            "10:\tlearn: 0.1593667\ttotal: 15.4s\tremaining: 54.4s\n",
            "11:\tlearn: 0.1570827\ttotal: 16.7s\tremaining: 52.9s\n",
            "12:\tlearn: 0.1545583\ttotal: 18s\tremaining: 51.1s\n",
            "13:\tlearn: 0.1524028\ttotal: 19.3s\tremaining: 49.6s\n",
            "14:\tlearn: 0.1503328\ttotal: 20.6s\tremaining: 48s\n",
            "15:\tlearn: 0.1484992\ttotal: 21.9s\tremaining: 46.5s\n",
            "16:\tlearn: 0.1459908\ttotal: 23.2s\tremaining: 45s\n",
            "17:\tlearn: 0.1444093\ttotal: 24.4s\tremaining: 43.4s\n",
            "18:\tlearn: 0.1427799\ttotal: 25.6s\tremaining: 41.8s\n",
            "19:\tlearn: 0.1402845\ttotal: 27s\tremaining: 40.4s\n",
            "20:\tlearn: 0.1393942\ttotal: 28.2s\tremaining: 38.9s\n",
            "21:\tlearn: 0.1383248\ttotal: 29.5s\tremaining: 37.5s\n",
            "22:\tlearn: 0.1370719\ttotal: 30.7s\tremaining: 36.1s\n",
            "23:\tlearn: 0.1361969\ttotal: 32s\tremaining: 34.6s\n",
            "24:\tlearn: 0.1350615\ttotal: 33.2s\tremaining: 33.2s\n",
            "25:\tlearn: 0.1339450\ttotal: 34.4s\tremaining: 31.8s\n",
            "26:\tlearn: 0.1325626\ttotal: 35.7s\tremaining: 30.4s\n",
            "27:\tlearn: 0.1317711\ttotal: 37s\tremaining: 29.1s\n",
            "28:\tlearn: 0.1309998\ttotal: 38.2s\tremaining: 27.7s\n",
            "29:\tlearn: 0.1303405\ttotal: 39.4s\tremaining: 26.3s\n",
            "30:\tlearn: 0.1295836\ttotal: 40.7s\tremaining: 24.9s\n",
            "31:\tlearn: 0.1289701\ttotal: 41.9s\tremaining: 23.6s\n",
            "32:\tlearn: 0.1274578\ttotal: 43.2s\tremaining: 22.3s\n",
            "33:\tlearn: 0.1263765\ttotal: 44.5s\tremaining: 20.9s\n",
            "34:\tlearn: 0.1253273\ttotal: 45.8s\tremaining: 19.6s\n",
            "35:\tlearn: 0.1247350\ttotal: 47.1s\tremaining: 18.3s\n",
            "36:\tlearn: 0.1239908\ttotal: 48.4s\tremaining: 17s\n",
            "37:\tlearn: 0.1230267\ttotal: 49.7s\tremaining: 15.7s\n",
            "38:\tlearn: 0.1220957\ttotal: 51.1s\tremaining: 14.4s\n",
            "39:\tlearn: 0.1209860\ttotal: 52.4s\tremaining: 13.1s\n",
            "40:\tlearn: 0.1204374\ttotal: 53.7s\tremaining: 11.8s\n",
            "41:\tlearn: 0.1196123\ttotal: 54.9s\tremaining: 10.5s\n",
            "42:\tlearn: 0.1190658\ttotal: 56.2s\tremaining: 9.14s\n",
            "43:\tlearn: 0.1185115\ttotal: 57.5s\tremaining: 7.84s\n",
            "44:\tlearn: 0.1179773\ttotal: 58.8s\tremaining: 6.53s\n",
            "45:\tlearn: 0.1174453\ttotal: 1m\tremaining: 5.23s\n",
            "46:\tlearn: 0.1170068\ttotal: 1m 1s\tremaining: 3.92s\n",
            "47:\tlearn: 0.1165508\ttotal: 1m 2s\tremaining: 2.61s\n",
            "48:\tlearn: 0.1157546\ttotal: 1m 4s\tremaining: 1.31s\n",
            "49:\tlearn: 0.1152984\ttotal: 1m 5s\tremaining: 0us\n",
            "[CV 1/3; 1/1] END ..........iterations=50, learning_rate=1.0; total time= 1.4min\n",
            "[CV 2/3; 1/1] START iterations=50, learning_rate=1.0............................\n",
            "0:\tlearn: 0.2763790\ttotal: 1.84s\tremaining: 1m 30s\n",
            "1:\tlearn: 0.2353575\ttotal: 3.35s\tremaining: 1m 20s\n",
            "2:\tlearn: 0.2171214\ttotal: 4.82s\tremaining: 1m 15s\n",
            "3:\tlearn: 0.2006450\ttotal: 6.28s\tremaining: 1m 12s\n",
            "4:\tlearn: 0.1907061\ttotal: 7.7s\tremaining: 1m 9s\n",
            "5:\tlearn: 0.1844576\ttotal: 9.26s\tremaining: 1m 7s\n",
            "6:\tlearn: 0.1786104\ttotal: 10.7s\tremaining: 1m 5s\n",
            "7:\tlearn: 0.1743849\ttotal: 12s\tremaining: 1m 3s\n",
            "8:\tlearn: 0.1695270\ttotal: 13.5s\tremaining: 1m 1s\n",
            "9:\tlearn: 0.1663997\ttotal: 14.8s\tremaining: 59.4s\n",
            "10:\tlearn: 0.1623664\ttotal: 16.2s\tremaining: 57.6s\n",
            "11:\tlearn: 0.1596018\ttotal: 17.6s\tremaining: 55.8s\n",
            "12:\tlearn: 0.1569298\ttotal: 19s\tremaining: 54.1s\n",
            "13:\tlearn: 0.1547786\ttotal: 20.3s\tremaining: 52.2s\n",
            "14:\tlearn: 0.1512974\ttotal: 21.7s\tremaining: 50.6s\n",
            "15:\tlearn: 0.1491718\ttotal: 23s\tremaining: 48.9s\n",
            "16:\tlearn: 0.1473506\ttotal: 24.4s\tremaining: 47.3s\n",
            "17:\tlearn: 0.1459497\ttotal: 25.7s\tremaining: 45.7s\n",
            "18:\tlearn: 0.1440510\ttotal: 27.1s\tremaining: 44.3s\n",
            "19:\tlearn: 0.1425915\ttotal: 28.5s\tremaining: 42.7s\n",
            "20:\tlearn: 0.1413996\ttotal: 29.8s\tremaining: 41.2s\n",
            "21:\tlearn: 0.1400452\ttotal: 31.1s\tremaining: 39.6s\n",
            "22:\tlearn: 0.1386194\ttotal: 32.5s\tremaining: 38.1s\n",
            "23:\tlearn: 0.1377684\ttotal: 33.8s\tremaining: 36.7s\n",
            "24:\tlearn: 0.1359582\ttotal: 35.2s\tremaining: 35.2s\n",
            "25:\tlearn: 0.1344545\ttotal: 36.5s\tremaining: 33.7s\n",
            "26:\tlearn: 0.1336495\ttotal: 37.8s\tremaining: 32.2s\n",
            "27:\tlearn: 0.1329450\ttotal: 39s\tremaining: 30.7s\n",
            "28:\tlearn: 0.1323138\ttotal: 40.3s\tremaining: 29.2s\n",
            "29:\tlearn: 0.1316084\ttotal: 41.5s\tremaining: 27.7s\n",
            "30:\tlearn: 0.1300649\ttotal: 42.9s\tremaining: 26.3s\n",
            "31:\tlearn: 0.1295238\ttotal: 44.3s\tremaining: 24.9s\n",
            "32:\tlearn: 0.1283893\ttotal: 45.6s\tremaining: 23.5s\n",
            "33:\tlearn: 0.1272283\ttotal: 47s\tremaining: 22.1s\n",
            "34:\tlearn: 0.1266471\ttotal: 48.3s\tremaining: 20.7s\n",
            "35:\tlearn: 0.1258401\ttotal: 49.7s\tremaining: 19.3s\n",
            "36:\tlearn: 0.1249522\ttotal: 51.1s\tremaining: 18s\n",
            "37:\tlearn: 0.1244310\ttotal: 52.4s\tremaining: 16.6s\n",
            "38:\tlearn: 0.1238489\ttotal: 53.8s\tremaining: 15.2s\n",
            "39:\tlearn: 0.1233095\ttotal: 55.2s\tremaining: 13.8s\n",
            "40:\tlearn: 0.1227963\ttotal: 56.5s\tremaining: 12.4s\n",
            "41:\tlearn: 0.1216586\ttotal: 57.9s\tremaining: 11s\n",
            "42:\tlearn: 0.1211826\ttotal: 59.2s\tremaining: 9.63s\n",
            "43:\tlearn: 0.1200705\ttotal: 1m\tremaining: 8.27s\n",
            "44:\tlearn: 0.1195739\ttotal: 1m 1s\tremaining: 6.88s\n",
            "45:\tlearn: 0.1190497\ttotal: 1m 3s\tremaining: 5.5s\n",
            "46:\tlearn: 0.1185801\ttotal: 1m 4s\tremaining: 4.12s\n",
            "47:\tlearn: 0.1181192\ttotal: 1m 5s\tremaining: 2.74s\n",
            "48:\tlearn: 0.1175130\ttotal: 1m 7s\tremaining: 1.37s\n",
            "49:\tlearn: 0.1170739\ttotal: 1m 8s\tremaining: 0us\n",
            "[CV 2/3; 1/1] END ..........iterations=50, learning_rate=1.0; total time= 1.4min\n",
            "[CV 3/3; 1/1] START iterations=50, learning_rate=1.0............................\n",
            "0:\tlearn: 0.2569045\ttotal: 1.75s\tremaining: 1m 25s\n",
            "1:\tlearn: 0.2276363\ttotal: 3.11s\tremaining: 1m 14s\n",
            "2:\tlearn: 0.2088272\ttotal: 4.48s\tremaining: 1m 10s\n",
            "3:\tlearn: 0.1974874\ttotal: 5.8s\tremaining: 1m 6s\n",
            "4:\tlearn: 0.1898201\ttotal: 7.12s\tremaining: 1m 4s\n",
            "5:\tlearn: 0.1818153\ttotal: 8.46s\tremaining: 1m 2s\n",
            "6:\tlearn: 0.1769282\ttotal: 9.76s\tremaining: 60s\n",
            "7:\tlearn: 0.1731147\ttotal: 11.1s\tremaining: 58s\n",
            "8:\tlearn: 0.1695628\ttotal: 12.3s\tremaining: 56.2s\n",
            "9:\tlearn: 0.1665582\ttotal: 13.7s\tremaining: 54.7s\n",
            "10:\tlearn: 0.1636391\ttotal: 15s\tremaining: 53s\n",
            "11:\tlearn: 0.1610135\ttotal: 16.2s\tremaining: 51.3s\n",
            "12:\tlearn: 0.1583678\ttotal: 17.5s\tremaining: 49.7s\n",
            "13:\tlearn: 0.1546565\ttotal: 18.8s\tremaining: 48.4s\n",
            "14:\tlearn: 0.1523108\ttotal: 20.1s\tremaining: 46.8s\n",
            "15:\tlearn: 0.1506270\ttotal: 21.3s\tremaining: 45.3s\n",
            "16:\tlearn: 0.1491775\ttotal: 22.6s\tremaining: 43.8s\n",
            "17:\tlearn: 0.1470427\ttotal: 23.8s\tremaining: 42.4s\n",
            "18:\tlearn: 0.1449307\ttotal: 25.1s\tremaining: 41s\n",
            "19:\tlearn: 0.1434578\ttotal: 26.4s\tremaining: 39.6s\n",
            "20:\tlearn: 0.1413592\ttotal: 27.7s\tremaining: 38.2s\n",
            "21:\tlearn: 0.1403626\ttotal: 29s\tremaining: 36.9s\n",
            "22:\tlearn: 0.1388202\ttotal: 30.2s\tremaining: 35.5s\n",
            "23:\tlearn: 0.1378253\ttotal: 31.5s\tremaining: 34.1s\n",
            "24:\tlearn: 0.1370568\ttotal: 32.7s\tremaining: 32.7s\n",
            "25:\tlearn: 0.1357132\ttotal: 34s\tremaining: 31.4s\n",
            "26:\tlearn: 0.1349247\ttotal: 35.2s\tremaining: 30s\n",
            "27:\tlearn: 0.1339281\ttotal: 36.4s\tremaining: 28.6s\n",
            "28:\tlearn: 0.1326318\ttotal: 37.7s\tremaining: 27.3s\n",
            "29:\tlearn: 0.1318552\ttotal: 39.1s\tremaining: 26.1s\n",
            "30:\tlearn: 0.1311994\ttotal: 40.4s\tremaining: 24.8s\n",
            "31:\tlearn: 0.1303837\ttotal: 41.6s\tremaining: 23.4s\n",
            "32:\tlearn: 0.1297724\ttotal: 42.9s\tremaining: 22.1s\n",
            "33:\tlearn: 0.1289437\ttotal: 44.2s\tremaining: 20.8s\n",
            "34:\tlearn: 0.1278934\ttotal: 45.4s\tremaining: 19.5s\n",
            "35:\tlearn: 0.1273139\ttotal: 46.6s\tremaining: 18.1s\n",
            "36:\tlearn: 0.1264681\ttotal: 47.9s\tremaining: 16.8s\n",
            "37:\tlearn: 0.1258785\ttotal: 49.2s\tremaining: 15.5s\n",
            "38:\tlearn: 0.1253683\ttotal: 50.4s\tremaining: 14.2s\n",
            "39:\tlearn: 0.1247707\ttotal: 51.7s\tremaining: 12.9s\n",
            "40:\tlearn: 0.1236056\ttotal: 53.1s\tremaining: 11.6s\n",
            "41:\tlearn: 0.1223356\ttotal: 54.4s\tremaining: 10.4s\n",
            "42:\tlearn: 0.1217209\ttotal: 55.6s\tremaining: 9.05s\n",
            "43:\tlearn: 0.1211728\ttotal: 56.8s\tremaining: 7.74s\n",
            "44:\tlearn: 0.1200707\ttotal: 58.1s\tremaining: 6.46s\n",
            "45:\tlearn: 0.1195842\ttotal: 59.4s\tremaining: 5.16s\n",
            "46:\tlearn: 0.1190803\ttotal: 1m\tremaining: 3.87s\n",
            "47:\tlearn: 0.1185864\ttotal: 1m 1s\tremaining: 2.57s\n",
            "48:\tlearn: 0.1181202\ttotal: 1m 2s\tremaining: 1.28s\n",
            "49:\tlearn: 0.1169876\ttotal: 1m 4s\tremaining: 0us\n",
            "[CV 3/3; 1/1] END ..........iterations=50, learning_rate=1.0; total time= 1.3min\n",
            "0:\tlearn: 0.2595788\ttotal: 2.52s\tremaining: 2m 3s\n",
            "1:\tlearn: 0.2296509\ttotal: 4.49s\tremaining: 1m 47s\n",
            "2:\tlearn: 0.2100320\ttotal: 6.54s\tremaining: 1m 42s\n",
            "3:\tlearn: 0.1971735\ttotal: 8.39s\tremaining: 1m 36s\n",
            "4:\tlearn: 0.1893592\ttotal: 10.2s\tremaining: 1m 31s\n",
            "5:\tlearn: 0.1820889\ttotal: 12s\tremaining: 1m 28s\n",
            "6:\tlearn: 0.1767654\ttotal: 13.8s\tremaining: 1m 24s\n",
            "7:\tlearn: 0.1727389\ttotal: 15.7s\tremaining: 1m 22s\n",
            "8:\tlearn: 0.1688440\ttotal: 17.4s\tremaining: 1m 19s\n",
            "9:\tlearn: 0.1663824\ttotal: 19.1s\tremaining: 1m 16s\n",
            "10:\tlearn: 0.1629249\ttotal: 20.9s\tremaining: 1m 14s\n",
            "11:\tlearn: 0.1606427\ttotal: 22.6s\tremaining: 1m 11s\n",
            "12:\tlearn: 0.1572956\ttotal: 24.5s\tremaining: 1m 9s\n",
            "13:\tlearn: 0.1543318\ttotal: 26.4s\tremaining: 1m 7s\n",
            "14:\tlearn: 0.1507836\ttotal: 28.3s\tremaining: 1m 5s\n",
            "15:\tlearn: 0.1488254\ttotal: 30.1s\tremaining: 1m 3s\n",
            "16:\tlearn: 0.1472472\ttotal: 31.9s\tremaining: 1m 1s\n",
            "17:\tlearn: 0.1458725\ttotal: 33.6s\tremaining: 59.7s\n",
            "18:\tlearn: 0.1445609\ttotal: 35.4s\tremaining: 57.8s\n",
            "19:\tlearn: 0.1430787\ttotal: 37.1s\tremaining: 55.7s\n",
            "20:\tlearn: 0.1412582\ttotal: 39.1s\tremaining: 54s\n",
            "21:\tlearn: 0.1402235\ttotal: 40.9s\tremaining: 52s\n",
            "22:\tlearn: 0.1391600\ttotal: 42.6s\tremaining: 50s\n",
            "23:\tlearn: 0.1384567\ttotal: 44.3s\tremaining: 48s\n",
            "24:\tlearn: 0.1369456\ttotal: 46.2s\tremaining: 46.2s\n",
            "25:\tlearn: 0.1357748\ttotal: 48.1s\tremaining: 44.4s\n",
            "26:\tlearn: 0.1349872\ttotal: 49.8s\tremaining: 42.4s\n",
            "27:\tlearn: 0.1338333\ttotal: 51.5s\tremaining: 40.5s\n",
            "28:\tlearn: 0.1328421\ttotal: 53.2s\tremaining: 38.6s\n",
            "29:\tlearn: 0.1322597\ttotal: 54.9s\tremaining: 36.6s\n",
            "30:\tlearn: 0.1315009\ttotal: 56.7s\tremaining: 34.7s\n",
            "31:\tlearn: 0.1309274\ttotal: 58.4s\tremaining: 32.8s\n",
            "32:\tlearn: 0.1297020\ttotal: 1m\tremaining: 31s\n",
            "33:\tlearn: 0.1288874\ttotal: 1m 1s\tremaining: 29.1s\n",
            "34:\tlearn: 0.1278466\ttotal: 1m 3s\tremaining: 27.3s\n",
            "35:\tlearn: 0.1272083\ttotal: 1m 5s\tremaining: 25.5s\n",
            "36:\tlearn: 0.1266984\ttotal: 1m 7s\tremaining: 23.6s\n",
            "37:\tlearn: 0.1262175\ttotal: 1m 8s\tremaining: 21.8s\n",
            "38:\tlearn: 0.1257756\ttotal: 1m 10s\tremaining: 19.9s\n",
            "39:\tlearn: 0.1253216\ttotal: 1m 12s\tremaining: 18.1s\n",
            "40:\tlearn: 0.1245350\ttotal: 1m 14s\tremaining: 16.3s\n",
            "41:\tlearn: 0.1241463\ttotal: 1m 15s\tremaining: 14.5s\n",
            "42:\tlearn: 0.1232245\ttotal: 1m 17s\tremaining: 12.6s\n",
            "43:\tlearn: 0.1226136\ttotal: 1m 19s\tremaining: 10.8s\n",
            "44:\tlearn: 0.1222556\ttotal: 1m 21s\tremaining: 9.02s\n",
            "45:\tlearn: 0.1217357\ttotal: 1m 22s\tremaining: 7.21s\n",
            "46:\tlearn: 0.1200107\ttotal: 1m 25s\tremaining: 5.43s\n",
            "47:\tlearn: 0.1195715\ttotal: 1m 26s\tremaining: 3.62s\n",
            "48:\tlearn: 0.1190333\ttotal: 1m 28s\tremaining: 1.8s\n",
            "49:\tlearn: 0.1182015\ttotal: 1m 30s\tremaining: 0us\n"
          ]
        },
        {
          "data": {
            "text/plain": [
              "{'iterations': 50, 'learning_rate': 1.0}"
            ]
          },
          "execution_count": 37,
          "metadata": {},
          "output_type": "execute_result"
        }
      ],
      "source": [
        "param_grid = {'iterations':[100, 200, 50],\n",
        "              'learning_rate':[0.1, 1.0, 0.2]}\n",
        "search = (HalvingGridSearchCV(CatBoostClassifier(), param_grid, verbose = 20,\n",
        "                            scoring = 'f1', cv=3, random_state=12345))\n",
        "search.fit(features_train, target_train)\n",
        "search.best_params_"
      ]
    },
    {
      "cell_type": "code",
      "execution_count": null,
      "metadata": {
        "id": "ch2m2uRuwdGw",
        "outputId": "5219f8c4-8fe0-47a1-f040-1c507258fae6"
      },
      "outputs": [
        {
          "name": "stdout",
          "output_type": "stream",
          "text": [
            "0.7410210032652431\n"
          ]
        }
      ],
      "source": [
        "f1_cb = search.best_score_\n",
        "print(f1_cb)"
      ]
    },
    {
      "cell_type": "markdown",
      "metadata": {
        "id": "DVGFoakiwdGx"
      },
      "source": [
        "Сведем в единой таблице данные валидации обученных моделей."
      ]
    },
    {
      "cell_type": "code",
      "execution_count": null,
      "metadata": {
        "id": "5_OACI8xwdGx",
        "outputId": "4d790859-aa33-44ba-8a0d-f6fd21bcdfd5"
      },
      "outputs": [
        {
          "data": {
            "text/html": [
              "<div>\n",
              "<style scoped>\n",
              "    .dataframe tbody tr th:only-of-type {\n",
              "        vertical-align: middle;\n",
              "    }\n",
              "\n",
              "    .dataframe tbody tr th {\n",
              "        vertical-align: top;\n",
              "    }\n",
              "\n",
              "    .dataframe thead th {\n",
              "        text-align: right;\n",
              "    }\n",
              "</style>\n",
              "<table border=\"1\" class=\"dataframe\">\n",
              "  <thead>\n",
              "    <tr style=\"text-align: right;\">\n",
              "      <th></th>\n",
              "      <th>F1 на кросс-валидации</th>\n",
              "      <th>Выполнение условия</th>\n",
              "    </tr>\n",
              "  </thead>\n",
              "  <tbody>\n",
              "    <tr>\n",
              "      <th>Решающее дерево</th>\n",
              "      <td>0.368016</td>\n",
              "      <td>False</td>\n",
              "    </tr>\n",
              "    <tr>\n",
              "      <th>Логистическая регрессия</th>\n",
              "      <td>0.750103</td>\n",
              "      <td>True</td>\n",
              "    </tr>\n",
              "    <tr>\n",
              "      <th>Случайный лес</th>\n",
              "      <td>0.546989</td>\n",
              "      <td>False</td>\n",
              "    </tr>\n",
              "    <tr>\n",
              "      <th>CatBoost</th>\n",
              "      <td>0.741021</td>\n",
              "      <td>False</td>\n",
              "    </tr>\n",
              "  </tbody>\n",
              "</table>\n",
              "</div>"
            ],
            "text/plain": [
              "                         F1 на кросс-валидации  Выполнение условия\n",
              "Решающее дерево                       0.368016               False\n",
              "Логистическая регрессия               0.750103                True\n",
              "Случайный лес                         0.546989               False\n",
              "CatBoost                              0.741021               False"
            ]
          },
          "execution_count": 40,
          "metadata": {},
          "output_type": "execute_result"
        }
      ],
      "source": [
        "index = ['Решающее дерево',\n",
        "         'Логистическая регрессия',\n",
        "         'Случайный лес',\n",
        "         'CatBoost']\n",
        "data = {'F1 на кросс-валидации':[f1_dt, f1_lr, f1_rf, f1_cb]}\n",
        "\n",
        "scores = pd.DataFrame(data=data, index=index)\n",
        "scores['Выполнение условия'] = scores['F1 на кросс-валидации'] > 0.75\n",
        "scores"
      ]
    },
    {
      "cell_type": "code",
      "execution_count": null,
      "metadata": {
        "id": "9a7PqTBqwdG0",
        "outputId": "bbfbe8fb-9d35-4f96-e16a-9991b0a73a60"
      },
      "outputs": [
        {
          "name": "stdout",
          "output_type": "stream",
          "text": [
            "F1 лучшей модели на тестовых данных: 0.7531297847428624\n"
          ]
        }
      ],
      "source": [
        "model = LogisticRegression(class_weight = 'balanced', C = 1, solver = 'lbfgs')\n",
        "model.fit(features_train, target_train)\n",
        "print('F1 лучшей модели на тестовых данных:', f1_score(target_test, model.predict(features_test)))"
      ]
    },
    {
      "cell_type": "markdown",
      "metadata": {
        "id": "ZUhZd2-vwdG1"
      },
      "source": [
        "## Выводы"
      ]
    },
    {
      "cell_type": "markdown",
      "metadata": {
        "id": "ZludnvGYwdG2"
      },
      "source": [
        "В ходе работы над проектом выполнены следующие шаги:\n",
        "\n",
        "* Исходные данные подготовлены к обучению с использованием токенизации и лемматизации текстов\n",
        "* Датасет поделен на обучающую и тестовую выборки в отношении 70:30\n",
        "* Обучены модели решающего дерева, логистической регрессии, случайного леса и CatBoost с балансировкой классов. \n",
        "\n",
        "Лучший показатель качества по метрике F1=0.75 показала модель логистической регрессии. Данный результат подтверждается при работе модели на тестовых данных."
      ]
    }
  ],
  "metadata": {
    "ExecuteTimeLog": [
      {
        "duration": 1934,
        "start_time": "2022-07-24T11:55:32.650Z"
      },
      {
        "duration": 1278,
        "start_time": "2022-07-24T11:56:04.075Z"
      },
      {
        "duration": 3393,
        "start_time": "2022-07-24T11:58:29.896Z"
      },
      {
        "duration": 12,
        "start_time": "2022-07-24T11:58:52.617Z"
      },
      {
        "duration": 34,
        "start_time": "2022-07-24T11:59:46.545Z"
      },
      {
        "duration": 264,
        "start_time": "2022-07-24T12:03:44.828Z"
      },
      {
        "duration": 149,
        "start_time": "2022-07-24T13:03:52.683Z"
      },
      {
        "duration": 8,
        "start_time": "2022-07-24T13:04:45.171Z"
      },
      {
        "duration": 136485,
        "start_time": "2022-07-24T13:04:54.505Z"
      },
      {
        "duration": 49,
        "start_time": "2022-07-24T13:07:35.957Z"
      },
      {
        "duration": 225,
        "start_time": "2022-07-24T13:08:25.498Z"
      },
      {
        "duration": 74,
        "start_time": "2022-07-24T13:09:02.042Z"
      },
      {
        "duration": 14,
        "start_time": "2022-07-24T13:09:09.876Z"
      },
      {
        "duration": 8,
        "start_time": "2022-07-24T13:10:11.431Z"
      },
      {
        "duration": 5,
        "start_time": "2022-07-24T13:10:17.999Z"
      },
      {
        "duration": 13164,
        "start_time": "2022-07-24T13:11:01.266Z"
      },
      {
        "duration": 6,
        "start_time": "2022-07-24T13:11:18.946Z"
      },
      {
        "duration": 4,
        "start_time": "2022-07-24T13:11:38.781Z"
      },
      {
        "duration": 12,
        "start_time": "2022-07-24T13:12:18.540Z"
      },
      {
        "duration": 7,
        "start_time": "2022-07-24T13:13:07.281Z"
      },
      {
        "duration": 115555,
        "start_time": "2022-07-24T13:13:12.970Z"
      },
      {
        "duration": 27,
        "start_time": "2022-07-24T13:59:08.760Z"
      },
      {
        "duration": 47,
        "start_time": "2022-07-24T14:00:13.447Z"
      },
      {
        "duration": 17,
        "start_time": "2022-07-24T14:00:36.218Z"
      },
      {
        "duration": 4,
        "start_time": "2022-07-24T14:01:20.183Z"
      },
      {
        "duration": 1624,
        "start_time": "2022-07-24T14:01:27.589Z"
      },
      {
        "duration": 42578,
        "start_time": "2022-07-24T14:02:16.840Z"
      },
      {
        "duration": 3,
        "start_time": "2022-07-24T14:08:39.186Z"
      },
      {
        "duration": 4,
        "start_time": "2022-07-24T14:12:09.446Z"
      },
      {
        "duration": 11,
        "start_time": "2022-07-24T14:12:24.936Z"
      },
      {
        "duration": 58,
        "start_time": "2022-07-24T14:13:18.110Z"
      },
      {
        "duration": 538070,
        "start_time": "2022-07-24T14:13:26.690Z"
      },
      {
        "duration": 1946,
        "start_time": "2022-07-25T04:26:53.796Z"
      },
      {
        "duration": 1243,
        "start_time": "2022-07-25T04:26:55.744Z"
      },
      {
        "duration": 2187,
        "start_time": "2022-07-25T04:26:56.989Z"
      },
      {
        "duration": 9,
        "start_time": "2022-07-25T04:26:59.178Z"
      },
      {
        "duration": 36,
        "start_time": "2022-07-25T04:26:59.188Z"
      },
      {
        "duration": 161,
        "start_time": "2022-07-25T04:26:59.226Z"
      },
      {
        "duration": 99843,
        "start_time": "2022-07-25T04:26:59.389Z"
      },
      {
        "duration": 46,
        "start_time": "2022-07-25T04:28:39.234Z"
      },
      {
        "duration": 6,
        "start_time": "2022-07-25T04:28:39.282Z"
      },
      {
        "duration": 11875,
        "start_time": "2022-07-25T04:28:39.290Z"
      },
      {
        "duration": 4,
        "start_time": "2022-07-25T04:28:51.167Z"
      },
      {
        "duration": 117757,
        "start_time": "2022-07-25T04:28:51.173Z"
      },
      {
        "duration": 37,
        "start_time": "2022-07-25T04:30:48.932Z"
      },
      {
        "duration": 1318,
        "start_time": "2022-07-25T04:30:48.974Z"
      },
      {
        "duration": 38929,
        "start_time": "2022-07-25T04:30:50.294Z"
      },
      {
        "duration": 477561,
        "start_time": "2022-07-25T04:31:29.225Z"
      },
      {
        "duration": 1909,
        "start_time": "2022-07-26T05:22:34.866Z"
      },
      {
        "duration": 1421,
        "start_time": "2022-07-26T05:22:36.778Z"
      },
      {
        "duration": 3180,
        "start_time": "2022-07-26T05:22:38.201Z"
      },
      {
        "duration": 11,
        "start_time": "2022-07-26T05:22:41.383Z"
      },
      {
        "duration": 33,
        "start_time": "2022-07-26T05:22:41.396Z"
      },
      {
        "duration": 188,
        "start_time": "2022-07-26T05:22:41.431Z"
      },
      {
        "duration": 107853,
        "start_time": "2022-07-26T05:22:41.621Z"
      },
      {
        "duration": 55,
        "start_time": "2022-07-26T05:24:29.477Z"
      },
      {
        "duration": 6,
        "start_time": "2022-07-26T05:24:29.534Z"
      },
      {
        "duration": 12611,
        "start_time": "2022-07-26T05:24:29.542Z"
      },
      {
        "duration": 4,
        "start_time": "2022-07-26T05:24:42.155Z"
      },
      {
        "duration": 110162,
        "start_time": "2022-07-26T05:24:42.160Z"
      },
      {
        "duration": 31,
        "start_time": "2022-07-26T05:26:32.409Z"
      },
      {
        "duration": 1415,
        "start_time": "2022-07-26T05:26:32.442Z"
      },
      {
        "duration": 39254,
        "start_time": "2022-07-26T05:26:33.859Z"
      },
      {
        "duration": 1563,
        "start_time": "2022-07-27T11:06:09.170Z"
      },
      {
        "duration": 1715,
        "start_time": "2022-07-27T11:06:10.735Z"
      },
      {
        "duration": 2790,
        "start_time": "2022-07-27T11:06:12.452Z"
      },
      {
        "duration": 9,
        "start_time": "2022-07-27T11:06:15.245Z"
      },
      {
        "duration": 29,
        "start_time": "2022-07-27T11:06:15.255Z"
      },
      {
        "duration": 150,
        "start_time": "2022-07-27T11:06:15.286Z"
      },
      {
        "duration": 85413,
        "start_time": "2022-07-27T11:06:15.438Z"
      },
      {
        "duration": 35,
        "start_time": "2022-07-27T11:07:40.852Z"
      },
      {
        "duration": 5,
        "start_time": "2022-07-27T11:07:40.889Z"
      },
      {
        "duration": 10287,
        "start_time": "2022-07-27T11:07:40.896Z"
      },
      {
        "duration": 3,
        "start_time": "2022-07-27T11:07:51.184Z"
      },
      {
        "duration": 99255,
        "start_time": "2022-07-27T11:07:51.189Z"
      },
      {
        "duration": 27,
        "start_time": "2022-07-27T11:09:30.449Z"
      },
      {
        "duration": 1192,
        "start_time": "2022-07-27T11:09:30.478Z"
      },
      {
        "duration": 38973,
        "start_time": "2022-07-27T11:09:31.672Z"
      },
      {
        "duration": 446257,
        "start_time": "2022-07-27T11:10:10.647Z"
      },
      {
        "duration": 481629,
        "start_time": "2022-07-27T11:17:36.905Z"
      },
      {
        "duration": 229,
        "start_time": "2022-07-27T11:25:38.536Z"
      },
      {
        "duration": 0,
        "start_time": "2022-07-27T11:25:38.767Z"
      },
      {
        "duration": 0,
        "start_time": "2022-07-27T11:25:38.769Z"
      },
      {
        "duration": 89,
        "start_time": "2022-07-28T07:52:36.751Z"
      },
      {
        "duration": 39,
        "start_time": "2022-07-28T08:33:12.973Z"
      },
      {
        "duration": 1690,
        "start_time": "2022-07-28T08:33:38.464Z"
      },
      {
        "duration": 1816,
        "start_time": "2022-07-28T08:33:40.156Z"
      },
      {
        "duration": 3018,
        "start_time": "2022-07-28T08:33:41.973Z"
      },
      {
        "duration": 9,
        "start_time": "2022-07-28T08:33:44.993Z"
      },
      {
        "duration": 31,
        "start_time": "2022-07-28T08:33:45.004Z"
      },
      {
        "duration": 173,
        "start_time": "2022-07-28T08:33:45.036Z"
      },
      {
        "duration": 91916,
        "start_time": "2022-07-28T08:33:45.210Z"
      },
      {
        "duration": 43,
        "start_time": "2022-07-28T08:35:17.128Z"
      },
      {
        "duration": 6,
        "start_time": "2022-07-28T08:35:17.173Z"
      },
      {
        "duration": 10152,
        "start_time": "2022-07-28T08:35:17.181Z"
      },
      {
        "duration": 4,
        "start_time": "2022-07-28T08:35:27.335Z"
      },
      {
        "duration": 102225,
        "start_time": "2022-07-28T08:35:27.341Z"
      },
      {
        "duration": 31,
        "start_time": "2022-07-28T08:37:09.568Z"
      },
      {
        "duration": 1171,
        "start_time": "2022-07-28T08:37:09.600Z"
      },
      {
        "duration": 35688,
        "start_time": "2022-07-28T08:37:10.773Z"
      },
      {
        "duration": 428154,
        "start_time": "2022-07-28T08:37:46.463Z"
      },
      {
        "duration": 480743,
        "start_time": "2022-07-28T08:44:54.619Z"
      },
      {
        "duration": 236,
        "start_time": "2022-07-28T08:52:55.364Z"
      },
      {
        "duration": 0,
        "start_time": "2022-07-28T08:52:55.603Z"
      },
      {
        "duration": 0,
        "start_time": "2022-07-28T08:52:55.605Z"
      },
      {
        "duration": 74,
        "start_time": "2022-07-28T08:55:39.808Z"
      },
      {
        "duration": 87,
        "start_time": "2022-07-28T08:55:52.143Z"
      },
      {
        "duration": 43408,
        "start_time": "2022-07-28T08:56:03.444Z"
      },
      {
        "duration": 1551728,
        "start_time": "2022-07-28T08:58:27.141Z"
      },
      {
        "duration": 1995,
        "start_time": "2022-07-28T17:14:36.901Z"
      },
      {
        "duration": 3,
        "start_time": "2022-07-28T17:15:55.706Z"
      },
      {
        "duration": 150,
        "start_time": "2022-07-28T17:26:36.541Z"
      },
      {
        "duration": 1626,
        "start_time": "2022-07-28T17:26:55.569Z"
      },
      {
        "duration": 1218,
        "start_time": "2022-07-28T17:26:57.197Z"
      },
      {
        "duration": 2473,
        "start_time": "2022-07-28T17:26:58.417Z"
      },
      {
        "duration": 11,
        "start_time": "2022-07-28T17:27:00.892Z"
      },
      {
        "duration": 56,
        "start_time": "2022-07-28T17:27:00.905Z"
      },
      {
        "duration": 185,
        "start_time": "2022-07-28T17:27:00.963Z"
      },
      {
        "duration": 13,
        "start_time": "2022-07-28T17:27:01.150Z"
      },
      {
        "duration": 106261,
        "start_time": "2022-07-28T17:27:01.165Z"
      },
      {
        "duration": 56,
        "start_time": "2022-07-28T17:28:47.432Z"
      },
      {
        "duration": 6,
        "start_time": "2022-07-28T17:28:47.490Z"
      },
      {
        "duration": 12586,
        "start_time": "2022-07-28T17:28:47.498Z"
      },
      {
        "duration": 4,
        "start_time": "2022-07-28T17:29:00.086Z"
      },
      {
        "duration": 1715,
        "start_time": "2022-07-28T17:31:06.649Z"
      },
      {
        "duration": 327,
        "start_time": "2022-07-28T17:31:08.366Z"
      },
      {
        "duration": 893,
        "start_time": "2022-07-28T17:31:08.694Z"
      },
      {
        "duration": 10,
        "start_time": "2022-07-28T17:31:09.590Z"
      },
      {
        "duration": 50,
        "start_time": "2022-07-28T17:31:09.603Z"
      },
      {
        "duration": 187,
        "start_time": "2022-07-28T17:31:09.655Z"
      },
      {
        "duration": 18,
        "start_time": "2022-07-28T17:31:09.847Z"
      },
      {
        "duration": 126,
        "start_time": "2022-07-28T17:31:09.867Z"
      },
      {
        "duration": 5,
        "start_time": "2022-07-28T17:31:09.995Z"
      },
      {
        "duration": 112764,
        "start_time": "2022-07-28T17:31:10.002Z"
      },
      {
        "duration": 45,
        "start_time": "2022-07-28T17:33:02.768Z"
      },
      {
        "duration": 17,
        "start_time": "2022-07-28T17:33:02.826Z"
      },
      {
        "duration": 13319,
        "start_time": "2022-07-28T17:33:02.845Z"
      },
      {
        "duration": 4,
        "start_time": "2022-07-28T17:33:16.167Z"
      },
      {
        "duration": 104857,
        "start_time": "2022-07-28T17:33:16.173Z"
      },
      {
        "duration": 117,
        "start_time": "2022-07-28T17:35:01.037Z"
      },
      {
        "duration": 1405,
        "start_time": "2022-07-28T17:35:01.156Z"
      },
      {
        "duration": 39676,
        "start_time": "2022-07-28T17:35:02.563Z"
      },
      {
        "duration": 496416,
        "start_time": "2022-07-28T17:35:42.243Z"
      },
      {
        "duration": 501180,
        "start_time": "2022-07-28T17:43:58.661Z"
      },
      {
        "duration": 42999,
        "start_time": "2022-07-28T17:52:19.925Z"
      },
      {
        "duration": 1749269,
        "start_time": "2022-07-28T17:53:02.926Z"
      },
      {
        "duration": 157,
        "start_time": "2022-07-28T18:22:12.196Z"
      },
      {
        "duration": 1649,
        "start_time": "2022-07-31T07:14:15.133Z"
      },
      {
        "duration": 1286,
        "start_time": "2022-07-31T07:14:16.784Z"
      },
      {
        "duration": 2213,
        "start_time": "2022-07-31T07:14:18.072Z"
      },
      {
        "duration": 9,
        "start_time": "2022-07-31T07:14:20.287Z"
      },
      {
        "duration": 24,
        "start_time": "2022-07-31T07:14:20.298Z"
      },
      {
        "duration": 159,
        "start_time": "2022-07-31T07:14:20.324Z"
      },
      {
        "duration": 20,
        "start_time": "2022-07-31T07:14:20.484Z"
      },
      {
        "duration": 75,
        "start_time": "2022-07-31T07:14:20.506Z"
      },
      {
        "duration": 6,
        "start_time": "2022-07-31T07:14:20.582Z"
      },
      {
        "duration": 88070,
        "start_time": "2022-07-31T07:14:20.599Z"
      },
      {
        "duration": 41,
        "start_time": "2022-07-31T07:15:48.671Z"
      },
      {
        "duration": 6,
        "start_time": "2022-07-31T07:15:48.714Z"
      },
      {
        "duration": 10061,
        "start_time": "2022-07-31T07:15:48.721Z"
      },
      {
        "duration": 3,
        "start_time": "2022-07-31T07:15:58.784Z"
      },
      {
        "duration": 91115,
        "start_time": "2022-07-31T07:15:58.788Z"
      },
      {
        "duration": 22,
        "start_time": "2022-07-31T07:17:29.905Z"
      },
      {
        "duration": 1179,
        "start_time": "2022-07-31T07:17:29.929Z"
      },
      {
        "duration": 30492,
        "start_time": "2022-07-31T07:17:31.109Z"
      },
      {
        "duration": 474633,
        "start_time": "2022-07-31T07:18:01.603Z"
      },
      {
        "duration": 1579,
        "start_time": "2022-07-31T07:30:29.547Z"
      },
      {
        "duration": 244,
        "start_time": "2022-07-31T07:30:31.128Z"
      },
      {
        "duration": 834,
        "start_time": "2022-07-31T07:30:31.373Z"
      },
      {
        "duration": 9,
        "start_time": "2022-07-31T07:30:32.209Z"
      },
      {
        "duration": 29,
        "start_time": "2022-07-31T07:30:32.220Z"
      },
      {
        "duration": 173,
        "start_time": "2022-07-31T07:30:32.250Z"
      },
      {
        "duration": 11,
        "start_time": "2022-07-31T07:30:32.424Z"
      },
      {
        "duration": 95,
        "start_time": "2022-07-31T07:30:32.437Z"
      },
      {
        "duration": 6,
        "start_time": "2022-07-31T07:30:32.535Z"
      },
      {
        "duration": 96324,
        "start_time": "2022-07-31T07:30:32.545Z"
      },
      {
        "duration": 42,
        "start_time": "2022-07-31T07:32:08.871Z"
      },
      {
        "duration": 6,
        "start_time": "2022-07-31T07:32:08.915Z"
      },
      {
        "duration": 10452,
        "start_time": "2022-07-31T07:32:08.923Z"
      },
      {
        "duration": 4,
        "start_time": "2022-07-31T07:32:19.376Z"
      },
      {
        "duration": 99918,
        "start_time": "2022-07-31T07:32:19.381Z"
      },
      {
        "duration": 23,
        "start_time": "2022-07-31T07:33:59.300Z"
      },
      {
        "duration": 1183,
        "start_time": "2022-07-31T07:33:59.325Z"
      },
      {
        "duration": 33593,
        "start_time": "2022-07-31T07:34:00.510Z"
      },
      {
        "duration": 469612,
        "start_time": "2022-07-31T07:34:34.105Z"
      },
      {
        "duration": 19872,
        "start_time": "2022-07-31T07:42:23.718Z"
      },
      {
        "duration": 424815,
        "start_time": "2022-07-31T07:42:43.592Z"
      },
      {
        "duration": 37799,
        "start_time": "2022-07-31T07:49:48.499Z"
      },
      {
        "duration": 134754,
        "start_time": "2022-07-31T07:50:26.300Z"
      },
      {
        "duration": 144,
        "start_time": "2022-07-31T07:52:41.055Z"
      },
      {
        "duration": 0,
        "start_time": "2022-07-31T07:52:41.200Z"
      },
      {
        "duration": 0,
        "start_time": "2022-07-31T07:52:41.201Z"
      },
      {
        "duration": 496,
        "start_time": "2022-07-31T07:57:42.267Z"
      },
      {
        "duration": 297879,
        "start_time": "2022-07-31T08:01:49.697Z"
      },
      {
        "duration": 1543,
        "start_time": "2022-07-31T08:07:42.111Z"
      },
      {
        "duration": 83935,
        "start_time": "2022-07-31T08:08:11.784Z"
      },
      {
        "duration": 496,
        "start_time": "2022-07-31T08:11:30.398Z"
      },
      {
        "duration": 4070,
        "start_time": "2022-07-31T08:11:56.889Z"
      },
      {
        "duration": 274,
        "start_time": "2022-07-31T08:12:11.219Z"
      },
      {
        "duration": 1551226,
        "start_time": "2022-07-31T08:12:23.617Z"
      },
      {
        "duration": 11,
        "start_time": "2022-07-31T08:41:29.722Z"
      },
      {
        "duration": 83261,
        "start_time": "2022-07-31T08:42:42.443Z"
      },
      {
        "duration": 4550,
        "start_time": "2022-07-31T08:47:22.227Z"
      },
      {
        "duration": 20174,
        "start_time": "2022-07-31T08:47:47.859Z"
      },
      {
        "duration": 119189,
        "start_time": "2022-07-31T08:49:01.318Z"
      },
      {
        "duration": 266378,
        "start_time": "2022-07-31T08:53:50.429Z"
      },
      {
        "duration": 31168,
        "start_time": "2022-07-31T09:01:07.434Z"
      },
      {
        "duration": 22304,
        "start_time": "2022-07-31T09:02:33.800Z"
      },
      {
        "duration": 16536,
        "start_time": "2022-07-31T09:04:12.215Z"
      },
      {
        "duration": 4111,
        "start_time": "2022-07-31T09:04:47.076Z"
      },
      {
        "duration": 1248401,
        "start_time": "2022-07-31T09:05:18.005Z"
      },
      {
        "duration": 1541,
        "start_time": "2022-07-31T09:32:39.664Z"
      },
      {
        "duration": 309,
        "start_time": "2022-07-31T09:32:41.207Z"
      },
      {
        "duration": 829,
        "start_time": "2022-07-31T09:32:41.517Z"
      },
      {
        "duration": 10,
        "start_time": "2022-07-31T09:32:42.347Z"
      },
      {
        "duration": 50,
        "start_time": "2022-07-31T09:32:42.359Z"
      },
      {
        "duration": 162,
        "start_time": "2022-07-31T09:32:42.411Z"
      },
      {
        "duration": 11,
        "start_time": "2022-07-31T09:32:42.575Z"
      },
      {
        "duration": 96,
        "start_time": "2022-07-31T09:32:42.587Z"
      },
      {
        "duration": 16,
        "start_time": "2022-07-31T09:32:42.685Z"
      },
      {
        "duration": 97747,
        "start_time": "2022-07-31T09:32:42.702Z"
      },
      {
        "duration": 33,
        "start_time": "2022-07-31T09:34:20.451Z"
      },
      {
        "duration": 17,
        "start_time": "2022-07-31T09:34:20.486Z"
      },
      {
        "duration": 11009,
        "start_time": "2022-07-31T09:34:20.505Z"
      },
      {
        "duration": 3,
        "start_time": "2022-07-31T09:34:31.518Z"
      },
      {
        "duration": 101185,
        "start_time": "2022-07-31T09:34:31.523Z"
      },
      {
        "duration": 108,
        "start_time": "2022-07-31T09:36:12.710Z"
      },
      {
        "duration": 1253,
        "start_time": "2022-07-31T09:36:12.820Z"
      },
      {
        "duration": 31924,
        "start_time": "2022-07-31T09:36:14.075Z"
      },
      {
        "duration": 115318,
        "start_time": "2022-07-31T09:36:46.001Z"
      },
      {
        "duration": 19818,
        "start_time": "2022-07-31T09:38:41.320Z"
      },
      {
        "duration": 166260,
        "start_time": "2022-07-31T09:39:01.139Z"
      },
      {
        "duration": 24150,
        "start_time": "2022-07-31T09:41:47.400Z"
      },
      {
        "duration": 16290,
        "start_time": "2022-07-31T09:42:11.551Z"
      },
      {
        "duration": 4103,
        "start_time": "2022-07-31T09:42:27.842Z"
      },
      {
        "duration": 1605173,
        "start_time": "2022-07-31T09:42:31.946Z"
      },
      {
        "duration": 162,
        "start_time": "2022-07-31T10:09:17.121Z"
      },
      {
        "duration": 1499,
        "start_time": "2022-07-31T10:09:38.659Z"
      },
      {
        "duration": 258,
        "start_time": "2022-07-31T10:09:40.159Z"
      },
      {
        "duration": 849,
        "start_time": "2022-07-31T10:09:40.419Z"
      },
      {
        "duration": 9,
        "start_time": "2022-07-31T10:09:41.270Z"
      },
      {
        "duration": 36,
        "start_time": "2022-07-31T10:09:41.281Z"
      },
      {
        "duration": 167,
        "start_time": "2022-07-31T10:09:41.319Z"
      },
      {
        "duration": 22,
        "start_time": "2022-07-31T10:09:41.488Z"
      },
      {
        "duration": 97,
        "start_time": "2022-07-31T10:09:41.512Z"
      },
      {
        "duration": 6,
        "start_time": "2022-07-31T10:09:41.610Z"
      },
      {
        "duration": 95167,
        "start_time": "2022-07-31T10:09:41.618Z"
      },
      {
        "duration": 37,
        "start_time": "2022-07-31T10:11:16.787Z"
      },
      {
        "duration": 5,
        "start_time": "2022-07-31T10:11:16.825Z"
      },
      {
        "duration": 11177,
        "start_time": "2022-07-31T10:11:16.832Z"
      },
      {
        "duration": 4,
        "start_time": "2022-07-31T10:11:28.010Z"
      },
      {
        "duration": 104492,
        "start_time": "2022-07-31T10:11:28.016Z"
      },
      {
        "duration": 23,
        "start_time": "2022-07-31T10:13:12.510Z"
      },
      {
        "duration": 1288,
        "start_time": "2022-07-31T10:13:12.535Z"
      },
      {
        "duration": 41384,
        "start_time": "2022-07-31T10:13:13.825Z"
      },
      {
        "duration": 117652,
        "start_time": "2022-07-31T10:13:55.211Z"
      },
      {
        "duration": 70273,
        "start_time": "2022-07-31T10:15:52.865Z"
      },
      {
        "duration": 221363,
        "start_time": "2022-07-31T10:17:03.139Z"
      },
      {
        "duration": 68136,
        "start_time": "2022-07-31T10:20:44.504Z"
      },
      {
        "duration": 15977,
        "start_time": "2022-07-31T10:21:52.642Z"
      },
      {
        "duration": 55216,
        "start_time": "2022-07-31T10:22:08.621Z"
      },
      {
        "duration": 1562615,
        "start_time": "2022-07-31T10:23:03.839Z"
      },
      {
        "duration": 147,
        "start_time": "2022-07-31T10:49:06.456Z"
      },
      {
        "duration": 0,
        "start_time": "2022-07-31T11:19:03.933Z"
      },
      {
        "duration": 1766,
        "start_time": "2022-07-31T11:21:06.461Z"
      },
      {
        "duration": 407,
        "start_time": "2022-07-31T11:21:08.229Z"
      },
      {
        "duration": 927,
        "start_time": "2022-07-31T11:21:08.638Z"
      },
      {
        "duration": 12,
        "start_time": "2022-07-31T11:21:09.566Z"
      },
      {
        "duration": 41,
        "start_time": "2022-07-31T11:21:09.580Z"
      },
      {
        "duration": 204,
        "start_time": "2022-07-31T11:21:09.623Z"
      },
      {
        "duration": 11,
        "start_time": "2022-07-31T11:21:09.829Z"
      },
      {
        "duration": 99,
        "start_time": "2022-07-31T11:21:09.842Z"
      },
      {
        "duration": 7,
        "start_time": "2022-07-31T11:21:09.943Z"
      },
      {
        "duration": 108691,
        "start_time": "2022-07-31T11:21:09.952Z"
      },
      {
        "duration": 53,
        "start_time": "2022-07-31T11:22:58.645Z"
      },
      {
        "duration": 6,
        "start_time": "2022-07-31T11:22:58.699Z"
      },
      {
        "duration": 10786,
        "start_time": "2022-07-31T11:22:58.706Z"
      },
      {
        "duration": 3,
        "start_time": "2022-07-31T11:23:09.498Z"
      },
      {
        "duration": 104519,
        "start_time": "2022-07-31T11:23:09.503Z"
      },
      {
        "duration": 32,
        "start_time": "2022-07-31T11:24:54.099Z"
      },
      {
        "duration": 1387,
        "start_time": "2022-07-31T11:24:54.133Z"
      },
      {
        "duration": 38882,
        "start_time": "2022-07-31T11:24:55.527Z"
      },
      {
        "duration": 257,
        "start_time": "2022-07-31T11:25:34.411Z"
      },
      {
        "duration": 0,
        "start_time": "2022-07-31T11:25:34.671Z"
      },
      {
        "duration": 0,
        "start_time": "2022-07-31T11:25:34.673Z"
      },
      {
        "duration": 0,
        "start_time": "2022-07-31T11:25:34.674Z"
      },
      {
        "duration": 0,
        "start_time": "2022-07-31T11:25:34.675Z"
      },
      {
        "duration": 1,
        "start_time": "2022-07-31T11:25:34.676Z"
      },
      {
        "duration": 0,
        "start_time": "2022-07-31T11:25:34.678Z"
      },
      {
        "duration": 0,
        "start_time": "2022-07-31T11:25:34.679Z"
      },
      {
        "duration": 1981,
        "start_time": "2022-07-31T15:01:33.679Z"
      },
      {
        "duration": 1319,
        "start_time": "2022-07-31T15:01:35.662Z"
      },
      {
        "duration": 3011,
        "start_time": "2022-07-31T15:01:36.983Z"
      },
      {
        "duration": 12,
        "start_time": "2022-07-31T15:01:39.997Z"
      },
      {
        "duration": 33,
        "start_time": "2022-07-31T15:01:40.011Z"
      },
      {
        "duration": 203,
        "start_time": "2022-07-31T15:01:40.046Z"
      },
      {
        "duration": 13,
        "start_time": "2022-07-31T15:01:40.251Z"
      },
      {
        "duration": 151,
        "start_time": "2022-07-31T15:01:40.266Z"
      },
      {
        "duration": 7,
        "start_time": "2022-07-31T15:01:40.419Z"
      },
      {
        "duration": 101876,
        "start_time": "2022-07-31T15:01:40.430Z"
      },
      {
        "duration": 57,
        "start_time": "2022-07-31T15:03:22.308Z"
      },
      {
        "duration": 7,
        "start_time": "2022-07-31T15:03:22.367Z"
      },
      {
        "duration": 12706,
        "start_time": "2022-07-31T15:03:22.375Z"
      },
      {
        "duration": 4,
        "start_time": "2022-07-31T15:03:35.083Z"
      },
      {
        "duration": 113838,
        "start_time": "2022-07-31T15:03:35.089Z"
      },
      {
        "duration": 31,
        "start_time": "2022-07-31T15:05:28.929Z"
      },
      {
        "duration": 1457,
        "start_time": "2022-07-31T15:05:28.962Z"
      },
      {
        "duration": 40492,
        "start_time": "2022-07-31T15:05:30.422Z"
      },
      {
        "duration": 142790,
        "start_time": "2022-07-31T15:06:10.915Z"
      },
      {
        "duration": 76352,
        "start_time": "2022-07-31T15:08:33.710Z"
      },
      {
        "duration": 219657,
        "start_time": "2022-07-31T15:09:50.064Z"
      },
      {
        "duration": 93254,
        "start_time": "2022-07-31T15:13:29.722Z"
      },
      {
        "duration": 147588,
        "start_time": "2022-07-31T15:15:02.978Z"
      },
      {
        "duration": 59278,
        "start_time": "2022-07-31T15:17:30.568Z"
      },
      {
        "duration": 1728872,
        "start_time": "2022-07-31T15:18:29.848Z"
      },
      {
        "duration": 156,
        "start_time": "2022-07-31T15:47:18.722Z"
      },
      {
        "duration": 1164,
        "start_time": "2022-07-31T15:53:14.718Z"
      },
      {
        "duration": 13,
        "start_time": "2022-07-31T15:53:54.442Z"
      },
      {
        "duration": 217,
        "start_time": "2022-07-31T16:06:53.991Z"
      },
      {
        "duration": 5,
        "start_time": "2022-07-31T16:09:41.746Z"
      },
      {
        "duration": 5,
        "start_time": "2022-07-31T16:12:26.811Z"
      },
      {
        "duration": 198748,
        "start_time": "2022-07-31T16:18:00.380Z"
      },
      {
        "duration": 481462,
        "start_time": "2022-07-31T16:21:46.130Z"
      },
      {
        "duration": 138542,
        "start_time": "2022-07-31T16:32:30.827Z"
      },
      {
        "duration": 484176,
        "start_time": "2022-07-31T16:36:00.121Z"
      },
      {
        "duration": 1913986,
        "start_time": "2022-07-31T16:44:33.267Z"
      },
      {
        "duration": 12,
        "start_time": "2022-07-31T17:17:30.488Z"
      },
      {
        "duration": 1938478,
        "start_time": "2022-07-31T17:17:42.662Z"
      },
      {
        "duration": 12,
        "start_time": "2022-07-31T17:50:48.038Z"
      },
      {
        "duration": 1672,
        "start_time": "2022-07-31T17:52:20.161Z"
      },
      {
        "duration": 199,
        "start_time": "2022-07-31T17:52:21.835Z"
      },
      {
        "duration": 928,
        "start_time": "2022-07-31T17:52:22.036Z"
      },
      {
        "duration": 11,
        "start_time": "2022-07-31T17:52:22.967Z"
      },
      {
        "duration": 48,
        "start_time": "2022-07-31T17:52:22.979Z"
      },
      {
        "duration": 577,
        "start_time": "2022-07-31T17:52:23.028Z"
      },
      {
        "duration": 0,
        "start_time": "2022-07-31T17:52:23.607Z"
      },
      {
        "duration": 0,
        "start_time": "2022-07-31T17:52:23.610Z"
      },
      {
        "duration": 0,
        "start_time": "2022-07-31T17:52:23.611Z"
      },
      {
        "duration": 0,
        "start_time": "2022-07-31T17:52:23.613Z"
      },
      {
        "duration": 0,
        "start_time": "2022-07-31T17:52:23.614Z"
      },
      {
        "duration": 0,
        "start_time": "2022-07-31T17:52:23.615Z"
      },
      {
        "duration": 0,
        "start_time": "2022-07-31T17:52:23.617Z"
      },
      {
        "duration": 0,
        "start_time": "2022-07-31T17:52:23.618Z"
      },
      {
        "duration": 0,
        "start_time": "2022-07-31T17:52:23.620Z"
      },
      {
        "duration": 0,
        "start_time": "2022-07-31T17:52:23.621Z"
      },
      {
        "duration": 0,
        "start_time": "2022-07-31T17:52:23.623Z"
      },
      {
        "duration": 0,
        "start_time": "2022-07-31T17:52:23.624Z"
      },
      {
        "duration": 0,
        "start_time": "2022-07-31T17:52:23.626Z"
      },
      {
        "duration": 0,
        "start_time": "2022-07-31T17:52:23.627Z"
      },
      {
        "duration": 0,
        "start_time": "2022-07-31T17:52:23.628Z"
      },
      {
        "duration": 0,
        "start_time": "2022-07-31T17:52:23.630Z"
      },
      {
        "duration": 0,
        "start_time": "2022-07-31T17:52:23.631Z"
      },
      {
        "duration": 0,
        "start_time": "2022-07-31T17:52:23.633Z"
      },
      {
        "duration": 0,
        "start_time": "2022-07-31T17:52:23.634Z"
      },
      {
        "duration": 0,
        "start_time": "2022-07-31T17:52:23.636Z"
      },
      {
        "duration": 5,
        "start_time": "2022-07-31T17:55:33.231Z"
      },
      {
        "duration": 182,
        "start_time": "2022-07-31T17:55:38.860Z"
      },
      {
        "duration": 1722,
        "start_time": "2022-07-31T17:55:54.902Z"
      },
      {
        "duration": 330,
        "start_time": "2022-07-31T17:55:56.626Z"
      },
      {
        "duration": 815,
        "start_time": "2022-07-31T17:55:56.960Z"
      },
      {
        "duration": 10,
        "start_time": "2022-07-31T17:55:57.777Z"
      },
      {
        "duration": 43,
        "start_time": "2022-07-31T17:55:57.789Z"
      },
      {
        "duration": 195,
        "start_time": "2022-07-31T17:55:57.834Z"
      },
      {
        "duration": 12,
        "start_time": "2022-07-31T17:55:58.031Z"
      },
      {
        "duration": 120,
        "start_time": "2022-07-31T17:55:58.045Z"
      },
      {
        "duration": 5,
        "start_time": "2022-07-31T17:55:58.168Z"
      },
      {
        "duration": 101422,
        "start_time": "2022-07-31T17:55:58.175Z"
      },
      {
        "duration": 50,
        "start_time": "2022-07-31T17:57:39.599Z"
      },
      {
        "duration": 8,
        "start_time": "2022-07-31T17:57:39.651Z"
      },
      {
        "duration": 12092,
        "start_time": "2022-07-31T17:57:39.661Z"
      },
      {
        "duration": 3,
        "start_time": "2022-07-31T17:57:51.755Z"
      },
      {
        "duration": 112059,
        "start_time": "2022-07-31T17:57:51.760Z"
      },
      {
        "duration": 109,
        "start_time": "2022-07-31T17:59:43.821Z"
      },
      {
        "duration": 1416,
        "start_time": "2022-07-31T17:59:43.932Z"
      },
      {
        "duration": 36066,
        "start_time": "2022-07-31T17:59:45.350Z"
      },
      {
        "duration": 474913,
        "start_time": "2022-07-31T18:00:21.418Z"
      },
      {
        "duration": 206331,
        "start_time": "2022-07-31T18:10:30.490Z"
      },
      {
        "duration": 93034,
        "start_time": "2022-07-31T18:13:56.823Z"
      },
      {
        "duration": 474461,
        "start_time": "2022-07-31T18:15:29.859Z"
      },
      {
        "duration": 1815741,
        "start_time": "2022-07-31T18:23:24.322Z"
      },
      {
        "duration": 1741145,
        "start_time": "2022-07-31T18:53:40.065Z"
      },
      {
        "duration": 15,
        "start_time": "2022-07-31T19:22:41.211Z"
      },
      {
        "duration": 137868,
        "start_time": "2022-07-31T19:22:41.229Z"
      },
      {
        "duration": 133442,
        "start_time": "2022-07-31T19:52:16.538Z"
      },
      {
        "duration": 11,
        "start_time": "2022-07-31T19:55:12.216Z"
      },
      {
        "duration": 61,
        "start_time": "2022-08-01T05:58:39.639Z"
      },
      {
        "duration": 52,
        "start_time": "2022-08-01T06:02:34.189Z"
      },
      {
        "duration": 2107,
        "start_time": "2022-08-01T06:02:46.232Z"
      },
      {
        "duration": 379,
        "start_time": "2022-08-01T06:02:48.341Z"
      },
      {
        "duration": 2,
        "start_time": "2022-08-01T06:02:58.218Z"
      },
      {
        "duration": 5,
        "start_time": "2022-08-01T06:05:08.330Z"
      },
      {
        "duration": 88,
        "start_time": "2022-08-01T06:08:22.668Z"
      },
      {
        "duration": 1543,
        "start_time": "2022-08-01T06:09:31.710Z"
      },
      {
        "duration": 200,
        "start_time": "2022-08-01T06:09:33.255Z"
      },
      {
        "duration": 2362,
        "start_time": "2022-08-01T06:09:33.457Z"
      },
      {
        "duration": 13,
        "start_time": "2022-08-01T06:09:35.821Z"
      },
      {
        "duration": 40,
        "start_time": "2022-08-01T06:09:35.837Z"
      },
      {
        "duration": 183,
        "start_time": "2022-08-01T06:09:35.878Z"
      },
      {
        "duration": 12,
        "start_time": "2022-08-01T06:09:36.063Z"
      },
      {
        "duration": 122,
        "start_time": "2022-08-01T06:09:36.077Z"
      },
      {
        "duration": 6,
        "start_time": "2022-08-01T06:09:36.201Z"
      },
      {
        "duration": 14,
        "start_time": "2022-08-01T06:09:36.210Z"
      },
      {
        "duration": 11,
        "start_time": "2022-08-01T06:09:36.226Z"
      },
      {
        "duration": 9,
        "start_time": "2022-08-01T06:09:36.240Z"
      },
      {
        "duration": 149,
        "start_time": "2022-08-01T06:09:36.251Z"
      },
      {
        "duration": 0,
        "start_time": "2022-08-01T06:09:36.401Z"
      },
      {
        "duration": 0,
        "start_time": "2022-08-01T06:09:36.402Z"
      },
      {
        "duration": 0,
        "start_time": "2022-08-01T06:09:36.405Z"
      },
      {
        "duration": 0,
        "start_time": "2022-08-01T06:09:36.407Z"
      },
      {
        "duration": 0,
        "start_time": "2022-08-01T06:09:36.408Z"
      },
      {
        "duration": 0,
        "start_time": "2022-08-01T06:09:36.423Z"
      },
      {
        "duration": 0,
        "start_time": "2022-08-01T06:09:36.425Z"
      },
      {
        "duration": 0,
        "start_time": "2022-08-01T06:09:36.427Z"
      },
      {
        "duration": 0,
        "start_time": "2022-08-01T06:09:36.428Z"
      },
      {
        "duration": 0,
        "start_time": "2022-08-01T06:09:36.430Z"
      },
      {
        "duration": 0,
        "start_time": "2022-08-01T06:09:36.431Z"
      },
      {
        "duration": 0,
        "start_time": "2022-08-01T06:09:36.433Z"
      },
      {
        "duration": 0,
        "start_time": "2022-08-01T06:09:36.434Z"
      },
      {
        "duration": 0,
        "start_time": "2022-08-01T06:09:36.436Z"
      },
      {
        "duration": 0,
        "start_time": "2022-08-01T06:09:36.438Z"
      },
      {
        "duration": 0,
        "start_time": "2022-08-01T06:09:36.439Z"
      },
      {
        "duration": 91741,
        "start_time": "2022-08-01T06:12:16.876Z"
      },
      {
        "duration": 4,
        "start_time": "2022-08-01T06:22:01.264Z"
      },
      {
        "duration": 10,
        "start_time": "2022-08-01T06:22:03.792Z"
      },
      {
        "duration": 116,
        "start_time": "2022-08-01T06:22:18.021Z"
      },
      {
        "duration": 11893,
        "start_time": "2022-08-01T06:22:29.762Z"
      },
      {
        "duration": 4,
        "start_time": "2022-08-01T06:22:46.288Z"
      },
      {
        "duration": 125128,
        "start_time": "2022-08-01T06:22:57.516Z"
      },
      {
        "duration": 130,
        "start_time": "2022-08-01T06:25:02.647Z"
      },
      {
        "duration": 1383,
        "start_time": "2022-08-01T06:25:07.761Z"
      },
      {
        "duration": 40507,
        "start_time": "2022-08-01T06:25:48.625Z"
      },
      {
        "duration": 12,
        "start_time": "2022-08-01T06:28:38.883Z"
      },
      {
        "duration": 7,
        "start_time": "2022-08-01T06:29:27.421Z"
      },
      {
        "duration": 14,
        "start_time": "2022-08-01T06:36:58.785Z"
      },
      {
        "duration": 13,
        "start_time": "2022-08-01T06:37:12.626Z"
      },
      {
        "duration": 37445,
        "start_time": "2022-08-01T06:40:03.531Z"
      },
      {
        "duration": 19470,
        "start_time": "2022-08-01T06:45:42.671Z"
      },
      {
        "duration": 18765,
        "start_time": "2022-08-01T06:46:59.164Z"
      },
      {
        "duration": 668,
        "start_time": "2022-08-01T06:47:52.099Z"
      },
      {
        "duration": 880,
        "start_time": "2022-08-01T06:48:02.934Z"
      },
      {
        "duration": 1328,
        "start_time": "2022-08-01T06:48:11.567Z"
      },
      {
        "duration": 1827,
        "start_time": "2022-08-01T06:48:20.577Z"
      },
      {
        "duration": 48,
        "start_time": "2022-08-01T06:50:27.960Z"
      },
      {
        "duration": 2013,
        "start_time": "2022-08-01T06:50:43.948Z"
      },
      {
        "duration": 18987,
        "start_time": "2022-08-01T06:51:07.582Z"
      },
      {
        "duration": 30498,
        "start_time": "2022-08-01T06:51:36.656Z"
      },
      {
        "duration": 7846,
        "start_time": "2022-08-01T06:53:21.772Z"
      },
      {
        "duration": 35452,
        "start_time": "2022-08-01T06:54:04.023Z"
      },
      {
        "duration": 832,
        "start_time": "2022-08-01T06:55:09.843Z"
      },
      {
        "duration": 1507,
        "start_time": "2022-08-01T06:55:30.973Z"
      },
      {
        "duration": 2156,
        "start_time": "2022-08-01T06:56:02.038Z"
      },
      {
        "duration": 4585,
        "start_time": "2022-08-01T06:56:35.877Z"
      },
      {
        "duration": 7432,
        "start_time": "2022-08-01T06:56:57.214Z"
      },
      {
        "duration": 34984,
        "start_time": "2022-08-01T06:57:19.527Z"
      },
      {
        "duration": 7359,
        "start_time": "2022-08-01T06:58:36.350Z"
      },
      {
        "duration": 7502,
        "start_time": "2022-08-01T07:16:59.009Z"
      },
      {
        "duration": 7413,
        "start_time": "2022-08-01T07:17:15.949Z"
      },
      {
        "duration": 5337,
        "start_time": "2022-08-01T07:18:08.346Z"
      },
      {
        "duration": 5828,
        "start_time": "2022-08-01T07:18:20.429Z"
      },
      {
        "duration": 3,
        "start_time": "2022-08-01T07:20:01.097Z"
      },
      {
        "duration": 437928,
        "start_time": "2022-08-01T07:22:07.802Z"
      },
      {
        "duration": 68,
        "start_time": "2022-08-01T07:43:04.551Z"
      },
      {
        "duration": 15,
        "start_time": "2022-08-01T07:43:13.847Z"
      },
      {
        "duration": 441070,
        "start_time": "2022-08-01T07:44:00.661Z"
      },
      {
        "duration": 4,
        "start_time": "2022-08-01T07:52:41.371Z"
      },
      {
        "duration": 75711,
        "start_time": "2022-08-01T07:53:20.764Z"
      },
      {
        "duration": 326495,
        "start_time": "2022-08-01T07:56:03.408Z"
      },
      {
        "duration": 5,
        "start_time": "2022-08-01T08:04:14.090Z"
      },
      {
        "duration": 26313,
        "start_time": "2022-08-01T08:05:03.098Z"
      },
      {
        "duration": 37269,
        "start_time": "2022-08-01T08:06:56.458Z"
      },
      {
        "duration": 442812,
        "start_time": "2022-08-01T08:08:38.737Z"
      },
      {
        "duration": 4,
        "start_time": "2022-08-01T08:18:09.949Z"
      },
      {
        "duration": 1684,
        "start_time": "2022-08-01T08:22:34.205Z"
      },
      {
        "duration": 36389,
        "start_time": "2022-08-01T08:22:43.853Z"
      },
      {
        "duration": 435071,
        "start_time": "2022-08-01T08:25:09.448Z"
      },
      {
        "duration": 5,
        "start_time": "2022-08-01T08:34:20.289Z"
      },
      {
        "duration": 10,
        "start_time": "2022-08-01T08:36:20.183Z"
      },
      {
        "duration": 1334162,
        "start_time": "2022-08-01T08:36:41.572Z"
      },
      {
        "duration": 5,
        "start_time": "2022-08-01T08:59:36.683Z"
      },
      {
        "duration": 5012368,
        "start_time": "2022-08-01T08:59:53.312Z"
      },
      {
        "duration": 1116256,
        "start_time": "2022-08-01T10:37:03.164Z"
      },
      {
        "duration": 8,
        "start_time": "2022-08-01T10:55:39.422Z"
      },
      {
        "duration": 57,
        "start_time": "2022-08-05T16:24:20.059Z"
      },
      {
        "duration": 43,
        "start_time": "2022-08-05T16:24:32.925Z"
      },
      {
        "duration": 2095,
        "start_time": "2022-08-05T16:24:49.159Z"
      },
      {
        "duration": 540,
        "start_time": "2022-08-05T16:24:51.256Z"
      },
      {
        "duration": 2342,
        "start_time": "2022-08-05T16:24:51.797Z"
      },
      {
        "duration": 10,
        "start_time": "2022-08-05T16:24:54.140Z"
      },
      {
        "duration": 29,
        "start_time": "2022-08-05T16:24:54.152Z"
      },
      {
        "duration": 180,
        "start_time": "2022-08-05T16:24:54.182Z"
      },
      {
        "duration": 10,
        "start_time": "2022-08-05T16:24:54.364Z"
      },
      {
        "duration": 106,
        "start_time": "2022-08-05T16:24:54.376Z"
      },
      {
        "duration": 5,
        "start_time": "2022-08-05T16:24:54.484Z"
      },
      {
        "duration": 5,
        "start_time": "2022-08-05T16:24:54.491Z"
      },
      {
        "duration": 6,
        "start_time": "2022-08-05T16:24:54.497Z"
      },
      {
        "duration": 6,
        "start_time": "2022-08-05T16:24:54.505Z"
      },
      {
        "duration": 83960,
        "start_time": "2022-08-05T16:24:54.512Z"
      },
      {
        "duration": 35,
        "start_time": "2022-08-05T16:26:18.474Z"
      },
      {
        "duration": 136,
        "start_time": "2022-08-05T16:26:18.511Z"
      },
      {
        "duration": 0,
        "start_time": "2022-08-05T16:26:18.649Z"
      },
      {
        "duration": 0,
        "start_time": "2022-08-05T16:26:18.651Z"
      },
      {
        "duration": 0,
        "start_time": "2022-08-05T16:26:18.652Z"
      },
      {
        "duration": 0,
        "start_time": "2022-08-05T16:26:18.653Z"
      },
      {
        "duration": 0,
        "start_time": "2022-08-05T16:26:18.654Z"
      },
      {
        "duration": 0,
        "start_time": "2022-08-05T16:26:18.655Z"
      },
      {
        "duration": 0,
        "start_time": "2022-08-05T16:26:18.656Z"
      },
      {
        "duration": 0,
        "start_time": "2022-08-05T16:26:18.657Z"
      },
      {
        "duration": 0,
        "start_time": "2022-08-05T16:26:18.658Z"
      },
      {
        "duration": 0,
        "start_time": "2022-08-05T16:26:18.659Z"
      },
      {
        "duration": 0,
        "start_time": "2022-08-05T16:26:18.660Z"
      },
      {
        "duration": 0,
        "start_time": "2022-08-05T16:26:18.661Z"
      },
      {
        "duration": 0,
        "start_time": "2022-08-05T16:26:18.662Z"
      },
      {
        "duration": 0,
        "start_time": "2022-08-05T16:26:18.663Z"
      },
      {
        "duration": 0,
        "start_time": "2022-08-05T16:26:18.664Z"
      },
      {
        "duration": 0,
        "start_time": "2022-08-05T16:26:18.665Z"
      },
      {
        "duration": 0,
        "start_time": "2022-08-05T16:26:18.666Z"
      },
      {
        "duration": 0,
        "start_time": "2022-08-05T16:26:18.667Z"
      },
      {
        "duration": 0,
        "start_time": "2022-08-05T16:26:18.668Z"
      },
      {
        "duration": 0,
        "start_time": "2022-08-05T16:26:18.669Z"
      },
      {
        "duration": 0,
        "start_time": "2022-08-05T16:26:18.670Z"
      },
      {
        "duration": 0,
        "start_time": "2022-08-05T16:26:18.671Z"
      },
      {
        "duration": 0,
        "start_time": "2022-08-05T16:26:18.672Z"
      },
      {
        "duration": 0,
        "start_time": "2022-08-05T16:26:18.673Z"
      },
      {
        "duration": 103,
        "start_time": "2022-08-05T16:30:47.446Z"
      },
      {
        "duration": 90,
        "start_time": "2022-08-05T16:31:03.074Z"
      },
      {
        "duration": 34,
        "start_time": "2022-08-05T16:31:14.904Z"
      },
      {
        "duration": 79,
        "start_time": "2022-08-06T09:05:14.188Z"
      },
      {
        "duration": 1566,
        "start_time": "2022-08-06T09:05:48.905Z"
      },
      {
        "duration": 502,
        "start_time": "2022-08-06T09:05:50.473Z"
      },
      {
        "duration": 2924,
        "start_time": "2022-08-06T09:05:50.976Z"
      },
      {
        "duration": 8,
        "start_time": "2022-08-06T09:05:53.902Z"
      },
      {
        "duration": 37,
        "start_time": "2022-08-06T09:05:53.912Z"
      },
      {
        "duration": 140,
        "start_time": "2022-08-06T09:05:53.950Z"
      },
      {
        "duration": 10,
        "start_time": "2022-08-06T09:05:54.092Z"
      },
      {
        "duration": 95,
        "start_time": "2022-08-06T09:05:54.103Z"
      },
      {
        "duration": 5,
        "start_time": "2022-08-06T09:05:54.200Z"
      },
      {
        "duration": 3,
        "start_time": "2022-08-06T09:05:54.207Z"
      },
      {
        "duration": 11,
        "start_time": "2022-08-06T09:05:54.211Z"
      },
      {
        "duration": 18,
        "start_time": "2022-08-06T09:05:54.223Z"
      },
      {
        "duration": 74779,
        "start_time": "2022-08-06T09:05:54.243Z"
      },
      {
        "duration": 46,
        "start_time": "2022-08-06T09:07:09.023Z"
      },
      {
        "duration": 33,
        "start_time": "2022-08-06T09:07:09.070Z"
      },
      {
        "duration": 5,
        "start_time": "2022-08-06T09:07:09.104Z"
      },
      {
        "duration": 996,
        "start_time": "2022-08-06T09:07:09.111Z"
      },
      {
        "duration": 0,
        "start_time": "2022-08-06T09:07:10.109Z"
      },
      {
        "duration": 0,
        "start_time": "2022-08-06T09:07:10.110Z"
      },
      {
        "duration": 0,
        "start_time": "2022-08-06T09:07:10.112Z"
      },
      {
        "duration": 0,
        "start_time": "2022-08-06T09:07:10.113Z"
      },
      {
        "duration": 0,
        "start_time": "2022-08-06T09:07:10.114Z"
      },
      {
        "duration": 0,
        "start_time": "2022-08-06T09:07:10.115Z"
      },
      {
        "duration": 0,
        "start_time": "2022-08-06T09:07:10.116Z"
      },
      {
        "duration": 0,
        "start_time": "2022-08-06T09:07:10.117Z"
      },
      {
        "duration": 0,
        "start_time": "2022-08-06T09:07:10.118Z"
      },
      {
        "duration": 0,
        "start_time": "2022-08-06T09:07:10.119Z"
      },
      {
        "duration": 0,
        "start_time": "2022-08-06T09:07:10.120Z"
      },
      {
        "duration": 0,
        "start_time": "2022-08-06T09:07:10.121Z"
      },
      {
        "duration": 0,
        "start_time": "2022-08-06T09:07:10.122Z"
      },
      {
        "duration": 0,
        "start_time": "2022-08-06T09:07:10.122Z"
      },
      {
        "duration": 0,
        "start_time": "2022-08-06T09:07:10.123Z"
      },
      {
        "duration": 0,
        "start_time": "2022-08-06T09:07:10.124Z"
      },
      {
        "duration": 0,
        "start_time": "2022-08-06T09:07:10.125Z"
      },
      {
        "duration": 0,
        "start_time": "2022-08-06T09:07:10.126Z"
      },
      {
        "duration": 0,
        "start_time": "2022-08-06T09:07:10.127Z"
      },
      {
        "duration": 0,
        "start_time": "2022-08-06T09:07:10.128Z"
      },
      {
        "duration": 0,
        "start_time": "2022-08-06T09:07:10.129Z"
      },
      {
        "duration": 0,
        "start_time": "2022-08-06T09:07:10.130Z"
      },
      {
        "duration": 864,
        "start_time": "2022-08-06T09:08:10.946Z"
      },
      {
        "duration": 36,
        "start_time": "2022-08-06T09:08:54.368Z"
      },
      {
        "duration": 4,
        "start_time": "2022-08-06T09:08:57.964Z"
      },
      {
        "duration": 0,
        "start_time": "2022-08-06T09:09:08.553Z"
      },
      {
        "duration": 27,
        "start_time": "2022-08-06T09:10:02.149Z"
      },
      {
        "duration": 1472,
        "start_time": "2022-08-06T09:10:45.071Z"
      },
      {
        "duration": 310,
        "start_time": "2022-08-06T09:10:46.544Z"
      },
      {
        "duration": 733,
        "start_time": "2022-08-06T09:10:46.857Z"
      },
      {
        "duration": 9,
        "start_time": "2022-08-06T09:10:47.591Z"
      },
      {
        "duration": 28,
        "start_time": "2022-08-06T09:10:47.602Z"
      },
      {
        "duration": 168,
        "start_time": "2022-08-06T09:10:47.632Z"
      },
      {
        "duration": 11,
        "start_time": "2022-08-06T09:10:47.801Z"
      },
      {
        "duration": 110,
        "start_time": "2022-08-06T09:10:47.813Z"
      },
      {
        "duration": 5,
        "start_time": "2022-08-06T09:10:47.925Z"
      },
      {
        "duration": 4,
        "start_time": "2022-08-06T09:10:47.931Z"
      },
      {
        "duration": 5,
        "start_time": "2022-08-06T09:10:47.936Z"
      },
      {
        "duration": 28,
        "start_time": "2022-08-06T09:10:47.942Z"
      },
      {
        "duration": 78585,
        "start_time": "2022-08-06T09:10:47.972Z"
      },
      {
        "duration": 32,
        "start_time": "2022-08-06T09:12:06.560Z"
      },
      {
        "duration": 35,
        "start_time": "2022-08-06T09:12:06.593Z"
      },
      {
        "duration": 5,
        "start_time": "2022-08-06T09:12:06.629Z"
      },
      {
        "duration": 7791,
        "start_time": "2022-08-06T09:12:06.654Z"
      },
      {
        "duration": 0,
        "start_time": "2022-08-06T09:12:14.447Z"
      },
      {
        "duration": 0,
        "start_time": "2022-08-06T09:12:14.448Z"
      },
      {
        "duration": 0,
        "start_time": "2022-08-06T09:12:14.449Z"
      },
      {
        "duration": 0,
        "start_time": "2022-08-06T09:12:14.450Z"
      },
      {
        "duration": 0,
        "start_time": "2022-08-06T09:12:14.451Z"
      },
      {
        "duration": 0,
        "start_time": "2022-08-06T09:12:14.452Z"
      },
      {
        "duration": 0,
        "start_time": "2022-08-06T09:12:14.453Z"
      },
      {
        "duration": 0,
        "start_time": "2022-08-06T09:12:14.454Z"
      },
      {
        "duration": 0,
        "start_time": "2022-08-06T09:12:14.455Z"
      },
      {
        "duration": 0,
        "start_time": "2022-08-06T09:12:14.455Z"
      },
      {
        "duration": 0,
        "start_time": "2022-08-06T09:12:14.456Z"
      },
      {
        "duration": 0,
        "start_time": "2022-08-06T09:12:14.457Z"
      },
      {
        "duration": 0,
        "start_time": "2022-08-06T09:12:14.459Z"
      },
      {
        "duration": 0,
        "start_time": "2022-08-06T09:12:14.459Z"
      },
      {
        "duration": 0,
        "start_time": "2022-08-06T09:12:14.460Z"
      },
      {
        "duration": 0,
        "start_time": "2022-08-06T09:12:14.461Z"
      },
      {
        "duration": 0,
        "start_time": "2022-08-06T09:12:14.462Z"
      },
      {
        "duration": 0,
        "start_time": "2022-08-06T09:12:14.463Z"
      },
      {
        "duration": 0,
        "start_time": "2022-08-06T09:12:14.464Z"
      },
      {
        "duration": 0,
        "start_time": "2022-08-06T09:12:14.465Z"
      },
      {
        "duration": 0,
        "start_time": "2022-08-06T09:12:14.466Z"
      },
      {
        "duration": 0,
        "start_time": "2022-08-06T09:12:14.467Z"
      },
      {
        "duration": 40,
        "start_time": "2022-08-06T09:34:28.140Z"
      },
      {
        "duration": 15,
        "start_time": "2022-08-06T09:34:30.801Z"
      },
      {
        "duration": 1019,
        "start_time": "2022-08-06T09:34:35.697Z"
      },
      {
        "duration": 7592,
        "start_time": "2022-08-06T09:36:58.046Z"
      },
      {
        "duration": 10,
        "start_time": "2022-08-06T09:37:23.743Z"
      },
      {
        "duration": 4,
        "start_time": "2022-08-06T09:37:29.996Z"
      },
      {
        "duration": 3,
        "start_time": "2022-08-06T09:37:46.452Z"
      },
      {
        "duration": 17,
        "start_time": "2022-08-06T09:38:46.680Z"
      },
      {
        "duration": 34,
        "start_time": "2022-08-06T09:40:36.984Z"
      },
      {
        "duration": 21,
        "start_time": "2022-08-06T09:40:39.769Z"
      },
      {
        "duration": 7074,
        "start_time": "2022-08-06T09:40:41.776Z"
      },
      {
        "duration": 3,
        "start_time": "2022-08-06T09:40:48.853Z"
      },
      {
        "duration": 13,
        "start_time": "2022-08-06T09:40:53.449Z"
      },
      {
        "duration": 30,
        "start_time": "2022-08-06T09:42:54.881Z"
      },
      {
        "duration": 3,
        "start_time": "2022-08-06T09:43:21.959Z"
      },
      {
        "duration": 32,
        "start_time": "2022-08-06T09:43:32.981Z"
      },
      {
        "duration": 1436,
        "start_time": "2022-08-06T09:43:40.556Z"
      },
      {
        "duration": 232,
        "start_time": "2022-08-06T09:43:41.993Z"
      },
      {
        "duration": 654,
        "start_time": "2022-08-06T09:43:42.227Z"
      },
      {
        "duration": 9,
        "start_time": "2022-08-06T09:43:42.883Z"
      },
      {
        "duration": 29,
        "start_time": "2022-08-06T09:43:42.895Z"
      },
      {
        "duration": 174,
        "start_time": "2022-08-06T09:43:42.925Z"
      },
      {
        "duration": 12,
        "start_time": "2022-08-06T09:43:43.101Z"
      },
      {
        "duration": 114,
        "start_time": "2022-08-06T09:43:43.115Z"
      },
      {
        "duration": 6,
        "start_time": "2022-08-06T09:43:43.231Z"
      },
      {
        "duration": 3,
        "start_time": "2022-08-06T09:43:43.238Z"
      },
      {
        "duration": 16,
        "start_time": "2022-08-06T09:43:43.242Z"
      },
      {
        "duration": 6,
        "start_time": "2022-08-06T09:43:43.259Z"
      },
      {
        "duration": 76251,
        "start_time": "2022-08-06T09:43:43.266Z"
      },
      {
        "duration": 43,
        "start_time": "2022-08-06T09:44:59.520Z"
      },
      {
        "duration": 33,
        "start_time": "2022-08-06T09:44:59.564Z"
      },
      {
        "duration": 6,
        "start_time": "2022-08-06T09:44:59.599Z"
      },
      {
        "duration": 6995,
        "start_time": "2022-08-06T09:44:59.606Z"
      },
      {
        "duration": 3,
        "start_time": "2022-08-06T09:45:06.603Z"
      },
      {
        "duration": 129,
        "start_time": "2022-08-06T09:45:06.608Z"
      },
      {
        "duration": 0,
        "start_time": "2022-08-06T09:45:06.739Z"
      },
      {
        "duration": 0,
        "start_time": "2022-08-06T09:45:06.741Z"
      },
      {
        "duration": 0,
        "start_time": "2022-08-06T09:45:06.742Z"
      },
      {
        "duration": 0,
        "start_time": "2022-08-06T09:45:06.743Z"
      },
      {
        "duration": 0,
        "start_time": "2022-08-06T09:45:06.744Z"
      },
      {
        "duration": 0,
        "start_time": "2022-08-06T09:45:06.755Z"
      },
      {
        "duration": 0,
        "start_time": "2022-08-06T09:45:06.757Z"
      },
      {
        "duration": 0,
        "start_time": "2022-08-06T09:45:06.759Z"
      },
      {
        "duration": 0,
        "start_time": "2022-08-06T09:45:06.760Z"
      },
      {
        "duration": 0,
        "start_time": "2022-08-06T09:45:06.761Z"
      },
      {
        "duration": 0,
        "start_time": "2022-08-06T09:45:06.762Z"
      },
      {
        "duration": 0,
        "start_time": "2022-08-06T09:45:06.764Z"
      },
      {
        "duration": 0,
        "start_time": "2022-08-06T09:45:06.765Z"
      },
      {
        "duration": 0,
        "start_time": "2022-08-06T09:45:06.767Z"
      },
      {
        "duration": 0,
        "start_time": "2022-08-06T09:45:06.768Z"
      },
      {
        "duration": 1,
        "start_time": "2022-08-06T09:45:06.769Z"
      },
      {
        "duration": 0,
        "start_time": "2022-08-06T09:45:06.771Z"
      },
      {
        "duration": 0,
        "start_time": "2022-08-06T09:45:06.772Z"
      },
      {
        "duration": 0,
        "start_time": "2022-08-06T09:45:06.773Z"
      },
      {
        "duration": 0,
        "start_time": "2022-08-06T09:45:06.774Z"
      },
      {
        "duration": 1444,
        "start_time": "2022-08-06T09:46:44.170Z"
      },
      {
        "duration": 252,
        "start_time": "2022-08-06T09:46:45.615Z"
      },
      {
        "duration": 660,
        "start_time": "2022-08-06T09:46:45.868Z"
      },
      {
        "duration": 9,
        "start_time": "2022-08-06T09:46:46.530Z"
      },
      {
        "duration": 36,
        "start_time": "2022-08-06T09:46:46.540Z"
      },
      {
        "duration": 154,
        "start_time": "2022-08-06T09:46:46.578Z"
      },
      {
        "duration": 12,
        "start_time": "2022-08-06T09:46:46.733Z"
      },
      {
        "duration": 108,
        "start_time": "2022-08-06T09:46:46.755Z"
      },
      {
        "duration": 6,
        "start_time": "2022-08-06T09:46:46.865Z"
      },
      {
        "duration": 4,
        "start_time": "2022-08-06T09:46:46.873Z"
      },
      {
        "duration": 6,
        "start_time": "2022-08-06T09:46:46.878Z"
      },
      {
        "duration": 5,
        "start_time": "2022-08-06T09:46:46.885Z"
      },
      {
        "duration": 78830,
        "start_time": "2022-08-06T09:46:46.891Z"
      },
      {
        "duration": 49,
        "start_time": "2022-08-06T09:48:05.723Z"
      },
      {
        "duration": 31,
        "start_time": "2022-08-06T09:48:05.774Z"
      },
      {
        "duration": 5,
        "start_time": "2022-08-06T09:48:05.806Z"
      },
      {
        "duration": 7510,
        "start_time": "2022-08-06T09:48:05.812Z"
      },
      {
        "duration": 3,
        "start_time": "2022-08-06T09:48:13.324Z"
      },
      {
        "duration": 142,
        "start_time": "2022-08-06T09:48:13.328Z"
      },
      {
        "duration": 0,
        "start_time": "2022-08-06T09:48:13.472Z"
      },
      {
        "duration": 0,
        "start_time": "2022-08-06T09:48:13.473Z"
      },
      {
        "duration": 0,
        "start_time": "2022-08-06T09:48:13.474Z"
      },
      {
        "duration": 0,
        "start_time": "2022-08-06T09:48:13.475Z"
      },
      {
        "duration": 0,
        "start_time": "2022-08-06T09:48:13.476Z"
      },
      {
        "duration": 0,
        "start_time": "2022-08-06T09:48:13.477Z"
      },
      {
        "duration": 0,
        "start_time": "2022-08-06T09:48:13.477Z"
      },
      {
        "duration": 0,
        "start_time": "2022-08-06T09:48:13.478Z"
      },
      {
        "duration": 0,
        "start_time": "2022-08-06T09:48:13.479Z"
      },
      {
        "duration": 0,
        "start_time": "2022-08-06T09:48:13.480Z"
      },
      {
        "duration": 0,
        "start_time": "2022-08-06T09:48:13.481Z"
      },
      {
        "duration": 0,
        "start_time": "2022-08-06T09:48:13.481Z"
      },
      {
        "duration": 0,
        "start_time": "2022-08-06T09:48:13.482Z"
      },
      {
        "duration": 0,
        "start_time": "2022-08-06T09:48:13.483Z"
      },
      {
        "duration": 0,
        "start_time": "2022-08-06T09:48:13.484Z"
      },
      {
        "duration": 0,
        "start_time": "2022-08-06T09:48:13.485Z"
      },
      {
        "duration": 0,
        "start_time": "2022-08-06T09:48:13.486Z"
      },
      {
        "duration": 0,
        "start_time": "2022-08-06T09:48:13.487Z"
      },
      {
        "duration": 0,
        "start_time": "2022-08-06T09:48:13.488Z"
      },
      {
        "duration": 1,
        "start_time": "2022-08-06T09:48:13.488Z"
      },
      {
        "duration": 1537,
        "start_time": "2022-08-06T09:53:17.660Z"
      },
      {
        "duration": 319,
        "start_time": "2022-08-06T09:53:19.198Z"
      },
      {
        "duration": 703,
        "start_time": "2022-08-06T09:53:19.518Z"
      },
      {
        "duration": 8,
        "start_time": "2022-08-06T09:53:20.223Z"
      },
      {
        "duration": 40,
        "start_time": "2022-08-06T09:53:20.233Z"
      },
      {
        "duration": 189,
        "start_time": "2022-08-06T09:53:20.275Z"
      },
      {
        "duration": 12,
        "start_time": "2022-08-06T09:53:20.470Z"
      },
      {
        "duration": 107,
        "start_time": "2022-08-06T09:53:20.483Z"
      },
      {
        "duration": 5,
        "start_time": "2022-08-06T09:53:20.591Z"
      },
      {
        "duration": 10,
        "start_time": "2022-08-06T09:53:20.597Z"
      },
      {
        "duration": 7,
        "start_time": "2022-08-06T09:53:20.608Z"
      },
      {
        "duration": 8,
        "start_time": "2022-08-06T09:53:20.616Z"
      },
      {
        "duration": 81989,
        "start_time": "2022-08-06T09:53:20.625Z"
      },
      {
        "duration": 4,
        "start_time": "2022-08-06T09:54:42.617Z"
      },
      {
        "duration": 38,
        "start_time": "2022-08-06T09:54:42.622Z"
      },
      {
        "duration": 5,
        "start_time": "2022-08-06T09:54:42.662Z"
      },
      {
        "duration": 7328,
        "start_time": "2022-08-06T09:54:42.668Z"
      },
      {
        "duration": 3,
        "start_time": "2022-08-06T09:54:49.997Z"
      },
      {
        "duration": 122,
        "start_time": "2022-08-06T09:54:50.002Z"
      },
      {
        "duration": 0,
        "start_time": "2022-08-06T09:54:50.125Z"
      },
      {
        "duration": 0,
        "start_time": "2022-08-06T09:54:50.126Z"
      },
      {
        "duration": 0,
        "start_time": "2022-08-06T09:54:50.127Z"
      },
      {
        "duration": 0,
        "start_time": "2022-08-06T09:54:50.129Z"
      },
      {
        "duration": 0,
        "start_time": "2022-08-06T09:54:50.129Z"
      },
      {
        "duration": 0,
        "start_time": "2022-08-06T09:54:50.130Z"
      },
      {
        "duration": 0,
        "start_time": "2022-08-06T09:54:50.131Z"
      },
      {
        "duration": 0,
        "start_time": "2022-08-06T09:54:50.132Z"
      },
      {
        "duration": 0,
        "start_time": "2022-08-06T09:54:50.133Z"
      },
      {
        "duration": 0,
        "start_time": "2022-08-06T09:54:50.134Z"
      },
      {
        "duration": 0,
        "start_time": "2022-08-06T09:54:50.136Z"
      },
      {
        "duration": 0,
        "start_time": "2022-08-06T09:54:50.137Z"
      },
      {
        "duration": 0,
        "start_time": "2022-08-06T09:54:50.155Z"
      },
      {
        "duration": 0,
        "start_time": "2022-08-06T09:54:50.156Z"
      },
      {
        "duration": 0,
        "start_time": "2022-08-06T09:54:50.158Z"
      },
      {
        "duration": 0,
        "start_time": "2022-08-06T09:54:50.159Z"
      },
      {
        "duration": 0,
        "start_time": "2022-08-06T09:54:50.160Z"
      },
      {
        "duration": 0,
        "start_time": "2022-08-06T09:54:50.161Z"
      },
      {
        "duration": 0,
        "start_time": "2022-08-06T09:54:50.162Z"
      },
      {
        "duration": 0,
        "start_time": "2022-08-06T09:54:50.164Z"
      },
      {
        "duration": 1539,
        "start_time": "2022-08-06T10:23:53.648Z"
      },
      {
        "duration": 312,
        "start_time": "2022-08-06T10:23:55.189Z"
      },
      {
        "duration": 675,
        "start_time": "2022-08-06T10:23:55.502Z"
      },
      {
        "duration": 10,
        "start_time": "2022-08-06T10:23:56.179Z"
      },
      {
        "duration": 27,
        "start_time": "2022-08-06T10:23:56.190Z"
      },
      {
        "duration": 169,
        "start_time": "2022-08-06T10:23:56.218Z"
      },
      {
        "duration": 11,
        "start_time": "2022-08-06T10:23:56.389Z"
      },
      {
        "duration": 110,
        "start_time": "2022-08-06T10:23:56.401Z"
      },
      {
        "duration": 7,
        "start_time": "2022-08-06T10:23:56.512Z"
      },
      {
        "duration": 6,
        "start_time": "2022-08-06T10:23:56.521Z"
      },
      {
        "duration": 5,
        "start_time": "2022-08-06T10:23:56.528Z"
      },
      {
        "duration": 5,
        "start_time": "2022-08-06T10:23:56.534Z"
      },
      {
        "duration": 83608,
        "start_time": "2022-08-06T10:23:56.556Z"
      },
      {
        "duration": 3,
        "start_time": "2022-08-06T10:25:20.180Z"
      },
      {
        "duration": 32,
        "start_time": "2022-08-06T10:25:20.184Z"
      },
      {
        "duration": 4,
        "start_time": "2022-08-06T10:25:20.218Z"
      },
      {
        "duration": 1609,
        "start_time": "2022-08-06T10:27:40.826Z"
      },
      {
        "duration": 352,
        "start_time": "2022-08-06T10:27:42.438Z"
      },
      {
        "duration": 3705,
        "start_time": "2022-08-06T10:27:42.791Z"
      },
      {
        "duration": 11,
        "start_time": "2022-08-06T10:27:46.497Z"
      },
      {
        "duration": 29,
        "start_time": "2022-08-06T10:27:46.510Z"
      },
      {
        "duration": 175,
        "start_time": "2022-08-06T10:27:46.541Z"
      },
      {
        "duration": 12,
        "start_time": "2022-08-06T10:27:46.718Z"
      },
      {
        "duration": 170,
        "start_time": "2022-08-06T10:27:46.732Z"
      },
      {
        "duration": 7,
        "start_time": "2022-08-06T10:27:46.904Z"
      },
      {
        "duration": 10,
        "start_time": "2022-08-06T10:27:46.913Z"
      },
      {
        "duration": 7,
        "start_time": "2022-08-06T10:27:46.924Z"
      },
      {
        "duration": 5,
        "start_time": "2022-08-06T10:27:46.933Z"
      },
      {
        "duration": 91637,
        "start_time": "2022-08-06T10:27:46.939Z"
      },
      {
        "duration": 8,
        "start_time": "2022-08-06T10:29:18.582Z"
      },
      {
        "duration": 30,
        "start_time": "2022-08-06T10:29:18.592Z"
      },
      {
        "duration": 6,
        "start_time": "2022-08-06T10:29:18.624Z"
      },
      {
        "duration": 1636,
        "start_time": "2022-08-06T10:29:55.310Z"
      },
      {
        "duration": 344,
        "start_time": "2022-08-06T10:29:56.947Z"
      },
      {
        "duration": 3720,
        "start_time": "2022-08-06T10:29:57.293Z"
      },
      {
        "duration": 11,
        "start_time": "2022-08-06T10:30:01.015Z"
      },
      {
        "duration": 64,
        "start_time": "2022-08-06T10:30:01.028Z"
      },
      {
        "duration": 191,
        "start_time": "2022-08-06T10:30:01.093Z"
      },
      {
        "duration": 16,
        "start_time": "2022-08-06T10:30:01.286Z"
      },
      {
        "duration": 119,
        "start_time": "2022-08-06T10:30:01.304Z"
      },
      {
        "duration": 8,
        "start_time": "2022-08-06T10:30:01.424Z"
      },
      {
        "duration": 37,
        "start_time": "2022-08-06T10:30:01.435Z"
      },
      {
        "duration": 21,
        "start_time": "2022-08-06T10:30:01.474Z"
      },
      {
        "duration": 11,
        "start_time": "2022-08-06T10:30:01.498Z"
      },
      {
        "duration": 91161,
        "start_time": "2022-08-06T10:30:01.511Z"
      },
      {
        "duration": 4,
        "start_time": "2022-08-06T10:31:32.674Z"
      },
      {
        "duration": 29,
        "start_time": "2022-08-06T10:31:32.679Z"
      },
      {
        "duration": 5,
        "start_time": "2022-08-06T10:31:32.710Z"
      },
      {
        "duration": 1537,
        "start_time": "2022-08-06T10:33:04.366Z"
      },
      {
        "duration": 323,
        "start_time": "2022-08-06T10:33:05.905Z"
      },
      {
        "duration": 3446,
        "start_time": "2022-08-06T10:33:06.230Z"
      },
      {
        "duration": 10,
        "start_time": "2022-08-06T10:33:09.679Z"
      },
      {
        "duration": 28,
        "start_time": "2022-08-06T10:33:09.691Z"
      },
      {
        "duration": 153,
        "start_time": "2022-08-06T10:33:09.720Z"
      },
      {
        "duration": 12,
        "start_time": "2022-08-06T10:33:09.875Z"
      },
      {
        "duration": 110,
        "start_time": "2022-08-06T10:33:09.890Z"
      },
      {
        "duration": 5,
        "start_time": "2022-08-06T10:33:10.002Z"
      },
      {
        "duration": 5,
        "start_time": "2022-08-06T10:33:10.009Z"
      },
      {
        "duration": 6,
        "start_time": "2022-08-06T10:33:10.015Z"
      },
      {
        "duration": 5,
        "start_time": "2022-08-06T10:33:10.023Z"
      },
      {
        "duration": 82654,
        "start_time": "2022-08-06T10:33:10.029Z"
      },
      {
        "duration": 3,
        "start_time": "2022-08-06T10:34:32.687Z"
      },
      {
        "duration": 29,
        "start_time": "2022-08-06T10:34:32.691Z"
      },
      {
        "duration": 5,
        "start_time": "2022-08-06T10:34:32.722Z"
      },
      {
        "duration": 1861,
        "start_time": "2022-08-06T10:46:41.349Z"
      },
      {
        "duration": 294,
        "start_time": "2022-08-06T10:46:43.212Z"
      },
      {
        "duration": 2927,
        "start_time": "2022-08-06T10:46:43.507Z"
      },
      {
        "duration": 10,
        "start_time": "2022-08-06T10:46:46.436Z"
      },
      {
        "duration": 26,
        "start_time": "2022-08-06T10:46:46.448Z"
      },
      {
        "duration": 146,
        "start_time": "2022-08-06T10:46:46.476Z"
      },
      {
        "duration": 12,
        "start_time": "2022-08-06T10:46:46.623Z"
      },
      {
        "duration": 102,
        "start_time": "2022-08-06T10:46:46.636Z"
      },
      {
        "duration": 16,
        "start_time": "2022-08-06T10:46:46.740Z"
      },
      {
        "duration": 3,
        "start_time": "2022-08-06T10:46:46.758Z"
      },
      {
        "duration": 9,
        "start_time": "2022-08-06T10:46:46.763Z"
      },
      {
        "duration": 5,
        "start_time": "2022-08-06T10:46:46.773Z"
      },
      {
        "duration": 75034,
        "start_time": "2022-08-06T10:46:46.780Z"
      },
      {
        "duration": 3,
        "start_time": "2022-08-06T10:48:01.818Z"
      },
      {
        "duration": 43,
        "start_time": "2022-08-06T10:48:01.822Z"
      },
      {
        "duration": 7,
        "start_time": "2022-08-06T10:48:01.866Z"
      },
      {
        "duration": 1606,
        "start_time": "2022-08-06T10:53:30.494Z"
      },
      {
        "duration": 214,
        "start_time": "2022-08-06T10:53:32.102Z"
      },
      {
        "duration": 2901,
        "start_time": "2022-08-06T10:53:32.317Z"
      },
      {
        "duration": 8,
        "start_time": "2022-08-06T10:53:35.220Z"
      },
      {
        "duration": 32,
        "start_time": "2022-08-06T10:53:35.230Z"
      },
      {
        "duration": 161,
        "start_time": "2022-08-06T10:53:35.263Z"
      },
      {
        "duration": 10,
        "start_time": "2022-08-06T10:53:35.426Z"
      },
      {
        "duration": 96,
        "start_time": "2022-08-06T10:53:35.437Z"
      },
      {
        "duration": 5,
        "start_time": "2022-08-06T10:53:35.535Z"
      },
      {
        "duration": 13,
        "start_time": "2022-08-06T10:53:35.542Z"
      },
      {
        "duration": 7,
        "start_time": "2022-08-06T10:53:35.556Z"
      },
      {
        "duration": 8,
        "start_time": "2022-08-06T10:53:35.564Z"
      },
      {
        "duration": 73828,
        "start_time": "2022-08-06T10:53:35.574Z"
      },
      {
        "duration": 3,
        "start_time": "2022-08-06T10:54:49.405Z"
      },
      {
        "duration": 33,
        "start_time": "2022-08-06T10:54:49.409Z"
      },
      {
        "duration": 5,
        "start_time": "2022-08-06T10:54:49.454Z"
      },
      {
        "duration": 1762,
        "start_time": "2022-08-06T10:55:40.882Z"
      },
      {
        "duration": 273,
        "start_time": "2022-08-06T10:55:42.646Z"
      },
      {
        "duration": 3215,
        "start_time": "2022-08-06T10:55:42.921Z"
      },
      {
        "duration": 8,
        "start_time": "2022-08-06T10:55:46.137Z"
      },
      {
        "duration": 48,
        "start_time": "2022-08-06T10:55:46.147Z"
      },
      {
        "duration": 139,
        "start_time": "2022-08-06T10:55:46.196Z"
      },
      {
        "duration": 11,
        "start_time": "2022-08-06T10:55:46.337Z"
      },
      {
        "duration": 84,
        "start_time": "2022-08-06T10:55:46.356Z"
      },
      {
        "duration": 4,
        "start_time": "2022-08-06T10:55:46.442Z"
      },
      {
        "duration": 13,
        "start_time": "2022-08-06T10:55:46.447Z"
      },
      {
        "duration": 11,
        "start_time": "2022-08-06T10:55:46.465Z"
      },
      {
        "duration": 5,
        "start_time": "2022-08-06T10:55:46.477Z"
      },
      {
        "duration": 79854,
        "start_time": "2022-08-06T10:55:46.484Z"
      },
      {
        "duration": 3,
        "start_time": "2022-08-06T10:57:06.342Z"
      },
      {
        "duration": 30,
        "start_time": "2022-08-06T10:57:06.355Z"
      },
      {
        "duration": 6,
        "start_time": "2022-08-06T10:57:06.386Z"
      },
      {
        "duration": 2123,
        "start_time": "2022-08-06T10:58:36.611Z"
      },
      {
        "duration": 336,
        "start_time": "2022-08-06T10:58:38.737Z"
      },
      {
        "duration": 3163,
        "start_time": "2022-08-06T10:58:39.074Z"
      },
      {
        "duration": 9,
        "start_time": "2022-08-06T10:58:42.240Z"
      },
      {
        "duration": 33,
        "start_time": "2022-08-06T10:58:42.250Z"
      },
      {
        "duration": 144,
        "start_time": "2022-08-06T10:58:42.284Z"
      },
      {
        "duration": 11,
        "start_time": "2022-08-06T10:58:42.429Z"
      },
      {
        "duration": 107,
        "start_time": "2022-08-06T10:58:42.441Z"
      },
      {
        "duration": 10,
        "start_time": "2022-08-06T10:58:42.549Z"
      },
      {
        "duration": 12,
        "start_time": "2022-08-06T10:58:42.563Z"
      },
      {
        "duration": 7,
        "start_time": "2022-08-06T10:58:42.576Z"
      },
      {
        "duration": 6,
        "start_time": "2022-08-06T10:58:42.584Z"
      },
      {
        "duration": 85238,
        "start_time": "2022-08-06T10:58:42.592Z"
      },
      {
        "duration": 3,
        "start_time": "2022-08-06T11:00:07.833Z"
      },
      {
        "duration": 42,
        "start_time": "2022-08-06T11:00:07.837Z"
      },
      {
        "duration": 6,
        "start_time": "2022-08-06T11:00:07.880Z"
      },
      {
        "duration": 41,
        "start_time": "2022-08-06T11:18:50.443Z"
      },
      {
        "duration": 1797,
        "start_time": "2022-08-06T11:19:17.919Z"
      },
      {
        "duration": 298,
        "start_time": "2022-08-06T11:19:19.718Z"
      },
      {
        "duration": 2927,
        "start_time": "2022-08-06T11:19:20.017Z"
      },
      {
        "duration": 9,
        "start_time": "2022-08-06T11:19:22.946Z"
      },
      {
        "duration": 27,
        "start_time": "2022-08-06T11:19:22.956Z"
      },
      {
        "duration": 162,
        "start_time": "2022-08-06T11:19:22.984Z"
      },
      {
        "duration": 15,
        "start_time": "2022-08-06T11:19:23.148Z"
      },
      {
        "duration": 95,
        "start_time": "2022-08-06T11:19:23.164Z"
      },
      {
        "duration": 5,
        "start_time": "2022-08-06T11:19:23.261Z"
      },
      {
        "duration": 12,
        "start_time": "2022-08-06T11:19:23.268Z"
      },
      {
        "duration": 4,
        "start_time": "2022-08-06T11:19:23.282Z"
      },
      {
        "duration": 4,
        "start_time": "2022-08-06T11:19:23.287Z"
      },
      {
        "duration": 74789,
        "start_time": "2022-08-06T11:19:23.293Z"
      },
      {
        "duration": 3,
        "start_time": "2022-08-06T11:20:38.085Z"
      },
      {
        "duration": 29,
        "start_time": "2022-08-06T11:20:38.090Z"
      },
      {
        "duration": 12,
        "start_time": "2022-08-06T11:20:38.121Z"
      },
      {
        "duration": 1981,
        "start_time": "2022-08-06T13:57:51.250Z"
      },
      {
        "duration": 508,
        "start_time": "2022-08-06T13:57:53.233Z"
      },
      {
        "duration": 3220,
        "start_time": "2022-08-06T13:57:53.743Z"
      },
      {
        "duration": 13,
        "start_time": "2022-08-06T13:57:56.965Z"
      },
      {
        "duration": 38,
        "start_time": "2022-08-06T13:57:56.981Z"
      },
      {
        "duration": 198,
        "start_time": "2022-08-06T13:57:57.021Z"
      },
      {
        "duration": 14,
        "start_time": "2022-08-06T13:57:57.221Z"
      },
      {
        "duration": 131,
        "start_time": "2022-08-06T13:57:57.237Z"
      },
      {
        "duration": 6,
        "start_time": "2022-08-06T13:57:57.370Z"
      },
      {
        "duration": 5,
        "start_time": "2022-08-06T13:57:57.378Z"
      },
      {
        "duration": 7,
        "start_time": "2022-08-06T13:57:57.385Z"
      },
      {
        "duration": 6,
        "start_time": "2022-08-06T13:57:57.394Z"
      },
      {
        "duration": 94605,
        "start_time": "2022-08-06T13:57:57.402Z"
      },
      {
        "duration": 3,
        "start_time": "2022-08-06T13:59:32.013Z"
      },
      {
        "duration": 68,
        "start_time": "2022-08-06T13:59:32.018Z"
      },
      {
        "duration": 7,
        "start_time": "2022-08-06T13:59:32.089Z"
      },
      {
        "duration": 80872,
        "start_time": "2022-08-06T14:18:40.388Z"
      },
      {
        "duration": 7,
        "start_time": "2022-08-06T14:20:01.262Z"
      },
      {
        "duration": 733,
        "start_time": "2022-08-06T14:20:05.872Z"
      },
      {
        "duration": 349,
        "start_time": "2022-08-06T14:22:58.681Z"
      },
      {
        "duration": 80884,
        "start_time": "2022-08-06T14:23:17.791Z"
      },
      {
        "duration": 164,
        "start_time": "2022-08-06T14:24:38.677Z"
      },
      {
        "duration": 3099,
        "start_time": "2022-08-06T14:24:38.843Z"
      },
      {
        "duration": 13,
        "start_time": "2022-08-06T14:24:41.944Z"
      },
      {
        "duration": 32,
        "start_time": "2022-08-06T14:24:41.959Z"
      },
      {
        "duration": 185,
        "start_time": "2022-08-06T14:24:41.992Z"
      },
      {
        "duration": 12,
        "start_time": "2022-08-06T14:24:42.179Z"
      },
      {
        "duration": 112,
        "start_time": "2022-08-06T14:24:42.192Z"
      },
      {
        "duration": 5,
        "start_time": "2022-08-06T14:24:42.306Z"
      },
      {
        "duration": 2,
        "start_time": "2022-08-06T14:24:42.314Z"
      },
      {
        "duration": 5,
        "start_time": "2022-08-06T14:24:42.318Z"
      },
      {
        "duration": 506,
        "start_time": "2022-08-06T14:24:42.325Z"
      },
      {
        "duration": 3,
        "start_time": "2022-08-06T14:24:42.833Z"
      },
      {
        "duration": 14,
        "start_time": "2022-08-06T14:24:42.838Z"
      },
      {
        "duration": 7,
        "start_time": "2022-08-06T14:24:42.854Z"
      },
      {
        "duration": 6,
        "start_time": "2022-08-06T14:24:42.863Z"
      },
      {
        "duration": 78922,
        "start_time": "2022-08-06T14:28:50.223Z"
      },
      {
        "duration": 244,
        "start_time": "2022-08-06T14:30:09.148Z"
      },
      {
        "duration": 798,
        "start_time": "2022-08-06T14:30:09.394Z"
      },
      {
        "duration": 12,
        "start_time": "2022-08-06T14:30:10.195Z"
      },
      {
        "duration": 36,
        "start_time": "2022-08-06T14:30:10.209Z"
      },
      {
        "duration": 210,
        "start_time": "2022-08-06T14:30:10.247Z"
      },
      {
        "duration": 20,
        "start_time": "2022-08-06T14:30:10.459Z"
      },
      {
        "duration": 122,
        "start_time": "2022-08-06T14:30:10.481Z"
      },
      {
        "duration": 7,
        "start_time": "2022-08-06T14:30:10.605Z"
      },
      {
        "duration": 11,
        "start_time": "2022-08-06T14:30:10.614Z"
      },
      {
        "duration": 13,
        "start_time": "2022-08-06T14:30:10.627Z"
      },
      {
        "duration": 532,
        "start_time": "2022-08-06T14:30:10.642Z"
      },
      {
        "duration": 2,
        "start_time": "2022-08-06T14:30:11.176Z"
      },
      {
        "duration": 12,
        "start_time": "2022-08-06T14:30:11.180Z"
      },
      {
        "duration": 21,
        "start_time": "2022-08-06T14:30:11.194Z"
      },
      {
        "duration": 23,
        "start_time": "2022-08-06T14:30:11.217Z"
      },
      {
        "duration": 1195099,
        "start_time": "2022-08-06T14:30:11.241Z"
      },
      {
        "duration": 55,
        "start_time": "2022-08-06T14:50:06.341Z"
      },
      {
        "duration": 5,
        "start_time": "2022-08-06T14:50:06.399Z"
      },
      {
        "duration": 443,
        "start_time": "2022-08-06T14:50:06.405Z"
      },
      {
        "duration": 0,
        "start_time": "2022-08-06T14:50:06.851Z"
      },
      {
        "duration": 0,
        "start_time": "2022-08-06T14:50:06.852Z"
      },
      {
        "duration": 0,
        "start_time": "2022-08-06T14:50:06.853Z"
      },
      {
        "duration": 0,
        "start_time": "2022-08-06T14:50:06.854Z"
      },
      {
        "duration": 0,
        "start_time": "2022-08-06T14:50:06.855Z"
      },
      {
        "duration": 0,
        "start_time": "2022-08-06T14:50:06.856Z"
      },
      {
        "duration": 0,
        "start_time": "2022-08-06T14:50:06.868Z"
      },
      {
        "duration": 0,
        "start_time": "2022-08-06T14:50:06.869Z"
      },
      {
        "duration": 0,
        "start_time": "2022-08-06T14:50:06.869Z"
      },
      {
        "duration": 0,
        "start_time": "2022-08-06T14:50:06.871Z"
      },
      {
        "duration": 0,
        "start_time": "2022-08-06T14:50:06.871Z"
      },
      {
        "duration": 0,
        "start_time": "2022-08-06T14:50:06.873Z"
      },
      {
        "duration": 0,
        "start_time": "2022-08-06T14:50:06.874Z"
      },
      {
        "duration": 0,
        "start_time": "2022-08-06T14:50:06.874Z"
      },
      {
        "duration": 0,
        "start_time": "2022-08-06T14:50:06.875Z"
      },
      {
        "duration": 0,
        "start_time": "2022-08-06T14:50:06.876Z"
      },
      {
        "duration": 0,
        "start_time": "2022-08-06T14:50:06.877Z"
      },
      {
        "duration": 0,
        "start_time": "2022-08-06T14:50:06.878Z"
      },
      {
        "duration": 0,
        "start_time": "2022-08-06T14:50:06.879Z"
      },
      {
        "duration": 0,
        "start_time": "2022-08-06T14:50:06.880Z"
      },
      {
        "duration": 0,
        "start_time": "2022-08-06T14:50:06.881Z"
      },
      {
        "duration": 0,
        "start_time": "2022-08-06T14:50:06.882Z"
      },
      {
        "duration": 0,
        "start_time": "2022-08-06T14:50:06.884Z"
      },
      {
        "duration": 0,
        "start_time": "2022-08-06T14:50:06.884Z"
      },
      {
        "duration": 0,
        "start_time": "2022-08-06T14:50:06.885Z"
      },
      {
        "duration": 2,
        "start_time": "2022-08-06T14:52:52.067Z"
      },
      {
        "duration": 8,
        "start_time": "2022-08-06T14:52:55.348Z"
      },
      {
        "duration": 4872,
        "start_time": "2022-08-06T14:53:00.185Z"
      },
      {
        "duration": 30,
        "start_time": "2022-08-06T14:53:43.311Z"
      },
      {
        "duration": 25,
        "start_time": "2022-08-06T14:54:25.639Z"
      },
      {
        "duration": 20,
        "start_time": "2022-08-06T14:55:47.462Z"
      },
      {
        "duration": 3,
        "start_time": "2022-08-06T14:56:41.204Z"
      },
      {
        "duration": 2466,
        "start_time": "2022-08-06T14:57:09.508Z"
      },
      {
        "duration": 25,
        "start_time": "2022-08-06T14:59:20.176Z"
      },
      {
        "duration": 84522,
        "start_time": "2022-08-06T14:59:44.288Z"
      },
      {
        "duration": 241,
        "start_time": "2022-08-06T15:01:08.812Z"
      },
      {
        "duration": 751,
        "start_time": "2022-08-06T15:01:09.055Z"
      },
      {
        "duration": 10,
        "start_time": "2022-08-06T15:01:09.809Z"
      },
      {
        "duration": 47,
        "start_time": "2022-08-06T15:01:09.821Z"
      },
      {
        "duration": 178,
        "start_time": "2022-08-06T15:01:09.870Z"
      },
      {
        "duration": 24,
        "start_time": "2022-08-06T15:01:10.050Z"
      },
      {
        "duration": 110,
        "start_time": "2022-08-06T15:01:10.076Z"
      },
      {
        "duration": 6,
        "start_time": "2022-08-06T15:01:10.188Z"
      },
      {
        "duration": 7,
        "start_time": "2022-08-06T15:01:10.196Z"
      },
      {
        "duration": 7,
        "start_time": "2022-08-06T15:01:10.204Z"
      },
      {
        "duration": 543,
        "start_time": "2022-08-06T15:01:10.213Z"
      },
      {
        "duration": 3,
        "start_time": "2022-08-06T15:01:10.757Z"
      },
      {
        "duration": 21,
        "start_time": "2022-08-06T15:01:10.761Z"
      },
      {
        "duration": 10,
        "start_time": "2022-08-06T15:01:10.784Z"
      },
      {
        "duration": 7,
        "start_time": "2022-08-06T15:01:10.795Z"
      },
      {
        "duration": 1197434,
        "start_time": "2022-08-06T15:01:10.804Z"
      },
      {
        "duration": 50,
        "start_time": "2022-08-06T15:21:08.240Z"
      },
      {
        "duration": 6,
        "start_time": "2022-08-06T15:21:08.292Z"
      },
      {
        "duration": 8,
        "start_time": "2022-08-06T15:21:08.299Z"
      },
      {
        "duration": 10,
        "start_time": "2022-08-06T15:21:08.308Z"
      },
      {
        "duration": 5234,
        "start_time": "2022-08-06T15:21:08.320Z"
      },
      {
        "duration": 0,
        "start_time": "2022-08-06T15:21:13.556Z"
      },
      {
        "duration": 0,
        "start_time": "2022-08-06T15:21:13.568Z"
      },
      {
        "duration": 0,
        "start_time": "2022-08-06T15:21:13.569Z"
      },
      {
        "duration": 0,
        "start_time": "2022-08-06T15:21:13.569Z"
      },
      {
        "duration": 0,
        "start_time": "2022-08-06T15:21:13.570Z"
      },
      {
        "duration": 0,
        "start_time": "2022-08-06T15:21:13.572Z"
      },
      {
        "duration": 0,
        "start_time": "2022-08-06T15:21:13.572Z"
      },
      {
        "duration": 0,
        "start_time": "2022-08-06T15:21:13.573Z"
      },
      {
        "duration": 0,
        "start_time": "2022-08-06T15:21:13.574Z"
      },
      {
        "duration": 0,
        "start_time": "2022-08-06T15:21:13.575Z"
      },
      {
        "duration": 0,
        "start_time": "2022-08-06T15:21:13.576Z"
      },
      {
        "duration": 0,
        "start_time": "2022-08-06T15:21:13.577Z"
      },
      {
        "duration": 0,
        "start_time": "2022-08-06T15:21:13.578Z"
      },
      {
        "duration": 0,
        "start_time": "2022-08-06T15:21:13.579Z"
      },
      {
        "duration": 0,
        "start_time": "2022-08-06T15:21:13.579Z"
      },
      {
        "duration": 0,
        "start_time": "2022-08-06T15:21:13.580Z"
      },
      {
        "duration": 0,
        "start_time": "2022-08-06T15:21:13.581Z"
      },
      {
        "duration": 0,
        "start_time": "2022-08-06T15:21:13.582Z"
      },
      {
        "duration": 0,
        "start_time": "2022-08-06T15:21:13.583Z"
      },
      {
        "duration": 0,
        "start_time": "2022-08-06T15:21:13.584Z"
      },
      {
        "duration": 0,
        "start_time": "2022-08-06T15:21:13.585Z"
      },
      {
        "duration": 0,
        "start_time": "2022-08-06T15:21:13.586Z"
      },
      {
        "duration": 36,
        "start_time": "2022-08-06T15:24:11.184Z"
      },
      {
        "duration": 5,
        "start_time": "2022-08-06T15:24:14.613Z"
      },
      {
        "duration": 5335,
        "start_time": "2022-08-06T15:24:17.474Z"
      },
      {
        "duration": 5,
        "start_time": "2022-08-06T15:24:31.558Z"
      },
      {
        "duration": 72810,
        "start_time": "2022-08-06T15:32:29.844Z"
      },
      {
        "duration": 208,
        "start_time": "2022-08-06T15:33:42.657Z"
      },
      {
        "duration": 781,
        "start_time": "2022-08-06T15:33:42.866Z"
      },
      {
        "duration": 20,
        "start_time": "2022-08-06T15:33:43.649Z"
      },
      {
        "duration": 34,
        "start_time": "2022-08-06T15:33:43.671Z"
      },
      {
        "duration": 188,
        "start_time": "2022-08-06T15:33:43.707Z"
      },
      {
        "duration": 13,
        "start_time": "2022-08-06T15:33:43.897Z"
      },
      {
        "duration": 124,
        "start_time": "2022-08-06T15:33:43.911Z"
      },
      {
        "duration": 6,
        "start_time": "2022-08-06T15:33:44.036Z"
      },
      {
        "duration": 4,
        "start_time": "2022-08-06T15:33:44.043Z"
      },
      {
        "duration": 21,
        "start_time": "2022-08-06T15:33:44.048Z"
      },
      {
        "duration": 542,
        "start_time": "2022-08-06T15:33:44.071Z"
      },
      {
        "duration": 2,
        "start_time": "2022-08-06T15:33:44.615Z"
      },
      {
        "duration": 3,
        "start_time": "2022-08-06T15:33:44.620Z"
      },
      {
        "duration": 5,
        "start_time": "2022-08-06T15:33:44.625Z"
      },
      {
        "duration": 5,
        "start_time": "2022-08-06T15:33:44.631Z"
      },
      {
        "duration": 1211169,
        "start_time": "2022-08-06T15:33:44.638Z"
      },
      {
        "duration": 32,
        "start_time": "2022-08-06T15:53:55.809Z"
      },
      {
        "duration": 4,
        "start_time": "2022-08-06T15:53:55.843Z"
      },
      {
        "duration": 2,
        "start_time": "2022-08-06T15:53:55.868Z"
      },
      {
        "duration": 7,
        "start_time": "2022-08-06T15:53:55.872Z"
      },
      {
        "duration": 5314,
        "start_time": "2022-08-06T15:53:55.881Z"
      },
      {
        "duration": 0,
        "start_time": "2022-08-06T15:54:01.197Z"
      },
      {
        "duration": 0,
        "start_time": "2022-08-06T15:54:01.198Z"
      },
      {
        "duration": 0,
        "start_time": "2022-08-06T15:54:01.199Z"
      },
      {
        "duration": 0,
        "start_time": "2022-08-06T15:54:01.200Z"
      },
      {
        "duration": 0,
        "start_time": "2022-08-06T15:54:01.200Z"
      },
      {
        "duration": 0,
        "start_time": "2022-08-06T15:54:01.202Z"
      },
      {
        "duration": 0,
        "start_time": "2022-08-06T15:54:01.202Z"
      },
      {
        "duration": 0,
        "start_time": "2022-08-06T15:54:01.204Z"
      },
      {
        "duration": 0,
        "start_time": "2022-08-06T15:54:01.205Z"
      },
      {
        "duration": 0,
        "start_time": "2022-08-06T15:54:01.206Z"
      },
      {
        "duration": 0,
        "start_time": "2022-08-06T15:54:01.207Z"
      },
      {
        "duration": 0,
        "start_time": "2022-08-06T15:54:01.208Z"
      },
      {
        "duration": 0,
        "start_time": "2022-08-06T15:54:01.209Z"
      },
      {
        "duration": 0,
        "start_time": "2022-08-06T15:54:01.210Z"
      },
      {
        "duration": 0,
        "start_time": "2022-08-06T15:54:01.211Z"
      },
      {
        "duration": 0,
        "start_time": "2022-08-06T15:54:01.212Z"
      },
      {
        "duration": 0,
        "start_time": "2022-08-06T15:54:01.213Z"
      },
      {
        "duration": 0,
        "start_time": "2022-08-06T15:54:01.214Z"
      },
      {
        "duration": 0,
        "start_time": "2022-08-06T15:54:01.215Z"
      },
      {
        "duration": 0,
        "start_time": "2022-08-06T15:54:01.217Z"
      },
      {
        "duration": 0,
        "start_time": "2022-08-06T15:54:01.218Z"
      },
      {
        "duration": 0,
        "start_time": "2022-08-06T15:54:01.220Z"
      },
      {
        "duration": 74951,
        "start_time": "2022-08-06T16:17:28.665Z"
      },
      {
        "duration": 232,
        "start_time": "2022-08-06T16:18:43.618Z"
      },
      {
        "duration": 753,
        "start_time": "2022-08-06T16:18:43.852Z"
      },
      {
        "duration": 11,
        "start_time": "2022-08-06T16:18:44.607Z"
      },
      {
        "duration": 48,
        "start_time": "2022-08-06T16:18:44.620Z"
      },
      {
        "duration": 172,
        "start_time": "2022-08-06T16:18:44.670Z"
      },
      {
        "duration": 12,
        "start_time": "2022-08-06T16:18:44.843Z"
      },
      {
        "duration": 127,
        "start_time": "2022-08-06T16:18:44.857Z"
      },
      {
        "duration": 7,
        "start_time": "2022-08-06T16:18:44.986Z"
      },
      {
        "duration": 26,
        "start_time": "2022-08-06T16:18:44.995Z"
      },
      {
        "duration": 12,
        "start_time": "2022-08-06T16:18:45.023Z"
      },
      {
        "duration": 549,
        "start_time": "2022-08-06T16:18:45.037Z"
      },
      {
        "duration": 2,
        "start_time": "2022-08-06T16:18:45.588Z"
      },
      {
        "duration": 5,
        "start_time": "2022-08-06T16:18:45.593Z"
      },
      {
        "duration": 692,
        "start_time": "2022-08-06T16:18:45.599Z"
      },
      {
        "duration": 0,
        "start_time": "2022-08-06T16:18:46.293Z"
      },
      {
        "duration": 0,
        "start_time": "2022-08-06T16:18:46.294Z"
      },
      {
        "duration": 0,
        "start_time": "2022-08-06T16:18:46.295Z"
      },
      {
        "duration": 0,
        "start_time": "2022-08-06T16:18:46.296Z"
      },
      {
        "duration": 0,
        "start_time": "2022-08-06T16:18:46.298Z"
      },
      {
        "duration": 0,
        "start_time": "2022-08-06T16:18:46.299Z"
      },
      {
        "duration": 0,
        "start_time": "2022-08-06T16:18:46.300Z"
      },
      {
        "duration": 0,
        "start_time": "2022-08-06T16:18:46.301Z"
      },
      {
        "duration": 0,
        "start_time": "2022-08-06T16:18:46.302Z"
      },
      {
        "duration": 0,
        "start_time": "2022-08-06T16:18:46.304Z"
      },
      {
        "duration": 0,
        "start_time": "2022-08-06T16:18:46.304Z"
      },
      {
        "duration": 0,
        "start_time": "2022-08-06T16:18:46.305Z"
      },
      {
        "duration": 0,
        "start_time": "2022-08-06T16:18:46.307Z"
      },
      {
        "duration": 0,
        "start_time": "2022-08-06T16:18:46.308Z"
      },
      {
        "duration": 0,
        "start_time": "2022-08-06T16:18:46.309Z"
      },
      {
        "duration": 0,
        "start_time": "2022-08-06T16:18:46.310Z"
      },
      {
        "duration": 0,
        "start_time": "2022-08-06T16:18:46.311Z"
      },
      {
        "duration": 0,
        "start_time": "2022-08-06T16:18:46.313Z"
      },
      {
        "duration": 0,
        "start_time": "2022-08-06T16:18:46.314Z"
      },
      {
        "duration": 0,
        "start_time": "2022-08-06T16:18:46.315Z"
      },
      {
        "duration": 0,
        "start_time": "2022-08-06T16:18:46.316Z"
      },
      {
        "duration": 0,
        "start_time": "2022-08-06T16:18:46.317Z"
      },
      {
        "duration": 0,
        "start_time": "2022-08-06T16:18:46.318Z"
      },
      {
        "duration": 0,
        "start_time": "2022-08-06T16:18:46.319Z"
      },
      {
        "duration": 0,
        "start_time": "2022-08-06T16:18:46.321Z"
      },
      {
        "duration": 0,
        "start_time": "2022-08-06T16:18:46.322Z"
      },
      {
        "duration": 0,
        "start_time": "2022-08-06T16:18:46.323Z"
      },
      {
        "duration": 0,
        "start_time": "2022-08-06T16:18:46.324Z"
      },
      {
        "duration": 0,
        "start_time": "2022-08-06T16:18:46.325Z"
      },
      {
        "duration": 2,
        "start_time": "2022-08-06T16:31:48.458Z"
      },
      {
        "duration": 3,
        "start_time": "2022-08-06T16:31:50.269Z"
      },
      {
        "duration": 1195722,
        "start_time": "2022-08-06T16:31:51.995Z"
      },
      {
        "duration": 37,
        "start_time": "2022-08-06T16:52:18.794Z"
      },
      {
        "duration": 5,
        "start_time": "2022-08-06T16:52:23.550Z"
      },
      {
        "duration": 4111,
        "start_time": "2022-08-06T16:52:27.592Z"
      },
      {
        "duration": 4,
        "start_time": "2022-08-06T16:53:20.980Z"
      },
      {
        "duration": 5,
        "start_time": "2022-08-06T16:57:07.045Z"
      },
      {
        "duration": 39,
        "start_time": "2022-08-06T16:57:20.768Z"
      },
      {
        "duration": 5,
        "start_time": "2022-08-06T16:57:21.471Z"
      },
      {
        "duration": 47,
        "start_time": "2022-08-06T16:57:50.675Z"
      },
      {
        "duration": 4,
        "start_time": "2022-08-06T16:58:08.944Z"
      },
      {
        "duration": 71715,
        "start_time": "2022-08-06T16:58:31.884Z"
      },
      {
        "duration": 165,
        "start_time": "2022-08-06T16:59:43.601Z"
      },
      {
        "duration": 810,
        "start_time": "2022-08-06T16:59:43.769Z"
      },
      {
        "duration": 13,
        "start_time": "2022-08-06T16:59:44.581Z"
      },
      {
        "duration": 33,
        "start_time": "2022-08-06T16:59:44.596Z"
      },
      {
        "duration": 196,
        "start_time": "2022-08-06T16:59:44.631Z"
      },
      {
        "duration": 12,
        "start_time": "2022-08-06T16:59:44.829Z"
      },
      {
        "duration": 126,
        "start_time": "2022-08-06T16:59:44.842Z"
      },
      {
        "duration": 9,
        "start_time": "2022-08-06T16:59:44.970Z"
      },
      {
        "duration": 8,
        "start_time": "2022-08-06T16:59:44.985Z"
      },
      {
        "duration": 15,
        "start_time": "2022-08-06T16:59:44.995Z"
      },
      {
        "duration": 520,
        "start_time": "2022-08-06T16:59:45.012Z"
      },
      {
        "duration": 3,
        "start_time": "2022-08-06T16:59:45.534Z"
      },
      {
        "duration": 8,
        "start_time": "2022-08-06T16:59:45.538Z"
      },
      {
        "duration": 5,
        "start_time": "2022-08-06T16:59:45.548Z"
      },
      {
        "duration": 15,
        "start_time": "2022-08-06T16:59:45.554Z"
      },
      {
        "duration": 1200397,
        "start_time": "2022-08-06T16:59:45.572Z"
      },
      {
        "duration": 31,
        "start_time": "2022-08-06T17:19:45.971Z"
      },
      {
        "duration": 5,
        "start_time": "2022-08-06T17:19:46.004Z"
      },
      {
        "duration": 6,
        "start_time": "2022-08-06T17:19:46.011Z"
      },
      {
        "duration": 5,
        "start_time": "2022-08-06T17:19:46.018Z"
      },
      {
        "duration": 5,
        "start_time": "2022-08-06T17:19:46.025Z"
      },
      {
        "duration": 38,
        "start_time": "2022-08-06T17:19:46.032Z"
      },
      {
        "duration": 377,
        "start_time": "2022-08-06T17:19:46.072Z"
      },
      {
        "duration": 0,
        "start_time": "2022-08-06T17:19:46.451Z"
      },
      {
        "duration": 0,
        "start_time": "2022-08-06T17:19:46.452Z"
      },
      {
        "duration": 0,
        "start_time": "2022-08-06T17:19:46.454Z"
      },
      {
        "duration": 0,
        "start_time": "2022-08-06T17:19:46.455Z"
      },
      {
        "duration": 0,
        "start_time": "2022-08-06T17:19:46.468Z"
      },
      {
        "duration": 0,
        "start_time": "2022-08-06T17:19:46.469Z"
      },
      {
        "duration": 0,
        "start_time": "2022-08-06T17:19:46.471Z"
      },
      {
        "duration": 0,
        "start_time": "2022-08-06T17:19:46.472Z"
      },
      {
        "duration": 0,
        "start_time": "2022-08-06T17:19:46.473Z"
      },
      {
        "duration": 0,
        "start_time": "2022-08-06T17:19:46.474Z"
      },
      {
        "duration": 0,
        "start_time": "2022-08-06T17:19:46.475Z"
      },
      {
        "duration": 0,
        "start_time": "2022-08-06T17:19:46.476Z"
      },
      {
        "duration": 0,
        "start_time": "2022-08-06T17:19:46.477Z"
      },
      {
        "duration": 0,
        "start_time": "2022-08-06T17:19:46.478Z"
      },
      {
        "duration": 0,
        "start_time": "2022-08-06T17:19:46.479Z"
      },
      {
        "duration": 0,
        "start_time": "2022-08-06T17:19:46.480Z"
      },
      {
        "duration": 0,
        "start_time": "2022-08-06T17:19:46.481Z"
      },
      {
        "duration": 0,
        "start_time": "2022-08-06T17:19:46.482Z"
      },
      {
        "duration": 0,
        "start_time": "2022-08-06T17:19:46.484Z"
      },
      {
        "duration": 0,
        "start_time": "2022-08-06T17:19:46.485Z"
      },
      {
        "duration": 0,
        "start_time": "2022-08-06T17:19:46.486Z"
      },
      {
        "duration": 0,
        "start_time": "2022-08-06T17:19:46.487Z"
      },
      {
        "duration": 19,
        "start_time": "2022-08-06T17:20:30.268Z"
      },
      {
        "duration": 19,
        "start_time": "2022-08-06T17:20:43.606Z"
      },
      {
        "duration": 30,
        "start_time": "2022-08-06T17:20:57.444Z"
      },
      {
        "duration": 4,
        "start_time": "2022-08-06T17:21:00.471Z"
      },
      {
        "duration": 4,
        "start_time": "2022-08-06T17:21:01.809Z"
      },
      {
        "duration": 39,
        "start_time": "2022-08-06T17:24:51.066Z"
      },
      {
        "duration": 4,
        "start_time": "2022-08-06T17:24:52.429Z"
      },
      {
        "duration": 4,
        "start_time": "2022-08-06T17:24:53.414Z"
      },
      {
        "duration": 36,
        "start_time": "2022-08-06T17:26:04.801Z"
      },
      {
        "duration": 4,
        "start_time": "2022-08-06T17:26:05.909Z"
      },
      {
        "duration": 4,
        "start_time": "2022-08-06T17:26:06.795Z"
      },
      {
        "duration": 70953,
        "start_time": "2022-08-06T17:26:27.678Z"
      },
      {
        "duration": 184,
        "start_time": "2022-08-06T17:27:38.634Z"
      },
      {
        "duration": 776,
        "start_time": "2022-08-06T17:27:38.820Z"
      },
      {
        "duration": 11,
        "start_time": "2022-08-06T17:27:39.599Z"
      },
      {
        "duration": 46,
        "start_time": "2022-08-06T17:27:39.612Z"
      },
      {
        "duration": 179,
        "start_time": "2022-08-06T17:27:39.660Z"
      },
      {
        "duration": 12,
        "start_time": "2022-08-06T17:27:39.841Z"
      },
      {
        "duration": 133,
        "start_time": "2022-08-06T17:27:39.855Z"
      },
      {
        "duration": 7,
        "start_time": "2022-08-06T17:27:39.990Z"
      },
      {
        "duration": 9,
        "start_time": "2022-08-06T17:27:40.000Z"
      },
      {
        "duration": 8,
        "start_time": "2022-08-06T17:27:40.011Z"
      },
      {
        "duration": 520,
        "start_time": "2022-08-06T17:27:40.021Z"
      },
      {
        "duration": 3,
        "start_time": "2022-08-06T17:27:40.543Z"
      },
      {
        "duration": 23,
        "start_time": "2022-08-06T17:27:40.548Z"
      },
      {
        "duration": 9,
        "start_time": "2022-08-06T17:27:40.573Z"
      },
      {
        "duration": 5,
        "start_time": "2022-08-06T17:27:40.584Z"
      },
      {
        "duration": 1199672,
        "start_time": "2022-08-06T17:27:40.591Z"
      },
      {
        "duration": 42,
        "start_time": "2022-08-06T17:47:40.268Z"
      },
      {
        "duration": 4,
        "start_time": "2022-08-06T17:47:40.313Z"
      },
      {
        "duration": 6,
        "start_time": "2022-08-06T17:47:40.318Z"
      },
      {
        "duration": 5,
        "start_time": "2022-08-06T17:47:40.325Z"
      },
      {
        "duration": 5,
        "start_time": "2022-08-06T17:47:40.331Z"
      },
      {
        "duration": 35,
        "start_time": "2022-08-06T17:47:40.337Z"
      },
      {
        "duration": 7554,
        "start_time": "2022-08-06T17:47:40.374Z"
      },
      {
        "duration": 3,
        "start_time": "2022-08-06T17:47:47.930Z"
      },
      {
        "duration": 100855,
        "start_time": "2022-08-06T17:47:47.934Z"
      },
      {
        "duration": 4,
        "start_time": "2022-08-06T17:49:28.868Z"
      },
      {
        "duration": 9,
        "start_time": "2022-08-06T17:49:28.877Z"
      },
      {
        "duration": 382,
        "start_time": "2022-08-06T17:49:28.889Z"
      },
      {
        "duration": 0,
        "start_time": "2022-08-06T17:49:29.273Z"
      },
      {
        "duration": 0,
        "start_time": "2022-08-06T17:49:29.274Z"
      },
      {
        "duration": 0,
        "start_time": "2022-08-06T17:49:29.275Z"
      },
      {
        "duration": 0,
        "start_time": "2022-08-06T17:49:29.276Z"
      },
      {
        "duration": 0,
        "start_time": "2022-08-06T17:49:29.277Z"
      },
      {
        "duration": 0,
        "start_time": "2022-08-06T17:49:29.279Z"
      },
      {
        "duration": 1,
        "start_time": "2022-08-06T17:49:29.280Z"
      },
      {
        "duration": 0,
        "start_time": "2022-08-06T17:49:29.282Z"
      },
      {
        "duration": 0,
        "start_time": "2022-08-06T17:49:29.283Z"
      },
      {
        "duration": 0,
        "start_time": "2022-08-06T17:49:29.284Z"
      },
      {
        "duration": 0,
        "start_time": "2022-08-06T17:49:29.285Z"
      },
      {
        "duration": 0,
        "start_time": "2022-08-06T17:49:29.287Z"
      },
      {
        "duration": 0,
        "start_time": "2022-08-06T17:49:29.289Z"
      },
      {
        "duration": 0,
        "start_time": "2022-08-06T17:49:29.289Z"
      },
      {
        "duration": 0,
        "start_time": "2022-08-06T17:49:29.290Z"
      },
      {
        "duration": 0,
        "start_time": "2022-08-06T17:49:29.291Z"
      },
      {
        "duration": 0,
        "start_time": "2022-08-06T17:49:29.293Z"
      },
      {
        "duration": 42,
        "start_time": "2022-08-06T17:50:16.513Z"
      },
      {
        "duration": 1207,
        "start_time": "2022-08-06T17:50:31.655Z"
      },
      {
        "duration": 1463,
        "start_time": "2022-08-06T17:50:56.615Z"
      },
      {
        "duration": 34294,
        "start_time": "2022-08-06T17:51:04.274Z"
      },
      {
        "duration": 510093,
        "start_time": "2022-08-06T17:52:03.583Z"
      },
      {
        "duration": 5,
        "start_time": "2022-08-06T18:01:17.271Z"
      },
      {
        "duration": 9868,
        "start_time": "2022-08-06T18:01:58.327Z"
      },
      {
        "duration": 4,
        "start_time": "2022-08-06T18:02:51.667Z"
      },
      {
        "duration": 1000,
        "start_time": "2022-08-06T18:03:43.448Z"
      },
      {
        "duration": 4,
        "start_time": "2022-08-06T18:03:52.649Z"
      },
      {
        "duration": 340656,
        "start_time": "2022-08-06T18:04:52.509Z"
      },
      {
        "duration": 3,
        "start_time": "2022-08-06T18:15:28.216Z"
      },
      {
        "duration": 5,
        "start_time": "2022-08-06T18:15:37.486Z"
      },
      {
        "duration": 77176,
        "start_time": "2022-08-06T18:31:54.152Z"
      },
      {
        "duration": 184,
        "start_time": "2022-08-06T18:33:11.330Z"
      },
      {
        "duration": 790,
        "start_time": "2022-08-06T18:33:11.516Z"
      },
      {
        "duration": 16,
        "start_time": "2022-08-06T18:33:12.310Z"
      },
      {
        "duration": 49,
        "start_time": "2022-08-06T18:33:12.328Z"
      },
      {
        "duration": 179,
        "start_time": "2022-08-06T18:33:12.379Z"
      },
      {
        "duration": 17,
        "start_time": "2022-08-06T18:33:12.560Z"
      },
      {
        "duration": 118,
        "start_time": "2022-08-06T18:33:12.579Z"
      },
      {
        "duration": 6,
        "start_time": "2022-08-06T18:33:12.699Z"
      },
      {
        "duration": 5,
        "start_time": "2022-08-06T18:33:12.708Z"
      },
      {
        "duration": 8,
        "start_time": "2022-08-06T18:33:12.715Z"
      },
      {
        "duration": 542,
        "start_time": "2022-08-06T18:33:12.725Z"
      },
      {
        "duration": 3,
        "start_time": "2022-08-06T18:33:13.269Z"
      },
      {
        "duration": 6,
        "start_time": "2022-08-06T18:33:13.273Z"
      },
      {
        "duration": 5,
        "start_time": "2022-08-06T18:33:13.280Z"
      },
      {
        "duration": 2060,
        "start_time": "2022-08-06T18:33:13.286Z"
      },
      {
        "duration": 359,
        "start_time": "2022-08-06T18:33:15.348Z"
      },
      {
        "duration": 0,
        "start_time": "2022-08-06T18:33:15.709Z"
      },
      {
        "duration": 0,
        "start_time": "2022-08-06T18:33:15.711Z"
      },
      {
        "duration": 0,
        "start_time": "2022-08-06T18:33:15.713Z"
      },
      {
        "duration": 0,
        "start_time": "2022-08-06T18:33:15.714Z"
      },
      {
        "duration": 0,
        "start_time": "2022-08-06T18:33:15.716Z"
      },
      {
        "duration": 0,
        "start_time": "2022-08-06T18:33:15.718Z"
      },
      {
        "duration": 0,
        "start_time": "2022-08-06T18:33:15.719Z"
      },
      {
        "duration": 0,
        "start_time": "2022-08-06T18:33:15.721Z"
      },
      {
        "duration": 0,
        "start_time": "2022-08-06T18:33:15.722Z"
      },
      {
        "duration": 0,
        "start_time": "2022-08-06T18:33:15.724Z"
      },
      {
        "duration": 0,
        "start_time": "2022-08-06T18:33:15.726Z"
      },
      {
        "duration": 0,
        "start_time": "2022-08-06T18:33:15.727Z"
      },
      {
        "duration": 0,
        "start_time": "2022-08-06T18:33:15.729Z"
      },
      {
        "duration": 0,
        "start_time": "2022-08-06T18:33:15.730Z"
      },
      {
        "duration": 0,
        "start_time": "2022-08-06T18:33:15.767Z"
      },
      {
        "duration": 0,
        "start_time": "2022-08-06T18:33:15.769Z"
      },
      {
        "duration": 0,
        "start_time": "2022-08-06T18:33:15.771Z"
      },
      {
        "duration": 0,
        "start_time": "2022-08-06T18:33:15.772Z"
      },
      {
        "duration": 0,
        "start_time": "2022-08-06T18:33:15.773Z"
      },
      {
        "duration": 0,
        "start_time": "2022-08-06T18:33:15.774Z"
      },
      {
        "duration": 0,
        "start_time": "2022-08-06T18:33:15.776Z"
      },
      {
        "duration": 0,
        "start_time": "2022-08-06T18:33:15.777Z"
      },
      {
        "duration": 0,
        "start_time": "2022-08-06T18:33:15.778Z"
      },
      {
        "duration": 0,
        "start_time": "2022-08-06T18:33:15.779Z"
      },
      {
        "duration": 0,
        "start_time": "2022-08-06T18:33:15.780Z"
      },
      {
        "duration": 203,
        "start_time": "2022-08-06T18:33:50.369Z"
      },
      {
        "duration": 101216,
        "start_time": "2022-08-06T18:34:02.246Z"
      },
      {
        "duration": 241,
        "start_time": "2022-08-06T18:35:43.467Z"
      },
      {
        "duration": 762,
        "start_time": "2022-08-06T18:35:43.709Z"
      },
      {
        "duration": 11,
        "start_time": "2022-08-06T18:35:44.473Z"
      },
      {
        "duration": 33,
        "start_time": "2022-08-06T18:35:44.486Z"
      },
      {
        "duration": 193,
        "start_time": "2022-08-06T18:35:44.521Z"
      },
      {
        "duration": 13,
        "start_time": "2022-08-06T18:35:44.715Z"
      },
      {
        "duration": 119,
        "start_time": "2022-08-06T18:35:44.730Z"
      },
      {
        "duration": 16,
        "start_time": "2022-08-06T18:35:44.851Z"
      },
      {
        "duration": 2,
        "start_time": "2022-08-06T18:35:44.870Z"
      },
      {
        "duration": 8,
        "start_time": "2022-08-06T18:35:44.873Z"
      },
      {
        "duration": 572,
        "start_time": "2022-08-06T18:35:44.883Z"
      },
      {
        "duration": 2,
        "start_time": "2022-08-06T18:35:45.457Z"
      },
      {
        "duration": 7,
        "start_time": "2022-08-06T18:35:45.461Z"
      },
      {
        "duration": 5,
        "start_time": "2022-08-06T18:35:45.470Z"
      },
      {
        "duration": 5,
        "start_time": "2022-08-06T18:35:45.476Z"
      },
      {
        "duration": 1214801,
        "start_time": "2022-08-06T18:35:45.483Z"
      },
      {
        "duration": 40,
        "start_time": "2022-08-06T18:56:00.286Z"
      },
      {
        "duration": 6,
        "start_time": "2022-08-06T18:56:00.327Z"
      },
      {
        "duration": 7017,
        "start_time": "2022-08-06T18:56:00.334Z"
      },
      {
        "duration": 3,
        "start_time": "2022-08-06T18:56:07.353Z"
      },
      {
        "duration": 91735,
        "start_time": "2022-08-06T18:56:07.358Z"
      },
      {
        "duration": 39,
        "start_time": "2022-08-06T18:57:39.168Z"
      },
      {
        "duration": 1753,
        "start_time": "2022-08-06T18:57:39.208Z"
      },
      {
        "duration": 43308,
        "start_time": "2022-08-06T18:57:40.963Z"
      },
      {
        "duration": 498211,
        "start_time": "2022-08-06T18:58:24.273Z"
      },
      {
        "duration": 4,
        "start_time": "2022-08-06T19:06:42.485Z"
      },
      {
        "duration": 951,
        "start_time": "2022-08-06T19:06:42.492Z"
      },
      {
        "duration": 3,
        "start_time": "2022-08-06T19:06:43.444Z"
      },
      {
        "duration": 10,
        "start_time": "2022-08-06T19:06:43.448Z"
      },
      {
        "duration": 168806,
        "start_time": "2022-08-06T19:06:43.459Z"
      },
      {
        "duration": 3,
        "start_time": "2022-08-06T19:09:32.268Z"
      },
      {
        "duration": 6,
        "start_time": "2022-08-06T19:09:32.273Z"
      },
      {
        "duration": 6,
        "start_time": "2022-08-06T19:09:32.281Z"
      },
      {
        "duration": 13,
        "start_time": "2022-08-06T19:09:32.288Z"
      },
      {
        "duration": 359924,
        "start_time": "2022-08-06T19:09:32.303Z"
      },
      {
        "duration": 3,
        "start_time": "2022-08-06T19:15:32.228Z"
      },
      {
        "duration": 23,
        "start_time": "2022-08-06T19:15:32.233Z"
      },
      {
        "duration": 1212732,
        "start_time": "2022-08-06T19:15:32.259Z"
      },
      {
        "duration": 4,
        "start_time": "2022-08-06T19:35:44.993Z"
      },
      {
        "duration": 27,
        "start_time": "2022-08-06T19:35:44.999Z"
      },
      {
        "duration": 21,
        "start_time": "2022-08-06T19:35:45.028Z"
      },
      {
        "duration": 75654,
        "start_time": "2022-08-07T14:26:24.442Z"
      },
      {
        "duration": 357,
        "start_time": "2022-08-07T14:27:40.098Z"
      },
      {
        "duration": 752,
        "start_time": "2022-08-07T14:27:40.457Z"
      },
      {
        "duration": 10,
        "start_time": "2022-08-07T14:27:41.212Z"
      },
      {
        "duration": 29,
        "start_time": "2022-08-07T14:27:41.224Z"
      },
      {
        "duration": 179,
        "start_time": "2022-08-07T14:27:41.255Z"
      },
      {
        "duration": 12,
        "start_time": "2022-08-07T14:27:41.435Z"
      },
      {
        "duration": 107,
        "start_time": "2022-08-07T14:27:41.448Z"
      },
      {
        "duration": 10,
        "start_time": "2022-08-07T14:27:52.101Z"
      },
      {
        "duration": 47334,
        "start_time": "2022-08-07T17:37:27.593Z"
      },
      {
        "duration": 401,
        "start_time": "2022-08-07T17:38:14.929Z"
      },
      {
        "duration": 2376,
        "start_time": "2022-08-07T17:38:15.331Z"
      },
      {
        "duration": 11,
        "start_time": "2022-08-07T17:38:17.709Z"
      },
      {
        "duration": 35,
        "start_time": "2022-08-07T17:38:17.722Z"
      },
      {
        "duration": 161,
        "start_time": "2022-08-07T17:38:17.759Z"
      },
      {
        "duration": 12,
        "start_time": "2022-08-07T17:38:17.922Z"
      },
      {
        "duration": 116,
        "start_time": "2022-08-07T17:38:17.936Z"
      },
      {
        "duration": 6,
        "start_time": "2022-08-07T17:38:18.053Z"
      },
      {
        "duration": 5,
        "start_time": "2022-08-07T17:38:18.062Z"
      },
      {
        "duration": 6,
        "start_time": "2022-08-07T17:38:18.068Z"
      },
      {
        "duration": 501,
        "start_time": "2022-08-07T17:38:18.087Z"
      },
      {
        "duration": 2,
        "start_time": "2022-08-07T17:38:18.590Z"
      },
      {
        "duration": 9,
        "start_time": "2022-08-07T17:38:18.594Z"
      },
      {
        "duration": 8,
        "start_time": "2022-08-07T17:38:18.604Z"
      },
      {
        "duration": 5,
        "start_time": "2022-08-07T17:38:18.613Z"
      },
      {
        "duration": 1042603,
        "start_time": "2022-08-07T17:38:18.620Z"
      },
      {
        "duration": 29,
        "start_time": "2022-08-07T17:55:41.225Z"
      },
      {
        "duration": 7,
        "start_time": "2022-08-07T17:55:41.255Z"
      },
      {
        "duration": 6688,
        "start_time": "2022-08-07T17:55:41.263Z"
      },
      {
        "duration": 3,
        "start_time": "2022-08-07T17:55:47.953Z"
      },
      {
        "duration": 91635,
        "start_time": "2022-08-07T17:55:47.958Z"
      },
      {
        "duration": 32,
        "start_time": "2022-08-07T17:57:19.595Z"
      },
      {
        "duration": 1605,
        "start_time": "2022-08-07T17:57:19.629Z"
      },
      {
        "duration": 329,
        "start_time": "2022-08-07T17:57:21.236Z"
      },
      {
        "duration": 0,
        "start_time": "2022-08-07T17:57:21.573Z"
      },
      {
        "duration": 0,
        "start_time": "2022-08-07T17:57:21.574Z"
      },
      {
        "duration": 0,
        "start_time": "2022-08-07T17:57:21.575Z"
      },
      {
        "duration": 0,
        "start_time": "2022-08-07T17:57:21.576Z"
      },
      {
        "duration": 0,
        "start_time": "2022-08-07T17:57:21.586Z"
      },
      {
        "duration": 0,
        "start_time": "2022-08-07T17:57:21.587Z"
      },
      {
        "duration": 0,
        "start_time": "2022-08-07T17:57:21.588Z"
      },
      {
        "duration": 0,
        "start_time": "2022-08-07T17:57:21.589Z"
      },
      {
        "duration": 0,
        "start_time": "2022-08-07T17:57:21.590Z"
      },
      {
        "duration": 0,
        "start_time": "2022-08-07T17:57:21.591Z"
      },
      {
        "duration": 0,
        "start_time": "2022-08-07T17:57:21.592Z"
      },
      {
        "duration": 0,
        "start_time": "2022-08-07T17:57:21.593Z"
      },
      {
        "duration": 0,
        "start_time": "2022-08-07T17:57:21.594Z"
      },
      {
        "duration": 0,
        "start_time": "2022-08-07T17:57:21.595Z"
      },
      {
        "duration": 0,
        "start_time": "2022-08-07T17:57:21.596Z"
      },
      {
        "duration": 0,
        "start_time": "2022-08-07T17:57:21.597Z"
      },
      {
        "duration": 0,
        "start_time": "2022-08-07T17:57:21.599Z"
      },
      {
        "duration": 42619,
        "start_time": "2022-08-07T17:57:54.171Z"
      },
      {
        "duration": 25,
        "start_time": "2022-08-07T17:58:45.123Z"
      },
      {
        "duration": 977,
        "start_time": "2022-08-07T18:00:43.187Z"
      },
      {
        "duration": 3,
        "start_time": "2022-08-07T18:00:54.383Z"
      },
      {
        "duration": 61,
        "start_time": "2022-08-07T18:01:36.751Z"
      },
      {
        "duration": 22,
        "start_time": "2022-08-07T18:01:45.431Z"
      },
      {
        "duration": 163089,
        "start_time": "2022-08-07T18:01:57.499Z"
      },
      {
        "duration": 3,
        "start_time": "2022-08-07T18:04:55.359Z"
      },
      {
        "duration": 346377,
        "start_time": "2022-08-07T18:05:01.631Z"
      },
      {
        "duration": 3,
        "start_time": "2022-08-07T18:11:12.505Z"
      },
      {
        "duration": 5532,
        "start_time": "2022-08-07T18:11:19.710Z"
      },
      {
        "duration": 19,
        "start_time": "2022-08-07T18:12:27.980Z"
      },
      {
        "duration": 1077400,
        "start_time": "2022-08-07T18:12:44.598Z"
      },
      {
        "duration": 4,
        "start_time": "2022-08-07T18:30:42.001Z"
      },
      {
        "duration": 12,
        "start_time": "2022-08-07T18:30:42.006Z"
      },
      {
        "duration": 375730,
        "start_time": "2022-08-07T18:30:42.019Z"
      },
      {
        "duration": 64585,
        "start_time": "2022-08-08T07:30:44.033Z"
      },
      {
        "duration": 338,
        "start_time": "2022-08-08T07:31:48.620Z"
      },
      {
        "duration": 2265,
        "start_time": "2022-08-08T07:31:48.959Z"
      },
      {
        "duration": 12,
        "start_time": "2022-08-08T07:31:51.226Z"
      },
      {
        "duration": 33,
        "start_time": "2022-08-08T07:31:51.239Z"
      },
      {
        "duration": 153,
        "start_time": "2022-08-08T07:31:51.273Z"
      },
      {
        "duration": 12,
        "start_time": "2022-08-08T07:31:51.427Z"
      },
      {
        "duration": 115,
        "start_time": "2022-08-08T07:31:51.440Z"
      },
      {
        "duration": 6,
        "start_time": "2022-08-08T07:31:51.557Z"
      },
      {
        "duration": 2,
        "start_time": "2022-08-08T07:31:51.566Z"
      },
      {
        "duration": 19,
        "start_time": "2022-08-08T07:31:51.570Z"
      },
      {
        "duration": 489,
        "start_time": "2022-08-08T07:31:51.591Z"
      },
      {
        "duration": 3,
        "start_time": "2022-08-08T07:31:52.081Z"
      },
      {
        "duration": 6,
        "start_time": "2022-08-08T07:31:52.087Z"
      },
      {
        "duration": 1071104,
        "start_time": "2022-08-08T07:31:52.095Z"
      },
      {
        "duration": 29,
        "start_time": "2022-08-08T07:49:43.201Z"
      },
      {
        "duration": 6,
        "start_time": "2022-08-08T07:49:43.232Z"
      },
      {
        "duration": 6549,
        "start_time": "2022-08-08T07:49:43.239Z"
      },
      {
        "duration": 4,
        "start_time": "2022-08-08T07:49:49.790Z"
      },
      {
        "duration": 95397,
        "start_time": "2022-08-08T07:49:49.796Z"
      },
      {
        "duration": 33,
        "start_time": "2022-08-08T07:51:25.195Z"
      },
      {
        "duration": 1665,
        "start_time": "2022-08-08T07:51:25.230Z"
      },
      {
        "duration": 45796,
        "start_time": "2022-08-08T07:51:26.897Z"
      },
      {
        "duration": 3,
        "start_time": "2022-08-08T07:52:12.695Z"
      },
      {
        "duration": 7,
        "start_time": "2022-08-08T07:52:12.788Z"
      },
      {
        "duration": 3220,
        "start_time": "2022-08-08T07:52:12.797Z"
      },
      {
        "duration": 4,
        "start_time": "2022-08-08T07:52:16.019Z"
      },
      {
        "duration": 6,
        "start_time": "2022-08-08T07:52:16.026Z"
      },
      {
        "duration": 411255,
        "start_time": "2022-08-08T07:52:16.034Z"
      },
      {
        "duration": 4,
        "start_time": "2022-08-08T07:59:07.292Z"
      },
      {
        "duration": 7,
        "start_time": "2022-08-08T07:59:07.298Z"
      },
      {
        "duration": 3,
        "start_time": "2022-08-08T07:59:07.387Z"
      },
      {
        "duration": 7,
        "start_time": "2022-08-08T07:59:07.391Z"
      },
      {
        "duration": 1598771,
        "start_time": "2022-08-08T07:59:07.399Z"
      },
      {
        "duration": 3,
        "start_time": "2022-08-08T08:25:46.171Z"
      },
      {
        "duration": 11,
        "start_time": "2022-08-08T08:25:46.175Z"
      },
      {
        "duration": 1985682,
        "start_time": "2022-08-08T08:25:46.188Z"
      },
      {
        "duration": 4,
        "start_time": "2022-08-08T08:58:51.871Z"
      },
      {
        "duration": 11,
        "start_time": "2022-08-08T08:58:51.876Z"
      },
      {
        "duration": 12,
        "start_time": "2022-08-08T08:58:51.888Z"
      },
      {
        "duration": 45282,
        "start_time": "2022-08-08T09:05:12.519Z"
      },
      {
        "duration": 64,
        "start_time": "2022-08-08T09:09:37.629Z"
      }
    ],
    "kernelspec": {
      "display_name": "Python 3 (ipykernel)",
      "language": "python",
      "name": "python3"
    },
    "language_info": {
      "codemirror_mode": {
        "name": "ipython",
        "version": 3
      },
      "file_extension": ".py",
      "mimetype": "text/x-python",
      "name": "python",
      "nbconvert_exporter": "python",
      "pygments_lexer": "ipython3",
      "version": "3.9.5"
    },
    "toc": {
      "base_numbering": 1,
      "nav_menu": {},
      "number_sections": true,
      "sideBar": true,
      "skip_h1_title": true,
      "title_cell": "Содержание",
      "title_sidebar": "Contents",
      "toc_cell": true,
      "toc_position": {
        "height": "calc(100% - 180px)",
        "left": "10px",
        "top": "150px",
        "width": "302.391px"
      },
      "toc_section_display": true,
      "toc_window_display": false
    },
    "colab": {
      "provenance": []
    }
  },
  "nbformat": 4,
  "nbformat_minor": 0
}