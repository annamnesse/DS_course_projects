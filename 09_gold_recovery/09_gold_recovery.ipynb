{
 "cells": [
  {
   "cell_type": "markdown",
   "metadata": {},
   "source": [
    "<div style=\"border:solid Chocolate 2px; padding: 40px\">\n",
    "\n",
    "<b>Анна, привет!👋</b>\n",
    "\n",
    "Меня зовут Оля Оглезнева, я буду ревьюером твоего проекта. Ты можешь обращаться ко мне на \"ты\"😏 Надеюсь, тебя также не смутит, если я буду обращаться к тебе на \"ты\", но если это неудобно, обязательно скажи об этом!\n",
    "\n",
    "Пожалуйста, не удаляй мои комментарии, они будут особенно полезны для нашей работы в случае повторной проверки проекта. \n",
    "\n",
    "Ты также можешь реагировать на мои комментарии своими, выделяя их цветами и наиболее понравившимся тебе способом оформления, но явно  отличающимся от моих комментариев. Это нужно, чтобы не создавалась путаница😉\n",
    "\n",
    "Ты можешь найти мои комментарии, обозначенные <font color='green'>зеленым</font>, <font color='gold'>желтым</font> и <font color='red'>красным</font> цветами, например:\n",
    "\n",
    "<br/>\n",
    "\n",
    "<div class=\"alert alert-success\">\n",
    "<h2> Комментарий ревьюера <a class=\"tocSkip\"> </h2>\n",
    "\n",
    "<b>Все отлично!👍:</b> В случае, если решение на отдельном шаге является полностью правильным.\n",
    "</div>\n",
    "\n",
    "<br/>\n",
    "\n",
    "<div class=\"alert alert-warning\">\n",
    "    <h2> Комментарий ревьюера <a class=\"tocSkip\"> </h2>\n",
    "    \n",
    "<b>Некоторые замечания и рекомендации💡:</b> В случае, когда решение на отдельном шаге станет еще лучше, если внести небольшие коррективы.\n",
    "</div>\n",
    "\n",
    "\n",
    "<br/>\n",
    "<div class=\"alert alert-block alert-danger\">\n",
    "<h2> Комментарий ревьюера <a class=\"tocSkip\"></h2>\n",
    "\n",
    "    \n",
    "<b>На доработку🤔:</b>\n",
    " В случае, когда решение на отдельном шаге требует существенной переработки и внесения правок. Напоминаю, что проект не может быть принят с первого раза, если ревью содержит комментарии, рекомендующие доработать шаги.\n",
    "</div>\n",
    "    \n",
    "Увидев у тебя неточность, в первый раз я лишь укажу на ее наличие и дам тебе возможность самому найти и исправить ее. На реальной работе твой руководитель будет поступать также, и я пытаюсь подготовить тебя именно к работе Data Scientist-ом. Но если ты пока не справишься с такой задачей - при следующей проверке я дам более точную подсказку!"
   ]
  },
  {
   "cell_type": "markdown",
   "metadata": {
    "toc": true
   },
   "source": [
    "<h1>Содержание<span class=\"tocSkip\"></span></h1>\n",
    "<div class=\"toc\"><ul class=\"toc-item\"><li><span><a href=\"#Подготовка-данных\" data-toc-modified-id=\"Подготовка-данных-1\"><span class=\"toc-item-num\">1&nbsp;&nbsp;</span>Подготовка данных</a></span><ul class=\"toc-item\"><li><span><a href=\"#Изучение-данных\" data-toc-modified-id=\"Изучение-данных-1.1\"><span class=\"toc-item-num\">1.1&nbsp;&nbsp;</span>Изучение данных</a></span></li><li><span><a href=\"#Проверка-расчета-эффективности-обогащения\" data-toc-modified-id=\"Проверка-расчета-эффективности-обогащения-1.2\"><span class=\"toc-item-num\">1.2&nbsp;&nbsp;</span>Проверка расчета эффективности обогащения</a></span></li><li><span><a href=\"#Признаки,-не-доступные-в-тестовой-выборке\" data-toc-modified-id=\"Признаки,-не-доступные-в-тестовой-выборке-1.3\"><span class=\"toc-item-num\">1.3&nbsp;&nbsp;</span>Признаки, не доступные в тестовой выборке</a></span></li><li><span><a href=\"#Предобработка-данных\" data-toc-modified-id=\"Предобработка-данных-1.4\"><span class=\"toc-item-num\">1.4&nbsp;&nbsp;</span>Предобработка данных</a></span></li></ul></li><li><span><a href=\"#Анализ-данных\" data-toc-modified-id=\"Анализ-данных-2\"><span class=\"toc-item-num\">2&nbsp;&nbsp;</span>Анализ данных</a></span><ul class=\"toc-item\"><li><span><a href=\"#Концентрация-металлов-(Au,-Ag,-Pb)-на-различных-этапах-очистки\" data-toc-modified-id=\"Концентрация-металлов-(Au,-Ag,-Pb)-на-различных-этапах-очистки-2.1\"><span class=\"toc-item-num\">2.1&nbsp;&nbsp;</span>Концентрация металлов (Au, Ag, Pb) на различных этапах очистки</a></span></li><li><span><a href=\"#Сравнение-распределения-размеров-гранул-сырья\" data-toc-modified-id=\"Сравнение-распределения-размеров-гранул-сырья-2.2\"><span class=\"toc-item-num\">2.2&nbsp;&nbsp;</span>Сравнение распределения размеров гранул сырья</a></span></li><li><span><a href=\"#Суммарная-концентрация-всех-веществ-на-разных-стадиях\" data-toc-modified-id=\"Суммарная-концентрация-всех-веществ-на-разных-стадиях-2.3\"><span class=\"toc-item-num\">2.3&nbsp;&nbsp;</span>Суммарная концентрация всех веществ на разных стадиях</a></span></li></ul></li><li><span><a href=\"#Модель\" data-toc-modified-id=\"Модель-3\"><span class=\"toc-item-num\">3&nbsp;&nbsp;</span>Модель</a></span><ul class=\"toc-item\"><li><span><a href=\"#Функция-для-вычисления-итоговой-sMAPE\" data-toc-modified-id=\"Функция-для-вычисления-итоговой-sMAPE-3.1\"><span class=\"toc-item-num\">3.1&nbsp;&nbsp;</span>Функция для вычисления итоговой sMAPE</a></span></li><li><span><a href=\"#Обучение-разных-моделей-и-оценка-их-качества\" data-toc-modified-id=\"Обучение-разных-моделей-и-оценка-их-качества-3.2\"><span class=\"toc-item-num\">3.2&nbsp;&nbsp;</span>Обучение разных моделей и оценка их качества</a></span><ul class=\"toc-item\"><li><span><a href=\"#Дерево-решений\" data-toc-modified-id=\"Дерево-решений-3.2.1\"><span class=\"toc-item-num\">3.2.1&nbsp;&nbsp;</span>Дерево решений</a></span></li><li><span><a href=\"#Случайный-лес\" data-toc-modified-id=\"Случайный-лес-3.2.2\"><span class=\"toc-item-num\">3.2.2&nbsp;&nbsp;</span>Случайный лес</a></span></li><li><span><a href=\"#Линейная-регрессия\" data-toc-modified-id=\"Линейная-регрессия-3.2.3\"><span class=\"toc-item-num\">3.2.3&nbsp;&nbsp;</span>Линейная регрессия</a></span></li><li><span><a href=\"#Дамми-модель\" data-toc-modified-id=\"Дамми-модель-3.2.4\"><span class=\"toc-item-num\">3.2.4&nbsp;&nbsp;</span>Дамми-модель</a></span></li><li><span><a href=\"#Модель-Ridge\" data-toc-modified-id=\"Модель-Ridge-3.2.5\"><span class=\"toc-item-num\">3.2.5&nbsp;&nbsp;</span>Модель Ridge</a></span></li><li><span><a href=\"#Модель-CatBoost\" data-toc-modified-id=\"Модель-CatBoost-3.2.6\"><span class=\"toc-item-num\">3.2.6&nbsp;&nbsp;</span>Модель CatBoost</a></span></li><li><span><a href=\"#Модель-Lasso\" data-toc-modified-id=\"Модель-Lasso-3.2.7\"><span class=\"toc-item-num\">3.2.7&nbsp;&nbsp;</span>Модель Lasso</a></span></li></ul></li></ul></li><li><span><a href=\"#Итоговый-вывод\" data-toc-modified-id=\"Итоговый-вывод-4\"><span class=\"toc-item-num\">4&nbsp;&nbsp;</span>Итоговый вывод</a></span></li><li><span><a href=\"#Чек-лист-готовности-проекта\" data-toc-modified-id=\"Чек-лист-готовности-проекта-5\"><span class=\"toc-item-num\">5&nbsp;&nbsp;</span>Чек-лист готовности проекта</a></span></li></ul></div>"
   ]
  },
  {
   "cell_type": "markdown",
   "metadata": {},
   "source": [
    "# Восстановление золота из руды"
   ]
  },
  {
   "cell_type": "markdown",
   "metadata": {},
   "source": [
    "Подготовим прототип модели машинного обучения для «Цифры». Компания разрабатывает решения для эффективной работы промышленных предприятий.\n",
    "\n",
    "Модель должна предсказать коэффициент восстановления золота из золотосодержащей руды. Используем данные с параметрами добычи и очистки. \n",
    "\n",
    "Модель поможет оптимизировать производство, чтобы не запускать предприятие с убыточными характеристиками.\n",
    "\n",
    "Нам нужно:\n",
    "\n",
    "1. Подготовить данные;\n",
    "2. Провести исследовательский анализ данных;\n",
    "3. Построить и обучить модель.\n",
    "\n",
    "Чтобы выполнить проект, обратимся к библиотекам *pandas*, *matplotlib* и *sklearn.* \n",
    "\n",
    "<b>Описание данных</b>\n",
    "\n",
    "Данные находятся в трёх файлах:\n",
    "\n",
    "* gold_recovery_train_new.csv — обучающая выборка;\n",
    "* gold_recovery_test_new.csv — тестовая выборка;\n",
    "* gold_recovery_full_new.csv — исходные данные.\n",
    "\n",
    "Данные индексируются датой и временем получения информации (признак date). Соседние по времени параметры часто похожи.\n",
    "Некоторые параметры недоступны, потому что замеряются и/или рассчитываются значительно позже. Из-за этого в тестовой выборке отсутствуют некоторые признаки, которые могут быть в обучающей. Также в тестовом наборе нет целевых признаков.\n",
    "Исходный датасет содержит обучающую и тестовую выборки со всеми признаками.\n",
    "\n",
    "В нашем распоряжении сырые данные: их просто выгрузили из хранилища. Прежде чем приступить к построению модели, проверим по нашей инструкции их на корректность."
   ]
  },
  {
   "cell_type": "markdown",
   "metadata": {},
   "source": [
    "## Подготовка данных"
   ]
  },
  {
   "cell_type": "code",
   "execution_count": 1,
   "metadata": {},
   "outputs": [],
   "source": [
    "# Импорт библиотек\n",
    "import pandas as pd\n",
    "import matplotlib.pyplot as plt\n",
    "import seaborn as sns\n",
    "import numpy as np\n",
    "\n",
    "from sklearn.metrics import mean_absolute_error, accuracy_score, make_scorer\n",
    "from sklearn.preprocessing import StandardScaler\n",
    "from sklearn.model_selection import train_test_split, cross_val_score, GridSearchCV\n",
    "from sklearn.linear_model import LinearRegression, Ridge, Lasso\n",
    "from sklearn.ensemble import RandomForestRegressor\n",
    "from sklearn.tree import DecisionTreeRegressor\n",
    "from sklearn.dummy import DummyRegressor\n",
    "from catboost import CatBoostRegressor\n",
    "\n",
    "import warnings\n",
    "warnings.filterwarnings('ignore')"
   ]
  },
  {
   "cell_type": "code",
   "execution_count": 2,
   "metadata": {},
   "outputs": [],
   "source": [
    "# Загрузка данных\n",
    "train_data = pd.read_csv('/datasets/gold_recovery_train_new.csv')\n",
    "test_data = pd.read_csv('/datasets/gold_recovery_test_new.csv')\n",
    "full_data = pd.read_csv('/datasets/gold_recovery_full_new.csv')"
   ]
  },
  {
   "cell_type": "markdown",
   "metadata": {},
   "source": [
    "<div class=\"alert alert-success\">\n",
    "<h2> Комментарий ревьюера <a class=\"tocSkip\"> </h2>\n",
    "\n",
    "<b>Все отлично!👍:</b>\n",
    "        \n",
    "Для подгрузки данных рекомендую использовать конструкцию `try-except`, она поможет избежать потенциальных ошибок при загрузке данных, связанных, например, с некорректным указанием путей.\n",
    "        \n",
    "Подробнее о конструкции по ссылке:\n",
    "        \n",
    "https://pythonworld.ru/tipy-dannyx-v-python/isklyucheniya-v-python-konstrukciya-try-except-dlya-obrabotki-isklyuchenij.html\n",
    "        \n",
    "Либо же можно использовать стандартную библиотеку os:\n",
    "        \n",
    "https://pythonworld.ru/moduli/modul-os.html\n",
    "        \n",
    "Несколько интересных статей кейсы использования конструкции `try-except`:\n",
    "    \n",
    "https://www.programiz.com/python-programming/exception-handling\n",
    "    \n",
    "https://towardsdatascience.com/do-not-abuse-try-except-in-python-d9b8ee59e23b\n",
    "    \n",
    "https://www.techbeamers.com/use-try-except-python/"
   ]
  },
  {
   "cell_type": "markdown",
   "metadata": {},
   "source": [
    "<div class=\"alert alert-warning\">\n",
    "    <h2> Комментарий студента <a class=\"tocSkip\"> </h2>\n",
    "Оля, спасибо за полезные рекомендации. Я как раз только что посмотрела вебинар про исключения -- буду внедрять.\n",
    "</div>\n"
   ]
  },
  {
   "cell_type": "markdown",
   "metadata": {},
   "source": [
    "### Изучение данных"
   ]
  },
  {
   "cell_type": "code",
   "execution_count": 3,
   "metadata": {},
   "outputs": [
    {
     "name": "stdout",
     "output_type": "stream",
     "text": [
      "<class 'pandas.core.frame.DataFrame'>\n",
      "RangeIndex: 19439 entries, 0 to 19438\n",
      "Data columns (total 87 columns):\n",
      " #   Column                                              Non-Null Count  Dtype  \n",
      "---  ------                                              --------------  -----  \n",
      " 0   date                                                19439 non-null  object \n",
      " 1   final.output.concentrate_ag                         19438 non-null  float64\n",
      " 2   final.output.concentrate_pb                         19438 non-null  float64\n",
      " 3   final.output.concentrate_sol                        19228 non-null  float64\n",
      " 4   final.output.concentrate_au                         19439 non-null  float64\n",
      " 5   final.output.recovery                               19439 non-null  float64\n",
      " 6   final.output.tail_ag                                19438 non-null  float64\n",
      " 7   final.output.tail_pb                                19338 non-null  float64\n",
      " 8   final.output.tail_sol                               19433 non-null  float64\n",
      " 9   final.output.tail_au                                19439 non-null  float64\n",
      " 10  primary_cleaner.input.sulfate                       19415 non-null  float64\n",
      " 11  primary_cleaner.input.depressant                    19402 non-null  float64\n",
      " 12  primary_cleaner.input.feed_size                     19439 non-null  float64\n",
      " 13  primary_cleaner.input.xanthate                      19335 non-null  float64\n",
      " 14  primary_cleaner.output.concentrate_ag               19439 non-null  float64\n",
      " 15  primary_cleaner.output.concentrate_pb               19323 non-null  float64\n",
      " 16  primary_cleaner.output.concentrate_sol              19069 non-null  float64\n",
      " 17  primary_cleaner.output.concentrate_au               19439 non-null  float64\n",
      " 18  primary_cleaner.output.tail_ag                      19435 non-null  float64\n",
      " 19  primary_cleaner.output.tail_pb                      19418 non-null  float64\n",
      " 20  primary_cleaner.output.tail_sol                     19377 non-null  float64\n",
      " 21  primary_cleaner.output.tail_au                      19439 non-null  float64\n",
      " 22  primary_cleaner.state.floatbank8_a_air              19435 non-null  float64\n",
      " 23  primary_cleaner.state.floatbank8_a_level            19438 non-null  float64\n",
      " 24  primary_cleaner.state.floatbank8_b_air              19435 non-null  float64\n",
      " 25  primary_cleaner.state.floatbank8_b_level            19438 non-null  float64\n",
      " 26  primary_cleaner.state.floatbank8_c_air              19437 non-null  float64\n",
      " 27  primary_cleaner.state.floatbank8_c_level            19438 non-null  float64\n",
      " 28  primary_cleaner.state.floatbank8_d_air              19436 non-null  float64\n",
      " 29  primary_cleaner.state.floatbank8_d_level            19438 non-null  float64\n",
      " 30  rougher.calculation.sulfate_to_au_concentrate       19437 non-null  float64\n",
      " 31  rougher.calculation.floatbank10_sulfate_to_au_feed  19437 non-null  float64\n",
      " 32  rougher.calculation.floatbank11_sulfate_to_au_feed  19437 non-null  float64\n",
      " 33  rougher.calculation.au_pb_ratio                     19439 non-null  float64\n",
      " 34  rougher.input.feed_ag                               19439 non-null  float64\n",
      " 35  rougher.input.feed_pb                               19339 non-null  float64\n",
      " 36  rougher.input.feed_rate                             19428 non-null  float64\n",
      " 37  rougher.input.feed_size                             19294 non-null  float64\n",
      " 38  rougher.input.feed_sol                              19340 non-null  float64\n",
      " 39  rougher.input.feed_au                               19439 non-null  float64\n",
      " 40  rougher.input.floatbank10_sulfate                   19405 non-null  float64\n",
      " 41  rougher.input.floatbank10_xanthate                  19431 non-null  float64\n",
      " 42  rougher.input.floatbank11_sulfate                   19395 non-null  float64\n",
      " 43  rougher.input.floatbank11_xanthate                  18986 non-null  float64\n",
      " 44  rougher.output.concentrate_ag                       19439 non-null  float64\n",
      " 45  rougher.output.concentrate_pb                       19439 non-null  float64\n",
      " 46  rougher.output.concentrate_sol                      19416 non-null  float64\n",
      " 47  rougher.output.concentrate_au                       19439 non-null  float64\n",
      " 48  rougher.output.recovery                             19439 non-null  float64\n",
      " 49  rougher.output.tail_ag                              19438 non-null  float64\n",
      " 50  rougher.output.tail_pb                              19439 non-null  float64\n",
      " 51  rougher.output.tail_sol                             19439 non-null  float64\n",
      " 52  rougher.output.tail_au                              19439 non-null  float64\n",
      " 53  rougher.state.floatbank10_a_air                     19438 non-null  float64\n",
      " 54  rougher.state.floatbank10_a_level                   19438 non-null  float64\n",
      " 55  rougher.state.floatbank10_b_air                     19438 non-null  float64\n",
      " 56  rougher.state.floatbank10_b_level                   19438 non-null  float64\n",
      " 57  rougher.state.floatbank10_c_air                     19438 non-null  float64\n",
      " 58  rougher.state.floatbank10_c_level                   19438 non-null  float64\n",
      " 59  rougher.state.floatbank10_d_air                     19439 non-null  float64\n",
      " 60  rougher.state.floatbank10_d_level                   19439 non-null  float64\n",
      " 61  rougher.state.floatbank10_e_air                     19003 non-null  float64\n",
      " 62  rougher.state.floatbank10_e_level                   19439 non-null  float64\n",
      " 63  rougher.state.floatbank10_f_air                     19439 non-null  float64\n",
      " 64  rougher.state.floatbank10_f_level                   19439 non-null  float64\n",
      " 65  secondary_cleaner.output.tail_ag                    19437 non-null  float64\n",
      " 66  secondary_cleaner.output.tail_pb                    19427 non-null  float64\n",
      " 67  secondary_cleaner.output.tail_sol                   17691 non-null  float64\n",
      " 68  secondary_cleaner.output.tail_au                    19439 non-null  float64\n",
      " 69  secondary_cleaner.state.floatbank2_a_air            19219 non-null  float64\n",
      " 70  secondary_cleaner.state.floatbank2_a_level          19438 non-null  float64\n",
      " 71  secondary_cleaner.state.floatbank2_b_air            19416 non-null  float64\n",
      " 72  secondary_cleaner.state.floatbank2_b_level          19438 non-null  float64\n",
      " 73  secondary_cleaner.state.floatbank3_a_air            19426 non-null  float64\n",
      " 74  secondary_cleaner.state.floatbank3_a_level          19438 non-null  float64\n",
      " 75  secondary_cleaner.state.floatbank3_b_air            19438 non-null  float64\n",
      " 76  secondary_cleaner.state.floatbank3_b_level          19438 non-null  float64\n",
      " 77  secondary_cleaner.state.floatbank4_a_air            19433 non-null  float64\n",
      " 78  secondary_cleaner.state.floatbank4_a_level          19438 non-null  float64\n",
      " 79  secondary_cleaner.state.floatbank4_b_air            19438 non-null  float64\n",
      " 80  secondary_cleaner.state.floatbank4_b_level          19438 non-null  float64\n",
      " 81  secondary_cleaner.state.floatbank5_a_air            19438 non-null  float64\n",
      " 82  secondary_cleaner.state.floatbank5_a_level          19438 non-null  float64\n",
      " 83  secondary_cleaner.state.floatbank5_b_air            19438 non-null  float64\n",
      " 84  secondary_cleaner.state.floatbank5_b_level          19438 non-null  float64\n",
      " 85  secondary_cleaner.state.floatbank6_a_air            19437 non-null  float64\n",
      " 86  secondary_cleaner.state.floatbank6_a_level          19438 non-null  float64\n",
      "dtypes: float64(86), object(1)\n",
      "memory usage: 12.9+ MB\n"
     ]
    }
   ],
   "source": [
    "# Ознакомление с исходными данными\n",
    "full_data.info()"
   ]
  },
  {
   "cell_type": "code",
   "execution_count": 4,
   "metadata": {},
   "outputs": [
    {
     "name": "stdout",
     "output_type": "stream",
     "text": [
      "<class 'pandas.core.frame.DataFrame'>\n",
      "RangeIndex: 14149 entries, 0 to 14148\n",
      "Data columns (total 87 columns):\n",
      " #   Column                                              Non-Null Count  Dtype  \n",
      "---  ------                                              --------------  -----  \n",
      " 0   date                                                14149 non-null  object \n",
      " 1   final.output.concentrate_ag                         14148 non-null  float64\n",
      " 2   final.output.concentrate_pb                         14148 non-null  float64\n",
      " 3   final.output.concentrate_sol                        13938 non-null  float64\n",
      " 4   final.output.concentrate_au                         14149 non-null  float64\n",
      " 5   final.output.recovery                               14149 non-null  float64\n",
      " 6   final.output.tail_ag                                14149 non-null  float64\n",
      " 7   final.output.tail_pb                                14049 non-null  float64\n",
      " 8   final.output.tail_sol                               14144 non-null  float64\n",
      " 9   final.output.tail_au                                14149 non-null  float64\n",
      " 10  primary_cleaner.input.sulfate                       14129 non-null  float64\n",
      " 11  primary_cleaner.input.depressant                    14117 non-null  float64\n",
      " 12  primary_cleaner.input.feed_size                     14149 non-null  float64\n",
      " 13  primary_cleaner.input.xanthate                      14049 non-null  float64\n",
      " 14  primary_cleaner.output.concentrate_ag               14149 non-null  float64\n",
      " 15  primary_cleaner.output.concentrate_pb               14063 non-null  float64\n",
      " 16  primary_cleaner.output.concentrate_sol              13863 non-null  float64\n",
      " 17  primary_cleaner.output.concentrate_au               14149 non-null  float64\n",
      " 18  primary_cleaner.output.tail_ag                      14148 non-null  float64\n",
      " 19  primary_cleaner.output.tail_pb                      14134 non-null  float64\n",
      " 20  primary_cleaner.output.tail_sol                     14103 non-null  float64\n",
      " 21  primary_cleaner.output.tail_au                      14149 non-null  float64\n",
      " 22  primary_cleaner.state.floatbank8_a_air              14145 non-null  float64\n",
      " 23  primary_cleaner.state.floatbank8_a_level            14148 non-null  float64\n",
      " 24  primary_cleaner.state.floatbank8_b_air              14145 non-null  float64\n",
      " 25  primary_cleaner.state.floatbank8_b_level            14148 non-null  float64\n",
      " 26  primary_cleaner.state.floatbank8_c_air              14147 non-null  float64\n",
      " 27  primary_cleaner.state.floatbank8_c_level            14148 non-null  float64\n",
      " 28  primary_cleaner.state.floatbank8_d_air              14146 non-null  float64\n",
      " 29  primary_cleaner.state.floatbank8_d_level            14148 non-null  float64\n",
      " 30  rougher.calculation.sulfate_to_au_concentrate       14148 non-null  float64\n",
      " 31  rougher.calculation.floatbank10_sulfate_to_au_feed  14148 non-null  float64\n",
      " 32  rougher.calculation.floatbank11_sulfate_to_au_feed  14148 non-null  float64\n",
      " 33  rougher.calculation.au_pb_ratio                     14149 non-null  float64\n",
      " 34  rougher.input.feed_ag                               14149 non-null  float64\n",
      " 35  rougher.input.feed_pb                               14049 non-null  float64\n",
      " 36  rougher.input.feed_rate                             14141 non-null  float64\n",
      " 37  rougher.input.feed_size                             14005 non-null  float64\n",
      " 38  rougher.input.feed_sol                              14071 non-null  float64\n",
      " 39  rougher.input.feed_au                               14149 non-null  float64\n",
      " 40  rougher.input.floatbank10_sulfate                   14120 non-null  float64\n",
      " 41  rougher.input.floatbank10_xanthate                  14141 non-null  float64\n",
      " 42  rougher.input.floatbank11_sulfate                   14113 non-null  float64\n",
      " 43  rougher.input.floatbank11_xanthate                  13721 non-null  float64\n",
      " 44  rougher.output.concentrate_ag                       14149 non-null  float64\n",
      " 45  rougher.output.concentrate_pb                       14149 non-null  float64\n",
      " 46  rougher.output.concentrate_sol                      14127 non-null  float64\n",
      " 47  rougher.output.concentrate_au                       14149 non-null  float64\n",
      " 48  rougher.output.recovery                             14149 non-null  float64\n",
      " 49  rougher.output.tail_ag                              14148 non-null  float64\n",
      " 50  rougher.output.tail_pb                              14149 non-null  float64\n",
      " 51  rougher.output.tail_sol                             14149 non-null  float64\n",
      " 52  rougher.output.tail_au                              14149 non-null  float64\n",
      " 53  rougher.state.floatbank10_a_air                     14148 non-null  float64\n",
      " 54  rougher.state.floatbank10_a_level                   14148 non-null  float64\n",
      " 55  rougher.state.floatbank10_b_air                     14148 non-null  float64\n",
      " 56  rougher.state.floatbank10_b_level                   14148 non-null  float64\n",
      " 57  rougher.state.floatbank10_c_air                     14148 non-null  float64\n",
      " 58  rougher.state.floatbank10_c_level                   14148 non-null  float64\n",
      " 59  rougher.state.floatbank10_d_air                     14149 non-null  float64\n",
      " 60  rougher.state.floatbank10_d_level                   14149 non-null  float64\n",
      " 61  rougher.state.floatbank10_e_air                     13713 non-null  float64\n",
      " 62  rougher.state.floatbank10_e_level                   14149 non-null  float64\n",
      " 63  rougher.state.floatbank10_f_air                     14149 non-null  float64\n",
      " 64  rougher.state.floatbank10_f_level                   14149 non-null  float64\n",
      " 65  secondary_cleaner.output.tail_ag                    14147 non-null  float64\n",
      " 66  secondary_cleaner.output.tail_pb                    14139 non-null  float64\n",
      " 67  secondary_cleaner.output.tail_sol                   12544 non-null  float64\n",
      " 68  secondary_cleaner.output.tail_au                    14149 non-null  float64\n",
      " 69  secondary_cleaner.state.floatbank2_a_air            13932 non-null  float64\n",
      " 70  secondary_cleaner.state.floatbank2_a_level          14148 non-null  float64\n",
      " 71  secondary_cleaner.state.floatbank2_b_air            14128 non-null  float64\n",
      " 72  secondary_cleaner.state.floatbank2_b_level          14148 non-null  float64\n",
      " 73  secondary_cleaner.state.floatbank3_a_air            14145 non-null  float64\n",
      " 74  secondary_cleaner.state.floatbank3_a_level          14148 non-null  float64\n",
      " 75  secondary_cleaner.state.floatbank3_b_air            14148 non-null  float64\n",
      " 76  secondary_cleaner.state.floatbank3_b_level          14148 non-null  float64\n",
      " 77  secondary_cleaner.state.floatbank4_a_air            14143 non-null  float64\n",
      " 78  secondary_cleaner.state.floatbank4_a_level          14148 non-null  float64\n",
      " 79  secondary_cleaner.state.floatbank4_b_air            14148 non-null  float64\n",
      " 80  secondary_cleaner.state.floatbank4_b_level          14148 non-null  float64\n",
      " 81  secondary_cleaner.state.floatbank5_a_air            14148 non-null  float64\n",
      " 82  secondary_cleaner.state.floatbank5_a_level          14148 non-null  float64\n",
      " 83  secondary_cleaner.state.floatbank5_b_air            14148 non-null  float64\n",
      " 84  secondary_cleaner.state.floatbank5_b_level          14148 non-null  float64\n",
      " 85  secondary_cleaner.state.floatbank6_a_air            14147 non-null  float64\n",
      " 86  secondary_cleaner.state.floatbank6_a_level          14148 non-null  float64\n",
      "dtypes: float64(86), object(1)\n",
      "memory usage: 9.4+ MB\n"
     ]
    }
   ],
   "source": [
    "# Ознакомление с обучающей выборкой\n",
    "train_data.info()"
   ]
  },
  {
   "cell_type": "code",
   "execution_count": 5,
   "metadata": {},
   "outputs": [
    {
     "name": "stdout",
     "output_type": "stream",
     "text": [
      "<class 'pandas.core.frame.DataFrame'>\n",
      "RangeIndex: 5290 entries, 0 to 5289\n",
      "Data columns (total 53 columns):\n",
      " #   Column                                      Non-Null Count  Dtype  \n",
      "---  ------                                      --------------  -----  \n",
      " 0   date                                        5290 non-null   object \n",
      " 1   primary_cleaner.input.sulfate               5286 non-null   float64\n",
      " 2   primary_cleaner.input.depressant            5285 non-null   float64\n",
      " 3   primary_cleaner.input.feed_size             5290 non-null   float64\n",
      " 4   primary_cleaner.input.xanthate              5286 non-null   float64\n",
      " 5   primary_cleaner.state.floatbank8_a_air      5290 non-null   float64\n",
      " 6   primary_cleaner.state.floatbank8_a_level    5290 non-null   float64\n",
      " 7   primary_cleaner.state.floatbank8_b_air      5290 non-null   float64\n",
      " 8   primary_cleaner.state.floatbank8_b_level    5290 non-null   float64\n",
      " 9   primary_cleaner.state.floatbank8_c_air      5290 non-null   float64\n",
      " 10  primary_cleaner.state.floatbank8_c_level    5290 non-null   float64\n",
      " 11  primary_cleaner.state.floatbank8_d_air      5290 non-null   float64\n",
      " 12  primary_cleaner.state.floatbank8_d_level    5290 non-null   float64\n",
      " 13  rougher.input.feed_ag                       5290 non-null   float64\n",
      " 14  rougher.input.feed_pb                       5290 non-null   float64\n",
      " 15  rougher.input.feed_rate                     5287 non-null   float64\n",
      " 16  rougher.input.feed_size                     5289 non-null   float64\n",
      " 17  rougher.input.feed_sol                      5269 non-null   float64\n",
      " 18  rougher.input.feed_au                       5290 non-null   float64\n",
      " 19  rougher.input.floatbank10_sulfate           5285 non-null   float64\n",
      " 20  rougher.input.floatbank10_xanthate          5290 non-null   float64\n",
      " 21  rougher.input.floatbank11_sulfate           5282 non-null   float64\n",
      " 22  rougher.input.floatbank11_xanthate          5265 non-null   float64\n",
      " 23  rougher.state.floatbank10_a_air             5290 non-null   float64\n",
      " 24  rougher.state.floatbank10_a_level           5290 non-null   float64\n",
      " 25  rougher.state.floatbank10_b_air             5290 non-null   float64\n",
      " 26  rougher.state.floatbank10_b_level           5290 non-null   float64\n",
      " 27  rougher.state.floatbank10_c_air             5290 non-null   float64\n",
      " 28  rougher.state.floatbank10_c_level           5290 non-null   float64\n",
      " 29  rougher.state.floatbank10_d_air             5290 non-null   float64\n",
      " 30  rougher.state.floatbank10_d_level           5290 non-null   float64\n",
      " 31  rougher.state.floatbank10_e_air             5290 non-null   float64\n",
      " 32  rougher.state.floatbank10_e_level           5290 non-null   float64\n",
      " 33  rougher.state.floatbank10_f_air             5290 non-null   float64\n",
      " 34  rougher.state.floatbank10_f_level           5290 non-null   float64\n",
      " 35  secondary_cleaner.state.floatbank2_a_air    5287 non-null   float64\n",
      " 36  secondary_cleaner.state.floatbank2_a_level  5290 non-null   float64\n",
      " 37  secondary_cleaner.state.floatbank2_b_air    5288 non-null   float64\n",
      " 38  secondary_cleaner.state.floatbank2_b_level  5290 non-null   float64\n",
      " 39  secondary_cleaner.state.floatbank3_a_air    5281 non-null   float64\n",
      " 40  secondary_cleaner.state.floatbank3_a_level  5290 non-null   float64\n",
      " 41  secondary_cleaner.state.floatbank3_b_air    5290 non-null   float64\n",
      " 42  secondary_cleaner.state.floatbank3_b_level  5290 non-null   float64\n",
      " 43  secondary_cleaner.state.floatbank4_a_air    5290 non-null   float64\n",
      " 44  secondary_cleaner.state.floatbank4_a_level  5290 non-null   float64\n",
      " 45  secondary_cleaner.state.floatbank4_b_air    5290 non-null   float64\n",
      " 46  secondary_cleaner.state.floatbank4_b_level  5290 non-null   float64\n",
      " 47  secondary_cleaner.state.floatbank5_a_air    5290 non-null   float64\n",
      " 48  secondary_cleaner.state.floatbank5_a_level  5290 non-null   float64\n",
      " 49  secondary_cleaner.state.floatbank5_b_air    5290 non-null   float64\n",
      " 50  secondary_cleaner.state.floatbank5_b_level  5290 non-null   float64\n",
      " 51  secondary_cleaner.state.floatbank6_a_air    5290 non-null   float64\n",
      " 52  secondary_cleaner.state.floatbank6_a_level  5290 non-null   float64\n",
      "dtypes: float64(52), object(1)\n",
      "memory usage: 2.1+ MB\n"
     ]
    }
   ],
   "source": [
    "# Ознакомление с тестовой выборкой\n",
    "test_data.info()"
   ]
  },
  {
   "cell_type": "code",
   "execution_count": 6,
   "metadata": {},
   "outputs": [
    {
     "name": "stdout",
     "output_type": "stream",
     "text": [
      "Размер обучающей выборки: (14149, 87)\n",
      "Размер тестовой выборки: (5290, 53)\n",
      "Размер исходных данных: (19439, 87)\n"
     ]
    }
   ],
   "source": [
    "# Просмотр форм датасетов\n",
    "print('Размер обучающей выборки:', train_data.shape)\n",
    "print('Размер тестовой выборки:', test_data.shape)\n",
    "print('Размер исходных данных:', full_data.shape)"
   ]
  },
  {
   "cell_type": "markdown",
   "metadata": {},
   "source": [
    "В тестовой выборке отсутствуют некоторые столбцы. Это могут быть данные, получаемые в ходе технологического процесса."
   ]
  },
  {
   "cell_type": "code",
   "execution_count": 7,
   "metadata": {},
   "outputs": [
    {
     "data": {
      "text/html": [
       "<div>\n",
       "<style scoped>\n",
       "    .dataframe tbody tr th:only-of-type {\n",
       "        vertical-align: middle;\n",
       "    }\n",
       "\n",
       "    .dataframe tbody tr th {\n",
       "        vertical-align: top;\n",
       "    }\n",
       "\n",
       "    .dataframe thead th {\n",
       "        text-align: right;\n",
       "    }\n",
       "</style>\n",
       "<table border=\"1\" class=\"dataframe\">\n",
       "  <thead>\n",
       "    <tr style=\"text-align: right;\">\n",
       "      <th></th>\n",
       "      <th>0</th>\n",
       "      <th>1</th>\n",
       "      <th>2</th>\n",
       "      <th>3</th>\n",
       "      <th>4</th>\n",
       "    </tr>\n",
       "  </thead>\n",
       "  <tbody>\n",
       "    <tr>\n",
       "      <th>date</th>\n",
       "      <td>2016-01-15 00:00:00</td>\n",
       "      <td>2016-01-15 01:00:00</td>\n",
       "      <td>2016-01-15 02:00:00</td>\n",
       "      <td>2016-01-15 03:00:00</td>\n",
       "      <td>2016-01-15 04:00:00</td>\n",
       "    </tr>\n",
       "    <tr>\n",
       "      <th>final.output.concentrate_ag</th>\n",
       "      <td>6.055403</td>\n",
       "      <td>6.029369</td>\n",
       "      <td>6.055926</td>\n",
       "      <td>6.047977</td>\n",
       "      <td>6.148599</td>\n",
       "    </tr>\n",
       "    <tr>\n",
       "      <th>final.output.concentrate_pb</th>\n",
       "      <td>9.889648</td>\n",
       "      <td>9.968944</td>\n",
       "      <td>10.213995</td>\n",
       "      <td>9.977019</td>\n",
       "      <td>10.142511</td>\n",
       "    </tr>\n",
       "    <tr>\n",
       "      <th>final.output.concentrate_sol</th>\n",
       "      <td>5.507324</td>\n",
       "      <td>5.257781</td>\n",
       "      <td>5.383759</td>\n",
       "      <td>4.858634</td>\n",
       "      <td>4.939416</td>\n",
       "    </tr>\n",
       "    <tr>\n",
       "      <th>final.output.concentrate_au</th>\n",
       "      <td>42.19202</td>\n",
       "      <td>42.701629</td>\n",
       "      <td>42.657501</td>\n",
       "      <td>42.689819</td>\n",
       "      <td>42.774141</td>\n",
       "    </tr>\n",
       "    <tr>\n",
       "      <th>...</th>\n",
       "      <td>...</td>\n",
       "      <td>...</td>\n",
       "      <td>...</td>\n",
       "      <td>...</td>\n",
       "      <td>...</td>\n",
       "    </tr>\n",
       "    <tr>\n",
       "      <th>secondary_cleaner.state.floatbank5_a_level</th>\n",
       "      <td>-498.310211</td>\n",
       "      <td>-500.169983</td>\n",
       "      <td>-500.129135</td>\n",
       "      <td>-499.20164</td>\n",
       "      <td>-501.686727</td>\n",
       "    </tr>\n",
       "    <tr>\n",
       "      <th>secondary_cleaner.state.floatbank5_b_air</th>\n",
       "      <td>8.079666</td>\n",
       "      <td>7.984757</td>\n",
       "      <td>8.013877</td>\n",
       "      <td>7.977324</td>\n",
       "      <td>7.894242</td>\n",
       "    </tr>\n",
       "    <tr>\n",
       "      <th>secondary_cleaner.state.floatbank5_b_level</th>\n",
       "      <td>-500.470978</td>\n",
       "      <td>-500.582168</td>\n",
       "      <td>-500.517572</td>\n",
       "      <td>-500.255908</td>\n",
       "      <td>-500.356035</td>\n",
       "    </tr>\n",
       "    <tr>\n",
       "      <th>secondary_cleaner.state.floatbank6_a_air</th>\n",
       "      <td>14.151341</td>\n",
       "      <td>13.998353</td>\n",
       "      <td>14.028663</td>\n",
       "      <td>14.005551</td>\n",
       "      <td>13.996647</td>\n",
       "    </tr>\n",
       "    <tr>\n",
       "      <th>secondary_cleaner.state.floatbank6_a_level</th>\n",
       "      <td>-605.84198</td>\n",
       "      <td>-599.787184</td>\n",
       "      <td>-601.427363</td>\n",
       "      <td>-599.996129</td>\n",
       "      <td>-601.496691</td>\n",
       "    </tr>\n",
       "  </tbody>\n",
       "</table>\n",
       "<p>87 rows × 5 columns</p>\n",
       "</div>"
      ],
      "text/plain": [
       "                                                              0  \\\n",
       "date                                        2016-01-15 00:00:00   \n",
       "final.output.concentrate_ag                            6.055403   \n",
       "final.output.concentrate_pb                            9.889648   \n",
       "final.output.concentrate_sol                           5.507324   \n",
       "final.output.concentrate_au                            42.19202   \n",
       "...                                                         ...   \n",
       "secondary_cleaner.state.floatbank5_a_level          -498.310211   \n",
       "secondary_cleaner.state.floatbank5_b_air               8.079666   \n",
       "secondary_cleaner.state.floatbank5_b_level          -500.470978   \n",
       "secondary_cleaner.state.floatbank6_a_air              14.151341   \n",
       "secondary_cleaner.state.floatbank6_a_level           -605.84198   \n",
       "\n",
       "                                                              1  \\\n",
       "date                                        2016-01-15 01:00:00   \n",
       "final.output.concentrate_ag                            6.029369   \n",
       "final.output.concentrate_pb                            9.968944   \n",
       "final.output.concentrate_sol                           5.257781   \n",
       "final.output.concentrate_au                           42.701629   \n",
       "...                                                         ...   \n",
       "secondary_cleaner.state.floatbank5_a_level          -500.169983   \n",
       "secondary_cleaner.state.floatbank5_b_air               7.984757   \n",
       "secondary_cleaner.state.floatbank5_b_level          -500.582168   \n",
       "secondary_cleaner.state.floatbank6_a_air              13.998353   \n",
       "secondary_cleaner.state.floatbank6_a_level          -599.787184   \n",
       "\n",
       "                                                              2  \\\n",
       "date                                        2016-01-15 02:00:00   \n",
       "final.output.concentrate_ag                            6.055926   \n",
       "final.output.concentrate_pb                           10.213995   \n",
       "final.output.concentrate_sol                           5.383759   \n",
       "final.output.concentrate_au                           42.657501   \n",
       "...                                                         ...   \n",
       "secondary_cleaner.state.floatbank5_a_level          -500.129135   \n",
       "secondary_cleaner.state.floatbank5_b_air               8.013877   \n",
       "secondary_cleaner.state.floatbank5_b_level          -500.517572   \n",
       "secondary_cleaner.state.floatbank6_a_air              14.028663   \n",
       "secondary_cleaner.state.floatbank6_a_level          -601.427363   \n",
       "\n",
       "                                                              3  \\\n",
       "date                                        2016-01-15 03:00:00   \n",
       "final.output.concentrate_ag                            6.047977   \n",
       "final.output.concentrate_pb                            9.977019   \n",
       "final.output.concentrate_sol                           4.858634   \n",
       "final.output.concentrate_au                           42.689819   \n",
       "...                                                         ...   \n",
       "secondary_cleaner.state.floatbank5_a_level           -499.20164   \n",
       "secondary_cleaner.state.floatbank5_b_air               7.977324   \n",
       "secondary_cleaner.state.floatbank5_b_level          -500.255908   \n",
       "secondary_cleaner.state.floatbank6_a_air              14.005551   \n",
       "secondary_cleaner.state.floatbank6_a_level          -599.996129   \n",
       "\n",
       "                                                              4  \n",
       "date                                        2016-01-15 04:00:00  \n",
       "final.output.concentrate_ag                            6.148599  \n",
       "final.output.concentrate_pb                           10.142511  \n",
       "final.output.concentrate_sol                           4.939416  \n",
       "final.output.concentrate_au                           42.774141  \n",
       "...                                                         ...  \n",
       "secondary_cleaner.state.floatbank5_a_level          -501.686727  \n",
       "secondary_cleaner.state.floatbank5_b_air               7.894242  \n",
       "secondary_cleaner.state.floatbank5_b_level          -500.356035  \n",
       "secondary_cleaner.state.floatbank6_a_air              13.996647  \n",
       "secondary_cleaner.state.floatbank6_a_level          -601.496691  \n",
       "\n",
       "[87 rows x 5 columns]"
      ]
     },
     "execution_count": 7,
     "metadata": {},
     "output_type": "execute_result"
    }
   ],
   "source": [
    "# Вглядимся в данные обучающей выборки\n",
    "train_data.head().T"
   ]
  },
  {
   "cell_type": "code",
   "execution_count": 8,
   "metadata": {},
   "outputs": [
    {
     "data": {
      "text/html": [
       "<div>\n",
       "<style scoped>\n",
       "    .dataframe tbody tr th:only-of-type {\n",
       "        vertical-align: middle;\n",
       "    }\n",
       "\n",
       "    .dataframe tbody tr th {\n",
       "        vertical-align: top;\n",
       "    }\n",
       "\n",
       "    .dataframe thead th {\n",
       "        text-align: right;\n",
       "    }\n",
       "</style>\n",
       "<table border=\"1\" class=\"dataframe\">\n",
       "  <thead>\n",
       "    <tr style=\"text-align: right;\">\n",
       "      <th></th>\n",
       "      <th>0</th>\n",
       "      <th>1</th>\n",
       "      <th>2</th>\n",
       "      <th>3</th>\n",
       "      <th>4</th>\n",
       "    </tr>\n",
       "  </thead>\n",
       "  <tbody>\n",
       "    <tr>\n",
       "      <th>date</th>\n",
       "      <td>2016-09-01 00:59:59</td>\n",
       "      <td>2016-09-01 01:59:59</td>\n",
       "      <td>2016-09-01 02:59:59</td>\n",
       "      <td>2016-09-01 03:59:59</td>\n",
       "      <td>2016-09-01 04:59:59</td>\n",
       "    </tr>\n",
       "    <tr>\n",
       "      <th>primary_cleaner.input.sulfate</th>\n",
       "      <td>210.800909</td>\n",
       "      <td>215.392455</td>\n",
       "      <td>215.259946</td>\n",
       "      <td>215.336236</td>\n",
       "      <td>199.099327</td>\n",
       "    </tr>\n",
       "    <tr>\n",
       "      <th>primary_cleaner.input.depressant</th>\n",
       "      <td>14.993118</td>\n",
       "      <td>14.987471</td>\n",
       "      <td>12.884934</td>\n",
       "      <td>12.006805</td>\n",
       "      <td>10.68253</td>\n",
       "    </tr>\n",
       "    <tr>\n",
       "      <th>primary_cleaner.input.feed_size</th>\n",
       "      <td>8.08</td>\n",
       "      <td>8.08</td>\n",
       "      <td>7.786667</td>\n",
       "      <td>7.64</td>\n",
       "      <td>7.53</td>\n",
       "    </tr>\n",
       "    <tr>\n",
       "      <th>primary_cleaner.input.xanthate</th>\n",
       "      <td>1.005021</td>\n",
       "      <td>0.990469</td>\n",
       "      <td>0.996043</td>\n",
       "      <td>0.863514</td>\n",
       "      <td>0.805575</td>\n",
       "    </tr>\n",
       "    <tr>\n",
       "      <th>primary_cleaner.state.floatbank8_a_air</th>\n",
       "      <td>1398.981301</td>\n",
       "      <td>1398.777912</td>\n",
       "      <td>1398.493666</td>\n",
       "      <td>1399.618111</td>\n",
       "      <td>1401.268123</td>\n",
       "    </tr>\n",
       "    <tr>\n",
       "      <th>primary_cleaner.state.floatbank8_a_level</th>\n",
       "      <td>-500.225577</td>\n",
       "      <td>-500.057435</td>\n",
       "      <td>-500.86836</td>\n",
       "      <td>-498.863574</td>\n",
       "      <td>-500.808305</td>\n",
       "    </tr>\n",
       "    <tr>\n",
       "      <th>primary_cleaner.state.floatbank8_b_air</th>\n",
       "      <td>1399.144926</td>\n",
       "      <td>1398.055362</td>\n",
       "      <td>1398.860436</td>\n",
       "      <td>1397.44012</td>\n",
       "      <td>1398.128818</td>\n",
       "    </tr>\n",
       "    <tr>\n",
       "      <th>primary_cleaner.state.floatbank8_b_level</th>\n",
       "      <td>-499.919735</td>\n",
       "      <td>-499.778182</td>\n",
       "      <td>-499.764529</td>\n",
       "      <td>-499.211024</td>\n",
       "      <td>-499.504543</td>\n",
       "    </tr>\n",
       "    <tr>\n",
       "      <th>primary_cleaner.state.floatbank8_c_air</th>\n",
       "      <td>1400.102998</td>\n",
       "      <td>1396.151033</td>\n",
       "      <td>1398.075709</td>\n",
       "      <td>1400.129303</td>\n",
       "      <td>1402.172226</td>\n",
       "    </tr>\n",
       "    <tr>\n",
       "      <th>primary_cleaner.state.floatbank8_c_level</th>\n",
       "      <td>-500.704369</td>\n",
       "      <td>-499.240168</td>\n",
       "      <td>-502.151509</td>\n",
       "      <td>-498.355873</td>\n",
       "      <td>-500.810606</td>\n",
       "    </tr>\n",
       "    <tr>\n",
       "      <th>primary_cleaner.state.floatbank8_d_air</th>\n",
       "      <td>1399.001695</td>\n",
       "      <td>1399.508091</td>\n",
       "      <td>1399.497088</td>\n",
       "      <td>1401.065165</td>\n",
       "      <td>1399.480508</td>\n",
       "    </tr>\n",
       "    <tr>\n",
       "      <th>primary_cleaner.state.floatbank8_d_level</th>\n",
       "      <td>-499.485144</td>\n",
       "      <td>-500.416324</td>\n",
       "      <td>-499.715479</td>\n",
       "      <td>-501.038738</td>\n",
       "      <td>-499.374053</td>\n",
       "    </tr>\n",
       "    <tr>\n",
       "      <th>rougher.input.feed_ag</th>\n",
       "      <td>13.128569</td>\n",
       "      <td>13.03628</td>\n",
       "      <td>13.138412</td>\n",
       "      <td>12.400507</td>\n",
       "      <td>11.327427</td>\n",
       "    </tr>\n",
       "    <tr>\n",
       "      <th>rougher.input.feed_pb</th>\n",
       "      <td>5.63671</td>\n",
       "      <td>5.526065</td>\n",
       "      <td>5.426561</td>\n",
       "      <td>5.114758</td>\n",
       "      <td>4.767383</td>\n",
       "    </tr>\n",
       "    <tr>\n",
       "      <th>rougher.input.feed_rate</th>\n",
       "      <td>489.793655</td>\n",
       "      <td>490.104534</td>\n",
       "      <td>489.617969</td>\n",
       "      <td>476.61813</td>\n",
       "      <td>488.248117</td>\n",
       "    </tr>\n",
       "    <tr>\n",
       "      <th>rougher.input.feed_size</th>\n",
       "      <td>62.710452</td>\n",
       "      <td>61.961163</td>\n",
       "      <td>66.903807</td>\n",
       "      <td>59.865919</td>\n",
       "      <td>63.315324</td>\n",
       "    </tr>\n",
       "    <tr>\n",
       "      <th>rougher.input.feed_sol</th>\n",
       "      <td>42.02244</td>\n",
       "      <td>41.187903</td>\n",
       "      <td>42.546294</td>\n",
       "      <td>41.060195</td>\n",
       "      <td>41.269161</td>\n",
       "    </tr>\n",
       "    <tr>\n",
       "      <th>rougher.input.feed_au</th>\n",
       "      <td>12.084103</td>\n",
       "      <td>11.918977</td>\n",
       "      <td>12.091332</td>\n",
       "      <td>12.181597</td>\n",
       "      <td>11.290425</td>\n",
       "    </tr>\n",
       "    <tr>\n",
       "      <th>rougher.input.floatbank10_sulfate</th>\n",
       "      <td>16.922877</td>\n",
       "      <td>17.002532</td>\n",
       "      <td>16.99252</td>\n",
       "      <td>16.532144</td>\n",
       "      <td>13.607257</td>\n",
       "    </tr>\n",
       "    <tr>\n",
       "      <th>rougher.input.floatbank10_xanthate</th>\n",
       "      <td>6.153479</td>\n",
       "      <td>5.999043</td>\n",
       "      <td>5.850632</td>\n",
       "      <td>5.801935</td>\n",
       "      <td>5.738081</td>\n",
       "    </tr>\n",
       "    <tr>\n",
       "      <th>rougher.input.floatbank11_sulfate</th>\n",
       "      <td>16.867518</td>\n",
       "      <td>16.996063</td>\n",
       "      <td>16.982096</td>\n",
       "      <td>16.515277</td>\n",
       "      <td>13.650053</td>\n",
       "    </tr>\n",
       "    <tr>\n",
       "      <th>rougher.input.floatbank11_xanthate</th>\n",
       "      <td>6.150709</td>\n",
       "      <td>6.002315</td>\n",
       "      <td>5.853594</td>\n",
       "      <td>5.803657</td>\n",
       "      <td>5.739634</td>\n",
       "    </tr>\n",
       "    <tr>\n",
       "      <th>rougher.state.floatbank10_a_air</th>\n",
       "      <td>1001.849317</td>\n",
       "      <td>998.690785</td>\n",
       "      <td>998.51672</td>\n",
       "      <td>1000.276604</td>\n",
       "      <td>996.541302</td>\n",
       "    </tr>\n",
       "    <tr>\n",
       "      <th>rougher.state.floatbank10_a_level</th>\n",
       "      <td>-350.301265</td>\n",
       "      <td>-350.425704</td>\n",
       "      <td>-349.783538</td>\n",
       "      <td>-350.172597</td>\n",
       "      <td>-350.562517</td>\n",
       "    </tr>\n",
       "    <tr>\n",
       "      <th>rougher.state.floatbank10_b_air</th>\n",
       "      <td>1249.738612</td>\n",
       "      <td>1248.395457</td>\n",
       "      <td>1247.440748</td>\n",
       "      <td>1251.322675</td>\n",
       "      <td>1304.658848</td>\n",
       "    </tr>\n",
       "    <tr>\n",
       "      <th>rougher.state.floatbank10_b_level</th>\n",
       "      <td>-399.107531</td>\n",
       "      <td>-399.946025</td>\n",
       "      <td>-400.26433</td>\n",
       "      <td>-398.655289</td>\n",
       "      <td>-399.511519</td>\n",
       "    </tr>\n",
       "    <tr>\n",
       "      <th>rougher.state.floatbank10_c_air</th>\n",
       "      <td>1249.75052</td>\n",
       "      <td>1249.514451</td>\n",
       "      <td>1248.207204</td>\n",
       "      <td>1250.493702</td>\n",
       "      <td>1306.455515</td>\n",
       "    </tr>\n",
       "    <tr>\n",
       "      <th>rougher.state.floatbank10_c_level</th>\n",
       "      <td>-399.39673</td>\n",
       "      <td>-399.63081</td>\n",
       "      <td>-401.074405</td>\n",
       "      <td>-399.746728</td>\n",
       "      <td>-399.050685</td>\n",
       "    </tr>\n",
       "    <tr>\n",
       "      <th>rougher.state.floatbank10_d_air</th>\n",
       "      <td>1198.287855</td>\n",
       "      <td>1200.506459</td>\n",
       "      <td>1199.770026</td>\n",
       "      <td>1199.398691</td>\n",
       "      <td>1248.699349</td>\n",
       "    </tr>\n",
       "    <tr>\n",
       "      <th>rougher.state.floatbank10_d_level</th>\n",
       "      <td>-399.488594</td>\n",
       "      <td>-399.942434</td>\n",
       "      <td>-400.790582</td>\n",
       "      <td>-397.503052</td>\n",
       "      <td>-400.876894</td>\n",
       "    </tr>\n",
       "    <tr>\n",
       "      <th>rougher.state.floatbank10_e_air</th>\n",
       "      <td>999.47225</td>\n",
       "      <td>1000.002114</td>\n",
       "      <td>999.925519</td>\n",
       "      <td>1001.930679</td>\n",
       "      <td>1058.839106</td>\n",
       "    </tr>\n",
       "    <tr>\n",
       "      <th>rougher.state.floatbank10_e_level</th>\n",
       "      <td>-399.530962</td>\n",
       "      <td>-399.491528</td>\n",
       "      <td>-399.236999</td>\n",
       "      <td>-400.437573</td>\n",
       "      <td>-398.988239</td>\n",
       "    </tr>\n",
       "    <tr>\n",
       "      <th>rougher.state.floatbank10_f_air</th>\n",
       "      <td>949.566189</td>\n",
       "      <td>950.200009</td>\n",
       "      <td>950.320481</td>\n",
       "      <td>950.735324</td>\n",
       "      <td>949.645313</td>\n",
       "    </tr>\n",
       "    <tr>\n",
       "      <th>rougher.state.floatbank10_f_level</th>\n",
       "      <td>-398.180807</td>\n",
       "      <td>-405.787514</td>\n",
       "      <td>-400.86434</td>\n",
       "      <td>-399.802986</td>\n",
       "      <td>-399.277632</td>\n",
       "    </tr>\n",
       "    <tr>\n",
       "      <th>secondary_cleaner.state.floatbank2_a_air</th>\n",
       "      <td>24.9382</td>\n",
       "      <td>24.923466</td>\n",
       "      <td>24.908732</td>\n",
       "      <td>24.893998</td>\n",
       "      <td>24.886905</td>\n",
       "    </tr>\n",
       "    <tr>\n",
       "      <th>secondary_cleaner.state.floatbank2_a_level</th>\n",
       "      <td>-500.490963</td>\n",
       "      <td>-499.813963</td>\n",
       "      <td>-500.304035</td>\n",
       "      <td>-499.382374</td>\n",
       "      <td>-499.357375</td>\n",
       "    </tr>\n",
       "    <tr>\n",
       "      <th>secondary_cleaner.state.floatbank2_b_air</th>\n",
       "      <td>14.947607</td>\n",
       "      <td>14.930873</td>\n",
       "      <td>14.996511</td>\n",
       "      <td>14.916674</td>\n",
       "      <td>14.979233</td>\n",
       "    </tr>\n",
       "    <tr>\n",
       "      <th>secondary_cleaner.state.floatbank2_b_level</th>\n",
       "      <td>-500.013837</td>\n",
       "      <td>-500.764452</td>\n",
       "      <td>-500.993821</td>\n",
       "      <td>-499.862299</td>\n",
       "      <td>-500.186804</td>\n",
       "    </tr>\n",
       "    <tr>\n",
       "      <th>secondary_cleaner.state.floatbank3_a_air</th>\n",
       "      <td>20.018166</td>\n",
       "      <td>19.988503</td>\n",
       "      <td>20.039689</td>\n",
       "      <td>20.0311</td>\n",
       "      <td>19.962364</td>\n",
       "    </tr>\n",
       "    <tr>\n",
       "      <th>secondary_cleaner.state.floatbank3_a_level</th>\n",
       "      <td>-450.395995</td>\n",
       "      <td>-450.114024</td>\n",
       "      <td>-450.263164</td>\n",
       "      <td>-449.37257</td>\n",
       "      <td>-450.638828</td>\n",
       "    </tr>\n",
       "    <tr>\n",
       "      <th>secondary_cleaner.state.floatbank3_b_air</th>\n",
       "      <td>13.987058</td>\n",
       "      <td>14.092981</td>\n",
       "      <td>14.077881</td>\n",
       "      <td>14.013968</td>\n",
       "      <td>14.009245</td>\n",
       "    </tr>\n",
       "    <tr>\n",
       "      <th>secondary_cleaner.state.floatbank3_b_level</th>\n",
       "      <td>-449.831513</td>\n",
       "      <td>-450.059163</td>\n",
       "      <td>-449.660997</td>\n",
       "      <td>-449.5269</td>\n",
       "      <td>-450.022259</td>\n",
       "    </tr>\n",
       "    <tr>\n",
       "      <th>secondary_cleaner.state.floatbank4_a_air</th>\n",
       "      <td>12.023554</td>\n",
       "      <td>12.05814</td>\n",
       "      <td>11.962366</td>\n",
       "      <td>12.033091</td>\n",
       "      <td>12.025367</td>\n",
       "    </tr>\n",
       "    <tr>\n",
       "      <th>secondary_cleaner.state.floatbank4_a_level</th>\n",
       "      <td>-497.795834</td>\n",
       "      <td>-498.695773</td>\n",
       "      <td>-498.767484</td>\n",
       "      <td>-498.350935</td>\n",
       "      <td>-500.786497</td>\n",
       "    </tr>\n",
       "    <tr>\n",
       "      <th>secondary_cleaner.state.floatbank4_b_air</th>\n",
       "      <td>8.016656</td>\n",
       "      <td>8.130979</td>\n",
       "      <td>8.096893</td>\n",
       "      <td>8.074946</td>\n",
       "      <td>8.054678</td>\n",
       "    </tr>\n",
       "    <tr>\n",
       "      <th>secondary_cleaner.state.floatbank4_b_level</th>\n",
       "      <td>-501.289139</td>\n",
       "      <td>-499.634209</td>\n",
       "      <td>-500.827423</td>\n",
       "      <td>-499.474407</td>\n",
       "      <td>-500.3975</td>\n",
       "    </tr>\n",
       "    <tr>\n",
       "      <th>secondary_cleaner.state.floatbank5_a_air</th>\n",
       "      <td>7.946562</td>\n",
       "      <td>7.95827</td>\n",
       "      <td>8.071056</td>\n",
       "      <td>7.897085</td>\n",
       "      <td>8.10789</td>\n",
       "    </tr>\n",
       "    <tr>\n",
       "      <th>secondary_cleaner.state.floatbank5_a_level</th>\n",
       "      <td>-432.31785</td>\n",
       "      <td>-525.839648</td>\n",
       "      <td>-500.801673</td>\n",
       "      <td>-500.868509</td>\n",
       "      <td>-509.526725</td>\n",
       "    </tr>\n",
       "    <tr>\n",
       "      <th>secondary_cleaner.state.floatbank5_b_air</th>\n",
       "      <td>4.872511</td>\n",
       "      <td>4.87885</td>\n",
       "      <td>4.905125</td>\n",
       "      <td>4.9314</td>\n",
       "      <td>4.957674</td>\n",
       "    </tr>\n",
       "    <tr>\n",
       "      <th>secondary_cleaner.state.floatbank5_b_level</th>\n",
       "      <td>-500.037437</td>\n",
       "      <td>-500.162375</td>\n",
       "      <td>-499.82851</td>\n",
       "      <td>-499.963623</td>\n",
       "      <td>-500.360026</td>\n",
       "    </tr>\n",
       "    <tr>\n",
       "      <th>secondary_cleaner.state.floatbank6_a_air</th>\n",
       "      <td>26.705889</td>\n",
       "      <td>25.01994</td>\n",
       "      <td>24.994862</td>\n",
       "      <td>24.948919</td>\n",
       "      <td>25.003331</td>\n",
       "    </tr>\n",
       "    <tr>\n",
       "      <th>secondary_cleaner.state.floatbank6_a_level</th>\n",
       "      <td>-499.709414</td>\n",
       "      <td>-499.819438</td>\n",
       "      <td>-500.622559</td>\n",
       "      <td>-498.709987</td>\n",
       "      <td>-500.856333</td>\n",
       "    </tr>\n",
       "  </tbody>\n",
       "</table>\n",
       "</div>"
      ],
      "text/plain": [
       "                                                              0  \\\n",
       "date                                        2016-09-01 00:59:59   \n",
       "primary_cleaner.input.sulfate                        210.800909   \n",
       "primary_cleaner.input.depressant                      14.993118   \n",
       "primary_cleaner.input.feed_size                            8.08   \n",
       "primary_cleaner.input.xanthate                         1.005021   \n",
       "primary_cleaner.state.floatbank8_a_air              1398.981301   \n",
       "primary_cleaner.state.floatbank8_a_level            -500.225577   \n",
       "primary_cleaner.state.floatbank8_b_air              1399.144926   \n",
       "primary_cleaner.state.floatbank8_b_level            -499.919735   \n",
       "primary_cleaner.state.floatbank8_c_air              1400.102998   \n",
       "primary_cleaner.state.floatbank8_c_level            -500.704369   \n",
       "primary_cleaner.state.floatbank8_d_air              1399.001695   \n",
       "primary_cleaner.state.floatbank8_d_level            -499.485144   \n",
       "rougher.input.feed_ag                                 13.128569   \n",
       "rougher.input.feed_pb                                   5.63671   \n",
       "rougher.input.feed_rate                              489.793655   \n",
       "rougher.input.feed_size                               62.710452   \n",
       "rougher.input.feed_sol                                 42.02244   \n",
       "rougher.input.feed_au                                 12.084103   \n",
       "rougher.input.floatbank10_sulfate                     16.922877   \n",
       "rougher.input.floatbank10_xanthate                     6.153479   \n",
       "rougher.input.floatbank11_sulfate                     16.867518   \n",
       "rougher.input.floatbank11_xanthate                     6.150709   \n",
       "rougher.state.floatbank10_a_air                     1001.849317   \n",
       "rougher.state.floatbank10_a_level                   -350.301265   \n",
       "rougher.state.floatbank10_b_air                     1249.738612   \n",
       "rougher.state.floatbank10_b_level                   -399.107531   \n",
       "rougher.state.floatbank10_c_air                      1249.75052   \n",
       "rougher.state.floatbank10_c_level                    -399.39673   \n",
       "rougher.state.floatbank10_d_air                     1198.287855   \n",
       "rougher.state.floatbank10_d_level                   -399.488594   \n",
       "rougher.state.floatbank10_e_air                       999.47225   \n",
       "rougher.state.floatbank10_e_level                   -399.530962   \n",
       "rougher.state.floatbank10_f_air                      949.566189   \n",
       "rougher.state.floatbank10_f_level                   -398.180807   \n",
       "secondary_cleaner.state.floatbank2_a_air                24.9382   \n",
       "secondary_cleaner.state.floatbank2_a_level          -500.490963   \n",
       "secondary_cleaner.state.floatbank2_b_air              14.947607   \n",
       "secondary_cleaner.state.floatbank2_b_level          -500.013837   \n",
       "secondary_cleaner.state.floatbank3_a_air              20.018166   \n",
       "secondary_cleaner.state.floatbank3_a_level          -450.395995   \n",
       "secondary_cleaner.state.floatbank3_b_air              13.987058   \n",
       "secondary_cleaner.state.floatbank3_b_level          -449.831513   \n",
       "secondary_cleaner.state.floatbank4_a_air              12.023554   \n",
       "secondary_cleaner.state.floatbank4_a_level          -497.795834   \n",
       "secondary_cleaner.state.floatbank4_b_air               8.016656   \n",
       "secondary_cleaner.state.floatbank4_b_level          -501.289139   \n",
       "secondary_cleaner.state.floatbank5_a_air               7.946562   \n",
       "secondary_cleaner.state.floatbank5_a_level           -432.31785   \n",
       "secondary_cleaner.state.floatbank5_b_air               4.872511   \n",
       "secondary_cleaner.state.floatbank5_b_level          -500.037437   \n",
       "secondary_cleaner.state.floatbank6_a_air              26.705889   \n",
       "secondary_cleaner.state.floatbank6_a_level          -499.709414   \n",
       "\n",
       "                                                              1  \\\n",
       "date                                        2016-09-01 01:59:59   \n",
       "primary_cleaner.input.sulfate                        215.392455   \n",
       "primary_cleaner.input.depressant                      14.987471   \n",
       "primary_cleaner.input.feed_size                            8.08   \n",
       "primary_cleaner.input.xanthate                         0.990469   \n",
       "primary_cleaner.state.floatbank8_a_air              1398.777912   \n",
       "primary_cleaner.state.floatbank8_a_level            -500.057435   \n",
       "primary_cleaner.state.floatbank8_b_air              1398.055362   \n",
       "primary_cleaner.state.floatbank8_b_level            -499.778182   \n",
       "primary_cleaner.state.floatbank8_c_air              1396.151033   \n",
       "primary_cleaner.state.floatbank8_c_level            -499.240168   \n",
       "primary_cleaner.state.floatbank8_d_air              1399.508091   \n",
       "primary_cleaner.state.floatbank8_d_level            -500.416324   \n",
       "rougher.input.feed_ag                                  13.03628   \n",
       "rougher.input.feed_pb                                  5.526065   \n",
       "rougher.input.feed_rate                              490.104534   \n",
       "rougher.input.feed_size                               61.961163   \n",
       "rougher.input.feed_sol                                41.187903   \n",
       "rougher.input.feed_au                                 11.918977   \n",
       "rougher.input.floatbank10_sulfate                     17.002532   \n",
       "rougher.input.floatbank10_xanthate                     5.999043   \n",
       "rougher.input.floatbank11_sulfate                     16.996063   \n",
       "rougher.input.floatbank11_xanthate                     6.002315   \n",
       "rougher.state.floatbank10_a_air                      998.690785   \n",
       "rougher.state.floatbank10_a_level                   -350.425704   \n",
       "rougher.state.floatbank10_b_air                     1248.395457   \n",
       "rougher.state.floatbank10_b_level                   -399.946025   \n",
       "rougher.state.floatbank10_c_air                     1249.514451   \n",
       "rougher.state.floatbank10_c_level                    -399.63081   \n",
       "rougher.state.floatbank10_d_air                     1200.506459   \n",
       "rougher.state.floatbank10_d_level                   -399.942434   \n",
       "rougher.state.floatbank10_e_air                     1000.002114   \n",
       "rougher.state.floatbank10_e_level                   -399.491528   \n",
       "rougher.state.floatbank10_f_air                      950.200009   \n",
       "rougher.state.floatbank10_f_level                   -405.787514   \n",
       "secondary_cleaner.state.floatbank2_a_air              24.923466   \n",
       "secondary_cleaner.state.floatbank2_a_level          -499.813963   \n",
       "secondary_cleaner.state.floatbank2_b_air              14.930873   \n",
       "secondary_cleaner.state.floatbank2_b_level          -500.764452   \n",
       "secondary_cleaner.state.floatbank3_a_air              19.988503   \n",
       "secondary_cleaner.state.floatbank3_a_level          -450.114024   \n",
       "secondary_cleaner.state.floatbank3_b_air              14.092981   \n",
       "secondary_cleaner.state.floatbank3_b_level          -450.059163   \n",
       "secondary_cleaner.state.floatbank4_a_air               12.05814   \n",
       "secondary_cleaner.state.floatbank4_a_level          -498.695773   \n",
       "secondary_cleaner.state.floatbank4_b_air               8.130979   \n",
       "secondary_cleaner.state.floatbank4_b_level          -499.634209   \n",
       "secondary_cleaner.state.floatbank5_a_air                7.95827   \n",
       "secondary_cleaner.state.floatbank5_a_level          -525.839648   \n",
       "secondary_cleaner.state.floatbank5_b_air                4.87885   \n",
       "secondary_cleaner.state.floatbank5_b_level          -500.162375   \n",
       "secondary_cleaner.state.floatbank6_a_air               25.01994   \n",
       "secondary_cleaner.state.floatbank6_a_level          -499.819438   \n",
       "\n",
       "                                                              2  \\\n",
       "date                                        2016-09-01 02:59:59   \n",
       "primary_cleaner.input.sulfate                        215.259946   \n",
       "primary_cleaner.input.depressant                      12.884934   \n",
       "primary_cleaner.input.feed_size                        7.786667   \n",
       "primary_cleaner.input.xanthate                         0.996043   \n",
       "primary_cleaner.state.floatbank8_a_air              1398.493666   \n",
       "primary_cleaner.state.floatbank8_a_level             -500.86836   \n",
       "primary_cleaner.state.floatbank8_b_air              1398.860436   \n",
       "primary_cleaner.state.floatbank8_b_level            -499.764529   \n",
       "primary_cleaner.state.floatbank8_c_air              1398.075709   \n",
       "primary_cleaner.state.floatbank8_c_level            -502.151509   \n",
       "primary_cleaner.state.floatbank8_d_air              1399.497088   \n",
       "primary_cleaner.state.floatbank8_d_level            -499.715479   \n",
       "rougher.input.feed_ag                                 13.138412   \n",
       "rougher.input.feed_pb                                  5.426561   \n",
       "rougher.input.feed_rate                              489.617969   \n",
       "rougher.input.feed_size                               66.903807   \n",
       "rougher.input.feed_sol                                42.546294   \n",
       "rougher.input.feed_au                                 12.091332   \n",
       "rougher.input.floatbank10_sulfate                      16.99252   \n",
       "rougher.input.floatbank10_xanthate                     5.850632   \n",
       "rougher.input.floatbank11_sulfate                     16.982096   \n",
       "rougher.input.floatbank11_xanthate                     5.853594   \n",
       "rougher.state.floatbank10_a_air                       998.51672   \n",
       "rougher.state.floatbank10_a_level                   -349.783538   \n",
       "rougher.state.floatbank10_b_air                     1247.440748   \n",
       "rougher.state.floatbank10_b_level                    -400.26433   \n",
       "rougher.state.floatbank10_c_air                     1248.207204   \n",
       "rougher.state.floatbank10_c_level                   -401.074405   \n",
       "rougher.state.floatbank10_d_air                     1199.770026   \n",
       "rougher.state.floatbank10_d_level                   -400.790582   \n",
       "rougher.state.floatbank10_e_air                      999.925519   \n",
       "rougher.state.floatbank10_e_level                   -399.236999   \n",
       "rougher.state.floatbank10_f_air                      950.320481   \n",
       "rougher.state.floatbank10_f_level                    -400.86434   \n",
       "secondary_cleaner.state.floatbank2_a_air              24.908732   \n",
       "secondary_cleaner.state.floatbank2_a_level          -500.304035   \n",
       "secondary_cleaner.state.floatbank2_b_air              14.996511   \n",
       "secondary_cleaner.state.floatbank2_b_level          -500.993821   \n",
       "secondary_cleaner.state.floatbank3_a_air              20.039689   \n",
       "secondary_cleaner.state.floatbank3_a_level          -450.263164   \n",
       "secondary_cleaner.state.floatbank3_b_air              14.077881   \n",
       "secondary_cleaner.state.floatbank3_b_level          -449.660997   \n",
       "secondary_cleaner.state.floatbank4_a_air              11.962366   \n",
       "secondary_cleaner.state.floatbank4_a_level          -498.767484   \n",
       "secondary_cleaner.state.floatbank4_b_air               8.096893   \n",
       "secondary_cleaner.state.floatbank4_b_level          -500.827423   \n",
       "secondary_cleaner.state.floatbank5_a_air               8.071056   \n",
       "secondary_cleaner.state.floatbank5_a_level          -500.801673   \n",
       "secondary_cleaner.state.floatbank5_b_air               4.905125   \n",
       "secondary_cleaner.state.floatbank5_b_level           -499.82851   \n",
       "secondary_cleaner.state.floatbank6_a_air              24.994862   \n",
       "secondary_cleaner.state.floatbank6_a_level          -500.622559   \n",
       "\n",
       "                                                              3  \\\n",
       "date                                        2016-09-01 03:59:59   \n",
       "primary_cleaner.input.sulfate                        215.336236   \n",
       "primary_cleaner.input.depressant                      12.006805   \n",
       "primary_cleaner.input.feed_size                            7.64   \n",
       "primary_cleaner.input.xanthate                         0.863514   \n",
       "primary_cleaner.state.floatbank8_a_air              1399.618111   \n",
       "primary_cleaner.state.floatbank8_a_level            -498.863574   \n",
       "primary_cleaner.state.floatbank8_b_air               1397.44012   \n",
       "primary_cleaner.state.floatbank8_b_level            -499.211024   \n",
       "primary_cleaner.state.floatbank8_c_air              1400.129303   \n",
       "primary_cleaner.state.floatbank8_c_level            -498.355873   \n",
       "primary_cleaner.state.floatbank8_d_air              1401.065165   \n",
       "primary_cleaner.state.floatbank8_d_level            -501.038738   \n",
       "rougher.input.feed_ag                                 12.400507   \n",
       "rougher.input.feed_pb                                  5.114758   \n",
       "rougher.input.feed_rate                               476.61813   \n",
       "rougher.input.feed_size                               59.865919   \n",
       "rougher.input.feed_sol                                41.060195   \n",
       "rougher.input.feed_au                                 12.181597   \n",
       "rougher.input.floatbank10_sulfate                     16.532144   \n",
       "rougher.input.floatbank10_xanthate                     5.801935   \n",
       "rougher.input.floatbank11_sulfate                     16.515277   \n",
       "rougher.input.floatbank11_xanthate                     5.803657   \n",
       "rougher.state.floatbank10_a_air                     1000.276604   \n",
       "rougher.state.floatbank10_a_level                   -350.172597   \n",
       "rougher.state.floatbank10_b_air                     1251.322675   \n",
       "rougher.state.floatbank10_b_level                   -398.655289   \n",
       "rougher.state.floatbank10_c_air                     1250.493702   \n",
       "rougher.state.floatbank10_c_level                   -399.746728   \n",
       "rougher.state.floatbank10_d_air                     1199.398691   \n",
       "rougher.state.floatbank10_d_level                   -397.503052   \n",
       "rougher.state.floatbank10_e_air                     1001.930679   \n",
       "rougher.state.floatbank10_e_level                   -400.437573   \n",
       "rougher.state.floatbank10_f_air                      950.735324   \n",
       "rougher.state.floatbank10_f_level                   -399.802986   \n",
       "secondary_cleaner.state.floatbank2_a_air              24.893998   \n",
       "secondary_cleaner.state.floatbank2_a_level          -499.382374   \n",
       "secondary_cleaner.state.floatbank2_b_air              14.916674   \n",
       "secondary_cleaner.state.floatbank2_b_level          -499.862299   \n",
       "secondary_cleaner.state.floatbank3_a_air                20.0311   \n",
       "secondary_cleaner.state.floatbank3_a_level           -449.37257   \n",
       "secondary_cleaner.state.floatbank3_b_air              14.013968   \n",
       "secondary_cleaner.state.floatbank3_b_level            -449.5269   \n",
       "secondary_cleaner.state.floatbank4_a_air              12.033091   \n",
       "secondary_cleaner.state.floatbank4_a_level          -498.350935   \n",
       "secondary_cleaner.state.floatbank4_b_air               8.074946   \n",
       "secondary_cleaner.state.floatbank4_b_level          -499.474407   \n",
       "secondary_cleaner.state.floatbank5_a_air               7.897085   \n",
       "secondary_cleaner.state.floatbank5_a_level          -500.868509   \n",
       "secondary_cleaner.state.floatbank5_b_air                 4.9314   \n",
       "secondary_cleaner.state.floatbank5_b_level          -499.963623   \n",
       "secondary_cleaner.state.floatbank6_a_air              24.948919   \n",
       "secondary_cleaner.state.floatbank6_a_level          -498.709987   \n",
       "\n",
       "                                                              4  \n",
       "date                                        2016-09-01 04:59:59  \n",
       "primary_cleaner.input.sulfate                        199.099327  \n",
       "primary_cleaner.input.depressant                       10.68253  \n",
       "primary_cleaner.input.feed_size                            7.53  \n",
       "primary_cleaner.input.xanthate                         0.805575  \n",
       "primary_cleaner.state.floatbank8_a_air              1401.268123  \n",
       "primary_cleaner.state.floatbank8_a_level            -500.808305  \n",
       "primary_cleaner.state.floatbank8_b_air              1398.128818  \n",
       "primary_cleaner.state.floatbank8_b_level            -499.504543  \n",
       "primary_cleaner.state.floatbank8_c_air              1402.172226  \n",
       "primary_cleaner.state.floatbank8_c_level            -500.810606  \n",
       "primary_cleaner.state.floatbank8_d_air              1399.480508  \n",
       "primary_cleaner.state.floatbank8_d_level            -499.374053  \n",
       "rougher.input.feed_ag                                 11.327427  \n",
       "rougher.input.feed_pb                                  4.767383  \n",
       "rougher.input.feed_rate                              488.248117  \n",
       "rougher.input.feed_size                               63.315324  \n",
       "rougher.input.feed_sol                                41.269161  \n",
       "rougher.input.feed_au                                 11.290425  \n",
       "rougher.input.floatbank10_sulfate                     13.607257  \n",
       "rougher.input.floatbank10_xanthate                     5.738081  \n",
       "rougher.input.floatbank11_sulfate                     13.650053  \n",
       "rougher.input.floatbank11_xanthate                     5.739634  \n",
       "rougher.state.floatbank10_a_air                      996.541302  \n",
       "rougher.state.floatbank10_a_level                   -350.562517  \n",
       "rougher.state.floatbank10_b_air                     1304.658848  \n",
       "rougher.state.floatbank10_b_level                   -399.511519  \n",
       "rougher.state.floatbank10_c_air                     1306.455515  \n",
       "rougher.state.floatbank10_c_level                   -399.050685  \n",
       "rougher.state.floatbank10_d_air                     1248.699349  \n",
       "rougher.state.floatbank10_d_level                   -400.876894  \n",
       "rougher.state.floatbank10_e_air                     1058.839106  \n",
       "rougher.state.floatbank10_e_level                   -398.988239  \n",
       "rougher.state.floatbank10_f_air                      949.645313  \n",
       "rougher.state.floatbank10_f_level                   -399.277632  \n",
       "secondary_cleaner.state.floatbank2_a_air              24.886905  \n",
       "secondary_cleaner.state.floatbank2_a_level          -499.357375  \n",
       "secondary_cleaner.state.floatbank2_b_air              14.979233  \n",
       "secondary_cleaner.state.floatbank2_b_level          -500.186804  \n",
       "secondary_cleaner.state.floatbank3_a_air              19.962364  \n",
       "secondary_cleaner.state.floatbank3_a_level          -450.638828  \n",
       "secondary_cleaner.state.floatbank3_b_air              14.009245  \n",
       "secondary_cleaner.state.floatbank3_b_level          -450.022259  \n",
       "secondary_cleaner.state.floatbank4_a_air              12.025367  \n",
       "secondary_cleaner.state.floatbank4_a_level          -500.786497  \n",
       "secondary_cleaner.state.floatbank4_b_air               8.054678  \n",
       "secondary_cleaner.state.floatbank4_b_level            -500.3975  \n",
       "secondary_cleaner.state.floatbank5_a_air                8.10789  \n",
       "secondary_cleaner.state.floatbank5_a_level          -509.526725  \n",
       "secondary_cleaner.state.floatbank5_b_air               4.957674  \n",
       "secondary_cleaner.state.floatbank5_b_level          -500.360026  \n",
       "secondary_cleaner.state.floatbank6_a_air              25.003331  \n",
       "secondary_cleaner.state.floatbank6_a_level          -500.856333  "
      ]
     },
     "execution_count": 8,
     "metadata": {},
     "output_type": "execute_result"
    }
   ],
   "source": [
    "# Вглядимся в данные тестовой выборки\n",
    "test_data.head().T"
   ]
  },
  {
   "cell_type": "code",
   "execution_count": 9,
   "metadata": {},
   "outputs": [
    {
     "data": {
      "text/html": [
       "<div>\n",
       "<style scoped>\n",
       "    .dataframe tbody tr th:only-of-type {\n",
       "        vertical-align: middle;\n",
       "    }\n",
       "\n",
       "    .dataframe tbody tr th {\n",
       "        vertical-align: top;\n",
       "    }\n",
       "\n",
       "    .dataframe thead th {\n",
       "        text-align: right;\n",
       "    }\n",
       "</style>\n",
       "<table border=\"1\" class=\"dataframe\">\n",
       "  <thead>\n",
       "    <tr style=\"text-align: right;\">\n",
       "      <th></th>\n",
       "      <th>0</th>\n",
       "      <th>1</th>\n",
       "      <th>2</th>\n",
       "      <th>3</th>\n",
       "      <th>4</th>\n",
       "    </tr>\n",
       "  </thead>\n",
       "  <tbody>\n",
       "    <tr>\n",
       "      <th>date</th>\n",
       "      <td>2016-01-15 00:00:00</td>\n",
       "      <td>2016-01-15 01:00:00</td>\n",
       "      <td>2016-01-15 02:00:00</td>\n",
       "      <td>2016-01-15 03:00:00</td>\n",
       "      <td>2016-01-15 04:00:00</td>\n",
       "    </tr>\n",
       "    <tr>\n",
       "      <th>final.output.concentrate_ag</th>\n",
       "      <td>6.055403</td>\n",
       "      <td>6.029369</td>\n",
       "      <td>6.055926</td>\n",
       "      <td>6.047977</td>\n",
       "      <td>6.148599</td>\n",
       "    </tr>\n",
       "    <tr>\n",
       "      <th>final.output.concentrate_pb</th>\n",
       "      <td>9.889648</td>\n",
       "      <td>9.968944</td>\n",
       "      <td>10.213995</td>\n",
       "      <td>9.977019</td>\n",
       "      <td>10.142511</td>\n",
       "    </tr>\n",
       "    <tr>\n",
       "      <th>final.output.concentrate_sol</th>\n",
       "      <td>5.507324</td>\n",
       "      <td>5.257781</td>\n",
       "      <td>5.383759</td>\n",
       "      <td>4.858634</td>\n",
       "      <td>4.939416</td>\n",
       "    </tr>\n",
       "    <tr>\n",
       "      <th>final.output.concentrate_au</th>\n",
       "      <td>42.19202</td>\n",
       "      <td>42.701629</td>\n",
       "      <td>42.657501</td>\n",
       "      <td>42.689819</td>\n",
       "      <td>42.774141</td>\n",
       "    </tr>\n",
       "    <tr>\n",
       "      <th>...</th>\n",
       "      <td>...</td>\n",
       "      <td>...</td>\n",
       "      <td>...</td>\n",
       "      <td>...</td>\n",
       "      <td>...</td>\n",
       "    </tr>\n",
       "    <tr>\n",
       "      <th>secondary_cleaner.state.floatbank5_a_level</th>\n",
       "      <td>-498.310211</td>\n",
       "      <td>-500.169983</td>\n",
       "      <td>-500.129135</td>\n",
       "      <td>-499.20164</td>\n",
       "      <td>-501.686727</td>\n",
       "    </tr>\n",
       "    <tr>\n",
       "      <th>secondary_cleaner.state.floatbank5_b_air</th>\n",
       "      <td>8.079666</td>\n",
       "      <td>7.984757</td>\n",
       "      <td>8.013877</td>\n",
       "      <td>7.977324</td>\n",
       "      <td>7.894242</td>\n",
       "    </tr>\n",
       "    <tr>\n",
       "      <th>secondary_cleaner.state.floatbank5_b_level</th>\n",
       "      <td>-500.470978</td>\n",
       "      <td>-500.582168</td>\n",
       "      <td>-500.517572</td>\n",
       "      <td>-500.255908</td>\n",
       "      <td>-500.356035</td>\n",
       "    </tr>\n",
       "    <tr>\n",
       "      <th>secondary_cleaner.state.floatbank6_a_air</th>\n",
       "      <td>14.151341</td>\n",
       "      <td>13.998353</td>\n",
       "      <td>14.028663</td>\n",
       "      <td>14.005551</td>\n",
       "      <td>13.996647</td>\n",
       "    </tr>\n",
       "    <tr>\n",
       "      <th>secondary_cleaner.state.floatbank6_a_level</th>\n",
       "      <td>-605.84198</td>\n",
       "      <td>-599.787184</td>\n",
       "      <td>-601.427363</td>\n",
       "      <td>-599.996129</td>\n",
       "      <td>-601.496691</td>\n",
       "    </tr>\n",
       "  </tbody>\n",
       "</table>\n",
       "<p>87 rows × 5 columns</p>\n",
       "</div>"
      ],
      "text/plain": [
       "                                                              0  \\\n",
       "date                                        2016-01-15 00:00:00   \n",
       "final.output.concentrate_ag                            6.055403   \n",
       "final.output.concentrate_pb                            9.889648   \n",
       "final.output.concentrate_sol                           5.507324   \n",
       "final.output.concentrate_au                            42.19202   \n",
       "...                                                         ...   \n",
       "secondary_cleaner.state.floatbank5_a_level          -498.310211   \n",
       "secondary_cleaner.state.floatbank5_b_air               8.079666   \n",
       "secondary_cleaner.state.floatbank5_b_level          -500.470978   \n",
       "secondary_cleaner.state.floatbank6_a_air              14.151341   \n",
       "secondary_cleaner.state.floatbank6_a_level           -605.84198   \n",
       "\n",
       "                                                              1  \\\n",
       "date                                        2016-01-15 01:00:00   \n",
       "final.output.concentrate_ag                            6.029369   \n",
       "final.output.concentrate_pb                            9.968944   \n",
       "final.output.concentrate_sol                           5.257781   \n",
       "final.output.concentrate_au                           42.701629   \n",
       "...                                                         ...   \n",
       "secondary_cleaner.state.floatbank5_a_level          -500.169983   \n",
       "secondary_cleaner.state.floatbank5_b_air               7.984757   \n",
       "secondary_cleaner.state.floatbank5_b_level          -500.582168   \n",
       "secondary_cleaner.state.floatbank6_a_air              13.998353   \n",
       "secondary_cleaner.state.floatbank6_a_level          -599.787184   \n",
       "\n",
       "                                                              2  \\\n",
       "date                                        2016-01-15 02:00:00   \n",
       "final.output.concentrate_ag                            6.055926   \n",
       "final.output.concentrate_pb                           10.213995   \n",
       "final.output.concentrate_sol                           5.383759   \n",
       "final.output.concentrate_au                           42.657501   \n",
       "...                                                         ...   \n",
       "secondary_cleaner.state.floatbank5_a_level          -500.129135   \n",
       "secondary_cleaner.state.floatbank5_b_air               8.013877   \n",
       "secondary_cleaner.state.floatbank5_b_level          -500.517572   \n",
       "secondary_cleaner.state.floatbank6_a_air              14.028663   \n",
       "secondary_cleaner.state.floatbank6_a_level          -601.427363   \n",
       "\n",
       "                                                              3  \\\n",
       "date                                        2016-01-15 03:00:00   \n",
       "final.output.concentrate_ag                            6.047977   \n",
       "final.output.concentrate_pb                            9.977019   \n",
       "final.output.concentrate_sol                           4.858634   \n",
       "final.output.concentrate_au                           42.689819   \n",
       "...                                                         ...   \n",
       "secondary_cleaner.state.floatbank5_a_level           -499.20164   \n",
       "secondary_cleaner.state.floatbank5_b_air               7.977324   \n",
       "secondary_cleaner.state.floatbank5_b_level          -500.255908   \n",
       "secondary_cleaner.state.floatbank6_a_air              14.005551   \n",
       "secondary_cleaner.state.floatbank6_a_level          -599.996129   \n",
       "\n",
       "                                                              4  \n",
       "date                                        2016-01-15 04:00:00  \n",
       "final.output.concentrate_ag                            6.148599  \n",
       "final.output.concentrate_pb                           10.142511  \n",
       "final.output.concentrate_sol                           4.939416  \n",
       "final.output.concentrate_au                           42.774141  \n",
       "...                                                         ...  \n",
       "secondary_cleaner.state.floatbank5_a_level          -501.686727  \n",
       "secondary_cleaner.state.floatbank5_b_air               7.894242  \n",
       "secondary_cleaner.state.floatbank5_b_level          -500.356035  \n",
       "secondary_cleaner.state.floatbank6_a_air              13.996647  \n",
       "secondary_cleaner.state.floatbank6_a_level          -601.496691  \n",
       "\n",
       "[87 rows x 5 columns]"
      ]
     },
     "execution_count": 9,
     "metadata": {},
     "output_type": "execute_result"
    }
   ],
   "source": [
    "# Вглядимся в исходные данные\n",
    "full_data.head().T"
   ]
  },
  {
   "cell_type": "markdown",
   "metadata": {},
   "source": [
    "### Проверка расчета эффективности обогащения"
   ]
  },
  {
   "cell_type": "markdown",
   "metadata": {},
   "source": [
    "В рамках подготовки данных нам необходимо проверить правильность расчета эффективности обогащения, которая находится по формуле:\n",
    "\n",
    "recovery = ((C * (F - T)) / (F * (C - T))) * 100%\n",
    "\n",
    "где:\n",
    "\n",
    "- C — доля золота в концентрате после флотации/очистки;\n",
    "- F — доля золота в сырье/концентрате до флотации/очистки;\n",
    "- T — доля золота в отвальных хвостах после флотации/очистки.\n",
    "\n",
    "На основе данных, полученных от компании, необходимые признаки для проверки формулы:\n",
    "\n",
    "* rougher.output.concentrate_au (С)\n",
    "* rougher.input.feed_au (F)\n",
    "* rougher.output.tail_au (T)\n",
    "\n",
    "Для проверки правильности расчета эффективности обогащения вычислим её на обучающей выборке для признака *rougher.output.recovery*. Найдем MAE между нашими расчётами и значением признака."
   ]
  },
  {
   "cell_type": "code",
   "execution_count": 10,
   "metadata": {},
   "outputs": [],
   "source": [
    "# Исключим пропуски в столбце rougher.output.recovery\n",
    "train_data.dropna(subset = ['rougher.output.recovery'], inplace = True)"
   ]
  },
  {
   "cell_type": "code",
   "execution_count": 11,
   "metadata": {},
   "outputs": [],
   "source": [
    "C = train_data['rougher.output.concentrate_au']\n",
    "F = train_data['rougher.input.feed_au']\n",
    "T = train_data['rougher.output.tail_au']"
   ]
  },
  {
   "cell_type": "code",
   "execution_count": 12,
   "metadata": {},
   "outputs": [],
   "source": [
    "# Применяем формулу для расчета эффективности обогащения\n",
    "efficiency = ((C * (F - T)) / (F * (C - T))) * 100"
   ]
  },
  {
   "cell_type": "code",
   "execution_count": 13,
   "metadata": {},
   "outputs": [
    {
     "data": {
      "image/png": "[encoded data removed]",
      "text/plain": [
       "<Figure size 432x288 with 1 Axes>"
      ]
     },
     "metadata": {
      "needs_background": "light"
     },
     "output_type": "display_data"
    }
   ],
   "source": [
    "# Выведем гистограммы распределения для искомых и расчетных наборов данных эффективности обогащения\n",
    "plt.hist([train_data['rougher.output.recovery'], efficiency], bins=50, range=(0, 100), label=['Значения признака', 'Расчетные значения'])\n",
    "plt.legend(loc='upper left')\n",
    "plt.show()"
   ]
  },
  {
   "cell_type": "markdown",
   "metadata": {},
   "source": [
    "Гистограммы расчетного и исходного значений эффективности обогащения совпадают. Проверим MAE между нашими расчётами и значением признака."
   ]
  },
  {
   "cell_type": "code",
   "execution_count": 14,
   "metadata": {},
   "outputs": [
    {
     "name": "stdout",
     "output_type": "stream",
     "text": [
      "Среднее абсолютное отклонение MAE: 9.73512347450521e-15\n"
     ]
    }
   ],
   "source": [
    "print('Среднее абсолютное отклонение MAE:', mean_absolute_error(train_data['rougher.output.recovery'], efficiency))"
   ]
  },
  {
   "cell_type": "markdown",
   "metadata": {},
   "source": [
    "Среднее абсолютное отклонение пренебрежимо мало. Можно сделать вывод, что рассчет эффективности обогащения верен."
   ]
  },
  {
   "cell_type": "markdown",
   "metadata": {},
   "source": [
    "<div class=\"alert alert-success\">\n",
    "<h2> Комментарий ревьюера <a class=\"tocSkip\"> </h2>\n",
    "\n",
    "<b>Все отлично!👍:</b>\n",
    "    \n",
    "        \n",
    "Отлично, согласна с выводом - MAE действительно крайне мало, поэтому можем считать данные достоверными."
   ]
  },
  {
   "cell_type": "markdown",
   "metadata": {},
   "source": [
    "### Признаки, не доступные в тестовой выборке"
   ]
  },
  {
   "cell_type": "code",
   "execution_count": 15,
   "metadata": {},
   "outputs": [
    {
     "data": {
      "text/plain": [
       "Index(['final.output.concentrate_ag', 'final.output.concentrate_pb',\n",
       "       'final.output.concentrate_sol', 'final.output.concentrate_au',\n",
       "       'final.output.recovery', 'final.output.tail_ag', 'final.output.tail_pb',\n",
       "       'final.output.tail_sol', 'final.output.tail_au',\n",
       "       'primary_cleaner.output.concentrate_ag',\n",
       "       'primary_cleaner.output.concentrate_pb',\n",
       "       'primary_cleaner.output.concentrate_sol',\n",
       "       'primary_cleaner.output.concentrate_au',\n",
       "       'primary_cleaner.output.tail_ag', 'primary_cleaner.output.tail_pb',\n",
       "       'primary_cleaner.output.tail_sol', 'primary_cleaner.output.tail_au',\n",
       "       'rougher.calculation.sulfate_to_au_concentrate',\n",
       "       'rougher.calculation.floatbank10_sulfate_to_au_feed',\n",
       "       'rougher.calculation.floatbank11_sulfate_to_au_feed',\n",
       "       'rougher.calculation.au_pb_ratio', 'rougher.output.concentrate_ag',\n",
       "       'rougher.output.concentrate_pb', 'rougher.output.concentrate_sol',\n",
       "       'rougher.output.concentrate_au', 'rougher.output.recovery',\n",
       "       'rougher.output.tail_ag', 'rougher.output.tail_pb',\n",
       "       'rougher.output.tail_sol', 'rougher.output.tail_au',\n",
       "       'secondary_cleaner.output.tail_ag', 'secondary_cleaner.output.tail_pb',\n",
       "       'secondary_cleaner.output.tail_sol',\n",
       "       'secondary_cleaner.output.tail_au'],\n",
       "      dtype='object')"
      ]
     },
     "execution_count": 15,
     "metadata": {},
     "output_type": "execute_result"
    }
   ],
   "source": [
    "# Найдем столбцы (признаки), которых не достает в тестовой выборке по сравнению с обучающей\n",
    "missing_columns = train_data.columns.drop(test_data.columns)\n",
    "train_data[missing_columns].columns"
   ]
  },
  {
   "cell_type": "markdown",
   "metadata": {},
   "source": [
    "<b>Вывод:</b> В тестовой выборке отсутствуют признаки final.output, primary_cleaner.output, rougher.calculation, rougher.output, secondary_cleaner.output. \n",
    "\n",
    "Согласно условиям задачи, эти параметры не доступны, потому что замеряются и/или рассчитываются в технологическом процессе значительно позже. По существу они могут быть целевыми признаками в зависимости от условий и целей исследования."
   ]
  },
  {
   "cell_type": "markdown",
   "metadata": {},
   "source": [
    "<div class=\"alert alert-success\">\n",
    "<h2> Комментарий ревьюера <a class=\"tocSkip\"> </h2>\n",
    "\n",
    "<b>Все отлично!👍:</b>\n",
    "    \n",
    "Согласна, в тестовой выборке отсутствует часть признаков, которые представляют собой расчётные и выходные характеристики процессов. Отсутствуют целевые признаки. Вероятно, эти характеристики можно получить только после завершения технологического процесса. "
   ]
  },
  {
   "cell_type": "markdown",
   "metadata": {},
   "source": [
    "### Предобработка данных"
   ]
  },
  {
   "cell_type": "markdown",
   "metadata": {},
   "source": [
    "Поскольку у нас ограниченное количество признаков в тестовой выборке и 2 целевых признака, необходимых для построения модели по условиям задания (rougher.output.recovery и final.output.recovery), унифицируем обучающую и тестовую выборку по консолидированному набору данных. Для этого из обучающей выборки удалим столбцы, отсутствующие в тестовой, а тестовую выборку дополним целевыми признаками."
   ]
  },
  {
   "cell_type": "code",
   "execution_count": 16,
   "metadata": {},
   "outputs": [],
   "source": [
    "# Удалим из обучающей выборки столбцы, отсутствующие в тестовой выборке\n",
    "columns_to_drop = missing_columns.drop(['final.output.recovery', 'rougher.output.recovery'])\n",
    "true_columns = train_data.columns.drop(columns_to_drop)\n",
    "train_data = train_data[true_columns]"
   ]
  },
  {
   "cell_type": "markdown",
   "metadata": {},
   "source": [
    "<div class=\"alert alert-success\">\n",
    "<h2> Комментарий ревьюера <a class=\"tocSkip\"> </h2>\n",
    "\n",
    "<b>Все отлично!👍:</b>\n",
    "    \n",
    "Все верно"
   ]
  },
  {
   "cell_type": "markdown",
   "metadata": {},
   "source": [
    "Согласно условию задания, данные индексируются датой и временем получения информации (признак date). Соседние по времени параметры часто похожи. Для восстановления отсутствующих данных в тестовой выборке будем использовать признак date как индекс."
   ]
  },
  {
   "cell_type": "code",
   "execution_count": 17,
   "metadata": {},
   "outputs": [],
   "source": [
    "# Выделим целевые столбцы из датасета исходных данных для дальнейшего добавления в тестовую выборку\n",
    "target_to_join = full_data[['date', 'final.output.recovery', 'rougher.output.recovery']].copy()"
   ]
  },
  {
   "cell_type": "code",
   "execution_count": 18,
   "metadata": {},
   "outputs": [],
   "source": [
    "# Проведем слияние тестовой выборки с целевыми столбцами по индексу времени\n",
    "test_data = test_data.join(target_to_join.set_index('date'), on='date')"
   ]
  },
  {
   "cell_type": "markdown",
   "metadata": {},
   "source": [
    "<div class=\"alert alert-success\">\n",
    "<h2> Комментарий ревьюера <a class=\"tocSkip\"> </h2>\n",
    "\n",
    "<b>Все отлично!👍:</b>\n",
    "    \n",
    "Восстанавливаем по датам -супер"
   ]
  },
  {
   "cell_type": "markdown",
   "metadata": {},
   "source": [
    "Проверим полученные обучающую и тестовую выборки на пропуски в целевом признаке"
   ]
  },
  {
   "cell_type": "code",
   "execution_count": 19,
   "metadata": {},
   "outputs": [
    {
     "data": {
      "text/plain": [
       "0"
      ]
     },
     "execution_count": 19,
     "metadata": {},
     "output_type": "execute_result"
    }
   ],
   "source": [
    "# Пропуски в целевом признаке тестовой выборки\n",
    "test_data['final.output.recovery'].isna().sum()"
   ]
  },
  {
   "cell_type": "code",
   "execution_count": 20,
   "metadata": {},
   "outputs": [
    {
     "data": {
      "text/plain": [
       "0"
      ]
     },
     "execution_count": 20,
     "metadata": {},
     "output_type": "execute_result"
    }
   ],
   "source": [
    "# Пропуски в целевом признаке обучающей выборки\n",
    "train_data['final.output.recovery'].isna().sum()"
   ]
  },
  {
   "cell_type": "code",
   "execution_count": 21,
   "metadata": {},
   "outputs": [
    {
     "name": "stdout",
     "output_type": "stream",
     "text": [
      "(14149, 55)\n",
      "\n",
      "(5290, 55)\n"
     ]
    }
   ],
   "source": [
    "# Проверим формы полученных выборок\n",
    "print(train_data.shape)\n",
    "print()\n",
    "print(test_data.shape)"
   ]
  },
  {
   "cell_type": "markdown",
   "metadata": {},
   "source": [
    "<b>ВЫВОД:</b>\n",
    "* Проверена правильность расчета эффективности обогащения.\n",
    "* Проанализированы признаки, не доступные в тестовой выборке, в силу их замеров и/или рассчетов на более поздних этапах технологического процесса\n",
    "* Обучающая и тестовая выборка подготовлены к дальнейшей работе."
   ]
  },
  {
   "cell_type": "markdown",
   "metadata": {},
   "source": [
    "## Анализ данных"
   ]
  },
  {
   "cell_type": "markdown",
   "metadata": {},
   "source": [
    "### Концентрация металлов (Au, Ag, Pb) на различных этапах очистки"
   ]
  },
  {
   "cell_type": "markdown",
   "metadata": {},
   "source": [
    "Посмотрим, как меняется концентрация металлов (Au, Ag, Pb) на различных этапах очистки. Из исходных данных выделим концентрации каждого металла на каждой стадии и выведем на график."
   ]
  },
  {
   "cell_type": "code",
   "execution_count": 22,
   "metadata": {},
   "outputs": [
    {
     "data": {
      "image/png": "[encoded data removed]",
      "text/plain": [
       "<Figure size 720x360 with 1 Axes>"
      ]
     },
     "metadata": {
      "needs_background": "light"
     },
     "output_type": "display_data"
    },
    {
     "data": {
      "image/png": "[encoded data removed]",
      "text/plain": [
       "<Figure size 720x360 with 1 Axes>"
      ]
     },
     "metadata": {
      "needs_background": "light"
     },
     "output_type": "display_data"
    },
    {
     "data": {
      "image/png": "[encoded data removed]",
      "text/plain": [
       "<Figure size 720x360 with 1 Axes>"
      ]
     },
     "metadata": {
      "needs_background": "light"
     },
     "output_type": "display_data"
    }
   ],
   "source": [
    "metals = [('au', 'золота'), ('ag', 'серебра'), ('pb', 'свинца')]\n",
    "\n",
    "stages = [('rougher.input.feed_', 'Сырье'),\n",
    "          ('rougher.output.concentrate_', 'Флотация'), \n",
    "          ('primary_cleaner.output.concentrate_', 'Первичная очистка'),\n",
    "          ('final.output.concentrate_', 'Финальный концентрат')]\n",
    "\n",
    "for i in metals:\n",
    "    plt.figure(figsize=(10, 5))\n",
    "    for item in stages:\n",
    "        ax = sns.distplot(full_data[item[0] + i[0]], label=item[1])\n",
    "        plt.legend()\n",
    "        _ = ax.set(xlabel='Распределение концeнтрации ' + i[1], \n",
    "                   ylabel='Плотность распределения',\n",
    "                   title='Изменение концентрации ' + i[1] + ' на каждом этапе очистки')\n",
    "    plt.show()"
   ]
  },
  {
   "cell_type": "markdown",
   "metadata": {},
   "source": [
    "<b>Наблюдения:</b>\n",
    "* Концентрация золота по ходу технологического процесса плавно и методично смещается в зону высоких значений\n",
    "* При этом концентрация серебра явным образом снижается практически до минимума в финальном продукте\n",
    "* Для свинца наблюдается повышение концентрации в финальном продукте практически втрое по сравнению с исходным сырьем\n",
    "* На графиках наблюдается большое количество выбросов в области нулевых значений"
   ]
  },
  {
   "cell_type": "markdown",
   "metadata": {},
   "source": [
    "<div class=\"alert alert-success\">\n",
    "<h2> Комментарий ревьюера <a class=\"tocSkip\"> </h2>\n",
    "\n",
    "<b>Все отлично!👍:</b> \n",
    " \n",
    "Плюс за оформление графиков.\n",
    "    \n",
    "С выводом согласна - видно, что по мере прохождения технологического процесса доля золота `Au` в концентрате значительно растет, доля серебра `Ag` падает (в основном на второй очистки), доля свинца `Pb` растет (в основном на этапе флотации).\n",
    "</div>"
   ]
  },
  {
   "cell_type": "markdown",
   "metadata": {},
   "source": [
    "### Сравнение распределения размеров гранул сырья"
   ]
  },
  {
   "cell_type": "markdown",
   "metadata": {},
   "source": [
    "Сравним распределения размеров гранул сырья на обучающей и тестовой выборках. Если распределения сильно отличаются друг от друга, оценка модели будет неправильной."
   ]
  },
  {
   "cell_type": "code",
   "execution_count": 23,
   "metadata": {},
   "outputs": [
    {
     "data": {
      "text/plain": [
       "<matplotlib.legend.Legend at 0x7f52911e7d90>"
      ]
     },
     "execution_count": 23,
     "metadata": {},
     "output_type": "execute_result"
    },
    {
     "data": {
      "image/png": "[encoded data removed]",
      "text/plain": [
       "<Figure size 576x360 with 1 Axes>"
      ]
     },
     "metadata": {
      "needs_background": "light"
     },
     "output_type": "display_data"
    }
   ],
   "source": [
    "plt.figure(figsize=(8,5))\n",
    "sns.distplot(test_data['rougher.input.feed_size'], label='Тестовая выборка')\n",
    "sns.distplot(train_data['rougher.input.feed_size'], label='Обучающая выборка')\n",
    "plt.legend()"
   ]
  },
  {
   "cell_type": "markdown",
   "metadata": {},
   "source": [
    "Распределения выглядят идентично - размеры гранул на тестовой и обучающей выборке практически не отличаются."
   ]
  },
  {
   "cell_type": "markdown",
   "metadata": {},
   "source": [
    "<div class=\"alert alert-success\">\n",
    "<h2> Комментарий ревьюера <a class=\"tocSkip\"> </h2>\n",
    "\n",
    "<b>Все отлично!👍:</b>\n",
    "    \n",
    "Видно, что есть незначительное смещение распределения от нормального в сторону увеличения гранул. Также, на тестовой выборке имеется большее значение очень маленьких гранул. \n",
    "    \n",
    "    \n",
    "Согласна, что распределения похожи, данные можно использовать для моделей."
   ]
  },
  {
   "cell_type": "markdown",
   "metadata": {},
   "source": [
    "### Суммарная концентрация всех веществ на разных стадиях"
   ]
  },
  {
   "cell_type": "markdown",
   "metadata": {},
   "source": [
    "Исследуем суммарную концентрацию всех веществ на разных стадиях: в сырье, в черновом и финальном концентратах."
   ]
  },
  {
   "cell_type": "code",
   "execution_count": 24,
   "metadata": {},
   "outputs": [
    {
     "data": {
      "image/png": "[encoded data removed]",
      "text/plain": [
       "<Figure size 1440x432 with 3 Axes>"
      ]
     },
     "metadata": {
      "needs_background": "light"
     },
     "output_type": "display_data"
    }
   ],
   "source": [
    "steps = [('rougher.input.feed_', 'Сырье'),\n",
    "         ('rougher.output.concentrate_', 'Черновой концентрат'), \n",
    "         ('final.output.concentrate_', 'Финальный концентрат')]\n",
    "\n",
    "fig, axs = plt.subplots(1, len(steps), figsize=(20, 6))\n",
    "fig.suptitle('Суммарная концентрация всех веществ на разных стадиях')\n",
    "\n",
    "for step, ax in zip(steps, axs):\n",
    "    ax.set_title(step[1])\n",
    "    concentration = (full_data[step[0]+ 'ag'] + full_data[step[0]+ 'au'] + \n",
    "                     full_data[step[0]+ 'pb'] + full_data[step[0]+ 'sol'])\n",
    "    sns.distplot(concentration, ax=ax)   \n",
    "plt.show()"
   ]
  },
  {
   "cell_type": "markdown",
   "metadata": {},
   "source": [
    "Для чернового концентрата и даже для финального наблюдаются аномалии в зоне нуля. Вряд ли может быть, чтобы суммарная концентрация для некой стадии может быть настолько часто нулевой.\n",
    "\n",
    "Имеет смысл удалить эти аномалии для адекватной работы будущей модели."
   ]
  },
  {
   "cell_type": "code",
   "execution_count": 25,
   "metadata": {},
   "outputs": [
    {
     "data": {
      "image/png": "[encoded data removed]",
      "text/plain": [
       "<Figure size 1440x432 with 3 Axes>"
      ]
     },
     "metadata": {
      "needs_background": "light"
     },
     "output_type": "display_data"
    }
   ],
   "source": [
    "# Отрисуем графики распределения заново, заменив суммарные нули на пропуски, которые затем можно удалить из датасета\n",
    "fig, axs = plt.subplots(1, len(steps), figsize=(20, 6))\n",
    "fig.suptitle('Суммарная концентрация всех веществ на разных стадиях')\n",
    "\n",
    "for step, ax in zip(steps, axs):\n",
    "    ax.set_title(step[1])\n",
    "    anomaly_free = (full_data[step[0]+ 'ag'] + full_data[step[0]+ 'au'] + \n",
    "                    full_data[step[0]+ 'pb'] + full_data[step[0]+ 'sol'])\n",
    "    sns.distplot(anomaly_free.replace(0, np.nan).dropna(), ax=ax)   \n",
    "plt.show()"
   ]
  },
  {
   "cell_type": "markdown",
   "metadata": {},
   "source": [
    "Суммарная концентрация всех веществ в финальном концентрате незначительно снижается. Вероятно, из-за удаления отвальных хвостов."
   ]
  },
  {
   "cell_type": "markdown",
   "metadata": {},
   "source": [
    "<div class=\"alert alert-success\">\n",
    "<h2> Комментарий ревьюера<a class=\"tocSkip\"> </h2>\n",
    "\n",
    "<b>Все отлично!👍:</b> \n",
    "\n",
    "Отлично, суммарную концентрацию всех веществ на разных стадиях исследовали и нашли аномалии.\n",
    " \n",
    "В целом отдельно по каждому веществу ноль может быть (не всегда же есть крупинки золота в руде), а ноль суммарно - вряд ли (в руде хоть что-то но будет). А если мы имеем ноль, значит большая вероятность неточности в измерениях.\n",
    "    \n",
    "Правильный вывод, обучающую выборку нужно очистить от таких аномалий."
   ]
  },
  {
   "cell_type": "markdown",
   "metadata": {},
   "source": [
    "## Модель"
   ]
  },
  {
   "cell_type": "markdown",
   "metadata": {},
   "source": [
    "### Функция для вычисления итоговой sMAPE"
   ]
  },
  {
   "cell_type": "markdown",
   "metadata": {},
   "source": [
    "Используя заданную формулу, напишем функцию для вычисления метрики качества sMAPE."
   ]
  },
  {
   "cell_type": "code",
   "execution_count": 26,
   "metadata": {},
   "outputs": [],
   "source": [
    "def smape(target, predicted):\n",
    "    target = np.array(target)\n",
    "    predicted = np.array(predicted)\n",
    "    total = 0\n",
    "    for i in range(len(target)):\n",
    "        total += abs(target[i] - predicted[i]) / ((abs(target[i]) + abs(predicted[i]))/2)\n",
    "    return total*100 / len(target)"
   ]
  },
  {
   "cell_type": "markdown",
   "metadata": {},
   "source": [
    "А также введем функцию для расчета итогового sMAPE"
   ]
  },
  {
   "cell_type": "code",
   "execution_count": 27,
   "metadata": {},
   "outputs": [],
   "source": [
    "def total_smape(smape_rougher, smape_final):\n",
    "    return 0.25 * smape_rougher + 0.75 * smape_final"
   ]
  },
  {
   "cell_type": "code",
   "execution_count": 28,
   "metadata": {},
   "outputs": [],
   "source": [
    "smape_score = make_scorer(smape, greater_is_better = False)"
   ]
  },
  {
   "cell_type": "markdown",
   "metadata": {},
   "source": [
    "<div class=\"alert alert-success\">\n",
    "<h2> Комментарий ревьюера <a class=\"tocSkip\"> </h2>\n",
    "\n",
    "<b>Все отлично!👍:</b> \n",
    "\n",
    "Отлично, плюс за собственную функцию"
   ]
  },
  {
   "cell_type": "markdown",
   "metadata": {},
   "source": [
    "### Обучение разных моделей и оценка их качества"
   ]
  },
  {
   "cell_type": "code",
   "execution_count": 29,
   "metadata": {},
   "outputs": [],
   "source": [
    "# Удалим оставшиеся пропуски в выборках\n",
    "# test_data.dropna(inplace=True)\n",
    "# train_data.dropna(inplace=True)"
   ]
  },
  {
   "cell_type": "markdown",
   "metadata": {},
   "source": [
    "<div class=\"alert alert-warning\">\n",
    "    <h2> Комментарий ревьюера <a class=\"tocSkip\"> </h2>\n",
    "    \n",
    "<b>Некоторые замечания и рекомендации💡:</b> \n",
    "        \n",
    "</b> Тк у нас временные ряды, то тут мы можем не удалять пропуски, а заполнить соседними. . Все наблюдения представляют собой последовательные измерения, заполнить пропуски можно методами `pandas`: `ffill`/ `bfill`/ `interpolate` , это вполне уместно.\\\n",
    "Хочу посоветовать тебе статью, которая рассматривает разные способы обработки пропусков, выделяет их плюсы и минусы, думаю, тебе может быть интересно: https://loginom.ru/blog/missing   "
   ]
  },
  {
   "cell_type": "markdown",
   "metadata": {},
   "source": [
    "<div class=\"alert alert-warning\">\n",
    "    <b> Комментарий студента </b>\n",
    "Оля, спасибо большое за рекомендацию. Постараюсь освоить и активно внедрить в практику.\n"
   ]
  },
  {
   "cell_type": "code",
   "execution_count": 30,
   "metadata": {},
   "outputs": [],
   "source": [
    "# Заполним пропуски с помощью метода ffill\n",
    "train_data = train_data.fillna(method='ffill')\n",
    "test_data = test_data.fillna(method='ffill')"
   ]
  },
  {
   "cell_type": "markdown",
   "metadata": {},
   "source": [
    "<div class=\"alert alert-success\">\n",
    "<h2> Комментарий ревьюера v.2 <a class=\"tocSkip\"> </h2>\n",
    "\n",
    "<b>Все отлично!👍:</b> \n",
    "\n",
    "Супер, хорошо, что доработала"
   ]
  },
  {
   "cell_type": "markdown",
   "metadata": {},
   "source": [
    "Обучим разные модели и оценим их качество кросс-валидацией."
   ]
  },
  {
   "cell_type": "code",
   "execution_count": 31,
   "metadata": {},
   "outputs": [],
   "source": [
    "# Подготовим признаки для обучающей выборки\n",
    "features_train = train_data.drop(['date', 'rougher.output.recovery', 'final.output.recovery'], axis='columns')\n",
    "target_train_rougher = train_data['rougher.output.recovery']\n",
    "target_train_final = train_data['final.output.recovery']"
   ]
  },
  {
   "cell_type": "code",
   "execution_count": 32,
   "metadata": {},
   "outputs": [],
   "source": [
    "# Масштабируем признаки обучающей выборки\n",
    "scaler = StandardScaler()\n",
    "scaler.fit(features_train)\n",
    "features_train = scaler.transform(features_train)"
   ]
  },
  {
   "cell_type": "code",
   "execution_count": 33,
   "metadata": {},
   "outputs": [],
   "source": [
    "# Подготовим признаки для тестовой выборки\n",
    "features_test = test_data.drop(['date', 'rougher.output.recovery', 'final.output.recovery'], axis=1)\n",
    "target_test_rougher = test_data['rougher.output.recovery']\n",
    "target_test_final = test_data['final.output.recovery']"
   ]
  },
  {
   "cell_type": "code",
   "execution_count": 34,
   "metadata": {},
   "outputs": [],
   "source": [
    "# Масштабируем признаки тестовой выборки \n",
    "# scaler = StandardScaler()\n",
    "# scaler.fit(features_test)\n",
    "features_test = scaler.transform(features_test)"
   ]
  },
  {
   "cell_type": "markdown",
   "metadata": {},
   "source": [
    "<div class=\"alert alert-block alert-danger\">\n",
    "<h2> Комментарий ревьюера<a class=\"tocSkip\"></h2>\n",
    "\n",
    "    \n",
    "<b>На доработку🤔:</b>\n",
    "    \n",
    "Для тестовой выборки не нужно заново переобучать scaler. Когда делаем проверку на тестовой, мы должны только трансформировать тестовые данные. То есть мы мастабируем под обучающую выборку.\n",
    "    \n",
    "</div>"
   ]
  },
  {
   "cell_type": "markdown",
   "metadata": {},
   "source": [
    "<div class=\"alert alert-warning\">\n",
    "    <b> Комментарий студента </b>\n",
    "Спасибо за важное замечание. Оставила только трансформирование данных и еще поизучаю тему."
   ]
  },
  {
   "cell_type": "markdown",
   "metadata": {},
   "source": [
    "<div class=\"alert alert-success\">\n",
    "<h2> Комментарий ревьюера v.2 <a class=\"tocSkip\"> </h2>\n",
    "\n",
    "<b>Все отлично!👍:</b> \n",
    "\n",
    "Теперь все верно"
   ]
  },
  {
   "cell_type": "markdown",
   "metadata": {},
   "source": [
    "Проверим разные модели методом кросс-валидации и выберем наилучшую по качеству."
   ]
  },
  {
   "cell_type": "code",
   "execution_count": 35,
   "metadata": {},
   "outputs": [],
   "source": [
    "# Функция для поиска оптимальных гиперпараметров методом GridSearchCV\n",
    "def grid_search(model, parameters, features, target, score=smape_score):\n",
    "    grid = GridSearchCV(model(random_state=666), parameters, scoring=score, cv=3)\n",
    "    grid.fit(features, target)\n",
    "    print('оптимальные гиперпараметры: {}'.format(grid.best_params_))"
   ]
  },
  {
   "cell_type": "markdown",
   "metadata": {},
   "source": [
    "#### Дерево решений"
   ]
  },
  {
   "cell_type": "markdown",
   "metadata": {},
   "source": [
    "С помощью функции GridSearchCV подберем лучшие гиперпараметры для модели дерева решений."
   ]
  },
  {
   "cell_type": "code",
   "execution_count": 36,
   "metadata": {},
   "outputs": [
    {
     "name": "stdout",
     "output_type": "stream",
     "text": [
      "Для целевого признака rougher.output.recovery\n",
      "оптимальные гиперпараметры: {'max_depth': 4, 'min_samples_leaf': 4, 'min_samples_split': 2}\n",
      "Для целевого признака final.output.recovery\n",
      "оптимальные гиперпараметры: {'max_depth': 2, 'min_samples_leaf': 1, 'min_samples_split': 2}\n"
     ]
    }
   ],
   "source": [
    "tree_hyper = {'max_depth': range(1, 5),\n",
    "    'min_samples_leaf': range(1, 5),\n",
    "    'min_samples_split': range(2, 5)}\n",
    "\n",
    "print('Для целевого признака rougher.output.recovery')\n",
    "grid_search(DecisionTreeRegressor, tree_hyper, features_train, target_train_rougher)\n",
    "print('Для целевого признака final.output.recovery')\n",
    "grid_search(DecisionTreeRegressor, tree_hyper, features_train, target_train_final)"
   ]
  },
  {
   "cell_type": "code",
   "execution_count": 37,
   "metadata": {},
   "outputs": [
    {
     "name": "stdout",
     "output_type": "stream",
     "text": [
      "Итоговый sMAPE: 11.162773460917496\n"
     ]
    }
   ],
   "source": [
    "smape_rougher = np.mean(cross_val_score(DecisionTreeRegressor(max_depth=4, \n",
    "                min_samples_leaf=4, min_samples_split=2, random_state=666), \n",
    "                features_train, target_train_rougher, scoring=smape_score, cv=3))\n",
    "smape_final = np.mean(cross_val_score(DecisionTreeRegressor(max_depth=2, \n",
    "                min_samples_leaf=1, min_samples_split=2, random_state=666), \n",
    "                features_train, target_train_final, scoring=smape_score, cv=3))\n",
    "\n",
    "print('Итоговый sMAPE:', total_smape(smape_rougher, smape_final)*(-1))"
   ]
  },
  {
   "cell_type": "markdown",
   "metadata": {},
   "source": [
    "<div class=\"alert alert-success\">\n",
    "<h2> Комментарий ревьюера <a class=\"tocSkip\"> </h2>\n",
    "\n",
    "<b>Все отлично!👍:</b>\n",
    "    \n",
    "По алгоритму обучения- все верно"
   ]
  },
  {
   "cell_type": "markdown",
   "metadata": {},
   "source": [
    "<div class=\"alert alert-warning\">\n",
    "    <h2> Комментарий ревьюера <a class=\"tocSkip\"> </h2>\n",
    "    \n",
    "<b>Некоторые замечания и рекомендации💡:</b> \n",
    "Из-за особенности  make_scorer при greater_is_better=False будут возвращаться отрицательные значения. Для того, чтобы получить привычное значение SMAPE, нужно просто умножить полученное значение на -1.\n",
    "\n",
    "Ссылка для ознакомления: https://scikit-learn.org/stable/modules/generated/sklearn.metrics.make_scorer.html"
   ]
  },
  {
   "cell_type": "markdown",
   "metadata": {},
   "source": [
    "<div class=\"alert alert-warning\">\n",
    "    <b> Комментарий студента </b>\n",
    "О, еще раз спасибо за подсказку. Буду умножать на \"-1\"."
   ]
  },
  {
   "cell_type": "markdown",
   "metadata": {},
   "source": [
    "<div class=\"alert alert-success\">\n",
    "<h2> Комментарий ревьюера v.2 <a class=\"tocSkip\"> </h2>\n",
    "\n",
    "<b>Все отлично!👍:</b> \n",
    "\n",
    "Отлично"
   ]
  },
  {
   "cell_type": "markdown",
   "metadata": {},
   "source": [
    "#### Случайный лес"
   ]
  },
  {
   "cell_type": "markdown",
   "metadata": {},
   "source": [
    "С помощью функции GridSearchCV подберем лучшие гиперпараметры для модели случайного леса."
   ]
  },
  {
   "cell_type": "code",
   "execution_count": 38,
   "metadata": {},
   "outputs": [],
   "source": [
    "#forest_hyper = {'max_depth': np.arange(1, 6), 'n_estimators': np.arange(1, 21, 2)}\n",
    "\n",
    "#print('Для целевого признака rougher.output.recovery')\n",
    "#grid_search(RandomForestRegressor, forest_hyper, features_train, target_train_rougher)\n",
    "#print('Для целевого признака final.output.recovery')\n",
    "#grid_search(RandomForestRegressor, forest_hyper, features_train, target_train_final)"
   ]
  },
  {
   "cell_type": "markdown",
   "metadata": {},
   "source": [
    "<div class=\"alert alert-warning\">\n",
    "    <h2> Комментарий ревьюера <a class=\"tocSkip\"> </h2>\n",
    "    \n",
    "<b>Некоторые замечания и рекомендации💡:</b> \n",
    "     \n",
    "Рекомендую вместо, а лучше дополнительно к`n_estimators` перебирать более полезный гиперпараметр (например `max_features`)\n",
    "        "
   ]
  },
  {
   "cell_type": "markdown",
   "metadata": {},
   "source": [
    "<div class=\"alert alert-warning\">\n",
    "    <b> Комментарий студента </b>\n",
    "Супер-подсказка. Сейчас попробую."
   ]
  },
  {
   "cell_type": "code",
   "execution_count": 39,
   "metadata": {},
   "outputs": [
    {
     "name": "stdout",
     "output_type": "stream",
     "text": [
      "Для целевого признака rougher.output.recovery\n",
      "оптимальные гиперпараметры: {'max_depth': 5, 'max_features': 'log2', 'n_estimators': 13}\n",
      "Для целевого признака final.output.recovery\n",
      "оптимальные гиперпараметры: {'max_depth': 2, 'max_features': 'auto', 'n_estimators': 1}\n"
     ]
    }
   ],
   "source": [
    "# Попробуем перебрать рекомендованный гиперпараметр max_features\n",
    "forest_hyper = {'max_depth': np.arange(1, 6), 'n_estimators': np.arange(1, 21, 2), 'max_features': ['auto', 'sqrt', 'log2']}\n",
    "\n",
    "print('Для целевого признака rougher.output.recovery')\n",
    "grid_search(RandomForestRegressor, forest_hyper, features_train, target_train_rougher)\n",
    "print('Для целевого признака final.output.recovery')\n",
    "grid_search(RandomForestRegressor, forest_hyper, features_train, target_train_final)"
   ]
  },
  {
   "cell_type": "code",
   "execution_count": 40,
   "metadata": {},
   "outputs": [
    {
     "name": "stdout",
     "output_type": "stream",
     "text": [
      "Итоговый sMAPE: 11.002297788108475\n"
     ]
    }
   ],
   "source": [
    "smape_rougher = np.mean(cross_val_score(RandomForestRegressor(max_depth=5, n_estimators=13, max_features='log2', random_state=666), \n",
    "                                        features_train, target_train_rougher, scoring=smape_score, cv=3))\n",
    "smape_final = np.mean(cross_val_score(RandomForestRegressor(max_depth=2, n_estimators=1, max_features='auto', random_state=666), \n",
    "                                      features_train, target_train_final, scoring=smape_score, cv=3))\n",
    "\n",
    "print('Итоговый sMAPE:', total_smape(smape_rougher, smape_final)*(-1))"
   ]
  },
  {
   "cell_type": "markdown",
   "metadata": {},
   "source": [
    "#### Линейная регрессия"
   ]
  },
  {
   "cell_type": "code",
   "execution_count": 41,
   "metadata": {},
   "outputs": [
    {
     "name": "stdout",
     "output_type": "stream",
     "text": [
      "Итоговой sMAPE: 15.538279048247755\n"
     ]
    }
   ],
   "source": [
    "smape_rougher = np.mean(cross_val_score(LinearRegression(), features_train, \n",
    "                                        target_train_rougher, scoring=smape_score, \n",
    "                                        cv=3, n_jobs=-1))\n",
    "smape_final = np.mean(cross_val_score(LinearRegression(), features_train, \n",
    "                                      target_train_final, scoring=smape_score, \n",
    "                                      cv=3, n_jobs=-1))\n",
    "print('Итоговой sMAPE:', total_smape(smape_rougher, smape_final)*(-1)) "
   ]
  },
  {
   "cell_type": "markdown",
   "metadata": {},
   "source": [
    "<b>Вывод:</b>\n",
    "\n",
    "Лучший результат кросс-валидации показывает модель случайного леса. Обучим эту модель и сравним качество ее работы с константной моделью."
   ]
  },
  {
   "cell_type": "code",
   "execution_count": 63,
   "metadata": {},
   "outputs": [],
   "source": [
    "rf_model_rougher = RandomForestRegressor(max_depth=5, n_estimators=13, max_features='log2', random_state=666)\n",
    "rf_model_final = RandomForestRegressor(max_depth=2, n_estimators=1, max_features='auto', random_state=666)\n",
    "\n",
    "rf_rougher = rf_model_rougher.fit(features_train, target_train_rougher)\n",
    "rf_final = rf_model_final.fit(features_train, target_train_final)\n",
    "\n",
    "rf_prediction_rougher = rf_rougher.predict(features_test)\n",
    "rf_prediction_final = rf_final.predict(features_test)"
   ]
  },
  {
   "cell_type": "markdown",
   "metadata": {},
   "source": [
    "Посчитаем метрику качества sMAPE для обоих признаков"
   ]
  },
  {
   "cell_type": "code",
   "execution_count": 64,
   "metadata": {},
   "outputs": [],
   "source": [
    "smape_rougher = smape(target_test_rougher, rf_prediction_rougher)"
   ]
  },
  {
   "cell_type": "code",
   "execution_count": 65,
   "metadata": {},
   "outputs": [],
   "source": [
    "smape_final = smape(target_test_final, rf_prediction_final)"
   ]
  },
  {
   "cell_type": "markdown",
   "metadata": {},
   "source": [
    "Узнаем итоговый sMAPE для обученной модели случайного леса."
   ]
  },
  {
   "cell_type": "code",
   "execution_count": 66,
   "metadata": {},
   "outputs": [
    {
     "data": {
      "text/plain": [
       "9.472525052056287"
      ]
     },
     "execution_count": 66,
     "metadata": {},
     "output_type": "execute_result"
    }
   ],
   "source": [
    "total_smape(smape_rougher, smape_final)"
   ]
  },
  {
   "cell_type": "markdown",
   "metadata": {},
   "source": [
    "<div class=\"alert alert-warning\">\n",
    "    <b> Комментарий студента </b>\n",
    "Вот это да! Качество обученной модели случайного леса наконец-то лучше (пусть и незначительно) результатов константной модели."
   ]
  },
  {
   "cell_type": "markdown",
   "metadata": {},
   "source": [
    "<div class=\"alert alert-success\">\n",
    "<h2> Комментарий ревьюера <a class=\"tocSkip\"> </h2>\n",
    "\n",
    "<b>Все отлично!👍:</b>\n",
    "    \n",
    "По алгоритму тестирования - все верно"
   ]
  },
  {
   "cell_type": "markdown",
   "metadata": {},
   "source": [
    "<div class=\"alert alert-success\">\n",
    "<h2> Комментарий ревьюера v.2 <a class=\"tocSkip\"> </h2>\n",
    "\n",
    "<b>Все отлично!👍:</b> \n",
    "\n",
    "Отлично! :) В этой задаче сложно достичь большой разницы, так что все супер"
   ]
  },
  {
   "cell_type": "markdown",
   "metadata": {},
   "source": [
    "#### Дамми-модель"
   ]
  },
  {
   "cell_type": "markdown",
   "metadata": {},
   "source": [
    "Сравним качество обученной модели с константной с помощью дамми-модели."
   ]
  },
  {
   "cell_type": "markdown",
   "metadata": {},
   "source": [
    "<div class=\"alert alert-success\">\n",
    "<h2> Комментарий ревьюера <a class=\"tocSkip\"> </h2>\n",
    "\n",
    "<b>Все отлично!👍:</b>\n",
    "    \n",
    "Отлично, что делаешь сравнение с базовой моделью"
   ]
  },
  {
   "cell_type": "code",
   "execution_count": 46,
   "metadata": {},
   "outputs": [],
   "source": [
    "dummy = DummyRegressor(strategy = 'median')\n",
    "\n",
    "dummy_rougher = dummy.fit(features_train, target_train_rougher)\n",
    "dummy_prediction_rougher = dummy_rougher.predict(features_test)\n",
    "\n",
    "dummy_final = dummy.fit(features_train, target_train_final)\n",
    "dummy_prediction_final = dummy_final.predict(features_test)"
   ]
  },
  {
   "cell_type": "code",
   "execution_count": 47,
   "metadata": {},
   "outputs": [],
   "source": [
    "smape_dummy_rougher = smape(target_test_rougher, dummy_prediction_rougher)"
   ]
  },
  {
   "cell_type": "code",
   "execution_count": 48,
   "metadata": {},
   "outputs": [],
   "source": [
    "smape_dummy_final = smape(target_test_final, dummy_prediction_final)"
   ]
  },
  {
   "cell_type": "code",
   "execution_count": 49,
   "metadata": {},
   "outputs": [
    {
     "data": {
      "text/plain": [
       "9.479919198122863"
      ]
     },
     "execution_count": 49,
     "metadata": {},
     "output_type": "execute_result"
    }
   ],
   "source": [
    "# Итоговый sMAPE для дамми-модели\n",
    "total_smape(smape_dummy_rougher, smape_dummy_final)"
   ]
  },
  {
   "cell_type": "markdown",
   "metadata": {},
   "source": [
    "<b>Вывод:</b> \n",
    "Итак, ни одна из рассмотренных моделей не показывает адекватность качества прогнозирования по сравнению с константной. Попробуем рассмотреть альтернативные варианты моделей."
   ]
  },
  {
   "cell_type": "markdown",
   "metadata": {},
   "source": [
    "#### Модель Ridge"
   ]
  },
  {
   "cell_type": "code",
   "execution_count": 50,
   "metadata": {},
   "outputs": [
    {
     "name": "stdout",
     "output_type": "stream",
     "text": [
      "Для целевого признака rougher.output.recovery\n",
      "оптимальные гиперпараметры: {'alpha': 100, 'solver': 'sparse_cg'}\n",
      "Для целевого признака final.output.recovery\n",
      "оптимальные гиперпараметры: {'alpha': 100, 'solver': 'lsqr'}\n"
     ]
    }
   ],
   "source": [
    "# Подберем гиперпараметры модели методом GridSearch\n",
    "ridge_hyper = [{'alpha':[0.1, 1, 10, 100], 'solver':['auto']},\n",
    "                 {'alpha':[0.1, 1, 10, 100], 'solver':['svd']}, \n",
    "                 {'alpha':[0.1, 1, 10, 100], 'solver':['cholesky']},\n",
    "                 {'alpha':[0.1, 1, 10, 100], 'solver':['lsqr']}, \n",
    "                 {'alpha':[0.1, 1, 10, 100], 'solver':['sparse_cg']}]\n",
    "\n",
    "print('Для целевого признака rougher.output.recovery')\n",
    "grid_search(Ridge, ridge_hyper, features_train, target_train_rougher)\n",
    "print('Для целевого признака final.output.recovery')\n",
    "grid_search(Ridge, ridge_hyper, features_train, target_train_final)"
   ]
  },
  {
   "cell_type": "code",
   "execution_count": 51,
   "metadata": {},
   "outputs": [
    {
     "name": "stdout",
     "output_type": "stream",
     "text": [
      "Итоговый sMAPE: 11.874479861420584\n"
     ]
    }
   ],
   "source": [
    "smape_rougher = np.mean(cross_val_score(Ridge(alpha=100, solver='sparse_cg'), \n",
    "                                        features_train, target_train_rougher, scoring=smape_score, cv=6))\n",
    "smape_final = np.mean(cross_val_score(Ridge(alpha=100, solver='lsqr'), \n",
    "                                      features_train, target_train_final, scoring=smape_score, cv=6))\n",
    "\n",
    "print('Итоговый sMAPE:', total_smape(smape_rougher, smape_final)*(-1))"
   ]
  },
  {
   "cell_type": "markdown",
   "metadata": {},
   "source": [
    "Увы, достигнутый sMAPE для модели регрессии Ridge ниже качества ранее рассмотренных моделей."
   ]
  },
  {
   "cell_type": "markdown",
   "metadata": {},
   "source": [
    "#### Модель CatBoost"
   ]
  },
  {
   "cell_type": "code",
   "execution_count": 67,
   "metadata": {},
   "outputs": [
    {
     "name": "stdout",
     "output_type": "stream",
     "text": [
      "0:\tlearn: 13.1298084\ttotal: 5.65ms\tremaining: 5.65ms\n",
      "1:\tlearn: 12.4625088\ttotal: 10.2ms\tremaining: 0us\n",
      "0:\tlearn: 13.4757177\ttotal: 5.37ms\tremaining: 5.37ms\n",
      "1:\tlearn: 12.8366431\ttotal: 10.1ms\tremaining: 0us\n",
      "0:\tlearn: 13.1114952\ttotal: 4.95ms\tremaining: 4.95ms\n",
      "1:\tlearn: 12.2218037\ttotal: 9.77ms\tremaining: 0us\n",
      "0:\tlearn: 12.0875701\ttotal: 5.64ms\tremaining: 5.64ms\n",
      "1:\tlearn: 11.3752999\ttotal: 12.1ms\tremaining: 0us\n",
      "0:\tlearn: 10.9607700\ttotal: 5.46ms\tremaining: 5.46ms\n",
      "1:\tlearn: 10.2310269\ttotal: 10.2ms\tremaining: 0us\n",
      "0:\tlearn: 13.6202803\ttotal: 4.88ms\tremaining: 4.88ms\n",
      "1:\tlearn: 12.6296480\ttotal: 9.67ms\tremaining: 0us\n",
      "0:\tlearn: 8.8256107\ttotal: 8.5ms\tremaining: 8.5ms\n",
      "1:\tlearn: 8.4452609\ttotal: 15ms\tremaining: 0us\n",
      "0:\tlearn: 9.1390619\ttotal: 7.67ms\tremaining: 7.67ms\n",
      "1:\tlearn: 8.7177016\ttotal: 14.1ms\tremaining: 0us\n",
      "0:\tlearn: 8.7452003\ttotal: 7.47ms\tremaining: 7.47ms\n",
      "1:\tlearn: 8.4658103\ttotal: 14.1ms\tremaining: 0us\n",
      "0:\tlearn: 8.7160596\ttotal: 7.33ms\tremaining: 7.33ms\n",
      "1:\tlearn: 8.3495870\ttotal: 14.2ms\tremaining: 0us\n",
      "0:\tlearn: 9.0872111\ttotal: 10.3ms\tremaining: 10.3ms\n",
      "1:\tlearn: 8.6847385\ttotal: 16.4ms\tremaining: 0us\n",
      "0:\tlearn: 8.9684503\ttotal: 7.32ms\tremaining: 7.32ms\n",
      "1:\tlearn: 8.6498092\ttotal: 14.1ms\tremaining: 0us\n",
      "Итоговый sMAPE: 11.356066970200855\n"
     ]
    }
   ],
   "source": [
    "smape_rougher = np.mean(cross_val_score(CatBoostRegressor(iterations=2, learning_rate=1, depth=3), \n",
    "                                        features_train, target_train_rougher, scoring=smape_score, cv=6))\n",
    "smape_final = np.mean(cross_val_score(CatBoostRegressor(iterations=2, learning_rate=1, depth=4), \n",
    "                                      features_train, target_train_final, scoring=smape_score, cv=6))\n",
    "\n",
    "print('Итоговый sMAPE:', total_smape(smape_rougher, smape_final)*(-1))"
   ]
  },
  {
   "cell_type": "markdown",
   "metadata": {},
   "source": [
    "Попробуем обучить и запустить модель CatBoost и сравнить ее работу с константной моделью."
   ]
  },
  {
   "cell_type": "code",
   "execution_count": 68,
   "metadata": {},
   "outputs": [
    {
     "name": "stdout",
     "output_type": "stream",
     "text": [
      "0:\tlearn: 12.8862155\ttotal: 5.92ms\tremaining: 5.92ms\n",
      "1:\tlearn: 12.1089142\ttotal: 12ms\tremaining: 0us\n",
      "0:\tlearn: 8.8816306\ttotal: 8.13ms\tremaining: 8.13ms\n",
      "1:\tlearn: 8.5813434\ttotal: 15.4ms\tremaining: 0us\n"
     ]
    }
   ],
   "source": [
    "catboost_model_rougher = CatBoostRegressor(iterations=2, learning_rate=1, depth=3)\n",
    "catboost_model_final = CatBoostRegressor(iterations=2, learning_rate=1, depth=4)\n",
    "\n",
    "catboost_rougher = catboost_model_rougher.fit(features_train, target_train_rougher)\n",
    "catboost_final = catboost_model_final.fit(features_train, target_train_final)\n",
    "\n",
    "catboost_prediction_rougher = catboost_rougher.predict(features_test)\n",
    "catboost_prediction_final = catboost_final.predict(features_test)"
   ]
  },
  {
   "cell_type": "code",
   "execution_count": 69,
   "metadata": {},
   "outputs": [],
   "source": [
    "smape_rougher = smape(target_test_rougher, catboost_prediction_rougher)"
   ]
  },
  {
   "cell_type": "code",
   "execution_count": 70,
   "metadata": {},
   "outputs": [],
   "source": [
    "smape_final = smape(target_test_final, catboost_prediction_final)"
   ]
  },
  {
   "cell_type": "code",
   "execution_count": 71,
   "metadata": {},
   "outputs": [
    {
     "data": {
      "text/plain": [
       "10.113386154430948"
      ]
     },
     "execution_count": 71,
     "metadata": {},
     "output_type": "execute_result"
    }
   ],
   "source": [
    "# Итоговый sMAPE для модели CatBoost\n",
    "total_smape(smape_rougher, smape_final)"
   ]
  },
  {
   "cell_type": "markdown",
   "metadata": {},
   "source": [
    "Эх, результат опять не дотягивает до качества дамми-модели."
   ]
  },
  {
   "cell_type": "markdown",
   "metadata": {},
   "source": [
    "#### Модель Lasso"
   ]
  },
  {
   "cell_type": "code",
   "execution_count": 57,
   "metadata": {},
   "outputs": [
    {
     "name": "stdout",
     "output_type": "stream",
     "text": [
      "Для целевого признака rougher.output.recovery\n",
      "оптимальные гиперпараметры: {'alpha': 0.8631578947368421}\n",
      "Для целевого признака final.output.recovery\n",
      "оптимальные гиперпараметры: {'alpha': 0.5578947368421052}\n"
     ]
    }
   ],
   "source": [
    "# Подберем гиперпараметры модели методом GridSearch\n",
    "lasso_hyper = {'alpha': np.linspace(0.1, 3, 20)}\n",
    "\n",
    "print('Для целевого признака rougher.output.recovery')\n",
    "grid_search(Lasso, lasso_hyper, features_train, target_train_rougher)\n",
    "print('Для целевого признака final.output.recovery')\n",
    "grid_search(Lasso, lasso_hyper, features_train, target_train_final)"
   ]
  },
  {
   "cell_type": "code",
   "execution_count": 58,
   "metadata": {},
   "outputs": [
    {
     "name": "stdout",
     "output_type": "stream",
     "text": [
      "Итоговый sMAPE: 10.312435702011046\n"
     ]
    }
   ],
   "source": [
    "smape_rougher = np.mean(cross_val_score(Lasso(alpha=0.8631578947368421), \n",
    "                                        features_train, target_train_rougher, scoring=smape_score, cv=6))\n",
    "smape_final = np.mean(cross_val_score(Lasso(alpha=0.5578947368421052), \n",
    "                                      features_train, target_train_final, scoring=smape_score, cv=6))\n",
    "\n",
    "print('Итоговый sMAPE:', total_smape(smape_rougher, smape_final)*(-1))"
   ]
  },
  {
   "cell_type": "markdown",
   "metadata": {},
   "source": [
    "Новая модель-рекордсмен по лучшей метрике sMAPE. Попробуем ее обучить и проверить ее потенциал для нашего исследования."
   ]
  },
  {
   "cell_type": "code",
   "execution_count": 59,
   "metadata": {},
   "outputs": [],
   "source": [
    "lasso_model_rougher = Lasso(alpha=0.8631578947368421)\n",
    "lasso_model_final = Lasso(alpha=0.5578947368421052)\n",
    "\n",
    "lasso_rougher = lasso_model_rougher.fit(features_train, target_train_rougher)\n",
    "lasso_final = lasso_model_final.fit(features_train, target_train_final)\n",
    "\n",
    "lasso_prediction_rougher = lasso_rougher.predict(features_test)\n",
    "lasso_prediction_final = lasso_final.predict(features_test)"
   ]
  },
  {
   "cell_type": "code",
   "execution_count": 60,
   "metadata": {},
   "outputs": [],
   "source": [
    "smape_rougher = smape(target_test_rougher, lasso_prediction_rougher)"
   ]
  },
  {
   "cell_type": "code",
   "execution_count": 61,
   "metadata": {},
   "outputs": [],
   "source": [
    "smape_final = smape(target_test_final, catboost_prediction_final)"
   ]
  },
  {
   "cell_type": "code",
   "execution_count": 62,
   "metadata": {},
   "outputs": [
    {
     "data": {
      "text/plain": [
       "9.345462346475069"
      ]
     },
     "execution_count": 62,
     "metadata": {},
     "output_type": "execute_result"
    }
   ],
   "source": [
    "# Итоговый sMAPE для модели Lasso\n",
    "total_smape(smape_rougher, smape_final)"
   ]
  },
  {
   "cell_type": "markdown",
   "metadata": {},
   "source": [
    "Ура! Работа обученной модели Lasso оправдывает надежды: она показывает результат не только лучше константной модели, но и модели случайного леса."
   ]
  },
  {
   "cell_type": "markdown",
   "metadata": {},
   "source": [
    "## Итоговый вывод"
   ]
  },
  {
   "cell_type": "markdown",
   "metadata": {},
   "source": [
    "При создании прототипа модели машинного обучения для «Цифры» лучшее качество работы показали обученные модели случайного леса (итоговое sMAPE = 9.473) и модель Lasso (итоговое sMAPE = 9.345) при качестве константной модели с итоговым sMAPE = 9.48. \n",
    "\n",
    "Кроме того:\n",
    "* Проверена правильность расчета эффективности обогащения\n",
    "* Проанализированы признаки, не доступные в тестовой выборке\n",
    "* Проведена предобработка данных\n",
    "* Проанализировано изменение концентрации металлов (Au, Ag, Pb) на различных этапах очистки\n",
    "* Проведено сравнение распределения размеров гранул сырья на обучающей и тестовой выборках\n",
    "* Проведено исследование суммарной концентрации всех веществ на разных стадиях: в сырье, в черновом и финальном концентратах"
   ]
  },
  {
   "cell_type": "markdown",
   "metadata": {},
   "source": [
    "## Чек-лист готовности проекта"
   ]
  },
  {
   "cell_type": "markdown",
   "metadata": {},
   "source": [
    "- [x]  Jupyter Notebook открыт\n",
    "- [ ]  Весь код выполняется без ошибок\n",
    "- [ ]  Ячейки с кодом расположены в порядке выполнения\n",
    "- [ ]  Выполнен шаг 1: данные подготовлены\n",
    "    - [ ]  Проверена формула вычисления эффективности обогащения\n",
    "    - [ ]  Проанализированы признаки, недоступные в тестовой выборке\n",
    "    - [ ]  Проведена предобработка данных\n",
    "- [ ]  Выполнен шаг 2: данные проанализированы\n",
    "    - [ ]  Исследовано изменение концентрации элементов на каждом этапе\n",
    "    - [ ]  Проанализированы распределения размеров гранул на обучающей и тестовой выборках\n",
    "    - [ ]  Исследованы суммарные концентрации\n",
    "- [ ]  Выполнен шаг 3: построена модель прогнозирования\n",
    "    - [ ]  Написана функция для вычисления итогового *sMAPE*\n",
    "    - [ ]  Обучено и проверено несколько моделей\n",
    "    - [ ]  Выбрана лучшая модель, её качество проверено на тестовой выборке"
   ]
  },
  {
   "cell_type": "markdown",
   "metadata": {},
   "source": [
    "<div style=\"border:solid Chocolate 2px; padding: 40px\">\n",
    "\n",
    "**Общий вывод по проекту**\n",
    "\n",
    "Анна, спасибо за твой проект! Ты приложила много усилий, чтобы довести его до конца, проделана огромная работа, и это видно невооруженным глазом, ты молодец! Есть несколько важных моментов, которые я отметила и которые можно было бы улучшить, подсказки ты найдешь в моих комментариях. \n",
    "\n",
    "**Отмечу отдельные положительные моменты проекта🙂**:\n",
    " \n",
    "* Первые части проекта - по анализу, предобработке и визуализации данных сделаны отлично!\n",
    "* На разных шагах проекта ты вынесла вычисления в функций. Это действительно удобно и на практике почти весь код вынесен как раз в функции - хорошая работа!\n",
    "* Ты использовала разные методы для работы с данными, все получилось!\n",
    "* Ты использовала визуализацию, хорошо, что ты не избегаешь этого инструмента анализа.\n",
    "* Отдельно отмечу оформление графиков.\n",
    "* При построении моделей ты использовала кросс-валидацию, что важно, чтобы получить адекватные результаты.\n",
    "* Ты делаешь сравнение с базовой моделью, тем самым проверив модель на адекватность.\n",
    "* Ты исследуешь большое число моделей - супер!\n",
    "\n",
    "\n",
    "**На что стоит обратить внимание🤓**:\n",
    "    \n",
    "* Нужно исправить алгоритм стандартизации.\n",
    "* Можно обработать пропуски заменой,  а не удалением.\n",
    "* Комментарии по улучшению моделей ты найдешь в коде.\n",
    "\n",
    "\n",
    "    \n",
    "Остальные рекомендации ты найдешь в моих комментариях!\n",
    "\n",
    "\n",
    "**Желаю удачи и жду твой проект на повторное ревью!**😉\n",
    "    \n",
    "![gif](https://media.giphy.com/media/l41Yh1olOKd1Tgbw4/giphy.gif)"
   ]
  },
  {
   "cell_type": "markdown",
   "metadata": {},
   "source": [
    "<div class=\"alert alert-success\">\n",
    "\n",
    "\n",
    "Анна, отличные доработки - теперь твой проект доработан! Желаю тебе удачи в следующих проектах :)"
   ]
  },
  {
   "cell_type": "code",
   "execution_count": null,
   "metadata": {},
   "outputs": [],
   "source": []
  }
 ],
 "metadata": {
  "ExecuteTimeLog": [
   {
    "duration": 1676,
    "start_time": "2022-05-25T12:38:07.093Z"
   },
   {
    "duration": 4,
    "start_time": "2022-05-25T12:39:32.566Z"
   },
   {
    "duration": 1827,
    "start_time": "2022-05-25T12:40:31.405Z"
   },
   {
    "duration": 25,
    "start_time": "2022-05-25T12:41:03.310Z"
   },
   {
    "duration": 11,
    "start_time": "2022-05-25T12:42:42.370Z"
   },
   {
    "duration": 6,
    "start_time": "2022-05-25T12:42:55.059Z"
   },
   {
    "duration": 5,
    "start_time": "2022-05-25T12:44:16.894Z"
   },
   {
    "duration": 58,
    "start_time": "2022-05-26T11:29:59.511Z"
   },
   {
    "duration": 1523,
    "start_time": "2022-05-26T11:30:06.865Z"
   },
   {
    "duration": 3046,
    "start_time": "2022-05-26T11:30:08.390Z"
   },
   {
    "duration": 20,
    "start_time": "2022-05-26T11:30:11.441Z"
   },
   {
    "duration": 4,
    "start_time": "2022-05-26T11:30:11.462Z"
   },
   {
    "duration": 18,
    "start_time": "2022-05-26T11:31:02.238Z"
   },
   {
    "duration": 14,
    "start_time": "2022-05-26T11:31:29.783Z"
   },
   {
    "duration": 25,
    "start_time": "2022-05-26T11:37:35.267Z"
   },
   {
    "duration": 12,
    "start_time": "2022-05-26T11:38:34.346Z"
   },
   {
    "duration": 13,
    "start_time": "2022-05-26T11:40:16.227Z"
   },
   {
    "duration": 60,
    "start_time": "2022-05-26T13:05:15.817Z"
   },
   {
    "duration": 1452,
    "start_time": "2022-05-26T13:05:30.300Z"
   },
   {
    "duration": 3113,
    "start_time": "2022-05-26T13:05:31.754Z"
   },
   {
    "duration": 20,
    "start_time": "2022-05-26T13:05:34.869Z"
   },
   {
    "duration": 15,
    "start_time": "2022-05-26T13:05:34.890Z"
   },
   {
    "duration": 11,
    "start_time": "2022-05-26T13:05:34.908Z"
   },
   {
    "duration": 13,
    "start_time": "2022-05-26T13:05:34.921Z"
   },
   {
    "duration": 28,
    "start_time": "2022-05-26T13:05:34.936Z"
   },
   {
    "duration": 21,
    "start_time": "2022-05-26T13:05:34.966Z"
   },
   {
    "duration": 25,
    "start_time": "2022-05-26T13:05:34.988Z"
   },
   {
    "duration": 21,
    "start_time": "2022-05-26T13:05:35.015Z"
   },
   {
    "duration": 3,
    "start_time": "2022-05-26T13:06:47.624Z"
   },
   {
    "duration": 4,
    "start_time": "2022-05-26T13:18:21.031Z"
   },
   {
    "duration": 114,
    "start_time": "2022-05-26T13:19:14.241Z"
   },
   {
    "duration": 1271,
    "start_time": "2022-05-26T13:19:38.838Z"
   },
   {
    "duration": 750,
    "start_time": "2022-05-26T13:19:40.110Z"
   },
   {
    "duration": 18,
    "start_time": "2022-05-26T13:19:40.862Z"
   },
   {
    "duration": 15,
    "start_time": "2022-05-26T13:19:40.882Z"
   },
   {
    "duration": 29,
    "start_time": "2022-05-26T13:19:40.899Z"
   },
   {
    "duration": 4,
    "start_time": "2022-05-26T13:19:40.929Z"
   },
   {
    "duration": 20,
    "start_time": "2022-05-26T13:19:40.935Z"
   },
   {
    "duration": 14,
    "start_time": "2022-05-26T13:19:40.957Z"
   },
   {
    "duration": 13,
    "start_time": "2022-05-26T13:19:40.972Z"
   },
   {
    "duration": 14,
    "start_time": "2022-05-26T13:19:40.987Z"
   },
   {
    "duration": 25,
    "start_time": "2022-05-26T13:19:41.002Z"
   },
   {
    "duration": 9,
    "start_time": "2022-05-26T13:19:41.029Z"
   },
   {
    "duration": 120,
    "start_time": "2022-05-26T13:19:41.039Z"
   },
   {
    "duration": 10,
    "start_time": "2022-05-26T13:19:50.100Z"
   },
   {
    "duration": 383,
    "start_time": "2022-05-26T13:20:25.223Z"
   },
   {
    "duration": 404,
    "start_time": "2022-05-26T13:20:49.813Z"
   },
   {
    "duration": 192,
    "start_time": "2022-05-26T13:22:21.270Z"
   },
   {
    "duration": 3,
    "start_time": "2022-05-26T13:22:50.933Z"
   },
   {
    "duration": 134,
    "start_time": "2022-05-26T13:22:52.151Z"
   },
   {
    "duration": 4,
    "start_time": "2022-05-26T13:23:00.835Z"
   },
   {
    "duration": 154,
    "start_time": "2022-05-26T13:23:01.451Z"
   },
   {
    "duration": 246,
    "start_time": "2022-05-26T13:23:14.856Z"
   },
   {
    "duration": 328,
    "start_time": "2022-05-26T13:24:42.160Z"
   },
   {
    "duration": 155,
    "start_time": "2022-05-26T13:24:57.242Z"
   },
   {
    "duration": 245,
    "start_time": "2022-05-26T13:26:05.302Z"
   },
   {
    "duration": 270,
    "start_time": "2022-05-26T13:26:26.036Z"
   },
   {
    "duration": 268,
    "start_time": "2022-05-26T13:26:52.462Z"
   },
   {
    "duration": 366,
    "start_time": "2022-05-26T13:28:45.047Z"
   },
   {
    "duration": 229,
    "start_time": "2022-05-26T13:31:16.458Z"
   },
   {
    "duration": 227,
    "start_time": "2022-05-26T13:31:27.039Z"
   },
   {
    "duration": 217,
    "start_time": "2022-05-26T13:31:44.029Z"
   },
   {
    "duration": 5,
    "start_time": "2022-05-26T13:33:28.300Z"
   },
   {
    "duration": 28,
    "start_time": "2022-05-26T13:33:50.108Z"
   },
   {
    "duration": 50,
    "start_time": "2022-05-26T13:34:00.334Z"
   },
   {
    "duration": 4,
    "start_time": "2022-05-26T13:34:06.074Z"
   },
   {
    "duration": 48,
    "start_time": "2022-05-26T13:35:15.598Z"
   },
   {
    "duration": 2,
    "start_time": "2022-05-26T13:36:26.077Z"
   },
   {
    "duration": 22,
    "start_time": "2022-05-26T13:40:32.292Z"
   },
   {
    "duration": 18,
    "start_time": "2022-05-26T13:40:47.421Z"
   },
   {
    "duration": 9,
    "start_time": "2022-05-26T13:47:04.185Z"
   },
   {
    "duration": 7,
    "start_time": "2022-05-26T13:47:18.021Z"
   },
   {
    "duration": 1579,
    "start_time": "2022-06-02T06:48:58.708Z"
   },
   {
    "duration": 3572,
    "start_time": "2022-06-02T06:49:00.290Z"
   },
   {
    "duration": 29,
    "start_time": "2022-06-02T06:49:03.864Z"
   },
   {
    "duration": 53,
    "start_time": "2022-06-02T06:49:03.897Z"
   },
   {
    "duration": 22,
    "start_time": "2022-06-02T06:49:03.957Z"
   },
   {
    "duration": 60,
    "start_time": "2022-06-02T06:49:03.982Z"
   },
   {
    "duration": 49,
    "start_time": "2022-06-02T06:49:04.044Z"
   },
   {
    "duration": 46,
    "start_time": "2022-06-02T06:49:04.095Z"
   },
   {
    "duration": 37,
    "start_time": "2022-06-02T06:49:04.142Z"
   },
   {
    "duration": 44,
    "start_time": "2022-06-02T06:49:04.182Z"
   },
   {
    "duration": 17,
    "start_time": "2022-06-02T06:49:04.229Z"
   },
   {
    "duration": 30,
    "start_time": "2022-06-02T06:49:04.248Z"
   },
   {
    "duration": 361,
    "start_time": "2022-06-02T06:49:04.280Z"
   },
   {
    "duration": 11,
    "start_time": "2022-06-02T06:49:04.649Z"
   },
   {
    "duration": 31,
    "start_time": "2022-06-02T06:49:04.661Z"
   },
   {
    "duration": 1357,
    "start_time": "2022-06-02T09:37:39.777Z"
   },
   {
    "duration": 3067,
    "start_time": "2022-06-02T09:37:41.136Z"
   },
   {
    "duration": 18,
    "start_time": "2022-06-02T09:37:44.204Z"
   },
   {
    "duration": 15,
    "start_time": "2022-06-02T09:37:44.224Z"
   },
   {
    "duration": 11,
    "start_time": "2022-06-02T09:37:44.240Z"
   },
   {
    "duration": 4,
    "start_time": "2022-06-02T09:37:44.253Z"
   },
   {
    "duration": 20,
    "start_time": "2022-06-02T09:37:44.258Z"
   },
   {
    "duration": 13,
    "start_time": "2022-06-02T09:37:44.280Z"
   },
   {
    "duration": 36,
    "start_time": "2022-06-02T09:37:44.294Z"
   },
   {
    "duration": 14,
    "start_time": "2022-06-02T09:37:44.332Z"
   },
   {
    "duration": 3,
    "start_time": "2022-06-02T09:37:44.347Z"
   },
   {
    "duration": 7,
    "start_time": "2022-06-02T09:37:44.352Z"
   },
   {
    "duration": 280,
    "start_time": "2022-06-02T09:37:44.360Z"
   },
   {
    "duration": 4,
    "start_time": "2022-06-02T09:37:44.642Z"
   },
   {
    "duration": 23,
    "start_time": "2022-06-02T09:37:44.648Z"
   },
   {
    "duration": 11,
    "start_time": "2022-06-02T09:37:44.673Z"
   },
   {
    "duration": 111,
    "start_time": "2022-06-02T09:45:36.552Z"
   },
   {
    "duration": 1313,
    "start_time": "2022-06-02T09:46:05.379Z"
   },
   {
    "duration": 687,
    "start_time": "2022-06-02T09:46:06.694Z"
   },
   {
    "duration": 18,
    "start_time": "2022-06-02T09:46:07.383Z"
   },
   {
    "duration": 29,
    "start_time": "2022-06-02T09:46:07.403Z"
   },
   {
    "duration": 11,
    "start_time": "2022-06-02T09:46:07.434Z"
   },
   {
    "duration": 68,
    "start_time": "2022-06-02T09:46:07.447Z"
   },
   {
    "duration": 20,
    "start_time": "2022-06-02T09:46:07.517Z"
   },
   {
    "duration": 24,
    "start_time": "2022-06-02T09:46:07.539Z"
   },
   {
    "duration": 36,
    "start_time": "2022-06-02T09:46:07.565Z"
   },
   {
    "duration": 25,
    "start_time": "2022-06-02T09:46:07.603Z"
   },
   {
    "duration": 6,
    "start_time": "2022-06-02T09:46:07.629Z"
   },
   {
    "duration": 12,
    "start_time": "2022-06-02T09:46:07.636Z"
   },
   {
    "duration": 278,
    "start_time": "2022-06-02T09:46:07.650Z"
   },
   {
    "duration": 4,
    "start_time": "2022-06-02T09:46:07.930Z"
   },
   {
    "duration": 14,
    "start_time": "2022-06-02T09:46:07.935Z"
   },
   {
    "duration": 19,
    "start_time": "2022-06-02T09:46:07.950Z"
   },
   {
    "duration": 22,
    "start_time": "2022-06-02T09:46:07.971Z"
   },
   {
    "duration": 5,
    "start_time": "2022-06-02T09:46:34.502Z"
   },
   {
    "duration": 12,
    "start_time": "2022-06-02T09:47:55.577Z"
   },
   {
    "duration": 7,
    "start_time": "2022-06-02T09:51:58.168Z"
   },
   {
    "duration": 7,
    "start_time": "2022-06-02T09:52:21.662Z"
   },
   {
    "duration": 5,
    "start_time": "2022-06-02T09:52:52.870Z"
   },
   {
    "duration": 5,
    "start_time": "2022-06-02T09:52:57.610Z"
   },
   {
    "duration": 5,
    "start_time": "2022-06-02T09:53:04.928Z"
   },
   {
    "duration": 4,
    "start_time": "2022-06-02T09:54:54.567Z"
   },
   {
    "duration": 5,
    "start_time": "2022-06-02T09:55:17.159Z"
   },
   {
    "duration": 133,
    "start_time": "2022-06-02T09:56:29.180Z"
   },
   {
    "duration": 4,
    "start_time": "2022-06-02T09:56:50.934Z"
   },
   {
    "duration": 481,
    "start_time": "2022-06-02T10:22:41.858Z"
   },
   {
    "duration": 3646,
    "start_time": "2022-06-02T10:23:30.232Z"
   },
   {
    "duration": 1241,
    "start_time": "2022-06-02T10:28:22.664Z"
   },
   {
    "duration": 4952,
    "start_time": "2022-06-02T10:32:17.977Z"
   },
   {
    "duration": 4847,
    "start_time": "2022-06-02T10:35:28.179Z"
   },
   {
    "duration": 4698,
    "start_time": "2022-06-02T10:35:58.854Z"
   },
   {
    "duration": 12,
    "start_time": "2022-06-02T10:52:21.540Z"
   },
   {
    "duration": 4846,
    "start_time": "2022-06-02T10:52:33.586Z"
   },
   {
    "duration": 4806,
    "start_time": "2022-06-02T11:00:42.536Z"
   },
   {
    "duration": 4575,
    "start_time": "2022-06-02T11:00:53.870Z"
   },
   {
    "duration": 2,
    "start_time": "2022-06-02T11:04:43.068Z"
   },
   {
    "duration": 575,
    "start_time": "2022-06-02T11:44:13.816Z"
   },
   {
    "duration": 689,
    "start_time": "2022-06-02T11:51:26.475Z"
   },
   {
    "duration": 515,
    "start_time": "2022-06-02T11:51:32.170Z"
   },
   {
    "duration": 534,
    "start_time": "2022-06-02T11:51:40.377Z"
   },
   {
    "duration": 24,
    "start_time": "2022-06-02T11:53:55.720Z"
   },
   {
    "duration": 29,
    "start_time": "2022-06-02T11:54:29.125Z"
   },
   {
    "duration": 15,
    "start_time": "2022-06-02T11:54:37.177Z"
   },
   {
    "duration": 12,
    "start_time": "2022-06-02T11:54:54.886Z"
   },
   {
    "duration": 16,
    "start_time": "2022-06-02T11:55:02.041Z"
   },
   {
    "duration": 609,
    "start_time": "2022-06-02T11:55:12.693Z"
   },
   {
    "duration": 503,
    "start_time": "2022-06-02T11:55:21.082Z"
   },
   {
    "duration": 675,
    "start_time": "2022-06-02T11:55:28.403Z"
   },
   {
    "duration": 528,
    "start_time": "2022-06-02T11:55:34.568Z"
   },
   {
    "duration": 546,
    "start_time": "2022-06-02T11:55:42.915Z"
   },
   {
    "duration": 721,
    "start_time": "2022-06-02T11:55:51.768Z"
   },
   {
    "duration": 525,
    "start_time": "2022-06-02T11:55:58.992Z"
   },
   {
    "duration": 652,
    "start_time": "2022-06-02T11:56:05.965Z"
   },
   {
    "duration": 724,
    "start_time": "2022-06-02T11:56:17.487Z"
   },
   {
    "duration": 585,
    "start_time": "2022-06-02T11:56:22.154Z"
   },
   {
    "duration": 610,
    "start_time": "2022-06-02T11:56:36.068Z"
   },
   {
    "duration": 612,
    "start_time": "2022-06-02T11:56:49.582Z"
   },
   {
    "duration": 592,
    "start_time": "2022-06-02T11:57:09.291Z"
   },
   {
    "duration": 584,
    "start_time": "2022-06-02T11:57:24.021Z"
   },
   {
    "duration": 794,
    "start_time": "2022-06-02T11:57:28.276Z"
   },
   {
    "duration": 545,
    "start_time": "2022-06-02T11:57:33.919Z"
   },
   {
    "duration": 598,
    "start_time": "2022-06-02T11:57:45.823Z"
   },
   {
    "duration": 2,
    "start_time": "2022-06-02T11:58:47.469Z"
   },
   {
    "duration": 1224,
    "start_time": "2022-06-02T12:17:37.084Z"
   },
   {
    "duration": 686,
    "start_time": "2022-06-02T12:17:38.310Z"
   },
   {
    "duration": 19,
    "start_time": "2022-06-02T12:17:38.998Z"
   },
   {
    "duration": 15,
    "start_time": "2022-06-02T12:17:39.027Z"
   },
   {
    "duration": 12,
    "start_time": "2022-06-02T12:17:39.044Z"
   },
   {
    "duration": 4,
    "start_time": "2022-06-02T12:17:39.058Z"
   },
   {
    "duration": 18,
    "start_time": "2022-06-02T12:17:39.063Z"
   },
   {
    "duration": 46,
    "start_time": "2022-06-02T12:17:39.082Z"
   },
   {
    "duration": 12,
    "start_time": "2022-06-02T12:17:39.129Z"
   },
   {
    "duration": 19,
    "start_time": "2022-06-02T12:17:39.143Z"
   },
   {
    "duration": 10,
    "start_time": "2022-06-02T12:17:39.163Z"
   },
   {
    "duration": 6,
    "start_time": "2022-06-02T12:17:39.175Z"
   },
   {
    "duration": 262,
    "start_time": "2022-06-02T12:17:39.182Z"
   },
   {
    "duration": 5,
    "start_time": "2022-06-02T12:17:39.447Z"
   },
   {
    "duration": 8,
    "start_time": "2022-06-02T12:17:39.454Z"
   },
   {
    "duration": 15,
    "start_time": "2022-06-02T12:17:39.464Z"
   },
   {
    "duration": 11,
    "start_time": "2022-06-02T12:17:39.480Z"
   },
   {
    "duration": 12,
    "start_time": "2022-06-02T12:17:39.493Z"
   },
   {
    "duration": 22,
    "start_time": "2022-06-02T12:17:39.506Z"
   },
   {
    "duration": 5,
    "start_time": "2022-06-02T12:17:39.529Z"
   },
   {
    "duration": 15,
    "start_time": "2022-06-02T12:17:39.536Z"
   },
   {
    "duration": 4764,
    "start_time": "2022-06-02T12:17:39.552Z"
   },
   {
    "duration": 547,
    "start_time": "2022-06-02T12:17:44.317Z"
   },
   {
    "duration": 1293,
    "start_time": "2022-06-02T12:23:47.565Z"
   },
   {
    "duration": 1419,
    "start_time": "2022-06-02T12:26:24.327Z"
   },
   {
    "duration": 1449,
    "start_time": "2022-06-02T12:26:53.907Z"
   },
   {
    "duration": 1261,
    "start_time": "2022-06-02T12:27:15.676Z"
   },
   {
    "duration": 131,
    "start_time": "2022-06-02T12:34:18.092Z"
   },
   {
    "duration": 26,
    "start_time": "2022-06-02T12:34:32.600Z"
   },
   {
    "duration": 34,
    "start_time": "2022-06-02T12:36:04.441Z"
   },
   {
    "duration": 3,
    "start_time": "2022-06-02T12:36:26.176Z"
   },
   {
    "duration": 1317,
    "start_time": "2022-06-02T12:36:47.716Z"
   },
   {
    "duration": 280,
    "start_time": "2022-06-02T12:40:12.944Z"
   },
   {
    "duration": 3,
    "start_time": "2022-06-02T12:41:24.890Z"
   },
   {
    "duration": 283,
    "start_time": "2022-06-02T12:41:27.276Z"
   },
   {
    "duration": 1452,
    "start_time": "2022-06-02T12:41:53.768Z"
   },
   {
    "duration": 271,
    "start_time": "2022-06-02T12:42:02.290Z"
   },
   {
    "duration": 269,
    "start_time": "2022-06-02T12:42:52.546Z"
   },
   {
    "duration": 1224,
    "start_time": "2022-06-02T12:44:19.586Z"
   },
   {
    "duration": 1434,
    "start_time": "2022-06-02T12:45:51.579Z"
   },
   {
    "duration": 31,
    "start_time": "2022-06-02T12:48:58.261Z"
   },
   {
    "duration": 1261,
    "start_time": "2022-06-02T13:18:31.903Z"
   },
   {
    "duration": 743,
    "start_time": "2022-06-02T13:18:33.165Z"
   },
   {
    "duration": 29,
    "start_time": "2022-06-02T13:18:33.911Z"
   },
   {
    "duration": 16,
    "start_time": "2022-06-02T13:18:33.943Z"
   },
   {
    "duration": 12,
    "start_time": "2022-06-02T13:18:33.961Z"
   },
   {
    "duration": 5,
    "start_time": "2022-06-02T13:18:33.974Z"
   },
   {
    "duration": 22,
    "start_time": "2022-06-02T13:18:33.980Z"
   },
   {
    "duration": 40,
    "start_time": "2022-06-02T13:18:34.003Z"
   },
   {
    "duration": 12,
    "start_time": "2022-06-02T13:18:34.045Z"
   },
   {
    "duration": 28,
    "start_time": "2022-06-02T13:18:34.059Z"
   },
   {
    "duration": 3,
    "start_time": "2022-06-02T13:18:34.089Z"
   },
   {
    "duration": 9,
    "start_time": "2022-06-02T13:18:34.093Z"
   },
   {
    "duration": 278,
    "start_time": "2022-06-02T13:18:34.103Z"
   },
   {
    "duration": 4,
    "start_time": "2022-06-02T13:18:34.382Z"
   },
   {
    "duration": 12,
    "start_time": "2022-06-02T13:18:34.387Z"
   },
   {
    "duration": 15,
    "start_time": "2022-06-02T13:18:34.401Z"
   },
   {
    "duration": 16,
    "start_time": "2022-06-02T13:18:34.417Z"
   },
   {
    "duration": 28,
    "start_time": "2022-06-02T13:18:34.434Z"
   },
   {
    "duration": 6,
    "start_time": "2022-06-02T13:18:34.463Z"
   },
   {
    "duration": 6,
    "start_time": "2022-06-02T13:18:34.470Z"
   },
   {
    "duration": 5,
    "start_time": "2022-06-02T13:18:34.478Z"
   },
   {
    "duration": 4746,
    "start_time": "2022-06-02T13:18:34.484Z"
   },
   {
    "duration": 527,
    "start_time": "2022-06-02T13:18:39.240Z"
   },
   {
    "duration": 1274,
    "start_time": "2022-06-02T13:18:39.769Z"
   },
   {
    "duration": 1292,
    "start_time": "2022-06-02T13:18:41.045Z"
   },
   {
    "duration": 3,
    "start_time": "2022-06-02T13:25:02.945Z"
   },
   {
    "duration": 3,
    "start_time": "2022-06-02T13:25:49.219Z"
   },
   {
    "duration": 3,
    "start_time": "2022-06-02T13:36:21.269Z"
   },
   {
    "duration": 7,
    "start_time": "2022-06-02T13:38:55.094Z"
   },
   {
    "duration": 20,
    "start_time": "2022-06-02T13:39:36.100Z"
   },
   {
    "duration": 26,
    "start_time": "2022-06-02T13:45:34.017Z"
   },
   {
    "duration": 35,
    "start_time": "2022-06-02T13:46:26.324Z"
   },
   {
    "duration": 23,
    "start_time": "2022-06-02T13:47:15.839Z"
   },
   {
    "duration": 5,
    "start_time": "2022-06-02T13:48:01.764Z"
   },
   {
    "duration": 19,
    "start_time": "2022-06-02T13:48:02.341Z"
   },
   {
    "duration": 18,
    "start_time": "2022-06-02T13:48:04.699Z"
   },
   {
    "duration": 25,
    "start_time": "2022-06-02T13:48:05.717Z"
   },
   {
    "duration": 21,
    "start_time": "2022-06-02T13:48:07.189Z"
   },
   {
    "duration": 22,
    "start_time": "2022-06-02T13:49:01.764Z"
   },
   {
    "duration": 9,
    "start_time": "2022-06-02T13:50:06.497Z"
   },
   {
    "duration": 129,
    "start_time": "2022-06-02T13:50:07.396Z"
   },
   {
    "duration": 122,
    "start_time": "2022-06-02T13:50:38.199Z"
   },
   {
    "duration": 1240,
    "start_time": "2022-06-02T13:50:47.243Z"
   },
   {
    "duration": 708,
    "start_time": "2022-06-02T13:50:48.485Z"
   },
   {
    "duration": 17,
    "start_time": "2022-06-02T13:50:49.198Z"
   },
   {
    "duration": 24,
    "start_time": "2022-06-02T13:50:49.227Z"
   },
   {
    "duration": 19,
    "start_time": "2022-06-02T13:50:49.253Z"
   },
   {
    "duration": 17,
    "start_time": "2022-06-02T13:50:49.273Z"
   },
   {
    "duration": 20,
    "start_time": "2022-06-02T13:50:49.292Z"
   },
   {
    "duration": 27,
    "start_time": "2022-06-02T13:50:49.313Z"
   },
   {
    "duration": 23,
    "start_time": "2022-06-02T13:50:49.343Z"
   },
   {
    "duration": 31,
    "start_time": "2022-06-02T13:50:49.367Z"
   },
   {
    "duration": 22,
    "start_time": "2022-06-02T13:50:49.400Z"
   },
   {
    "duration": 31,
    "start_time": "2022-06-02T13:50:49.424Z"
   },
   {
    "duration": 248,
    "start_time": "2022-06-02T13:50:49.457Z"
   },
   {
    "duration": 5,
    "start_time": "2022-06-02T13:50:49.706Z"
   },
   {
    "duration": 43,
    "start_time": "2022-06-02T13:50:49.712Z"
   },
   {
    "duration": 25,
    "start_time": "2022-06-02T13:50:49.757Z"
   },
   {
    "duration": 16,
    "start_time": "2022-06-02T13:50:49.783Z"
   },
   {
    "duration": 48,
    "start_time": "2022-06-02T13:50:49.800Z"
   },
   {
    "duration": 31,
    "start_time": "2022-06-02T13:50:49.849Z"
   },
   {
    "duration": 36,
    "start_time": "2022-06-02T13:50:49.882Z"
   },
   {
    "duration": 46,
    "start_time": "2022-06-02T13:50:49.920Z"
   },
   {
    "duration": 4536,
    "start_time": "2022-06-02T13:50:49.967Z"
   },
   {
    "duration": 556,
    "start_time": "2022-06-02T13:50:54.505Z"
   },
   {
    "duration": 1315,
    "start_time": "2022-06-02T13:50:55.064Z"
   },
   {
    "duration": 1339,
    "start_time": "2022-06-02T13:50:56.381Z"
   },
   {
    "duration": 6,
    "start_time": "2022-06-02T13:50:57.727Z"
   },
   {
    "duration": 11,
    "start_time": "2022-06-02T13:50:57.738Z"
   },
   {
    "duration": 14,
    "start_time": "2022-06-02T13:50:57.750Z"
   },
   {
    "duration": 26,
    "start_time": "2022-06-02T13:50:57.766Z"
   },
   {
    "duration": 16,
    "start_time": "2022-06-02T13:50:57.794Z"
   },
   {
    "duration": 34,
    "start_time": "2022-06-02T13:50:57.811Z"
   },
   {
    "duration": 22,
    "start_time": "2022-06-02T13:50:57.847Z"
   },
   {
    "duration": 9,
    "start_time": "2022-06-02T14:12:00.470Z"
   },
   {
    "duration": 2,
    "start_time": "2022-06-02T14:13:08.099Z"
   },
   {
    "duration": 2,
    "start_time": "2022-06-02T14:13:09.890Z"
   },
   {
    "duration": 2,
    "start_time": "2022-06-02T14:13:17.450Z"
   },
   {
    "duration": 9,
    "start_time": "2022-06-02T14:14:28.381Z"
   },
   {
    "duration": 129,
    "start_time": "2022-06-02T14:14:30.456Z"
   },
   {
    "duration": 1500,
    "start_time": "2022-06-05T04:53:03.281Z"
   },
   {
    "duration": 3338,
    "start_time": "2022-06-05T04:53:04.783Z"
   },
   {
    "duration": 19,
    "start_time": "2022-06-05T04:53:08.122Z"
   },
   {
    "duration": 14,
    "start_time": "2022-06-05T04:53:08.142Z"
   },
   {
    "duration": 18,
    "start_time": "2022-06-05T04:53:08.158Z"
   },
   {
    "duration": 6,
    "start_time": "2022-06-05T04:53:08.178Z"
   },
   {
    "duration": 16,
    "start_time": "2022-06-05T04:53:08.185Z"
   },
   {
    "duration": 15,
    "start_time": "2022-06-05T04:53:08.202Z"
   },
   {
    "duration": 42,
    "start_time": "2022-06-05T04:53:08.219Z"
   },
   {
    "duration": 16,
    "start_time": "2022-06-05T04:53:08.263Z"
   },
   {
    "duration": 4,
    "start_time": "2022-06-05T04:53:08.281Z"
   },
   {
    "duration": 6,
    "start_time": "2022-06-05T04:53:08.287Z"
   },
   {
    "duration": 306,
    "start_time": "2022-06-05T04:53:08.295Z"
   },
   {
    "duration": 5,
    "start_time": "2022-06-05T04:53:08.604Z"
   },
   {
    "duration": 9,
    "start_time": "2022-06-05T04:53:08.611Z"
   },
   {
    "duration": 10,
    "start_time": "2022-06-05T04:53:08.622Z"
   },
   {
    "duration": 25,
    "start_time": "2022-06-05T04:53:08.634Z"
   },
   {
    "duration": 35,
    "start_time": "2022-06-05T04:53:08.661Z"
   },
   {
    "duration": 9,
    "start_time": "2022-06-05T04:53:08.697Z"
   },
   {
    "duration": 11,
    "start_time": "2022-06-05T04:53:08.708Z"
   },
   {
    "duration": 12,
    "start_time": "2022-06-05T04:53:08.721Z"
   },
   {
    "duration": 4967,
    "start_time": "2022-06-05T04:53:08.735Z"
   },
   {
    "duration": 595,
    "start_time": "2022-06-05T04:53:13.704Z"
   },
   {
    "duration": 1306,
    "start_time": "2022-06-05T04:53:14.300Z"
   },
   {
    "duration": 1505,
    "start_time": "2022-06-05T04:53:15.608Z"
   },
   {
    "duration": 4,
    "start_time": "2022-06-05T04:53:17.115Z"
   },
   {
    "duration": 18,
    "start_time": "2022-06-05T04:53:17.124Z"
   },
   {
    "duration": 18,
    "start_time": "2022-06-05T04:53:17.144Z"
   },
   {
    "duration": 23,
    "start_time": "2022-06-05T04:53:17.165Z"
   },
   {
    "duration": 138,
    "start_time": "2022-06-05T04:53:17.190Z"
   },
   {
    "duration": 0,
    "start_time": "2022-06-05T04:53:17.331Z"
   },
   {
    "duration": 0,
    "start_time": "2022-06-05T04:53:17.332Z"
   },
   {
    "duration": 10,
    "start_time": "2022-06-05T04:54:45.288Z"
   },
   {
    "duration": 23,
    "start_time": "2022-06-05T04:54:51.804Z"
   },
   {
    "duration": 6,
    "start_time": "2022-06-05T04:55:54.846Z"
   },
   {
    "duration": 4,
    "start_time": "2022-06-05T04:55:55.421Z"
   },
   {
    "duration": 20,
    "start_time": "2022-06-05T04:56:23.171Z"
   },
   {
    "duration": 5,
    "start_time": "2022-06-05T04:59:04.976Z"
   },
   {
    "duration": 28,
    "start_time": "2022-06-05T04:59:07.516Z"
   },
   {
    "duration": 2,
    "start_time": "2022-06-05T05:01:15.092Z"
   },
   {
    "duration": 7,
    "start_time": "2022-06-05T05:01:28.611Z"
   },
   {
    "duration": 6,
    "start_time": "2022-06-05T05:01:29.475Z"
   },
   {
    "duration": 10,
    "start_time": "2022-06-05T05:01:32.120Z"
   },
   {
    "duration": 30,
    "start_time": "2022-06-05T05:06:05.373Z"
   },
   {
    "duration": 6,
    "start_time": "2022-06-05T05:07:50.000Z"
   },
   {
    "duration": 30,
    "start_time": "2022-06-05T05:07:53.728Z"
   },
   {
    "duration": 29,
    "start_time": "2022-06-05T05:08:32.271Z"
   },
   {
    "duration": 10,
    "start_time": "2022-06-05T05:13:42.573Z"
   },
   {
    "duration": 10,
    "start_time": "2022-06-05T05:14:17.707Z"
   },
   {
    "duration": 15,
    "start_time": "2022-06-05T05:14:50.760Z"
   },
   {
    "duration": 47,
    "start_time": "2022-06-05T05:15:18.306Z"
   },
   {
    "duration": 12,
    "start_time": "2022-06-05T05:23:53.439Z"
   },
   {
    "duration": 7,
    "start_time": "2022-06-05T05:24:30.689Z"
   },
   {
    "duration": 5,
    "start_time": "2022-06-05T05:24:32.245Z"
   },
   {
    "duration": 2854,
    "start_time": "2022-06-05T05:24:35.221Z"
   },
   {
    "duration": 1606,
    "start_time": "2022-06-05T05:25:10.074Z"
   },
   {
    "duration": 2146,
    "start_time": "2022-06-05T05:26:10.115Z"
   },
   {
    "duration": 1386,
    "start_time": "2022-06-05T05:29:17.474Z"
   },
   {
    "duration": 124363,
    "start_time": "2022-06-05T05:31:21.872Z"
   },
   {
    "duration": 19,
    "start_time": "2022-06-05T05:59:36.108Z"
   },
   {
    "duration": 1358,
    "start_time": "2022-06-05T05:59:41.727Z"
   },
   {
    "duration": 2164,
    "start_time": "2022-06-05T05:59:46.091Z"
   },
   {
    "duration": 126887,
    "start_time": "2022-06-05T05:59:51.307Z"
   },
   {
    "duration": 3,
    "start_time": "2022-06-05T06:03:35.503Z"
   },
   {
    "duration": 3,
    "start_time": "2022-06-05T06:05:26.443Z"
   },
   {
    "duration": 3,
    "start_time": "2022-06-05T06:05:41.912Z"
   },
   {
    "duration": 2176,
    "start_time": "2022-06-05T06:06:21.590Z"
   },
   {
    "duration": 3,
    "start_time": "2022-06-05T06:06:39.024Z"
   },
   {
    "duration": 3,
    "start_time": "2022-06-05T06:08:19.675Z"
   },
   {
    "duration": 11,
    "start_time": "2022-06-05T06:10:31.375Z"
   },
   {
    "duration": 1114,
    "start_time": "2022-06-05T06:11:01.578Z"
   },
   {
    "duration": 1174,
    "start_time": "2022-06-05T06:12:02.628Z"
   },
   {
    "duration": 1119,
    "start_time": "2022-06-05T06:12:10.124Z"
   },
   {
    "duration": 1164,
    "start_time": "2022-06-05T06:14:26.723Z"
   },
   {
    "duration": 242,
    "start_time": "2022-06-05T06:16:42.532Z"
   },
   {
    "duration": 2,
    "start_time": "2022-06-05T06:18:25.590Z"
   },
   {
    "duration": 1371,
    "start_time": "2022-06-05T06:22:32.037Z"
   },
   {
    "duration": 842,
    "start_time": "2022-06-05T06:22:33.410Z"
   },
   {
    "duration": 26,
    "start_time": "2022-06-05T06:22:34.254Z"
   },
   {
    "duration": 16,
    "start_time": "2022-06-05T06:22:34.282Z"
   },
   {
    "duration": 11,
    "start_time": "2022-06-05T06:22:34.300Z"
   },
   {
    "duration": 4,
    "start_time": "2022-06-05T06:22:34.313Z"
   },
   {
    "duration": 59,
    "start_time": "2022-06-05T06:22:34.319Z"
   },
   {
    "duration": 21,
    "start_time": "2022-06-05T06:22:34.380Z"
   },
   {
    "duration": 13,
    "start_time": "2022-06-05T06:22:34.403Z"
   },
   {
    "duration": 14,
    "start_time": "2022-06-05T06:22:34.418Z"
   },
   {
    "duration": 3,
    "start_time": "2022-06-05T06:22:34.435Z"
   },
   {
    "duration": 23,
    "start_time": "2022-06-05T06:22:34.439Z"
   },
   {
    "duration": 292,
    "start_time": "2022-06-05T06:22:34.464Z"
   },
   {
    "duration": 5,
    "start_time": "2022-06-05T06:22:34.760Z"
   },
   {
    "duration": 21,
    "start_time": "2022-06-05T06:22:34.767Z"
   },
   {
    "duration": 10,
    "start_time": "2022-06-05T06:22:34.789Z"
   },
   {
    "duration": 9,
    "start_time": "2022-06-05T06:22:34.800Z"
   },
   {
    "duration": 13,
    "start_time": "2022-06-05T06:22:34.811Z"
   },
   {
    "duration": 5,
    "start_time": "2022-06-05T06:22:34.826Z"
   },
   {
    "duration": 6,
    "start_time": "2022-06-05T06:22:34.832Z"
   },
   {
    "duration": 19,
    "start_time": "2022-06-05T06:22:34.858Z"
   },
   {
    "duration": 5152,
    "start_time": "2022-06-05T06:22:34.878Z"
   },
   {
    "duration": 602,
    "start_time": "2022-06-05T06:22:40.033Z"
   },
   {
    "duration": 1380,
    "start_time": "2022-06-05T06:22:40.637Z"
   },
   {
    "duration": 1428,
    "start_time": "2022-06-05T06:22:42.019Z"
   },
   {
    "duration": 22,
    "start_time": "2022-06-05T06:22:43.449Z"
   },
   {
    "duration": 30,
    "start_time": "2022-06-05T06:22:43.475Z"
   },
   {
    "duration": 15,
    "start_time": "2022-06-05T06:22:43.507Z"
   },
   {
    "duration": 19,
    "start_time": "2022-06-05T06:22:43.524Z"
   },
   {
    "duration": 5,
    "start_time": "2022-06-05T06:22:43.545Z"
   },
   {
    "duration": 10,
    "start_time": "2022-06-05T06:22:43.551Z"
   },
   {
    "duration": 28,
    "start_time": "2022-06-05T06:22:43.563Z"
   },
   {
    "duration": 978,
    "start_time": "2022-06-05T06:22:43.593Z"
   },
   {
    "duration": 6,
    "start_time": "2022-06-05T06:22:44.576Z"
   },
   {
    "duration": 2313,
    "start_time": "2022-06-05T06:22:44.661Z"
   },
   {
    "duration": 130108,
    "start_time": "2022-06-05T06:22:46.975Z"
   },
   {
    "duration": 17,
    "start_time": "2022-06-05T07:09:19.080Z"
   },
   {
    "duration": 13,
    "start_time": "2022-06-05T07:09:53.220Z"
   },
   {
    "duration": 10,
    "start_time": "2022-06-05T07:09:59.734Z"
   },
   {
    "duration": 152,
    "start_time": "2022-06-05T07:16:00.944Z"
   },
   {
    "duration": 680,
    "start_time": "2022-06-05T07:16:25.483Z"
   },
   {
    "duration": 477,
    "start_time": "2022-06-05T07:23:01.214Z"
   },
   {
    "duration": 288,
    "start_time": "2022-06-05T07:25:49.291Z"
   },
   {
    "duration": 5,
    "start_time": "2022-06-05T07:25:53.326Z"
   },
   {
    "duration": 7,
    "start_time": "2022-06-05T07:26:42.383Z"
   },
   {
    "duration": 3,
    "start_time": "2022-06-05T07:27:31.545Z"
   },
   {
    "duration": 6,
    "start_time": "2022-06-05T07:31:45.181Z"
   },
   {
    "duration": 6,
    "start_time": "2022-06-05T07:32:55.278Z"
   },
   {
    "duration": 5,
    "start_time": "2022-06-05T07:33:23.476Z"
   },
   {
    "duration": 5,
    "start_time": "2022-06-05T07:33:50.193Z"
   },
   {
    "duration": 5,
    "start_time": "2022-06-05T07:57:02.198Z"
   },
   {
    "duration": 112,
    "start_time": "2022-06-05T07:59:45.131Z"
   },
   {
    "duration": 104,
    "start_time": "2022-06-05T08:01:11.484Z"
   },
   {
    "duration": 117,
    "start_time": "2022-06-05T08:02:05.312Z"
   },
   {
    "duration": 4,
    "start_time": "2022-06-05T08:03:18.733Z"
   },
   {
    "duration": 12,
    "start_time": "2022-06-05T13:21:49.220Z"
   },
   {
    "duration": 3,
    "start_time": "2022-06-05T13:21:54.547Z"
   },
   {
    "duration": 67,
    "start_time": "2022-06-05T13:22:07.119Z"
   },
   {
    "duration": 1769,
    "start_time": "2022-06-05T13:22:23.240Z"
   },
   {
    "duration": 3412,
    "start_time": "2022-06-05T13:22:25.011Z"
   },
   {
    "duration": 27,
    "start_time": "2022-06-05T13:22:28.425Z"
   },
   {
    "duration": 19,
    "start_time": "2022-06-05T13:22:28.455Z"
   },
   {
    "duration": 17,
    "start_time": "2022-06-05T13:22:28.477Z"
   },
   {
    "duration": 4,
    "start_time": "2022-06-05T13:22:28.496Z"
   },
   {
    "duration": 20,
    "start_time": "2022-06-05T13:22:28.528Z"
   },
   {
    "duration": 16,
    "start_time": "2022-06-05T13:22:28.550Z"
   },
   {
    "duration": 15,
    "start_time": "2022-06-05T13:22:28.568Z"
   },
   {
    "duration": 15,
    "start_time": "2022-06-05T13:22:28.584Z"
   },
   {
    "duration": 3,
    "start_time": "2022-06-05T13:22:28.601Z"
   },
   {
    "duration": 14,
    "start_time": "2022-06-05T13:22:28.626Z"
   },
   {
    "duration": 323,
    "start_time": "2022-06-05T13:22:28.642Z"
   },
   {
    "duration": 6,
    "start_time": "2022-06-05T13:22:28.968Z"
   },
   {
    "duration": 12,
    "start_time": "2022-06-05T13:22:28.976Z"
   },
   {
    "duration": 22,
    "start_time": "2022-06-05T13:22:28.990Z"
   },
   {
    "duration": 22,
    "start_time": "2022-06-05T13:22:29.014Z"
   },
   {
    "duration": 23,
    "start_time": "2022-06-05T13:22:29.041Z"
   },
   {
    "duration": 19,
    "start_time": "2022-06-05T13:22:29.066Z"
   },
   {
    "duration": 11,
    "start_time": "2022-06-05T13:22:29.086Z"
   },
   {
    "duration": 9,
    "start_time": "2022-06-05T13:22:29.098Z"
   },
   {
    "duration": 5077,
    "start_time": "2022-06-05T13:22:29.109Z"
   },
   {
    "duration": 677,
    "start_time": "2022-06-05T13:22:34.188Z"
   },
   {
    "duration": 1315,
    "start_time": "2022-06-05T13:22:34.867Z"
   },
   {
    "duration": 1407,
    "start_time": "2022-06-05T13:22:36.184Z"
   },
   {
    "duration": 4,
    "start_time": "2022-06-05T13:22:37.593Z"
   },
   {
    "duration": 10,
    "start_time": "2022-06-05T13:22:37.598Z"
   },
   {
    "duration": 8,
    "start_time": "2022-06-05T13:22:37.610Z"
   },
   {
    "duration": 38,
    "start_time": "2022-06-05T13:22:37.620Z"
   },
   {
    "duration": 6,
    "start_time": "2022-06-05T13:22:37.660Z"
   },
   {
    "duration": 24,
    "start_time": "2022-06-05T13:22:37.668Z"
   },
   {
    "duration": 6,
    "start_time": "2022-06-05T13:22:37.695Z"
   },
   {
    "duration": 18,
    "start_time": "2022-06-05T13:22:37.703Z"
   },
   {
    "duration": 1621,
    "start_time": "2022-06-05T13:22:37.723Z"
   },
   {
    "duration": 78,
    "start_time": "2022-06-05T13:22:39.348Z"
   },
   {
    "duration": 312,
    "start_time": "2022-06-05T13:22:39.429Z"
   },
   {
    "duration": 0,
    "start_time": "2022-06-05T13:22:39.743Z"
   },
   {
    "duration": 0,
    "start_time": "2022-06-05T13:22:39.745Z"
   },
   {
    "duration": 0,
    "start_time": "2022-06-05T13:22:39.746Z"
   },
   {
    "duration": 0,
    "start_time": "2022-06-05T13:22:39.749Z"
   },
   {
    "duration": 0,
    "start_time": "2022-06-05T13:22:39.751Z"
   },
   {
    "duration": 0,
    "start_time": "2022-06-05T13:22:39.752Z"
   },
   {
    "duration": 0,
    "start_time": "2022-06-05T13:22:39.754Z"
   },
   {
    "duration": 0,
    "start_time": "2022-06-05T13:22:39.756Z"
   },
   {
    "duration": 0,
    "start_time": "2022-06-05T13:22:39.757Z"
   },
   {
    "duration": 0,
    "start_time": "2022-06-05T13:22:39.759Z"
   },
   {
    "duration": 3,
    "start_time": "2022-06-05T13:37:53.378Z"
   },
   {
    "duration": 5,
    "start_time": "2022-06-05T13:38:20.611Z"
   },
   {
    "duration": 1307,
    "start_time": "2022-06-05T13:48:29.774Z"
   },
   {
    "duration": 751,
    "start_time": "2022-06-05T13:48:31.083Z"
   },
   {
    "duration": 25,
    "start_time": "2022-06-05T13:48:31.836Z"
   },
   {
    "duration": 34,
    "start_time": "2022-06-05T13:48:31.864Z"
   },
   {
    "duration": 45,
    "start_time": "2022-06-05T13:48:31.902Z"
   },
   {
    "duration": 27,
    "start_time": "2022-06-05T13:48:31.949Z"
   },
   {
    "duration": 52,
    "start_time": "2022-06-05T13:48:31.979Z"
   },
   {
    "duration": 34,
    "start_time": "2022-06-05T13:48:32.033Z"
   },
   {
    "duration": 27,
    "start_time": "2022-06-05T13:48:32.069Z"
   },
   {
    "duration": 45,
    "start_time": "2022-06-05T13:48:32.098Z"
   },
   {
    "duration": 19,
    "start_time": "2022-06-05T13:48:32.147Z"
   },
   {
    "duration": 47,
    "start_time": "2022-06-05T13:48:32.168Z"
   },
   {
    "duration": 283,
    "start_time": "2022-06-05T13:48:32.217Z"
   },
   {
    "duration": 6,
    "start_time": "2022-06-05T13:48:32.504Z"
   },
   {
    "duration": 18,
    "start_time": "2022-06-05T13:48:32.511Z"
   },
   {
    "duration": 11,
    "start_time": "2022-06-05T13:48:32.531Z"
   },
   {
    "duration": 9,
    "start_time": "2022-06-05T13:48:32.545Z"
   },
   {
    "duration": 32,
    "start_time": "2022-06-05T13:48:32.556Z"
   },
   {
    "duration": 15,
    "start_time": "2022-06-05T13:48:32.590Z"
   },
   {
    "duration": 27,
    "start_time": "2022-06-05T13:48:32.607Z"
   },
   {
    "duration": 9,
    "start_time": "2022-06-05T13:48:32.636Z"
   },
   {
    "duration": 5051,
    "start_time": "2022-06-05T13:48:32.647Z"
   },
   {
    "duration": 612,
    "start_time": "2022-06-05T13:48:37.700Z"
   },
   {
    "duration": 1498,
    "start_time": "2022-06-05T13:48:38.313Z"
   },
   {
    "duration": 1399,
    "start_time": "2022-06-05T13:48:39.812Z"
   },
   {
    "duration": 5,
    "start_time": "2022-06-05T13:48:41.212Z"
   },
   {
    "duration": 22,
    "start_time": "2022-06-05T13:48:41.219Z"
   },
   {
    "duration": 21,
    "start_time": "2022-06-05T13:48:41.243Z"
   },
   {
    "duration": 23,
    "start_time": "2022-06-05T13:48:41.266Z"
   },
   {
    "duration": 6,
    "start_time": "2022-06-05T13:48:41.290Z"
   },
   {
    "duration": 30,
    "start_time": "2022-06-05T13:48:41.297Z"
   },
   {
    "duration": 13,
    "start_time": "2022-06-05T13:48:41.333Z"
   },
   {
    "duration": 18,
    "start_time": "2022-06-05T13:48:41.351Z"
   },
   {
    "duration": 2277,
    "start_time": "2022-06-05T13:48:41.371Z"
   },
   {
    "duration": 78,
    "start_time": "2022-06-05T13:48:43.650Z"
   },
   {
    "duration": 1543,
    "start_time": "2022-06-05T14:01:35.322Z"
   },
   {
    "duration": 848,
    "start_time": "2022-06-05T14:01:36.867Z"
   },
   {
    "duration": 46,
    "start_time": "2022-06-05T14:01:37.717Z"
   },
   {
    "duration": 24,
    "start_time": "2022-06-05T14:01:37.765Z"
   },
   {
    "duration": 17,
    "start_time": "2022-06-05T14:01:37.792Z"
   },
   {
    "duration": 61,
    "start_time": "2022-06-05T14:01:37.812Z"
   },
   {
    "duration": 21,
    "start_time": "2022-06-05T14:01:37.875Z"
   },
   {
    "duration": 15,
    "start_time": "2022-06-05T14:01:37.897Z"
   },
   {
    "duration": 20,
    "start_time": "2022-06-05T14:01:37.914Z"
   },
   {
    "duration": 40,
    "start_time": "2022-06-05T14:01:37.936Z"
   },
   {
    "duration": 4,
    "start_time": "2022-06-05T14:01:37.978Z"
   },
   {
    "duration": 11,
    "start_time": "2022-06-05T14:01:37.984Z"
   },
   {
    "duration": 321,
    "start_time": "2022-06-05T14:01:37.997Z"
   },
   {
    "duration": 10,
    "start_time": "2022-06-05T14:01:38.326Z"
   },
   {
    "duration": 29,
    "start_time": "2022-06-05T14:01:38.345Z"
   },
   {
    "duration": 14,
    "start_time": "2022-06-05T14:01:38.377Z"
   },
   {
    "duration": 8,
    "start_time": "2022-06-05T14:01:38.393Z"
   },
   {
    "duration": 19,
    "start_time": "2022-06-05T14:01:38.403Z"
   },
   {
    "duration": 42,
    "start_time": "2022-06-05T14:01:38.424Z"
   },
   {
    "duration": 9,
    "start_time": "2022-06-05T14:01:38.468Z"
   },
   {
    "duration": 20,
    "start_time": "2022-06-05T14:01:38.478Z"
   },
   {
    "duration": 5436,
    "start_time": "2022-06-05T14:01:38.501Z"
   },
   {
    "duration": 893,
    "start_time": "2022-06-05T14:01:43.939Z"
   },
   {
    "duration": 1503,
    "start_time": "2022-06-05T14:01:44.835Z"
   },
   {
    "duration": 1483,
    "start_time": "2022-06-05T14:01:46.340Z"
   },
   {
    "duration": 10,
    "start_time": "2022-06-05T14:01:47.826Z"
   },
   {
    "duration": 39,
    "start_time": "2022-06-05T14:01:47.838Z"
   },
   {
    "duration": 11,
    "start_time": "2022-06-05T14:01:47.878Z"
   },
   {
    "duration": 25,
    "start_time": "2022-06-05T14:01:47.890Z"
   },
   {
    "duration": 44,
    "start_time": "2022-06-05T14:01:47.917Z"
   },
   {
    "duration": 31,
    "start_time": "2022-06-05T14:01:47.963Z"
   },
   {
    "duration": 5,
    "start_time": "2022-06-05T14:01:47.996Z"
   },
   {
    "duration": 28,
    "start_time": "2022-06-05T14:01:48.003Z"
   },
   {
    "duration": 2601,
    "start_time": "2022-06-05T14:01:48.033Z"
   },
   {
    "duration": 8,
    "start_time": "2022-06-05T14:01:50.636Z"
   },
   {
    "duration": 80561,
    "start_time": "2022-06-05T14:01:50.654Z"
   },
   {
    "duration": 3,
    "start_time": "2022-06-05T14:03:11.217Z"
   },
   {
    "duration": 132894,
    "start_time": "2022-06-05T14:03:11.229Z"
   },
   {
    "duration": 917,
    "start_time": "2022-06-05T14:05:24.130Z"
   },
   {
    "duration": 88,
    "start_time": "2022-06-05T14:05:25.049Z"
   },
   {
    "duration": 84,
    "start_time": "2022-06-05T14:05:25.146Z"
   },
   {
    "duration": 176,
    "start_time": "2022-06-05T14:05:25.231Z"
   },
   {
    "duration": 0,
    "start_time": "2022-06-05T14:05:25.409Z"
   },
   {
    "duration": 0,
    "start_time": "2022-06-05T14:05:25.411Z"
   },
   {
    "duration": 0,
    "start_time": "2022-06-05T14:05:25.413Z"
   },
   {
    "duration": 0,
    "start_time": "2022-06-05T14:05:25.414Z"
   },
   {
    "duration": 6,
    "start_time": "2022-06-05T14:07:26.041Z"
   },
   {
    "duration": 1412,
    "start_time": "2022-06-05T14:29:57.692Z"
   },
   {
    "duration": 1737,
    "start_time": "2022-06-05T14:29:59.106Z"
   },
   {
    "duration": 22,
    "start_time": "2022-06-05T14:30:00.846Z"
   },
   {
    "duration": 17,
    "start_time": "2022-06-05T14:30:00.870Z"
   },
   {
    "duration": 17,
    "start_time": "2022-06-05T14:30:00.890Z"
   },
   {
    "duration": 20,
    "start_time": "2022-06-05T14:30:00.910Z"
   },
   {
    "duration": 65,
    "start_time": "2022-06-05T14:30:00.933Z"
   },
   {
    "duration": 35,
    "start_time": "2022-06-05T14:30:01.003Z"
   },
   {
    "duration": 36,
    "start_time": "2022-06-05T14:30:01.040Z"
   },
   {
    "duration": 26,
    "start_time": "2022-06-05T14:30:01.078Z"
   },
   {
    "duration": 35,
    "start_time": "2022-06-05T14:30:01.106Z"
   },
   {
    "duration": 25,
    "start_time": "2022-06-05T14:30:01.143Z"
   },
   {
    "duration": 326,
    "start_time": "2022-06-05T14:30:01.171Z"
   },
   {
    "duration": 6,
    "start_time": "2022-06-05T14:30:01.500Z"
   },
   {
    "duration": 69,
    "start_time": "2022-06-05T14:30:01.507Z"
   },
   {
    "duration": 43,
    "start_time": "2022-06-05T14:30:01.577Z"
   },
   {
    "duration": 120,
    "start_time": "2022-06-05T14:30:01.622Z"
   },
   {
    "duration": 51,
    "start_time": "2022-06-05T14:30:01.744Z"
   },
   {
    "duration": 82,
    "start_time": "2022-06-05T14:30:01.797Z"
   },
   {
    "duration": 39,
    "start_time": "2022-06-05T14:30:01.881Z"
   },
   {
    "duration": 66,
    "start_time": "2022-06-05T14:30:01.922Z"
   },
   {
    "duration": 4989,
    "start_time": "2022-06-05T14:30:01.990Z"
   },
   {
    "duration": 641,
    "start_time": "2022-06-05T14:30:06.981Z"
   },
   {
    "duration": 1372,
    "start_time": "2022-06-05T14:30:07.626Z"
   },
   {
    "duration": 1479,
    "start_time": "2022-06-05T14:30:09.000Z"
   },
   {
    "duration": 5,
    "start_time": "2022-06-05T14:30:10.480Z"
   },
   {
    "duration": 14,
    "start_time": "2022-06-05T14:30:10.487Z"
   },
   {
    "duration": 11,
    "start_time": "2022-06-05T14:30:10.503Z"
   },
   {
    "duration": 25,
    "start_time": "2022-06-05T14:30:10.516Z"
   },
   {
    "duration": 13,
    "start_time": "2022-06-05T14:30:10.543Z"
   },
   {
    "duration": 25,
    "start_time": "2022-06-05T14:30:10.557Z"
   },
   {
    "duration": 4,
    "start_time": "2022-06-05T14:30:10.584Z"
   },
   {
    "duration": 22,
    "start_time": "2022-06-05T14:30:10.590Z"
   },
   {
    "duration": 6,
    "start_time": "2022-06-05T14:30:10.614Z"
   },
   {
    "duration": 1467,
    "start_time": "2022-06-05T14:38:07.453Z"
   },
   {
    "duration": 1179,
    "start_time": "2022-06-05T14:38:08.924Z"
   },
   {
    "duration": 39,
    "start_time": "2022-06-05T14:38:10.105Z"
   },
   {
    "duration": 22,
    "start_time": "2022-06-05T14:38:10.147Z"
   },
   {
    "duration": 13,
    "start_time": "2022-06-05T14:38:10.171Z"
   },
   {
    "duration": 10,
    "start_time": "2022-06-05T14:38:10.187Z"
   },
   {
    "duration": 67,
    "start_time": "2022-06-05T14:38:10.200Z"
   },
   {
    "duration": 18,
    "start_time": "2022-06-05T14:38:10.269Z"
   },
   {
    "duration": 16,
    "start_time": "2022-06-05T14:38:10.289Z"
   },
   {
    "duration": 29,
    "start_time": "2022-06-05T14:38:10.307Z"
   },
   {
    "duration": 7,
    "start_time": "2022-06-05T14:38:10.338Z"
   },
   {
    "duration": 21,
    "start_time": "2022-06-05T14:38:10.347Z"
   },
   {
    "duration": 304,
    "start_time": "2022-06-05T14:38:10.370Z"
   },
   {
    "duration": 4,
    "start_time": "2022-06-05T14:38:10.677Z"
   },
   {
    "duration": 12,
    "start_time": "2022-06-05T14:38:10.683Z"
   },
   {
    "duration": 30,
    "start_time": "2022-06-05T14:38:10.696Z"
   },
   {
    "duration": 10,
    "start_time": "2022-06-05T14:38:10.728Z"
   },
   {
    "duration": 39,
    "start_time": "2022-06-05T14:38:10.741Z"
   },
   {
    "duration": 8,
    "start_time": "2022-06-05T14:38:10.782Z"
   },
   {
    "duration": 8,
    "start_time": "2022-06-05T14:38:10.792Z"
   },
   {
    "duration": 10,
    "start_time": "2022-06-05T14:38:10.802Z"
   },
   {
    "duration": 5520,
    "start_time": "2022-06-05T14:38:10.814Z"
   },
   {
    "duration": 671,
    "start_time": "2022-06-05T14:38:16.337Z"
   },
   {
    "duration": 1484,
    "start_time": "2022-06-05T14:38:17.010Z"
   },
   {
    "duration": 1448,
    "start_time": "2022-06-05T14:38:18.497Z"
   },
   {
    "duration": 5,
    "start_time": "2022-06-05T14:38:19.948Z"
   },
   {
    "duration": 7,
    "start_time": "2022-06-05T14:38:19.955Z"
   },
   {
    "duration": 5,
    "start_time": "2022-06-05T14:38:19.964Z"
   },
   {
    "duration": 20,
    "start_time": "2022-06-05T14:38:19.971Z"
   },
   {
    "duration": 6,
    "start_time": "2022-06-05T14:38:19.993Z"
   },
   {
    "duration": 46,
    "start_time": "2022-06-05T14:38:20.001Z"
   },
   {
    "duration": 14,
    "start_time": "2022-06-05T14:38:20.049Z"
   },
   {
    "duration": 29,
    "start_time": "2022-06-05T14:38:20.065Z"
   },
   {
    "duration": 6,
    "start_time": "2022-06-05T14:38:20.096Z"
   },
   {
    "duration": 254550,
    "start_time": "2022-06-05T14:38:20.104Z"
   },
   {
    "duration": 1814,
    "start_time": "2022-06-05T14:42:34.656Z"
   },
   {
    "duration": 3,
    "start_time": "2022-06-05T14:42:36.471Z"
   },
   {
    "duration": 27,
    "start_time": "2022-06-05T14:42:36.476Z"
   },
   {
    "duration": 0,
    "start_time": "2022-06-05T14:42:36.506Z"
   },
   {
    "duration": 0,
    "start_time": "2022-06-05T14:42:36.507Z"
   },
   {
    "duration": 0,
    "start_time": "2022-06-05T14:42:36.509Z"
   },
   {
    "duration": 0,
    "start_time": "2022-06-05T14:42:36.510Z"
   },
   {
    "duration": 0,
    "start_time": "2022-06-05T14:42:36.511Z"
   },
   {
    "duration": 0,
    "start_time": "2022-06-05T14:42:36.513Z"
   },
   {
    "duration": 0,
    "start_time": "2022-06-05T14:42:36.515Z"
   },
   {
    "duration": 0,
    "start_time": "2022-06-05T14:42:36.516Z"
   },
   {
    "duration": 0,
    "start_time": "2022-06-05T14:42:36.518Z"
   },
   {
    "duration": 0,
    "start_time": "2022-06-05T14:42:36.529Z"
   },
   {
    "duration": 0,
    "start_time": "2022-06-05T14:42:36.530Z"
   },
   {
    "duration": 0,
    "start_time": "2022-06-05T14:42:36.531Z"
   },
   {
    "duration": 0,
    "start_time": "2022-06-05T14:42:36.532Z"
   },
   {
    "duration": 1235,
    "start_time": "2022-06-05T14:43:15.603Z"
   },
   {
    "duration": 1199,
    "start_time": "2022-06-05T14:43:41.143Z"
   },
   {
    "duration": 1544,
    "start_time": "2022-06-05T15:06:19.005Z"
   },
   {
    "duration": 1943,
    "start_time": "2022-06-05T15:06:20.551Z"
   },
   {
    "duration": 20,
    "start_time": "2022-06-05T15:06:22.496Z"
   },
   {
    "duration": 17,
    "start_time": "2022-06-05T15:06:22.518Z"
   },
   {
    "duration": 11,
    "start_time": "2022-06-05T15:06:22.538Z"
   },
   {
    "duration": 5,
    "start_time": "2022-06-05T15:06:22.551Z"
   },
   {
    "duration": 20,
    "start_time": "2022-06-05T15:06:22.557Z"
   },
   {
    "duration": 13,
    "start_time": "2022-06-05T15:06:22.579Z"
   },
   {
    "duration": 13,
    "start_time": "2022-06-05T15:06:22.625Z"
   },
   {
    "duration": 18,
    "start_time": "2022-06-05T15:06:22.639Z"
   },
   {
    "duration": 3,
    "start_time": "2022-06-05T15:06:22.658Z"
   },
   {
    "duration": 16,
    "start_time": "2022-06-05T15:06:22.663Z"
   },
   {
    "duration": 298,
    "start_time": "2022-06-05T15:06:22.680Z"
   },
   {
    "duration": 4,
    "start_time": "2022-06-05T15:06:22.982Z"
   },
   {
    "duration": 10,
    "start_time": "2022-06-05T15:06:22.987Z"
   },
   {
    "duration": 10,
    "start_time": "2022-06-05T15:06:22.998Z"
   },
   {
    "duration": 19,
    "start_time": "2022-06-05T15:06:23.010Z"
   },
   {
    "duration": 14,
    "start_time": "2022-06-05T15:06:23.031Z"
   },
   {
    "duration": 7,
    "start_time": "2022-06-05T15:06:23.047Z"
   },
   {
    "duration": 6,
    "start_time": "2022-06-05T15:06:23.056Z"
   },
   {
    "duration": 9,
    "start_time": "2022-06-05T15:06:23.064Z"
   },
   {
    "duration": 5087,
    "start_time": "2022-06-05T15:06:23.074Z"
   },
   {
    "duration": 646,
    "start_time": "2022-06-05T15:06:28.163Z"
   },
   {
    "duration": 1356,
    "start_time": "2022-06-05T15:06:28.811Z"
   },
   {
    "duration": 1316,
    "start_time": "2022-06-05T15:06:30.169Z"
   },
   {
    "duration": 4,
    "start_time": "2022-06-05T15:06:31.487Z"
   },
   {
    "duration": 31,
    "start_time": "2022-06-05T15:06:31.493Z"
   },
   {
    "duration": 37,
    "start_time": "2022-06-05T15:06:31.525Z"
   },
   {
    "duration": 44,
    "start_time": "2022-06-05T15:06:31.563Z"
   },
   {
    "duration": 40,
    "start_time": "2022-06-05T15:06:31.609Z"
   },
   {
    "duration": 77,
    "start_time": "2022-06-05T15:06:31.651Z"
   },
   {
    "duration": 5,
    "start_time": "2022-06-05T15:06:31.730Z"
   },
   {
    "duration": 23,
    "start_time": "2022-06-05T15:06:31.737Z"
   },
   {
    "duration": 19,
    "start_time": "2022-06-05T15:06:31.762Z"
   },
   {
    "duration": 245647,
    "start_time": "2022-06-05T15:06:31.783Z"
   },
   {
    "duration": 1163,
    "start_time": "2022-06-05T15:10:37.432Z"
   },
   {
    "duration": 3,
    "start_time": "2022-06-05T15:10:38.597Z"
   },
   {
    "duration": 515658,
    "start_time": "2022-06-05T15:10:38.602Z"
   },
   {
    "duration": 16724,
    "start_time": "2022-06-05T15:19:14.261Z"
   },
   {
    "duration": 3,
    "start_time": "2022-06-05T15:19:30.987Z"
   },
   {
    "duration": 3446,
    "start_time": "2022-06-05T15:19:30.995Z"
   },
   {
    "duration": 3,
    "start_time": "2022-06-05T15:19:34.444Z"
   },
   {
    "duration": 581,
    "start_time": "2022-06-05T15:19:34.450Z"
   },
   {
    "duration": 105,
    "start_time": "2022-06-05T15:19:35.033Z"
   },
   {
    "duration": 12,
    "start_time": "2022-06-05T15:19:35.225Z"
   },
   {
    "duration": 132,
    "start_time": "2022-06-05T15:19:35.239Z"
   },
   {
    "duration": 0,
    "start_time": "2022-06-05T15:19:35.373Z"
   },
   {
    "duration": 0,
    "start_time": "2022-06-05T15:19:35.374Z"
   },
   {
    "duration": 0,
    "start_time": "2022-06-05T15:19:35.375Z"
   },
   {
    "duration": 0,
    "start_time": "2022-06-05T15:19:35.376Z"
   },
   {
    "duration": 33581,
    "start_time": "2022-06-05T15:20:51.166Z"
   },
   {
    "duration": 4,
    "start_time": "2022-06-05T15:25:10.038Z"
   },
   {
    "duration": 5,
    "start_time": "2022-06-05T15:25:16.508Z"
   },
   {
    "duration": 11,
    "start_time": "2022-06-05T15:25:17.420Z"
   },
   {
    "duration": 8,
    "start_time": "2022-06-05T15:25:18.181Z"
   },
   {
    "duration": 4,
    "start_time": "2022-06-05T15:25:23.986Z"
   },
   {
    "duration": 3,
    "start_time": "2022-06-05T15:26:15.306Z"
   },
   {
    "duration": 1815,
    "start_time": "2022-06-05T15:26:45.113Z"
   },
   {
    "duration": 1291,
    "start_time": "2022-06-05T15:27:05.961Z"
   },
   {
    "duration": 760,
    "start_time": "2022-06-05T15:27:07.254Z"
   },
   {
    "duration": 23,
    "start_time": "2022-06-05T15:27:08.016Z"
   },
   {
    "duration": 15,
    "start_time": "2022-06-05T15:27:08.042Z"
   },
   {
    "duration": 12,
    "start_time": "2022-06-05T15:27:08.059Z"
   },
   {
    "duration": 4,
    "start_time": "2022-06-05T15:27:08.073Z"
   },
   {
    "duration": 48,
    "start_time": "2022-06-05T15:27:08.078Z"
   },
   {
    "duration": 14,
    "start_time": "2022-06-05T15:27:08.128Z"
   },
   {
    "duration": 14,
    "start_time": "2022-06-05T15:27:08.144Z"
   },
   {
    "duration": 15,
    "start_time": "2022-06-05T15:27:08.160Z"
   },
   {
    "duration": 4,
    "start_time": "2022-06-05T15:27:08.176Z"
   },
   {
    "duration": 11,
    "start_time": "2022-06-05T15:27:08.182Z"
   },
   {
    "duration": 277,
    "start_time": "2022-06-05T15:27:08.194Z"
   },
   {
    "duration": 5,
    "start_time": "2022-06-05T15:27:08.473Z"
   },
   {
    "duration": 14,
    "start_time": "2022-06-05T15:27:08.479Z"
   },
   {
    "duration": 11,
    "start_time": "2022-06-05T15:27:08.494Z"
   },
   {
    "duration": 22,
    "start_time": "2022-06-05T15:27:08.507Z"
   },
   {
    "duration": 13,
    "start_time": "2022-06-05T15:27:08.531Z"
   },
   {
    "duration": 7,
    "start_time": "2022-06-05T15:27:08.546Z"
   },
   {
    "duration": 8,
    "start_time": "2022-06-05T15:27:08.555Z"
   },
   {
    "duration": 10,
    "start_time": "2022-06-05T15:27:08.565Z"
   },
   {
    "duration": 4580,
    "start_time": "2022-06-05T15:27:08.576Z"
   },
   {
    "duration": 518,
    "start_time": "2022-06-05T15:27:13.157Z"
   },
   {
    "duration": 1303,
    "start_time": "2022-06-05T15:27:13.677Z"
   },
   {
    "duration": 1251,
    "start_time": "2022-06-05T15:27:14.982Z"
   },
   {
    "duration": 4,
    "start_time": "2022-06-05T15:27:16.235Z"
   },
   {
    "duration": 6,
    "start_time": "2022-06-05T15:27:16.241Z"
   },
   {
    "duration": 4,
    "start_time": "2022-06-05T15:27:16.251Z"
   },
   {
    "duration": 23,
    "start_time": "2022-06-05T15:27:16.257Z"
   },
   {
    "duration": 6,
    "start_time": "2022-06-05T15:27:16.282Z"
   },
   {
    "duration": 37,
    "start_time": "2022-06-05T15:27:16.289Z"
   },
   {
    "duration": 6,
    "start_time": "2022-06-05T15:27:16.328Z"
   },
   {
    "duration": 25,
    "start_time": "2022-06-05T15:27:16.335Z"
   },
   {
    "duration": 4,
    "start_time": "2022-06-05T15:27:16.361Z"
   },
   {
    "duration": 119276,
    "start_time": "2022-06-05T15:27:16.366Z"
   },
   {
    "duration": 614,
    "start_time": "2022-06-05T15:29:15.644Z"
   },
   {
    "duration": 1386,
    "start_time": "2022-06-05T15:34:07.900Z"
   },
   {
    "duration": 773,
    "start_time": "2022-06-05T15:34:09.288Z"
   },
   {
    "duration": 21,
    "start_time": "2022-06-05T15:34:10.062Z"
   },
   {
    "duration": 18,
    "start_time": "2022-06-05T15:34:10.085Z"
   },
   {
    "duration": 27,
    "start_time": "2022-06-05T15:34:10.105Z"
   },
   {
    "duration": 5,
    "start_time": "2022-06-05T15:34:10.136Z"
   },
   {
    "duration": 29,
    "start_time": "2022-06-05T15:34:10.142Z"
   },
   {
    "duration": 14,
    "start_time": "2022-06-05T15:34:10.172Z"
   },
   {
    "duration": 22,
    "start_time": "2022-06-05T15:34:10.187Z"
   },
   {
    "duration": 26,
    "start_time": "2022-06-05T15:34:10.212Z"
   },
   {
    "duration": 10,
    "start_time": "2022-06-05T15:34:10.241Z"
   },
   {
    "duration": 9,
    "start_time": "2022-06-05T15:34:10.252Z"
   },
   {
    "duration": 283,
    "start_time": "2022-06-05T15:34:10.263Z"
   },
   {
    "duration": 5,
    "start_time": "2022-06-05T15:34:10.547Z"
   },
   {
    "duration": 12,
    "start_time": "2022-06-05T15:34:10.554Z"
   },
   {
    "duration": 10,
    "start_time": "2022-06-05T15:34:10.567Z"
   },
   {
    "duration": 6,
    "start_time": "2022-06-05T15:34:10.579Z"
   },
   {
    "duration": 17,
    "start_time": "2022-06-05T15:34:10.587Z"
   },
   {
    "duration": 5,
    "start_time": "2022-06-05T15:34:10.606Z"
   },
   {
    "duration": 7,
    "start_time": "2022-06-05T15:34:10.626Z"
   },
   {
    "duration": 17,
    "start_time": "2022-06-05T15:34:10.635Z"
   },
   {
    "duration": 5016,
    "start_time": "2022-06-05T15:34:10.653Z"
   },
   {
    "duration": 621,
    "start_time": "2022-06-05T15:34:15.671Z"
   },
   {
    "duration": 1317,
    "start_time": "2022-06-05T15:34:16.293Z"
   },
   {
    "duration": 1397,
    "start_time": "2022-06-05T15:34:17.613Z"
   },
   {
    "duration": 4,
    "start_time": "2022-06-05T15:34:19.012Z"
   },
   {
    "duration": 17,
    "start_time": "2022-06-05T15:34:19.017Z"
   },
   {
    "duration": 16,
    "start_time": "2022-06-05T15:34:19.042Z"
   },
   {
    "duration": 22,
    "start_time": "2022-06-05T15:34:19.060Z"
   },
   {
    "duration": 6,
    "start_time": "2022-06-05T15:34:19.084Z"
   },
   {
    "duration": 26,
    "start_time": "2022-06-05T15:34:19.091Z"
   },
   {
    "duration": 5,
    "start_time": "2022-06-05T15:34:19.119Z"
   },
   {
    "duration": 27,
    "start_time": "2022-06-05T15:34:19.126Z"
   },
   {
    "duration": 4,
    "start_time": "2022-06-05T15:34:19.155Z"
   },
   {
    "duration": 122724,
    "start_time": "2022-06-05T15:34:19.161Z"
   },
   {
    "duration": 575,
    "start_time": "2022-06-05T15:36:21.887Z"
   },
   {
    "duration": 545656,
    "start_time": "2022-06-05T15:36:22.464Z"
   },
   {
    "duration": 1740,
    "start_time": "2022-06-05T15:45:44.990Z"
   },
   {
    "duration": 496,
    "start_time": "2022-06-05T15:45:46.737Z"
   },
   {
    "duration": 92,
    "start_time": "2022-06-05T15:45:47.237Z"
   },
   {
    "duration": 97,
    "start_time": "2022-06-05T15:45:47.331Z"
   },
   {
    "duration": 10,
    "start_time": "2022-06-05T15:45:47.430Z"
   },
   {
    "duration": 11,
    "start_time": "2022-06-05T15:45:47.442Z"
   },
   {
    "duration": 11,
    "start_time": "2022-06-05T15:45:47.454Z"
   },
   {
    "duration": 20,
    "start_time": "2022-06-05T15:45:47.467Z"
   },
   {
    "duration": 9,
    "start_time": "2022-06-05T15:45:47.489Z"
   },
   {
    "duration": 609,
    "start_time": "2022-06-05T15:45:47.502Z"
   },
   {
    "duration": 5456,
    "start_time": "2022-06-05T15:45:48.113Z"
   },
   {
    "duration": 143,
    "start_time": "2022-06-05T15:51:22.366Z"
   },
   {
    "duration": 3011,
    "start_time": "2022-06-05T15:51:38.681Z"
   },
   {
    "duration": 8,
    "start_time": "2022-06-05T15:51:56.300Z"
   },
   {
    "duration": 11,
    "start_time": "2022-06-05T15:52:03.648Z"
   },
   {
    "duration": 5,
    "start_time": "2022-06-05T15:52:08.505Z"
   },
   {
    "duration": 4,
    "start_time": "2022-06-05T15:52:39.082Z"
   },
   {
    "duration": 1437,
    "start_time": "2022-06-05T15:53:15.979Z"
   },
   {
    "duration": 800,
    "start_time": "2022-06-05T15:53:17.418Z"
   },
   {
    "duration": 32,
    "start_time": "2022-06-05T15:53:18.220Z"
   },
   {
    "duration": 17,
    "start_time": "2022-06-05T15:53:18.255Z"
   },
   {
    "duration": 14,
    "start_time": "2022-06-05T15:53:18.274Z"
   },
   {
    "duration": 5,
    "start_time": "2022-06-05T15:53:18.289Z"
   },
   {
    "duration": 52,
    "start_time": "2022-06-05T15:53:18.295Z"
   },
   {
    "duration": 18,
    "start_time": "2022-06-05T15:53:18.349Z"
   },
   {
    "duration": 21,
    "start_time": "2022-06-05T15:53:18.369Z"
   },
   {
    "duration": 28,
    "start_time": "2022-06-05T15:53:18.425Z"
   },
   {
    "duration": 5,
    "start_time": "2022-06-05T15:53:18.455Z"
   },
   {
    "duration": 20,
    "start_time": "2022-06-05T15:53:18.462Z"
   },
   {
    "duration": 352,
    "start_time": "2022-06-05T15:53:18.485Z"
   },
   {
    "duration": 8,
    "start_time": "2022-06-05T15:53:18.839Z"
   },
   {
    "duration": 17,
    "start_time": "2022-06-05T15:53:18.849Z"
   },
   {
    "duration": 20,
    "start_time": "2022-06-05T15:53:18.868Z"
   },
   {
    "duration": 12,
    "start_time": "2022-06-05T15:53:18.890Z"
   },
   {
    "duration": 30,
    "start_time": "2022-06-05T15:53:18.904Z"
   },
   {
    "duration": 22,
    "start_time": "2022-06-05T15:53:18.938Z"
   },
   {
    "duration": 16,
    "start_time": "2022-06-05T15:53:18.962Z"
   },
   {
    "duration": 15,
    "start_time": "2022-06-05T15:53:18.980Z"
   },
   {
    "duration": 4993,
    "start_time": "2022-06-05T15:53:18.998Z"
   },
   {
    "duration": 685,
    "start_time": "2022-06-05T15:53:23.993Z"
   },
   {
    "duration": 1437,
    "start_time": "2022-06-05T15:53:24.680Z"
   },
   {
    "duration": 1377,
    "start_time": "2022-06-05T15:53:26.118Z"
   },
   {
    "duration": 4,
    "start_time": "2022-06-05T15:53:27.497Z"
   },
   {
    "duration": 26,
    "start_time": "2022-06-05T15:53:27.502Z"
   },
   {
    "duration": 24,
    "start_time": "2022-06-05T15:53:27.533Z"
   },
   {
    "duration": 35,
    "start_time": "2022-06-05T15:53:27.559Z"
   },
   {
    "duration": 6,
    "start_time": "2022-06-05T15:53:27.597Z"
   },
   {
    "duration": 27,
    "start_time": "2022-06-05T15:53:27.605Z"
   },
   {
    "duration": 7,
    "start_time": "2022-06-05T15:53:27.634Z"
   },
   {
    "duration": 31,
    "start_time": "2022-06-05T15:53:27.643Z"
   },
   {
    "duration": 9,
    "start_time": "2022-06-05T15:53:27.675Z"
   },
   {
    "duration": 256884,
    "start_time": "2022-06-05T15:53:27.685Z"
   },
   {
    "duration": 1155,
    "start_time": "2022-06-05T15:57:44.574Z"
   },
   {
    "duration": 1346,
    "start_time": "2022-06-05T16:03:22.274Z"
   },
   {
    "duration": 678,
    "start_time": "2022-06-05T16:03:23.622Z"
   },
   {
    "duration": 25,
    "start_time": "2022-06-05T16:03:24.302Z"
   },
   {
    "duration": 15,
    "start_time": "2022-06-05T16:03:24.329Z"
   },
   {
    "duration": 13,
    "start_time": "2022-06-05T16:03:24.346Z"
   },
   {
    "duration": 11,
    "start_time": "2022-06-05T16:03:24.361Z"
   },
   {
    "duration": 43,
    "start_time": "2022-06-05T16:03:24.373Z"
   },
   {
    "duration": 39,
    "start_time": "2022-06-05T16:03:24.418Z"
   },
   {
    "duration": 36,
    "start_time": "2022-06-05T16:03:24.460Z"
   },
   {
    "duration": 50,
    "start_time": "2022-06-05T16:03:24.498Z"
   },
   {
    "duration": 18,
    "start_time": "2022-06-05T16:03:24.550Z"
   },
   {
    "duration": 13,
    "start_time": "2022-06-05T16:03:24.570Z"
   },
   {
    "duration": 359,
    "start_time": "2022-06-05T16:03:24.585Z"
   },
   {
    "duration": 5,
    "start_time": "2022-06-05T16:03:24.949Z"
   },
   {
    "duration": 19,
    "start_time": "2022-06-05T16:03:24.956Z"
   },
   {
    "duration": 16,
    "start_time": "2022-06-05T16:03:24.977Z"
   },
   {
    "duration": 10,
    "start_time": "2022-06-05T16:03:24.995Z"
   },
   {
    "duration": 29,
    "start_time": "2022-06-05T16:03:25.007Z"
   },
   {
    "duration": 10,
    "start_time": "2022-06-05T16:03:25.038Z"
   },
   {
    "duration": 12,
    "start_time": "2022-06-05T16:03:25.050Z"
   },
   {
    "duration": 9,
    "start_time": "2022-06-05T16:03:25.064Z"
   },
   {
    "duration": 5865,
    "start_time": "2022-06-05T16:03:25.075Z"
   },
   {
    "duration": 799,
    "start_time": "2022-06-05T16:03:30.942Z"
   },
   {
    "duration": 1466,
    "start_time": "2022-06-05T16:03:31.744Z"
   },
   {
    "duration": 1526,
    "start_time": "2022-06-05T16:03:33.212Z"
   },
   {
    "duration": 4,
    "start_time": "2022-06-05T16:03:34.741Z"
   },
   {
    "duration": 13,
    "start_time": "2022-06-05T16:03:34.747Z"
   },
   {
    "duration": 11,
    "start_time": "2022-06-05T16:03:34.761Z"
   },
   {
    "duration": 33,
    "start_time": "2022-06-05T16:03:34.774Z"
   },
   {
    "duration": 6,
    "start_time": "2022-06-05T16:03:34.810Z"
   },
   {
    "duration": 26,
    "start_time": "2022-06-05T16:03:34.817Z"
   },
   {
    "duration": 5,
    "start_time": "2022-06-05T16:03:34.845Z"
   },
   {
    "duration": 16,
    "start_time": "2022-06-05T16:03:34.852Z"
   },
   {
    "duration": 5,
    "start_time": "2022-06-05T16:03:34.870Z"
   },
   {
    "duration": 255098,
    "start_time": "2022-06-05T16:03:34.877Z"
   },
   {
    "duration": 1167,
    "start_time": "2022-06-05T16:07:49.978Z"
   },
   {
    "duration": 175525,
    "start_time": "2022-06-05T16:07:51.147Z"
   },
   {
    "duration": 5275,
    "start_time": "2022-06-05T16:10:46.673Z"
   },
   {
    "duration": 3092,
    "start_time": "2022-06-05T16:10:51.950Z"
   },
   {
    "duration": 2907,
    "start_time": "2022-06-05T16:10:55.044Z"
   },
   {
    "duration": 7,
    "start_time": "2022-06-05T16:10:57.955Z"
   },
   {
    "duration": 14,
    "start_time": "2022-06-05T16:10:57.964Z"
   },
   {
    "duration": 22,
    "start_time": "2022-06-05T16:10:57.980Z"
   },
   {
    "duration": 12,
    "start_time": "2022-06-05T16:10:58.003Z"
   },
   {
    "duration": 38,
    "start_time": "2022-06-05T16:10:58.016Z"
   },
   {
    "duration": 20,
    "start_time": "2022-06-05T16:10:58.056Z"
   },
   {
    "duration": 14,
    "start_time": "2022-06-05T16:10:58.079Z"
   },
   {
    "duration": 2851,
    "start_time": "2022-06-05T16:11:44.318Z"
   },
   {
    "duration": 9,
    "start_time": "2022-06-05T16:11:48.758Z"
   },
   {
    "duration": 5,
    "start_time": "2022-06-05T16:11:51.985Z"
   },
   {
    "duration": 4916,
    "start_time": "2022-06-05T16:12:56.057Z"
   },
   {
    "duration": 8,
    "start_time": "2022-06-05T16:13:00.976Z"
   },
   {
    "duration": 13,
    "start_time": "2022-06-05T16:13:03.574Z"
   },
   {
    "duration": 6,
    "start_time": "2022-06-05T16:13:07.526Z"
   },
   {
    "duration": 5,
    "start_time": "2022-06-05T16:13:57.052Z"
   },
   {
    "duration": 37008,
    "start_time": "2022-06-05T16:14:24.343Z"
   },
   {
    "duration": 638,
    "start_time": "2022-06-05T16:15:24.674Z"
   },
   {
    "duration": 251168,
    "start_time": "2022-06-05T16:15:54.281Z"
   },
   {
    "duration": 2062,
    "start_time": "2022-06-05T16:20:40.022Z"
   },
   {
    "duration": 1021,
    "start_time": "2022-06-05T16:21:56.215Z"
   },
   {
    "duration": 9,
    "start_time": "2022-06-05T16:22:04.921Z"
   },
   {
    "duration": 9,
    "start_time": "2022-06-05T16:22:05.713Z"
   },
   {
    "duration": 5,
    "start_time": "2022-06-05T16:22:07.886Z"
   },
   {
    "duration": 4,
    "start_time": "2022-06-05T16:25:32.303Z"
   },
   {
    "duration": 1386,
    "start_time": "2022-06-05T16:26:43.490Z"
   },
   {
    "duration": 729,
    "start_time": "2022-06-05T16:26:44.878Z"
   },
   {
    "duration": 33,
    "start_time": "2022-06-05T16:26:45.609Z"
   },
   {
    "duration": 23,
    "start_time": "2022-06-05T16:26:45.644Z"
   },
   {
    "duration": 40,
    "start_time": "2022-06-05T16:26:45.670Z"
   },
   {
    "duration": 4,
    "start_time": "2022-06-05T16:26:45.712Z"
   },
   {
    "duration": 21,
    "start_time": "2022-06-05T16:26:45.718Z"
   },
   {
    "duration": 14,
    "start_time": "2022-06-05T16:26:45.741Z"
   },
   {
    "duration": 16,
    "start_time": "2022-06-05T16:26:45.757Z"
   },
   {
    "duration": 17,
    "start_time": "2022-06-05T16:26:45.774Z"
   },
   {
    "duration": 4,
    "start_time": "2022-06-05T16:26:45.793Z"
   },
   {
    "duration": 30,
    "start_time": "2022-06-05T16:26:45.798Z"
   },
   {
    "duration": 313,
    "start_time": "2022-06-05T16:26:45.829Z"
   },
   {
    "duration": 5,
    "start_time": "2022-06-05T16:26:46.145Z"
   },
   {
    "duration": 27,
    "start_time": "2022-06-05T16:26:46.152Z"
   },
   {
    "duration": 16,
    "start_time": "2022-06-05T16:26:46.181Z"
   },
   {
    "duration": 11,
    "start_time": "2022-06-05T16:26:46.198Z"
   },
   {
    "duration": 24,
    "start_time": "2022-06-05T16:26:46.210Z"
   },
   {
    "duration": 5,
    "start_time": "2022-06-05T16:26:46.236Z"
   },
   {
    "duration": 7,
    "start_time": "2022-06-05T16:26:46.243Z"
   },
   {
    "duration": 18,
    "start_time": "2022-06-05T16:26:46.253Z"
   },
   {
    "duration": 4878,
    "start_time": "2022-06-05T16:26:46.273Z"
   },
   {
    "duration": 525,
    "start_time": "2022-06-05T16:26:51.152Z"
   },
   {
    "duration": 1300,
    "start_time": "2022-06-05T16:26:51.678Z"
   },
   {
    "duration": 1392,
    "start_time": "2022-06-05T16:26:52.980Z"
   },
   {
    "duration": 4,
    "start_time": "2022-06-05T16:26:54.374Z"
   },
   {
    "duration": 34,
    "start_time": "2022-06-05T16:26:54.380Z"
   },
   {
    "duration": 23,
    "start_time": "2022-06-05T16:26:54.417Z"
   },
   {
    "duration": 24,
    "start_time": "2022-06-05T16:26:54.442Z"
   },
   {
    "duration": 15,
    "start_time": "2022-06-05T16:26:54.469Z"
   },
   {
    "duration": 65,
    "start_time": "2022-06-05T16:26:54.487Z"
   },
   {
    "duration": 11,
    "start_time": "2022-06-05T16:26:54.554Z"
   },
   {
    "duration": 32,
    "start_time": "2022-06-05T16:26:54.566Z"
   },
   {
    "duration": 17,
    "start_time": "2022-06-05T16:26:54.600Z"
   },
   {
    "duration": 34794,
    "start_time": "2022-06-05T16:26:54.618Z"
   },
   {
    "duration": 596,
    "start_time": "2022-06-05T16:27:29.414Z"
   },
   {
    "duration": 1386,
    "start_time": "2022-06-05T16:28:38.746Z"
   },
   {
    "duration": 738,
    "start_time": "2022-06-05T16:28:40.134Z"
   },
   {
    "duration": 21,
    "start_time": "2022-06-05T16:28:40.874Z"
   },
   {
    "duration": 36,
    "start_time": "2022-06-05T16:28:40.898Z"
   },
   {
    "duration": 17,
    "start_time": "2022-06-05T16:28:40.936Z"
   },
   {
    "duration": 5,
    "start_time": "2022-06-05T16:28:40.955Z"
   },
   {
    "duration": 33,
    "start_time": "2022-06-05T16:28:40.962Z"
   },
   {
    "duration": 31,
    "start_time": "2022-06-05T16:28:40.997Z"
   },
   {
    "duration": 29,
    "start_time": "2022-06-05T16:28:41.031Z"
   },
   {
    "duration": 15,
    "start_time": "2022-06-05T16:28:41.063Z"
   },
   {
    "duration": 11,
    "start_time": "2022-06-05T16:28:41.080Z"
   },
   {
    "duration": 10,
    "start_time": "2022-06-05T16:28:41.093Z"
   },
   {
    "duration": 299,
    "start_time": "2022-06-05T16:28:41.105Z"
   },
   {
    "duration": 6,
    "start_time": "2022-06-05T16:28:41.406Z"
   },
   {
    "duration": 26,
    "start_time": "2022-06-05T16:28:41.414Z"
   },
   {
    "duration": 14,
    "start_time": "2022-06-05T16:28:41.442Z"
   },
   {
    "duration": 12,
    "start_time": "2022-06-05T16:28:41.458Z"
   },
   {
    "duration": 24,
    "start_time": "2022-06-05T16:28:41.471Z"
   },
   {
    "duration": 12,
    "start_time": "2022-06-05T16:28:41.497Z"
   },
   {
    "duration": 13,
    "start_time": "2022-06-05T16:28:41.510Z"
   },
   {
    "duration": 8,
    "start_time": "2022-06-05T16:28:41.525Z"
   },
   {
    "duration": 4824,
    "start_time": "2022-06-05T16:28:41.535Z"
   },
   {
    "duration": 660,
    "start_time": "2022-06-05T16:28:46.361Z"
   },
   {
    "duration": 1340,
    "start_time": "2022-06-05T16:28:47.023Z"
   },
   {
    "duration": 1373,
    "start_time": "2022-06-05T16:28:48.365Z"
   },
   {
    "duration": 4,
    "start_time": "2022-06-05T16:28:49.742Z"
   },
   {
    "duration": 10,
    "start_time": "2022-06-05T16:28:49.748Z"
   },
   {
    "duration": 12,
    "start_time": "2022-06-05T16:28:49.762Z"
   },
   {
    "duration": 33,
    "start_time": "2022-06-05T16:28:49.776Z"
   },
   {
    "duration": 6,
    "start_time": "2022-06-05T16:28:49.811Z"
   },
   {
    "duration": 50,
    "start_time": "2022-06-05T16:28:49.819Z"
   },
   {
    "duration": 5,
    "start_time": "2022-06-05T16:28:49.871Z"
   },
   {
    "duration": 32,
    "start_time": "2022-06-05T16:28:49.878Z"
   },
   {
    "duration": 4,
    "start_time": "2022-06-05T16:28:49.912Z"
   },
   {
    "duration": 36073,
    "start_time": "2022-06-05T16:28:49.917Z"
   },
   {
    "duration": 611,
    "start_time": "2022-06-05T16:29:25.992Z"
   },
   {
    "duration": 249808,
    "start_time": "2022-06-05T16:29:26.604Z"
   },
   {
    "duration": 2074,
    "start_time": "2022-06-05T16:33:36.413Z"
   },
   {
    "duration": 2348,
    "start_time": "2022-06-05T16:33:38.489Z"
   },
   {
    "duration": 1199,
    "start_time": "2022-06-05T16:33:40.838Z"
   },
   {
    "duration": 9,
    "start_time": "2022-06-05T16:33:42.039Z"
   },
   {
    "duration": 15,
    "start_time": "2022-06-05T16:33:42.050Z"
   },
   {
    "duration": 6,
    "start_time": "2022-06-05T16:33:42.067Z"
   },
   {
    "duration": 14,
    "start_time": "2022-06-05T16:33:42.074Z"
   },
   {
    "duration": 14,
    "start_time": "2022-06-05T16:33:42.090Z"
   },
   {
    "duration": 13,
    "start_time": "2022-06-05T16:33:42.105Z"
   },
   {
    "duration": 29,
    "start_time": "2022-06-05T16:33:42.120Z"
   },
   {
    "duration": 2488,
    "start_time": "2022-06-05T16:37:05.488Z"
   },
   {
    "duration": 1262,
    "start_time": "2022-06-05T16:37:35.661Z"
   },
   {
    "duration": 13,
    "start_time": "2022-06-05T16:37:39.620Z"
   },
   {
    "duration": 7,
    "start_time": "2022-06-05T16:37:41.097Z"
   },
   {
    "duration": 4,
    "start_time": "2022-06-05T16:37:43.695Z"
   },
   {
    "duration": 8,
    "start_time": "2022-06-05T16:38:35.461Z"
   },
   {
    "duration": 8,
    "start_time": "2022-06-05T16:38:37.007Z"
   },
   {
    "duration": 5,
    "start_time": "2022-06-05T16:38:52.756Z"
   },
   {
    "duration": 1086,
    "start_time": "2022-06-05T16:41:52.899Z"
   },
   {
    "duration": 8,
    "start_time": "2022-06-05T16:41:55.356Z"
   },
   {
    "duration": 8,
    "start_time": "2022-06-05T16:41:56.043Z"
   },
   {
    "duration": 4,
    "start_time": "2022-06-05T16:41:57.703Z"
   },
   {
    "duration": 1161,
    "start_time": "2022-06-05T16:42:06.544Z"
   },
   {
    "duration": 9,
    "start_time": "2022-06-05T16:42:08.250Z"
   },
   {
    "duration": 7,
    "start_time": "2022-06-05T16:42:08.852Z"
   },
   {
    "duration": 4,
    "start_time": "2022-06-05T16:42:10.887Z"
   },
   {
    "duration": 5,
    "start_time": "2022-06-05T16:43:38.475Z"
   },
   {
    "duration": 8,
    "start_time": "2022-06-05T16:43:39.149Z"
   },
   {
    "duration": 7,
    "start_time": "2022-06-05T16:43:39.683Z"
   },
   {
    "duration": 4,
    "start_time": "2022-06-05T16:43:40.240Z"
   },
   {
    "duration": 5,
    "start_time": "2022-06-05T16:43:54.361Z"
   },
   {
    "duration": 7,
    "start_time": "2022-06-05T16:43:54.988Z"
   },
   {
    "duration": 8,
    "start_time": "2022-06-05T16:43:55.448Z"
   },
   {
    "duration": 4,
    "start_time": "2022-06-05T16:43:55.909Z"
   },
   {
    "duration": 5,
    "start_time": "2022-06-05T16:46:47.954Z"
   },
   {
    "duration": 7,
    "start_time": "2022-06-05T16:46:48.892Z"
   },
   {
    "duration": 8,
    "start_time": "2022-06-05T16:46:49.610Z"
   },
   {
    "duration": 5,
    "start_time": "2022-06-05T16:46:50.281Z"
   },
   {
    "duration": 11,
    "start_time": "2022-06-05T16:51:59.584Z"
   },
   {
    "duration": 41,
    "start_time": "2022-06-05T16:53:53.788Z"
   },
   {
    "duration": 19,
    "start_time": "2022-06-05T16:54:00.916Z"
   },
   {
    "duration": 151,
    "start_time": "2022-06-05T16:59:01.414Z"
   },
   {
    "duration": 26,
    "start_time": "2022-06-05T17:00:34.107Z"
   },
   {
    "duration": 651,
    "start_time": "2022-06-05T17:05:11.581Z"
   },
   {
    "duration": 5,
    "start_time": "2022-06-05T17:12:23.544Z"
   },
   {
    "duration": 56252,
    "start_time": "2022-06-05T17:16:19.888Z"
   },
   {
    "duration": 2267,
    "start_time": "2022-06-05T17:18:09.068Z"
   },
   {
    "duration": 88,
    "start_time": "2022-06-05T17:20:32.750Z"
   },
   {
    "duration": 44445,
    "start_time": "2022-06-05T17:23:02.291Z"
   },
   {
    "duration": 12,
    "start_time": "2022-06-05T17:27:30.640Z"
   },
   {
    "duration": 12,
    "start_time": "2022-06-05T17:28:50.386Z"
   },
   {
    "duration": 27,
    "start_time": "2022-06-05T17:31:36.580Z"
   },
   {
    "duration": 51,
    "start_time": "2022-06-05T17:31:59.090Z"
   },
   {
    "duration": 2351,
    "start_time": "2022-06-05T17:35:02.881Z"
   },
   {
    "duration": 2310,
    "start_time": "2022-06-05T17:36:18.635Z"
   },
   {
    "duration": 2494,
    "start_time": "2022-06-05T17:36:32.893Z"
   },
   {
    "duration": 2186,
    "start_time": "2022-06-05T17:36:40.115Z"
   },
   {
    "duration": 2156,
    "start_time": "2022-06-05T17:36:50.330Z"
   },
   {
    "duration": 2282,
    "start_time": "2022-06-05T17:36:57.239Z"
   },
   {
    "duration": 2122,
    "start_time": "2022-06-05T17:37:03.365Z"
   },
   {
    "duration": 2438,
    "start_time": "2022-06-05T17:37:10.838Z"
   },
   {
    "duration": 2893,
    "start_time": "2022-06-05T17:37:22.105Z"
   },
   {
    "duration": 2579,
    "start_time": "2022-06-05T17:37:34.869Z"
   },
   {
    "duration": 2229,
    "start_time": "2022-06-05T17:37:47.554Z"
   },
   {
    "duration": 2186,
    "start_time": "2022-06-05T17:38:00.767Z"
   },
   {
    "duration": 2153,
    "start_time": "2022-06-05T17:38:09.370Z"
   },
   {
    "duration": 2379,
    "start_time": "2022-06-05T17:38:23.578Z"
   },
   {
    "duration": 2755,
    "start_time": "2022-06-05T17:38:30.221Z"
   },
   {
    "duration": 3397,
    "start_time": "2022-06-05T17:38:38.167Z"
   },
   {
    "duration": 4109,
    "start_time": "2022-06-05T17:38:48.043Z"
   },
   {
    "duration": 169568,
    "start_time": "2022-06-05T17:39:12.746Z"
   },
   {
    "duration": 3633,
    "start_time": "2022-06-05T17:42:22.271Z"
   },
   {
    "duration": 148913,
    "start_time": "2022-06-05T17:42:45.468Z"
   },
   {
    "duration": 4808,
    "start_time": "2022-06-05T17:45:43.641Z"
   },
   {
    "duration": 34669,
    "start_time": "2022-06-05T17:46:20.542Z"
   },
   {
    "duration": 4430,
    "start_time": "2022-06-05T17:47:12.858Z"
   },
   {
    "duration": 4976,
    "start_time": "2022-06-05T17:47:28.940Z"
   },
   {
    "duration": 5080,
    "start_time": "2022-06-05T17:47:41.281Z"
   },
   {
    "duration": 5570,
    "start_time": "2022-06-05T17:47:56.351Z"
   },
   {
    "duration": 5030,
    "start_time": "2022-06-05T17:48:16.817Z"
   },
   {
    "duration": 3251,
    "start_time": "2022-06-05T17:48:37.574Z"
   },
   {
    "duration": 647,
    "start_time": "2022-06-05T17:56:07.476Z"
   },
   {
    "duration": 7,
    "start_time": "2022-06-05T17:57:14.241Z"
   },
   {
    "duration": 8,
    "start_time": "2022-06-05T17:57:51.714Z"
   },
   {
    "duration": 4,
    "start_time": "2022-06-05T17:58:20.302Z"
   },
   {
    "duration": 5,
    "start_time": "2022-06-05T17:59:39.642Z"
   },
   {
    "duration": 4,
    "start_time": "2022-06-05T17:59:46.082Z"
   },
   {
    "duration": 5,
    "start_time": "2022-06-05T18:00:12.449Z"
   },
   {
    "duration": 4,
    "start_time": "2022-06-05T18:00:52.016Z"
   },
   {
    "duration": 2,
    "start_time": "2022-06-05T18:06:34.739Z"
   },
   {
    "duration": 9192,
    "start_time": "2022-06-05T18:08:00.879Z"
   },
   {
    "duration": 39577,
    "start_time": "2022-06-05T18:08:51.779Z"
   },
   {
    "duration": 40524,
    "start_time": "2022-06-05T18:10:39.821Z"
   },
   {
    "duration": 6129,
    "start_time": "2022-06-05T18:14:44.317Z"
   },
   {
    "duration": 7,
    "start_time": "2022-06-05T18:14:57.845Z"
   },
   {
    "duration": 8,
    "start_time": "2022-06-05T18:15:07.952Z"
   },
   {
    "duration": 11,
    "start_time": "2022-06-05T18:15:27.252Z"
   },
   {
    "duration": 9,
    "start_time": "2022-06-05T18:15:39.523Z"
   },
   {
    "duration": 4,
    "start_time": "2022-06-05T18:15:48.884Z"
   },
   {
    "duration": 4,
    "start_time": "2022-06-05T18:20:41.197Z"
   },
   {
    "duration": 56,
    "start_time": "2022-06-06T15:19:35.019Z"
   },
   {
    "duration": 88,
    "start_time": "2022-06-06T18:22:45.672Z"
   },
   {
    "duration": 1502,
    "start_time": "2022-06-06T18:23:03.281Z"
   },
   {
    "duration": 2987,
    "start_time": "2022-06-06T18:23:04.785Z"
   },
   {
    "duration": 19,
    "start_time": "2022-06-06T18:23:07.774Z"
   },
   {
    "duration": 16,
    "start_time": "2022-06-06T18:23:07.794Z"
   },
   {
    "duration": 24,
    "start_time": "2022-06-06T18:23:07.812Z"
   },
   {
    "duration": 15,
    "start_time": "2022-06-06T18:23:07.838Z"
   },
   {
    "duration": 42,
    "start_time": "2022-06-06T18:23:07.855Z"
   },
   {
    "duration": 57,
    "start_time": "2022-06-06T18:23:07.899Z"
   },
   {
    "duration": 33,
    "start_time": "2022-06-06T18:23:07.958Z"
   },
   {
    "duration": 46,
    "start_time": "2022-06-06T18:23:07.994Z"
   },
   {
    "duration": 15,
    "start_time": "2022-06-06T18:23:08.042Z"
   },
   {
    "duration": 57,
    "start_time": "2022-06-06T18:23:08.058Z"
   },
   {
    "duration": 305,
    "start_time": "2022-06-06T18:23:08.117Z"
   },
   {
    "duration": 6,
    "start_time": "2022-06-06T18:23:08.423Z"
   },
   {
    "duration": 36,
    "start_time": "2022-06-06T18:23:08.431Z"
   },
   {
    "duration": 27,
    "start_time": "2022-06-06T18:23:08.468Z"
   },
   {
    "duration": 30,
    "start_time": "2022-06-06T18:23:08.497Z"
   },
   {
    "duration": 40,
    "start_time": "2022-06-06T18:23:08.530Z"
   },
   {
    "duration": 18,
    "start_time": "2022-06-06T18:23:08.571Z"
   },
   {
    "duration": 39,
    "start_time": "2022-06-06T18:23:08.590Z"
   },
   {
    "duration": 22,
    "start_time": "2022-06-06T18:23:08.632Z"
   },
   {
    "duration": 4929,
    "start_time": "2022-06-06T18:23:08.656Z"
   },
   {
    "duration": 626,
    "start_time": "2022-06-06T18:23:13.587Z"
   },
   {
    "duration": 1398,
    "start_time": "2022-06-06T18:23:14.215Z"
   },
   {
    "duration": 1422,
    "start_time": "2022-06-06T18:23:15.615Z"
   },
   {
    "duration": 10,
    "start_time": "2022-06-06T18:23:17.042Z"
   },
   {
    "duration": 12,
    "start_time": "2022-06-06T18:23:17.054Z"
   },
   {
    "duration": 7,
    "start_time": "2022-06-06T18:23:17.070Z"
   },
   {
    "duration": 7,
    "start_time": "2022-06-06T18:23:17.079Z"
   },
   {
    "duration": 121,
    "start_time": "2022-06-06T18:23:17.088Z"
   },
   {
    "duration": 0,
    "start_time": "2022-06-06T18:23:17.211Z"
   },
   {
    "duration": 1,
    "start_time": "2022-06-06T18:23:17.213Z"
   },
   {
    "duration": 0,
    "start_time": "2022-06-06T18:23:17.215Z"
   },
   {
    "duration": 0,
    "start_time": "2022-06-06T18:23:17.216Z"
   },
   {
    "duration": 0,
    "start_time": "2022-06-06T18:23:17.227Z"
   },
   {
    "duration": 0,
    "start_time": "2022-06-06T18:23:17.229Z"
   },
   {
    "duration": 0,
    "start_time": "2022-06-06T18:23:17.234Z"
   },
   {
    "duration": 0,
    "start_time": "2022-06-06T18:23:17.235Z"
   },
   {
    "duration": 0,
    "start_time": "2022-06-06T18:23:17.237Z"
   },
   {
    "duration": 0,
    "start_time": "2022-06-06T18:23:17.240Z"
   },
   {
    "duration": 0,
    "start_time": "2022-06-06T18:23:17.242Z"
   },
   {
    "duration": 0,
    "start_time": "2022-06-06T18:23:17.245Z"
   },
   {
    "duration": 0,
    "start_time": "2022-06-06T18:23:17.246Z"
   },
   {
    "duration": 0,
    "start_time": "2022-06-06T18:23:17.255Z"
   },
   {
    "duration": 0,
    "start_time": "2022-06-06T18:23:17.257Z"
   },
   {
    "duration": 0,
    "start_time": "2022-06-06T18:23:17.258Z"
   },
   {
    "duration": 0,
    "start_time": "2022-06-06T18:23:17.259Z"
   },
   {
    "duration": 0,
    "start_time": "2022-06-06T18:23:17.261Z"
   },
   {
    "duration": 0,
    "start_time": "2022-06-06T18:23:17.262Z"
   },
   {
    "duration": 0,
    "start_time": "2022-06-06T18:23:17.263Z"
   },
   {
    "duration": 0,
    "start_time": "2022-06-06T18:23:17.265Z"
   },
   {
    "duration": 0,
    "start_time": "2022-06-06T18:23:17.266Z"
   },
   {
    "duration": 0,
    "start_time": "2022-06-06T18:23:17.268Z"
   },
   {
    "duration": 0,
    "start_time": "2022-06-06T18:23:17.329Z"
   },
   {
    "duration": 0,
    "start_time": "2022-06-06T18:23:17.331Z"
   },
   {
    "duration": 0,
    "start_time": "2022-06-06T18:23:17.334Z"
   },
   {
    "duration": 0,
    "start_time": "2022-06-06T18:23:17.337Z"
   },
   {
    "duration": 0,
    "start_time": "2022-06-06T18:23:17.339Z"
   },
   {
    "duration": 0,
    "start_time": "2022-06-06T18:23:17.342Z"
   },
   {
    "duration": 0,
    "start_time": "2022-06-06T18:23:17.344Z"
   },
   {
    "duration": 0,
    "start_time": "2022-06-06T18:23:17.346Z"
   },
   {
    "duration": 11,
    "start_time": "2022-06-06T18:24:27.055Z"
   },
   {
    "duration": 5,
    "start_time": "2022-06-06T18:24:33.188Z"
   },
   {
    "duration": 22,
    "start_time": "2022-06-06T18:24:35.994Z"
   },
   {
    "duration": 5,
    "start_time": "2022-06-06T18:24:37.894Z"
   },
   {
    "duration": 11,
    "start_time": "2022-06-06T18:24:39.593Z"
   },
   {
    "duration": 28,
    "start_time": "2022-06-08T02:24:48.411Z"
   },
   {
    "duration": 23,
    "start_time": "2022-06-08T02:26:18.183Z"
   },
   {
    "duration": 1412,
    "start_time": "2022-06-08T02:37:56.013Z"
   },
   {
    "duration": 2976,
    "start_time": "2022-06-08T02:37:57.427Z"
   },
   {
    "duration": 21,
    "start_time": "2022-06-08T02:38:00.405Z"
   },
   {
    "duration": 16,
    "start_time": "2022-06-08T02:38:00.428Z"
   },
   {
    "duration": 19,
    "start_time": "2022-06-08T02:38:00.446Z"
   },
   {
    "duration": 4,
    "start_time": "2022-06-08T02:38:00.466Z"
   },
   {
    "duration": 27,
    "start_time": "2022-06-08T02:38:00.471Z"
   },
   {
    "duration": 21,
    "start_time": "2022-06-08T02:38:00.500Z"
   },
   {
    "duration": 39,
    "start_time": "2022-06-08T02:38:00.522Z"
   },
   {
    "duration": 26,
    "start_time": "2022-06-08T02:38:00.564Z"
   },
   {
    "duration": 6,
    "start_time": "2022-06-08T02:38:00.591Z"
   },
   {
    "duration": 20,
    "start_time": "2022-06-08T02:38:00.599Z"
   },
   {
    "duration": 275,
    "start_time": "2022-06-08T02:38:00.621Z"
   },
   {
    "duration": 4,
    "start_time": "2022-06-08T02:38:00.898Z"
   },
   {
    "duration": 12,
    "start_time": "2022-06-08T02:38:00.904Z"
   },
   {
    "duration": 11,
    "start_time": "2022-06-08T02:38:00.918Z"
   },
   {
    "duration": 16,
    "start_time": "2022-06-08T02:38:00.931Z"
   },
   {
    "duration": 35,
    "start_time": "2022-06-08T02:38:00.948Z"
   },
   {
    "duration": 14,
    "start_time": "2022-06-08T02:38:00.985Z"
   },
   {
    "duration": 11,
    "start_time": "2022-06-08T02:38:01.001Z"
   },
   {
    "duration": 8,
    "start_time": "2022-06-08T02:38:01.013Z"
   },
   {
    "duration": 4642,
    "start_time": "2022-06-08T02:38:01.023Z"
   },
   {
    "duration": 542,
    "start_time": "2022-06-08T02:38:05.666Z"
   },
   {
    "duration": 1284,
    "start_time": "2022-06-08T02:38:06.210Z"
   },
   {
    "duration": 1384,
    "start_time": "2022-06-08T02:38:07.496Z"
   },
   {
    "duration": 4,
    "start_time": "2022-06-08T02:38:08.882Z"
   },
   {
    "duration": 23,
    "start_time": "2022-06-08T02:38:08.889Z"
   },
   {
    "duration": 11,
    "start_time": "2022-06-08T02:38:08.917Z"
   },
   {
    "duration": 20,
    "start_time": "2022-06-08T02:38:08.930Z"
   },
   {
    "duration": 29,
    "start_time": "2022-06-08T02:38:08.953Z"
   },
   {
    "duration": 20,
    "start_time": "2022-06-08T02:38:08.983Z"
   },
   {
    "duration": 31,
    "start_time": "2022-06-08T02:38:09.005Z"
   },
   {
    "duration": 5,
    "start_time": "2022-06-08T02:38:09.038Z"
   },
   {
    "duration": 25,
    "start_time": "2022-06-08T02:38:09.044Z"
   },
   {
    "duration": 24,
    "start_time": "2022-06-08T02:38:09.071Z"
   },
   {
    "duration": 37168,
    "start_time": "2022-06-08T02:38:09.097Z"
   },
   {
    "duration": 633,
    "start_time": "2022-06-08T02:38:46.267Z"
   },
   {
    "duration": 2,
    "start_time": "2022-06-08T02:38:46.902Z"
   },
   {
    "duration": 338929,
    "start_time": "2022-06-08T02:38:46.906Z"
   },
   {
    "duration": 430,
    "start_time": "2022-06-08T02:44:25.837Z"
   },
   {
    "duration": 1707,
    "start_time": "2022-06-08T02:44:26.268Z"
   },
   {
    "duration": 1382,
    "start_time": "2022-06-08T02:44:27.978Z"
   },
   {
    "duration": 7,
    "start_time": "2022-06-08T02:44:29.362Z"
   },
   {
    "duration": 10,
    "start_time": "2022-06-08T02:44:29.371Z"
   },
   {
    "duration": 8,
    "start_time": "2022-06-08T02:44:29.383Z"
   },
   {
    "duration": 9,
    "start_time": "2022-06-08T02:44:29.393Z"
   },
   {
    "duration": 22,
    "start_time": "2022-06-08T02:44:29.403Z"
   },
   {
    "duration": 12,
    "start_time": "2022-06-08T02:44:29.426Z"
   },
   {
    "duration": 6,
    "start_time": "2022-06-08T02:44:29.439Z"
   },
   {
    "duration": 35020,
    "start_time": "2022-06-08T02:44:29.447Z"
   },
   {
    "duration": 3300,
    "start_time": "2022-06-08T02:45:04.473Z"
   },
   {
    "duration": 4988,
    "start_time": "2022-06-08T02:45:07.775Z"
   },
   {
    "duration": 420,
    "start_time": "2022-06-08T02:45:12.765Z"
   },
   {
    "duration": 6,
    "start_time": "2022-06-08T02:45:13.187Z"
   },
   {
    "duration": 15,
    "start_time": "2022-06-08T02:45:13.195Z"
   },
   {
    "duration": 26,
    "start_time": "2022-06-08T02:45:13.211Z"
   },
   {
    "duration": 36126,
    "start_time": "2022-06-08T02:45:13.239Z"
   },
   {
    "duration": 19897,
    "start_time": "2022-06-08T02:45:49.368Z"
   },
   {
    "duration": 701,
    "start_time": "2022-06-08T02:46:09.267Z"
   },
   {
    "duration": 103,
    "start_time": "2022-06-08T02:46:09.972Z"
   },
   {
    "duration": 93,
    "start_time": "2022-06-08T02:46:10.077Z"
   },
   {
    "duration": 6,
    "start_time": "2022-06-08T02:46:10.172Z"
   },
   {
    "duration": 1292,
    "start_time": "2022-06-08T02:49:47.494Z"
   },
   {
    "duration": 770,
    "start_time": "2022-06-08T02:49:48.788Z"
   },
   {
    "duration": 25,
    "start_time": "2022-06-08T02:49:49.560Z"
   },
   {
    "duration": 15,
    "start_time": "2022-06-08T02:49:49.587Z"
   },
   {
    "duration": 12,
    "start_time": "2022-06-08T02:49:49.603Z"
   },
   {
    "duration": 3,
    "start_time": "2022-06-08T02:49:49.616Z"
   },
   {
    "duration": 44,
    "start_time": "2022-06-08T02:49:49.621Z"
   },
   {
    "duration": 18,
    "start_time": "2022-06-08T02:49:49.670Z"
   },
   {
    "duration": 11,
    "start_time": "2022-06-08T02:49:49.690Z"
   },
   {
    "duration": 13,
    "start_time": "2022-06-08T02:49:49.704Z"
   },
   {
    "duration": 3,
    "start_time": "2022-06-08T02:49:49.718Z"
   },
   {
    "duration": 9,
    "start_time": "2022-06-08T02:49:49.723Z"
   },
   {
    "duration": 292,
    "start_time": "2022-06-08T02:49:49.733Z"
   },
   {
    "duration": 5,
    "start_time": "2022-06-08T02:49:50.026Z"
   },
   {
    "duration": 11,
    "start_time": "2022-06-08T02:49:50.033Z"
   },
   {
    "duration": 25,
    "start_time": "2022-06-08T02:49:50.045Z"
   },
   {
    "duration": 13,
    "start_time": "2022-06-08T02:49:50.073Z"
   },
   {
    "duration": 14,
    "start_time": "2022-06-08T02:49:50.087Z"
   },
   {
    "duration": 5,
    "start_time": "2022-06-08T02:49:50.103Z"
   },
   {
    "duration": 5,
    "start_time": "2022-06-08T02:49:50.110Z"
   },
   {
    "duration": 5,
    "start_time": "2022-06-08T02:49:50.117Z"
   },
   {
    "duration": 4970,
    "start_time": "2022-06-08T02:49:50.123Z"
   },
   {
    "duration": 536,
    "start_time": "2022-06-08T02:49:55.095Z"
   },
   {
    "duration": 1273,
    "start_time": "2022-06-08T02:49:55.633Z"
   },
   {
    "duration": 1342,
    "start_time": "2022-06-08T02:49:56.908Z"
   },
   {
    "duration": 3,
    "start_time": "2022-06-08T02:49:58.252Z"
   },
   {
    "duration": 8,
    "start_time": "2022-06-08T02:49:58.256Z"
   },
   {
    "duration": 12,
    "start_time": "2022-06-08T02:49:58.268Z"
   },
   {
    "duration": 5,
    "start_time": "2022-06-08T02:49:58.282Z"
   },
   {
    "duration": 21,
    "start_time": "2022-06-08T02:49:58.288Z"
   },
   {
    "duration": 4,
    "start_time": "2022-06-08T02:49:58.311Z"
   },
   {
    "duration": 20,
    "start_time": "2022-06-08T02:49:58.317Z"
   },
   {
    "duration": 5,
    "start_time": "2022-06-08T02:49:58.338Z"
   },
   {
    "duration": 8,
    "start_time": "2022-06-08T02:49:58.344Z"
   },
   {
    "duration": 12,
    "start_time": "2022-06-08T02:49:58.353Z"
   },
   {
    "duration": 37135,
    "start_time": "2022-06-08T02:49:58.366Z"
   },
   {
    "duration": 900,
    "start_time": "2022-06-08T02:50:35.503Z"
   },
   {
    "duration": 3,
    "start_time": "2022-06-08T02:50:36.404Z"
   },
   {
    "duration": 337913,
    "start_time": "2022-06-08T02:50:36.408Z"
   },
   {
    "duration": 1044,
    "start_time": "2022-06-08T02:56:14.323Z"
   },
   {
    "duration": 1797,
    "start_time": "2022-06-08T02:56:15.368Z"
   },
   {
    "duration": 1286,
    "start_time": "2022-06-08T02:56:17.167Z"
   },
   {
    "duration": 6,
    "start_time": "2022-06-08T02:56:18.455Z"
   },
   {
    "duration": 8,
    "start_time": "2022-06-08T02:56:18.465Z"
   },
   {
    "duration": 8,
    "start_time": "2022-06-08T02:56:18.475Z"
   },
   {
    "duration": 8,
    "start_time": "2022-06-08T02:56:18.485Z"
   },
   {
    "duration": 8,
    "start_time": "2022-06-08T02:56:18.495Z"
   },
   {
    "duration": 17,
    "start_time": "2022-06-08T02:56:18.504Z"
   },
   {
    "duration": 13,
    "start_time": "2022-06-08T02:56:18.522Z"
   },
   {
    "duration": 31128,
    "start_time": "2022-06-08T02:56:18.537Z"
   },
   {
    "duration": 5902,
    "start_time": "2022-06-08T02:56:49.667Z"
   },
   {
    "duration": 4514,
    "start_time": "2022-06-08T02:56:55.664Z"
   },
   {
    "duration": 455,
    "start_time": "2022-06-08T02:57:00.180Z"
   },
   {
    "duration": 6,
    "start_time": "2022-06-08T02:57:00.637Z"
   },
   {
    "duration": 28,
    "start_time": "2022-06-08T02:57:00.645Z"
   },
   {
    "duration": 26,
    "start_time": "2022-06-08T02:57:00.674Z"
   },
   {
    "duration": 33970,
    "start_time": "2022-06-08T02:57:00.702Z"
   },
   {
    "duration": 3702,
    "start_time": "2022-06-08T02:57:34.764Z"
   },
   {
    "duration": 502,
    "start_time": "2022-06-08T02:57:38.468Z"
   },
   {
    "duration": 94,
    "start_time": "2022-06-08T02:57:38.972Z"
   },
   {
    "duration": 105,
    "start_time": "2022-06-08T02:57:39.069Z"
   },
   {
    "duration": 5,
    "start_time": "2022-06-08T02:57:39.176Z"
   },
   {
    "duration": 423,
    "start_time": "2022-06-08T02:59:16.790Z"
   },
   {
    "duration": 7,
    "start_time": "2022-06-08T02:59:23.350Z"
   },
   {
    "duration": 7,
    "start_time": "2022-06-08T02:59:24.434Z"
   },
   {
    "duration": 3,
    "start_time": "2022-06-08T02:59:26.548Z"
   },
   {
    "duration": 4295,
    "start_time": "2022-06-08T03:03:42.242Z"
   },
   {
    "duration": 494,
    "start_time": "2022-06-08T03:04:02.793Z"
   },
   {
    "duration": 7,
    "start_time": "2022-06-08T03:04:16.139Z"
   },
   {
    "duration": 8,
    "start_time": "2022-06-08T03:04:16.764Z"
   },
   {
    "duration": 4,
    "start_time": "2022-06-08T03:04:17.359Z"
   },
   {
    "duration": 72,
    "start_time": "2022-06-08T07:43:11.177Z"
   }
  ],
  "kernelspec": {
   "display_name": "Python 3 (ipykernel)",
   "language": "python",
   "name": "python3"
  },
  "language_info": {
   "codemirror_mode": {
    "name": "ipython",
    "version": 3
   },
   "file_extension": ".py",
   "mimetype": "text/x-python",
   "name": "python",
   "nbconvert_exporter": "python",
   "pygments_lexer": "ipython3",
   "version": "3.9.5"
  },
  "toc": {
   "base_numbering": 1,
   "nav_menu": {},
   "number_sections": true,
   "sideBar": true,
   "skip_h1_title": true,
   "title_cell": "Содержание",
   "title_sidebar": "Contents",
   "toc_cell": true,
   "toc_position": {},
   "toc_section_display": true,
   "toc_window_display": false
  }
 },
 "nbformat": 4,
 "nbformat_minor": 2
}
