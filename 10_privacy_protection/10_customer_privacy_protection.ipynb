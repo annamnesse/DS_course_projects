{
  "cells": [
    {
      "cell_type": "markdown",
      "metadata": {
        "toc": true,
        "id": "fnZTcyG2LZ3i"
      },
      "source": [
        "<h1>Содержание<span class=\"tocSkip\"></span></h1>\n",
        "<div class=\"toc\"><ul class=\"toc-item\"><li><span><a href=\"#Загрузка-данных\" data-toc-modified-id=\"Загрузка-данных-1\"><span class=\"toc-item-num\">1&nbsp;&nbsp;</span>Загрузка данных</a></span></li><li><span><a href=\"#Умножение-матриц\" data-toc-modified-id=\"Умножение-матриц-2\"><span class=\"toc-item-num\">2&nbsp;&nbsp;</span>Умножение матриц</a></span></li><li><span><a href=\"#Алгоритм-преобразования\" data-toc-modified-id=\"Алгоритм-преобразования-3\"><span class=\"toc-item-num\">3&nbsp;&nbsp;</span>Алгоритм преобразования</a></span></li><li><span><a href=\"#Проверка-алгоритма\" data-toc-modified-id=\"Проверка-алгоритма-4\"><span class=\"toc-item-num\">4&nbsp;&nbsp;</span>Проверка алгоритма</a></span></li><li><span><a href=\"#Итоговый-вывод\" data-toc-modified-id=\"Итоговый-вывод-5\"><span class=\"toc-item-num\">5&nbsp;&nbsp;</span>Итоговый вывод</a></span></li><li><span><a href=\"#Чек-лист-проверки\" data-toc-modified-id=\"Чек-лист-проверки-6\"><span class=\"toc-item-num\">6&nbsp;&nbsp;</span>Чек-лист проверки</a></span></li></ul></div>"
      ]
    },
    {
      "cell_type": "markdown",
      "metadata": {
        "id": "v5-c8pYeLZ3l"
      },
      "source": [
        "# Защита персональных данных клиентов"
      ]
    },
    {
      "cell_type": "markdown",
      "metadata": {
        "id": "vt-4KJchLZ3o"
      },
      "source": [
        "Нам нужно защитить данные клиентов страховой компании «Хоть потоп». Разработаем такой метод преобразования данных, чтобы по ним было сложно восстановить персональную информацию. Обоснуем корректность его работы.\n",
        "\n",
        "Нужно защитить данные, чтобы при преобразовании качество моделей машинного обучения не ухудшилось. Подбирать наилучшую модель не требуется."
      ]
    },
    {
      "cell_type": "markdown",
      "metadata": {
        "id": "CNj3-PAuLZ3o"
      },
      "source": [
        "## Загрузка данных"
      ]
    },
    {
      "cell_type": "code",
      "execution_count": null,
      "metadata": {
        "id": "1B1qCc1-LZ3p"
      },
      "outputs": [],
      "source": [
        "# Импорт библиотек\n",
        "import pandas as pd\n",
        "import numpy as np\n",
        "import seaborn as sns\n",
        "from sklearn.model_selection import train_test_split\n",
        "from sklearn.linear_model import LinearRegression\n",
        "from sklearn.metrics import r2_score\n",
        "\n",
        "import warnings\n",
        "warnings.filterwarnings('ignore')"
      ]
    },
    {
      "cell_type": "code",
      "execution_count": null,
      "metadata": {
        "id": "iqrvsQGXLZ3s"
      },
      "outputs": [],
      "source": [
        "# Загрузка данных\n",
        "try:\n",
        "    data = pd.read_csv('/datasets/insurance.csv')\n",
        "except:\n",
        "    data = pd.read_csv('https://code.s3.yandex.net/datasets/insurance.csv')"
      ]
    },
    {
      "cell_type": "code",
      "execution_count": null,
      "metadata": {
        "id": "V1HnaMqkLZ3w",
        "outputId": "e5f5cfad-5f26-4117-8def-8e8251ca08ba"
      },
      "outputs": [
        {
          "name": "stdout",
          "output_type": "stream",
          "text": [
            "<class 'pandas.core.frame.DataFrame'>\n",
            "RangeIndex: 5000 entries, 0 to 4999\n",
            "Data columns (total 5 columns):\n",
            " #   Column             Non-Null Count  Dtype  \n",
            "---  ------             --------------  -----  \n",
            " 0   Пол                5000 non-null   int64  \n",
            " 1   Возраст            5000 non-null   float64\n",
            " 2   Зарплата           5000 non-null   float64\n",
            " 3   Члены семьи        5000 non-null   int64  \n",
            " 4   Страховые выплаты  5000 non-null   int64  \n",
            "dtypes: float64(2), int64(3)\n",
            "memory usage: 195.4 KB\n"
          ]
        }
      ],
      "source": [
        "data.info()"
      ]
    },
    {
      "cell_type": "markdown",
      "metadata": {
        "id": "AwwEQiozLZ3x"
      },
      "source": [
        "Аккуратный датасет без пропусков. Возраст и зарплату можно перевести в целочисленный формат для экономии ресурсов памяти."
      ]
    },
    {
      "cell_type": "code",
      "execution_count": null,
      "metadata": {
        "id": "PhFcV9y8LZ3y"
      },
      "outputs": [],
      "source": [
        "# Преобразование в целочисленный формат\n",
        "data['Зарплата'] = data['Зарплата'].astype('int')\n",
        "data['Возраст'] = data['Возраст'].astype('int')"
      ]
    },
    {
      "cell_type": "code",
      "execution_count": null,
      "metadata": {
        "id": "_KsmBB8yLZ3z",
        "outputId": "939fbf82-267b-4d79-fcf7-b0476a33d551"
      },
      "outputs": [
        {
          "data": {
            "text/html": [
              "<div>\n",
              "<style scoped>\n",
              "    .dataframe tbody tr th:only-of-type {\n",
              "        vertical-align: middle;\n",
              "    }\n",
              "\n",
              "    .dataframe tbody tr th {\n",
              "        vertical-align: top;\n",
              "    }\n",
              "\n",
              "    .dataframe thead th {\n",
              "        text-align: right;\n",
              "    }\n",
              "</style>\n",
              "<table border=\"1\" class=\"dataframe\">\n",
              "  <thead>\n",
              "    <tr style=\"text-align: right;\">\n",
              "      <th></th>\n",
              "      <th>Пол</th>\n",
              "      <th>Возраст</th>\n",
              "      <th>Зарплата</th>\n",
              "      <th>Члены семьи</th>\n",
              "      <th>Страховые выплаты</th>\n",
              "    </tr>\n",
              "  </thead>\n",
              "  <tbody>\n",
              "    <tr>\n",
              "      <th>0</th>\n",
              "      <td>1</td>\n",
              "      <td>41</td>\n",
              "      <td>49600</td>\n",
              "      <td>1</td>\n",
              "      <td>0</td>\n",
              "    </tr>\n",
              "    <tr>\n",
              "      <th>1</th>\n",
              "      <td>0</td>\n",
              "      <td>46</td>\n",
              "      <td>38000</td>\n",
              "      <td>1</td>\n",
              "      <td>1</td>\n",
              "    </tr>\n",
              "    <tr>\n",
              "      <th>2</th>\n",
              "      <td>0</td>\n",
              "      <td>29</td>\n",
              "      <td>21000</td>\n",
              "      <td>0</td>\n",
              "      <td>0</td>\n",
              "    </tr>\n",
              "    <tr>\n",
              "      <th>3</th>\n",
              "      <td>0</td>\n",
              "      <td>21</td>\n",
              "      <td>41700</td>\n",
              "      <td>2</td>\n",
              "      <td>0</td>\n",
              "    </tr>\n",
              "    <tr>\n",
              "      <th>4</th>\n",
              "      <td>1</td>\n",
              "      <td>28</td>\n",
              "      <td>26100</td>\n",
              "      <td>0</td>\n",
              "      <td>0</td>\n",
              "    </tr>\n",
              "  </tbody>\n",
              "</table>\n",
              "</div>"
            ],
            "text/plain": [
              "   Пол  Возраст  Зарплата  Члены семьи  Страховые выплаты\n",
              "0    1       41     49600            1                  0\n",
              "1    0       46     38000            1                  1\n",
              "2    0       29     21000            0                  0\n",
              "3    0       21     41700            2                  0\n",
              "4    1       28     26100            0                  0"
            ]
          },
          "execution_count": 5,
          "metadata": {},
          "output_type": "execute_result"
        }
      ],
      "source": [
        "data.head()"
      ]
    },
    {
      "cell_type": "code",
      "execution_count": null,
      "metadata": {
        "id": "fKjSBjwBLZ30",
        "outputId": "bbb10812-f09a-4c9d-e272-aa2a701a19a3"
      },
      "outputs": [
        {
          "data": {
            "text/plain": [
              "153"
            ]
          },
          "execution_count": 6,
          "metadata": {},
          "output_type": "execute_result"
        }
      ],
      "source": [
        "# Проверка на дубликаты\n",
        "data.duplicated().sum()"
      ]
    },
    {
      "cell_type": "markdown",
      "metadata": {
        "id": "WmvvSox3LZ31"
      },
      "source": [
        "Удалим дублирующиеся строки из исходного датасета."
      ]
    },
    {
      "cell_type": "code",
      "execution_count": null,
      "metadata": {
        "id": "e7hXwJ9NLZ32"
      },
      "outputs": [],
      "source": [
        "data.drop_duplicates(inplace = True)"
      ]
    },
    {
      "cell_type": "markdown",
      "metadata": {
        "id": "jycMRvC6LZ33"
      },
      "source": [
        "<b>Выводы</b>\n",
        "\n",
        "В исходных данных удалены дубликаты. Данные по зарплате и возрасту приведены к целочисленному типу, чтобы ускорить обращение к данным."
      ]
    },
    {
      "cell_type": "code",
      "execution_count": null,
      "metadata": {
        "id": "TU8dUr_6LZ36",
        "outputId": "40e4b097-511a-4b35-98d2-313c2aa61517"
      },
      "outputs": [
        {
          "data": {
            "text/plain": [
              "<AxesSubplot:xlabel='Страховые выплаты', ylabel='Density'>"
            ]
          },
          "execution_count": 50,
          "metadata": {},
          "output_type": "execute_result"
        },
        {
          "data": {
            "image/png": "[encoded data removed]",
            "text/plain": [
              "<Figure size 432x288 with 1 Axes>"
            ]
          },
          "metadata": {
            "needs_background": "light"
          },
          "output_type": "display_data"
        }
      ],
      "source": [
        "# Оценка плотности ядра данных по страховым выплатам\n",
        "sns.distplot(data['Страховые выплаты'])"
      ]
    },
    {
      "cell_type": "markdown",
      "metadata": {
        "id": "v-rJaizTLZ37"
      },
      "source": [
        "## Умножение матриц"
      ]
    },
    {
      "cell_type": "markdown",
      "metadata": {
        "id": "XdIfN9GOLZ38"
      },
      "source": [
        "В этом задании мы можем записывать формулы в *Jupyter Notebook.*\n",
        "\n",
        "Чтобы записать формулу внутри текста, окружим её символами доллара \\\\$; если снаружи —  двойными символами \\\\$\\\\$. Эти формулы записываются на языке вёрстки *LaTeX.* \n",
        "\n",
        "Для примера мы записали формулы линейной регрессии. Можем их скопировать и отредактировать, чтобы решить задачу.\n",
        "\n",
        "Работать в *LaTeX* необязательно."
      ]
    },
    {
      "cell_type": "markdown",
      "metadata": {
        "id": "IeZCUtasLZ39"
      },
      "source": [
        "Обозначения:\n",
        "\n",
        "- $X$ — матрица признаков (нулевой столбец состоит из единиц)\n",
        "\n",
        "- $y$ — вектор целевого признака\n",
        "\n",
        "- $P$ — матрица, на которую умножаются признаки\n",
        "\n",
        "- $w$ — вектор весов линейной регрессии (нулевой элемент равен сдвигу)"
      ]
    },
    {
      "cell_type": "markdown",
      "metadata": {
        "id": "z2tT9SgeLZ39"
      },
      "source": [
        "Предсказания:\n",
        "\n",
        "$$\n",
        "a = Xw\n",
        "$$\n",
        "\n",
        "Задача обучения:\n",
        "\n",
        "$$\n",
        "w = \\arg\\min_w MSE(Xw, y)\n",
        "$$\n",
        "\n",
        "Формула обучения:\n",
        "\n",
        "$$\n",
        "w = (X^T X)^{-1} X^T y\n",
        "$$"
      ]
    },
    {
      "cell_type": "markdown",
      "metadata": {
        "id": "wvKRqADKLZ3-"
      },
      "source": [
        "**Ответ:** Качество линейной регрессии при умножении признаков на обратимую матрицу не изменится."
      ]
    },
    {
      "cell_type": "markdown",
      "metadata": {
        "id": "s7FipM06LZ4D"
      },
      "source": [
        "**Обоснование:**\n",
        "\n",
        "        \n",
        "Раз для неквадратных $X$ и $X^T$ обратных матриц не существует, преобразуем формулу весов $w$ с фокусом на манипуляции с квадратной обратимой матрицей $P$:\n",
        "        \n",
        "\n",
        "$$w_P = ((XP)^T(XP))^{-1} (XP)^Ty = P^{-1}((XP)^{T}X)^{-1} (XP)^Ty = P^{-1}((XP)^{T}X)^{-1} P^TX^Ty = $$\n",
        "        \n",
        "$$ = P^{-1}(P^TX^TX)^{-1} P^TX^Ty = P^{-1}(X^TX)^{-1}(P^T)^{-1} P^TX^Ty $$\n",
        "        \n",
        "        \n",
        "\n",
        "Опустим в преобразовании следующий блок $(P^T)^{-1} P^T = E$ как сводящийся к единичной матрице и получим:\n",
        "\n",
        "$$w_P = P^{-1}(X^TX)^{-1} X^Ty$$\n",
        "\n",
        "То есть подставив формулу для $w = (X^TX)^{-1}X^Ty$, получим:\n",
        "\n",
        "$$w_P = P^{-1}w$$\n",
        "\n",
        "А предсказание $a_P$ для признаков, преобразованных умножением на обратимую квадратную матрицу, $XP$ примет следующий вид:\n",
        "$$a_P = XPw_P = XPP^{-1}w = Xw = a$$\n",
        "\n",
        "В конечном счете векторы предсказаний до умножения признаков на обратимую квадратную матрицу и после такого преобразования совпали."
      ]
    },
    {
      "cell_type": "markdown",
      "metadata": {
        "id": "6cnF3igTLZ4E"
      },
      "source": [
        "<b>Вывод:</b> значение предсказания **a** не меняется при умножении матрицы признаков на обратимую матрицу, то есть матрица преобразования P должна быть квадратной с определителем НЕ равным 0."
      ]
    },
    {
      "cell_type": "markdown",
      "metadata": {
        "id": "MoLlit2MLZ4G"
      },
      "source": [
        "## Алгоритм преобразования"
      ]
    },
    {
      "cell_type": "markdown",
      "metadata": {
        "id": "cFq2pmyJLZ4H"
      },
      "source": [
        "**Алгоритм**\n",
        "\n",
        "Для проверки корректности предлагаемого алгоритма защиты информации будем изучать метрики качества регрессии до и после преобразования. В качестве преобразования будем умножать матрицу признаков на обратимую матрицу P, сгенерированную случайным образом.\n",
        "\n",
        "1. Обучим модель для матрицы признаков Х до преобразования и узнаем исходные метрики качества \n",
        "2. Сгенерируем рандомную квадратную матрицу P и проверим ее на обратимость\n",
        "3. Сформируем матрицу преобразованных признаков B = XP путем умножения матрицы признаков X на обратимую матрицу P\n",
        "4. Получим предсказания по модели на преобразованных признаках P и измерим метрики качества"
      ]
    },
    {
      "cell_type": "markdown",
      "metadata": {
        "id": "XfxlVPf8LZ4H"
      },
      "source": [
        "**Обоснование**\n",
        "\n",
        "При перемножении матриц X и P важно соблюдать необходимую размерность. Обратная матрица P существует только для квадратных невырожденных матриц (определитель которых не равен нулю)."
      ]
    },
    {
      "cell_type": "markdown",
      "metadata": {
        "id": "X-PwkTXQLZ4I"
      },
      "source": [
        "<div class=\"alert alert-warning\">\n",
        "    <h2> Комментарий студента <a class=\"tocSkip\"> </h2>\n",
        "\n",
        "**Уточнения к алгоритму**\n",
        "\n",
        "3. Случайная матрица P должна быть квадратной с размерностью (m x m), где m - это ширина матрицы признаков X (m x n). \n",
        "\n",
        "**Обоснование**\n",
        "\n",
        "Умножение матрицы на матрицу возможно, если ширина первой матрицы (m x n) равна высоте второй матрицы (n x r). Тогда размер произведения этих матриц будет m x r (размерность n \"схлопывается\"). Результат умножения матриц зависит от порядка множителей. Если ширина первой матрицы не равна длине второй, то умножение невозможно. \n",
        "\n",
        "Поэтому для нашей задачи необходимо строгое умножение матрицы признаков X (m x n) на случайную обратимую матрицу P (m x m)."
      ]
    },
    {
      "cell_type": "markdown",
      "metadata": {
        "id": "rqCBAeCdLZ4L"
      },
      "source": [
        "## Проверка алгоритма"
      ]
    },
    {
      "cell_type": "code",
      "execution_count": null,
      "metadata": {
        "id": "8qSHyC0TLZ4L"
      },
      "outputs": [],
      "source": [
        "# Определим исходные и целевой признаки\n",
        "features = data.drop('Страховые выплаты', axis=1).values\n",
        "target = data['Страховые выплаты'].values"
      ]
    },
    {
      "cell_type": "code",
      "execution_count": null,
      "metadata": {
        "id": "iAqTgLLWLZ4M"
      },
      "outputs": [],
      "source": [
        "# Разделим данные на обучающую и тестовую выборки\n",
        "features_train, features_test, target_train, target_test = train_test_split(\n",
        "    features, target, test_size=0.25, random_state=12345)"
      ]
    },
    {
      "cell_type": "code",
      "execution_count": null,
      "metadata": {
        "id": "KxyYU7jtLZ4N",
        "outputId": "88161eec-c76f-4f88-ff30-d97b3ee9e448"
      },
      "outputs": [
        {
          "data": {
            "text/plain": [
              "LinearRegression()"
            ]
          },
          "execution_count": 10,
          "metadata": {},
          "output_type": "execute_result"
        }
      ],
      "source": [
        "# Запустим на исходном датасете модель линейной регрессии\n",
        "model = LinearRegression()\n",
        "model.fit(features_train, target_train)"
      ]
    },
    {
      "cell_type": "code",
      "execution_count": null,
      "metadata": {
        "id": "b2EyXzmcLZ4O",
        "outputId": "2e3b3ad2-ce87-4f80-e030-fd1055c26531"
      },
      "outputs": [
        {
          "name": "stdout",
          "output_type": "stream",
          "text": [
            "R2-метрика качества линейной регрессии на исходных признаках: 0.42307727615837565\n"
          ]
        }
      ],
      "source": [
        "# Проверим R2-метрику для работы модели линейной регрессии до преобразования\n",
        "r2_before = r2_score(target_test, model.predict(features_test))\n",
        "print(\"R2-метрика качества линейной регрессии на исходных признаках:\", r2_before)"
      ]
    },
    {
      "cell_type": "markdown",
      "metadata": {
        "id": "6wcD4aKWLZ4P"
      },
      "source": [
        "Сгенерируем случайным образом квадратную матрицу 4х4"
      ]
    },
    {
      "cell_type": "code",
      "execution_count": null,
      "metadata": {
        "id": "PCHIlxx9LZ4P",
        "outputId": "132b1139-32b8-4f11-a5e1-654ada888ee9"
      },
      "outputs": [
        {
          "data": {
            "text/plain": [
              "array([[-0.54915156, -0.6096332 , -0.85367095, -1.20624174],\n",
              "       [ 0.26453389, -0.48325437, -0.92328575,  0.27020407],\n",
              "       [-0.20951706, -0.08439969, -0.04280263, -0.7169035 ],\n",
              "       [-1.24249541,  0.95885608, -0.41925829, -0.37649239]])"
            ]
          },
          "execution_count": 12,
          "metadata": {},
          "output_type": "execute_result"
        }
      ],
      "source": [
        "matrix = np.random.normal(size = (4,4)) \n",
        "matrix"
      ]
    },
    {
      "cell_type": "markdown",
      "metadata": {
        "id": "v8IFIXljLZ4Q"
      },
      "source": [
        "Проверим обратимость матрицы, то есть попробуем найти матрицу, обратную ей."
      ]
    },
    {
      "cell_type": "code",
      "execution_count": null,
      "metadata": {
        "id": "UxRKJie7LZ4Q",
        "outputId": "f48d9f43-4a08-4c9e-8c8a-84cc76b19041"
      },
      "outputs": [
        {
          "data": {
            "text/plain": [
              "array([[-2.56561943,  2.16942268,  5.17761622, -0.08209221],\n",
              "       [-2.54484384,  1.80585844,  4.5750751 ,  0.7377568 ],\n",
              "       [ 0.88849479, -1.62607377, -1.88688676, -0.42071379],\n",
              "       [ 0.99636165, -0.74953564, -3.33401934, -0.03774437]])"
            ]
          },
          "execution_count": 13,
          "metadata": {},
          "output_type": "execute_result"
        }
      ],
      "source": [
        "matrix_inv = np.linalg.inv(matrix)\n",
        "matrix_inv"
      ]
    },
    {
      "cell_type": "code",
      "execution_count": null,
      "metadata": {
        "id": "r2PkajkNLZ4R"
      },
      "outputs": [],
      "source": [
        "# Умножим исходные признаки на рандомную матрицу\n",
        "features_x = features @ matrix"
      ]
    },
    {
      "cell_type": "code",
      "execution_count": null,
      "metadata": {
        "id": "02cUmr5TLZ4R"
      },
      "outputs": [],
      "source": [
        "# Разделим преобразованные данные на обучающую и тестовую выборки\n",
        "features_train, features_test, target_train, target_test = train_test_split(\n",
        "    features_x, target, test_size=0.25, random_state=12345)"
      ]
    },
    {
      "cell_type": "code",
      "execution_count": null,
      "metadata": {
        "id": "nU8lVdkfLZ4S",
        "outputId": "000326d7-b681-483a-bf24-e013117560e0"
      },
      "outputs": [
        {
          "data": {
            "text/plain": [
              "LinearRegression()"
            ]
          },
          "execution_count": 16,
          "metadata": {},
          "output_type": "execute_result"
        }
      ],
      "source": [
        "# Обучим модель линейной регрессии\n",
        "model.fit(features_x, target)"
      ]
    },
    {
      "cell_type": "code",
      "execution_count": null,
      "metadata": {
        "id": "v-C0yGNwLZ4V",
        "outputId": "a5899cb8-c51e-4553-fdf3-bebe3c014601"
      },
      "outputs": [
        {
          "name": "stdout",
          "output_type": "stream",
          "text": [
            "R2-метрика качества линейной регрессии на преобразованных признаках: 0.4241846348619305\n"
          ]
        }
      ],
      "source": [
        "# Проверим R2-метрику для работы модели линейной регрессии после преобразования\n",
        "r2_after = r2_score(target_test, model.predict(features_test))\n",
        "print(\"R2-метрика качества линейной регрессии на преобразованных признаках:\", r2_after)"
      ]
    },
    {
      "cell_type": "markdown",
      "metadata": {
        "id": "K8JO3RS4LZ4W"
      },
      "source": [
        "<b> Вывод</b>\n",
        "\n",
        "После преобразования качество линейной регрессии практически не изменилось: R2-метрика не меняет своего значения. \n",
        "Алгоритм преобразования (защиты) данных должен работать корректно."
      ]
    },
    {
      "cell_type": "code",
      "execution_count": null,
      "metadata": {
        "id": "CMF4tXVhLZ4Y",
        "outputId": "b589ffd9-f437-4f36-af79-6b27f52b45a6"
      },
      "outputs": [
        {
          "data": {
            "text/html": [
              "<div>\n",
              "<style scoped>\n",
              "    .dataframe tbody tr th:only-of-type {\n",
              "        vertical-align: middle;\n",
              "    }\n",
              "\n",
              "    .dataframe tbody tr th {\n",
              "        vertical-align: top;\n",
              "    }\n",
              "\n",
              "    .dataframe thead th {\n",
              "        text-align: right;\n",
              "    }\n",
              "</style>\n",
              "<table border=\"1\" class=\"dataframe\">\n",
              "  <thead>\n",
              "    <tr style=\"text-align: right;\">\n",
              "      <th></th>\n",
              "      <th>0</th>\n",
              "      <th>1</th>\n",
              "      <th>2</th>\n",
              "      <th>3</th>\n",
              "    </tr>\n",
              "  </thead>\n",
              "  <tbody>\n",
              "    <tr>\n",
              "      <th>0</th>\n",
              "      <td>1</td>\n",
              "      <td>40</td>\n",
              "      <td>49599</td>\n",
              "      <td>0</td>\n",
              "    </tr>\n",
              "    <tr>\n",
              "      <th>1</th>\n",
              "      <td>0</td>\n",
              "      <td>45</td>\n",
              "      <td>37999</td>\n",
              "      <td>0</td>\n",
              "    </tr>\n",
              "    <tr>\n",
              "      <th>2</th>\n",
              "      <td>0</td>\n",
              "      <td>29</td>\n",
              "      <td>21000</td>\n",
              "      <td>0</td>\n",
              "    </tr>\n",
              "    <tr>\n",
              "      <th>3</th>\n",
              "      <td>0</td>\n",
              "      <td>20</td>\n",
              "      <td>41699</td>\n",
              "      <td>1</td>\n",
              "    </tr>\n",
              "    <tr>\n",
              "      <th>4</th>\n",
              "      <td>1</td>\n",
              "      <td>27</td>\n",
              "      <td>26099</td>\n",
              "      <td>0</td>\n",
              "    </tr>\n",
              "  </tbody>\n",
              "</table>\n",
              "</div>"
            ],
            "text/plain": [
              "   0   1      2  3\n",
              "0  1  40  49599  0\n",
              "1  0  45  37999  0\n",
              "2  0  29  21000  0\n",
              "3  0  20  41699  1\n",
              "4  1  27  26099  0"
            ]
          },
          "execution_count": 65,
          "metadata": {},
          "output_type": "execute_result"
        }
      ],
      "source": [
        "# Попытка восстановить исходные признаки\n",
        "original = features_x @ matrix_inv\n",
        "restore = pd.DataFrame(original.astype('int'))\n",
        "restore.head()"
      ]
    },
    {
      "cell_type": "markdown",
      "metadata": {
        "id": "CJ1g2eLeLZ4Z"
      },
      "source": [
        "Личные данные достаточно хорошо защищены от дешифровки."
      ]
    },
    {
      "cell_type": "markdown",
      "metadata": {
        "id": "eJWX12D2LZ4Z"
      },
      "source": [
        "## Итоговый вывод"
      ]
    },
    {
      "cell_type": "markdown",
      "metadata": {
        "id": "liIPcbFJLZ4a"
      },
      "source": [
        "В ходе проекта мы:\n",
        "\n",
        "- Загрузили и изучили исходные данные\n",
        "- При преобразовании формул пришли к выводу, что качество линейной регресии не меняется при умножении исходной матрицы данных на случайно сгенерированную обратимую матрицу\n",
        "- Предложили алгоритм преобразования данных и исследовали его на изменение R2-метрики качества работы модели линейной регрессии до и после преобразования.\n",
        "\n",
        "По итогам проекта приходим к выводу, что использование матричных операций хорошо показывает себя для задач безопасной защиты данных. "
      ]
    }
  ],
  "metadata": {
    "ExecuteTimeLog": [
      {
        "duration": 1058,
        "start_time": "2022-06-13T06:56:43.548Z"
      },
      {
        "duration": 79,
        "start_time": "2022-06-13T06:57:29.354Z"
      },
      {
        "duration": 4,
        "start_time": "2022-06-13T07:04:02.038Z"
      },
      {
        "duration": 32,
        "start_time": "2022-06-13T07:04:28.389Z"
      },
      {
        "duration": 15,
        "start_time": "2022-06-13T07:12:27.031Z"
      },
      {
        "duration": 5,
        "start_time": "2022-06-13T07:18:04.049Z"
      },
      {
        "duration": 7,
        "start_time": "2022-06-13T07:18:06.537Z"
      },
      {
        "duration": 38,
        "start_time": "2022-06-13T08:40:12.548Z"
      },
      {
        "duration": 4,
        "start_time": "2022-06-13T09:43:19.034Z"
      },
      {
        "duration": 4,
        "start_time": "2022-06-13T09:44:23.169Z"
      },
      {
        "duration": 90,
        "start_time": "2022-06-13T09:45:44.419Z"
      },
      {
        "duration": 5,
        "start_time": "2022-06-13T09:46:27.957Z"
      },
      {
        "duration": 7,
        "start_time": "2022-06-13T09:47:18.867Z"
      },
      {
        "duration": 8,
        "start_time": "2022-06-13T09:47:37.780Z"
      },
      {
        "duration": 6,
        "start_time": "2022-06-13T09:47:48.176Z"
      },
      {
        "duration": 77,
        "start_time": "2022-06-14T12:44:03.323Z"
      },
      {
        "duration": 1074,
        "start_time": "2022-06-14T12:45:30.407Z"
      },
      {
        "duration": 105,
        "start_time": "2022-06-14T12:45:31.485Z"
      },
      {
        "duration": 5,
        "start_time": "2022-06-14T12:45:31.593Z"
      },
      {
        "duration": 38,
        "start_time": "2022-06-14T12:45:31.600Z"
      },
      {
        "duration": 20,
        "start_time": "2022-06-14T12:45:31.641Z"
      },
      {
        "duration": 19,
        "start_time": "2022-06-14T12:45:31.663Z"
      },
      {
        "duration": 11,
        "start_time": "2022-06-14T12:45:31.684Z"
      },
      {
        "duration": 11,
        "start_time": "2022-06-14T12:45:31.697Z"
      },
      {
        "duration": 213,
        "start_time": "2022-06-14T12:45:31.723Z"
      },
      {
        "duration": 96,
        "start_time": "2022-06-14T12:45:31.938Z"
      },
      {
        "duration": 8,
        "start_time": "2022-06-14T12:52:14.772Z"
      },
      {
        "duration": 5,
        "start_time": "2022-06-14T12:58:20.284Z"
      },
      {
        "duration": 7,
        "start_time": "2022-06-14T12:58:40.490Z"
      },
      {
        "duration": 6,
        "start_time": "2022-06-14T13:03:25.742Z"
      },
      {
        "duration": 6,
        "start_time": "2022-06-14T13:06:05.754Z"
      },
      {
        "duration": 6,
        "start_time": "2022-06-14T13:06:53.478Z"
      },
      {
        "duration": 7,
        "start_time": "2022-06-14T13:08:55.841Z"
      },
      {
        "duration": 4,
        "start_time": "2022-06-14T13:09:16.283Z"
      },
      {
        "duration": 4,
        "start_time": "2022-06-14T13:09:37.844Z"
      },
      {
        "duration": 5,
        "start_time": "2022-06-14T13:10:00.879Z"
      },
      {
        "duration": 7,
        "start_time": "2022-06-14T13:10:23.489Z"
      },
      {
        "duration": 8,
        "start_time": "2022-06-14T13:10:53.420Z"
      },
      {
        "duration": 6,
        "start_time": "2022-06-14T13:11:46.088Z"
      },
      {
        "duration": 7,
        "start_time": "2022-06-14T13:12:10.118Z"
      },
      {
        "duration": 5,
        "start_time": "2022-06-14T13:12:18.672Z"
      },
      {
        "duration": 6,
        "start_time": "2022-06-14T13:12:52.998Z"
      },
      {
        "duration": 6,
        "start_time": "2022-06-14T13:13:22.672Z"
      },
      {
        "duration": 1086,
        "start_time": "2022-06-14T13:39:05.446Z"
      },
      {
        "duration": 45,
        "start_time": "2022-06-14T13:39:06.536Z"
      },
      {
        "duration": 5,
        "start_time": "2022-06-14T13:39:06.582Z"
      },
      {
        "duration": 22,
        "start_time": "2022-06-14T13:39:06.590Z"
      },
      {
        "duration": 4,
        "start_time": "2022-06-14T13:39:06.615Z"
      },
      {
        "duration": 34,
        "start_time": "2022-06-14T13:39:06.621Z"
      },
      {
        "duration": 10,
        "start_time": "2022-06-14T13:39:06.658Z"
      },
      {
        "duration": 5,
        "start_time": "2022-06-14T13:39:06.670Z"
      },
      {
        "duration": 11,
        "start_time": "2022-06-14T13:39:06.677Z"
      },
      {
        "duration": 12,
        "start_time": "2022-06-14T13:39:06.689Z"
      },
      {
        "duration": 33,
        "start_time": "2022-06-14T13:39:06.702Z"
      },
      {
        "duration": 85,
        "start_time": "2022-06-14T13:39:06.742Z"
      },
      {
        "duration": 23,
        "start_time": "2022-06-14T13:39:06.829Z"
      },
      {
        "duration": 6,
        "start_time": "2022-06-14T14:18:08.149Z"
      },
      {
        "duration": 5,
        "start_time": "2022-06-14T14:18:58.469Z"
      },
      {
        "duration": 1043,
        "start_time": "2022-06-14T14:20:53.567Z"
      },
      {
        "duration": 57,
        "start_time": "2022-06-14T14:20:54.613Z"
      },
      {
        "duration": 5,
        "start_time": "2022-06-14T14:20:54.671Z"
      },
      {
        "duration": 17,
        "start_time": "2022-06-14T14:20:54.678Z"
      },
      {
        "duration": 4,
        "start_time": "2022-06-14T14:20:54.697Z"
      },
      {
        "duration": 7,
        "start_time": "2022-06-14T14:20:54.703Z"
      },
      {
        "duration": 9,
        "start_time": "2022-06-14T14:20:54.711Z"
      },
      {
        "duration": 22,
        "start_time": "2022-06-14T14:20:54.721Z"
      },
      {
        "duration": 11,
        "start_time": "2022-06-14T14:20:54.745Z"
      },
      {
        "duration": 7,
        "start_time": "2022-06-14T14:20:54.757Z"
      },
      {
        "duration": 63,
        "start_time": "2022-06-14T14:20:54.766Z"
      },
      {
        "duration": 35,
        "start_time": "2022-06-14T14:20:54.830Z"
      },
      {
        "duration": 18,
        "start_time": "2022-06-14T14:20:54.931Z"
      },
      {
        "duration": 1094,
        "start_time": "2022-06-15T08:16:21.950Z"
      },
      {
        "duration": 86,
        "start_time": "2022-06-15T08:16:23.047Z"
      },
      {
        "duration": 4,
        "start_time": "2022-06-15T08:16:23.135Z"
      },
      {
        "duration": 22,
        "start_time": "2022-06-15T08:16:23.141Z"
      },
      {
        "duration": 5,
        "start_time": "2022-06-15T08:16:23.165Z"
      },
      {
        "duration": 11,
        "start_time": "2022-06-15T08:16:23.172Z"
      },
      {
        "duration": 17,
        "start_time": "2022-06-15T08:16:23.185Z"
      },
      {
        "duration": 12,
        "start_time": "2022-06-15T08:16:23.204Z"
      },
      {
        "duration": 14,
        "start_time": "2022-06-15T08:16:23.217Z"
      },
      {
        "duration": 8,
        "start_time": "2022-06-15T08:16:23.233Z"
      },
      {
        "duration": 9,
        "start_time": "2022-06-15T08:16:23.266Z"
      },
      {
        "duration": 88,
        "start_time": "2022-06-15T08:16:23.278Z"
      },
      {
        "duration": 14,
        "start_time": "2022-06-15T08:16:23.368Z"
      },
      {
        "duration": 45,
        "start_time": "2022-06-16T02:45:14.326Z"
      },
      {
        "duration": 968,
        "start_time": "2022-06-16T02:45:26.800Z"
      },
      {
        "duration": 69,
        "start_time": "2022-06-16T02:45:27.769Z"
      },
      {
        "duration": 11,
        "start_time": "2022-06-16T02:45:44.853Z"
      },
      {
        "duration": 55,
        "start_time": "2022-06-16T02:48:37.040Z"
      },
      {
        "duration": 11,
        "start_time": "2022-06-16T02:48:42.607Z"
      },
      {
        "duration": 11,
        "start_time": "2022-06-16T02:48:47.523Z"
      },
      {
        "duration": 13,
        "start_time": "2022-06-16T02:48:58.692Z"
      },
      {
        "duration": 6,
        "start_time": "2022-06-16T02:49:07.634Z"
      },
      {
        "duration": 6,
        "start_time": "2022-06-16T02:55:27.713Z"
      },
      {
        "duration": 7,
        "start_time": "2022-06-16T02:55:50.175Z"
      },
      {
        "duration": 1154,
        "start_time": "2022-06-19T07:54:51.605Z"
      },
      {
        "duration": 87,
        "start_time": "2022-06-19T07:54:52.764Z"
      },
      {
        "duration": 13,
        "start_time": "2022-06-19T07:54:52.853Z"
      },
      {
        "duration": 5,
        "start_time": "2022-06-19T07:54:52.868Z"
      },
      {
        "duration": 26,
        "start_time": "2022-06-19T07:54:52.874Z"
      },
      {
        "duration": 6,
        "start_time": "2022-06-19T07:54:52.902Z"
      },
      {
        "duration": 13,
        "start_time": "2022-06-19T07:54:52.910Z"
      },
      {
        "duration": 10,
        "start_time": "2022-06-19T07:54:52.926Z"
      },
      {
        "duration": 33,
        "start_time": "2022-06-19T07:54:52.939Z"
      },
      {
        "duration": 15,
        "start_time": "2022-06-19T07:54:52.975Z"
      },
      {
        "duration": 6,
        "start_time": "2022-06-19T07:54:52.992Z"
      },
      {
        "duration": 12,
        "start_time": "2022-06-19T07:54:53.000Z"
      },
      {
        "duration": 13,
        "start_time": "2022-06-19T07:54:53.016Z"
      },
      {
        "duration": 134,
        "start_time": "2022-06-19T07:54:53.030Z"
      },
      {
        "duration": 24,
        "start_time": "2022-06-19T07:54:53.166Z"
      },
      {
        "duration": 10,
        "start_time": "2022-06-19T07:54:53.192Z"
      },
      {
        "duration": 4,
        "start_time": "2022-06-19T07:59:37.665Z"
      },
      {
        "duration": 6,
        "start_time": "2022-06-19T08:00:07.156Z"
      },
      {
        "duration": 4,
        "start_time": "2022-06-19T08:00:09.751Z"
      },
      {
        "duration": 1061,
        "start_time": "2022-06-19T08:00:41.201Z"
      },
      {
        "duration": 28,
        "start_time": "2022-06-19T08:00:42.264Z"
      },
      {
        "duration": 13,
        "start_time": "2022-06-19T08:00:42.293Z"
      },
      {
        "duration": 8,
        "start_time": "2022-06-19T08:00:42.308Z"
      },
      {
        "duration": 19,
        "start_time": "2022-06-19T08:00:42.319Z"
      },
      {
        "duration": 7,
        "start_time": "2022-06-19T08:00:42.340Z"
      },
      {
        "duration": 6,
        "start_time": "2022-06-19T08:00:42.358Z"
      },
      {
        "duration": 10,
        "start_time": "2022-06-19T08:00:42.366Z"
      },
      {
        "duration": 8,
        "start_time": "2022-06-19T08:00:42.378Z"
      },
      {
        "duration": 9,
        "start_time": "2022-06-19T08:00:42.388Z"
      },
      {
        "duration": 5,
        "start_time": "2022-06-19T08:00:42.399Z"
      },
      {
        "duration": 8,
        "start_time": "2022-06-19T08:00:42.406Z"
      },
      {
        "duration": 7,
        "start_time": "2022-06-19T08:00:42.416Z"
      },
      {
        "duration": 4,
        "start_time": "2022-06-19T08:00:42.462Z"
      },
      {
        "duration": 92,
        "start_time": "2022-06-19T08:00:42.468Z"
      },
      {
        "duration": 10,
        "start_time": "2022-06-19T08:00:42.562Z"
      },
      {
        "duration": 6,
        "start_time": "2022-06-19T08:00:42.573Z"
      },
      {
        "duration": 134,
        "start_time": "2022-06-19T08:16:34.710Z"
      },
      {
        "duration": 10,
        "start_time": "2022-06-19T08:16:48.247Z"
      },
      {
        "duration": 31,
        "start_time": "2022-06-19T08:17:29.311Z"
      },
      {
        "duration": 34,
        "start_time": "2022-06-19T08:18:39.078Z"
      },
      {
        "duration": 24,
        "start_time": "2022-06-19T08:28:32.165Z"
      },
      {
        "duration": 8,
        "start_time": "2022-06-19T08:29:31.101Z"
      },
      {
        "duration": 12,
        "start_time": "2022-06-19T08:32:38.048Z"
      },
      {
        "duration": 11,
        "start_time": "2022-06-19T08:34:16.148Z"
      },
      {
        "duration": 9,
        "start_time": "2022-06-19T08:34:25.444Z"
      },
      {
        "duration": 11,
        "start_time": "2022-06-19T08:34:34.432Z"
      },
      {
        "duration": 9,
        "start_time": "2022-06-19T08:34:47.666Z"
      },
      {
        "duration": 24,
        "start_time": "2022-06-19T08:35:14.359Z"
      },
      {
        "duration": 20,
        "start_time": "2022-06-19T08:35:31.773Z"
      },
      {
        "duration": 11,
        "start_time": "2022-06-19T08:38:47.749Z"
      },
      {
        "duration": 22,
        "start_time": "2022-06-19T08:39:03.978Z"
      },
      {
        "duration": 14,
        "start_time": "2022-06-19T08:39:08.652Z"
      },
      {
        "duration": 19,
        "start_time": "2022-06-19T08:39:14.851Z"
      },
      {
        "duration": 20,
        "start_time": "2022-06-19T08:40:06.814Z"
      },
      {
        "duration": 23,
        "start_time": "2022-06-19T08:40:18.260Z"
      },
      {
        "duration": 24,
        "start_time": "2022-06-19T08:40:39.243Z"
      },
      {
        "duration": 5,
        "start_time": "2022-06-19T08:41:25.679Z"
      },
      {
        "duration": 15,
        "start_time": "2022-06-19T08:41:43.420Z"
      },
      {
        "duration": 17,
        "start_time": "2022-06-19T08:42:36.413Z"
      },
      {
        "duration": 10,
        "start_time": "2022-06-19T08:42:49.849Z"
      },
      {
        "duration": 11,
        "start_time": "2022-06-19T08:43:11.895Z"
      },
      {
        "duration": 29,
        "start_time": "2022-06-19T08:43:18.751Z"
      },
      {
        "duration": 23,
        "start_time": "2022-06-19T08:43:29.156Z"
      },
      {
        "duration": 9,
        "start_time": "2022-06-19T08:45:33.552Z"
      },
      {
        "duration": 437,
        "start_time": "2022-06-19T08:46:15.010Z"
      },
      {
        "duration": 216,
        "start_time": "2022-06-19T08:46:25.557Z"
      },
      {
        "duration": 186,
        "start_time": "2022-06-19T08:47:14.249Z"
      },
      {
        "duration": 39,
        "start_time": "2022-06-19T08:50:43.253Z"
      },
      {
        "duration": 300,
        "start_time": "2022-06-19T08:51:18.638Z"
      },
      {
        "duration": 19,
        "start_time": "2022-06-19T08:52:58.676Z"
      },
      {
        "duration": 14,
        "start_time": "2022-06-19T08:53:11.992Z"
      },
      {
        "duration": 13,
        "start_time": "2022-06-19T08:54:50.599Z"
      },
      {
        "duration": 44,
        "start_time": "2022-06-19T08:55:17.177Z"
      },
      {
        "duration": 10,
        "start_time": "2022-06-19T08:55:27.144Z"
      },
      {
        "duration": 12,
        "start_time": "2022-06-19T08:55:52.650Z"
      },
      {
        "duration": 14,
        "start_time": "2022-06-19T08:56:56.898Z"
      },
      {
        "duration": 4,
        "start_time": "2022-06-19T08:57:23.679Z"
      },
      {
        "duration": 19,
        "start_time": "2022-06-19T08:57:44.865Z"
      },
      {
        "duration": 9,
        "start_time": "2022-06-19T08:58:29.249Z"
      },
      {
        "duration": 11,
        "start_time": "2022-06-19T08:59:17.798Z"
      },
      {
        "duration": 9,
        "start_time": "2022-06-19T08:59:30.745Z"
      },
      {
        "duration": 8,
        "start_time": "2022-06-19T09:00:28.891Z"
      },
      {
        "duration": 32,
        "start_time": "2022-06-19T09:02:30.710Z"
      },
      {
        "duration": 7,
        "start_time": "2022-06-19T09:02:52.135Z"
      }
    ],
    "kernelspec": {
      "display_name": "Python 3 (ipykernel)",
      "language": "python",
      "name": "python3"
    },
    "language_info": {
      "codemirror_mode": {
        "name": "ipython",
        "version": 3
      },
      "file_extension": ".py",
      "mimetype": "text/x-python",
      "name": "python",
      "nbconvert_exporter": "python",
      "pygments_lexer": "ipython3",
      "version": "3.9.5"
    },
    "toc": {
      "base_numbering": 1,
      "nav_menu": {},
      "number_sections": true,
      "sideBar": true,
      "skip_h1_title": true,
      "title_cell": "Содержание",
      "title_sidebar": "Contents",
      "toc_cell": true,
      "toc_position": {},
      "toc_section_display": true,
      "toc_window_display": false
    },
    "colab": {
      "provenance": []
    }
  },
  "nbformat": 4,
  "nbformat_minor": 0
}